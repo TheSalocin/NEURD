{
 "cells": [
  {
   "cell_type": "code",
   "execution_count": 1,
   "metadata": {},
   "outputs": [],
   "source": [
    "%load_ext autoreload\n",
    "%autoreload 2"
   ]
  },
  {
   "cell_type": "code",
   "execution_count": 2,
   "metadata": {},
   "outputs": [
    {
     "data": {
      "text/plain": [
       "'\\nPurpose: To apply the documentation pipeline to package that will\\n\\n1) Clean module files (fix docstring, relative paths, ect)\\n2) Create the requirements file\\n3) Create the setup.py file\\n4) Verify pip install works\\n5) setup the sphinx documentation folders and push to github pages of repo\\n\\n\\n'"
      ]
     },
     "execution_count": 2,
     "metadata": {},
     "output_type": "execute_result"
    }
   ],
   "source": [
    "\"\"\"\n",
    "Purpose: To apply the documentation pipeline to package that will\n",
    "\n",
    "1) Clean module files (fix docstring, relative paths, ect)\n",
    "2) Create the requirements file\n",
    "3) Create the setup.py file\n",
    "4) Verify pip install works\n",
    "5) setup the sphinx documentation folders and push to github pages of repo\n",
    "\n",
    "\n",
    "\"\"\""
   ]
  },
  {
   "cell_type": "code",
   "execution_count": null,
   "metadata": {},
   "outputs": [],
   "source": []
  },
  {
   "cell_type": "code",
   "execution_count": 46,
   "metadata": {},
   "outputs": [
    {
     "data": {
      "text/plain": [
       "'/neurd_packages/NEURD/neurd'"
      ]
     },
     "execution_count": 46,
     "metadata": {},
     "output_type": "execute_result"
    }
   ],
   "source": [
    "from pathlib import Path\n",
    "directory_name = \"neurd\"\n",
    "directory = str(Path(f\"./{directory_name}/\").absolute())\n",
    "directory"
   ]
  },
  {
   "cell_type": "markdown",
   "metadata": {},
   "source": [
    "# Transfering files"
   ]
  },
  {
   "cell_type": "code",
   "execution_count": 44,
   "metadata": {},
   "outputs": [
    {
     "name": "stdout",
     "output_type": "stream",
     "text": [
      "curr_path = /neurd_packages/meshAfterParty/meshAfterParty/ais_utils.py, new_path = /neurd_packages/NEURD/neurd/ais_utils.py\n",
      "curr_path = /neurd_packages/meshAfterParty/meshAfterParty/apical_utils.py, new_path = /neurd_packages/NEURD/neurd/apical_utils.py\n",
      "curr_path = /neurd_packages/meshAfterParty/meshAfterParty/axon_utils.py, new_path = /neurd_packages/NEURD/neurd/axon_utils.py\n",
      "curr_path = /neurd_packages/meshAfterParty/meshAfterParty/border_df_for_e_i_improved.pbz2, new_path = /neurd_packages/NEURD/neurd/border_df_for_e_i_improved.pbz2\n",
      "curr_path = /neurd_packages/meshAfterParty/meshAfterParty/branch_attr_utils.py, new_path = /neurd_packages/NEURD/neurd/branch_attr_utils.py\n",
      "curr_path = /neurd_packages/meshAfterParty/meshAfterParty/branch_utils.py, new_path = /neurd_packages/NEURD/neurd/branch_utils.py\n",
      "curr_path = /neurd_packages/meshAfterParty/meshAfterParty/cell_type_conv_utils.py, new_path = /neurd_packages/NEURD/neurd/cell_type_conv_utils.py\n",
      "curr_path = /neurd_packages/meshAfterParty/meshAfterParty/cell_type_utils.py, new_path = /neurd_packages/NEURD/neurd/cell_type_utils.py\n",
      "curr_path = /neurd_packages/meshAfterParty/meshAfterParty/classification_utils.py, new_path = /neurd_packages/NEURD/neurd/classification_utils.py\n",
      "curr_path = /neurd_packages/meshAfterParty/meshAfterParty/concept_network_utils.py, new_path = /neurd_packages/NEURD/neurd/concept_network_utils.py\n",
      "curr_path = /neurd_packages/meshAfterParty/meshAfterParty/connectome_analysis_utils.py, new_path = /neurd_packages/NEURD/neurd/connectome_analysis_utils.py\n",
      "curr_path = /neurd_packages/meshAfterParty/meshAfterParty/connectome_filtering.py, new_path = /neurd_packages/NEURD/neurd/connectome_filtering.py\n",
      "curr_path = /neurd_packages/meshAfterParty/meshAfterParty/connectome_query_utils.py, new_path = /neurd_packages/NEURD/neurd/connectome_query_utils.py\n",
      "curr_path = /neurd_packages/meshAfterParty/meshAfterParty/connectome_utils.py, new_path = /neurd_packages/NEURD/neurd/connectome_utils.py\n",
      "curr_path = /neurd_packages/meshAfterParty/meshAfterParty/datajoint_motifs.py, new_path = /neurd_packages/NEURD/neurd/datajoint_motifs.py\n",
      "curr_path = /neurd_packages/meshAfterParty/meshAfterParty/error_detection.py, new_path = /neurd_packages/NEURD/neurd/error_detection.py\n",
      "curr_path = /neurd_packages/meshAfterParty/meshAfterParty/functional_tuning_utils.py, new_path = /neurd_packages/NEURD/neurd/functional_tuning_utils.py\n",
      "curr_path = /neurd_packages/meshAfterParty/meshAfterParty/gnn_embedding_utils.py, new_path = /neurd_packages/NEURD/neurd/gnn_embedding_utils.py\n",
      "curr_path = /neurd_packages/meshAfterParty/meshAfterParty/graph_filters.py, new_path = /neurd_packages/NEURD/neurd/graph_filters.py\n",
      "curr_path = /neurd_packages/meshAfterParty/meshAfterParty/limb_utils.py, new_path = /neurd_packages/NEURD/neurd/limb_utils.py\n",
      "curr_path = /neurd_packages/meshAfterParty/meshAfterParty/man_proof_stats_df_for_e_i.pbz2, new_path = /neurd_packages/NEURD/neurd/man_proof_stats_df_for_e_i.pbz2\n",
      "curr_path = /neurd_packages/meshAfterParty/meshAfterParty/microns_graph_query_utils.py, new_path = /neurd_packages/NEURD/neurd/microns_graph_query_utils.py\n",
      "curr_path = /neurd_packages/meshAfterParty/meshAfterParty/microns_volume_utils.py, new_path = /neurd_packages/NEURD/neurd/microns_volume_utils.py\n",
      "curr_path = /neurd_packages/meshAfterParty/meshAfterParty/morphology_analysis_utils.py, new_path = /neurd_packages/NEURD/neurd/morphology_analysis_utils.py\n",
      "curr_path = /neurd_packages/meshAfterParty/meshAfterParty/morphology_ori_utils.py, new_path = /neurd_packages/NEURD/neurd/morphology_ori_utils.py\n",
      "curr_path = /neurd_packages/meshAfterParty/meshAfterParty/motif_utils.py, new_path = /neurd_packages/NEURD/neurd/motif_utils.py\n",
      "curr_path = /neurd_packages/meshAfterParty/meshAfterParty/nature_paper_plotting.py, new_path = /neurd_packages/NEURD/neurd/nature_paper_plotting.py\n",
      "curr_path = /neurd_packages/meshAfterParty/meshAfterParty/neuron.py, new_path = /neurd_packages/NEURD/neurd/neuron.py\n",
      "curr_path = /neurd_packages/meshAfterParty/meshAfterParty/neuron_geometry_utils.py, new_path = /neurd_packages/NEURD/neurd/neuron_geometry_utils.py\n",
      "curr_path = /neurd_packages/meshAfterParty/meshAfterParty/neuron_searching.py, new_path = /neurd_packages/NEURD/neurd/neuron_searching.py\n",
      "curr_path = /neurd_packages/meshAfterParty/meshAfterParty/neuron_simplification.py, new_path = /neurd_packages/NEURD/neurd/neuron_simplification.py\n",
      "curr_path = /neurd_packages/meshAfterParty/meshAfterParty/neuron_statistics.py, new_path = /neurd_packages/NEURD/neurd/neuron_statistics.py\n",
      "curr_path = /neurd_packages/meshAfterParty/meshAfterParty/neuron_utils.py, new_path = /neurd_packages/NEURD/neurd/neuron_utils.py\n",
      "curr_path = /neurd_packages/meshAfterParty/meshAfterParty/neuron_visualizations.py, new_path = /neurd_packages/NEURD/neurd/neuron_visualizations.py\n",
      "curr_path = /neurd_packages/meshAfterParty/meshAfterParty/preprocess_neuron.py, new_path = /neurd_packages/NEURD/neurd/preprocess_neuron.py\n",
      "curr_path = /neurd_packages/meshAfterParty/meshAfterParty/preprocessing_vp2.py, new_path = /neurd_packages/NEURD/neurd/preprocessing_vp2.py\n",
      "curr_path = /neurd_packages/meshAfterParty/meshAfterParty/proofreading_utils.py, new_path = /neurd_packages/NEURD/neurd/proofreading_utils.py\n",
      "curr_path = /neurd_packages/meshAfterParty/meshAfterParty/proximity_analysis_utils.py, new_path = /neurd_packages/NEURD/neurd/proximity_analysis_utils.py\n",
      "curr_path = /neurd_packages/meshAfterParty/meshAfterParty/proximity_utils.py, new_path = /neurd_packages/NEURD/neurd/proximity_utils.py\n",
      "curr_path = /neurd_packages/meshAfterParty/meshAfterParty/soma_extraction_utils.py, new_path = /neurd_packages/NEURD/neurd/soma_extraction_utils.py\n",
      "curr_path = /neurd_packages/meshAfterParty/meshAfterParty/spine_utils.py, new_path = /neurd_packages/NEURD/neurd/spine_utils.py\n",
      "curr_path = /neurd_packages/meshAfterParty/meshAfterParty/synapse_utils.py, new_path = /neurd_packages/NEURD/neurd/synapse_utils.py\n",
      "curr_path = /neurd_packages/meshAfterParty/meshAfterParty/whole_neuron_classifier_datajoint_adapted.py, new_path = /neurd_packages/NEURD/neurd/whole_neuron_classifier_datajoint_adapted.py\n",
      "curr_path = /neurd_packages/meshAfterParty/meshAfterParty/width_utils.py, new_path = /neurd_packages/NEURD/neurd/width_utils.py\n"
     ]
    }
   ],
   "source": [
    "from python_tools import pathlib_utils as plu\n",
    "from python_tools import system_utils as su\n",
    "import numpy as np\n",
    "\n",
    "from pathlib import Path\n",
    "output_path = Path(\"./neurd/\")\n",
    "source_file = '/neurd_packages/meshAfterParty/meshAfterParty/meshAfterParty_files_migration.txt'\n",
    "\n",
    "from os import sys\n",
    "if parent_path not in sys.path:\n",
    "    sys.path.append(parent_path)\n",
    "parent_path = str(plu.parents(source_file)[0].absolute())\n",
    "\n",
    "import meshAfterParty_files_migration as fm\n",
    "\n",
    "attr = [\n",
    "    k for k in dir(fm) if\n",
    "    \"__\" not in k \n",
    "    and \"external\" not in k \n",
    "    and \"internal\" not in k\n",
    "    and \"random\" not in k\n",
    "]\n",
    "import itertools\n",
    "all_files = list(\n",
    "    np.sort(list(itertools.chain.from_iterable([getattr(fm,a) for a in attr])))\n",
    ")\n",
    "\n",
    "verbose = True\n",
    "for f in all_files:\n",
    "    curr_path = f\"{parent_path}/{f}\"\n",
    "    new_path = f\"{str((output_path / Path(f)).absolute())}\"\n",
    "    if verbose:\n",
    "        print(f\"curr_path = {curr_path}, new_path = {new_path}\")\n",
    "    su.copy_file(curr_path,new_path)"
   ]
  },
  {
   "cell_type": "markdown",
   "metadata": {},
   "source": [
    "# Finding the modules from meshAfterParty that used to be imported but now are removed"
   ]
  },
  {
   "cell_type": "code",
   "execution_count": 55,
   "metadata": {},
   "outputs": [
    {
     "data": {
      "text/plain": [
       "array(['allen_proofreading_utils', 'allen_utils', 'analysis_snippets',\n",
       "       'apl_proofreading_utils', 'cell_type_catalog', 'clustering_utils',\n",
       "       'connectome_filtering', 'dataInterface', 'dataInterfaceH01',\n",
       "       'dataInterfaceMinnie65', 'database_accessing_functions',\n",
       "       'datajoint_utils', 'dj_table_definitions', 'djp_documentation',\n",
       "       'ease_utils', 'gmm', 'graph_proofreading', 'h01_dj_utils',\n",
       "       'h01_filtering_utils', 'human_dj_utils', 'human_utils',\n",
       "       'interesting_neurons', 'm65_neuron_catalog',\n",
       "       'machine_learning_utils', 'meshAfterParty_files_migration',\n",
       "       'microns_graph_filtering', 'morphology_analysis_utils',\n",
       "       'morphology_queries_utils', 'movies_of_neurons',\n",
       "       'neuron_catalog_human', 'neuron_catalog_v6', 'neuron_catalog_v7',\n",
       "       'proofread_verification', 'reconstruction_utils', 'spine_catalog',\n",
       "       'spine_validation_utils', 'validation_cells', 'validation_utils'],\n",
       "      dtype='<U41')"
      ]
     },
     "execution_count": 55,
     "metadata": {},
     "output_type": "execute_result"
    }
   ],
   "source": [
    "from python_tools import pathlib_utils as plu\n",
    "import numpy as np\n",
    "\n",
    "remove_package = Path(\"/neurd_packages/meshAfterParty/meshAfterParty/\")\n",
    "remove_modules = [k.stem for k in plu.files_of_ext_type(\n",
    "    remove_package,\n",
    "    \".py\"\n",
    ")]\n",
    "\n",
    "keep_modules = [k.stem for k in plu.files_of_ext_type(\n",
    "    Path(directory),\n",
    "    \".py\"\n",
    ")]\n",
    "\n",
    "np.setdiff1d(\n",
    "    remove_modules,\n",
    "    keep_modules\n",
    ")"
   ]
  },
  {
   "cell_type": "code",
   "execution_count": null,
   "metadata": {},
   "outputs": [],
   "source": []
  },
  {
   "cell_type": "code",
   "execution_count": null,
   "metadata": {},
   "outputs": [],
   "source": []
  },
  {
   "cell_type": "markdown",
   "metadata": {},
   "source": [
    "# Cleaning current package"
   ]
  },
  {
   "cell_type": "code",
   "execution_count": null,
   "metadata": {},
   "outputs": [],
   "source": [
    "from pathlib import Path\n",
    "directory = \"neurd\"\n",
    "directory = str(Path(f\"./{directory}/\").absolute())\n",
    "directory"
   ]
  },
  {
   "cell_type": "code",
   "execution_count": null,
   "metadata": {},
   "outputs": [],
   "source": [
    "from python_tools import package_utils as pku\n",
    "pku.clean_package_syntax(\n",
    "    directory = [\n",
    "        directory,\n",
    "    ],\n",
    "    create_init_if_not_exist = True,\n",
    "    overwrite = True,\n",
    "    verbose = True,\n",
    ")"
   ]
  },
  {
   "cell_type": "markdown",
   "metadata": {},
   "source": [
    "# Cleaning all other packages for this name"
   ]
  },
  {
   "cell_type": "code",
   "execution_count": null,
   "metadata": {},
   "outputs": [],
   "source": [
    "pku.user_packages"
   ]
  },
  {
   "cell_type": "code",
   "execution_count": null,
   "metadata": {},
   "outputs": [],
   "source": [
    "pku.prefix_module_imports_in_files(\n",
    "    #filepaths = [\"/neurd_packages/meshAfterParty/meshAfterParty/dataInterface.py\"],\n",
    "    modules_directory=directory,\n",
    "    filepaths_directory = pku.user_packages,\n",
    "    overwrite_file = True,\n",
    "    verbose = True,\n",
    "    debug_files = False,\n",
    ")"
   ]
  },
  {
   "cell_type": "markdown",
   "metadata": {},
   "source": [
    "# Requirmenets (from in the bash if fail to get error message)"
   ]
  },
  {
   "cell_type": "code",
   "execution_count": null,
   "metadata": {},
   "outputs": [],
   "source": [
    "from python_tools import requirement_utils as requ"
   ]
  },
  {
   "cell_type": "code",
   "execution_count": null,
   "metadata": {
    "scrolled": true
   },
   "outputs": [],
   "source": [
    "# Generate the requirements package\n",
    "from python_tools import requirement_utils as requ\n",
    "\n",
    "directory = \"python_tools\"\n",
    "\n",
    "req_dict = requ.requirements_dict_from_directories(\n",
    "    directories=(directory,),\n",
    "    verbose = True,\n",
    ")\n",
    "req_dict"
   ]
  },
  {
   "cell_type": "markdown",
   "metadata": {},
   "source": [
    "# Do the setup.py"
   ]
  },
  {
   "cell_type": "code",
   "execution_count": null,
   "metadata": {},
   "outputs": [],
   "source": [
    "from python_tools import setup_py_utils as setu\n",
    "setu.setup_py_str_generator(\n",
    "    directory,\n",
    "    output_path=\"./setup.py\"\n",
    ")"
   ]
  },
  {
   "cell_type": "markdown",
   "metadata": {},
   "source": [
    "# Try to pip install (and manually fix any versions that have conflicts, like with python version)"
   ]
  },
  {
   "cell_type": "code",
   "execution_count": null,
   "metadata": {},
   "outputs": [],
   "source": [
    "#!pip3 install -e ."
   ]
  },
  {
   "cell_type": "markdown",
   "metadata": {},
   "source": [
    "# Create the github documentation (instructions in documentation.txt)"
   ]
  },
  {
   "cell_type": "code",
   "execution_count": null,
   "metadata": {},
   "outputs": [],
   "source": []
  }
 ],
 "metadata": {
  "kernelspec": {
   "display_name": "Python 3",
   "language": "python",
   "name": "python3"
  },
  "language_info": {
   "codemirror_mode": {
    "name": "ipython",
    "version": 3
   },
   "file_extension": ".py",
   "mimetype": "text/x-python",
   "name": "python",
   "nbconvert_exporter": "python",
   "pygments_lexer": "ipython3",
   "version": "3.6.9"
  }
 },
 "nbformat": 4,
 "nbformat_minor": 4
}
