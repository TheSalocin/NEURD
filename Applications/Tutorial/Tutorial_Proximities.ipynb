{
 "cells": [
  {
   "cell_type": "code",
   "execution_count": 1,
   "id": "c9709931",
   "metadata": {},
   "outputs": [],
   "source": [
    "%load_ext autoreload\n",
    "%autoreload 2"
   ]
  },
  {
   "cell_type": "code",
   "execution_count": 2,
   "id": "ec3b4f13",
   "metadata": {},
   "outputs": [
    {
     "name": "stdout",
     "output_type": "stream",
     "text": [
      "Jupyter environment detected. Enabling Open3D WebVisualizer.\n",
      "[Open3D INFO] WebRTC GUI backend enabled.\n",
      "[Open3D INFO] WebRTCWindowSystem: HTTP handshake server disabled.\n"
     ]
    }
   ],
   "source": [
    "import neurd"
   ]
  },
  {
   "cell_type": "code",
   "execution_count": 3,
   "id": "eb19670b",
   "metadata": {},
   "outputs": [],
   "source": [
    "from neurd.vdi_microns import volume_data_interface as vdi\n",
    "vdi.set_parameters_for_directory_modules()"
   ]
  },
  {
   "cell_type": "code",
   "execution_count": 11,
   "id": "bec491af",
   "metadata": {},
   "outputs": [],
   "source": [
    "mesh_dir = \"../autoproof_neuron_pipeline/\"\n",
    "\n",
    "vdi.neuron_obj_auto_proof_directory = mesh_dir\n",
    "vdi.neuron_obj_directory = mesh_dir\n",
    "vdi.meshes_directory = mesh_dir"
   ]
  },
  {
   "cell_type": "markdown",
   "id": "8afba9e6",
   "metadata": {},
   "source": [
    "# Loading the annotated neurons"
   ]
  },
  {
   "cell_type": "code",
   "execution_count": 4,
   "id": "119d9bcc",
   "metadata": {},
   "outputs": [],
   "source": [
    "segment_id_post = 864691134917511946\n",
    "segment_id_pre = 864691135567721964"
   ]
  },
  {
   "cell_type": "code",
   "execution_count": 12,
   "id": "9047e2c7",
   "metadata": {},
   "outputs": [
    {
     "name": "stdout",
     "output_type": "stream",
     "text": [
      "Decompressing Neuron in minimal output mode...please wait\n",
      "Decompressing Neuron in minimal output mode...please wait\n"
     ]
    }
   ],
   "source": [
    "neuron_obj_post = vdi.load_neuron_obj_auto_proof(\n",
    "    segment_id_post\n",
    ")\n",
    "\n",
    "neuron_obj_pre = vdi.load_neuron_obj_auto_proof(\n",
    "    segment_id_pre\n",
    ")"
   ]
  },
  {
   "cell_type": "code",
   "execution_count": 14,
   "id": "05d0cc80",
   "metadata": {},
   "outputs": [
    {
     "name": "stdout",
     "output_type": "stream",
     "text": [
      "\n",
      " Working on visualization type: mesh\n"
     ]
    },
    {
     "data": {
      "application/vnd.jupyter.widget-view+json": {
       "model_id": "304f74f4114c44b1b39644ae53b13bc8",
       "version_major": 2,
       "version_minor": 0
      },
      "text/plain": [
       "Container(figure=Figure(box_center=[0.5, 0.5, 0.5], box_size=[1.0, 1.0, 1.0], camera=PerspectiveCamera(fov=45.…"
      ]
     },
     "metadata": {},
     "output_type": "display_data"
    },
    {
     "name": "stdout",
     "output_type": "stream",
     "text": [
      "apical:blue\n",
      "apical_shaft:aqua\n",
      "apical_tuft:purple\n",
      "basal:yellow\n",
      "axon:red\n",
      "oblique:green\n",
      "\n",
      "\n",
      "Unlabeled: transparent green\n"
     ]
    }
   ],
   "source": [
    "from neurd import neuron_visualizations as nviz\n",
    "\n",
    "nviz.plot_compartments(neuron_obj_pre)"
   ]
  },
  {
   "cell_type": "code",
   "execution_count": 15,
   "id": "693a43e2",
   "metadata": {},
   "outputs": [
    {
     "name": "stdout",
     "output_type": "stream",
     "text": [
      "\n",
      " Working on visualization type: mesh\n"
     ]
    },
    {
     "data": {
      "application/vnd.jupyter.widget-view+json": {
       "model_id": "a31cd08ce5f54d7f81c96ce0b1ff1112",
       "version_major": 2,
       "version_minor": 0
      },
      "text/plain": [
       "Container(figure=Figure(box_center=[0.5, 0.5, 0.5], box_size=[1.0, 1.0, 1.0], camera=PerspectiveCamera(fov=45.…"
      ]
     },
     "metadata": {},
     "output_type": "display_data"
    },
    {
     "name": "stdout",
     "output_type": "stream",
     "text": [
      "apical:blue\n",
      "apical_shaft:aqua\n",
      "apical_tuft:purple\n",
      "basal:yellow\n",
      "axon:red\n",
      "oblique:green\n",
      "\n",
      "\n",
      "Unlabeled: transparent green\n"
     ]
    }
   ],
   "source": [
    "nviz.plot_compartments(neuron_obj_post)"
   ]
  },
  {
   "cell_type": "markdown",
   "id": "d06406ff",
   "metadata": {},
   "source": [
    "# Calculating the proximities"
   ]
  },
  {
   "cell_type": "code",
   "execution_count": null,
   "id": "aa2ce409",
   "metadata": {},
   "outputs": [],
   "source": []
  },
  {
   "cell_type": "code",
   "execution_count": null,
   "id": "ea28cdfb",
   "metadata": {},
   "outputs": [],
   "source": []
  },
  {
   "cell_type": "code",
   "execution_count": null,
   "id": "59e43fc1",
   "metadata": {},
   "outputs": [],
   "source": []
  },
  {
   "cell_type": "code",
   "execution_count": null,
   "id": "46dcc487",
   "metadata": {},
   "outputs": [],
   "source": [
    "presyn_prox_data = pxu.presyn_proximity_data(\n",
    "    segment_id = segment_id,\n",
    "    split_index = split_index,\n",
    "    plot = False,\n",
    "    verbose = False\n",
    ")"
   ]
  },
  {
   "cell_type": "code",
   "execution_count": null,
   "id": "7d3d9305",
   "metadata": {},
   "outputs": [],
   "source": [
    "def presyn_proximity_data(\n",
    "    segment_id,\n",
    "    split_index,\n",
    "    plot = False,\n",
    "    verbose = False,\n",
    "    ):\n",
    "    \"\"\"\n",
    "    Purpose: Get the presyn proximity information\n",
    "    before pairwise proximities are computed\n",
    "    \"\"\"\n",
    "    st = time.time()\n",
    "    #1) computes the synapse presyn side of the connectome\n",
    "    synapse_pre_df = vdi.segment_id_to_synapse_table_optimized_connectome(\n",
    "        segment_id=segment_id,\n",
    "        split_index=split_index,\n",
    "        syn_type = \"presyn\",\n",
    "        coordinates_nm = True,\n",
    "        return_df=True)\n",
    "    \n",
    "    synapse_pre_raw_df = vdi.segment_id_to_synapse_table_optimized(\n",
    "        segment_id=segment_id,\n",
    "        synapse_type = \"presyn\",\n",
    "        coordinates_nm = True,\n",
    "        return_df=True)\n",
    "    \n",
    "    synapse_pre_raw_coords = pxu.synapse_coordinates_from_df(synapse_pre_raw_df)\n",
    "    \n",
    "    synapse_pre_proof_df = vdi.segment_id_to_synapse_table_optimized_proofread(\n",
    "        segment_id=segment_id,\n",
    "        synapse_type = \"presyn\",\n",
    "        coordinates_nm = True,\n",
    "        return_df=True)\n",
    "    \n",
    "    synapse_pre_proof_coords = pxu.synapse_coordinates_from_df(synapse_pre_proof_df)\n",
    "\n",
    "\n",
    "    #2) Gets the mesh for later plotting\n",
    "    if plot:\n",
    "        mesh = vdi.fetch_proofread_mesh(\n",
    "            segment_id,\n",
    "            split_index)\n",
    "    else:\n",
    "        mesh = None\n",
    "\n",
    "    #3) Gets some coordinate for later euclidean distance calculation\n",
    "    presyn_soma_coord = vdi.soma_nm_coordinate(\n",
    "        segment_id,\n",
    "        split_index)\n",
    "\n",
    "    #4) Fetches neuron object  for calculations\n",
    "    G_presyn = vdi.graph_obj_from_proof_stage(segment_id,split_index)\n",
    "\n",
    "\n",
    "    #5) Calculating all of the width,compartments and skeletons\n",
    "    (presyn_skeleton_array,\n",
    "    presyn_width_array,\n",
    "    presyn_comp_array) = nxu.skeleton_width_compartment_arrays_from_G(\n",
    "        G_presyn,\n",
    "        compartments=[\"axon\"],\n",
    "    )\n",
    "\n",
    "    #5) Fetches the skeleton and starting coordinate of axon \n",
    "    #   to be used later for skeletal distance to soma\n",
    "\n",
    "    presyn_starting_coordinate = nxu.most_upstream_node_on_axon_limb(\n",
    "        G_presyn,\n",
    "        return_endpoint_upstream = True\n",
    "    )\n",
    "\n",
    "    if plot:\n",
    "        print(f\"Plotting: Presyn axon skeleton\")\n",
    "    (pre_sk_vert,\n",
    "    pre_sk_edges)= nxu.axon_skeleton(\n",
    "        G = G_presyn,\n",
    "        include_path_to_soma = True,\n",
    "        plot=plot,\n",
    "        mesh = mesh,\n",
    "\n",
    "    )\n",
    "    \n",
    "    #G_presyn_sk = sk.convert_skeleton_to_graph(pre_sk_vert[pre_sk_edges])\n",
    "    G_presyn_sk = xu.graph_from_non_unique_vertices_edges(pre_sk_vert,pre_sk_edges)\n",
    "\n",
    "    if plot:\n",
    "        print(f\"Plotting: Presyn skeleton and starting coordinate\")\n",
    "        nviz.plot_objects(\n",
    "            scatters=[pre_sk_vert,presyn_starting_coordinate],\n",
    "            scatters_colors=[\"red\",\"blue\"],\n",
    "            scatter_size=[0.2,2]\n",
    "        )\n",
    "        \n",
    "    if verbose:\n",
    "        print(f\"Total time for presyn proximity data = {time.time() - st}\")\n",
    "\n",
    "    return dict(\n",
    "        # for the synapses to be checked if in vicinity\n",
    "        synapse_pre_df = synapse_pre_df,\n",
    "\n",
    "        # for attributes for computing proximities\n",
    "        presyn_skeleton_array=presyn_skeleton_array,\n",
    "        presyn_width_array=presyn_width_array,\n",
    "        presyn_comp_array=presyn_comp_array,\n",
    "\n",
    "\n",
    "        # for skeletal walk distance\n",
    "        presyn_starting_coordinate=presyn_starting_coordinate,\n",
    "        pre_sk_vert=pre_sk_vert,\n",
    "        pre_sk_edges=pre_sk_edges,\n",
    "        G_presyn_sk=G_presyn_sk,\n",
    "\n",
    "        # for computing euclidean distance\n",
    "        presyn_soma_coord =presyn_soma_coord,\n",
    "        \n",
    "        # for more features to compute close to\n",
    "        synapse_pre_raw_coords=synapse_pre_raw_coords,\n",
    "        synapse_pre_proof_coords=synapse_pre_proof_coords,\n",
    "        \n",
    "        #for ploting \n",
    "        mesh = mesh\n",
    "    )"
   ]
  },
  {
   "cell_type": "code",
   "execution_count": null,
   "id": "8cdc16bb",
   "metadata": {},
   "outputs": [],
   "source": [
    "\n",
    "def postsyn_proximity_data(\n",
    "    segment_id,\n",
    "    split_index,\n",
    "    plot = False,\n",
    "    verbose = False,\n",
    "    check_starting_coord_match_skeleton = False,\n",
    "    \n",
    "    ):\n",
    "\n",
    "    \"\"\"\n",
    "    Purpose: Get the postsyn proximity information\n",
    "    before pairwise proximities are computed\n",
    "    \"\"\"\n",
    "    segment_id_target = segment_id\n",
    "    split_index_target = split_index\n",
    "\n",
    "    st = time.time()\n",
    "    #2) Gets the mesh for later plotting\n",
    "    if plot:\n",
    "        mesh_post = vdi.fetch_proofread_mesh(\n",
    "            segment_id_target,\n",
    "            split_index_target\n",
    "        )\n",
    "    else:\n",
    "        mesh_post = None\n",
    "\n",
    "    #3) Gets some coordinate for later euclidean distance calculation\n",
    "    postsyn_soma_coord = vdi.soma_nm_coordinate(\n",
    "        segment_id_target,\n",
    "        split_index=split_index_target)\n",
    "\n",
    "    #4) Fetches neuron object  for calculations\n",
    "    G_postsyn = vdi.graph_obj_from_proof_stage(segment_id_target,split_index_target)\n",
    "\n",
    "    #4) Calculating all the skeleton arrays, widths, compartments\n",
    "    (postsyn_skeleton_array,\n",
    "    postsyn_width_array,\n",
    "    postsyn_comp_array) = nxu.skeleton_width_compartment_arrays_from_G(\n",
    "        G_postsyn,\n",
    "        plot=False\n",
    "    )\n",
    "\n",
    "    postsyn_soma_mesh = vdi.fetch_soma_mesh(\n",
    "        segment_id_target,\n",
    "        split_index_target,\n",
    "        plot_soma = False)\n",
    "\n",
    "    soma_array = np.array(postsyn_soma_mesh.vertices)\n",
    "    postsyn_skeleton_array = np.vstack([postsyn_skeleton_array,postsyn_soma_mesh.vertices])\n",
    "    postsyn_width_array = np.hstack([postsyn_width_array,np.repeat([0],len(soma_array))])\n",
    "    postsyn_comp_array = np.hstack([postsyn_comp_array,np.repeat([\"soma\"],len(soma_array))])\n",
    "\n",
    "    if plot:\n",
    "        print(f\"Plotting: postsyn skeleton array\")\n",
    "        ipvu.plot_mesh_with_scatter(\n",
    "            mesh_post,\n",
    "            scatter=postsyn_skeleton_array,\n",
    "        )\n",
    "\n",
    "    #5) Fetches the skeleton and starting coordinate of axon \n",
    "    #   to be used later for skeletal distance to soma\n",
    "\n",
    "    if plot:\n",
    "        print(f\"Plotting: postsyn skeleton\")\n",
    "    (post_sk_vert,\n",
    "    post_sk_edges)= nxu.skeleton(\n",
    "        G = G_postsyn,\n",
    "        plot=plot,\n",
    "        mesh = mesh_post,\n",
    "        )  \n",
    "\n",
    "    postsyn_starting_coords= nxu.starting_coordinates_all_limbs(\n",
    "                G_postsyn,\n",
    "                verbose = False)\n",
    "\n",
    "\n",
    "    if check_starting_coord_match_skeleton:\n",
    "        for k in postsyn_starting_coords.reshape(-1,3):\n",
    "            min_dist = nu.closest_dist_between_coordinates(\n",
    "                post_sk_vert.reshape(-1,3),\n",
    "                k.reshape(-1,3),\n",
    "                return_min=True\n",
    "            )\n",
    "\n",
    "            if min_dist > 0:\n",
    "                raise Exception(\"\")\n",
    "\n",
    "    #6) Postsyn and spine data\n",
    "    synapse_post_df = vdi.segment_id_to_synapse_table_optimized_proofread(\n",
    "        segment_id=segment_id_target,\n",
    "        split_index=split_index_target,\n",
    "        syn_type = \"postsyn\",\n",
    "        coordinates_nm = True,\n",
    "        return_df=True)\n",
    "\n",
    "    synapse_post_coord = synapse_post_df[\n",
    "        [\"synapse_x_nm\",\"synapse_y_nm\",\"synapse_z_nm\"]].to_numpy().astype('float')\n",
    "\n",
    "    if plot:\n",
    "        print(f\"Plotting: Spine Coordinates\")\n",
    "    spine_shaft_coords = nxu.spine_shaft_coordinates(\n",
    "        G_postsyn,\n",
    "        verbose = False,\n",
    "        plot = plot,\n",
    "        mesh = mesh_post,\n",
    "    )\n",
    "\n",
    "    if verbose:\n",
    "        print(f\"Total time for presyn proximity data = {time.time() - st}\")\n",
    "\n",
    "    return_dict = dict(\n",
    "        # for attributes for computing proximities\n",
    "        postsyn_skeleton_array = postsyn_skeleton_array,\n",
    "        postsyn_width_array = postsyn_width_array,\n",
    "        postsyn_comp_array = postsyn_comp_array,\n",
    "\n",
    "        # for skeletal walk distance\n",
    "        post_sk_vert=post_sk_vert,\n",
    "        post_sk_edges=post_sk_edges,\n",
    "        postsyn_starting_coords=postsyn_starting_coords,\n",
    "\n",
    "        # for computing euclidean distance\n",
    "        postsyn_soma_coord=postsyn_soma_coord,\n",
    "\n",
    "        # attributes to be collected in the vicinity of contact\n",
    "        synapse_post_coord=synapse_post_coord,\n",
    "        spine_shaft_coords=spine_shaft_coords,\n",
    "        \n",
    "        #for ploting \n",
    "        mesh_post = mesh_post,\n",
    "        G_postsyn_sk = None,\n",
    "\n",
    "    )\n",
    "    \n",
    "    return return_dict\n"
   ]
  },
  {
   "cell_type": "code",
   "execution_count": null,
   "id": "ddfb557c",
   "metadata": {},
   "outputs": [],
   "source": []
  },
  {
   "cell_type": "code",
   "execution_count": null,
   "id": "c611293f",
   "metadata": {},
   "outputs": [],
   "source": []
  },
  {
   "cell_type": "code",
   "execution_count": null,
   "id": "f628edd8",
   "metadata": {},
   "outputs": [],
   "source": []
  },
  {
   "cell_type": "code",
   "execution_count": null,
   "id": "16d628b4",
   "metadata": {},
   "outputs": [],
   "source": [
    "prox_data = pxu.proximity_pre_post(\n",
    "    segment_id_pre = segment_id,\n",
    "    split_index_pre = split_index,\n",
    "\n",
    "    segment_id_post = segment_id_post,\n",
    "    split_index_post = split_index_post,\n",
    "\n",
    "    presyn_prox_data = presyn_prox_data,\n",
    "    postsyn_prox_data = None,\n",
    "\n",
    "    plot_proximities = False,\n",
    "    verbose = verbose_inner,\n",
    "    return_df = False\n",
    ")"
   ]
  },
  {
   "cell_type": "code",
   "execution_count": null,
   "id": "a29e124e",
   "metadata": {},
   "outputs": [],
   "source": []
  }
 ],
 "metadata": {
  "kernelspec": {
   "display_name": "Python 3 (ipykernel)",
   "language": "python",
   "name": "python3"
  },
  "language_info": {
   "codemirror_mode": {
    "name": "ipython",
    "version": 3
   },
   "file_extension": ".py",
   "mimetype": "text/x-python",
   "name": "python",
   "nbconvert_exporter": "python",
   "pygments_lexer": "ipython3",
   "version": "3.8.0"
  }
 },
 "nbformat": 4,
 "nbformat_minor": 5
}
