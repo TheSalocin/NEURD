{
 "cells": [
  {
   "cell_type": "code",
   "execution_count": 1,
   "id": "28160914",
   "metadata": {},
   "outputs": [],
   "source": [
    "%load_ext autoreload\n",
    "%autoreload 2"
   ]
  },
  {
   "cell_type": "code",
   "execution_count": 2,
   "id": "766f78b2",
   "metadata": {},
   "outputs": [
    {
     "name": "stdout",
     "output_type": "stream",
     "text": [
      "Jupyter environment detected. Enabling Open3D WebVisualizer.\n",
      "[Open3D INFO] WebRTC GUI backend enabled.\n",
      "[Open3D INFO] WebRTCWindowSystem: HTTP handshake server disabled.\n"
     ]
    },
    {
     "name": "stderr",
     "output_type": "stream",
     "text": [
      "WARNING:root:Need to pip install caveclient to repair mesh with pychunkedgraph\n",
      "WARNING:root:Need to pip install caveclient to use dataset_name parameters\n"
     ]
    }
   ],
   "source": [
    "import neurd"
   ]
  },
  {
   "cell_type": "markdown",
   "id": "31c7d43e",
   "metadata": {},
   "source": [
    "# Parameter Tutorial (housed inside the vdi)"
   ]
  },
  {
   "cell_type": "code",
   "execution_count": 3,
   "id": "f8672a79",
   "metadata": {},
   "outputs": [],
   "source": [
    "from neurd import parameter_utils as paru"
   ]
  },
  {
   "cell_type": "code",
   "execution_count": 4,
   "id": "8217048a",
   "metadata": {},
   "outputs": [
    {
     "data": {
      "text/plain": [
       "'../../neurd/parameter_configs/parameters_config_default.py'"
      ]
     },
     "execution_count": 4,
     "metadata": {},
     "output_type": "execute_result"
    }
   ],
   "source": [
    "filepath = \"../../neurd/parameter_configs/parameters_config_default.py\"\n",
    "filepath"
   ]
  },
  {
   "cell_type": "code",
   "execution_count": 5,
   "id": "fa6ca35f",
   "metadata": {},
   "outputs": [
    {
     "data": {
      "text/plain": [
       "<neurd.parameter_utils.PackageParameters at 0x7f4a49384e20>"
      ]
     },
     "execution_count": 5,
     "metadata": {},
     "output_type": "execute_result"
    }
   ],
   "source": [
    "obj = paru.parameters_from_filepath(\n",
    "    filepath = filepath\n",
    ")\n",
    "\n",
    "obj"
   ]
  },
  {
   "cell_type": "code",
   "execution_count": 6,
   "id": "4adcb07a",
   "metadata": {},
   "outputs": [
    {
     "name": "stdout",
     "output_type": "stream",
     "text": [
      "\n",
      "       ---apical_utils.py---\n",
      "{\n",
      "    \"soma_angle_to_apical\": 59,\n",
      "    \"multi_apical_height\": -460000,\n",
      "    \"max_upward_angle_shaft_like\": 30,\n",
      "    \"min_upward_length_shaft_like\": 3000,\n",
      "    \"min_upward_per_match_shaft_like\": 0.8,\n",
      "    \"min_upward_length_backup_shaft_like\": 20000,\n",
      "    \"min_upward_per_match_backup_shaft_like\": 0.5,\n",
      "    \"width_min_shaft_like\": 140,\n",
      "    \"min_skeletal_length_filter_apical\": 10000,\n",
      "    \"min_distance_above_soma_filter_apical\": 10000,\n",
      "    \"candidate_connected_component_radius_apical\": 5000,\n",
      "    \"multi_apical_possible_apical\": true,\n",
      "    \"width_min_apical_high_soma\": 450,\n",
      "    \"distance_from_soma_apical_high_soma\": 80000,\n",
      "    \"min_thick_near_soma_skeletal_length_apical_high_soma\": 10000,\n",
      "    \"non_upward_skeletal_distance_upstream_buffer_filter_apical_one\": -10000,\n",
      "    \"soma_diff_buffer_filter_apical_one\": -50000,\n",
      "    \"downstream_vector_diff_buffer_filter_apical_one\": -30000,\n",
      "    \"default_tie_breaker_filter_apical_one\": \"skeletal_length\",\n",
      "    \"add_low_degree_apicals_off_shaft_tuft\": false,\n",
      "    \"low_degree_apicals_min_angle_tuft\": 0,\n",
      "    \"low_degree_apicals_max_angle_tuft\": 40,\n",
      "    \"min_angle_oblique\": 80,\n",
      "    \"max_angle_oblique\": 140,\n",
      "    \"per_match_ref_vector_min_oblique\": 0.8,\n",
      "    \"dist_match_ref_vector_min_oblique\": 10000\n",
      "}\n",
      "       ---axon_utils.py---\n",
      "{\n",
      "    \"ray_trace_min_axon_spines\": 270,\n",
      "    \"ray_trace_max_axon_spines\": 1200,\n",
      "    \"skeletal_length_min_axon_spines\": 1000,\n",
      "    \"skeletal_length_max_axon_spines\": 6000,\n",
      "    \"n_synapses_pre_min_axon_spines\": 1,\n",
      "    \"n_synapses_pre_max_axon_spines\": 3,\n",
      "    \"n_faces_min_axon_spines\": 90,\n",
      "    \"downstream_upstream_dist_diff_axon_spines\": 1000,\n",
      "    \"downstream_dist_min_over_syn_axon_spines\": 2000,\n",
      "    \"exclude_starting_nodes_axon_spines\": true,\n",
      "    \"width_min_threshold_short_thick\": 120,\n",
      "    \"skeletal_length_max_threshold_short_thick\": 3500,\n",
      "    \"ray_trace_threshold_short_thick\": 350,\n",
      "    \"parent_width_threshold_short_thick\": null,\n",
      "    \"exclude_starting_nodes_short_thick\": true,\n",
      "    \"add_zero_width_segments_short_thick\": true,\n",
      "    \"width_min_threshold_parent_short_thick\": 95,\n",
      "    \"width_global_min_threshold_parent_short_thick\": 40,\n",
      "    \"axon_soma_angle_threshold_excitatory\": 70,\n",
      "    \"ais_max_distance_from_soma_excitatory\": 14000,\n",
      "    \"axon_classification_without_synapses_excitatory\": false,\n",
      "    \"axon_classification_without_synapses_if_no_candidate_excitatory\": true,\n",
      "    \"ais_max_distance_from_soma_inhibitory\": 70000,\n",
      "    \"axon_soma_angle_threshold\": null,\n",
      "    \"ais_syn_density_max\": 0.00015,\n",
      "    \"ais_syn_alternative_max\": 2,\n",
      "    \"ais_n_syn_pre_max\": 1,\n",
      "    \"ais_width_min\": 95,\n",
      "    \"ais_width_max\": 650,\n",
      "    \"max_search_distance\": 80000,\n",
      "    \"min_skeletal_length\": 10000,\n",
      "    \"n_postsyn_max\": 15,\n",
      "    \"postsyn_distance\": 10000,\n",
      "    \"ais_width_filter\": true,\n",
      "    \"ais_new_width_min\": 140,\n",
      "    \"ais_new_width_min_inhibitory\": 140,\n",
      "    \"ais_new_width_downstream_skeletal_length\": 20000,\n",
      "    \"ais_max_distance_from_soma\": null,\n",
      "    \"n_synapses_spine_offset_endpoint_upstream_max\": 3,\n",
      "    \"attempt_second_pass\": true,\n",
      "    \"ais_syn_density_max_backup\": 0.0007,\n",
      "    \"ais_n_syn_pre_max_backup\": 100,\n",
      "    \"max_search_distance_addition_backup\": 0,\n",
      "    \"return_best_candidate\": true,\n",
      "    \"best_candidate_method\": \"max_skeletal_length_above_threshold_and_buffer\",\n",
      "    \"max_skeletal_length_min\": 50000,\n",
      "    \"max_skeletal_length_buffer\": 20000,\n",
      "    \"significant_lowest_density_min_skeletal_length\": 15000,\n",
      "    \"lowest_density_ratio\": 4,\n",
      "    \"downstream_distance_for_axon_angle\": 30000,\n",
      "    \"axon_classification_without_synapses_if_no_candidate\": false,\n",
      "    \"axon_classification_without_synapses\": false,\n",
      "    \"ais_syn_density_max_excitatory\": null,\n",
      "    \"ais_syn_density_max_backup_excitatory\": null,\n",
      "    \"candidate_downstream_postsyn_density_max\": 0.00015,\n",
      "    \"width_max_ax_on_dendr\": 270,\n",
      "    \"n_spines_max_ax_on_dendr\": 10,\n",
      "    \"n_synapses_post_spine_max_ax_on_dendr\": 3,\n",
      "    \"n_synapses_pre_min_ax_on_dendr\": 1,\n",
      "    \"synapse_pre_perc_min_ax_on_dendr\": 0.6,\n",
      "    \"synapse_pre_perc_downstream_min_ax_on_dendr\": 0.9,\n",
      "    \"axon_skeletal_legnth_min_ax_on_dendr\": 2500,\n",
      "    \"filter_away_thin_branches_ax_on_dendr\": true,\n",
      "    \"dendrite_width_min_ax_on_dendr\": 80,\n",
      "    \"thin_axon_skeletal_length_min_ax_on_dendr\": 2500,\n",
      "    \"thin_axon_n_synapses_post_downstream_max_ax_on_dendr\": 3,\n",
      "    \"mesh_area_min_ax_on_dendr\": 1,\n",
      "    \"closest_mesh_skeleton_dist_max_ax_on_dendr\": 500,\n",
      "    \"filter_away_myelination_myelin\": true,\n",
      "    \"min_skeletal_length_myelin\": 5000,\n",
      "    \"max_synapse_density_myelin\": 7e-05,\n",
      "    \"max_synapse_density_pass_2_myelin\": 0.0001,\n",
      "    \"min_skeletal_length_pass_2_myelin\": 25000,\n",
      "    \"min_distance_from_soma_pass_2_myelin\": -1,\n",
      "    \"max_width_myelin\": 650,\n",
      "    \"min_distance_from_soma_myelin\": 10000,\n",
      "    \"skeletal_length_downstream_min_ax_on_dendr\": 7000,\n",
      "    \"n_synapses_post_downstream_max_myelin\": 5,\n",
      "    \"max_bouton_width_to_check\": 120,\n",
      "    \"min_size_threshold_bouton\": 27,\n",
      "    \"max_size_threshold_bouton\": 350,\n",
      "    \"ray_trace_threshold_bouton\": 200,\n",
      "    \"split_significance_threshold_web\": 20,\n",
      "    \"maximum_volume_threshold_web\": 3000,\n",
      "    \"minimum_volume_threshold_web\": 20,\n",
      "    \"min_distance_from_soma_inhibitory_dendr_on_axon\": 10000,\n",
      "    \"min_distance_from_soma_excitatory_dendr_on_axon\": 10000,\n",
      "    \"n_synapses_pre_min_dendr_on_axon\": 1,\n",
      "    \"synapse_post_perc_min_dendr_on_axon\": 0.6,\n",
      "    \"spine_density_min_dendr_on_axon\": 0.00012,\n",
      "    \"dendrite_width_min_dendr_on_axon\": 170,\n",
      "    \"dendrite_skeletal_length_min_dendr_on_axon\": 3000,\n",
      "    \"coarse_dendrite_filter\": true,\n",
      "    \"coarse_dendrite_axon_width_min\": 300,\n",
      "    \"coarse_dendrite_synapse_post_perc_min\": 0.75,\n",
      "    \"coarse_dendrite_n_synapses_post_min\": 20,\n",
      "    \"coarse_dendrite_n_spines_min\": 10,\n",
      "    \"coarse_dendrtie_spine_density\": 0.00015,\n",
      "    \"synapse_post_perc_downstream_min_dendr_on_axon\": 0.9,\n",
      "    \"n_synapses_pre_downstream_max_dendr_on_axon\": 3,\n",
      "    \"filter_away_spiney_branches_dendr_on_axon\": false,\n",
      "    \"n_synapses_post_spine_max_dendr_on_axon\": 4,\n",
      "    \"spine_density_max_dendr_on_axon\": 0.00015,\n",
      "    \"max_ais_distance_from_soma\": 50000\n",
      "}\n",
      "       ---branch_utils.py---\n",
      "{\n",
      "    \"offset_skeleton_vector\": 500,\n",
      "    \"comparison_distance_skeleton_vector\": 3000\n",
      "}\n",
      "       ---cell_type_utils.py---\n",
      "{\n",
      "    \"lower_width_bound_spine\": 140,\n",
      "    \"upper_width_bound_spine\": 520,\n",
      "    \"apply_hand_made_low_rules\": false,\n",
      "    \"skeletal_length_processed_syn_min\": 15000,\n",
      "    \"skeletal_length_processed_spine_min\": 15000,\n",
      "    \"inhibitory_syn_density_shaft_min\": 0.4,\n",
      "    \"spine_threshold_syn_density\": -1,\n",
      "    \"skeletal_length_threshold_syn_density\": 5000,\n",
      "    \"upper_width_bound_syn_density\": 10000\n",
      "}\n",
      "       ---classification_utils.py---\n",
      "{\n",
      "    \"non_ais_width_axon\": 200,\n",
      "    \"ais_width_axon\": 600,\n",
      "    \"max_n_spines_axon\": 7,\n",
      "    \"max_spine_density_axon\": 8e-05\n",
      "}\n",
      "       ---connectome_query_utils.py---\n",
      "{}\n",
      "       ---connectome_utils.py---\n",
      "{}\n",
      "       ---error_detection.py---\n",
      "{\n",
      "    \"double_back_threshold_axon_thick_inh\": 135,\n",
      "    \"double_back_threshold_axon_thin_inh\": 140,\n",
      "    \"min_upstream_skeletal_distance\": 500,\n",
      "    \"min_distance_from_soma_for_proof\": 10000,\n",
      "    \"min_degree_to_resolve\": 3,\n",
      "    \"max_degree_to_resolve_absolute\": 1000,\n",
      "    \"max_degree_to_resolve\": 1000,\n",
      "    \"max_degree_to_resolve_wide\": 1000,\n",
      "    \"max_degree_to_resolve_width_threshold\": 200,\n",
      "    \"width_min\": 35,\n",
      "    \"width_max\": 170,\n",
      "    \"upstream_width_max\": null,\n",
      "    \"axon_dependent\": true,\n",
      "    \"skip_distance_poly_x\": [\n",
      "        80,\n",
      "        200\n",
      "    ],\n",
      "    \"skip_distance_poly_y\": [\n",
      "        1500,\n",
      "        2000\n",
      "    ],\n",
      "    \"offset_high_d_match\": 1000,\n",
      "    \"comparison_distance_high_d_match\": 2000,\n",
      "    \"worst_case_sk_angle_match_threshold_high_d_match\": 65,\n",
      "    \"width_diff_max_high_d_match\": 75,\n",
      "    \"width_diff_perc_high_d_match\": 0.6,\n",
      "    \"perform_synapse_filter_high_d_match\": true,\n",
      "    \"synapse_density_diff_threshold_high_d_match\": 0.00015,\n",
      "    \"n_synapses_diff_threshold_high_d_match\": 6,\n",
      "    \"sk_angle_match_threshold_high_d_match\": 45,\n",
      "    \"sk_angle_buffer_high_d_match\": 25,\n",
      "    \"width_diff_perc_threshold_high_d_match\": 0.15,\n",
      "    \"width_diff_perc_buffer_high_d_match\": 0.3,\n",
      "    \"kiss_check_high_d_match\": false,\n",
      "    \"kiss_check_bbox_longest_side_threshold_high_d_match\": 450,\n",
      "    \"match_method_high_d_match\": \"all_error_if_not_one_match\",\n",
      "    \"use_exclusive_partner_high_d_match\": true,\n",
      "    \"use_high_degree_false_positive_filter\": true,\n",
      "    \"width_min_high_degree_false_positive\": 250,\n",
      "    \"sibling_skeletal_angle_max_high_degree_false_positive\": 110,\n",
      "    \"skip_distance_low_d_match\": 0,\n",
      "    \"min_upstream_skeletal_distance_low_d_match\": 2000,\n",
      "    \"min_degree_to_resolve_low_d_match\": 2,\n",
      "    \"max_degree_to_resolve_wide_low_d_match\": 3,\n",
      "    \"max_degree_to_resolve_absolute_low_d_match\": 1000,\n",
      "    \"max_degree_to_resolve_low_d_match\": 3,\n",
      "    \"width_max_low_d_match\": 170,\n",
      "    \"upstream_width_max_low_d_match\": null,\n",
      "    \"offset_low_d_match\": 1000,\n",
      "    \"comparison_distance_low_d_match\": 2000,\n",
      "    \"worst_case_sk_angle_match_threshold_low_d_match\": 65,\n",
      "    \"width_diff_max_low_d_match\": 75,\n",
      "    \"width_diff_perc_low_d_match\": 0.6,\n",
      "    \"perform_synapse_filter_low_d_match\": true,\n",
      "    \"synapse_density_diff_threshold_low_d_match\": 0.00015,\n",
      "    \"n_synapses_diff_threshold_low_d_match\": 6,\n",
      "    \"width_max_dendr_restr\": 500,\n",
      "    \"width_max_dendr_double_back_restr\": 500,\n",
      "    \"upstream_skeletal_length_min_dendr_restr\": 5000,\n",
      "    \"upstream_skeletal_length_min_width_j_dendr\": 5000,\n",
      "    \"branch_skeletal_length_min_width_j_dendr\": 7000,\n",
      "    \"upstream_skeletal_length_min_for_min_width_j_dendr\": 4000,\n",
      "    \"width_jump_max_width_j_dendr\": 200,\n",
      "    \"upstream_skeletal_length_min_width_j_axon\": 5000,\n",
      "    \"branch_skeletal_length_min_width_j_axon\": 8000,\n",
      "    \"upstream_skeletal_length_min_for_min_width_j_axon\": 4000,\n",
      "    \"width_jump_max_width_j_axon\": 55,\n",
      "    \"axon_width_threshold_max_width_j_axon\": 100,\n",
      "    \"double_back_threshold_double_b_dendrite\": 120,\n",
      "    \"comparison_distance_double_b_dendrite\": 3000,\n",
      "    \"offset_double_b_dendrite\": 0,\n",
      "    \"branch_skeletal_length_min_double_b_dendrite\": 7000,\n",
      "    \"apply_width_filter\": true,\n",
      "    \"best_match_width_diff_max\": 75,\n",
      "    \"best_match_width_diff_max_perc\": 0.6,\n",
      "    \"best_match_width_diff_min\": 0.25,\n",
      "    \"no_non_cut_disconnected_comps\": true,\n",
      "    \"best_singular_match\": true,\n",
      "    \"lowest_angle_sum_for_pairs\": false,\n",
      "    \"skip_distance_high_degree_dendr\": 1200,\n",
      "    \"width_max_high_degree_dendr\": 300,\n",
      "    \"upstream_width_max_high_degree_dendr\": 300,\n",
      "    \"offset_high_degree_dendr\": 1500,\n",
      "    \"comparison_distance_high_degree_dendr\": 3000,\n",
      "    \"width_diff_max_high_degree_dendr\": 150,\n",
      "    \"perform_synapse_filter_high_degree_dendr\": false,\n",
      "    \"width_diff_perc_threshold_high_d_match_dendr\": 0.15,\n",
      "    \"width_diff_perc_buffer_high_d_match_dendr\": 0.2,\n",
      "    \"use_high_degree_false_positive_filter_dendr\": false,\n",
      "    \"min_skeletal_length_endpoints_high_degree_dendr\": 8000,\n",
      "    \"min_distance_from_soma_mesh_high_degree_dendr\": 7000,\n",
      "    \"double_back_threshold_axon_thick\": 120,\n",
      "    \"double_back_threshold_axon_thin\": 127\n",
      "}\n",
      "       ---graph_filters.py---\n",
      "{\n",
      "    \"child_width_maximum_ax_web_ax_web\": 75,\n",
      "    \"parent_width_maximum_ax_web\": 75,\n",
      "    \"child_skeletal_threshold_ax_web\": 3000,\n",
      "    \"child_skeletal_threshold_total_ax_web\": 10000,\n",
      "    \"child_angle_max_ax_web\": 40,\n",
      "    \"web_size_threshold_ax_web\": 120,\n",
      "    \"web_size_type_ax_web\": \"ray_trace_median\",\n",
      "    \"web_above_threshold_ax_web\": true,\n",
      "    \"parent_width_maximum_thick_t\": 70,\n",
      "    \"min_child_width_max_thick_t\": 78,\n",
      "    \"child_skeletal_threshold_thick_t\": 3000,\n",
      "    \"child_skeletal_threshold_total_thick_t\": 10000,\n",
      "    \"child_angle_max_thick_t\": 40,\n",
      "    \"branch_skeletal_length_min_ax_double_b\": 2000,\n",
      "    \"total_downstream_skeleton_length_threshold_ax_double_b\": 2000,\n",
      "    \"upstream_skeletal_length_min_ax_double_b\": 5000,\n",
      "    \"axon_width_threshold_thin_ax_double_b\": 180,\n",
      "    \"axon_width_threshold_thick_ax_double_b\": 180,\n",
      "    \"downstream_width_max_fork_div\": 90,\n",
      "    \"upstream_width_max_fork_div\": 90,\n",
      "    \"total_downstream_skeleton_length_threshold_fork_div\": 4000,\n",
      "    \"individual_branch_length_threshold_fork_div\": 3000,\n",
      "    \"divergence_threshold_mean_fork_div\": 160,\n",
      "    \"comparison_distance_fork_div\": 400,\n",
      "    \"downstream_width_max_fork_min_dist\": 90,\n",
      "    \"upstream_width_max_fork_min_dist\": 145,\n",
      "    \"total_downstream_skeleton_length_threshold_fork_min_dist\": 4000,\n",
      "    \"individual_branch_length_threshold_fork_min_dist\": 4000,\n",
      "    \"min_distance_threshold_fork_min_dist\": 550,\n",
      "    \"upstream_width_threshold_ax_spine_at_inters\": 110,\n",
      "    \"downstream_width_threshold_ax_spine_at_inters\": 150,\n",
      "    \"child_skeletal_threshold_total_ax_spine_at_inters\": 10000,\n",
      "    \"upstream_width_threshold_min_syn_dist\": 110,\n",
      "    \"downstream_width_threshold_min_syn_dist\": 150,\n",
      "    \"min_synape_dist_min_syn_dist\": 1300,\n",
      "    \"branch_skeletal_length_min_double_b_axon_inh\": 2000,\n",
      "    \"total_downstream_skeleton_length_threshold_double_b_axon_inh\": 2000,\n",
      "    \"upstream_skeletal_length_min_double_b_axon_inh\": 5000,\n",
      "    \"axon_width_threshold_thin_double_b_axon_inh\": 180,\n",
      "    \"axon_width_threshold_thick_double_b_axon_inh\": 180,\n",
      "    \"attempt_upstream_pair_singular_double_b_axon_inh\": true\n",
      "}\n",
      "       ---motif_utils.py---\n",
      "{}\n",
      "       ---neuron_geometry_utils.py---\n",
      "{}\n",
      "       ---neuron_statistics.py---\n",
      "{}\n",
      "       ---neuron_utils.py---\n",
      "{\n",
      "    \"skeletal_length_max_n_spines\": 3000\n",
      "}\n",
      "       ---preprocessing_vp2.py---\n",
      "{\n",
      "    \"combine_close_skeleton_nodes_threshold_meshparty_axon\": 1300,\n",
      "    \"filter_end_node_length_meshparty_axon\": 1150,\n",
      "    \"filter_end_node_length_axon\": 1150,\n",
      "    \"invalidation_d_axon\": 1500,\n",
      "    \"smooth_neighborhood_axon\": 0,\n",
      "    \"meshparty_segment_size_axon\": 100,\n",
      "    \"stitch_floating_axon_pieces\": true,\n",
      "    \"max_stitch_distance_high_fid_axon\": 5000,\n",
      "    \"floating_piece_face_threshold_high_fid_axon\": 50,\n",
      "    \"width_threshold_MAP\": 500,\n",
      "    \"size_threshold_MAP\": 2000,\n",
      "    \"size_threshold_MAP_stitch\": 2000,\n",
      "    \"apply_expansion\": false,\n",
      "    \"max_stitch_distance\": 8000,\n",
      "    \"max_stitch_distance_CGAL\": 5000,\n",
      "    \"filter_end_node_length\": 4000,\n",
      "    \"use_adaptive_invalidation_d\": false,\n",
      "    \"use_adaptive_invalidation_d_floating\": true,\n",
      "    \"axon_width_preprocess_limb_max\": 200,\n",
      "    \"limb_remove_mesh_interior_face_threshold\": 0,\n",
      "    \"surface_reconstruction_size\": 1000,\n",
      "    \"floating_piece_face_threshold\": 50,\n",
      "    \"invalidation_d\": 12000,\n",
      "    \"remove_mesh_interior_face_threshold\": 0\n",
      "}\n",
      "       ---proofreading_utils.py---\n",
      "{\n",
      "    \"width_max_high_low_degree_inh\": 140,\n",
      "    \"upstream_width_max_high_low_degree_inh\": 180,\n",
      "    \"max_degree_to_resolve_absolute_low_degree_inh\": 5,\n",
      "    \"width_max_high_high_degree_inh_dendr\": 500,\n",
      "    \"upstream_width_max_high_high_degree_inh_dendr\": 500,\n",
      "    \"dendrite_branching_filters\": false,\n",
      "    \"dendrite_branching_filters_inh\": false,\n",
      "    \"double_back_threshold_inh_double_b\": null,\n",
      "    \"max_skeletal_length_low_branch_clusters_dendrite\": 8000,\n",
      "    \"min_n_nodes_in_cluster_low_branch_clusters_dendrite\": 16,\n",
      "    \"max_skeletal_length_low_branch_clusters_axon\": 8000,\n",
      "    \"min_n_nodes_in_cluster_low_branch_clusters_axon\": 16,\n",
      "    \"skeletal_distance_from_soma_min_axon\": 10000,\n",
      "    \"n_red_points_red_blue\": 3,\n",
      "    \"include_one_hop_downstream_error_branches_red_blue\": true,\n",
      "    \"one_hop_downstream_error_branches_max_distance_red_blue\": 4000,\n",
      "    \"offset_distance_for_points_valid_red_blue\": 3000,\n",
      "    \"offset_distance_for_points_error_red_blue\": 3000,\n",
      "    \"n_points_red_blue\": 1,\n",
      "    \"n_blue_points_red_blue\": 2,\n",
      "    \"red_blue_points_method_red_blue\": \"closest_mesh_face\",\n",
      "    \"pair_conn_comp_by_common_upstream_red_blue\": true,\n",
      "    \"pair_conn_comp_errors_red_blue\": true,\n",
      "    \"group_all_conn_comp_together_red_blue\": false,\n",
      "    \"only_outermost_branches_red_blue\": true,\n",
      "    \"min_error_downstream_length_total_red_blue\": 5000,\n",
      "    \"split_red_blue_by_common_upstream_red_blue\": true,\n",
      "    \"use_undirected_graph_red_blue\": false,\n",
      "    \"avoid_one_red_or_blue_red_blue\": true,\n",
      "    \"min_cancel_distance_absolute_red_blue\": 1000,\n",
      "    \"remove_segment_threshold\": 1500,\n",
      "    \"remove_segment_threshold_round_2\": 2500,\n",
      "    \"consider_path_neighbors_for_removal\": true,\n",
      "    \"offset_high_degree\": 2000,\n",
      "    \"comparison_distance_high_degree\": 2000,\n",
      "    \"match_threshold_high_degree\": 65,\n",
      "    \"skip_small_soma_connectors\": true,\n",
      "    \"small_soma_connectors_skeletal_threshold\": 2500,\n",
      "    \"double_back_threshold\": 80,\n",
      "    \"offset_double_back\": 1000,\n",
      "    \"comparison_distance_double_back\": 6000,\n",
      "    \"width_jump_threshold\": 200,\n",
      "    \"simple_path_of_2_cut\": false,\n",
      "    \"apply_double_back_first\": true,\n",
      "    \"double_back_threshold_at_first\": 110,\n",
      "    \"min_skeletal_length_limb\": 15000\n",
      "}\n",
      "       ---proximity_analysis_utils.py---\n",
      "{}\n",
      "       ---proximity_utils.py---\n",
      "{}\n",
      "       ---soma_extraction_utils.py---\n",
      "{\n",
      "    \"glia_volume_threshold_in_um\": 2500,\n",
      "    \"glia_n_faces_threshold\": 400000,\n",
      "    \"glia_n_faces_min\": 100000,\n",
      "    \"nucleus_min\": 700,\n",
      "    \"nucleus_max\": null,\n",
      "    \"outer_decimation_ratio\": 0.25,\n",
      "    \"large_mesh_threshold\": 20000,\n",
      "    \"large_mesh_threshold_inner\": 13000,\n",
      "    \"inner_decimation_ratio\": 0.25,\n",
      "    \"max_fail_loops\": 10,\n",
      "    \"remove_inside_pieces\": true,\n",
      "    \"size_threshold_to_remove\": 1000,\n",
      "    \"pymeshfix_clean\": false,\n",
      "    \"check_holes_before_pymeshfix\": false,\n",
      "    \"second_poisson\": false,\n",
      "    \"soma_width_threshold\": 0.32,\n",
      "    \"soma_size_threshold\": 9000,\n",
      "    \"soma_size_threshold_max\": 1200000,\n",
      "    \"volume_mulitplier\": 8,\n",
      "    \"side_length_ratio_threshold\": 6,\n",
      "    \"perform_pairing\": false,\n",
      "    \"backtrack_soma_mesh_to_original\": true,\n",
      "    \"backtrack_soma_size_threshold\": 8000,\n",
      "    \"poisson_backtrack_distance_threshold\": null,\n",
      "    \"close_holes\": false,\n",
      "    \"boundary_vertices_threshold\": null,\n",
      "    \"last_size_threshold\": 2000,\n",
      "    \"segmentation_at_end\": true,\n",
      "    \"largest_hole_threshold\": 17000,\n",
      "    \"second_pass_size_threshold\": null\n",
      "}\n",
      "       ---spine_utils.py---\n",
      "{\n",
      "    \"head_smoothness\": 0.09,\n",
      "    \"head_ray_trace_min\": 240,\n",
      "    \"head_face_min\": 10,\n",
      "    \"only_allow_one_connected_component_neck\": false,\n",
      "    \"query\": \"median_mesh_center > 115 and n_faces_branch>100\",\n",
      "    \"calculate_spine_volume\": true,\n",
      "    \"clusters_threshold\": 5,\n",
      "    \"smoothness_threshold\": 0.08,\n",
      "    \"shaft_close_hole_area_top_2_mean_max\": 110000,\n",
      "    \"shaft_mesh_volume_max\": 300000000.0,\n",
      "    \"shaft_mesh_n_faces_min\": 10,\n",
      "    \"shaft_threshold\": 300,\n",
      "    \"spine_n_face_threshold_bare_min\": 6,\n",
      "    \"spine_sk_length_threshold_bare_min\": 306.6,\n",
      "    \"filter_by_volume_threshold_bare_min\": 900496.186,\n",
      "    \"bbox_oriented_side_max_min_bare_min\": 300,\n",
      "    \"spine_volume_to_spine_area_min_bare_min\": 0.008,\n",
      "    \"sdf_mean_min_bare_min\": 0,\n",
      "    \"spine_n_face_threshold\": 25,\n",
      "    \"spine_sk_length_threshold\": 1000,\n",
      "    \"filter_by_bounding_box_longest_side_length\": true,\n",
      "    \"side_length_threshold\": 5000,\n",
      "    \"filter_out_border_spines\": false,\n",
      "    \"skeleton_endpoint_nullification\": true,\n",
      "    \"skeleton_endpoint_nullification_distance\": 2000,\n",
      "    \"soma_vertex_nullification\": true,\n",
      "    \"border_percentage_threshold\": 0.3,\n",
      "    \"check_spine_border_perc\": 0.4,\n",
      "    \"filter_by_volume\": true,\n",
      "    \"filter_by_volume_threshold\": 19835293\n",
      "}\n",
      "       ---synapse_utils.py---\n",
      "{}\n"
     ]
    }
   ],
   "source": [
    "print(obj)"
   ]
  },
  {
   "cell_type": "code",
   "execution_count": 7,
   "id": "db6b38b3",
   "metadata": {
    "scrolled": true
   },
   "outputs": [
    {
     "name": "stderr",
     "output_type": "stream",
     "text": [
      "/usr/local/lib/python3.8/dist-packages/umap/distances.py:1063: NumbaDeprecationWarning: The 'nopython' keyword argument was not supplied to the 'numba.jit' decorator. The implicit default value for this argument is currently False, but it will be changed to True in Numba 0.59.0. See https://numba.readthedocs.io/en/stable/reference/deprecation.html#deprecation-of-object-mode-fall-back-behaviour-when-using-jit for details.\n",
      "  @numba.jit()\n",
      "/usr/local/lib/python3.8/dist-packages/umap/distances.py:1071: NumbaDeprecationWarning: The 'nopython' keyword argument was not supplied to the 'numba.jit' decorator. The implicit default value for this argument is currently False, but it will be changed to True in Numba 0.59.0. See https://numba.readthedocs.io/en/stable/reference/deprecation.html#deprecation-of-object-mode-fall-back-behaviour-when-using-jit for details.\n",
      "  @numba.jit()\n",
      "/usr/local/lib/python3.8/dist-packages/umap/distances.py:1086: NumbaDeprecationWarning: The 'nopython' keyword argument was not supplied to the 'numba.jit' decorator. The implicit default value for this argument is currently False, but it will be changed to True in Numba 0.59.0. See https://numba.readthedocs.io/en/stable/reference/deprecation.html#deprecation-of-object-mode-fall-back-behaviour-when-using-jit for details.\n",
      "  @numba.jit()\n",
      "/usr/local/lib/python3.8/dist-packages/umap/umap_.py:660: NumbaDeprecationWarning: The 'nopython' keyword argument was not supplied to the 'numba.jit' decorator. The implicit default value for this argument is currently False, but it will be changed to True in Numba 0.59.0. See https://numba.readthedocs.io/en/stable/reference/deprecation.html#deprecation-of-object-mode-fall-back-behaviour-when-using-jit for details.\n",
      "  @numba.jit()\n"
     ]
    },
    {
     "data": {
      "text/plain": [
       "['glia_volume_threshold_in_um_global',\n",
       " 'glia_n_faces_threshold_global',\n",
       " 'glia_n_faces_min_global',\n",
       " 'nucleus_min_global',\n",
       " 'nucleus_max_global',\n",
       " 'outer_decimation_ratio_global',\n",
       " 'large_mesh_threshold_global',\n",
       " 'large_mesh_threshold_inner_global',\n",
       " 'inner_decimation_ratio_global',\n",
       " 'max_fail_loops_global',\n",
       " 'remove_inside_pieces_global',\n",
       " 'size_threshold_to_remove_global',\n",
       " 'pymeshfix_clean_global',\n",
       " 'check_holes_before_pymeshfix_global',\n",
       " 'second_poisson_global',\n",
       " 'soma_width_threshold_global',\n",
       " 'soma_size_threshold_global',\n",
       " 'soma_size_threshold_max_global',\n",
       " 'volume_mulitplier_global',\n",
       " 'side_length_ratio_threshold_global',\n",
       " 'perform_pairing_global',\n",
       " 'backtrack_soma_mesh_to_original_global',\n",
       " 'backtrack_soma_size_threshold_global',\n",
       " 'poisson_backtrack_distance_threshold_global',\n",
       " 'close_holes_global',\n",
       " 'boundary_vertices_threshold_global',\n",
       " 'last_size_threshold_global',\n",
       " 'segmentation_at_end_global',\n",
       " 'largest_hole_threshold_global',\n",
       " 'second_pass_size_threshold_global']"
      ]
     },
     "execution_count": 7,
     "metadata": {},
     "output_type": "execute_result"
    }
   ],
   "source": [
    "from neurd import soma_extraction_utils as sm\n",
    "paru.parameter_list_from_module(\n",
    "    sm\n",
    ")"
   ]
  },
  {
   "cell_type": "code",
   "execution_count": 71,
   "id": "e4e424f0",
   "metadata": {},
   "outputs": [
    {
     "name": "stdout",
     "output_type": "stream",
     "text": [
      "{\n",
      "    \"soma_angle_to_apical\": 59,\n",
      "    \"multi_apical_height\": -460000,\n",
      "    \"max_upward_angle_shaft_like\": 30,\n",
      "    \"min_upward_length_shaft_like\": 3000,\n",
      "    \"min_upward_per_match_shaft_like\": 0.8,\n",
      "    \"min_upward_length_backup_shaft_like\": 20000,\n",
      "    \"min_upward_per_match_backup_shaft_like\": 0.5,\n",
      "    \"width_min_shaft_like\": 140,\n",
      "    \"min_skeletal_length_filter_apical\": 10000,\n",
      "    \"min_distance_above_soma_filter_apical\": 10000,\n",
      "    \"candidate_connected_component_radius_apical\": 5000,\n",
      "    \"multi_apical_possible_apical\": true,\n",
      "    \"width_min_apical_high_soma\": 450,\n",
      "    \"distance_from_soma_apical_high_soma\": 80000,\n",
      "    \"min_thick_near_soma_skeletal_length_apical_high_soma\": 10000,\n",
      "    \"non_upward_skeletal_distance_upstream_buffer_filter_apical_one\": -10000,\n",
      "    \"soma_diff_buffer_filter_apical_one\": -50000,\n",
      "    \"downstream_vector_diff_buffer_filter_apical_one\": -30000,\n",
      "    \"default_tie_breaker_filter_apical_one\": \"skeletal_length\",\n",
      "    \"add_low_degree_apicals_off_shaft_tuft\": false,\n",
      "    \"low_degree_apicals_min_angle_tuft\": 0,\n",
      "    \"low_degree_apicals_max_angle_tuft\": 40,\n",
      "    \"min_angle_oblique\": 80,\n",
      "    \"max_angle_oblique\": 140,\n",
      "    \"per_match_ref_vector_min_oblique\": 0.8,\n",
      "    \"dist_match_ref_vector_min_oblique\": 10000\n",
      "}\n"
     ]
    }
   ],
   "source": [
    "print(obj[\"apical_utils\"])"
   ]
  },
  {
   "cell_type": "code",
   "execution_count": 76,
   "id": "99db48aa",
   "metadata": {},
   "outputs": [
    {
     "data": {
      "text/plain": [
       "{'soma_angle_to_apical_global': 60,\n",
       " 'multi_apical_height_global': -460000,\n",
       " 'max_upward_angle_shaft_like_global': 30,\n",
       " 'min_upward_length_shaft_like_global': 3000,\n",
       " 'min_upward_per_match_shaft_like_global': 0.8,\n",
       " 'min_upward_length_backup_shaft_like_global': 20000,\n",
       " 'min_upward_per_match_backup_shaft_like_global': 0.5,\n",
       " 'width_min_shaft_like_global': 140,\n",
       " 'min_skeletal_length_filter_apical_global': 10000,\n",
       " 'min_distance_above_soma_filter_apical_global': 10000,\n",
       " 'candidate_connected_component_radius_apical_global': 5000,\n",
       " 'multi_apical_possible_apical_global': True,\n",
       " 'width_min_apical_high_soma_global': 450,\n",
       " 'distance_from_soma_apical_high_soma_global': 80000,\n",
       " 'min_thick_near_soma_skeletal_length_apical_high_soma_global': 10000,\n",
       " 'non_upward_skeletal_distance_upstream_buffer_filter_apical_one_global': -10000,\n",
       " 'soma_diff_buffer_filter_apical_one_global': -50000,\n",
       " 'downstream_vector_diff_buffer_filter_apical_one_global': -30000,\n",
       " 'default_tie_breaker_filter_apical_one_global': 'skeletal_length',\n",
       " 'add_low_degree_apicals_off_shaft_tuft_global': False,\n",
       " 'low_degree_apicals_min_angle_tuft_global': 0,\n",
       " 'low_degree_apicals_max_angle_tuft_global': 40,\n",
       " 'min_angle_oblique_global': 80,\n",
       " 'max_angle_oblique_global': 140,\n",
       " 'per_match_ref_vector_min_oblique_global': 0.8,\n",
       " 'dist_match_ref_vector_min_oblique_global': 10000,\n",
       " 'align_neuron_obj': <bound method DataInterfaceMicrons.align_neuron_obj of <neurd.vdi_microns.DataInterfaceMicrons object at 0x7f4a2c1f4ee0>>,\n",
       " 'unalign_neuron_obj': <bound method DataInterfaceMicrons.unalign_neuron_obj of <neurd.vdi_microns.DataInterfaceMicrons object at 0x7f4a2c1f4ee0>>}"
      ]
     },
     "execution_count": 76,
     "metadata": {},
     "output_type": "execute_result"
    }
   ],
   "source": [
    "paru.parameter_dict_from_module_and_obj(\n",
    "    apu,\n",
    "    vdi\n",
    ")"
   ]
  },
  {
   "cell_type": "code",
   "execution_count": 78,
   "id": "9cc20d08",
   "metadata": {},
   "outputs": [
    {
     "name": "stdout",
     "output_type": "stream",
     "text": [
      "--Working on module ais_utils--\n",
      "Accomplished import\n",
      "---param_dict before obj namepsace---\n",
      "\n",
      "params_to_find = []\n",
      "--Working on module apical_utils--\n",
      "Accomplished import\n",
      "---param_dict before obj namepsace---\n",
      "soma_angle_to_apical_global:60\n",
      "multi_apical_height_global:-460000\n",
      "max_upward_angle_shaft_like_global:30\n",
      "min_upward_length_shaft_like_global:3000\n",
      "min_upward_per_match_shaft_like_global:0.8\n",
      "min_upward_length_backup_shaft_like_global:20000\n",
      "min_upward_per_match_backup_shaft_like_global:0.5\n",
      "width_min_shaft_like_global:140\n",
      "min_skeletal_length_filter_apical_global:10000\n",
      "min_distance_above_soma_filter_apical_global:10000\n",
      "candidate_connected_component_radius_apical_global:5000\n",
      "multi_apical_possible_apical_global:True\n",
      "width_min_apical_high_soma_global:450\n",
      "distance_from_soma_apical_high_soma_global:80000\n",
      "min_thick_near_soma_skeletal_length_apical_high_soma_global:10000\n",
      "non_upward_skeletal_distance_upstream_buffer_filter_apical_one_global:-10000\n",
      "soma_diff_buffer_filter_apical_one_global:-50000\n",
      "downstream_vector_diff_buffer_filter_apical_one_global:-30000\n",
      "default_tie_breaker_filter_apical_one_global:skeletal_length\n",
      "add_low_degree_apicals_off_shaft_tuft_global:False\n",
      "low_degree_apicals_min_angle_tuft_global:0\n",
      "low_degree_apicals_max_angle_tuft_global:40\n",
      "min_angle_oblique_global:80\n",
      "max_angle_oblique_global:140\n",
      "per_match_ref_vector_min_oblique_global:0.8\n",
      "dist_match_ref_vector_min_oblique_global:10000\n",
      "\n",
      "params_to_find = ['align_neuron_obj' 'unalign_neuron_obj']\n",
      "--Working on module axon_utils--\n",
      "Accomplished import\n",
      "---param_dict before obj namepsace---\n",
      "ray_trace_min_axon_spines_global:270\n",
      "ray_trace_max_axon_spines_global:1200\n",
      "skeletal_length_min_axon_spines_global:1000\n",
      "skeletal_length_max_axon_spines_global:6000\n",
      "n_synapses_pre_min_axon_spines_global:1\n",
      "n_synapses_pre_max_axon_spines_global:3\n",
      "n_faces_min_axon_spines_global:90\n",
      "downstream_upstream_dist_diff_axon_spines_global:1000\n",
      "downstream_dist_min_over_syn_axon_spines_global:2000\n",
      "exclude_starting_nodes_axon_spines_global:True\n",
      "width_min_threshold_short_thick_global:120\n",
      "skeletal_length_max_threshold_short_thick_global:3500\n",
      "ray_trace_threshold_short_thick_global:350\n",
      "parent_width_threshold_short_thick_global:None\n",
      "exclude_starting_nodes_short_thick_global:True\n",
      "add_zero_width_segments_short_thick_global:True\n",
      "width_min_threshold_parent_short_thick_global:95\n",
      "width_global_min_threshold_parent_short_thick_global:95\n",
      "axon_soma_angle_threshold_excitatory_global:70\n",
      "ais_max_distance_from_soma_excitatory_global:14000\n",
      "axon_classification_without_synapses_excitatory_global:False\n",
      "axon_classification_without_synapses_if_no_candidate_excitatory_global:True\n",
      "ais_max_distance_from_soma_inhibitory_global:70000\n",
      "axon_soma_angle_threshold_global:None\n",
      "ais_syn_density_max_global:0.00015\n",
      "ais_syn_alternative_max_global:2\n",
      "ais_n_syn_pre_max_global:1\n",
      "ais_width_min_global:95\n",
      "ais_width_max_global:650\n",
      "max_search_distance_global:80000\n",
      "min_skeletal_length_global:10000\n",
      "n_postsyn_max_global:15\n",
      "postsyn_distance_global:10000\n",
      "ais_width_filter_global:True\n",
      "ais_new_width_min_global:140\n",
      "ais_new_width_min_inhibitory_global:140\n",
      "ais_new_width_downstream_skeletal_length_global:20000\n",
      "ais_max_distance_from_soma_global:None\n",
      "n_synapses_spine_offset_endpoint_upstream_max_global:3\n",
      "attempt_second_pass_global:True\n",
      "ais_syn_density_max_backup_global:0.0007\n",
      "ais_n_syn_pre_max_backup_global:100\n",
      "max_search_distance_addition_backup_global:0\n",
      "return_best_candidate_global:True\n",
      "best_candidate_method_global:max_skeletal_length_above_threshold_and_buffer\n",
      "max_skeletal_length_min_global:50000\n",
      "max_skeletal_length_buffer_global:20000\n",
      "significant_lowest_density_min_skeletal_length_global:15000\n",
      "lowest_density_ratio_global:4\n",
      "downstream_distance_for_axon_angle_global:30000\n",
      "axon_classification_without_synapses_if_no_candidate_global:False\n",
      "axon_classification_without_synapses_global:False\n",
      "ais_syn_density_max_excitatory_global:None\n",
      "ais_syn_density_max_backup_excitatory_global:None\n",
      "candidate_downstream_postsyn_density_max_global:0.00015\n",
      "width_max_ax_on_dendr_global:270\n",
      "n_spines_max_ax_on_dendr_global:10\n",
      "n_synapses_post_spine_max_ax_on_dendr_global:3\n",
      "n_synapses_pre_min_ax_on_dendr_global:1\n",
      "synapse_pre_perc_min_ax_on_dendr_global:0.6\n",
      "synapse_pre_perc_downstream_min_ax_on_dendr_global:0.9\n",
      "axon_skeletal_legnth_min_ax_on_dendr_global:2500\n",
      "filter_away_thin_branches_ax_on_dendr_global:True\n",
      "dendrite_width_min_ax_on_dendr_global:80\n",
      "thin_axon_skeletal_length_min_ax_on_dendr_global:2500\n",
      "thin_axon_n_synapses_post_downstream_max_ax_on_dendr_global:3\n",
      "mesh_area_min_ax_on_dendr_global:1\n",
      "closest_mesh_skeleton_dist_max_ax_on_dendr_global:500\n",
      "filter_away_myelination_myelin_global:True\n",
      "min_skeletal_length_myelin_global:5000\n",
      "max_synapse_density_myelin_global:7e-05\n",
      "max_synapse_density_pass_2_myelin_global:0.0001\n",
      "min_skeletal_length_pass_2_myelin_global:25000\n",
      "min_distance_from_soma_pass_2_myelin_global:-1\n",
      "max_width_myelin_global:650\n",
      "min_distance_from_soma_myelin_global:10000\n",
      "skeletal_length_downstream_min_ax_on_dendr_global:7000\n",
      "n_synapses_post_downstream_max_myelin_global:5\n",
      "max_bouton_width_to_check_global:120\n",
      "min_size_threshold_bouton_global:27\n",
      "max_size_threshold_bouton_global:350\n",
      "ray_trace_threshold_bouton_global:200\n",
      "split_significance_threshold_web_global:20\n",
      "maximum_volume_threshold_web_global:3000\n",
      "minimum_volume_threshold_web_global:20\n",
      "min_distance_from_soma_inhibitory_dendr_on_axon_global:10000\n",
      "min_distance_from_soma_excitatory_dendr_on_axon_global:10000\n",
      "n_synapses_pre_min_dendr_on_axon_global:1\n",
      "synapse_post_perc_min_dendr_on_axon_global:0.6\n",
      "spine_density_min_dendr_on_axon_global:0.00012\n",
      "dendrite_width_min_dendr_on_axon_global:170\n",
      "dendrite_skeletal_length_min_dendr_on_axon_global:3000\n",
      "coarse_dendrite_filter_global:True\n",
      "coarse_dendrite_axon_width_min_global:300\n",
      "coarse_dendrite_synapse_post_perc_min_global:0.75\n",
      "coarse_dendrite_n_synapses_post_min_global:20\n",
      "coarse_dendrite_n_spines_min_global:10\n",
      "coarse_dendrtie_spine_density_global:0.00015\n",
      "synapse_post_perc_downstream_min_dendr_on_axon_global:0.9\n",
      "n_synapses_pre_downstream_max_dendr_on_axon_global:3\n",
      "filter_away_spiney_branches_dendr_on_axon_global:False\n",
      "n_synapses_post_spine_max_dendr_on_axon_global:4\n",
      "spine_density_max_dendr_on_axon_global:0.00015\n",
      "max_ais_distance_from_soma:50000\n",
      "\n",
      "params_to_find = ['align_neuron_obj' 'unalign_neuron_obj']\n",
      "--Working on module branch_attr_utils--\n",
      "Accomplished import\n",
      "---param_dict before obj namepsace---\n",
      "\n",
      "params_to_find = []\n",
      "--Working on module branch_utils--\n",
      "Accomplished import\n",
      "---param_dict before obj namepsace---\n",
      "offset_skeleton_vector_global:500\n",
      "comparison_distance_skeleton_vector_global:3000\n",
      "\n",
      "params_to_find = []\n",
      "--Working on module cell_type_conv_utils--\n",
      "Accomplished import\n",
      "---param_dict before obj namepsace---\n",
      "\n",
      "params_to_find = []\n",
      "--Working on module cell_type_utils--\n",
      "Accomplished import\n",
      "---param_dict before obj namepsace---\n",
      "lower_width_bound_spine_global:140\n",
      "upper_width_bound_spine_global:520\n",
      "apply_hand_made_low_rules_global:False\n",
      "skeletal_length_processed_syn_min_global:15000\n",
      "skeletal_length_processed_spine_min_global:15000\n",
      "inhibitory_syn_density_shaft_min_global:0.4\n",
      "spine_threshold_syn_density_global:-1\n",
      "skeletal_length_threshold_syn_density_global:5000\n",
      "upper_width_bound_syn_density_global:10000\n",
      "\n",
      "params_to_find = []\n",
      "--Working on module classification_utils--\n",
      "Accomplished import\n",
      "---param_dict before obj namepsace---\n",
      "non_ais_width_axon_global:200\n",
      "ais_width_axon_global:600\n",
      "max_n_spines_axon_global:7\n",
      "max_spine_density_axon_global:8e-05\n",
      "\n",
      "params_to_find = ['vdi']\n",
      "--Working on module concept_network_utils--\n",
      "Accomplished import\n",
      "---param_dict before obj namepsace---\n",
      "\n",
      "params_to_find = []\n",
      "--Working on module connectome_analysis_utils--\n",
      "Accomplished import\n",
      "---param_dict before obj namepsace---\n",
      "\n",
      "params_to_find = []\n",
      "--Working on module connectome_query_utils--\n",
      "Accomplished import\n",
      "---param_dict before obj namepsace---\n",
      "\n",
      "params_to_find = ['vdi']\n",
      "--Working on module connectome_utils--\n",
      "Accomplished import\n",
      "---param_dict before obj namepsace---\n",
      "\n",
      "params_to_find = ['vdi']\n",
      "--Working on module datajoint_motifs--\n",
      "Accomplished import\n",
      "---param_dict before obj namepsace---\n",
      "\n",
      "params_to_find = []\n",
      "--Working on module error_detection--\n",
      "Accomplished import\n",
      "---param_dict before obj namepsace---\n",
      "double_back_threshold_axon_thick_inh_global:135\n",
      "double_back_threshold_axon_thin_inh_global:140\n",
      "min_upstream_skeletal_distance_global:500\n",
      "min_distance_from_soma_for_proof_global:10000\n",
      "min_degree_to_resolve_global:3\n",
      "max_degree_to_resolve_absolute_global:1000\n",
      "max_degree_to_resolve_global:1000\n",
      "max_degree_to_resolve_wide_global:1000\n",
      "max_degree_to_resolve_width_threshold_global:200\n",
      "width_min_global:35\n",
      "width_max_global:170\n",
      "upstream_width_max_global:None\n",
      "axon_dependent_global:True\n",
      "skip_distance_poly_x_global:(80, 200)\n",
      "skip_distance_poly_y_global:(1500, 2000)\n",
      "offset_high_d_match_global:1000\n",
      "comparison_distance_high_d_match_global:2000\n",
      "worst_case_sk_angle_match_threshold_high_d_match_global:65\n",
      "width_diff_max_high_d_match_global:75\n",
      "width_diff_perc_high_d_match_global:0.6\n",
      "perform_synapse_filter_high_d_match_global:True\n",
      "synapse_density_diff_threshold_high_d_match_global:0.00015\n",
      "n_synapses_diff_threshold_high_d_match_global:6\n",
      "sk_angle_match_threshold_high_d_match_global:45\n",
      "sk_angle_buffer_high_d_match_global:25\n",
      "width_diff_perc_threshold_high_d_match_global:0.15\n",
      "width_diff_perc_buffer_high_d_match_global:0.3\n",
      "kiss_check_high_d_match_global:False\n",
      "kiss_check_bbox_longest_side_threshold_high_d_match_global:450\n",
      "match_method_high_d_match_global:all_error_if_not_one_match\n",
      "use_exclusive_partner_high_d_match_global:True\n",
      "use_high_degree_false_positive_filter_global:True\n",
      "width_min_high_degree_false_positive_global:250\n",
      "sibling_skeletal_angle_max_high_degree_false_positive_global:110\n",
      "skip_distance_low_d_match_global:0\n",
      "min_upstream_skeletal_distance_low_d_match_global:2000\n",
      "min_degree_to_resolve_low_d_match_global:2\n",
      "max_degree_to_resolve_wide_low_d_match_global:3\n",
      "max_degree_to_resolve_absolute_low_d_match_global:1000\n",
      "max_degree_to_resolve_low_d_match_global:3\n",
      "width_max_low_d_match_global:170\n",
      "upstream_width_max_low_d_match_global:None\n",
      "offset_low_d_match_global:1000\n",
      "comparison_distance_low_d_match_global:2000\n",
      "worst_case_sk_angle_match_threshold_low_d_match_global:65\n",
      "width_diff_max_low_d_match_global:75\n",
      "width_diff_perc_low_d_match_global:0.6\n",
      "perform_synapse_filter_low_d_match_global:True\n",
      "synapse_density_diff_threshold_low_d_match_global:0.00015\n",
      "n_synapses_diff_threshold_low_d_match_global:6\n",
      "width_max_dendr_restr_global:500\n",
      "width_max_dendr_double_back_restr_global:500\n",
      "upstream_skeletal_length_min_dendr_restr_global:5000\n",
      "upstream_skeletal_length_min_width_j_dendr_global:5000\n",
      "branch_skeletal_length_min_width_j_dendr_global:7000\n",
      "upstream_skeletal_length_min_for_min_width_j_dendr_global:4000\n",
      "width_jump_max_width_j_dendr_global:200\n",
      "upstream_skeletal_length_min_width_j_axon_global:5000\n",
      "branch_skeletal_length_min_width_j_axon_global:8000\n",
      "upstream_skeletal_length_min_for_min_width_j_axon_global:4000\n",
      "width_jump_max_width_j_axon_global:55\n",
      "axon_width_threshold_max_width_j_axon_global:100\n",
      "double_back_threshold_double_b_dendrite_global:120\n",
      "comparison_distance_double_b_dendrite_global:3000\n",
      "offset_double_b_dendrite_global:0\n",
      "branch_skeletal_length_min_double_b_dendrite_global:7000\n",
      "apply_width_filter_global:True\n",
      "best_match_width_diff_max_global:75\n",
      "best_match_width_diff_max_perc_global:0.6\n",
      "best_match_width_diff_min_global:0.25\n",
      "no_non_cut_disconnected_comps_global:True\n",
      "best_singular_match_global:True\n",
      "lowest_angle_sum_for_pairs_global:False\n",
      "skip_distance_high_degree_dendr_global:1200\n",
      "width_max_high_degree_dendr_global:300\n",
      "upstream_width_max_high_degree_dendr_global:300\n",
      "offset_high_degree_dendr_global:1500\n",
      "comparison_distance_high_degree_dendr_global:3000\n",
      "width_diff_max_high_degree_dendr_global:150\n",
      "perform_synapse_filter_high_degree_dendr_global:False\n",
      "width_diff_perc_threshold_high_d_match_dendr_global:0.15\n",
      "width_diff_perc_buffer_high_d_match_dendr_global:0.2\n",
      "use_high_degree_false_positive_filter_dendr_global:False\n",
      "min_skeletal_length_endpoints_high_degree_dendr_global:8000\n",
      "min_distance_from_soma_mesh_high_degree_dendr_global:7000\n",
      "double_back_threshold_axon_thick:120\n",
      "double_back_threshold_axon_thin:127\n",
      "\n",
      "params_to_find = []\n",
      "--Working on module functional_tuning_utils--\n",
      "Accomplished import\n",
      "---param_dict before obj namepsace---\n",
      "\n",
      "params_to_find = []\n",
      "--Working on module gnn_embedding_utils--\n",
      "Failed import: No module named 'torch' \n",
      "--Working on module graph_filters--\n",
      "Accomplished import\n",
      "---param_dict before obj namepsace---\n",
      "child_width_maximum_ax_web_ax_web_global:75\n",
      "parent_width_maximum_ax_web_global:75\n",
      "child_skeletal_threshold_ax_web_global:3000\n",
      "child_skeletal_threshold_total_ax_web_global:10000\n",
      "child_angle_max_ax_web_global:40\n",
      "web_size_threshold_ax_web_global:120\n",
      "web_size_type_ax_web_global:ray_trace_median\n",
      "web_above_threshold_ax_web_global:True\n",
      "parent_width_maximum_thick_t_global:70\n",
      "min_child_width_max_thick_t_global:78\n",
      "child_skeletal_threshold_thick_t_global:3000\n",
      "child_skeletal_threshold_total_thick_t_global:10000\n",
      "child_angle_max_thick_t_global:40\n",
      "branch_skeletal_length_min_ax_double_b_global:2000\n",
      "total_downstream_skeleton_length_threshold_ax_double_b_global:2000\n",
      "upstream_skeletal_length_min_ax_double_b_global:5000\n",
      "axon_width_threshold_thin_ax_double_b_global:180\n",
      "axon_width_threshold_thick_ax_double_b_global:180\n",
      "downstream_width_max_fork_div_global:90\n",
      "upstream_width_max_fork_div_global:90\n",
      "total_downstream_skeleton_length_threshold_fork_div_global:4000\n",
      "individual_branch_length_threshold_fork_div_global:3000\n",
      "divergence_threshold_mean_fork_div_global:160\n",
      "comparison_distance_fork_div_global:400\n",
      "downstream_width_max_fork_min_dist_global:90\n",
      "upstream_width_max_fork_min_dist_global:145\n",
      "total_downstream_skeleton_length_threshold_fork_min_dist_global:4000\n",
      "individual_branch_length_threshold_fork_min_dist_global:4000\n",
      "min_distance_threshold_fork_min_dist_global:550\n",
      "upstream_width_threshold_ax_spine_at_inters_global:110\n",
      "downstream_width_threshold_ax_spine_at_inters_global:150\n",
      "child_skeletal_threshold_total_ax_spine_at_inters_global:10000\n",
      "upstream_width_threshold_min_syn_dist_global:110\n",
      "downstream_width_threshold_min_syn_dist_global:150\n",
      "min_synape_dist_min_syn_dist_global:1300\n",
      "branch_skeletal_length_min_double_b_axon_inh_global:2000\n",
      "total_downstream_skeleton_length_threshold_double_b_axon_inh_global:2000\n",
      "upstream_skeletal_length_min_double_b_axon_inh_global:5000\n",
      "axon_width_threshold_thin_double_b_axon_inh_global:180\n",
      "axon_width_threshold_thick_double_b_axon_inh_global:180\n",
      "attempt_upstream_pair_singular_double_b_axon_inh_global:True\n",
      "\n",
      "params_to_find = ['default_low_degree_graph_filters']\n",
      "--Working on module h01_volume_utils--\n",
      "Accomplished import\n",
      "---param_dict before obj namepsace---\n",
      "\n",
      "params_to_find = []\n",
      "--Working on module limb_utils--\n",
      "Accomplished import\n",
      "---param_dict before obj namepsace---\n",
      "\n",
      "params_to_find = []\n",
      "--Working on module microns_graph_query_utils--\n",
      "Accomplished import\n",
      "---param_dict before obj namepsace---\n",
      "\n",
      "params_to_find = []\n",
      "--Working on module microns_volume_utils--\n",
      "Accomplished import\n",
      "---param_dict before obj namepsace---\n",
      "\n",
      "params_to_find = []\n",
      "--Working on module motif_null_utils--\n",
      "Accomplished import\n",
      "---param_dict before obj namepsace---\n",
      "\n",
      "params_to_find = []\n",
      "--Working on module motif_utils--\n",
      "Accomplished import\n",
      "---param_dict before obj namepsace---\n",
      "\n",
      "params_to_find = ['vdi']\n",
      "--Working on module nature_paper_plotting--\n",
      "Accomplished import\n",
      "---param_dict before obj namepsace---\n",
      "\n",
      "params_to_find = []\n",
      "--Working on module neuron--\n",
      "Accomplished import\n",
      "---param_dict before obj namepsace---\n",
      "\n",
      "params_to_find = []\n",
      "--Working on module neuron_geometry_utils--\n",
      "Accomplished import\n",
      "---param_dict before obj namepsace---\n",
      "\n",
      "params_to_find = ['vdi' 'voxel_to_nm_scaling']\n",
      "--Working on module neuron_searching--\n",
      "Accomplished import\n",
      "---param_dict before obj namepsace---\n",
      "\n",
      "params_to_find = []\n",
      "--Working on module neuron_simplification--\n",
      "Accomplished import\n",
      "---param_dict before obj namepsace---\n",
      "\n",
      "params_to_find = []\n",
      "--Working on module neuron_statistics--\n",
      "Accomplished import\n",
      "---param_dict before obj namepsace---\n",
      "\n",
      "params_to_find = ['voxel_to_nm_scaling']\n",
      "--Working on module neuron_utils--\n",
      "Accomplished import\n",
      "---param_dict before obj namepsace---\n",
      "skeletal_length_max_n_spines_global:3000\n",
      "\n",
      "params_to_find = ['voxel_to_nm_scaling']\n",
      "--Working on module neuron_visualizations--\n",
      "Accomplished import\n",
      "---param_dict before obj namepsace---\n",
      "\n",
      "params_to_find = []\n",
      "--Working on module parameter_utils--\n",
      "Accomplished import\n",
      "---param_dict before obj namepsace---\n",
      "\n",
      "params_to_find = []\n",
      "--Working on module preprocessing_vp2--\n",
      "Accomplished import\n",
      "---param_dict before obj namepsace---\n",
      "combine_close_skeleton_nodes_threshold_meshparty_axon_global:1300\n",
      "filter_end_node_length_meshparty_axon_global:1150\n",
      "filter_end_node_length_axon_global:1150\n",
      "invalidation_d_axon_global:1500\n",
      "smooth_neighborhood_axon_global:0\n",
      "meshparty_segment_size_axon_global:100\n",
      "stitch_floating_axon_pieces_global:True\n",
      "max_stitch_distance_high_fid_axon_global:5000\n",
      "floating_piece_face_threshold_high_fid_axon_global:50\n",
      "width_threshold_MAP_global:500\n",
      "size_threshold_MAP_global:2000\n",
      "size_threshold_MAP_stitch_global:2000\n",
      "apply_expansion_global:False\n",
      "max_stitch_distance_global:8000\n",
      "max_stitch_distance_CGAL_global:5000\n",
      "filter_end_node_length_global:4000\n",
      "use_adaptive_invalidation_d_global:False\n",
      "use_adaptive_invalidation_d_floating_global:True\n",
      "axon_width_preprocess_limb_max_global:200\n",
      "limb_remove_mesh_interior_face_threshold_global:0\n",
      "surface_reconstruction_size_global:1000\n",
      "floating_piece_face_threshold_global:50\n",
      "invalidation_d_global:12000\n",
      "remove_mesh_interior_face_threshold_global:0\n",
      "\n",
      "params_to_find = []\n",
      "--Working on module preprocess_neuron--\n",
      "Accomplished import\n",
      "---param_dict before obj namepsace---\n",
      "\n",
      "params_to_find = []\n",
      "--Working on module proofreading_utils--\n",
      "Accomplished import\n",
      "---param_dict before obj namepsace---\n",
      "width_max_high_low_degree_inh_global:140\n",
      "upstream_width_max_high_low_degree_inh_global:180\n",
      "max_degree_to_resolve_absolute_low_degree_inh_global:5\n",
      "width_max_high_high_degree_inh_dendr_global:500\n",
      "upstream_width_max_high_high_degree_inh_dendr_global:500\n",
      "dendrite_branching_filters_global:False\n",
      "dendrite_branching_filters_inh_global:False\n",
      "double_back_threshold_inh_double_b_global:None\n",
      "max_skeletal_length_low_branch_clusters_dendrite_global:8000\n",
      "min_n_nodes_in_cluster_low_branch_clusters_dendrite_global:16\n",
      "max_skeletal_length_low_branch_clusters_axon_global:8000\n",
      "min_n_nodes_in_cluster_low_branch_clusters_axon_global:16\n",
      "skeletal_distance_from_soma_min_axon_global:10000\n",
      "n_red_points_red_blue_global:3\n",
      "include_one_hop_downstream_error_branches_red_blue_global:True\n",
      "one_hop_downstream_error_branches_max_distance_red_blue_global:4000\n",
      "offset_distance_for_points_valid_red_blue_global:3000\n",
      "offset_distance_for_points_error_red_blue_global:3000\n",
      "n_points_red_blue_global:1\n",
      "n_blue_points_red_blue_global:2\n",
      "red_blue_points_method_red_blue_global:closest_mesh_face\n",
      "pair_conn_comp_by_common_upstream_red_blue_global:True\n",
      "pair_conn_comp_errors_red_blue_global:True\n",
      "group_all_conn_comp_together_red_blue_global:False\n",
      "only_outermost_branches_red_blue_global:True\n",
      "min_error_downstream_length_total_red_blue_global:5000\n",
      "split_red_blue_by_common_upstream_red_blue_global:True\n",
      "use_undirected_graph_red_blue_global:False\n",
      "avoid_one_red_or_blue_red_blue_global:True\n",
      "min_cancel_distance_absolute_red_blue_global:1000\n",
      "remove_segment_threshold_global:1500\n",
      "remove_segment_threshold_round_2_global:2500\n",
      "consider_path_neighbors_for_removal_global:True\n",
      "offset_high_degree_global:2000\n",
      "comparison_distance_high_degree_global:2000\n",
      "match_threshold_high_degree_global:65\n",
      "skip_small_soma_connectors_global:True\n",
      "small_soma_connectors_skeletal_threshold_global:2500\n",
      "double_back_threshold_global:80\n",
      "offset_double_back_global:1000\n",
      "comparison_distance_double_back_global:6000\n",
      "width_jump_threshold_global:200\n",
      "simple_path_of_2_cut_global:False\n",
      "apply_double_back_first_global:True\n",
      "double_back_threshold_at_first_global:110\n",
      "min_skeletal_length_limb_global:15000\n",
      "\n",
      "params_to_find = ['exc_filters_auto_proof' 'inh_filters_auto_proof' 'vdi']\n",
      "--Working on module proximity_analysis_utils--\n",
      "Accomplished import\n",
      "---param_dict before obj namepsace---\n",
      "\n",
      "params_to_find = ['vdi' 'voxel_to_nm_scaling']\n",
      "--Working on module proximity_utils--\n",
      "Accomplished import\n",
      "---param_dict before obj namepsace---\n",
      "\n",
      "params_to_find = ['vdi' 'voxel_to_nm_scaling']\n",
      "--Working on module soma_extraction_utils--\n",
      "Accomplished import\n",
      "---param_dict before obj namepsace---\n",
      "glia_volume_threshold_in_um_global:2500\n",
      "glia_n_faces_threshold_global:400000\n",
      "glia_n_faces_min_global:100000\n",
      "nucleus_min_global:700\n",
      "nucleus_max_global:None\n",
      "outer_decimation_ratio_global:0.25\n",
      "large_mesh_threshold_global:20000\n",
      "large_mesh_threshold_inner_global:13000\n",
      "inner_decimation_ratio_global:0.25\n",
      "max_fail_loops_global:10\n",
      "remove_inside_pieces_global:True\n",
      "size_threshold_to_remove_global:1000\n",
      "pymeshfix_clean_global:False\n",
      "check_holes_before_pymeshfix_global:False\n",
      "second_poisson_global:False\n",
      "soma_width_threshold_global:0.32\n",
      "soma_size_threshold_global:9000\n",
      "soma_size_threshold_max_global:1200000\n",
      "volume_mulitplier_global:8\n",
      "side_length_ratio_threshold_global:6\n",
      "perform_pairing_global:False\n",
      "backtrack_soma_mesh_to_original_global:True\n",
      "backtrack_soma_size_threshold_global:8000\n",
      "poisson_backtrack_distance_threshold_global:None\n",
      "close_holes_global:False\n",
      "boundary_vertices_threshold_global:None\n",
      "last_size_threshold_global:2000\n",
      "segmentation_at_end_global:True\n",
      "largest_hole_threshold_global:17000\n",
      "second_pass_size_threshold_global:None\n",
      "\n",
      "params_to_find = []\n",
      "--Working on module soma_splitting_utils--\n",
      "Accomplished import\n",
      "---param_dict before obj namepsace---\n",
      "\n",
      "params_to_find = []\n",
      "--Working on module spine_utils--\n",
      "Accomplished import\n",
      "---param_dict before obj namepsace---\n",
      "head_smoothness_global:0.09\n",
      "head_ray_trace_min_global:240\n",
      "head_face_min_global:10\n",
      "only_allow_one_connected_component_neck_global:False\n",
      "query_global:median_mesh_center > 115 and n_faces_branch>100\n",
      "calculate_spine_volume_global:True\n",
      "clusters_threshold_global:5\n",
      "smoothness_threshold_global:0.08\n",
      "shaft_close_hole_area_top_2_mean_max_global:110000\n",
      "shaft_mesh_volume_max_global:300000000.0\n",
      "shaft_mesh_n_faces_min_global:10\n",
      "shaft_threshold_global:300\n",
      "spine_n_face_threshold_bare_min_global:6\n",
      "spine_sk_length_threshold_bare_min_global:306.6\n",
      "filter_by_volume_threshold_bare_min_global:900496.186\n",
      "bbox_oriented_side_max_min_bare_min_global:300\n",
      "spine_volume_to_spine_area_min_bare_min_global:0.008\n",
      "sdf_mean_min_bare_min_global:0\n",
      "spine_n_face_threshold_global:25\n",
      "spine_sk_length_threshold_global:1000\n",
      "filter_by_bounding_box_longest_side_length_global:True\n",
      "side_length_threshold_global:5000\n",
      "filter_out_border_spines_global:False\n",
      "skeleton_endpoint_nullification_global:True\n",
      "skeleton_endpoint_nullification_distance_global:2000\n",
      "soma_vertex_nullification_global:True\n",
      "border_percentage_threshold_global:0.3\n",
      "check_spine_border_perc_global:0.4\n",
      "filter_by_volume_global:True\n",
      "filter_by_volume_threshold_global:19835293\n",
      "\n",
      "params_to_find = []\n",
      "--Working on module synapse_utils--\n",
      "Accomplished import\n",
      "---param_dict before obj namepsace---\n",
      "\n",
      "params_to_find = ['vdi' 'voxel_to_nm_scaling']\n",
      "--Working on module vdi_default--\n",
      "Accomplished import\n",
      "---param_dict before obj namepsace---\n",
      "\n",
      "params_to_find = []\n",
      "--Working on module vdi_h01--\n",
      "Accomplished import\n",
      "---param_dict before obj namepsace---\n",
      "\n",
      "params_to_find = []\n",
      "--Working on module vdi_microns--\n",
      "Accomplished import\n",
      "---param_dict before obj namepsace---\n",
      "\n",
      "params_to_find = []\n",
      "--Working on module volume_utils--\n",
      "Accomplished import\n",
      "---param_dict before obj namepsace---\n",
      "\n",
      "params_to_find = []\n",
      "--Working on module whole_neuron_classifier_datajoint_adapted--\n",
      "Accomplished import\n",
      "---param_dict before obj namepsace---\n",
      "\n",
      "params_to_find = []\n",
      "--Working on module width_utils--\n",
      "Accomplished import\n",
      "---param_dict before obj namepsace---\n",
      "\n",
      "params_to_find = []\n",
      "--Working on module ais_utils--\n",
      "Accomplished import\n",
      "---param_dict before obj namepsace---\n",
      "\n",
      "params_to_find = []\n",
      "--Working on module apical_utils--\n",
      "Accomplished import\n",
      "---param_dict before obj namepsace---\n",
      "soma_angle_to_apical_global:60\n",
      "multi_apical_height_global:-460000\n",
      "max_upward_angle_shaft_like_global:30\n",
      "min_upward_length_shaft_like_global:3000\n",
      "min_upward_per_match_shaft_like_global:0.8\n",
      "min_upward_length_backup_shaft_like_global:20000\n",
      "min_upward_per_match_backup_shaft_like_global:0.5\n",
      "width_min_shaft_like_global:140\n",
      "min_skeletal_length_filter_apical_global:10000\n",
      "min_distance_above_soma_filter_apical_global:10000\n",
      "candidate_connected_component_radius_apical_global:5000\n",
      "multi_apical_possible_apical_global:True\n",
      "width_min_apical_high_soma_global:450\n",
      "distance_from_soma_apical_high_soma_global:80000\n",
      "min_thick_near_soma_skeletal_length_apical_high_soma_global:10000\n",
      "non_upward_skeletal_distance_upstream_buffer_filter_apical_one_global:-10000\n",
      "soma_diff_buffer_filter_apical_one_global:-50000\n",
      "downstream_vector_diff_buffer_filter_apical_one_global:-30000\n",
      "default_tie_breaker_filter_apical_one_global:skeletal_length\n",
      "add_low_degree_apicals_off_shaft_tuft_global:False\n",
      "low_degree_apicals_min_angle_tuft_global:0\n",
      "low_degree_apicals_max_angle_tuft_global:40\n",
      "min_angle_oblique_global:80\n",
      "max_angle_oblique_global:140\n",
      "per_match_ref_vector_min_oblique_global:0.8\n",
      "dist_match_ref_vector_min_oblique_global:10000\n",
      "\n",
      "params_to_find = ['align_neuron_obj' 'unalign_neuron_obj']\n",
      "--Working on module axon_utils--\n",
      "Accomplished import\n",
      "---param_dict before obj namepsace---\n",
      "ray_trace_min_axon_spines_global:270\n",
      "ray_trace_max_axon_spines_global:1200\n",
      "skeletal_length_min_axon_spines_global:1000\n",
      "skeletal_length_max_axon_spines_global:6000\n",
      "n_synapses_pre_min_axon_spines_global:1\n",
      "n_synapses_pre_max_axon_spines_global:3\n",
      "n_faces_min_axon_spines_global:90\n",
      "downstream_upstream_dist_diff_axon_spines_global:1000\n",
      "downstream_dist_min_over_syn_axon_spines_global:2000\n",
      "exclude_starting_nodes_axon_spines_global:True\n",
      "width_min_threshold_short_thick_global:120\n",
      "skeletal_length_max_threshold_short_thick_global:3500\n",
      "ray_trace_threshold_short_thick_global:350\n",
      "parent_width_threshold_short_thick_global:None\n",
      "exclude_starting_nodes_short_thick_global:True\n",
      "add_zero_width_segments_short_thick_global:True\n",
      "width_min_threshold_parent_short_thick_global:95\n",
      "width_global_min_threshold_parent_short_thick_global:95\n",
      "axon_soma_angle_threshold_excitatory_global:70\n",
      "ais_max_distance_from_soma_excitatory_global:14000\n",
      "axon_classification_without_synapses_excitatory_global:False\n",
      "axon_classification_without_synapses_if_no_candidate_excitatory_global:True\n",
      "ais_max_distance_from_soma_inhibitory_global:70000\n",
      "axon_soma_angle_threshold_global:None\n",
      "ais_syn_density_max_global:0.00015\n",
      "ais_syn_alternative_max_global:2\n",
      "ais_n_syn_pre_max_global:1\n",
      "ais_width_min_global:95\n",
      "ais_width_max_global:650\n",
      "max_search_distance_global:80000\n",
      "min_skeletal_length_global:10000\n",
      "n_postsyn_max_global:15\n",
      "postsyn_distance_global:10000\n",
      "ais_width_filter_global:True\n",
      "ais_new_width_min_global:140\n",
      "ais_new_width_min_inhibitory_global:140\n",
      "ais_new_width_downstream_skeletal_length_global:20000\n",
      "ais_max_distance_from_soma_global:None\n",
      "n_synapses_spine_offset_endpoint_upstream_max_global:3\n",
      "attempt_second_pass_global:True\n",
      "ais_syn_density_max_backup_global:0.0007\n",
      "ais_n_syn_pre_max_backup_global:100\n",
      "max_search_distance_addition_backup_global:0\n",
      "return_best_candidate_global:True\n",
      "best_candidate_method_global:max_skeletal_length_above_threshold_and_buffer\n",
      "max_skeletal_length_min_global:50000\n",
      "max_skeletal_length_buffer_global:20000\n",
      "significant_lowest_density_min_skeletal_length_global:15000\n",
      "lowest_density_ratio_global:4\n",
      "downstream_distance_for_axon_angle_global:30000\n",
      "axon_classification_without_synapses_if_no_candidate_global:False\n",
      "axon_classification_without_synapses_global:False\n",
      "ais_syn_density_max_excitatory_global:None\n",
      "ais_syn_density_max_backup_excitatory_global:None\n",
      "candidate_downstream_postsyn_density_max_global:0.00015\n",
      "width_max_ax_on_dendr_global:270\n",
      "n_spines_max_ax_on_dendr_global:10\n",
      "n_synapses_post_spine_max_ax_on_dendr_global:3\n",
      "n_synapses_pre_min_ax_on_dendr_global:1\n",
      "synapse_pre_perc_min_ax_on_dendr_global:0.6\n",
      "synapse_pre_perc_downstream_min_ax_on_dendr_global:0.9\n",
      "axon_skeletal_legnth_min_ax_on_dendr_global:2500\n",
      "filter_away_thin_branches_ax_on_dendr_global:True\n",
      "dendrite_width_min_ax_on_dendr_global:80\n",
      "thin_axon_skeletal_length_min_ax_on_dendr_global:2500\n",
      "thin_axon_n_synapses_post_downstream_max_ax_on_dendr_global:3\n",
      "mesh_area_min_ax_on_dendr_global:1\n",
      "closest_mesh_skeleton_dist_max_ax_on_dendr_global:500\n",
      "filter_away_myelination_myelin_global:True\n",
      "min_skeletal_length_myelin_global:5000\n",
      "max_synapse_density_myelin_global:7e-05\n",
      "max_synapse_density_pass_2_myelin_global:0.0001\n",
      "min_skeletal_length_pass_2_myelin_global:25000\n",
      "min_distance_from_soma_pass_2_myelin_global:-1\n",
      "max_width_myelin_global:650\n",
      "min_distance_from_soma_myelin_global:10000\n",
      "skeletal_length_downstream_min_ax_on_dendr_global:7000\n",
      "n_synapses_post_downstream_max_myelin_global:5\n",
      "max_bouton_width_to_check_global:120\n",
      "min_size_threshold_bouton_global:27\n",
      "max_size_threshold_bouton_global:350\n",
      "ray_trace_threshold_bouton_global:200\n",
      "split_significance_threshold_web_global:20\n",
      "maximum_volume_threshold_web_global:3000\n",
      "minimum_volume_threshold_web_global:20\n",
      "min_distance_from_soma_inhibitory_dendr_on_axon_global:10000\n",
      "min_distance_from_soma_excitatory_dendr_on_axon_global:10000\n",
      "n_synapses_pre_min_dendr_on_axon_global:1\n",
      "synapse_post_perc_min_dendr_on_axon_global:0.6\n",
      "spine_density_min_dendr_on_axon_global:0.00012\n",
      "dendrite_width_min_dendr_on_axon_global:170\n",
      "dendrite_skeletal_length_min_dendr_on_axon_global:3000\n",
      "coarse_dendrite_filter_global:True\n",
      "coarse_dendrite_axon_width_min_global:300\n",
      "coarse_dendrite_synapse_post_perc_min_global:0.75\n",
      "coarse_dendrite_n_synapses_post_min_global:20\n",
      "coarse_dendrite_n_spines_min_global:10\n",
      "coarse_dendrtie_spine_density_global:0.00015\n",
      "synapse_post_perc_downstream_min_dendr_on_axon_global:0.9\n",
      "n_synapses_pre_downstream_max_dendr_on_axon_global:3\n",
      "filter_away_spiney_branches_dendr_on_axon_global:False\n",
      "n_synapses_post_spine_max_dendr_on_axon_global:4\n",
      "spine_density_max_dendr_on_axon_global:0.00015\n",
      "max_ais_distance_from_soma:50000\n",
      "width_global_min_threshold_parent_short_thick:40\n",
      "\n",
      "params_to_find = ['align_neuron_obj' 'unalign_neuron_obj']\n",
      "--Working on module branch_attr_utils--\n",
      "Accomplished import\n",
      "---param_dict before obj namepsace---\n",
      "\n",
      "params_to_find = []\n",
      "--Working on module branch_utils--\n",
      "Accomplished import\n",
      "---param_dict before obj namepsace---\n",
      "offset_skeleton_vector_global:500\n",
      "comparison_distance_skeleton_vector_global:3000\n",
      "\n",
      "params_to_find = []\n",
      "--Working on module cell_type_conv_utils--\n",
      "Accomplished import\n",
      "---param_dict before obj namepsace---\n",
      "\n",
      "params_to_find = []\n",
      "--Working on module cell_type_utils--\n",
      "Accomplished import\n",
      "---param_dict before obj namepsace---\n",
      "lower_width_bound_spine_global:140\n",
      "upper_width_bound_spine_global:520\n",
      "apply_hand_made_low_rules_global:False\n",
      "skeletal_length_processed_syn_min_global:15000\n",
      "skeletal_length_processed_spine_min_global:15000\n",
      "inhibitory_syn_density_shaft_min_global:0.4\n",
      "spine_threshold_syn_density_global:-1\n",
      "skeletal_length_threshold_syn_density_global:5000\n",
      "upper_width_bound_syn_density_global:10000\n",
      "\n",
      "params_to_find = []\n",
      "--Working on module classification_utils--\n",
      "Accomplished import\n",
      "---param_dict before obj namepsace---\n",
      "non_ais_width_axon_global:200\n",
      "ais_width_axon_global:600\n",
      "max_n_spines_axon_global:7\n",
      "max_spine_density_axon_global:8e-05\n",
      "\n",
      "params_to_find = ['vdi']\n",
      "--Working on module concept_network_utils--\n",
      "Accomplished import\n",
      "---param_dict before obj namepsace---\n",
      "\n",
      "params_to_find = []\n",
      "--Working on module connectome_analysis_utils--\n",
      "Accomplished import\n",
      "---param_dict before obj namepsace---\n",
      "\n",
      "params_to_find = []\n",
      "--Working on module connectome_query_utils--\n",
      "Accomplished import\n",
      "---param_dict before obj namepsace---\n",
      "\n",
      "params_to_find = ['vdi']\n",
      "--Working on module connectome_utils--\n",
      "Accomplished import\n",
      "---param_dict before obj namepsace---\n",
      "\n",
      "params_to_find = ['vdi']\n",
      "--Working on module datajoint_motifs--\n",
      "Accomplished import\n",
      "---param_dict before obj namepsace---\n",
      "\n",
      "params_to_find = []\n",
      "--Working on module error_detection--\n",
      "Accomplished import\n",
      "---param_dict before obj namepsace---\n",
      "double_back_threshold_axon_thick_inh_global:135\n",
      "double_back_threshold_axon_thin_inh_global:140\n",
      "min_upstream_skeletal_distance_global:500\n",
      "min_distance_from_soma_for_proof_global:10000\n",
      "min_degree_to_resolve_global:3\n",
      "max_degree_to_resolve_absolute_global:1000\n",
      "max_degree_to_resolve_global:1000\n",
      "max_degree_to_resolve_wide_global:1000\n",
      "max_degree_to_resolve_width_threshold_global:200\n",
      "width_min_global:35\n",
      "width_max_global:170\n",
      "upstream_width_max_global:None\n",
      "axon_dependent_global:True\n",
      "skip_distance_poly_x_global:(80, 200)\n",
      "skip_distance_poly_y_global:(1500, 2000)\n",
      "offset_high_d_match_global:1000\n",
      "comparison_distance_high_d_match_global:2000\n",
      "worst_case_sk_angle_match_threshold_high_d_match_global:65\n",
      "width_diff_max_high_d_match_global:75\n",
      "width_diff_perc_high_d_match_global:0.6\n",
      "perform_synapse_filter_high_d_match_global:True\n",
      "synapse_density_diff_threshold_high_d_match_global:0.00015\n",
      "n_synapses_diff_threshold_high_d_match_global:6\n",
      "sk_angle_match_threshold_high_d_match_global:45\n",
      "sk_angle_buffer_high_d_match_global:25\n",
      "width_diff_perc_threshold_high_d_match_global:0.15\n",
      "width_diff_perc_buffer_high_d_match_global:0.3\n",
      "kiss_check_high_d_match_global:False\n",
      "kiss_check_bbox_longest_side_threshold_high_d_match_global:450\n",
      "match_method_high_d_match_global:all_error_if_not_one_match\n",
      "use_exclusive_partner_high_d_match_global:True\n",
      "use_high_degree_false_positive_filter_global:True\n",
      "width_min_high_degree_false_positive_global:250\n",
      "sibling_skeletal_angle_max_high_degree_false_positive_global:110\n",
      "skip_distance_low_d_match_global:0\n",
      "min_upstream_skeletal_distance_low_d_match_global:2000\n",
      "min_degree_to_resolve_low_d_match_global:2\n",
      "max_degree_to_resolve_wide_low_d_match_global:3\n",
      "max_degree_to_resolve_absolute_low_d_match_global:1000\n",
      "max_degree_to_resolve_low_d_match_global:3\n",
      "width_max_low_d_match_global:170\n",
      "upstream_width_max_low_d_match_global:None\n",
      "offset_low_d_match_global:1000\n",
      "comparison_distance_low_d_match_global:2000\n",
      "worst_case_sk_angle_match_threshold_low_d_match_global:65\n",
      "width_diff_max_low_d_match_global:75\n",
      "width_diff_perc_low_d_match_global:0.6\n",
      "perform_synapse_filter_low_d_match_global:True\n",
      "synapse_density_diff_threshold_low_d_match_global:0.00015\n",
      "n_synapses_diff_threshold_low_d_match_global:6\n",
      "width_max_dendr_restr_global:500\n",
      "width_max_dendr_double_back_restr_global:500\n",
      "upstream_skeletal_length_min_dendr_restr_global:5000\n",
      "upstream_skeletal_length_min_width_j_dendr_global:5000\n",
      "branch_skeletal_length_min_width_j_dendr_global:7000\n",
      "upstream_skeletal_length_min_for_min_width_j_dendr_global:4000\n",
      "width_jump_max_width_j_dendr_global:200\n",
      "upstream_skeletal_length_min_width_j_axon_global:5000\n",
      "branch_skeletal_length_min_width_j_axon_global:8000\n",
      "upstream_skeletal_length_min_for_min_width_j_axon_global:4000\n",
      "width_jump_max_width_j_axon_global:55\n",
      "axon_width_threshold_max_width_j_axon_global:100\n",
      "double_back_threshold_double_b_dendrite_global:120\n",
      "comparison_distance_double_b_dendrite_global:3000\n",
      "offset_double_b_dendrite_global:0\n",
      "branch_skeletal_length_min_double_b_dendrite_global:7000\n",
      "apply_width_filter_global:True\n",
      "best_match_width_diff_max_global:75\n",
      "best_match_width_diff_max_perc_global:0.6\n",
      "best_match_width_diff_min_global:0.25\n",
      "no_non_cut_disconnected_comps_global:True\n",
      "best_singular_match_global:True\n",
      "lowest_angle_sum_for_pairs_global:False\n",
      "skip_distance_high_degree_dendr_global:1200\n",
      "width_max_high_degree_dendr_global:300\n",
      "upstream_width_max_high_degree_dendr_global:300\n",
      "offset_high_degree_dendr_global:1500\n",
      "comparison_distance_high_degree_dendr_global:3000\n",
      "width_diff_max_high_degree_dendr_global:150\n",
      "perform_synapse_filter_high_degree_dendr_global:False\n",
      "width_diff_perc_threshold_high_d_match_dendr_global:0.15\n",
      "width_diff_perc_buffer_high_d_match_dendr_global:0.2\n",
      "use_high_degree_false_positive_filter_dendr_global:False\n",
      "min_skeletal_length_endpoints_high_degree_dendr_global:8000\n",
      "min_distance_from_soma_mesh_high_degree_dendr_global:7000\n",
      "double_back_threshold_axon_thick:120\n",
      "double_back_threshold_axon_thin:127\n",
      "\n",
      "params_to_find = []\n",
      "--Working on module functional_tuning_utils--\n",
      "Accomplished import\n",
      "---param_dict before obj namepsace---\n",
      "\n",
      "params_to_find = []\n",
      "--Working on module gnn_embedding_utils--\n",
      "Failed import: No module named 'torch' \n",
      "--Working on module graph_filters--\n",
      "Accomplished import\n",
      "---param_dict before obj namepsace---\n",
      "child_width_maximum_ax_web_ax_web_global:75\n",
      "parent_width_maximum_ax_web_global:75\n",
      "child_skeletal_threshold_ax_web_global:3000\n",
      "child_skeletal_threshold_total_ax_web_global:10000\n",
      "child_angle_max_ax_web_global:40\n",
      "web_size_threshold_ax_web_global:120\n",
      "web_size_type_ax_web_global:ray_trace_median\n",
      "web_above_threshold_ax_web_global:True\n",
      "parent_width_maximum_thick_t_global:70\n",
      "min_child_width_max_thick_t_global:78\n",
      "child_skeletal_threshold_thick_t_global:3000\n",
      "child_skeletal_threshold_total_thick_t_global:10000\n",
      "child_angle_max_thick_t_global:40\n",
      "branch_skeletal_length_min_ax_double_b_global:2000\n",
      "total_downstream_skeleton_length_threshold_ax_double_b_global:2000\n",
      "upstream_skeletal_length_min_ax_double_b_global:5000\n",
      "axon_width_threshold_thin_ax_double_b_global:180\n",
      "axon_width_threshold_thick_ax_double_b_global:180\n",
      "downstream_width_max_fork_div_global:90\n",
      "upstream_width_max_fork_div_global:90\n",
      "total_downstream_skeleton_length_threshold_fork_div_global:4000\n",
      "individual_branch_length_threshold_fork_div_global:3000\n",
      "divergence_threshold_mean_fork_div_global:160\n",
      "comparison_distance_fork_div_global:400\n",
      "downstream_width_max_fork_min_dist_global:90\n",
      "upstream_width_max_fork_min_dist_global:145\n",
      "total_downstream_skeleton_length_threshold_fork_min_dist_global:4000\n",
      "individual_branch_length_threshold_fork_min_dist_global:4000\n",
      "min_distance_threshold_fork_min_dist_global:550\n",
      "upstream_width_threshold_ax_spine_at_inters_global:110\n",
      "downstream_width_threshold_ax_spine_at_inters_global:150\n",
      "child_skeletal_threshold_total_ax_spine_at_inters_global:10000\n",
      "upstream_width_threshold_min_syn_dist_global:110\n",
      "downstream_width_threshold_min_syn_dist_global:150\n",
      "min_synape_dist_min_syn_dist_global:1300\n",
      "branch_skeletal_length_min_double_b_axon_inh_global:2000\n",
      "total_downstream_skeleton_length_threshold_double_b_axon_inh_global:2000\n",
      "upstream_skeletal_length_min_double_b_axon_inh_global:5000\n",
      "axon_width_threshold_thin_double_b_axon_inh_global:180\n",
      "axon_width_threshold_thick_double_b_axon_inh_global:180\n",
      "attempt_upstream_pair_singular_double_b_axon_inh_global:True\n",
      "\n",
      "params_to_find = ['default_low_degree_graph_filters']\n",
      "--Working on module h01_volume_utils--\n",
      "Accomplished import\n",
      "---param_dict before obj namepsace---\n",
      "\n",
      "params_to_find = []\n",
      "--Working on module limb_utils--\n",
      "Accomplished import\n",
      "---param_dict before obj namepsace---\n",
      "\n",
      "params_to_find = []\n",
      "--Working on module microns_graph_query_utils--\n",
      "Accomplished import\n",
      "---param_dict before obj namepsace---\n",
      "\n",
      "params_to_find = []\n",
      "--Working on module microns_volume_utils--\n",
      "Accomplished import\n",
      "---param_dict before obj namepsace---\n",
      "\n",
      "params_to_find = []\n",
      "--Working on module motif_null_utils--\n",
      "Accomplished import\n",
      "---param_dict before obj namepsace---\n",
      "\n",
      "params_to_find = []\n",
      "--Working on module motif_utils--\n",
      "Accomplished import\n",
      "---param_dict before obj namepsace---\n",
      "\n",
      "params_to_find = ['vdi']\n",
      "--Working on module nature_paper_plotting--\n",
      "Accomplished import\n",
      "---param_dict before obj namepsace---\n",
      "\n",
      "params_to_find = []\n",
      "--Working on module neuron--\n",
      "Accomplished import\n",
      "---param_dict before obj namepsace---\n",
      "\n",
      "params_to_find = []\n",
      "--Working on module neuron_geometry_utils--\n",
      "Accomplished import\n",
      "---param_dict before obj namepsace---\n",
      "\n",
      "params_to_find = ['vdi' 'voxel_to_nm_scaling']\n",
      "--Working on module neuron_searching--\n",
      "Accomplished import\n",
      "---param_dict before obj namepsace---\n",
      "\n",
      "params_to_find = []\n",
      "--Working on module neuron_simplification--\n",
      "Accomplished import\n",
      "---param_dict before obj namepsace---\n",
      "\n",
      "params_to_find = []\n",
      "--Working on module neuron_statistics--\n",
      "Accomplished import\n",
      "---param_dict before obj namepsace---\n",
      "\n",
      "params_to_find = ['voxel_to_nm_scaling']\n",
      "--Working on module neuron_utils--\n",
      "Accomplished import\n",
      "---param_dict before obj namepsace---\n",
      "skeletal_length_max_n_spines_global:3000\n",
      "\n",
      "params_to_find = ['voxel_to_nm_scaling']\n",
      "--Working on module neuron_visualizations--\n",
      "Accomplished import\n",
      "---param_dict before obj namepsace---\n",
      "\n",
      "params_to_find = []\n",
      "--Working on module parameter_utils--\n",
      "Accomplished import\n",
      "---param_dict before obj namepsace---\n",
      "\n",
      "params_to_find = []\n",
      "--Working on module preprocessing_vp2--\n",
      "Accomplished import\n",
      "---param_dict before obj namepsace---\n",
      "combine_close_skeleton_nodes_threshold_meshparty_axon_global:1300\n",
      "filter_end_node_length_meshparty_axon_global:1150\n",
      "filter_end_node_length_axon_global:1150\n",
      "invalidation_d_axon_global:1500\n",
      "smooth_neighborhood_axon_global:0\n",
      "meshparty_segment_size_axon_global:100\n",
      "stitch_floating_axon_pieces_global:True\n",
      "max_stitch_distance_high_fid_axon_global:5000\n",
      "floating_piece_face_threshold_high_fid_axon_global:50\n",
      "width_threshold_MAP_global:500\n",
      "size_threshold_MAP_global:2000\n",
      "size_threshold_MAP_stitch_global:2000\n",
      "apply_expansion_global:False\n",
      "max_stitch_distance_global:8000\n",
      "max_stitch_distance_CGAL_global:5000\n",
      "filter_end_node_length_global:4000\n",
      "use_adaptive_invalidation_d_global:False\n",
      "use_adaptive_invalidation_d_floating_global:True\n",
      "axon_width_preprocess_limb_max_global:200\n",
      "limb_remove_mesh_interior_face_threshold_global:0\n",
      "surface_reconstruction_size_global:1000\n",
      "floating_piece_face_threshold_global:50\n",
      "invalidation_d_global:12000\n",
      "remove_mesh_interior_face_threshold_global:0\n",
      "\n",
      "params_to_find = []\n",
      "--Working on module preprocess_neuron--\n",
      "Accomplished import\n",
      "---param_dict before obj namepsace---\n",
      "\n",
      "params_to_find = []\n",
      "--Working on module proofreading_utils--\n",
      "Accomplished import\n",
      "---param_dict before obj namepsace---\n",
      "width_max_high_low_degree_inh_global:140\n",
      "upstream_width_max_high_low_degree_inh_global:180\n",
      "max_degree_to_resolve_absolute_low_degree_inh_global:5\n",
      "width_max_high_high_degree_inh_dendr_global:500\n",
      "upstream_width_max_high_high_degree_inh_dendr_global:500\n",
      "dendrite_branching_filters_global:False\n",
      "dendrite_branching_filters_inh_global:False\n",
      "double_back_threshold_inh_double_b_global:None\n",
      "max_skeletal_length_low_branch_clusters_dendrite_global:8000\n",
      "min_n_nodes_in_cluster_low_branch_clusters_dendrite_global:16\n",
      "max_skeletal_length_low_branch_clusters_axon_global:8000\n",
      "min_n_nodes_in_cluster_low_branch_clusters_axon_global:16\n",
      "skeletal_distance_from_soma_min_axon_global:10000\n",
      "n_red_points_red_blue_global:3\n",
      "include_one_hop_downstream_error_branches_red_blue_global:True\n",
      "one_hop_downstream_error_branches_max_distance_red_blue_global:4000\n",
      "offset_distance_for_points_valid_red_blue_global:3000\n",
      "offset_distance_for_points_error_red_blue_global:3000\n",
      "n_points_red_blue_global:1\n",
      "n_blue_points_red_blue_global:2\n",
      "red_blue_points_method_red_blue_global:closest_mesh_face\n",
      "pair_conn_comp_by_common_upstream_red_blue_global:True\n",
      "pair_conn_comp_errors_red_blue_global:True\n",
      "group_all_conn_comp_together_red_blue_global:False\n",
      "only_outermost_branches_red_blue_global:True\n",
      "min_error_downstream_length_total_red_blue_global:5000\n",
      "split_red_blue_by_common_upstream_red_blue_global:True\n",
      "use_undirected_graph_red_blue_global:False\n",
      "avoid_one_red_or_blue_red_blue_global:True\n",
      "min_cancel_distance_absolute_red_blue_global:1000\n",
      "remove_segment_threshold_global:1500\n",
      "remove_segment_threshold_round_2_global:2500\n",
      "consider_path_neighbors_for_removal_global:True\n",
      "offset_high_degree_global:2000\n",
      "comparison_distance_high_degree_global:2000\n",
      "match_threshold_high_degree_global:65\n",
      "skip_small_soma_connectors_global:True\n",
      "small_soma_connectors_skeletal_threshold_global:2500\n",
      "double_back_threshold_global:80\n",
      "offset_double_back_global:1000\n",
      "comparison_distance_double_back_global:6000\n",
      "width_jump_threshold_global:200\n",
      "simple_path_of_2_cut_global:False\n",
      "apply_double_back_first_global:True\n",
      "double_back_threshold_at_first_global:110\n",
      "min_skeletal_length_limb_global:15000\n",
      "\n",
      "params_to_find = ['exc_filters_auto_proof' 'inh_filters_auto_proof' 'vdi']\n",
      "--Working on module proximity_analysis_utils--\n",
      "Accomplished import\n",
      "---param_dict before obj namepsace---\n",
      "\n",
      "params_to_find = ['vdi' 'voxel_to_nm_scaling']\n",
      "--Working on module proximity_utils--\n",
      "Accomplished import\n",
      "---param_dict before obj namepsace---\n",
      "\n",
      "params_to_find = ['vdi' 'voxel_to_nm_scaling']\n",
      "--Working on module soma_extraction_utils--\n",
      "Accomplished import\n",
      "---param_dict before obj namepsace---\n",
      "glia_volume_threshold_in_um_global:2500\n",
      "glia_n_faces_threshold_global:400000\n",
      "glia_n_faces_min_global:100000\n",
      "nucleus_min_global:700\n",
      "nucleus_max_global:None\n",
      "outer_decimation_ratio_global:0.25\n",
      "large_mesh_threshold_global:20000\n",
      "large_mesh_threshold_inner_global:13000\n",
      "inner_decimation_ratio_global:0.25\n",
      "max_fail_loops_global:10\n",
      "remove_inside_pieces_global:True\n",
      "size_threshold_to_remove_global:1000\n",
      "pymeshfix_clean_global:False\n",
      "check_holes_before_pymeshfix_global:False\n",
      "second_poisson_global:False\n",
      "soma_width_threshold_global:0.32\n",
      "soma_size_threshold_global:9000\n",
      "soma_size_threshold_max_global:1200000\n",
      "volume_mulitplier_global:8\n",
      "side_length_ratio_threshold_global:6\n",
      "perform_pairing_global:False\n",
      "backtrack_soma_mesh_to_original_global:True\n",
      "backtrack_soma_size_threshold_global:8000\n",
      "poisson_backtrack_distance_threshold_global:None\n",
      "close_holes_global:False\n",
      "boundary_vertices_threshold_global:None\n",
      "last_size_threshold_global:2000\n",
      "segmentation_at_end_global:True\n",
      "largest_hole_threshold_global:17000\n",
      "second_pass_size_threshold_global:None\n",
      "\n",
      "params_to_find = []\n",
      "--Working on module soma_splitting_utils--\n",
      "Accomplished import\n",
      "---param_dict before obj namepsace---\n",
      "\n",
      "params_to_find = []\n",
      "--Working on module spine_utils--\n",
      "Accomplished import\n",
      "---param_dict before obj namepsace---\n",
      "head_smoothness_global:0.09\n",
      "head_ray_trace_min_global:240\n",
      "head_face_min_global:10\n",
      "only_allow_one_connected_component_neck_global:False\n",
      "query_global:median_mesh_center > 115 and n_faces_branch>100\n",
      "calculate_spine_volume_global:True\n",
      "clusters_threshold_global:5\n",
      "smoothness_threshold_global:0.08\n",
      "shaft_close_hole_area_top_2_mean_max_global:110000\n",
      "shaft_mesh_volume_max_global:300000000.0\n",
      "shaft_mesh_n_faces_min_global:10\n",
      "shaft_threshold_global:300\n",
      "spine_n_face_threshold_bare_min_global:6\n",
      "spine_sk_length_threshold_bare_min_global:306.6\n",
      "filter_by_volume_threshold_bare_min_global:900496.186\n",
      "bbox_oriented_side_max_min_bare_min_global:300\n",
      "spine_volume_to_spine_area_min_bare_min_global:0.008\n",
      "sdf_mean_min_bare_min_global:0\n",
      "spine_n_face_threshold_global:25\n",
      "spine_sk_length_threshold_global:1000\n",
      "filter_by_bounding_box_longest_side_length_global:True\n",
      "side_length_threshold_global:5000\n",
      "filter_out_border_spines_global:False\n",
      "skeleton_endpoint_nullification_global:True\n",
      "skeleton_endpoint_nullification_distance_global:2000\n",
      "soma_vertex_nullification_global:True\n",
      "border_percentage_threshold_global:0.3\n",
      "check_spine_border_perc_global:0.4\n",
      "filter_by_volume_global:True\n",
      "filter_by_volume_threshold_global:19835293\n",
      "\n",
      "params_to_find = []\n",
      "--Working on module synapse_utils--\n",
      "Accomplished import\n",
      "---param_dict before obj namepsace---\n",
      "\n",
      "params_to_find = ['vdi' 'voxel_to_nm_scaling']\n",
      "--Working on module vdi_default--\n",
      "Accomplished import\n",
      "---param_dict before obj namepsace---\n",
      "\n",
      "params_to_find = []\n",
      "--Working on module vdi_h01--\n",
      "Accomplished import\n",
      "---param_dict before obj namepsace---\n",
      "\n",
      "params_to_find = []\n",
      "--Working on module vdi_microns--\n",
      "Accomplished import\n",
      "---param_dict before obj namepsace---\n",
      "\n",
      "params_to_find = []\n",
      "--Working on module volume_utils--\n",
      "Accomplished import\n",
      "---param_dict before obj namepsace---\n",
      "\n",
      "params_to_find = []\n",
      "--Working on module whole_neuron_classifier_datajoint_adapted--\n",
      "Accomplished import\n",
      "---param_dict before obj namepsace---\n",
      "\n",
      "params_to_find = []\n",
      "--Working on module width_utils--\n",
      "Accomplished import\n",
      "---param_dict before obj namepsace---\n",
      "\n",
      "params_to_find = []\n"
     ]
    }
   ],
   "source": [
    "paru.set_parameters_for_directory_modules_from_obj(\n",
    "    vdi,\n",
    "    directory = \"../../neurd/\",\n",
    "    verbose_loop=True,\n",
    "    verbose_param=True,\n",
    "    error_on_no_attr=True\n",
    ")"
   ]
  },
  {
   "cell_type": "code",
   "execution_count": null,
   "id": "c405b6e0",
   "metadata": {},
   "outputs": [],
   "source": [
    "obj.module_attr_map(\n",
    "    \"soma_extraction_utils\"\n",
    ")"
   ]
  },
  {
   "cell_type": "code",
   "execution_count": null,
   "id": "8a4d6824",
   "metadata": {},
   "outputs": [],
   "source": [
    "\"\"\"\n",
    "Behind the scenes workflow:\n",
    "\n",
    "1) Module request parameters\n",
    "2) parameter_obj generates list of parameters settings (dict)\n",
    "3) setattr of module with parameter setting dict\n",
    "\n",
    "\"\"\""
   ]
  },
  {
   "cell_type": "code",
   "execution_count": null,
   "id": "fa73255c",
   "metadata": {},
   "outputs": [],
   "source": [
    "paru.parameter_list_from_module(\n",
    "    sm\n",
    ")"
   ]
  },
  {
   "cell_type": "markdown",
   "id": "043a7f38",
   "metadata": {},
   "source": [
    "# Volume Data Interface"
   ]
  },
  {
   "cell_type": "code",
   "execution_count": 24,
   "id": "d04d9c4f",
   "metadata": {},
   "outputs": [],
   "source": [
    "from neurd.vdi_microns import volume_data_interface as vdi\n",
    "vdi.set_parameters_for_directory_modules()"
   ]
  },
  {
   "cell_type": "markdown",
   "id": "9344ef0b",
   "metadata": {},
   "source": [
    "# Output Storage"
   ]
  },
  {
   "cell_type": "code",
   "execution_count": 26,
   "id": "668e3d4a",
   "metadata": {},
   "outputs": [],
   "source": [
    "from python_tools import pipeline"
   ]
  },
  {
   "cell_type": "code",
   "execution_count": 27,
   "id": "626c212a",
   "metadata": {},
   "outputs": [
    {
     "data": {
      "text/plain": [
       "<python_tools.pipeline.PipelineProducts at 0x7f4a311388e0>"
      ]
     },
     "execution_count": 27,
     "metadata": {},
     "output_type": "execute_result"
    }
   ],
   "source": [
    "p_obj = pipeline.PipelineProducts(\n",
    "    {\"decimation\":{\n",
    "        'decimation_ratio':0.25,\n",
    "        'mesh_original':None\n",
    "        },\n",
    "     'soma_identification':{\n",
    "         'number_of_somas':2,\n",
    "     }\n",
    "    }\n",
    ")\n",
    "\n",
    "p_obj"
   ]
  },
  {
   "cell_type": "code",
   "execution_count": 28,
   "id": "d1419bbb",
   "metadata": {},
   "outputs": [
    {
     "name": "stdout",
     "output_type": "stream",
     "text": [
      "{\n",
      "  'decimation':\n",
      "  {\n",
      "    'decimation_ratio':0.25,\n",
      "    'mesh_original':None,\n",
      "  },\n",
      "  'soma_identification':\n",
      "  {\n",
      "    'number_of_somas':2,\n",
      "  },\n",
      "}\n",
      "\n"
     ]
    }
   ],
   "source": [
    "print(p_obj)"
   ]
  },
  {
   "cell_type": "code",
   "execution_count": 35,
   "id": "08a9d6d9",
   "metadata": {},
   "outputs": [
    {
     "name": "stdout",
     "output_type": "stream",
     "text": [
      "    decimation_ratio:0.25\n",
      "    mesh_original:None\n",
      "\n"
     ]
    }
   ],
   "source": [
    "print(p_obj['decimation'])#['decimation_ratio']"
   ]
  },
  {
   "cell_type": "markdown",
   "id": "69d7b5d6",
   "metadata": {},
   "source": [
    "# Using Neurd"
   ]
  },
  {
   "cell_type": "code",
   "execution_count": 36,
   "id": "71016491",
   "metadata": {},
   "outputs": [],
   "source": [
    "import neurd"
   ]
  },
  {
   "cell_type": "code",
   "execution_count": 39,
   "id": "c2fa72fb",
   "metadata": {},
   "outputs": [],
   "source": [
    "from neurd.vdi_microns import volume_data_interface as vdi\n",
    "vdi.set_parameters_for_directory_modules()"
   ]
  },
  {
   "cell_type": "markdown",
   "id": "d269c7e6",
   "metadata": {},
   "source": [
    "# Data Prep: Loading mesh"
   ]
  },
  {
   "cell_type": "code",
   "execution_count": 40,
   "id": "5a7c46a3",
   "metadata": {},
   "outputs": [],
   "source": [
    "segment_id = 123"
   ]
  },
  {
   "cell_type": "code",
   "execution_count": 41,
   "id": "a95fe39b",
   "metadata": {},
   "outputs": [
    {
     "name": "stderr",
     "output_type": "stream",
     "text": [
      "/usr/local/lib/python3.8/dist-packages/traittypes/traittypes.py:97: UserWarning: Given trait value dtype \"float64\" does not match required type \"float64\". A coerced copy has been created.\n",
      "  warnings.warn(\n"
     ]
    },
    {
     "data": {
      "application/vnd.jupyter.widget-view+json": {
       "model_id": "fceb2582346f448697ab4ec8c881be7d",
       "version_major": 2,
       "version_minor": 0
      },
      "text/plain": [
       "Container(figure=Figure(box_center=[0.5, 0.5, 0.5], box_size=[1.0, 1.0, 1.0], camera=PerspectiveCamera(fov=45.…"
      ]
     },
     "metadata": {},
     "output_type": "display_data"
    },
    {
     "data": {
      "text/plain": [
       "<trimesh.Trimesh(vertices.shape=(154713, 3), faces.shape=(323535, 3))>"
      ]
     },
     "execution_count": 41,
     "metadata": {},
     "output_type": "execute_result"
    }
   ],
   "source": [
    "mesh = vdi.fetch_segment_id_mesh(\n",
    "    segment_id,\n",
    "    meshes_folder=\"../autoproof_neuron_pipeline/\",\n",
    "    ext=\"off\",\n",
    "    plot = True,\n",
    ")\n",
    "mesh"
   ]
  },
  {
   "cell_type": "code",
   "execution_count": 42,
   "id": "f9908ef9",
   "metadata": {},
   "outputs": [
    {
     "data": {
      "text/plain": [
       "<python_tools.pipeline.PipelineProducts at 0x7f4a2987b4f0>"
      ]
     },
     "execution_count": 42,
     "metadata": {},
     "output_type": "execute_result"
    }
   ],
   "source": [
    "from python_tools import pipeline\n",
    "\n",
    "products = pipeline.PipelineProducts()\n",
    "products"
   ]
  },
  {
   "cell_type": "markdown",
   "id": "e096212d",
   "metadata": {},
   "source": [
    "# Step 1: Decimation"
   ]
  },
  {
   "cell_type": "code",
   "execution_count": 43,
   "id": "9586061e",
   "metadata": {},
   "outputs": [],
   "source": [
    "from mesh_tools import trimesh_utils as tu"
   ]
  },
  {
   "cell_type": "code",
   "execution_count": 44,
   "id": "6e07771d",
   "metadata": {},
   "outputs": [],
   "source": [
    "decimation_parameters = dict(\n",
    "    decimation_ratio =0.25,\n",
    ")"
   ]
  },
  {
   "cell_type": "code",
   "execution_count": 45,
   "id": "a99d76f1",
   "metadata": {},
   "outputs": [
    {
     "name": "stdout",
     "output_type": "stream",
     "text": [
      "xvfb-run -n 2256 -s \"-screen 0 800x600x24\" meshlabserver $@  -i /neurd_packages/NEURD/Applications/Tutorial/temp/neuron_27529.off -o /neurd_packages/NEURD/Applications/Tutorial/temp/neuron_27529_decimated.off -s /neurd_packages/NEURD/Applications/Tutorial/temp/decimation_meshlab_25640798.mls\n"
     ]
    }
   ],
   "source": [
    "mesh_decimated = tu.decimate(\n",
    "    mesh,\n",
    "    **decimation_parameters\n",
    ")"
   ]
  },
  {
   "cell_type": "code",
   "execution_count": 46,
   "id": "4c6bf3fb",
   "metadata": {},
   "outputs": [
    {
     "data": {
      "text/plain": [
       "(<trimesh.Trimesh(vertices.shape=(154713, 3), faces.shape=(323535, 3))>,\n",
       " <trimesh.Trimesh(vertices.shape=(33683, 3), faces.shape=(80883, 3))>)"
      ]
     },
     "execution_count": 46,
     "metadata": {},
     "output_type": "execute_result"
    }
   ],
   "source": [
    "mesh,mesh_decimated"
   ]
  },
  {
   "cell_type": "code",
   "execution_count": 49,
   "id": "a3fbd132",
   "metadata": {},
   "outputs": [
    {
     "name": "stdout",
     "output_type": "stream",
     "text": [
      "{\n",
      "  'decimation':\n",
      "  {\n",
      "    'decimation_parameters':\n",
      "    {\n",
      "      'decimation_ratio':0.25,\n",
      "    },\n",
      "    'original_mesh':<trimesh.Trimesh(vertices.shape=(154713, 3), faces.shape=(323535, 3))>,\n",
      "  },\n",
      "}\n",
      "\n"
     ]
    }
   ],
   "source": [
    "products.set_stage_attrs(\n",
    "    stage = \"decimation\",\n",
    "    attr_dict = dict(\n",
    "        decimation_parameters = decimation_parameters,\n",
    "        original_mesh = mesh,\n",
    "    ),\n",
    "    \n",
    ")\n",
    "\n",
    "print(products)"
   ]
  },
  {
   "cell_type": "markdown",
   "id": "f9528e82",
   "metadata": {},
   "source": [
    "# Step 2: Soma Identification"
   ]
  },
  {
   "cell_type": "code",
   "execution_count": 50,
   "id": "44dc16b1",
   "metadata": {},
   "outputs": [],
   "source": [
    "from neurd import soma_extraction_utils as sm"
   ]
  },
  {
   "cell_type": "code",
   "execution_count": 51,
   "id": "ec96764f",
   "metadata": {},
   "outputs": [],
   "source": [
    "soma_extraction_parameters = dict()"
   ]
  },
  {
   "cell_type": "code",
   "execution_count": 52,
   "id": "dea181a8",
   "metadata": {},
   "outputs": [
    {
     "data": {
      "text/plain": [
       "{'glia_volume_threshold_in_um_global': 2500,\n",
       " 'glia_n_faces_threshold_global': 400000,\n",
       " 'glia_n_faces_min_global': 100000}"
      ]
     },
     "execution_count": 52,
     "metadata": {},
     "output_type": "execute_result"
    }
   ],
   "source": [
    "#optional\n",
    "\n",
    "from neurd import parameter_utils as paru\n",
    "paru.category_param_from_module(\n",
    "        module = sm,\n",
    "        category = \"glia\",\n",
    ")"
   ]
  },
  {
   "cell_type": "code",
   "execution_count": 53,
   "id": "97a2f07b",
   "metadata": {
    "scrolled": true
   },
   "outputs": [
    {
     "name": "stdout",
     "output_type": "stream",
     "text": [
      "Current Arguments Using (adjusted for decimation):\n",
      " large_mesh_threshold= 5000.0 \n",
      "large_mesh_threshold_inner = 3250.0 \n",
      "soma_size_threshold = 562.5 \n",
      "soma_size_threshold_max = 75000.0\n",
      "outer_decimation_ratio = 0.25\n",
      "inner_decimation_ratio = 0.25\n",
      "max_mesh_sized_filtered_away = 22500.0\n",
      "xvfb-run -n 8225 -s \"-screen 0 800x600x24\" meshlabserver $@  -i /neurd_packages/NEURD/Applications/Tutorial/temp/neuron_66751.off -o /neurd_packages/NEURD/Applications/Tutorial/temp/neuron_66751_remove_interior.off -s /neurd_packages/NEURD/Applications/Tutorial/temp/remove_interior_930915.mls\n",
      "removed temporary input file: /neurd_packages/NEURD/Applications/Tutorial/temp/neuron_66751.off\n",
      "removed temporary output file: /neurd_packages/NEURD/Applications/Tutorial/temp/neuron_66751_remove_interior.off\n",
      "/neurd_packages/NEURD/Applications/Tutorial/temp/remove_interior_930915.mls is being deleted....\n",
      "There were 16 total interior meshes\n",
      "Pieces satisfying glia requirements (volume) (x >= 2500000000000): 0\n",
      "Pieces satisfying nuclie requirements: n_faces (700 <= x) and volume (x < 2500000000000) : 16\n",
      "inside remove_mesh_interior and using precomputed inside_pieces\n",
      "Removing the following inside neurons: [<trimesh.Trimesh(vertices.shape=(6494, 3), faces.shape=(15575, 3))>, <trimesh.Trimesh(vertices.shape=(3252, 3), faces.shape=(5804, 3))>, <trimesh.Trimesh(vertices.shape=(2064, 3), faces.shape=(4789, 3))>, <trimesh.Trimesh(vertices.shape=(2022, 3), faces.shape=(4628, 3))>, <trimesh.Trimesh(vertices.shape=(1922, 3), faces.shape=(4396, 3))>, <trimesh.Trimesh(vertices.shape=(1089, 3), faces.shape=(2556, 3))>, <trimesh.Trimesh(vertices.shape=(864, 3), faces.shape=(1989, 3))>, <trimesh.Trimesh(vertices.shape=(723, 3), faces.shape=(1611, 3))>, <trimesh.Trimesh(vertices.shape=(693, 3), faces.shape=(1561, 3))>, <trimesh.Trimesh(vertices.shape=(612, 3), faces.shape=(1378, 3))>, <trimesh.Trimesh(vertices.shape=(456, 3), faces.shape=(742, 3))>, <trimesh.Trimesh(vertices.shape=(344, 3), faces.shape=(727, 3))>]\n",
      "\n",
      "\n",
      "Original Mesh size: 323535, Final mesh size: 277773\n",
      "Total time = 19.560126781463623\n",
      "xvfb-run -n 9554 -s \"-screen 0 800x600x24\" meshlabserver $@  -i /neurd_packages/NEURD/Applications/Tutorial/12345/neuron_12345.off -o /neurd_packages/NEURD/Applications/Tutorial/12345/neuron_12345_decimated.off -s /neurd_packages/NEURD/Applications/Tutorial/12345/decimation_meshlab_25601148.mls\n",
      "Total found significant pieces before Poisson = [<trimesh.Trimesh(vertices.shape=(29969, 3), faces.shape=(56262, 3))>]\n",
      "----- working on large mesh #0: <trimesh.Trimesh(vertices.shape=(29969, 3), faces.shape=(56262, 3))>\n",
      "remove_inside_pieces requested \n",
      "xvfb-run -n 4547 -s \"-screen 0 800x600x24\" meshlabserver $@  -i /neurd_packages/NEURD/Applications/Tutorial/temp/neuron_15810.off -o /neurd_packages/NEURD/Applications/Tutorial/temp/neuron_15810_remove_interior.off -s /neurd_packages/NEURD/Applications/Tutorial/temp/remove_interior_804811.mls\n",
      "removed temporary input file: /neurd_packages/NEURD/Applications/Tutorial/temp/neuron_15810.off\n",
      "removed temporary output file: /neurd_packages/NEURD/Applications/Tutorial/temp/neuron_15810_remove_interior.off\n",
      "/neurd_packages/NEURD/Applications/Tutorial/temp/remove_interior_804811.mls is being deleted....\n",
      "No significant (1000) interior meshes present\n",
      "largest is 163\n",
      "pre_largest_mesh_path = /neurd_packages/NEURD/Applications/Tutorial/12345/neuron_12345_decimated_largest_piece.off\n",
      "xvfb-run -n 9740 -s \"-screen 0 800x600x24\" meshlabserver $@  -i /neurd_packages/NEURD/Applications/Tutorial/12345/neuron_12345_decimated_largest_piece.off -o /neurd_packages/NEURD/Applications/Tutorial/12345/neuron_12345_decimated_largest_piece_poisson.off -s /neurd_packages/NEURD/Applications/Tutorial/12345/poisson_922741.mls\n",
      "Total found significant pieces AFTER Poisson = [<trimesh.Trimesh(vertices.shape=(14489, 3), faces.shape=(28990, 3))>, <trimesh.Trimesh(vertices.shape=(10700, 3), faces.shape=(21396, 3))>]\n",
      "----- working on mesh after poisson #0: <trimesh.Trimesh(vertices.shape=(14489, 3), faces.shape=(28990, 3))>\n",
      "xvfb-run -n 7901 -s \"-screen 0 800x600x24\" meshlabserver $@  -i /neurd_packages/NEURD/Applications/Tutorial/12345/neuron_12345_decimated_largest_piece_poisson_largest_inner.off -o /neurd_packages/NEURD/Applications/Tutorial/12345/neuron_12345_decimated_largest_piece_poisson_largest_inner_decimated.off -s /neurd_packages/NEURD/Applications/Tutorial/12345/decimation_meshlab_25447430.mls\n",
      "\n",
      "-------Splits after inner decimation len = 1--------\n",
      "\n",
      "done exporting decimated mesh: neuron_12345_decimated_largest_piece_poisson_largest_inner.off\n",
      "\n",
      "    --- On segmentation loop 0 --\n",
      "largest_mesh_path_inner_decimated_clean = <trimesh.Trimesh(vertices.shape=(3614, 3), faces.shape=(7240, 3))>\n",
      "\n",
      "largest_mesh_path_inner_decimated_clean = <trimesh.Trimesh(vertices.shape=(3614, 3), faces.shape=(7240, 3))>\n",
      "soma_size_threshold = 562.5\n",
      "soma_size_threshold_max = 75000.0\n",
      "soma_width_threshold = 0.32\n",
      "\n",
      "Number of segments: 9\n",
      "\n"
     ]
    },
    {
     "data": {
      "application/vnd.jupyter.widget-view+json": {
       "model_id": "7e63c02eaee347f58a7bcf13e3d6e613",
       "version_major": 2,
       "version_minor": 0
      },
      "text/plain": [
       "  0%|          | 0/9 [00:00<?, ?it/s]"
      ]
     },
     "metadata": {},
     "output_type": "display_data"
    },
    {
     "name": "stdout",
     "output_type": "stream",
     "text": [
      "      ------ Found 1 viable somas: [0.769893]\n",
      "Using Poisson Surface Reconstruction for watertightness in soma_volume_ratio\n",
      "xvfb-run -n 893 -s \"-screen 0 800x600x24\" meshlabserver $@  -i /neurd_packages/NEURD/Applications/Tutorial/Poisson_temp/neuron_474433.off -o /neurd_packages/NEURD/Applications/Tutorial/Poisson_temp/neuron_474433_poisson.off -s /neurd_packages/NEURD/Applications/Tutorial/Poisson_temp/poisson_764298.mls\n",
      "removed temporary input file: /neurd_packages/NEURD/Applications/Tutorial/Poisson_temp/neuron_474433.off\n",
      "removed temporary output file: /neurd_packages/NEURD/Applications/Tutorial/Poisson_temp/neuron_474433_poisson.off\n",
      "mesh.is_watertight = True\n",
      "/neurd_packages/NEURD/Applications/Tutorial/Poisson_temp/poisson_764298.mls is being deleted....\n",
      "Inside sphere validater: ratio_val = 2.7266923461590085\n",
      "----- working on mesh after poisson #1: <trimesh.Trimesh(vertices.shape=(10700, 3), faces.shape=(21396, 3))>\n",
      "xvfb-run -n 9688 -s \"-screen 0 800x600x24\" meshlabserver $@  -i /neurd_packages/NEURD/Applications/Tutorial/12345/neuron_12345_decimated_largest_piece_poisson_largest_inner.off -o /neurd_packages/NEURD/Applications/Tutorial/12345/neuron_12345_decimated_largest_piece_poisson_largest_inner_decimated.off -s /neurd_packages/NEURD/Applications/Tutorial/12345/decimation_meshlab_25447430.mls\n",
      "\n",
      "-------Splits after inner decimation len = 1--------\n",
      "\n",
      "done exporting decimated mesh: neuron_12345_decimated_largest_piece_poisson_largest_inner.off\n",
      "\n",
      "    --- On segmentation loop 0 --\n",
      "largest_mesh_path_inner_decimated_clean = <trimesh.Trimesh(vertices.shape=(2671, 3), faces.shape=(5338, 3))>\n",
      "\n",
      "largest_mesh_path_inner_decimated_clean = <trimesh.Trimesh(vertices.shape=(2671, 3), faces.shape=(5338, 3))>\n",
      "soma_size_threshold = 562.5\n",
      "soma_size_threshold_max = 75000.0\n",
      "soma_width_threshold = 0.32\n",
      "\n",
      "Number of segments: 3\n",
      "\n"
     ]
    },
    {
     "data": {
      "application/vnd.jupyter.widget-view+json": {
       "model_id": "a6fd74a062684145a38b095f602c3f6c",
       "version_major": 2,
       "version_minor": 0
      },
      "text/plain": [
       "  0%|          | 0/3 [00:00<?, ?it/s]"
      ]
     },
     "metadata": {},
     "output_type": "display_data"
    },
    {
     "name": "stdout",
     "output_type": "stream",
     "text": [
      "      ------ Found 2 viable somas: [0.781901, 0.3351845]\n",
      "Using Poisson Surface Reconstruction for watertightness in soma_volume_ratio\n",
      "xvfb-run -n 3337 -s \"-screen 0 800x600x24\" meshlabserver $@  -i /neurd_packages/NEURD/Applications/Tutorial/Poisson_temp/neuron_858066.off -o /neurd_packages/NEURD/Applications/Tutorial/Poisson_temp/neuron_858066_poisson.off -s /neurd_packages/NEURD/Applications/Tutorial/Poisson_temp/poisson_834179.mls\n",
      "removed temporary input file: /neurd_packages/NEURD/Applications/Tutorial/Poisson_temp/neuron_858066.off\n",
      "removed temporary output file: /neurd_packages/NEURD/Applications/Tutorial/Poisson_temp/neuron_858066_poisson.off\n",
      "mesh.is_watertight = True\n",
      "/neurd_packages/NEURD/Applications/Tutorial/Poisson_temp/poisson_834179.mls is being deleted....\n",
      "Inside sphere validater: ratio_val = 2.130721459144365\n",
      "Using Poisson Surface Reconstruction for watertightness in soma_volume_ratio\n",
      "xvfb-run -n 8573 -s \"-screen 0 800x600x24\" meshlabserver $@  -i /neurd_packages/NEURD/Applications/Tutorial/Poisson_temp/neuron_426467.off -o /neurd_packages/NEURD/Applications/Tutorial/Poisson_temp/neuron_426467_poisson.off -s /neurd_packages/NEURD/Applications/Tutorial/Poisson_temp/poisson_207170.mls\n",
      "removed temporary input file: /neurd_packages/NEURD/Applications/Tutorial/Poisson_temp/neuron_426467.off\n",
      "removed temporary output file: /neurd_packages/NEURD/Applications/Tutorial/Poisson_temp/neuron_426467_poisson.off\n",
      "mesh.is_watertight = True\n",
      "/neurd_packages/NEURD/Applications/Tutorial/Poisson_temp/poisson_207170.mls is being deleted....\n",
      "Inside sphere validater: ratio_val = 2.4907819152454254\n",
      "\n",
      "\n",
      "\n",
      " Total time for run = 78.09381055831909\n",
      "Before Filtering the number of somas found = 3\n",
      "\n",
      "---Performing Soma Mesh Backtracking to original mesh for poisson soma 0\n",
      "backtrack_soma_size_threshold = 8000\n",
      "xvfb-run -n 6847 -s \"-screen 0 800x600x24\" meshlabserver $@  -i /neurd_packages/NEURD/Applications/Tutorial/temp/neuron_91973.off -o /neurd_packages/NEURD/Applications/Tutorial/temp/neuron_91973_fill_holes.off -s /neurd_packages/NEURD/Applications/Tutorial/temp/fill_holes_278724.mls\n",
      "\n",
      "---- meshlab output -----\n",
      "QStandardPaths: XDG_RUNTIME_DIR not set, defaulting to '/tmp/runtime-root'\n",
      "Current Plugins Dir is: /meshlab/src/distrib/plugins \n",
      "Error While parsing the XML filter plugin descriptors: We are trying to load a xml file that does not correspond to any dll or javascript code; please delete all the spurious xml files\n",
      "Error While parsing the XML filter plugin descriptors: We are trying to load a xml file that does not correspond to any dll or javascript code; please delete all the spurious xml files\n",
      "Opening a file with extention off\n",
      "FilterScript\n",
      "Reading filter with name Remove Duplicate Vertices\n",
      "Reading filter with name Remove Faces from Non Manifold Edges\n",
      "Reading filter with name Close Holes\n",
      "    Reading Param with name MaxHoleSize : RichInt\n",
      "    Reading Param with name Selected : RichBool\n",
      "    Reading Param with name NewFaceSelected : RichBool\n",
      "    Reading Param with name SelfIntersection : RichBool\n",
      "Loading Plugins:\n",
      "Total 105 filtering actions\n",
      "Total 1 io plugins\n",
      "Mesh /neurd_packages/NEURD/Applications/Tutorial/temp/neuron_91973.off loaded has 21848 vn 42079 fn\n",
      "output mesh  /neurd_packages/NEURD/Applications/Tutorial/temp/neuron_91973_fill_holes.off\n",
      "Apply FilterScript: '/neurd_packages/NEURD/Applications/Tutorial/temp/fill_holes_278724.mls'\n",
      "Starting Script of 3 actionsfilter: Remove Duplicate Vertices\n",
      "no additional memory available!!! memory required: 1029300\n",
      "LOG: 2 Removed 0 duplicated vertices\n",
      "Removed 0 duplicated vertices\n",
      "filter: Remove Faces from Non Manifold Edges\n",
      "no additional memory available!!! memory required: 1029300\n",
      "LOG: 2 Successfully removed 4223 non-manifold faces\n",
      "Removed 0 duplicated vertices\n",
      "Successfully removed 4223 non-manifold faces\n",
      "filter: Close Holes\n",
      "no additional memory available!!! memory required: 978624\n",
      "meshlabserver: ../../../../vcglib/vcg/complex/algorithms/hole.h:259: bool vcg::tri::TrivialEar<MESH>::Close(vcg::tri::TrivialEar<MESH>::PosType&, vcg::tri::TrivialEar<MESH>::PosType&, vcg::tri::TrivialEar<MESH>::FaceType*) [with MESH = CMeshO; vcg::tri::TrivialEar<MESH>::PosType = vcg::face::Pos<CFaceO>; typename MeshType::FaceType = CFaceO; vcg::tri::TrivialEar<MESH>::FaceType = CFaceO]: Assertion `e1.v->IsUserBit(NonManifoldBit())' failed.\n",
      "Aborted (core dumped)\n",
      "\n",
      "\n",
      " returncode ====== 134\n",
      "\n",
      " ------ Done with meshlab output------\n",
      "/neurd_packages/NEURD/Applications/Tutorial/temp/fill_holes_278724.mls is being deleted....\n",
      "The hole closing did not work so continuing without\n",
      "xvfb-run -n 1126 -s \"-screen 0 800x600x24\" meshlabserver $@  -i /neurd_packages/NEURD/Applications/Tutorial/temp/neuron_19883.off -o /neurd_packages/NEURD/Applications/Tutorial/temp/neuron_19883_remove_interior.off -s /neurd_packages/NEURD/Applications/Tutorial/temp/remove_interior_813504.mls\n",
      "removed temporary input file: /neurd_packages/NEURD/Applications/Tutorial/temp/neuron_19883.off\n",
      "removed temporary output file: /neurd_packages/NEURD/Applications/Tutorial/temp/neuron_19883_remove_interior.off\n",
      "/neurd_packages/NEURD/Applications/Tutorial/temp/remove_interior_813504.mls is being deleted....\n",
      "Removing the following inside neurons: [<trimesh.Trimesh(vertices.shape=(363, 3), faces.shape=(876, 3))>, <trimesh.Trimesh(vertices.shape=(301, 3), faces.shape=(613, 3))>, <trimesh.Trimesh(vertices.shape=(253, 3), faces.shape=(632, 3))>, <trimesh.Trimesh(vertices.shape=(199, 3), faces.shape=(446, 3))>, <trimesh.Trimesh(vertices.shape=(176, 3), faces.shape=(418, 3))>]\n",
      "split_meshes_after_backtrack = [<trimesh.Trimesh(vertices.shape=(11386, 3), faces.shape=(22560, 3))>]\n",
      "soma_size_threshold = 8000\n",
      "After backtrack the found 1 possible somas: [<trimesh.Trimesh(vertices.shape=(11386, 3), faces.shape=(22560, 3))>] \n",
      "\n",
      "--- working on backtrack soma 0: <trimesh.Trimesh(vertices.shape=(11386, 3), faces.shape=(22560, 3))>\n",
      "poisson_backtrack_distance_threshold = None\n",
      "Using Poisson Surface Reconstruction for watertightness in soma_volume_ratio\n",
      "xvfb-run -n 7771 -s \"-screen 0 800x600x24\" meshlabserver $@  -i /neurd_packages/NEURD/Applications/Tutorial/Poisson_temp/neuron_468284.off -o /neurd_packages/NEURD/Applications/Tutorial/Poisson_temp/neuron_468284_poisson.off -s /neurd_packages/NEURD/Applications/Tutorial/Poisson_temp/poisson_922003.mls\n",
      "removed temporary input file: /neurd_packages/NEURD/Applications/Tutorial/Poisson_temp/neuron_468284.off\n",
      "removed temporary output file: /neurd_packages/NEURD/Applications/Tutorial/Poisson_temp/neuron_468284_poisson.off\n",
      "mesh.is_watertight = True\n",
      "/neurd_packages/NEURD/Applications/Tutorial/Poisson_temp/poisson_922003.mls is being deleted....\n",
      "Inside sphere validater: ratio_val = 4.115475404999649\n",
      "About to add the following inside nuclei pieces after soma backtrack: [<trimesh.Trimesh(vertices.shape=(6494, 3), faces.shape=(15575, 3))>, <trimesh.Trimesh(vertices.shape=(3256, 3), faces.shape=(5810, 3))>, <trimesh.Trimesh(vertices.shape=(2064, 3), faces.shape=(4789, 3))>, <trimesh.Trimesh(vertices.shape=(2022, 3), faces.shape=(4628, 3))>, <trimesh.Trimesh(vertices.shape=(1922, 3), faces.shape=(4396, 3))>, <trimesh.Trimesh(vertices.shape=(1089, 3), faces.shape=(2556, 3))>, <trimesh.Trimesh(vertices.shape=(864, 3), faces.shape=(1989, 3))>, <trimesh.Trimesh(vertices.shape=(723, 3), faces.shape=(1611, 3))>, <trimesh.Trimesh(vertices.shape=(693, 3), faces.shape=(1561, 3))>, <trimesh.Trimesh(vertices.shape=(612, 3), faces.shape=(1378, 3))>, <trimesh.Trimesh(vertices.shape=(456, 3), faces.shape=(742, 3))>, <trimesh.Trimesh(vertices.shape=(344, 3), faces.shape=(727, 3))>]\n",
      "\n",
      "---Performing Soma Mesh Backtracking to original mesh for poisson soma 1\n",
      "backtrack_soma_size_threshold = 8000\n",
      "xvfb-run -n 6618 -s \"-screen 0 800x600x24\" meshlabserver $@  -i /neurd_packages/NEURD/Applications/Tutorial/temp/neuron_56081.off -o /neurd_packages/NEURD/Applications/Tutorial/temp/neuron_56081_fill_holes.off -s /neurd_packages/NEURD/Applications/Tutorial/temp/fill_holes_222814.mls\n",
      "\n",
      "---- meshlab output -----\n",
      "QStandardPaths: XDG_RUNTIME_DIR not set, defaulting to '/tmp/runtime-root'\n",
      "Current Plugins Dir is: /meshlab/src/distrib/plugins \n",
      "Error While parsing the XML filter plugin descriptors: We are trying to load a xml file that does not correspond to any dll or javascript code; please delete all the spurious xml files\n",
      "Error While parsing the XML filter plugin descriptors: We are trying to load a xml file that does not correspond to any dll or javascript code; please delete all the spurious xml files\n",
      "Opening a file with extention off\n",
      "FilterScript\n",
      "Reading filter with name Remove Duplicate Vertices\n",
      "Reading filter with name Remove Faces from Non Manifold Edges\n",
      "Reading filter with name Close Holes\n",
      "    Reading Param with name MaxHoleSize : RichInt\n",
      "    Reading Param with name Selected : RichBool\n",
      "    Reading Param with name NewFaceSelected : RichBool\n",
      "    Reading Param with name SelfIntersection : RichBool\n",
      "Loading Plugins:\n",
      "Total 105 filtering actions\n",
      "Total 1 io plugins\n",
      "Mesh /neurd_packages/NEURD/Applications/Tutorial/temp/neuron_56081.off loaded has 11899 vn 22569 fn\n",
      "output mesh  /neurd_packages/NEURD/Applications/Tutorial/temp/neuron_56081_fill_holes.off\n",
      "Apply FilterScript: '/neurd_packages/NEURD/Applications/Tutorial/temp/fill_holes_222814.mls'\n",
      "Starting Script of 3 actionsfilter: Remove Duplicate Vertices\n",
      "no additional memory available!!! memory required: 556404\n",
      "LOG: 2 Removed 0 duplicated vertices\n",
      "Removed 0 duplicated vertices\n",
      "filter: Remove Faces from Non Manifold Edges\n",
      "no additional memory available!!! memory required: 556404\n",
      "LOG: 2 Successfully removed 1995 non-manifold faces\n",
      "Removed 0 duplicated vertices\n",
      "Successfully removed 1995 non-manifold faces\n",
      "filter: Close Holes\n",
      "no additional memory available!!! memory required: 532464\n",
      "meshlabserver: ../../../../vcglib/vcg/complex/algorithms/hole.h:259: bool vcg::tri::TrivialEar<MESH>::Close(vcg::tri::TrivialEar<MESH>::PosType&, vcg::tri::TrivialEar<MESH>::PosType&, vcg::tri::TrivialEar<MESH>::FaceType*) [with MESH = CMeshO; vcg::tri::TrivialEar<MESH>::PosType = vcg::face::Pos<CFaceO>; typename MeshType::FaceType = CFaceO; vcg::tri::TrivialEar<MESH>::FaceType = CFaceO]: Assertion `e1.v->IsUserBit(NonManifoldBit())' failed.\n",
      "Aborted (core dumped)\n",
      "\n",
      "\n",
      " returncode ====== 134\n",
      "\n",
      " ------ Done with meshlab output------\n",
      "/neurd_packages/NEURD/Applications/Tutorial/temp/fill_holes_222814.mls is being deleted....\n",
      "The hole closing did not work so continuing without\n"
     ]
    },
    {
     "name": "stdout",
     "output_type": "stream",
     "text": [
      "xvfb-run -n 2292 -s \"-screen 0 800x600x24\" meshlabserver $@  -i /neurd_packages/NEURD/Applications/Tutorial/temp/neuron_84187.off -o /neurd_packages/NEURD/Applications/Tutorial/temp/neuron_84187_remove_interior.off -s /neurd_packages/NEURD/Applications/Tutorial/temp/remove_interior_113423.mls\n",
      "removed temporary input file: /neurd_packages/NEURD/Applications/Tutorial/temp/neuron_84187.off\n",
      "removed temporary output file: /neurd_packages/NEURD/Applications/Tutorial/temp/neuron_84187_remove_interior.off\n",
      "/neurd_packages/NEURD/Applications/Tutorial/temp/remove_interior_113423.mls is being deleted....\n",
      "Removing the following inside neurons: [<trimesh.Trimesh(vertices.shape=(328, 3), faces.shape=(686, 3))>, <trimesh.Trimesh(vertices.shape=(145, 3), faces.shape=(317, 3))>]\n",
      "split_meshes_after_backtrack = [<trimesh.Trimesh(vertices.shape=(4698, 3), faces.shape=(7809, 3))>, <trimesh.Trimesh(vertices.shape=(2761, 3), faces.shape=(4711, 3))>]\n",
      "soma_size_threshold = 8000\n",
      "After backtrack the found 0 possible somas: [] \n",
      "\n",
      "---Performing Soma Mesh Backtracking to original mesh for poisson soma 2\n",
      "backtrack_soma_size_threshold = 8000\n",
      "xvfb-run -n 3407 -s \"-screen 0 800x600x24\" meshlabserver $@  -i /neurd_packages/NEURD/Applications/Tutorial/temp/neuron_78456.off -o /neurd_packages/NEURD/Applications/Tutorial/temp/neuron_78456_fill_holes.off -s /neurd_packages/NEURD/Applications/Tutorial/temp/fill_holes_87878.mls\n",
      "\n",
      "---- meshlab output -----\n",
      "QStandardPaths: XDG_RUNTIME_DIR not set, defaulting to '/tmp/runtime-root'\n",
      "Current Plugins Dir is: /meshlab/src/distrib/plugins \n",
      "Error While parsing the XML filter plugin descriptors: We are trying to load a xml file that does not correspond to any dll or javascript code; please delete all the spurious xml files\n",
      "Error While parsing the XML filter plugin descriptors: We are trying to load a xml file that does not correspond to any dll or javascript code; please delete all the spurious xml files\n",
      "Opening a file with extention off\n",
      "FilterScript\n",
      "Reading filter with name Remove Duplicate Vertices\n",
      "Reading filter with name Remove Faces from Non Manifold Edges\n",
      "Reading filter with name Close Holes\n",
      "    Reading Param with name MaxHoleSize : RichInt\n",
      "    Reading Param with name Selected : RichBool\n",
      "    Reading Param with name NewFaceSelected : RichBool\n",
      "    Reading Param with name SelfIntersection : RichBool\n",
      "Loading Plugins:\n",
      "Total 105 filtering actions\n",
      "Total 1 io plugins\n",
      "Mesh /neurd_packages/NEURD/Applications/Tutorial/temp/neuron_78456.off loaded has 11083 vn 21026 fn\n",
      "output mesh  /neurd_packages/NEURD/Applications/Tutorial/temp/neuron_78456_fill_holes.off\n",
      "Apply FilterScript: '/neurd_packages/NEURD/Applications/Tutorial/temp/fill_holes_87878.mls'\n",
      "Starting Script of 3 actionsfilter: Remove Duplicate Vertices\n",
      "no additional memory available!!! memory required: 518304\n",
      "LOG: 2 Removed 0 duplicated vertices\n",
      "Removed 0 duplicated vertices\n",
      "filter: Remove Faces from Non Manifold Edges\n",
      "no additional memory available!!! memory required: 518304\n",
      "LOG: 2 Successfully removed 1600 non-manifold faces\n",
      "Removed 0 duplicated vertices\n",
      "Successfully removed 1600 non-manifold faces\n",
      "filter: Close Holes\n",
      "no additional memory available!!! memory required: 499104\n",
      "meshlabserver: ../../../../vcglib/vcg/complex/algorithms/hole.h:259: bool vcg::tri::TrivialEar<MESH>::Close(vcg::tri::TrivialEar<MESH>::PosType&, vcg::tri::TrivialEar<MESH>::PosType&, vcg::tri::TrivialEar<MESH>::FaceType*) [with MESH = CMeshO; vcg::tri::TrivialEar<MESH>::PosType = vcg::face::Pos<CFaceO>; typename MeshType::FaceType = CFaceO; vcg::tri::TrivialEar<MESH>::FaceType = CFaceO]: Assertion `e1.v->IsUserBit(NonManifoldBit())' failed.\n",
      "Aborted (core dumped)\n",
      "\n",
      "\n",
      " returncode ====== 134\n",
      "\n",
      " ------ Done with meshlab output------\n",
      "/neurd_packages/NEURD/Applications/Tutorial/temp/fill_holes_87878.mls is being deleted....\n",
      "The hole closing did not work so continuing without\n",
      "xvfb-run -n 631 -s \"-screen 0 800x600x24\" meshlabserver $@  -i /neurd_packages/NEURD/Applications/Tutorial/temp/neuron_28163.off -o /neurd_packages/NEURD/Applications/Tutorial/temp/neuron_28163_remove_interior.off -s /neurd_packages/NEURD/Applications/Tutorial/temp/remove_interior_142501.mls\n",
      "removed temporary input file: /neurd_packages/NEURD/Applications/Tutorial/temp/neuron_28163.off\n",
      "removed temporary output file: /neurd_packages/NEURD/Applications/Tutorial/temp/neuron_28163_remove_interior.off\n",
      "/neurd_packages/NEURD/Applications/Tutorial/temp/remove_interior_142501.mls is being deleted....\n",
      "Removing the following inside neurons: [<trimesh.Trimesh(vertices.shape=(145, 3), faces.shape=(317, 3))>]\n",
      "split_meshes_after_backtrack = [<trimesh.Trimesh(vertices.shape=(5708, 3), faces.shape=(10517, 3))>]\n",
      "soma_size_threshold = 8000\n",
      "After backtrack the found 1 possible somas: [<trimesh.Trimesh(vertices.shape=(5708, 3), faces.shape=(10517, 3))>] \n",
      "\n",
      "--- working on backtrack soma 0: <trimesh.Trimesh(vertices.shape=(5708, 3), faces.shape=(10517, 3))>\n",
      "poisson_backtrack_distance_threshold = None\n",
      "Using Poisson Surface Reconstruction for watertightness in soma_volume_ratio\n",
      "xvfb-run -n 3249 -s \"-screen 0 800x600x24\" meshlabserver $@  -i /neurd_packages/NEURD/Applications/Tutorial/Poisson_temp/neuron_72642.off -o /neurd_packages/NEURD/Applications/Tutorial/Poisson_temp/neuron_72642_poisson.off -s /neurd_packages/NEURD/Applications/Tutorial/Poisson_temp/poisson_221808.mls\n",
      "removed temporary input file: /neurd_packages/NEURD/Applications/Tutorial/Poisson_temp/neuron_72642.off\n",
      "removed temporary output file: /neurd_packages/NEURD/Applications/Tutorial/Poisson_temp/neuron_72642_poisson.off\n",
      "mesh.is_watertight = False\n",
      "/neurd_packages/NEURD/Applications/Tutorial/Poisson_temp/poisson_221808.mls is being deleted....\n",
      "Inside sphere validater: ratio_val = 2.779561458917224\n",
      "About to add the following inside nuclei pieces after soma backtrack: [<trimesh.Trimesh(vertices.shape=(6494, 3), faces.shape=(15575, 3))>, <trimesh.Trimesh(vertices.shape=(3256, 3), faces.shape=(5810, 3))>, <trimesh.Trimesh(vertices.shape=(2064, 3), faces.shape=(4789, 3))>, <trimesh.Trimesh(vertices.shape=(2022, 3), faces.shape=(4628, 3))>, <trimesh.Trimesh(vertices.shape=(1922, 3), faces.shape=(4396, 3))>, <trimesh.Trimesh(vertices.shape=(1089, 3), faces.shape=(2556, 3))>, <trimesh.Trimesh(vertices.shape=(864, 3), faces.shape=(1989, 3))>, <trimesh.Trimesh(vertices.shape=(723, 3), faces.shape=(1611, 3))>, <trimesh.Trimesh(vertices.shape=(693, 3), faces.shape=(1561, 3))>, <trimesh.Trimesh(vertices.shape=(612, 3), faces.shape=(1378, 3))>, <trimesh.Trimesh(vertices.shape=(456, 3), faces.shape=(742, 3))>, <trimesh.Trimesh(vertices.shape=(344, 3), faces.shape=(727, 3))>, <trimesh.Trimesh(vertices.shape=(363, 3), faces.shape=(876, 3))>, <trimesh.Trimesh(vertices.shape=(301, 3), faces.shape=(613, 3))>, <trimesh.Trimesh(vertices.shape=(253, 3), faces.shape=(632, 3))>, <trimesh.Trimesh(vertices.shape=(199, 3), faces.shape=(446, 3))>, <trimesh.Trimesh(vertices.shape=(176, 3), faces.shape=(418, 3))>]\n",
      "Skipping the segmentatio filter at end\n",
      "removing mesh interior before segmentation\n",
      "xvfb-run -n 8088 -s \"-screen 0 800x600x24\" meshlabserver $@  -i /neurd_packages/NEURD/Applications/Tutorial/temp/neuron_13363.off -o /neurd_packages/NEURD/Applications/Tutorial/temp/neuron_13363_fill_holes.off -s /neurd_packages/NEURD/Applications/Tutorial/temp/fill_holes_589069.mls\n",
      "removed temporary input file: /neurd_packages/NEURD/Applications/Tutorial/temp/neuron_13363.off\n",
      "removed temporary output file: /neurd_packages/NEURD/Applications/Tutorial/temp/neuron_13363_fill_holes.off\n",
      "/neurd_packages/NEURD/Applications/Tutorial/temp/fill_holes_589069.mls is being deleted....\n",
      "xvfb-run -n 3417 -s \"-screen 0 800x600x24\" meshlabserver $@  -i /neurd_packages/NEURD/Applications/Tutorial/temp/neuron_41601.off -o /neurd_packages/NEURD/Applications/Tutorial/temp/neuron_41601_remove_interior.off -s /neurd_packages/NEURD/Applications/Tutorial/temp/remove_interior_609356.mls\n",
      "removed temporary input file: /neurd_packages/NEURD/Applications/Tutorial/temp/neuron_41601.off\n",
      "removed temporary output file: /neurd_packages/NEURD/Applications/Tutorial/temp/neuron_41601_remove_interior.off\n",
      "/neurd_packages/NEURD/Applications/Tutorial/temp/remove_interior_609356.mls is being deleted....\n",
      "No significant (1000) interior meshes present\n",
      "largest is 289\n",
      "Doing the soma segmentation filter at end\n"
     ]
    },
    {
     "name": "stdout",
     "output_type": "stream",
     "text": [
      "\n",
      "Number of segments: 9\n",
      "\n"
     ]
    },
    {
     "data": {
      "application/vnd.jupyter.widget-view+json": {
       "model_id": "ae496d4bad314e689838a4bc6edfa5a1",
       "version_major": 2,
       "version_minor": 0
      },
      "text/plain": [
       "  0%|          | 0/9 [00:00<?, ?it/s]"
      ]
     },
     "metadata": {},
     "output_type": "display_data"
    },
    {
     "name": "stdout",
     "output_type": "stream",
     "text": [
      "Largest hole before segmentation = 84198.44608552229, after = 79686.03659527568,\n",
      "\n",
      "ratio = 0.9464074493053798, difference = -4512.409490246602\n",
      "Skipping the segmentatio filter at end\n",
      "removing mesh interior before segmentation\n",
      "xvfb-run -n 2773 -s \"-screen 0 800x600x24\" meshlabserver $@  -i /neurd_packages/NEURD/Applications/Tutorial/temp/neuron_20039.off -o /neurd_packages/NEURD/Applications/Tutorial/temp/neuron_20039_fill_holes.off -s /neurd_packages/NEURD/Applications/Tutorial/temp/fill_holes_424714.mls\n",
      "removed temporary input file: /neurd_packages/NEURD/Applications/Tutorial/temp/neuron_20039.off\n",
      "removed temporary output file: /neurd_packages/NEURD/Applications/Tutorial/temp/neuron_20039_fill_holes.off\n",
      "/neurd_packages/NEURD/Applications/Tutorial/temp/fill_holes_424714.mls is being deleted....\n",
      "xvfb-run -n 133 -s \"-screen 0 800x600x24\" meshlabserver $@  -i /neurd_packages/NEURD/Applications/Tutorial/temp/neuron_21639.off -o /neurd_packages/NEURD/Applications/Tutorial/temp/neuron_21639_remove_interior.off -s /neurd_packages/NEURD/Applications/Tutorial/temp/remove_interior_268499.mls\n",
      "removed temporary input file: /neurd_packages/NEURD/Applications/Tutorial/temp/neuron_21639.off\n",
      "removed temporary output file: /neurd_packages/NEURD/Applications/Tutorial/temp/neuron_21639_remove_interior.off\n",
      "/neurd_packages/NEURD/Applications/Tutorial/temp/remove_interior_268499.mls is being deleted....\n",
      "No significant (1000) interior meshes present\n",
      "largest is 48\n",
      "Doing the soma segmentation filter at end\n",
      "\n",
      "Number of segments: 2\n",
      "\n"
     ]
    },
    {
     "data": {
      "application/vnd.jupyter.widget-view+json": {
       "model_id": "fc8e80544671418196c307644668c0a0",
       "version_major": 2,
       "version_minor": 0
      },
      "text/plain": [
       "  0%|          | 0/2 [00:00<?, ?it/s]"
      ]
     },
     "metadata": {},
     "output_type": "display_data"
    },
    {
     "name": "stdout",
     "output_type": "stream",
     "text": [
      "No split meshes were above the width threshold (0.32) and size threshold (2000) so continuing\n",
      "So just going with old somas\n",
      "filtered_soma_list_components = [<trimesh.Trimesh(vertices.shape=(11386, 3), faces.shape=(22560, 3))>\n",
      " <trimesh.Trimesh(vertices.shape=(5708, 3), faces.shape=(10517, 3))>]\n",
      "Not need to do a second pass because already found a soma\n"
     ]
    }
   ],
   "source": [
    "verbose = True\n",
    "\n",
    "soma_products = sm.soma_indentification(\n",
    "    mesh,\n",
    "    verbose=verbose,\n",
    "    **soma_extraction_parameters\n",
    ")"
   ]
  },
  {
   "cell_type": "code",
   "execution_count": 54,
   "id": "e184dac2",
   "metadata": {},
   "outputs": [
    {
     "name": "stdout",
     "output_type": "stream",
     "text": [
      "    glia_meshes:[]\n",
      "    nuclei_meshes:[<trimesh.Trimesh(vertices.shape=(6494, 3), faces.shape=(15575, 3))>, <trimesh.Trimesh(vertices.shape=(3256, 3), faces.shape=(5810, 3))>, <trimesh.Trimesh(vertices.shape=(2064, 3), faces.shape=(4789, 3))>, <trimesh.Trimesh(vertices.shape=(2022, 3), faces.shape=(4628, 3))>, <trimesh.Trimesh(vertices.shape=(1922, 3), faces.shape=(4396, 3))>, <trimesh.Trimesh(vertices.shape=(1089, 3), faces.shape=(2556, 3))>, <trimesh.Trimesh(vertices.shape=(864, 3), faces.shape=(1989, 3))>, <trimesh.Trimesh(vertices.shape=(723, 3), faces.shape=(1611, 3))>, <trimesh.Trimesh(vertices.shape=(693, 3), faces.shape=(1561, 3))>, <trimesh.Trimesh(vertices.shape=(612, 3), faces.shape=(1378, 3))>, <trimesh.Trimesh(vertices.shape=(456, 3), faces.shape=(742, 3))>, <trimesh.Trimesh(vertices.shape=(344, 3), faces.shape=(727, 3))>, <trimesh.Trimesh(vertices.shape=(363, 3), faces.shape=(876, 3))>, <trimesh.Trimesh(vertices.shape=(301, 3), faces.shape=(613, 3))>, <trimesh.Trimesh(vertices.shape=(253, 3), faces.shape=(632, 3))>, <trimesh.Trimesh(vertices.shape=(199, 3), faces.shape=(446, 3))>, <trimesh.Trimesh(vertices.shape=(176, 3), faces.shape=(418, 3))>, <trimesh.Trimesh(vertices.shape=(145, 3), faces.shape=(317, 3))>]\n",
      "    soma_extraction_parameters:{}\n",
      "    soma_meshes:[<trimesh.Trimesh(vertices.shape=(11386, 3), faces.shape=(22560, 3))>, <trimesh.Trimesh(vertices.shape=(5708, 3), faces.shape=(10517, 3))>]\n",
      "    soma_run_time:78.09380316734314\n",
      "    soma_sdfs:[0.769893  0.3351845]\n",
      "\n"
     ]
    }
   ],
   "source": [
    "print(soma_products)"
   ]
  },
  {
   "cell_type": "code",
   "execution_count": 55,
   "id": "08375c90",
   "metadata": {
    "scrolled": true
   },
   "outputs": [
    {
     "name": "stderr",
     "output_type": "stream",
     "text": [
      "/usr/local/lib/python3.8/dist-packages/traittypes/traittypes.py:97: UserWarning: Given trait value dtype \"float64\" does not match required type \"float64\". A coerced copy has been created.\n",
      "  warnings.warn(\n"
     ]
    },
    {
     "data": {
      "application/vnd.jupyter.widget-view+json": {
       "model_id": "d85b167fef844bedaeab91decaca1ba2",
       "version_major": 2,
       "version_minor": 0
      },
      "text/plain": [
       "Container(figure=Figure(box_center=[0.5, 0.5, 0.5], box_size=[1.0, 1.0, 1.0], camera=PerspectiveCamera(fov=45.…"
      ]
     },
     "metadata": {},
     "output_type": "display_data"
    }
   ],
   "source": [
    "from python_tools import ipyvolume_utils as ipvu\n",
    "ipvu.plot_objects(\n",
    "    meshes = soma_products.soma_meshes\n",
    ")"
   ]
  },
  {
   "cell_type": "code",
   "execution_count": 56,
   "id": "7da78c24",
   "metadata": {},
   "outputs": [
    {
     "name": "stdout",
     "output_type": "stream",
     "text": [
      "# of somas = 2\n",
      "# of glia = 0\n",
      "# of nuclei = 18\n"
     ]
    },
    {
     "data": {
      "application/vnd.jupyter.widget-view+json": {
       "model_id": "28f5947741be4133a8c5e61a1c956762",
       "version_major": 2,
       "version_minor": 0
      },
      "text/plain": [
       "Container(figure=Figure(box_center=[0.5, 0.5, 0.5], box_size=[1.0, 1.0, 1.0], camera=PerspectiveCamera(fov=45.…"
      ]
     },
     "metadata": {},
     "output_type": "display_data"
    }
   ],
   "source": [
    "sm.plot_soma_products(\n",
    "    mesh,\n",
    "    soma_products = soma_products,\n",
    "    verbose = True\n",
    ")"
   ]
  },
  {
   "cell_type": "code",
   "execution_count": 58,
   "id": "e51936db",
   "metadata": {},
   "outputs": [
    {
     "data": {
      "text/plain": [
       "<python_tools.pipeline.StageProducts at 0x7f4a1e1d25e0>"
      ]
     },
     "execution_count": 58,
     "metadata": {},
     "output_type": "execute_result"
    }
   ],
   "source": [
    "soma_products.soma_extraction_parameters = soma_extraction_parameters\n",
    "soma_products"
   ]
  },
  {
   "cell_type": "code",
   "execution_count": 59,
   "id": "559e48a0",
   "metadata": {},
   "outputs": [
    {
     "name": "stdout",
     "output_type": "stream",
     "text": [
      "{\n",
      "  'decimation':\n",
      "  {\n",
      "    'decimation_parameters':\n",
      "    {\n",
      "      'decimation_ratio':0.25,\n",
      "    },\n",
      "    'original_mesh':<trimesh.Trimesh(vertices.shape=(154713, 3), faces.shape=(323535, 3))>,\n",
      "  },\n",
      "  'soma_identification':\n",
      "  {\n",
      "    'glia_meshes':[],\n",
      "    'nuclei_meshes':[<trimesh.Trimesh(vertices.shape=(6494, 3), faces.shape=(15575, 3))>, <trimesh.Trimesh(vertices.shape=(3256, 3), faces.shape=(5810, 3))>, <trimesh.Trimesh(vertices.shape=(2064, 3), faces.shape=(4789, 3))>, <trimesh.Trimesh(vertices.shape=(2022, 3), faces.shape=(4628, 3))>, <trimesh.Trimesh(vertices.shape=(1922, 3), faces.shape=(4396, 3))>, <trimesh.Trimesh(vertices.shape=(1089, 3), faces.shape=(2556, 3))>, <trimesh.Trimesh(vertices.shape=(864, 3), faces.shape=(1989, 3))>, <trimesh.Trimesh(vertices.shape=(723, 3), faces.shape=(1611, 3))>, <trimesh.Trimesh(vertices.shape=(693, 3), faces.shape=(1561, 3))>, <trimesh.Trimesh(vertices.shape=(612, 3), faces.shape=(1378, 3))>, <trimesh.Trimesh(vertices.shape=(456, 3), faces.shape=(742, 3))>, <trimesh.Trimesh(vertices.shape=(344, 3), faces.shape=(727, 3))>, <trimesh.Trimesh(vertices.shape=(363, 3), faces.shape=(876, 3))>, <trimesh.Trimesh(vertices.shape=(301, 3), faces.shape=(613, 3))>, <trimesh.Trimesh(vertices.shape=(253, 3), faces.shape=(632, 3))>, <trimesh.Trimesh(vertices.shape=(199, 3), faces.shape=(446, 3))>, <trimesh.Trimesh(vertices.shape=(176, 3), faces.shape=(418, 3))>, <trimesh.Trimesh(vertices.shape=(145, 3), faces.shape=(317, 3))>],\n",
      "    'soma_extraction_parameters':\n",
      "    {\n",
      "    },\n",
      "    'soma_meshes':[<trimesh.Trimesh(vertices.shape=(11386, 3), faces.shape=(22560, 3))>, <trimesh.Trimesh(vertices.shape=(5708, 3), faces.shape=(10517, 3))>],\n",
      "    'soma_run_time':78.09380316734314,\n",
      "    'soma_sdfs':array([0.769893 , 0.3351845]),\n",
      "  },\n",
      "}\n",
      "\n"
     ]
    }
   ],
   "source": [
    "products.set_stage_attrs(\n",
    "    stage = \"soma_identification\",\n",
    "    attr_dict = soma_products,\n",
    ")\n",
    "\n",
    "print(products)"
   ]
  },
  {
   "cell_type": "markdown",
   "id": "01ee83e4",
   "metadata": {},
   "source": [
    "# Decomposition"
   ]
  },
  {
   "cell_type": "code",
   "execution_count": 61,
   "id": "24e794f8",
   "metadata": {},
   "outputs": [],
   "source": [
    "decomposition_parameters = {}"
   ]
  },
  {
   "cell_type": "code",
   "execution_count": 63,
   "id": "9b66782f",
   "metadata": {
    "scrolled": true
   },
   "outputs": [
    {
     "name": "stdout",
     "output_type": "stream",
     "text": [
      "picking a random 7 digit segment id: 34822937\n",
      "--- 0) Having to preprocess the Neuron becuase no preprocessed data\n",
      "Please wait this could take a while.....\n",
      "Skipping the hole filling\n",
      "limb_remove_mesh_interior_face_threshold = 0\n",
      "use_meshafterparty = True\n",
      "Using pre-computed somas: soma_mesh_list = [<trimesh.Trimesh(vertices.shape=(11386, 3), faces.shape=(22560, 3))>, <trimesh.Trimesh(vertices.shape=(5708, 3), faces.shape=(10517, 3))>]\n",
      "Soma List = [<trimesh.Trimesh(vertices.shape=(11386, 3), faces.shape=(22560, 3))>, <trimesh.Trimesh(vertices.shape=(5708, 3), faces.shape=(10517, 3))>]\n",
      "soma_mesh_list_centers = [array([1488880.76058317,  589300.09373793, 1100652.31345512]), array([1472182.71408549,  577993.08644009, 1112354.27575333])]\n",
      "Getting Glia and Nuclei Pieces Subtracted Away 0.16225790977478027\n",
      " Splitting mesh after soma cancellation 1.868424892425537\n",
      "# of split_meshes = 4\n",
      " Containing Mesh Indices 0.019835948944091797\n",
      "containing_mesh_indices = {0: 0, 1: 0}\n",
      " non_soma_touching_meshes 1.2636184692382812e-05\n",
      "There were 3 pieces found after size threshold\n",
      " Finding inside pieces and non_soma_touching meshes 0.7142767906188965\n",
      "soma_containing_meshes = {0: [0, 1]}\n",
      "\n",
      "-----Before combining multiple mesh pieces-----\n",
      "soma_containing_meshes = {0: [0, 1]}\n",
      "\n",
      "-----After combining multiple mesh pieces-----\n",
      "soma_containing_meshes = {0: [0, 1]}\n",
      "\n",
      "\n",
      "----Working on soma-containing mesh piece 0----\n",
      "Total time for Subtract Soma and Original_mesh_faces_map for somas= 0.24004650115966797\n",
      "new_floating_pieces = []\n",
      "Total time for sig_non_soma_pieces= 0.9903824329376221\n",
      "Not applying expansions\n",
      "Total time for split= 3.5762786865234375e-06\n",
      "Total time for mesh_pieces_connectivity= 0.8841469287872314\n",
      "# of insignificant_limbs = 1 with trimesh : [<trimesh.Trimesh(vertices.shape=(11, 3), faces.shape=(15, 3))>]\n",
      "# of not_processed_soma_containing_meshes = 0 with trimesh : []\n",
      "\n",
      "\n",
      "----- Working on Proper Limb # 0 ---------\n",
      "meshparty_segment_size = 100\n",
      "invalidation_d = 12000\n",
      "use_adaptive_invalidation_d= False\n",
      "axon_width_preprocess_limb_max = 200\n",
      "filter_end_node_length= 4000\n",
      "filter_end_node_length_meshparty = 4000\n",
      "invalidation_d = 12000\n",
      "root_curr = [1487208.   596715.8 1099876. ]\n",
      "Time for preparing soma vertices and root: 0.0002334117889404297\n",
      "invalidation_d = 12000\n",
      "smooth_neighborhood = 1\n",
      "cc_vertex_thresh = 10\n"
     ]
    },
    {
     "name": "stderr",
     "output_type": "stream",
     "text": [
      "\r",
      "  0%|          | 0/1 [00:00<?, ?it/s]"
     ]
    },
    {
     "data": {
      "application/vnd.jupyter.widget-view+json": {
       "model_id": "fdaa3f485bff4e458d71b1fdf124f8c6",
       "version_major": 2,
       "version_minor": 0
      },
      "text/plain": [
       "  0%|          | 0/33579 [00:00<?, ?it/s]"
      ]
     },
     "metadata": {},
     "output_type": "display_data"
    },
    {
     "name": "stderr",
     "output_type": "stream",
     "text": [
      "100%|██████████| 1/1 [00:00<00:00,  6.23it/s]\n"
     ]
    },
    {
     "name": "stdout",
     "output_type": "stream",
     "text": [
      "meshparty_segment_size = 100\n",
      "Time for 1st pass MP skeletonization: 0.43628692626953125\n",
      "connecting at the root\n",
      "branches_touching_root = [6]\n",
      "combining close nodes\n",
      "combine_threshold = 700\n",
      "length of Graph = 3258\n",
      "After combining close endpoints max(kept_branches_idx) = 6, len(kept_branches_idx) = 7\n",
      "empty_indices % = 0.0\n",
      " conflict_indices % = 0.002908632942517017\n"
     ]
    },
    {
     "data": {
      "application/vnd.jupyter.widget-view+json": {
       "model_id": "67d1fe3604e242699f9aceee3476eec2",
       "version_major": 2,
       "version_minor": 0
      },
      "text/plain": [
       "  0%|          | 0/3 [00:00<?, ?it/s]"
      ]
     },
     "metadata": {},
     "output_type": "display_data"
    },
    {
     "name": "stdout",
     "output_type": "stream",
     "text": [
      "AFTER face_lookup_resolved_test\n"
     ]
    },
    {
     "data": {
      "application/vnd.jupyter.widget-view+json": {
       "model_id": "005cedad6c4c4113bbfefa3b1008f284",
       "version_major": 2,
       "version_minor": 0
      },
      "text/plain": [
       "  0%|          | 0/7 [00:00<?, ?it/s]"
      ]
     },
     "metadata": {},
     "output_type": "display_data"
    },
    {
     "name": "stdout",
     "output_type": "stream",
     "text": [
      "Decomposing first pass: 2.4487833976745605\n",
      "Attempting to use MeshAfterParty Skeletonization and Mesh Correspondence\n",
      "Another print\n",
      "Found len(mesh_large_idx) MAP candidates: [638, 7666]\n",
      "mesh_large_connectivity: 0.002330780029296875\n",
      "Finding MAP candidates connected components: 7.033348083496094e-05\n",
      "len(filtered_pieces) = 1\n",
      "skeleton_connectivity_MP : 0.06985759735107422\n",
      "Grouping MP Sublimbs by Graph: 0.03628683090209961\n",
      "Divinding into MP and MAP pieces: 9.5367431640625e-07\n",
      "--- Working on MAP piece 0---\n",
      "MAP Filtering Soma Pieces: 0.015550613403320312\n",
      "inside skeletonize_connected_branch and use_surface_after_CGAL=True, surface_reconstruction_size=1000\n",
      "keep_idx = [0]\n",
      "     Starting Screened Poisson\n",
      "xvfb-run -n 9230 -s \"-screen 0 800x600x24\" meshlabserver $@  -i /neurd_packages/NEURD/Applications/Tutorial/temp/None.off -o /neurd_packages/NEURD/Applications/Tutorial/temp/None_poisson.off -s /neurd_packages/NEURD/Applications/Tutorial/temp/poisson_294373.mls\n",
      "removed temporary input file: /neurd_packages/NEURD/Applications/Tutorial/temp/None.off\n",
      "removed temporary output file: /neurd_packages/NEURD/Applications/Tutorial/temp/None_poisson.off\n",
      "Using the close holes feature\n",
      "xvfb-run -n 2549 -s \"-screen 0 800x600x24\" meshlabserver $@  -i /neurd_packages/NEURD/Applications/Tutorial/temp/neuron_5366.off -o /neurd_packages/NEURD/Applications/Tutorial/temp/neuron_5366_fill_holes.off -s /neurd_packages/NEURD/Applications/Tutorial/temp/fill_holes_9821.mls\n",
      "removed temporary input file: /neurd_packages/NEURD/Applications/Tutorial/temp/neuron_5366.off\n",
      "removed temporary output file: /neurd_packages/NEURD/Applications/Tutorial/temp/neuron_5366_fill_holes.off\n",
      "/neurd_packages/NEURD/Applications/Tutorial/temp/fill_holes_9821.mls is being deleted....\n",
      "-----Time for Screened Poisson= 7.614574670791626\n",
      "mesh_pieces = [<trimesh.Trimesh(vertices.shape=(7399, 3), faces.shape=(14794, 3))>]\n",
      "     Starting Calcification (Changed back where stitches large poissons)\n",
      "Manifold status before skeletonization = True\n",
      "Watertight status before skeletonization = True\n",
      "min_edge_length = 75\n",
      "Before mesh subtraction number of skeleton edges = 307\n"
     ]
    },
    {
     "data": {
      "application/vnd.jupyter.widget-view+json": {
       "model_id": "a2174fa7b17a441f91b49a79020fbe3f",
       "version_major": 2,
       "version_minor": 0
      },
      "text/plain": [
       "0it [00:00, ?it/s]"
      ]
     },
     "metadata": {},
     "output_type": "display_data"
    },
    {
     "name": "stdout",
     "output_type": "stream",
     "text": [
      "len(leftover_meshes_sig) = []\n"
     ]
    },
    {
     "data": {
      "application/vnd.jupyter.widget-view+json": {
       "model_id": "57e016f60ec2448a88dd80ec87dd523c",
       "version_major": 2,
       "version_minor": 0
      },
      "text/plain": [
       "0it [00:00, ?it/s]"
      ]
     },
     "metadata": {},
     "output_type": "display_data"
    },
    {
     "name": "stdout",
     "output_type": "stream",
     "text": [
      "No skeletons to stack so returning empty list\n",
      "STacking the leftover and significant poisson skeleton\n",
      "max_stitch_distance = 5000\n",
      "len_subgraphs AT BEGINNING of the loop\n"
     ]
    },
    {
     "data": {
      "application/vnd.jupyter.widget-view+json": {
       "model_id": "48b6caae07d843bcadc14588c7b2950e",
       "version_major": 2,
       "version_minor": 0
      },
      "text/plain": [
       "  0%|          | 0/1 [00:00<?, ?it/s]"
      ]
     },
     "metadata": {},
     "output_type": "display_data"
    },
    {
     "name": "stdout",
     "output_type": "stream",
     "text": [
      "all graph is one component!\n",
      "Total time for skeleton stitching = 0.02177262306213379\n",
      "The process was using a temp folder\n",
      "Checking connected components after skeletonize_connected_branch\n",
      "    Total time for skeletonizing branch: 8.737642049789429\n",
      "Checking connected components after removing cycles\n",
      "Total time for mesh KDTree = 0.04268240928649902\n",
      "sbv[0].reshape(-1,3) = [[1487208.   596715.8 1099876. ]]\n",
      "closest_sk_pt_coord BEFORE = [1487560.  597038. 1100590.]\n",
      "current_skeleton.shape = (306, 2, 3)\n",
      "node_for_stitch = 214: [1487560.  597038. 1100590.]\n",
      "node_for_stitch AFTER = 214: [1487560.  597038. 1100590.]\n",
      "possible_node_loc = [  0  49 214 306]\n",
      "possible_node_loc AFTER = [  0  49 214 306]\n",
      "curr_shortest_path = [214]\n",
      "Current stitch point was a branch or endpoint\n",
      "change_status for create soma extending pieces = False\n",
      "closest_sk_pt_coord AFTER = [1487560.  597038. 1100590.]\n",
      "skipping soma 0 because closest skeleton node was already end node\n",
      "endpoints_must_keep = {0: array([[1487560.,  597038., 1100590.]])}\n",
      "    Total time for Fixing Skeleton Soma Endpoint Extension : 0.16925668716430664\n",
      "filter_end_node_length = 4000\n",
      "Using Distance measure skeletal_distance\n",
      "endpoints_must_keep = [[1487560.  597038. 1100590.]]\n",
      "Number of end_nodes BEFORE filtering = 4\n",
      "all_single_nodes_to_eliminate = [2]\n"
     ]
    },
    {
     "data": {
      "application/vnd.jupyter.widget-view+json": {
       "model_id": "15b5ac0e435d4b178672073b9e180ba3",
       "version_major": 2,
       "version_minor": 0
      },
      "text/plain": [
       "  0%|          | 0/1 [00:00<?, ?it/s]"
      ]
     },
     "metadata": {},
     "output_type": "display_data"
    },
    {
     "name": "stdout",
     "output_type": "stream",
     "text": [
      "Checking connected components after clean_skeleton\n",
      "after DISTANCE cleaning limb size of skeleton = (287, 2, 3)\n",
      "********COMBINING CLOSE SKELETON NODES WITHIN 700 DISTANCE**********\n",
      "combine_threshold = 700\n",
      "Found 0 valid paths to replace\n",
      "valid_paths = []\n",
      "valid_path_lengths = []\n",
      "No valid paths found so just returning the original\n",
      "skeletonize_and_clean_connected_branch_CGAL: 9.15927791595459\n",
      "Working on limb correspondence for #0 MAP piece\n",
      "xvfb-run -n 3349 -s \"-screen 0 800x600x24\" meshlabserver $@  -i /neurd_packages/NEURD/Applications/Tutorial/temp/neuron_78426.off -o /neurd_packages/NEURD/Applications/Tutorial/temp/neuron_78426_remove_interior.off -s /neurd_packages/NEURD/Applications/Tutorial/temp/remove_interior_937711.mls\n",
      "removed temporary input file: /neurd_packages/NEURD/Applications/Tutorial/temp/neuron_78426.off\n",
      "removed temporary output file: /neurd_packages/NEURD/Applications/Tutorial/temp/neuron_78426_remove_interior.off\n",
      "/neurd_packages/NEURD/Applications/Tutorial/temp/remove_interior_937711.mls is being deleted....\n",
      "No significant (100) interior meshes present\n",
      "largest is 14\n"
     ]
    },
    {
     "data": {
      "application/vnd.jupyter.widget-view+json": {
       "model_id": "04c88cc390aa45cb8a402b89a691fa96",
       "version_major": 2,
       "version_minor": 0
      },
      "text/plain": [
       "0it [00:00, ?it/s]"
      ]
     },
     "metadata": {},
     "output_type": "display_data"
    },
    {
     "name": "stdout",
     "output_type": "stream",
     "text": [
      "Total time for decomposition = 1.6977360248565674\n",
      "mesh_correspondence_first_pass: 1.6977686882019043\n",
      "Limb decomposed into 3 branches\n",
      "divided_skeleton_graph_recovered = (287, 2, 3) and \n",
      "current_mesh_data[0]['branch_skeletons_cleaned'].shape = (287, 2, 3)\n",
      "\n",
      "Number of connected components in deocmposed recovered graph = 1\n",
      "Number of connected components in cleaned skeleton graph= 1\n",
      "The downsampled branches number of connected components = 1\n",
      "Empty submeshes = []\n",
      "\n",
      "\n",
      "--- Working on 1-to-1 correspondence-----\n",
      "max(original_labels),len(original_labels) = (2, 3)\n",
      "empty_indices % = 0.15173410404624277\n",
      " conflict_indices % = 0.0246868978805395\n"
     ]
    },
    {
     "data": {
      "application/vnd.jupyter.widget-view+json": {
       "model_id": "94c3daeb8d79458a9167f8c17cf39046",
       "version_major": 2,
       "version_minor": 0
      },
      "text/plain": [
       "  0%|          | 0/18 [00:00<?, ?it/s]"
      ]
     },
     "metadata": {},
     "output_type": "display_data"
    },
    {
     "name": "stdout",
     "output_type": "stream",
     "text": [
      "AFTER face_lookup_resolved_test\n",
      "Took 0 iterations to expand the label back\n",
      "empty_indices % = 0.0\n",
      " conflict_indices % = 0.0\n"
     ]
    },
    {
     "data": {
      "application/vnd.jupyter.widget-view+json": {
       "model_id": "8766449b53674aba8f8bb5e09536a572",
       "version_major": 2,
       "version_minor": 0
      },
      "text/plain": [
       "0it [00:00, ?it/s]"
      ]
     },
     "metadata": {},
     "output_type": "display_data"
    },
    {
     "name": "stdout",
     "output_type": "stream",
     "text": [
      "AFTER face_lookup_resolved_test\n"
     ]
    },
    {
     "data": {
      "application/vnd.jupyter.widget-view+json": {
       "model_id": "a687c5ec6d284a88a53a07e013903f55",
       "version_major": 2,
       "version_minor": 0
      },
      "text/plain": [
       "  0%|          | 0/3 [00:00<?, ?it/s]"
      ]
     },
     "metadata": {},
     "output_type": "display_data"
    },
    {
     "name": "stdout",
     "output_type": "stream",
     "text": [
      "Total time for MAP sublimb #0 mesh processing = 11.736253023147583\n",
      "correspondence_1_to_1: 0.8636496067047119\n",
      "Total time for MAP sublimb processing 11.736319780349731\n",
      "---- Working on MP Decomposition #0 ----\n",
      "Computing the current soma touching verts dict manually\n",
      "MP filtering soma verts: 0.01515650749206543\n",
      "Do Not Need to Fix MP Decomposition 0 so just continuing\n",
      "---- Working on MP Decomposition #1 ----\n",
      "Computing the current soma touching verts dict manually\n",
      "MP filtering soma verts: 0.0237576961517334\n",
      "Do Not Need to Fix MP Decomposition 1 so just continuing\n",
      "---- Working on MP Decomposition #2 ----\n",
      "Computing the current soma touching verts dict manually\n",
      "MP filtering soma verts: 0.02395033836364746\n",
      "Do Not Need to Fix MP Decomposition 2 so just continuing\n",
      "Successful mesh connectivity with type edges\n",
      "\n",
      "---- Working on (0, 0) connection-----\n",
      "sk_conn = [0, 1]\n",
      "conn = [0, 1]\n",
      "winning_vertex = [1491450.08344721  608267.60149996 1098228.13300974]\n",
      "MP_branches_with_stitch_point = [0, 1]\n",
      "MAP_branches_with_stitch_point = [2]\n",
      "MAP_stitch_point_on_end_or_branch = True\n"
     ]
    },
    {
     "data": {
      "application/vnd.jupyter.widget-view+json": {
       "model_id": "42c866cfbc7c4b0ea52c9dcaa7b9c120",
       "version_major": 2,
       "version_minor": 0
      },
      "text/plain": [
       "0it [00:00, ?it/s]"
      ]
     },
     "metadata": {},
     "output_type": "display_data"
    },
    {
     "name": "stdout",
     "output_type": "stream",
     "text": [
      "\n",
      "\n",
      "--- Working on 1-to-1 correspondence-----\n",
      "max(original_labels),len(original_labels) = (2, 3)\n",
      "empty_indices % = 0.1755103386868054\n",
      " conflict_indices % = 0.010454110741021667\n"
     ]
    },
    {
     "data": {
      "application/vnd.jupyter.widget-view+json": {
       "model_id": "d4ec4ac319ab4d88a6e7f444bcc3fe34",
       "version_major": 2,
       "version_minor": 0
      },
      "text/plain": [
       "  0%|          | 0/98 [00:00<?, ?it/s]"
      ]
     },
     "metadata": {},
     "output_type": "display_data"
    },
    {
     "name": "stdout",
     "output_type": "stream",
     "text": [
      "AFTER face_lookup_resolved_test\n"
     ]
    },
    {
     "data": {
      "application/vnd.jupyter.widget-view+json": {
       "model_id": "d7fac654d05c428dae740d05a8ba1473",
       "version_major": 2,
       "version_minor": 0
      },
      "text/plain": [
       "  0%|          | 0/3 [00:00<?, ?it/s]"
      ]
     },
     "metadata": {},
     "output_type": "display_data"
    },
    {
     "name": "stdout",
     "output_type": "stream",
     "text": [
      "MP_branches_with_stitch_point= [0, 1]\n",
      "MP_branches_for_correspondence = [0 1]\n",
      "MP_leftover = [], MP_leftover_idx = []\n",
      " Finished with (0, 0) \n",
      "\n",
      "\n",
      "\n",
      "\n",
      "---- Working on (1, 0) connection-----\n",
      "sk_conn = [0, 1]\n",
      "conn = [0, 1]\n",
      "winning_vertex = [1476472.93997195  615033.74821465 1108138.04148317]\n",
      "MP_branches_with_stitch_point = [0, 1]\n",
      "MAP_branches_with_stitch_point = [0]\n",
      "MAP_stitch_point_on_end_or_branch = False\n"
     ]
    },
    {
     "data": {
      "application/vnd.jupyter.widget-view+json": {
       "model_id": "3733bc692b264746a412a72e4710f7e9",
       "version_major": 2,
       "version_minor": 0
      },
      "text/plain": [
       "0it [00:00, ?it/s]"
      ]
     },
     "metadata": {},
     "output_type": "display_data"
    },
    {
     "name": "stdout",
     "output_type": "stream",
     "text": [
      "\n",
      "\n",
      "--- Working on 1-to-1 correspondence-----\n",
      "max(original_labels),len(original_labels) = (1, 2)\n",
      "empty_indices % = 0.19431201709682722\n",
      " conflict_indices % = 0.0026302811112937697\n"
     ]
    },
    {
     "data": {
      "application/vnd.jupyter.widget-view+json": {
       "model_id": "b8ff3aef7b664089b754218e2c282693",
       "version_major": 2,
       "version_minor": 0
      },
      "text/plain": [
       "  0%|          | 0/11 [00:00<?, ?it/s]"
      ]
     },
     "metadata": {},
     "output_type": "display_data"
    },
    {
     "name": "stdout",
     "output_type": "stream",
     "text": [
      "AFTER face_lookup_resolved_test\n"
     ]
    },
    {
     "data": {
      "application/vnd.jupyter.widget-view+json": {
       "model_id": "88d9802763d5493cadf581cb45d5877e",
       "version_major": 2,
       "version_minor": 0
      },
      "text/plain": [
       "  0%|          | 0/2 [00:00<?, ?it/s]"
      ]
     },
     "metadata": {},
     "output_type": "display_data"
    },
    {
     "data": {
      "application/vnd.jupyter.widget-view+json": {
       "model_id": "f4f013c62c424c31a9d24d80c636b9fb",
       "version_major": 2,
       "version_minor": 0
      },
      "text/plain": [
       "0it [00:00, ?it/s]"
      ]
     },
     "metadata": {},
     "output_type": "display_data"
    },
    {
     "name": "stdout",
     "output_type": "stream",
     "text": [
      "\n",
      "\n",
      "--- Working on 1-to-1 correspondence-----\n",
      "max(original_labels),len(original_labels) = (3, 4)\n",
      "empty_indices % = 0.18753119281317585\n",
      " conflict_indices % = 0.04637331558808851\n"
     ]
    },
    {
     "data": {
      "application/vnd.jupyter.widget-view+json": {
       "model_id": "1d281742479341a08aa48cc1fb51f290",
       "version_major": 2,
       "version_minor": 0
      },
      "text/plain": [
       "  0%|          | 0/58 [00:00<?, ?it/s]"
      ]
     },
     "metadata": {},
     "output_type": "display_data"
    },
    {
     "name": "stdout",
     "output_type": "stream",
     "text": [
      "AFTER face_lookup_resolved_test\n"
     ]
    },
    {
     "data": {
      "application/vnd.jupyter.widget-view+json": {
       "model_id": "3e0a336206d64aeb9e2bf2a1fb8c39fc",
       "version_major": 2,
       "version_minor": 0
      },
      "text/plain": [
       "  0%|          | 0/4 [00:00<?, ?it/s]"
      ]
     },
     "metadata": {},
     "output_type": "display_data"
    },
    {
     "name": "stdout",
     "output_type": "stream",
     "text": [
      "Deleting branches from dictionary\n",
      "MP_branches_with_stitch_point= [0, 1]\n",
      "MP_branches_for_correspondence = [0 1]\n",
      "MP_leftover = [], MP_leftover_idx = []\n",
      " Finished with (1, 0) \n",
      "\n",
      "\n",
      "\n",
      "\n",
      "---- Working on (2, 0) connection-----\n",
      "sk_conn = [0]\n",
      "conn = [0]\n",
      "winning_vertex = [1488771.89112037  605282.82224157 1100475.99894991]\n",
      "MP_branches_with_stitch_point = [0]\n",
      "MAP_branches_with_stitch_point = [2]\n",
      "MAP_stitch_point_on_end_or_branch = False\n"
     ]
    },
    {
     "data": {
      "application/vnd.jupyter.widget-view+json": {
       "model_id": "eb443d1903e442839ef42e84c0b11962",
       "version_major": 2,
       "version_minor": 0
      },
      "text/plain": [
       "0it [00:00, ?it/s]"
      ]
     },
     "metadata": {},
     "output_type": "display_data"
    },
    {
     "name": "stdout",
     "output_type": "stream",
     "text": [
      "\n",
      "\n",
      "--- Working on 1-to-1 correspondence-----\n",
      "max(original_labels),len(original_labels) = (1, 2)\n",
      "empty_indices % = 0.12258867454884878\n",
      " conflict_indices % = 0.013067828251400125\n"
     ]
    },
    {
     "data": {
      "application/vnd.jupyter.widget-view+json": {
       "model_id": "87474d638ce0401a95242e9a6d24bf9e",
       "version_major": 2,
       "version_minor": 0
      },
      "text/plain": [
       "  0%|          | 0/9 [00:00<?, ?it/s]"
      ]
     },
     "metadata": {},
     "output_type": "display_data"
    },
    {
     "name": "stdout",
     "output_type": "stream",
     "text": [
      "AFTER face_lookup_resolved_test\n"
     ]
    },
    {
     "data": {
      "application/vnd.jupyter.widget-view+json": {
       "model_id": "70adefc1b1de452893dcd71ab9bf9cc0",
       "version_major": 2,
       "version_minor": 0
      },
      "text/plain": [
       "  0%|          | 0/2 [00:00<?, ?it/s]"
      ]
     },
     "metadata": {},
     "output_type": "display_data"
    },
    {
     "data": {
      "application/vnd.jupyter.widget-view+json": {
       "model_id": "363b0238c490431d944f1081a116d408",
       "version_major": 2,
       "version_minor": 0
      },
      "text/plain": [
       "0it [00:00, ?it/s]"
      ]
     },
     "metadata": {},
     "output_type": "display_data"
    },
    {
     "name": "stdout",
     "output_type": "stream",
     "text": [
      "\n",
      "\n",
      "--- Working on 1-to-1 correspondence-----\n",
      "max(original_labels),len(original_labels) = (2, 3)\n",
      "empty_indices % = 0.22811530604524477\n",
      " conflict_indices % = 0.02088219717031096\n"
     ]
    },
    {
     "data": {
      "application/vnd.jupyter.widget-view+json": {
       "model_id": "2ef1735671124bab916edcdd471961e6",
       "version_major": 2,
       "version_minor": 0
      },
      "text/plain": [
       "  0%|          | 0/30 [00:00<?, ?it/s]"
      ]
     },
     "metadata": {},
     "output_type": "display_data"
    },
    {
     "name": "stdout",
     "output_type": "stream",
     "text": [
      "AFTER face_lookup_resolved_test\n"
     ]
    },
    {
     "data": {
      "application/vnd.jupyter.widget-view+json": {
       "model_id": "2099254a2a664b96801cd088d431df71",
       "version_major": 2,
       "version_minor": 0
      },
      "text/plain": [
       "  0%|          | 0/3 [00:00<?, ?it/s]"
      ]
     },
     "metadata": {},
     "output_type": "display_data"
    },
    {
     "name": "stdout",
     "output_type": "stream",
     "text": [
      "Deleting branches from dictionary\n",
      "MP_branches_with_stitch_point= [0]\n",
      "MP_branches_for_correspondence = [0]\n",
      "MP_leftover = [], MP_leftover_idx = []\n",
      " Finished with (2, 0) \n",
      "\n",
      "\n",
      "\n",
      "Time for decomp of Limb = 24.505878686904907\n",
      "Number of matching vertices = 26\n",
      "Only one endpoint after filtering away the endpoints that are not on the skeleton\n",
      "Using Distance measure skeletal_distance\n",
      "endpoints_must_keep = [[1487560.  597038. 1100590.]]\n",
      "Number of end_nodes BEFORE filtering = 7\n",
      "all_single_nodes_to_eliminate = [4]\n",
      "no small end nodes to get rid of so returning whole skeleton\n",
      "Removed 0 skeletal branches\n"
     ]
    },
    {
     "data": {
      "application/vnd.jupyter.widget-view+json": {
       "model_id": "40b3850566384e32bd2facd49e7bbcf2",
       "version_major": 2,
       "version_minor": 0
      },
      "text/plain": [
       "  0%|          | 0/10 [00:00<?, ?it/s]"
      ]
     },
     "metadata": {},
     "output_type": "display_data"
    },
    {
     "name": "stdout",
     "output_type": "stream",
     "text": [
      "66697 66698\n",
      "For marked faces: None\n",
      "empty_indices % = 0.0\n",
      " conflict_indices % = 0.0\n"
     ]
    },
    {
     "data": {
      "application/vnd.jupyter.widget-view+json": {
       "model_id": "bb24d37e7624453faa92d7043758d525",
       "version_major": 2,
       "version_minor": 0
      },
      "text/plain": [
       "0it [00:00, ?it/s]"
      ]
     },
     "metadata": {},
     "output_type": "display_data"
    },
    {
     "name": "stdout",
     "output_type": "stream",
     "text": [
      "AFTER face_lookup_resolved_test\n"
     ]
    },
    {
     "data": {
      "application/vnd.jupyter.widget-view+json": {
       "model_id": "0d4e7f1c6832440ea5daf6c2d104e892",
       "version_major": 2,
       "version_minor": 0
      },
      "text/plain": [
       "  0%|          | 0/10 [00:00<?, ?it/s]"
      ]
     },
     "metadata": {},
     "output_type": "display_data"
    },
    {
     "name": "stdout",
     "output_type": "stream",
     "text": [
      "Successful Limb Decomposition\n",
      "\n",
      "\n",
      "----- Working on Proper Limb # 1 ---------\n",
      "meshparty_segment_size = 100\n",
      "invalidation_d = 12000\n",
      "use_adaptive_invalidation_d= False\n",
      "axon_width_preprocess_limb_max = 200\n",
      "filter_end_node_length= 4000\n",
      "filter_end_node_length_meshparty = 4000\n",
      "invalidation_d = 12000\n",
      "root_curr = [1484150.   588282.7 1095391. ]\n",
      "Time for preparing soma vertices and root: 0.00021219253540039062\n",
      "invalidation_d = 12000\n",
      "smooth_neighborhood = 1\n",
      "cc_vertex_thresh = 10\n"
     ]
    },
    {
     "name": "stderr",
     "output_type": "stream",
     "text": [
      "\r",
      "  0%|          | 0/1 [00:00<?, ?it/s]"
     ]
    },
    {
     "data": {
      "application/vnd.jupyter.widget-view+json": {
       "model_id": "062ec3ecdadf4d4fb0eec1a66ae20d13",
       "version_major": 2,
       "version_minor": 0
      },
      "text/plain": [
       "  0%|          | 0/20269 [00:00<?, ?it/s]"
      ]
     },
     "metadata": {},
     "output_type": "display_data"
    },
    {
     "name": "stderr",
     "output_type": "stream",
     "text": [
      "100%|██████████| 1/1 [00:00<00:00,  5.34it/s]\n"
     ]
    },
    {
     "name": "stdout",
     "output_type": "stream",
     "text": [
      "meshparty_segment_size = 100\n",
      "Time for 1st pass MP skeletonization: 0.42429494857788086\n",
      "branches_touching_root = [3]\n",
      "combining close nodes\n",
      "combine_threshold = 700\n",
      "length of Graph = 5975\n",
      "After combining close endpoints max(kept_branches_idx) = 26, len(kept_branches_idx) = 25\n",
      "empty_indices % = 0.0\n",
      " conflict_indices % = 0.010165121237665492\n"
     ]
    },
    {
     "data": {
      "application/vnd.jupyter.widget-view+json": {
       "model_id": "99d02e4135ae4c02aa2d1352d3bd109c",
       "version_major": 2,
       "version_minor": 0
      },
      "text/plain": [
       "  0%|          | 0/11 [00:00<?, ?it/s]"
      ]
     },
     "metadata": {},
     "output_type": "display_data"
    },
    {
     "name": "stdout",
     "output_type": "stream",
     "text": [
      "AFTER face_lookup_resolved_test\n"
     ]
    },
    {
     "data": {
      "application/vnd.jupyter.widget-view+json": {
       "model_id": "7dd6855dafd4479ba960a388b4d10dfd",
       "version_major": 2,
       "version_minor": 0
      },
      "text/plain": [
       "  0%|          | 0/25 [00:00<?, ?it/s]"
      ]
     },
     "metadata": {},
     "output_type": "display_data"
    },
    {
     "name": "stdout",
     "output_type": "stream",
     "text": [
      "Decomposing first pass: 2.542503595352173\n",
      "Attempting to use MeshAfterParty Skeletonization and Mesh Correspondence\n",
      "Another print\n",
      "Divinding into MP and MAP pieces: 4.458427429199219e-05\n",
      "Total time for MAP sublimb processing 3.337860107421875e-06\n",
      "---- Working on MP Decomposition #0 ----\n",
      "Using Quicker soma_to_piece_touching_vertices because no MAP and only one sublimb_mesh piece \n",
      "MP filtering soma verts: 2.0265579223632812e-05\n",
      "Fixing Possible Soma Extension Branch for Sublimb 0\n",
      "Total time for mesh KDTree = 0.0527951717376709\n",
      "sbv[0].reshape(-1,3) = [[1484150.   588282.7 1095391. ]]\n",
      "closest_sk_pt_coord BEFORE = [1483982.08022895  588135.81137922 1094821.63000965]\n",
      "current_skeleton.shape = (556, 2, 3)\n",
      "node_for_stitch = 556: [1483982.08022895  588135.81137922 1094821.63000965]\n",
      "node_for_stitch AFTER = 556: [1483982.08022895  588135.81137922 1094821.63000965]\n",
      "possible_node_loc = [  2 556]\n",
      "possible_node_loc AFTER = [  2 556]\n",
      "curr_shortest_path = [556]\n",
      "Current stitch point was a branch or endpoint\n",
      "change_status for create soma extending pieces = False\n",
      "closest_sk_pt_coord AFTER = [1483982.08022895  588135.81137922 1094821.63000965]\n",
      "skipping soma 0 because closest skeleton node was already end node\n",
      "endpoints_must_keep = {0: array([[1483982.08022895,  588135.81137922, 1094821.63000965]])}\n",
      "match_sk_branches = [3]\n",
      "The new branch info was none so skipping \n",
      "\n",
      "No soma extending branch was added for this sublimb even though it had a soma border (means they already existed)\n",
      "MP (because soma touching verts) soma extension add: 0.2091665267944336\n",
      "There were not both MAP and MP pieces so skipping the stitch resolving phase\n",
      "Time for decomp of Limb = 3.3060719966888428\n",
      "Number of matching vertices = 20\n",
      "Only one endpoint after filtering away the endpoints that are not on the skeleton\n",
      "Using Distance measure skeletal_distance\n",
      "endpoints_must_keep = [[1483982.08022895  588135.81137922 1094821.63000965]]\n",
      "Number of end_nodes BEFORE filtering = 15\n",
      "all_single_nodes_to_eliminate = [10]\n",
      "no small end nodes to get rid of so returning whole skeleton\n",
      "Removed 0 skeletal branches\n"
     ]
    },
    {
     "data": {
      "application/vnd.jupyter.widget-view+json": {
       "model_id": "33d0e42ad4814255b58c019bb2ff9f87",
       "version_major": 2,
       "version_minor": 0
      },
      "text/plain": [
       "  0%|          | 0/25 [00:00<?, ?it/s]"
      ]
     },
     "metadata": {},
     "output_type": "display_data"
    },
    {
     "name": "stdout",
     "output_type": "stream",
     "text": [
      "40338 40339\n",
      "For marked faces: None\n",
      "empty_indices % = 0.0\n",
      " conflict_indices % = 0.0\n"
     ]
    },
    {
     "data": {
      "application/vnd.jupyter.widget-view+json": {
       "model_id": "0f7343d3ae2c4569aeeba55af58ad7ba",
       "version_major": 2,
       "version_minor": 0
      },
      "text/plain": [
       "0it [00:00, ?it/s]"
      ]
     },
     "metadata": {},
     "output_type": "display_data"
    },
    {
     "name": "stdout",
     "output_type": "stream",
     "text": [
      "AFTER face_lookup_resolved_test\n"
     ]
    },
    {
     "data": {
      "application/vnd.jupyter.widget-view+json": {
       "model_id": "8767d7a250c3493592c2f43e19b70b24",
       "version_major": 2,
       "version_minor": 0
      },
      "text/plain": [
       "  0%|          | 0/25 [00:00<?, ?it/s]"
      ]
     },
     "metadata": {},
     "output_type": "display_data"
    },
    {
     "name": "stdout",
     "output_type": "stream",
     "text": [
      "Successful Limb Decomposition\n",
      "\n",
      "\n",
      "----- Working on Proper Limb # 2 ---------\n",
      "meshparty_segment_size = 100\n",
      "invalidation_d = 12000\n",
      "use_adaptive_invalidation_d= False\n",
      "axon_width_preprocess_limb_max = 200\n",
      "filter_end_node_length= 4000\n",
      "filter_end_node_length_meshparty = 4000\n",
      "invalidation_d = 12000\n",
      "root_curr = [1476534.   581771.6 1109552. ]\n",
      "Time for preparing soma vertices and root: 0.0001881122589111328\n",
      "invalidation_d = 12000\n",
      "smooth_neighborhood = 1\n",
      "cc_vertex_thresh = 10\n"
     ]
    },
    {
     "name": "stderr",
     "output_type": "stream",
     "text": [
      "\r",
      "  0%|          | 0/1 [00:00<?, ?it/s]"
     ]
    },
    {
     "data": {
      "application/vnd.jupyter.widget-view+json": {
       "model_id": "4eb4060ab2374c2e8254ba9a81f8107f",
       "version_major": 2,
       "version_minor": 0
      },
      "text/plain": [
       "  0%|          | 0/20030 [00:00<?, ?it/s]"
      ]
     },
     "metadata": {},
     "output_type": "display_data"
    },
    {
     "name": "stderr",
     "output_type": "stream",
     "text": [
      "100%|██████████| 1/1 [00:00<00:00,  9.89it/s]\n"
     ]
    },
    {
     "name": "stdout",
     "output_type": "stream",
     "text": [
      "meshparty_segment_size = 100\n",
      "Time for 1st pass MP skeletonization: 0.28141283988952637\n",
      "branches_touching_root = [1]\n",
      "combining close nodes\n",
      "combine_threshold = 700\n",
      "length of Graph = 2074\n",
      "After combining close endpoints max(kept_branches_idx) = 2, len(kept_branches_idx) = 3\n",
      "empty_indices % = 0.0\n",
      " conflict_indices % = 0.002637462007987742\n"
     ]
    },
    {
     "data": {
      "application/vnd.jupyter.widget-view+json": {
       "model_id": "b2df330a48c44f82b698c2a6b210953f",
       "version_major": 2,
       "version_minor": 0
      },
      "text/plain": [
       "  0%|          | 0/1 [00:00<?, ?it/s]"
      ]
     },
     "metadata": {},
     "output_type": "display_data"
    },
    {
     "name": "stdout",
     "output_type": "stream",
     "text": [
      "AFTER face_lookup_resolved_test\n"
     ]
    },
    {
     "data": {
      "application/vnd.jupyter.widget-view+json": {
       "model_id": "5bc1770ce26d4417b0080a6a73e68b8a",
       "version_major": 2,
       "version_minor": 0
      },
      "text/plain": [
       "  0%|          | 0/3 [00:00<?, ?it/s]"
      ]
     },
     "metadata": {},
     "output_type": "display_data"
    },
    {
     "name": "stdout",
     "output_type": "stream",
     "text": [
      "Decomposing first pass: 1.633894920349121\n",
      "Attempting to use MeshAfterParty Skeletonization and Mesh Correspondence\n",
      "Another print\n",
      "Found len(mesh_large_idx) MAP candidates: [2094]\n",
      "mesh_large_connectivity: 0.00011348724365234375\n",
      "Finding MAP candidates connected components: 5.888938903808594e-05\n",
      "len(filtered_pieces) = 1\n",
      "skeleton_connectivity_MP : 0.056081533432006836\n",
      "Grouping MP Sublimbs by Graph: 0.02306985855102539\n",
      "Divinding into MP and MAP pieces: 1.1920928955078125e-06\n",
      "--- Working on MAP piece 0---\n",
      "MAP Filtering Soma Pieces: 0.014738082885742188\n",
      "inside skeletonize_connected_branch and use_surface_after_CGAL=True, surface_reconstruction_size=1000\n",
      "keep_idx = [0]\n",
      "     Starting Screened Poisson\n",
      "xvfb-run -n 863 -s \"-screen 0 800x600x24\" meshlabserver $@  -i /neurd_packages/NEURD/Applications/Tutorial/temp/None.off -o /neurd_packages/NEURD/Applications/Tutorial/temp/None_poisson.off -s /neurd_packages/NEURD/Applications/Tutorial/temp/poisson_990304.mls\n",
      "removed temporary input file: /neurd_packages/NEURD/Applications/Tutorial/temp/None.off\n",
      "removed temporary output file: /neurd_packages/NEURD/Applications/Tutorial/temp/None_poisson.off\n",
      "Using the close holes feature\n",
      "xvfb-run -n 7559 -s \"-screen 0 800x600x24\" meshlabserver $@  -i /neurd_packages/NEURD/Applications/Tutorial/temp/neuron_91447.off -o /neurd_packages/NEURD/Applications/Tutorial/temp/neuron_91447_fill_holes.off -s /neurd_packages/NEURD/Applications/Tutorial/temp/fill_holes_903272.mls\n",
      "removed temporary input file: /neurd_packages/NEURD/Applications/Tutorial/temp/neuron_91447.off\n",
      "removed temporary output file: /neurd_packages/NEURD/Applications/Tutorial/temp/neuron_91447_fill_holes.off\n",
      "/neurd_packages/NEURD/Applications/Tutorial/temp/fill_holes_903272.mls is being deleted....\n",
      "-----Time for Screened Poisson= 7.003757476806641\n",
      "mesh_pieces = [<trimesh.Trimesh(vertices.shape=(1985, 3), faces.shape=(3966, 3))>]\n",
      "     Starting Calcification (Changed back where stitches large poissons)\n",
      "Manifold status before skeletonization = True\n",
      "Watertight status before skeletonization = True\n",
      "min_edge_length = 75\n",
      "Before mesh subtraction number of skeleton edges = 68\n"
     ]
    },
    {
     "data": {
      "application/vnd.jupyter.widget-view+json": {
       "model_id": "0d2cbcf81e1c468da037d08399bc19e1",
       "version_major": 2,
       "version_minor": 0
      },
      "text/plain": [
       "0it [00:00, ?it/s]"
      ]
     },
     "metadata": {},
     "output_type": "display_data"
    },
    {
     "name": "stdout",
     "output_type": "stream",
     "text": [
      "len(leftover_meshes_sig) = []\n"
     ]
    },
    {
     "data": {
      "application/vnd.jupyter.widget-view+json": {
       "model_id": "1f072f1b14fa467babf125765ce295a2",
       "version_major": 2,
       "version_minor": 0
      },
      "text/plain": [
       "0it [00:00, ?it/s]"
      ]
     },
     "metadata": {},
     "output_type": "display_data"
    },
    {
     "name": "stdout",
     "output_type": "stream",
     "text": [
      "No skeletons to stack so returning empty list\n",
      "STacking the leftover and significant poisson skeleton\n",
      "max_stitch_distance = 5000\n",
      "len_subgraphs AT BEGINNING of the loop\n"
     ]
    },
    {
     "data": {
      "application/vnd.jupyter.widget-view+json": {
       "model_id": "c1a6d2f00f824a88aa970de57639460b",
       "version_major": 2,
       "version_minor": 0
      },
      "text/plain": [
       "  0%|          | 0/1 [00:00<?, ?it/s]"
      ]
     },
     "metadata": {},
     "output_type": "display_data"
    },
    {
     "name": "stdout",
     "output_type": "stream",
     "text": [
      "all graph is one component!\n",
      "Total time for skeleton stitching = 0.012220144271850586\n",
      "The process was using a temp folder\n",
      "Checking connected components after skeletonize_connected_branch\n",
      "    Total time for skeletonizing branch: 7.429817199707031\n",
      "Checking connected components after removing cycles\n",
      "Total time for mesh KDTree = 0.02337169647216797\n",
      "sbv[0].reshape(-1,3) = [[1476534.   581771.6 1109552. ]]\n",
      "closest_sk_pt_coord BEFORE = [1476760.  582496. 1109360.]\n",
      "current_skeleton.shape = (67, 2, 3)\n",
      "node_for_stitch = 0: [1476760.  582496. 1109360.]\n",
      "node_for_stitch AFTER = 0: [1476760.  582496. 1109360.]\n",
      "possible_node_loc = [ 0 67]\n",
      "possible_node_loc AFTER = [ 0 67]\n",
      "curr_shortest_path = [0]\n",
      "Current stitch point was a branch or endpoint\n",
      "change_status for create soma extending pieces = False\n",
      "closest_sk_pt_coord AFTER = [1476760.  582496. 1109360.]\n",
      "skipping soma 1 because closest skeleton node was already end node\n",
      "endpoints_must_keep = {1: array([[1476760.,  582496., 1109360.]])}\n",
      "    Total time for Fixing Skeleton Soma Endpoint Extension : 0.10096335411071777\n",
      "filter_end_node_length = 4000\n",
      "Using Distance measure skeletal_distance\n",
      "endpoints_must_keep = [[1476760.  582496. 1109360.]]\n",
      "Number of end_nodes BEFORE filtering = 2\n",
      "all_single_nodes_to_eliminate = [0]\n",
      "no small end nodes to get rid of so returning whole skeleton\n",
      "Checking connected components after clean_skeleton\n",
      "after DISTANCE cleaning limb size of skeleton = (67, 2, 3)\n",
      "********COMBINING CLOSE SKELETON NODES WITHIN 700 DISTANCE**********\n",
      "combine_threshold = 700\n",
      "Found 0 valid paths to replace\n",
      "valid_paths = []\n",
      "valid_path_lengths = []\n",
      "No valid paths found so just returning the original\n",
      "skeletonize_and_clean_connected_branch_CGAL: 7.5804808139801025\n",
      "Working on limb correspondence for #0 MAP piece\n",
      "xvfb-run -n 4764 -s \"-screen 0 800x600x24\" meshlabserver $@  -i /neurd_packages/NEURD/Applications/Tutorial/temp/neuron_41851.off -o /neurd_packages/NEURD/Applications/Tutorial/temp/neuron_41851_remove_interior.off -s /neurd_packages/NEURD/Applications/Tutorial/temp/remove_interior_900774.mls\n",
      "removed temporary input file: /neurd_packages/NEURD/Applications/Tutorial/temp/neuron_41851.off\n",
      "removed temporary output file: /neurd_packages/NEURD/Applications/Tutorial/temp/neuron_41851_remove_interior.off\n",
      "/neurd_packages/NEURD/Applications/Tutorial/temp/remove_interior_900774.mls is being deleted....\n",
      "No significant (100) interior meshes present\n",
      "largest is 3\n"
     ]
    },
    {
     "data": {
      "application/vnd.jupyter.widget-view+json": {
       "model_id": "81697470e52444b5809c8bc9d03805f4",
       "version_major": 2,
       "version_minor": 0
      },
      "text/plain": [
       "0it [00:00, ?it/s]"
      ]
     },
     "metadata": {},
     "output_type": "display_data"
    },
    {
     "name": "stdout",
     "output_type": "stream",
     "text": [
      "Total time for decomposition = 0.9398391246795654\n",
      "mesh_correspondence_first_pass: 0.9398784637451172\n",
      "Limb decomposed into 1 branches\n",
      "divided_skeleton_graph_recovered = (67, 2, 3) and \n",
      "current_mesh_data[0]['branch_skeletons_cleaned'].shape = (67, 2, 3)\n",
      "\n",
      "Number of connected components in deocmposed recovered graph = 1\n",
      "Number of connected components in cleaned skeleton graph= 1\n",
      "The downsampled branches number of connected components = 1\n",
      "Empty submeshes = []\n",
      "\n",
      "\n",
      "--- Working on 1-to-1 correspondence-----\n",
      "max(original_labels),len(original_labels) = (0, 1)\n",
      "empty_indices % = 0.15329512893982808\n",
      " conflict_indices % = 0.0\n"
     ]
    },
    {
     "data": {
      "application/vnd.jupyter.widget-view+json": {
       "model_id": "a2e987a06a9b4ef69ae5d3b4b123fe30",
       "version_major": 2,
       "version_minor": 0
      },
      "text/plain": [
       "  0%|          | 0/4 [00:00<?, ?it/s]"
      ]
     },
     "metadata": {},
     "output_type": "display_data"
    },
    {
     "name": "stdout",
     "output_type": "stream",
     "text": [
      "AFTER face_lookup_resolved_test\n",
      "Took 0 iterations to expand the label back\n",
      "empty_indices % = 0.0\n",
      " conflict_indices % = 0.0\n"
     ]
    },
    {
     "data": {
      "application/vnd.jupyter.widget-view+json": {
       "model_id": "4d540747bfd64963a6060e309f74b3e7",
       "version_major": 2,
       "version_minor": 0
      },
      "text/plain": [
       "0it [00:00, ?it/s]"
      ]
     },
     "metadata": {},
     "output_type": "display_data"
    },
    {
     "name": "stdout",
     "output_type": "stream",
     "text": [
      "AFTER face_lookup_resolved_test\n"
     ]
    },
    {
     "data": {
      "application/vnd.jupyter.widget-view+json": {
       "model_id": "bdd7d359af934527b316d56dbc1a3a81",
       "version_major": 2,
       "version_minor": 0
      },
      "text/plain": [
       "  0%|          | 0/1 [00:00<?, ?it/s]"
      ]
     },
     "metadata": {},
     "output_type": "display_data"
    },
    {
     "name": "stdout",
     "output_type": "stream",
     "text": [
      "Total time for MAP sublimb #0 mesh processing = 8.715672731399536\n",
      "correspondence_1_to_1: 0.18060827255249023\n",
      "Total time for MAP sublimb processing 8.715762376785278\n",
      "---- Working on MP Decomposition #0 ----\n",
      "Computing the current soma touching verts dict manually\n",
      "MP filtering soma verts: 0.015475273132324219\n",
      "Do Not Need to Fix MP Decomposition 0 so just continuing\n",
      "Successful mesh connectivity with type edges\n",
      "\n",
      "---- Working on (0, 0) connection-----\n",
      "sk_conn = [0, 1]\n",
      "conn = [0, 1]\n",
      "winning_vertex = [1481900.72163354  586937.6302398  1100472.34094648]\n",
      "MP_branches_with_stitch_point = [0, 1]\n",
      "MAP_branches_with_stitch_point = [0]\n",
      "MAP_stitch_point_on_end_or_branch = True\n"
     ]
    },
    {
     "data": {
      "application/vnd.jupyter.widget-view+json": {
       "model_id": "7409fbd8364c4e72a81d2c84dc188ad1",
       "version_major": 2,
       "version_minor": 0
      },
      "text/plain": [
       "0it [00:00, ?it/s]"
      ]
     },
     "metadata": {},
     "output_type": "display_data"
    },
    {
     "name": "stdout",
     "output_type": "stream",
     "text": [
      "\n",
      "\n",
      "--- Working on 1-to-1 correspondence-----\n",
      "max(original_labels),len(original_labels) = (2, 3)\n",
      "empty_indices % = 0.21579462962497803\n",
      " conflict_indices % = 0.01047449197457989\n"
     ]
    },
    {
     "data": {
      "application/vnd.jupyter.widget-view+json": {
       "model_id": "bab2b09dd0674f419bad1057c38c1852",
       "version_major": 2,
       "version_minor": 0
      },
      "text/plain": [
       "  0%|          | 0/139 [00:00<?, ?it/s]"
      ]
     },
     "metadata": {},
     "output_type": "display_data"
    },
    {
     "name": "stdout",
     "output_type": "stream",
     "text": [
      "AFTER face_lookup_resolved_test\n"
     ]
    },
    {
     "data": {
      "application/vnd.jupyter.widget-view+json": {
       "model_id": "1bb4e61f42c3461aac006c472f397d73",
       "version_major": 2,
       "version_minor": 0
      },
      "text/plain": [
       "  0%|          | 0/3 [00:00<?, ?it/s]"
      ]
     },
     "metadata": {},
     "output_type": "display_data"
    },
    {
     "name": "stdout",
     "output_type": "stream",
     "text": [
      "MP_branches_with_stitch_point= [0, 1]\n",
      "MP_branches_for_correspondence = [0 1]\n",
      "MP_leftover = [], MP_leftover_idx = []\n",
      " Finished with (0, 0) \n",
      "\n",
      "\n",
      "\n",
      "Time for decomp of Limb = 17.657755374908447\n",
      "Number of matching vertices = 14\n",
      "Only one endpoint after filtering away the endpoints that are not on the skeleton\n",
      "Using Distance measure skeletal_distance\n",
      "endpoints_must_keep = [[1476760.  582496. 1109360.]]\n",
      "Number of end_nodes BEFORE filtering = 3\n",
      "all_single_nodes_to_eliminate = [0]\n",
      "no small end nodes to get rid of so returning whole skeleton\n",
      "Removed 0 skeletal branches\n"
     ]
    },
    {
     "data": {
      "application/vnd.jupyter.widget-view+json": {
       "model_id": "26e43468e1094ed49311de1b3c0fb53b",
       "version_major": 2,
       "version_minor": 0
      },
      "text/plain": [
       "  0%|          | 0/3 [00:00<?, ?it/s]"
      ]
     },
     "metadata": {},
     "output_type": "display_data"
    },
    {
     "name": "stdout",
     "output_type": "stream",
     "text": [
      "39810 39811\n",
      "For marked faces: None\n",
      "empty_indices % = 0.0\n",
      " conflict_indices % = 0.0\n"
     ]
    },
    {
     "data": {
      "application/vnd.jupyter.widget-view+json": {
       "model_id": "fd223ef99f1b4dbfb78f095b1d0a3d6c",
       "version_major": 2,
       "version_minor": 0
      },
      "text/plain": [
       "0it [00:00, ?it/s]"
      ]
     },
     "metadata": {},
     "output_type": "display_data"
    },
    {
     "name": "stdout",
     "output_type": "stream",
     "text": [
      "AFTER face_lookup_resolved_test\n"
     ]
    },
    {
     "data": {
      "application/vnd.jupyter.widget-view+json": {
       "model_id": "17fe5536cd9d40e5869412dbdb7e04fc",
       "version_major": 2,
       "version_minor": 0
      },
      "text/plain": [
       "  0%|          | 0/3 [00:00<?, ?it/s]"
      ]
     },
     "metadata": {},
     "output_type": "display_data"
    },
    {
     "name": "stdout",
     "output_type": "stream",
     "text": [
      "Successful Limb Decomposition\n",
      "\n",
      "\n",
      "----- Working on Proper Limb # 3 ---------\n",
      "meshparty_segment_size = 100\n",
      "invalidation_d = 12000\n",
      "use_adaptive_invalidation_d= False\n",
      "axon_width_preprocess_limb_max = 200\n",
      "filter_end_node_length= 4000\n",
      "filter_end_node_length_meshparty = 4000\n",
      "invalidation_d = 12000\n",
      "root_curr = [1474851.   571357.5 1113536. ]\n",
      "Time for preparing soma vertices and root: 0.0001914501190185547\n",
      "invalidation_d = 12000\n",
      "smooth_neighborhood = 1\n",
      "cc_vertex_thresh = 10\n"
     ]
    },
    {
     "name": "stderr",
     "output_type": "stream",
     "text": [
      "\r",
      "  0%|          | 0/1 [00:00<?, ?it/s]"
     ]
    },
    {
     "data": {
      "application/vnd.jupyter.widget-view+json": {
       "model_id": "33c77933b34e451686882451b383f297",
       "version_major": 2,
       "version_minor": 0
      },
      "text/plain": [
       "  0%|          | 0/11304 [00:00<?, ?it/s]"
      ]
     },
     "metadata": {},
     "output_type": "display_data"
    },
    {
     "name": "stderr",
     "output_type": "stream",
     "text": [
      "100%|██████████| 1/1 [00:00<00:00, 13.75it/s]\n"
     ]
    },
    {
     "name": "stdout",
     "output_type": "stream",
     "text": [
      "meshparty_segment_size = 100\n",
      "Time for 1st pass MP skeletonization: 0.24803566932678223\n",
      "connecting at the root\n",
      "branches_touching_root = [2]\n",
      "combining close nodes\n",
      "combine_threshold = 700\n",
      "length of Graph = 1216\n",
      "After combining close endpoints max(kept_branches_idx) = 2, len(kept_branches_idx) = 3\n",
      "empty_indices % = 0.0\n",
      " conflict_indices % = 0.0026850443032310034\n"
     ]
    },
    {
     "data": {
      "application/vnd.jupyter.widget-view+json": {
       "model_id": "a36505974c1f4b7084e0bdc5443a0cec",
       "version_major": 2,
       "version_minor": 0
      },
      "text/plain": [
       "  0%|          | 0/1 [00:00<?, ?it/s]"
      ]
     },
     "metadata": {},
     "output_type": "display_data"
    },
    {
     "name": "stdout",
     "output_type": "stream",
     "text": [
      "AFTER face_lookup_resolved_test\n"
     ]
    },
    {
     "data": {
      "application/vnd.jupyter.widget-view+json": {
       "model_id": "776b7de7f3784b909181c25c3d278378",
       "version_major": 2,
       "version_minor": 0
      },
      "text/plain": [
       "  0%|          | 0/3 [00:00<?, ?it/s]"
      ]
     },
     "metadata": {},
     "output_type": "display_data"
    },
    {
     "name": "stdout",
     "output_type": "stream",
     "text": [
      "Decomposing first pass: 0.8438451290130615\n",
      "Attempting to use MeshAfterParty Skeletonization and Mesh Correspondence\n",
      "Another print\n",
      "Divinding into MP and MAP pieces: 9.608268737792969e-05\n",
      "Total time for MAP sublimb processing 6.9141387939453125e-06\n",
      "---- Working on MP Decomposition #0 ----\n",
      "Using Quicker soma_to_piece_touching_vertices because no MAP and only one sublimb_mesh piece \n",
      "MP filtering soma verts: 4.4345855712890625e-05\n",
      "Fixing Possible Soma Extension Branch for Sublimb 0\n",
      "Total time for mesh KDTree = 0.14368462562561035\n",
      "sbv[0].reshape(-1,3) = [[1474851.   571357.5 1113536. ]]\n",
      "closest_sk_pt_coord BEFORE = [1478327.0746533   571496.39513115 1112568.79431172]\n",
      "current_skeleton.shape = (816, 2, 3)\n",
      "node_for_stitch = 79: [1478327.0746533   571496.39513115 1112568.79431172]\n",
      "node_for_stitch AFTER = 79: [1478327.0746533   571496.39513115 1112568.79431172]\n",
      "possible_node_loc = [  0 816]\n",
      "possible_node_loc AFTER = [  0 816]\n",
      "curr_shortest_path = [79, 78.0, 77.0, 76.0, 75.0, 74.0, 73.0, 72.0, 71.0, 70.0, 69.0, 68.0, 67.0, 66.0, 65.0, 64.0, 63.0, 62.0, 61.0, 60.0, 59.0, 58.0, 57.0, 56.0, 55.0, 54.0, 53.0, 52.0, 51.0, 50.0, 49.0, 48.0, 47.0, 46.0, 45.0, 44.0, 43.0, 42.0, 41.0, 40.0, 39.0, 38.0, 37.0, 36.0, 35.0, 34.0, 33.0, 32.0, 31.0, 30.0, 29.0, 28.0, 27.0, 26.0, 25.0, 24.0, 23.0, 22.0, 21.0, 20.0, 19.0, 18.0, 17.0, 16.0, 15.0, 14.0, 13.0, 12.0, 11.0, 10.0, 9.0, 8.0, 7.0, 6.0, 5.0, 4.0, 3.0, 2.0, 1.0, 0]\n",
      "Current stitch point was not a branch or endpoint, shortest_path_length to one = 7899.09708045272\n",
      "change_status for create soma extending pieces = False\n",
      "closest_sk_pt_coord AFTER = [1478327.0746533   571496.39513115 1112568.79431172]\n",
      "Adding new branch to skeleton\n",
      "border_average_coordinate = [1475123.88888889  571587.50555556 1113243.55555556]\n",
      "endpoints_must_keep = {1: array([[1475123.88888889,  571587.50555556, 1113243.55555556]])}\n",
      "match_sk_branches = []\n",
      "orig_vertex = [1478327.0746533   571496.39513115 1112568.79431172]\n",
      "match_sk_branches = [2]\n"
     ]
    },
    {
     "data": {
      "application/vnd.jupyter.widget-view+json": {
       "model_id": "70f8d432184d44f5bb5fafb5b5fea598",
       "version_major": 2,
       "version_minor": 0
      },
      "text/plain": [
       "0it [00:00, ?it/s]"
      ]
     },
     "metadata": {},
     "output_type": "display_data"
    },
    {
     "name": "stdout",
     "output_type": "stream",
     "text": [
      "\n",
      "\n",
      "--- Working on 1-to-1 correspondence-----\n",
      "max(original_labels),len(original_labels) = (2, 3)\n",
      "empty_indices % = 0.2050387829956106\n",
      " conflict_indices % = 0.0\n"
     ]
    },
    {
     "data": {
      "application/vnd.jupyter.widget-view+json": {
       "model_id": "24e5274ec1ef44d6b3d1ac3ebb38b560",
       "version_major": 2,
       "version_minor": 0
      },
      "text/plain": [
       "  0%|          | 0/50 [00:00<?, ?it/s]"
      ]
     },
     "metadata": {},
     "output_type": "display_data"
    },
    {
     "name": "stdout",
     "output_type": "stream",
     "text": [
      "AFTER face_lookup_resolved_test\n",
      "Took 0 iterations to expand the label back\n",
      "empty_indices % = 0.0\n",
      " conflict_indices % = 0.0\n"
     ]
    },
    {
     "data": {
      "application/vnd.jupyter.widget-view+json": {
       "model_id": "310f540927b64cfcb324608f3d5c6169",
       "version_major": 2,
       "version_minor": 0
      },
      "text/plain": [
       "0it [00:00, ?it/s]"
      ]
     },
     "metadata": {},
     "output_type": "display_data"
    },
    {
     "name": "stdout",
     "output_type": "stream",
     "text": [
      "AFTER face_lookup_resolved_test\n"
     ]
    },
    {
     "data": {
      "application/vnd.jupyter.widget-view+json": {
       "model_id": "7f29e411d59a4c00a354fdb317d4e2c8",
       "version_major": 2,
       "version_minor": 0
      },
      "text/plain": [
       "  0%|          | 0/3 [00:00<?, ?it/s]"
      ]
     },
     "metadata": {},
     "output_type": "display_data"
    },
    {
     "name": "stdout",
     "output_type": "stream",
     "text": [
      "curr_width_median = 87.47078966212544\n",
      "curr_width_median = 443.62271379495223\n",
      "curr_width_median = 382.3323828919923\n",
      "checked segment branches after soma add on\n",
      "MP (because soma touching verts) soma extension add: 2.0983335971832275\n",
      "There were not both MAP and MP pieces so skipping the stitch resolving phase\n",
      "Time for decomp of Limb = 3.2285451889038086\n",
      "Number of matching vertices = 18\n",
      "Only one endpoint after filtering away the endpoints that are not on the skeleton\n",
      "Using Distance measure skeletal_distance\n",
      "endpoints_must_keep = [[1475123.88888889  571587.50555556 1113243.55555556]]\n",
      "Number of end_nodes BEFORE filtering = 4\n",
      "all_single_nodes_to_eliminate = [1]\n",
      "no small end nodes to get rid of so returning whole skeleton\n",
      "Removed 0 skeletal branches\n"
     ]
    },
    {
     "data": {
      "application/vnd.jupyter.widget-view+json": {
       "model_id": "48266afa0d684a33af33a1d1816eab0a",
       "version_major": 2,
       "version_minor": 0
      },
      "text/plain": [
       "  0%|          | 0/5 [00:00<?, ?it/s]"
      ]
     },
     "metadata": {},
     "output_type": "display_data"
    },
    {
     "name": "stdout",
     "output_type": "stream",
     "text": [
      "22345 22346\n",
      "For marked faces: None\n",
      "empty_indices % = 0.0\n",
      " conflict_indices % = 0.0\n"
     ]
    },
    {
     "data": {
      "application/vnd.jupyter.widget-view+json": {
       "model_id": "2ed08881575946f985edb27c0e19d32a",
       "version_major": 2,
       "version_minor": 0
      },
      "text/plain": [
       "0it [00:00, ?it/s]"
      ]
     },
     "metadata": {},
     "output_type": "display_data"
    },
    {
     "name": "stdout",
     "output_type": "stream",
     "text": [
      "AFTER face_lookup_resolved_test\n"
     ]
    },
    {
     "data": {
      "application/vnd.jupyter.widget-view+json": {
       "model_id": "661172a0284849728bcfbf7592ee8597",
       "version_major": 2,
       "version_minor": 0
      },
      "text/plain": [
       "  0%|          | 0/5 [00:00<?, ?it/s]"
      ]
     },
     "metadata": {},
     "output_type": "display_data"
    },
    {
     "name": "stdout",
     "output_type": "stream",
     "text": [
      "Successful Limb Decomposition\n",
      "\n",
      "\n",
      "----- Working on Proper Limb # 4 ---------\n",
      "meshparty_segment_size = 100\n",
      "invalidation_d = 12000\n",
      "use_adaptive_invalidation_d= False\n",
      "axon_width_preprocess_limb_max = 200\n",
      "filter_end_node_length= 4000\n",
      "filter_end_node_length_meshparty = 4000\n",
      "invalidation_d = 12000\n",
      "root_curr = [1493560.   586779.1 1105606. ]\n",
      "Time for preparing soma vertices and root: 0.00025725364685058594\n",
      "invalidation_d = 12000\n",
      "smooth_neighborhood = 1\n",
      "cc_vertex_thresh = 10\n"
     ]
    },
    {
     "name": "stderr",
     "output_type": "stream",
     "text": [
      "\r",
      "  0%|          | 0/1 [00:00<?, ?it/s]"
     ]
    },
    {
     "data": {
      "application/vnd.jupyter.widget-view+json": {
       "model_id": "ca0c80b5f69d4846ac5ea59adb7568e9",
       "version_major": 2,
       "version_minor": 0
      },
      "text/plain": [
       "  0%|          | 0/10788 [00:00<?, ?it/s]"
      ]
     },
     "metadata": {},
     "output_type": "display_data"
    },
    {
     "name": "stderr",
     "output_type": "stream",
     "text": [
      "100%|██████████| 1/1 [00:00<00:00, 14.50it/s]\n"
     ]
    },
    {
     "name": "stdout",
     "output_type": "stream",
     "text": [
      "meshparty_segment_size = 100\n",
      "Time for 1st pass MP skeletonization: 0.2567481994628906\n",
      "connecting at the root\n",
      "branches_touching_root = [0]\n",
      "combining close nodes\n",
      "combine_threshold = 700\n",
      "length of Graph = 741\n",
      "After combining close endpoints max(kept_branches_idx) = 0, len(kept_branches_idx) = 1\n",
      "empty_indices % = 0.0\n",
      " conflict_indices % = 0.0\n"
     ]
    },
    {
     "data": {
      "application/vnd.jupyter.widget-view+json": {
       "model_id": "240d2870dff34082a4a6b33a66530689",
       "version_major": 2,
       "version_minor": 0
      },
      "text/plain": [
       "0it [00:00, ?it/s]"
      ]
     },
     "metadata": {},
     "output_type": "display_data"
    },
    {
     "name": "stdout",
     "output_type": "stream",
     "text": [
      "AFTER face_lookup_resolved_test\n"
     ]
    },
    {
     "data": {
      "application/vnd.jupyter.widget-view+json": {
       "model_id": "0094a6e7699d4811b6c0754f243cc78b",
       "version_major": 2,
       "version_minor": 0
      },
      "text/plain": [
       "  0%|          | 0/1 [00:00<?, ?it/s]"
      ]
     },
     "metadata": {},
     "output_type": "display_data"
    },
    {
     "name": "stdout",
     "output_type": "stream",
     "text": [
      "Decomposing first pass: 0.557326078414917\n",
      "Attempting to use MeshAfterParty Skeletonization and Mesh Correspondence\n",
      "Another print\n",
      "Found len(mesh_large_idx) MAP candidates: [20742]\n",
      "mesh_large_connectivity: 0.0001285076141357422\n",
      "Finding MAP candidates connected components: 0.00010395050048828125\n",
      "len(filtered_pieces) = 1\n",
      "skeleton_connectivity_MP : 0.008702754974365234\n",
      "Grouping MP Sublimbs by Graph: 3.147125244140625e-05\n",
      "Divinding into MP and MAP pieces: 7.152557373046875e-07\n",
      "--- Working on MAP piece 0---\n",
      "MAP Filtering Soma Pieces: 0.018251895904541016\n",
      "inside skeletonize_connected_branch and use_surface_after_CGAL=True, surface_reconstruction_size=1000\n",
      "keep_idx = [0]\n",
      "     Starting Screened Poisson\n",
      "xvfb-run -n 9375 -s \"-screen 0 800x600x24\" meshlabserver $@  -i /neurd_packages/NEURD/Applications/Tutorial/temp/None.off -o /neurd_packages/NEURD/Applications/Tutorial/temp/None_poisson.off -s /neurd_packages/NEURD/Applications/Tutorial/temp/poisson_705151.mls\n",
      "removed temporary input file: /neurd_packages/NEURD/Applications/Tutorial/temp/None.off\n",
      "removed temporary output file: /neurd_packages/NEURD/Applications/Tutorial/temp/None_poisson.off\n",
      "Using the close holes feature\n",
      "xvfb-run -n 7466 -s \"-screen 0 800x600x24\" meshlabserver $@  -i /neurd_packages/NEURD/Applications/Tutorial/temp/neuron_15433.off -o /neurd_packages/NEURD/Applications/Tutorial/temp/neuron_15433_fill_holes.off -s /neurd_packages/NEURD/Applications/Tutorial/temp/fill_holes_298218.mls\n",
      "removed temporary input file: /neurd_packages/NEURD/Applications/Tutorial/temp/neuron_15433.off\n",
      "removed temporary output file: /neurd_packages/NEURD/Applications/Tutorial/temp/neuron_15433_fill_holes.off\n",
      "/neurd_packages/NEURD/Applications/Tutorial/temp/fill_holes_298218.mls is being deleted....\n",
      "-----Time for Screened Poisson= 12.590628862380981\n",
      "mesh_pieces = [<trimesh.Trimesh(vertices.shape=(32479, 3), faces.shape=(64962, 3))>]\n",
      "     Starting Calcification (Changed back where stitches large poissons)\n",
      "Manifold status before skeletonization = True\n",
      "Watertight status before skeletonization = True\n",
      "min_edge_length = 75\n",
      "Before mesh subtraction number of skeleton edges = 794\n"
     ]
    },
    {
     "data": {
      "application/vnd.jupyter.widget-view+json": {
       "model_id": "3a4b18a695dd4b96a945260fd55fdaf4",
       "version_major": 2,
       "version_minor": 0
      },
      "text/plain": [
       "0it [00:00, ?it/s]"
      ]
     },
     "metadata": {},
     "output_type": "display_data"
    },
    {
     "name": "stdout",
     "output_type": "stream",
     "text": [
      "len(leftover_meshes_sig) = []\n"
     ]
    },
    {
     "data": {
      "application/vnd.jupyter.widget-view+json": {
       "model_id": "9a3e7d559da04eb599e2a8f04c968287",
       "version_major": 2,
       "version_minor": 0
      },
      "text/plain": [
       "0it [00:00, ?it/s]"
      ]
     },
     "metadata": {},
     "output_type": "display_data"
    },
    {
     "name": "stdout",
     "output_type": "stream",
     "text": [
      "No skeletons to stack so returning empty list\n",
      "STacking the leftover and significant poisson skeleton\n",
      "max_stitch_distance = 5000\n",
      "len_subgraphs AT BEGINNING of the loop\n"
     ]
    },
    {
     "data": {
      "application/vnd.jupyter.widget-view+json": {
       "model_id": "1b1dce0b9e394aaa820ca4ed9ea9b16b",
       "version_major": 2,
       "version_minor": 0
      },
      "text/plain": [
       "  0%|          | 0/1 [00:00<?, ?it/s]"
      ]
     },
     "metadata": {},
     "output_type": "display_data"
    },
    {
     "name": "stdout",
     "output_type": "stream",
     "text": [
      "all graph is one component!\n",
      "Total time for skeleton stitching = 0.02216815948486328\n",
      "The process was using a temp folder\n",
      "Checking connected components after skeletonize_connected_branch\n",
      "    Total time for skeletonizing branch: 22.551315546035767\n",
      "Checking connected components after removing cycles\n",
      "Total time for mesh KDTree = 0.13971638679504395\n",
      "sbv[0].reshape(-1,3) = [[1493560.   586779.1 1105606. ]]\n",
      "closest_sk_pt_coord BEFORE = [1492710.  587127. 1106590.]\n",
      "current_skeleton.shape = (793, 2, 3)\n",
      "node_for_stitch = 210: [1492710.  587127. 1106590.]\n",
      "node_for_stitch AFTER = 210: [1492710.  587127. 1106590.]\n",
      "possible_node_loc = [  0 113 136 137 155 156 184 210 328 434 594 605 609 645 752 761 793]\n",
      "possible_node_loc AFTER = [  0 113 136 137 155 156 184 210 328 434 594 605 609 645 752 761 793]\n",
      "curr_shortest_path = [210]\n",
      "Current stitch point was a branch or endpoint\n",
      "change_status for create soma extending pieces = False\n",
      "closest_sk_pt_coord AFTER = [1492710.  587127. 1106590.]\n",
      "skipping soma 0 because closest skeleton node was already end node\n",
      "sbv[0].reshape(-1,3) = [[1474600.   582912.4 1113344. ]]\n",
      "closest_sk_pt_coord BEFORE = [1474880.  582876. 1113480.]\n",
      "current_skeleton.shape = (793, 2, 3)\n",
      "node_for_stitch = 0: [1474880.  582876. 1113480.]\n",
      "node_for_stitch AFTER = 0: [1474880.  582876. 1113480.]\n",
      "possible_node_loc = [  0 113 136 137 155 156 184 210 328 434 594 605 609 645 752 761 793]\n",
      "possible_node_loc AFTER = [  0 113 136 137 155 156 184 210 328 434 594 605 609 645 752 761 793]\n",
      "curr_shortest_path = [0]\n",
      "Current stitch point was a branch or endpoint\n",
      "change_status for create soma extending pieces = False\n",
      "closest_sk_pt_coord AFTER = [1474880.  582876. 1113480.]\n",
      "skipping soma 1 because closest skeleton node was already end node\n",
      "endpoints_must_keep = {0: array([[1492710.,  587127., 1106590.]]), 1: array([[1474880.,  582876., 1113480.]])}\n",
      "    Total time for Fixing Skeleton Soma Endpoint Extension : 0.3760075569152832\n",
      "filter_end_node_length = 4000\n",
      "Using Distance measure skeletal_distance\n",
      "endpoints_must_keep = [[1492710.  587127. 1106590.]\n",
      " [1474880.  582876. 1113480.]]\n",
      "Number of end_nodes BEFORE filtering = 17\n",
      "all_single_nodes_to_eliminate = [7, 0]\n"
     ]
    },
    {
     "data": {
      "application/vnd.jupyter.widget-view+json": {
       "model_id": "0695ace194fc4f0e87c31e2773dc13a5",
       "version_major": 2,
       "version_minor": 0
      },
      "text/plain": [
       "  0%|          | 0/12 [00:00<?, ?it/s]"
      ]
     },
     "metadata": {},
     "output_type": "display_data"
    },
    {
     "name": "stdout",
     "output_type": "stream",
     "text": [
      "Checking connected components after clean_skeleton\n",
      "after DISTANCE cleaning limb size of skeleton = (733, 2, 3)\n",
      "********COMBINING CLOSE SKELETON NODES WITHIN 700 DISTANCE**********\n",
      "combine_threshold = 700\n",
      "Found 0 valid paths to replace\n",
      "valid_paths = []\n",
      "valid_path_lengths = []\n",
      "No valid paths found so just returning the original\n",
      "skeletonize_and_clean_connected_branch_CGAL: 24.23167634010315\n",
      "Working on limb correspondence for #0 MAP piece\n",
      "xvfb-run -n 7011 -s \"-screen 0 800x600x24\" meshlabserver $@  -i /neurd_packages/NEURD/Applications/Tutorial/temp/neuron_66013.off -o /neurd_packages/NEURD/Applications/Tutorial/temp/neuron_66013_remove_interior.off -s /neurd_packages/NEURD/Applications/Tutorial/temp/remove_interior_550508.mls\n",
      "removed temporary input file: /neurd_packages/NEURD/Applications/Tutorial/temp/neuron_66013.off\n",
      "removed temporary output file: /neurd_packages/NEURD/Applications/Tutorial/temp/neuron_66013_remove_interior.off\n",
      "/neurd_packages/NEURD/Applications/Tutorial/temp/remove_interior_550508.mls is being deleted....\n",
      "Removing the following inside neurons: [<trimesh.Trimesh(vertices.shape=(205, 3), faces.shape=(309, 3))>]\n"
     ]
    },
    {
     "data": {
      "application/vnd.jupyter.widget-view+json": {
       "model_id": "4cbb1d546ded47f691adaee298fabcf8",
       "version_major": 2,
       "version_minor": 0
      },
      "text/plain": [
       "0it [00:00, ?it/s]"
      ]
     },
     "metadata": {},
     "output_type": "display_data"
    },
    {
     "name": "stdout",
     "output_type": "stream",
     "text": [
      "Total time for decomposition = 2.960599422454834\n",
      "mesh_correspondence_first_pass: 2.960648775100708\n",
      "Limb decomposed into 7 branches\n",
      "divided_skeleton_graph_recovered = (733, 2, 3) and \n",
      "current_mesh_data[0]['branch_skeletons_cleaned'].shape = (733, 2, 3)\n",
      "\n",
      "Number of connected components in deocmposed recovered graph = 1\n",
      "Number of connected components in cleaned skeleton graph= 1\n",
      "The downsampled branches number of connected components = 1\n",
      "Empty submeshes = []\n",
      "\n",
      "\n",
      "--- Working on 1-to-1 correspondence-----\n",
      "max(original_labels),len(original_labels) = (6, 7)\n",
      "empty_indices % = 0.1747179635522129\n",
      " conflict_indices % = 0.049272008485199116\n"
     ]
    },
    {
     "data": {
      "application/vnd.jupyter.widget-view+json": {
       "model_id": "d88dce490ee64396807acb8753707e6d",
       "version_major": 2,
       "version_minor": 0
      },
      "text/plain": [
       "  0%|          | 0/57 [00:00<?, ?it/s]"
      ]
     },
     "metadata": {},
     "output_type": "display_data"
    },
    {
     "name": "stdout",
     "output_type": "stream",
     "text": [
      "AFTER face_lookup_resolved_test\n",
      "Took 0 iterations to expand the label back\n",
      "empty_indices % = 0.0\n",
      " conflict_indices % = 0.0\n"
     ]
    },
    {
     "data": {
      "application/vnd.jupyter.widget-view+json": {
       "model_id": "ef45551463624f02b8bcdba00c7e0b7f",
       "version_major": 2,
       "version_minor": 0
      },
      "text/plain": [
       "0it [00:00, ?it/s]"
      ]
     },
     "metadata": {},
     "output_type": "display_data"
    },
    {
     "name": "stdout",
     "output_type": "stream",
     "text": [
      "AFTER face_lookup_resolved_test\n",
      "Took 0 iterations to expand the label back\n",
      "empty_indices % = 0.0\n",
      " conflict_indices % = 0.0\n"
     ]
    },
    {
     "data": {
      "application/vnd.jupyter.widget-view+json": {
       "model_id": "92e8b725fb684a9d88098fd9c9ba953d",
       "version_major": 2,
       "version_minor": 0
      },
      "text/plain": [
       "0it [00:00, ?it/s]"
      ]
     },
     "metadata": {},
     "output_type": "display_data"
    },
    {
     "name": "stdout",
     "output_type": "stream",
     "text": [
      "AFTER face_lookup_resolved_test\n"
     ]
    },
    {
     "data": {
      "application/vnd.jupyter.widget-view+json": {
       "model_id": "3424607bd9824f7a90b1333afea88272",
       "version_major": 2,
       "version_minor": 0
      },
      "text/plain": [
       "  0%|          | 0/7 [00:00<?, ?it/s]"
      ]
     },
     "metadata": {},
     "output_type": "display_data"
    },
    {
     "name": "stdout",
     "output_type": "stream",
     "text": [
      "Total time for MAP sublimb #0 mesh processing = 29.228230476379395\n",
      "correspondence_1_to_1: 2.0176236629486084\n",
      "Total time for MAP sublimb processing 29.228304147720337\n",
      "There were not both MAP and MP pieces so skipping the stitch resolving phase\n",
      "Time for decomp of Limb = 30.07534694671631\n",
      "Number of matching vertices = 60\n",
      "Number of matching vertices = 13\n",
      "Only one endpoint after filtering away the endpoints that are not on the skeleton\n",
      "Only one endpoint after filtering away the endpoints that are not on the skeleton\n",
      "Using Distance measure skeletal_distance\n",
      "endpoints_must_keep = [[1474880.  582876. 1113480.]\n",
      " [1492710.  587127. 1106590.]]\n",
      "Number of end_nodes BEFORE filtering = 5\n",
      "all_single_nodes_to_eliminate = [0, 2]\n",
      "no small end nodes to get rid of so returning whole skeleton\n",
      "Removed 0 skeletal branches\n"
     ]
    },
    {
     "data": {
      "application/vnd.jupyter.widget-view+json": {
       "model_id": "14d7c61cc8544f6aab44697a9dd5efa2",
       "version_major": 2,
       "version_minor": 0
      },
      "text/plain": [
       "  0%|          | 0/7 [00:00<?, ?it/s]"
      ]
     },
     "metadata": {},
     "output_type": "display_data"
    },
    {
     "name": "stdout",
     "output_type": "stream",
     "text": [
      "20741 20742\n",
      "For marked faces: None\n",
      "empty_indices % = 0.0\n",
      " conflict_indices % = 0.0\n"
     ]
    },
    {
     "data": {
      "application/vnd.jupyter.widget-view+json": {
       "model_id": "d5bc3c95fa66461fa977b28d5e4afc64",
       "version_major": 2,
       "version_minor": 0
      },
      "text/plain": [
       "0it [00:00, ?it/s]"
      ]
     },
     "metadata": {},
     "output_type": "display_data"
    },
    {
     "name": "stdout",
     "output_type": "stream",
     "text": [
      "AFTER face_lookup_resolved_test\n"
     ]
    },
    {
     "data": {
      "application/vnd.jupyter.widget-view+json": {
       "model_id": "1d0d1568f945402aa88f2990c1a57f22",
       "version_major": 2,
       "version_minor": 0
      },
      "text/plain": [
       "  0%|          | 0/7 [00:00<?, ?it/s]"
      ]
     },
     "metadata": {},
     "output_type": "display_data"
    },
    {
     "name": "stdout",
     "output_type": "stream",
     "text": [
      "Successful Limb Decomposition\n",
      "\n",
      "\n",
      "----- Working on Proper Limb # 5 ---------\n",
      "meshparty_segment_size = 100\n",
      "invalidation_d = 12000\n",
      "use_adaptive_invalidation_d= False\n",
      "axon_width_preprocess_limb_max = 200\n",
      "filter_end_node_length= 4000\n",
      "filter_end_node_length_meshparty = 4000\n",
      "invalidation_d = 12000\n",
      "root_curr = [1486653.   594244.2 1104480. ]\n",
      "Time for preparing soma vertices and root: 0.0002219676971435547\n",
      "invalidation_d = 12000\n",
      "smooth_neighborhood = 1\n",
      "cc_vertex_thresh = 10\n"
     ]
    },
    {
     "name": "stderr",
     "output_type": "stream",
     "text": [
      "\r",
      "  0%|          | 0/1 [00:00<?, ?it/s]"
     ]
    },
    {
     "data": {
      "application/vnd.jupyter.widget-view+json": {
       "model_id": "803f101e80c443419e8f3e1963e5d63a",
       "version_major": 2,
       "version_minor": 0
      },
      "text/plain": [
       "  0%|          | 0/9843 [00:00<?, ?it/s]"
      ]
     },
     "metadata": {},
     "output_type": "display_data"
    },
    {
     "name": "stderr",
     "output_type": "stream",
     "text": [
      "100%|██████████| 1/1 [00:00<00:00, 17.28it/s]\n"
     ]
    },
    {
     "name": "stdout",
     "output_type": "stream",
     "text": [
      "meshparty_segment_size = 100\n",
      "Time for 1st pass MP skeletonization: 0.23710083961486816\n",
      "branches_touching_root = [0]\n",
      "combining close nodes\n",
      "combine_threshold = 700\n",
      "length of Graph = 818\n",
      "After combining close endpoints max(kept_branches_idx) = 0, len(kept_branches_idx) = 1\n",
      "empty_indices % = 0.0\n",
      " conflict_indices % = 0.0\n"
     ]
    },
    {
     "data": {
      "application/vnd.jupyter.widget-view+json": {
       "model_id": "90d3bf6126a24ab48c61e2f5a12eb6b9",
       "version_major": 2,
       "version_minor": 0
      },
      "text/plain": [
       "0it [00:00, ?it/s]"
      ]
     },
     "metadata": {},
     "output_type": "display_data"
    },
    {
     "name": "stdout",
     "output_type": "stream",
     "text": [
      "AFTER face_lookup_resolved_test\n"
     ]
    },
    {
     "data": {
      "application/vnd.jupyter.widget-view+json": {
       "model_id": "9f7b10b46d81445db53bbfb2ee0e2b3e",
       "version_major": 2,
       "version_minor": 0
      },
      "text/plain": [
       "  0%|          | 0/1 [00:00<?, ?it/s]"
      ]
     },
     "metadata": {},
     "output_type": "display_data"
    },
    {
     "name": "stdout",
     "output_type": "stream",
     "text": [
      "Decomposing first pass: 0.5496523380279541\n",
      "Attempting to use MeshAfterParty Skeletonization and Mesh Correspondence\n",
      "Another print\n",
      "Divinding into MP and MAP pieces: 4.267692565917969e-05\n",
      "Total time for MAP sublimb processing 3.0994415283203125e-06\n",
      "---- Working on MP Decomposition #0 ----\n",
      "Using Quicker soma_to_piece_touching_vertices because no MAP and only one sublimb_mesh piece \n",
      "MP filtering soma verts: 1.7881393432617188e-05\n",
      "Fixing Possible Soma Extension Branch for Sublimb 0\n",
      "Total time for mesh KDTree = 0.15266776084899902\n",
      "sbv[0].reshape(-1,3) = [[1486653.   594244.2 1104480. ]]\n",
      "closest_sk_pt_coord BEFORE = [1486547.7606223   594609.92820407 1104601.87572914]\n",
      "current_skeleton.shape = (817, 2, 3)\n",
      "node_for_stitch = 817: [1486547.7606223   594609.92820407 1104601.87572914]\n",
      "node_for_stitch AFTER = 817: [1486547.7606223   594609.92820407 1104601.87572914]\n",
      "possible_node_loc = [334 817]\n",
      "possible_node_loc AFTER = [334 817]\n",
      "curr_shortest_path = [817]\n",
      "Current stitch point was a branch or endpoint\n",
      "change_status for create soma extending pieces = False\n",
      "closest_sk_pt_coord AFTER = [1486547.7606223   594609.92820407 1104601.87572914]\n",
      "skipping soma 0 because closest skeleton node was already end node\n",
      "endpoints_must_keep = {0: array([[1486547.7606223 ,  594609.92820407, 1104601.87572914]])}\n",
      "match_sk_branches = [0]\n",
      "The new branch info was none so skipping \n",
      "\n",
      "No soma extending branch was added for this sublimb even though it had a soma border (means they already existed)\n",
      "MP (because soma touching verts) soma extension add: 0.2932734489440918\n",
      "There were not both MAP and MP pieces so skipping the stitch resolving phase\n",
      "Time for decomp of Limb = 1.1003930568695068\n",
      "Number of matching vertices = 27\n",
      "Only one endpoint after filtering away the endpoints that are not on the skeleton\n",
      "Using Distance measure skeletal_distance\n",
      "endpoints_must_keep = [[1486547.7606223   594609.92820407 1104601.87572914]]\n",
      "Number of end_nodes BEFORE filtering = 2\n",
      "all_single_nodes_to_eliminate = [1]\n",
      "no small end nodes to get rid of so returning whole skeleton\n",
      "Removed 0 skeletal branches\n"
     ]
    },
    {
     "data": {
      "application/vnd.jupyter.widget-view+json": {
       "model_id": "b0c7b50f385640adb36bb5bebe86ef65",
       "version_major": 2,
       "version_minor": 0
      },
      "text/plain": [
       "  0%|          | 0/1 [00:00<?, ?it/s]"
      ]
     },
     "metadata": {},
     "output_type": "display_data"
    },
    {
     "name": "stdout",
     "output_type": "stream",
     "text": [
      "19361 19362\n",
      "For marked faces: None\n",
      "empty_indices % = 0.0\n",
      " conflict_indices % = 0.0\n"
     ]
    },
    {
     "data": {
      "application/vnd.jupyter.widget-view+json": {
       "model_id": "d0874a1c264f4c8f954a00c491958016",
       "version_major": 2,
       "version_minor": 0
      },
      "text/plain": [
       "0it [00:00, ?it/s]"
      ]
     },
     "metadata": {},
     "output_type": "display_data"
    },
    {
     "name": "stdout",
     "output_type": "stream",
     "text": [
      "AFTER face_lookup_resolved_test\n"
     ]
    },
    {
     "data": {
      "application/vnd.jupyter.widget-view+json": {
       "model_id": "7fa14902352d46d6ac69f056a4b762b4",
       "version_major": 2,
       "version_minor": 0
      },
      "text/plain": [
       "  0%|          | 0/1 [00:00<?, ?it/s]"
      ]
     },
     "metadata": {},
     "output_type": "display_data"
    },
    {
     "name": "stdout",
     "output_type": "stream",
     "text": [
      "Successful Limb Decomposition\n",
      "\n",
      "\n",
      "----- Working on Proper Limb # 6 ---------\n",
      "meshparty_segment_size = 100\n",
      "invalidation_d = 12000\n",
      "use_adaptive_invalidation_d= False\n",
      "axon_width_preprocess_limb_max = 200\n",
      "filter_end_node_length= 4000\n",
      "filter_end_node_length_meshparty = 4000\n",
      "invalidation_d = 12000\n",
      "root_curr = [1491272.  582425. 1102199.]\n",
      "Time for preparing soma vertices and root: 0.0002722740173339844\n",
      "invalidation_d = 12000\n",
      "smooth_neighborhood = 1\n",
      "cc_vertex_thresh = 10\n"
     ]
    },
    {
     "name": "stderr",
     "output_type": "stream",
     "text": [
      "\r",
      "  0%|          | 0/1 [00:00<?, ?it/s]"
     ]
    },
    {
     "data": {
      "application/vnd.jupyter.widget-view+json": {
       "model_id": "ebcfc920c959433899a58a931f416bc4",
       "version_major": 2,
       "version_minor": 0
      },
      "text/plain": [
       "  0%|          | 0/7350 [00:00<?, ?it/s]"
      ]
     },
     "metadata": {},
     "output_type": "display_data"
    },
    {
     "name": "stderr",
     "output_type": "stream",
     "text": [
      "\r",
      "100%|██████████| 1/1 [00:00<00:00, 29.69it/s]"
     ]
    },
    {
     "name": "stdout",
     "output_type": "stream",
     "text": [
      "meshparty_segment_size = 100\n",
      "Time for 1st pass MP skeletonization: 0.15643024444580078\n",
      "connecting at the root\n",
      "branches_touching_root = [0]\n"
     ]
    },
    {
     "name": "stderr",
     "output_type": "stream",
     "text": [
      "\n"
     ]
    },
    {
     "name": "stdout",
     "output_type": "stream",
     "text": [
      "combining close nodes\n",
      "combine_threshold = 700\n",
      "length of Graph = 734\n",
      "After combining close endpoints max(kept_branches_idx) = 0, len(kept_branches_idx) = 1\n",
      "empty_indices % = 0.0\n",
      " conflict_indices % = 0.0\n"
     ]
    },
    {
     "data": {
      "application/vnd.jupyter.widget-view+json": {
       "model_id": "efcf61435bd7476c907db44c38cb8a79",
       "version_major": 2,
       "version_minor": 0
      },
      "text/plain": [
       "0it [00:00, ?it/s]"
      ]
     },
     "metadata": {},
     "output_type": "display_data"
    },
    {
     "name": "stdout",
     "output_type": "stream",
     "text": [
      "AFTER face_lookup_resolved_test\n"
     ]
    },
    {
     "data": {
      "application/vnd.jupyter.widget-view+json": {
       "model_id": "60da687d9c924e598aa3f761a29ccd86",
       "version_major": 2,
       "version_minor": 0
      },
      "text/plain": [
       "  0%|          | 0/1 [00:00<?, ?it/s]"
      ]
     },
     "metadata": {},
     "output_type": "display_data"
    },
    {
     "name": "stdout",
     "output_type": "stream",
     "text": [
      "Decomposing first pass: 0.4214913845062256\n",
      "Attempting to use MeshAfterParty Skeletonization and Mesh Correspondence\n",
      "Another print\n",
      "Divinding into MP and MAP pieces: 2.7894973754882812e-05\n",
      "Total time for MAP sublimb processing 2.6226043701171875e-06\n",
      "---- Working on MP Decomposition #0 ----\n",
      "Using Quicker soma_to_piece_touching_vertices because no MAP and only one sublimb_mesh piece \n",
      "MP filtering soma verts: 1.4066696166992188e-05\n",
      "Fixing Possible Soma Extension Branch for Sublimb 0\n",
      "Total time for mesh KDTree = 0.12218904495239258\n",
      "sbv[0].reshape(-1,3) = [[1491272.  582425. 1102199.]]\n",
      "closest_sk_pt_coord BEFORE = [1491378.93502276  582020.70946596 1101822.28585048]\n",
      "current_skeleton.shape = (733, 2, 3)\n",
      "node_for_stitch = 1: [1491378.93502276  582020.70946596 1101822.28585048]\n",
      "node_for_stitch AFTER = 1: [1491378.93502276  582020.70946596 1101822.28585048]\n",
      "possible_node_loc = [  0 708]\n",
      "possible_node_loc AFTER = [  0 708]\n",
      "curr_shortest_path = [1, 0.0]\n",
      "Current stitch point was not a branch or endpoint, shortest_path_length to one = 99.99677776977433\n",
      "Changing the stitch point becasue the distance to end or branch node was 99.99677776977433\n",
      "New stitch point has degree 1\n",
      "change_status for create soma extending pieces = True\n",
      "closest_sk_pt_coord AFTER = [1491350.10222965  582056.70210586 1101733.55842811]\n",
      "skipping soma 0 because closest skeleton node was already end node\n",
      "endpoints_must_keep = {0: array([[1491350.10222965,  582056.70210586, 1101733.55842811]])}\n",
      "match_sk_branches = [0]\n",
      "The new branch info was none so skipping \n",
      "\n",
      "No soma extending branch was added for this sublimb even though it had a soma border (means they already existed)\n",
      "MP (because soma touching verts) soma extension add: 0.2435774803161621\n",
      "There were not both MAP and MP pieces so skipping the stitch resolving phase\n",
      "Time for decomp of Limb = 0.8382632732391357\n",
      "Number of matching vertices = 9\n",
      "Only one endpoint after filtering away the endpoints that are not on the skeleton\n",
      "Using Distance measure skeletal_distance\n",
      "endpoints_must_keep = [[1491350.10222965  582056.70210586 1101733.55842811]]\n",
      "Number of end_nodes BEFORE filtering = 2\n",
      "all_single_nodes_to_eliminate = [0]\n",
      "no small end nodes to get rid of so returning whole skeleton\n",
      "Removed 0 skeletal branches\n"
     ]
    },
    {
     "data": {
      "application/vnd.jupyter.widget-view+json": {
       "model_id": "0d8d07340a3d497e814a7264c3e3893a",
       "version_major": 2,
       "version_minor": 0
      },
      "text/plain": [
       "  0%|          | 0/1 [00:00<?, ?it/s]"
      ]
     },
     "metadata": {},
     "output_type": "display_data"
    },
    {
     "name": "stdout",
     "output_type": "stream",
     "text": [
      "14575 14576\n",
      "For marked faces: None\n",
      "empty_indices % = 0.0\n",
      " conflict_indices % = 0.0\n"
     ]
    },
    {
     "data": {
      "application/vnd.jupyter.widget-view+json": {
       "model_id": "3644142b12c14da59bc09959f4d9758a",
       "version_major": 2,
       "version_minor": 0
      },
      "text/plain": [
       "0it [00:00, ?it/s]"
      ]
     },
     "metadata": {},
     "output_type": "display_data"
    },
    {
     "name": "stdout",
     "output_type": "stream",
     "text": [
      "AFTER face_lookup_resolved_test\n"
     ]
    },
    {
     "data": {
      "application/vnd.jupyter.widget-view+json": {
       "model_id": "103a3776a1d148b38b4cd4d45c730850",
       "version_major": 2,
       "version_minor": 0
      },
      "text/plain": [
       "  0%|          | 0/1 [00:00<?, ?it/s]"
      ]
     },
     "metadata": {},
     "output_type": "display_data"
    },
    {
     "name": "stdout",
     "output_type": "stream",
     "text": [
      "Successful Limb Decomposition\n",
      "\n",
      "\n",
      "----- Working on Proper Limb # 7 ---------\n",
      "meshparty_segment_size = 100\n",
      "invalidation_d = 12000\n",
      "use_adaptive_invalidation_d= False\n",
      "axon_width_preprocess_limb_max = 200\n",
      "filter_end_node_length= 4000\n",
      "filter_end_node_length_meshparty = 4000\n",
      "invalidation_d = 12000\n",
      "root_curr = [1468936.   574693.8 1112623. ]\n",
      "Time for preparing soma vertices and root: 0.00023651123046875\n",
      "invalidation_d = 12000\n",
      "smooth_neighborhood = 1\n",
      "cc_vertex_thresh = 10\n"
     ]
    },
    {
     "name": "stderr",
     "output_type": "stream",
     "text": [
      "\r",
      "  0%|          | 0/1 [00:00<?, ?it/s]"
     ]
    },
    {
     "data": {
      "application/vnd.jupyter.widget-view+json": {
       "model_id": "fe43081f821c4a46b3591914ea9647d3",
       "version_major": 2,
       "version_minor": 0
      },
      "text/plain": [
       "  0%|          | 0/2055 [00:00<?, ?it/s]"
      ]
     },
     "metadata": {},
     "output_type": "display_data"
    },
    {
     "name": "stderr",
     "output_type": "stream",
     "text": [
      "\r",
      "100%|██████████| 1/1 [00:00<00:00, 34.93it/s]"
     ]
    },
    {
     "name": "stdout",
     "output_type": "stream",
     "text": [
      "meshparty_segment_size = 100\n",
      "Time for 1st pass MP skeletonization: 0.1186375617980957\n",
      "connecting at the root\n",
      "branches_touching_root = [0]\n",
      "combining close nodes\n",
      "combine_threshold = 700\n",
      "length of Graph = 117\n",
      "After combining close endpoints max(kept_branches_idx) = 0, len(kept_branches_idx) = 1\n"
     ]
    },
    {
     "name": "stderr",
     "output_type": "stream",
     "text": [
      "\n"
     ]
    },
    {
     "name": "stdout",
     "output_type": "stream",
     "text": [
      "empty_indices % = 0.0\n",
      " conflict_indices % = 0.0\n"
     ]
    },
    {
     "data": {
      "application/vnd.jupyter.widget-view+json": {
       "model_id": "88d582c7e0eb447db6a05a74d651dbd2",
       "version_major": 2,
       "version_minor": 0
      },
      "text/plain": [
       "0it [00:00, ?it/s]"
      ]
     },
     "metadata": {},
     "output_type": "display_data"
    },
    {
     "name": "stdout",
     "output_type": "stream",
     "text": [
      "AFTER face_lookup_resolved_test\n"
     ]
    },
    {
     "data": {
      "application/vnd.jupyter.widget-view+json": {
       "model_id": "041aa13055b74965bb0c810413de66d2",
       "version_major": 2,
       "version_minor": 0
      },
      "text/plain": [
       "  0%|          | 0/1 [00:00<?, ?it/s]"
      ]
     },
     "metadata": {},
     "output_type": "display_data"
    },
    {
     "name": "stdout",
     "output_type": "stream",
     "text": [
      "Decomposing first pass: 0.1600360870361328\n",
      "Attempting to use MeshAfterParty Skeletonization and Mesh Correspondence\n",
      "Another print\n",
      "Found len(mesh_large_idx) MAP candidates: [3349]\n",
      "mesh_large_connectivity: 0.00010085105895996094\n",
      "Finding MAP candidates connected components: 6.341934204101562e-05\n",
      "len(filtered_pieces) = 1\n",
      "skeleton_connectivity_MP : 0.0016620159149169922\n",
      "Grouping MP Sublimbs by Graph: 1.9550323486328125e-05\n",
      "Divinding into MP and MAP pieces: 7.152557373046875e-07\n",
      "--- Working on MAP piece 0---\n",
      "MAP Filtering Soma Pieces: 0.013821601867675781\n",
      "inside skeletonize_connected_branch and use_surface_after_CGAL=True, surface_reconstruction_size=1000\n",
      "keep_idx = [0]\n",
      "     Starting Screened Poisson\n",
      "xvfb-run -n 1103 -s \"-screen 0 800x600x24\" meshlabserver $@  -i /neurd_packages/NEURD/Applications/Tutorial/temp/None.off -o /neurd_packages/NEURD/Applications/Tutorial/temp/None_poisson.off -s /neurd_packages/NEURD/Applications/Tutorial/temp/poisson_969633.mls\n",
      "removed temporary input file: /neurd_packages/NEURD/Applications/Tutorial/temp/None.off\n",
      "removed temporary output file: /neurd_packages/NEURD/Applications/Tutorial/temp/None_poisson.off\n",
      "Using the close holes feature\n",
      "xvfb-run -n 2181 -s \"-screen 0 800x600x24\" meshlabserver $@  -i /neurd_packages/NEURD/Applications/Tutorial/temp/neuron_9412.off -o /neurd_packages/NEURD/Applications/Tutorial/temp/neuron_9412_fill_holes.off -s /neurd_packages/NEURD/Applications/Tutorial/temp/fill_holes_455644.mls\n",
      "removed temporary input file: /neurd_packages/NEURD/Applications/Tutorial/temp/neuron_9412.off\n",
      "removed temporary output file: /neurd_packages/NEURD/Applications/Tutorial/temp/neuron_9412_fill_holes.off\n",
      "/neurd_packages/NEURD/Applications/Tutorial/temp/fill_holes_455644.mls is being deleted....\n",
      "-----Time for Screened Poisson= 8.784099102020264\n",
      "mesh_pieces = [<trimesh.Trimesh(vertices.shape=(13498, 3), faces.shape=(26992, 3))>]\n",
      "     Starting Calcification (Changed back where stitches large poissons)\n",
      "Manifold status before skeletonization = True\n",
      "Watertight status before skeletonization = True\n",
      "min_edge_length = 75\n",
      "Before mesh subtraction number of skeleton edges = 2\n"
     ]
    },
    {
     "data": {
      "application/vnd.jupyter.widget-view+json": {
       "model_id": "c64da8dd87164320a01c321f7676bad0",
       "version_major": 2,
       "version_minor": 0
      },
      "text/plain": [
       "0it [00:00, ?it/s]"
      ]
     },
     "metadata": {},
     "output_type": "display_data"
    },
    {
     "name": "stdout",
     "output_type": "stream",
     "text": [
      "len(leftover_meshes_sig) = [<trimesh.Trimesh(vertices.shape=(887, 3), faces.shape=(1418, 3))>, <trimesh.Trimesh(vertices.shape=(873, 3), faces.shape=(1367, 3))>]\n"
     ]
    },
    {
     "data": {
      "application/vnd.jupyter.widget-view+json": {
       "model_id": "ba2e10cf765e4242bd6fef9c42ab6d89",
       "version_major": 2,
       "version_minor": 0
      },
      "text/plain": [
       "  0%|          | 0/2 [00:00<?, ?it/s]"
      ]
     },
     "metadata": {},
     "output_type": "display_data"
    },
    {
     "name": "stdout",
     "output_type": "stream",
     "text": [
      "invalidation_d = 12000\n",
      "smooth_neighborhood = 1\n",
      "cc_vertex_thresh = 10\n"
     ]
    },
    {
     "name": "stderr",
     "output_type": "stream",
     "text": [
      "\n",
      "  0%|          | 0/1 [00:00<?, ?it/s]\u001b[A"
     ]
    },
    {
     "data": {
      "application/vnd.jupyter.widget-view+json": {
       "model_id": "4698a1e331ee4c82bdc3e1af4bb258b0",
       "version_major": 2,
       "version_minor": 0
      },
      "text/plain": [
       "  0%|          | 0/886 [00:00<?, ?it/s]"
      ]
     },
     "metadata": {},
     "output_type": "display_data"
    },
    {
     "name": "stderr",
     "output_type": "stream",
     "text": [
      "\r",
      "100%|██████████| 1/1 [00:00<00:00, 68.97it/s]"
     ]
    },
    {
     "name": "stdout",
     "output_type": "stream",
     "text": [
      "Time for sk_meshparty_obj = 0.03665447235107422\n",
      "branches_touching_root = [0]\n",
      "combining close nodes\n",
      "combine_threshold = 700\n",
      "length of Graph = 58\n",
      "After combining close endpoints max(kept_branches_idx) = 0, len(kept_branches_idx) = 1\n",
      "empty_indices % = 0.0\n",
      " conflict_indices % = 0.0\n"
     ]
    },
    {
     "name": "stderr",
     "output_type": "stream",
     "text": [
      "\n"
     ]
    },
    {
     "data": {
      "application/vnd.jupyter.widget-view+json": {
       "model_id": "f912ab8ebe9a4258824ed6d2bada2b42",
       "version_major": 2,
       "version_minor": 0
      },
      "text/plain": [
       "0it [00:00, ?it/s]"
      ]
     },
     "metadata": {},
     "output_type": "display_data"
    },
    {
     "name": "stdout",
     "output_type": "stream",
     "text": [
      "AFTER face_lookup_resolved_test\n"
     ]
    },
    {
     "data": {
      "application/vnd.jupyter.widget-view+json": {
       "model_id": "89cd308b1dd04663af69783700577fa7",
       "version_major": 2,
       "version_minor": 0
      },
      "text/plain": [
       "  0%|          | 0/1 [00:00<?, ?it/s]"
      ]
     },
     "metadata": {},
     "output_type": "display_data"
    },
    {
     "name": "stdout",
     "output_type": "stream",
     "text": [
      "widths = [inf]\n",
      "width_median= inf\n",
      "Time for correspondence = 0.06119537353515625\n",
      "invalidation_d = 12000\n",
      "smooth_neighborhood = 1\n",
      "cc_vertex_thresh = 10\n"
     ]
    },
    {
     "name": "stderr",
     "output_type": "stream",
     "text": [
      "\n",
      "  0%|          | 0/1 [00:00<?, ?it/s]\u001b[A"
     ]
    },
    {
     "data": {
      "application/vnd.jupyter.widget-view+json": {
       "model_id": "faa0bb6caaa346ee9aa0ad3088261ed2",
       "version_major": 2,
       "version_minor": 0
      },
      "text/plain": [
       "  0%|          | 0/872 [00:00<?, ?it/s]"
      ]
     },
     "metadata": {},
     "output_type": "display_data"
    },
    {
     "name": "stderr",
     "output_type": "stream",
     "text": [
      "\r",
      "100%|██████████| 1/1 [00:00<00:00, 67.36it/s]"
     ]
    },
    {
     "name": "stdout",
     "output_type": "stream",
     "text": [
      "Time for sk_meshparty_obj = 0.037636518478393555\n",
      "branches_touching_root = [0]\n",
      "combining close nodes\n",
      "combine_threshold = 700\n",
      "length of Graph = 60\n",
      "After combining close endpoints max(kept_branches_idx) = 0, len(kept_branches_idx) = 1\n",
      "empty_indices % = 0.0\n",
      " conflict_indices % = 0.0\n"
     ]
    },
    {
     "name": "stderr",
     "output_type": "stream",
     "text": [
      "\n"
     ]
    },
    {
     "data": {
      "application/vnd.jupyter.widget-view+json": {
       "model_id": "cdcde310d905457aa7a5244c28e66df7",
       "version_major": 2,
       "version_minor": 0
      },
      "text/plain": [
       "0it [00:00, ?it/s]"
      ]
     },
     "metadata": {},
     "output_type": "display_data"
    },
    {
     "name": "stdout",
     "output_type": "stream",
     "text": [
      "AFTER face_lookup_resolved_test\n"
     ]
    },
    {
     "data": {
      "application/vnd.jupyter.widget-view+json": {
       "model_id": "7ea92465a0354466a6fc1f4b12d02a06",
       "version_major": 2,
       "version_minor": 0
      },
      "text/plain": [
       "  0%|          | 0/1 [00:00<?, ?it/s]"
      ]
     },
     "metadata": {},
     "output_type": "display_data"
    },
    {
     "name": "stdout",
     "output_type": "stream",
     "text": [
      "widths = [3665.62825495]\n",
      "width_median= 3665.628254953568\n",
      "Time for correspondence = 0.06415152549743652\n",
      "STacking the leftover and significant poisson skeleton\n",
      "max_stitch_distance = 5000\n",
      "len_subgraphs AT BEGINNING of the loop\n"
     ]
    },
    {
     "data": {
      "application/vnd.jupyter.widget-view+json": {
       "model_id": "1114e1a38d8d4fc39d0082c6f1339644",
       "version_major": 2,
       "version_minor": 0
      },
      "text/plain": [
       "  0%|          | 0/3 [00:00<?, ?it/s]"
      ]
     },
     "metadata": {},
     "output_type": "display_data"
    },
    {
     "name": "stdout",
     "output_type": "stream",
     "text": [
      "all graph is one component!\n",
      "Total time for skeleton stitching = 0.04974555969238281\n",
      "The process was using a temp folder\n",
      "Checking connected components after skeletonize_connected_branch\n",
      "    Total time for skeletonizing branch: 11.20520830154419\n",
      "Checking connected components after removing cycles\n",
      "Total time for mesh KDTree = 0.042482852935791016\n",
      "sbv[0].reshape(-1,3) = [[1468936.   574693.8 1112623. ]]\n",
      "closest_sk_pt_coord BEFORE = [1466360.  578976. 1113200.]\n",
      "current_skeleton.shape = (119, 2, 3)\n",
      "node_for_stitch = 61: [1466360.  578976. 1113200.]\n",
      "node_for_stitch AFTER = 61: [1466360.  578976. 1113200.]\n",
      "possible_node_loc = [  0 110 119]\n",
      "possible_node_loc AFTER = [  0 110 119]\n",
      "curr_shortest_path = [61, 62.0, 11.0, 8.0, 6.0, 4.0, 2.0, 0]\n",
      "Current stitch point was not a branch or endpoint, shortest_path_length to one = 2855.784676711406\n",
      "change_status for create soma extending pieces = False\n",
      "closest_sk_pt_coord AFTER = [1466360.  578976. 1113200.]\n",
      "Adding new branch to skeleton\n",
      "border_average_coordinate = [1468163.64444444  578622.88333333 1112816.05555556]\n",
      "endpoints_must_keep = {1: array([[1468163.64444444,  578622.88333333, 1112816.05555556]])}\n",
      "    Total time for Fixing Skeleton Soma Endpoint Extension : 0.15988874435424805\n",
      "filter_end_node_length = 4000\n",
      "Using Distance measure skeletal_distance\n",
      "endpoints_must_keep = [[1468163.64444444  578622.88333333 1112816.05555556]]\n",
      "Number of end_nodes BEFORE filtering = 4\n",
      "all_single_nodes_to_eliminate = [2]\n"
     ]
    },
    {
     "data": {
      "application/vnd.jupyter.widget-view+json": {
       "model_id": "780ec9f5aaa34f8c89d1d84782ea0fdb",
       "version_major": 2,
       "version_minor": 0
      },
      "text/plain": [
       "  0%|          | 0/1 [00:00<?, ?it/s]"
      ]
     },
     "metadata": {},
     "output_type": "display_data"
    },
    {
     "name": "stdout",
     "output_type": "stream",
     "text": [
      "Checking connected components after clean_skeleton\n",
      "after DISTANCE cleaning limb size of skeleton = (115, 2, 3)\n",
      "********COMBINING CLOSE SKELETON NODES WITHIN 700 DISTANCE**********\n",
      "combine_threshold = 700\n",
      "Found 0 valid paths to replace\n",
      "valid_paths = []\n",
      "valid_path_lengths = []\n",
      "No valid paths found so just returning the original\n",
      "skeletonize_and_clean_connected_branch_CGAL: 11.484821081161499\n",
      "Working on limb correspondence for #0 MAP piece\n",
      "xvfb-run -n 8916 -s \"-screen 0 800x600x24\" meshlabserver $@  -i /neurd_packages/NEURD/Applications/Tutorial/temp/neuron_31304.off -o /neurd_packages/NEURD/Applications/Tutorial/temp/neuron_31304_remove_interior.off -s /neurd_packages/NEURD/Applications/Tutorial/temp/remove_interior_241310.mls\n",
      "removed temporary input file: /neurd_packages/NEURD/Applications/Tutorial/temp/neuron_31304.off\n",
      "removed temporary output file: /neurd_packages/NEURD/Applications/Tutorial/temp/neuron_31304_remove_interior.off\n",
      "/neurd_packages/NEURD/Applications/Tutorial/temp/remove_interior_241310.mls is being deleted....\n",
      "No significant (100) interior meshes present\n",
      "largest is 3\n"
     ]
    },
    {
     "data": {
      "application/vnd.jupyter.widget-view+json": {
       "model_id": "cf31f9c2da2b4b94a5cf9f08b7927cc1",
       "version_major": 2,
       "version_minor": 0
      },
      "text/plain": [
       "0it [00:00, ?it/s]"
      ]
     },
     "metadata": {},
     "output_type": "display_data"
    },
    {
     "name": "stdout",
     "output_type": "stream",
     "text": [
      "Total time for decomposition = 1.0975651741027832\n",
      "mesh_correspondence_first_pass: 1.097590446472168\n",
      "Limb decomposed into 3 branches\n",
      "divided_skeleton_graph_recovered = (115, 2, 3) and \n",
      "current_mesh_data[0]['branch_skeletons_cleaned'].shape = (115, 2, 3)\n",
      "\n",
      "Number of connected components in deocmposed recovered graph = 1\n",
      "Number of connected components in cleaned skeleton graph= 1\n",
      "The downsampled branches number of connected components = 1\n",
      "Empty submeshes = []\n",
      "\n",
      "\n",
      "--- Working on 1-to-1 correspondence-----\n",
      "max(original_labels),len(original_labels) = (2, 3)\n",
      "empty_indices % = 0.017915795759928337\n",
      " conflict_indices % = 0.3186025679307256\n"
     ]
    },
    {
     "data": {
      "application/vnd.jupyter.widget-view+json": {
       "model_id": "d971c9bcfd794498873d0ad72275614d",
       "version_major": 2,
       "version_minor": 0
      },
      "text/plain": [
       "  0%|          | 0/3 [00:00<?, ?it/s]"
      ]
     },
     "metadata": {},
     "output_type": "display_data"
    },
    {
     "name": "stdout",
     "output_type": "stream",
     "text": [
      "AFTER face_lookup_resolved_test\n",
      "Took 0 iterations to expand the label back\n",
      "empty_indices % = 0.0\n",
      " conflict_indices % = 0.0\n"
     ]
    },
    {
     "data": {
      "application/vnd.jupyter.widget-view+json": {
       "model_id": "0b31c6ad03f440a291012c84e1768e7e",
       "version_major": 2,
       "version_minor": 0
      },
      "text/plain": [
       "0it [00:00, ?it/s]"
      ]
     },
     "metadata": {},
     "output_type": "display_data"
    },
    {
     "name": "stdout",
     "output_type": "stream",
     "text": [
      "AFTER face_lookup_resolved_test\n"
     ]
    },
    {
     "data": {
      "application/vnd.jupyter.widget-view+json": {
       "model_id": "af885632fac94a49b63ce16bcd9fa1ba",
       "version_major": 2,
       "version_minor": 0
      },
      "text/plain": [
       "  0%|          | 0/3 [00:00<?, ?it/s]"
      ]
     },
     "metadata": {},
     "output_type": "display_data"
    },
    {
     "name": "stdout",
     "output_type": "stream",
     "text": [
      "Total time for MAP sublimb #0 mesh processing = 12.863218784332275\n",
      "correspondence_1_to_1: 0.2669696807861328\n",
      "Total time for MAP sublimb processing 12.863271713256836\n",
      "There were not both MAP and MP pieces so skipping the stitch resolving phase\n",
      "Time for decomp of Limb = 13.147337675094604\n",
      "Number of matching vertices = 90\n",
      "Only one endpoint after filtering away the endpoints that are not on the skeleton\n",
      "Using Distance measure skeletal_distance\n",
      "endpoints_must_keep = [[1468163.64444444  578622.88333333 1112816.05555556]]\n",
      "Number of end_nodes BEFORE filtering = 3\n",
      "all_single_nodes_to_eliminate = [1]\n",
      "no small end nodes to get rid of so returning whole skeleton\n",
      "Removed 0 skeletal branches\n"
     ]
    },
    {
     "data": {
      "application/vnd.jupyter.widget-view+json": {
       "model_id": "ceb9531b043b45dda2861909ad4a074e",
       "version_major": 2,
       "version_minor": 0
      },
      "text/plain": [
       "  0%|          | 0/3 [00:00<?, ?it/s]"
      ]
     },
     "metadata": {},
     "output_type": "display_data"
    },
    {
     "name": "stdout",
     "output_type": "stream",
     "text": [
      "3348 3349\n",
      "For marked faces: None\n",
      "empty_indices % = 0.0\n",
      " conflict_indices % = 0.0\n"
     ]
    },
    {
     "data": {
      "application/vnd.jupyter.widget-view+json": {
       "model_id": "52b72cd84d65468390076e11956f5f5d",
       "version_major": 2,
       "version_minor": 0
      },
      "text/plain": [
       "0it [00:00, ?it/s]"
      ]
     },
     "metadata": {},
     "output_type": "display_data"
    },
    {
     "name": "stdout",
     "output_type": "stream",
     "text": [
      "AFTER face_lookup_resolved_test\n"
     ]
    },
    {
     "data": {
      "application/vnd.jupyter.widget-view+json": {
       "model_id": "33ec04841e414ce5be9f85fd55b5609d",
       "version_major": 2,
       "version_minor": 0
      },
      "text/plain": [
       "  0%|          | 0/3 [00:00<?, ?it/s]"
      ]
     },
     "metadata": {},
     "output_type": "display_data"
    },
    {
     "name": "stdout",
     "output_type": "stream",
     "text": [
      "Successful Limb Decomposition\n",
      "Total time for Skeletonization and Mesh Correspondence = 105.36902928352356\n",
      "\n",
      "\n",
      " ----- Working on Stitching ----------\n",
      "Inside attach_floating_pieces_to_limb_correspondence\n",
      "Starting the floating pieces preprocessing\n",
      "Floating 0: <trimesh.Trimesh(vertices.shape=(113, 3), faces.shape=(176, 3))>\n",
      "invalidation_d = 12000\n",
      "use_adaptive_invalidation_d= True\n",
      "axon_width_preprocess_limb_max = 200\n",
      "filter_end_node_length= 4000\n",
      "filter_end_node_length_meshparty = 1000\n",
      "invalidation_d = 12000\n",
      "root_curr = None\n",
      "Time for preparing soma vertices and root: 3.814697265625e-06\n",
      "invalidation_d = 12000\n",
      "smooth_neighborhood = 1\n",
      "cc_vertex_thresh = 10\n"
     ]
    },
    {
     "name": "stderr",
     "output_type": "stream",
     "text": [
      "\r",
      "  0%|          | 0/1 [00:00<?, ?it/s]"
     ]
    },
    {
     "data": {
      "application/vnd.jupyter.widget-view+json": {
       "model_id": "e134781a948a43d7bde78ed8f87cf0a1",
       "version_major": 2,
       "version_minor": 0
      },
      "text/plain": [
       "  0%|          | 0/112 [00:00<?, ?it/s]"
      ]
     },
     "metadata": {},
     "output_type": "display_data"
    },
    {
     "name": "stderr",
     "output_type": "stream",
     "text": [
      "\r",
      "100%|██████████| 1/1 [00:00<00:00, 91.53it/s]"
     ]
    },
    {
     "name": "stdout",
     "output_type": "stream",
     "text": [
      "meshparty_segment_size = 100\n",
      "Time for 1st pass MP skeletonization: 0.0283203125\n",
      "branches_touching_root = [0]\n",
      "combining close nodes\n",
      "combine_threshold = 700\n",
      "length of Graph = 11\n",
      "After combining close endpoints max(kept_branches_idx) = 0, len(kept_branches_idx) = 1\n",
      "empty_indices % = 0.0\n",
      " conflict_indices % = 0.0\n"
     ]
    },
    {
     "name": "stderr",
     "output_type": "stream",
     "text": [
      "\n"
     ]
    },
    {
     "data": {
      "application/vnd.jupyter.widget-view+json": {
       "model_id": "d10b8e4929e54e5eb978a4cedd727cbc",
       "version_major": 2,
       "version_minor": 0
      },
      "text/plain": [
       "0it [00:00, ?it/s]"
      ]
     },
     "metadata": {},
     "output_type": "display_data"
    },
    {
     "name": "stdout",
     "output_type": "stream",
     "text": [
      "AFTER face_lookup_resolved_test\n"
     ]
    },
    {
     "data": {
      "application/vnd.jupyter.widget-view+json": {
       "model_id": "5f5ed382473a480b8cc378a03577f842",
       "version_major": 2,
       "version_minor": 0
      },
      "text/plain": [
       "  0%|          | 0/1 [00:00<?, ?it/s]"
      ]
     },
     "metadata": {},
     "output_type": "display_data"
    },
    {
     "name": "stdout",
     "output_type": "stream",
     "text": [
      "widths = [401.12025136]\n",
      "width_median= 401.12025136096213\n",
      "segment_widths_median = [401.12025136]\n",
      "Decomposing first pass: 0.034285783767700195\n",
      "Attempting to use MeshAfterParty Skeletonization and Mesh Correspondence\n",
      "Another print\n",
      "Divinding into MP and MAP pieces: 3.504753112792969e-05\n",
      "Total time for MAP sublimb processing 3.5762786865234375e-06\n",
      "---- Working on MP Decomposition #0 ----\n",
      "Using Quicker soma_to_piece_touching_vertices because no MAP and only one sublimb_mesh piece \n",
      "MP filtering soma verts: 2.6941299438476562e-05\n",
      "Do Not Need to Fix MP Decomposition 0 so just continuing\n",
      "There were not both MAP and MP pieces so skipping the stitch resolving phase\n",
      "Time for decomp of Limb = 0.06411933898925781\n",
      "Using Distance measure skeletal_distance\n"
     ]
    },
    {
     "data": {
      "application/vnd.jupyter.widget-view+json": {
       "model_id": "cc2f2ad767f8452f8d15a92f7c81ccd3",
       "version_major": 2,
       "version_minor": 0
      },
      "text/plain": [
       "  0%|          | 0/2 [00:00<?, ?it/s]"
      ]
     },
     "metadata": {},
     "output_type": "display_data"
    },
    {
     "name": "stdout",
     "output_type": "stream",
     "text": [
      "Removed 2 skeletal branches\n",
      "There were no branches after cleaning limb correspondence\n"
     ]
    },
    {
     "data": {
      "application/vnd.jupyter.widget-view+json": {
       "model_id": "3d6f8f0386c14d19b8e98a3ff83a4694",
       "version_major": 2,
       "version_minor": 0
      },
      "text/plain": [
       "Container(figure=Figure(box_center=[0.5, 0.5, 0.5], box_size=[1.0, 1.0, 1.0], camera=PerspectiveCamera(fov=45.…"
      ]
     },
     "metadata": {},
     "output_type": "display_data"
    },
    {
     "name": "stdout",
     "output_type": "stream",
     "text": [
      "--> time = 0.11310052871704102\n",
      "Floating 1: <trimesh.Trimesh(vertices.shape=(75, 3), faces.shape=(140, 3))>\n",
      "invalidation_d = 12000\n",
      "use_adaptive_invalidation_d= True\n",
      "axon_width_preprocess_limb_max = 200\n",
      "filter_end_node_length= 4000\n",
      "filter_end_node_length_meshparty = 1000\n",
      "invalidation_d = 12000\n",
      "root_curr = None\n",
      "Time for preparing soma vertices and root: 3.5762786865234375e-06\n",
      "invalidation_d = 12000\n",
      "smooth_neighborhood = 1\n",
      "cc_vertex_thresh = 10\n"
     ]
    },
    {
     "name": "stderr",
     "output_type": "stream",
     "text": [
      "\r",
      "  0%|          | 0/1 [00:00<?, ?it/s]"
     ]
    },
    {
     "data": {
      "application/vnd.jupyter.widget-view+json": {
       "model_id": "63e438bb4b6f4120ac080ce3be699d74",
       "version_major": 2,
       "version_minor": 0
      },
      "text/plain": [
       "  0%|          | 0/74 [00:00<?, ?it/s]"
      ]
     },
     "metadata": {},
     "output_type": "display_data"
    },
    {
     "name": "stderr",
     "output_type": "stream",
     "text": [
      "\r",
      "100%|██████████| 1/1 [00:00<00:00, 73.76it/s]"
     ]
    },
    {
     "name": "stdout",
     "output_type": "stream",
     "text": [
      "meshparty_segment_size = 100\n",
      "Time for 1st pass MP skeletonization: 0.030825376510620117\n",
      "branches_touching_root = [0]\n",
      "combining close nodes\n",
      "combine_threshold = 700\n",
      "length of Graph = 24\n",
      "After combining close endpoints max(kept_branches_idx) = 0, len(kept_branches_idx) = 1\n",
      "empty_indices % = 0.0\n",
      " conflict_indices % = 0.0\n"
     ]
    },
    {
     "name": "stderr",
     "output_type": "stream",
     "text": [
      "\n"
     ]
    },
    {
     "data": {
      "application/vnd.jupyter.widget-view+json": {
       "model_id": "2256d940f3c347eaa78f535e00bac62e",
       "version_major": 2,
       "version_minor": 0
      },
      "text/plain": [
       "0it [00:00, ?it/s]"
      ]
     },
     "metadata": {},
     "output_type": "display_data"
    },
    {
     "name": "stdout",
     "output_type": "stream",
     "text": [
      "AFTER face_lookup_resolved_test\n"
     ]
    },
    {
     "data": {
      "application/vnd.jupyter.widget-view+json": {
       "model_id": "9773c5d389ac431da737f15eecc58c61",
       "version_major": 2,
       "version_minor": 0
      },
      "text/plain": [
       "  0%|          | 0/1 [00:00<?, ?it/s]"
      ]
     },
     "metadata": {},
     "output_type": "display_data"
    },
    {
     "name": "stdout",
     "output_type": "stream",
     "text": [
      "widths = [160.06196243]\n",
      "width_median= 160.06196243165527\n",
      "segment_widths_median = [160.06196243]\n",
      "Using the axon parameters\n",
      "invalidation_d = 1500\n",
      "smooth_neighborhood = 0\n",
      "cc_vertex_thresh = 10\n"
     ]
    },
    {
     "name": "stderr",
     "output_type": "stream",
     "text": [
      "\r",
      "  0%|          | 0/1 [00:00<?, ?it/s]"
     ]
    },
    {
     "data": {
      "application/vnd.jupyter.widget-view+json": {
       "model_id": "cb97af9aa414451486660992025e8a4f",
       "version_major": 2,
       "version_minor": 0
      },
      "text/plain": [
       "  0%|          | 0/74 [00:00<?, ?it/s]"
      ]
     },
     "metadata": {},
     "output_type": "display_data"
    },
    {
     "name": "stderr",
     "output_type": "stream",
     "text": [
      "100%|██████████| 1/1 [00:00<00:00, 76.00it/s]\n"
     ]
    },
    {
     "name": "stdout",
     "output_type": "stream",
     "text": [
      "meshparty_segment_size = 100\n",
      "Time for 1st pass MP skeletonization: 0.06269669532775879\n",
      "branches_touching_root = [0]\n",
      "combining close nodes\n",
      "combine_threshold = 1300\n",
      "length of Graph = 34\n",
      "After combining close endpoints max(kept_branches_idx) = 0, len(kept_branches_idx) = 1\n",
      "empty_indices % = 0.0\n",
      " conflict_indices % = 0.0\n"
     ]
    },
    {
     "data": {
      "application/vnd.jupyter.widget-view+json": {
       "model_id": "3d779ebb079245a19bc3e94e3d9be962",
       "version_major": 2,
       "version_minor": 0
      },
      "text/plain": [
       "0it [00:00, ?it/s]"
      ]
     },
     "metadata": {},
     "output_type": "display_data"
    },
    {
     "name": "stdout",
     "output_type": "stream",
     "text": [
      "AFTER face_lookup_resolved_test\n"
     ]
    },
    {
     "data": {
      "application/vnd.jupyter.widget-view+json": {
       "model_id": "1266b30c01784e7ca5c5e50d0ae67865",
       "version_major": 2,
       "version_minor": 0
      },
      "text/plain": [
       "  0%|          | 0/1 [00:00<?, ?it/s]"
      ]
     },
     "metadata": {},
     "output_type": "display_data"
    },
    {
     "name": "stdout",
     "output_type": "stream",
     "text": [
      "widths = [160.02714553]\n",
      "width_median= 160.0271455341809\n",
      "segment_widths_median = [160.02714553]\n",
      "Using the axon parameters\n",
      "Decomposing first pass: 0.03993391990661621\n",
      "Attempting to use MeshAfterParty Skeletonization and Mesh Correspondence\n",
      "Another print\n",
      "Divinding into MP and MAP pieces: 2.765655517578125e-05\n",
      "Total time for MAP sublimb processing 2.86102294921875e-06\n",
      "---- Working on MP Decomposition #0 ----\n",
      "Using Quicker soma_to_piece_touching_vertices because no MAP and only one sublimb_mesh piece \n",
      "MP filtering soma verts: 2.2172927856445312e-05\n",
      "Do Not Need to Fix MP Decomposition 0 so just continuing\n",
      "There were not both MAP and MP pieces so skipping the stitch resolving phase\n",
      "Time for decomp of Limb = 0.13594508171081543\n",
      "Using Distance measure skeletal_distance\n",
      "no small end nodes to get rid of so returning whole skeleton\n",
      "Removed 0 skeletal branches\n"
     ]
    },
    {
     "data": {
      "application/vnd.jupyter.widget-view+json": {
       "model_id": "58760255e14d4f999259813027f63d58",
       "version_major": 2,
       "version_minor": 0
      },
      "text/plain": [
       "  0%|          | 0/1 [00:00<?, ?it/s]"
      ]
     },
     "metadata": {},
     "output_type": "display_data"
    },
    {
     "name": "stdout",
     "output_type": "stream",
     "text": [
      "139 140\n",
      "For marked faces: None\n",
      "empty_indices % = 0.0\n",
      " conflict_indices % = 0.0\n"
     ]
    },
    {
     "data": {
      "application/vnd.jupyter.widget-view+json": {
       "model_id": "516804a1112d45b4a32a98cad5ccaef1",
       "version_major": 2,
       "version_minor": 0
      },
      "text/plain": [
       "0it [00:00, ?it/s]"
      ]
     },
     "metadata": {},
     "output_type": "display_data"
    },
    {
     "name": "stdout",
     "output_type": "stream",
     "text": [
      "AFTER face_lookup_resolved_test\n"
     ]
    },
    {
     "data": {
      "application/vnd.jupyter.widget-view+json": {
       "model_id": "86fe7f4e22a1454ab2e7875d0f543c41",
       "version_major": 2,
       "version_minor": 0
      },
      "text/plain": [
       "  0%|          | 0/1 [00:00<?, ?it/s]"
      ]
     },
     "metadata": {},
     "output_type": "display_data"
    },
    {
     "data": {
      "application/vnd.jupyter.widget-view+json": {
       "model_id": "3011fdd471494d2e8db80f2843343252",
       "version_major": 2,
       "version_minor": 0
      },
      "text/plain": [
       "Container(figure=Figure(box_center=[0.5, 0.5, 0.5], box_size=[1.0, 1.0, 1.0], camera=PerspectiveCamera(fov=45.…"
      ]
     },
     "metadata": {},
     "output_type": "display_data"
    },
    {
     "name": "stdout",
     "output_type": "stream",
     "text": [
      "--> time = 0.23401999473571777\n",
      "winning_float = 1\n",
      "winning_float_match_main_limb = 1\n",
      "winning_float_dist = 149.5869181909169\n",
      "main_limb_stitch_point = [1454928.38848372  617422.14351492 1109437.08084759]\n",
      "floating_limb_stitch_point = [1455057.   617365.2 1109488. ]\n",
      "node_for_stitch = 1795: [1454928.38848372  617422.14351492 1109437.08084759]\n",
      "node_for_stitch AFTER = 1795: [1454928.38848372  617422.14351492 1109437.08084759]\n",
      "possible_node_loc = [   0  136  440  586 1094 1284 1353 1466 2499 3964 4341 4358 5744 5814\n",
      " 5965  577  688 1089 1114 1389 1640 1693 2508 2844 4194 5319]\n",
      "possible_node_loc AFTER = [   0  136  440  577  586  688 1089 1094 1114 1284 1353 1389 1466 1640\n",
      " 1693 2499 2508 2844 3964 4194 4358 5319 5744 5814 5965]\n",
      "curr_shortest_path = [1795, 1784.0, 1773.0, 1761.0, 1750.0, 1733.0, 1716.0, 1702.0, 1687.0, 1678.0, 1671.0, 1664.0, 1656.0, 1649.0, 1641.0, 1636.0, 1632.0, 1627.0, 1623.0, 1596.0, 1576.0, 1566.0, 1556.0, 1548.0, 1540.0, 1530.0, 1523.0, 1515.0, 1507.0, 1499.0, 1491.0, 1484.0, 1475.0, 1466]\n",
      "Current stitch point was not a branch or endpoint, shortest_path_length to one = 3299.9361676877575\n",
      "Changing the stitch point becasue the distance to end or branch node was 3299.9361676877575\n",
      "New stitch point has degree 1\n",
      "Status of Main limb stitch point moved = True\n",
      "\n",
      "\n",
      "\n",
      "match_sk_branches = [13]\n",
      "match_float_branches = [0]\n",
      "stitch_point_on_end_or_branch = True\n",
      "winning_float = 0\n",
      "winning_float_match_main_limb = 1\n",
      "winning_float_dist = 654.4563409276969\n",
      "main_limb_stitch_point = [1465639.47749826  643515.05932515 1076757.45951826]\n",
      "floating_limb_stitch_point = [1465562.61335848  644156.79891018 1076860.29585036]\n",
      "node_for_stitch = 2533: [1465639.47749826  643515.05932515 1076757.45951826]\n",
      "node_for_stitch AFTER = 2533: [1465639.47749826  643515.05932515 1076757.45951826]\n",
      "possible_node_loc = [   0  136  440  586 1094 1284 1353 2144 2533 3998 4375 4392 5778 5848\n",
      " 5999  577  688 1089 1114 1389 1640 1693 2542 2878 4228 5353]\n",
      "possible_node_loc AFTER = [   0  136  440  577  586  688 1089 1094 1114 1284 1353 1389 1640 1693\n",
      " 2144 2533 2542 2878 3998 4228 4392 5353 5778 5848 5999]\n",
      "curr_shortest_path = [2533]\n",
      "Current stitch point was a branch or endpoint\n",
      "Status of Main limb stitch point moved = False\n",
      "\n",
      "\n",
      "\n",
      "match_sk_branches = [16]\n",
      "match_float_branches = [0]\n",
      "stitch_point_on_end_or_branch = True\n",
      "Total time for stitching floating pieces = 3.035680055618286\n",
      "Total time for Concept Networks = 1.8147690296173096\n",
      "Total time for all mesh and skeletonization decomp = 110.21995782852173\n",
      "No soma volume ratios so computing them now\n",
      "Using Poisson Surface Reconstruction for watertightness in soma_volume_ratio\n",
      "xvfb-run -n 9382 -s \"-screen 0 800x600x24\" meshlabserver $@  -i /neurd_packages/NEURD/Applications/Tutorial/Poisson_temp/neuron_520169.off -o /neurd_packages/NEURD/Applications/Tutorial/Poisson_temp/neuron_520169_poisson.off -s /neurd_packages/NEURD/Applications/Tutorial/Poisson_temp/poisson_412407.mls\n",
      "removed temporary input file: /neurd_packages/NEURD/Applications/Tutorial/Poisson_temp/neuron_520169.off\n",
      "removed temporary output file: /neurd_packages/NEURD/Applications/Tutorial/Poisson_temp/neuron_520169_poisson.off\n",
      "mesh.is_watertight = True\n",
      "/neurd_packages/NEURD/Applications/Tutorial/Poisson_temp/poisson_412407.mls is being deleted....\n",
      "Using Poisson Surface Reconstruction for watertightness in soma_volume_ratio\n",
      "xvfb-run -n 8615 -s \"-screen 0 800x600x24\" meshlabserver $@  -i /neurd_packages/NEURD/Applications/Tutorial/Poisson_temp/neuron_545307.off -o /neurd_packages/NEURD/Applications/Tutorial/Poisson_temp/neuron_545307_poisson.off -s /neurd_packages/NEURD/Applications/Tutorial/Poisson_temp/poisson_396033.mls\n",
      "removed temporary input file: /neurd_packages/NEURD/Applications/Tutorial/Poisson_temp/neuron_545307.off\n",
      "removed temporary output file: /neurd_packages/NEURD/Applications/Tutorial/Poisson_temp/neuron_545307_poisson.off\n",
      "mesh.is_watertight = False\n",
      "/neurd_packages/NEURD/Applications/Tutorial/Poisson_temp/poisson_396033.mls is being deleted....\n",
      "--- 1) Finished unpacking preprocessed materials: 132.6811580657959\n",
      "total_edges = [['S0', 'L0'], ['S0', 'L1'], ['S0', 'L4'], ['S0', 'L5'], ['S0', 'L6'], ['S1', 'L2'], ['S1', 'L3'], ['S1', 'L4'], ['S1', 'L7']]\n",
      "--- 2) Finished creating neuron connectivity graph: 0.00023555755615234375\n",
      "Having to generate soma_meshes_face_idx because none in preprocessed data\n",
      "--- 3a) Finshed generating soma_meshes_face_idx: 0.0922236442565918\n",
      "Using precomputed volume ratio\n",
      "--- 3b) Finished soma creation: 9.61569094657898\n",
      "Using precomputed volume ratio\n",
      "--- 3b) Finished soma creation: 7.7560460567474365\n",
      "--- 3) Finshed generating soma objects and adding them to concept graph: 0.0001735687255859375\n",
      "--- 4a) Finshed generating curr_limb_meshes_face_idx: 0.24592900276184082\n",
      "curr_limb_concept_networks= {0: [<python_tools.networkx_utils.GraphOrderedEdges object at 0x7f48142531f0>]}\n",
      "curr_limb_concept_networks= {0: [<python_tools.networkx_utils.GraphOrderedEdges object at 0x7f49fc267af0>]}\n",
      "curr_limb_concept_networks= {1: [<python_tools.networkx_utils.GraphOrderedEdges object at 0x7f49fc2673d0>]}\n",
      "curr_limb_concept_networks= {1: [<python_tools.networkx_utils.GraphOrderedEdges object at 0x7f4a1bfd8100>]}\n",
      "curr_limb_concept_networks= {0: [<python_tools.networkx_utils.GraphOrderedEdges object at 0x7f4a25bb7d00>], 1: [<python_tools.networkx_utils.GraphOrderedEdges object at 0x7f4a29879cd0>]}\n",
      "curr_limb_concept_networks= {0: [<python_tools.networkx_utils.GraphOrderedEdges object at 0x7f4a25bb7c70>]}\n",
      "curr_limb_concept_networks= {0: [<python_tools.networkx_utils.GraphOrderedEdges object at 0x7f4a25bb7310>]}\n",
      "curr_limb_concept_networks= {1: [<python_tools.networkx_utils.GraphOrderedEdges object at 0x7f481437fc70>]}\n",
      "--- 4) Finshed generating Limb objects and adding them to concept graph: 2.133120059967041\n",
      "--- 5) SKIPPING Doing the adaptive mesh correspondence on the meshparty preprocessing ---\n",
      "--- 6) SKIPPING Using the computed_attribute_dict to populate neuron attributes ---\n",
      "self.n_limbs = 8\n",
      "7) Calculating the spines for the neuorn if do not already exist\n",
      "7a) calculating spines because didn't exist\n",
      "query = median_mesh_center > 115 and n_faces_branch>100\n",
      "The median_mesh_center was requested but has not already been calculated so calculating now.... \n",
      "width_name BEFORE processing = None\n",
      "After processing\n",
      "width_name = median_mesh_center, distance_by_mesh_center= True, no_spines = False, summary_measure= median\n",
      "Working on limb L0 branch 6\n",
      "    current_width= 634.8672871495537\n",
      "Working on limb L0 branch 3\n",
      "    current_width= 440.6624400104392\n",
      "Working on limb L0 branch 7\n",
      "    current_width= 371.9604763085619\n",
      "Working on limb L0 branch 0\n",
      "    current_width= 308.20840659465966\n",
      "Working on limb L0 branch 1\n",
      "    current_width= 379.16248459812937\n",
      "Working on limb L0 branch 2\n",
      "    current_width= 303.2947982087933\n",
      "Working on limb L0 branch 4\n",
      "    current_width= 331.5606261403119\n",
      "Working on limb L0 branch 8\n",
      "    current_width= 294.6332242505633\n",
      "Working on limb L0 branch 5\n",
      "    current_width= 305.76334446603494\n",
      "Working on limb L0 branch 9\n",
      "    current_width= 441.80118981663145\n",
      "Working on limb L1 branch 17\n",
      "    current_width= 186.74385817318597\n",
      "Working on limb L1 branch 15\n",
      "    current_width= 81.06732888550147\n",
      "Working on limb L1 branch 16\n",
      "    current_width= 180.79969247866023\n",
      "Working on limb L1 branch 18\n",
      "    current_width= 83.6230371949197\n",
      "Working on limb L1 branch 4\n",
      "    current_width= 67.0560163730836\n",
      "Working on limb L1 branch 14\n",
      "    current_width= 121.42094395784133\n",
      "Working on limb L1 branch 26\n",
      "    current_width= 166.88235794997527\n",
      "Working on limb L1 branch 19\n",
      "    current_width= 74.74432487535276\n",
      "Working on limb L1 branch 20\n",
      "    current_width= 78.90931853911839\n",
      "Working on limb L1 branch 12\n",
      "    current_width= 110.73263180079506\n",
      "Working on limb L1 branch 13\n",
      "    current_width= 103.46347406090041\n",
      "Working on limb L1 branch 21\n",
      "    current_width= 89.35632620500378\n",
      "Working on limb L1 branch 22\n",
      "    current_width= 85.25609472650788\n",
      "Working on limb L1 branch 9\n",
      "    current_width= 100.95848933724325\n",
      "Working on limb L1 branch 10\n",
      "    current_width= 157.53843258920716\n",
      "Working on limb L1 branch 11\n",
      "    current_width= 93.61085880218833\n",
      "Working on limb L1 branch 25\n",
      "    current_width= 66.4711702516618\n",
      "Working on limb L1 branch 1\n"
     ]
    },
    {
     "name": "stdout",
     "output_type": "stream",
     "text": [
      "    current_width= 111.9796517426644\n",
      "Working on limb L1 branch 3\n",
      "    current_width= 95.32640663158229\n",
      "Working on limb L1 branch 7\n",
      "    current_width= 99.27134255045735\n",
      "Working on limb L1 branch 8\n",
      "    current_width= 126.64492820434162\n",
      "Working on limb L1 branch 5\n",
      "    current_width= 130.71789722229892\n",
      "Working on limb L1 branch 6\n",
      "    current_width= 108.30020672887802\n",
      "Working on limb L1 branch 0\n",
      "    current_width= 97.68811695225403\n",
      "Working on limb L1 branch 2\n",
      "    current_width= 124.3431697776255\n",
      "Working on limb L1 branch 23\n",
      "    current_width= 87.93425564048837\n",
      "Working on limb L1 branch 24\n",
      "    current_width= 82.4982383186942\n",
      "Working on limb L4 branch 2\n",
      "    current_width= 981.9736701065532\n",
      "Working on limb L4 branch 0\n",
      "    current_width= 412.5857233920679\n",
      "Working on limb L4 branch 3\n",
      "    current_width= 648.2188250492422\n",
      "Working on limb L4 branch 1\n",
      "    current_width= 294.3547733550146\n",
      "Working on limb L4 branch 4\n",
      "    current_width= 504.44091598632565\n",
      "Working on limb L4 branch 5\n",
      "    current_width= 321.0522219336694\n",
      "Working on limb L4 branch 6\n",
      "    current_width= 418.6878313705377\n",
      "Working on limb L5 branch 0\n",
      "    current_width= 447.09174488055413\n",
      "Working on limb L6 branch 0\n",
      "    current_width= 343.94895170316283\n",
      "Working on limb L2 branch 0\n",
      "    current_width= 383.8193410164432\n",
      "Working on limb L2 branch 1\n",
      "    current_width= 339.8730455177781\n",
      "Working on limb L2 branch 2\n",
      "    current_width= 356.238851911582\n",
      "Working on limb L3 branch 1\n",
      "    current_width= 341.6228226856097\n",
      "Working on limb L3 branch 0\n",
      "    current_width= 96.25067340356648\n",
      "Working on limb L3 branch 2\n",
      "    current_width= 389.77078871406786\n",
      "Working on limb L3 branch 3\n",
      "    current_width= 69.00572062527482\n",
      "Working on limb L3 branch 4\n",
      "    current_width= 368.5289855187065\n",
      "Working on limb L7 branch 2\n",
      "    current_width= 483.011166921611\n",
      "Working on limb L7 branch 0\n",
      "    current_width= 973.0914179677479\n",
      "Working on limb L7 branch 1\n",
      "    current_width= 952.8335116881694\n",
      "MAX ITERATIONS initially 500\n",
      "AREA VARIATION initially 0.0001\n",
      "medial centered initially 1\n",
      "medially_centered_speed_tradeoff initially 0.2\n",
      "quality_speed_tradeoff initially 0.1\n",
      "max_triangle_angle initially 1.91986\n",
      "min_edge_length initially 65.7707\n",
      "setting the edge length by absolute length\n",
      "min_edge_length AFTER = 75\n",
      "max_triangle_angle AFTER = 1.91986\n",
      "quality_speed_tradeoff AFTER = 0.2\n",
      "set_medially_centered_speed_tradeoff AFTER = 0.2\n",
      "medial centered AFTER 1\n",
      "AREA VARIATION AFTER 0.0001\n",
      "MAX ITERATIONS AFTER 500\n",
      "medial centered END 1\n",
      "set_medially_centered_speed_tradeoff END = 0.2\n",
      "quality_speed_tradeoff END = 0.2\n",
      "Max iterations END = 500\n",
      "AREA VARIATION END 0.0001\n",
      "Number of vertices of the skeleton: 307\n",
      "Number of edges of the skeleton: 306\n",
      "MAX ITERATIONS initially 500\n",
      "AREA VARIATION initially 0.0001\n",
      "medial centered initially 1\n",
      "medially_centered_speed_tradeoff initially 0.2\n",
      "quality_speed_tradeoff initially 0.1\n",
      "max_triangle_angle initially 1.91986\n",
      "min_edge_length initially 25.9375\n",
      "setting the edge length by absolute length\n",
      "min_edge_length AFTER = 75\n",
      "max_triangle_angle AFTER = 1.91986\n",
      "quality_speed_tradeoff AFTER = 0.2\n",
      "set_medially_centered_speed_tradeoff AFTER = 0.2\n",
      "medial centered AFTER 1\n",
      "AREA VARIATION AFTER 0.0001\n",
      "MAX ITERATIONS AFTER 500\n",
      "medial centered END 1\n",
      "set_medially_centered_speed_tradeoff END = 0.2\n",
      "quality_speed_tradeoff END = 0.2\n",
      "Max iterations END = 500\n",
      "AREA VARIATION END 0.0001\n",
      "Number of vertices of the skeleton: 68\n",
      "Number of edges of the skeleton: 67\n",
      "MAX ITERATIONS initially 500\n",
      "AREA VARIATION initially 0.0001\n",
      "medial centered initially 1\n",
      "medially_centered_speed_tradeoff initially 0.2\n",
      "quality_speed_tradeoff initially 0.1\n",
      "max_triangle_angle initially 1.91986\n",
      "min_edge_length initially 130.059\n",
      "setting the edge length by absolute length\n",
      "min_edge_length AFTER = 75\n",
      "max_triangle_angle AFTER = 1.91986\n",
      "quality_speed_tradeoff AFTER = 0.2\n",
      "set_medially_centered_speed_tradeoff AFTER = 0.2\n",
      "medial centered AFTER 1\n",
      "AREA VARIATION AFTER 0.0001\n",
      "MAX ITERATIONS AFTER 500\n",
      "medial centered END 1\n",
      "set_medially_centered_speed_tradeoff END = 0.2\n",
      "quality_speed_tradeoff END = 0.2\n",
      "Max iterations END = 500\n",
      "AREA VARIATION END 0.0001\n",
      "Number of vertices of the skeleton: 794\n",
      "Number of edges of the skeleton: 793\n",
      "MAX ITERATIONS initially 500\n",
      "AREA VARIATION initially 0.0001\n",
      "medial centered initially 1\n",
      "medially_centered_speed_tradeoff initially 0.2\n",
      "quality_speed_tradeoff initially 0.1\n",
      "max_triangle_angle initially 1.91986\n",
      "min_edge_length initially 36.8922\n",
      "setting the edge length by absolute length\n",
      "min_edge_length AFTER = 75\n",
      "max_triangle_angle AFTER = 1.91986\n",
      "quality_speed_tradeoff AFTER = 0.2\n",
      "set_medially_centered_speed_tradeoff AFTER = 0.2\n",
      "medial centered AFTER 1\n",
      "AREA VARIATION AFTER 0.0001\n",
      "MAX ITERATIONS AFTER 500\n",
      "medial centered END 1\n",
      "set_medially_centered_speed_tradeoff END = 0.2\n",
      "quality_speed_tradeoff END = 0.2\n",
      "Max iterations END = 500\n",
      "AREA VARIATION END 0.0001\n",
      "Number of vertices of the skeleton: 3\n",
      "Number of edges of the skeleton: 2\n",
      "\n",
      "Number of segments: 76\n",
      "\n"
     ]
    },
    {
     "data": {
      "application/vnd.jupyter.widget-view+json": {
       "model_id": "5d2930c7dcdb44f09b3960c7ca4902a4",
       "version_major": 2,
       "version_minor": 0
      },
      "text/plain": [
       "  0%|          | 0/76 [00:00<?, ?it/s]"
      ]
     },
     "metadata": {},
     "output_type": "display_data"
    },
    {
     "data": {
      "application/vnd.jupyter.widget-view+json": {
       "model_id": "9938f9f1d5b1438489b309d9ad06c385",
       "version_major": 2,
       "version_minor": 0
      },
      "text/plain": [
       "  0%|          | 0/76 [00:00<?, ?it/s]"
      ]
     },
     "metadata": {},
     "output_type": "display_data"
    },
    {
     "name": "stdout",
     "output_type": "stream",
     "text": [
      "Filtering away by face and skeletal length\n",
      "\n",
      "Number of segments: 102\n",
      "\n"
     ]
    },
    {
     "data": {
      "application/vnd.jupyter.widget-view+json": {
       "model_id": "a775f19471054fff98ad4ed75986ce2b",
       "version_major": 2,
       "version_minor": 0
      },
      "text/plain": [
       "  0%|          | 0/102 [00:00<?, ?it/s]"
      ]
     },
     "metadata": {},
     "output_type": "display_data"
    },
    {
     "data": {
      "application/vnd.jupyter.widget-view+json": {
       "model_id": "492b395fda9045f88c35bed038f1e013",
       "version_major": 2,
       "version_minor": 0
      },
      "text/plain": [
       "  0%|          | 0/102 [00:00<?, ?it/s]"
      ]
     },
     "metadata": {},
     "output_type": "display_data"
    },
    {
     "name": "stdout",
     "output_type": "stream",
     "text": [
      "Filtering away by face and skeletal length\n",
      "\n",
      "Number of segments: 22\n",
      "\n"
     ]
    },
    {
     "data": {
      "application/vnd.jupyter.widget-view+json": {
       "model_id": "37d5cb9409fa4355878ffd56393ea160",
       "version_major": 2,
       "version_minor": 0
      },
      "text/plain": [
       "  0%|          | 0/22 [00:00<?, ?it/s]"
      ]
     },
     "metadata": {},
     "output_type": "display_data"
    },
    {
     "data": {
      "application/vnd.jupyter.widget-view+json": {
       "model_id": "edb3142021b04f518c236e525977ac0b",
       "version_major": 2,
       "version_minor": 0
      },
      "text/plain": [
       "  0%|          | 0/22 [00:00<?, ?it/s]"
      ]
     },
     "metadata": {},
     "output_type": "display_data"
    },
    {
     "name": "stdout",
     "output_type": "stream",
     "text": [
      "Filtering away by face and skeletal length\n",
      "\n",
      "Number of segments: 20\n",
      "\n"
     ]
    },
    {
     "data": {
      "application/vnd.jupyter.widget-view+json": {
       "model_id": "f3bf50d0b63343fa902cd59ad7c5769d",
       "version_major": 2,
       "version_minor": 0
      },
      "text/plain": [
       "  0%|          | 0/20 [00:00<?, ?it/s]"
      ]
     },
     "metadata": {},
     "output_type": "display_data"
    },
    {
     "data": {
      "application/vnd.jupyter.widget-view+json": {
       "model_id": "82225587884a4965aa4f3f24078b6012",
       "version_major": 2,
       "version_minor": 0
      },
      "text/plain": [
       "  0%|          | 0/20 [00:00<?, ?it/s]"
      ]
     },
     "metadata": {},
     "output_type": "display_data"
    },
    {
     "name": "stdout",
     "output_type": "stream",
     "text": [
      "Filtering away by face and skeletal length\n",
      "\n",
      "Number of segments: 97\n",
      "\n"
     ]
    },
    {
     "data": {
      "application/vnd.jupyter.widget-view+json": {
       "model_id": "605e97a7e73440559eaa870f7599cbeb",
       "version_major": 2,
       "version_minor": 0
      },
      "text/plain": [
       "  0%|          | 0/97 [00:00<?, ?it/s]"
      ]
     },
     "metadata": {},
     "output_type": "display_data"
    },
    {
     "data": {
      "application/vnd.jupyter.widget-view+json": {
       "model_id": "7197a06e8cd84990a4a89cb56013254d",
       "version_major": 2,
       "version_minor": 0
      },
      "text/plain": [
       "  0%|          | 0/97 [00:00<?, ?it/s]"
      ]
     },
     "metadata": {},
     "output_type": "display_data"
    },
    {
     "name": "stdout",
     "output_type": "stream",
     "text": [
      "Filtering away by face and skeletal length\n",
      "\n",
      "Number of segments: 77\n",
      "\n"
     ]
    },
    {
     "data": {
      "application/vnd.jupyter.widget-view+json": {
       "model_id": "579736a6c9eb4df5b6919ab1096b8c38",
       "version_major": 2,
       "version_minor": 0
      },
      "text/plain": [
       "  0%|          | 0/77 [00:00<?, ?it/s]"
      ]
     },
     "metadata": {},
     "output_type": "display_data"
    },
    {
     "data": {
      "application/vnd.jupyter.widget-view+json": {
       "model_id": "b58a6a4965a844e882faa0bcd2ee1a6a",
       "version_major": 2,
       "version_minor": 0
      },
      "text/plain": [
       "  0%|          | 0/77 [00:00<?, ?it/s]"
      ]
     },
     "metadata": {},
     "output_type": "display_data"
    },
    {
     "name": "stdout",
     "output_type": "stream",
     "text": [
      "Filtering away by face and skeletal length\n",
      "\n",
      "Number of segments: 4\n",
      "\n"
     ]
    },
    {
     "data": {
      "application/vnd.jupyter.widget-view+json": {
       "model_id": "6a944d6f268f4fd4bc6c58b758c85932",
       "version_major": 2,
       "version_minor": 0
      },
      "text/plain": [
       "  0%|          | 0/4 [00:00<?, ?it/s]"
      ]
     },
     "metadata": {},
     "output_type": "display_data"
    },
    {
     "data": {
      "application/vnd.jupyter.widget-view+json": {
       "model_id": "8c07e807d1ba4881b1e900f357a256fa",
       "version_major": 2,
       "version_minor": 0
      },
      "text/plain": [
       "  0%|          | 0/4 [00:00<?, ?it/s]"
      ]
     },
     "metadata": {},
     "output_type": "display_data"
    },
    {
     "name": "stdout",
     "output_type": "stream",
     "text": [
      "Filtering away by face and skeletal length\n",
      "\n",
      "Number of segments: 8\n",
      "\n"
     ]
    },
    {
     "data": {
      "application/vnd.jupyter.widget-view+json": {
       "model_id": "e8746a2312914aa1b97bad605d535f6d",
       "version_major": 2,
       "version_minor": 0
      },
      "text/plain": [
       "  0%|          | 0/8 [00:00<?, ?it/s]"
      ]
     },
     "metadata": {},
     "output_type": "display_data"
    },
    {
     "data": {
      "application/vnd.jupyter.widget-view+json": {
       "model_id": "cf0bfd4569fe4e2ba94a3b2e9ff75fce",
       "version_major": 2,
       "version_minor": 0
      },
      "text/plain": [
       "  0%|          | 0/8 [00:00<?, ?it/s]"
      ]
     },
     "metadata": {},
     "output_type": "display_data"
    },
    {
     "name": "stdout",
     "output_type": "stream",
     "text": [
      "Filtering away by face and skeletal length\n",
      "\n",
      "Number of segments: 6\n",
      "\n"
     ]
    },
    {
     "data": {
      "application/vnd.jupyter.widget-view+json": {
       "model_id": "9f48fd8d031e457fa5c6ffeb6a88289d",
       "version_major": 2,
       "version_minor": 0
      },
      "text/plain": [
       "  0%|          | 0/6 [00:00<?, ?it/s]"
      ]
     },
     "metadata": {},
     "output_type": "display_data"
    },
    {
     "data": {
      "application/vnd.jupyter.widget-view+json": {
       "model_id": "981f9d07530e4d4bb2c08f8ca7885a4d",
       "version_major": 2,
       "version_minor": 0
      },
      "text/plain": [
       "  0%|          | 0/6 [00:00<?, ?it/s]"
      ]
     },
     "metadata": {},
     "output_type": "display_data"
    },
    {
     "name": "stdout",
     "output_type": "stream",
     "text": [
      "Filtering away by face and skeletal length\n",
      "\n",
      "Number of segments: 183\n",
      "\n"
     ]
    },
    {
     "data": {
      "application/vnd.jupyter.widget-view+json": {
       "model_id": "8cd98edb9b8a455699945be35a60f332",
       "version_major": 2,
       "version_minor": 0
      },
      "text/plain": [
       "  0%|          | 0/183 [00:00<?, ?it/s]"
      ]
     },
     "metadata": {},
     "output_type": "display_data"
    },
    {
     "data": {
      "application/vnd.jupyter.widget-view+json": {
       "model_id": "a31b3e0b851446b7813d235b146f374b",
       "version_major": 2,
       "version_minor": 0
      },
      "text/plain": [
       "  0%|          | 0/183 [00:00<?, ?it/s]"
      ]
     },
     "metadata": {},
     "output_type": "display_data"
    },
    {
     "name": "stdout",
     "output_type": "stream",
     "text": [
      "Filtering away by face and skeletal length\n",
      "\n",
      "Number of segments: 22\n",
      "\n"
     ]
    },
    {
     "data": {
      "application/vnd.jupyter.widget-view+json": {
       "model_id": "680c4beac9bf44f696d94ceb70cfcf43",
       "version_major": 2,
       "version_minor": 0
      },
      "text/plain": [
       "  0%|          | 0/22 [00:00<?, ?it/s]"
      ]
     },
     "metadata": {},
     "output_type": "display_data"
    },
    {
     "data": {
      "application/vnd.jupyter.widget-view+json": {
       "model_id": "ea488eb8a5b749e1b35df6130b6472d7",
       "version_major": 2,
       "version_minor": 0
      },
      "text/plain": [
       "  0%|          | 0/22 [00:00<?, ?it/s]"
      ]
     },
     "metadata": {},
     "output_type": "display_data"
    },
    {
     "name": "stdout",
     "output_type": "stream",
     "text": [
      "Filtering away by face and skeletal length\n",
      "\n",
      "Number of segments: 3\n",
      "\n"
     ]
    },
    {
     "data": {
      "application/vnd.jupyter.widget-view+json": {
       "model_id": "04d75e1c01654cd0af91a26b08e62608",
       "version_major": 2,
       "version_minor": 0
      },
      "text/plain": [
       "  0%|          | 0/3 [00:00<?, ?it/s]"
      ]
     },
     "metadata": {},
     "output_type": "display_data"
    },
    {
     "data": {
      "application/vnd.jupyter.widget-view+json": {
       "model_id": "b0f4de404a7a4f238634ce73c1baf1d4",
       "version_major": 2,
       "version_minor": 0
      },
      "text/plain": [
       "  0%|          | 0/3 [00:00<?, ?it/s]"
      ]
     },
     "metadata": {},
     "output_type": "display_data"
    },
    {
     "name": "stdout",
     "output_type": "stream",
     "text": [
      "Filtering away by face and skeletal length\n",
      "\n",
      "Number of segments: 35\n",
      "\n"
     ]
    },
    {
     "data": {
      "application/vnd.jupyter.widget-view+json": {
       "model_id": "a3e1a133a64e4051912b23a77ce638d0",
       "version_major": 2,
       "version_minor": 0
      },
      "text/plain": [
       "  0%|          | 0/35 [00:00<?, ?it/s]"
      ]
     },
     "metadata": {},
     "output_type": "display_data"
    },
    {
     "data": {
      "application/vnd.jupyter.widget-view+json": {
       "model_id": "c0d84541eb8e4bd29e6f50c3ca11666e",
       "version_major": 2,
       "version_minor": 0
      },
      "text/plain": [
       "  0%|          | 0/35 [00:00<?, ?it/s]"
      ]
     },
     "metadata": {},
     "output_type": "display_data"
    },
    {
     "name": "stdout",
     "output_type": "stream",
     "text": [
      "Filtering away by face and skeletal length\n",
      "\n",
      "Number of segments: 5\n",
      "\n"
     ]
    },
    {
     "data": {
      "application/vnd.jupyter.widget-view+json": {
       "model_id": "d638d6c7f0244f0ba2096fd73e7bb0d1",
       "version_major": 2,
       "version_minor": 0
      },
      "text/plain": [
       "  0%|          | 0/5 [00:00<?, ?it/s]"
      ]
     },
     "metadata": {},
     "output_type": "display_data"
    },
    {
     "data": {
      "application/vnd.jupyter.widget-view+json": {
       "model_id": "7723c50c47694a39a72433fd4b868b94",
       "version_major": 2,
       "version_minor": 0
      },
      "text/plain": [
       "  0%|          | 0/5 [00:00<?, ?it/s]"
      ]
     },
     "metadata": {},
     "output_type": "display_data"
    },
    {
     "name": "stdout",
     "output_type": "stream",
     "text": [
      "Filtering away by face and skeletal length\n",
      "\n",
      "Number of segments: 11\n",
      "\n"
     ]
    },
    {
     "data": {
      "application/vnd.jupyter.widget-view+json": {
       "model_id": "0c62edbfdd134bf28bb04c7ba75d90c1",
       "version_major": 2,
       "version_minor": 0
      },
      "text/plain": [
       "  0%|          | 0/11 [00:00<?, ?it/s]"
      ]
     },
     "metadata": {},
     "output_type": "display_data"
    },
    {
     "data": {
      "application/vnd.jupyter.widget-view+json": {
       "model_id": "125bb15faa924bae8a7a98571348d1c6",
       "version_major": 2,
       "version_minor": 0
      },
      "text/plain": [
       "  0%|          | 0/11 [00:00<?, ?it/s]"
      ]
     },
     "metadata": {},
     "output_type": "display_data"
    },
    {
     "name": "stdout",
     "output_type": "stream",
     "text": [
      "Filtering away by face and skeletal length\n",
      "\n",
      "Number of segments: 24\n",
      "\n"
     ]
    },
    {
     "data": {
      "application/vnd.jupyter.widget-view+json": {
       "model_id": "5df447f313f24959a59a51a43cf2540a",
       "version_major": 2,
       "version_minor": 0
      },
      "text/plain": [
       "  0%|          | 0/24 [00:00<?, ?it/s]"
      ]
     },
     "metadata": {},
     "output_type": "display_data"
    },
    {
     "data": {
      "application/vnd.jupyter.widget-view+json": {
       "model_id": "ce51de570f104615aec95f8cddaa12a1",
       "version_major": 2,
       "version_minor": 0
      },
      "text/plain": [
       "  0%|          | 0/24 [00:00<?, ?it/s]"
      ]
     },
     "metadata": {},
     "output_type": "display_data"
    },
    {
     "name": "stdout",
     "output_type": "stream",
     "text": [
      "Filtering away by face and skeletal length\n",
      "\n",
      "Number of segments: 3\n",
      "\n"
     ]
    },
    {
     "data": {
      "application/vnd.jupyter.widget-view+json": {
       "model_id": "a2535f2a00394539bcd63ac521fcab83",
       "version_major": 2,
       "version_minor": 0
      },
      "text/plain": [
       "  0%|          | 0/3 [00:00<?, ?it/s]"
      ]
     },
     "metadata": {},
     "output_type": "display_data"
    },
    {
     "data": {
      "application/vnd.jupyter.widget-view+json": {
       "model_id": "b9f562ecc6e149c89e86e41a59c4e220",
       "version_major": 2,
       "version_minor": 0
      },
      "text/plain": [
       "  0%|          | 0/3 [00:00<?, ?it/s]"
      ]
     },
     "metadata": {},
     "output_type": "display_data"
    },
    {
     "name": "stdout",
     "output_type": "stream",
     "text": [
      "Filtering away by face and skeletal length\n",
      "\n",
      "Number of segments: 4\n",
      "\n"
     ]
    },
    {
     "data": {
      "application/vnd.jupyter.widget-view+json": {
       "model_id": "e812fb2d3781428d915fe31200892e97",
       "version_major": 2,
       "version_minor": 0
      },
      "text/plain": [
       "  0%|          | 0/4 [00:00<?, ?it/s]"
      ]
     },
     "metadata": {},
     "output_type": "display_data"
    },
    {
     "data": {
      "application/vnd.jupyter.widget-view+json": {
       "model_id": "0c9197c74f2d458e9bf13155711578ae",
       "version_major": 2,
       "version_minor": 0
      },
      "text/plain": [
       "  0%|          | 0/4 [00:00<?, ?it/s]"
      ]
     },
     "metadata": {},
     "output_type": "display_data"
    },
    {
     "name": "stdout",
     "output_type": "stream",
     "text": [
      "Filtering away by face and skeletal length\n",
      "\n",
      "Number of segments: 152\n",
      "\n"
     ]
    },
    {
     "data": {
      "application/vnd.jupyter.widget-view+json": {
       "model_id": "4723b5b3fe994a08b16dcccad8e982ca",
       "version_major": 2,
       "version_minor": 0
      },
      "text/plain": [
       "  0%|          | 0/152 [00:00<?, ?it/s]"
      ]
     },
     "metadata": {},
     "output_type": "display_data"
    },
    {
     "data": {
      "application/vnd.jupyter.widget-view+json": {
       "model_id": "4a98f59552164f0f8b00b00d7049b15e",
       "version_major": 2,
       "version_minor": 0
      },
      "text/plain": [
       "  0%|          | 0/152 [00:00<?, ?it/s]"
      ]
     },
     "metadata": {},
     "output_type": "display_data"
    },
    {
     "name": "stdout",
     "output_type": "stream",
     "text": [
      "Filtering away by face and skeletal length\n",
      "\n",
      "Number of segments: 148\n",
      "\n"
     ]
    },
    {
     "data": {
      "application/vnd.jupyter.widget-view+json": {
       "model_id": "8af4bd49204d49f5a5d39f5877ad0979",
       "version_major": 2,
       "version_minor": 0
      },
      "text/plain": [
       "  0%|          | 0/148 [00:00<?, ?it/s]"
      ]
     },
     "metadata": {},
     "output_type": "display_data"
    },
    {
     "data": {
      "application/vnd.jupyter.widget-view+json": {
       "model_id": "f7ace2284a1043b5890f9a427fcf769d",
       "version_major": 2,
       "version_minor": 0
      },
      "text/plain": [
       "  0%|          | 0/148 [00:00<?, ?it/s]"
      ]
     },
     "metadata": {},
     "output_type": "display_data"
    },
    {
     "name": "stdout",
     "output_type": "stream",
     "text": [
      "Filtering away by face and skeletal length\n",
      "\n",
      "Number of segments: 3\n",
      "\n"
     ]
    },
    {
     "data": {
      "application/vnd.jupyter.widget-view+json": {
       "model_id": "ee4fcdd3097347b7918b198ce1cb3a51",
       "version_major": 2,
       "version_minor": 0
      },
      "text/plain": [
       "  0%|          | 0/3 [00:00<?, ?it/s]"
      ]
     },
     "metadata": {},
     "output_type": "display_data"
    },
    {
     "data": {
      "application/vnd.jupyter.widget-view+json": {
       "model_id": "70eed0dca8a64320b8362f7cd867d8a1",
       "version_major": 2,
       "version_minor": 0
      },
      "text/plain": [
       "  0%|          | 0/3 [00:00<?, ?it/s]"
      ]
     },
     "metadata": {},
     "output_type": "display_data"
    },
    {
     "name": "stdout",
     "output_type": "stream",
     "text": [
      "Filtering away by face and skeletal length\n",
      "\n",
      "Number of segments: 106\n",
      "\n"
     ]
    },
    {
     "data": {
      "application/vnd.jupyter.widget-view+json": {
       "model_id": "c5d8e693412241f8ae935345be47c547",
       "version_major": 2,
       "version_minor": 0
      },
      "text/plain": [
       "  0%|          | 0/106 [00:00<?, ?it/s]"
      ]
     },
     "metadata": {},
     "output_type": "display_data"
    },
    {
     "data": {
      "application/vnd.jupyter.widget-view+json": {
       "model_id": "05462392efc8484d922ce66dd4cab93c",
       "version_major": 2,
       "version_minor": 0
      },
      "text/plain": [
       "  0%|          | 0/106 [00:00<?, ?it/s]"
      ]
     },
     "metadata": {},
     "output_type": "display_data"
    },
    {
     "name": "stdout",
     "output_type": "stream",
     "text": [
      "Filtering away by face and skeletal length\n",
      "\n",
      "Number of segments: 53\n",
      "\n"
     ]
    },
    {
     "data": {
      "application/vnd.jupyter.widget-view+json": {
       "model_id": "7bc2b2352af14a5a896774f0fd320e40",
       "version_major": 2,
       "version_minor": 0
      },
      "text/plain": [
       "  0%|          | 0/53 [00:00<?, ?it/s]"
      ]
     },
     "metadata": {},
     "output_type": "display_data"
    },
    {
     "data": {
      "application/vnd.jupyter.widget-view+json": {
       "model_id": "f3134a8d14044665b81101a6e20d32c9",
       "version_major": 2,
       "version_minor": 0
      },
      "text/plain": [
       "  0%|          | 0/53 [00:00<?, ?it/s]"
      ]
     },
     "metadata": {},
     "output_type": "display_data"
    },
    {
     "name": "stdout",
     "output_type": "stream",
     "text": [
      "Filtering away by face and skeletal length\n",
      "\n",
      "Number of segments: 27\n",
      "\n"
     ]
    },
    {
     "data": {
      "application/vnd.jupyter.widget-view+json": {
       "model_id": "b520b8f693ae44d6ba20ec759a97c1b1",
       "version_major": 2,
       "version_minor": 0
      },
      "text/plain": [
       "  0%|          | 0/27 [00:00<?, ?it/s]"
      ]
     },
     "metadata": {},
     "output_type": "display_data"
    },
    {
     "data": {
      "application/vnd.jupyter.widget-view+json": {
       "model_id": "724f24a8671d431d9cafb60b7e388c84",
       "version_major": 2,
       "version_minor": 0
      },
      "text/plain": [
       "  0%|          | 0/27 [00:00<?, ?it/s]"
      ]
     },
     "metadata": {},
     "output_type": "display_data"
    },
    {
     "name": "stdout",
     "output_type": "stream",
     "text": [
      "Filtering away by face and skeletal length\n",
      "\n",
      "Number of segments: 7\n",
      "\n"
     ]
    },
    {
     "data": {
      "application/vnd.jupyter.widget-view+json": {
       "model_id": "e9b5f1bc8f8c4d4599f64d44edb4a465",
       "version_major": 2,
       "version_minor": 0
      },
      "text/plain": [
       "  0%|          | 0/7 [00:00<?, ?it/s]"
      ]
     },
     "metadata": {},
     "output_type": "display_data"
    },
    {
     "data": {
      "application/vnd.jupyter.widget-view+json": {
       "model_id": "33e3927aff7b4b31972c5ea82ce2442e",
       "version_major": 2,
       "version_minor": 0
      },
      "text/plain": [
       "  0%|          | 0/7 [00:00<?, ?it/s]"
      ]
     },
     "metadata": {},
     "output_type": "display_data"
    },
    {
     "name": "stdout",
     "output_type": "stream",
     "text": [
      "Filtering away by face and skeletal length\n",
      "\n",
      "Number of segments: 3\n",
      "\n"
     ]
    },
    {
     "data": {
      "application/vnd.jupyter.widget-view+json": {
       "model_id": "562f6033e909438da42bb5b80174f0b3",
       "version_major": 2,
       "version_minor": 0
      },
      "text/plain": [
       "  0%|          | 0/3 [00:00<?, ?it/s]"
      ]
     },
     "metadata": {},
     "output_type": "display_data"
    },
    {
     "data": {
      "application/vnd.jupyter.widget-view+json": {
       "model_id": "1e66193e81e84496b9e888270aba8938",
       "version_major": 2,
       "version_minor": 0
      },
      "text/plain": [
       "  0%|          | 0/3 [00:00<?, ?it/s]"
      ]
     },
     "metadata": {},
     "output_type": "display_data"
    },
    {
     "name": "stdout",
     "output_type": "stream",
     "text": [
      "Filtering away by face and skeletal length\n",
      "\n",
      "Number of segments: 6\n",
      "\n"
     ]
    },
    {
     "data": {
      "application/vnd.jupyter.widget-view+json": {
       "model_id": "119d42d263dc4f16895a805736cca1ca",
       "version_major": 2,
       "version_minor": 0
      },
      "text/plain": [
       "  0%|          | 0/6 [00:00<?, ?it/s]"
      ]
     },
     "metadata": {},
     "output_type": "display_data"
    },
    {
     "data": {
      "application/vnd.jupyter.widget-view+json": {
       "model_id": "e51b4f282aa54e39a0206a7b34b264d4",
       "version_major": 2,
       "version_minor": 0
      },
      "text/plain": [
       "  0%|          | 0/6 [00:00<?, ?it/s]"
      ]
     },
     "metadata": {},
     "output_type": "display_data"
    },
    {
     "name": "stdout",
     "output_type": "stream",
     "text": [
      "Filtering away by face and skeletal length\n",
      "\n",
      "Number of segments: 7\n",
      "\n"
     ]
    },
    {
     "data": {
      "application/vnd.jupyter.widget-view+json": {
       "model_id": "d770f316dd8a4189bcd3520d45c9ec8b",
       "version_major": 2,
       "version_minor": 0
      },
      "text/plain": [
       "  0%|          | 0/7 [00:00<?, ?it/s]"
      ]
     },
     "metadata": {},
     "output_type": "display_data"
    },
    {
     "data": {
      "application/vnd.jupyter.widget-view+json": {
       "model_id": "87408fc3b6cc4a579a99fa1aa4340cd5",
       "version_major": 2,
       "version_minor": 0
      },
      "text/plain": [
       "  0%|          | 0/7 [00:00<?, ?it/s]"
      ]
     },
     "metadata": {},
     "output_type": "display_data"
    },
    {
     "name": "stdout",
     "output_type": "stream",
     "text": [
      "Filtering away by face and skeletal length\n",
      "\n",
      "Number of segments: 80\n",
      "\n"
     ]
    },
    {
     "data": {
      "application/vnd.jupyter.widget-view+json": {
       "model_id": "58dfbe7c7fec4ce282ded11b04100209",
       "version_major": 2,
       "version_minor": 0
      },
      "text/plain": [
       "  0%|          | 0/80 [00:00<?, ?it/s]"
      ]
     },
     "metadata": {},
     "output_type": "display_data"
    },
    {
     "data": {
      "application/vnd.jupyter.widget-view+json": {
       "model_id": "30b6f4d262f3476dabe162dd95fba8d2",
       "version_major": 2,
       "version_minor": 0
      },
      "text/plain": [
       "  0%|          | 0/80 [00:00<?, ?it/s]"
      ]
     },
     "metadata": {},
     "output_type": "display_data"
    },
    {
     "name": "stdout",
     "output_type": "stream",
     "text": [
      "Filtering away by face and skeletal length\n",
      "\n",
      "Number of segments: 12\n",
      "\n"
     ]
    },
    {
     "data": {
      "application/vnd.jupyter.widget-view+json": {
       "model_id": "2201a9586766404e81024154eb96f630",
       "version_major": 2,
       "version_minor": 0
      },
      "text/plain": [
       "  0%|          | 0/12 [00:00<?, ?it/s]"
      ]
     },
     "metadata": {},
     "output_type": "display_data"
    },
    {
     "data": {
      "application/vnd.jupyter.widget-view+json": {
       "model_id": "bc320cafd58041bbb484d4abf2237bf4",
       "version_major": 2,
       "version_minor": 0
      },
      "text/plain": [
       "  0%|          | 0/12 [00:00<?, ?it/s]"
      ]
     },
     "metadata": {},
     "output_type": "display_data"
    },
    {
     "name": "stdout",
     "output_type": "stream",
     "text": [
      "Filtering away by face and skeletal length\n",
      "\n",
      "Number of segments: 134\n",
      "\n"
     ]
    },
    {
     "data": {
      "application/vnd.jupyter.widget-view+json": {
       "model_id": "b7c7945144eb4288a6d25d9084e121ad",
       "version_major": 2,
       "version_minor": 0
      },
      "text/plain": [
       "  0%|          | 0/134 [00:00<?, ?it/s]"
      ]
     },
     "metadata": {},
     "output_type": "display_data"
    },
    {
     "data": {
      "application/vnd.jupyter.widget-view+json": {
       "model_id": "5be095fbf05b4665bc262d1b5c60a20b",
       "version_major": 2,
       "version_minor": 0
      },
      "text/plain": [
       "  0%|          | 0/134 [00:00<?, ?it/s]"
      ]
     },
     "metadata": {},
     "output_type": "display_data"
    },
    {
     "name": "stdout",
     "output_type": "stream",
     "text": [
      "Filtering away by face and skeletal length\n",
      "\n",
      "Number of segments: 120\n",
      "\n"
     ]
    },
    {
     "data": {
      "application/vnd.jupyter.widget-view+json": {
       "model_id": "b71f4909806b445c818aefb211aac065",
       "version_major": 2,
       "version_minor": 0
      },
      "text/plain": [
       "  0%|          | 0/120 [00:00<?, ?it/s]"
      ]
     },
     "metadata": {},
     "output_type": "display_data"
    },
    {
     "data": {
      "application/vnd.jupyter.widget-view+json": {
       "model_id": "c2e27109c2004cfe9a904438646b2c58",
       "version_major": 2,
       "version_minor": 0
      },
      "text/plain": [
       "  0%|          | 0/120 [00:00<?, ?it/s]"
      ]
     },
     "metadata": {},
     "output_type": "display_data"
    },
    {
     "name": "stdout",
     "output_type": "stream",
     "text": [
      "Filtering away by face and skeletal length\n",
      "\n",
      "Number of segments: 20\n",
      "\n"
     ]
    },
    {
     "data": {
      "application/vnd.jupyter.widget-view+json": {
       "model_id": "4f20162ee1c6411db11bd2f91cc38c3b",
       "version_major": 2,
       "version_minor": 0
      },
      "text/plain": [
       "  0%|          | 0/20 [00:00<?, ?it/s]"
      ]
     },
     "metadata": {},
     "output_type": "display_data"
    },
    {
     "data": {
      "application/vnd.jupyter.widget-view+json": {
       "model_id": "571c7615e483491187cc0cfda2547330",
       "version_major": 2,
       "version_minor": 0
      },
      "text/plain": [
       "  0%|          | 0/20 [00:00<?, ?it/s]"
      ]
     },
     "metadata": {},
     "output_type": "display_data"
    },
    {
     "name": "stdout",
     "output_type": "stream",
     "text": [
      "Filtering away by face and skeletal length\n",
      "\n",
      "Number of segments: 17\n",
      "\n"
     ]
    },
    {
     "data": {
      "application/vnd.jupyter.widget-view+json": {
       "model_id": "bc9ad701cef24f419f3362b6ebb38e6d",
       "version_major": 2,
       "version_minor": 0
      },
      "text/plain": [
       "  0%|          | 0/17 [00:00<?, ?it/s]"
      ]
     },
     "metadata": {},
     "output_type": "display_data"
    },
    {
     "data": {
      "application/vnd.jupyter.widget-view+json": {
       "model_id": "227fcf04789f4d4884651acf47158d3a",
       "version_major": 2,
       "version_minor": 0
      },
      "text/plain": [
       "  0%|          | 0/17 [00:00<?, ?it/s]"
      ]
     },
     "metadata": {},
     "output_type": "display_data"
    },
    {
     "name": "stdout",
     "output_type": "stream",
     "text": [
      "Filtering away by face and skeletal length\n"
     ]
    },
    {
     "data": {
      "application/vnd.jupyter.widget-view+json": {
       "model_id": "42ad5e3113554721babccda0e724ab43",
       "version_major": 2,
       "version_minor": 0
      },
      "text/plain": [
       "  0%|          | 0/1 [00:00<?, ?it/s]"
      ]
     },
     "metadata": {},
     "output_type": "display_data"
    },
    {
     "data": {
      "application/vnd.jupyter.widget-view+json": {
       "model_id": "a81e21aa89974b0793fc0f43222a21a3",
       "version_major": 2,
       "version_minor": 0
      },
      "text/plain": [
       "  0%|          | 0/1 [00:00<?, ?it/s]"
      ]
     },
     "metadata": {},
     "output_type": "display_data"
    },
    {
     "name": "stdout",
     "output_type": "stream",
     "text": [
      "There was only one mesh found from the spine process and mesh split, returning empty array\n",
      "Filtering away by face and skeletal length\n",
      "width_name BEFORE processing = no_spine_median_mesh_center\n",
      "After processing\n",
      "width_name = no_spine_median_mesh_center, distance_by_mesh_center= True, no_spines = True, summary_measure= median\n",
      "Working on limb L0 branch 6\n",
      "    No spines and using precomputed width: 634.8672871495537\n",
      "Working on limb L0 branch 3\n",
      "    current_width= 420.71381873991464\n",
      "Working on limb L0 branch 7\n",
      "    No spines and using precomputed width: 371.9604763085619\n",
      "Working on limb L0 branch 0\n",
      "    current_width= 264.2172601478005\n",
      "Working on limb L0 branch 1\n",
      "    current_width= 272.5726579178621\n",
      "Working on limb L0 branch 2\n",
      "    current_width= 296.68569454502176\n",
      "Working on limb L0 branch 4\n",
      "    current_width= 296.6207081305331\n",
      "Working on limb L0 branch 8\n",
      "    No spines and using precomputed width: 294.6332242505633\n",
      "Working on limb L0 branch 5\n",
      "    current_width= 232.26855515495083\n",
      "Working on limb L0 branch 9\n",
      "    current_width= 279.9348735665112\n",
      "Working on limb L1 branch 17\n",
      "    current_width= 186.74385817318597\n",
      "Working on limb L1 branch 15\n",
      "    No spines and using precomputed width: 81.06732888550147\n",
      "Working on limb L1 branch 16\n",
      "    No spines and using precomputed width: 180.79969247866023\n",
      "Working on limb L1 branch 18\n",
      "    No spines and using precomputed width: 83.6230371949197\n",
      "Working on limb L1 branch 4\n",
      "    No spines and using precomputed width: 67.0560163730836\n",
      "Working on limb L1 branch 14\n",
      "    No spines and using precomputed width: 121.42094395784133\n",
      "Working on limb L1 branch 26\n",
      "    No spines and using precomputed width: 166.88235794997527\n",
      "Working on limb L1 branch 19\n",
      "    No spines and using precomputed width: 74.74432487535276\n",
      "Working on limb L1 branch 20\n",
      "    No spines and using precomputed width: 78.90931853911839\n",
      "Working on limb L1 branch 12\n",
      "    No spines and using precomputed width: 110.73263180079506\n",
      "Working on limb L1 branch 13\n",
      "    No spines and using precomputed width: 103.46347406090041\n",
      "Working on limb L1 branch 21\n",
      "    No spines and using precomputed width: 89.35632620500378\n",
      "Working on limb L1 branch 22\n",
      "    No spines and using precomputed width: 85.25609472650788\n",
      "Working on limb L1 branch 9\n",
      "    No spines and using precomputed width: 100.95848933724325\n",
      "Working on limb L1 branch 10\n",
      "    No spines and using precomputed width: 157.53843258920716\n",
      "Working on limb L1 branch 11\n",
      "    No spines and using precomputed width: 93.61085880218833\n",
      "Working on limb L1 branch 25\n",
      "    No spines and using precomputed width: 66.4711702516618\n",
      "Working on limb L1 branch 1\n",
      "    No spines and using precomputed width: 111.9796517426644\n",
      "Working on limb L1 branch 3\n",
      "    No spines and using precomputed width: 95.32640663158229\n",
      "Working on limb L1 branch 7\n",
      "    No spines and using precomputed width: 99.27134255045735\n",
      "Working on limb L1 branch 8\n",
      "    No spines and using precomputed width: 126.64492820434162\n",
      "Working on limb L1 branch 5\n",
      "    No spines and using precomputed width: 130.71789722229892\n",
      "Working on limb L1 branch 6\n",
      "    No spines and using precomputed width: 108.30020672887802\n",
      "Working on limb L1 branch 0\n",
      "    No spines and using precomputed width: 97.68811695225403\n",
      "Working on limb L1 branch 2\n",
      "    No spines and using precomputed width: 124.3431697776255\n",
      "Working on limb L1 branch 23\n",
      "    No spines and using precomputed width: 87.93425564048837\n",
      "Working on limb L1 branch 24\n",
      "    No spines and using precomputed width: 82.4982383186942\n",
      "Working on limb L4 branch 2\n",
      "    No spines and using precomputed width: 981.9736701065532\n",
      "Working on limb L4 branch 0\n",
      "    current_width= 412.5857233920679\n",
      "Working on limb L4 branch 3\n",
      "    No spines and using precomputed width: 648.2188250492422\n",
      "Working on limb L4 branch 1\n",
      "    No spines and using precomputed width: 294.3547733550146\n",
      "Working on limb L4 branch 4\n",
      "    No spines and using precomputed width: 504.44091598632565\n",
      "Working on limb L4 branch 5\n",
      "    current_width= 259.19519824986867\n",
      "Working on limb L4 branch 6\n",
      "    current_width= 418.6878313705377\n",
      "Working on limb L5 branch 0\n",
      "    current_width= 329.6255313497485\n",
      "Working on limb L6 branch 0\n",
      "    current_width= 272.5035345034447\n",
      "Working on limb L2 branch 0\n",
      "    No spines and using precomputed width: 383.8193410164432\n",
      "Working on limb L2 branch 1\n",
      "    current_width= 286.9281750290854\n",
      "Working on limb L2 branch 2\n",
      "    current_width= 297.6487431438022\n",
      "Working on limb L3 branch 1\n",
      "    No spines and using precomputed width: 341.6228226856097\n",
      "Working on limb L3 branch 0\n",
      "    No spines and using precomputed width: 96.25067340356648\n",
      "Working on limb L3 branch 2\n",
      "    current_width= 331.9521063406744\n",
      "Working on limb L3 branch 3\n",
      "    No spines and using precomputed width: 69.00572062527482\n",
      "Working on limb L3 branch 4\n",
      "    current_width= 260.5391768200335\n",
      "Working on limb L7 branch 2\n",
      "    No spines and using precomputed width: 483.011166921611\n",
      "Working on limb L7 branch 0\n",
      "    No spines and using precomputed width: 973.0914179677479\n",
      "Working on limb L7 branch 1\n",
      "    No spines and using precomputed width: 952.8335116881694\n",
      "Total time for neuron instance creation = 251.09824228286743\n"
     ]
    }
   ],
   "source": [
    "from neurd import neuron\n",
    "\n",
    "neuron_obj = neuron.Neuron(\n",
    "    mesh = mesh,\n",
    "    pipeline_products = products,\n",
    "    suppress_preprocessing_print=False,\n",
    "    suppress_output=False,\n",
    "    **decomposition_parameters\n",
    ")"
   ]
  },
  {
   "cell_type": "code",
   "execution_count": 64,
   "id": "b23f62a2",
   "metadata": {},
   "outputs": [
    {
     "name": "stdout",
     "output_type": "stream",
     "text": [
      "\n",
      " Working on visualization type: mesh\n",
      "\n",
      " Working on visualization type: skeleton\n"
     ]
    },
    {
     "data": {
      "application/vnd.jupyter.widget-view+json": {
       "model_id": "66c2243d94cb4aeb896761e435ed0acb",
       "version_major": 2,
       "version_minor": 0
      },
      "text/plain": [
       "Container(figure=Figure(box_center=[0.5, 0.5, 0.5], box_size=[1.0, 1.0, 1.0], camera=PerspectiveCamera(fov=45.…"
      ]
     },
     "metadata": {},
     "output_type": "display_data"
    }
   ],
   "source": [
    "from neurd import neuron_visualizations as nviz\n",
    "nviz.visualize_neuron(\n",
    "    neuron_obj,\n",
    "    limb_branch_dict=\"all\"\n",
    ")"
   ]
  },
  {
   "cell_type": "code",
   "execution_count": 65,
   "id": "49b682a4",
   "metadata": {},
   "outputs": [
    {
     "data": {
      "text/plain": [
       "<python_tools.pipeline.StageProducts at 0x7f49ff102610>"
      ]
     },
     "execution_count": 65,
     "metadata": {},
     "output_type": "execute_result"
    }
   ],
   "source": [
    "neuron_obj.calculate_decomposition_products(\n",
    "    store_in_obj = True,\n",
    ")"
   ]
  },
  {
   "cell_type": "code",
   "execution_count": 66,
   "id": "fdfe7ba6",
   "metadata": {},
   "outputs": [
    {
     "name": "stdout",
     "output_type": "stream",
     "text": [
      "{\n",
      "  'decimation':\n",
      "  {\n",
      "    'decimation_parameters':\n",
      "    {\n",
      "      'decimation_ratio':0.25,\n",
      "    },\n",
      "    'original_mesh':<trimesh.Trimesh(vertices.shape=(154713, 3), faces.shape=(323535, 3))>,\n",
      "  },\n",
      "  'soma_identification':\n",
      "  {\n",
      "    'glia_meshes':[],\n",
      "    'nuclei_meshes':[<trimesh.Trimesh(vertices.shape=(6494, 3), faces.shape=(15575, 3))>, <trimesh.Trimesh(vertices.shape=(3256, 3), faces.shape=(5810, 3))>, <trimesh.Trimesh(vertices.shape=(2064, 3), faces.shape=(4789, 3))>, <trimesh.Trimesh(vertices.shape=(2022, 3), faces.shape=(4628, 3))>, <trimesh.Trimesh(vertices.shape=(1922, 3), faces.shape=(4396, 3))>, <trimesh.Trimesh(vertices.shape=(1089, 3), faces.shape=(2556, 3))>, <trimesh.Trimesh(vertices.shape=(864, 3), faces.shape=(1989, 3))>, <trimesh.Trimesh(vertices.shape=(723, 3), faces.shape=(1611, 3))>, <trimesh.Trimesh(vertices.shape=(693, 3), faces.shape=(1561, 3))>, <trimesh.Trimesh(vertices.shape=(612, 3), faces.shape=(1378, 3))>, <trimesh.Trimesh(vertices.shape=(456, 3), faces.shape=(742, 3))>, <trimesh.Trimesh(vertices.shape=(344, 3), faces.shape=(727, 3))>, <trimesh.Trimesh(vertices.shape=(363, 3), faces.shape=(876, 3))>, <trimesh.Trimesh(vertices.shape=(301, 3), faces.shape=(613, 3))>, <trimesh.Trimesh(vertices.shape=(253, 3), faces.shape=(632, 3))>, <trimesh.Trimesh(vertices.shape=(199, 3), faces.shape=(446, 3))>, <trimesh.Trimesh(vertices.shape=(176, 3), faces.shape=(418, 3))>, <trimesh.Trimesh(vertices.shape=(145, 3), faces.shape=(317, 3))>],\n",
      "    'soma_extraction_parameters':\n",
      "    {\n",
      "    },\n",
      "    'soma_meshes':[<trimesh.Trimesh(vertices.shape=(11386, 3), faces.shape=(22560, 3))>, <trimesh.Trimesh(vertices.shape=(5708, 3), faces.shape=(10517, 3))>],\n",
      "    'soma_run_time':78.09380316734314,\n",
      "    'soma_sdfs':array([0.769893 , 0.3351845]),\n",
      "  },\n",
      "  'decomposition':\n",
      "  {\n",
      "    'bbox_volume':1.983577647606171,\n",
      "    'bbox_x_max':1564397.9821680577,\n",
      "    'bbox_x_max_soma_relative':75517.22158488538,\n",
      "    'bbox_x_min':1430458.6668303611,\n",
      "    'bbox_x_min_soma_relative':-58422.0937528112,\n",
      "    'bbox_y_max':659939.5309021459,\n",
      "    'bbox_y_max_soma_relative':70639.43716421863,\n",
      "    'bbox_y_min':502584.2072704911,\n",
      "    'bbox_y_min_soma_relative':-86715.88646743615,\n",
      "    'bbox_z_max':1114290.0,\n",
      "    'bbox_z_max_soma_relative':13637.686544879572,\n",
      "    'bbox_z_min':1020174.8170965186,\n",
      "    'bbox_z_min_soma_relative':-80477.49635860184,\n",
      "    'branch_length_mean':29.300265184425175,\n",
      "    'branch_length_median':16.73564751819507,\n",
      "    'centroid_volume':440.7405976697012,\n",
      "    'centroid_x':372220,\n",
      "    'centroid_x_nm':1488880.7605831723,\n",
      "    'centroid_y':147325,\n",
      "    'centroid_y_nm':589300.0937379273,\n",
      "    'centroid_z':27516,\n",
      "    'centroid_z_nm':1100652.3134551204,\n",
      "    'max_limb_n_branches':27,\n",
      "    'max_limb_skeletal_length':604558.5039643556,\n",
      "    'max_soma_area':341.07163148783616,\n",
      "    'median_branch_length':14983.573,\n",
      "    'n_branches':57,\n",
      "    'n_error_limbs':1,\n",
      "    'n_faces':323535,\n",
      "    'n_limbs':8,\n",
      "    'n_long_branches':3,\n",
      "    'n_medium_branches':42,\n",
      "    'n_multi_soma_touching_limbs':1,\n",
      "    'n_not_processed_soma_containing_meshes':0,\n",
      "    'n_same_soma_multi_touching_limbs':0,\n",
      "    'n_short_branches':10,\n",
      "    'n_somas':2,\n",
      "    'n_spine_eligible_branches':35,\n",
      "    'n_spines':401,\n",
      "    'n_vertices':154713,\n",
      "    'skeletal_length':1549848.8527470399,\n",
      "    'skeletal_length_eligible':1029564.688,\n",
      "    'skeleton':array([[[1469972.26898917,  644331.51215205, 1105781.49225862],\n",
      "        [1469922.99793769,  644306.57306289, 1105698.12317519]],\n",
      "\n",
      "       [[1469922.99793769,  644306.57306289, 1105698.12317519],\n",
      "        [1469873.03503235,  644278.96793629, 1105616.01554459]],\n",
      "\n",
      "       [[1469873.03503235,  644278.96793629, 1105616.01554459],\n",
      "        [1469822.34841942,  644249.02047451, 1105535.18233182]],\n",
      "\n",
      "       ...,\n",
      "\n",
      "       [[1472182.71408549,  577993.08644009, 1112354.27575333],\n",
      "        [1475123.88888889,  571587.50555556, 1113243.55555556]],\n",
      "\n",
      "       [[1472182.71408549,  577993.08644009, 1112354.27575333],\n",
      "        [1474880.        ,  582876.        , 1113480.        ]],\n",
      "\n",
      "       [[1472182.71408549,  577993.08644009, 1112354.27575333],\n",
      "        [1468163.64444444,  578622.88333333, 1112816.05555556]]]),\n",
      "    'spine_density':0.0002587349077874561,\n",
      "    'spine_density_eligible':0.0003894849975662724,\n",
      "    'spine_volume_density':23884.467838173514,\n",
      "    'spine_volume_density_eligible':35954.33634128951,\n",
      "    'spine_volume_median':64105155.88333384,\n",
      "    'spine_volume_per_branch_eligible':1057637573.6419085,\n",
      "    'spines_per_branch':7.035087719298246,\n",
      "    'spines_per_branch_eligible':11.457,\n",
      "    'total_spine_volume':37017315077.4668,\n",
      "    'width_90_perc':491.583,\n",
      "    'width_median':186.744,\n",
      "    'width_no_spine_90_perc':491.583,\n",
      "    'width_no_spine_median':186.744,\n",
      "  },\n",
      "}\n",
      "\n"
     ]
    }
   ],
   "source": [
    "print(neuron_obj.pipeline_products)"
   ]
  },
  {
   "cell_type": "markdown",
   "id": "ec57712b",
   "metadata": {},
   "source": [
    "# Saving off neuron"
   ]
  },
  {
   "cell_type": "code",
   "execution_count": null,
   "id": "2438c14c",
   "metadata": {},
   "outputs": [],
   "source": [
    "from neurd import neuron_utils as nru\n",
    "\n",
    "filepath = nru.save_compressed_neuron(\n",
    "    neuron_obj,\n",
    "    output_folder = \"./\",\n",
    "    file_name = f\"{segment_id}\",\n",
    "    return_file_path = True,\n",
    ")"
   ]
  }
 ],
 "metadata": {
  "kernelspec": {
   "display_name": "Python 3 (ipykernel)",
   "language": "python",
   "name": "python3"
  },
  "language_info": {
   "codemirror_mode": {
    "name": "ipython",
    "version": 3
   },
   "file_extension": ".py",
   "mimetype": "text/x-python",
   "name": "python",
   "nbconvert_exporter": "python",
   "pygments_lexer": "ipython3",
   "version": "3.8.0"
  }
 },
 "nbformat": 4,
 "nbformat_minor": 5
}
