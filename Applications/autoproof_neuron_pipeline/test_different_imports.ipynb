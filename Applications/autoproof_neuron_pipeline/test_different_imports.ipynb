{
 "cells": [
  {
   "cell_type": "code",
   "execution_count": 1,
   "id": "81c02eee",
   "metadata": {},
   "outputs": [],
   "source": [
    "%load_ext autoreload\n",
    "%autoreload 2"
   ]
  },
  {
   "cell_type": "code",
   "execution_count": 2,
   "id": "d1e7829b",
   "metadata": {},
   "outputs": [
    {
     "data": {
      "text/plain": [
       "\"\\ninformation on loader: https://tenthousandmeters.com/blog/python-behind-the-scenes-11-how-the-python-import-system-works/\\n\\nProblem: The loaders don't always point to the same object for the same module\\nbut imported in different modules\\n\""
      ]
     },
     "execution_count": 2,
     "metadata": {},
     "output_type": "execute_result"
    }
   ],
   "source": [
    "\"\"\"\n",
    "information on loader: https://tenthousandmeters.com/blog/python-behind-the-scenes-11-how-the-python-import-system-works/\n",
    "\n",
    "Problem: The loaders don't always point to the same object for the same module\n",
    "but imported in different modules\n",
    "\"\"\""
   ]
  },
  {
   "cell_type": "code",
   "execution_count": 3,
   "id": "c54db7ba",
   "metadata": {
    "scrolled": false
   },
   "outputs": [
    {
     "name": "stdout",
     "output_type": "stream",
     "text": [
      "Jupyter environment detected. Enabling Open3D WebVisualizer.\n",
      "[Open3D INFO] WebRTC GUI backend enabled.\n",
      "[Open3D INFO] WebRTCWindowSystem: HTTP handshake server disabled.\n"
     ]
    },
    {
     "name": "stderr",
     "output_type": "stream",
     "text": [
      "/usr/local/lib/python3.8/dist-packages/umap/distances.py:1063: NumbaDeprecationWarning: The 'nopython' keyword argument was not supplied to the 'numba.jit' decorator. The implicit default value for this argument is currently False, but it will be changed to True in Numba 0.59.0. See https://numba.readthedocs.io/en/stable/reference/deprecation.html#deprecation-of-object-mode-fall-back-behaviour-when-using-jit for details.\n",
      "  @numba.jit()\n",
      "/usr/local/lib/python3.8/dist-packages/umap/distances.py:1071: NumbaDeprecationWarning: The 'nopython' keyword argument was not supplied to the 'numba.jit' decorator. The implicit default value for this argument is currently False, but it will be changed to True in Numba 0.59.0. See https://numba.readthedocs.io/en/stable/reference/deprecation.html#deprecation-of-object-mode-fall-back-behaviour-when-using-jit for details.\n",
      "  @numba.jit()\n",
      "/usr/local/lib/python3.8/dist-packages/umap/distances.py:1086: NumbaDeprecationWarning: The 'nopython' keyword argument was not supplied to the 'numba.jit' decorator. The implicit default value for this argument is currently False, but it will be changed to True in Numba 0.59.0. See https://numba.readthedocs.io/en/stable/reference/deprecation.html#deprecation-of-object-mode-fall-back-behaviour-when-using-jit for details.\n",
      "  @numba.jit()\n",
      "/usr/local/lib/python3.8/dist-packages/umap/umap_.py:660: NumbaDeprecationWarning: The 'nopython' keyword argument was not supplied to the 'numba.jit' decorator. The implicit default value for this argument is currently False, but it will be changed to True in Numba 0.59.0. See https://numba.readthedocs.io/en/stable/reference/deprecation.html#deprecation-of-object-mode-fall-back-behaviour-when-using-jit for details.\n",
      "  @numba.jit()\n"
     ]
    }
   ],
   "source": [
    "from neurd import neuron_visualizations as nviz\n",
    "from neurd import preprocessing_vp2 as pre"
   ]
  },
  {
   "cell_type": "code",
   "execution_count": 5,
   "id": "658a2ba3",
   "metadata": {},
   "outputs": [
    {
     "data": {
      "text/plain": [
       "<module 'neurd.neuron_visualizations' from '/neurd_packages/NEURD/neurd/neuron_visualizations.py'>"
      ]
     },
     "execution_count": 5,
     "metadata": {},
     "output_type": "execute_result"
    }
   ],
   "source": [
    "from neurd import preprocessing_vp2 as pre\n",
    "pre.nviz.nviz"
   ]
  },
  {
   "cell_type": "code",
   "execution_count": 6,
   "id": "d27bd8bb",
   "metadata": {},
   "outputs": [],
   "source": [
    "from neurd.microns_volume_utils import data_interface as hdju"
   ]
  },
  {
   "cell_type": "code",
   "execution_count": null,
   "id": "241153b9",
   "metadata": {},
   "outputs": [],
   "source": [
    "from neurd import neuron_visualizations as nviz\n",
    "nviz.nviz"
   ]
  },
  {
   "cell_type": "code",
   "execution_count": 7,
   "id": "c5ef1888",
   "metadata": {},
   "outputs": [
    {
     "data": {
      "text/plain": [
       "<neurd.microns_volume_utils.DataInterface at 0x7fe1cfed8ac0>"
      ]
     },
     "execution_count": 7,
     "metadata": {},
     "output_type": "execute_result"
    }
   ],
   "source": [
    "from neurd import synapse_utils as syu\n",
    "syu.hdju"
   ]
  },
  {
   "cell_type": "code",
   "execution_count": 8,
   "id": "b86daa22",
   "metadata": {},
   "outputs": [
    {
     "data": {
      "text/plain": [
       "<neurd.microns_volume_utils.DataInterface at 0x7fe1cfed8ac0>"
      ]
     },
     "execution_count": 8,
     "metadata": {},
     "output_type": "execute_result"
    }
   ],
   "source": [
    "hdju"
   ]
  },
  {
   "cell_type": "code",
   "execution_count": null,
   "id": "39c0f19a",
   "metadata": {},
   "outputs": [],
   "source": [
    "hdju.set_synapse_filepath(\"hello\")"
   ]
  },
  {
   "cell_type": "code",
   "execution_count": null,
   "id": "02932074",
   "metadata": {},
   "outputs": [],
   "source": []
  },
  {
   "cell_type": "code",
   "execution_count": null,
   "id": "074eca3f",
   "metadata": {},
   "outputs": [],
   "source": [
    "syu.hdju"
   ]
  },
  {
   "cell_type": "code",
   "execution_count": null,
   "id": "489cdcba",
   "metadata": {},
   "outputs": [],
   "source": [
    "from importlib import reload\n",
    "from neurd import classification_utils as clu\n",
    "clu = reload(clu)"
   ]
  },
  {
   "cell_type": "code",
   "execution_count": null,
   "id": "78d8194b",
   "metadata": {
    "scrolled": true
   },
   "outputs": [],
   "source": [
    "from python_tools import package_utils as pku\n",
    "pkg_mods = pku.submodule_version_dict(\n",
    "    \"nviz\",\n",
    "    \"neurd\",\n",
    "    use_loader=True,\n",
    "    verbose = True\n",
    ")\n",
    "pkg_mods"
   ]
  },
  {
   "cell_type": "code",
   "execution_count": null,
   "id": "9e5c304c",
   "metadata": {},
   "outputs": [],
   "source": [
    "from neurd import neuron_visualizations as nviz\n",
    "from os import sys\n",
    "nviz.__loader__\n",
    "sys.modules[\"neurd.neuron_visualizations\"]"
   ]
  },
  {
   "cell_type": "code",
   "execution_count": null,
   "id": "d6e911fa",
   "metadata": {},
   "outputs": [],
   "source": [
    "pre.nviz"
   ]
  },
  {
   "cell_type": "code",
   "execution_count": null,
   "id": "5fea25b4",
   "metadata": {},
   "outputs": [],
   "source": []
  },
  {
   "cell_type": "code",
   "execution_count": null,
   "id": "a9589a2f",
   "metadata": {},
   "outputs": [],
   "source": [
    "import neurd\n",
    "\n",
    "neurd.set_volume_params(\"microns\")\n",
    "\n",
    "pkg_mods = pku.submodule_version_dict(\n",
    "    \"hdju\",\n",
    "    \"neurd\",\n",
    "    use_loader=False,\n",
    "    verbose = True,\n",
    ")\n",
    "pkg_mods"
   ]
  },
  {
   "cell_type": "code",
   "execution_count": null,
   "id": "e207c383",
   "metadata": {},
   "outputs": [],
   "source": [
    "from neurd import axon_utils as au\n",
    "nviz.au.__loader__ is au.__loader__"
   ]
  },
  {
   "cell_type": "code",
   "execution_count": null,
   "id": "42f171ed",
   "metadata": {},
   "outputs": [],
   "source": [
    "import importlib\n",
    "from os import sys\n",
    "def reload_all_modules_in_package(package_name):\n",
    "    \"\"\"\n",
    "    Purpose: To reload all modules in a specified package\n",
    "\n",
    "    \"\"\"\n",
    "    for module in [k for k in sys.modules.values() if f\"'{package_name}.\" in str(k)]:\n",
    "        importlib.reload(module)"
   ]
  },
  {
   "cell_type": "code",
   "execution_count": null,
   "id": "fbbe278b",
   "metadata": {},
   "outputs": [],
   "source": [
    "import os\n",
    "os.listdir(os.path.dirname(\"./\"))"
   ]
  },
  {
   "cell_type": "code",
   "execution_count": null,
   "id": "f88760fc",
   "metadata": {},
   "outputs": [],
   "source": [
    "nviz.nviz"
   ]
  },
  {
   "cell_type": "code",
   "execution_count": null,
   "id": "361293d0",
   "metadata": {},
   "outputs": [],
   "source": [
    "nviz.soma_color"
   ]
  },
  {
   "cell_type": "code",
   "execution_count": null,
   "id": "32a3f19b",
   "metadata": {},
   "outputs": [],
   "source": []
  },
  {
   "cell_type": "code",
   "execution_count": null,
   "id": "3d5b2c3e",
   "metadata": {},
   "outputs": [],
   "source": []
  },
  {
   "cell_type": "code",
   "execution_count": null,
   "id": "09ca9311",
   "metadata": {},
   "outputs": [],
   "source": []
  },
  {
   "cell_type": "code",
   "execution_count": null,
   "id": "1fbad699",
   "metadata": {},
   "outputs": [],
   "source": [
    "from neurd import neuron_utils as nru\n",
    "nru.__loader__"
   ]
  },
  {
   "cell_type": "code",
   "execution_count": null,
   "id": "e52413c7",
   "metadata": {},
   "outputs": [],
   "source": [
    "from importlib import reload\n",
    "pre = reload(pre)"
   ]
  },
  {
   "cell_type": "code",
   "execution_count": null,
   "id": "7b84e322",
   "metadata": {},
   "outputs": [],
   "source": [
    "import ipywidgets\n",
    "ipywidgets.__version__"
   ]
  },
  {
   "cell_type": "code",
   "execution_count": null,
   "id": "58082abb",
   "metadata": {},
   "outputs": [],
   "source": [
    "import numpy as np\n",
    "ipvu.plot_scatter(\n",
    "    array=np.array([[0.12068656, 0.34903741, 0.84620654],\n",
    "       [0.04812803, 0.14411268, 0.54990798],\n",
    "       [0.79566505, 0.63533888, 0.03276685],\n",
    "       [0.55378168, 0.25424957, 0.71898828],\n",
    "       [0.1054361 , 0.70734158, 0.25456412],\n",
    "       [0.51331846, 0.46793084, 0.44032635],\n",
    "       [0.58216843, 0.46214255, 0.12553144],\n",
    "       [0.08834693, 0.13477684, 0.88986768],\n",
    "       [0.39226641, 0.96131601, 0.05423914],\n",
    "       [0.86158737, 0.30404951, 0.42807901]]),\n",
    "    color=(1,0,0,0.99),\n",
    "    size=10,\n",
    "    widgets_to_plot = (\"size\",\"marker\",\"color\"),\n",
    ")"
   ]
  },
  {
   "cell_type": "markdown",
   "id": "f75b85bc",
   "metadata": {},
   "source": [
    "# Look at how proximities are"
   ]
  },
  {
   "cell_type": "code",
   "execution_count": null,
   "id": "813d9b03",
   "metadata": {},
   "outputs": [],
   "source": [
    "from os import sys\n",
    "sys.path.append(\"/neurd_packages/meshAfterParty/meshAfterParty/\")"
   ]
  },
  {
   "cell_type": "code",
   "execution_count": null,
   "id": "151ae4eb",
   "metadata": {},
   "outputs": [],
   "source": [
    "from dataInterfaceMinnie65 import data_interface as hdju"
   ]
  },
  {
   "cell_type": "code",
   "execution_count": null,
   "id": "364374c1",
   "metadata": {},
   "outputs": [],
   "source": [
    "from neurd import neuron_visualizations as nviz\n",
    "from python_tools import ipyvolume_utils as ipvu\n",
    "import numpy as np\n",
    "ipvu.plot_objects(\n",
    "    scatters=[np.array([[0.12068656, 0.34903741, 0.84620654],\n",
    "       [0.04812803, 0.14411268, 0.54990798],\n",
    "       [0.79566505, 0.63533888, 0.03276685],\n",
    "       [0.55378168, 0.25424957, 0.71898828],\n",
    "       [0.1054361 , 0.70734158, 0.25456412],\n",
    "       [0.51331846, 0.46793084, 0.44032635],\n",
    "       [0.58216843, 0.46214255, 0.12553144],\n",
    "       [0.08834693, 0.13477684, 0.88986768],\n",
    "       [0.39226641, 0.96131601, 0.05423914],\n",
    "       [0.86158737, 0.30404951, 0.42807901]])],\n",
    "    scatters_colors=(1,0,0,0.99),\n",
    "    scatter_size=10,\n",
    "    #widgets_to_plot = (\"size\",\"marker\",\"color\"),\n",
    ")"
   ]
  },
  {
   "cell_type": "code",
   "execution_count": null,
   "id": "0db55e79",
   "metadata": {},
   "outputs": [],
   "source": [
    "from python_tools import ipyvolume_utils as ipvu\n",
    "import numpy as np\n",
    "ipvu.plot_objects(\n",
    "    scatters=[np.random.rand(10,3)],\n",
    "    scatter_size=10,\n",
    "    #scatters_colors=\"red\",\n",
    "    set_zoom=1,\n",
    "    axis_box_off=False,\n",
    "    \n",
    ")"
   ]
  },
  {
   "cell_type": "code",
   "execution_count": null,
   "id": "6d82914c",
   "metadata": {
    "scrolled": true
   },
   "outputs": [],
   "source": [
    "hdju.plot_proximity(\n",
    "    864691134884741626,864691134884760314\n",
    ")"
   ]
  },
  {
   "cell_type": "code",
   "execution_count": null,
   "id": "20bf9254",
   "metadata": {},
   "outputs": [],
   "source": [
    "hdju.plot_proofread_neuron(864691134884741626)"
   ]
  },
  {
   "cell_type": "code",
   "execution_count": null,
   "id": "38d77e28",
   "metadata": {
    "scrolled": false
   },
   "outputs": [],
   "source": [
    "import neurd\n",
    "\n",
    "neurd.set_volume_params(\n",
    "    \"microns\"\n",
    ")\n",
    "\n",
    "hdju.plot_proofread_neuron(864691134884760314)"
   ]
  },
  {
   "cell_type": "code",
   "execution_count": null,
   "id": "0ca166cd",
   "metadata": {},
   "outputs": [],
   "source": [
    "hdju.proximity_table & dict(segment_id_post=864691134884760314)"
   ]
  },
  {
   "cell_type": "code",
   "execution_count": null,
   "id": "61fe0fde",
   "metadata": {},
   "outputs": [],
   "source": []
  }
 ],
 "metadata": {
  "kernelspec": {
   "display_name": "Python 3 (ipykernel)",
   "language": "python",
   "name": "python3"
  },
  "language_info": {
   "codemirror_mode": {
    "name": "ipython",
    "version": 3
   },
   "file_extension": ".py",
   "mimetype": "text/x-python",
   "name": "python",
   "nbconvert_exporter": "python",
   "pygments_lexer": "ipython3",
   "version": "3.8.0"
  }
 },
 "nbformat": 4,
 "nbformat_minor": 5
}
