{
 "cells": [
  {
   "cell_type": "code",
   "execution_count": 1,
   "id": "077350ae",
   "metadata": {},
   "outputs": [],
   "source": [
    "%load_ext autoreload\n",
    "%autoreload 2"
   ]
  },
  {
   "cell_type": "code",
   "execution_count": 2,
   "id": "c0765d62",
   "metadata": {},
   "outputs": [
    {
     "name": "stdout",
     "output_type": "stream",
     "text": [
      "Jupyter environment detected. Enabling Open3D WebVisualizer.\n",
      "[Open3D INFO] WebRTC GUI backend enabled.\n",
      "[Open3D INFO] WebRTCWindowSystem: HTTP handshake server disabled.\n"
     ]
    },
    {
     "name": "stderr",
     "output_type": "stream",
     "text": [
      "/usr/local/lib/python3.8/dist-packages/umap/distances.py:1063: NumbaDeprecationWarning: The 'nopython' keyword argument was not supplied to the 'numba.jit' decorator. The implicit default value for this argument is currently False, but it will be changed to True in Numba 0.59.0. See https://numba.readthedocs.io/en/stable/reference/deprecation.html#deprecation-of-object-mode-fall-back-behaviour-when-using-jit for details.\n",
      "  @numba.jit()\n",
      "/usr/local/lib/python3.8/dist-packages/umap/distances.py:1071: NumbaDeprecationWarning: The 'nopython' keyword argument was not supplied to the 'numba.jit' decorator. The implicit default value for this argument is currently False, but it will be changed to True in Numba 0.59.0. See https://numba.readthedocs.io/en/stable/reference/deprecation.html#deprecation-of-object-mode-fall-back-behaviour-when-using-jit for details.\n",
      "  @numba.jit()\n",
      "/usr/local/lib/python3.8/dist-packages/umap/distances.py:1086: NumbaDeprecationWarning: The 'nopython' keyword argument was not supplied to the 'numba.jit' decorator. The implicit default value for this argument is currently False, but it will be changed to True in Numba 0.59.0. See https://numba.readthedocs.io/en/stable/reference/deprecation.html#deprecation-of-object-mode-fall-back-behaviour-when-using-jit for details.\n",
      "  @numba.jit()\n",
      "/usr/local/lib/python3.8/dist-packages/umap/umap_.py:660: NumbaDeprecationWarning: The 'nopython' keyword argument was not supplied to the 'numba.jit' decorator. The implicit default value for this argument is currently False, but it will be changed to True in Numba 0.59.0. See https://numba.readthedocs.io/en/stable/reference/deprecation.html#deprecation-of-object-mode-fall-back-behaviour-when-using-jit for details.\n",
      "  @numba.jit()\n"
     ]
    }
   ],
   "source": [
    "import neurd"
   ]
  },
  {
   "cell_type": "code",
   "execution_count": 3,
   "id": "f59f25d5",
   "metadata": {},
   "outputs": [],
   "source": [
    "from mesh_tools import trimesh_utils as tu\n",
    "from python_tools import ipyvolume_utils as ipvu\n",
    "from neurd import neuron_visualizations as nviz"
   ]
  },
  {
   "cell_type": "code",
   "execution_count": 4,
   "id": "863967b7",
   "metadata": {},
   "outputs": [],
   "source": [
    "neurd.set_volume_params(\n",
    "    volume = \"microns\"\n",
    ")"
   ]
  },
  {
   "cell_type": "markdown",
   "id": "6f9b75c9",
   "metadata": {},
   "source": [
    "# Data Prep: Loading mesh"
   ]
  },
  {
   "cell_type": "code",
   "execution_count": null,
   "id": "31c880dc",
   "metadata": {},
   "outputs": [],
   "source": []
  },
  {
   "cell_type": "code",
   "execution_count": 5,
   "id": "a1df55b6",
   "metadata": {},
   "outputs": [],
   "source": [
    "from mesh_tools import trimesh_utils as tu"
   ]
  },
  {
   "cell_type": "code",
   "execution_count": 184,
   "id": "de88421b",
   "metadata": {},
   "outputs": [],
   "source": [
    "segment_id = 864691135510518224"
   ]
  },
  {
   "cell_type": "code",
   "execution_count": 7,
   "id": "3c95c75b",
   "metadata": {},
   "outputs": [
    {
     "data": {
      "text/plain": [
       "<trimesh.Trimesh(vertices.shape=(154713, 3), faces.shape=(323535, 3))>"
      ]
     },
     "execution_count": 7,
     "metadata": {},
     "output_type": "execute_result"
    }
   ],
   "source": [
    "mesh_filepath = f\"./{segment_id}.off\"\n",
    "mesh_filepath = '864691135510518224_small_double_soma.off'\n",
    "mesh = tu.load_mesh_no_processing(mesh_filepath)\n",
    "mesh"
   ]
  },
  {
   "cell_type": "markdown",
   "id": "479cac44",
   "metadata": {},
   "source": [
    "# Step 1: Decimation"
   ]
  },
  {
   "cell_type": "code",
   "execution_count": null,
   "id": "95e97145",
   "metadata": {},
   "outputs": [],
   "source": [
    "#/mnt/lab/users/celiib/neurd_packages/neuron_mesh_tools/Auto_Proofreading/Minnie65_Pipeline/Morphology/m65_morphology_2_Decimation_v1.ipynb"
   ]
  },
  {
   "cell_type": "code",
   "execution_count": 8,
   "id": "ac1747ad",
   "metadata": {},
   "outputs": [],
   "source": [
    "decimation_kwargs = dict(\n",
    "    decimation_ratio =0.25,\n",
    ")"
   ]
  },
  {
   "cell_type": "code",
   "execution_count": 9,
   "id": "432f9e64",
   "metadata": {},
   "outputs": [
    {
     "name": "stdout",
     "output_type": "stream",
     "text": [
      "xvfb-run -n 2743 -s \"-screen 0 800x600x24\" meshlabserver $@  -i /neurd_packages/NEURD/Applications/autoproof_neuron_pipeline/temp/neuron_30333.off -o /neurd_packages/NEURD/Applications/autoproof_neuron_pipeline/temp/neuron_30333_decimated.off -s /neurd_packages/NEURD/Applications/autoproof_neuron_pipeline/temp/decimation_meshlab_25375011.mls\n"
     ]
    }
   ],
   "source": [
    "mesh_dec = tu.decimate(\n",
    "    mesh,\n",
    "    **decimation_kwargs\n",
    ")"
   ]
  },
  {
   "cell_type": "code",
   "execution_count": 10,
   "id": "d7000945",
   "metadata": {},
   "outputs": [
    {
     "name": "stdout",
     "output_type": "stream",
     "text": [
      "mesh = <trimesh.Trimesh(vertices.shape=(154713, 3), faces.shape=(323535, 3))>\n",
      "mesh_dec = <trimesh.Trimesh(vertices.shape=(33683, 3), faces.shape=(80883, 3))>\n"
     ]
    }
   ],
   "source": [
    "print(f\"mesh = {mesh}\")\n",
    "print(f\"mesh_dec = {mesh_dec}\")"
   ]
  },
  {
   "cell_type": "code",
   "execution_count": 11,
   "id": "bb728b90",
   "metadata": {},
   "outputs": [
    {
     "name": "stderr",
     "output_type": "stream",
     "text": [
      "/usr/local/lib/python3.8/dist-packages/traittypes/traittypes.py:97: UserWarning: Given trait value dtype \"float64\" does not match required type \"float64\". A coerced copy has been created.\n",
      "  warnings.warn(\n"
     ]
    },
    {
     "data": {
      "application/vnd.jupyter.widget-view+json": {
       "model_id": "8cafec72fb634f64a63ae517624a5830",
       "version_major": 2,
       "version_minor": 0
      },
      "text/plain": [
       "Container(figure=Figure(box_center=[0.5, 0.5, 0.5], box_size=[1.0, 1.0, 1.0], camera=PerspectiveCamera(fov=45.…"
      ]
     },
     "metadata": {},
     "output_type": "display_data"
    }
   ],
   "source": [
    "ipvu.plot_objects(\n",
    "    meshes = [mesh,mesh_dec],\n",
    "    meshes_colors=[\"green\",\"red\"],\n",
    ")"
   ]
  },
  {
   "cell_type": "markdown",
   "id": "c8691617",
   "metadata": {},
   "source": [
    "# Step 2: Some Identification"
   ]
  },
  {
   "cell_type": "code",
   "execution_count": 12,
   "id": "172a601f",
   "metadata": {},
   "outputs": [],
   "source": [
    "#/mnt/lab/users/celiib/neurd_packages/neuron_mesh_tools/Auto_Proofreading/Minnie65_Pipeline/Morphology/m65_morphology_3_MeshFragment_full_v1.ipynb"
   ]
  },
  {
   "cell_type": "code",
   "execution_count": 13,
   "id": "f740b4ab",
   "metadata": {},
   "outputs": [
    {
     "name": "stdout",
     "output_type": "stream",
     "text": [
      "module: neurd.soma_extraction_utils data_type set to microns, algorithms = ['nuclei']\n",
      "Collecting global_parameters_dict_default_nuclei\n",
      "curr_dict = {'nucleus_min': 700 (None), 'nucleus_max': None (int unsigned), }\n",
      "Unknown dict_name = global_parameters_dict_microns_nuclei\n"
     ]
    },
    {
     "data": {
      "text/plain": [
       "{'nucleus_min': 700 (None), 'nucleus_max': None (int unsigned), }"
      ]
     },
     "execution_count": 13,
     "metadata": {},
     "output_type": "execute_result"
    }
   ],
   "source": [
    "from neurd import soma_extraction_utils as sm\n",
    "sm.output_global_parameters_nuclei()"
   ]
  },
  {
   "cell_type": "code",
   "execution_count": 14,
   "id": "3dd177b3",
   "metadata": {},
   "outputs": [],
   "source": [
    "mesh_dec = mesh"
   ]
  },
  {
   "cell_type": "code",
   "execution_count": 15,
   "id": "4209363e",
   "metadata": {},
   "outputs": [
    {
     "name": "stdout",
     "output_type": "stream",
     "text": [
      "Current Arguments Using (adjusted for decimation):\n",
      " large_mesh_threshold= 5000.0 \n",
      "large_mesh_threshold_inner = 3250.0 \n",
      "soma_size_threshold = 562.5 \n",
      "soma_size_threshold_max = 75000.0\n",
      "outer_decimation_ratio = 0.25\n",
      "inner_decimation_ratio = 0.25\n",
      "max_mesh_sized_filtered_away = 22500.0\n",
      "xvfb-run -n 8840 -s \"-screen 0 800x600x24\" meshlabserver $@  -i /neurd_packages/NEURD/Applications/autoproof_neuron_pipeline/temp/neuron_82605.off -o /neurd_packages/NEURD/Applications/autoproof_neuron_pipeline/temp/neuron_82605_remove_interior.off -s /neurd_packages/NEURD/Applications/autoproof_neuron_pipeline/temp/remove_interior_429315.mls\n",
      "removed temporary input file: /neurd_packages/NEURD/Applications/autoproof_neuron_pipeline/temp/neuron_82605.off\n",
      "removed temporary output file: /neurd_packages/NEURD/Applications/autoproof_neuron_pipeline/temp/neuron_82605_remove_interior.off\n",
      "/neurd_packages/NEURD/Applications/autoproof_neuron_pipeline/temp/remove_interior_429315.mls is being deleted....\n",
      "There were 16 total interior meshes\n",
      "Pieces satisfying glia requirements (volume) (x >= 2500000000000): 0\n",
      "Pieces satisfying nuclie requirements: n_faces (700 <= x) and volume (x < 2500000000000) : 16\n",
      "inside remove_mesh_interior and using precomputed inside_pieces\n",
      "Removing the following inside neurons: [<trimesh.Trimesh(vertices.shape=(6494, 3), faces.shape=(15575, 3))>, <trimesh.Trimesh(vertices.shape=(3252, 3), faces.shape=(5804, 3))>, <trimesh.Trimesh(vertices.shape=(2064, 3), faces.shape=(4789, 3))>, <trimesh.Trimesh(vertices.shape=(2022, 3), faces.shape=(4628, 3))>, <trimesh.Trimesh(vertices.shape=(1922, 3), faces.shape=(4396, 3))>, <trimesh.Trimesh(vertices.shape=(1089, 3), faces.shape=(2556, 3))>, <trimesh.Trimesh(vertices.shape=(864, 3), faces.shape=(1989, 3))>, <trimesh.Trimesh(vertices.shape=(723, 3), faces.shape=(1611, 3))>, <trimesh.Trimesh(vertices.shape=(693, 3), faces.shape=(1561, 3))>, <trimesh.Trimesh(vertices.shape=(612, 3), faces.shape=(1378, 3))>, <trimesh.Trimesh(vertices.shape=(456, 3), faces.shape=(742, 3))>, <trimesh.Trimesh(vertices.shape=(344, 3), faces.shape=(727, 3))>]\n",
      "\n",
      "\n",
      "Original Mesh size: 323535, Final mesh size: 277773\n",
      "Total time = 19.678833723068237\n",
      "xvfb-run -n 7528 -s \"-screen 0 800x600x24\" meshlabserver $@  -i /neurd_packages/NEURD/Applications/autoproof_neuron_pipeline/864691135510518224/neuron_864691135510518224.off -o /neurd_packages/NEURD/Applications/autoproof_neuron_pipeline/864691135510518224/neuron_864691135510518224_decimated.off -s /neurd_packages/NEURD/Applications/autoproof_neuron_pipeline/864691135510518224/decimation_meshlab_25862270.mls\n",
      "Total found significant pieces before Poisson = [<trimesh.Trimesh(vertices.shape=(29969, 3), faces.shape=(56262, 3))>]\n",
      "----- working on large mesh #0: <trimesh.Trimesh(vertices.shape=(29969, 3), faces.shape=(56262, 3))>\n",
      "remove_inside_pieces requested \n",
      "xvfb-run -n 7247 -s \"-screen 0 800x600x24\" meshlabserver $@  -i /neurd_packages/NEURD/Applications/autoproof_neuron_pipeline/temp/neuron_48711.off -o /neurd_packages/NEURD/Applications/autoproof_neuron_pipeline/temp/neuron_48711_remove_interior.off -s /neurd_packages/NEURD/Applications/autoproof_neuron_pipeline/temp/remove_interior_30888.mls\n",
      "removed temporary input file: /neurd_packages/NEURD/Applications/autoproof_neuron_pipeline/temp/neuron_48711.off\n",
      "removed temporary output file: /neurd_packages/NEURD/Applications/autoproof_neuron_pipeline/temp/neuron_48711_remove_interior.off\n",
      "/neurd_packages/NEURD/Applications/autoproof_neuron_pipeline/temp/remove_interior_30888.mls is being deleted....\n",
      "No significant (1000) interior meshes present\n",
      "largest is 163\n",
      "pre_largest_mesh_path = /neurd_packages/NEURD/Applications/autoproof_neuron_pipeline/864691135510518224/neuron_864691135510518224_decimated_largest_piece.off\n",
      "xvfb-run -n 2508 -s \"-screen 0 800x600x24\" meshlabserver $@  -i /neurd_packages/NEURD/Applications/autoproof_neuron_pipeline/864691135510518224/neuron_864691135510518224_decimated_largest_piece.off -o /neurd_packages/NEURD/Applications/autoproof_neuron_pipeline/864691135510518224/neuron_864691135510518224_decimated_largest_piece_poisson.off -s /neurd_packages/NEURD/Applications/autoproof_neuron_pipeline/864691135510518224/poisson_370242.mls\n",
      "Total found significant pieces AFTER Poisson = [<trimesh.Trimesh(vertices.shape=(14489, 3), faces.shape=(28990, 3))>, <trimesh.Trimesh(vertices.shape=(10700, 3), faces.shape=(21396, 3))>]\n",
      "----- working on mesh after poisson #0: <trimesh.Trimesh(vertices.shape=(14489, 3), faces.shape=(28990, 3))>\n",
      "xvfb-run -n 9742 -s \"-screen 0 800x600x24\" meshlabserver $@  -i /neurd_packages/NEURD/Applications/autoproof_neuron_pipeline/864691135510518224/neuron_864691135510518224_decimated_largest_piece_poisson_largest_inner.off -o /neurd_packages/NEURD/Applications/autoproof_neuron_pipeline/864691135510518224/neuron_864691135510518224_decimated_largest_piece_poisson_largest_inner_decimated.off -s /neurd_packages/NEURD/Applications/autoproof_neuron_pipeline/864691135510518224/decimation_meshlab_25548602.mls\n",
      "\n",
      "-------Splits after inner decimation len = 1--------\n",
      "\n",
      "done exporting decimated mesh: neuron_864691135510518224_decimated_largest_piece_poisson_largest_inner.off\n",
      "\n",
      "    --- On segmentation loop 0 --\n",
      "largest_mesh_path_inner_decimated_clean = <trimesh.Trimesh(vertices.shape=(3614, 3), faces.shape=(7240, 3))>\n",
      "\n",
      "largest_mesh_path_inner_decimated_clean = <trimesh.Trimesh(vertices.shape=(3614, 3), faces.shape=(7240, 3))>\n",
      "soma_size_threshold = 562.5\n",
      "soma_size_threshold_max = 75000.0\n",
      "soma_width_threshold = 0.32\n",
      "\n",
      "Number of segments: 9\n",
      "\n"
     ]
    },
    {
     "data": {
      "application/vnd.jupyter.widget-view+json": {
       "model_id": "17efe07743b14af397aef48c713ebfa1",
       "version_major": 2,
       "version_minor": 0
      },
      "text/plain": [
       "  0%|          | 0/9 [00:00<?, ?it/s]"
      ]
     },
     "metadata": {},
     "output_type": "display_data"
    },
    {
     "name": "stdout",
     "output_type": "stream",
     "text": [
      "      ------ Found 1 viable somas: [0.769893]\n",
      "Using Poisson Surface Reconstruction for watertightness in soma_volume_ratio\n",
      "xvfb-run -n 1951 -s \"-screen 0 800x600x24\" meshlabserver $@  -i /neurd_packages/NEURD/Applications/autoproof_neuron_pipeline/Poisson_temp/neuron_504745.off -o /neurd_packages/NEURD/Applications/autoproof_neuron_pipeline/Poisson_temp/neuron_504745_poisson.off -s /neurd_packages/NEURD/Applications/autoproof_neuron_pipeline/Poisson_temp/poisson_348428.mls\n",
      "removed temporary input file: /neurd_packages/NEURD/Applications/autoproof_neuron_pipeline/Poisson_temp/neuron_504745.off\n",
      "removed temporary output file: /neurd_packages/NEURD/Applications/autoproof_neuron_pipeline/Poisson_temp/neuron_504745_poisson.off\n",
      "mesh.is_watertight = True\n",
      "/neurd_packages/NEURD/Applications/autoproof_neuron_pipeline/Poisson_temp/poisson_348428.mls is being deleted....\n",
      "Inside sphere validater: ratio_val = 2.7266923461590085\n",
      "----- working on mesh after poisson #1: <trimesh.Trimesh(vertices.shape=(10700, 3), faces.shape=(21396, 3))>\n",
      "xvfb-run -n 5067 -s \"-screen 0 800x600x24\" meshlabserver $@  -i /neurd_packages/NEURD/Applications/autoproof_neuron_pipeline/864691135510518224/neuron_864691135510518224_decimated_largest_piece_poisson_largest_inner.off -o /neurd_packages/NEURD/Applications/autoproof_neuron_pipeline/864691135510518224/neuron_864691135510518224_decimated_largest_piece_poisson_largest_inner_decimated.off -s /neurd_packages/NEURD/Applications/autoproof_neuron_pipeline/864691135510518224/decimation_meshlab_25548602.mls\n",
      "\n",
      "-------Splits after inner decimation len = 1--------\n",
      "\n",
      "done exporting decimated mesh: neuron_864691135510518224_decimated_largest_piece_poisson_largest_inner.off\n",
      "\n",
      "    --- On segmentation loop 0 --\n",
      "largest_mesh_path_inner_decimated_clean = <trimesh.Trimesh(vertices.shape=(2671, 3), faces.shape=(5338, 3))>\n",
      "\n",
      "largest_mesh_path_inner_decimated_clean = <trimesh.Trimesh(vertices.shape=(2671, 3), faces.shape=(5338, 3))>\n",
      "soma_size_threshold = 562.5\n",
      "soma_size_threshold_max = 75000.0\n",
      "soma_width_threshold = 0.32\n",
      "\n",
      "Number of segments: 3\n",
      "\n"
     ]
    },
    {
     "data": {
      "application/vnd.jupyter.widget-view+json": {
       "model_id": "bb2612fde7d4408782a7e2d5791b6805",
       "version_major": 2,
       "version_minor": 0
      },
      "text/plain": [
       "  0%|          | 0/3 [00:00<?, ?it/s]"
      ]
     },
     "metadata": {},
     "output_type": "display_data"
    },
    {
     "name": "stdout",
     "output_type": "stream",
     "text": [
      "      ------ Found 2 viable somas: [0.781901, 0.3351845]\n",
      "Using Poisson Surface Reconstruction for watertightness in soma_volume_ratio\n",
      "xvfb-run -n 8995 -s \"-screen 0 800x600x24\" meshlabserver $@  -i /neurd_packages/NEURD/Applications/autoproof_neuron_pipeline/Poisson_temp/neuron_200613.off -o /neurd_packages/NEURD/Applications/autoproof_neuron_pipeline/Poisson_temp/neuron_200613_poisson.off -s /neurd_packages/NEURD/Applications/autoproof_neuron_pipeline/Poisson_temp/poisson_517470.mls\n",
      "removed temporary input file: /neurd_packages/NEURD/Applications/autoproof_neuron_pipeline/Poisson_temp/neuron_200613.off\n",
      "removed temporary output file: /neurd_packages/NEURD/Applications/autoproof_neuron_pipeline/Poisson_temp/neuron_200613_poisson.off\n",
      "mesh.is_watertight = True\n",
      "/neurd_packages/NEURD/Applications/autoproof_neuron_pipeline/Poisson_temp/poisson_517470.mls is being deleted....\n",
      "Inside sphere validater: ratio_val = 2.130721459144365\n",
      "Using Poisson Surface Reconstruction for watertightness in soma_volume_ratio\n",
      "xvfb-run -n 4983 -s \"-screen 0 800x600x24\" meshlabserver $@  -i /neurd_packages/NEURD/Applications/autoproof_neuron_pipeline/Poisson_temp/neuron_370035.off -o /neurd_packages/NEURD/Applications/autoproof_neuron_pipeline/Poisson_temp/neuron_370035_poisson.off -s /neurd_packages/NEURD/Applications/autoproof_neuron_pipeline/Poisson_temp/poisson_196566.mls\n",
      "removed temporary input file: /neurd_packages/NEURD/Applications/autoproof_neuron_pipeline/Poisson_temp/neuron_370035.off\n",
      "removed temporary output file: /neurd_packages/NEURD/Applications/autoproof_neuron_pipeline/Poisson_temp/neuron_370035_poisson.off\n",
      "mesh.is_watertight = True\n",
      "/neurd_packages/NEURD/Applications/autoproof_neuron_pipeline/Poisson_temp/poisson_196566.mls is being deleted....\n",
      "Inside sphere validater: ratio_val = 2.4907819152454254\n",
      "\n",
      "\n",
      "\n",
      " Total time for run = 89.52106380462646\n",
      "Before Filtering the number of somas found = 3\n",
      "\n",
      "---Performing Soma Mesh Backtracking to original mesh for poisson soma 0\n",
      "backtrack_soma_size_threshold = 8000\n",
      "xvfb-run -n 4211 -s \"-screen 0 800x600x24\" meshlabserver $@  -i /neurd_packages/NEURD/Applications/autoproof_neuron_pipeline/temp/neuron_22561.off -o /neurd_packages/NEURD/Applications/autoproof_neuron_pipeline/temp/neuron_22561_fill_holes.off -s /neurd_packages/NEURD/Applications/autoproof_neuron_pipeline/temp/fill_holes_221403.mls\n",
      "\n",
      "---- meshlab output -----\n",
      "QStandardPaths: XDG_RUNTIME_DIR not set, defaulting to '/tmp/runtime-root'\n",
      "Current Plugins Dir is: /meshlab/src/distrib/plugins \n",
      "Error While parsing the XML filter plugin descriptors: We are trying to load a xml file that does not correspond to any dll or javascript code; please delete all the spurious xml files\n",
      "Error While parsing the XML filter plugin descriptors: We are trying to load a xml file that does not correspond to any dll or javascript code; please delete all the spurious xml files\n",
      "Opening a file with extention off\n",
      "FilterScript\n",
      "Reading filter with name Remove Duplicate Vertices\n",
      "Reading filter with name Remove Faces from Non Manifold Edges\n",
      "Reading filter with name Close Holes\n",
      "    Reading Param with name MaxHoleSize : RichInt\n",
      "    Reading Param with name Selected : RichBool\n",
      "    Reading Param with name NewFaceSelected : RichBool\n",
      "    Reading Param with name SelfIntersection : RichBool\n",
      "Loading Plugins:\n",
      "Total 105 filtering actions\n",
      "Total 1 io plugins\n",
      "Mesh /neurd_packages/NEURD/Applications/autoproof_neuron_pipeline/temp/neuron_22561.off loaded has 21848 vn 42079 fn\n",
      "output mesh  /neurd_packages/NEURD/Applications/autoproof_neuron_pipeline/temp/neuron_22561_fill_holes.off\n",
      "Apply FilterScript: '/neurd_packages/NEURD/Applications/autoproof_neuron_pipeline/temp/fill_holes_221403.mls'\n",
      "Starting Script of 3 actionsfilter: Remove Duplicate Vertices\n",
      "no additional memory available!!! memory required: 1029300\n",
      "LOG: 2 Removed 0 duplicated vertices\n",
      "Removed 0 duplicated vertices\n",
      "filter: Remove Faces from Non Manifold Edges\n",
      "no additional memory available!!! memory required: 1029300\n",
      "LOG: 2 Successfully removed 4223 non-manifold faces\n",
      "Removed 0 duplicated vertices\n",
      "Successfully removed 4223 non-manifold faces\n",
      "filter: Close Holes\n",
      "no additional memory available!!! memory required: 978624\n",
      "meshlabserver: ../../../../vcglib/vcg/complex/algorithms/hole.h:259: bool vcg::tri::TrivialEar<MESH>::Close(vcg::tri::TrivialEar<MESH>::PosType&, vcg::tri::TrivialEar<MESH>::PosType&, vcg::tri::TrivialEar<MESH>::FaceType*) [with MESH = CMeshO; vcg::tri::TrivialEar<MESH>::PosType = vcg::face::Pos<CFaceO>; typename MeshType::FaceType = CFaceO; vcg::tri::TrivialEar<MESH>::FaceType = CFaceO]: Assertion `e1.v->IsUserBit(NonManifoldBit())' failed.\n",
      "Aborted (core dumped)\n",
      "\n",
      "\n",
      " returncode ====== 134\n",
      "\n",
      " ------ Done with meshlab output------\n",
      "/neurd_packages/NEURD/Applications/autoproof_neuron_pipeline/temp/fill_holes_221403.mls is being deleted....\n",
      "The hole closing did not work so continuing without\n",
      "xvfb-run -n 8854 -s \"-screen 0 800x600x24\" meshlabserver $@  -i /neurd_packages/NEURD/Applications/autoproof_neuron_pipeline/temp/neuron_60007.off -o /neurd_packages/NEURD/Applications/autoproof_neuron_pipeline/temp/neuron_60007_remove_interior.off -s /neurd_packages/NEURD/Applications/autoproof_neuron_pipeline/temp/remove_interior_285863.mls\n",
      "removed temporary input file: /neurd_packages/NEURD/Applications/autoproof_neuron_pipeline/temp/neuron_60007.off\n",
      "removed temporary output file: /neurd_packages/NEURD/Applications/autoproof_neuron_pipeline/temp/neuron_60007_remove_interior.off\n",
      "/neurd_packages/NEURD/Applications/autoproof_neuron_pipeline/temp/remove_interior_285863.mls is being deleted....\n",
      "Removing the following inside neurons: [<trimesh.Trimesh(vertices.shape=(363, 3), faces.shape=(876, 3))>, <trimesh.Trimesh(vertices.shape=(301, 3), faces.shape=(613, 3))>, <trimesh.Trimesh(vertices.shape=(253, 3), faces.shape=(632, 3))>, <trimesh.Trimesh(vertices.shape=(199, 3), faces.shape=(446, 3))>, <trimesh.Trimesh(vertices.shape=(176, 3), faces.shape=(418, 3))>]\n",
      "split_meshes_after_backtrack = [<trimesh.Trimesh(vertices.shape=(11386, 3), faces.shape=(22560, 3))>]\n",
      "soma_size_threshold = 8000\n",
      "After backtrack the found 1 possible somas: [<trimesh.Trimesh(vertices.shape=(11386, 3), faces.shape=(22560, 3))>] \n",
      "\n",
      "--- working on backtrack soma 0: <trimesh.Trimesh(vertices.shape=(11386, 3), faces.shape=(22560, 3))>\n",
      "poisson_backtrack_distance_threshold = None\n",
      "Using Poisson Surface Reconstruction for watertightness in soma_volume_ratio\n",
      "xvfb-run -n 5562 -s \"-screen 0 800x600x24\" meshlabserver $@  -i /neurd_packages/NEURD/Applications/autoproof_neuron_pipeline/Poisson_temp/neuron_167390.off -o /neurd_packages/NEURD/Applications/autoproof_neuron_pipeline/Poisson_temp/neuron_167390_poisson.off -s /neurd_packages/NEURD/Applications/autoproof_neuron_pipeline/Poisson_temp/poisson_704753.mls\n",
      "removed temporary input file: /neurd_packages/NEURD/Applications/autoproof_neuron_pipeline/Poisson_temp/neuron_167390.off\n",
      "removed temporary output file: /neurd_packages/NEURD/Applications/autoproof_neuron_pipeline/Poisson_temp/neuron_167390_poisson.off\n",
      "mesh.is_watertight = True\n",
      "/neurd_packages/NEURD/Applications/autoproof_neuron_pipeline/Poisson_temp/poisson_704753.mls is being deleted....\n",
      "Inside sphere validater: ratio_val = 4.115475404999649\n",
      "About to add the following inside nuclei pieces after soma backtrack: [<trimesh.Trimesh(vertices.shape=(6494, 3), faces.shape=(15575, 3))>, <trimesh.Trimesh(vertices.shape=(3256, 3), faces.shape=(5810, 3))>, <trimesh.Trimesh(vertices.shape=(2064, 3), faces.shape=(4789, 3))>, <trimesh.Trimesh(vertices.shape=(2022, 3), faces.shape=(4628, 3))>, <trimesh.Trimesh(vertices.shape=(1922, 3), faces.shape=(4396, 3))>, <trimesh.Trimesh(vertices.shape=(1089, 3), faces.shape=(2556, 3))>, <trimesh.Trimesh(vertices.shape=(864, 3), faces.shape=(1989, 3))>, <trimesh.Trimesh(vertices.shape=(723, 3), faces.shape=(1611, 3))>, <trimesh.Trimesh(vertices.shape=(693, 3), faces.shape=(1561, 3))>, <trimesh.Trimesh(vertices.shape=(612, 3), faces.shape=(1378, 3))>, <trimesh.Trimesh(vertices.shape=(456, 3), faces.shape=(742, 3))>, <trimesh.Trimesh(vertices.shape=(344, 3), faces.shape=(727, 3))>]\n",
      "\n",
      "---Performing Soma Mesh Backtracking to original mesh for poisson soma 1\n",
      "backtrack_soma_size_threshold = 8000\n"
     ]
    },
    {
     "name": "stdout",
     "output_type": "stream",
     "text": [
      "xvfb-run -n 2423 -s \"-screen 0 800x600x24\" meshlabserver $@  -i /neurd_packages/NEURD/Applications/autoproof_neuron_pipeline/temp/neuron_97860.off -o /neurd_packages/NEURD/Applications/autoproof_neuron_pipeline/temp/neuron_97860_fill_holes.off -s /neurd_packages/NEURD/Applications/autoproof_neuron_pipeline/temp/fill_holes_32389.mls\n",
      "\n",
      "---- meshlab output -----\n",
      "QStandardPaths: XDG_RUNTIME_DIR not set, defaulting to '/tmp/runtime-root'\n",
      "Current Plugins Dir is: /meshlab/src/distrib/plugins \n",
      "Error While parsing the XML filter plugin descriptors: We are trying to load a xml file that does not correspond to any dll or javascript code; please delete all the spurious xml files\n",
      "Error While parsing the XML filter plugin descriptors: We are trying to load a xml file that does not correspond to any dll or javascript code; please delete all the spurious xml files\n",
      "Opening a file with extention off\n",
      "FilterScript\n",
      "Reading filter with name Remove Duplicate Vertices\n",
      "Reading filter with name Remove Faces from Non Manifold Edges\n",
      "Reading filter with name Close Holes\n",
      "    Reading Param with name MaxHoleSize : RichInt\n",
      "    Reading Param with name Selected : RichBool\n",
      "    Reading Param with name NewFaceSelected : RichBool\n",
      "    Reading Param with name SelfIntersection : RichBool\n",
      "Loading Plugins:\n",
      "Total 105 filtering actions\n",
      "Total 1 io plugins\n",
      "Mesh /neurd_packages/NEURD/Applications/autoproof_neuron_pipeline/temp/neuron_97860.off loaded has 11899 vn 22569 fn\n",
      "output mesh  /neurd_packages/NEURD/Applications/autoproof_neuron_pipeline/temp/neuron_97860_fill_holes.off\n",
      "Apply FilterScript: '/neurd_packages/NEURD/Applications/autoproof_neuron_pipeline/temp/fill_holes_32389.mls'\n",
      "Starting Script of 3 actionsfilter: Remove Duplicate Vertices\n",
      "no additional memory available!!! memory required: 556404\n",
      "LOG: 2 Removed 0 duplicated vertices\n",
      "Removed 0 duplicated vertices\n",
      "filter: Remove Faces from Non Manifold Edges\n",
      "no additional memory available!!! memory required: 556404\n",
      "LOG: 2 Successfully removed 1995 non-manifold faces\n",
      "Removed 0 duplicated vertices\n",
      "Successfully removed 1995 non-manifold faces\n",
      "filter: Close Holes\n",
      "no additional memory available!!! memory required: 532464\n",
      "meshlabserver: ../../../../vcglib/vcg/complex/algorithms/hole.h:259: bool vcg::tri::TrivialEar<MESH>::Close(vcg::tri::TrivialEar<MESH>::PosType&, vcg::tri::TrivialEar<MESH>::PosType&, vcg::tri::TrivialEar<MESH>::FaceType*) [with MESH = CMeshO; vcg::tri::TrivialEar<MESH>::PosType = vcg::face::Pos<CFaceO>; typename MeshType::FaceType = CFaceO; vcg::tri::TrivialEar<MESH>::FaceType = CFaceO]: Assertion `e1.v->IsUserBit(NonManifoldBit())' failed.\n",
      "Aborted (core dumped)\n",
      "\n",
      "\n",
      " returncode ====== 134\n",
      "\n",
      " ------ Done with meshlab output------\n",
      "/neurd_packages/NEURD/Applications/autoproof_neuron_pipeline/temp/fill_holes_32389.mls is being deleted....\n",
      "The hole closing did not work so continuing without\n",
      "xvfb-run -n 2777 -s \"-screen 0 800x600x24\" meshlabserver $@  -i /neurd_packages/NEURD/Applications/autoproof_neuron_pipeline/temp/neuron_31762.off -o /neurd_packages/NEURD/Applications/autoproof_neuron_pipeline/temp/neuron_31762_remove_interior.off -s /neurd_packages/NEURD/Applications/autoproof_neuron_pipeline/temp/remove_interior_492183.mls\n",
      "removed temporary input file: /neurd_packages/NEURD/Applications/autoproof_neuron_pipeline/temp/neuron_31762.off\n",
      "removed temporary output file: /neurd_packages/NEURD/Applications/autoproof_neuron_pipeline/temp/neuron_31762_remove_interior.off\n",
      "/neurd_packages/NEURD/Applications/autoproof_neuron_pipeline/temp/remove_interior_492183.mls is being deleted....\n",
      "Removing the following inside neurons: [<trimesh.Trimesh(vertices.shape=(328, 3), faces.shape=(686, 3))>, <trimesh.Trimesh(vertices.shape=(145, 3), faces.shape=(317, 3))>]\n",
      "split_meshes_after_backtrack = [<trimesh.Trimesh(vertices.shape=(4698, 3), faces.shape=(7809, 3))>, <trimesh.Trimesh(vertices.shape=(2761, 3), faces.shape=(4711, 3))>]\n",
      "soma_size_threshold = 8000\n",
      "After backtrack the found 0 possible somas: [] \n",
      "\n",
      "---Performing Soma Mesh Backtracking to original mesh for poisson soma 2\n",
      "backtrack_soma_size_threshold = 8000\n",
      "xvfb-run -n 9676 -s \"-screen 0 800x600x24\" meshlabserver $@  -i /neurd_packages/NEURD/Applications/autoproof_neuron_pipeline/temp/neuron_90561.off -o /neurd_packages/NEURD/Applications/autoproof_neuron_pipeline/temp/neuron_90561_fill_holes.off -s /neurd_packages/NEURD/Applications/autoproof_neuron_pipeline/temp/fill_holes_998606.mls\n",
      "\n",
      "---- meshlab output -----\n",
      "QStandardPaths: XDG_RUNTIME_DIR not set, defaulting to '/tmp/runtime-root'\n",
      "Current Plugins Dir is: /meshlab/src/distrib/plugins \n",
      "Error While parsing the XML filter plugin descriptors: We are trying to load a xml file that does not correspond to any dll or javascript code; please delete all the spurious xml files\n",
      "Error While parsing the XML filter plugin descriptors: We are trying to load a xml file that does not correspond to any dll or javascript code; please delete all the spurious xml files\n",
      "Opening a file with extention off\n",
      "FilterScript\n",
      "Reading filter with name Remove Duplicate Vertices\n",
      "Reading filter with name Remove Faces from Non Manifold Edges\n",
      "Reading filter with name Close Holes\n",
      "    Reading Param with name MaxHoleSize : RichInt\n",
      "    Reading Param with name Selected : RichBool\n",
      "    Reading Param with name NewFaceSelected : RichBool\n",
      "    Reading Param with name SelfIntersection : RichBool\n",
      "Loading Plugins:\n",
      "Total 105 filtering actions\n",
      "Total 1 io plugins\n",
      "Mesh /neurd_packages/NEURD/Applications/autoproof_neuron_pipeline/temp/neuron_90561.off loaded has 11083 vn 21026 fn\n",
      "output mesh  /neurd_packages/NEURD/Applications/autoproof_neuron_pipeline/temp/neuron_90561_fill_holes.off\n",
      "Apply FilterScript: '/neurd_packages/NEURD/Applications/autoproof_neuron_pipeline/temp/fill_holes_998606.mls'\n",
      "Starting Script of 3 actionsfilter: Remove Duplicate Vertices\n",
      "no additional memory available!!! memory required: 518304\n",
      "LOG: 2 Removed 0 duplicated vertices\n",
      "Removed 0 duplicated vertices\n",
      "filter: Remove Faces from Non Manifold Edges\n",
      "no additional memory available!!! memory required: 518304\n",
      "LOG: 2 Successfully removed 1600 non-manifold faces\n",
      "Removed 0 duplicated vertices\n",
      "Successfully removed 1600 non-manifold faces\n",
      "filter: Close Holes\n",
      "no additional memory available!!! memory required: 499104\n",
      "meshlabserver: ../../../../vcglib/vcg/complex/algorithms/hole.h:259: bool vcg::tri::TrivialEar<MESH>::Close(vcg::tri::TrivialEar<MESH>::PosType&, vcg::tri::TrivialEar<MESH>::PosType&, vcg::tri::TrivialEar<MESH>::FaceType*) [with MESH = CMeshO; vcg::tri::TrivialEar<MESH>::PosType = vcg::face::Pos<CFaceO>; typename MeshType::FaceType = CFaceO; vcg::tri::TrivialEar<MESH>::FaceType = CFaceO]: Assertion `e1.v->IsUserBit(NonManifoldBit())' failed.\n",
      "Aborted (core dumped)\n",
      "\n",
      "\n",
      " returncode ====== 134\n",
      "\n",
      " ------ Done with meshlab output------\n",
      "/neurd_packages/NEURD/Applications/autoproof_neuron_pipeline/temp/fill_holes_998606.mls is being deleted....\n",
      "The hole closing did not work so continuing without\n",
      "xvfb-run -n 4539 -s \"-screen 0 800x600x24\" meshlabserver $@  -i /neurd_packages/NEURD/Applications/autoproof_neuron_pipeline/temp/neuron_39858.off -o /neurd_packages/NEURD/Applications/autoproof_neuron_pipeline/temp/neuron_39858_remove_interior.off -s /neurd_packages/NEURD/Applications/autoproof_neuron_pipeline/temp/remove_interior_512670.mls\n",
      "removed temporary input file: /neurd_packages/NEURD/Applications/autoproof_neuron_pipeline/temp/neuron_39858.off\n",
      "removed temporary output file: /neurd_packages/NEURD/Applications/autoproof_neuron_pipeline/temp/neuron_39858_remove_interior.off\n",
      "/neurd_packages/NEURD/Applications/autoproof_neuron_pipeline/temp/remove_interior_512670.mls is being deleted....\n",
      "Removing the following inside neurons: [<trimesh.Trimesh(vertices.shape=(145, 3), faces.shape=(317, 3))>]\n",
      "split_meshes_after_backtrack = [<trimesh.Trimesh(vertices.shape=(5708, 3), faces.shape=(10517, 3))>]\n",
      "soma_size_threshold = 8000\n",
      "After backtrack the found 1 possible somas: [<trimesh.Trimesh(vertices.shape=(5708, 3), faces.shape=(10517, 3))>] \n",
      "\n",
      "--- working on backtrack soma 0: <trimesh.Trimesh(vertices.shape=(5708, 3), faces.shape=(10517, 3))>\n",
      "poisson_backtrack_distance_threshold = None\n",
      "Using Poisson Surface Reconstruction for watertightness in soma_volume_ratio\n"
     ]
    },
    {
     "name": "stdout",
     "output_type": "stream",
     "text": [
      "xvfb-run -n 9311 -s \"-screen 0 800x600x24\" meshlabserver $@  -i /neurd_packages/NEURD/Applications/autoproof_neuron_pipeline/Poisson_temp/neuron_42536.off -o /neurd_packages/NEURD/Applications/autoproof_neuron_pipeline/Poisson_temp/neuron_42536_poisson.off -s /neurd_packages/NEURD/Applications/autoproof_neuron_pipeline/Poisson_temp/poisson_686313.mls\n",
      "removed temporary input file: /neurd_packages/NEURD/Applications/autoproof_neuron_pipeline/Poisson_temp/neuron_42536.off\n",
      "removed temporary output file: /neurd_packages/NEURD/Applications/autoproof_neuron_pipeline/Poisson_temp/neuron_42536_poisson.off\n",
      "mesh.is_watertight = False\n",
      "/neurd_packages/NEURD/Applications/autoproof_neuron_pipeline/Poisson_temp/poisson_686313.mls is being deleted....\n",
      "Inside sphere validater: ratio_val = 2.779561458917224\n",
      "About to add the following inside nuclei pieces after soma backtrack: [<trimesh.Trimesh(vertices.shape=(6494, 3), faces.shape=(15575, 3))>, <trimesh.Trimesh(vertices.shape=(3256, 3), faces.shape=(5810, 3))>, <trimesh.Trimesh(vertices.shape=(2064, 3), faces.shape=(4789, 3))>, <trimesh.Trimesh(vertices.shape=(2022, 3), faces.shape=(4628, 3))>, <trimesh.Trimesh(vertices.shape=(1922, 3), faces.shape=(4396, 3))>, <trimesh.Trimesh(vertices.shape=(1089, 3), faces.shape=(2556, 3))>, <trimesh.Trimesh(vertices.shape=(864, 3), faces.shape=(1989, 3))>, <trimesh.Trimesh(vertices.shape=(723, 3), faces.shape=(1611, 3))>, <trimesh.Trimesh(vertices.shape=(693, 3), faces.shape=(1561, 3))>, <trimesh.Trimesh(vertices.shape=(612, 3), faces.shape=(1378, 3))>, <trimesh.Trimesh(vertices.shape=(456, 3), faces.shape=(742, 3))>, <trimesh.Trimesh(vertices.shape=(344, 3), faces.shape=(727, 3))>, <trimesh.Trimesh(vertices.shape=(363, 3), faces.shape=(876, 3))>, <trimesh.Trimesh(vertices.shape=(301, 3), faces.shape=(613, 3))>, <trimesh.Trimesh(vertices.shape=(253, 3), faces.shape=(632, 3))>, <trimesh.Trimesh(vertices.shape=(199, 3), faces.shape=(446, 3))>, <trimesh.Trimesh(vertices.shape=(176, 3), faces.shape=(418, 3))>]\n",
      "Skipping the segmentatio filter at end\n",
      "removing mesh interior before segmentation\n",
      "xvfb-run -n 2866 -s \"-screen 0 800x600x24\" meshlabserver $@  -i /neurd_packages/NEURD/Applications/autoproof_neuron_pipeline/temp/neuron_66167.off -o /neurd_packages/NEURD/Applications/autoproof_neuron_pipeline/temp/neuron_66167_fill_holes.off -s /neurd_packages/NEURD/Applications/autoproof_neuron_pipeline/temp/fill_holes_648518.mls\n",
      "removed temporary input file: /neurd_packages/NEURD/Applications/autoproof_neuron_pipeline/temp/neuron_66167.off\n",
      "removed temporary output file: /neurd_packages/NEURD/Applications/autoproof_neuron_pipeline/temp/neuron_66167_fill_holes.off\n",
      "/neurd_packages/NEURD/Applications/autoproof_neuron_pipeline/temp/fill_holes_648518.mls is being deleted....\n",
      "xvfb-run -n 3459 -s \"-screen 0 800x600x24\" meshlabserver $@  -i /neurd_packages/NEURD/Applications/autoproof_neuron_pipeline/temp/neuron_63890.off -o /neurd_packages/NEURD/Applications/autoproof_neuron_pipeline/temp/neuron_63890_remove_interior.off -s /neurd_packages/NEURD/Applications/autoproof_neuron_pipeline/temp/remove_interior_902333.mls\n",
      "removed temporary input file: /neurd_packages/NEURD/Applications/autoproof_neuron_pipeline/temp/neuron_63890.off\n",
      "removed temporary output file: /neurd_packages/NEURD/Applications/autoproof_neuron_pipeline/temp/neuron_63890_remove_interior.off\n",
      "/neurd_packages/NEURD/Applications/autoproof_neuron_pipeline/temp/remove_interior_902333.mls is being deleted....\n",
      "No significant (1000) interior meshes present\n",
      "largest is 289\n",
      "Doing the soma segmentation filter at end\n",
      "\n",
      "Number of segments: 9\n",
      "\n"
     ]
    },
    {
     "data": {
      "application/vnd.jupyter.widget-view+json": {
       "model_id": "02e1cc90aa8046919ea479af04a22814",
       "version_major": 2,
       "version_minor": 0
      },
      "text/plain": [
       "  0%|          | 0/9 [00:00<?, ?it/s]"
      ]
     },
     "metadata": {},
     "output_type": "display_data"
    },
    {
     "name": "stdout",
     "output_type": "stream",
     "text": [
      "Largest hole before segmentation = 84198.44608552229, after = 79686.03659527568,\n",
      "\n",
      "ratio = 0.9464074493053798, difference = -4512.409490246602\n",
      "Skipping the segmentatio filter at end\n",
      "removing mesh interior before segmentation\n",
      "xvfb-run -n 4309 -s \"-screen 0 800x600x24\" meshlabserver $@  -i /neurd_packages/NEURD/Applications/autoproof_neuron_pipeline/temp/neuron_25583.off -o /neurd_packages/NEURD/Applications/autoproof_neuron_pipeline/temp/neuron_25583_fill_holes.off -s /neurd_packages/NEURD/Applications/autoproof_neuron_pipeline/temp/fill_holes_222711.mls\n",
      "removed temporary input file: /neurd_packages/NEURD/Applications/autoproof_neuron_pipeline/temp/neuron_25583.off\n",
      "removed temporary output file: /neurd_packages/NEURD/Applications/autoproof_neuron_pipeline/temp/neuron_25583_fill_holes.off\n",
      "/neurd_packages/NEURD/Applications/autoproof_neuron_pipeline/temp/fill_holes_222711.mls is being deleted....\n",
      "xvfb-run -n 8105 -s \"-screen 0 800x600x24\" meshlabserver $@  -i /neurd_packages/NEURD/Applications/autoproof_neuron_pipeline/temp/neuron_90625.off -o /neurd_packages/NEURD/Applications/autoproof_neuron_pipeline/temp/neuron_90625_remove_interior.off -s /neurd_packages/NEURD/Applications/autoproof_neuron_pipeline/temp/remove_interior_636280.mls\n",
      "removed temporary input file: /neurd_packages/NEURD/Applications/autoproof_neuron_pipeline/temp/neuron_90625.off\n",
      "removed temporary output file: /neurd_packages/NEURD/Applications/autoproof_neuron_pipeline/temp/neuron_90625_remove_interior.off\n",
      "/neurd_packages/NEURD/Applications/autoproof_neuron_pipeline/temp/remove_interior_636280.mls is being deleted....\n",
      "No significant (1000) interior meshes present\n",
      "largest is 48\n",
      "Doing the soma segmentation filter at end\n",
      "\n",
      "Number of segments: 2\n",
      "\n"
     ]
    },
    {
     "data": {
      "application/vnd.jupyter.widget-view+json": {
       "model_id": "315c6bdac8624baab4451e463a1de8e7",
       "version_major": 2,
       "version_minor": 0
      },
      "text/plain": [
       "  0%|          | 0/2 [00:00<?, ?it/s]"
      ]
     },
     "metadata": {},
     "output_type": "display_data"
    },
    {
     "name": "stdout",
     "output_type": "stream",
     "text": [
      "No split meshes were above the width threshold (0.32) and size threshold (2000) so continuing\n",
      "So just going with old somas\n",
      "filtered_soma_list_components = [<trimesh.Trimesh(vertices.shape=(11386, 3), faces.shape=(22560, 3))>\n",
      " <trimesh.Trimesh(vertices.shape=(5708, 3), faces.shape=(10517, 3))>]\n",
      "Not need to do a second pass because already found a soma\n"
     ]
    }
   ],
   "source": [
    "(total_soma_list, \n",
    " run_time, \n",
    " total_soma_list_sdf,\n",
    " glia_pieces,\n",
    " nuclei_pieces) = sm.extract_soma_center(\n",
    "    segment_id,\n",
    "    mesh = mesh_dec,\n",
    "    return_glia_nuclei_pieces=True,\n",
    "    verbose = True,\n",
    ")"
   ]
  },
  {
   "cell_type": "code",
   "execution_count": 16,
   "id": "ead5f509",
   "metadata": {},
   "outputs": [
    {
     "name": "stdout",
     "output_type": "stream",
     "text": [
      "# of somas = 2\n",
      "# of glia = 0\n",
      "# of nuclei = 18\n"
     ]
    },
    {
     "data": {
      "application/vnd.jupyter.widget-view+json": {
       "model_id": "b24b059a7162403b879bf4596521ad14",
       "version_major": 2,
       "version_minor": 0
      },
      "text/plain": [
       "Container(figure=Figure(box_center=[0.5, 0.5, 0.5], box_size=[1.0, 1.0, 1.0], camera=PerspectiveCamera(fov=45.…"
      ]
     },
     "metadata": {},
     "output_type": "display_data"
    }
   ],
   "source": [
    "from neurd import neuron_visualizations as nviz\n",
    "nviz.plot_soma_extraction_meshes(\n",
    "    mesh_dec,\n",
    "    total_soma_list,\n",
    "    glia_pieces,\n",
    "    nuclei_pieces,\n",
    "    verbose = True,\n",
    ")"
   ]
  },
  {
   "cell_type": "markdown",
   "id": "f495610d",
   "metadata": {},
   "source": [
    "# Step 3: Decomposition"
   ]
  },
  {
   "cell_type": "code",
   "execution_count": 17,
   "id": "b941527d",
   "metadata": {},
   "outputs": [],
   "source": [
    "from neurd import neuron"
   ]
  },
  {
   "cell_type": "code",
   "execution_count": 18,
   "id": "58fd70bf",
   "metadata": {},
   "outputs": [],
   "source": [
    "#/mnt/lab/users/celiib/neurd_packages/neuron_mesh_tools/Auto_Proofreading/Minnie65_Pipeline/Auto_Proof/m65_autoproof_4_Decomposition_full_v1.ipynb"
   ]
  },
  {
   "cell_type": "code",
   "execution_count": 19,
   "id": "ebcd5925",
   "metadata": {},
   "outputs": [],
   "source": [
    "neurd.set_volume_params(\n",
    "    volume = \"microns\"\n",
    ")"
   ]
  },
  {
   "cell_type": "code",
   "execution_count": 20,
   "id": "e4d334ba",
   "metadata": {},
   "outputs": [],
   "source": [
    "somas = [\n",
    " total_soma_list, \n",
    " run_time, \n",
    " total_soma_list_sdf,\n",
    "]"
   ]
  },
  {
   "cell_type": "code",
   "execution_count": 21,
   "id": "e4f3779e",
   "metadata": {},
   "outputs": [
    {
     "name": "stdout",
     "output_type": "stream",
     "text": [
      "picking a random 7 digit segment id: 67994723\n",
      "--- 0) Having to preprocess the Neuron becuase no preprocessed data\n",
      "Please wait this could take a while.....\n",
      "Skipping the hole filling\n",
      "limb_remove_mesh_interior_face_threshold = 0\n",
      "use_meshafterparty = True\n",
      "Using pre-computed somas: soma_mesh_list = [<trimesh.Trimesh(vertices.shape=(11386, 3), faces.shape=(22560, 3))>, <trimesh.Trimesh(vertices.shape=(5708, 3), faces.shape=(10517, 3))>]\n",
      "Soma List = [<trimesh.Trimesh(vertices.shape=(11386, 3), faces.shape=(22560, 3))>, <trimesh.Trimesh(vertices.shape=(5708, 3), faces.shape=(10517, 3))>]\n",
      "soma_mesh_list_centers = [array([1488880.76058317,  589300.09373793, 1100652.31345512]), array([1472182.71408549,  577993.08644009, 1112354.27575333])]\n",
      "Getting Glia and Nuclei Pieces Subtracted Away 0.11245369911193848\n",
      " Splitting mesh after soma cancellation 1.9687163829803467\n",
      "# of split_meshes = 4\n",
      " Containing Mesh Indices 0.02457451820373535\n",
      "containing_mesh_indices = {0: 0, 1: 0}\n",
      " non_soma_touching_meshes 1.6927719116210938e-05\n",
      "There were 3 pieces found after size threshold\n",
      " Finding inside pieces and non_soma_touching meshes 0.7132875919342041\n",
      "soma_containing_meshes = {0: [0, 1]}\n",
      "\n",
      "-----Before combining multiple mesh pieces-----\n",
      "soma_containing_meshes = {0: [0, 1]}\n",
      "\n",
      "-----After combining multiple mesh pieces-----\n",
      "soma_containing_meshes = {0: [0, 1]}\n",
      "\n",
      "\n",
      "----Working on soma-containing mesh piece 0----\n",
      "Total time for Subtract Soma and Original_mesh_faces_map for somas= 0.4569838047027588\n",
      "new_floating_pieces = []\n",
      "Total time for sig_non_soma_pieces= 1.3385038375854492\n",
      "Not applying expansions\n",
      "Total time for split= 3.337860107421875e-06\n",
      "Total time for mesh_pieces_connectivity= 1.1385228633880615\n",
      "# of insignificant_limbs = 1 with trimesh : [<trimesh.Trimesh(vertices.shape=(11, 3), faces.shape=(15, 3))>]\n",
      "# of not_processed_soma_containing_meshes = 0 with trimesh : []\n",
      "\n",
      "\n",
      "----- Working on Proper Limb # 0 ---------\n",
      "meshparty_segment_size = 100\n",
      "invalidation_d = 12000\n",
      "use_adaptive_invalidation_d= False\n",
      "axon_width_preprocess_limb_max = 200\n",
      "filter_end_node_length= 4000\n",
      "filter_end_node_length_meshparty = 4000\n",
      "invalidation_d = 12000\n",
      "root_curr = [1487208.   596715.8 1099876. ]\n",
      "Time for preparing soma vertices and root: 0.00017881393432617188\n",
      "invalidation_d = 12000\n",
      "smooth_neighborhood = 1\n",
      "cc_vertex_thresh = 10\n"
     ]
    },
    {
     "name": "stderr",
     "output_type": "stream",
     "text": [
      "\r",
      "  0%|          | 0/1 [00:00<?, ?it/s]"
     ]
    },
    {
     "data": {
      "application/vnd.jupyter.widget-view+json": {
       "model_id": "d91f4b39b4c4478085ae3add146b7194",
       "version_major": 2,
       "version_minor": 0
      },
      "text/plain": [
       "  0%|          | 0/33579 [00:00<?, ?it/s]"
      ]
     },
     "metadata": {},
     "output_type": "display_data"
    },
    {
     "name": "stderr",
     "output_type": "stream",
     "text": [
      "100%|██████████| 1/1 [00:00<00:00,  6.91it/s]\n"
     ]
    },
    {
     "name": "stdout",
     "output_type": "stream",
     "text": [
      "meshparty_segment_size = 100\n",
      "Time for 1st pass MP skeletonization: 0.5472085475921631\n",
      "connecting at the root\n",
      "branches_touching_root = [6]\n",
      "combining close nodes\n",
      "combine_threshold = 700\n",
      "length of Graph = 3258\n",
      "After combining close endpoints max(kept_branches_idx) = 6, len(kept_branches_idx) = 7\n",
      "empty_indices % = 0.0\n",
      " conflict_indices % = 0.002908632942517017\n"
     ]
    },
    {
     "data": {
      "application/vnd.jupyter.widget-view+json": {
       "model_id": "920920941d1d46e3a43da4343b312254",
       "version_major": 2,
       "version_minor": 0
      },
      "text/plain": [
       "  0%|          | 0/3 [00:00<?, ?it/s]"
      ]
     },
     "metadata": {},
     "output_type": "display_data"
    },
    {
     "name": "stdout",
     "output_type": "stream",
     "text": [
      "AFTER face_lookup_resolved_test\n"
     ]
    },
    {
     "data": {
      "application/vnd.jupyter.widget-view+json": {
       "model_id": "574da71826a14f93a54ff54172375d98",
       "version_major": 2,
       "version_minor": 0
      },
      "text/plain": [
       "  0%|          | 0/7 [00:00<?, ?it/s]"
      ]
     },
     "metadata": {},
     "output_type": "display_data"
    },
    {
     "name": "stdout",
     "output_type": "stream",
     "text": [
      "Decomposing first pass: 2.744478702545166\n",
      "Attempting to use MeshAfterParty Skeletonization and Mesh Correspondence\n",
      "Another print\n",
      "Found len(mesh_large_idx) MAP candidates: [635, 7670]\n",
      "mesh_large_connectivity: 0.003184080123901367\n",
      "Finding MAP candidates connected components: 0.00015211105346679688\n",
      "len(filtered_pieces) = 1\n",
      "skeleton_connectivity_MP : 0.07723569869995117\n",
      "Grouping MP Sublimbs by Graph: 0.03602910041809082\n",
      "Divinding into MP and MAP pieces: 7.152557373046875e-07\n",
      "--- Working on MAP piece 0---\n",
      "MAP Filtering Soma Pieces: 0.012868165969848633\n",
      "inside skeletonize_connected_branch and use_surface_after_CGAL=True, surface_reconstruction_size=1000\n",
      "keep_idx = [0]\n",
      "     Starting Screened Poisson\n",
      "xvfb-run -n 8900 -s \"-screen 0 800x600x24\" meshlabserver $@  -i /neurd_packages/NEURD/Applications/autoproof_neuron_pipeline/temp/None.off -o /neurd_packages/NEURD/Applications/autoproof_neuron_pipeline/temp/None_poisson.off -s /neurd_packages/NEURD/Applications/autoproof_neuron_pipeline/temp/poisson_953247.mls\n",
      "removed temporary input file: /neurd_packages/NEURD/Applications/autoproof_neuron_pipeline/temp/None.off\n",
      "removed temporary output file: /neurd_packages/NEURD/Applications/autoproof_neuron_pipeline/temp/None_poisson.off\n",
      "Using the close holes feature\n",
      "xvfb-run -n 4982 -s \"-screen 0 800x600x24\" meshlabserver $@  -i /neurd_packages/NEURD/Applications/autoproof_neuron_pipeline/temp/neuron_71262.off -o /neurd_packages/NEURD/Applications/autoproof_neuron_pipeline/temp/neuron_71262_fill_holes.off -s /neurd_packages/NEURD/Applications/autoproof_neuron_pipeline/temp/fill_holes_425943.mls\n",
      "removed temporary input file: /neurd_packages/NEURD/Applications/autoproof_neuron_pipeline/temp/neuron_71262.off\n",
      "removed temporary output file: /neurd_packages/NEURD/Applications/autoproof_neuron_pipeline/temp/neuron_71262_fill_holes.off\n",
      "/neurd_packages/NEURD/Applications/autoproof_neuron_pipeline/temp/fill_holes_425943.mls is being deleted....\n",
      "-----Time for Screened Poisson= 9.008374452590942\n",
      "mesh_pieces = [<trimesh.Trimesh(vertices.shape=(7412, 3), faces.shape=(14820, 3))>]\n",
      "     Starting Calcification (Changed back where stitches large poissons)\n",
      "Manifold status before skeletonization = True\n",
      "Watertight status before skeletonization = True\n",
      "min_edge_length = 75\n",
      "Before mesh subtraction number of skeleton edges = 300\n"
     ]
    },
    {
     "data": {
      "application/vnd.jupyter.widget-view+json": {
       "model_id": "44a5c06ee90047abbf1f5d4110e48d43",
       "version_major": 2,
       "version_minor": 0
      },
      "text/plain": [
       "0it [00:00, ?it/s]"
      ]
     },
     "metadata": {},
     "output_type": "display_data"
    },
    {
     "name": "stdout",
     "output_type": "stream",
     "text": [
      "len(leftover_meshes_sig) = []\n"
     ]
    },
    {
     "data": {
      "application/vnd.jupyter.widget-view+json": {
       "model_id": "d65c96fc5ffc41bbad00d60625c7b90b",
       "version_major": 2,
       "version_minor": 0
      },
      "text/plain": [
       "0it [00:00, ?it/s]"
      ]
     },
     "metadata": {},
     "output_type": "display_data"
    },
    {
     "name": "stdout",
     "output_type": "stream",
     "text": [
      "No skeletons to stack so returning empty list\n",
      "STacking the leftover and significant poisson skeleton\n",
      "max_stitch_distance = 5000\n",
      "len_subgraphs AT BEGINNING of the loop\n"
     ]
    },
    {
     "data": {
      "application/vnd.jupyter.widget-view+json": {
       "model_id": "025d16c966a944b4a75ba606fd1f12ff",
       "version_major": 2,
       "version_minor": 0
      },
      "text/plain": [
       "  0%|          | 0/1 [00:00<?, ?it/s]"
      ]
     },
     "metadata": {},
     "output_type": "display_data"
    },
    {
     "name": "stdout",
     "output_type": "stream",
     "text": [
      "all graph is one component!\n",
      "Total time for skeleton stitching = 0.01473855972290039\n",
      "The process was using a temp folder\n",
      "Checking connected components after skeletonize_connected_branch\n",
      "    Total time for skeletonizing branch: 10.03715467453003\n",
      "Checking connected components after removing cycles\n",
      "Total time for mesh KDTree = 0.08401823043823242\n",
      "sbv[0].reshape(-1,3) = [[1487208.   596715.8 1099876. ]]\n",
      "closest_sk_pt_coord BEFORE = [1487600.  597255. 1100710.]\n",
      "current_skeleton.shape = (299, 2, 3)\n",
      "node_for_stitch = 211: [1487600.  597255. 1100710.]\n",
      "node_for_stitch AFTER = 211: [1487600.  597255. 1100710.]\n",
      "possible_node_loc = [  0  40 211 299]\n",
      "possible_node_loc AFTER = [  0  40 211 299]\n",
      "curr_shortest_path = [211]\n",
      "Current stitch point was a branch or endpoint\n",
      "change_status for create soma extending pieces = False\n",
      "closest_sk_pt_coord AFTER = [1487600.  597255. 1100710.]\n",
      "skipping soma 0 because closest skeleton node was already end node\n",
      "endpoints_must_keep = {0: array([[1487600.,  597255., 1100710.]])}\n",
      "    Total time for Fixing Skeleton Soma Endpoint Extension : 0.1642777919769287\n",
      "filter_end_node_length = 4000\n",
      "Using Distance measure skeletal_distance\n",
      "endpoints_must_keep = [[1487600.  597255. 1100710.]]\n",
      "Number of end_nodes BEFORE filtering = 4\n",
      "all_single_nodes_to_eliminate = [2]\n"
     ]
    },
    {
     "data": {
      "application/vnd.jupyter.widget-view+json": {
       "model_id": "a4cba97fd35948debda60f040034c81c",
       "version_major": 2,
       "version_minor": 0
      },
      "text/plain": [
       "  0%|          | 0/1 [00:00<?, ?it/s]"
      ]
     },
     "metadata": {},
     "output_type": "display_data"
    },
    {
     "name": "stdout",
     "output_type": "stream",
     "text": [
      "Checking connected components after clean_skeleton\n",
      "after DISTANCE cleaning limb size of skeleton = (277, 2, 3)\n",
      "********COMBINING CLOSE SKELETON NODES WITHIN 700 DISTANCE**********\n",
      "combine_threshold = 700\n",
      "Found 0 valid paths to replace\n",
      "valid_paths = []\n",
      "valid_path_lengths = []\n",
      "No valid paths found so just returning the original\n",
      "skeletonize_and_clean_connected_branch_CGAL: 10.373896837234497\n",
      "Working on limb correspondence for #0 MAP piece\n",
      "xvfb-run -n 7142 -s \"-screen 0 800x600x24\" meshlabserver $@  -i /neurd_packages/NEURD/Applications/autoproof_neuron_pipeline/temp/neuron_64176.off -o /neurd_packages/NEURD/Applications/autoproof_neuron_pipeline/temp/neuron_64176_remove_interior.off -s /neurd_packages/NEURD/Applications/autoproof_neuron_pipeline/temp/remove_interior_378999.mls\n",
      "removed temporary input file: /neurd_packages/NEURD/Applications/autoproof_neuron_pipeline/temp/neuron_64176.off\n",
      "removed temporary output file: /neurd_packages/NEURD/Applications/autoproof_neuron_pipeline/temp/neuron_64176_remove_interior.off\n",
      "/neurd_packages/NEURD/Applications/autoproof_neuron_pipeline/temp/remove_interior_378999.mls is being deleted....\n",
      "No significant (100) interior meshes present\n",
      "largest is 14\n"
     ]
    },
    {
     "data": {
      "application/vnd.jupyter.widget-view+json": {
       "model_id": "2f7c2e541b6c4b029ed7d96e079edd58",
       "version_major": 2,
       "version_minor": 0
      },
      "text/plain": [
       "0it [00:00, ?it/s]"
      ]
     },
     "metadata": {},
     "output_type": "display_data"
    },
    {
     "name": "stdout",
     "output_type": "stream",
     "text": [
      "Total time for decomposition = 1.5699543952941895\n",
      "mesh_correspondence_first_pass: 1.5699872970581055\n",
      "Limb decomposed into 3 branches\n",
      "divided_skeleton_graph_recovered = (277, 2, 3) and \n",
      "current_mesh_data[0]['branch_skeletons_cleaned'].shape = (277, 2, 3)\n",
      "\n",
      "Number of connected components in deocmposed recovered graph = 1\n",
      "Number of connected components in cleaned skeleton graph= 1\n",
      "The downsampled branches number of connected components = 1\n",
      "Empty submeshes = []\n",
      "\n",
      "\n",
      "--- Working on 1-to-1 correspondence-----\n",
      "max(original_labels),len(original_labels) = (2, 3)\n",
      "empty_indices % = 0.16026490066225166\n",
      " conflict_indices % = 0.026730885009030706\n"
     ]
    },
    {
     "data": {
      "application/vnd.jupyter.widget-view+json": {
       "model_id": "84e116b9441b42c093fa651f38dd8785",
       "version_major": 2,
       "version_minor": 0
      },
      "text/plain": [
       "  0%|          | 0/16 [00:00<?, ?it/s]"
      ]
     },
     "metadata": {},
     "output_type": "display_data"
    },
    {
     "name": "stdout",
     "output_type": "stream",
     "text": [
      "AFTER face_lookup_resolved_test\n",
      "Took 0 iterations to expand the label back\n",
      "empty_indices % = 0.0\n",
      " conflict_indices % = 0.0\n"
     ]
    },
    {
     "data": {
      "application/vnd.jupyter.widget-view+json": {
       "model_id": "cf51a520a410458d97fb825729c7ff20",
       "version_major": 2,
       "version_minor": 0
      },
      "text/plain": [
       "0it [00:00, ?it/s]"
      ]
     },
     "metadata": {},
     "output_type": "display_data"
    },
    {
     "name": "stdout",
     "output_type": "stream",
     "text": [
      "AFTER face_lookup_resolved_test\n"
     ]
    },
    {
     "data": {
      "application/vnd.jupyter.widget-view+json": {
       "model_id": "d76f3f22841d46fc9620056bcbcfad46",
       "version_major": 2,
       "version_minor": 0
      },
      "text/plain": [
       "  0%|          | 0/3 [00:00<?, ?it/s]"
      ]
     },
     "metadata": {},
     "output_type": "display_data"
    },
    {
     "name": "stdout",
     "output_type": "stream",
     "text": [
      "Total time for MAP sublimb #0 mesh processing = 12.352887868881226\n",
      "correspondence_1_to_1: 0.3961613178253174\n",
      "Total time for MAP sublimb processing 12.352962732315063\n",
      "---- Working on MP Decomposition #0 ----\n",
      "Computing the current soma touching verts dict manually\n",
      "MP filtering soma verts: 0.016118526458740234\n",
      "Do Not Need to Fix MP Decomposition 0 so just continuing\n",
      "---- Working on MP Decomposition #1 ----\n",
      "Computing the current soma touching verts dict manually\n",
      "MP filtering soma verts: 0.023770570755004883\n",
      "Do Not Need to Fix MP Decomposition 1 so just continuing\n",
      "---- Working on MP Decomposition #2 ----\n",
      "Computing the current soma touching verts dict manually\n",
      "MP filtering soma verts: 0.023921489715576172\n",
      "Do Not Need to Fix MP Decomposition 2 so just continuing\n",
      "Successful mesh connectivity with type edges\n",
      "\n",
      "---- Working on (0, 0) connection-----\n",
      "sk_conn = [0, 1]\n",
      "conn = [0, 1]\n",
      "winning_vertex = [1491450.08344721  608267.60149996 1098228.13300974]\n",
      "MP_branches_with_stitch_point = [0, 1]\n",
      "MAP_branches_with_stitch_point = [2]\n",
      "MAP_stitch_point_on_end_or_branch = True\n"
     ]
    },
    {
     "data": {
      "application/vnd.jupyter.widget-view+json": {
       "model_id": "9414aa25c42e4c9bac879da845c9a1a9",
       "version_major": 2,
       "version_minor": 0
      },
      "text/plain": [
       "0it [00:00, ?it/s]"
      ]
     },
     "metadata": {},
     "output_type": "display_data"
    },
    {
     "name": "stdout",
     "output_type": "stream",
     "text": [
      "\n",
      "\n",
      "--- Working on 1-to-1 correspondence-----\n",
      "max(original_labels),len(original_labels) = (2, 3)\n",
      "empty_indices % = 0.17371511512832355\n",
      " conflict_indices % = 0.010556178663323876\n"
     ]
    },
    {
     "data": {
      "application/vnd.jupyter.widget-view+json": {
       "model_id": "06a3d0b0bc514d3b89258e7d3aca9530",
       "version_major": 2,
       "version_minor": 0
      },
      "text/plain": [
       "  0%|          | 0/100 [00:00<?, ?it/s]"
      ]
     },
     "metadata": {},
     "output_type": "display_data"
    },
    {
     "name": "stdout",
     "output_type": "stream",
     "text": [
      "AFTER face_lookup_resolved_test\n"
     ]
    },
    {
     "data": {
      "application/vnd.jupyter.widget-view+json": {
       "model_id": "24f5b82a63954095aa81a5deeb02af83",
       "version_major": 2,
       "version_minor": 0
      },
      "text/plain": [
       "  0%|          | 0/3 [00:00<?, ?it/s]"
      ]
     },
     "metadata": {},
     "output_type": "display_data"
    },
    {
     "name": "stdout",
     "output_type": "stream",
     "text": [
      "MP_branches_with_stitch_point= [0, 1]\n",
      "MP_branches_for_correspondence = [0 1]\n",
      "MP_leftover = [], MP_leftover_idx = []\n",
      " Finished with (0, 0) \n",
      "\n",
      "\n",
      "\n",
      "\n",
      "---- Working on (1, 0) connection-----\n",
      "sk_conn = [0, 1]\n",
      "conn = [0, 1]\n",
      "winning_vertex = [1476472.93997195  615033.74821465 1108138.04148317]\n",
      "MP_branches_with_stitch_point = [0, 1]\n",
      "MAP_branches_with_stitch_point = [0]\n",
      "MAP_stitch_point_on_end_or_branch = False\n"
     ]
    },
    {
     "data": {
      "application/vnd.jupyter.widget-view+json": {
       "model_id": "6aa769e4a1474eac93ec71ed4332d351",
       "version_major": 2,
       "version_minor": 0
      },
      "text/plain": [
       "0it [00:00, ?it/s]"
      ]
     },
     "metadata": {},
     "output_type": "display_data"
    },
    {
     "name": "stdout",
     "output_type": "stream",
     "text": [
      "\n",
      "\n",
      "--- Working on 1-to-1 correspondence-----\n",
      "max(original_labels),len(original_labels) = (1, 2)\n",
      "empty_indices % = 0.20631028281837502\n",
      " conflict_indices % = 0.0070295896681379765\n"
     ]
    },
    {
     "data": {
      "application/vnd.jupyter.widget-view+json": {
       "model_id": "22e756fba1c5419fa41935eb8bd97a89",
       "version_major": 2,
       "version_minor": 0
      },
      "text/plain": [
       "  0%|          | 0/8 [00:00<?, ?it/s]"
      ]
     },
     "metadata": {},
     "output_type": "display_data"
    },
    {
     "name": "stdout",
     "output_type": "stream",
     "text": [
      "AFTER face_lookup_resolved_test\n"
     ]
    },
    {
     "data": {
      "application/vnd.jupyter.widget-view+json": {
       "model_id": "9bec927304124b15a22b2578a36f0482",
       "version_major": 2,
       "version_minor": 0
      },
      "text/plain": [
       "  0%|          | 0/2 [00:00<?, ?it/s]"
      ]
     },
     "metadata": {},
     "output_type": "display_data"
    },
    {
     "data": {
      "application/vnd.jupyter.widget-view+json": {
       "model_id": "c0eb17586e0d44598005f2ff24fba1b7",
       "version_major": 2,
       "version_minor": 0
      },
      "text/plain": [
       "0it [00:00, ?it/s]"
      ]
     },
     "metadata": {},
     "output_type": "display_data"
    },
    {
     "name": "stdout",
     "output_type": "stream",
     "text": [
      "\n",
      "\n",
      "--- Working on 1-to-1 correspondence-----\n",
      "max(original_labels),len(original_labels) = (3, 4)\n",
      "empty_indices % = 0.1909865005192108\n",
      " conflict_indices % = 0.04668743509865005\n"
     ]
    },
    {
     "data": {
      "application/vnd.jupyter.widget-view+json": {
       "model_id": "714c0c6f046b4aa59a6abffe81a50e94",
       "version_major": 2,
       "version_minor": 0
      },
      "text/plain": [
       "  0%|          | 0/58 [00:00<?, ?it/s]"
      ]
     },
     "metadata": {},
     "output_type": "display_data"
    },
    {
     "name": "stdout",
     "output_type": "stream",
     "text": [
      "AFTER face_lookup_resolved_test\n"
     ]
    },
    {
     "data": {
      "application/vnd.jupyter.widget-view+json": {
       "model_id": "f317ca5b3dac4e5faba988d944ecb9a1",
       "version_major": 2,
       "version_minor": 0
      },
      "text/plain": [
       "  0%|          | 0/4 [00:00<?, ?it/s]"
      ]
     },
     "metadata": {},
     "output_type": "display_data"
    },
    {
     "name": "stdout",
     "output_type": "stream",
     "text": [
      "Deleting branches from dictionary\n",
      "MP_branches_with_stitch_point= [0, 1]\n",
      "MP_branches_for_correspondence = [0 1]\n",
      "MP_leftover = [], MP_leftover_idx = []\n",
      " Finished with (1, 0) \n",
      "\n",
      "\n",
      "\n",
      "\n",
      "---- Working on (2, 0) connection-----\n",
      "sk_conn = [0]\n",
      "conn = [0]\n",
      "winning_vertex = [1488771.89112037  605282.82224157 1100475.99894991]\n",
      "MP_branches_with_stitch_point = [0]\n",
      "MAP_branches_with_stitch_point = [2]\n",
      "MAP_stitch_point_on_end_or_branch = False\n"
     ]
    },
    {
     "data": {
      "application/vnd.jupyter.widget-view+json": {
       "model_id": "a5c348c4251b48078d08436b0e61e00e",
       "version_major": 2,
       "version_minor": 0
      },
      "text/plain": [
       "0it [00:00, ?it/s]"
      ]
     },
     "metadata": {},
     "output_type": "display_data"
    },
    {
     "name": "stdout",
     "output_type": "stream",
     "text": [
      "\n",
      "\n",
      "--- Working on 1-to-1 correspondence-----\n",
      "max(original_labels),len(original_labels) = (1, 2)\n",
      "empty_indices % = 0.16864459712679575\n",
      " conflict_indices % = 0.006870705808869456\n"
     ]
    },
    {
     "data": {
      "application/vnd.jupyter.widget-view+json": {
       "model_id": "717e561c34704ffc87110d2b9f815470",
       "version_major": 2,
       "version_minor": 0
      },
      "text/plain": [
       "  0%|          | 0/7 [00:00<?, ?it/s]"
      ]
     },
     "metadata": {},
     "output_type": "display_data"
    },
    {
     "name": "stdout",
     "output_type": "stream",
     "text": [
      "AFTER face_lookup_resolved_test\n"
     ]
    },
    {
     "data": {
      "application/vnd.jupyter.widget-view+json": {
       "model_id": "badc7d9c00634b7589a1c174e223b274",
       "version_major": 2,
       "version_minor": 0
      },
      "text/plain": [
       "  0%|          | 0/2 [00:00<?, ?it/s]"
      ]
     },
     "metadata": {},
     "output_type": "display_data"
    },
    {
     "data": {
      "application/vnd.jupyter.widget-view+json": {
       "model_id": "59a2aa43e2c945a1949d26280bfb8f75",
       "version_major": 2,
       "version_minor": 0
      },
      "text/plain": [
       "0it [00:00, ?it/s]"
      ]
     },
     "metadata": {},
     "output_type": "display_data"
    },
    {
     "name": "stdout",
     "output_type": "stream",
     "text": [
      "\n",
      "\n",
      "--- Working on 1-to-1 correspondence-----\n",
      "max(original_labels),len(original_labels) = (2, 3)\n",
      "empty_indices % = 0.23401195792023008\n",
      " conflict_indices % = 0.014455460531294937\n"
     ]
    },
    {
     "data": {
      "application/vnd.jupyter.widget-view+json": {
       "model_id": "3059a9e69fe64b2bbb3e334c96e5c611",
       "version_major": 2,
       "version_minor": 0
      },
      "text/plain": [
       "  0%|          | 0/30 [00:00<?, ?it/s]"
      ]
     },
     "metadata": {},
     "output_type": "display_data"
    },
    {
     "name": "stdout",
     "output_type": "stream",
     "text": [
      "AFTER face_lookup_resolved_test\n"
     ]
    },
    {
     "data": {
      "application/vnd.jupyter.widget-view+json": {
       "model_id": "e3cdecece6674f2b9efb0cf5223881dd",
       "version_major": 2,
       "version_minor": 0
      },
      "text/plain": [
       "  0%|          | 0/3 [00:00<?, ?it/s]"
      ]
     },
     "metadata": {},
     "output_type": "display_data"
    },
    {
     "name": "stdout",
     "output_type": "stream",
     "text": [
      "Deleting branches from dictionary\n",
      "MP_branches_with_stitch_point= [0]\n",
      "MP_branches_for_correspondence = [0]\n",
      "MP_leftover = [], MP_leftover_idx = []\n",
      " Finished with (2, 0) \n",
      "\n",
      "\n",
      "\n",
      "Time for decomp of Limb = 26.84508490562439\n",
      "Number of matching vertices = 26\n",
      "Only one endpoint after filtering away the endpoints that are not on the skeleton\n",
      "Using Distance measure skeletal_distance\n",
      "endpoints_must_keep = [[1487600.  597255. 1100710.]]\n",
      "Number of end_nodes BEFORE filtering = 7\n",
      "all_single_nodes_to_eliminate = [4]\n",
      "no small end nodes to get rid of so returning whole skeleton\n",
      "Removed 0 skeletal branches\n"
     ]
    },
    {
     "data": {
      "application/vnd.jupyter.widget-view+json": {
       "model_id": "2b5360c7a63941158bc844dbf6018de3",
       "version_major": 2,
       "version_minor": 0
      },
      "text/plain": [
       "  0%|          | 0/10 [00:00<?, ?it/s]"
      ]
     },
     "metadata": {},
     "output_type": "display_data"
    },
    {
     "name": "stdout",
     "output_type": "stream",
     "text": [
      "66697 66698\n",
      "For marked faces: None\n",
      "empty_indices % = 0.0\n",
      " conflict_indices % = 0.0\n"
     ]
    },
    {
     "data": {
      "application/vnd.jupyter.widget-view+json": {
       "model_id": "03c8dbd6f6a4483c9a1ae1a0645cf80e",
       "version_major": 2,
       "version_minor": 0
      },
      "text/plain": [
       "0it [00:00, ?it/s]"
      ]
     },
     "metadata": {},
     "output_type": "display_data"
    },
    {
     "name": "stdout",
     "output_type": "stream",
     "text": [
      "AFTER face_lookup_resolved_test\n"
     ]
    },
    {
     "data": {
      "application/vnd.jupyter.widget-view+json": {
       "model_id": "c92b129a1c4c425181a35c8b61b554a2",
       "version_major": 2,
       "version_minor": 0
      },
      "text/plain": [
       "  0%|          | 0/10 [00:00<?, ?it/s]"
      ]
     },
     "metadata": {},
     "output_type": "display_data"
    },
    {
     "name": "stdout",
     "output_type": "stream",
     "text": [
      "Successful Limb Decomposition\n",
      "\n",
      "\n",
      "----- Working on Proper Limb # 1 ---------\n",
      "meshparty_segment_size = 100\n",
      "invalidation_d = 12000\n",
      "use_adaptive_invalidation_d= False\n",
      "axon_width_preprocess_limb_max = 200\n",
      "filter_end_node_length= 4000\n",
      "filter_end_node_length_meshparty = 4000\n",
      "invalidation_d = 12000\n",
      "root_curr = [1484150.   588282.7 1095391. ]\n",
      "Time for preparing soma vertices and root: 0.00017571449279785156\n",
      "invalidation_d = 12000\n",
      "smooth_neighborhood = 1\n",
      "cc_vertex_thresh = 10\n"
     ]
    },
    {
     "name": "stderr",
     "output_type": "stream",
     "text": [
      "\r",
      "  0%|          | 0/1 [00:00<?, ?it/s]"
     ]
    },
    {
     "data": {
      "application/vnd.jupyter.widget-view+json": {
       "model_id": "fe45c0bc383b454bb6246dda40e63f17",
       "version_major": 2,
       "version_minor": 0
      },
      "text/plain": [
       "  0%|          | 0/20269 [00:00<?, ?it/s]"
      ]
     },
     "metadata": {},
     "output_type": "display_data"
    },
    {
     "name": "stderr",
     "output_type": "stream",
     "text": [
      "100%|██████████| 1/1 [00:00<00:00,  4.93it/s]\n"
     ]
    },
    {
     "name": "stdout",
     "output_type": "stream",
     "text": [
      "meshparty_segment_size = 100\n",
      "Time for 1st pass MP skeletonization: 0.44699883460998535\n",
      "branches_touching_root = [3]\n",
      "combining close nodes\n",
      "combine_threshold = 700\n",
      "length of Graph = 5975\n",
      "After combining close endpoints max(kept_branches_idx) = 26, len(kept_branches_idx) = 25\n",
      "empty_indices % = 0.0\n",
      " conflict_indices % = 0.010165121237665492\n"
     ]
    },
    {
     "data": {
      "application/vnd.jupyter.widget-view+json": {
       "model_id": "fc9e6fca4e084461b9028ce34759bc0f",
       "version_major": 2,
       "version_minor": 0
      },
      "text/plain": [
       "  0%|          | 0/11 [00:00<?, ?it/s]"
      ]
     },
     "metadata": {},
     "output_type": "display_data"
    },
    {
     "name": "stdout",
     "output_type": "stream",
     "text": [
      "AFTER face_lookup_resolved_test\n"
     ]
    },
    {
     "data": {
      "application/vnd.jupyter.widget-view+json": {
       "model_id": "3c4fb1e285004520a40b9a4ebcee2679",
       "version_major": 2,
       "version_minor": 0
      },
      "text/plain": [
       "  0%|          | 0/25 [00:00<?, ?it/s]"
      ]
     },
     "metadata": {},
     "output_type": "display_data"
    },
    {
     "name": "stdout",
     "output_type": "stream",
     "text": [
      "Decomposing first pass: 3.0307374000549316\n",
      "Attempting to use MeshAfterParty Skeletonization and Mesh Correspondence\n",
      "Another print\n",
      "Divinding into MP and MAP pieces: 3.62396240234375e-05\n",
      "Total time for MAP sublimb processing 3.0994415283203125e-06\n",
      "---- Working on MP Decomposition #0 ----\n",
      "Using Quicker soma_to_piece_touching_vertices because no MAP and only one sublimb_mesh piece \n",
      "MP filtering soma verts: 1.7881393432617188e-05\n",
      "Fixing Possible Soma Extension Branch for Sublimb 0\n",
      "Total time for mesh KDTree = 0.04164457321166992\n",
      "sbv[0].reshape(-1,3) = [[1484150.   588282.7 1095391. ]]\n",
      "closest_sk_pt_coord BEFORE = [1483982.08022895  588135.81137922 1094821.63000965]\n",
      "current_skeleton.shape = (556, 2, 3)\n",
      "node_for_stitch = 556: [1483982.08022895  588135.81137922 1094821.63000965]\n",
      "node_for_stitch AFTER = 556: [1483982.08022895  588135.81137922 1094821.63000965]\n",
      "possible_node_loc = [  2 556]\n",
      "possible_node_loc AFTER = [  2 556]\n",
      "curr_shortest_path = [556]\n",
      "Current stitch point was a branch or endpoint\n",
      "change_status for create soma extending pieces = False\n",
      "closest_sk_pt_coord AFTER = [1483982.08022895  588135.81137922 1094821.63000965]\n",
      "skipping soma 0 because closest skeleton node was already end node\n",
      "endpoints_must_keep = {0: array([[1483982.08022895,  588135.81137922, 1094821.63000965]])}\n",
      "match_sk_branches = [3]\n",
      "The new branch info was none so skipping \n",
      "\n",
      "No soma extending branch was added for this sublimb even though it had a soma border (means they already existed)\n",
      "MP (because soma touching verts) soma extension add: 0.7556343078613281\n",
      "There were not both MAP and MP pieces so skipping the stitch resolving phase\n",
      "Time for decomp of Limb = 4.360860109329224\n",
      "Number of matching vertices = 20\n",
      "Only one endpoint after filtering away the endpoints that are not on the skeleton\n",
      "Using Distance measure skeletal_distance\n",
      "endpoints_must_keep = [[1483982.08022895  588135.81137922 1094821.63000965]]\n",
      "Number of end_nodes BEFORE filtering = 15\n",
      "all_single_nodes_to_eliminate = [10]\n",
      "no small end nodes to get rid of so returning whole skeleton\n",
      "Removed 0 skeletal branches\n"
     ]
    },
    {
     "data": {
      "application/vnd.jupyter.widget-view+json": {
       "model_id": "61800d8445db4f05a210aedda7b5cf4a",
       "version_major": 2,
       "version_minor": 0
      },
      "text/plain": [
       "  0%|          | 0/25 [00:00<?, ?it/s]"
      ]
     },
     "metadata": {},
     "output_type": "display_data"
    },
    {
     "name": "stdout",
     "output_type": "stream",
     "text": [
      "40338 40339\n",
      "For marked faces: None\n",
      "empty_indices % = 0.0\n",
      " conflict_indices % = 0.0\n"
     ]
    },
    {
     "data": {
      "application/vnd.jupyter.widget-view+json": {
       "model_id": "7e74b90e4a0c4df0b969570838931468",
       "version_major": 2,
       "version_minor": 0
      },
      "text/plain": [
       "0it [00:00, ?it/s]"
      ]
     },
     "metadata": {},
     "output_type": "display_data"
    },
    {
     "name": "stdout",
     "output_type": "stream",
     "text": [
      "AFTER face_lookup_resolved_test\n"
     ]
    },
    {
     "data": {
      "application/vnd.jupyter.widget-view+json": {
       "model_id": "bd2b027d82a94269afeef6ec8c9e42aa",
       "version_major": 2,
       "version_minor": 0
      },
      "text/plain": [
       "  0%|          | 0/25 [00:00<?, ?it/s]"
      ]
     },
     "metadata": {},
     "output_type": "display_data"
    },
    {
     "name": "stdout",
     "output_type": "stream",
     "text": [
      "Successful Limb Decomposition\n",
      "\n",
      "\n",
      "----- Working on Proper Limb # 2 ---------\n",
      "meshparty_segment_size = 100\n",
      "invalidation_d = 12000\n",
      "use_adaptive_invalidation_d= False\n",
      "axon_width_preprocess_limb_max = 200\n",
      "filter_end_node_length= 4000\n",
      "filter_end_node_length_meshparty = 4000\n",
      "invalidation_d = 12000\n",
      "root_curr = [1476534.   581771.6 1109552. ]\n",
      "Time for preparing soma vertices and root: 0.00018405914306640625\n",
      "invalidation_d = 12000\n",
      "smooth_neighborhood = 1\n",
      "cc_vertex_thresh = 10\n"
     ]
    },
    {
     "name": "stderr",
     "output_type": "stream",
     "text": [
      "\r",
      "  0%|          | 0/1 [00:00<?, ?it/s]"
     ]
    },
    {
     "data": {
      "application/vnd.jupyter.widget-view+json": {
       "model_id": "e7589746f49e4f14a068320482a77e80",
       "version_major": 2,
       "version_minor": 0
      },
      "text/plain": [
       "  0%|          | 0/20030 [00:00<?, ?it/s]"
      ]
     },
     "metadata": {},
     "output_type": "display_data"
    },
    {
     "name": "stderr",
     "output_type": "stream",
     "text": [
      "100%|██████████| 1/1 [00:00<00:00, 11.09it/s]\n"
     ]
    },
    {
     "name": "stdout",
     "output_type": "stream",
     "text": [
      "meshparty_segment_size = 100\n",
      "Time for 1st pass MP skeletonization: 0.31469154357910156\n",
      "branches_touching_root = [1]\n",
      "combining close nodes\n",
      "combine_threshold = 700\n",
      "length of Graph = 2074\n",
      "After combining close endpoints max(kept_branches_idx) = 2, len(kept_branches_idx) = 3\n",
      "empty_indices % = 0.0\n",
      " conflict_indices % = 0.002637462007987742\n"
     ]
    },
    {
     "data": {
      "application/vnd.jupyter.widget-view+json": {
       "model_id": "893f83976a4d4a5bb921fa6a59899720",
       "version_major": 2,
       "version_minor": 0
      },
      "text/plain": [
       "  0%|          | 0/1 [00:00<?, ?it/s]"
      ]
     },
     "metadata": {},
     "output_type": "display_data"
    },
    {
     "name": "stdout",
     "output_type": "stream",
     "text": [
      "AFTER face_lookup_resolved_test\n"
     ]
    },
    {
     "data": {
      "application/vnd.jupyter.widget-view+json": {
       "model_id": "4ebe7f63cc2048a1bb8c2ae6783b0462",
       "version_major": 2,
       "version_minor": 0
      },
      "text/plain": [
       "  0%|          | 0/3 [00:00<?, ?it/s]"
      ]
     },
     "metadata": {},
     "output_type": "display_data"
    },
    {
     "name": "stdout",
     "output_type": "stream",
     "text": [
      "Decomposing first pass: 1.6003282070159912\n",
      "Attempting to use MeshAfterParty Skeletonization and Mesh Correspondence\n",
      "Another print\n",
      "Found len(mesh_large_idx) MAP candidates: [2088]\n",
      "mesh_large_connectivity: 0.00012040138244628906\n",
      "Finding MAP candidates connected components: 7.367134094238281e-05\n",
      "len(filtered_pieces) = 1\n",
      "skeleton_connectivity_MP : 0.05842995643615723\n",
      "Grouping MP Sublimbs by Graph: 0.022963523864746094\n",
      "Divinding into MP and MAP pieces: 7.152557373046875e-07\n",
      "--- Working on MAP piece 0---\n",
      "MAP Filtering Soma Pieces: 0.013967275619506836\n",
      "inside skeletonize_connected_branch and use_surface_after_CGAL=True, surface_reconstruction_size=1000\n",
      "keep_idx = [0]\n",
      "     Starting Screened Poisson\n",
      "xvfb-run -n 9726 -s \"-screen 0 800x600x24\" meshlabserver $@  -i /neurd_packages/NEURD/Applications/autoproof_neuron_pipeline/temp/None.off -o /neurd_packages/NEURD/Applications/autoproof_neuron_pipeline/temp/None_poisson.off -s /neurd_packages/NEURD/Applications/autoproof_neuron_pipeline/temp/poisson_996316.mls\n",
      "removed temporary input file: /neurd_packages/NEURD/Applications/autoproof_neuron_pipeline/temp/None.off\n",
      "removed temporary output file: /neurd_packages/NEURD/Applications/autoproof_neuron_pipeline/temp/None_poisson.off\n",
      "Using the close holes feature\n",
      "xvfb-run -n 2946 -s \"-screen 0 800x600x24\" meshlabserver $@  -i /neurd_packages/NEURD/Applications/autoproof_neuron_pipeline/temp/neuron_23775.off -o /neurd_packages/NEURD/Applications/autoproof_neuron_pipeline/temp/neuron_23775_fill_holes.off -s /neurd_packages/NEURD/Applications/autoproof_neuron_pipeline/temp/fill_holes_747137.mls\n",
      "removed temporary input file: /neurd_packages/NEURD/Applications/autoproof_neuron_pipeline/temp/neuron_23775.off\n",
      "removed temporary output file: /neurd_packages/NEURD/Applications/autoproof_neuron_pipeline/temp/neuron_23775_fill_holes.off\n",
      "/neurd_packages/NEURD/Applications/autoproof_neuron_pipeline/temp/fill_holes_747137.mls is being deleted....\n",
      "-----Time for Screened Poisson= 6.95455527305603\n",
      "mesh_pieces = [<trimesh.Trimesh(vertices.shape=(1939, 3), faces.shape=(3874, 3))>]\n",
      "     Starting Calcification (Changed back where stitches large poissons)\n",
      "Manifold status before skeletonization = True\n",
      "Watertight status before skeletonization = True\n",
      "min_edge_length = 75\n",
      "Before mesh subtraction number of skeleton edges = 69\n"
     ]
    },
    {
     "data": {
      "application/vnd.jupyter.widget-view+json": {
       "model_id": "b4739dc6462142aeb1d89e6e796cb98c",
       "version_major": 2,
       "version_minor": 0
      },
      "text/plain": [
       "0it [00:00, ?it/s]"
      ]
     },
     "metadata": {},
     "output_type": "display_data"
    },
    {
     "name": "stdout",
     "output_type": "stream",
     "text": [
      "len(leftover_meshes_sig) = []\n"
     ]
    },
    {
     "data": {
      "application/vnd.jupyter.widget-view+json": {
       "model_id": "3e5c2eed5b054d959353436abfccc5b5",
       "version_major": 2,
       "version_minor": 0
      },
      "text/plain": [
       "0it [00:00, ?it/s]"
      ]
     },
     "metadata": {},
     "output_type": "display_data"
    },
    {
     "name": "stdout",
     "output_type": "stream",
     "text": [
      "No skeletons to stack so returning empty list\n",
      "STacking the leftover and significant poisson skeleton\n",
      "max_stitch_distance = 5000\n",
      "len_subgraphs AT BEGINNING of the loop\n"
     ]
    },
    {
     "data": {
      "application/vnd.jupyter.widget-view+json": {
       "model_id": "3ea37ea79c5b4b97bef7a7f8044e889b",
       "version_major": 2,
       "version_minor": 0
      },
      "text/plain": [
       "  0%|          | 0/1 [00:00<?, ?it/s]"
      ]
     },
     "metadata": {},
     "output_type": "display_data"
    },
    {
     "name": "stdout",
     "output_type": "stream",
     "text": [
      "all graph is one component!\n",
      "Total time for skeleton stitching = 0.007390499114990234\n",
      "The process was using a temp folder\n",
      "Checking connected components after skeletonize_connected_branch\n",
      "    Total time for skeletonizing branch: 7.267145872116089\n",
      "Checking connected components after removing cycles\n",
      "Total time for mesh KDTree = 0.01732468605041504\n",
      "sbv[0].reshape(-1,3) = [[1476534.   581771.6 1109552. ]]\n",
      "closest_sk_pt_coord BEFORE = [1476750.  582508. 1109370.]\n",
      "current_skeleton.shape = (68, 2, 3)\n",
      "node_for_stitch = 0: [1476750.  582508. 1109370.]\n",
      "node_for_stitch AFTER = 0: [1476750.  582508. 1109370.]\n",
      "possible_node_loc = [ 0 68]\n",
      "possible_node_loc AFTER = [ 0 68]\n",
      "curr_shortest_path = [0]\n",
      "Current stitch point was a branch or endpoint\n",
      "change_status for create soma extending pieces = False\n",
      "closest_sk_pt_coord AFTER = [1476750.  582508. 1109370.]\n",
      "skipping soma 1 because closest skeleton node was already end node\n",
      "endpoints_must_keep = {1: array([[1476750.,  582508., 1109370.]])}\n",
      "    Total time for Fixing Skeleton Soma Endpoint Extension : 0.09125089645385742\n",
      "filter_end_node_length = 4000\n",
      "Using Distance measure skeletal_distance\n",
      "endpoints_must_keep = [[1476750.  582508. 1109370.]]\n",
      "Number of end_nodes BEFORE filtering = 2\n",
      "all_single_nodes_to_eliminate = [0]\n",
      "no small end nodes to get rid of so returning whole skeleton\n",
      "Checking connected components after clean_skeleton\n",
      "after DISTANCE cleaning limb size of skeleton = (68, 2, 3)\n",
      "********COMBINING CLOSE SKELETON NODES WITHIN 700 DISTANCE**********\n",
      "combine_threshold = 700\n",
      "Found 0 valid paths to replace\n",
      "valid_paths = []\n",
      "valid_path_lengths = []\n",
      "No valid paths found so just returning the original\n",
      "skeletonize_and_clean_connected_branch_CGAL: 7.424516439437866\n",
      "Working on limb correspondence for #0 MAP piece\n",
      "xvfb-run -n 8518 -s \"-screen 0 800x600x24\" meshlabserver $@  -i /neurd_packages/NEURD/Applications/autoproof_neuron_pipeline/temp/neuron_68586.off -o /neurd_packages/NEURD/Applications/autoproof_neuron_pipeline/temp/neuron_68586_remove_interior.off -s /neurd_packages/NEURD/Applications/autoproof_neuron_pipeline/temp/remove_interior_85588.mls\n",
      "removed temporary input file: /neurd_packages/NEURD/Applications/autoproof_neuron_pipeline/temp/neuron_68586.off\n",
      "removed temporary output file: /neurd_packages/NEURD/Applications/autoproof_neuron_pipeline/temp/neuron_68586_remove_interior.off\n",
      "/neurd_packages/NEURD/Applications/autoproof_neuron_pipeline/temp/remove_interior_85588.mls is being deleted....\n",
      "No significant (100) interior meshes present\n",
      "largest is 3\n"
     ]
    },
    {
     "data": {
      "application/vnd.jupyter.widget-view+json": {
       "model_id": "bd421730620e4a4493778336c6220cad",
       "version_major": 2,
       "version_minor": 0
      },
      "text/plain": [
       "0it [00:00, ?it/s]"
      ]
     },
     "metadata": {},
     "output_type": "display_data"
    },
    {
     "name": "stdout",
     "output_type": "stream",
     "text": [
      "Total time for decomposition = 0.8448846340179443\n",
      "mesh_correspondence_first_pass: 0.8449106216430664\n",
      "Limb decomposed into 1 branches\n",
      "divided_skeleton_graph_recovered = (68, 2, 3) and \n",
      "current_mesh_data[0]['branch_skeletons_cleaned'].shape = (68, 2, 3)\n",
      "\n",
      "Number of connected components in deocmposed recovered graph = 1\n",
      "Number of connected components in cleaned skeleton graph= 1\n",
      "The downsampled branches number of connected components = 1\n",
      "Empty submeshes = []\n",
      "\n",
      "\n",
      "--- Working on 1-to-1 correspondence-----\n",
      "max(original_labels),len(original_labels) = (0, 1)\n",
      "empty_indices % = 0.14367816091954022\n",
      " conflict_indices % = 0.0\n"
     ]
    },
    {
     "data": {
      "application/vnd.jupyter.widget-view+json": {
       "model_id": "bb8f28db4ae547d4a66c41267fe1d0de",
       "version_major": 2,
       "version_minor": 0
      },
      "text/plain": [
       "  0%|          | 0/4 [00:00<?, ?it/s]"
      ]
     },
     "metadata": {},
     "output_type": "display_data"
    },
    {
     "name": "stdout",
     "output_type": "stream",
     "text": [
      "AFTER face_lookup_resolved_test\n",
      "Took 0 iterations to expand the label back\n",
      "empty_indices % = 0.0\n",
      " conflict_indices % = 0.0\n"
     ]
    },
    {
     "data": {
      "application/vnd.jupyter.widget-view+json": {
       "model_id": "390272520f304a66bb616463b407d826",
       "version_major": 2,
       "version_minor": 0
      },
      "text/plain": [
       "0it [00:00, ?it/s]"
      ]
     },
     "metadata": {},
     "output_type": "display_data"
    },
    {
     "name": "stdout",
     "output_type": "stream",
     "text": [
      "AFTER face_lookup_resolved_test\n"
     ]
    },
    {
     "data": {
      "application/vnd.jupyter.widget-view+json": {
       "model_id": "2ec203ff4dbd4c99821aeb164ead1597",
       "version_major": 2,
       "version_minor": 0
      },
      "text/plain": [
       "  0%|          | 0/1 [00:00<?, ?it/s]"
      ]
     },
     "metadata": {},
     "output_type": "display_data"
    },
    {
     "name": "stdout",
     "output_type": "stream",
     "text": [
      "Total time for MAP sublimb #0 mesh processing = 8.421278476715088\n",
      "correspondence_1_to_1: 0.13786697387695312\n",
      "Total time for MAP sublimb processing 8.421348333358765\n",
      "---- Working on MP Decomposition #0 ----\n",
      "Computing the current soma touching verts dict manually\n",
      "MP filtering soma verts: 0.016994237899780273\n",
      "Do Not Need to Fix MP Decomposition 0 so just continuing\n",
      "Successful mesh connectivity with type edges\n",
      "\n",
      "---- Working on (0, 0) connection-----\n",
      "sk_conn = [0, 1]\n",
      "conn = [0, 1]\n",
      "winning_vertex = [1481900.72163354  586937.6302398  1100472.34094648]\n",
      "MP_branches_with_stitch_point = [0, 1]\n",
      "MAP_branches_with_stitch_point = [0]\n",
      "MAP_stitch_point_on_end_or_branch = True\n"
     ]
    },
    {
     "data": {
      "application/vnd.jupyter.widget-view+json": {
       "model_id": "b6c26b30e05d481b8c3a895547fa3876",
       "version_major": 2,
       "version_minor": 0
      },
      "text/plain": [
       "0it [00:00, ?it/s]"
      ]
     },
     "metadata": {},
     "output_type": "display_data"
    },
    {
     "name": "stdout",
     "output_type": "stream",
     "text": [
      "\n",
      "\n",
      "--- Working on 1-to-1 correspondence-----\n",
      "max(original_labels),len(original_labels) = (2, 3)\n",
      "empty_indices % = 0.2257918665695411\n",
      " conflict_indices % = 0.009118082941900479\n"
     ]
    },
    {
     "data": {
      "application/vnd.jupyter.widget-view+json": {
       "model_id": "b28209dd67a24793a3ecfb412c5e2ec6",
       "version_major": 2,
       "version_minor": 0
      },
      "text/plain": [
       "  0%|          | 0/135 [00:00<?, ?it/s]"
      ]
     },
     "metadata": {},
     "output_type": "display_data"
    },
    {
     "name": "stdout",
     "output_type": "stream",
     "text": [
      "AFTER face_lookup_resolved_test\n"
     ]
    },
    {
     "data": {
      "application/vnd.jupyter.widget-view+json": {
       "model_id": "870f8f026c114fb6824bbbfb7c370421",
       "version_major": 2,
       "version_minor": 0
      },
      "text/plain": [
       "  0%|          | 0/3 [00:00<?, ?it/s]"
      ]
     },
     "metadata": {},
     "output_type": "display_data"
    },
    {
     "name": "stdout",
     "output_type": "stream",
     "text": [
      "MP_branches_with_stitch_point= [0, 1]\n",
      "MP_branches_for_correspondence = [0 1]\n",
      "MP_leftover = [], MP_leftover_idx = []\n",
      " Finished with (0, 0) \n",
      "\n",
      "\n",
      "\n",
      "Time for decomp of Limb = 18.271728038787842\n",
      "Number of matching vertices = 14\n",
      "Only one endpoint after filtering away the endpoints that are not on the skeleton\n",
      "Using Distance measure skeletal_distance\n",
      "endpoints_must_keep = [[1476750.  582508. 1109370.]]\n",
      "Number of end_nodes BEFORE filtering = 3\n",
      "all_single_nodes_to_eliminate = [0]\n",
      "no small end nodes to get rid of so returning whole skeleton\n",
      "Removed 0 skeletal branches\n"
     ]
    },
    {
     "data": {
      "application/vnd.jupyter.widget-view+json": {
       "model_id": "9888b3cebc9f4634861e8ca21ef00b21",
       "version_major": 2,
       "version_minor": 0
      },
      "text/plain": [
       "  0%|          | 0/3 [00:00<?, ?it/s]"
      ]
     },
     "metadata": {},
     "output_type": "display_data"
    },
    {
     "name": "stdout",
     "output_type": "stream",
     "text": [
      "39810 39811\n",
      "For marked faces: None\n",
      "empty_indices % = 0.0\n",
      " conflict_indices % = 0.0\n"
     ]
    },
    {
     "data": {
      "application/vnd.jupyter.widget-view+json": {
       "model_id": "339897e853f44efeb65033c1d479db44",
       "version_major": 2,
       "version_minor": 0
      },
      "text/plain": [
       "0it [00:00, ?it/s]"
      ]
     },
     "metadata": {},
     "output_type": "display_data"
    },
    {
     "name": "stdout",
     "output_type": "stream",
     "text": [
      "AFTER face_lookup_resolved_test\n"
     ]
    },
    {
     "data": {
      "application/vnd.jupyter.widget-view+json": {
       "model_id": "179714b07e8f4c33bdf2dd2e701e582f",
       "version_major": 2,
       "version_minor": 0
      },
      "text/plain": [
       "  0%|          | 0/3 [00:00<?, ?it/s]"
      ]
     },
     "metadata": {},
     "output_type": "display_data"
    },
    {
     "name": "stdout",
     "output_type": "stream",
     "text": [
      "Successful Limb Decomposition\n",
      "\n",
      "\n",
      "----- Working on Proper Limb # 3 ---------\n",
      "meshparty_segment_size = 100\n",
      "invalidation_d = 12000\n",
      "use_adaptive_invalidation_d= False\n",
      "axon_width_preprocess_limb_max = 200\n",
      "filter_end_node_length= 4000\n",
      "filter_end_node_length_meshparty = 4000\n",
      "invalidation_d = 12000\n",
      "root_curr = [1474851.   571357.5 1113536. ]\n",
      "Time for preparing soma vertices and root: 0.0002262592315673828\n",
      "invalidation_d = 12000\n",
      "smooth_neighborhood = 1\n",
      "cc_vertex_thresh = 10\n"
     ]
    },
    {
     "name": "stderr",
     "output_type": "stream",
     "text": [
      "\r",
      "  0%|          | 0/1 [00:00<?, ?it/s]"
     ]
    },
    {
     "data": {
      "application/vnd.jupyter.widget-view+json": {
       "model_id": "7aacde8cbc404c0b994aeacaa58a404d",
       "version_major": 2,
       "version_minor": 0
      },
      "text/plain": [
       "  0%|          | 0/11304 [00:00<?, ?it/s]"
      ]
     },
     "metadata": {},
     "output_type": "display_data"
    },
    {
     "name": "stderr",
     "output_type": "stream",
     "text": [
      "100%|██████████| 1/1 [00:00<00:00, 13.92it/s]\n"
     ]
    },
    {
     "name": "stdout",
     "output_type": "stream",
     "text": [
      "meshparty_segment_size = 100\n",
      "Time for 1st pass MP skeletonization: 0.23032593727111816\n",
      "connecting at the root\n",
      "branches_touching_root = [2]\n",
      "combining close nodes\n",
      "combine_threshold = 700\n",
      "length of Graph = 1216\n",
      "After combining close endpoints max(kept_branches_idx) = 2, len(kept_branches_idx) = 3\n",
      "empty_indices % = 0.0\n",
      " conflict_indices % = 0.0026850443032310034\n"
     ]
    },
    {
     "data": {
      "application/vnd.jupyter.widget-view+json": {
       "model_id": "dc2801a8e6b141548a5169306f248a89",
       "version_major": 2,
       "version_minor": 0
      },
      "text/plain": [
       "  0%|          | 0/1 [00:00<?, ?it/s]"
      ]
     },
     "metadata": {},
     "output_type": "display_data"
    },
    {
     "name": "stdout",
     "output_type": "stream",
     "text": [
      "AFTER face_lookup_resolved_test\n"
     ]
    },
    {
     "data": {
      "application/vnd.jupyter.widget-view+json": {
       "model_id": "0a0bf746fee14f36a420300e8f7d3081",
       "version_major": 2,
       "version_minor": 0
      },
      "text/plain": [
       "  0%|          | 0/3 [00:00<?, ?it/s]"
      ]
     },
     "metadata": {},
     "output_type": "display_data"
    },
    {
     "name": "stdout",
     "output_type": "stream",
     "text": [
      "Decomposing first pass: 0.6872177124023438\n",
      "Attempting to use MeshAfterParty Skeletonization and Mesh Correspondence\n",
      "Another print\n",
      "Divinding into MP and MAP pieces: 3.719329833984375e-05\n",
      "Total time for MAP sublimb processing 2.6226043701171875e-06\n",
      "---- Working on MP Decomposition #0 ----\n",
      "Using Quicker soma_to_piece_touching_vertices because no MAP and only one sublimb_mesh piece \n",
      "MP filtering soma verts: 1.4543533325195312e-05\n",
      "Fixing Possible Soma Extension Branch for Sublimb 0\n",
      "Total time for mesh KDTree = 0.13602375984191895\n",
      "sbv[0].reshape(-1,3) = [[1474851.   571357.5 1113536. ]]\n",
      "closest_sk_pt_coord BEFORE = [1478327.0746533   571496.39513115 1112568.79431172]\n",
      "current_skeleton.shape = (816, 2, 3)\n",
      "node_for_stitch = 79: [1478327.0746533   571496.39513115 1112568.79431172]\n",
      "node_for_stitch AFTER = 79: [1478327.0746533   571496.39513115 1112568.79431172]\n",
      "possible_node_loc = [  0 816]\n",
      "possible_node_loc AFTER = [  0 816]\n",
      "curr_shortest_path = [79, 78.0, 77.0, 76.0, 75.0, 74.0, 73.0, 72.0, 71.0, 70.0, 69.0, 68.0, 67.0, 66.0, 65.0, 64.0, 63.0, 62.0, 61.0, 60.0, 59.0, 58.0, 57.0, 56.0, 55.0, 54.0, 53.0, 52.0, 51.0, 50.0, 49.0, 48.0, 47.0, 46.0, 45.0, 44.0, 43.0, 42.0, 41.0, 40.0, 39.0, 38.0, 37.0, 36.0, 35.0, 34.0, 33.0, 32.0, 31.0, 30.0, 29.0, 28.0, 27.0, 26.0, 25.0, 24.0, 23.0, 22.0, 21.0, 20.0, 19.0, 18.0, 17.0, 16.0, 15.0, 14.0, 13.0, 12.0, 11.0, 10.0, 9.0, 8.0, 7.0, 6.0, 5.0, 4.0, 3.0, 2.0, 1.0, 0]\n",
      "Current stitch point was not a branch or endpoint, shortest_path_length to one = 7899.09708045272\n",
      "change_status for create soma extending pieces = False\n",
      "closest_sk_pt_coord AFTER = [1478327.0746533   571496.39513115 1112568.79431172]\n",
      "Adding new branch to skeleton\n",
      "border_average_coordinate = [1475123.88888889  571587.50555556 1113243.55555556]\n",
      "endpoints_must_keep = {1: array([[1475123.88888889,  571587.50555556, 1113243.55555556]])}\n",
      "match_sk_branches = []\n",
      "orig_vertex = [1478327.0746533   571496.39513115 1112568.79431172]\n",
      "match_sk_branches = [2]\n"
     ]
    },
    {
     "data": {
      "application/vnd.jupyter.widget-view+json": {
       "model_id": "ded6c704c91248d39e74698b6c404a64",
       "version_major": 2,
       "version_minor": 0
      },
      "text/plain": [
       "0it [00:00, ?it/s]"
      ]
     },
     "metadata": {},
     "output_type": "display_data"
    },
    {
     "name": "stdout",
     "output_type": "stream",
     "text": [
      "\n",
      "\n",
      "--- Working on 1-to-1 correspondence-----\n",
      "max(original_labels),len(original_labels) = (2, 3)\n",
      "empty_indices % = 0.20509891167097588\n",
      " conflict_indices % = 0.0\n"
     ]
    },
    {
     "data": {
      "application/vnd.jupyter.widget-view+json": {
       "model_id": "e931d66ef8aa45608593805eb5aba670",
       "version_major": 2,
       "version_minor": 0
      },
      "text/plain": [
       "  0%|          | 0/51 [00:00<?, ?it/s]"
      ]
     },
     "metadata": {},
     "output_type": "display_data"
    },
    {
     "name": "stdout",
     "output_type": "stream",
     "text": [
      "AFTER face_lookup_resolved_test\n",
      "Took 0 iterations to expand the label back\n",
      "empty_indices % = 0.0\n",
      " conflict_indices % = 0.0\n"
     ]
    },
    {
     "data": {
      "application/vnd.jupyter.widget-view+json": {
       "model_id": "f12b2341e40740ee950111fd0d77a81e",
       "version_major": 2,
       "version_minor": 0
      },
      "text/plain": [
       "0it [00:00, ?it/s]"
      ]
     },
     "metadata": {},
     "output_type": "display_data"
    },
    {
     "name": "stdout",
     "output_type": "stream",
     "text": [
      "AFTER face_lookup_resolved_test\n"
     ]
    },
    {
     "data": {
      "application/vnd.jupyter.widget-view+json": {
       "model_id": "f6958c6766d445ddb43505e9acbd372e",
       "version_major": 2,
       "version_minor": 0
      },
      "text/plain": [
       "  0%|          | 0/3 [00:00<?, ?it/s]"
      ]
     },
     "metadata": {},
     "output_type": "display_data"
    },
    {
     "name": "stdout",
     "output_type": "stream",
     "text": [
      "curr_width_median = 87.57863521449462\n",
      "curr_width_median = 443.69871185379054\n",
      "curr_width_median = 382.3404931340948\n",
      "checked segment branches after soma add on\n",
      "MP (because soma touching verts) soma extension add: 2.6706440448760986\n",
      "There were not both MAP and MP pieces so skipping the stitch resolving phase\n",
      "Time for decomp of Limb = 3.626556396484375\n",
      "Number of matching vertices = 18\n",
      "Only one endpoint after filtering away the endpoints that are not on the skeleton\n",
      "Using Distance measure skeletal_distance\n",
      "endpoints_must_keep = [[1475123.88888889  571587.50555556 1113243.55555556]]\n",
      "Number of end_nodes BEFORE filtering = 4\n",
      "all_single_nodes_to_eliminate = [1]\n",
      "no small end nodes to get rid of so returning whole skeleton\n",
      "Removed 0 skeletal branches\n"
     ]
    },
    {
     "data": {
      "application/vnd.jupyter.widget-view+json": {
       "model_id": "826aa9531088401bb6dfb1327e6e46b8",
       "version_major": 2,
       "version_minor": 0
      },
      "text/plain": [
       "  0%|          | 0/5 [00:00<?, ?it/s]"
      ]
     },
     "metadata": {},
     "output_type": "display_data"
    },
    {
     "name": "stdout",
     "output_type": "stream",
     "text": [
      "22345 22346\n",
      "For marked faces: None\n",
      "empty_indices % = 0.0\n",
      " conflict_indices % = 0.0\n"
     ]
    },
    {
     "data": {
      "application/vnd.jupyter.widget-view+json": {
       "model_id": "c7b9b76ae68a4b6faba28981ed7e8620",
       "version_major": 2,
       "version_minor": 0
      },
      "text/plain": [
       "0it [00:00, ?it/s]"
      ]
     },
     "metadata": {},
     "output_type": "display_data"
    },
    {
     "name": "stdout",
     "output_type": "stream",
     "text": [
      "AFTER face_lookup_resolved_test\n"
     ]
    },
    {
     "data": {
      "application/vnd.jupyter.widget-view+json": {
       "model_id": "61554a31cbdd46d1bf08fea07719ac10",
       "version_major": 2,
       "version_minor": 0
      },
      "text/plain": [
       "  0%|          | 0/5 [00:00<?, ?it/s]"
      ]
     },
     "metadata": {},
     "output_type": "display_data"
    },
    {
     "name": "stdout",
     "output_type": "stream",
     "text": [
      "Successful Limb Decomposition\n",
      "\n",
      "\n",
      "----- Working on Proper Limb # 4 ---------\n",
      "meshparty_segment_size = 100\n",
      "invalidation_d = 12000\n",
      "use_adaptive_invalidation_d= False\n",
      "axon_width_preprocess_limb_max = 200\n",
      "filter_end_node_length= 4000\n",
      "filter_end_node_length_meshparty = 4000\n",
      "invalidation_d = 12000\n",
      "root_curr = [1493560.   586779.1 1105606. ]\n",
      "Time for preparing soma vertices and root: 0.0002028942108154297\n",
      "invalidation_d = 12000\n",
      "smooth_neighborhood = 1\n",
      "cc_vertex_thresh = 10\n"
     ]
    },
    {
     "name": "stderr",
     "output_type": "stream",
     "text": [
      "\r",
      "  0%|          | 0/1 [00:00<?, ?it/s]"
     ]
    },
    {
     "data": {
      "application/vnd.jupyter.widget-view+json": {
       "model_id": "20a41b3b5b164e5fa06f2e6fcf7a60c2",
       "version_major": 2,
       "version_minor": 0
      },
      "text/plain": [
       "  0%|          | 0/10788 [00:00<?, ?it/s]"
      ]
     },
     "metadata": {},
     "output_type": "display_data"
    },
    {
     "name": "stderr",
     "output_type": "stream",
     "text": [
      "100%|██████████| 1/1 [00:00<00:00, 16.06it/s]\n"
     ]
    },
    {
     "name": "stdout",
     "output_type": "stream",
     "text": [
      "meshparty_segment_size = 100\n",
      "Time for 1st pass MP skeletonization: 0.23410582542419434\n",
      "connecting at the root\n",
      "branches_touching_root = [0]\n",
      "combining close nodes\n",
      "combine_threshold = 700\n",
      "length of Graph = 741\n",
      "After combining close endpoints max(kept_branches_idx) = 0, len(kept_branches_idx) = 1\n",
      "empty_indices % = 0.0\n",
      " conflict_indices % = 0.0\n"
     ]
    },
    {
     "data": {
      "application/vnd.jupyter.widget-view+json": {
       "model_id": "215c2e71c04f4a869363acfe8acdea33",
       "version_major": 2,
       "version_minor": 0
      },
      "text/plain": [
       "0it [00:00, ?it/s]"
      ]
     },
     "metadata": {},
     "output_type": "display_data"
    },
    {
     "name": "stdout",
     "output_type": "stream",
     "text": [
      "AFTER face_lookup_resolved_test\n"
     ]
    },
    {
     "data": {
      "application/vnd.jupyter.widget-view+json": {
       "model_id": "e1f51becbad043bdb6f21e7d3985afc9",
       "version_major": 2,
       "version_minor": 0
      },
      "text/plain": [
       "  0%|          | 0/1 [00:00<?, ?it/s]"
      ]
     },
     "metadata": {},
     "output_type": "display_data"
    },
    {
     "name": "stdout",
     "output_type": "stream",
     "text": [
      "Decomposing first pass: 0.5770471096038818\n",
      "Attempting to use MeshAfterParty Skeletonization and Mesh Correspondence\n",
      "Another print\n",
      "Found len(mesh_large_idx) MAP candidates: [20742]\n",
      "mesh_large_connectivity: 0.00011754035949707031\n",
      "Finding MAP candidates connected components: 7.009506225585938e-05\n",
      "len(filtered_pieces) = 1\n",
      "skeleton_connectivity_MP : 0.0074710845947265625\n",
      "Grouping MP Sublimbs by Graph: 2.4318695068359375e-05\n",
      "Divinding into MP and MAP pieces: 4.76837158203125e-07\n",
      "--- Working on MAP piece 0---\n",
      "MAP Filtering Soma Pieces: 0.05266141891479492\n",
      "inside skeletonize_connected_branch and use_surface_after_CGAL=True, surface_reconstruction_size=1000\n",
      "keep_idx = [0]\n",
      "     Starting Screened Poisson\n",
      "xvfb-run -n 6200 -s \"-screen 0 800x600x24\" meshlabserver $@  -i /neurd_packages/NEURD/Applications/autoproof_neuron_pipeline/temp/None.off -o /neurd_packages/NEURD/Applications/autoproof_neuron_pipeline/temp/None_poisson.off -s /neurd_packages/NEURD/Applications/autoproof_neuron_pipeline/temp/poisson_23939.mls\n",
      "removed temporary input file: /neurd_packages/NEURD/Applications/autoproof_neuron_pipeline/temp/None.off\n",
      "removed temporary output file: /neurd_packages/NEURD/Applications/autoproof_neuron_pipeline/temp/None_poisson.off\n",
      "Using the close holes feature\n",
      "xvfb-run -n 3196 -s \"-screen 0 800x600x24\" meshlabserver $@  -i /neurd_packages/NEURD/Applications/autoproof_neuron_pipeline/temp/neuron_3372.off -o /neurd_packages/NEURD/Applications/autoproof_neuron_pipeline/temp/neuron_3372_fill_holes.off -s /neurd_packages/NEURD/Applications/autoproof_neuron_pipeline/temp/fill_holes_240027.mls\n",
      "removed temporary input file: /neurd_packages/NEURD/Applications/autoproof_neuron_pipeline/temp/neuron_3372.off\n",
      "removed temporary output file: /neurd_packages/NEURD/Applications/autoproof_neuron_pipeline/temp/neuron_3372_fill_holes.off\n",
      "/neurd_packages/NEURD/Applications/autoproof_neuron_pipeline/temp/fill_holes_240027.mls is being deleted....\n",
      "-----Time for Screened Poisson= 13.627372741699219\n",
      "mesh_pieces = [<trimesh.Trimesh(vertices.shape=(32479, 3), faces.shape=(64962, 3))>]\n",
      "     Starting Calcification (Changed back where stitches large poissons)\n",
      "Manifold status before skeletonization = True\n",
      "Watertight status before skeletonization = True\n",
      "min_edge_length = 75\n",
      "Before mesh subtraction number of skeleton edges = 749\n"
     ]
    },
    {
     "data": {
      "application/vnd.jupyter.widget-view+json": {
       "model_id": "2da4b4512d4842bd9f71d048718e9bfe",
       "version_major": 2,
       "version_minor": 0
      },
      "text/plain": [
       "0it [00:00, ?it/s]"
      ]
     },
     "metadata": {},
     "output_type": "display_data"
    },
    {
     "name": "stdout",
     "output_type": "stream",
     "text": [
      "len(leftover_meshes_sig) = []\n"
     ]
    },
    {
     "data": {
      "application/vnd.jupyter.widget-view+json": {
       "model_id": "8f4e7ea3db9845038f37d733af773c70",
       "version_major": 2,
       "version_minor": 0
      },
      "text/plain": [
       "0it [00:00, ?it/s]"
      ]
     },
     "metadata": {},
     "output_type": "display_data"
    },
    {
     "name": "stdout",
     "output_type": "stream",
     "text": [
      "No skeletons to stack so returning empty list\n",
      "STacking the leftover and significant poisson skeleton\n",
      "max_stitch_distance = 5000\n",
      "len_subgraphs AT BEGINNING of the loop\n"
     ]
    },
    {
     "data": {
      "application/vnd.jupyter.widget-view+json": {
       "model_id": "1a8173d800604d8d98f3fb19eeb5ff50",
       "version_major": 2,
       "version_minor": 0
      },
      "text/plain": [
       "  0%|          | 0/1 [00:00<?, ?it/s]"
      ]
     },
     "metadata": {},
     "output_type": "display_data"
    },
    {
     "name": "stdout",
     "output_type": "stream",
     "text": [
      "all graph is one component!\n",
      "Total time for skeleton stitching = 0.01796436309814453\n",
      "The process was using a temp folder\n",
      "Checking connected components after skeletonize_connected_branch\n",
      "    Total time for skeletonizing branch: 17.622913122177124\n",
      "Checking connected components after removing cycles\n",
      "Total time for mesh KDTree = 0.19265365600585938\n",
      "sbv[0].reshape(-1,3) = [[1493560.   586779.1 1105606. ]]\n",
      "closest_sk_pt_coord BEFORE = [1492680.  587102. 1106510.]\n",
      "current_skeleton.shape = (748, 2, 3)\n",
      "node_for_stitch = 195: [1492680.  587102. 1106510.]\n",
      "node_for_stitch AFTER = 195: [1492680.  587102. 1106510.]\n",
      "possible_node_loc = [  0  51 126 146 175 195 324 415 567 579 583 610 704 719 748]\n",
      "possible_node_loc AFTER = [  0  51 126 146 175 195 324 415 567 579 583 610 704 719 748]\n",
      "curr_shortest_path = [195]\n",
      "Current stitch point was a branch or endpoint\n",
      "change_status for create soma extending pieces = False\n",
      "closest_sk_pt_coord AFTER = [1492680.  587102. 1106510.]\n",
      "skipping soma 0 because closest skeleton node was already end node\n",
      "sbv[0].reshape(-1,3) = [[1474600.   582912.4 1113344. ]]\n",
      "closest_sk_pt_coord BEFORE = [1474820.  582858. 1113480.]\n",
      "current_skeleton.shape = (748, 2, 3)\n",
      "node_for_stitch = 0: [1474820.  582858. 1113480.]\n",
      "node_for_stitch AFTER = 0: [1474820.  582858. 1113480.]\n",
      "possible_node_loc = [  0  51 126 146 175 195 324 415 567 579 583 610 704 719 748]\n",
      "possible_node_loc AFTER = [  0  51 126 146 175 195 324 415 567 579 583 610 704 719 748]\n",
      "curr_shortest_path = [0]\n",
      "Current stitch point was a branch or endpoint\n",
      "change_status for create soma extending pieces = False\n",
      "closest_sk_pt_coord AFTER = [1474820.  582858. 1113480.]\n",
      "skipping soma 1 because closest skeleton node was already end node\n",
      "endpoints_must_keep = {0: array([[1492680.,  587102., 1106510.]]), 1: array([[1474820.,  582858., 1113480.]])}\n",
      "    Total time for Fixing Skeleton Soma Endpoint Extension : 0.43755197525024414\n",
      "filter_end_node_length = 4000\n",
      "Using Distance measure skeletal_distance\n",
      "endpoints_must_keep = [[1492680.  587102. 1106510.]\n",
      " [1474820.  582858. 1113480.]]\n",
      "Number of end_nodes BEFORE filtering = 15\n",
      "all_single_nodes_to_eliminate = [5, 0]\n"
     ]
    },
    {
     "data": {
      "application/vnd.jupyter.widget-view+json": {
       "model_id": "b1052292df9b43e3be7de9f55cff86f0",
       "version_major": 2,
       "version_minor": 0
      },
      "text/plain": [
       "  0%|          | 0/10 [00:00<?, ?it/s]"
      ]
     },
     "metadata": {},
     "output_type": "display_data"
    },
    {
     "name": "stdout",
     "output_type": "stream",
     "text": [
      "Checking connected components after clean_skeleton\n",
      "after DISTANCE cleaning limb size of skeleton = (691, 2, 3)\n",
      "********COMBINING CLOSE SKELETON NODES WITHIN 700 DISTANCE**********\n",
      "combine_threshold = 700\n",
      "Found 0 valid paths to replace\n",
      "valid_paths = []\n",
      "valid_path_lengths = []\n",
      "No valid paths found so just returning the original\n",
      "skeletonize_and_clean_connected_branch_CGAL: 19.045532941818237\n",
      "Working on limb correspondence for #0 MAP piece\n",
      "xvfb-run -n 5480 -s \"-screen 0 800x600x24\" meshlabserver $@  -i /neurd_packages/NEURD/Applications/autoproof_neuron_pipeline/temp/neuron_59705.off -o /neurd_packages/NEURD/Applications/autoproof_neuron_pipeline/temp/neuron_59705_remove_interior.off -s /neurd_packages/NEURD/Applications/autoproof_neuron_pipeline/temp/remove_interior_65159.mls\n",
      "removed temporary input file: /neurd_packages/NEURD/Applications/autoproof_neuron_pipeline/temp/neuron_59705.off\n",
      "removed temporary output file: /neurd_packages/NEURD/Applications/autoproof_neuron_pipeline/temp/neuron_59705_remove_interior.off\n",
      "/neurd_packages/NEURD/Applications/autoproof_neuron_pipeline/temp/remove_interior_65159.mls is being deleted....\n",
      "Removing the following inside neurons: [<trimesh.Trimesh(vertices.shape=(205, 3), faces.shape=(309, 3))>]\n"
     ]
    },
    {
     "data": {
      "application/vnd.jupyter.widget-view+json": {
       "model_id": "fd25a263a0204fb6b1a998e91a9a66da",
       "version_major": 2,
       "version_minor": 0
      },
      "text/plain": [
       "0it [00:00, ?it/s]"
      ]
     },
     "metadata": {},
     "output_type": "display_data"
    },
    {
     "name": "stdout",
     "output_type": "stream",
     "text": [
      "Total time for decomposition = 3.4577667713165283\n",
      "mesh_correspondence_first_pass: 3.4578440189361572\n",
      "Limb decomposed into 7 branches\n",
      "divided_skeleton_graph_recovered = (691, 2, 3) and \n",
      "current_mesh_data[0]['branch_skeletons_cleaned'].shape = (691, 2, 3)\n",
      "\n",
      "Number of connected components in deocmposed recovered graph = 1\n",
      "Number of connected components in cleaned skeleton graph= 1\n",
      "The downsampled branches number of connected components = 1\n",
      "Empty submeshes = []\n",
      "\n",
      "\n",
      "--- Working on 1-to-1 correspondence-----\n",
      "max(original_labels),len(original_labels) = (6, 7)\n",
      "empty_indices % = 0.1681612187831453\n",
      " conflict_indices % = 0.04078680937228811\n"
     ]
    },
    {
     "data": {
      "application/vnd.jupyter.widget-view+json": {
       "model_id": "396074e4456c46438bdcf5545d71ffcf",
       "version_major": 2,
       "version_minor": 0
      },
      "text/plain": [
       "  0%|          | 0/57 [00:00<?, ?it/s]"
      ]
     },
     "metadata": {},
     "output_type": "display_data"
    },
    {
     "name": "stdout",
     "output_type": "stream",
     "text": [
      "AFTER face_lookup_resolved_test\n",
      "Took 0 iterations to expand the label back\n",
      "empty_indices % = 0.0\n",
      " conflict_indices % = 0.0\n"
     ]
    },
    {
     "data": {
      "application/vnd.jupyter.widget-view+json": {
       "model_id": "1f909ed3373e4a139b994c6fd05db4ae",
       "version_major": 2,
       "version_minor": 0
      },
      "text/plain": [
       "0it [00:00, ?it/s]"
      ]
     },
     "metadata": {},
     "output_type": "display_data"
    },
    {
     "name": "stdout",
     "output_type": "stream",
     "text": [
      "AFTER face_lookup_resolved_test\n",
      "Took 0 iterations to expand the label back\n",
      "empty_indices % = 0.0\n",
      " conflict_indices % = 0.0\n"
     ]
    },
    {
     "data": {
      "application/vnd.jupyter.widget-view+json": {
       "model_id": "b5ada837a0634b408c12469a0babcb0f",
       "version_major": 2,
       "version_minor": 0
      },
      "text/plain": [
       "0it [00:00, ?it/s]"
      ]
     },
     "metadata": {},
     "output_type": "display_data"
    },
    {
     "name": "stdout",
     "output_type": "stream",
     "text": [
      "AFTER face_lookup_resolved_test\n"
     ]
    },
    {
     "data": {
      "application/vnd.jupyter.widget-view+json": {
       "model_id": "710bb106c97243eabc102ef031af747c",
       "version_major": 2,
       "version_minor": 0
      },
      "text/plain": [
       "  0%|          | 0/7 [00:00<?, ?it/s]"
      ]
     },
     "metadata": {},
     "output_type": "display_data"
    },
    {
     "name": "stdout",
     "output_type": "stream",
     "text": [
      "Total time for MAP sublimb #0 mesh processing = 24.43351697921753\n",
      "correspondence_1_to_1: 1.8774521350860596\n",
      "Total time for MAP sublimb processing 24.4335880279541\n",
      "There were not both MAP and MP pieces so skipping the stitch resolving phase\n",
      "Time for decomp of Limb = 25.272358179092407\n",
      "Number of matching vertices = 60\n",
      "Number of matching vertices = 13\n",
      "Only one endpoint after filtering away the endpoints that are not on the skeleton\n",
      "Only one endpoint after filtering away the endpoints that are not on the skeleton\n",
      "Using Distance measure skeletal_distance\n",
      "endpoints_must_keep = [[1474820.  582858. 1113480.]\n",
      " [1492680.  587102. 1106510.]]\n",
      "Number of end_nodes BEFORE filtering = 5\n",
      "all_single_nodes_to_eliminate = [0, 2]\n",
      "no small end nodes to get rid of so returning whole skeleton\n",
      "Removed 0 skeletal branches\n"
     ]
    },
    {
     "data": {
      "application/vnd.jupyter.widget-view+json": {
       "model_id": "561c9de218b349fea92fa639b9eea93c",
       "version_major": 2,
       "version_minor": 0
      },
      "text/plain": [
       "  0%|          | 0/7 [00:00<?, ?it/s]"
      ]
     },
     "metadata": {},
     "output_type": "display_data"
    },
    {
     "name": "stdout",
     "output_type": "stream",
     "text": [
      "20741 20742\n",
      "For marked faces: None\n",
      "empty_indices % = 0.0\n",
      " conflict_indices % = 0.0\n"
     ]
    },
    {
     "data": {
      "application/vnd.jupyter.widget-view+json": {
       "model_id": "83214c6a02104d659c97bb57752e6f2c",
       "version_major": 2,
       "version_minor": 0
      },
      "text/plain": [
       "0it [00:00, ?it/s]"
      ]
     },
     "metadata": {},
     "output_type": "display_data"
    },
    {
     "name": "stdout",
     "output_type": "stream",
     "text": [
      "AFTER face_lookup_resolved_test\n"
     ]
    },
    {
     "data": {
      "application/vnd.jupyter.widget-view+json": {
       "model_id": "37824b9642a6427fbf1fac36caa8d519",
       "version_major": 2,
       "version_minor": 0
      },
      "text/plain": [
       "  0%|          | 0/7 [00:00<?, ?it/s]"
      ]
     },
     "metadata": {},
     "output_type": "display_data"
    },
    {
     "name": "stdout",
     "output_type": "stream",
     "text": [
      "Successful Limb Decomposition\n",
      "\n",
      "\n",
      "----- Working on Proper Limb # 5 ---------\n",
      "meshparty_segment_size = 100\n",
      "invalidation_d = 12000\n",
      "use_adaptive_invalidation_d= False\n",
      "axon_width_preprocess_limb_max = 200\n",
      "filter_end_node_length= 4000\n",
      "filter_end_node_length_meshparty = 4000\n",
      "invalidation_d = 12000\n",
      "root_curr = [1486653.   594244.2 1104480. ]\n",
      "Time for preparing soma vertices and root: 0.00020241737365722656\n",
      "invalidation_d = 12000\n",
      "smooth_neighborhood = 1\n",
      "cc_vertex_thresh = 10\n"
     ]
    },
    {
     "name": "stderr",
     "output_type": "stream",
     "text": [
      "\r",
      "  0%|          | 0/1 [00:00<?, ?it/s]"
     ]
    },
    {
     "data": {
      "application/vnd.jupyter.widget-view+json": {
       "model_id": "7fafef89feff4409a0ee99e21924ba92",
       "version_major": 2,
       "version_minor": 0
      },
      "text/plain": [
       "  0%|          | 0/9843 [00:00<?, ?it/s]"
      ]
     },
     "metadata": {},
     "output_type": "display_data"
    },
    {
     "name": "stderr",
     "output_type": "stream",
     "text": [
      "100%|██████████| 1/1 [00:00<00:00, 22.25it/s]\n"
     ]
    },
    {
     "name": "stdout",
     "output_type": "stream",
     "text": [
      "meshparty_segment_size = 100\n",
      "Time for 1st pass MP skeletonization: 0.2387986183166504\n",
      "branches_touching_root = [0]\n",
      "combining close nodes\n",
      "combine_threshold = 700\n",
      "length of Graph = 818\n",
      "After combining close endpoints max(kept_branches_idx) = 0, len(kept_branches_idx) = 1\n",
      "empty_indices % = 0.0\n",
      " conflict_indices % = 0.0\n"
     ]
    },
    {
     "data": {
      "application/vnd.jupyter.widget-view+json": {
       "model_id": "3ccd9b0b3af44221b6d0479a478d8418",
       "version_major": 2,
       "version_minor": 0
      },
      "text/plain": [
       "0it [00:00, ?it/s]"
      ]
     },
     "metadata": {},
     "output_type": "display_data"
    },
    {
     "name": "stdout",
     "output_type": "stream",
     "text": [
      "AFTER face_lookup_resolved_test\n"
     ]
    },
    {
     "data": {
      "application/vnd.jupyter.widget-view+json": {
       "model_id": "34e4809e97cc4245a0f2abebdeea2b77",
       "version_major": 2,
       "version_minor": 0
      },
      "text/plain": [
       "  0%|          | 0/1 [00:00<?, ?it/s]"
      ]
     },
     "metadata": {},
     "output_type": "display_data"
    },
    {
     "name": "stdout",
     "output_type": "stream",
     "text": [
      "Decomposing first pass: 1.101233720779419\n",
      "Attempting to use MeshAfterParty Skeletonization and Mesh Correspondence\n",
      "Another print\n",
      "Divinding into MP and MAP pieces: 3.0994415283203125e-05\n",
      "Total time for MAP sublimb processing 2.6226043701171875e-06\n",
      "---- Working on MP Decomposition #0 ----\n",
      "Using Quicker soma_to_piece_touching_vertices because no MAP and only one sublimb_mesh piece \n",
      "MP filtering soma verts: 1.4543533325195312e-05\n",
      "Fixing Possible Soma Extension Branch for Sublimb 0\n",
      "Total time for mesh KDTree = 0.1416771411895752\n",
      "sbv[0].reshape(-1,3) = [[1486653.   594244.2 1104480. ]]\n",
      "closest_sk_pt_coord BEFORE = [1486547.7606223   594609.92820407 1104601.87572914]\n",
      "current_skeleton.shape = (817, 2, 3)\n",
      "node_for_stitch = 817: [1486547.7606223   594609.92820407 1104601.87572914]\n",
      "node_for_stitch AFTER = 817: [1486547.7606223   594609.92820407 1104601.87572914]\n",
      "possible_node_loc = [334 817]\n",
      "possible_node_loc AFTER = [334 817]\n",
      "curr_shortest_path = [817]\n",
      "Current stitch point was a branch or endpoint\n",
      "change_status for create soma extending pieces = False\n",
      "closest_sk_pt_coord AFTER = [1486547.7606223   594609.92820407 1104601.87572914]\n",
      "skipping soma 0 because closest skeleton node was already end node\n",
      "endpoints_must_keep = {0: array([[1486547.7606223 ,  594609.92820407, 1104601.87572914]])}\n",
      "match_sk_branches = [0]\n",
      "The new branch info was none so skipping \n",
      "\n",
      "No soma extending branch was added for this sublimb even though it had a soma border (means they already existed)\n",
      "MP (because soma touching verts) soma extension add: 0.28110647201538086\n",
      "There were not both MAP and MP pieces so skipping the stitch resolving phase\n",
      "Time for decomp of Limb = 1.6413989067077637\n",
      "Number of matching vertices = 27\n",
      "Only one endpoint after filtering away the endpoints that are not on the skeleton\n",
      "Using Distance measure skeletal_distance\n",
      "endpoints_must_keep = [[1486547.7606223   594609.92820407 1104601.87572914]]\n",
      "Number of end_nodes BEFORE filtering = 2\n",
      "all_single_nodes_to_eliminate = [1]\n",
      "no small end nodes to get rid of so returning whole skeleton\n",
      "Removed 0 skeletal branches\n"
     ]
    },
    {
     "data": {
      "application/vnd.jupyter.widget-view+json": {
       "model_id": "8f81b5b24a5f4ade886d41479233c65b",
       "version_major": 2,
       "version_minor": 0
      },
      "text/plain": [
       "  0%|          | 0/1 [00:00<?, ?it/s]"
      ]
     },
     "metadata": {},
     "output_type": "display_data"
    },
    {
     "name": "stdout",
     "output_type": "stream",
     "text": [
      "19361 19362\n",
      "For marked faces: None\n",
      "empty_indices % = 0.0\n",
      " conflict_indices % = 0.0\n"
     ]
    },
    {
     "data": {
      "application/vnd.jupyter.widget-view+json": {
       "model_id": "3a09852ef3c2456bbbdde44a0f57a7bb",
       "version_major": 2,
       "version_minor": 0
      },
      "text/plain": [
       "0it [00:00, ?it/s]"
      ]
     },
     "metadata": {},
     "output_type": "display_data"
    },
    {
     "name": "stdout",
     "output_type": "stream",
     "text": [
      "AFTER face_lookup_resolved_test\n"
     ]
    },
    {
     "data": {
      "application/vnd.jupyter.widget-view+json": {
       "model_id": "27fd129bfb884668bda638fac42c4317",
       "version_major": 2,
       "version_minor": 0
      },
      "text/plain": [
       "  0%|          | 0/1 [00:00<?, ?it/s]"
      ]
     },
     "metadata": {},
     "output_type": "display_data"
    },
    {
     "name": "stdout",
     "output_type": "stream",
     "text": [
      "Successful Limb Decomposition\n",
      "\n",
      "\n",
      "----- Working on Proper Limb # 6 ---------\n",
      "meshparty_segment_size = 100\n",
      "invalidation_d = 12000\n",
      "use_adaptive_invalidation_d= False\n",
      "axon_width_preprocess_limb_max = 200\n",
      "filter_end_node_length= 4000\n",
      "filter_end_node_length_meshparty = 4000\n",
      "invalidation_d = 12000\n",
      "root_curr = [1491272.  582425. 1102199.]\n",
      "Time for preparing soma vertices and root: 0.0002665519714355469\n",
      "invalidation_d = 12000\n",
      "smooth_neighborhood = 1\n",
      "cc_vertex_thresh = 10\n"
     ]
    },
    {
     "name": "stderr",
     "output_type": "stream",
     "text": [
      "\r",
      "  0%|          | 0/1 [00:00<?, ?it/s]"
     ]
    },
    {
     "data": {
      "application/vnd.jupyter.widget-view+json": {
       "model_id": "9aff771c42b54f7da0818e48cf893b08",
       "version_major": 2,
       "version_minor": 0
      },
      "text/plain": [
       "  0%|          | 0/7350 [00:00<?, ?it/s]"
      ]
     },
     "metadata": {},
     "output_type": "display_data"
    },
    {
     "name": "stderr",
     "output_type": "stream",
     "text": [
      "\r",
      "100%|██████████| 1/1 [00:00<00:00, 22.06it/s]"
     ]
    },
    {
     "name": "stdout",
     "output_type": "stream",
     "text": [
      "meshparty_segment_size = 100\n",
      "Time for 1st pass MP skeletonization: 0.1790907382965088\n",
      "connecting at the root\n",
      "branches_touching_root = [0]\n"
     ]
    },
    {
     "name": "stderr",
     "output_type": "stream",
     "text": [
      "\n"
     ]
    },
    {
     "name": "stdout",
     "output_type": "stream",
     "text": [
      "combining close nodes\n",
      "combine_threshold = 700\n",
      "length of Graph = 734\n",
      "After combining close endpoints max(kept_branches_idx) = 0, len(kept_branches_idx) = 1\n",
      "empty_indices % = 0.0\n",
      " conflict_indices % = 0.0\n"
     ]
    },
    {
     "data": {
      "application/vnd.jupyter.widget-view+json": {
       "model_id": "898b0f674e4e419d81819435f962a7b2",
       "version_major": 2,
       "version_minor": 0
      },
      "text/plain": [
       "0it [00:00, ?it/s]"
      ]
     },
     "metadata": {},
     "output_type": "display_data"
    },
    {
     "name": "stdout",
     "output_type": "stream",
     "text": [
      "AFTER face_lookup_resolved_test\n"
     ]
    },
    {
     "data": {
      "application/vnd.jupyter.widget-view+json": {
       "model_id": "9424c5cf5d7c4998a1ca1d4a428b9208",
       "version_major": 2,
       "version_minor": 0
      },
      "text/plain": [
       "  0%|          | 0/1 [00:00<?, ?it/s]"
      ]
     },
     "metadata": {},
     "output_type": "display_data"
    },
    {
     "name": "stdout",
     "output_type": "stream",
     "text": [
      "Decomposing first pass: 0.4427499771118164\n",
      "Attempting to use MeshAfterParty Skeletonization and Mesh Correspondence\n",
      "Another print\n",
      "Divinding into MP and MAP pieces: 5.412101745605469e-05\n",
      "Total time for MAP sublimb processing 3.814697265625e-06\n",
      "---- Working on MP Decomposition #0 ----\n",
      "Using Quicker soma_to_piece_touching_vertices because no MAP and only one sublimb_mesh piece \n",
      "MP filtering soma verts: 2.2411346435546875e-05\n",
      "Fixing Possible Soma Extension Branch for Sublimb 0\n",
      "Total time for mesh KDTree = 0.5008847713470459\n",
      "sbv[0].reshape(-1,3) = [[1491272.  582425. 1102199.]]\n",
      "closest_sk_pt_coord BEFORE = [1491378.93502276  582020.70946596 1101822.28585048]\n",
      "current_skeleton.shape = (733, 2, 3)\n",
      "node_for_stitch = 1: [1491378.93502276  582020.70946596 1101822.28585048]\n",
      "node_for_stitch AFTER = 1: [1491378.93502276  582020.70946596 1101822.28585048]\n",
      "possible_node_loc = [  0 708]\n",
      "possible_node_loc AFTER = [  0 708]\n",
      "curr_shortest_path = [1, 0.0]\n",
      "Current stitch point was not a branch or endpoint, shortest_path_length to one = 99.99677776977433\n",
      "Changing the stitch point becasue the distance to end or branch node was 99.99677776977433\n",
      "New stitch point has degree 1\n",
      "change_status for create soma extending pieces = True\n",
      "closest_sk_pt_coord AFTER = [1491350.10222965  582056.70210586 1101733.55842811]\n",
      "skipping soma 0 because closest skeleton node was already end node\n",
      "endpoints_must_keep = {0: array([[1491350.10222965,  582056.70210586, 1101733.55842811]])}\n",
      "match_sk_branches = [0]\n",
      "The new branch info was none so skipping \n",
      "\n",
      "No soma extending branch was added for this sublimb even though it had a soma border (means they already existed)\n",
      "MP (because soma touching verts) soma extension add: 0.6587350368499756\n",
      "There were not both MAP and MP pieces so skipping the stitch resolving phase\n",
      "Time for decomp of Limb = 1.3197674751281738\n",
      "Number of matching vertices = 9\n",
      "Only one endpoint after filtering away the endpoints that are not on the skeleton\n",
      "Using Distance measure skeletal_distance\n",
      "endpoints_must_keep = [[1491350.10222965  582056.70210586 1101733.55842811]]\n",
      "Number of end_nodes BEFORE filtering = 2\n",
      "all_single_nodes_to_eliminate = [0]\n",
      "no small end nodes to get rid of so returning whole skeleton\n",
      "Removed 0 skeletal branches\n"
     ]
    },
    {
     "data": {
      "application/vnd.jupyter.widget-view+json": {
       "model_id": "2ea7aa9cf01944cf85ff39ff234452ac",
       "version_major": 2,
       "version_minor": 0
      },
      "text/plain": [
       "  0%|          | 0/1 [00:00<?, ?it/s]"
      ]
     },
     "metadata": {},
     "output_type": "display_data"
    },
    {
     "name": "stdout",
     "output_type": "stream",
     "text": [
      "14575 14576\n",
      "For marked faces: None\n",
      "empty_indices % = 0.0\n",
      " conflict_indices % = 0.0\n"
     ]
    },
    {
     "data": {
      "application/vnd.jupyter.widget-view+json": {
       "model_id": "d481f902eaec4e2a83193b92f06b1116",
       "version_major": 2,
       "version_minor": 0
      },
      "text/plain": [
       "0it [00:00, ?it/s]"
      ]
     },
     "metadata": {},
     "output_type": "display_data"
    },
    {
     "name": "stdout",
     "output_type": "stream",
     "text": [
      "AFTER face_lookup_resolved_test\n"
     ]
    },
    {
     "data": {
      "application/vnd.jupyter.widget-view+json": {
       "model_id": "8bef43f08783498c99a8fc0a01c1c248",
       "version_major": 2,
       "version_minor": 0
      },
      "text/plain": [
       "  0%|          | 0/1 [00:00<?, ?it/s]"
      ]
     },
     "metadata": {},
     "output_type": "display_data"
    },
    {
     "name": "stdout",
     "output_type": "stream",
     "text": [
      "Successful Limb Decomposition\n",
      "\n",
      "\n",
      "----- Working on Proper Limb # 7 ---------\n",
      "meshparty_segment_size = 100\n",
      "invalidation_d = 12000\n",
      "use_adaptive_invalidation_d= False\n",
      "axon_width_preprocess_limb_max = 200\n",
      "filter_end_node_length= 4000\n",
      "filter_end_node_length_meshparty = 4000\n",
      "invalidation_d = 12000\n",
      "root_curr = [1468936.   574693.8 1112623. ]\n",
      "Time for preparing soma vertices and root: 0.00032591819763183594\n",
      "invalidation_d = 12000\n",
      "smooth_neighborhood = 1\n",
      "cc_vertex_thresh = 10\n"
     ]
    },
    {
     "name": "stderr",
     "output_type": "stream",
     "text": [
      "\r",
      "  0%|          | 0/1 [00:00<?, ?it/s]"
     ]
    },
    {
     "data": {
      "application/vnd.jupyter.widget-view+json": {
       "model_id": "dc94814da009458d98272c2ae463617d",
       "version_major": 2,
       "version_minor": 0
      },
      "text/plain": [
       "  0%|          | 0/2055 [00:00<?, ?it/s]"
      ]
     },
     "metadata": {},
     "output_type": "display_data"
    },
    {
     "name": "stderr",
     "output_type": "stream",
     "text": [
      "\r",
      "100%|██████████| 1/1 [00:00<00:00, 48.01it/s]"
     ]
    },
    {
     "name": "stdout",
     "output_type": "stream",
     "text": [
      "meshparty_segment_size = 100\n",
      "Time for 1st pass MP skeletonization: 0.1259171962738037\n",
      "connecting at the root\n",
      "branches_touching_root = [0]\n",
      "combining close nodes\n",
      "combine_threshold = 700\n"
     ]
    },
    {
     "name": "stderr",
     "output_type": "stream",
     "text": [
      "\n"
     ]
    },
    {
     "name": "stdout",
     "output_type": "stream",
     "text": [
      "length of Graph = 117\n",
      "After combining close endpoints max(kept_branches_idx) = 0, len(kept_branches_idx) = 1\n",
      "empty_indices % = 0.0\n",
      " conflict_indices % = 0.0\n"
     ]
    },
    {
     "data": {
      "application/vnd.jupyter.widget-view+json": {
       "model_id": "bd20dfc5606e4b96a5d867bd9670628f",
       "version_major": 2,
       "version_minor": 0
      },
      "text/plain": [
       "0it [00:00, ?it/s]"
      ]
     },
     "metadata": {},
     "output_type": "display_data"
    },
    {
     "name": "stdout",
     "output_type": "stream",
     "text": [
      "AFTER face_lookup_resolved_test\n"
     ]
    },
    {
     "data": {
      "application/vnd.jupyter.widget-view+json": {
       "model_id": "1eace16bff8a4300a49e4324cab8b90a",
       "version_major": 2,
       "version_minor": 0
      },
      "text/plain": [
       "  0%|          | 0/1 [00:00<?, ?it/s]"
      ]
     },
     "metadata": {},
     "output_type": "display_data"
    },
    {
     "name": "stdout",
     "output_type": "stream",
     "text": [
      "Decomposing first pass: 0.31569719314575195\n",
      "Attempting to use MeshAfterParty Skeletonization and Mesh Correspondence\n",
      "Another print\n",
      "Found len(mesh_large_idx) MAP candidates: [3349]\n",
      "mesh_large_connectivity: 0.0002319812774658203\n",
      "Finding MAP candidates connected components: 0.00010609626770019531\n",
      "len(filtered_pieces) = 1\n",
      "skeleton_connectivity_MP : 0.0034897327423095703\n",
      "Grouping MP Sublimbs by Graph: 4.1484832763671875e-05\n",
      "Divinding into MP and MAP pieces: 1.430511474609375e-06\n",
      "--- Working on MAP piece 0---\n",
      "MAP Filtering Soma Pieces: 0.02191948890686035\n",
      "inside skeletonize_connected_branch and use_surface_after_CGAL=True, surface_reconstruction_size=1000\n",
      "keep_idx = [0]\n",
      "     Starting Screened Poisson\n",
      "xvfb-run -n 7148 -s \"-screen 0 800x600x24\" meshlabserver $@  -i /neurd_packages/NEURD/Applications/autoproof_neuron_pipeline/temp/None.off -o /neurd_packages/NEURD/Applications/autoproof_neuron_pipeline/temp/None_poisson.off -s /neurd_packages/NEURD/Applications/autoproof_neuron_pipeline/temp/poisson_204665.mls\n",
      "removed temporary input file: /neurd_packages/NEURD/Applications/autoproof_neuron_pipeline/temp/None.off\n",
      "removed temporary output file: /neurd_packages/NEURD/Applications/autoproof_neuron_pipeline/temp/None_poisson.off\n",
      "Using the close holes feature\n",
      "xvfb-run -n 2317 -s \"-screen 0 800x600x24\" meshlabserver $@  -i /neurd_packages/NEURD/Applications/autoproof_neuron_pipeline/temp/neuron_70117.off -o /neurd_packages/NEURD/Applications/autoproof_neuron_pipeline/temp/neuron_70117_fill_holes.off -s /neurd_packages/NEURD/Applications/autoproof_neuron_pipeline/temp/fill_holes_728062.mls\n",
      "removed temporary input file: /neurd_packages/NEURD/Applications/autoproof_neuron_pipeline/temp/neuron_70117.off\n",
      "removed temporary output file: /neurd_packages/NEURD/Applications/autoproof_neuron_pipeline/temp/neuron_70117_fill_holes.off\n",
      "/neurd_packages/NEURD/Applications/autoproof_neuron_pipeline/temp/fill_holes_728062.mls is being deleted....\n",
      "-----Time for Screened Poisson= 9.524061441421509\n",
      "mesh_pieces = [<trimesh.Trimesh(vertices.shape=(13498, 3), faces.shape=(26992, 3))>]\n",
      "     Starting Calcification (Changed back where stitches large poissons)\n",
      "Manifold status before skeletonization = True\n",
      "Watertight status before skeletonization = True\n",
      "min_edge_length = 75\n",
      "**** Warning: There were redundant edges in the skeleton*****\n",
      "Removing the cycles made the skeleton of 0 size so returning old skeleton\n",
      "Before mesh subtraction number of skeleton edges = 3\n",
      "**** Warning: There were redundant edges in the skeleton*****\n",
      "sk_graph_clean.degree = dict_items([])\n"
     ]
    },
    {
     "data": {
      "image/png": "[encoded data removed]",
      "text/plain": [
       "<Figure size 640x480 with 1 Axes>"
      ]
     },
     "metadata": {},
     "output_type": "display_data"
    },
    {
     "data": {
      "application/vnd.jupyter.widget-view+json": {
       "model_id": "42d78368e4114917bbdf58cfa44671ba",
       "version_major": 2,
       "version_minor": 0
      },
      "text/plain": [
       "0it [00:00, ?it/s]"
      ]
     },
     "metadata": {},
     "output_type": "display_data"
    },
    {
     "name": "stdout",
     "output_type": "stream",
     "text": [
      "len(leftover_meshes_sig) = [<trimesh.Trimesh(vertices.shape=(2056, 3), faces.shape=(3349, 3))>]\n"
     ]
    },
    {
     "data": {
      "application/vnd.jupyter.widget-view+json": {
       "model_id": "9069dc1383cd4d14936c334080239e50",
       "version_major": 2,
       "version_minor": 0
      },
      "text/plain": [
       "  0%|          | 0/1 [00:00<?, ?it/s]"
      ]
     },
     "metadata": {},
     "output_type": "display_data"
    },
    {
     "name": "stdout",
     "output_type": "stream",
     "text": [
      "invalidation_d = 12000\n",
      "smooth_neighborhood = 1\n",
      "cc_vertex_thresh = 10\n"
     ]
    },
    {
     "name": "stderr",
     "output_type": "stream",
     "text": [
      "\n",
      "  0%|          | 0/1 [00:00<?, ?it/s]\u001b[A"
     ]
    },
    {
     "data": {
      "application/vnd.jupyter.widget-view+json": {
       "model_id": "f0407741653b42b2b219dc1048a92180",
       "version_major": 2,
       "version_minor": 0
      },
      "text/plain": [
       "  0%|          | 0/2055 [00:00<?, ?it/s]"
      ]
     },
     "metadata": {},
     "output_type": "display_data"
    },
    {
     "name": "stderr",
     "output_type": "stream",
     "text": [
      "\r",
      "100%|██████████| 1/1 [00:00<00:00, 60.34it/s]"
     ]
    },
    {
     "name": "stdout",
     "output_type": "stream",
     "text": [
      "Time for sk_meshparty_obj = 0.056257009506225586\n",
      "branches_touching_root = [0]\n",
      "combining close nodes\n",
      "combine_threshold = 700\n",
      "length of Graph = 117\n",
      "After combining close endpoints max(kept_branches_idx) = 0, len(kept_branches_idx) = 1\n",
      "empty_indices % = 0.0\n",
      " conflict_indices % = 0.0\n"
     ]
    },
    {
     "name": "stderr",
     "output_type": "stream",
     "text": [
      "\n"
     ]
    },
    {
     "data": {
      "application/vnd.jupyter.widget-view+json": {
       "model_id": "295841b6935d4c0da5176e0ab7f1c44a",
       "version_major": 2,
       "version_minor": 0
      },
      "text/plain": [
       "0it [00:00, ?it/s]"
      ]
     },
     "metadata": {},
     "output_type": "display_data"
    },
    {
     "name": "stdout",
     "output_type": "stream",
     "text": [
      "AFTER face_lookup_resolved_test\n"
     ]
    },
    {
     "data": {
      "application/vnd.jupyter.widget-view+json": {
       "model_id": "8fcdb8d3e16443589d0a1dae747bcf47",
       "version_major": 2,
       "version_minor": 0
      },
      "text/plain": [
       "  0%|          | 0/1 [00:00<?, ?it/s]"
      ]
     },
     "metadata": {},
     "output_type": "display_data"
    },
    {
     "name": "stdout",
     "output_type": "stream",
     "text": [
      "widths = [6273.16175543]\n",
      "width_median= 6273.161755431171\n",
      "Time for correspondence = 0.1607987880706787\n",
      "STacking the leftover and significant poisson skeleton\n",
      "max_stitch_distance = 5000\n",
      "len_subgraphs AT BEGINNING of the loop\n"
     ]
    },
    {
     "data": {
      "application/vnd.jupyter.widget-view+json": {
       "model_id": "6f4a07a0735649e2a344e2a7b03766f0",
       "version_major": 2,
       "version_minor": 0
      },
      "text/plain": [
       "  0%|          | 0/2 [00:00<?, ?it/s]"
      ]
     },
     "metadata": {},
     "output_type": "display_data"
    },
    {
     "name": "stdout",
     "output_type": "stream",
     "text": [
      "all graph is one component!\n",
      "Total time for skeleton stitching = 0.02961421012878418\n",
      "The process was using a temp folder\n",
      "Checking connected components after skeletonize_connected_branch\n",
      "    Total time for skeletonizing branch: 11.867382049560547\n",
      "Checking connected components after removing cycles\n",
      "Total time for mesh KDTree = 0.043881893157958984\n",
      "sbv[0].reshape(-1,3) = [[1468936.   574693.8 1112623. ]]\n",
      "closest_sk_pt_coord BEFORE = [1467110.60911576  578567.92374513 1112556.22084362]\n",
      "current_skeleton.shape = (118, 2, 3)\n",
      "node_for_stitch = 3: [1467110.60911576  578567.92374513 1112556.22084362]\n",
      "node_for_stitch AFTER = 3: [1467110.60911576  578567.92374513 1112556.22084362]\n",
      "possible_node_loc = [  0 106 117]\n",
      "possible_node_loc AFTER = [  0 106 117]\n",
      "curr_shortest_path = [3, 1.0, 2.0, 4.0, 0]\n",
      "Current stitch point was not a branch or endpoint, shortest_path_length to one = 1355.0746115010047\n",
      "Changing the stitch point becasue the distance to end or branch node was 1355.0746115010047\n",
      "New stitch point has degree 1\n",
      "change_status for create soma extending pieces = True\n",
      "closest_sk_pt_coord AFTER = [1466300.  578903. 1113230.]\n",
      "skipping soma 1 because closest skeleton node was already end node\n",
      "endpoints_must_keep = {1: array([[1466300.,  578903., 1113230.]])}\n",
      "    Total time for Fixing Skeleton Soma Endpoint Extension : 0.13672447204589844\n",
      "filter_end_node_length = 4000\n",
      "Using Distance measure skeletal_distance\n",
      "endpoints_must_keep = [[1466300.  578903. 1113230.]]\n",
      "Number of end_nodes BEFORE filtering = 3\n",
      "all_single_nodes_to_eliminate = [0]\n",
      "no small end nodes to get rid of so returning whole skeleton\n",
      "Checking connected components after clean_skeleton\n",
      "after DISTANCE cleaning limb size of skeleton = (117, 2, 3)\n",
      "********COMBINING CLOSE SKELETON NODES WITHIN 700 DISTANCE**********\n",
      "combine_threshold = 700\n",
      "Found 0 valid paths to replace\n",
      "valid_paths = []\n",
      "valid_path_lengths = []\n",
      "No valid paths found so just returning the original\n",
      "skeletonize_and_clean_connected_branch_CGAL: 12.078952550888062\n",
      "Working on limb correspondence for #0 MAP piece\n",
      "xvfb-run -n 6385 -s \"-screen 0 800x600x24\" meshlabserver $@  -i /neurd_packages/NEURD/Applications/autoproof_neuron_pipeline/temp/neuron_1600.off -o /neurd_packages/NEURD/Applications/autoproof_neuron_pipeline/temp/neuron_1600_remove_interior.off -s /neurd_packages/NEURD/Applications/autoproof_neuron_pipeline/temp/remove_interior_933048.mls\n",
      "removed temporary input file: /neurd_packages/NEURD/Applications/autoproof_neuron_pipeline/temp/neuron_1600.off\n",
      "removed temporary output file: /neurd_packages/NEURD/Applications/autoproof_neuron_pipeline/temp/neuron_1600_remove_interior.off\n",
      "/neurd_packages/NEURD/Applications/autoproof_neuron_pipeline/temp/remove_interior_933048.mls is being deleted....\n",
      "No significant (100) interior meshes present\n",
      "largest is 3\n"
     ]
    },
    {
     "data": {
      "application/vnd.jupyter.widget-view+json": {
       "model_id": "dd04e188e064490dad5d0d3b682ec86c",
       "version_major": 2,
       "version_minor": 0
      },
      "text/plain": [
       "0it [00:00, ?it/s]"
      ]
     },
     "metadata": {},
     "output_type": "display_data"
    },
    {
     "name": "stdout",
     "output_type": "stream",
     "text": [
      "Total time for decomposition = 0.9753425121307373\n",
      "mesh_correspondence_first_pass: 0.9753704071044922\n",
      "Limb decomposed into 3 branches\n",
      "divided_skeleton_graph_recovered = (117, 2, 3) and \n",
      "current_mesh_data[0]['branch_skeletons_cleaned'].shape = (117, 2, 3)\n",
      "\n",
      "Number of connected components in deocmposed recovered graph = 1\n",
      "Number of connected components in cleaned skeleton graph= 1\n",
      "The downsampled branches number of connected components = 1\n",
      "Empty submeshes = []\n",
      "\n",
      "\n",
      "--- Working on 1-to-1 correspondence-----\n",
      "max(original_labels),len(original_labels) = (2, 3)\n",
      "empty_indices % = 0.3350253807106599\n",
      " conflict_indices % = 0.1439235592714243\n"
     ]
    },
    {
     "data": {
      "application/vnd.jupyter.widget-view+json": {
       "model_id": "ee72149eaec447fb8c4fc65cc9021849",
       "version_major": 2,
       "version_minor": 0
      },
      "text/plain": [
       "  0%|          | 0/4 [00:00<?, ?it/s]"
      ]
     },
     "metadata": {},
     "output_type": "display_data"
    },
    {
     "name": "stdout",
     "output_type": "stream",
     "text": [
      "AFTER face_lookup_resolved_test\n",
      "Took 0 iterations to expand the label back\n",
      "empty_indices % = 0.0\n",
      " conflict_indices % = 0.0\n"
     ]
    },
    {
     "data": {
      "application/vnd.jupyter.widget-view+json": {
       "model_id": "7d66aeffb50d43a09c4505bc3920bdf4",
       "version_major": 2,
       "version_minor": 0
      },
      "text/plain": [
       "0it [00:00, ?it/s]"
      ]
     },
     "metadata": {},
     "output_type": "display_data"
    },
    {
     "name": "stdout",
     "output_type": "stream",
     "text": [
      "AFTER face_lookup_resolved_test\n"
     ]
    },
    {
     "data": {
      "application/vnd.jupyter.widget-view+json": {
       "model_id": "58dfbd17851e4d24881aae795ad8bd9c",
       "version_major": 2,
       "version_minor": 0
      },
      "text/plain": [
       "  0%|          | 0/3 [00:00<?, ?it/s]"
      ]
     },
     "metadata": {},
     "output_type": "display_data"
    },
    {
     "name": "stdout",
     "output_type": "stream",
     "text": [
      "Total time for MAP sublimb #0 mesh processing = 13.36754298210144\n",
      "correspondence_1_to_1: 0.29129958152770996\n",
      "Total time for MAP sublimb processing 13.367627620697021\n",
      "There were not both MAP and MP pieces so skipping the stitch resolving phase\n",
      "Time for decomp of Limb = 13.818224668502808\n",
      "Number of matching vertices = 90\n",
      "Only one endpoint after filtering away the endpoints that are not on the skeleton\n",
      "Using Distance measure skeletal_distance\n",
      "endpoints_must_keep = [[1466300.  578903. 1113230.]]\n",
      "Number of end_nodes BEFORE filtering = 3\n",
      "all_single_nodes_to_eliminate = [0]\n",
      "no small end nodes to get rid of so returning whole skeleton\n",
      "Removed 0 skeletal branches\n"
     ]
    },
    {
     "data": {
      "application/vnd.jupyter.widget-view+json": {
       "model_id": "8ba7223f911146f5875e912f55761274",
       "version_major": 2,
       "version_minor": 0
      },
      "text/plain": [
       "  0%|          | 0/3 [00:00<?, ?it/s]"
      ]
     },
     "metadata": {},
     "output_type": "display_data"
    },
    {
     "name": "stdout",
     "output_type": "stream",
     "text": [
      "3348 3349\n",
      "For marked faces: None\n",
      "empty_indices % = 0.0\n",
      " conflict_indices % = 0.0\n"
     ]
    },
    {
     "data": {
      "application/vnd.jupyter.widget-view+json": {
       "model_id": "a5cbc840b5b2432c805e8aca09290fcd",
       "version_major": 2,
       "version_minor": 0
      },
      "text/plain": [
       "0it [00:00, ?it/s]"
      ]
     },
     "metadata": {},
     "output_type": "display_data"
    },
    {
     "name": "stdout",
     "output_type": "stream",
     "text": [
      "AFTER face_lookup_resolved_test\n"
     ]
    },
    {
     "data": {
      "application/vnd.jupyter.widget-view+json": {
       "model_id": "b8948f5e18b64f4a84783c20180a6de2",
       "version_major": 2,
       "version_minor": 0
      },
      "text/plain": [
       "  0%|          | 0/3 [00:00<?, ?it/s]"
      ]
     },
     "metadata": {},
     "output_type": "display_data"
    },
    {
     "name": "stdout",
     "output_type": "stream",
     "text": [
      "Successful Limb Decomposition\n",
      "Total time for Skeletonization and Mesh Correspondence = 110.18011736869812\n",
      "\n",
      "\n",
      " ----- Working on Stitching ----------\n",
      "Inside attach_floating_pieces_to_limb_correspondence\n",
      "Starting the floating pieces preprocessing\n",
      "Floating 0: <trimesh.Trimesh(vertices.shape=(113, 3), faces.shape=(176, 3))>\n",
      "invalidation_d = 12000\n",
      "use_adaptive_invalidation_d= True\n",
      "axon_width_preprocess_limb_max = 200\n",
      "filter_end_node_length= 4000\n",
      "filter_end_node_length_meshparty = 1000\n",
      "invalidation_d = 12000\n",
      "root_curr = None\n",
      "Time for preparing soma vertices and root: 4.76837158203125e-06\n",
      "invalidation_d = 12000\n",
      "smooth_neighborhood = 1\n",
      "cc_vertex_thresh = 10\n"
     ]
    },
    {
     "name": "stderr",
     "output_type": "stream",
     "text": [
      "\r",
      "  0%|          | 0/1 [00:00<?, ?it/s]"
     ]
    },
    {
     "data": {
      "application/vnd.jupyter.widget-view+json": {
       "model_id": "ca24b6fbbabf442ab2be35e73dc96c6c",
       "version_major": 2,
       "version_minor": 0
      },
      "text/plain": [
       "  0%|          | 0/112 [00:00<?, ?it/s]"
      ]
     },
     "metadata": {},
     "output_type": "display_data"
    },
    {
     "name": "stderr",
     "output_type": "stream",
     "text": [
      "\r",
      "100%|██████████| 1/1 [00:00<00:00, 83.27it/s]"
     ]
    },
    {
     "name": "stdout",
     "output_type": "stream",
     "text": [
      "meshparty_segment_size = 100\n",
      "Time for 1st pass MP skeletonization: 0.029356002807617188\n",
      "branches_touching_root = [0]\n",
      "combining close nodes\n",
      "combine_threshold = 700\n",
      "length of Graph = 11\n",
      "After combining close endpoints max(kept_branches_idx) = 0, len(kept_branches_idx) = 1\n",
      "empty_indices % = 0.0\n",
      " conflict_indices % = 0.0\n"
     ]
    },
    {
     "name": "stderr",
     "output_type": "stream",
     "text": [
      "\n"
     ]
    },
    {
     "data": {
      "application/vnd.jupyter.widget-view+json": {
       "model_id": "96a191ddd42444248fa2b0f2c1b70185",
       "version_major": 2,
       "version_minor": 0
      },
      "text/plain": [
       "0it [00:00, ?it/s]"
      ]
     },
     "metadata": {},
     "output_type": "display_data"
    },
    {
     "name": "stdout",
     "output_type": "stream",
     "text": [
      "AFTER face_lookup_resolved_test\n"
     ]
    },
    {
     "data": {
      "application/vnd.jupyter.widget-view+json": {
       "model_id": "faaf7ee50db443dcafa5ebd11359068f",
       "version_major": 2,
       "version_minor": 0
      },
      "text/plain": [
       "  0%|          | 0/1 [00:00<?, ?it/s]"
      ]
     },
     "metadata": {},
     "output_type": "display_data"
    },
    {
     "name": "stdout",
     "output_type": "stream",
     "text": [
      "widths = [400.71835841]\n",
      "width_median= 400.7183584072228\n",
      "segment_widths_median = [400.71835841]\n",
      "Decomposing first pass: 0.04000735282897949\n",
      "Attempting to use MeshAfterParty Skeletonization and Mesh Correspondence\n",
      "Another print\n",
      "Divinding into MP and MAP pieces: 3.409385681152344e-05\n",
      "Total time for MAP sublimb processing 3.337860107421875e-06\n",
      "---- Working on MP Decomposition #0 ----\n",
      "Using Quicker soma_to_piece_touching_vertices because no MAP and only one sublimb_mesh piece \n",
      "MP filtering soma verts: 2.4318695068359375e-05\n",
      "Do Not Need to Fix MP Decomposition 0 so just continuing\n",
      "There were not both MAP and MP pieces so skipping the stitch resolving phase\n",
      "Time for decomp of Limb = 0.07069993019104004\n",
      "Using Distance measure skeletal_distance\n"
     ]
    },
    {
     "data": {
      "application/vnd.jupyter.widget-view+json": {
       "model_id": "89ca55a237df4f3da0b5059d9260c61a",
       "version_major": 2,
       "version_minor": 0
      },
      "text/plain": [
       "  0%|          | 0/2 [00:00<?, ?it/s]"
      ]
     },
     "metadata": {},
     "output_type": "display_data"
    },
    {
     "name": "stdout",
     "output_type": "stream",
     "text": [
      "Removed 2 skeletal branches\n",
      "There were no branches after cleaning limb correspondence\n"
     ]
    },
    {
     "data": {
      "application/vnd.jupyter.widget-view+json": {
       "model_id": "fcc0c5d57f4045a99de7544c19e7b538",
       "version_major": 2,
       "version_minor": 0
      },
      "text/plain": [
       "Container(figure=Figure(box_center=[0.5, 0.5, 0.5], box_size=[1.0, 1.0, 1.0], camera=PerspectiveCamera(fov=45.…"
      ]
     },
     "metadata": {},
     "output_type": "display_data"
    },
    {
     "name": "stdout",
     "output_type": "stream",
     "text": [
      "--> time = 0.12217926979064941\n",
      "Floating 1: <trimesh.Trimesh(vertices.shape=(75, 3), faces.shape=(140, 3))>\n",
      "invalidation_d = 12000\n",
      "use_adaptive_invalidation_d= True\n",
      "axon_width_preprocess_limb_max = 200\n",
      "filter_end_node_length= 4000\n",
      "filter_end_node_length_meshparty = 1000\n",
      "invalidation_d = 12000\n",
      "root_curr = None\n",
      "Time for preparing soma vertices and root: 4.5299530029296875e-06\n",
      "invalidation_d = 12000\n",
      "smooth_neighborhood = 1\n",
      "cc_vertex_thresh = 10\n"
     ]
    },
    {
     "name": "stderr",
     "output_type": "stream",
     "text": [
      "\r",
      "  0%|          | 0/1 [00:00<?, ?it/s]"
     ]
    },
    {
     "data": {
      "application/vnd.jupyter.widget-view+json": {
       "model_id": "e4b88b9704584734a59106f2e280f87c",
       "version_major": 2,
       "version_minor": 0
      },
      "text/plain": [
       "  0%|          | 0/74 [00:00<?, ?it/s]"
      ]
     },
     "metadata": {},
     "output_type": "display_data"
    },
    {
     "name": "stderr",
     "output_type": "stream",
     "text": [
      "\r",
      "100%|██████████| 1/1 [00:00<00:00, 76.08it/s]"
     ]
    },
    {
     "name": "stdout",
     "output_type": "stream",
     "text": [
      "meshparty_segment_size = 100\n",
      "Time for 1st pass MP skeletonization: 0.026894330978393555\n",
      "branches_touching_root = [0]\n",
      "combining close nodes\n",
      "combine_threshold = 700\n",
      "length of Graph = 24\n",
      "After combining close endpoints max(kept_branches_idx) = 0, len(kept_branches_idx) = 1\n",
      "empty_indices % = 0.0\n",
      " conflict_indices % = 0.0\n"
     ]
    },
    {
     "name": "stderr",
     "output_type": "stream",
     "text": [
      "\n"
     ]
    },
    {
     "data": {
      "application/vnd.jupyter.widget-view+json": {
       "model_id": "170c9afa2986419aaa34fa6b68adf3ec",
       "version_major": 2,
       "version_minor": 0
      },
      "text/plain": [
       "0it [00:00, ?it/s]"
      ]
     },
     "metadata": {},
     "output_type": "display_data"
    },
    {
     "name": "stdout",
     "output_type": "stream",
     "text": [
      "AFTER face_lookup_resolved_test\n"
     ]
    },
    {
     "data": {
      "application/vnd.jupyter.widget-view+json": {
       "model_id": "c59f4be975f04cf5a5ac3ff0f6af4fb5",
       "version_major": 2,
       "version_minor": 0
      },
      "text/plain": [
       "  0%|          | 0/1 [00:00<?, ?it/s]"
      ]
     },
     "metadata": {},
     "output_type": "display_data"
    },
    {
     "name": "stdout",
     "output_type": "stream",
     "text": [
      "widths = [160.00241781]\n",
      "width_median= 160.00241781081257\n",
      "segment_widths_median = [160.00241781]\n",
      "Using the axon parameters\n",
      "invalidation_d = 1500\n",
      "smooth_neighborhood = 0\n",
      "cc_vertex_thresh = 10\n"
     ]
    },
    {
     "name": "stderr",
     "output_type": "stream",
     "text": [
      "\r",
      "  0%|          | 0/1 [00:00<?, ?it/s]"
     ]
    },
    {
     "data": {
      "application/vnd.jupyter.widget-view+json": {
       "model_id": "418a23c39acd4667818becd42f094cfa",
       "version_major": 2,
       "version_minor": 0
      },
      "text/plain": [
       "  0%|          | 0/74 [00:00<?, ?it/s]"
      ]
     },
     "metadata": {},
     "output_type": "display_data"
    },
    {
     "name": "stderr",
     "output_type": "stream",
     "text": [
      "100%|██████████| 1/1 [00:00<00:00, 75.52it/s]\n"
     ]
    },
    {
     "name": "stdout",
     "output_type": "stream",
     "text": [
      "meshparty_segment_size = 100\n",
      "Time for 1st pass MP skeletonization: 0.06361579895019531\n",
      "branches_touching_root = [0]\n",
      "combining close nodes\n",
      "combine_threshold = 1300\n",
      "length of Graph = 34\n",
      "After combining close endpoints max(kept_branches_idx) = 0, len(kept_branches_idx) = 1\n",
      "empty_indices % = 0.0\n",
      " conflict_indices % = 0.0\n"
     ]
    },
    {
     "data": {
      "application/vnd.jupyter.widget-view+json": {
       "model_id": "73f53e6bec374108a7441db280dbf822",
       "version_major": 2,
       "version_minor": 0
      },
      "text/plain": [
       "0it [00:00, ?it/s]"
      ]
     },
     "metadata": {},
     "output_type": "display_data"
    },
    {
     "name": "stdout",
     "output_type": "stream",
     "text": [
      "AFTER face_lookup_resolved_test\n"
     ]
    },
    {
     "data": {
      "application/vnd.jupyter.widget-view+json": {
       "model_id": "598d7913978248de922e1010e5920172",
       "version_major": 2,
       "version_minor": 0
      },
      "text/plain": [
       "  0%|          | 0/1 [00:00<?, ?it/s]"
      ]
     },
     "metadata": {},
     "output_type": "display_data"
    },
    {
     "name": "stdout",
     "output_type": "stream",
     "text": [
      "widths = [160.057286]\n",
      "width_median= 160.0572859965776\n",
      "segment_widths_median = [160.057286]\n",
      "Using the axon parameters\n",
      "Decomposing first pass: 0.0383298397064209\n",
      "Attempting to use MeshAfterParty Skeletonization and Mesh Correspondence\n",
      "Another print\n",
      "Divinding into MP and MAP pieces: 2.2411346435546875e-05\n",
      "Total time for MAP sublimb processing 2.6226043701171875e-06\n",
      "---- Working on MP Decomposition #0 ----\n",
      "Using Quicker soma_to_piece_touching_vertices because no MAP and only one sublimb_mesh piece \n",
      "MP filtering soma verts: 1.7881393432617188e-05\n",
      "Do Not Need to Fix MP Decomposition 0 so just continuing\n",
      "There were not both MAP and MP pieces so skipping the stitch resolving phase\n",
      "Time for decomp of Limb = 0.1336650848388672\n",
      "Using Distance measure skeletal_distance\n",
      "no small end nodes to get rid of so returning whole skeleton\n",
      "Removed 0 skeletal branches\n"
     ]
    },
    {
     "data": {
      "application/vnd.jupyter.widget-view+json": {
       "model_id": "45502010dfe049da9929545692d9f502",
       "version_major": 2,
       "version_minor": 0
      },
      "text/plain": [
       "  0%|          | 0/1 [00:00<?, ?it/s]"
      ]
     },
     "metadata": {},
     "output_type": "display_data"
    },
    {
     "name": "stdout",
     "output_type": "stream",
     "text": [
      "139 140\n",
      "For marked faces: None\n",
      "empty_indices % = 0.0\n",
      " conflict_indices % = 0.0\n"
     ]
    },
    {
     "data": {
      "application/vnd.jupyter.widget-view+json": {
       "model_id": "daf322ba374e49d3bb300547940b2588",
       "version_major": 2,
       "version_minor": 0
      },
      "text/plain": [
       "0it [00:00, ?it/s]"
      ]
     },
     "metadata": {},
     "output_type": "display_data"
    },
    {
     "name": "stdout",
     "output_type": "stream",
     "text": [
      "AFTER face_lookup_resolved_test\n"
     ]
    },
    {
     "data": {
      "application/vnd.jupyter.widget-view+json": {
       "model_id": "291ab19cfa5f4b238a1c793fca6c2ab2",
       "version_major": 2,
       "version_minor": 0
      },
      "text/plain": [
       "  0%|          | 0/1 [00:00<?, ?it/s]"
      ]
     },
     "metadata": {},
     "output_type": "display_data"
    },
    {
     "data": {
      "application/vnd.jupyter.widget-view+json": {
       "model_id": "c9d8c8aad2de4fce9c665dda415273ea",
       "version_major": 2,
       "version_minor": 0
      },
      "text/plain": [
       "Container(figure=Figure(box_center=[0.5, 0.5, 0.5], box_size=[1.0, 1.0, 1.0], camera=PerspectiveCamera(fov=45.…"
      ]
     },
     "metadata": {},
     "output_type": "display_data"
    },
    {
     "name": "stdout",
     "output_type": "stream",
     "text": [
      "--> time = 0.22437477111816406\n",
      "winning_float = 1\n",
      "winning_float_match_main_limb = 1\n",
      "winning_float_dist = 149.5869181909169\n",
      "main_limb_stitch_point = [1454928.38848372  617422.14351492 1109437.08084759]\n",
      "floating_limb_stitch_point = [1455057.   617365.2 1109488. ]\n",
      "node_for_stitch = 1795: [1454928.38848372  617422.14351492 1109437.08084759]\n",
      "node_for_stitch AFTER = 1795: [1454928.38848372  617422.14351492 1109437.08084759]\n",
      "possible_node_loc = [   0  136  440  586 1094 1284 1353 1466 2499 3964 4341 4358 5744 5814\n",
      " 5965  577  688 1089 1114 1389 1640 1693 2508 2844 4194 5319]\n",
      "possible_node_loc AFTER = [   0  136  440  577  586  688 1089 1094 1114 1284 1353 1389 1466 1640\n",
      " 1693 2499 2508 2844 3964 4194 4358 5319 5744 5814 5965]\n",
      "curr_shortest_path = [1795, 1784.0, 1773.0, 1761.0, 1750.0, 1733.0, 1716.0, 1702.0, 1687.0, 1678.0, 1671.0, 1664.0, 1656.0, 1649.0, 1641.0, 1636.0, 1632.0, 1627.0, 1623.0, 1596.0, 1576.0, 1566.0, 1556.0, 1548.0, 1540.0, 1530.0, 1523.0, 1515.0, 1507.0, 1499.0, 1491.0, 1484.0, 1475.0, 1466]\n",
      "Current stitch point was not a branch or endpoint, shortest_path_length to one = 3299.9361676877575\n",
      "Changing the stitch point becasue the distance to end or branch node was 3299.9361676877575\n",
      "New stitch point has degree 1\n",
      "Status of Main limb stitch point moved = True\n",
      "\n",
      "\n",
      "\n",
      "match_sk_branches = [13]\n",
      "match_float_branches = [0]\n",
      "stitch_point_on_end_or_branch = True\n",
      "winning_float = 0\n",
      "winning_float_match_main_limb = 1\n",
      "winning_float_dist = 654.4563409276969\n",
      "main_limb_stitch_point = [1465639.47749826  643515.05932515 1076757.45951826]\n",
      "floating_limb_stitch_point = [1465562.61335848  644156.79891018 1076860.29585036]\n",
      "node_for_stitch = 2533: [1465639.47749826  643515.05932515 1076757.45951826]\n",
      "node_for_stitch AFTER = 2533: [1465639.47749826  643515.05932515 1076757.45951826]\n",
      "possible_node_loc = [   0  136  440  586 1094 1284 1353 2144 2533 3998 4375 4392 5778 5848\n",
      " 5999  577  688 1089 1114 1389 1640 1693 2542 2878 4228 5353]\n",
      "possible_node_loc AFTER = [   0  136  440  577  586  688 1089 1094 1114 1284 1353 1389 1640 1693\n",
      " 2144 2533 2542 2878 3998 4228 4392 5353 5778 5848 5999]\n",
      "curr_shortest_path = [2533]\n",
      "Current stitch point was a branch or endpoint\n",
      "Status of Main limb stitch point moved = False\n",
      "\n",
      "\n",
      "\n",
      "match_sk_branches = [16]\n",
      "match_float_branches = [0]\n",
      "stitch_point_on_end_or_branch = True\n",
      "Total time for stitching floating pieces = 3.483849048614502\n",
      "Total time for Concept Networks = 2.382664442062378\n",
      "Total time for all mesh and skeletonization decomp = 116.04730987548828\n",
      "No soma volume ratios so computing them now\n",
      "Using Poisson Surface Reconstruction for watertightness in soma_volume_ratio\n",
      "xvfb-run -n 1862 -s \"-screen 0 800x600x24\" meshlabserver $@  -i /neurd_packages/NEURD/Applications/autoproof_neuron_pipeline/Poisson_temp/neuron_756475.off -o /neurd_packages/NEURD/Applications/autoproof_neuron_pipeline/Poisson_temp/neuron_756475_poisson.off -s /neurd_packages/NEURD/Applications/autoproof_neuron_pipeline/Poisson_temp/poisson_793756.mls\n",
      "removed temporary input file: /neurd_packages/NEURD/Applications/autoproof_neuron_pipeline/Poisson_temp/neuron_756475.off\n",
      "removed temporary output file: /neurd_packages/NEURD/Applications/autoproof_neuron_pipeline/Poisson_temp/neuron_756475_poisson.off\n",
      "mesh.is_watertight = True\n",
      "/neurd_packages/NEURD/Applications/autoproof_neuron_pipeline/Poisson_temp/poisson_793756.mls is being deleted....\n",
      "Using Poisson Surface Reconstruction for watertightness in soma_volume_ratio\n",
      "xvfb-run -n 7182 -s \"-screen 0 800x600x24\" meshlabserver $@  -i /neurd_packages/NEURD/Applications/autoproof_neuron_pipeline/Poisson_temp/neuron_699546.off -o /neurd_packages/NEURD/Applications/autoproof_neuron_pipeline/Poisson_temp/neuron_699546_poisson.off -s /neurd_packages/NEURD/Applications/autoproof_neuron_pipeline/Poisson_temp/poisson_125442.mls\n",
      "removed temporary input file: /neurd_packages/NEURD/Applications/autoproof_neuron_pipeline/Poisson_temp/neuron_699546.off\n",
      "removed temporary output file: /neurd_packages/NEURD/Applications/autoproof_neuron_pipeline/Poisson_temp/neuron_699546_poisson.off\n",
      "mesh.is_watertight = False\n",
      "/neurd_packages/NEURD/Applications/autoproof_neuron_pipeline/Poisson_temp/poisson_125442.mls is being deleted....\n",
      "--- 1) Finished unpacking preprocessed materials: 140.31917810440063\n",
      "total_edges = [['S0', 'L0'], ['S0', 'L1'], ['S0', 'L4'], ['S0', 'L5'], ['S0', 'L6'], ['S1', 'L2'], ['S1', 'L3'], ['S1', 'L4'], ['S1', 'L7']]\n",
      "--- 2) Finished creating neuron connectivity graph: 0.0002334117889404297\n",
      "Having to generate soma_meshes_face_idx because none in preprocessed data\n",
      "--- 3a) Finshed generating soma_meshes_face_idx: 0.08872199058532715\n",
      "Using precomputed volume ratio\n",
      "--- 3b) Finished soma creation: 9.857625484466553\n",
      "Using precomputed volume ratio\n",
      "--- 3b) Finished soma creation: 8.021047353744507\n",
      "--- 3) Finshed generating soma objects and adding them to concept graph: 0.00017189979553222656\n",
      "--- 4a) Finshed generating curr_limb_meshes_face_idx: 0.33410096168518066\n",
      "curr_limb_concept_networks= {0: [<python_tools.networkx_utils.GraphOrderedEdges object at 0x7fc6f04e3820>]}\n",
      "curr_limb_concept_networks= {0: [<python_tools.networkx_utils.GraphOrderedEdges object at 0x7fc6f08c5610>]}\n",
      "curr_limb_concept_networks= {1: [<python_tools.networkx_utils.GraphOrderedEdges object at 0x7fc6f04891f0>]}\n",
      "curr_limb_concept_networks= {1: [<python_tools.networkx_utils.GraphOrderedEdges object at 0x7fc64326b1f0>]}\n",
      "curr_limb_concept_networks= {0: [<python_tools.networkx_utils.GraphOrderedEdges object at 0x7fc6f0872340>], 1: [<python_tools.networkx_utils.GraphOrderedEdges object at 0x7fc6f08726d0>]}\n",
      "curr_limb_concept_networks= {0: [<python_tools.networkx_utils.GraphOrderedEdges object at 0x7fc6f09c83d0>]}\n",
      "curr_limb_concept_networks= {0: [<python_tools.networkx_utils.GraphOrderedEdges object at 0x7fc6f09c8d90>]}\n",
      "curr_limb_concept_networks= {1: [<python_tools.networkx_utils.GraphOrderedEdges object at 0x7fc6f0872d60>]}\n",
      "--- 4) Finshed generating Limb objects and adding them to concept graph: 1.7226574420928955\n",
      "--- 5) SKIPPING Doing the adaptive mesh correspondence on the meshparty preprocessing ---\n",
      "--- 6) SKIPPING Using the computed_attribute_dict to populate neuron attributes ---\n",
      "self.n_limbs = 8\n",
      "7) Calculating the spines for the neuorn if do not already exist\n",
      "7a) calculating spines because didn't exist\n",
      "query = median_mesh_center > 115 and n_faces_branch>100\n",
      "The median_mesh_center was requested but has not already been calculated so calculating now.... \n",
      "width_name BEFORE processing = None\n",
      "After processing\n",
      "width_name = median_mesh_center, distance_by_mesh_center= True, no_spines = False, summary_measure= median\n",
      "Working on limb L0 branch 6\n",
      "    current_width= 586.7644191749422\n",
      "Working on limb L0 branch 3\n",
      "    current_width= 437.49401039383656\n",
      "Working on limb L0 branch 7\n",
      "    current_width= 368.99402526275117\n",
      "Working on limb L0 branch 0\n",
      "    current_width= 308.20840659465966\n",
      "Working on limb L0 branch 1\n",
      "    current_width= 379.16248459812937\n",
      "Working on limb L0 branch 2\n",
      "    current_width= 285.4542937461846\n",
      "Working on limb L0 branch 4\n",
      "    current_width= 331.5606261403119\n",
      "Working on limb L0 branch 8\n",
      "    current_width= 309.59023977471134\n",
      "Working on limb L0 branch 5\n",
      "    current_width= 301.7107761870066\n",
      "Working on limb L0 branch 9\n",
      "    current_width= 442.9367920247651\n",
      "Working on limb L1 branch 17\n",
      "    current_width= 186.74385817318597\n",
      "Working on limb L1 branch 15\n",
      "    current_width= 81.06732888550147\n",
      "Working on limb L1 branch 16\n",
      "    current_width= 180.79969247866023\n",
      "Working on limb L1 branch 18\n",
      "    current_width= 83.6230371949197\n",
      "Working on limb L1 branch 4\n",
      "    current_width= 68.8950709122904\n",
      "Working on limb L1 branch 14\n",
      "    current_width= 115.66167744492599\n",
      "Working on limb L1 branch 26\n",
      "    current_width= 166.88235794997527\n",
      "Working on limb L1 branch 19\n",
      "    current_width= 74.74432487535276\n",
      "Working on limb L1 branch 20\n",
      "    current_width= 78.90931853911839\n",
      "Working on limb L1 branch 12\n",
      "    current_width= 105.83550536685497\n",
      "Working on limb L1 branch 13\n",
      "    current_width= 103.46347406090041\n",
      "Working on limb L1 branch 21\n",
      "    current_width= 89.35632620500378\n",
      "Working on limb L1 branch 22\n",
      "    current_width= 85.25609472650788\n",
      "Working on limb L1 branch 9\n",
      "    current_width= 98.92447488922338\n",
      "Working on limb L1 branch 10\n",
      "    current_width= 142.38192558775356\n",
      "Working on limb L1 branch 11\n",
      "    current_width= 93.61085880218833\n",
      "Working on limb L1 branch 25\n",
      "    current_width= 66.4711702516618\n",
      "Working on limb L1 branch 1\n"
     ]
    },
    {
     "name": "stdout",
     "output_type": "stream",
     "text": [
      "    current_width= 111.9796517426644\n",
      "Working on limb L1 branch 3\n",
      "    current_width= 95.32640663158229\n",
      "Working on limb L1 branch 7\n",
      "    current_width= 98.83860043143284\n",
      "Working on limb L1 branch 8\n",
      "    current_width= 131.75016231242103\n",
      "Working on limb L1 branch 5\n",
      "    current_width= 126.81287846359538\n",
      "Working on limb L1 branch 6\n",
      "    current_width= 108.30020672887802\n",
      "Working on limb L1 branch 0\n",
      "    current_width= 97.68811695225403\n",
      "Working on limb L1 branch 2\n",
      "    current_width= 124.05424098811216\n",
      "Working on limb L1 branch 23\n",
      "    current_width= 87.93425564048837\n",
      "Working on limb L1 branch 24\n",
      "    current_width= 82.4982383186942\n",
      "Working on limb L4 branch 2\n",
      "    current_width= 972.1627754063986\n",
      "Working on limb L4 branch 0\n",
      "    current_width= 433.15837216708974\n",
      "Working on limb L4 branch 3\n",
      "    current_width= 696.4540376980359\n",
      "Working on limb L4 branch 1\n",
      "    current_width= 291.2072778113148\n",
      "Working on limb L4 branch 4\n",
      "    current_width= 507.9948344655454\n",
      "Working on limb L4 branch 5\n",
      "    current_width= 436.63501741098753\n",
      "Working on limb L4 branch 6\n",
      "    current_width= 329.06258887396655\n",
      "Working on limb L5 branch 0\n",
      "    current_width= 447.09174488055413\n",
      "Working on limb L6 branch 0\n",
      "    current_width= 343.94895170316283\n",
      "Working on limb L2 branch 0\n",
      "    current_width= 383.61004706994277\n",
      "Working on limb L2 branch 1\n",
      "    current_width= 333.0918033006105\n",
      "Working on limb L2 branch 2\n",
      "    current_width= 364.02650102088313\n",
      "Working on limb L3 branch 1\n",
      "    current_width= 341.6228226856097\n",
      "Working on limb L3 branch 0\n",
      "    current_width= 96.25067340356648\n",
      "Working on limb L3 branch 2\n",
      "    current_width= 389.77078871406786\n",
      "Working on limb L3 branch 3\n",
      "    current_width= 69.00572062527482\n",
      "Working on limb L3 branch 4\n",
      "    current_width= 368.5289855187065\n",
      "Working on limb L7 branch 0\n",
      "    current_width= 1516.6016122085905\n",
      "Working on limb L7 branch 1\n",
      "    current_width= 406.70225373105905\n",
      "Working on limb L7 branch 2\n",
      "    current_width= 469.67112074612635\n",
      "MAX ITERATIONS initially 500\n",
      "AREA VARIATION initially 0.0001\n",
      "medial centered initially 1\n",
      "medially_centered_speed_tradeoff initially 0.2\n",
      "quality_speed_tradeoff initially 0.1\n",
      "max_triangle_angle initially 1.91986\n",
      "min_edge_length initially 65.8053\n",
      "setting the edge length by absolute length\n",
      "min_edge_length AFTER = 75\n",
      "max_triangle_angle AFTER = 1.91986\n",
      "quality_speed_tradeoff AFTER = 0.2\n",
      "set_medially_centered_speed_tradeoff AFTER = 0.2\n",
      "medial centered AFTER 1\n",
      "AREA VARIATION AFTER 0.0001\n",
      "MAX ITERATIONS AFTER 500\n",
      "medial centered END 1\n",
      "set_medially_centered_speed_tradeoff END = 0.2\n",
      "quality_speed_tradeoff END = 0.2\n",
      "Max iterations END = 500\n",
      "AREA VARIATION END 0.0001\n",
      "Number of vertices of the skeleton: 300\n",
      "Number of edges of the skeleton: 299\n",
      "MAX ITERATIONS initially 500\n",
      "AREA VARIATION initially 0.0001\n",
      "medial centered initially 1\n",
      "medially_centered_speed_tradeoff initially 0.2\n",
      "quality_speed_tradeoff initially 0.1\n",
      "max_triangle_angle initially 1.91986\n",
      "min_edge_length initially 25.9206\n",
      "setting the edge length by absolute length\n",
      "min_edge_length AFTER = 75\n",
      "max_triangle_angle AFTER = 1.91986\n",
      "quality_speed_tradeoff AFTER = 0.2\n",
      "set_medially_centered_speed_tradeoff AFTER = 0.2\n",
      "medial centered AFTER 1\n",
      "AREA VARIATION AFTER 0.0001\n",
      "MAX ITERATIONS AFTER 500\n",
      "medial centered END 1\n",
      "set_medially_centered_speed_tradeoff END = 0.2\n",
      "quality_speed_tradeoff END = 0.2\n",
      "Max iterations END = 500\n",
      "AREA VARIATION END 0.0001\n",
      "Number of vertices of the skeleton: 69\n",
      "Number of edges of the skeleton: 68\n",
      "MAX ITERATIONS initially 500\n",
      "AREA VARIATION initially 0.0001\n",
      "medial centered initially 1\n",
      "medially_centered_speed_tradeoff initially 0.2\n",
      "quality_speed_tradeoff initially 0.1\n",
      "max_triangle_angle initially 1.91986\n",
      "min_edge_length initially 130.059\n",
      "setting the edge length by absolute length\n",
      "min_edge_length AFTER = 75\n",
      "max_triangle_angle AFTER = 1.91986\n",
      "quality_speed_tradeoff AFTER = 0.2\n",
      "set_medially_centered_speed_tradeoff AFTER = 0.2\n",
      "medial centered AFTER 1\n",
      "AREA VARIATION AFTER 0.0001\n",
      "MAX ITERATIONS AFTER 500\n",
      "medial centered END 1\n",
      "set_medially_centered_speed_tradeoff END = 0.2\n",
      "quality_speed_tradeoff END = 0.2\n",
      "Max iterations END = 500\n",
      "AREA VARIATION END 0.0001\n",
      "Number of vertices of the skeleton: 749\n",
      "Number of edges of the skeleton: 748\n",
      "MAX ITERATIONS initially 500\n",
      "AREA VARIATION initially 0.0001\n",
      "medial centered initially 1\n",
      "medially_centered_speed_tradeoff initially 0.2\n",
      "quality_speed_tradeoff initially 0.1\n",
      "max_triangle_angle initially 1.91986\n",
      "min_edge_length initially 36.8922\n",
      "setting the edge length by absolute length\n",
      "min_edge_length AFTER = 75\n",
      "max_triangle_angle AFTER = 1.91986\n",
      "quality_speed_tradeoff AFTER = 0.2\n",
      "set_medially_centered_speed_tradeoff AFTER = 0.2\n",
      "medial centered AFTER 1\n",
      "AREA VARIATION AFTER 0.0001\n",
      "MAX ITERATIONS AFTER 500\n",
      "medial centered END 1\n",
      "set_medially_centered_speed_tradeoff END = 0.2\n",
      "quality_speed_tradeoff END = 0.2\n",
      "Max iterations END = 500\n",
      "AREA VARIATION END 0.0001\n",
      "Number of vertices of the skeleton: 3\n",
      "Number of edges of the skeleton: 2\n",
      "\n",
      "Number of segments: 85\n",
      "\n"
     ]
    },
    {
     "data": {
      "application/vnd.jupyter.widget-view+json": {
       "model_id": "ace391ea145d4b4295ddad9cbbe85ae2",
       "version_major": 2,
       "version_minor": 0
      },
      "text/plain": [
       "  0%|          | 0/85 [00:00<?, ?it/s]"
      ]
     },
     "metadata": {},
     "output_type": "display_data"
    },
    {
     "data": {
      "application/vnd.jupyter.widget-view+json": {
       "model_id": "0cc03ecb6c324a56972395197d5734d7",
       "version_major": 2,
       "version_minor": 0
      },
      "text/plain": [
       "  0%|          | 0/85 [00:00<?, ?it/s]"
      ]
     },
     "metadata": {},
     "output_type": "display_data"
    },
    {
     "name": "stdout",
     "output_type": "stream",
     "text": [
      "Filtering away by face and skeletal length\n",
      "\n",
      "Number of segments: 103\n",
      "\n"
     ]
    },
    {
     "data": {
      "application/vnd.jupyter.widget-view+json": {
       "model_id": "6971c6db8cb04a268c13f4c7ea368ece",
       "version_major": 2,
       "version_minor": 0
      },
      "text/plain": [
       "  0%|          | 0/103 [00:00<?, ?it/s]"
      ]
     },
     "metadata": {},
     "output_type": "display_data"
    },
    {
     "data": {
      "application/vnd.jupyter.widget-view+json": {
       "model_id": "37805cd43e9148428c2d735c3774cd8c",
       "version_major": 2,
       "version_minor": 0
      },
      "text/plain": [
       "  0%|          | 0/103 [00:00<?, ?it/s]"
      ]
     },
     "metadata": {},
     "output_type": "display_data"
    },
    {
     "name": "stdout",
     "output_type": "stream",
     "text": [
      "Filtering away by face and skeletal length\n",
      "\n",
      "Number of segments: 28\n",
      "\n"
     ]
    },
    {
     "data": {
      "application/vnd.jupyter.widget-view+json": {
       "model_id": "763622b258ca4d919129b1c61133e4b1",
       "version_major": 2,
       "version_minor": 0
      },
      "text/plain": [
       "  0%|          | 0/28 [00:00<?, ?it/s]"
      ]
     },
     "metadata": {},
     "output_type": "display_data"
    },
    {
     "data": {
      "application/vnd.jupyter.widget-view+json": {
       "model_id": "158d5fa518cc45c4a17cb35dcef54c09",
       "version_major": 2,
       "version_minor": 0
      },
      "text/plain": [
       "  0%|          | 0/28 [00:00<?, ?it/s]"
      ]
     },
     "metadata": {},
     "output_type": "display_data"
    },
    {
     "name": "stdout",
     "output_type": "stream",
     "text": [
      "Filtering away by face and skeletal length\n",
      "\n",
      "Number of segments: 23\n",
      "\n"
     ]
    },
    {
     "data": {
      "application/vnd.jupyter.widget-view+json": {
       "model_id": "6c35afd099b24a3890e17dccf8a0d76d",
       "version_major": 2,
       "version_minor": 0
      },
      "text/plain": [
       "  0%|          | 0/23 [00:00<?, ?it/s]"
      ]
     },
     "metadata": {},
     "output_type": "display_data"
    },
    {
     "data": {
      "application/vnd.jupyter.widget-view+json": {
       "model_id": "aaba4960e9084ba0b619c0e1e903e445",
       "version_major": 2,
       "version_minor": 0
      },
      "text/plain": [
       "  0%|          | 0/23 [00:00<?, ?it/s]"
      ]
     },
     "metadata": {},
     "output_type": "display_data"
    },
    {
     "name": "stdout",
     "output_type": "stream",
     "text": [
      "Filtering away by face and skeletal length\n",
      "\n",
      "Number of segments: 93\n",
      "\n"
     ]
    },
    {
     "data": {
      "application/vnd.jupyter.widget-view+json": {
       "model_id": "1b833665bfbb47758cddb46208874acb",
       "version_major": 2,
       "version_minor": 0
      },
      "text/plain": [
       "  0%|          | 0/93 [00:00<?, ?it/s]"
      ]
     },
     "metadata": {},
     "output_type": "display_data"
    },
    {
     "data": {
      "application/vnd.jupyter.widget-view+json": {
       "model_id": "d891498fc7764244b7cc0f0319527de0",
       "version_major": 2,
       "version_minor": 0
      },
      "text/plain": [
       "  0%|          | 0/93 [00:00<?, ?it/s]"
      ]
     },
     "metadata": {},
     "output_type": "display_data"
    },
    {
     "name": "stdout",
     "output_type": "stream",
     "text": [
      "Filtering away by face and skeletal length\n",
      "\n",
      "Number of segments: 81\n",
      "\n"
     ]
    },
    {
     "data": {
      "application/vnd.jupyter.widget-view+json": {
       "model_id": "a760e477fa8b46e1a9131ef4980ffc5e",
       "version_major": 2,
       "version_minor": 0
      },
      "text/plain": [
       "  0%|          | 0/81 [00:00<?, ?it/s]"
      ]
     },
     "metadata": {},
     "output_type": "display_data"
    },
    {
     "data": {
      "application/vnd.jupyter.widget-view+json": {
       "model_id": "5ec23b2b81c949849ecde8b0313d6bb6",
       "version_major": 2,
       "version_minor": 0
      },
      "text/plain": [
       "  0%|          | 0/81 [00:00<?, ?it/s]"
      ]
     },
     "metadata": {},
     "output_type": "display_data"
    },
    {
     "name": "stdout",
     "output_type": "stream",
     "text": [
      "Filtering away by face and skeletal length\n",
      "\n",
      "Number of segments: 5\n",
      "\n"
     ]
    },
    {
     "data": {
      "application/vnd.jupyter.widget-view+json": {
       "model_id": "1e9300f776894f1982f030c0d90ff0fd",
       "version_major": 2,
       "version_minor": 0
      },
      "text/plain": [
       "  0%|          | 0/5 [00:00<?, ?it/s]"
      ]
     },
     "metadata": {},
     "output_type": "display_data"
    },
    {
     "data": {
      "application/vnd.jupyter.widget-view+json": {
       "model_id": "aa563489854b474e8d48df1470fba93e",
       "version_major": 2,
       "version_minor": 0
      },
      "text/plain": [
       "  0%|          | 0/5 [00:00<?, ?it/s]"
      ]
     },
     "metadata": {},
     "output_type": "display_data"
    },
    {
     "name": "stdout",
     "output_type": "stream",
     "text": [
      "Filtering away by face and skeletal length\n",
      "\n",
      "Number of segments: 6\n",
      "\n"
     ]
    },
    {
     "data": {
      "application/vnd.jupyter.widget-view+json": {
       "model_id": "793a3bbad1b44e7b9246919a3d4d8698",
       "version_major": 2,
       "version_minor": 0
      },
      "text/plain": [
       "  0%|          | 0/6 [00:00<?, ?it/s]"
      ]
     },
     "metadata": {},
     "output_type": "display_data"
    },
    {
     "data": {
      "application/vnd.jupyter.widget-view+json": {
       "model_id": "0fba6ce0541e475b82a5bdd64a4504e2",
       "version_major": 2,
       "version_minor": 0
      },
      "text/plain": [
       "  0%|          | 0/6 [00:00<?, ?it/s]"
      ]
     },
     "metadata": {},
     "output_type": "display_data"
    },
    {
     "name": "stdout",
     "output_type": "stream",
     "text": [
      "Filtering away by face and skeletal length\n",
      "\n",
      "Number of segments: 7\n",
      "\n"
     ]
    },
    {
     "data": {
      "application/vnd.jupyter.widget-view+json": {
       "model_id": "9f9be66cee9a44d0b4ca209ecd05e929",
       "version_major": 2,
       "version_minor": 0
      },
      "text/plain": [
       "  0%|          | 0/7 [00:00<?, ?it/s]"
      ]
     },
     "metadata": {},
     "output_type": "display_data"
    },
    {
     "data": {
      "application/vnd.jupyter.widget-view+json": {
       "model_id": "0520864dd442401e9f3be635a7889754",
       "version_major": 2,
       "version_minor": 0
      },
      "text/plain": [
       "  0%|          | 0/7 [00:00<?, ?it/s]"
      ]
     },
     "metadata": {},
     "output_type": "display_data"
    },
    {
     "name": "stdout",
     "output_type": "stream",
     "text": [
      "Filtering away by face and skeletal length\n",
      "\n",
      "Number of segments: 180\n",
      "\n"
     ]
    },
    {
     "data": {
      "application/vnd.jupyter.widget-view+json": {
       "model_id": "578dc8bfbf5348849a0acacad43eed91",
       "version_major": 2,
       "version_minor": 0
      },
      "text/plain": [
       "  0%|          | 0/180 [00:00<?, ?it/s]"
      ]
     },
     "metadata": {},
     "output_type": "display_data"
    },
    {
     "data": {
      "application/vnd.jupyter.widget-view+json": {
       "model_id": "2615ecbf459d419fa0f30b39d2ca2d6d",
       "version_major": 2,
       "version_minor": 0
      },
      "text/plain": [
       "  0%|          | 0/180 [00:00<?, ?it/s]"
      ]
     },
     "metadata": {},
     "output_type": "display_data"
    },
    {
     "name": "stdout",
     "output_type": "stream",
     "text": [
      "Filtering away by face and skeletal length\n",
      "\n",
      "Number of segments: 26\n",
      "\n"
     ]
    },
    {
     "data": {
      "application/vnd.jupyter.widget-view+json": {
       "model_id": "f823219173424629a2d889b1ceb160c4",
       "version_major": 2,
       "version_minor": 0
      },
      "text/plain": [
       "  0%|          | 0/26 [00:00<?, ?it/s]"
      ]
     },
     "metadata": {},
     "output_type": "display_data"
    },
    {
     "data": {
      "application/vnd.jupyter.widget-view+json": {
       "model_id": "8abad3ca6c8f4e11adcb3287324c2a10",
       "version_major": 2,
       "version_minor": 0
      },
      "text/plain": [
       "  0%|          | 0/26 [00:00<?, ?it/s]"
      ]
     },
     "metadata": {},
     "output_type": "display_data"
    },
    {
     "name": "stdout",
     "output_type": "stream",
     "text": [
      "Filtering away by face and skeletal length\n",
      "\n",
      "Number of segments: 5\n",
      "\n"
     ]
    },
    {
     "data": {
      "application/vnd.jupyter.widget-view+json": {
       "model_id": "2a18e9639b9e45f3be55aaa51ed597ac",
       "version_major": 2,
       "version_minor": 0
      },
      "text/plain": [
       "  0%|          | 0/5 [00:00<?, ?it/s]"
      ]
     },
     "metadata": {},
     "output_type": "display_data"
    },
    {
     "data": {
      "application/vnd.jupyter.widget-view+json": {
       "model_id": "489e0c43409a4aa5a04c82706ef1d8fa",
       "version_major": 2,
       "version_minor": 0
      },
      "text/plain": [
       "  0%|          | 0/5 [00:00<?, ?it/s]"
      ]
     },
     "metadata": {},
     "output_type": "display_data"
    },
    {
     "name": "stdout",
     "output_type": "stream",
     "text": [
      "Filtering away by face and skeletal length\n",
      "\n",
      "Number of segments: 34\n",
      "\n"
     ]
    },
    {
     "data": {
      "application/vnd.jupyter.widget-view+json": {
       "model_id": "3e9475d0ec39490cb10945e378fd5831",
       "version_major": 2,
       "version_minor": 0
      },
      "text/plain": [
       "  0%|          | 0/34 [00:00<?, ?it/s]"
      ]
     },
     "metadata": {},
     "output_type": "display_data"
    },
    {
     "data": {
      "application/vnd.jupyter.widget-view+json": {
       "model_id": "033002bfc49345698148349fc2768e5c",
       "version_major": 2,
       "version_minor": 0
      },
      "text/plain": [
       "  0%|          | 0/34 [00:00<?, ?it/s]"
      ]
     },
     "metadata": {},
     "output_type": "display_data"
    },
    {
     "name": "stdout",
     "output_type": "stream",
     "text": [
      "Filtering away by face and skeletal length\n",
      "\n",
      "Number of segments: 2\n",
      "\n"
     ]
    },
    {
     "data": {
      "application/vnd.jupyter.widget-view+json": {
       "model_id": "a596ba7aefe94fd7acc317a79cdd6b0b",
       "version_major": 2,
       "version_minor": 0
      },
      "text/plain": [
       "  0%|          | 0/2 [00:00<?, ?it/s]"
      ]
     },
     "metadata": {},
     "output_type": "display_data"
    },
    {
     "data": {
      "application/vnd.jupyter.widget-view+json": {
       "model_id": "e93619aa385b4ffb8b0afd932a2a46de",
       "version_major": 2,
       "version_minor": 0
      },
      "text/plain": [
       "  0%|          | 0/2 [00:00<?, ?it/s]"
      ]
     },
     "metadata": {},
     "output_type": "display_data"
    },
    {
     "name": "stdout",
     "output_type": "stream",
     "text": [
      "Filtering away by face and skeletal length\n",
      "\n",
      "Number of segments: 9\n",
      "\n"
     ]
    },
    {
     "data": {
      "application/vnd.jupyter.widget-view+json": {
       "model_id": "14dc362a7fd541c093ec53c7e55a379a",
       "version_major": 2,
       "version_minor": 0
      },
      "text/plain": [
       "  0%|          | 0/9 [00:00<?, ?it/s]"
      ]
     },
     "metadata": {},
     "output_type": "display_data"
    },
    {
     "data": {
      "application/vnd.jupyter.widget-view+json": {
       "model_id": "1100b47625324b4abffdecaccce92d01",
       "version_major": 2,
       "version_minor": 0
      },
      "text/plain": [
       "  0%|          | 0/9 [00:00<?, ?it/s]"
      ]
     },
     "metadata": {},
     "output_type": "display_data"
    },
    {
     "name": "stdout",
     "output_type": "stream",
     "text": [
      "Filtering away by face and skeletal length\n",
      "\n",
      "Number of segments: 24\n",
      "\n"
     ]
    },
    {
     "data": {
      "application/vnd.jupyter.widget-view+json": {
       "model_id": "89bfe0dd9311422aaeb782adf6104aa6",
       "version_major": 2,
       "version_minor": 0
      },
      "text/plain": [
       "  0%|          | 0/24 [00:00<?, ?it/s]"
      ]
     },
     "metadata": {},
     "output_type": "display_data"
    },
    {
     "data": {
      "application/vnd.jupyter.widget-view+json": {
       "model_id": "cb760ceb06484be89e20ade70a560d1f",
       "version_major": 2,
       "version_minor": 0
      },
      "text/plain": [
       "  0%|          | 0/24 [00:00<?, ?it/s]"
      ]
     },
     "metadata": {},
     "output_type": "display_data"
    },
    {
     "name": "stdout",
     "output_type": "stream",
     "text": [
      "Filtering away by face and skeletal length\n",
      "\n",
      "Number of segments: 3\n",
      "\n"
     ]
    },
    {
     "data": {
      "application/vnd.jupyter.widget-view+json": {
       "model_id": "a2aab20077d845f298c3d90e9ce4e398",
       "version_major": 2,
       "version_minor": 0
      },
      "text/plain": [
       "  0%|          | 0/3 [00:00<?, ?it/s]"
      ]
     },
     "metadata": {},
     "output_type": "display_data"
    },
    {
     "data": {
      "application/vnd.jupyter.widget-view+json": {
       "model_id": "b5bf04dcbb6c40f6a5133f6c54848786",
       "version_major": 2,
       "version_minor": 0
      },
      "text/plain": [
       "  0%|          | 0/3 [00:00<?, ?it/s]"
      ]
     },
     "metadata": {},
     "output_type": "display_data"
    },
    {
     "name": "stdout",
     "output_type": "stream",
     "text": [
      "Filtering away by face and skeletal length\n",
      "\n",
      "Number of segments: 6\n",
      "\n"
     ]
    },
    {
     "data": {
      "application/vnd.jupyter.widget-view+json": {
       "model_id": "22faa3c35cc445b1a16a483e1d0e84b7",
       "version_major": 2,
       "version_minor": 0
      },
      "text/plain": [
       "  0%|          | 0/6 [00:00<?, ?it/s]"
      ]
     },
     "metadata": {},
     "output_type": "display_data"
    },
    {
     "data": {
      "application/vnd.jupyter.widget-view+json": {
       "model_id": "6738e28365924b8cb47133d7000a5d3a",
       "version_major": 2,
       "version_minor": 0
      },
      "text/plain": [
       "  0%|          | 0/6 [00:00<?, ?it/s]"
      ]
     },
     "metadata": {},
     "output_type": "display_data"
    },
    {
     "name": "stdout",
     "output_type": "stream",
     "text": [
      "Filtering away by face and skeletal length\n",
      "\n",
      "Number of segments: 150\n",
      "\n"
     ]
    },
    {
     "data": {
      "application/vnd.jupyter.widget-view+json": {
       "model_id": "60ef70ce289c401ea64df28beea09e83",
       "version_major": 2,
       "version_minor": 0
      },
      "text/plain": [
       "  0%|          | 0/150 [00:00<?, ?it/s]"
      ]
     },
     "metadata": {},
     "output_type": "display_data"
    },
    {
     "data": {
      "application/vnd.jupyter.widget-view+json": {
       "model_id": "c040f83d44dd4bd59a94fe792ff834a3",
       "version_major": 2,
       "version_minor": 0
      },
      "text/plain": [
       "  0%|          | 0/150 [00:00<?, ?it/s]"
      ]
     },
     "metadata": {},
     "output_type": "display_data"
    },
    {
     "name": "stdout",
     "output_type": "stream",
     "text": [
      "Filtering away by face and skeletal length\n",
      "\n",
      "Number of segments: 163\n",
      "\n"
     ]
    },
    {
     "data": {
      "application/vnd.jupyter.widget-view+json": {
       "model_id": "fe309598441c4f1cb0218a5347c6bfb7",
       "version_major": 2,
       "version_minor": 0
      },
      "text/plain": [
       "  0%|          | 0/163 [00:00<?, ?it/s]"
      ]
     },
     "metadata": {},
     "output_type": "display_data"
    },
    {
     "data": {
      "application/vnd.jupyter.widget-view+json": {
       "model_id": "93ac80bb03eb4b96ac900e77d99af567",
       "version_major": 2,
       "version_minor": 0
      },
      "text/plain": [
       "  0%|          | 0/163 [00:00<?, ?it/s]"
      ]
     },
     "metadata": {},
     "output_type": "display_data"
    },
    {
     "name": "stdout",
     "output_type": "stream",
     "text": [
      "Filtering away by face and skeletal length\n",
      "\n",
      "Number of segments: 3\n",
      "\n"
     ]
    },
    {
     "data": {
      "application/vnd.jupyter.widget-view+json": {
       "model_id": "e10c7fd33b414c4db67923ee37d88b8a",
       "version_major": 2,
       "version_minor": 0
      },
      "text/plain": [
       "  0%|          | 0/3 [00:00<?, ?it/s]"
      ]
     },
     "metadata": {},
     "output_type": "display_data"
    },
    {
     "data": {
      "application/vnd.jupyter.widget-view+json": {
       "model_id": "bc704b828464471f8b0d31ada44449b9",
       "version_major": 2,
       "version_minor": 0
      },
      "text/plain": [
       "  0%|          | 0/3 [00:00<?, ?it/s]"
      ]
     },
     "metadata": {},
     "output_type": "display_data"
    },
    {
     "name": "stdout",
     "output_type": "stream",
     "text": [
      "Filtering away by face and skeletal length\n",
      "\n",
      "Number of segments: 114\n",
      "\n"
     ]
    },
    {
     "data": {
      "application/vnd.jupyter.widget-view+json": {
       "model_id": "f85054fdc712429eadec5d9655a3854e",
       "version_major": 2,
       "version_minor": 0
      },
      "text/plain": [
       "  0%|          | 0/114 [00:00<?, ?it/s]"
      ]
     },
     "metadata": {},
     "output_type": "display_data"
    },
    {
     "data": {
      "application/vnd.jupyter.widget-view+json": {
       "model_id": "db9b7473234f48babb4cbce0379c2a67",
       "version_major": 2,
       "version_minor": 0
      },
      "text/plain": [
       "  0%|          | 0/114 [00:00<?, ?it/s]"
      ]
     },
     "metadata": {},
     "output_type": "display_data"
    },
    {
     "name": "stdout",
     "output_type": "stream",
     "text": [
      "Filtering away by face and skeletal length\n",
      "\n",
      "Number of segments: 54\n",
      "\n"
     ]
    },
    {
     "data": {
      "application/vnd.jupyter.widget-view+json": {
       "model_id": "e158036bc54f4ff0a09d862505ebc7cf",
       "version_major": 2,
       "version_minor": 0
      },
      "text/plain": [
       "  0%|          | 0/54 [00:00<?, ?it/s]"
      ]
     },
     "metadata": {},
     "output_type": "display_data"
    },
    {
     "data": {
      "application/vnd.jupyter.widget-view+json": {
       "model_id": "94e2fa6ea7814225a91ba5970b4b5167",
       "version_major": 2,
       "version_minor": 0
      },
      "text/plain": [
       "  0%|          | 0/54 [00:00<?, ?it/s]"
      ]
     },
     "metadata": {},
     "output_type": "display_data"
    },
    {
     "name": "stdout",
     "output_type": "stream",
     "text": [
      "Filtering away by face and skeletal length\n",
      "\n",
      "Number of segments: 30\n",
      "\n"
     ]
    },
    {
     "data": {
      "application/vnd.jupyter.widget-view+json": {
       "model_id": "270ea8aff53e49ca9e6a1a21a4b98229",
       "version_major": 2,
       "version_minor": 0
      },
      "text/plain": [
       "  0%|          | 0/30 [00:00<?, ?it/s]"
      ]
     },
     "metadata": {},
     "output_type": "display_data"
    },
    {
     "data": {
      "application/vnd.jupyter.widget-view+json": {
       "model_id": "88a05cb02a474d9592c799c95c2ca72b",
       "version_major": 2,
       "version_minor": 0
      },
      "text/plain": [
       "  0%|          | 0/30 [00:00<?, ?it/s]"
      ]
     },
     "metadata": {},
     "output_type": "display_data"
    },
    {
     "name": "stdout",
     "output_type": "stream",
     "text": [
      "Filtering away by face and skeletal length\n",
      "\n",
      "Number of segments: 7\n",
      "\n"
     ]
    },
    {
     "data": {
      "application/vnd.jupyter.widget-view+json": {
       "model_id": "24238779c6f7451e8fbc035d0e56e0b3",
       "version_major": 2,
       "version_minor": 0
      },
      "text/plain": [
       "  0%|          | 0/7 [00:00<?, ?it/s]"
      ]
     },
     "metadata": {},
     "output_type": "display_data"
    },
    {
     "data": {
      "application/vnd.jupyter.widget-view+json": {
       "model_id": "85c3dda26aed42d7859443db7ef039f8",
       "version_major": 2,
       "version_minor": 0
      },
      "text/plain": [
       "  0%|          | 0/7 [00:00<?, ?it/s]"
      ]
     },
     "metadata": {},
     "output_type": "display_data"
    },
    {
     "name": "stdout",
     "output_type": "stream",
     "text": [
      "Filtering away by face and skeletal length\n",
      "\n",
      "Number of segments: 3\n",
      "\n"
     ]
    },
    {
     "data": {
      "application/vnd.jupyter.widget-view+json": {
       "model_id": "fe138ec9852f46649a7c462cba41070a",
       "version_major": 2,
       "version_minor": 0
      },
      "text/plain": [
       "  0%|          | 0/3 [00:00<?, ?it/s]"
      ]
     },
     "metadata": {},
     "output_type": "display_data"
    },
    {
     "data": {
      "application/vnd.jupyter.widget-view+json": {
       "model_id": "0a3ceea3b79646d6a77910ea19355557",
       "version_major": 2,
       "version_minor": 0
      },
      "text/plain": [
       "  0%|          | 0/3 [00:00<?, ?it/s]"
      ]
     },
     "metadata": {},
     "output_type": "display_data"
    },
    {
     "name": "stdout",
     "output_type": "stream",
     "text": [
      "Filtering away by face and skeletal length\n",
      "\n",
      "Number of segments: 3\n",
      "\n"
     ]
    },
    {
     "data": {
      "application/vnd.jupyter.widget-view+json": {
       "model_id": "a804cdae16ad477d934e80f24984dd74",
       "version_major": 2,
       "version_minor": 0
      },
      "text/plain": [
       "  0%|          | 0/3 [00:00<?, ?it/s]"
      ]
     },
     "metadata": {},
     "output_type": "display_data"
    },
    {
     "data": {
      "application/vnd.jupyter.widget-view+json": {
       "model_id": "6cba311390c6484aa9bd2d16a8c7e0ef",
       "version_major": 2,
       "version_minor": 0
      },
      "text/plain": [
       "  0%|          | 0/3 [00:00<?, ?it/s]"
      ]
     },
     "metadata": {},
     "output_type": "display_data"
    },
    {
     "name": "stdout",
     "output_type": "stream",
     "text": [
      "Filtering away by face and skeletal length\n",
      "\n",
      "Number of segments: 6\n",
      "\n"
     ]
    },
    {
     "data": {
      "application/vnd.jupyter.widget-view+json": {
       "model_id": "460952ccea174a4291677b7121164fd6",
       "version_major": 2,
       "version_minor": 0
      },
      "text/plain": [
       "  0%|          | 0/6 [00:00<?, ?it/s]"
      ]
     },
     "metadata": {},
     "output_type": "display_data"
    },
    {
     "data": {
      "application/vnd.jupyter.widget-view+json": {
       "model_id": "8dc6c14444b4436d9dd14f491eaa2106",
       "version_major": 2,
       "version_minor": 0
      },
      "text/plain": [
       "  0%|          | 0/6 [00:00<?, ?it/s]"
      ]
     },
     "metadata": {},
     "output_type": "display_data"
    },
    {
     "name": "stdout",
     "output_type": "stream",
     "text": [
      "Filtering away by face and skeletal length\n",
      "\n",
      "Number of segments: 12\n",
      "\n"
     ]
    },
    {
     "data": {
      "application/vnd.jupyter.widget-view+json": {
       "model_id": "d5b6ac080aad4f81af190347d86671a3",
       "version_major": 2,
       "version_minor": 0
      },
      "text/plain": [
       "  0%|          | 0/12 [00:00<?, ?it/s]"
      ]
     },
     "metadata": {},
     "output_type": "display_data"
    },
    {
     "data": {
      "application/vnd.jupyter.widget-view+json": {
       "model_id": "38934f2505ea4adda735ba1d09bd6626",
       "version_major": 2,
       "version_minor": 0
      },
      "text/plain": [
       "  0%|          | 0/12 [00:00<?, ?it/s]"
      ]
     },
     "metadata": {},
     "output_type": "display_data"
    },
    {
     "name": "stdout",
     "output_type": "stream",
     "text": [
      "Filtering away by face and skeletal length\n",
      "\n",
      "Number of segments: 79\n",
      "\n"
     ]
    },
    {
     "data": {
      "application/vnd.jupyter.widget-view+json": {
       "model_id": "68d5f3e9882a4386a7d3d5564e6d4ac9",
       "version_major": 2,
       "version_minor": 0
      },
      "text/plain": [
       "  0%|          | 0/79 [00:00<?, ?it/s]"
      ]
     },
     "metadata": {},
     "output_type": "display_data"
    },
    {
     "data": {
      "application/vnd.jupyter.widget-view+json": {
       "model_id": "ed867d0a65e648a4b6d00db7cbb20934",
       "version_major": 2,
       "version_minor": 0
      },
      "text/plain": [
       "  0%|          | 0/79 [00:00<?, ?it/s]"
      ]
     },
     "metadata": {},
     "output_type": "display_data"
    },
    {
     "name": "stdout",
     "output_type": "stream",
     "text": [
      "Filtering away by face and skeletal length\n",
      "\n",
      "Number of segments: 134\n",
      "\n"
     ]
    },
    {
     "data": {
      "application/vnd.jupyter.widget-view+json": {
       "model_id": "e18fca9e82b546bc8029e343e86a4d6e",
       "version_major": 2,
       "version_minor": 0
      },
      "text/plain": [
       "  0%|          | 0/134 [00:00<?, ?it/s]"
      ]
     },
     "metadata": {},
     "output_type": "display_data"
    },
    {
     "data": {
      "application/vnd.jupyter.widget-view+json": {
       "model_id": "2a08e596b011445c9681e59871f57102",
       "version_major": 2,
       "version_minor": 0
      },
      "text/plain": [
       "  0%|          | 0/134 [00:00<?, ?it/s]"
      ]
     },
     "metadata": {},
     "output_type": "display_data"
    },
    {
     "name": "stdout",
     "output_type": "stream",
     "text": [
      "Filtering away by face and skeletal length\n",
      "\n",
      "Number of segments: 120\n",
      "\n"
     ]
    },
    {
     "data": {
      "application/vnd.jupyter.widget-view+json": {
       "model_id": "7ef8f5dbb4bc44f6a16f34a663cde4e6",
       "version_major": 2,
       "version_minor": 0
      },
      "text/plain": [
       "  0%|          | 0/120 [00:00<?, ?it/s]"
      ]
     },
     "metadata": {},
     "output_type": "display_data"
    },
    {
     "data": {
      "application/vnd.jupyter.widget-view+json": {
       "model_id": "27ca3a0178f0477f9b5afeaebac1dad3",
       "version_major": 2,
       "version_minor": 0
      },
      "text/plain": [
       "  0%|          | 0/120 [00:00<?, ?it/s]"
      ]
     },
     "metadata": {},
     "output_type": "display_data"
    },
    {
     "name": "stdout",
     "output_type": "stream",
     "text": [
      "Filtering away by face and skeletal length\n",
      "\n",
      "Number of segments: 1\n",
      "\n"
     ]
    },
    {
     "data": {
      "application/vnd.jupyter.widget-view+json": {
       "model_id": "1064335bfa164645bed1919cdb90f293",
       "version_major": 2,
       "version_minor": 0
      },
      "text/plain": [
       "  0%|          | 0/1 [00:00<?, ?it/s]"
      ]
     },
     "metadata": {},
     "output_type": "display_data"
    },
    {
     "data": {
      "application/vnd.jupyter.widget-view+json": {
       "model_id": "6626ee1d54134151b850529a6ac86602",
       "version_major": 2,
       "version_minor": 0
      },
      "text/plain": [
       "  0%|          | 0/1 [00:00<?, ?it/s]"
      ]
     },
     "metadata": {},
     "output_type": "display_data"
    },
    {
     "name": "stdout",
     "output_type": "stream",
     "text": [
      "There was only one mesh found from the spine process and mesh split, returning empty array\n",
      "Filtering away by face and skeletal length\n",
      "\n",
      "Number of segments: 14\n",
      "\n"
     ]
    },
    {
     "data": {
      "application/vnd.jupyter.widget-view+json": {
       "model_id": "c17ccbb551334870ac505c694afbc7b5",
       "version_major": 2,
       "version_minor": 0
      },
      "text/plain": [
       "  0%|          | 0/14 [00:00<?, ?it/s]"
      ]
     },
     "metadata": {},
     "output_type": "display_data"
    },
    {
     "data": {
      "application/vnd.jupyter.widget-view+json": {
       "model_id": "b6ba4c5dc7224f208ea16917f0888cf0",
       "version_major": 2,
       "version_minor": 0
      },
      "text/plain": [
       "  0%|          | 0/14 [00:00<?, ?it/s]"
      ]
     },
     "metadata": {},
     "output_type": "display_data"
    },
    {
     "name": "stdout",
     "output_type": "stream",
     "text": [
      "Filtering away by face and skeletal length\n",
      "\n",
      "Number of segments: 12\n",
      "\n"
     ]
    },
    {
     "data": {
      "application/vnd.jupyter.widget-view+json": {
       "model_id": "982963c6184e4a309489faa1b1de4a96",
       "version_major": 2,
       "version_minor": 0
      },
      "text/plain": [
       "  0%|          | 0/12 [00:00<?, ?it/s]"
      ]
     },
     "metadata": {},
     "output_type": "display_data"
    },
    {
     "data": {
      "application/vnd.jupyter.widget-view+json": {
       "model_id": "9dbcdeb352244ecda072564cfeadd43a",
       "version_major": 2,
       "version_minor": 0
      },
      "text/plain": [
       "  0%|          | 0/12 [00:00<?, ?it/s]"
      ]
     },
     "metadata": {},
     "output_type": "display_data"
    },
    {
     "name": "stdout",
     "output_type": "stream",
     "text": [
      "Filtering away by face and skeletal length\n",
      "width_name BEFORE processing = no_spine_median_mesh_center\n",
      "After processing\n",
      "width_name = no_spine_median_mesh_center, distance_by_mesh_center= True, no_spines = True, summary_measure= median\n",
      "Working on limb L0 branch 6\n",
      "    No spines and using precomputed width: 586.7644191749422\n",
      "Working on limb L0 branch 3\n",
      "    current_width= 416.7881587153977\n",
      "Working on limb L0 branch 7\n",
      "    No spines and using precomputed width: 368.99402526275117\n",
      "Working on limb L0 branch 0\n",
      "    current_width= 264.2172601478005\n",
      "Working on limb L0 branch 1\n",
      "    current_width= 272.5726579178621\n",
      "Working on limb L0 branch 2\n",
      "    current_width= 285.4542937461846\n",
      "Working on limb L0 branch 4\n",
      "    current_width= 301.21669775687826\n",
      "Working on limb L0 branch 8\n",
      "    No spines and using precomputed width: 309.59023977471134\n",
      "Working on limb L0 branch 5\n",
      "    current_width= 231.62097815579966\n",
      "Working on limb L0 branch 9\n",
      "    current_width= 277.4903707521639\n",
      "Working on limb L1 branch 17\n",
      "    current_width= 186.74385817318597\n",
      "Working on limb L1 branch 15\n",
      "    No spines and using precomputed width: 81.06732888550147\n",
      "Working on limb L1 branch 16\n",
      "    No spines and using precomputed width: 180.79969247866023\n",
      "Working on limb L1 branch 18\n",
      "    No spines and using precomputed width: 83.6230371949197\n",
      "Working on limb L1 branch 4\n",
      "    No spines and using precomputed width: 68.8950709122904\n",
      "Working on limb L1 branch 14\n",
      "    No spines and using precomputed width: 115.66167744492599\n",
      "Working on limb L1 branch 26\n",
      "    No spines and using precomputed width: 166.88235794997527\n",
      "Working on limb L1 branch 19\n",
      "    No spines and using precomputed width: 74.74432487535276\n",
      "Working on limb L1 branch 20\n",
      "    No spines and using precomputed width: 78.90931853911839\n",
      "Working on limb L1 branch 12\n",
      "    No spines and using precomputed width: 105.83550536685497\n",
      "Working on limb L1 branch 13\n",
      "    No spines and using precomputed width: 103.46347406090041\n",
      "Working on limb L1 branch 21\n",
      "    No spines and using precomputed width: 89.35632620500378\n",
      "Working on limb L1 branch 22\n",
      "    No spines and using precomputed width: 85.25609472650788\n",
      "Working on limb L1 branch 9\n",
      "    No spines and using precomputed width: 98.92447488922338\n",
      "Working on limb L1 branch 10\n",
      "    No spines and using precomputed width: 142.38192558775356\n",
      "Working on limb L1 branch 11\n",
      "    No spines and using precomputed width: 93.61085880218833\n",
      "Working on limb L1 branch 25\n",
      "    No spines and using precomputed width: 66.4711702516618\n",
      "Working on limb L1 branch 1\n",
      "    No spines and using precomputed width: 111.9796517426644\n",
      "Working on limb L1 branch 3\n",
      "    No spines and using precomputed width: 95.32640663158229\n",
      "Working on limb L1 branch 7\n",
      "    No spines and using precomputed width: 98.83860043143284\n",
      "Working on limb L1 branch 8\n",
      "    No spines and using precomputed width: 131.75016231242103\n",
      "Working on limb L1 branch 5\n",
      "    No spines and using precomputed width: 126.81287846359538\n",
      "Working on limb L1 branch 6\n",
      "    No spines and using precomputed width: 108.30020672887802\n",
      "Working on limb L1 branch 0\n",
      "    No spines and using precomputed width: 97.68811695225403\n",
      "Working on limb L1 branch 2\n",
      "    No spines and using precomputed width: 124.05424098811216\n",
      "Working on limb L1 branch 23\n",
      "    No spines and using precomputed width: 87.93425564048837\n",
      "Working on limb L1 branch 24\n",
      "    No spines and using precomputed width: 82.4982383186942\n",
      "Working on limb L4 branch 2\n",
      "    No spines and using precomputed width: 972.1627754063986\n",
      "Working on limb L4 branch 0\n",
      "    current_width= 433.15837216708974\n",
      "Working on limb L4 branch 3\n",
      "    No spines and using precomputed width: 696.4540376980359\n",
      "Working on limb L4 branch 1\n",
      "    No spines and using precomputed width: 291.2072778113148\n",
      "Working on limb L4 branch 4\n",
      "    No spines and using precomputed width: 507.9948344655454\n",
      "Working on limb L4 branch 5\n",
      "    current_width= 436.63501741098753\n",
      "Working on limb L4 branch 6\n",
      "    current_width= 256.2110089252707\n",
      "Working on limb L5 branch 0\n",
      "    current_width= 329.6255313497485\n",
      "Working on limb L6 branch 0\n",
      "    current_width= 272.5035345034447\n",
      "Working on limb L2 branch 0\n",
      "    No spines and using precomputed width: 383.61004706994277\n",
      "Working on limb L2 branch 1\n",
      "    current_width= 278.64431602109477\n",
      "Working on limb L2 branch 2\n",
      "    current_width= 298.9580165890348\n",
      "Working on limb L3 branch 1\n",
      "    No spines and using precomputed width: 341.6228226856097\n",
      "Working on limb L3 branch 0\n",
      "    No spines and using precomputed width: 96.25067340356648\n",
      "Working on limb L3 branch 2\n",
      "    current_width= 337.9040555721308\n",
      "Working on limb L3 branch 3\n",
      "    No spines and using precomputed width: 69.00572062527482\n",
      "Working on limb L3 branch 4\n",
      "    current_width= 260.5391768200335\n",
      "Working on limb L7 branch 0\n",
      "    No spines and using precomputed width: 1516.6016122085905\n",
      "Working on limb L7 branch 1\n",
      "    No spines and using precomputed width: 406.70225373105905\n",
      "Working on limb L7 branch 2\n",
      "    No spines and using precomputed width: 469.67112074612635\n",
      "Total time for neuron instance creation = 318.40382385253906\n"
     ]
    }
   ],
   "source": [
    "neuron_obj = neuron.Neuron(\n",
    "    mesh = mesh,\n",
    "    somas = somas,\n",
    "    suppress_preprocessing_print=False,\n",
    "    suppress_output=False,\n",
    "    glia_meshes=glia_pieces,\n",
    "    nuclei_meshes = nuclei_pieces,\n",
    ")"
   ]
  },
  {
   "cell_type": "code",
   "execution_count": 22,
   "id": "78d87911",
   "metadata": {
    "scrolled": false
   },
   "outputs": [
    {
     "name": "stdout",
     "output_type": "stream",
     "text": [
      "\n",
      " Working on visualization type: mesh\n",
      "\n",
      " Working on visualization type: skeleton\n"
     ]
    },
    {
     "data": {
      "application/vnd.jupyter.widget-view+json": {
       "model_id": "a475e93b5e9946b3a937ada089c90aed",
       "version_major": 2,
       "version_minor": 0
      },
      "text/plain": [
       "Container(figure=Figure(box_center=[0.5, 0.5, 0.5], box_size=[1.0, 1.0, 1.0], camera=PerspectiveCamera(fov=45.…"
      ]
     },
     "metadata": {},
     "output_type": "display_data"
    }
   ],
   "source": [
    "nviz.visualize_neuron(\n",
    "    neuron_obj,\n",
    "    limb_branch_dict=\"all\"\n",
    ")"
   ]
  },
  {
   "cell_type": "markdown",
   "id": "290c9030",
   "metadata": {},
   "source": [
    "## calculating statistics about neuron"
   ]
  },
  {
   "cell_type": "code",
   "execution_count": 25,
   "id": "be9a760f",
   "metadata": {
    "scrolled": true
   },
   "outputs": [
    {
     "name": "stdout",
     "output_type": "stream",
     "text": [
      "Total Number of Branches = 55\n",
      "n_short_branches = 11, n_medium_branches = 41, n_long_branches = 3\n",
      "axon_length = 1606.7293624335382, axon_branch_length_median = 16.735647518195066, axon_branch_length_mean = 29.21326113515524\n",
      "bbox_volume = 1.9824080633351482\n",
      "bbox_corners = [[1430458.66683036  502584.20727049 1020174.81709652]\n",
      " [1564397.98216806  659939.53090215 1114234.50651442]]\n",
      "bbox_corners_soma_relative = [[-58422.09375281 -86715.88646744 -80477.4963586 ]\n",
      " [ 75517.22158489  70639.43716422  13582.1930593 ]]\n"
     ]
    },
    {
     "data": {
      "text/plain": [
       "{'n_vertices': 154713,\n",
       " 'n_faces': 323535,\n",
       " 'max_soma_area': 341.07163148783616,\n",
       " 'n_not_processed_soma_containing_meshes': 0,\n",
       " 'n_error_limbs': 1,\n",
       " 'n_same_soma_multi_touching_limbs': 0,\n",
       " 'n_multi_soma_touching_limbs': 1,\n",
       " 'n_somas': 2,\n",
       " 'n_limbs': 8,\n",
       " 'n_branches': 57,\n",
       " 'max_limb_n_branches': 27,\n",
       " 'skeletal_length': 1543052.6489920912,\n",
       " 'max_limb_skeletal_length': 604558.5039643556,\n",
       " 'median_branch_length': 14983.573,\n",
       " 'width_median': 186.744,\n",
       " 'width_no_spine_median': 186.744,\n",
       " 'width_90_perc': 456.123,\n",
       " 'width_no_spine_90_perc': 449.849,\n",
       " 'n_spines': 399,\n",
       " 'spine_density': 0.0002585783448546771,\n",
       " 'spines_per_branch': 7.0,\n",
       " 'skeletal_length_eligible': 1022768.485,\n",
       " 'n_spine_eligible_branches': 35,\n",
       " 'spine_density_eligible': 0.00039011761298061504,\n",
       " 'spines_per_branch_eligible': 11.4,\n",
       " 'total_spine_volume': 36940846334.45009,\n",
       " 'spine_volume_median': 64090430.61665852,\n",
       " 'spine_volume_density': 23940.10752554654,\n",
       " 'spine_volume_density_eligible': 36118.483191677624,\n",
       " 'spine_volume_per_branch_eligible': 1055452752.4128597,\n",
       " 'branch_length_median': 16.735647518195066,\n",
       " 'branch_length_mean': 29.21326113515524,\n",
       " 'n_short_branches': 11,\n",
       " 'n_long_branches': 3,\n",
       " 'n_medium_branches': 41,\n",
       " 'bbox_volume': 1.9824080633351482,\n",
       " 'bbox_x_min': 1430458.6668303611,\n",
       " 'bbox_y_min': 502584.2072704911,\n",
       " 'bbox_z_min': 1020174.8170965186,\n",
       " 'bbox_x_max': 1564397.9821680577,\n",
       " 'bbox_y_max': 659939.5309021459,\n",
       " 'bbox_z_max': 1114234.506514418,\n",
       " 'bbox_x_min_soma_relative': -58422.0937528112,\n",
       " 'bbox_y_min_soma_relative': -86715.88646743615,\n",
       " 'bbox_z_min_soma_relative': -80477.49635860184,\n",
       " 'bbox_x_max_soma_relative': 75517.22158488538,\n",
       " 'bbox_y_max_soma_relative': 70639.43716421863,\n",
       " 'bbox_z_max_soma_relative': 13582.193059297511,\n",
       " 'centroid_x_nm': 1488880.7605831723,\n",
       " 'centroid_y_nm': 589300.0937379273,\n",
       " 'centroid_z_nm': 1100652.3134551204,\n",
       " 'centroid_x': 372220,\n",
       " 'centroid_y': 147325,\n",
       " 'centroid_z': 27516,\n",
       " 'centroid_volume': 440.7405976697012}"
      ]
     },
     "execution_count": 25,
     "metadata": {},
     "output_type": "execute_result"
    }
   ],
   "source": [
    "from neurd.microns_volume_utils import data_interface as hdju\n",
    "voxel_adjustment_vector = hdju.voxel_to_nm_scaling\n",
    "\n",
    "stats_dict = neuron_obj.neuron_stats(stats_to_ignore = [\n",
    "                    \"n_boutons\",\n",
    "                     \"axon_length\",\n",
    "                     \"axon_area\",\n",
    "                     \"max_soma_volume\",\n",
    "                     \"max_soma_n_faces\",],\n",
    "    include_skeletal_stats = True,\n",
    "    include_centroids= True,\n",
    "    voxel_adjustment_vector=voxel_adjustment_vector,\n",
    ")\n",
    "\n",
    "stats_dict"
   ]
  },
  {
   "cell_type": "markdown",
   "id": "52924f39",
   "metadata": {},
   "source": [
    "## skeleton and skeleton stats"
   ]
  },
  {
   "cell_type": "code",
   "execution_count": 26,
   "id": "5798aa25",
   "metadata": {},
   "outputs": [
    {
     "data": {
      "application/vnd.jupyter.widget-view+json": {
       "model_id": "2806dcadca6d4cc1bd64ad9e5a75dc7a",
       "version_major": 2,
       "version_minor": 0
      },
      "text/plain": [
       "Container(figure=Figure(box_center=[0.5, 0.5, 0.5], box_size=[1.0, 1.0, 1.0], camera=PerspectiveCamera(fov=45.…"
      ]
     },
     "metadata": {},
     "output_type": "display_data"
    }
   ],
   "source": [
    "skeleton = neuron_obj.skeleton\n",
    "\n",
    "ipvu.plot_objects(\n",
    "    main_skeleton=skeleton\n",
    ")"
   ]
  },
  {
   "cell_type": "code",
   "execution_count": 28,
   "id": "ff67c873",
   "metadata": {},
   "outputs": [
    {
     "name": "stdout",
     "output_type": "stream",
     "text": [
      "Total Number of Branches = 55\n",
      "n_short_branches = 11, n_medium_branches = 41, n_long_branches = 3\n",
      "axon_length = 1606.7293624335382, axon_branch_length_median = 16.735647518195066, axon_branch_length_mean = 29.21326113515524\n",
      "bbox_volume = 1.9824080633351482\n",
      "bbox_corners = [[1430458.66683036  502584.20727049 1020174.81709652]\n",
      " [1564397.98216806  659939.53090215 1114234.50651442]]\n",
      "bbox_corners_soma_relative = [[-58422.09375281 -86715.88646744 -80477.4963586 ]\n",
      " [ 75517.22158489  70639.43716422  13582.1930593 ]]\n"
     ]
    },
    {
     "data": {
      "text/plain": [
       "{'skeletal_length': 1543052.648992091,\n",
       " 'n_branches': 57,\n",
       " 'branch_length_median': 16.735647518195066,\n",
       " 'branch_length_mean': 29.21326113515524,\n",
       " 'n_short_branches': 11,\n",
       " 'n_long_branches': 3,\n",
       " 'n_medium_branches': 41,\n",
       " 'bbox_volume': 1.9824080633351482,\n",
       " 'bbox_x_min': 1430458.6668303611,\n",
       " 'bbox_y_min': 502584.2072704911,\n",
       " 'bbox_z_min': 1020174.8170965186,\n",
       " 'bbox_x_max': 1564397.9821680577,\n",
       " 'bbox_y_max': 659939.5309021459,\n",
       " 'bbox_z_max': 1114234.506514418,\n",
       " 'bbox_x_min_soma_relative': -58422.0937528112,\n",
       " 'bbox_y_min_soma_relative': -86715.88646743615,\n",
       " 'bbox_z_min_soma_relative': -80477.49635860184,\n",
       " 'bbox_x_max_soma_relative': 75517.22158488538,\n",
       " 'bbox_y_max_soma_relative': 70639.43716421863,\n",
       " 'bbox_z_max_soma_relative': 13582.193059297511,\n",
       " 'n_limbs': 8,\n",
       " 'centroid_x_nm': 1488880.7605831723,\n",
       " 'centroid_y_nm': 589300.0937379273,\n",
       " 'centroid_z_nm': 1100652.3134551204,\n",
       " 'centroid_x': 372220,\n",
       " 'centroid_y': 147325,\n",
       " 'centroid_z': 27516,\n",
       " 'centroid_volume': 440.7405976697012}"
      ]
     },
     "execution_count": 28,
     "metadata": {},
     "output_type": "execute_result"
    }
   ],
   "source": [
    "from neurd import neuron_statistics as nst\n",
    "\n",
    "sk_stats = nst.skeleton_stats_from_neuron_obj(\n",
    "    neuron_obj,\n",
    "    include_centroids=True,\n",
    "    voxel_adjustment_vector=voxel_adjustment_vector,\n",
    "    verbose = True\n",
    ")\n",
    "\n",
    "sk_stats"
   ]
  },
  {
   "cell_type": "markdown",
   "id": "d6d3b6e3",
   "metadata": {},
   "source": [
    "# Step 3.5"
   ]
  },
  {
   "cell_type": "code",
   "execution_count": null,
   "id": "25bef6ef",
   "metadata": {},
   "outputs": [],
   "source": [
    "from neurd import neuron_utils as nru\n",
    "\n",
    "filepath = nru.save_compressed_neuron(\n",
    "    neuron_obj,\n",
    "    output_folder = \"./\",\n",
    "    file_name = f\"large_double_soma\",\n",
    "    return_file_path = True,\n",
    ")"
   ]
  },
  {
   "cell_type": "markdown",
   "id": "321cf04b",
   "metadata": {},
   "source": [
    "# Step 4: Split Multi-Soma Merges"
   ]
  },
  {
   "cell_type": "code",
   "execution_count": null,
   "id": "4aca1b4f",
   "metadata": {},
   "outputs": [],
   "source": [
    "#/mnt/lab/users/celiib/neurd_packages/neuron_mesh_tools/Auto_Proofreading/Minnie65_Pipeline/Auto_Proof/m65_autoproof_5_DecompositionSplitMultiSoma_full_v1.ipynb"
   ]
  },
  {
   "cell_type": "code",
   "execution_count": 64,
   "id": "0e693242",
   "metadata": {},
   "outputs": [],
   "source": [
    "from neurd import proofreading_utils as pru\n",
    "\n",
    "neurd.set_volume_params(\n",
    "    \"microns\"\n",
    ")"
   ]
  },
  {
   "cell_type": "code",
   "execution_count": 65,
   "id": "1bb9c1d1",
   "metadata": {},
   "outputs": [],
   "source": [
    "plot_intermediates = True\n",
    "plot_suggestions = True\n",
    "plot_cut_coordinates = True\n",
    "only_multi_soma_paths = False\n",
    "verbose = True"
   ]
  },
  {
   "cell_type": "code",
   "execution_count": 73,
   "id": "d8fff8ed",
   "metadata": {
    "scrolled": true
   },
   "outputs": [
    {
     "name": "stdout",
     "output_type": "stream",
     "text": [
      "multi_soma_limbs = [4]\n",
      "multi_touch_limbs = []\n",
      "\n",
      "\n",
      " -------- Working on limb 4------------\n",
      "Starting combinations to process = [[2 0]]\n",
      "\n",
      "\n",
      "---- working on disconnecting 2 and 0\n",
      "---- This disconnects S0_0 from S1_0  \n",
      " Cut iteration 0\n",
      "Total number of graphs at the end of the split BEFORE DIRECTIONAL = 1\n",
      "Total number of graphs at the end of the split AFTER DIRECTIONAL = 1\n",
      "Shortest path = [2, 0]\n",
      "remove_segment_threshold = 1500\n",
      "high_degree_endpoint_coordinates_tried = []\n",
      "consider_path_neighbors_for_removal is set so segments_to_consider = [3]\n",
      "Trying combining short segments with a larger threshold 2500\n",
      "Short segments to combine = [3]\n",
      "\n",
      "\n",
      "-------- Removing Segments -------------\n",
      "curr_short_seg_revised = 3\n",
      "np.sum(touch_len>0) = 2\n",
      "Using average stitch point\n",
      "touching_endpoints = [[1493440.  587207. 1108650.]\n",
      " [1494840.  586448. 1109900.]]\n",
      "new_stitch_point = [1494140.   586827.5 1109275. ]\n",
      "Angles for [2 0 1 4] are [34.07, 95.93, 85.57, 45.76]\n",
      "Branch that will absorb mesh of 3 is 2 \n",
      "Revised cut path = [2 0]\n",
      "\n",
      "-------- Done Removing Segments -------------\n",
      "\n",
      "\n",
      "Found 1 high degree coordinates to cut\n",
      "skip_nodes = []\n",
      "\n",
      "Attempting the doubling back check (symmetrical so don't need to check from both sides)\n"
     ]
    },
    {
     "data": {
      "application/vnd.jupyter.widget-view+json": {
       "model_id": "a08f37c14a03422b9f3544abe4649e01",
       "version_major": 2,
       "version_minor": 0
      },
      "text/plain": [
       "  0%|          | 0/1 [00:00<?, ?it/s]"
      ]
     },
     "metadata": {},
     "output_type": "display_data"
    },
    {
     "name": "stdout",
     "output_type": "stream",
     "text": [
      "  Edge: [2 0]: curr_angle = 77.49\n",
      "Total time for doubling_back = 0.031178712844848633\n",
      "high_degree_endpoint_coordinates_widths = [551.1308149625871]\n",
      "high_degree_order = [0]\n",
      "Picking [1494140.   586827.5 1109275. ] high degree coordinates to cut\n",
      "curr_limb.deleted_edges 4=[]\n",
      "Inisde resolving_crossovers: debug_dict=/n{'apply_width_filter': True, 'best_match_width_diff_max': 75, 'best_match_width_diff_max_perc': 0.6, 'best_match_width_diff_min': 0.25, 'best_singular_match': True, 'lowest_angle_sum_for_pairs': False}\n",
      "coordinate = [1494140.   586827.5 1109275. ]\n",
      "coordinate_branches = [0, 1, 2, 4]\n",
      "0 = red\n",
      "1 = aqua\n",
      "2 = purple\n",
      "4 = green\n"
     ]
    },
    {
     "data": {
      "application/vnd.jupyter.widget-view+json": {
       "model_id": "7591f0a354b74e858347049556fc7066",
       "version_major": 2,
       "version_minor": 0
      },
      "text/plain": [
       "Container(figure=Figure(box_center=[0.5, 0.5, 0.5], box_size=[1.0, 1.0, 1.0], camera=PerspectiveCamera(fov=45.…"
      ]
     },
     "metadata": {},
     "output_type": "display_data"
    },
    {
     "name": "stdout",
     "output_type": "stream",
     "text": [
      "edges_to_avoid= None\n",
      "Angle between 0 and 1 = 161.14 \n",
      "Angle between 0 and 2 = 60.14 \n",
      "width_diff = 539.0044032393089, width_diff_perc = 0.5544384303482367\n",
      "\n",
      "Angle between 0 and 4 = 63.18 \n",
      "width_diff = 74.83646229845567, width_diff_perc = 0.14731736864448655\n",
      "\n",
      "Angle between 1 and 2 = 57.33 \n",
      "width_diff = 680.9554975950839, width_diff_perc = 0.7004541984344342\n",
      "\n",
      "Not adding edge [1, 2] because width_diff= 680.9554975950839, width_diff_perc= = 0.7004541984344342\n",
      "Angle between 1 and 4 = 61.91 \n",
      "width_diff = 216.78755665423063, width_diff_perc = 0.42675149813739727\n",
      "\n",
      "Angle between 2 and 4 = 60.78 \n",
      "width_diff = 464.1679409408532, width_diff_perc = 0.4774590764872833\n",
      "\n",
      "Final Matches = [[0, 2], [0, 4], [1, 4], [2, 4]]\n",
      "matched_branches_revised = [[0, 2], [1, 4]]\n",
      "Aligned Skeleton Parts\n"
     ]
    },
    {
     "data": {
      "application/vnd.jupyter.widget-view+json": {
       "model_id": "30b78e7a82c04956b490ae60418ccd41",
       "version_major": 2,
       "version_minor": 0
      },
      "text/plain": [
       "Container(figure=Figure(box_center=[0.5, 0.5, 0.5], box_size=[1.0, 1.0, 1.0], camera=PerspectiveCamera(fov=45.…"
      ]
     },
     "metadata": {},
     "output_type": "display_data"
    },
    {
     "data": {
      "application/vnd.jupyter.widget-view+json": {
       "model_id": "0af8b80a052c4482a19589508f7b6446",
       "version_major": 2,
       "version_minor": 0
      },
      "text/plain": [
       "Container(figure=Figure(box_center=[0.5, 0.5, 0.5], box_size=[1.0, 1.0, 1.0], camera=PerspectiveCamera(fov=45.…"
      ]
     },
     "metadata": {},
     "output_type": "display_data"
    },
    {
     "data": {
      "application/vnd.jupyter.widget-view+json": {
       "model_id": "99db2aa21942416d948897479d9a3114",
       "version_major": 2,
       "version_minor": 0
      },
      "text/plain": [
       "Container(figure=Figure(box_center=[0.5, 0.5, 0.5], box_size=[1.0, 1.0, 1.0], camera=PerspectiveCamera(fov=45.…"
      ]
     },
     "metadata": {},
     "output_type": "display_data"
    },
    {
     "name": "stdout",
     "output_type": "stream",
     "text": [
      "Original graph\n"
     ]
    },
    {
     "data": {
      "image/png": "[encoded data removed]",
      "text/plain": [
       "<Figure size 640x480 with 1 Axes>"
      ]
     },
     "metadata": {},
     "output_type": "display_data"
    },
    {
     "name": "stdout",
     "output_type": "stream",
     "text": [
      "match_branches = [[0, 2], [1, 4]]\n",
      "branches_to_avoid= []\n",
      "1: No Pair so adding back old edge\n",
      "1: Old neighbors = [2]\n",
      "4: No Pair so adding back old edge\n",
      "4: Old neighbors = [2]\n",
      "new_neighbors = [[1, 2], [2, 4]]\n",
      "edges_to_delete (resolve crossover) = [[0, 1], [0, 4]]\n",
      "edges_to_create (resolve crossover) = [[0, 2], [1, 4], [1, 2], [2, 4]]\n",
      "nx.number_connected_components(G) before = 1\n",
      "G.edges() = [(2, 0)]\n",
      "G.nodes() = [2, 0]\n",
      "nx.number_connected_components(G) after = 1\n",
      "NOT USING the resolve crossover delete edges because not help resolve the cut\n",
      "skip_nodes = []\n",
      "\n",
      "Attempting the doubling back check (symmetrical so don't need to check from both sides)\n"
     ]
    },
    {
     "data": {
      "application/vnd.jupyter.widget-view+json": {
       "model_id": "8be0a4d6ed134732bfae5ba6468ed041",
       "version_major": 2,
       "version_minor": 0
      },
      "text/plain": [
       "  0%|          | 0/1 [00:00<?, ?it/s]"
      ]
     },
     "metadata": {},
     "output_type": "display_data"
    },
    {
     "name": "stdout",
     "output_type": "stream",
     "text": [
      "  Edge: [2 0]: curr_angle = 77.49\n",
      "Total time for doubling_back = 0.02703237533569336\n",
      "\n",
      "Attempting the width jump check (ARTIFICIALLY ATTEMPTING FROM BOTH SIDES)\n",
      "width_jump_threshold = 200\n",
      "  Edge: [2 0]: jump = -532.65\n",
      "Total time for width = 0.022286653518676758\n",
      "Did not find an error edge in either of the paths\n",
      "Number of connected components = 2\n",
      "Comp 0 = {0, 1, 2, 4, 5, 6}\n",
      "Comp 1 = {3}\n",
      "curr_limb_copy.deleted_edges = []\n",
      "curr_limb_copy.created_edges = []\n",
      "After get best cut: cut_edges = None, added_edges = []\n",
      "***** there was no suggested cut for this limb even though it is still connnected***\n",
      "--> So Setting the default_cut_edge to last\n",
      "edges_to_delete (cut_limb_network) = [[2, 0]]\n",
      "edges_to_create = []\n",
      "edge_diff = [[2 0]]\n",
      "total_soma_paths_to_cut = []\n",
      "\n",
      "\n",
      "suggested_cut_points = [[1494140.   586827.5 1109275. ]]\n",
      "\n",
      "\n"
     ]
    },
    {
     "data": {
      "application/vnd.jupyter.widget-view+json": {
       "model_id": "b7d1ffdf2cb64735a39e79ae6fa00a55",
       "version_major": 2,
       "version_minor": 0
      },
      "text/plain": [
       "HBox(children=(FloatSlider(value=0.3, description='Size', max=3.0), Dropdown(description='Geo', index=3, optio…"
      ]
     },
     "metadata": {},
     "output_type": "display_data"
    },
    {
     "data": {
      "application/vnd.jupyter.widget-view+json": {
       "model_id": "5048f2945af841ccaadaaef676366353",
       "version_major": 2,
       "version_minor": 0
      },
      "text/plain": [
       "HBox(children=(FloatSlider(value=0.3, description='Size', max=3.0), Dropdown(description='Geo', index=3, optio…"
      ]
     },
     "metadata": {},
     "output_type": "display_data"
    },
    {
     "data": {
      "application/vnd.jupyter.widget-view+json": {
       "model_id": "e079f18cf036413989e3fa32b271628d",
       "version_major": 2,
       "version_minor": 0
      },
      "text/plain": [
       "Container(figure=Figure(box_center=[0.5, 0.5, 0.5], box_size=[1.0, 1.0, 1.0], camera=PerspectiveCamera(fov=45.…"
      ]
     },
     "metadata": {},
     "output_type": "display_data"
    },
    {
     "name": "stdout",
     "output_type": "stream",
     "text": [
      "-----------counter = 0------------\n",
      " Cut iteration 1\n",
      "Total number of graphs at the end of the split BEFORE DIRECTIONAL = 3\n",
      "Total number of graphs at the end of the split AFTER DIRECTIONAL = 3\n",
      "No valid path so moving onto the next connection\n",
      "\n",
      "\n",
      "**** Computing red blue splits****\n",
      "Conn comp size before expansion = [5, 1]\n",
      "Not expanding to removed branches\n",
      "\n",
      "--Doing Red/Blue splits for S0_0\n",
      "error_branches=[1 2 4 5 6]\n",
      "valid_upstream_branches_restriction = [0]\n",
      "Error Branches = [1 2 4 5 6]\n",
      "\n",
      "**conn_comp_errors = [[2], [1], [4, 5, 6]]\n",
      "Grouping all conn comp together\n",
      "\n",
      "**conn_comp_errors AFTER PAIRING = [[2, 1, 4, 5, 6]]\n",
      "Working on connected component: [2, 1, 4, 5, 6]\n",
      "Branch 2 had a valid upstream node 0 with common endpoint [[1494140.   586827.5 1109275. ]]\n",
      "Branch 1 had a valid upstream node 0 with common endpoint [[1494140.   586827.5 1109275. ]]\n",
      "Branch 4 had a valid upstream node 0 with common endpoint [[1494140.   586827.5 1109275. ]]\n",
      "Skipping upstream node 4 because was not in valid_upstream_branches_restriction\n",
      "Skipping upstream node 4 because was not in valid_upstream_branches_restriction\n",
      "valid_upstream_branches = [0, 0, 0]\n",
      "error_border_branches = [2, 1, 4]\n",
      "error_border_coordinates = [array([[1494140. ,  586827.5, 1109275. ]]), array([[1494140. ,  586827.5, 1109275. ]]), array([[1494140. ,  586827.5, 1109275. ]])]\n",
      "\n",
      "Grouping Red Blue into Common Upstream Groups\n",
      "\n",
      "After Adding Downstream Valid Nodes\n",
      "error_border_branches = [2, 1, 4]\n",
      "valid_upstream_branches = [0, 0, 0]\n",
      "error_border_coordinates = [array([[1494140. ,  586827.5, 1109275. ]]), array([[1494140. ,  586827.5, 1109275. ]]), array([[1494140. ,  586827.5, 1109275. ]])]\n",
      "\n",
      "Skipping Branch 1 one hop downstream because skeletal distance (5938.92131223586) larger than threshold one_hop_downstream_error_branches_max_distance\n",
      "Skipping Branch 4 one hop downstream because skeletal distance (4226.60706351396) larger than threshold one_hop_downstream_error_branches_max_distance\n",
      "\n",
      "After Adding Downstream Error Nodes\n",
      "error_border_branches = [2, 1, 4]\n",
      "valid_upstream_branches = [0, 0, 0]\n",
      "error_border_coordinates = [array([[1494140. ,  586827.5, 1109275. ]]), array([[1494140. ,  586827.5, 1109275. ]]), array([[1494140. ,  586827.5, 1109275. ]])]\n",
      "\n",
      "error_branches_to_skip = [] after upsream branches in branches list\n",
      "filtered_skip_nodes according to min_error_downstream_length_total (5000) = [2]\n",
      "nodes_not_to_skip= [2 0]\n",
      "Before laying down points\n",
      "valid nodes to process: [0]\n",
      "Error nodes to process: [1 2 4]\n",
      "double_point_flags = [True, False]\n",
      "downstream_errors = []\n",
      "For Pair 0: coordinate [[1494140.   586827.5 1109275. ]]\n",
      "point_array= [[1492703.3094929   587570.46469834 1109734.73897416]\n",
      " [1491725.70426576  588025.7601359  1111027.80679463]]\n",
      "Deciding between min_cancel_distance = 1683.7548229921204, and min_cancel_distance_absolute = 1000\n",
      "After min: min_cancel_distance = 1683.7548229921204\n",
      "blue 0 node offset skeleton coordinate is [1492703.3094929   587570.46469834 1109734.73897416]\n",
      " --> using closest_mesh_face method curr_points = [[1493117.          587606.56666667 1109977.66666667]]\n",
      "blue 0 node offset skeleton coordinate is [1491725.70426576  588025.7601359  1111027.80679463]\n",
      " --> using closest_mesh_face method curr_points = [[1491484.          587942.7        1110863.66666667]]\n",
      "point_array= [[1493628.81251718  587005.24566003 1108437.90081251]\n",
      " [1493121.52134603  587174.51944904 1107597.15131874]\n",
      " [1492741.98358909  587116.48857027 1106678.36898769]]\n",
      "Deciding between min_cancel_distance = 995.7798269099709, and min_cancel_distance_absolute = 1000\n",
      "After min: min_cancel_distance = 1000.0\n",
      "red 2 node offset skeleton coordinate is [1493628.81251718  587005.24566003 1108437.90081251]\n",
      " --> using closest_mesh_face method curr_points = [[1493550.   586432.9 1108461. ]]\n",
      "red 2 node offset skeleton coordinate is [1493121.52134603  587174.51944904 1107597.15131874]\n",
      " --> using closest_mesh_face method curr_points = [[1492741.          586506.23333333 1107844.        ]]\n",
      "red 2 node offset skeleton coordinate is [1492741.98358909  587116.48857027 1106678.36898769]\n",
      " --> using closest_mesh_face method curr_points = [[1493620.          587008.53333333 1106546.66666667]]\n",
      "\n",
      "downstream_errors = []\n",
      "For Pair 1: coordinate [[1494140.   586827.5 1109275. ]]\n",
      "point_array= [[1494209.5609397   586493.35696738 1110214.4733009 ]\n",
      " [1494250.574229    586166.32906628 1111151.64571804]\n",
      " [1493812.30586308  585977.77395051 1112022.43680831]]\n",
      "Deciding between min_cancel_distance = 992.9296627385978, and min_cancel_distance_absolute = 1000\n",
      "After min: min_cancel_distance = 1000.0\n",
      "red 1 node offset skeleton coordinate is [1494209.5609397   586493.35696738 1110214.4733009 ]\n",
      " --> using closest_mesh_face method curr_points = [[1494276.66666667  586351.6        1110463.33333333]]\n",
      "red 1 node offset skeleton coordinate is [1494250.574229    586166.32906628 1111151.64571804]\n",
      " --> using closest_mesh_face method curr_points = [[1494393.66666667  586206.9        1111457.66666667]]\n",
      "red 1 node offset skeleton coordinate is [1493812.30586308  585977.77395051 1112022.43680831]\n",
      " --> using closest_mesh_face method curr_points = [[1493594.          585899.5        1112053.66666667]]\n",
      "\n",
      "downstream_errors = []\n",
      "For Pair 2: coordinate [[1494140.   586827.5 1109275. ]]\n",
      "point_array= [[1495078.81988244  586696.67909245 1109593.54193657]\n",
      " [1496019.80347424  586575.91746511 1109906.68016469]\n",
      " [1496990.87465069  586727.50157785 1110080.51677213]]\n",
      "Deciding between min_cancel_distance = 998.0862382868577, and min_cancel_distance_absolute = 1000\n",
      "After min: min_cancel_distance = 1000.0\n",
      "red 4 node offset skeleton coordinate is [1495078.81988244  586696.67909245 1109593.54193657]\n",
      " --> using closest_mesh_face method curr_points = [[1495067.          586994.33333333 1109657.33333333]]\n",
      "red 4 node offset skeleton coordinate is [1496019.80347424  586575.91746511 1109906.68016469]\n",
      " --> using closest_mesh_face method curr_points = [[1496026.66666667  586997.86666667 1110036.33333333]]\n",
      "red 4 node offset skeleton coordinate is [1496990.87465069  586727.50157785 1110080.51677213]\n",
      " --> using closest_mesh_face method curr_points = [[1497022.          586978.93333333 1109879.33333333]]\n",
      "\n",
      "final_blue_points = [[1493117.          587606.56666667 1109977.66666667]\n",
      " [1491484.          587942.7        1110863.66666667]], voxels = [[373279.25       146901.64166667  27749.44166667]\n",
      " [372871.         146985.675       27771.59166667]]\n",
      "final_red_points = [[1493550.          586432.9        1108461.        ]\n",
      " [1492741.          586506.23333333 1107844.        ]\n",
      " [1493620.          587008.53333333 1106546.66666667]\n",
      " [1494276.66666667  586351.6        1110463.33333333]\n",
      " [1494393.66666667  586206.9        1111457.66666667]\n",
      " [1493594.          585899.5        1112053.66666667]\n",
      " [1495067.          586994.33333333 1109657.33333333]\n",
      " [1496026.66666667  586997.86666667 1110036.33333333]\n",
      " [1497022.          586978.93333333 1109879.33333333]], voxels = [[373279.25       146901.64166667  27749.44166667]\n",
      " [372871.         146985.675       27771.59166667]]\n",
      "\n",
      "# of red_blue_splits made = 1\n",
      "\n",
      "--Doing Red/Blue splits for S1_0\n",
      "error_branches=[0]\n",
      "valid_upstream_branches_restriction = [1, 2, 4, 5, 6]\n",
      "Error Branches = [0]\n",
      "\n",
      "**conn_comp_errors = [[0]]\n",
      "Grouping all conn comp together\n",
      "\n",
      "**conn_comp_errors AFTER PAIRING = [[0]]\n",
      "Working on connected component: [0]\n",
      "Branch 0 had a valid upstream node 2 with common endpoint [[1494140.   586827.5 1109275. ]]\n",
      "valid_upstream_branches = [2]\n",
      "error_border_branches = [0]\n",
      "error_border_coordinates = [array([[1494140. ,  586827.5, 1109275. ]])]\n",
      "\n",
      "Grouping Red Blue into Common Upstream Groups\n",
      "Valid Branch 2 had a valid downstream node 1 with common endpoint [[1494140.   586827.5 1109275. ]]\n",
      "Valid Branch 2 had a valid downstream node 4 with common endpoint [[1494140.   586827.5 1109275. ]]\n",
      "\n",
      "After Adding Downstream Valid Nodes\n",
      "error_border_branches = [0, -1, -1]\n",
      "valid_upstream_branches = [2, 1, 4]\n",
      "error_border_coordinates = [array([[1494140. ,  586827.5, 1109275. ]]), array([[1494140. ,  586827.5, 1109275. ]]), array([[1494140. ,  586827.5, 1109275. ]])]\n",
      "\n",
      "Skipping Branch 0 one hop downstream because skeletal distance (26400.863223598884) larger than threshold one_hop_downstream_error_branches_max_distance\n",
      "\n",
      "After Adding Downstream Error Nodes\n",
      "error_border_branches = [0, -1, -1]\n",
      "valid_upstream_branches = [2, 1, 4]\n",
      "error_border_coordinates = [array([[1494140. ,  586827.5, 1109275. ]]), array([[1494140. ,  586827.5, 1109275. ]]), array([[1494140. ,  586827.5, 1109275. ]])]\n",
      "\n",
      "error_branches_to_skip = [] after upsream branches in branches list\n",
      "filtered_skip_nodes according to min_error_downstream_length_total (5000) = []\n",
      "nodes_not_to_skip= [2 0]\n",
      "Before laying down points\n",
      "valid nodes to process: [1 2 4]\n",
      "Error nodes to process: [0]\n",
      "double_point_flags = [False, True]\n",
      "downstream_errors = []\n",
      "For Pair 0: coordinate [[1494140.   586827.5 1109275. ]]\n",
      "point_array= [[1493327.06492702  587110.16670442 1107943.77161131]\n",
      " [1492680.          587102.         1106510.        ]]\n",
      "Deciding between min_cancel_distance = 1573.0418774619327, and min_cancel_distance_absolute = 1000\n",
      "After min: min_cancel_distance = 1573.0418774619327\n",
      "blue 2 node offset skeleton coordinate is [1493327.06492702  587110.16670442 1107943.77161131]\n",
      " --> using closest_mesh_face method curr_points = [[1493427.66666667  586378.36666667 1107888.66666667]]\n",
      "blue 2 node offset skeleton coordinate is [1492680.  587102. 1106510.]\n",
      " --> using closest_mesh_face method curr_points = [[1493623.          587062.26666667 1106455.33333333]]\n"
     ]
    },
    {
     "name": "stdout",
     "output_type": "stream",
     "text": [
      "point_array= [[1493276.53596579  587269.26560726 1109505.43425742]\n",
      " [1492525.72486999  587673.89764579 1109951.10287531]\n",
      " [1491981.30011387  587974.37648586 1110724.82928437]]\n",
      "Deciding between min_cancel_distance = 962.3226616714535, and min_cancel_distance_absolute = 1000\n",
      "After min: min_cancel_distance = 1000.0\n",
      "red 0 node offset skeleton coordinate is [1493276.53596579  587269.26560726 1109505.43425742]\n",
      " --> using closest_mesh_face method curr_points = [[1493480.33333333  587423.53333333 1109805.66666667]]\n",
      "red 0 node offset skeleton coordinate is [1492525.72486999  587673.89764579 1109951.10287531]\n",
      " --> using closest_mesh_face method curr_points = [[1492041.33333333  587758.66666667 1109846.        ]]\n",
      "red 0 node offset skeleton coordinate is [1491981.30011387  587974.37648586 1110724.82928437]\n",
      " --> using closest_mesh_face method curr_points = [[1492224.33333333  588010.93333333 1110983.66666667]]\n",
      "\n",
      "For Pair 1: coordinate [[1494140.   586827.5 1109275. ]]\n",
      "point_array= [[1494258.2594134   586259.42890726 1110872.18315975]\n",
      " [1493558.80068275  585958.10746049 1112329.35354976]]\n",
      "Deciding between min_cancel_distance = 1644.1966657600951, and min_cancel_distance_absolute = 1000\n",
      "After min: min_cancel_distance = 1644.1966657600951\n",
      "blue 1 node offset skeleton coordinate is [1494258.2594134   586259.42890726 1110872.18315975]\n",
      " --> using closest_mesh_face method curr_points = [[1494204.33333333  586220.83333333 1110804.        ]]\n",
      "blue 1 node offset skeleton coordinate is [1493558.80068275  585958.10746049 1112329.35354976]\n",
      " --> using closest_mesh_face method curr_points = [[1493421.66666667  586035.06666667 1112275.33333333]]\n",
      "\n",
      "For Pair 2: coordinate [[1494140.   586827.5 1109275. ]]\n",
      "point_array= [[1495735.94124956  586605.11177989 1109816.50346173]\n",
      " [1497371.94935734  586810.88072166 1110157.82529287]]\n",
      "Deciding between min_cancel_distance = 1683.853906531173, and min_cancel_distance_absolute = 1000\n",
      "After min: min_cancel_distance = 1683.853906531173\n",
      "blue 4 node offset skeleton coordinate is [1495735.94124956  586605.11177989 1109816.50346173]\n",
      " --> using closest_mesh_face method curr_points = [[1495694.66666667  587003.66666667 1109915.33333333]]\n",
      "blue 4 node offset skeleton coordinate is [1497371.94935734  586810.88072166 1110157.82529287]\n",
      " --> using closest_mesh_face method curr_points = [[1497455.          587054.83333333 1109907.66666667]]\n",
      "Having to use surrounding neighbors mesh \n",
      "parent_node of branch 4 = branch 2\n",
      "child_nodes of branch 4 = [5 6]\n",
      "neighbors = [2, 5, 6]\n",
      "\n",
      "final_blue_points = [[1493427.66666667  586378.36666667 1107888.66666667]\n",
      " [1493623.          587062.26666667 1106455.33333333]\n",
      " [1494204.33333333  586220.83333333 1110804.        ]\n",
      " [1493421.66666667  586035.06666667 1112275.33333333]\n",
      " [1495694.66666667  587003.66666667 1109915.33333333]\n",
      " [1497455.          587054.83333333 1109907.66666667]], voxels = [[373356.91666667 146594.59166667  27697.21666667]\n",
      " [373405.75       146765.56666667  27661.38333333]\n",
      " [373551.08333333 146555.20833333  27770.1       ]\n",
      " [373355.41666667 146508.76666667  27806.88333333]\n",
      " [373923.66666667 146750.91666667  27747.88333333]\n",
      " [374363.75       146763.70833333  27747.69166667]]\n",
      "final_red_points = [[1493480.33333333  587423.53333333 1109805.66666667]\n",
      " [1492041.33333333  587758.66666667 1109846.        ]\n",
      " [1492224.33333333  588010.93333333 1110983.66666667]], voxels = [[373356.91666667 146594.59166667  27697.21666667]\n",
      " [373405.75       146765.56666667  27661.38333333]\n",
      " [373551.08333333 146555.20833333  27770.1       ]\n",
      " [373355.41666667 146508.76666667  27806.88333333]\n",
      " [373923.66666667 146750.91666667  27747.88333333]\n",
      " [374363.75       146763.70833333  27747.69166667]]\n",
      "\n",
      "# of red_blue_splits made = 1\n",
      "Total number of graphs at the end of the split = 3: [array([1, 2, 4, 5, 6]), array([0]), array([3])]\n",
      "\n",
      "\n",
      "-------- Suggestions for Limb 4------\n",
      "\n",
      " Working on visualization type: mesh\n",
      "\n",
      " Working on visualization type: skeleton\n"
     ]
    },
    {
     "data": {
      "application/vnd.jupyter.widget-view+json": {
       "model_id": "d86365fcef504c6c97b04337c1b409a3",
       "version_major": 2,
       "version_minor": 0
      },
      "text/plain": [
       "Container(figure=Figure(box_center=[0.5, 0.5, 0.5], box_size=[1.0, 1.0, 1.0], camera=PerspectiveCamera(fov=45.…"
      ]
     },
     "metadata": {},
     "output_type": "display_data"
    },
    {
     "data": {
      "text/plain": [
       "{4: [{'starting_node_1': 2,\n",
       "   'starting_node_2': 0,\n",
       "   'title': 'S0_0 from S1_0 ',\n",
       "   'edges_to_delete': [[2, 0]],\n",
       "   'edges_to_create': [],\n",
       "   'removed_branches': [3],\n",
       "   'coordinate_suggestions': [array([1494140. ,  586827.5, 1109275. ])],\n",
       "   'successful_disconnection': True,\n",
       "   'paths_not_cut': [],\n",
       "   'paths_cut': [array([[1474820.        ,  582858.        , 1113480.        ],\n",
       "           [1476671.04999907,  583333.4931249 , 1112958.35625035],\n",
       "           [1478493.22179176,  583780.41634382, 1112385.64591404],\n",
       "           [1479867.62664161,  585160.28799248, 1112383.19059708],\n",
       "           [1481744.05357596,  585457.92351107, 1111903.98660601],\n",
       "           [1483631.3859346 ,  585305.69893645, 1111963.79531153],\n",
       "           [1485432.80605438,  585572.94772961, 1111482.54470242],\n",
       "           [1486777.99158813,  586494.43532986, 1112717.02944155],\n",
       "           [1487146.44785555,  586067.27797744, 1111088.22392778],\n",
       "           [1487678.79101142,  587815.36330806, 1113718.37788776],\n",
       "           [1489472.47815786,  587782.07490688, 1113056.16728747],\n",
       "           [1490989.66179811,  588090.24505621, 1111800.33820189],\n",
       "           [1492271.16826425,  587860.76218192, 1110304.97917386],\n",
       "           [1492680.        ,  587102.        , 1106510.        ],\n",
       "           [1493336.80262566,  587244.9592123 , 1108377.76840211],\n",
       "           [1493382.22648348,  587226.25783884, 1108784.80487187],\n",
       "           [1493440.        ,  587207.        , 1108650.        ]])],\n",
       "   'split_reasons': {'default_edge_last': [array([1494140. ,  586827.5, 1109275. ])]}}]}"
      ]
     },
     "execution_count": 73,
     "metadata": {},
     "output_type": "execute_result"
    }
   ],
   "source": [
    "(split_results,\n",
    "red_blue_split_results) = pru.multi_soma_split_suggestions(\n",
    "    neuron_obj,\n",
    "    plot_intermediates=plot_intermediates,\n",
    "    plot_suggestions=plot_suggestions,\n",
    "    plot_cut_coordinates = plot_cut_coordinates,\n",
    "    only_multi_soma_paths=only_multi_soma_paths,\n",
    "    default_cut_edge = \"last\",\n",
    "    verbose = verbose,\n",
    "    output_red_blue_suggestions = True,\n",
    "    split_red_blue_by_common_upstream = True,\n",
    "    apply_valid_upstream_branches_restriction = True,\n",
    "    debug_red_blue = False,\n",
    ")"
   ]
  },
  {
   "cell_type": "code",
   "execution_count": 143,
   "id": "5d1842f6",
   "metadata": {
    "scrolled": true
   },
   "outputs": [
    {
     "name": "stdout",
     "output_type": "stream",
     "text": [
      "\n",
      "\n",
      "-------- Suggestions for Limb 4------\n"
     ]
    },
    {
     "data": {
      "application/vnd.jupyter.widget-view+json": {
       "model_id": "75232a1149cb430cb843c02443d910e6",
       "version_major": 2,
       "version_minor": 0
      },
      "text/plain": [
       "HBox(children=(FloatSlider(value=1.0, description='Size', max=3.0), Dropdown(description='Geo', index=3, optio…"
      ]
     },
     "metadata": {},
     "output_type": "display_data"
    },
    {
     "data": {
      "application/vnd.jupyter.widget-view+json": {
       "model_id": "6d23f04228da4635a6a9dc9d4c5f5d79",
       "version_major": 2,
       "version_minor": 0
      },
      "text/plain": [
       "HBox(children=(FloatSlider(value=0.3, description='Size', max=3.0), Dropdown(description='Geo', index=3, optio…"
      ]
     },
     "metadata": {},
     "output_type": "display_data"
    },
    {
     "data": {
      "application/vnd.jupyter.widget-view+json": {
       "model_id": "fbc2a85b6d5549cabb1a5352b4d1ae48",
       "version_major": 2,
       "version_minor": 0
      },
      "text/plain": [
       "HBox(children=(FloatSlider(value=0.3, description='Size', max=3.0), Dropdown(description='Geo', index=3, optio…"
      ]
     },
     "metadata": {},
     "output_type": "display_data"
    },
    {
     "data": {
      "application/vnd.jupyter.widget-view+json": {
       "model_id": "8631597cc31b408f94d425477f44f8b2",
       "version_major": 2,
       "version_minor": 0
      },
      "text/plain": [
       "Container(figure=Figure(box_center=[0.5, 0.5, 0.5], box_size=[1.0, 1.0, 1.0], camera=PerspectiveCamera(fov=45.…"
      ]
     },
     "metadata": {},
     "output_type": "display_data"
    }
   ],
   "source": [
    "from neurd import soma_splitting_utils as ssu\n",
    "ssu.plot_red_blue_split_suggestions_per_limb(\n",
    "    neuron_obj,\n",
    "    red_blue_split_results,\n",
    "    \n",
    ")"
   ]
  },
  {
   "cell_type": "markdown",
   "id": "93828918",
   "metadata": {},
   "source": [
    "# Step 5: Splitting Multi-Neuron"
   ]
  },
  {
   "cell_type": "code",
   "execution_count": 149,
   "id": "ee35234c",
   "metadata": {},
   "outputs": [],
   "source": [
    "import numpy as np\n",
    "from neurd import soma_splitting_utils as ssu\n",
    "from neurd import proofreading_utils as pru\n",
    "\n",
    "neurd.set_volume_params(\n",
    "    \"microns\"\n",
    ")"
   ]
  },
  {
   "cell_type": "code",
   "execution_count": 147,
   "id": "951a5a98",
   "metadata": {},
   "outputs": [
    {
     "name": "stdout",
     "output_type": "stream",
     "text": [
      "n_paths_multi_soma = 1\n",
      "n_paths_multi_touch = 0\n",
      "n_paths_cut = 1\n"
     ]
    }
   ],
   "source": [
    "n_paths_cut = pru.get_n_paths_cut(\n",
    "    split_results,\n",
    "    verbose = True)"
   ]
  },
  {
   "cell_type": "code",
   "execution_count": 150,
   "id": "1f386430",
   "metadata": {
    "scrolled": true
   },
   "outputs": [
    {
     "name": "stdout",
     "output_type": "stream",
     "text": [
      "using precomputed split suggestions\n",
      "\n",
      "\n",
      "---Working on Splitting Limb 4 with 3 components----\n",
      "\n",
      "\n",
      "----Working on seperate_graph 0----\n",
      "\n",
      "\n",
      "---------Working on soma_idx = 0, soma_group_idx 0, endpt = [1492680.  587102. 1106510.]---------\n",
      "Starting_edge inside branches_to_conept = [[1492680.   587102.  1106510. ]\n",
      " [1494140.   586827.5 1109275. ]]\n",
      "At the start, starting_node (in terms of the skeleton, that shouldn't match the starting edge) = [1]\n",
      "printing out current edge:\n",
      "[[1492680.   587102.  1106510. ]\n",
      " [1494140.   586827.5 1109275. ]]\n",
      "edge_endpoints_to_process was empty so exiting loop after 5 iterations\n",
      "starting_node in concept map (that should match the starting edge) = 1\n",
      "Total time for branches to concept conversion = 0.03776240348815918\n",
      "\n",
      "Done generating concept network \n",
      "\n",
      "\n",
      "\n",
      "\n",
      "----Working on seperate_graph 1----\n",
      "\n",
      "\n",
      "---------Working on soma_idx = 1, soma_group_idx 0, endpt = [1474820.  582858. 1113480.]---------\n",
      "Starting_edge inside branches_to_conept = [[1474820.   582858.  1113480. ]\n",
      " [1494140.   586827.5 1109275. ]]\n",
      "Done generating concept network \n",
      "\n",
      "\n",
      "\n",
      "\n",
      "----Working on seperate_graph 2----\n",
      "There was no starting information so doing to put dummy information and random starting endpoint = [1494308.86029412  586743.16176471 1109285.18382353]\n",
      "\n",
      "\n",
      "---------Working on soma_idx = -1, soma_group_idx -1, endpt = [1494308.86029412  586743.16176471 1109285.18382353]---------\n",
      "Starting_edge inside branches_to_conept = [[1494308.86029412  586743.16176471 1109285.18382353]\n",
      " [1494314.09479412  586748.39626471 1109290.41832353]]\n",
      "Done generating concept network \n",
      "\n",
      "\n",
      "\n",
      "\n",
      "------ Working on Soma 0 -------\n",
      "limb_neighbors = [0, 1, 4, 5, 6]\n",
      "limb_neighbors BEFORE error limbs removed = [0, 1, 4, 5, 6]\n",
      "limb_neighbors AFTER error limbs removed = [0 1 4 5 6]\n",
      "curr_n_multi_soma_limbs_cancelled = 0\n",
      "curr_n_same_soma_limbs_cancelled = 0\n",
      "n_errored_lims = 0\n",
      "curr_error_limbs_cancelled_area = []\n",
      "local_floating_meshes = [<trimesh.Trimesh(vertices.shape=(113, 3), faces.shape=(176, 3))>, <trimesh.Trimesh(vertices.shape=(75, 3), faces.shape=(140, 3))>]\n",
      "Already have preprocessed data\n",
      "--- 1) Finished unpacking preprocessed materials: 5.6743621826171875e-05\n",
      "total_edges = [['S0', 'L0'], ['S0', 'L1'], ['S0', 'L2'], ['S0', 'L3'], ['S0', 'L4']]\n",
      "--- 2) Finished creating neuron connectivity graph: 0.000133514404296875\n",
      "Having to generate soma_meshes_face_idx because none in preprocessed data\n",
      "--- 3a) Finshed generating soma_meshes_face_idx: 0.02812814712524414\n",
      "Using precomputed volume ratio\n",
      "--- 3b) Finished soma creation: 0.043569326400756836\n",
      "--- 3) Finshed generating soma objects and adding them to concept graph: 4.696846008300781e-05\n",
      "Using already existing limb_mehses_face_idx in preprocessed data \n",
      "curr_limb_concept_networks= {0: [<python_tools.networkx_utils.GraphOrderedEdges object at 0x7fc481b4acd0>]}\n",
      "curr_limb_concept_networks= {0: [<python_tools.networkx_utils.GraphOrderedEdges object at 0x7fc480982dc0>]}\n",
      "curr_limb_concept_networks= {0: [<python_tools.networkx_utils.GraphOrderedEdges object at 0x7fc480fe9af0>]}\n",
      "curr_limb_concept_networks= {0: [<python_tools.networkx_utils.GraphOrderedEdges object at 0x7fc480982d60>]}\n",
      "curr_limb_concept_networks= {0: [<python_tools.networkx_utils.GraphOrderedEdges object at 0x7fc47f55e580>]}\n",
      "--- 4) Finshed generating Limb objects and adding them to concept graph: 0.4139375686645508\n",
      "--- 5) SKIPPING Doing the adaptive mesh correspondence on the meshparty preprocessing ---\n",
      "--- 6) SKIPPING Using the computed_attribute_dict to populate neuron attributes ---\n",
      "self.n_limbs = 5\n",
      "7) Calculating the spines for the neuorn if do not already exist\n",
      "Total time for neuron instance creation = 1.6359450817108154\n",
      "\n",
      "\n",
      "------ Working on Soma 1 -------\n",
      "limb_neighbors = [2, 3, 7, 8]\n",
      "limb_neighbors BEFORE error limbs removed = [2, 3, 7, 8]\n",
      "limb_neighbors AFTER error limbs removed = [2 3 7 8]\n",
      "curr_n_multi_soma_limbs_cancelled = 0\n",
      "curr_n_same_soma_limbs_cancelled = 0\n",
      "n_errored_lims = 0\n",
      "curr_error_limbs_cancelled_area = []\n",
      "local_floating_meshes = []\n",
      "Already have preprocessed data\n",
      "--- 1) Finished unpacking preprocessed materials: 3.7670135498046875e-05\n",
      "total_edges = [['S0', 'L0'], ['S0', 'L1'], ['S0', 'L2'], ['S0', 'L3']]\n",
      "--- 2) Finished creating neuron connectivity graph: 0.00011873245239257812\n",
      "Having to generate soma_meshes_face_idx because none in preprocessed data\n",
      "--- 3a) Finshed generating soma_meshes_face_idx: 0.00965261459350586\n",
      "Using precomputed volume ratio\n",
      "--- 3b) Finished soma creation: 0.02829599380493164\n",
      "--- 3) Finshed generating soma objects and adding them to concept graph: 2.765655517578125e-05\n",
      "Using already existing limb_mehses_face_idx in preprocessed data \n",
      "curr_limb_concept_networks= {0: [<python_tools.networkx_utils.GraphOrderedEdges object at 0x7fc47f6aa0d0>]}\n",
      "curr_limb_concept_networks= {0: [<python_tools.networkx_utils.GraphOrderedEdges object at 0x7fc47e1cb580>]}\n",
      "curr_limb_concept_networks= {0: [<python_tools.networkx_utils.GraphOrderedEdges object at 0x7fc47e1cb9d0>]}\n",
      "curr_limb_concept_networks= {0: [<python_tools.networkx_utils.GraphOrderedEdges object at 0x7fc47e1cbf10>]}\n",
      "--- 4) Finshed generating Limb objects and adding them to concept graph: 0.16010427474975586\n",
      "--- 5) SKIPPING Doing the adaptive mesh correspondence on the meshparty preprocessing ---\n",
      "--- 6) SKIPPING Using the computed_attribute_dict to populate neuron attributes ---\n",
      "self.n_limbs = 4\n",
      "7) Calculating the spines for the neuorn if do not already exist\n",
      "Total time for neuron instance creation = 0.6022777557373047\n",
      "\n",
      "\n",
      "Number of seperate neuron objects = 2\n",
      "Filter limb lengths for limb size of 15000\n",
      "limb_idx_to_filter = []\n",
      "map_idx= {0: 0, 1: 1, 2: 2, 3: 3, 4: 4}\n",
      "limb_meshes_new = 5\n",
      "limb_mehses_face_idx_new = 5\n",
      "limb_correspondence_new = dict_keys([0, 1, 2, 3, 4])\n",
      "limb_labels_new = dict_keys([0, 1, 2, 3, 4])\n",
      "limb_concept_networks_new = dict_keys([0, 1, 2, 3, 4])\n",
      "limb_network_stating_info_new = dict_keys([0, 1, 2, 3, 4])\n",
      "map_idx_limbs_names= {'L0': 'L0', 'L1': 'L1', 'L2': 'L2', 'L3': 'L3', 'L4': 'L4'}\n",
      "Finished relabeling nodes\n",
      "neuron_obj.concept_network.nodes at end = ['S0', 'L0', 'L1', 'L2', 'L3', 'L4']\n",
      "limb_idx_to_filter = [2]\n",
      "map_idx= {0: 0, 1: 1, 3: 2}\n",
      "limb_meshes_new = 3\n",
      "limb_mehses_face_idx_new = 3\n",
      "limb_correspondence_new = dict_keys([0, 1, 2])\n",
      "limb_labels_new = dict_keys([0, 1, 2])\n",
      "limb_concept_networks_new = dict_keys([0, 1, 2])\n",
      "limb_network_stating_info_new = dict_keys([0, 1, 2])\n",
      "map_idx_limbs_names= {'L0': 'L0', 'L1': 'L1', 'L3': 'L2'}\n",
      "Finished relabeling nodes\n",
      "neuron_obj.concept_network.nodes at end = ['S0', 'L0', 'L1', 'L2']\n"
     ]
    }
   ],
   "source": [
    "verbose = True\n",
    "\n",
    "(neuron_list,\n",
    "neuron_list_errored_limbs_area,\n",
    "neuron_list_errored_limbs_skeletal_length,\n",
    "neuron_list_n_multi_soma_errors,\n",
    "neuron_list_n_same_soma_errors) = pru.split_neuron(neuron_obj,\n",
    "    limb_results=split_results,\n",
    "    verbose=verbose,\n",
    "    return_error_info=True,\n",
    ")\n",
    "\n",
    "multiplicity = len(neuron_list)"
   ]
  },
  {
   "cell_type": "markdown",
   "id": "6bc16121",
   "metadata": {},
   "source": [
    "# Cell Typing"
   ]
  },
  {
   "cell_type": "code",
   "execution_count": null,
   "id": "8594b3a2",
   "metadata": {},
   "outputs": [],
   "source": [
    "\"\"\"\n",
    "Functions to be implemented in volume_utils\n",
    "\n",
    "nuclei_from_segment_id\n",
    "-> returns nucleus_ids,nucleus_centers\n",
    "\n",
    "\"\"\""
   ]
  },
  {
   "cell_type": "code",
   "execution_count": 163,
   "id": "2c68373e",
   "metadata": {},
   "outputs": [
    {
     "data": {
      "text/plain": [
       "<neurd.microns_volume_utils.DataInterface at 0x7fc643c9f370>"
      ]
     },
     "execution_count": 163,
     "metadata": {},
     "output_type": "execute_result"
    }
   ],
   "source": [
    "segment_id = 12345\n",
    "verbose = True\n",
    "\n",
    "hdju = pru.data_mod\n",
    "hdju"
   ]
  },
  {
   "cell_type": "code",
   "execution_count": 164,
   "id": "3bfeb605",
   "metadata": {},
   "outputs": [],
   "source": [
    "split_index = 0\n",
    "neuron_obj_pre_filt = neuron_list[split_index]"
   ]
  },
  {
   "cell_type": "code",
   "execution_count": 165,
   "id": "b60d95f3",
   "metadata": {},
   "outputs": [],
   "source": [
    "# 1) Retrieving the corresponding nucleus ids\n",
    "nucleus_ids,nucleus_centers = hdju.nuclei_from_segment_id(\n",
    "    segment_id,\n",
    "    return_centers=True,\n",
    "    return_nm=True\n",
    ")\n",
    "\n",
    "if verbose:\n",
    "    if nucleus_ids is not None:\n",
    "        print(f\"Number of Corresponding Nuclei = {len(nucleus_ids)}\")\n",
    "        print(f\"nucleus_ids = {nucleus_ids}\")\n",
    "        print(f\"nucleus_centers = {nucleus_centers}\")\n",
    "        \n"
   ]
  },
  {
   "cell_type": "code",
   "execution_count": 166,
   "id": "e1b47d4a",
   "metadata": {},
   "outputs": [
    {
     "name": "stdout",
     "output_type": "stream",
     "text": [
      "\n",
      " Working on visualization type: mesh\n",
      "\n",
      " Working on visualization type: skeleton\n"
     ]
    },
    {
     "data": {
      "application/vnd.jupyter.widget-view+json": {
       "model_id": "b87ba55d845d4899865bf58ca8cb243c",
       "version_major": 2,
       "version_minor": 0
      },
      "text/plain": [
       "Container(figure=Figure(box_center=[0.5, 0.5, 0.5], box_size=[1.0, 1.0, 1.0], camera=PerspectiveCamera(fov=45.…"
      ]
     },
     "metadata": {},
     "output_type": "display_data"
    }
   ],
   "source": [
    "plot_initial_neuron = True\n",
    "\n",
    "if plot_initial_neuron:\n",
    "    neuron_obj_rot = hdju.align_neuron_obj(neuron_obj_pre_filt)\n",
    "    nviz.visualize_neuron(neuron_obj_rot,limb_branch_dict = \"all\")"
   ]
  },
  {
   "cell_type": "code",
   "execution_count": 168,
   "id": "eb01b4a2",
   "metadata": {},
   "outputs": [
    {
     "data": {
      "text/plain": [
       "<neurd.neuron.Neuron at 0x7fc47f55e3a0>"
      ]
     },
     "execution_count": 168,
     "metadata": {},
     "output_type": "execute_result"
    }
   ],
   "source": [
    "#2) Refining the width array to match sksleton coordinates if it doesn't\n",
    "\n",
    "from neurd import branch_utils as bu\n",
    "\n",
    "bu.refine_width_array_to_match_skeletal_coordinates(\n",
    "        neuron_obj_pre_filt,\n",
    "        verbose = False\n",
    ")"
   ]
  },
  {
   "cell_type": "code",
   "execution_count": 173,
   "id": "671f8bec",
   "metadata": {},
   "outputs": [
    {
     "name": "stdout",
     "output_type": "stream",
     "text": [
      "N_branches on limbs before simplification\n",
      "L0: 10\n",
      "L1: 27\n",
      "L2: 5\n",
      "L3: 1\n",
      "L4: 1\n",
      "--- STARTING merge_floating_end_nodes_to_parent----\n",
      "\n",
      "\n",
      "\n",
      "---N_branches on limbs AFTER merge_floating_end_nodes_to_parent---\n",
      "L0: 10 (difference of 0)\n",
      "L1: 27 (difference of 0)\n",
      "L2: 5 (difference of 0)\n",
      "L3: 1 (difference of 0)\n",
      "L4: 1 (difference of 0)\n",
      "\n",
      "\n",
      "\n",
      "--- STARTING COMBINING BRANCHES----\n",
      "jitter_segment = None\n",
      "b_d.endpoints = [[1465201.13645255  644973.35231468 1076973.46519181]\n",
      " [1465639.47749826  643515.05932515 1076757.45951826]]\n",
      "jitter_segment = None\n",
      "b_d.endpoints = [[1453249.48354083  616028.64738608 1111904.55308479]\n",
      " [1457432.          617891.2        1107602.        ]]\n",
      "\n",
      "---Working on limb L1, deleting [26, 25]\n",
      "new_node_name_dict = {0: 0, 1: 1, 2: 2, 3: 3, 4: 4, 5: 5, 6: 6, 7: 7, 8: 8, 9: 9, 10: 10, 11: 11, 12: 12, 13: 13, 14: 14, 15: 15, 16: 16, 17: 17, 18: 18, 19: 19, 20: 20, 21: 21, 22: 22, 23: 23, 24: 24, 25: -1, 26: -2}\n",
      "Finished relabeling nodes\n",
      "AFter relabeling branch names: [-2 -1  0  1  2  3  4  5  6  7  8  9 10 11 12 13 14 15 16 17 18 19 20 21\n",
      " 22 23 24]\n",
      "After branch deletion, names: [ 0  1  2  3  4  5  6  7  8  9 10 11 12 13 14 15 16 17 18 19 20 21 22 23\n",
      " 24]\n",
      "Current starting node BEFORE reset: 17\n",
      "Current starting node after reset: 17\n",
      "Total time for deletion: 0.504439115524292\n",
      "\n",
      "\n",
      "\n",
      "---N_branches on limbs AFTER combine_path_branches---\n",
      "L0: 10 (difference of 0)\n",
      "L1: 25 (difference of 2)\n",
      "L2: 5 (difference of 0)\n",
      "L3: 1 (difference of 0)\n",
      "L4: 1 (difference of 0)\n",
      "\n",
      "\n",
      "\n",
      "---N_branches on limbs AFTER total simplification---\n",
      "L0: 10 (difference of 0)\n",
      "L1: 25 (difference of 2)\n",
      "L2: 5 (difference of 0)\n",
      "L3: 1 (difference of 0)\n",
      "L4: 1 (difference of 0)\n",
      "\n",
      "***Total time for branch simplification = 9.834063291549683\n",
      "\n",
      " Working on visualization type: mesh\n",
      "\n",
      " Working on visualization type: skeleton\n"
     ]
    },
    {
     "data": {
      "application/vnd.jupyter.widget-view+json": {
       "model_id": "dae29416d6d8439984fc1f918dbad2a0",
       "version_major": 2,
       "version_minor": 0
      },
      "text/plain": [
       "Container(figure=Figure(box_center=[0.5, 0.5, 0.5], box_size=[1.0, 1.0, 1.0], camera=PerspectiveCamera(fov=45.…"
      ]
     },
     "metadata": {},
     "output_type": "display_data"
    }
   ],
   "source": [
    "from neurd import neuron_simplification as nsimp\n",
    "\n",
    "plot_floating_end_nodes_limb_branch_dict =  False\n",
    "plot_downstream_path_limb_branch = False\n",
    "plot_after_simplification = True\n",
    "\n",
    "# 3) Performs branch simplification so there should always be 2 or more child branches\n",
    "neuron_obj_pre_filt_after_simp = nsimp.branching_simplification(\n",
    "    neuron_obj_pre_filt,\n",
    "    return_copy = True,\n",
    "\n",
    "    #floating endpiece arguments\n",
    "    plot_floating_end_nodes_limb_branch_dict = plot_floating_end_nodes_limb_branch_dict,\n",
    "    plot_final_neuron_floating_endpoints = False,\n",
    "\n",
    "    # combine path arguments\n",
    "    plot_downstream_path_limb_branch = plot_downstream_path_limb_branch,\n",
    "    plot_final_neuron_path = False,\n",
    "    plot_after_simplification = True,\n",
    "    verbose = verbose,\n",
    ")\n",
    "\n"
   ]
  },
  {
   "cell_type": "code",
   "execution_count": 176,
   "id": "95965748",
   "metadata": {},
   "outputs": [],
   "source": [
    "# Filter away a large cluster of dendrite if requested SKIPPED\n",
    "\n",
    "filter_low_branch_cluster_dendrite = False\n",
    "plot_limb_branch_filter_away_low_branch = False\n",
    "\n",
    "if filter_low_branch_cluster_dendrite:\n",
    "    neuron_obj, filtering_info_low_branch = pru.apply_proofreading_filters_to_neuron(\n",
    "        input_neuron = neuron_obj_pre_filt_after_simp,\n",
    "        filter_list = [pru.low_branch_length_clusters_dendrite_filter],\n",
    "        plot_limb_branch_filter_with_disconnect_effect=False,\n",
    "        plot_limb_branch_filter_away=plot_limb_branch_filter_away_low_branch,\n",
    "        plot_final_neuron=False,\n",
    "\n",
    "        return_error_info=True,\n",
    "        verbose=False,\n",
    "        verbose_outline=verbose)\n",
    "else:\n",
    "    neuron_obj = neuron_obj_pre_filt_after_simp\n",
    "    filtering_info_low_branch = {}"
   ]
  },
  {
   "cell_type": "code",
   "execution_count": 182,
   "id": "1740d6fd",
   "metadata": {},
   "outputs": [
    {
     "name": "stdout",
     "output_type": "stream",
     "text": [
      "nucleus_info = {'nucleus_id': None, 'nuclei_distance': None, 'n_nuclei_in_radius': None, 'n_nuclei_in_bbox': None}\n",
      "winning_nucleus_id = None\n"
     ]
    }
   ],
   "source": [
    "from neurd import neuron_utils as nru\n",
    "\n",
    "winning_nucleus_id, nucleus_info = nru.pair_neuron_obj_to_nuclei(\n",
    "    neuron_obj,\n",
    "    \"S0\",\n",
    "    nucleus_ids,\n",
    "    nucleus_centers,\n",
    "    nuclei_distance_threshold = 15000,\n",
    "    return_matching_info = True,\n",
    "    verbose=True)\n",
    "\n",
    "if verbose:\n",
    "    print(f\"nucleus_info = {nucleus_info}\")\n",
    "    print(f\"winning_nucleus_id = {winning_nucleus_id}\")\n"
   ]
  },
  {
   "cell_type": "code",
   "execution_count": 203,
   "id": "6ed1f65c",
   "metadata": {},
   "outputs": [
    {
     "name": "stdout",
     "output_type": "stream",
     "text": [
      "database_cell_type_info = {'external_cell_type': None, 'external_cell_type_n_nuc': None, 'external_cell_type_fine': None, 'external_cell_type_fine_n_nuc': None, 'external_cell_type_fine_e_i': None}\n",
      "database_e_i_class = None\n"
     ]
    }
   ],
   "source": [
    "# Getting the cell types from the database\n",
    "\n",
    "database_cell_type_info = hdju.nuclei_classification_info_from_nucleus_id(\n",
    "    winning_nucleus_id\n",
    ")\n",
    "\n",
    "database_e_i_class = database_cell_type_info[f\"external_cell_type\"]  \n",
    "\n",
    "if verbose:\n",
    "    print(f\"database_cell_type_info = {database_cell_type_info}\")\n",
    "    print(f\"database_e_i_class = {database_e_i_class}\")"
   ]
  },
  {
   "cell_type": "code",
   "execution_count": 314,
   "id": "8173a78c",
   "metadata": {},
   "outputs": [],
   "source": [
    "neurd.set_volume_params(\n",
    "    \"microns\"\n",
    ")"
   ]
  },
  {
   "cell_type": "code",
   "execution_count": 315,
   "id": "7b473425",
   "metadata": {},
   "outputs": [],
   "source": []
  },
  {
   "cell_type": "code",
   "execution_count": 316,
   "id": "e7364270",
   "metadata": {},
   "outputs": [],
   "source": []
  },
  {
   "cell_type": "code",
   "execution_count": 317,
   "id": "79c2a5fc",
   "metadata": {},
   "outputs": [
    {
     "data": {
      "text/plain": [
       "'/neurd_packages/NEURD/Applications/autoproof_neuron_pipeline/864691135510518224_synapses.csv'"
      ]
     },
     "execution_count": 317,
     "metadata": {},
     "output_type": "execute_result"
    }
   ],
   "source": [
    "hdju.synapse_filepath"
   ]
  },
  {
   "cell_type": "code",
   "execution_count": 320,
   "id": "d445b224",
   "metadata": {},
   "outputs": [
    {
     "name": "stdout",
     "output_type": "stream",
     "text": [
      "\n",
      "---Step 1: Computing synapse_dict---\n",
      "# of presyn: 62\n",
      "# of postsyn: 903\n",
      "\n",
      "---Step 2: Computing mesh_label_dict---\n",
      "-- Working on presyn--\n",
      "Using original_mesh_method\n",
      "# of distance_errored_syn_idx = 0\n",
      "# of mesh_errored_syn_idx = 3\n",
      "# of valid_syn_idx = 59\n",
      "-- Working on postsyn--\n",
      "Using original_mesh_method\n",
      "# of distance_errored_syn_idx = 0\n",
      "# of mesh_errored_syn_idx = 345\n",
      "# of valid_syn_idx = 558\n",
      "\n",
      "---Step 3: add_valid_synapses_to_neuron_obj---\n",
      "Synapse dict: 0.0009\n",
      "Original Mesh: 0.1373\n",
      "Closest Branch: 0.0257\n",
      "Closest Skeleton Branch and distance from endpoint: 0.5316\n",
      "Closest Branch: 0.0375\n",
      "Closest Skeleton Branch and distance from endpoint: 2.7783\n",
      "Total time for valid synapse objects = 0.009025096893310547\n",
      "\n",
      " Working on visualization type: mesh\n",
      "\n",
      " Working on visualization type: skeleton\n"
     ]
    },
    {
     "data": {
      "application/vnd.jupyter.widget-view+json": {
       "model_id": "ceee270b53f345b58fd7689f3625a533",
       "version_major": 2,
       "version_minor": 0
      },
      "text/plain": [
       "HBox(children=(FloatSlider(value=0.3, description='Size', max=3.0), Dropdown(description='Geo', index=3, optio…"
      ]
     },
     "metadata": {},
     "output_type": "display_data"
    },
    {
     "data": {
      "application/vnd.jupyter.widget-view+json": {
       "model_id": "2cfb5be9dc784b4b91cb42bbf45b6338",
       "version_major": 2,
       "version_minor": 0
      },
      "text/plain": [
       "HBox(children=(FloatSlider(value=0.3, description='Size', max=3.0), Dropdown(description='Geo', index=3, optio…"
      ]
     },
     "metadata": {},
     "output_type": "display_data"
    },
    {
     "data": {
      "application/vnd.jupyter.widget-view+json": {
       "model_id": "69906832eb4c41ef92670ae4366c1fe2",
       "version_major": 2,
       "version_minor": 0
      },
      "text/plain": [
       "Container(figure=Figure(box_center=[0.5, 0.5, 0.5], box_size=[1.0, 1.0, 1.0], camera=PerspectiveCamera(fov=45.…"
      ]
     },
     "metadata": {},
     "output_type": "display_data"
    }
   ],
   "source": [
    "# Adding the synapses to the cell\n",
    "plot_synapses = True\n",
    "\n",
    "\n",
    "neurd.set_volume_params(\n",
    "    \"microns\"\n",
    ")\n",
    "from neurd import synapse_utils as syu\n",
    "\n",
    "from neurd.microns_volume_utils import data_interface as hdju\n",
    "hdju.set_synapse_filepath(synapse_filepath = '/neurd_packages/NEURD/Applications/autoproof_neuron_pipeline/864691135510518224_synapses.csv')\n",
    "\n",
    "neuron_obj = syu.add_synapses_to_neuron_obj(\n",
    "    neuron_obj,\n",
    "    segment_id = segment_id,\n",
    "    #synapse_filepath = '/neurd_packages/NEURD/Applications/autoproof_neuron_pipeline/864691135510518224_synapses.csv',\n",
    "    validation = False,\n",
    "    verbose  = verbose,\n",
    "    original_mesh = mesh_dec,\n",
    "    plot_valid_error_synapses = False,\n",
    "    calculate_synapse_soma_distance = False,\n",
    "    add_valid_synapses = True,\n",
    "    add_error_synapses=False,\n",
    ")\n",
    "\n",
    "if plot_synapses:\n",
    "    syu.plot_synapses(neuron_obj)"
   ]
  },
  {
   "cell_type": "code",
   "execution_count": 321,
   "id": "03f4ef63",
   "metadata": {
    "scrolled": true
   },
   "outputs": [
    {
     "name": "stdout",
     "output_type": "stream",
     "text": [
      "Total time for spine filtering: 0.47281432151794434\n",
      "Total time for fitlering spines by size 0.47290825843811035\n",
      "\n",
      "Number of segments: 3\n",
      "\n",
      "\n",
      "Number of segments: 7\n",
      "\n",
      "\n",
      "Number of segments: 7\n",
      "\n",
      "\n",
      "Number of segments: 1\n",
      "\n",
      "\n",
      "Number of segments: 2\n",
      "\n",
      "\n",
      "Number of segments: 2\n",
      "\n",
      "\n",
      "Number of segments: 2\n",
      "\n",
      "\n",
      "Number of segments: 2\n",
      "\n",
      "\n",
      "Number of segments: 4\n",
      "\n",
      "\n",
      "Number of segments: 3\n",
      "\n",
      "\n",
      "Number of segments: 2\n",
      "\n",
      "\n",
      "Number of segments: 3\n",
      "\n",
      "\n",
      "Number of segments: 1\n",
      "\n",
      "\n",
      "Number of segments: 4\n",
      "\n",
      "\n",
      "Number of segments: 4\n",
      "\n",
      "\n",
      "Number of segments: 3\n",
      "\n",
      "\n",
      "Number of segments: 2\n",
      "\n",
      "\n",
      "Number of segments: 5\n",
      "\n",
      "\n",
      "Number of segments: 1\n",
      "\n",
      "\n",
      "Number of segments: 1\n",
      "\n",
      "\n",
      "Number of segments: 1\n",
      "\n",
      "\n",
      "Number of segments: 2\n",
      "\n",
      "\n",
      "Number of segments: 2\n",
      "\n",
      "\n",
      "Number of segments: 2\n",
      "\n",
      "\n",
      "Number of segments: 1\n",
      "\n",
      "\n",
      "Number of segments: 2\n",
      "\n",
      "\n",
      "Number of segments: 1\n",
      "\n",
      "\n",
      "Number of segments: 2\n",
      "\n",
      "\n",
      "Number of segments: 1\n",
      "\n",
      "\n",
      "Number of segments: 2\n",
      "\n",
      "\n",
      "Number of segments: 1\n",
      "\n",
      "\n",
      "Number of segments: 1\n",
      "\n",
      "\n",
      "Number of segments: 1\n",
      "\n",
      "\n",
      "Number of segments: 2\n",
      "\n",
      "\n",
      "Number of segments: 2\n",
      "\n",
      "\n",
      "Number of segments: 2\n",
      "\n",
      "\n",
      "Number of segments: 2\n",
      "\n",
      "\n",
      "Number of segments: 2\n",
      "\n",
      "\n",
      "Number of segments: 2\n",
      "\n",
      "\n",
      "Number of segments: 2\n",
      "\n",
      "\n",
      "Number of segments: 2\n",
      "\n",
      "\n",
      "Number of segments: 2\n",
      "\n",
      "\n",
      "Number of segments: 1\n",
      "\n",
      "\n",
      "Number of segments: 1\n",
      "\n",
      "\n",
      "Number of segments: 1\n",
      "\n",
      "\n",
      "Number of segments: 2\n",
      "\n",
      "\n",
      "Number of segments: 2\n",
      "\n",
      "\n",
      "Number of segments: 1\n",
      "\n",
      "\n",
      "Number of segments: 2\n",
      "\n",
      "\n",
      "Number of segments: 1\n",
      "\n",
      "\n",
      "Number of segments: 1\n",
      "\n",
      "\n",
      "Number of segments: 2\n",
      "\n",
      "\n",
      "Number of segments: 2\n",
      "\n",
      "\n",
      "Number of segments: 2\n",
      "\n",
      "\n",
      "Number of segments: 2\n",
      "\n",
      "\n",
      "Number of segments: 2\n",
      "\n",
      "\n",
      "Number of segments: 2\n",
      "\n",
      "\n",
      "Number of segments: 2\n",
      "\n",
      "\n",
      "Number of segments: 2\n",
      "\n",
      "\n",
      "Number of segments: 2\n",
      "\n",
      "\n",
      "Number of segments: 1\n",
      "\n",
      "\n",
      "Number of segments: 1\n",
      "\n",
      "\n",
      "Number of segments: 1\n",
      "\n",
      "\n",
      "Number of segments: 2\n",
      "\n",
      "\n",
      "Number of segments: 2\n",
      "\n",
      "\n",
      "Number of segments: 2\n",
      "\n",
      "\n",
      "Number of segments: 2\n",
      "\n",
      "\n",
      "Number of segments: 2\n",
      "\n",
      "\n",
      "Number of segments: 2\n",
      "\n",
      "\n",
      "Number of segments: 2\n",
      "\n",
      "\n",
      "Number of segments: 2\n",
      "\n",
      "\n",
      "Number of segments: 3\n",
      "\n",
      "\n",
      "Number of segments: 1\n",
      "\n",
      "\n",
      "Number of segments: 1\n",
      "\n",
      "\n",
      "Number of segments: 1\n",
      "\n",
      "\n",
      "Number of segments: 2\n",
      "\n",
      "\n",
      "Number of segments: 2\n",
      "\n",
      "\n",
      "Number of segments: 2\n",
      "\n",
      "\n",
      "Number of segments: 2\n",
      "\n",
      "\n",
      "Number of segments: 3\n",
      "\n",
      "\n",
      "Number of segments: 3\n",
      "\n",
      "\n",
      "Number of segments: 1\n",
      "\n",
      "\n",
      "Number of segments: 2\n",
      "\n",
      "\n",
      "Number of segments: 2\n",
      "\n",
      "\n",
      "Number of segments: 2\n",
      "\n",
      "\n",
      "Number of segments: 2\n",
      "\n",
      "\n",
      "Number of segments: 2\n",
      "\n",
      "\n",
      "Number of segments: 2\n",
      "\n",
      "\n",
      "Number of segments: 2\n",
      "\n",
      "\n",
      "Number of segments: 2\n",
      "\n",
      "\n",
      "Number of segments: 2\n",
      "\n",
      "\n",
      "Number of segments: 2\n",
      "\n",
      "\n",
      "Number of segments: 3\n",
      "\n",
      "\n",
      "Number of segments: 3\n",
      "\n",
      "\n",
      "Number of segments: 3\n",
      "\n",
      "\n",
      "Number of segments: 3\n",
      "\n",
      "\n",
      "Number of segments: 2\n",
      "\n",
      "\n",
      "Number of segments: 3\n",
      "\n",
      "\n",
      "Number of segments: 3\n",
      "\n",
      "\n",
      "Number of segments: 2\n",
      "\n",
      "\n",
      "Number of segments: 3\n",
      "\n",
      "\n",
      "Number of segments: 3\n",
      "\n",
      "\n",
      "Number of segments: 1\n",
      "\n",
      "\n",
      "Number of segments: 2\n",
      "\n",
      "\n",
      "Number of segments: 2\n",
      "\n",
      "\n",
      "Number of segments: 2\n",
      "\n",
      "\n",
      "Number of segments: 2\n",
      "\n",
      "\n",
      "Number of segments: 2\n",
      "\n",
      "\n",
      "Number of segments: 2\n",
      "\n",
      "\n",
      "Number of segments: 2\n",
      "\n",
      "\n",
      "Number of segments: 2\n",
      "\n",
      "\n",
      "Number of segments: 2\n",
      "\n",
      "\n",
      "Number of segments: 2\n",
      "\n",
      "\n",
      "Number of segments: 2\n",
      "\n",
      "\n",
      "Number of segments: 1\n",
      "\n",
      "\n",
      "Number of segments: 2\n",
      "\n",
      "\n",
      "Number of segments: 2\n",
      "\n",
      "\n",
      "Number of segments: 2\n",
      "\n",
      "\n",
      "Number of segments: 2\n",
      "\n",
      "\n",
      "Number of segments: 1\n",
      "\n",
      "\n",
      "Number of segments: 2\n",
      "\n",
      "\n",
      "Number of segments: 2\n",
      "\n",
      "\n",
      "Number of segments: 2\n",
      "\n",
      "\n",
      "Number of segments: 2\n",
      "\n",
      "\n",
      "Number of segments: 2\n",
      "\n",
      "\n",
      "Number of segments: 2\n",
      "\n",
      "\n",
      "Number of segments: 2\n",
      "\n",
      "\n",
      "Number of segments: 2\n",
      "\n",
      "\n",
      "Number of segments: 2\n",
      "\n",
      "\n",
      "Number of segments: 1\n",
      "\n",
      "\n",
      "Number of segments: 2\n",
      "\n",
      "\n",
      "Number of segments: 3\n",
      "\n",
      "\n",
      "Number of segments: 2\n",
      "\n",
      "\n",
      "Number of segments: 2\n",
      "\n",
      "\n",
      "Number of segments: 2\n",
      "\n",
      "\n",
      "Number of segments: 2\n",
      "\n",
      "\n",
      "Number of segments: 2\n",
      "\n",
      "\n",
      "Number of segments: 2\n",
      "\n",
      "\n",
      "Number of segments: 2\n",
      "\n",
      "\n",
      "Number of segments: 2\n",
      "\n",
      "\n",
      "Number of segments: 1\n",
      "\n",
      "\n",
      "Number of segments: 1\n",
      "\n",
      "\n",
      "Number of segments: 2\n",
      "\n",
      "\n",
      "Number of segments: 1\n",
      "\n",
      "\n",
      "Number of segments: 2\n",
      "\n",
      "\n",
      "Number of segments: 2\n",
      "\n",
      "\n",
      "Number of segments: 2\n",
      "\n",
      "\n",
      "Number of segments: 1\n",
      "\n",
      "\n",
      "Number of segments: 1\n",
      "\n",
      "\n",
      "Number of segments: 1\n",
      "\n",
      "\n",
      "Number of segments: 3\n",
      "\n",
      "\n",
      "Number of segments: 4\n",
      "\n",
      "\n",
      "Number of segments: 4\n",
      "\n",
      "\n",
      "Number of segments: 2\n",
      "\n",
      "\n",
      "Number of segments: 2\n",
      "\n",
      "\n",
      "Number of segments: 2\n",
      "\n",
      "\n",
      "Number of segments: 2\n",
      "\n",
      "\n",
      "Number of segments: 2\n",
      "\n",
      "\n",
      "Number of segments: 2\n",
      "\n",
      "\n",
      "Number of segments: 2\n",
      "\n",
      "\n",
      "Number of segments: 2\n",
      "\n",
      "\n",
      "Number of segments: 2\n",
      "\n",
      "\n",
      "Number of segments: 2\n",
      "\n",
      "\n",
      "Number of segments: 2\n",
      "\n",
      "\n",
      "Number of segments: 2\n",
      "\n",
      "\n",
      "Number of segments: 3\n",
      "\n",
      "\n",
      "Number of segments: 3\n",
      "\n",
      "\n",
      "Number of segments: 6\n",
      "\n",
      "\n",
      "Number of segments: 6\n",
      "\n",
      "\n",
      "Number of segments: 6\n",
      "\n",
      "\n",
      "Number of segments: 7\n",
      "\n",
      "\n",
      "Number of segments: 3\n",
      "\n",
      "\n",
      "Number of segments: 2\n",
      "\n",
      "\n",
      "Number of segments: 4\n",
      "\n",
      "\n",
      "Number of segments: 1\n",
      "\n",
      "\n",
      "Number of segments: 1\n",
      "\n",
      "\n",
      "Number of segments: 2\n",
      "\n",
      "\n",
      "Number of segments: 1\n",
      "\n",
      "\n",
      "Number of segments: 2\n",
      "\n",
      "\n",
      "Number of segments: 3\n",
      "\n",
      "\n",
      "Number of segments: 2\n",
      "\n",
      "\n",
      "Number of segments: 1\n",
      "\n",
      "\n",
      "Number of segments: 2\n",
      "\n",
      "\n",
      "Number of segments: 2\n",
      "\n",
      "\n",
      "Number of segments: 1\n",
      "\n",
      "\n",
      "Number of segments: 2\n",
      "\n",
      "\n",
      "Number of segments: 2\n",
      "\n",
      "\n",
      "Number of segments: 2\n",
      "\n",
      "\n",
      "Number of segments: 2\n",
      "\n",
      "\n",
      "Number of segments: 2\n",
      "\n",
      "\n",
      "Number of segments: 2\n",
      "\n",
      "\n",
      "Number of segments: 2\n",
      "\n",
      "\n",
      "Number of segments: 2\n",
      "\n",
      "\n",
      "Number of segments: 2\n",
      "\n",
      "\n",
      "Number of segments: 2\n",
      "\n",
      "\n",
      "Number of segments: 2\n",
      "\n",
      "\n",
      "Number of segments: 2\n",
      "\n",
      "\n",
      "Number of segments: 2\n",
      "\n",
      "\n",
      "Number of segments: 1\n",
      "\n",
      "\n",
      "Number of segments: 2\n",
      "\n",
      "\n",
      "Number of segments: 2\n",
      "\n",
      "\n",
      "Number of segments: 2\n",
      "\n",
      "\n",
      "Number of segments: 2\n",
      "\n",
      "\n",
      "Number of segments: 2\n",
      "\n",
      "\n",
      "Number of segments: 2\n",
      "\n",
      "\n",
      "Number of segments: 2\n",
      "\n",
      "\n",
      "Number of segments: 2\n",
      "\n",
      "\n",
      "Number of segments: 2\n",
      "\n",
      "\n",
      "Number of segments: 2\n",
      "\n",
      "\n",
      "Number of segments: 2\n",
      "\n",
      "\n",
      "Number of segments: 1\n",
      "\n",
      "\n",
      "Number of segments: 3\n",
      "\n",
      "\n",
      "Number of segments: 2\n",
      "\n",
      "\n",
      "Number of segments: 1\n",
      "\n",
      "\n",
      "Number of segments: 2\n",
      "\n",
      "\n",
      "Number of segments: 2\n",
      "\n",
      "\n",
      "Number of segments: 2\n",
      "\n",
      "\n",
      "Number of segments: 2\n",
      "\n",
      "\n",
      "Number of segments: 2\n",
      "\n",
      "\n",
      "Number of segments: 1\n",
      "\n",
      "\n",
      "Number of segments: 1\n",
      "\n",
      "\n",
      "Number of segments: 1\n",
      "\n",
      "\n",
      "Number of segments: 2\n",
      "\n",
      "\n",
      "Number of segments: 1\n",
      "\n",
      "\n",
      "Number of segments: 1\n",
      "\n",
      "\n",
      "Number of segments: 2\n",
      "\n",
      "\n",
      "Number of segments: 2\n",
      "\n",
      "\n",
      "Number of segments: 2\n",
      "\n",
      "\n",
      "Number of segments: 1\n",
      "\n",
      "\n",
      "Number of segments: 1\n",
      "\n",
      "\n",
      "Number of segments: 1\n",
      "\n",
      "\n",
      "Number of segments: 1\n",
      "\n",
      "\n",
      "Number of segments: 1\n",
      "\n",
      "\n",
      "Number of segments: 1\n",
      "\n",
      "\n",
      "Number of segments: 2\n",
      "\n",
      "\n",
      "Number of segments: 2\n",
      "\n",
      "\n",
      "Number of segments: 2\n",
      "\n",
      "\n",
      "Number of segments: 2\n",
      "\n",
      "\n",
      "Number of segments: 3\n",
      "\n",
      "\n",
      "Number of segments: 3\n",
      "\n",
      "\n",
      "Number of segments: 2\n",
      "\n",
      "\n",
      "Number of segments: 2\n",
      "\n",
      "\n",
      "Number of segments: 2\n",
      "\n",
      "\n",
      "Number of segments: 2\n",
      "\n",
      "\n",
      "Number of segments: 2\n",
      "\n",
      "\n",
      "Number of segments: 2\n",
      "\n",
      "\n",
      "Number of segments: 1\n",
      "\n",
      "\n",
      "Number of segments: 1\n",
      "\n",
      "\n",
      "Number of segments: 1\n",
      "\n",
      "\n",
      "Number of segments: 2\n",
      "\n",
      "\n",
      "Number of segments: 2\n",
      "\n",
      "\n",
      "Number of segments: 2\n",
      "\n",
      "\n",
      "Number of segments: 2\n",
      "\n",
      "\n",
      "Number of segments: 2\n",
      "\n",
      "\n",
      "Number of segments: 2\n",
      "\n",
      "\n",
      "Number of segments: 2\n",
      "\n",
      "\n",
      "Number of segments: 3\n",
      "\n",
      "\n",
      "Number of segments: 3\n",
      "\n",
      "\n",
      "Number of segments: 2\n",
      "\n",
      "\n",
      "Number of segments: 2\n",
      "\n",
      "\n",
      "Number of segments: 2\n",
      "\n",
      "\n",
      "Number of segments: 3\n",
      "\n",
      "\n",
      "Number of segments: 3\n",
      "\n",
      "\n",
      "Number of segments: 3\n",
      "\n",
      "\n",
      "Number of segments: 2\n",
      "\n",
      "\n",
      "Number of segments: 2\n",
      "\n",
      "\n",
      "Number of segments: 1\n",
      "\n",
      "\n",
      "Number of segments: 1\n",
      "\n",
      "\n",
      "Number of segments: 2\n",
      "\n",
      "\n",
      "Number of segments: 3\n",
      "\n",
      "\n",
      "Number of segments: 2\n",
      "\n",
      "\n",
      "Number of segments: 2\n",
      "\n",
      "\n",
      "Number of segments: 2\n",
      "\n",
      "\n",
      "Number of segments: 1\n",
      "\n",
      "\n",
      "Number of segments: 1\n",
      "\n",
      "\n",
      "Number of segments: 1\n",
      "\n",
      "\n",
      "Number of segments: 1\n",
      "\n",
      "\n",
      "Number of segments: 2\n",
      "\n",
      "\n",
      "Number of segments: 2\n",
      "\n",
      "\n",
      "Number of segments: 2\n",
      "\n",
      "\n",
      "Number of segments: 2\n",
      "\n",
      "\n",
      "Number of segments: 3\n",
      "\n",
      "\n",
      "Number of segments: 2\n",
      "\n",
      "\n",
      "Number of segments: 2\n",
      "\n",
      "\n",
      "Number of segments: 2\n",
      "\n",
      "\n",
      "Number of segments: 2\n",
      "\n",
      "\n",
      "Number of segments: 3\n",
      "\n",
      "\n",
      "Number of segments: 2\n",
      "\n",
      "\n",
      "Number of segments: 2\n",
      "\n",
      "\n",
      "Number of segments: 1\n",
      "\n",
      "\n",
      "Number of segments: 2\n",
      "\n",
      "\n",
      "Number of segments: 2\n",
      "\n",
      "\n",
      "Number of segments: 2\n",
      "\n",
      "\n",
      "Number of segments: 2\n",
      "\n",
      "\n",
      "Number of segments: 1\n",
      "\n",
      "\n",
      "Number of segments: 2\n",
      "\n",
      "\n",
      "Number of segments: 2\n",
      "\n",
      "\n",
      "Number of segments: 2\n",
      "\n",
      "\n",
      "Number of segments: 2\n",
      "\n",
      "\n",
      "Number of segments: 2\n",
      "\n",
      "\n",
      "Number of segments: 1\n",
      "\n",
      "\n",
      "Number of segments: 1\n",
      "\n",
      "\n",
      "Number of segments: 3\n",
      "\n",
      "\n",
      "Number of segments: 1\n",
      "\n",
      "\n",
      "Number of segments: 1\n",
      "\n",
      "\n",
      "Number of segments: 1\n",
      "\n",
      "\n",
      "Number of segments: 1\n",
      "\n",
      "\n",
      "Number of segments: 3\n",
      "\n",
      "\n",
      "Number of segments: 3\n",
      "\n",
      "\n",
      "Number of segments: 2\n",
      "\n",
      "\n",
      "Number of segments: 2\n",
      "\n",
      "\n",
      "Number of segments: 2\n",
      "\n",
      "\n",
      "Number of segments: 2\n",
      "\n",
      "\n",
      "Number of segments: 2\n",
      "\n",
      "\n",
      "Number of segments: 2\n",
      "\n",
      "\n",
      "Number of segments: 1\n",
      "\n",
      "\n",
      "Number of segments: 2\n",
      "\n",
      "\n",
      "Number of segments: 2\n",
      "\n",
      "\n",
      "Number of segments: 2\n",
      "\n",
      "\n",
      "Number of segments: 2\n",
      "\n",
      "\n",
      "Number of segments: 2\n",
      "\n",
      "\n",
      "Number of segments: 3\n",
      "\n",
      "\n",
      "Number of segments: 3\n",
      "\n",
      "\n",
      "Number of segments: 3\n",
      "\n",
      "\n",
      "Number of segments: 2\n",
      "\n",
      "\n",
      "Number of segments: 2\n",
      "\n",
      "\n",
      "Number of segments: 2\n",
      "\n",
      "\n",
      "Number of segments: 1\n",
      "\n",
      "\n",
      "Number of segments: 1\n",
      "\n",
      "\n",
      "Number of segments: 4\n",
      "\n",
      "\n",
      "Number of segments: 2\n",
      "\n",
      "\n",
      "Number of segments: 2\n",
      "\n",
      "\n",
      "Number of segments: 2\n",
      "\n",
      "\n",
      "Number of segments: 1\n",
      "\n",
      "\n",
      "Number of segments: 3\n",
      "\n",
      "\n",
      "Number of segments: 3\n",
      "\n",
      "\n",
      "Number of segments: 1\n",
      "\n",
      "\n",
      "Number of segments: 2\n",
      "\n",
      "\n",
      "Number of segments: 2\n",
      "\n"
     ]
    },
    {
     "name": "stdout",
     "output_type": "stream",
     "text": [
      "\n",
      "Number of segments: 2\n",
      "\n",
      "\n",
      "Number of segments: 2\n",
      "\n",
      "\n",
      "Number of segments: 2\n",
      "\n",
      "\n",
      "Number of segments: 1\n",
      "\n",
      "\n",
      "Number of segments: 1\n",
      "\n",
      "\n",
      "Number of segments: 1\n",
      "\n",
      "\n",
      "Number of segments: 2\n",
      "\n",
      "\n",
      "Number of segments: 3\n",
      "\n",
      "\n",
      "Number of segments: 4\n",
      "\n",
      "\n",
      "Number of segments: 2\n",
      "\n",
      "\n",
      "Number of segments: 2\n",
      "\n",
      "\n",
      "Number of segments: 2\n",
      "\n",
      "\n",
      "Number of segments: 1\n",
      "\n",
      "\n",
      "Number of segments: 3\n",
      "\n",
      "\n",
      "Number of segments: 3\n",
      "\n",
      "\n",
      "Number of segments: 2\n",
      "\n",
      "\n",
      "Number of segments: 2\n",
      "\n",
      "\n",
      "Number of segments: 2\n",
      "\n",
      "\n",
      "Number of segments: 2\n",
      "\n",
      "\n",
      "Number of segments: 2\n",
      "\n",
      "\n",
      "Number of segments: 3\n",
      "\n",
      "\n",
      "Number of segments: 2\n",
      "\n",
      "\n",
      "Number of segments: 2\n",
      "\n",
      "\n",
      "Number of segments: 2\n",
      "\n",
      "\n",
      "Number of segments: 2\n",
      "\n",
      "\n",
      "Number of segments: 2\n",
      "\n",
      "\n",
      "Number of segments: 3\n",
      "\n",
      "\n",
      "Number of segments: 2\n",
      "\n",
      "\n",
      "Number of segments: 3\n",
      "\n",
      "\n",
      "Number of segments: 3\n",
      "\n",
      "\n",
      "Number of segments: 2\n",
      "\n",
      "\n",
      "Number of segments: 2\n",
      "\n",
      "\n",
      "Number of segments: 2\n",
      "\n",
      "\n",
      "Number of segments: 2\n",
      "\n",
      "\n",
      "Number of segments: 2\n",
      "\n",
      "\n",
      "Number of segments: 2\n",
      "\n",
      "\n",
      "Number of segments: 2\n",
      "\n",
      "\n",
      "Number of segments: 2\n",
      "\n",
      "\n",
      "Number of segments: 2\n",
      "\n",
      "\n",
      "Number of segments: 1\n",
      "\n",
      "\n",
      "Number of segments: 3\n",
      "\n",
      "\n",
      "Number of segments: 2\n",
      "\n",
      "\n",
      "Number of segments: 2\n",
      "\n",
      "\n",
      "Number of segments: 2\n",
      "\n",
      "\n",
      "Number of segments: 2\n",
      "\n",
      "\n",
      "Number of segments: 1\n",
      "\n",
      "\n",
      "Number of segments: 2\n",
      "\n",
      "\n",
      "Number of segments: 3\n",
      "\n",
      "\n",
      "Number of segments: 2\n",
      "\n",
      "\n",
      "Number of segments: 2\n",
      "\n",
      "\n",
      "Number of segments: 2\n",
      "\n",
      "\n",
      "Number of segments: 1\n",
      "\n",
      "\n",
      "Number of segments: 2\n",
      "\n",
      "\n",
      "Number of segments: 1\n",
      "\n",
      "\n",
      "Number of segments: 2\n",
      "\n",
      "\n",
      "Number of segments: 2\n",
      "\n",
      "\n",
      "Number of segments: 3\n",
      "\n",
      "\n",
      "Number of segments: 2\n",
      "\n",
      "\n",
      "Number of segments: 1\n",
      "\n",
      "\n",
      "Number of segments: 2\n",
      "\n",
      "\n",
      "Number of segments: 2\n",
      "\n",
      "\n",
      "Number of segments: 2\n",
      "\n",
      "\n",
      "Number of segments: 2\n",
      "\n",
      "\n",
      "Number of segments: 1\n",
      "\n",
      "\n",
      "Number of segments: 2\n",
      "\n",
      "\n",
      "Number of segments: 1\n",
      "\n",
      "\n",
      "Number of segments: 2\n",
      "\n",
      "\n",
      "Number of segments: 2\n",
      "\n",
      "\n",
      "Number of segments: 2\n",
      "\n",
      "\n",
      "Number of segments: 2\n",
      "\n",
      "\n",
      "Number of segments: 2\n",
      "\n",
      "\n",
      "Number of segments: 2\n",
      "\n",
      "\n",
      "Number of segments: 2\n",
      "\n",
      "\n",
      "Number of segments: 3\n",
      "\n",
      "\n",
      "Number of segments: 3\n",
      "\n",
      "\n",
      "Number of segments: 2\n",
      "\n",
      "\n",
      "Number of segments: 2\n",
      "\n",
      "\n",
      "Number of segments: 2\n",
      "\n",
      "\n",
      "Number of segments: 2\n",
      "\n",
      "\n",
      "Number of segments: 2\n",
      "\n",
      "\n",
      "Number of segments: 2\n",
      "\n",
      "\n",
      "Number of segments: 2\n",
      "\n",
      "\n",
      "Number of segments: 2\n",
      "\n",
      "\n",
      "Number of segments: 2\n",
      "\n",
      "\n",
      "Number of segments: 2\n",
      "\n",
      "\n",
      "Number of segments: 2\n",
      "\n",
      "\n",
      "Number of segments: 2\n",
      "\n",
      "\n",
      "Number of segments: 1\n",
      "\n",
      "\n",
      "Number of segments: 2\n",
      "\n",
      "\n",
      "Number of segments: 2\n",
      "\n",
      "\n",
      "Number of segments: 2\n",
      "\n",
      "\n",
      "Number of segments: 2\n",
      "\n",
      "\n",
      "Number of segments: 2\n",
      "\n",
      "\n",
      "Number of segments: 2\n",
      "\n",
      "\n",
      "Number of segments: 2\n",
      "\n",
      "\n",
      "Number of segments: 2\n",
      "\n",
      "\n",
      "Number of segments: 1\n",
      "\n",
      "\n",
      "Number of segments: 2\n",
      "\n",
      "\n",
      "Number of segments: 1\n",
      "\n",
      "\n",
      "Number of segments: 1\n",
      "\n",
      "\n",
      "Number of segments: 2\n",
      "\n",
      "\n",
      "Number of segments: 2\n",
      "\n",
      "\n",
      "Number of segments: 1\n",
      "\n",
      "\n",
      "Number of segments: 1\n",
      "\n",
      "\n",
      "Number of segments: 1\n",
      "\n",
      "\n",
      "Number of segments: 2\n",
      "\n",
      "\n",
      "Number of segments: 2\n",
      "\n",
      "\n",
      "Number of segments: 2\n",
      "\n",
      "\n",
      "Number of segments: 2\n",
      "\n",
      "\n",
      "Number of segments: 2\n",
      "\n",
      "\n",
      "Number of segments: 2\n",
      "\n",
      "\n",
      "Number of segments: 2\n",
      "\n",
      "\n",
      "Number of segments: 2\n",
      "\n",
      "\n",
      "Number of segments: 2\n",
      "\n",
      "\n",
      "Number of segments: 1\n",
      "\n",
      "\n",
      "Number of segments: 1\n",
      "\n",
      "\n",
      "Number of segments: 1\n",
      "\n",
      "\n",
      "Number of segments: 2\n",
      "\n",
      "\n",
      "Number of segments: 2\n",
      "\n",
      "\n",
      "Number of segments: 2\n",
      "\n",
      "\n",
      "Number of segments: 1\n",
      "\n",
      "\n",
      "Number of segments: 1\n",
      "\n",
      "\n",
      "Number of segments: 2\n",
      "\n",
      "\n",
      "Number of segments: 1\n",
      "\n",
      "\n",
      "Number of segments: 1\n",
      "\n",
      "\n",
      "Number of segments: 2\n",
      "\n",
      "\n",
      "Number of segments: 2\n",
      "\n",
      "\n",
      "Number of segments: 2\n",
      "\n",
      "\n",
      "Number of segments: 3\n",
      "\n",
      "\n",
      "Number of segments: 2\n",
      "\n",
      "\n",
      "Number of segments: 2\n",
      "\n",
      "\n",
      "Number of segments: 2\n",
      "\n",
      "\n",
      "Number of segments: 1\n",
      "\n",
      "\n",
      "Number of segments: 2\n",
      "\n",
      "\n",
      "Number of segments: 2\n",
      "\n",
      "\n",
      "Number of segments: 1\n",
      "\n",
      "\n",
      "Number of segments: 2\n",
      "\n",
      "\n",
      "Number of segments: 2\n",
      "\n",
      "\n",
      "Number of segments: 2\n",
      "\n",
      "\n",
      "Number of segments: 2\n",
      "\n",
      "\n",
      "Number of segments: 2\n",
      "\n",
      "\n",
      "Number of segments: 1\n",
      "\n",
      "\n",
      "Number of segments: 2\n",
      "\n",
      "\n",
      "Number of segments: 2\n",
      "\n",
      "\n",
      "Number of segments: 1\n",
      "\n",
      "\n",
      "Number of segments: 2\n",
      "\n",
      "\n",
      "Number of segments: 2\n",
      "\n",
      "\n",
      "Number of segments: 1\n",
      "\n",
      "\n",
      "Number of segments: 1\n",
      "\n",
      "\n",
      "Number of segments: 2\n",
      "\n",
      "\n",
      "Number of segments: 2\n",
      "\n",
      "\n",
      "Number of segments: 2\n",
      "\n",
      "\n",
      "Number of segments: 2\n",
      "\n",
      "\n",
      "Number of segments: 1\n",
      "\n",
      "\n",
      "Number of segments: 2\n",
      "\n",
      "\n",
      "Number of segments: 2\n",
      "\n",
      "\n",
      "Number of segments: 1\n",
      "\n",
      "\n",
      "Number of segments: 1\n",
      "\n",
      "\n",
      "Number of segments: 2\n",
      "\n",
      "\n",
      "Number of segments: 1\n",
      "\n",
      "\n",
      "Number of segments: 2\n",
      "\n",
      "\n",
      "Number of segments: 2\n",
      "\n",
      "\n",
      "Number of segments: 2\n",
      "\n",
      "\n",
      "Number of segments: 2\n",
      "\n",
      "\n",
      "Number of segments: 2\n",
      "\n",
      "\n",
      "Number of segments: 2\n",
      "\n",
      "\n",
      "Number of segments: 2\n",
      "\n",
      "\n",
      "Number of segments: 1\n",
      "\n",
      "\n",
      "Number of segments: 2\n",
      "\n",
      "\n",
      "Number of segments: 2\n",
      "\n",
      "\n",
      "Number of segments: 3\n",
      "\n",
      "\n",
      "Number of segments: 1\n",
      "\n",
      "\n",
      "Number of segments: 1\n",
      "\n",
      "\n",
      "Number of segments: 2\n",
      "\n",
      "\n",
      "Number of segments: 2\n",
      "\n",
      "\n",
      "Number of segments: 2\n",
      "\n",
      "\n",
      "Number of segments: 2\n",
      "\n",
      "\n",
      "Number of segments: 1\n",
      "\n",
      "\n",
      "Number of segments: 1\n",
      "\n",
      "\n",
      "Number of segments: 5\n",
      "\n",
      "\n",
      "Number of segments: 1\n",
      "\n",
      "\n",
      "Number of segments: 2\n",
      "\n",
      "\n",
      "Number of segments: 2\n",
      "\n",
      "\n",
      "Number of segments: 2\n",
      "\n",
      "\n",
      "Number of segments: 2\n",
      "\n",
      "\n",
      "Number of segments: 2\n",
      "\n",
      "\n",
      "Number of segments: 2\n",
      "\n",
      "\n",
      "Number of segments: 2\n",
      "\n",
      "\n",
      "Number of segments: 2\n",
      "\n",
      "\n",
      "Number of segments: 3\n",
      "\n",
      "\n",
      "Number of segments: 2\n",
      "\n",
      "\n",
      "Number of segments: 3\n",
      "\n",
      "\n",
      "Number of segments: 1\n",
      "\n",
      "\n",
      "Number of segments: 3\n",
      "\n",
      "\n",
      "Number of segments: 4\n",
      "\n",
      "\n",
      "Number of segments: 2\n",
      "\n",
      "\n",
      "Number of segments: 3\n",
      "\n",
      "\n",
      "Number of segments: 2\n",
      "\n",
      "\n",
      "Number of segments: 2\n",
      "\n",
      "\n",
      "Number of segments: 2\n",
      "\n",
      "\n",
      "Number of segments: 2\n",
      "\n",
      "\n",
      "Number of segments: 1\n",
      "\n",
      "\n",
      "Number of segments: 1\n",
      "\n",
      "\n",
      "Number of segments: 2\n",
      "\n",
      "\n",
      "Number of segments: 1\n",
      "\n",
      "\n",
      "Number of segments: 1\n",
      "\n",
      "\n",
      "Number of segments: 2\n",
      "\n",
      "\n",
      "Number of segments: 2\n",
      "\n",
      "\n",
      "Number of segments: 2\n",
      "\n",
      "\n",
      "Number of segments: 3\n",
      "\n",
      "\n",
      "Number of segments: 2\n",
      "\n",
      "\n",
      "Number of segments: 2\n",
      "\n",
      "\n",
      "Number of segments: 2\n",
      "\n",
      "\n",
      "Number of segments: 2\n",
      "\n",
      "\n",
      "Number of segments: 2\n",
      "\n",
      "\n",
      "Number of segments: 2\n",
      "\n",
      "\n",
      "Number of segments: 1\n",
      "\n",
      "\n",
      "Number of segments: 1\n",
      "\n",
      "\n",
      "Number of segments: 2\n",
      "\n",
      "\n",
      "Number of segments: 2\n",
      "\n",
      "\n",
      "Number of segments: 2\n",
      "\n",
      "\n",
      "Number of segments: 2\n",
      "\n",
      "\n",
      "Number of segments: 1\n",
      "\n",
      "\n",
      "Number of segments: 3\n",
      "\n",
      "\n",
      "Number of segments: 3\n",
      "\n",
      "\n",
      "Number of segments: 1\n",
      "\n",
      "\n",
      "Number of segments: 1\n",
      "\n",
      "\n",
      "Number of segments: 2\n",
      "\n",
      "\n",
      "Number of segments: 2\n",
      "\n",
      "\n",
      "Number of segments: 2\n",
      "\n",
      "\n",
      "Number of segments: 2\n",
      "\n",
      "\n",
      "Number of segments: 2\n",
      "\n",
      "\n",
      "Number of segments: 2\n",
      "\n",
      "\n",
      "Number of segments: 2\n",
      "\n",
      "\n",
      "Number of segments: 2\n",
      "\n",
      "\n",
      "Number of segments: 1\n",
      "\n",
      "\n",
      "Number of segments: 3\n",
      "\n",
      "\n",
      "Number of segments: 1\n",
      "\n",
      "\n",
      "Number of segments: 2\n",
      "\n",
      "\n",
      "Number of segments: 4\n",
      "\n",
      "\n",
      "Number of segments: 3\n",
      "\n",
      "\n",
      "Number of segments: 3\n",
      "\n",
      "\n",
      "Number of segments: 3\n",
      "\n",
      "\n",
      "Number of segments: 1\n",
      "\n",
      "\n",
      "Number of segments: 2\n",
      "\n",
      "\n",
      "Number of segments: 1\n",
      "\n",
      "\n",
      "Number of segments: 2\n",
      "\n",
      "\n",
      "Number of segments: 1\n",
      "\n",
      "\n",
      "Number of segments: 1\n",
      "\n",
      "\n",
      "Number of segments: 1\n",
      "\n",
      "\n",
      "Number of segments: 1\n",
      "\n",
      "\n",
      "Number of segments: 1\n",
      "\n",
      "\n",
      "Number of segments: 3\n",
      "\n",
      "\n",
      "Number of segments: 1\n",
      "\n",
      "\n",
      "Number of segments: 2\n",
      "\n",
      "\n",
      "Number of segments: 1\n",
      "\n",
      "\n",
      "Number of segments: 1\n",
      "\n",
      "\n",
      "Number of segments: 2\n",
      "\n",
      "\n",
      "Number of segments: 1\n",
      "\n",
      "\n",
      "Number of segments: 1\n",
      "\n",
      "\n",
      "Number of segments: 2\n",
      "\n",
      "\n",
      "Number of segments: 2\n",
      "\n",
      "\n",
      "Number of segments: 2\n",
      "\n",
      "\n",
      "Number of segments: 2\n",
      "\n",
      "\n",
      "Number of segments: 2\n",
      "\n",
      "\n",
      "Number of segments: 4\n",
      "\n",
      "\n",
      "Number of segments: 3\n",
      "\n",
      "\n",
      "Number of segments: 3\n",
      "\n",
      "\n",
      "Number of segments: 5\n",
      "\n",
      "\n",
      "Number of segments: 5\n",
      "\n",
      "\n",
      "Number of segments: 2\n",
      "\n",
      "\n",
      "Number of segments: 2\n",
      "\n",
      "\n",
      "Number of segments: 2\n",
      "\n",
      "\n",
      "Number of segments: 2\n",
      "\n",
      "\n",
      "Number of segments: 3\n",
      "\n",
      "\n",
      "Number of segments: 2\n",
      "\n",
      "\n",
      "Number of segments: 2\n",
      "\n",
      "\n",
      "Number of segments: 2\n",
      "\n",
      "\n",
      "Number of segments: 2\n",
      "\n",
      "\n",
      "Number of segments: 3\n",
      "\n",
      "\n",
      "Number of segments: 3\n",
      "\n",
      "\n",
      "Number of segments: 3\n",
      "\n",
      "\n",
      "Number of segments: 1\n",
      "\n",
      "\n",
      "Number of segments: 1\n",
      "\n",
      "\n",
      "Number of segments: 1\n",
      "\n",
      "\n",
      "Number of segments: 2\n",
      "\n",
      "\n",
      "Number of segments: 2\n",
      "\n",
      "\n",
      "Number of segments: 2\n",
      "\n",
      "\n",
      "Number of segments: 2\n",
      "\n",
      "\n",
      "Number of segments: 3\n",
      "\n",
      "\n",
      "Number of segments: 3\n",
      "\n",
      "\n",
      "Number of segments: 2\n",
      "\n",
      "\n",
      "Number of segments: 2\n",
      "\n",
      "\n",
      "Number of segments: 3\n",
      "\n",
      "\n",
      "Number of segments: 1\n",
      "\n",
      "\n",
      "Number of segments: 2\n",
      "\n",
      "\n",
      "Number of segments: 2\n",
      "\n",
      "\n",
      "Number of segments: 3\n",
      "\n",
      "\n",
      "Number of segments: 3\n",
      "\n",
      "\n",
      "Number of segments: 3\n",
      "\n",
      "\n",
      "Number of segments: 5\n",
      "\n",
      "\n",
      "Number of segments: 5\n",
      "\n",
      "\n",
      "Number of segments: 5\n",
      "\n",
      "\n",
      "Number of segments: 2\n",
      "\n",
      "\n",
      "Number of segments: 2\n",
      "\n",
      "\n",
      "Number of segments: 2\n",
      "\n",
      "\n",
      "Number of segments: 1\n",
      "\n",
      "\n",
      "Number of segments: 3\n",
      "\n",
      "\n",
      "Number of segments: 2\n",
      "\n",
      "\n",
      "Number of segments: 1\n",
      "\n",
      "\n",
      "Number of segments: 3\n",
      "\n",
      "\n",
      "Number of segments: 4\n",
      "\n",
      "\n",
      "Number of segments: 1\n",
      "\n",
      "\n",
      "Number of segments: 1\n",
      "\n",
      "\n",
      "Number of segments: 2\n",
      "\n",
      "\n",
      "Number of segments: 1\n",
      "\n",
      "\n",
      "Number of segments: 1\n",
      "\n",
      "\n",
      "Number of segments: 1\n",
      "\n",
      "\n",
      "Number of segments: 2\n",
      "\n",
      "\n",
      "Number of segments: 3\n",
      "\n",
      "\n",
      "Number of segments: 3\n",
      "\n",
      "\n",
      "Number of segments: 2\n",
      "\n",
      "\n",
      "Number of segments: 2\n",
      "\n",
      "\n",
      "Number of segments: 2\n",
      "\n",
      "\n",
      "Number of segments: 2\n",
      "\n",
      "\n",
      "Number of segments: 3\n",
      "\n",
      "\n",
      "Number of segments: 3\n",
      "\n",
      "\n",
      "Number of segments: 2\n",
      "\n",
      "\n",
      "Number of segments: 2\n",
      "\n",
      "\n",
      "Number of segments: 3\n",
      "\n",
      "\n",
      "Number of segments: 2\n",
      "\n",
      "\n",
      "Number of segments: 2\n",
      "\n",
      "\n",
      "Number of segments: 2\n",
      "\n",
      "\n",
      "Number of segments: 2\n",
      "\n",
      "\n",
      "Number of segments: 2\n",
      "\n",
      "\n",
      "Number of segments: 2\n",
      "\n",
      "\n",
      "Number of segments: 2\n",
      "\n",
      "\n",
      "Number of segments: 2\n",
      "\n",
      "\n",
      "Number of segments: 3\n",
      "\n",
      "\n",
      "Number of segments: 2\n",
      "\n",
      "\n",
      "Number of segments: 2\n",
      "\n",
      "\n",
      "Number of segments: 1\n",
      "\n",
      "\n",
      "Number of segments: 1\n",
      "\n",
      "\n",
      "Number of segments: 1\n",
      "\n",
      "\n",
      "Number of segments: 2\n",
      "\n"
     ]
    },
    {
     "name": "stdout",
     "output_type": "stream",
     "text": [
      "\n",
      "Number of segments: 2\n",
      "\n",
      "\n",
      "Number of segments: 2\n",
      "\n",
      "\n",
      "Number of segments: 2\n",
      "\n",
      "\n",
      "Number of segments: 3\n",
      "\n",
      "\n",
      "Number of segments: 3\n",
      "\n",
      "\n",
      "Number of segments: 3\n",
      "\n",
      "\n",
      "Number of segments: 1\n",
      "\n",
      "\n",
      "Number of segments: 1\n",
      "\n",
      "\n",
      "Number of segments: 2\n",
      "\n",
      "\n",
      "Number of segments: 2\n",
      "\n",
      "\n",
      "Number of segments: 2\n",
      "\n",
      "\n",
      "Number of segments: 2\n",
      "\n",
      "\n",
      "Number of segments: 2\n",
      "\n",
      "\n",
      "Number of segments: 2\n",
      "\n",
      "\n",
      "Number of segments: 2\n",
      "\n",
      "\n",
      "Number of segments: 2\n",
      "\n",
      "\n",
      "Number of segments: 2\n",
      "\n",
      "\n",
      "Number of segments: 2\n",
      "\n",
      "\n",
      "Number of segments: 2\n",
      "\n",
      "\n",
      "Number of segments: 2\n",
      "\n",
      "\n",
      "Number of segments: 2\n",
      "\n",
      "\n",
      "Number of segments: 2\n",
      "\n",
      "\n",
      "Number of segments: 2\n",
      "\n",
      "\n",
      "Number of segments: 2\n",
      "\n",
      "\n",
      "Number of segments: 2\n",
      "\n",
      "\n",
      "Number of segments: 3\n",
      "\n",
      "\n",
      "Number of segments: 3\n",
      "\n",
      "\n",
      "Number of segments: 2\n",
      "\n",
      "\n",
      "Number of segments: 2\n",
      "\n",
      "\n",
      "Number of segments: 2\n",
      "\n",
      "\n",
      "Number of segments: 2\n",
      "\n",
      "\n",
      "Number of segments: 3\n",
      "\n",
      "\n",
      "Number of segments: 2\n",
      "\n",
      "\n",
      "Number of segments: 2\n",
      "\n",
      "\n",
      "Number of segments: 2\n",
      "\n",
      "\n",
      "Number of segments: 2\n",
      "\n",
      "\n",
      "Number of segments: 2\n",
      "\n",
      "\n",
      "Number of segments: 3\n",
      "\n",
      "\n",
      "Number of segments: 3\n",
      "\n",
      "\n",
      "Number of segments: 1\n",
      "\n",
      "\n",
      "Number of segments: 2\n",
      "\n",
      "\n",
      "Number of segments: 1\n",
      "\n",
      "\n",
      "Number of segments: 2\n",
      "\n",
      "\n",
      "Number of segments: 2\n",
      "\n",
      "\n",
      "Number of segments: 2\n",
      "\n",
      "\n",
      "Number of segments: 1\n",
      "\n",
      "\n",
      "Number of segments: 1\n",
      "\n",
      "\n",
      "Number of segments: 1\n",
      "\n",
      "\n",
      "Number of segments: 2\n",
      "\n",
      "\n",
      "Number of segments: 2\n",
      "\n",
      "\n",
      "Number of segments: 2\n",
      "\n",
      "\n",
      "Number of segments: 2\n",
      "\n",
      "\n",
      "Number of segments: 2\n",
      "\n",
      "\n",
      "Number of segments: 2\n",
      "\n",
      "\n",
      "Number of segments: 1\n",
      "\n",
      "\n",
      "Number of segments: 1\n",
      "\n",
      "\n",
      "Number of segments: 1\n",
      "\n",
      "\n",
      "Number of segments: 2\n",
      "\n",
      "\n",
      "Number of segments: 2\n",
      "\n",
      "\n",
      "Number of segments: 1\n",
      "\n",
      "\n",
      "Number of segments: 2\n",
      "\n",
      "\n",
      "Number of segments: 1\n",
      "\n",
      "\n",
      "Number of segments: 2\n",
      "\n",
      "\n",
      "Number of segments: 2\n",
      "\n",
      "\n",
      "Number of segments: 2\n",
      "\n",
      "\n",
      "Number of segments: 2\n",
      "\n",
      "\n",
      "Number of segments: 1\n",
      "\n",
      "\n",
      "Number of segments: 3\n",
      "\n",
      "\n",
      "Number of segments: 4\n",
      "\n",
      "\n",
      "Number of segments: 2\n",
      "\n",
      "\n",
      "Number of segments: 2\n",
      "\n",
      "\n",
      "Number of segments: 3\n",
      "\n",
      "\n",
      "Number of segments: 2\n",
      "\n",
      "\n",
      "Number of segments: 3\n",
      "\n",
      "\n",
      "Number of segments: 3\n",
      "\n",
      "\n",
      "Number of segments: 1\n",
      "\n",
      "\n",
      "Number of segments: 2\n",
      "\n",
      "\n",
      "Number of segments: 2\n",
      "\n",
      "\n",
      "Number of segments: 2\n",
      "\n",
      "\n",
      "Number of segments: 2\n",
      "\n",
      "\n",
      "Number of segments: 2\n",
      "\n",
      "\n",
      "Number of segments: 2\n",
      "\n",
      "\n",
      "Number of segments: 2\n",
      "\n",
      "\n",
      "Number of segments: 2\n",
      "\n",
      "\n",
      "Number of segments: 2\n",
      "\n",
      "\n",
      "Number of segments: 2\n",
      "\n",
      "\n",
      "Number of segments: 2\n",
      "\n",
      "\n",
      "Number of segments: 2\n",
      "\n",
      "\n",
      "Number of segments: 2\n",
      "\n",
      "\n",
      "Number of segments: 2\n",
      "\n",
      "\n",
      "Number of segments: 2\n",
      "\n",
      "\n",
      "Number of segments: 2\n",
      "\n",
      "\n",
      "Number of segments: 2\n",
      "\n",
      "\n",
      "Number of segments: 2\n",
      "\n",
      "\n",
      "Number of segments: 2\n",
      "\n",
      "\n",
      "Number of segments: 2\n",
      "\n",
      "\n",
      "Number of segments: 2\n",
      "\n",
      "\n",
      "Number of segments: 1\n",
      "\n",
      "\n",
      "Number of segments: 2\n",
      "\n",
      "\n",
      "Number of segments: 1\n",
      "\n",
      "\n",
      "Number of segments: 1\n",
      "\n",
      "\n",
      "Number of segments: 1\n",
      "\n",
      "\n",
      "Number of segments: 2\n",
      "\n",
      "\n",
      "Number of segments: 2\n",
      "\n",
      "\n",
      "Number of segments: 3\n",
      "\n",
      "\n",
      "Number of segments: 2\n",
      "\n",
      "\n",
      "Number of segments: 3\n",
      "\n",
      "\n",
      "Number of segments: 3\n",
      "\n",
      "\n",
      "Number of segments: 2\n",
      "\n",
      "\n",
      "Number of segments: 2\n",
      "\n",
      "\n",
      "Number of segments: 2\n",
      "\n",
      "\n",
      "Number of segments: 2\n",
      "\n",
      "\n",
      "Number of segments: 2\n",
      "\n",
      "\n",
      "Number of segments: 2\n",
      "\n",
      "\n",
      "Number of segments: 2\n",
      "\n",
      "\n",
      "Number of segments: 2\n",
      "\n",
      "\n",
      "Number of segments: 2\n",
      "\n",
      "\n",
      "Number of segments: 2\n",
      "\n",
      "\n",
      "Number of segments: 2\n",
      "\n",
      "\n",
      "Number of segments: 2\n",
      "\n",
      "\n",
      "Number of segments: 2\n",
      "\n",
      "\n",
      "Number of segments: 2\n",
      "\n",
      "\n",
      "Number of segments: 2\n",
      "\n",
      "\n",
      "Number of segments: 2\n",
      "\n",
      "\n",
      "Number of segments: 2\n",
      "\n",
      "\n",
      "Number of segments: 2\n",
      "\n",
      "\n",
      "Number of segments: 2\n",
      "\n",
      "\n",
      "Number of segments: 2\n",
      "\n",
      "\n",
      "Number of segments: 1\n",
      "\n",
      "\n",
      "Number of segments: 1\n",
      "\n",
      "\n",
      "Number of segments: 1\n",
      "\n",
      "\n",
      "Number of segments: 1\n",
      "\n",
      "\n",
      "Number of segments: 1\n",
      "\n",
      "\n",
      "Number of segments: 1\n",
      "\n",
      "\n",
      "Number of segments: 2\n",
      "\n",
      "\n",
      "Number of segments: 1\n",
      "\n",
      "\n",
      "Number of segments: 2\n",
      "\n",
      "\n",
      "Number of segments: 2\n",
      "\n",
      "\n",
      "Number of segments: 2\n",
      "\n",
      "\n",
      "Number of segments: 1\n",
      "\n",
      "\n",
      "Number of segments: 2\n",
      "\n",
      "\n",
      "Number of segments: 1\n",
      "\n",
      "\n",
      "Number of segments: 1\n",
      "\n",
      "\n",
      "Number of segments: 1\n",
      "\n",
      "\n",
      "Number of segments: 2\n",
      "\n",
      "\n",
      "Number of segments: 2\n",
      "\n",
      "\n",
      "Number of segments: 1\n",
      "\n",
      "\n",
      "Number of segments: 2\n",
      "\n",
      "\n",
      "Number of segments: 2\n",
      "\n",
      "\n",
      "Number of segments: 2\n",
      "\n",
      "\n",
      "Number of segments: 2\n",
      "\n",
      "\n",
      "Number of segments: 2\n",
      "\n",
      "\n",
      "Number of segments: 2\n",
      "\n",
      "\n",
      "Number of segments: 2\n",
      "\n",
      "\n",
      "Number of segments: 2\n",
      "\n",
      "\n",
      "Number of segments: 2\n",
      "\n",
      "Total time for set_neuron_spines_obj 45.53513503074646\n",
      "Total time for set_neuron_head_neck_shaft_idx 0.007278919219970703\n",
      "Total time for set_neuron_synapses_head_neck_shaft 0.029953718185424805\n",
      "--- Working on Limb L0\n",
      "     Branch 0\n",
      "     Branch 1\n",
      "     Branch 2\n",
      "     Branch 3\n",
      "     Branch 4\n",
      "     Branch 5\n",
      "     Branch 6\n",
      "     Branch 7\n",
      "     Branch 8\n",
      "     Branch 9\n",
      "--- Working on Limb L1\n",
      "     Branch 0\n",
      "     Branch 1\n",
      "     Branch 2\n",
      "     Branch 3\n",
      "     Branch 4\n",
      "     Branch 5\n",
      "     Branch 6\n",
      "     Branch 7\n",
      "     Branch 8\n",
      "     Branch 9\n",
      "     Branch 10\n",
      "     Branch 11\n",
      "     Branch 12\n",
      "     Branch 13\n",
      "     Branch 14\n",
      "     Branch 15\n",
      "     Branch 16\n",
      "     Branch 17\n",
      "     Branch 18\n",
      "     Branch 19\n",
      "     Branch 20\n",
      "     Branch 21\n",
      "     Branch 22\n",
      "     Branch 23\n",
      "     Branch 24\n",
      "--- Working on Limb L2\n",
      "     Branch 0\n",
      "     Branch 1\n",
      "     Branch 2\n",
      "     Branch 3\n",
      "     Branch 4\n",
      "--- Working on Limb L3\n",
      "     Branch 0\n",
      "--- Working on Limb L4\n",
      "     Branch 0\n",
      "Working on calculate_neuron_soma_distance_euclidean\n",
      "Total time for calculate_spine_obj_attr_for_neuron 4.6447484493255615\n",
      "\n",
      " Working on visualization type: mesh\n"
     ]
    },
    {
     "data": {
      "application/vnd.jupyter.widget-view+json": {
       "model_id": "c3192bc4dff64438a3e5517813f773d0",
       "version_major": 2,
       "version_minor": 0
      },
      "text/plain": [
       "Container(figure=Figure(box_center=[0.5, 0.5, 0.5], box_size=[1.0, 1.0, 1.0], camera=PerspectiveCamera(fov=45.…"
      ]
     },
     "metadata": {},
     "output_type": "display_data"
    }
   ],
   "source": [
    "# Adding the spines\n",
    "from neurd import spine_utils as spu\n",
    "\n",
    "plot_spines = True\n",
    "\n",
    "neuron_obj = spu.add_head_neck_shaft_spine_objs(\n",
    "    neuron_obj,\n",
    "    verbose = verbose\n",
    ")\n",
    "\n",
    "if plot_spines:\n",
    "    spu.plot_spines_head_neck(neuron_obj)"
   ]
  },
  {
   "cell_type": "code",
   "execution_count": 322,
   "id": "86eb639b",
   "metadata": {
    "scrolled": true
   },
   "outputs": [
    {
     "name": "stdout",
     "output_type": "stream",
     "text": [
      "query_postsyn_filter = (distance_from_soma<110000) and (no_spine_median_mesh_center > 140) and (no_spine_median_mesh_center < 10000) and (n_spines > -1) and skeletal_length > 5000 \n",
      "About to do syn_density stats\n",
      "syn_density_post = 0.8811500496921946\n",
      "syn_density_head = 0.37557215232782065\n",
      "syn_density_neck = 0.009028176738649536\n",
      "syn_density_shaft = 0.40626795323922904\n",
      "sk_length_synapse_density = 553821.6790323842\n",
      "About to do spine_density stats\n",
      "query_postsyn_filter = (distance_from_soma<110000) and (no_spine_median_mesh_center > 140) and (no_spine_median_mesh_center < 520) and (n_spines > 2) and skeletal_length > 15000 \n",
      "postsyn_limb_branch = {'L0': array([0, 1, 3, 4, 5, 9]), 'L2': array([4]), 'L3': array([0]), 'L4': array([0])}\n",
      "sk_length = 524827.1085137607\n",
      "# of spines = 247\n",
      "Density = 0.4706311773785286\n",
      "spine_density = 0.4706311773785286 (multiplier = 1000)\n",
      "sk_length spine density = 524827.1085137607\n",
      "Done stats\n",
      "Not apply_hand_made_low_rules\n",
      "For model: LogisticRegression(class_weight={'excitatory': 1, 'inhibitory': 1.5}) \n",
      "with features: ['syn_density_shaft', 'spine_density']\n",
      "pred_class = excitatory, pred_class_label = excitatory\n",
      "Total time for e/i calculations = 0.0646054744720459\n",
      "baylor_e_i = excitatory\n",
      "baylor_cell_type_info = \n",
      "{'syn_density_post': 0.8811500496921946, 'syn_density_head': 0.37557215232782065, 'syn_density_neck': 0.009028176738649536, 'syn_density_shaft': 0.40626795323922904, 'skeletal_length_processed_syn': 553821.6790323842, 'spine_density': 0.4706311773785286, 'skeletal_length_processed_spine': 524827.1085137607, 'baylor_cell_type_exc_probability': 0.8910925141155802, 'baylor_cell_type': 'excitatory'}\n"
     ]
    }
   ],
   "source": [
    "# calculating the cell type\n",
    "\n",
    "from neurd import cell_type_utils as ctu\n",
    "\n",
    "plot_spines_and_sk_filter_for_syn = False\n",
    "plot_spines_and_sk_filter_for_spine = False\n",
    "\n",
    "baylor_e_i,baylor_cell_type_info = ctu.e_i_classification_from_neuron_obj(\n",
    "    neuron_obj,\n",
    "    plot_on_model_map=False,\n",
    "    plot_spines_and_sk_filter_for_syn = plot_spines_and_sk_filter_for_syn,\n",
    "    plot_spines_and_sk_filter_for_spine = plot_spines_and_sk_filter_for_spine,\n",
    "    verbose = verbose,\n",
    "    return_cell_type_info = True\n",
    ")\n",
    "\n",
    "baylor_cell_type_info[\"baylor_cell_type\"] = baylor_e_i \n",
    "\n",
    "if verbose:\n",
    "    print(f\"baylor_cell_type_info = \\n{baylor_cell_type_info}\")"
   ]
  },
  {
   "cell_type": "code",
   "execution_count": 323,
   "id": "6b907880",
   "metadata": {},
   "outputs": [
    {
     "name": "stdout",
     "output_type": "stream",
     "text": [
      "\n",
      " Working on visualization type: mesh\n"
     ]
    },
    {
     "data": {
      "application/vnd.jupyter.widget-view+json": {
       "model_id": "81b741a343f845aab049e9ed7d92c8a0",
       "version_major": 2,
       "version_minor": 0
      },
      "text/plain": [
       "Container(figure=Figure(box_center=[0.5, 0.5, 0.5], box_size=[1.0, 1.0, 1.0], camera=PerspectiveCamera(fov=45.…"
      ]
     },
     "metadata": {},
     "output_type": "display_data"
    }
   ],
   "source": [
    "spu.plot_spines_head_neck(neuron_obj)"
   ]
  },
  {
   "cell_type": "code",
   "execution_count": 324,
   "id": "9d934926",
   "metadata": {},
   "outputs": [],
   "source": [
    "e_i_class = baylor_e_i"
   ]
  },
  {
   "cell_type": "markdown",
   "id": "da76ba59",
   "metadata": {},
   "source": [
    "# Classifying axon and dendrite"
   ]
  },
  {
   "cell_type": "code",
   "execution_count": 325,
   "id": "9fe0bf2f",
   "metadata": {},
   "outputs": [
    {
     "name": "stdout",
     "output_type": "stream",
     "text": [
      "axon_fun = <function axon_classification_excitatory at 0x7fc4ab6b5ca0>\n",
      "Restricting limbs to those greater than 70\n",
      "Limb L0 soma angle: 170.84 \n",
      "Limb L1 soma angle: 81.31 \n",
      "Limb L2 soma angle: 72.52 \n",
      "Limb L3 soma angle: 139.18 \n",
      "Limb L4 soma angle: 20.41 \n",
      "\n",
      "Part 0: possible_axon_limbs = [0, 1, 2, 3]\n",
      "branches_without_postsyn_req query = \n",
      "skeletal_length > 10000  and ((synapse_density_offset_endpoint_upstream < 0.00015) or (n_synapses_offset_endpoint_upstream <= 2)) and (n_synapses_pre_offset_endpoint_upstream <= 1) and (width_new > 95) and (width_new < 650) and (n_synapses_spine_offset_endpoint_upstream < 3)\n",
      "low_density_limb_branch = {'L1': array([ 0,  8,  9, 16, 17])}\n",
      "low_density_limb_branch_within_dist = {'L1': array([16, 17])}\n",
      "low_postsyn = {'L1': array([16, 17])}\n",
      "L1 : limb_conn_comp = {17: [16, 17]}\n",
      "# of candidates = 1\n",
      "Before filtering canddiate, axon_candidates = [{'limb_idx': 'L1', 'start_node': 17, 'branches': [16, 17]}]\n",
      "len(axon_candidates) = 1\n",
      "axon_candidates = [{'limb_idx': 'L1', 'start_node': 17, 'branches': array([16, 17])}]\n",
      "axon_candidates_ais_width = [249.6194948388562]\n",
      "After AIS width threhold\n",
      "len(axon_candidates) = 1\n",
      "axon_candidates = [{'limb_idx': 'L1', 'start_node': 17, 'branches': array([16, 17])}]\n",
      "axon_candidates_soma_dist = [0]\n",
      "After AIS distance from soma threshold\n",
      "len(axon_candidates) = 1\n",
      "axon_candidates = [{'limb_idx': 'L1', 'start_node': 17, 'branches': array([16, 17])}]\n",
      "Found at least one candidate so breaking\n",
      "full_axon_limb_branch = {'L1': [17, 0, 1, 2, 3, 4, 5, 6, 7, 8, 9, 10, 11, 12, 13, 14, 15, 16, 18, 19, 20, 21, 22, 23, 24]}\n",
      "axon_like_dendr_query = (n_synapses_pre >= 1) and (synapse_pre_perc >= 0.6) and (axon_width <= 270) and (n_spines <= 10) and (n_synapses_post_spine <= 3) and (skeletal_length > 2500) and (area > 1) and (closest_mesh_skeleton_dist < 500)\n",
      "axon_like_dendr = {}\n",
      "pre_down_limb_branch_query = (synapse_pre_perc_downstream >= 0.9) or (n_synapses_downstream == 0) or (n_synapses_post_downstream < 3)\n",
      "pre_down_limb_branch = {}\n",
      "thin_branches_query= (width_new <= 80) and (skeletal_length > 2500) and (n_synapses_post_downstream <= 3) and(area > 1) and (closest_mesh_skeleton_dist < 500) and (skeletal_length_downstream > 7000)\n",
      "filter_away_thin_branches = True\n",
      "thin_axon_limb_branch = {}\n",
      "myelination_query 0 = (skeletal_length > 2500.0) and (synapse_density_post < 7e-05)and (axon_width < 650)and (is_axon == False)and (distance_from_soma > 10000) and (skeletal_length_downstream > 7000) and (n_synapses_post_downstream < 5)\n",
      "myelin_dict_0 = {}\n",
      "myelination_query 1 = (skeletal_length > 5000) and (synapse_density_post < 7e-05)and (axon_width < 650)and (is_axon == False)and (distance_from_soma > 10000) and (skeletal_length_downstream > 7000) and (n_synapses_post_downstream < 7)\n",
      "myelin_dict_1 = {}\n",
      "myelination_query 2 = (skeletal_length > 25000) and (synapse_density_post < 0.0001)and (axon_width < 650)and (is_axon == False)and (distance_from_soma > -1) and (skeletal_length_downstream > 7000)\n",
      "myelin_dict_2 = {}\n",
      "myelin_dict_total= {}\n",
      "filter_away_myelination set\n",
      "myelin_limb_branch = {}\n",
      "axon_downstream= {'L1': array([ 5,  6,  7,  9, 10, 12, 14, 15, 17, 18, 20])}\n",
      "pre_down_limb_branch = {}\n",
      "axon_on_dendrite_dict= {}\n",
      "Restricting branches to only those a certain distance away from soma (10000)\n",
      "pre_limb_branch AFTER restriction = {'L1': array([ 0,  1,  2,  3,  4,  5,  6,  7,  8,  9, 10, 11, 12, 13, 14, 15, 16,\n",
      "       18, 19, 20, 21, 22, 23, 24])}\n",
      "dendr_like_axon_query = (n_synapses_pre >= 1) and (synapse_post_perc >= 0.6) and (axon_width >= 170) and (spine_density >= 0.00012) and (skeletal_length > 3000)\n",
      "dendr_like_axon = {}\n",
      "Using coarse dendrite filter\n",
      "No limb branch to plot\n",
      "coarse_dendrite_query = (axon_width >  300) and (synapse_post_perc > 0.75) and (n_synapses_post > 20) and (n_spines > 10) and (spine_density > 0.00015)\n",
      "coarse_dendrite_limb_branch = {}\n",
      "After COARSE: dendr_like_axon = {}\n",
      "post_down_limb_branch_query= (synapse_post_perc_downstream >= 0.9) or (n_synapses_downstream == 0) or (n_synapses_pre_downstream < 3)\n",
      "post_down_limb_branch = {}\n",
      "Final dendrite on axon: {}\n",
      "dendrite_on_axon_dict= {}\n",
      "# of neuron_obj.synapses_somas = 58\n",
      "axon_angles_dict = {'axon_angle_max': 144.06, 'axon_angle_min': 144.06, 'n_axon_angles': 1}\n",
      "axon_limb_branch_dict = {'L1': array([17,  0,  1,  2,  3,  4,  5,  6,  7,  8,  9, 10, 11, 12, 13, 14, 15,\n",
      "       16, 18, 19, 20, 21, 22, 23, 24])}\n",
      "neuron_obj.align_matrix = None\n",
      "Computing the axon labeled graph\n",
      "After pre filtering: # of neuron_obj.synapses_somas = 58\n",
      "o_neuron_pre.align_matrix = None\n",
      "Starting axon branch was the starting node so using border vertices and NOT computing upstream branch\n",
      "upstream_node_to_axon_starting_branch = None\n",
      "More than 1 seperated mesh (taking the top one): [<trimesh.Trimesh(vertices.shape=(20342, 3), faces.shape=(40479, 3))>\n",
      " <trimesh.Trimesh(vertices.shape=(113, 3), faces.shape=(176, 3))>]\n",
      "invalidation_d = 1500\n",
      "use_adaptive_invalidation_d= False\n",
      "axon_width_preprocess_limb_max = 200\n",
      "filter_end_node_length= 1150\n",
      "filter_end_node_length_meshparty = 1150\n",
      "invalidation_d = 1500\n",
      "root_curr = [1484150.   588282.7 1095391. ]\n",
      "Time for preparing soma vertices and root: 0.0002849102020263672\n",
      "invalidation_d = 1500\n",
      "smooth_neighborhood = 0\n",
      "cc_vertex_thresh = 10\n"
     ]
    },
    {
     "name": "stderr",
     "output_type": "stream",
     "text": [
      "100%|██████████| 1/1 [00:00<00:00,  3.37it/s]\n"
     ]
    },
    {
     "name": "stdout",
     "output_type": "stream",
     "text": [
      "meshparty_segment_size = 100\n",
      "Time for 1st pass MP skeletonization: 0.5931971073150635\n",
      "branches_touching_root = [13]\n",
      "combining close nodes\n",
      "combine_threshold = 1300\n",
      "length of Graph = 7906\n",
      "After combining close endpoints max(kept_branches_idx) = 85, len(kept_branches_idx) = 75\n",
      "empty_indices % = 0.0\n",
      " conflict_indices % = 0.028463139120095123\n",
      "AFTER face_lookup_resolved_test\n",
      "Decomposing first pass: 4.558115243911743\n",
      "Only Using MeshParty Skeletonization and Mesh Correspondence\n",
      "Another print\n",
      "Divinding into MP and MAP pieces: 7.867813110351562e-06\n",
      "Total time for MAP sublimb processing 4.291534423828125e-06\n",
      "---- Working on MP Decomposition #0 ----\n",
      "Using Quicker soma_to_piece_touching_vertices because no MAP and only one sublimb_mesh piece \n",
      "MP filtering soma verts: 1.621246337890625e-05\n",
      "Fixing Possible Soma Extension Branch for Sublimb 0\n",
      "Total time for mesh KDTree = 0.04079556465148926\n",
      "sbv[0].reshape(-1,3) = [[1484150.   588282.7 1095391. ]]\n",
      "closest_sk_pt_coord BEFORE = [1484209.07018222  588125.41800575 1095073.94391184]\n",
      "current_skeleton.shape = (443, 2, 3)\n",
      "node_for_stitch = 441: [1484209.07018222  588125.41800575 1095073.94391184]\n",
      "node_for_stitch AFTER = 441: [1484209.07018222  588125.41800575 1095073.94391184]\n",
      "possible_node_loc = [  0 443]\n",
      "possible_node_loc AFTER = [  0 443]\n",
      "curr_shortest_path = [441, 442.0, 443]\n",
      "Current stitch point was not a branch or endpoint, shortest_path_length to one = 189.87969562013262\n",
      "Changing the stitch point becasue the distance to end or branch node was 189.87969562013262\n",
      "New stitch point has degree 1\n",
      "change_status for create soma extending pieces = True\n",
      "closest_sk_pt_coord AFTER = [1484351.   588129.9 1095200. ]\n",
      "skipping soma 0 because closest skeleton node was already end node\n",
      "endpoints_must_keep = {0: array([[1484351. ,  588129.9, 1095200. ]])}\n",
      "match_sk_branches = [12]\n",
      "The new branch info was none so skipping \n",
      "\n",
      "No soma extending branch was added for this sublimb even though it had a soma border (means they already existed)\n",
      "MP (because soma touching verts) soma extension add: 0.1917741298675537\n",
      "There were not both MAP and MP pieces so skipping the stitch resolving phase\n",
      "Time for decomp of Limb = 5.516342878341675\n",
      "Number of matching vertices = 20\n",
      "Only one endpoint after filtering away the endpoints that are not on the skeleton\n",
      "Using Distance measure skeletal_distance\n",
      "endpoints_must_keep = [[1484351.   588129.9 1095200. ]]\n",
      "Number of end_nodes BEFORE filtering = 45\n",
      "all_single_nodes_to_eliminate = [34]\n",
      "no small end nodes to get rid of so returning whole skeleton\n",
      "Removed 0 skeletal branches\n",
      "40478 40479\n",
      "For marked faces: None\n",
      "empty_indices % = 0.0\n",
      " conflict_indices % = 0.0\n",
      "AFTER face_lookup_resolved_test\n",
      "Limb Correspondence before stitching = 75\n",
      "Filtering away non soma floating pieces near the soma\n",
      "Before filter # of pieces = 1\n",
      "AFTER filter # of pieces = 1\n",
      "Inside attach_floating_pieces_to_limb_correspondence\n",
      "Starting the floating pieces preprocessing\n",
      "Floating 0: <trimesh.Trimesh(vertices.shape=(113, 3), faces.shape=(176, 3))>\n",
      "invalidation_d = 1500\n",
      "use_adaptive_invalidation_d= False\n",
      "axon_width_preprocess_limb_max = 200\n",
      "filter_end_node_length= 1150\n",
      "filter_end_node_length_meshparty = 1150\n",
      "invalidation_d = 1500\n",
      "root_curr = None\n",
      "Time for preparing soma vertices and root: 9.5367431640625e-06\n",
      "invalidation_d = 1500\n",
      "smooth_neighborhood = 0\n",
      "cc_vertex_thresh = 10\n"
     ]
    },
    {
     "name": "stderr",
     "output_type": "stream",
     "text": [
      "100%|██████████| 1/1 [00:00<00:00, 264.29it/s]"
     ]
    },
    {
     "name": "stdout",
     "output_type": "stream",
     "text": [
      "meshparty_segment_size = 100\n",
      "Time for 1st pass MP skeletonization: 0.027625560760498047\n",
      "branches_touching_root = [0]\n",
      "combining close nodes\n",
      "combine_threshold = 1300\n",
      "length of Graph = 20\n",
      "After combining close endpoints max(kept_branches_idx) = 0, len(kept_branches_idx) = 1\n",
      "empty_indices % = 0.0\n",
      " conflict_indices % = 0.0\n",
      "AFTER face_lookup_resolved_test\n",
      "Decomposing first pass: 0.020737886428833008\n",
      "Only Using MeshParty Skeletonization and Mesh Correspondence\n",
      "Another print\n",
      "Divinding into MP and MAP pieces: 6.9141387939453125e-06\n",
      "Total time for MAP sublimb processing 2.1457672119140625e-06\n",
      "---- Working on MP Decomposition #0 ----\n",
      "Using Quicker soma_to_piece_touching_vertices because no MAP and only one sublimb_mesh piece \n",
      "MP filtering soma verts: 1.33514404296875e-05\n",
      "Do Not Need to Fix MP Decomposition 0 so just continuing\n",
      "There were not both MAP and MP pieces so skipping the stitch resolving phase\n",
      "Time for decomp of Limb = 0.0491330623626709\n",
      "Using Distance measure skeletal_distance\n",
      "no small end nodes to get rid of so returning whole skeleton\n",
      "Removed 0 skeletal branches\n",
      "175 176\n",
      "For marked faces: None\n",
      "empty_indices % = 0.0\n",
      " conflict_indices % = 0.0\n",
      "AFTER face_lookup_resolved_test\n"
     ]
    },
    {
     "name": "stderr",
     "output_type": "stream",
     "text": [
      "\n"
     ]
    },
    {
     "data": {
      "application/vnd.jupyter.widget-view+json": {
       "model_id": "5a2be69ff0654a7aaaeac21289b0e2b7",
       "version_major": 2,
       "version_minor": 0
      },
      "text/plain": [
       "Container(figure=Figure(box_center=[0.5, 0.5, 0.5], box_size=[1.0, 1.0, 1.0], camera=PerspectiveCamera(fov=45.…"
      ]
     },
     "metadata": {},
     "output_type": "display_data"
    },
    {
     "name": "stdout",
     "output_type": "stream",
     "text": [
      "--> time = 0.09920024871826172\n",
      "Floating 1: <trimesh.Trimesh(vertices.shape=(3012, 3), faces.shape=(5404, 3))>\n",
      "invalidation_d = 1500\n",
      "use_adaptive_invalidation_d= False\n",
      "axon_width_preprocess_limb_max = 200\n",
      "filter_end_node_length= 1150\n",
      "filter_end_node_length_meshparty = 1150\n",
      "invalidation_d = 1500\n",
      "root_curr = None\n",
      "Time for preparing soma vertices and root: 3.814697265625e-06\n",
      "invalidation_d = 1500\n",
      "smooth_neighborhood = 0\n",
      "cc_vertex_thresh = 10\n"
     ]
    },
    {
     "name": "stderr",
     "output_type": "stream",
     "text": [
      "100%|██████████| 1/1 [00:00<00:00, 15.33it/s]\n"
     ]
    },
    {
     "name": "stdout",
     "output_type": "stream",
     "text": [
      "meshparty_segment_size = 100\n",
      "Time for 1st pass MP skeletonization: 0.12300920486450195\n",
      "branches_touching_root = [6]\n",
      "combining close nodes\n",
      "combine_threshold = 1300\n",
      "length of Graph = 344\n",
      "After combining close endpoints max(kept_branches_idx) = 12, len(kept_branches_idx) = 11\n",
      "empty_indices % = 0.0\n",
      " conflict_indices % = 0.0902269743012568\n",
      "AFTER face_lookup_resolved_test\n",
      "Decomposing first pass: 0.2633094787597656\n",
      "Only Using MeshParty Skeletonization and Mesh Correspondence\n",
      "Another print\n",
      "Divinding into MP and MAP pieces: 6.9141387939453125e-06\n",
      "Total time for MAP sublimb processing 2.6226043701171875e-06\n",
      "---- Working on MP Decomposition #0 ----\n",
      "Using Quicker soma_to_piece_touching_vertices because no MAP and only one sublimb_mesh piece \n",
      "MP filtering soma verts: 1.33514404296875e-05\n",
      "Do Not Need to Fix MP Decomposition 0 so just continuing\n",
      "There were not both MAP and MP pieces so skipping the stitch resolving phase\n",
      "Time for decomp of Limb = 0.395444393157959\n",
      "Using Distance measure skeletal_distance\n",
      "Removed 2 skeletal branches\n",
      "5403 5404\n",
      "For marked faces: None\n",
      "empty_indices % = 0.000925240562546262\n",
      " conflict_indices % = 0.0\n",
      "AFTER face_lookup_resolved_test\n"
     ]
    },
    {
     "data": {
      "application/vnd.jupyter.widget-view+json": {
       "model_id": "6a6a400958c743689118fb1a8558e816",
       "version_major": 2,
       "version_minor": 0
      },
      "text/plain": [
       "Container(figure=Figure(box_center=[0.5, 0.5, 0.5], box_size=[1.0, 1.0, 1.0], camera=PerspectiveCamera(fov=45.…"
      ]
     },
     "metadata": {},
     "output_type": "display_data"
    },
    {
     "name": "stdout",
     "output_type": "stream",
     "text": [
      "--> time = 0.8839101791381836\n",
      "winning_float = 0\n",
      "winning_float_match_main_limb = 0\n",
      "winning_float_dist = 21.0\n",
      "main_limb_stitch_point = [1465674.  643860. 1076901.]\n",
      "floating_limb_stitch_point = [1465674.  643881. 1076901.]\n",
      "node_for_stitch = 3609: [1465674.  643860. 1076901.]\n",
      "node_for_stitch AFTER = 3609: [1465674.  643860. 1076901.]\n",
      "possible_node_loc = [   0   56  231  394  489  599  750  886  911  923  930 1520 1868 1916\n",
      " 1970 1977 2099 2137 2186 2257 2467 2558 2570 2654 2948 3166 3249 3609\n",
      " 3667 3907 4018 4333 5310 5723 5732 6499 6879 6970 7222 7513 7623 7638\n",
      " 7758 7797 7841  350  845  860 1042 1233 1518 1531 1665 1739 1782 2196\n",
      " 2378 2575 2655 2761 2911 3114 3620 3782 3846 3900 4086 4485 5560 6468\n",
      " 6601 6896 7065 7167 7429 7447]\n",
      "possible_node_loc AFTER = [   0   56  231  350  394  489  599  750  845  860  886  911  923  930\n",
      " 1042 1233 1518 1520 1531 1665 1739 1782 1868 1916 1970 1977 2099 2137\n",
      " 2186 2196 2257 2378 2467 2558 2570 2575 2654 2655 2761 2911 2948 3114\n",
      " 3166 3249 3609 3620 3667 3782 3846 3900 3907 4018 4086 4333 4485 5310\n",
      " 5560 5723 6468 6499 6601 6879 6896 6970 7065 7167 7222 7429 7447 7513\n",
      " 7623 7638 7758 7797 7841]\n",
      "curr_shortest_path = [3609]\n",
      "Current stitch point was a branch or endpoint\n",
      "Status of Main limb stitch point moved = False\n",
      "\n",
      "\n",
      "\n",
      "match_sk_branches = [45]\n",
      "match_float_branches = [0]\n",
      "stitch_point_on_end_or_branch = True\n",
      "winning_float = 1\n",
      "winning_float_match_main_limb = 0\n",
      "winning_float_dist = 23581.571737481798\n",
      "main_limb_stitch_point = [1484351.   588129.9 1095200. ]\n",
      "floating_limb_stitch_point = [1470189.  580818. 1112580.]\n",
      "The closest float distance was 23581.571737481798 which was greater than the maximum stitch distance 5000\n",
      " --> so ending the floating mesh stitch processs\n",
      "concept_network_dict = {0: [<python_tools.networkx_utils.GraphOrderedEdges object at 0x7fc5e96fbb50>]}\n",
      "\n",
      "\n",
      "----Working on seperate_graph 0----\n",
      "\n",
      "\n",
      "---------Working on soma_idx = 0, soma_group_idx 0, endpt = [1484351.   588129.9 1095200. ]---------\n",
      "Starting_edge inside branches_to_conept = [[1467806.   619005.5 1081192. ]\n",
      " [1484351.   588129.9 1095200. ]]\n",
      "At the start, starting_node (in terms of the skeleton, that shouldn't match the starting edge) = [59]\n",
      "printing out current edge:\n",
      "[[1484351.   588129.9 1095200. ]\n",
      " [1467806.   619005.5 1081192. ]]\n",
      "edge_endpoints_to_process was empty so exiting loop after 76 iterations\n",
      "starting_node in concept map (that should match the starting edge) = 53\n",
      "Total time for branches to concept conversion = 0.45877838134765625\n",
      "\n",
      "Done generating concept network \n",
      "\n",
      "\n",
      "After high fidelity: # of neuron_obj.synapses_somas = 58\n",
      "\n",
      "Number of segments: 16\n",
      "\n",
      "\n",
      "Number of segments: 11\n",
      "\n",
      "\n",
      "Number of segments: 11\n",
      "\n",
      "\n",
      "Number of segments: 9\n",
      "\n",
      "\n",
      "Number of segments: 4\n",
      "\n",
      "\n",
      "Number of segments: 6\n",
      "\n",
      "\n",
      "Number of segments: 3\n",
      "\n",
      "\n",
      "Number of segments: 11\n",
      "\n",
      "\n",
      "Number of segments: 4\n",
      "\n",
      "\n",
      "Number of segments: 2\n",
      "\n",
      "\n",
      "Number of segments: 4\n",
      "\n",
      "\n",
      "Number of segments: 5\n",
      "\n",
      "\n",
      "Number of segments: 4\n",
      "\n",
      "\n",
      "Number of segments: 52\n",
      "\n",
      "\n",
      "Number of segments: 3\n",
      "\n",
      "\n",
      "Number of segments: 21\n",
      "\n",
      "\n",
      "Number of segments: 5\n",
      "\n",
      "\n",
      "Number of segments: 6\n",
      "\n",
      "\n",
      "Number of segments: 8\n",
      "\n",
      "\n",
      "Number of segments: 5\n",
      "\n",
      "\n",
      "Number of segments: 4\n",
      "\n",
      "\n",
      "Number of segments: 7\n",
      "\n",
      "\n",
      "Number of segments: 4\n",
      "\n",
      "\n",
      "Number of segments: 3\n",
      "\n",
      "\n",
      "Number of segments: 4\n",
      "\n",
      "\n",
      "Number of segments: 7\n",
      "\n",
      "\n",
      "Number of segments: 3\n",
      "\n",
      "\n",
      "Number of segments: 4\n",
      "\n",
      "\n",
      "Number of segments: 4\n",
      "\n",
      "\n",
      "Number of segments: 2\n",
      "\n",
      "\n",
      "Number of segments: 5\n",
      "\n",
      "\n",
      "Number of segments: 15\n",
      "\n",
      "\n",
      "Number of segments: 3\n",
      "\n",
      "\n",
      "Number of segments: 2\n",
      "\n",
      "\n",
      "Number of segments: 6\n",
      "\n",
      "\n",
      "Number of segments: 8\n",
      "\n",
      "\n",
      "Number of segments: 5\n",
      "\n",
      "\n",
      "Number of segments: 4\n",
      "\n",
      "\n",
      "Number of segments: 6\n",
      "\n",
      "\n",
      "Number of segments: 9\n",
      "\n",
      "\n",
      "Number of segments: 2\n",
      "\n",
      "\n",
      "Number of segments: 17\n",
      "\n",
      "\n",
      "Number of segments: 10\n",
      "\n",
      "\n",
      "Number of segments: 16\n",
      "\n",
      "\n",
      "Number of segments: 20\n",
      "\n",
      "\n",
      "Number of segments: 2\n",
      "\n",
      "\n",
      "Number of segments: 5\n",
      "\n",
      "\n",
      "Number of segments: 8\n",
      "\n",
      "\n",
      "Number of segments: 10\n",
      "\n",
      "\n",
      "Number of segments: 3\n",
      "\n",
      "\n",
      "Number of segments: 3\n",
      "\n",
      "\n",
      "Number of segments: 13\n",
      "\n",
      "\n",
      "Number of segments: 6\n",
      "\n",
      "\n",
      "Number of segments: 6\n",
      "\n",
      "\n",
      "Number of segments: 4\n",
      "\n",
      "\n",
      "Number of segments: 7\n",
      "\n",
      "\n",
      "Number of segments: 3\n",
      "\n",
      "\n",
      "Number of segments: 2\n",
      "\n",
      "After pre bouton: # of neuron_obj.synapses_somas = 58\n",
      "neuron_obj_with_boutons.align_matrix = None\n",
      "\n",
      "Number of segments: 13\n",
      "\n",
      "\n",
      "Number of segments: 24\n",
      "\n",
      "\n",
      "Number of segments: 8\n",
      "\n",
      "\n",
      "Number of segments: 17\n",
      "\n",
      "\n",
      "Number of segments: 10\n",
      "\n",
      "\n",
      "Number of segments: 16\n",
      "\n",
      "\n",
      "Number of segments: 22\n",
      "\n",
      "\n",
      "Number of segments: 11\n",
      "\n",
      "\n",
      "Number of segments: 27\n",
      "\n",
      "\n",
      "Number of segments: 15\n",
      "\n",
      "\n",
      "Number of segments: 7\n",
      "\n",
      "\n",
      "Number of segments: 15\n",
      "\n",
      "\n",
      "Number of segments: 21\n",
      "\n",
      "\n",
      "Number of segments: 9\n",
      "\n",
      "\n",
      "Number of segments: 9\n",
      "\n",
      "\n",
      "Number of segments: 11\n",
      "\n",
      "\n",
      "Number of segments: 12\n",
      "\n",
      "\n",
      "Number of segments: 8\n",
      "\n",
      "\n",
      "Number of segments: 25\n",
      "\n",
      "\n",
      "Number of segments: 13\n",
      "\n",
      "\n",
      "Number of segments: 11\n",
      "\n",
      "\n",
      "Number of segments: 7\n",
      "\n",
      "\n",
      "Number of segments: 25\n",
      "\n",
      "\n",
      "Number of segments: 26\n",
      "\n",
      "\n",
      "Number of segments: 16\n",
      "\n",
      "\n",
      "Number of segments: 14\n",
      "\n",
      "\n",
      "Number of segments: 11\n",
      "\n",
      "\n",
      "Number of segments: 14\n",
      "\n",
      "\n",
      "Number of segments: 12\n",
      "\n",
      "\n",
      "Number of segments: 17\n",
      "\n",
      "\n",
      "Number of segments: 14\n",
      "\n",
      "neuron_obj_with_web.align_matrix = None\n",
      "Readding Synapses to the high fidelity axon after all processing donw\n",
      "\n",
      "---Step 1: Computing synapse_dict---\n",
      "# of presyn: 0\n",
      "# of postsyn: 0\n",
      "\n",
      "---Step 2: Computing mesh_label_dict---\n",
      "-- Working on presyn--\n",
      "-- Working on postsyn--\n",
      "\n",
      "---Step 3: add_valid_synapses_to_neuron_obj---\n",
      "Synapse dict: 0.0004\n",
      "Original Mesh: 0.1737\n",
      "Closest Branch: 0.0001\n",
      "Closest Skeleton Branch and distance from endpoint: 0.0001\n",
      "Closest Branch: 0.0\n",
      "Closest Skeleton Branch and distance from endpoint: 0.0\n",
      "Total time for valid synapse objects = 4.363059997558594e-05\n",
      "\n",
      "---Step 5: Adding Soma distances to synapse objects---\n",
      "After add_synapses_after_high_fidelity_axon: # of neuron_obj.synapses_somas = 58\n",
      "neuron_obj_with_web.align_matrix = None\n",
      "Working on branch simplification after axon finding\n",
      "N_branches on limbs before simplification\n",
      "L0: 10\n",
      "L2: 5\n",
      "L3: 1\n",
      "L4: 1\n",
      "L1: 76\n",
      "--- STARTING merge_floating_end_nodes_to_parent----\n",
      "\n",
      "\n",
      "\n",
      "---N_branches on limbs AFTER merge_floating_end_nodes_to_parent---\n",
      "L0: 10 (difference of 0)\n",
      "L2: 5 (difference of 0)\n",
      "L3: 1 (difference of 0)\n",
      "L4: 1 (difference of 0)\n",
      "L1: 76 (difference of 0)\n",
      "\n",
      "\n",
      "\n",
      "--- STARTING COMBINING BRANCHES----\n",
      "jitter_segment = None\n",
      "b_d.endpoints = [[1464895.   645340.1 1076998. ]\n",
      " [1465674.   643860.  1076901. ]]\n",
      "\n",
      "---Working on limb L1, deleting [75]\n",
      "new_node_name_dict = {0: 0, 1: 1, 2: 2, 3: 3, 4: 4, 5: 5, 6: 6, 7: 7, 8: 8, 9: 9, 10: 10, 11: 11, 12: 12, 13: 13, 14: 14, 15: 15, 16: 16, 17: 17, 18: 18, 19: 19, 20: 20, 21: 21, 22: 22, 23: 23, 24: 24, 25: 25, 26: 26, 27: 27, 28: 28, 29: 29, 30: 30, 31: 31, 32: 32, 33: 33, 34: 34, 35: 35, 36: 36, 37: 37, 38: 38, 39: 39, 40: 40, 41: 41, 42: 42, 43: 43, 44: 44, 45: 45, 46: 46, 47: 47, 48: 48, 49: 49, 50: 50, 51: 51, 52: 52, 53: 53, 54: 54, 55: 55, 56: 56, 57: 57, 58: 58, 59: 59, 60: 60, 61: 61, 62: 62, 63: 63, 64: 64, 65: 65, 66: 66, 67: 67, 68: 68, 69: 69, 70: 70, 71: 71, 72: 72, 73: 73, 74: 74, 75: -1}\n",
      "Finished relabeling nodes\n",
      "AFter relabeling branch names: [-1  0  1  2  3  4  5  6  7  8  9 10 11 12 13 14 15 16 17 18 19 20 21 22\n",
      " 23 24 25 26 27 28 29 30 31 32 33 34 35 36 37 38 39 40 41 42 43 44 45 46\n",
      " 47 48 49 50 51 52 53 54 55 56 57 58 59 60 61 62 63 64 65 66 67 68 69 70\n",
      " 71 72 73 74]\n",
      "After branch deletion, names: [ 0  1  2  3  4  5  6  7  8  9 10 11 12 13 14 15 16 17 18 19 20 21 22 23\n",
      " 24 25 26 27 28 29 30 31 32 33 34 35 36 37 38 39 40 41 42 43 44 45 46 47\n",
      " 48 49 50 51 52 53 54 55 56 57 58 59 60 61 62 63 64 65 66 67 68 69 70 71\n",
      " 72 73 74]\n",
      "Current starting node BEFORE reset: 53\n",
      "Current starting node after reset: 53\n",
      "Total time for deletion: 0.38577771186828613\n",
      "\n",
      "\n",
      "\n",
      "---N_branches on limbs AFTER combine_path_branches---\n",
      "L0: 10 (difference of 0)\n",
      "L2: 5 (difference of 0)\n",
      "L3: 1 (difference of 0)\n",
      "L4: 1 (difference of 0)\n",
      "L1: 75 (difference of 1)\n",
      "\n",
      "\n",
      "\n",
      "---N_branches on limbs AFTER total simplification---\n",
      "L0: 10 (difference of 0)\n",
      "L2: 5 (difference of 0)\n",
      "L3: 1 (difference of 0)\n",
      "L4: 1 (difference of 0)\n",
      "L1: 75 (difference of 1)\n",
      "\n",
      "***Total time for branch simplification = 11.462754249572754\n"
     ]
    }
   ],
   "source": [
    "from neurd import axon_utils as au\n",
    "\n",
    "neurd.set_volume_params(\n",
    "    \"microns\"\n",
    ")\n",
    "\n",
    "filter_dendrite_on_axon = False\n",
    "plot_initial_axon = False\n",
    "plot_axon_on_dendrite = False\n",
    "plot_high_fidelity_axon = False\n",
    "plot_boutons_web = False\n",
    "\n",
    "\n",
    "\n",
    "(o_neuron_unalign,\n",
    " filtering_info,\n",
    " axon_angles_dict,\n",
    " G_axon_labeled,)=au.complete_axon_processing(\n",
    "            neuron_obj,\n",
    "            cell_type = e_i_class,\n",
    "            add_synapses_and_head_neck_shaft_spines = False,\n",
    "            validation = False,\n",
    "            plot_initial_axon=plot_initial_axon,\n",
    "            plot_axon_on_dendrite=plot_axon_on_dendrite,\n",
    "            return_filtering_info = True,\n",
    "             return_axon_angle_info = True,\n",
    "            plot_high_fidelity_axon = plot_high_fidelity_axon,\n",
    "            plot_boutons_web = plot_boutons_web,\n",
    "            add_synapses_after_high_fidelity_axon = True,\n",
    "            filter_dendrite_on_axon = filter_dendrite_on_axon,\n",
    "            return_G_axon_labeled = True,\n",
    "            verbose = verbose)"
   ]
  },
  {
   "cell_type": "code",
   "execution_count": 326,
   "id": "8eabdc4c",
   "metadata": {
    "scrolled": false
   },
   "outputs": [
    {
     "name": "stdout",
     "output_type": "stream",
     "text": [
      "\n",
      " Working on visualization type: mesh\n",
      "\n",
      " Working on visualization type: skeleton\n"
     ]
    },
    {
     "data": {
      "application/vnd.jupyter.widget-view+json": {
       "model_id": "6fd683b15cb24db094b1a58ed9f148c2",
       "version_major": 2,
       "version_minor": 0
      },
      "text/plain": [
       "Container(figure=Figure(box_center=[0.5, 0.5, 0.5], box_size=[1.0, 1.0, 1.0], camera=PerspectiveCamera(fov=45.…"
      ]
     },
     "metadata": {},
     "output_type": "display_data"
    }
   ],
   "source": [
    "nviz.plot_axon(o_neuron_unalign)"
   ]
  },
  {
   "cell_type": "code",
   "execution_count": null,
   "id": "5df98d0f",
   "metadata": {},
   "outputs": [],
   "source": []
  },
  {
   "cell_type": "markdown",
   "id": "98e4c386",
   "metadata": {},
   "source": [
    "# Proofreading"
   ]
  },
  {
   "cell_type": "code",
   "execution_count": null,
   "id": "208cd6b1",
   "metadata": {},
   "outputs": [],
   "source": []
  },
  {
   "cell_type": "code",
   "execution_count": null,
   "id": "6be364fa",
   "metadata": {},
   "outputs": [],
   "source": []
  },
  {
   "cell_type": "code",
   "execution_count": null,
   "id": "8bbeb70e",
   "metadata": {},
   "outputs": [],
   "source": []
  },
  {
   "cell_type": "code",
   "execution_count": null,
   "id": "a9b5a1a9",
   "metadata": {},
   "outputs": [],
   "source": []
  },
  {
   "cell_type": "code",
   "execution_count": null,
   "id": "d8aeb21a",
   "metadata": {},
   "outputs": [],
   "source": []
  },
  {
   "cell_type": "code",
   "execution_count": null,
   "id": "5ed5b3d3",
   "metadata": {},
   "outputs": [],
   "source": []
  },
  {
   "cell_type": "code",
   "execution_count": null,
   "id": "e9289989",
   "metadata": {},
   "outputs": [],
   "source": []
  },
  {
   "cell_type": "code",
   "execution_count": null,
   "id": "8d78fb4f",
   "metadata": {},
   "outputs": [],
   "source": [
    "# Proofreading"
   ]
  },
  {
   "cell_type": "code",
   "execution_count": null,
   "id": "a178c64f",
   "metadata": {},
   "outputs": [],
   "source": []
  },
  {
   "cell_type": "code",
   "execution_count": null,
   "id": "d802307a",
   "metadata": {},
   "outputs": [],
   "source": []
  },
  {
   "cell_type": "code",
   "execution_count": null,
   "id": "01ffbd7f",
   "metadata": {},
   "outputs": [],
   "source": []
  },
  {
   "cell_type": "code",
   "execution_count": null,
   "id": "488320a5",
   "metadata": {},
   "outputs": [],
   "source": []
  },
  {
   "cell_type": "code",
   "execution_count": null,
   "id": "00b0e1b1",
   "metadata": {},
   "outputs": [],
   "source": []
  },
  {
   "cell_type": "code",
   "execution_count": null,
   "id": "2c5c8dca",
   "metadata": {},
   "outputs": [],
   "source": []
  },
  {
   "cell_type": "code",
   "execution_count": 275,
   "id": "d52f9de6",
   "metadata": {},
   "outputs": [
    {
     "data": {
      "text/plain": [
       "903"
      ]
     },
     "execution_count": 275,
     "metadata": {},
     "output_type": "execute_result"
    }
   ],
   "source": [
    "len(dict_info[\"postsyn\"][\"synapse_ids\"])"
   ]
  },
  {
   "cell_type": "code",
   "execution_count": 251,
   "id": "6142a6c5",
   "metadata": {},
   "outputs": [
    {
     "data": {
      "text/plain": [
       "'/neurd_packages/NEURD/Applications/autoproof_neuron_pipeline/864691135510518224_synapses.csv'"
      ]
     },
     "execution_count": 251,
     "metadata": {},
     "output_type": "execute_result"
    }
   ],
   "source": [
    "from python_tools import pandas_utils as pu\n",
    "df = syu.synapse_df_from_synapse_dict(dict_info,segment_id = segment_id)\n",
    "filepath = f\"{segment_id}_synapses.csv\"\n",
    "pu.df_to_csv(df,filepath)"
   ]
  },
  {
   "cell_type": "code",
   "execution_count": 276,
   "id": "1d54b06e",
   "metadata": {},
   "outputs": [
    {
     "data": {
      "text/html": [
       "<div>\n",
       "<style scoped>\n",
       "    .dataframe tbody tr th:only-of-type {\n",
       "        vertical-align: middle;\n",
       "    }\n",
       "\n",
       "    .dataframe tbody tr th {\n",
       "        vertical-align: top;\n",
       "    }\n",
       "\n",
       "    .dataframe thead th {\n",
       "        text-align: right;\n",
       "    }\n",
       "</style>\n",
       "<table border=\"1\" class=\"dataframe\">\n",
       "  <thead>\n",
       "    <tr style=\"text-align: right;\">\n",
       "      <th></th>\n",
       "      <th>prepost</th>\n",
       "      <th>synapse_id</th>\n",
       "      <th>synapse_x</th>\n",
       "      <th>synapse_y</th>\n",
       "      <th>synapse_z</th>\n",
       "      <th>synapse_size</th>\n",
       "      <th>segment_id</th>\n",
       "    </tr>\n",
       "  </thead>\n",
       "  <tbody>\n",
       "    <tr>\n",
       "      <th>0</th>\n",
       "      <td>presyn</td>\n",
       "      <td>483766883</td>\n",
       "      <td>1488728</td>\n",
       "      <td>621944</td>\n",
       "      <td>1110480</td>\n",
       "      <td>4384</td>\n",
       "      <td>864691135510518224</td>\n",
       "    </tr>\n",
       "    <tr>\n",
       "      <th>1</th>\n",
       "      <td>presyn</td>\n",
       "      <td>478550136</td>\n",
       "      <td>1485480</td>\n",
       "      <td>626880</td>\n",
       "      <td>1111240</td>\n",
       "      <td>2068</td>\n",
       "      <td>864691135510518224</td>\n",
       "    </tr>\n",
       "    <tr>\n",
       "      <th>2</th>\n",
       "      <td>presyn</td>\n",
       "      <td>480939462</td>\n",
       "      <td>1481320</td>\n",
       "      <td>565104</td>\n",
       "      <td>1111800</td>\n",
       "      <td>11064</td>\n",
       "      <td>864691135510518224</td>\n",
       "    </tr>\n",
       "    <tr>\n",
       "      <th>3</th>\n",
       "      <td>presyn</td>\n",
       "      <td>479220146</td>\n",
       "      <td>1482788</td>\n",
       "      <td>601920</td>\n",
       "      <td>1054840</td>\n",
       "      <td>8636</td>\n",
       "      <td>864691135510518224</td>\n",
       "    </tr>\n",
       "    <tr>\n",
       "      <th>4</th>\n",
       "      <td>presyn</td>\n",
       "      <td>468794187</td>\n",
       "      <td>1454888</td>\n",
       "      <td>618200</td>\n",
       "      <td>1093960</td>\n",
       "      <td>3516</td>\n",
       "      <td>864691135510518224</td>\n",
       "    </tr>\n",
       "    <tr>\n",
       "      <th>...</th>\n",
       "      <td>...</td>\n",
       "      <td>...</td>\n",
       "      <td>...</td>\n",
       "      <td>...</td>\n",
       "      <td>...</td>\n",
       "      <td>...</td>\n",
       "      <td>...</td>\n",
       "    </tr>\n",
       "    <tr>\n",
       "      <th>960</th>\n",
       "      <td>postsyn</td>\n",
       "      <td>483712349</td>\n",
       "      <td>1501720</td>\n",
       "      <td>609480</td>\n",
       "      <td>1075880</td>\n",
       "      <td>17880</td>\n",
       "      <td>864691135510518224</td>\n",
       "    </tr>\n",
       "    <tr>\n",
       "      <th>961</th>\n",
       "      <td>postsyn</td>\n",
       "      <td>492052366</td>\n",
       "      <td>1524840</td>\n",
       "      <td>622592</td>\n",
       "      <td>1056880</td>\n",
       "      <td>8680</td>\n",
       "      <td>864691135510518224</td>\n",
       "    </tr>\n",
       "    <tr>\n",
       "      <th>962</th>\n",
       "      <td>postsyn</td>\n",
       "      <td>486032429</td>\n",
       "      <td>1492720</td>\n",
       "      <td>571480</td>\n",
       "      <td>1029520</td>\n",
       "      <td>2244</td>\n",
       "      <td>864691135510518224</td>\n",
       "    </tr>\n",
       "    <tr>\n",
       "      <th>963</th>\n",
       "      <td>postsyn</td>\n",
       "      <td>477362400</td>\n",
       "      <td>1476856</td>\n",
       "      <td>585624</td>\n",
       "      <td>1113440</td>\n",
       "      <td>18312</td>\n",
       "      <td>864691135510518224</td>\n",
       "    </tr>\n",
       "    <tr>\n",
       "      <th>964</th>\n",
       "      <td>postsyn</td>\n",
       "      <td>477549634</td>\n",
       "      <td>1472040</td>\n",
       "      <td>618048</td>\n",
       "      <td>1107880</td>\n",
       "      <td>1048</td>\n",
       "      <td>864691135510518224</td>\n",
       "    </tr>\n",
       "  </tbody>\n",
       "</table>\n",
       "<p>965 rows × 7 columns</p>\n",
       "</div>"
      ],
      "text/plain": [
       "     prepost  synapse_id  synapse_x  synapse_y  synapse_z  synapse_size  \\\n",
       "0     presyn   483766883    1488728     621944    1110480          4384   \n",
       "1     presyn   478550136    1485480     626880    1111240          2068   \n",
       "2     presyn   480939462    1481320     565104    1111800         11064   \n",
       "3     presyn   479220146    1482788     601920    1054840          8636   \n",
       "4     presyn   468794187    1454888     618200    1093960          3516   \n",
       "..       ...         ...        ...        ...        ...           ...   \n",
       "960  postsyn   483712349    1501720     609480    1075880         17880   \n",
       "961  postsyn   492052366    1524840     622592    1056880          8680   \n",
       "962  postsyn   486032429    1492720     571480    1029520          2244   \n",
       "963  postsyn   477362400    1476856     585624    1113440         18312   \n",
       "964  postsyn   477549634    1472040     618048    1107880          1048   \n",
       "\n",
       "             segment_id  \n",
       "0    864691135510518224  \n",
       "1    864691135510518224  \n",
       "2    864691135510518224  \n",
       "3    864691135510518224  \n",
       "4    864691135510518224  \n",
       "..                  ...  \n",
       "960  864691135510518224  \n",
       "961  864691135510518224  \n",
       "962  864691135510518224  \n",
       "963  864691135510518224  \n",
       "964  864691135510518224  \n",
       "\n",
       "[965 rows x 7 columns]"
      ]
     },
     "execution_count": 276,
     "metadata": {},
     "output_type": "execute_result"
    }
   ],
   "source": [
    "df"
   ]
  },
  {
   "cell_type": "code",
   "execution_count": 256,
   "id": "c144f8d8",
   "metadata": {},
   "outputs": [
    {
     "data": {
      "text/html": [
       "<div>\n",
       "<style scoped>\n",
       "    .dataframe tbody tr th:only-of-type {\n",
       "        vertical-align: middle;\n",
       "    }\n",
       "\n",
       "    .dataframe tbody tr th {\n",
       "        vertical-align: top;\n",
       "    }\n",
       "\n",
       "    .dataframe thead th {\n",
       "        text-align: right;\n",
       "    }\n",
       "</style>\n",
       "<table border=\"1\" class=\"dataframe\">\n",
       "  <thead>\n",
       "    <tr style=\"text-align: right;\">\n",
       "      <th></th>\n",
       "      <th>prepost</th>\n",
       "      <th>synapse_id</th>\n",
       "      <th>synapse_x</th>\n",
       "      <th>synapse_y</th>\n",
       "      <th>synapse_z</th>\n",
       "      <th>synapse_size</th>\n",
       "      <th>segment_id</th>\n",
       "    </tr>\n",
       "  </thead>\n",
       "  <tbody>\n",
       "    <tr>\n",
       "      <th>0</th>\n",
       "      <td>presyn</td>\n",
       "      <td>483766883</td>\n",
       "      <td>1488728</td>\n",
       "      <td>621944</td>\n",
       "      <td>1110480</td>\n",
       "      <td>4384</td>\n",
       "      <td>864691135510518224</td>\n",
       "    </tr>\n",
       "    <tr>\n",
       "      <th>1</th>\n",
       "      <td>presyn</td>\n",
       "      <td>478550136</td>\n",
       "      <td>1485480</td>\n",
       "      <td>626880</td>\n",
       "      <td>1111240</td>\n",
       "      <td>2068</td>\n",
       "      <td>864691135510518224</td>\n",
       "    </tr>\n",
       "    <tr>\n",
       "      <th>2</th>\n",
       "      <td>presyn</td>\n",
       "      <td>480939462</td>\n",
       "      <td>1481320</td>\n",
       "      <td>565104</td>\n",
       "      <td>1111800</td>\n",
       "      <td>11064</td>\n",
       "      <td>864691135510518224</td>\n",
       "    </tr>\n",
       "    <tr>\n",
       "      <th>3</th>\n",
       "      <td>presyn</td>\n",
       "      <td>479220146</td>\n",
       "      <td>1482788</td>\n",
       "      <td>601920</td>\n",
       "      <td>1054840</td>\n",
       "      <td>8636</td>\n",
       "      <td>864691135510518224</td>\n",
       "    </tr>\n",
       "    <tr>\n",
       "      <th>4</th>\n",
       "      <td>presyn</td>\n",
       "      <td>468794187</td>\n",
       "      <td>1454888</td>\n",
       "      <td>618200</td>\n",
       "      <td>1093960</td>\n",
       "      <td>3516</td>\n",
       "      <td>864691135510518224</td>\n",
       "    </tr>\n",
       "    <tr>\n",
       "      <th>...</th>\n",
       "      <td>...</td>\n",
       "      <td>...</td>\n",
       "      <td>...</td>\n",
       "      <td>...</td>\n",
       "      <td>...</td>\n",
       "      <td>...</td>\n",
       "      <td>...</td>\n",
       "    </tr>\n",
       "    <tr>\n",
       "      <th>960</th>\n",
       "      <td>postsyn</td>\n",
       "      <td>483712349</td>\n",
       "      <td>1501720</td>\n",
       "      <td>609480</td>\n",
       "      <td>1075880</td>\n",
       "      <td>17880</td>\n",
       "      <td>864691135510518224</td>\n",
       "    </tr>\n",
       "    <tr>\n",
       "      <th>961</th>\n",
       "      <td>postsyn</td>\n",
       "      <td>492052366</td>\n",
       "      <td>1524840</td>\n",
       "      <td>622592</td>\n",
       "      <td>1056880</td>\n",
       "      <td>8680</td>\n",
       "      <td>864691135510518224</td>\n",
       "    </tr>\n",
       "    <tr>\n",
       "      <th>962</th>\n",
       "      <td>postsyn</td>\n",
       "      <td>486032429</td>\n",
       "      <td>1492720</td>\n",
       "      <td>571480</td>\n",
       "      <td>1029520</td>\n",
       "      <td>2244</td>\n",
       "      <td>864691135510518224</td>\n",
       "    </tr>\n",
       "    <tr>\n",
       "      <th>963</th>\n",
       "      <td>postsyn</td>\n",
       "      <td>477362400</td>\n",
       "      <td>1476856</td>\n",
       "      <td>585624</td>\n",
       "      <td>1113440</td>\n",
       "      <td>18312</td>\n",
       "      <td>864691135510518224</td>\n",
       "    </tr>\n",
       "    <tr>\n",
       "      <th>964</th>\n",
       "      <td>postsyn</td>\n",
       "      <td>477549634</td>\n",
       "      <td>1472040</td>\n",
       "      <td>618048</td>\n",
       "      <td>1107880</td>\n",
       "      <td>1048</td>\n",
       "      <td>864691135510518224</td>\n",
       "    </tr>\n",
       "  </tbody>\n",
       "</table>\n",
       "<p>965 rows × 7 columns</p>\n",
       "</div>"
      ],
      "text/plain": [
       "     prepost  synapse_id  synapse_x  synapse_y  synapse_z  synapse_size  \\\n",
       "0     presyn   483766883    1488728     621944    1110480          4384   \n",
       "1     presyn   478550136    1485480     626880    1111240          2068   \n",
       "2     presyn   480939462    1481320     565104    1111800         11064   \n",
       "3     presyn   479220146    1482788     601920    1054840          8636   \n",
       "4     presyn   468794187    1454888     618200    1093960          3516   \n",
       "..       ...         ...        ...        ...        ...           ...   \n",
       "960  postsyn   483712349    1501720     609480    1075880         17880   \n",
       "961  postsyn   492052366    1524840     622592    1056880          8680   \n",
       "962  postsyn   486032429    1492720     571480    1029520          2244   \n",
       "963  postsyn   477362400    1476856     585624    1113440         18312   \n",
       "964  postsyn   477549634    1472040     618048    1107880          1048   \n",
       "\n",
       "             segment_id  \n",
       "0    864691135510518224  \n",
       "1    864691135510518224  \n",
       "2    864691135510518224  \n",
       "3    864691135510518224  \n",
       "4    864691135510518224  \n",
       "..                  ...  \n",
       "960  864691135510518224  \n",
       "961  864691135510518224  \n",
       "962  864691135510518224  \n",
       "963  864691135510518224  \n",
       "964  864691135510518224  \n",
       "\n",
       "[965 rows x 7 columns]"
      ]
     },
     "execution_count": 256,
     "metadata": {},
     "output_type": "execute_result"
    }
   ],
   "source": [
    "df"
   ]
  },
  {
   "cell_type": "code",
   "execution_count": 262,
   "id": "d81e564e",
   "metadata": {},
   "outputs": [
    {
     "name": "stdout",
     "output_type": "stream",
     "text": [
      "# of presyn: 965\n",
      "# of postsyn: 965\n"
     ]
    },
    {
     "data": {
      "text/plain": [
       "{'presyn': {'synapse_ids': array([483766883, 478550136, 480939462, 479220146, 468794187, 476011367,\n",
       "         481606274, 488882555, 493424091, 478550465, 478550457, 488395887,\n",
       "         478550779, 466546956, 498933036, 486009536, 490057853, 469700270,\n",
       "         481443126, 469699724, 466481524, 466142935, 469345183, 466546101,\n",
       "         469700579, 488882735, 488882443, 488882773, 488882803, 491392351,\n",
       "         476009824, 493915101, 488230664, 478560052, 469724537, 466482334,\n",
       "         462511817, 488899341, 490219977, 486011890, 488395832, 492383580,\n",
       "         478560128, 465962323, 486176218, 469701556, 472895032, 475451670,\n",
       "         486007750, 481607093, 466144915, 486175826, 490059469, 469701940,\n",
       "         472894484, 481004674, 498933071, 471554684, 475476664, 472837231,\n",
       "         469724639, 469724541, 488967764, 478550766, 493806807, 492120792,\n",
       "         498412995, 494565947, 473336893, 488933653, 477550189, 487803812,\n",
       "         492120846, 492120874, 485974764, 483710610, 498412955, 498413021,\n",
       "         471557152, 494838931, 469701820, 493424957, 477550313, 478881248,\n",
       "         487457156, 494969948, 477550559, 477550625, 487456165, 466621268,\n",
       "         469701888, 493915991, 493915973, 469345618, 469701355, 469701227,\n",
       "         488160814, 477536575, 482532171, 482533513, 488903456, 493425460,\n",
       "         488235219, 478550176, 478549612, 485976460, 481443683, 466547506,\n",
       "         478549671, 488232745, 490244027, 471802361, 498932151, 493735037,\n",
       "         471802163, 480829203, 480319434, 494839249, 477550201, 471732498,\n",
       "         477549696, 477550642, 477550283, 471557115, 477550435, 490244032,\n",
       "         471556763, 480860185, 478344942, 488967190, 486009181, 490057920,\n",
       "         483596990, 483596884, 488340017, 488967766, 477536108, 466144823,\n",
       "         488967565, 486006520, 477536142, 482469203, 472947422, 485974994,\n",
       "         493425013, 484879971, 494566953, 493752233, 469345575, 494838641,\n",
       "         487802667, 482531995, 488200436, 484879866, 480940365, 469701212,\n",
       "         485836278, 484589878, 484589733, 482547007, 477363177, 482546961,\n",
       "         482547009, 482547105, 483706549, 482546943, 482547254, 482547490,\n",
       "         477363412, 482737349, 482737477, 482738142, 486025462, 481364718,\n",
       "         482546927, 480235900, 483706856, 483707003, 477363400, 478344569,\n",
       "         478344578, 478344507, 478880575, 477550251, 478880177, 483711518,\n",
       "         477550012, 477363062, 477551733, 478881020, 478881082, 482468770,\n",
       "         482547082, 482547194, 482547318, 482547463, 482547532, 482737792,\n",
       "         482737867, 482737900, 488900485, 488967921, 488970199, 482547337,\n",
       "         482547067, 471730519, 475477284, 481364417, 471802897, 494838057,\n",
       "         472134056, 472134187, 472134196, 472134749, 472134140, 472134052,\n",
       "         472134224, 471731556, 471731589, 471731402, 471731271, 481443565,\n",
       "         481607436, 484881281, 488232403, 482428188, 484879718, 488232227,\n",
       "         475990671, 484881142, 484880771, 484195179, 484195154, 493733931,\n",
       "         494968933, 493735374, 494968911, 493735187, 482469082, 482468868,\n",
       "         475477345, 488232939, 480236266, 488932644, 478345653, 478345792,\n",
       "         482546954, 471555121, 471554819, 493900234, 471554844, 482531469,\n",
       "         488932825, 488900753, 482531713, 482531441, 469701494, 471556830,\n",
       "         471556935, 487802270, 477536315, 483710932, 487805287, 497928368,\n",
       "         482531668, 478701842, 482532424, 466621284, 480708505, 488904437,\n",
       "         492053395, 477535993, 482468817, 478880249, 486006561, 477550369,\n",
       "         483707142, 485836427, 477362381, 478881228, 484589943, 483965740,\n",
       "         486025623, 486025631, 480319441, 478881328, 488159486, 483767064,\n",
       "         478345688, 483597006, 487802787, 487805186, 493733585, 481606838,\n",
       "         479461640, 479461909, 488232659, 494968797, 480319225, 480939543,\n",
       "         488968179, 488968002, 482469099, 480687073, 480236014, 494839126,\n",
       "         494838960, 482468976, 493914915, 466547546, 471556541, 473336641,\n",
       "         494839508, 472854153, 478344123, 478344631, 478359646, 478880800,\n",
       "         478880918, 472134876, 472134839, 472134966, 478344704, 478344033,\n",
       "         478344180, 478345450, 482469460, 493807602, 493806928, 496019394,\n",
       "         483712177, 478880573, 479386399, 487457421, 493806711, 473338008,\n",
       "         481606420, 481606119, 481606729, 481606629, 481606634, 481606948,\n",
       "         493669974, 466547458, 472897602, 493669832, 494839320, 481606849,\n",
       "         481606971, 484881144, 478880896, 480235875, 479386197, 479461760,\n",
       "         478880652, 478881005, 478881124, 478360101, 478345529, 478344644,\n",
       "         498932252, 494838656, 498412830, 492052177, 477550534, 486006590,\n",
       "         478550604, 480860136, 486010441, 494839167, 488969274, 490060287,\n",
       "         492054349, 493915037, 485976339, 481443304, 472854202, 473338408,\n",
       "         483712637, 488969046, 488970006, 477550619, 482739198, 486025494,\n",
       "         481444066, 478361117, 478881330, 478344713, 478345090, 478343952,\n",
       "         480687107, 478881337, 482547124, 482547288, 482737494, 472898346,\n",
       "         490243986, 477363270, 494968805, 486010262, 492053531, 496019534,\n",
       "         480860392, 471802593, 484589672, 497928498, 493807397, 482737641,\n",
       "         482737593, 482547372, 482547401, 488898281, 488898247, 482547143,\n",
       "         482547304, 482547415, 482547506, 482547538, 482547396, 482738183,\n",
       "         482738121, 488898214, 482739344, 483598971, 488898313, 482664885,\n",
       "         492120687, 471555066, 494839520, 485836287, 490243976, 493733566,\n",
       "         491728141, 481058499, 481443903, 486010300, 493425186, 488899859,\n",
       "         490059303, 488162493, 490060009, 482547422, 482547442, 482737301,\n",
       "         497928321, 490243346, 494968987, 478549345, 478549878, 483712233,\n",
       "         488903825, 488932253, 477363250, 482532577, 483596544, 483599183,\n",
       "         490244240, 492051708, 493669920, 493671079, 488904097, 492051587,\n",
       "         488340106, 485976196, 469701297, 471556968, 483966076, 483966606,\n",
       "         494969081, 471554956, 480860476, 483712756, 488234941, 488933405,\n",
       "         482469408, 493752222, 481443543, 477550147, 493425215, 484194619,\n",
       "         488159837, 486157173, 483766949, 478548025, 486009519, 471557230,\n",
       "         488903815, 472896423, 485836204, 478344158, 490243567, 493805943,\n",
       "         485836219, 478345659, 482547373, 482737407, 482737537, 488930160,\n",
       "         497928678, 472897581, 475479095, 472134315, 496019841, 479386446,\n",
       "         488232924, 493899482, 482547599, 482739348, 483707178, 496019360,\n",
       "         492052539, 493899744, 493899572, 488200533, 471731159, 493670032,\n",
       "         487805319, 497928278, 480686993, 487805024, 480687046, 490059156,\n",
       "         483710726, 472898045, 477550941, 490198016, 480860154, 471557170,\n",
       "         480860711, 471555084, 475478209, 475477760, 475477772, 482531754,\n",
       "         493670799, 493425260, 480319518, 488967151, 492054554, 484502116,\n",
       "         483597224, 483710507, 487805615, 488199949, 488200203, 493806240,\n",
       "         493806428, 478550230, 481606666, 471732220, 490244390, 493669784,\n",
       "         492120782, 493899704, 480860516, 486006238, 493424499, 496860994,\n",
       "         491728203, 488340125, 490244166, 477536573, 493806430, 471802980,\n",
       "         492054630, 478704719, 478704768, 479461834, 478345274, 478345728,\n",
       "         480236412, 481443594, 488200004, 478359940, 486032656, 473336395,\n",
       "         473336930, 473337695, 471732272, 473337950, 477536512, 478881306,\n",
       "         486005937, 471556907, 488232810, 486025395, 469345410, 475476708,\n",
       "         475477066, 475479305, 477362477, 477362801, 477551601, 486006094,\n",
       "         466547569, 469701796, 480236637, 469345498, 486006663, 486006852,\n",
       "         493915267, 494839260, 471556714, 477551321, 477550536, 469345417,\n",
       "         469345502, 471803057, 478549692, 478549898, 473336521, 473336252,\n",
       "         473337818, 483711153, 484589880, 481443773, 485974996, 471732926,\n",
       "         488931406, 480939079, 471554754, 492053590, 471730432, 480236002,\n",
       "         472134664, 478344215, 471556626, 482468968, 483711316, 472898166,\n",
       "         497928319, 469701636, 475477580, 479386540, 480860676, 466621223,\n",
       "         478550724, 473336381, 480860490, 472854004, 488235502, 471802074,\n",
       "         477362580, 478346002, 483707291, 478881079, 471557074, 494837865,\n",
       "         478881415, 482546952, 478346698, 482738037, 480860359, 472134379,\n",
       "         472134542, 473336161, 486006357, 486007524, 482428909, 483596985,\n",
       "         477551361, 472947274, 482737128, 477531319, 472897681, 492120851,\n",
       "         488162268, 480235874, 487804530, 481443459, 482469175, 471731355,\n",
       "         477550182, 477550994, 481113246, 493751722, 480236203, 480829320,\n",
       "         486025597, 493899898, 481607141, 483707534, 475477469, 488968105,\n",
       "         492054296, 486008840, 485976409, 494970805, 482426658, 488932205,\n",
       "         484194907, 486031731, 485975016, 484589818, 493734123, 486007764,\n",
       "         475477831, 486006554, 493671467, 483707594, 490059838, 490059480,\n",
       "         488162222, 478344456, 477536365, 484204372, 488232344, 479386341,\n",
       "         479386372, 493734163, 480236407, 480236505, 484501768, 475477556,\n",
       "         486025438, 493669779, 488904275, 480860323, 482469216, 466547597,\n",
       "         469701428, 466620962, 478345613, 478345767, 478880291, 478880433,\n",
       "         478880780, 478881057, 478881266, 488899029, 486157136, 485974680,\n",
       "         493806658, 472898161, 488932909, 488900579, 493670165, 482737509,\n",
       "         480319146, 488967160, 492052464, 493900023, 483597017, 491727996,\n",
       "         493915320, 493915625, 493671180, 488968197, 493670896, 482427815,\n",
       "         488930953, 471802449, 493670130, 482531792, 483596628, 482739242,\n",
       "         492121181, 497929100, 477549992, 493670768, 492054346, 493424613,\n",
       "         477531193, 488899590, 482738869, 493734889, 493671142, 488968920,\n",
       "         488339664, 487456550, 478360433, 478879968, 487457953, 488235300,\n",
       "         493899694, 492053495, 473336551, 472897476, 486032081, 487805627,\n",
       "         480940346, 488233166, 493735432, 487805283, 488200480, 491809002,\n",
       "         493735235, 484880289, 482546936, 498932020, 498932079, 486025770,\n",
       "         493425098, 466621523, 490059852, 490242867, 494566701, 475641621,\n",
       "         478881295, 490243062, 488161251, 488200603, 487803964, 484879835,\n",
       "         482532725, 483706968, 488159758, 488160313, 484589772, 482547013,\n",
       "         478344461, 471556561, 488160573, 488162717, 471731672, 484879876,\n",
       "         487803369, 493734470, 475477215, 485974877, 482469496, 498932179,\n",
       "         471556913, 488232402, 478881033, 478881324, 488969076, 478359277,\n",
       "         480939709, 488233115, 472134582, 477362386, 477362645, 477362814,\n",
       "         478881237, 482547550, 478344271, 478344516, 478346057, 485848595,\n",
       "         493915311, 493915426, 494566219, 475641689, 488162296, 466621267,\n",
       "         477551543, 488898781, 493424744, 475478602, 481365036, 488967999,\n",
       "         488968059, 493915624, 480319433, 471803562, 488967662, 481443652,\n",
       "         486025420, 477363319, 477363341, 486032099, 490060482, 471556393,\n",
       "         492051907, 493900018, 477536121, 493734982, 490059874, 492121492,\n",
       "         490242876, 488161679, 488232909, 493915161, 486007229, 477536152,\n",
       "         493805725, 484194618, 484502725, 477363241, 487804480, 493807532,\n",
       "         488968279, 488970993, 497928669, 498931832, 480940096, 471557151,\n",
       "         488931969, 480917210, 483597357, 488339971, 481364815, 481364896,\n",
       "         494969928, 490244312, 487804033, 477551444, 477551498, 478346567,\n",
       "         478880943, 486032559, 490060294, 493807102, 496019552, 477536506,\n",
       "         477550853, 471556835, 473337896, 477363308, 480860712, 490058773,\n",
       "         490059396, 496019253, 490244102, 488969037, 488904165, 471802279,\n",
       "         488969199, 490060397, 471730718, 488969008, 496860895, 473336146,\n",
       "         497928789, 488162562, 478881379, 487457658, 490058722, 481443569,\n",
       "         483597598, 492120868, 492053338, 496861237, 493734522, 484880037,\n",
       "         475476743, 469345521, 469345561, 469701500, 478359945, 469701265,\n",
       "         472898370, 477531448, 478344979, 480859821, 485975043, 483711855,\n",
       "         488340118, 487803674, 490243797, 478881133, 479461722, 477549954,\n",
       "         478702466, 478881065, 482468881, 483706647, 486006539, 475479307,\n",
       "         483712349, 492052366, 486032429, 477362400, 477549634]),\n",
       "  'synapse_coordinates': array([[1488728,  621944, 1110480],\n",
       "         [1485480,  626880, 1111240],\n",
       "         [1481320,  565104, 1111800],\n",
       "         ...,\n",
       "         [1492720,  571480, 1029520],\n",
       "         [1476856,  585624, 1113440],\n",
       "         [1472040,  618048, 1107880]]),\n",
       "  'synapse_sizes': array([ 4384,  2068, 11064,  8636,  3516, 13224,  6400,  3004,  2240,\n",
       "          3468,  5480,  1756,   192,  4968, 15816,  4900,  1964,  2140,\n",
       "          5088,  3076,  4240,  7908, 19912,  6580,  2148,  1320,  5000,\n",
       "          4484,  7544,  8640, 15128,  1084, 18324,  8540,  2888,  2752,\n",
       "          1924,   896,  3600, 10376,  6020,  2264,   884,  4304, 15624,\n",
       "         10956,  4524,  5680,  2648,  6296,  8440,  9384,  7216, 11484,\n",
       "          6228,  7408,  2380,  9432,  1172,  3588,  7764, 23840,  5588,\n",
       "          6644,  5904,  6332,  4648,  1500,  2148,  9988,  3724,   480,\n",
       "          4664,  6252,  3084,  1448,   932,  4536,   752, 16900, 24956,\n",
       "          6048,  5620,   316,  1024, 21620,  3044,  1668,  7344,  5752,\n",
       "          2608,  3216,  5460,  2752,  1328,  8616,  2680,  1648,  5732,\n",
       "          3196,  6744,  8284,  2052,  5440, 11996,  8824,  2808, 20768,\n",
       "          3252,  1596,  2556,  2896,  2036,  5876, 13320,   416,  3640,\n",
       "           608,  3336, 13888,  7040,  1536,  2312,   808,  4780,  2516,\n",
       "          3476,  2432,  2084,  1968, 11972,   696,  1344, 16244, 14344,\n",
       "         10812,  2868,  6184,  3596,  7360,  9188,  4832,  9768,  6156,\n",
       "         23500,  4100, 19956, 10360,  2476,  1024,  1708,  8756,  6824,\n",
       "          7912,  5960,  2268,  3064, 20604,  4672,   500,  5080,  3788,\n",
       "          4436,  1524,   176,  2164,  4068,  4384,  1832,   748,  4516,\n",
       "          6076,  2836, 11592, 19016,  1424,  1548,  9312,  5496,  6328,\n",
       "          3832,   664, 14040,  3804,   928,  1164,   828,  9164,  2128,\n",
       "          6080,  2584,  3776,  7584,  4924,  8304,  2656,  2356,  4992,\n",
       "          3436,  3764,  5076, 19720,  2424,   348,  2644,  4176, 12932,\n",
       "         10536, 13812,  8824,  2212,  5648,  1992,  5096,  2748,  1968,\n",
       "          2932, 23820, 11996,  4540,  4584,  1060, 10484,   464, 12424,\n",
       "         10048,  9304, 14144,   160,  3136, 27228, 10936, 12560,  1572,\n",
       "          4092,  6836,  5528,  7312,  2656,  2560,  2924, 10528,  3388,\n",
       "          1268,  1248,  3632,  7608,   164,  4796,  5080,  1752,  2988,\n",
       "          3896,  2904, 22680,  1792,  3744,  1800,  2812,  2056,  3276,\n",
       "         26352,  3404,  3008,  5628,  3012,   524,  2164, 21628,  5744,\n",
       "          5932,  1024,  3580,  2872,  4196,  3180,  8852,  2672, 19444,\n",
       "          5432,  5004, 27512,  3344,  1696,  2168,  3816,  8452, 16100,\n",
       "          4928,  6884, 32576,  9344,  8684,  4564,  2748, 22216, 11568,\n",
       "          5892,  9976, 27704,  3440,  3288,  3224,  1332,  1740,  2284,\n",
       "          2164, 18020,   924,  7696,  1580,  1336,  4020,  9612,  3552,\n",
       "          4820,  7144,  3492,  5852,  1796,  7148,  2904,  4984,  3204,\n",
       "          4556,  2172,   540,   500,  4268, 15664,  4104,  3808,  2864,\n",
       "          4496,  4304,  4904,  5972, 20560,   496,  2600,   376,  2032,\n",
       "          4300, 21220, 10152,  1476,  1740,  1260,  1968, 24628,  2112,\n",
       "          3792,  9116,  9328,  1768,  1384,  5672,  2436, 12420,  1424,\n",
       "          2496,   420,  4752,  2072, 10900,  1940,  2276,  3604, 15196,\n",
       "          2600,  8436,  8540,  4592, 20860, 19684, 16512,  8972, 18008,\n",
       "          1144,   232,  4284,  5112,   204, 12052, 14828,  4012,  4464,\n",
       "          2316,  3060,   236,  9600,  7696,  2096,  4760,  3660,  3676,\n",
       "          5428, 28580,   916,  7940,   832,  3468,  2076,  7744, 31436,\n",
       "         32732,  1840,  5732,  1020,  6892,  5124,  3352, 22360,  7688,\n",
       "          6360,  2276,  4216,  3036,  3420,  1908,  1928,   236,   232,\n",
       "          1416,  2972,  2916,  3324,  4044,  7956,  2120,  6856, 22120,\n",
       "           600,   716,  2204,  1520, 28588,  3824,  5188,  6532,  4312,\n",
       "          1676,  3488,  3832,  1180,  2576,  3628,  2124,  2404, 26936,\n",
       "          4824, 10096,  3440,  1688,  3576,  2900, 14984,  5224,  7108,\n",
       "          2732,  7504,  7056,  7620,  1288,  3348,  8416, 25848,  8008,\n",
       "          3992,  3628,  2964, 10704, 20132,  6156, 25832, 13804, 21524,\n",
       "          2708, 19544, 14436,  5308,  3076,  4424,  2000,   752,  1584,\n",
       "         23852,  5376,  1200,  1880,  1408,  3476,  4132,  2780,  2912,\n",
       "           936,   820,  5080, 21264,  2796,  1196,  2744,  3856, 14408,\n",
       "          3804,  2432,  3392,  3512,  5172,  3208,  2136,   280,  2004,\n",
       "          6672,  4508,  6544, 14940,  8384, 14052,  3500,  3848, 11084,\n",
       "           716,  1120,  4012,  3896,  5220, 15804,  2080, 10512,  3964,\n",
       "         12424,  4024, 10080,  5112,  6688,  1228,  4368,  6080,  1348,\n",
       "          5412,  3572,  2476,  4836,  5312,  8956,  9556,  3528,   964,\n",
       "         18112, 33948,  2948,  3904,  3744, 36084,  1172,  5124,  2212,\n",
       "          3592,   628,  3172,  6148,   664,   204,  6964, 17532, 25060,\n",
       "           412,  7756,  2104,  6320,  3648,  4432,  4172,   192,   384,\n",
       "          1968,  5428,  8316,   928,  9080,  3436,  3780,  4276,  5808,\n",
       "          4980,  1380,  3976,  6692,  2152,  2640,  1292,  7436,   292,\n",
       "          1176, 16348, 15072,  2588,  5448,  3040,  3484,  1996,  2880,\n",
       "         15068,  6640, 12204, 20472,  1416, 13708,  1680,  5508, 11264,\n",
       "          8724,  2012,  7212, 19152,  3680,  3628,  3108,  1200,   512,\n",
       "         12892,  1148,  6844,   220,  2428,  1316, 12208, 13356,  5380,\n",
       "          2876,  7752, 12740,  7240,  3744,  2324,  8844,  2228, 22464,\n",
       "          5520, 10488,  3768,  8148,  4488,  6184,   260,  2596, 15332,\n",
       "           600,  4224,  3292,  4952,   940,   520,  3760,  3792, 10484,\n",
       "         17652,  4324, 11204, 23404,  5688,  1724, 14832, 10252,  8812,\n",
       "          9496,  9496,  4784, 15240,  4372,  2616, 17096, 16076,  3268,\n",
       "          8640, 15684,  5356,  6428, 11552,  1452,  6452,  1324,  4072,\n",
       "          8156,  4776,  3012,  7316, 17696,   692,  3836, 11036,  2272,\n",
       "          3364,  6680, 20256, 17376, 13180,  5980,  3504,   724,   256,\n",
       "          7080,   808, 24328, 10988,  6164,  1324,  2224, 21580,  1676,\n",
       "         17004,  4520,   420,  5848, 13192,  6336,  8068,  5440,  3856,\n",
       "         13284,  4912,  2400,  4332,  1716,  3088,  2352,  1928,  3664,\n",
       "          3044,  2372, 20644,  1836,  3588,  1476, 10588,  3936,   748,\n",
       "         24024,  2000,  3304,  6180,  4036,   316,  2772,   208, 11080,\n",
       "         21132,  7516, 17804,  6672,   488, 11044,  3488,  4244,  2884,\n",
       "          7680,  3248, 24184,  1772, 17244,   728,  4792,  1844,  5196,\n",
       "          4248,  2332,  4840,  9168,  9304,  2332, 15252,  1564, 11332,\n",
       "         18796,  6804, 11896, 29596,  2424,  2624,  6292,  1612,  1144,\n",
       "          6116,  6312,  3120, 11860, 10764,   948,  4212,  9108, 17148,\n",
       "          1888,  3440, 12804,  5724,  7724, 15628,  1544,  4160,  4180,\n",
       "         18352, 12200,  1176,  1704,  4124, 12416,  5048, 25484,  6024,\n",
       "          1336, 14528,  1532,   560,   876,  5728,  1140, 13364,  6292,\n",
       "          7772, 33908,  2972,  1716,   560,  3600,  2132,  1060,  3528,\n",
       "          3084,  7728,  3052,   772,  2276,  5120,   544,  4960,   564,\n",
       "           272,  2300,  6928, 12644,   208,  3900,  9504,  3032,  4192,\n",
       "           216,  6844,  1732,  4740, 10848,  1104,  3212,  3968,  4000,\n",
       "          7680,  6984, 14540,  4044,  2068, 11024,  3444,  6200, 22496,\n",
       "          7940,  5880,  5476, 36648, 10220, 12968,  3884,   228,  1564,\n",
       "          4000,  3408,  5416,  5680,  1504, 25084,  4256,  3432,  3824,\n",
       "          1468,   340,   624,  6120,  8368,  2092,  7588, 10200,  7084,\n",
       "          3692,  3320,  4476,  3588,  3000, 18028,  6180,  2504,  5396,\n",
       "          5572,  7532,  6040,  3724,  7268,  5408,  8632, 20884, 12192,\n",
       "          8876,  2072,  1168,  3016,  4548,  5636, 10576,  2200,  3140,\n",
       "          1696,   216,   896, 49876, 24688,  6920,  2940,  8944,  4800,\n",
       "         19952, 12348,  5352,  3340, 19580, 10012,  6076,  2852, 23712,\n",
       "         18964,  5784,  4244,  2028, 13620,  6336,  1584,   796,  6632,\n",
       "         13968,  1976,  1448, 16884,  5840,  2268,  3520,  9148,  1004,\n",
       "          1108,  4328,  6112,  1244,  2712,   440, 17880,  8680,  2244,\n",
       "         18312,  1048])},\n",
       " 'postsyn': {'synapse_ids': array([483766883, 478550136, 480939462, 479220146, 468794187, 476011367,\n",
       "         481606274, 488882555, 493424091, 478550465, 478550457, 488395887,\n",
       "         478550779, 466546956, 498933036, 486009536, 490057853, 469700270,\n",
       "         481443126, 469699724, 466481524, 466142935, 469345183, 466546101,\n",
       "         469700579, 488882735, 488882443, 488882773, 488882803, 491392351,\n",
       "         476009824, 493915101, 488230664, 478560052, 469724537, 466482334,\n",
       "         462511817, 488899341, 490219977, 486011890, 488395832, 492383580,\n",
       "         478560128, 465962323, 486176218, 469701556, 472895032, 475451670,\n",
       "         486007750, 481607093, 466144915, 486175826, 490059469, 469701940,\n",
       "         472894484, 481004674, 498933071, 471554684, 475476664, 472837231,\n",
       "         469724639, 469724541, 488967764, 478550766, 493806807, 492120792,\n",
       "         498412995, 494565947, 473336893, 488933653, 477550189, 487803812,\n",
       "         492120846, 492120874, 485974764, 483710610, 498412955, 498413021,\n",
       "         471557152, 494838931, 469701820, 493424957, 477550313, 478881248,\n",
       "         487457156, 494969948, 477550559, 477550625, 487456165, 466621268,\n",
       "         469701888, 493915991, 493915973, 469345618, 469701355, 469701227,\n",
       "         488160814, 477536575, 482532171, 482533513, 488903456, 493425460,\n",
       "         488235219, 478550176, 478549612, 485976460, 481443683, 466547506,\n",
       "         478549671, 488232745, 490244027, 471802361, 498932151, 493735037,\n",
       "         471802163, 480829203, 480319434, 494839249, 477550201, 471732498,\n",
       "         477549696, 477550642, 477550283, 471557115, 477550435, 490244032,\n",
       "         471556763, 480860185, 478344942, 488967190, 486009181, 490057920,\n",
       "         483596990, 483596884, 488340017, 488967766, 477536108, 466144823,\n",
       "         488967565, 486006520, 477536142, 482469203, 472947422, 485974994,\n",
       "         493425013, 484879971, 494566953, 493752233, 469345575, 494838641,\n",
       "         487802667, 482531995, 488200436, 484879866, 480940365, 469701212,\n",
       "         485836278, 484589878, 484589733, 482547007, 477363177, 482546961,\n",
       "         482547009, 482547105, 483706549, 482546943, 482547254, 482547490,\n",
       "         477363412, 482737349, 482737477, 482738142, 486025462, 481364718,\n",
       "         482546927, 480235900, 483706856, 483707003, 477363400, 478344569,\n",
       "         478344578, 478344507, 478880575, 477550251, 478880177, 483711518,\n",
       "         477550012, 477363062, 477551733, 478881020, 478881082, 482468770,\n",
       "         482547082, 482547194, 482547318, 482547463, 482547532, 482737792,\n",
       "         482737867, 482737900, 488900485, 488967921, 488970199, 482547337,\n",
       "         482547067, 471730519, 475477284, 481364417, 471802897, 494838057,\n",
       "         472134056, 472134187, 472134196, 472134749, 472134140, 472134052,\n",
       "         472134224, 471731556, 471731589, 471731402, 471731271, 481443565,\n",
       "         481607436, 484881281, 488232403, 482428188, 484879718, 488232227,\n",
       "         475990671, 484881142, 484880771, 484195179, 484195154, 493733931,\n",
       "         494968933, 493735374, 494968911, 493735187, 482469082, 482468868,\n",
       "         475477345, 488232939, 480236266, 488932644, 478345653, 478345792,\n",
       "         482546954, 471555121, 471554819, 493900234, 471554844, 482531469,\n",
       "         488932825, 488900753, 482531713, 482531441, 469701494, 471556830,\n",
       "         471556935, 487802270, 477536315, 483710932, 487805287, 497928368,\n",
       "         482531668, 478701842, 482532424, 466621284, 480708505, 488904437,\n",
       "         492053395, 477535993, 482468817, 478880249, 486006561, 477550369,\n",
       "         483707142, 485836427, 477362381, 478881228, 484589943, 483965740,\n",
       "         486025623, 486025631, 480319441, 478881328, 488159486, 483767064,\n",
       "         478345688, 483597006, 487802787, 487805186, 493733585, 481606838,\n",
       "         479461640, 479461909, 488232659, 494968797, 480319225, 480939543,\n",
       "         488968179, 488968002, 482469099, 480687073, 480236014, 494839126,\n",
       "         494838960, 482468976, 493914915, 466547546, 471556541, 473336641,\n",
       "         494839508, 472854153, 478344123, 478344631, 478359646, 478880800,\n",
       "         478880918, 472134876, 472134839, 472134966, 478344704, 478344033,\n",
       "         478344180, 478345450, 482469460, 493807602, 493806928, 496019394,\n",
       "         483712177, 478880573, 479386399, 487457421, 493806711, 473338008,\n",
       "         481606420, 481606119, 481606729, 481606629, 481606634, 481606948,\n",
       "         493669974, 466547458, 472897602, 493669832, 494839320, 481606849,\n",
       "         481606971, 484881144, 478880896, 480235875, 479386197, 479461760,\n",
       "         478880652, 478881005, 478881124, 478360101, 478345529, 478344644,\n",
       "         498932252, 494838656, 498412830, 492052177, 477550534, 486006590,\n",
       "         478550604, 480860136, 486010441, 494839167, 488969274, 490060287,\n",
       "         492054349, 493915037, 485976339, 481443304, 472854202, 473338408,\n",
       "         483712637, 488969046, 488970006, 477550619, 482739198, 486025494,\n",
       "         481444066, 478361117, 478881330, 478344713, 478345090, 478343952,\n",
       "         480687107, 478881337, 482547124, 482547288, 482737494, 472898346,\n",
       "         490243986, 477363270, 494968805, 486010262, 492053531, 496019534,\n",
       "         480860392, 471802593, 484589672, 497928498, 493807397, 482737641,\n",
       "         482737593, 482547372, 482547401, 488898281, 488898247, 482547143,\n",
       "         482547304, 482547415, 482547506, 482547538, 482547396, 482738183,\n",
       "         482738121, 488898214, 482739344, 483598971, 488898313, 482664885,\n",
       "         492120687, 471555066, 494839520, 485836287, 490243976, 493733566,\n",
       "         491728141, 481058499, 481443903, 486010300, 493425186, 488899859,\n",
       "         490059303, 488162493, 490060009, 482547422, 482547442, 482737301,\n",
       "         497928321, 490243346, 494968987, 478549345, 478549878, 483712233,\n",
       "         488903825, 488932253, 477363250, 482532577, 483596544, 483599183,\n",
       "         490244240, 492051708, 493669920, 493671079, 488904097, 492051587,\n",
       "         488340106, 485976196, 469701297, 471556968, 483966076, 483966606,\n",
       "         494969081, 471554956, 480860476, 483712756, 488234941, 488933405,\n",
       "         482469408, 493752222, 481443543, 477550147, 493425215, 484194619,\n",
       "         488159837, 486157173, 483766949, 478548025, 486009519, 471557230,\n",
       "         488903815, 472896423, 485836204, 478344158, 490243567, 493805943,\n",
       "         485836219, 478345659, 482547373, 482737407, 482737537, 488930160,\n",
       "         497928678, 472897581, 475479095, 472134315, 496019841, 479386446,\n",
       "         488232924, 493899482, 482547599, 482739348, 483707178, 496019360,\n",
       "         492052539, 493899744, 493899572, 488200533, 471731159, 493670032,\n",
       "         487805319, 497928278, 480686993, 487805024, 480687046, 490059156,\n",
       "         483710726, 472898045, 477550941, 490198016, 480860154, 471557170,\n",
       "         480860711, 471555084, 475478209, 475477760, 475477772, 482531754,\n",
       "         493670799, 493425260, 480319518, 488967151, 492054554, 484502116,\n",
       "         483597224, 483710507, 487805615, 488199949, 488200203, 493806240,\n",
       "         493806428, 478550230, 481606666, 471732220, 490244390, 493669784,\n",
       "         492120782, 493899704, 480860516, 486006238, 493424499, 496860994,\n",
       "         491728203, 488340125, 490244166, 477536573, 493806430, 471802980,\n",
       "         492054630, 478704719, 478704768, 479461834, 478345274, 478345728,\n",
       "         480236412, 481443594, 488200004, 478359940, 486032656, 473336395,\n",
       "         473336930, 473337695, 471732272, 473337950, 477536512, 478881306,\n",
       "         486005937, 471556907, 488232810, 486025395, 469345410, 475476708,\n",
       "         475477066, 475479305, 477362477, 477362801, 477551601, 486006094,\n",
       "         466547569, 469701796, 480236637, 469345498, 486006663, 486006852,\n",
       "         493915267, 494839260, 471556714, 477551321, 477550536, 469345417,\n",
       "         469345502, 471803057, 478549692, 478549898, 473336521, 473336252,\n",
       "         473337818, 483711153, 484589880, 481443773, 485974996, 471732926,\n",
       "         488931406, 480939079, 471554754, 492053590, 471730432, 480236002,\n",
       "         472134664, 478344215, 471556626, 482468968, 483711316, 472898166,\n",
       "         497928319, 469701636, 475477580, 479386540, 480860676, 466621223,\n",
       "         478550724, 473336381, 480860490, 472854004, 488235502, 471802074,\n",
       "         477362580, 478346002, 483707291, 478881079, 471557074, 494837865,\n",
       "         478881415, 482546952, 478346698, 482738037, 480860359, 472134379,\n",
       "         472134542, 473336161, 486006357, 486007524, 482428909, 483596985,\n",
       "         477551361, 472947274, 482737128, 477531319, 472897681, 492120851,\n",
       "         488162268, 480235874, 487804530, 481443459, 482469175, 471731355,\n",
       "         477550182, 477550994, 481113246, 493751722, 480236203, 480829320,\n",
       "         486025597, 493899898, 481607141, 483707534, 475477469, 488968105,\n",
       "         492054296, 486008840, 485976409, 494970805, 482426658, 488932205,\n",
       "         484194907, 486031731, 485975016, 484589818, 493734123, 486007764,\n",
       "         475477831, 486006554, 493671467, 483707594, 490059838, 490059480,\n",
       "         488162222, 478344456, 477536365, 484204372, 488232344, 479386341,\n",
       "         479386372, 493734163, 480236407, 480236505, 484501768, 475477556,\n",
       "         486025438, 493669779, 488904275, 480860323, 482469216, 466547597,\n",
       "         469701428, 466620962, 478345613, 478345767, 478880291, 478880433,\n",
       "         478880780, 478881057, 478881266, 488899029, 486157136, 485974680,\n",
       "         493806658, 472898161, 488932909, 488900579, 493670165, 482737509,\n",
       "         480319146, 488967160, 492052464, 493900023, 483597017, 491727996,\n",
       "         493915320, 493915625, 493671180, 488968197, 493670896, 482427815,\n",
       "         488930953, 471802449, 493670130, 482531792, 483596628, 482739242,\n",
       "         492121181, 497929100, 477549992, 493670768, 492054346, 493424613,\n",
       "         477531193, 488899590, 482738869, 493734889, 493671142, 488968920,\n",
       "         488339664, 487456550, 478360433, 478879968, 487457953, 488235300,\n",
       "         493899694, 492053495, 473336551, 472897476, 486032081, 487805627,\n",
       "         480940346, 488233166, 493735432, 487805283, 488200480, 491809002,\n",
       "         493735235, 484880289, 482546936, 498932020, 498932079, 486025770,\n",
       "         493425098, 466621523, 490059852, 490242867, 494566701, 475641621,\n",
       "         478881295, 490243062, 488161251, 488200603, 487803964, 484879835,\n",
       "         482532725, 483706968, 488159758, 488160313, 484589772, 482547013,\n",
       "         478344461, 471556561, 488160573, 488162717, 471731672, 484879876,\n",
       "         487803369, 493734470, 475477215, 485974877, 482469496, 498932179,\n",
       "         471556913, 488232402, 478881033, 478881324, 488969076, 478359277,\n",
       "         480939709, 488233115, 472134582, 477362386, 477362645, 477362814,\n",
       "         478881237, 482547550, 478344271, 478344516, 478346057, 485848595,\n",
       "         493915311, 493915426, 494566219, 475641689, 488162296, 466621267,\n",
       "         477551543, 488898781, 493424744, 475478602, 481365036, 488967999,\n",
       "         488968059, 493915624, 480319433, 471803562, 488967662, 481443652,\n",
       "         486025420, 477363319, 477363341, 486032099, 490060482, 471556393,\n",
       "         492051907, 493900018, 477536121, 493734982, 490059874, 492121492,\n",
       "         490242876, 488161679, 488232909, 493915161, 486007229, 477536152,\n",
       "         493805725, 484194618, 484502725, 477363241, 487804480, 493807532,\n",
       "         488968279, 488970993, 497928669, 498931832, 480940096, 471557151,\n",
       "         488931969, 480917210, 483597357, 488339971, 481364815, 481364896,\n",
       "         494969928, 490244312, 487804033, 477551444, 477551498, 478346567,\n",
       "         478880943, 486032559, 490060294, 493807102, 496019552, 477536506,\n",
       "         477550853, 471556835, 473337896, 477363308, 480860712, 490058773,\n",
       "         490059396, 496019253, 490244102, 488969037, 488904165, 471802279,\n",
       "         488969199, 490060397, 471730718, 488969008, 496860895, 473336146,\n",
       "         497928789, 488162562, 478881379, 487457658, 490058722, 481443569,\n",
       "         483597598, 492120868, 492053338, 496861237, 493734522, 484880037,\n",
       "         475476743, 469345521, 469345561, 469701500, 478359945, 469701265,\n",
       "         472898370, 477531448, 478344979, 480859821, 485975043, 483711855,\n",
       "         488340118, 487803674, 490243797, 478881133, 479461722, 477549954,\n",
       "         478702466, 478881065, 482468881, 483706647, 486006539, 475479307,\n",
       "         483712349, 492052366, 486032429, 477362400, 477549634]),\n",
       "  'synapse_coordinates': array([[1488728,  621944, 1110480],\n",
       "         [1485480,  626880, 1111240],\n",
       "         [1481320,  565104, 1111800],\n",
       "         ...,\n",
       "         [1492720,  571480, 1029520],\n",
       "         [1476856,  585624, 1113440],\n",
       "         [1472040,  618048, 1107880]]),\n",
       "  'synapse_sizes': array([ 4384,  2068, 11064,  8636,  3516, 13224,  6400,  3004,  2240,\n",
       "          3468,  5480,  1756,   192,  4968, 15816,  4900,  1964,  2140,\n",
       "          5088,  3076,  4240,  7908, 19912,  6580,  2148,  1320,  5000,\n",
       "          4484,  7544,  8640, 15128,  1084, 18324,  8540,  2888,  2752,\n",
       "          1924,   896,  3600, 10376,  6020,  2264,   884,  4304, 15624,\n",
       "         10956,  4524,  5680,  2648,  6296,  8440,  9384,  7216, 11484,\n",
       "          6228,  7408,  2380,  9432,  1172,  3588,  7764, 23840,  5588,\n",
       "          6644,  5904,  6332,  4648,  1500,  2148,  9988,  3724,   480,\n",
       "          4664,  6252,  3084,  1448,   932,  4536,   752, 16900, 24956,\n",
       "          6048,  5620,   316,  1024, 21620,  3044,  1668,  7344,  5752,\n",
       "          2608,  3216,  5460,  2752,  1328,  8616,  2680,  1648,  5732,\n",
       "          3196,  6744,  8284,  2052,  5440, 11996,  8824,  2808, 20768,\n",
       "          3252,  1596,  2556,  2896,  2036,  5876, 13320,   416,  3640,\n",
       "           608,  3336, 13888,  7040,  1536,  2312,   808,  4780,  2516,\n",
       "          3476,  2432,  2084,  1968, 11972,   696,  1344, 16244, 14344,\n",
       "         10812,  2868,  6184,  3596,  7360,  9188,  4832,  9768,  6156,\n",
       "         23500,  4100, 19956, 10360,  2476,  1024,  1708,  8756,  6824,\n",
       "          7912,  5960,  2268,  3064, 20604,  4672,   500,  5080,  3788,\n",
       "          4436,  1524,   176,  2164,  4068,  4384,  1832,   748,  4516,\n",
       "          6076,  2836, 11592, 19016,  1424,  1548,  9312,  5496,  6328,\n",
       "          3832,   664, 14040,  3804,   928,  1164,   828,  9164,  2128,\n",
       "          6080,  2584,  3776,  7584,  4924,  8304,  2656,  2356,  4992,\n",
       "          3436,  3764,  5076, 19720,  2424,   348,  2644,  4176, 12932,\n",
       "         10536, 13812,  8824,  2212,  5648,  1992,  5096,  2748,  1968,\n",
       "          2932, 23820, 11996,  4540,  4584,  1060, 10484,   464, 12424,\n",
       "         10048,  9304, 14144,   160,  3136, 27228, 10936, 12560,  1572,\n",
       "          4092,  6836,  5528,  7312,  2656,  2560,  2924, 10528,  3388,\n",
       "          1268,  1248,  3632,  7608,   164,  4796,  5080,  1752,  2988,\n",
       "          3896,  2904, 22680,  1792,  3744,  1800,  2812,  2056,  3276,\n",
       "         26352,  3404,  3008,  5628,  3012,   524,  2164, 21628,  5744,\n",
       "          5932,  1024,  3580,  2872,  4196,  3180,  8852,  2672, 19444,\n",
       "          5432,  5004, 27512,  3344,  1696,  2168,  3816,  8452, 16100,\n",
       "          4928,  6884, 32576,  9344,  8684,  4564,  2748, 22216, 11568,\n",
       "          5892,  9976, 27704,  3440,  3288,  3224,  1332,  1740,  2284,\n",
       "          2164, 18020,   924,  7696,  1580,  1336,  4020,  9612,  3552,\n",
       "          4820,  7144,  3492,  5852,  1796,  7148,  2904,  4984,  3204,\n",
       "          4556,  2172,   540,   500,  4268, 15664,  4104,  3808,  2864,\n",
       "          4496,  4304,  4904,  5972, 20560,   496,  2600,   376,  2032,\n",
       "          4300, 21220, 10152,  1476,  1740,  1260,  1968, 24628,  2112,\n",
       "          3792,  9116,  9328,  1768,  1384,  5672,  2436, 12420,  1424,\n",
       "          2496,   420,  4752,  2072, 10900,  1940,  2276,  3604, 15196,\n",
       "          2600,  8436,  8540,  4592, 20860, 19684, 16512,  8972, 18008,\n",
       "          1144,   232,  4284,  5112,   204, 12052, 14828,  4012,  4464,\n",
       "          2316,  3060,   236,  9600,  7696,  2096,  4760,  3660,  3676,\n",
       "          5428, 28580,   916,  7940,   832,  3468,  2076,  7744, 31436,\n",
       "         32732,  1840,  5732,  1020,  6892,  5124,  3352, 22360,  7688,\n",
       "          6360,  2276,  4216,  3036,  3420,  1908,  1928,   236,   232,\n",
       "          1416,  2972,  2916,  3324,  4044,  7956,  2120,  6856, 22120,\n",
       "           600,   716,  2204,  1520, 28588,  3824,  5188,  6532,  4312,\n",
       "          1676,  3488,  3832,  1180,  2576,  3628,  2124,  2404, 26936,\n",
       "          4824, 10096,  3440,  1688,  3576,  2900, 14984,  5224,  7108,\n",
       "          2732,  7504,  7056,  7620,  1288,  3348,  8416, 25848,  8008,\n",
       "          3992,  3628,  2964, 10704, 20132,  6156, 25832, 13804, 21524,\n",
       "          2708, 19544, 14436,  5308,  3076,  4424,  2000,   752,  1584,\n",
       "         23852,  5376,  1200,  1880,  1408,  3476,  4132,  2780,  2912,\n",
       "           936,   820,  5080, 21264,  2796,  1196,  2744,  3856, 14408,\n",
       "          3804,  2432,  3392,  3512,  5172,  3208,  2136,   280,  2004,\n",
       "          6672,  4508,  6544, 14940,  8384, 14052,  3500,  3848, 11084,\n",
       "           716,  1120,  4012,  3896,  5220, 15804,  2080, 10512,  3964,\n",
       "         12424,  4024, 10080,  5112,  6688,  1228,  4368,  6080,  1348,\n",
       "          5412,  3572,  2476,  4836,  5312,  8956,  9556,  3528,   964,\n",
       "         18112, 33948,  2948,  3904,  3744, 36084,  1172,  5124,  2212,\n",
       "          3592,   628,  3172,  6148,   664,   204,  6964, 17532, 25060,\n",
       "           412,  7756,  2104,  6320,  3648,  4432,  4172,   192,   384,\n",
       "          1968,  5428,  8316,   928,  9080,  3436,  3780,  4276,  5808,\n",
       "          4980,  1380,  3976,  6692,  2152,  2640,  1292,  7436,   292,\n",
       "          1176, 16348, 15072,  2588,  5448,  3040,  3484,  1996,  2880,\n",
       "         15068,  6640, 12204, 20472,  1416, 13708,  1680,  5508, 11264,\n",
       "          8724,  2012,  7212, 19152,  3680,  3628,  3108,  1200,   512,\n",
       "         12892,  1148,  6844,   220,  2428,  1316, 12208, 13356,  5380,\n",
       "          2876,  7752, 12740,  7240,  3744,  2324,  8844,  2228, 22464,\n",
       "          5520, 10488,  3768,  8148,  4488,  6184,   260,  2596, 15332,\n",
       "           600,  4224,  3292,  4952,   940,   520,  3760,  3792, 10484,\n",
       "         17652,  4324, 11204, 23404,  5688,  1724, 14832, 10252,  8812,\n",
       "          9496,  9496,  4784, 15240,  4372,  2616, 17096, 16076,  3268,\n",
       "          8640, 15684,  5356,  6428, 11552,  1452,  6452,  1324,  4072,\n",
       "          8156,  4776,  3012,  7316, 17696,   692,  3836, 11036,  2272,\n",
       "          3364,  6680, 20256, 17376, 13180,  5980,  3504,   724,   256,\n",
       "          7080,   808, 24328, 10988,  6164,  1324,  2224, 21580,  1676,\n",
       "         17004,  4520,   420,  5848, 13192,  6336,  8068,  5440,  3856,\n",
       "         13284,  4912,  2400,  4332,  1716,  3088,  2352,  1928,  3664,\n",
       "          3044,  2372, 20644,  1836,  3588,  1476, 10588,  3936,   748,\n",
       "         24024,  2000,  3304,  6180,  4036,   316,  2772,   208, 11080,\n",
       "         21132,  7516, 17804,  6672,   488, 11044,  3488,  4244,  2884,\n",
       "          7680,  3248, 24184,  1772, 17244,   728,  4792,  1844,  5196,\n",
       "          4248,  2332,  4840,  9168,  9304,  2332, 15252,  1564, 11332,\n",
       "         18796,  6804, 11896, 29596,  2424,  2624,  6292,  1612,  1144,\n",
       "          6116,  6312,  3120, 11860, 10764,   948,  4212,  9108, 17148,\n",
       "          1888,  3440, 12804,  5724,  7724, 15628,  1544,  4160,  4180,\n",
       "         18352, 12200,  1176,  1704,  4124, 12416,  5048, 25484,  6024,\n",
       "          1336, 14528,  1532,   560,   876,  5728,  1140, 13364,  6292,\n",
       "          7772, 33908,  2972,  1716,   560,  3600,  2132,  1060,  3528,\n",
       "          3084,  7728,  3052,   772,  2276,  5120,   544,  4960,   564,\n",
       "           272,  2300,  6928, 12644,   208,  3900,  9504,  3032,  4192,\n",
       "           216,  6844,  1732,  4740, 10848,  1104,  3212,  3968,  4000,\n",
       "          7680,  6984, 14540,  4044,  2068, 11024,  3444,  6200, 22496,\n",
       "          7940,  5880,  5476, 36648, 10220, 12968,  3884,   228,  1564,\n",
       "          4000,  3408,  5416,  5680,  1504, 25084,  4256,  3432,  3824,\n",
       "          1468,   340,   624,  6120,  8368,  2092,  7588, 10200,  7084,\n",
       "          3692,  3320,  4476,  3588,  3000, 18028,  6180,  2504,  5396,\n",
       "          5572,  7532,  6040,  3724,  7268,  5408,  8632, 20884, 12192,\n",
       "          8876,  2072,  1168,  3016,  4548,  5636, 10576,  2200,  3140,\n",
       "          1696,   216,   896, 49876, 24688,  6920,  2940,  8944,  4800,\n",
       "         19952, 12348,  5352,  3340, 19580, 10012,  6076,  2852, 23712,\n",
       "         18964,  5784,  4244,  2028, 13620,  6336,  1584,   796,  6632,\n",
       "         13968,  1976,  1448, 16884,  5840,  2268,  3520,  9148,  1004,\n",
       "          1108,  4328,  6112,  1244,  2712,   440, 17880,  8680,  2244,\n",
       "         18312,  1048])}}"
      ]
     },
     "execution_count": 262,
     "metadata": {},
     "output_type": "execute_result"
    }
   ],
   "source": [
    "syu.synapse_dict_from_synapse_csv(\n",
    "    synapse_filepath = '/neurd_packages/NEURD/Applications/autoproof_neuron_pipeline/864691135510518224_synapses.csv',\n",
    ")"
   ]
  },
  {
   "cell_type": "code",
   "execution_count": 259,
   "id": "08e038de",
   "metadata": {},
   "outputs": [
    {
     "data": {
      "text/plain": [
       "array([483766883, 478550136, 480939462, 479220146, 468794187, 476011367,\n",
       "       481606274, 488882555, 493424091, 478550465, 478550457, 488395887,\n",
       "       478550779, 466546956, 498933036, 486009536, 490057853, 469700270,\n",
       "       481443126, 469699724, 466481524, 466142935, 469345183, 466546101,\n",
       "       469700579, 488882735, 488882443, 488882773, 488882803, 491392351,\n",
       "       476009824, 493915101, 488230664, 478560052, 469724537, 466482334,\n",
       "       462511817, 488899341, 490219977, 486011890, 488395832, 492383580,\n",
       "       478560128, 465962323, 486176218, 469701556, 472895032, 475451670,\n",
       "       486007750, 481607093, 466144915, 486175826, 490059469, 469701940,\n",
       "       472894484, 481004674, 498933071, 471554684, 475476664, 472837231,\n",
       "       469724639, 469724541, 488967764, 478550766, 493806807, 492120792,\n",
       "       498412995, 494565947, 473336893, 488933653, 477550189, 487803812,\n",
       "       492120846, 492120874, 485974764, 483710610, 498412955, 498413021,\n",
       "       471557152, 494838931, 469701820, 493424957, 477550313, 478881248,\n",
       "       487457156, 494969948, 477550559, 477550625, 487456165, 466621268,\n",
       "       469701888, 493915991, 493915973, 469345618, 469701355, 469701227,\n",
       "       488160814, 477536575, 482532171, 482533513, 488903456, 493425460,\n",
       "       488235219, 478550176, 478549612, 485976460, 481443683, 466547506,\n",
       "       478549671, 488232745, 490244027, 471802361, 498932151, 493735037,\n",
       "       471802163, 480829203, 480319434, 494839249, 477550201, 471732498,\n",
       "       477549696, 477550642, 477550283, 471557115, 477550435, 490244032,\n",
       "       471556763, 480860185, 478344942, 488967190, 486009181, 490057920,\n",
       "       483596990, 483596884, 488340017, 488967766, 477536108, 466144823,\n",
       "       488967565, 486006520, 477536142, 482469203, 472947422, 485974994,\n",
       "       493425013, 484879971, 494566953, 493752233, 469345575, 494838641,\n",
       "       487802667, 482531995, 488200436, 484879866, 480940365, 469701212,\n",
       "       485836278, 484589878, 484589733, 482547007, 477363177, 482546961,\n",
       "       482547009, 482547105, 483706549, 482546943, 482547254, 482547490,\n",
       "       477363412, 482737349, 482737477, 482738142, 486025462, 481364718,\n",
       "       482546927, 480235900, 483706856, 483707003, 477363400, 478344569,\n",
       "       478344578, 478344507, 478880575, 477550251, 478880177, 483711518,\n",
       "       477550012, 477363062, 477551733, 478881020, 478881082, 482468770,\n",
       "       482547082, 482547194, 482547318, 482547463, 482547532, 482737792,\n",
       "       482737867, 482737900, 488900485, 488967921, 488970199, 482547337,\n",
       "       482547067, 471730519, 475477284, 481364417, 471802897, 494838057,\n",
       "       472134056, 472134187, 472134196, 472134749, 472134140, 472134052,\n",
       "       472134224, 471731556, 471731589, 471731402, 471731271, 481443565,\n",
       "       481607436, 484881281, 488232403, 482428188, 484879718, 488232227,\n",
       "       475990671, 484881142, 484880771, 484195179, 484195154, 493733931,\n",
       "       494968933, 493735374, 494968911, 493735187, 482469082, 482468868,\n",
       "       475477345, 488232939, 480236266, 488932644, 478345653, 478345792,\n",
       "       482546954, 471555121, 471554819, 493900234, 471554844, 482531469,\n",
       "       488932825, 488900753, 482531713, 482531441, 469701494, 471556830,\n",
       "       471556935, 487802270, 477536315, 483710932, 487805287, 497928368,\n",
       "       482531668, 478701842, 482532424, 466621284, 480708505, 488904437,\n",
       "       492053395, 477535993, 482468817, 478880249, 486006561, 477550369,\n",
       "       483707142, 485836427, 477362381, 478881228, 484589943, 483965740,\n",
       "       486025623, 486025631, 480319441, 478881328, 488159486, 483767064,\n",
       "       478345688, 483597006, 487802787, 487805186, 493733585, 481606838,\n",
       "       479461640, 479461909, 488232659, 494968797, 480319225, 480939543,\n",
       "       488968179, 488968002, 482469099, 480687073, 480236014, 494839126,\n",
       "       494838960, 482468976, 493914915, 466547546, 471556541, 473336641,\n",
       "       494839508, 472854153, 478344123, 478344631, 478359646, 478880800,\n",
       "       478880918, 472134876, 472134839, 472134966, 478344704, 478344033,\n",
       "       478344180, 478345450, 482469460, 493807602, 493806928, 496019394,\n",
       "       483712177, 478880573, 479386399, 487457421, 493806711, 473338008,\n",
       "       481606420, 481606119, 481606729, 481606629, 481606634, 481606948,\n",
       "       493669974, 466547458, 472897602, 493669832, 494839320, 481606849,\n",
       "       481606971, 484881144, 478880896, 480235875, 479386197, 479461760,\n",
       "       478880652, 478881005, 478881124, 478360101, 478345529, 478344644,\n",
       "       498932252, 494838656, 498412830, 492052177, 477550534, 486006590,\n",
       "       478550604, 480860136, 486010441, 494839167, 488969274, 490060287,\n",
       "       492054349, 493915037, 485976339, 481443304, 472854202, 473338408,\n",
       "       483712637, 488969046, 488970006, 477550619, 482739198, 486025494,\n",
       "       481444066, 478361117, 478881330, 478344713, 478345090, 478343952,\n",
       "       480687107, 478881337, 482547124, 482547288, 482737494, 472898346,\n",
       "       490243986, 477363270, 494968805, 486010262, 492053531, 496019534,\n",
       "       480860392, 471802593, 484589672, 497928498, 493807397, 482737641,\n",
       "       482737593, 482547372, 482547401, 488898281, 488898247, 482547143,\n",
       "       482547304, 482547415, 482547506, 482547538, 482547396, 482738183,\n",
       "       482738121, 488898214, 482739344, 483598971, 488898313, 482664885,\n",
       "       492120687, 471555066, 494839520, 485836287, 490243976, 493733566,\n",
       "       491728141, 481058499, 481443903, 486010300, 493425186, 488899859,\n",
       "       490059303, 488162493, 490060009, 482547422, 482547442, 482737301,\n",
       "       497928321, 490243346, 494968987, 478549345, 478549878, 483712233,\n",
       "       488903825, 488932253, 477363250, 482532577, 483596544, 483599183,\n",
       "       490244240, 492051708, 493669920, 493671079, 488904097, 492051587,\n",
       "       488340106, 485976196, 469701297, 471556968, 483966076, 483966606,\n",
       "       494969081, 471554956, 480860476, 483712756, 488234941, 488933405,\n",
       "       482469408, 493752222, 481443543, 477550147, 493425215, 484194619,\n",
       "       488159837, 486157173, 483766949, 478548025, 486009519, 471557230,\n",
       "       488903815, 472896423, 485836204, 478344158, 490243567, 493805943,\n",
       "       485836219, 478345659, 482547373, 482737407, 482737537, 488930160,\n",
       "       497928678, 472897581, 475479095, 472134315, 496019841, 479386446,\n",
       "       488232924, 493899482, 482547599, 482739348, 483707178, 496019360,\n",
       "       492052539, 493899744, 493899572, 488200533, 471731159, 493670032,\n",
       "       487805319, 497928278, 480686993, 487805024, 480687046, 490059156,\n",
       "       483710726, 472898045, 477550941, 490198016, 480860154, 471557170,\n",
       "       480860711, 471555084, 475478209, 475477760, 475477772, 482531754,\n",
       "       493670799, 493425260, 480319518, 488967151, 492054554, 484502116,\n",
       "       483597224, 483710507, 487805615, 488199949, 488200203, 493806240,\n",
       "       493806428, 478550230, 481606666, 471732220, 490244390, 493669784,\n",
       "       492120782, 493899704, 480860516, 486006238, 493424499, 496860994,\n",
       "       491728203, 488340125, 490244166, 477536573, 493806430, 471802980,\n",
       "       492054630, 478704719, 478704768, 479461834, 478345274, 478345728,\n",
       "       480236412, 481443594, 488200004, 478359940, 486032656, 473336395,\n",
       "       473336930, 473337695, 471732272, 473337950, 477536512, 478881306,\n",
       "       486005937, 471556907, 488232810, 486025395, 469345410, 475476708,\n",
       "       475477066, 475479305, 477362477, 477362801, 477551601, 486006094,\n",
       "       466547569, 469701796, 480236637, 469345498, 486006663, 486006852,\n",
       "       493915267, 494839260, 471556714, 477551321, 477550536, 469345417,\n",
       "       469345502, 471803057, 478549692, 478549898, 473336521, 473336252,\n",
       "       473337818, 483711153, 484589880, 481443773, 485974996, 471732926,\n",
       "       488931406, 480939079, 471554754, 492053590, 471730432, 480236002,\n",
       "       472134664, 478344215, 471556626, 482468968, 483711316, 472898166,\n",
       "       497928319, 469701636, 475477580, 479386540, 480860676, 466621223,\n",
       "       478550724, 473336381, 480860490, 472854004, 488235502, 471802074,\n",
       "       477362580, 478346002, 483707291, 478881079, 471557074, 494837865,\n",
       "       478881415, 482546952, 478346698, 482738037, 480860359, 472134379,\n",
       "       472134542, 473336161, 486006357, 486007524, 482428909, 483596985,\n",
       "       477551361, 472947274, 482737128, 477531319, 472897681, 492120851,\n",
       "       488162268, 480235874, 487804530, 481443459, 482469175, 471731355,\n",
       "       477550182, 477550994, 481113246, 493751722, 480236203, 480829320,\n",
       "       486025597, 493899898, 481607141, 483707534, 475477469, 488968105,\n",
       "       492054296, 486008840, 485976409, 494970805, 482426658, 488932205,\n",
       "       484194907, 486031731, 485975016, 484589818, 493734123, 486007764,\n",
       "       475477831, 486006554, 493671467, 483707594, 490059838, 490059480,\n",
       "       488162222, 478344456, 477536365, 484204372, 488232344, 479386341,\n",
       "       479386372, 493734163, 480236407, 480236505, 484501768, 475477556,\n",
       "       486025438, 493669779, 488904275, 480860323, 482469216, 466547597,\n",
       "       469701428, 466620962, 478345613, 478345767, 478880291, 478880433,\n",
       "       478880780, 478881057, 478881266, 488899029, 486157136, 485974680,\n",
       "       493806658, 472898161, 488932909, 488900579, 493670165, 482737509,\n",
       "       480319146, 488967160, 492052464, 493900023, 483597017, 491727996,\n",
       "       493915320, 493915625, 493671180, 488968197, 493670896, 482427815,\n",
       "       488930953, 471802449, 493670130, 482531792, 483596628, 482739242,\n",
       "       492121181, 497929100, 477549992, 493670768, 492054346, 493424613,\n",
       "       477531193, 488899590, 482738869, 493734889, 493671142, 488968920,\n",
       "       488339664, 487456550, 478360433, 478879968, 487457953, 488235300,\n",
       "       493899694, 492053495, 473336551, 472897476, 486032081, 487805627,\n",
       "       480940346, 488233166, 493735432, 487805283, 488200480, 491809002,\n",
       "       493735235, 484880289, 482546936, 498932020, 498932079, 486025770,\n",
       "       493425098, 466621523, 490059852, 490242867, 494566701, 475641621,\n",
       "       478881295, 490243062, 488161251, 488200603, 487803964, 484879835,\n",
       "       482532725, 483706968, 488159758, 488160313, 484589772, 482547013,\n",
       "       478344461, 471556561, 488160573, 488162717, 471731672, 484879876,\n",
       "       487803369, 493734470, 475477215, 485974877, 482469496, 498932179,\n",
       "       471556913, 488232402, 478881033, 478881324, 488969076, 478359277,\n",
       "       480939709, 488233115, 472134582, 477362386, 477362645, 477362814,\n",
       "       478881237, 482547550, 478344271, 478344516, 478346057, 485848595,\n",
       "       493915311, 493915426, 494566219, 475641689, 488162296, 466621267,\n",
       "       477551543, 488898781, 493424744, 475478602, 481365036, 488967999,\n",
       "       488968059, 493915624, 480319433, 471803562, 488967662, 481443652,\n",
       "       486025420, 477363319, 477363341, 486032099, 490060482, 471556393,\n",
       "       492051907, 493900018, 477536121, 493734982, 490059874, 492121492,\n",
       "       490242876, 488161679, 488232909, 493915161, 486007229, 477536152,\n",
       "       493805725, 484194618, 484502725, 477363241, 487804480, 493807532,\n",
       "       488968279, 488970993, 497928669, 498931832, 480940096, 471557151,\n",
       "       488931969, 480917210, 483597357, 488339971, 481364815, 481364896,\n",
       "       494969928, 490244312, 487804033, 477551444, 477551498, 478346567,\n",
       "       478880943, 486032559, 490060294, 493807102, 496019552, 477536506,\n",
       "       477550853, 471556835, 473337896, 477363308, 480860712, 490058773,\n",
       "       490059396, 496019253, 490244102, 488969037, 488904165, 471802279,\n",
       "       488969199, 490060397, 471730718, 488969008, 496860895, 473336146,\n",
       "       497928789, 488162562, 478881379, 487457658, 490058722, 481443569,\n",
       "       483597598, 492120868, 492053338, 496861237, 493734522, 484880037,\n",
       "       475476743, 469345521, 469345561, 469701500, 478359945, 469701265,\n",
       "       472898370, 477531448, 478344979, 480859821, 485975043, 483711855,\n",
       "       488340118, 487803674, 490243797, 478881133, 479461722, 477549954,\n",
       "       478702466, 478881065, 482468881, 483706647, 486006539, 475479307,\n",
       "       483712349, 492052366, 486032429, 477362400, 477549634])"
      ]
     },
     "execution_count": 259,
     "metadata": {},
     "output_type": "execute_result"
    }
   ],
   "source": [
    "synapse_ids"
   ]
  },
  {
   "cell_type": "code",
   "execution_count": 221,
   "id": "147f10b5",
   "metadata": {
    "scrolled": true
   },
   "outputs": [
    {
     "data": {
      "text/plain": [
       "array(['ais_utils', 'apical_utils', 'axon_utils', 'branch_attr_utils',\n",
       "       'branch_utils', 'cell_type_conv_utils', 'cell_type_utils',\n",
       "       'classification_utils', 'concept_network_utils',\n",
       "       'connectome_analysis_utils', 'connectome_query_utils',\n",
       "       'connectome_utils', 'datajoint_motifs', 'error_detection',\n",
       "       'functional_tuning_utils', 'gnn_embedding_utils', 'graph_filters',\n",
       "       'limb_utils', 'microns_graph_query_utils', 'motif_utils',\n",
       "       'nature_paper_plotting', 'neuron', 'neuron_geometry_utils',\n",
       "       'neuron_searching', 'neuron_simplification', 'neuron_statistics',\n",
       "       'neuron_utils', 'neuron_visualizations', 'preprocess_neuron',\n",
       "       'preprocessing_vp2', 'proofreading_utils',\n",
       "       'proximity_analysis_utils', 'proximity_utils',\n",
       "       'soma_extraction_utils', 'spine_utils', 'synapse_utils',\n",
       "       'whole_neuron_classifier_datajoint_adapted', 'width_utils'],\n",
       "      dtype='<U41')"
      ]
     },
     "execution_count": 221,
     "metadata": {},
     "output_type": "execute_result"
    }
   ],
   "source": [
    "# find the overlap in files in meshAfterParty\n",
    "from pathlib import Path\n",
    "from python_tools import file_utils as filu\n",
    "from python_tools import pathlib_utils as plu\n",
    "import numpy as np\n",
    "map_files = plu.files_of_ext_type(\n",
    "    \"/neurd_packages/meshAfterParty/meshAfterParty/\",\n",
    "    ext = \"py\",\n",
    "    return_stem = True,\n",
    ")\n",
    "\n",
    "neurd_files = plu.files_of_ext_type(\n",
    "    \"/neurd_packages/NEURD/neurd/\",\n",
    "    ext = \"py\",\n",
    "    return_stem = True,\n",
    ")\n",
    "\n",
    "interset_files = np.intersect1d(map_files,neurd_files)\n",
    "interset_files"
   ]
  },
  {
   "cell_type": "code",
   "execution_count": 233,
   "id": "de01c599",
   "metadata": {},
   "outputs": [
    {
     "data": {
      "text/plain": [
       "<bound method DataInterface.fetch_soma_mesh of <dataInterfaceMinnie65.DataInterface object at 0x7fc47cfa6e80>>"
      ]
     },
     "execution_count": 233,
     "metadata": {},
     "output_type": "execute_result"
    }
   ],
   "source": [
    "hdju_min.fetch_soma_mesh"
   ]
  },
  {
   "cell_type": "code",
   "execution_count": 229,
   "id": "81f257b8",
   "metadata": {},
   "outputs": [
    {
     "name": "stdout",
     "output_type": "stream",
     "text": [
      "Moved /neurd_packages/meshAfterParty/meshAfterParty/axon_utils.py\n",
      "Moved /neurd_packages/meshAfterParty/meshAfterParty/branch_attr_utils.py\n",
      "Moved /neurd_packages/meshAfterParty/meshAfterParty/branch_utils.py\n",
      "Moved /neurd_packages/meshAfterParty/meshAfterParty/cell_type_conv_utils.py\n",
      "Moved /neurd_packages/meshAfterParty/meshAfterParty/cell_type_utils.py\n",
      "Moved /neurd_packages/meshAfterParty/meshAfterParty/classification_utils.py\n",
      "Moved /neurd_packages/meshAfterParty/meshAfterParty/concept_network_utils.py\n",
      "Moved /neurd_packages/meshAfterParty/meshAfterParty/connectome_analysis_utils.py\n",
      "Moved /neurd_packages/meshAfterParty/meshAfterParty/connectome_query_utils.py\n",
      "Moved /neurd_packages/meshAfterParty/meshAfterParty/connectome_utils.py\n",
      "Moved /neurd_packages/meshAfterParty/meshAfterParty/datajoint_motifs.py\n",
      "Moved /neurd_packages/meshAfterParty/meshAfterParty/error_detection.py\n",
      "Moved /neurd_packages/meshAfterParty/meshAfterParty/functional_tuning_utils.py\n",
      "Moved /neurd_packages/meshAfterParty/meshAfterParty/gnn_embedding_utils.py\n",
      "Moved /neurd_packages/meshAfterParty/meshAfterParty/graph_filters.py\n",
      "Moved /neurd_packages/meshAfterParty/meshAfterParty/limb_utils.py\n",
      "Moved /neurd_packages/meshAfterParty/meshAfterParty/microns_graph_query_utils.py\n",
      "Moved /neurd_packages/meshAfterParty/meshAfterParty/motif_utils.py\n",
      "Moved /neurd_packages/meshAfterParty/meshAfterParty/nature_paper_plotting.py\n",
      "Moved /neurd_packages/meshAfterParty/meshAfterParty/neuron.py\n",
      "Moved /neurd_packages/meshAfterParty/meshAfterParty/neuron_geometry_utils.py\n",
      "Moved /neurd_packages/meshAfterParty/meshAfterParty/neuron_searching.py\n",
      "Moved /neurd_packages/meshAfterParty/meshAfterParty/neuron_simplification.py\n",
      "Moved /neurd_packages/meshAfterParty/meshAfterParty/neuron_statistics.py\n",
      "Moved /neurd_packages/meshAfterParty/meshAfterParty/neuron_utils.py\n",
      "Moved /neurd_packages/meshAfterParty/meshAfterParty/neuron_visualizations.py\n",
      "Moved /neurd_packages/meshAfterParty/meshAfterParty/preprocess_neuron.py\n",
      "Moved /neurd_packages/meshAfterParty/meshAfterParty/preprocessing_vp2.py\n",
      "Moved /neurd_packages/meshAfterParty/meshAfterParty/proofreading_utils.py\n",
      "Moved /neurd_packages/meshAfterParty/meshAfterParty/proximity_analysis_utils.py\n",
      "Moved /neurd_packages/meshAfterParty/meshAfterParty/proximity_utils.py\n",
      "Moved /neurd_packages/meshAfterParty/meshAfterParty/soma_extraction_utils.py\n",
      "Moved /neurd_packages/meshAfterParty/meshAfterParty/spine_utils.py\n",
      "Moved /neurd_packages/meshAfterParty/meshAfterParty/synapse_utils.py\n",
      "Moved /neurd_packages/meshAfterParty/meshAfterParty/whole_neuron_classifier_datajoint_adapted.py\n",
      "Moved /neurd_packages/meshAfterParty/meshAfterParty/width_utils.py\n"
     ]
    }
   ],
   "source": [
    "\"\"\"\n",
    "Purpose: Want to move the overlapping files \n",
    "in meshAfterParty into a saved folder with a new name\n",
    "\n",
    "Pseudocode: \n",
    "0) Create a new folder to save files in\n",
    "1) cp the file from meshAfterParty to new folder (with suffix)\n",
    "2) Delete the old filepath\n",
    "\"\"\"\n",
    "from python_tools import system_utils as su\n",
    "\n",
    "new_folder = \"/neurd_packages/meshAfterParty/meshAfterParty/neurd_moved_files\"\n",
    "existing_path = \"/neurd_packages/meshAfterParty/meshAfterParty/\"\n",
    "suffix = \"_neurd\"\n",
    "delete_old_files = True\n",
    "verbose = True\n",
    "\n",
    "Path(new_folder).mkdir(exist_ok=True)\n",
    "\n",
    "for f in interset_files:\n",
    "    curr_path = Path(existing_path) / Path(f\"{f}.py\")\n",
    "    final_path =  Path(new_folder) / Path(f\"{f}{suffix}.py\")\n",
    "    if curr_path.exists():\n",
    "        su.copy_file(\n",
    "           curr_path,\n",
    "           final_path,\n",
    "        )\n",
    "        \n",
    "        if verbose:\n",
    "            print(f\"Moved {curr_path}\")\n",
    "\n",
    "        if delete_old_files:\n",
    "            curr_path.unlink()"
   ]
  },
  {
   "cell_type": "code",
   "execution_count": 187,
   "id": "a7c0b563",
   "metadata": {},
   "outputs": [],
   "source": [
    "from os import sys\n",
    "sys.path.append(\"/neurd_packages/meshAfterParty/meshAfterParty/\")"
   ]
  },
  {
   "cell_type": "code",
   "execution_count": 188,
   "id": "02fb83a8",
   "metadata": {},
   "outputs": [
    {
     "name": "stdout",
     "output_type": "stream",
     "text": [
      "Connecting celiib@at-database.ad.bcm.edu:3306\n",
      "\u001b[1;93mUsing default Google credentials. There is no ~/.cloudvolume/secrets/google-secret.json set.\u001b[m\n"
     ]
    }
   ],
   "source": [
    "from dataInterfaceMinnie65 import data_interface as hdju_min"
   ]
  },
  {
   "cell_type": "code",
   "execution_count": 201,
   "id": "2e00dfbf",
   "metadata": {},
   "outputs": [
    {
     "data": {
      "text/plain": [
       "{'external_cell_type': None,\n",
       " 'external_cell_type_n_nuc': None,\n",
       " 'external_cell_type_fine': None,\n",
       " 'external_cell_type_fine_n_nuc': None,\n",
       " 'external_cell_type_fine_e_i': None}"
      ]
     },
     "execution_count": 201,
     "metadata": {},
     "output_type": "execute_result"
    }
   ],
   "source": [
    "hdju.nuclei_classification_info_from_nucleus_id(\n",
    "    4078\n",
    ")"
   ]
  },
  {
   "cell_type": "code",
   "execution_count": null,
   "id": "c993f026",
   "metadata": {},
   "outputs": [],
   "source": []
  }
 ],
 "metadata": {
  "kernelspec": {
   "display_name": "Python 3 (ipykernel)",
   "language": "python",
   "name": "python3"
  },
  "language_info": {
   "codemirror_mode": {
    "name": "ipython",
    "version": 3
   },
   "file_extension": ".py",
   "mimetype": "text/x-python",
   "name": "python",
   "nbconvert_exporter": "python",
   "pygments_lexer": "ipython3",
   "version": "3.8.0"
  }
 },
 "nbformat": 4,
 "nbformat_minor": 5
}
