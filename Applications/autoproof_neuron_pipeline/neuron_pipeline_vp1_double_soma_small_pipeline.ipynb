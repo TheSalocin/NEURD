{
 "cells": [
  {
   "cell_type": "code",
   "execution_count": 1,
   "id": "077350ae",
   "metadata": {},
   "outputs": [],
   "source": [
    "%load_ext autoreload\n",
    "%autoreload 2"
   ]
  },
  {
   "cell_type": "code",
   "execution_count": 2,
   "id": "c0765d62",
   "metadata": {
    "scrolled": true
   },
   "outputs": [
    {
     "name": "stdout",
     "output_type": "stream",
     "text": [
      "Jupyter environment detected. Enabling Open3D WebVisualizer.\n",
      "[Open3D INFO] WebRTC GUI backend enabled.\n",
      "[Open3D INFO] WebRTCWindowSystem: HTTP handshake server disabled.\n"
     ]
    },
    {
     "name": "stderr",
     "output_type": "stream",
     "text": [
      "/usr/local/lib/python3.8/dist-packages/umap/distances.py:1063: NumbaDeprecationWarning: The 'nopython' keyword argument was not supplied to the 'numba.jit' decorator. The implicit default value for this argument is currently False, but it will be changed to True in Numba 0.59.0. See https://numba.readthedocs.io/en/stable/reference/deprecation.html#deprecation-of-object-mode-fall-back-behaviour-when-using-jit for details.\n",
      "  @numba.jit()\n",
      "/usr/local/lib/python3.8/dist-packages/umap/distances.py:1071: NumbaDeprecationWarning: The 'nopython' keyword argument was not supplied to the 'numba.jit' decorator. The implicit default value for this argument is currently False, but it will be changed to True in Numba 0.59.0. See https://numba.readthedocs.io/en/stable/reference/deprecation.html#deprecation-of-object-mode-fall-back-behaviour-when-using-jit for details.\n",
      "  @numba.jit()\n",
      "/usr/local/lib/python3.8/dist-packages/umap/distances.py:1086: NumbaDeprecationWarning: The 'nopython' keyword argument was not supplied to the 'numba.jit' decorator. The implicit default value for this argument is currently False, but it will be changed to True in Numba 0.59.0. See https://numba.readthedocs.io/en/stable/reference/deprecation.html#deprecation-of-object-mode-fall-back-behaviour-when-using-jit for details.\n",
      "  @numba.jit()\n",
      "/usr/local/lib/python3.8/dist-packages/umap/umap_.py:660: NumbaDeprecationWarning: The 'nopython' keyword argument was not supplied to the 'numba.jit' decorator. The implicit default value for this argument is currently False, but it will be changed to True in Numba 0.59.0. See https://numba.readthedocs.io/en/stable/reference/deprecation.html#deprecation-of-object-mode-fall-back-behaviour-when-using-jit for details.\n",
      "  @numba.jit()\n"
     ]
    }
   ],
   "source": [
    "import neurd"
   ]
  },
  {
   "cell_type": "code",
   "execution_count": 4,
   "id": "f59f25d5",
   "metadata": {},
   "outputs": [],
   "source": [
    "from mesh_tools import trimesh_utils as tu\n",
    "from python_tools import ipyvolume_utils as ipvu\n",
    "from neurd import neuron_visualizations as nviz"
   ]
  },
  {
   "cell_type": "code",
   "execution_count": 5,
   "id": "863967b7",
   "metadata": {},
   "outputs": [],
   "source": [
    "neurd.set_volume_params(\n",
    "    volume = \"microns\"\n",
    ")"
   ]
  },
  {
   "cell_type": "markdown",
   "id": "6f9b75c9",
   "metadata": {},
   "source": [
    "# Data Prep: Loading mesh"
   ]
  },
  {
   "cell_type": "code",
   "execution_count": null,
   "id": "a1df55b6",
   "metadata": {},
   "outputs": [],
   "source": [
    "from mesh_tools import trimesh_utils as tu"
   ]
  },
  {
   "cell_type": "code",
   "execution_count": null,
   "id": "de88421b",
   "metadata": {},
   "outputs": [],
   "source": [
    "segment_id = 864691135510518224"
   ]
  },
  {
   "cell_type": "code",
   "execution_count": null,
   "id": "3c95c75b",
   "metadata": {},
   "outputs": [],
   "source": [
    "mesh_filepath = f\"./{segment_id}.off\"\n",
    "mesh_filepath = '864691135510518224_small_double_soma.off'\n",
    "mesh = tu.load_mesh_no_processing(mesh_filepath)\n",
    "mesh"
   ]
  },
  {
   "cell_type": "markdown",
   "id": "479cac44",
   "metadata": {},
   "source": [
    "# Step 1: Decimation"
   ]
  },
  {
   "cell_type": "code",
   "execution_count": null,
   "id": "95e97145",
   "metadata": {},
   "outputs": [],
   "source": [
    "#/mnt/lab/users/celiib/neurd_packages/neuron_mesh_tools/Auto_Proofreading/Minnie65_Pipeline/Morphology/m65_morphology_2_Decimation_v1.ipynb"
   ]
  },
  {
   "cell_type": "code",
   "execution_count": null,
   "id": "ac1747ad",
   "metadata": {},
   "outputs": [],
   "source": [
    "decimation_kwargs = dict(\n",
    "    decimation_ratio =0.25,\n",
    ")"
   ]
  },
  {
   "cell_type": "code",
   "execution_count": null,
   "id": "432f9e64",
   "metadata": {},
   "outputs": [],
   "source": [
    "mesh_dec = tu.decimate(\n",
    "    mesh,\n",
    "    **decimation_kwargs\n",
    ")"
   ]
  },
  {
   "cell_type": "code",
   "execution_count": null,
   "id": "d7000945",
   "metadata": {},
   "outputs": [],
   "source": [
    "print(f\"mesh = {mesh}\")\n",
    "print(f\"mesh_dec = {mesh_dec}\")"
   ]
  },
  {
   "cell_type": "code",
   "execution_count": null,
   "id": "bb728b90",
   "metadata": {},
   "outputs": [],
   "source": [
    "ipvu.plot_objects(\n",
    "    meshes = [mesh,mesh_dec],\n",
    "    meshes_colors=[\"green\",\"red\"],\n",
    ")"
   ]
  },
  {
   "cell_type": "markdown",
   "id": "c8691617",
   "metadata": {},
   "source": [
    "# Step 2: Some Identification"
   ]
  },
  {
   "cell_type": "code",
   "execution_count": null,
   "id": "172a601f",
   "metadata": {},
   "outputs": [],
   "source": [
    "#/mnt/lab/users/celiib/neurd_packages/neuron_mesh_tools/Auto_Proofreading/Minnie65_Pipeline/Morphology/m65_morphology_3_MeshFragment_full_v1.ipynb"
   ]
  },
  {
   "cell_type": "code",
   "execution_count": null,
   "id": "f740b4ab",
   "metadata": {},
   "outputs": [],
   "source": [
    "from neurd import soma_extraction_utils as sm\n",
    "sm.output_global_parameters_nuclei()"
   ]
  },
  {
   "cell_type": "code",
   "execution_count": null,
   "id": "3dd177b3",
   "metadata": {},
   "outputs": [],
   "source": [
    "mesh_dec = mesh"
   ]
  },
  {
   "cell_type": "code",
   "execution_count": null,
   "id": "4209363e",
   "metadata": {},
   "outputs": [],
   "source": [
    "(total_soma_list, \n",
    " run_time, \n",
    " total_soma_list_sdf,\n",
    " glia_pieces,\n",
    " nuclei_pieces) = sm.extract_soma_center(\n",
    "    segment_id,\n",
    "    mesh = mesh_dec,\n",
    "    return_glia_nuclei_pieces=True,\n",
    "    verbose = True,\n",
    ")"
   ]
  },
  {
   "cell_type": "code",
   "execution_count": null,
   "id": "ead5f509",
   "metadata": {},
   "outputs": [],
   "source": [
    "from neurd import neuron_visualizations as nviz\n",
    "nviz.plot_soma_extraction_meshes(\n",
    "    mesh_dec,\n",
    "    total_soma_list,\n",
    "    glia_pieces,\n",
    "    nuclei_pieces,\n",
    "    verbose = True,\n",
    ")"
   ]
  },
  {
   "cell_type": "markdown",
   "id": "f495610d",
   "metadata": {},
   "source": [
    "# Step 3: Decomposition"
   ]
  },
  {
   "cell_type": "code",
   "execution_count": null,
   "id": "b941527d",
   "metadata": {},
   "outputs": [],
   "source": [
    "from neurd import neuron"
   ]
  },
  {
   "cell_type": "code",
   "execution_count": null,
   "id": "58fd70bf",
   "metadata": {},
   "outputs": [],
   "source": [
    "#/mnt/lab/users/celiib/neurd_packages/neuron_mesh_tools/Auto_Proofreading/Minnie65_Pipeline/Auto_Proof/m65_autoproof_4_Decomposition_full_v1.ipynb"
   ]
  },
  {
   "cell_type": "code",
   "execution_count": null,
   "id": "ebcd5925",
   "metadata": {},
   "outputs": [],
   "source": [
    "neurd.set_volume_params(\n",
    "    volume = \"microns\"\n",
    ")"
   ]
  },
  {
   "cell_type": "code",
   "execution_count": null,
   "id": "e4d334ba",
   "metadata": {},
   "outputs": [],
   "source": [
    "somas = [\n",
    " total_soma_list, \n",
    " run_time, \n",
    " total_soma_list_sdf,\n",
    "]"
   ]
  },
  {
   "cell_type": "code",
   "execution_count": null,
   "id": "e4f3779e",
   "metadata": {
    "scrolled": true
   },
   "outputs": [],
   "source": [
    "neuron_obj = neuron.Neuron(\n",
    "    mesh = mesh,\n",
    "    somas = somas,\n",
    "    suppress_preprocessing_print=False,\n",
    "    \n",
    "    suppress_output=False,\n",
    "    glia_meshes=glia_pieces,\n",
    "    nuclei_meshes = nuclei_pieces,\n",
    ")"
   ]
  },
  {
   "cell_type": "code",
   "execution_count": null,
   "id": "78d87911",
   "metadata": {
    "scrolled": false
   },
   "outputs": [],
   "source": [
    "nviz.visualize_neuron(\n",
    "    neuron_obj,\n",
    "    limb_branch_dict=\"all\"\n",
    ")"
   ]
  },
  {
   "cell_type": "markdown",
   "id": "290c9030",
   "metadata": {},
   "source": [
    "## calculating statistics about neuron"
   ]
  },
  {
   "cell_type": "code",
   "execution_count": null,
   "id": "be9a760f",
   "metadata": {
    "scrolled": true
   },
   "outputs": [],
   "source": [
    "from neurd.microns_volume_utils import data_interface as hdju\n",
    "voxel_adjustment_vector = hdju.voxel_to_nm_scaling\n",
    "\n",
    "stats_dict = neuron_obj.neuron_stats(stats_to_ignore = [\n",
    "                    \"n_boutons\",\n",
    "                     \"axon_length\",\n",
    "                     \"axon_area\",\n",
    "                     \"max_soma_volume\",\n",
    "                     \"max_soma_n_faces\",],\n",
    "    include_skeletal_stats = True,\n",
    "    include_centroids= True,\n",
    "    voxel_adjustment_vector=voxel_adjustment_vector,\n",
    ")\n",
    "\n",
    "stats_dict"
   ]
  },
  {
   "cell_type": "markdown",
   "id": "52924f39",
   "metadata": {},
   "source": [
    "## skeleton and skeleton stats"
   ]
  },
  {
   "cell_type": "code",
   "execution_count": null,
   "id": "5798aa25",
   "metadata": {},
   "outputs": [],
   "source": [
    "skeleton = neuron_obj.skeleton\n",
    "\n",
    "ipvu.plot_objects(\n",
    "    main_skeleton=skeleton\n",
    ")"
   ]
  },
  {
   "cell_type": "code",
   "execution_count": null,
   "id": "ff67c873",
   "metadata": {},
   "outputs": [],
   "source": [
    "from neurd import neuron_statistics as nst\n",
    "\n",
    "sk_stats = nst.skeleton_stats_from_neuron_obj(\n",
    "    neuron_obj,\n",
    "    include_centroids=True,\n",
    "    voxel_adjustment_vector=voxel_adjustment_vector,\n",
    "    verbose = True\n",
    ")\n",
    "\n",
    "sk_stats"
   ]
  },
  {
   "cell_type": "markdown",
   "id": "d6d3b6e3",
   "metadata": {},
   "source": [
    "# Step 3.5"
   ]
  },
  {
   "cell_type": "code",
   "execution_count": null,
   "id": "25bef6ef",
   "metadata": {},
   "outputs": [],
   "source": [
    "from neurd import neuron_utils as nru\n",
    "\n",
    "filepath = nru.save_compressed_neuron(\n",
    "    neuron_obj,\n",
    "    output_folder = \"./\",\n",
    "    file_name = f\"large_double_soma\",\n",
    "    return_file_path = True,\n",
    ")"
   ]
  },
  {
   "cell_type": "markdown",
   "id": "321cf04b",
   "metadata": {},
   "source": [
    "# Step 4: Split Multi-Soma Merges"
   ]
  },
  {
   "cell_type": "code",
   "execution_count": null,
   "id": "4aca1b4f",
   "metadata": {},
   "outputs": [],
   "source": [
    "#/mnt/lab/users/celiib/neurd_packages/neuron_mesh_tools/Auto_Proofreading/Minnie65_Pipeline/Auto_Proof/m65_autoproof_5_DecompositionSplitMultiSoma_full_v1.ipynb"
   ]
  },
  {
   "cell_type": "code",
   "execution_count": null,
   "id": "0e693242",
   "metadata": {},
   "outputs": [],
   "source": [
    "from neurd import proofreading_utils as pru\n",
    "\n",
    "neurd.set_volume_params(\n",
    "    \"microns\"\n",
    ")"
   ]
  },
  {
   "cell_type": "code",
   "execution_count": null,
   "id": "1bb9c1d1",
   "metadata": {},
   "outputs": [],
   "source": [
    "plot_intermediates = True\n",
    "plot_suggestions = True\n",
    "plot_cut_coordinates = True\n",
    "only_multi_soma_paths = False\n",
    "verbose = True"
   ]
  },
  {
   "cell_type": "code",
   "execution_count": null,
   "id": "d8fff8ed",
   "metadata": {
    "scrolled": true
   },
   "outputs": [],
   "source": [
    "(split_results,\n",
    "red_blue_split_results) = pru.multi_soma_split_suggestions(\n",
    "    neuron_obj,\n",
    "    plot_intermediates=plot_intermediates,\n",
    "    plot_suggestions=plot_suggestions,\n",
    "    plot_cut_coordinates = plot_cut_coordinates,\n",
    "    only_multi_soma_paths=only_multi_soma_paths,\n",
    "    default_cut_edge = \"last\",\n",
    "    verbose = verbose,\n",
    "    output_red_blue_suggestions = True,\n",
    "    split_red_blue_by_common_upstream = True,\n",
    "    apply_valid_upstream_branches_restriction = True,\n",
    "    debug_red_blue = False,\n",
    ")"
   ]
  },
  {
   "cell_type": "code",
   "execution_count": null,
   "id": "5d1842f6",
   "metadata": {
    "scrolled": true
   },
   "outputs": [],
   "source": [
    "from neurd import soma_splitting_utils as ssu\n",
    "ssu.plot_red_blue_split_suggestions_per_limb(\n",
    "    neuron_obj,\n",
    "    red_blue_split_results,\n",
    "    \n",
    ")"
   ]
  },
  {
   "cell_type": "markdown",
   "id": "93828918",
   "metadata": {},
   "source": [
    "# Step 5: Splitting Multi-Neuron"
   ]
  },
  {
   "cell_type": "code",
   "execution_count": null,
   "id": "ee35234c",
   "metadata": {},
   "outputs": [],
   "source": [
    "import numpy as np\n",
    "from neurd import soma_splitting_utils as ssu\n",
    "from neurd import proofreading_utils as pru\n",
    "\n",
    "neurd.set_volume_params(\n",
    "    \"microns\"\n",
    ")"
   ]
  },
  {
   "cell_type": "code",
   "execution_count": null,
   "id": "951a5a98",
   "metadata": {},
   "outputs": [],
   "source": [
    "n_paths_cut = pru.get_n_paths_cut(\n",
    "    split_results,\n",
    "    verbose = True)"
   ]
  },
  {
   "cell_type": "code",
   "execution_count": null,
   "id": "1f386430",
   "metadata": {
    "scrolled": true
   },
   "outputs": [],
   "source": [
    "verbose = True\n",
    "\n",
    "(neuron_list,\n",
    "neuron_list_errored_limbs_area,\n",
    "neuron_list_errored_limbs_skeletal_length,\n",
    "neuron_list_n_multi_soma_errors,\n",
    "neuron_list_n_same_soma_errors) = pru.split_neuron(neuron_obj,\n",
    "    limb_results=split_results,\n",
    "    verbose=verbose,\n",
    "    return_error_info=True,\n",
    ")\n",
    "\n",
    "multiplicity = len(neuron_list)"
   ]
  },
  {
   "cell_type": "markdown",
   "id": "6bc16121",
   "metadata": {},
   "source": [
    "# Cell Typing"
   ]
  },
  {
   "cell_type": "code",
   "execution_count": null,
   "id": "8594b3a2",
   "metadata": {},
   "outputs": [],
   "source": [
    "\"\"\"\n",
    "Functions to be implemented in volume_utils\n",
    "\n",
    "nuclei_from_segment_id\n",
    "-> returns nucleus_ids,nucleus_centers\n",
    "\n",
    "\"\"\""
   ]
  },
  {
   "cell_type": "code",
   "execution_count": null,
   "id": "2c68373e",
   "metadata": {},
   "outputs": [],
   "source": [
    "verbose = True\n",
    "\n",
    "hdju = pru.data_mod\n",
    "hdju"
   ]
  },
  {
   "cell_type": "code",
   "execution_count": null,
   "id": "3bfeb605",
   "metadata": {},
   "outputs": [],
   "source": [
    "split_index = 0\n",
    "neuron_obj_pre_filt = neuron_list[split_index]"
   ]
  },
  {
   "cell_type": "code",
   "execution_count": null,
   "id": "b60d95f3",
   "metadata": {},
   "outputs": [],
   "source": [
    "# 1) Retrieving the corresponding nucleus ids\n",
    "nucleus_ids,nucleus_centers = hdju.nuclei_from_segment_id(\n",
    "    segment_id,\n",
    "    return_centers=True,\n",
    "    return_nm=True\n",
    "    )\n",
    "\n",
    "if verbose:\n",
    "    if nucleus_ids is not None:\n",
    "        print(f\"Number of Corresponding Nuclei = {len(nucleus_ids)}\")\n",
    "        print(f\"nucleus_ids = {nucleus_ids}\")\n",
    "        print(f\"nucleus_centers = {nucleus_centers}\")\n",
    "        \n"
   ]
  },
  {
   "cell_type": "code",
   "execution_count": null,
   "id": "e1b47d4a",
   "metadata": {
    "scrolled": true
   },
   "outputs": [],
   "source": [
    "plot_initial_neuron = True\n",
    "\n",
    "if plot_initial_neuron:\n",
    "    neuron_obj_rot = hdju.align_neuron_obj(neuron_obj_pre_filt)\n",
    "    nviz.visualize_neuron(neuron_obj_rot,limb_branch_dict = \"all\")"
   ]
  },
  {
   "cell_type": "code",
   "execution_count": null,
   "id": "5556b3b0",
   "metadata": {},
   "outputs": [],
   "source": [
    "nviz.visualize_neuron(neuron_obj_pre_filt,limb_branch_dict = \"all\")"
   ]
  },
  {
   "cell_type": "code",
   "execution_count": null,
   "id": "eb01b4a2",
   "metadata": {},
   "outputs": [],
   "source": [
    "#2) Refining the width array to match sksleton coordinates if it doesn't\n",
    "\n",
    "from neurd import branch_utils as bu\n",
    "\n",
    "bu.refine_width_array_to_match_skeletal_coordinates(\n",
    "        neuron_obj_pre_filt,\n",
    "        verbose = False\n",
    ")"
   ]
  },
  {
   "cell_type": "code",
   "execution_count": null,
   "id": "671f8bec",
   "metadata": {},
   "outputs": [],
   "source": [
    "from neurd import neuron_simplification as nsimp\n",
    "\n",
    "plot_floating_end_nodes_limb_branch_dict =  False\n",
    "plot_downstream_path_limb_branch = False\n",
    "plot_after_simplification = True\n",
    "\n",
    "# 3) Performs branch simplification so there should always be 2 or more child branches\n",
    "neuron_obj_pre_filt_after_simp = nsimp.branching_simplification(\n",
    "    neuron_obj_pre_filt,\n",
    "    return_copy = True,\n",
    "\n",
    "    #floating endpiece arguments\n",
    "    plot_floating_end_nodes_limb_branch_dict = plot_floating_end_nodes_limb_branch_dict,\n",
    "    plot_final_neuron_floating_endpoints = False,\n",
    "\n",
    "    # combine path arguments\n",
    "    plot_downstream_path_limb_branch = plot_downstream_path_limb_branch,\n",
    "    plot_final_neuron_path = False,\n",
    "    plot_after_simplification = True,\n",
    "    verbose = verbose,\n",
    ")\n",
    "\n"
   ]
  },
  {
   "cell_type": "code",
   "execution_count": null,
   "id": "95965748",
   "metadata": {},
   "outputs": [],
   "source": [
    "# Filter away a large cluster of dendrite if requested SKIPPED\n",
    "\n",
    "filter_low_branch_cluster_dendrite = False\n",
    "plot_limb_branch_filter_away_low_branch = False\n",
    "\n",
    "if filter_low_branch_cluster_dendrite:\n",
    "    neuron_obj_pre_class, filtering_info_low_branch = pru.apply_proofreading_filters_to_neuron(\n",
    "        input_neuron = neuron_obj_pre_filt_after_simp,\n",
    "        filter_list = [pru.low_branch_length_clusters_dendrite_filter],\n",
    "        plot_limb_branch_filter_with_disconnect_effect=False,\n",
    "        plot_limb_branch_filter_away=plot_limb_branch_filter_away_low_branch,\n",
    "        plot_final_neuron=False,\n",
    "\n",
    "        return_error_info=True,\n",
    "        verbose=False,\n",
    "        verbose_outline=verbose)\n",
    "else:\n",
    "    neuron_obj_pre_class = neuron_obj_pre_filt_after_simp\n",
    "    filtering_info_low_branch = {}"
   ]
  },
  {
   "cell_type": "code",
   "execution_count": null,
   "id": "1740d6fd",
   "metadata": {},
   "outputs": [],
   "source": [
    "from neurd import neuron_utils as nru\n",
    "\n",
    "winning_nucleus_id, nucleus_info = nru.pair_neuron_obj_to_nuclei(\n",
    "    neuron_obj_pre_class,\n",
    "    \"S0\",\n",
    "    nucleus_ids,\n",
    "    nucleus_centers,\n",
    "    nuclei_distance_threshold = 15000,\n",
    "    return_matching_info = True,\n",
    "    verbose=True)\n",
    "\n",
    "if verbose:\n",
    "    print(f\"nucleus_info = {nucleus_info}\")\n",
    "    print(f\"winning_nucleus_id = {winning_nucleus_id}\")\n"
   ]
  },
  {
   "cell_type": "code",
   "execution_count": null,
   "id": "6ed1f65c",
   "metadata": {},
   "outputs": [],
   "source": [
    "# Getting the cell types from the database\n",
    "\n",
    "database_cell_type_info = hdju.nuclei_classification_info_from_nucleus_id(\n",
    "    winning_nucleus_id\n",
    ")\n",
    "\n",
    "database_e_i_class = database_cell_type_info[f\"external_cell_type\"]  \n",
    "\n",
    "if verbose:\n",
    "    print(f\"database_cell_type_info = {database_cell_type_info}\")\n",
    "    print(f\"database_e_i_class = {database_e_i_class}\")"
   ]
  },
  {
   "cell_type": "code",
   "execution_count": null,
   "id": "d445b224",
   "metadata": {},
   "outputs": [],
   "source": [
    "# Adding the synapses to the cell\n",
    "plot_synapses = True\n",
    "\n",
    "\n",
    "neurd.set_volume_params(\n",
    "    \"microns\"\n",
    ")\n",
    "\n",
    "from neurd import synapse_utils as syu\n",
    "from neurd.microns_volume_utils import data_interface as hdju\n",
    "hdju.set_synapse_filepath(synapse_filepath = '/neurd_packages/NEURD/Applications/autoproof_neuron_pipeline/864691135510518224_synapses.csv')\n",
    "\n",
    "neuron_obj_attr = syu.add_synapses_to_neuron_obj(\n",
    "    neuron_obj_pre_class,\n",
    "    segment_id = segment_id,\n",
    "    #synapse_filepath = '/neurd_packages/NEURD/Applications/autoproof_neuron_pipeline/864691135510518224_synapses.csv',\n",
    "    validation = False,\n",
    "    verbose  = verbose,\n",
    "    original_mesh = mesh_dec,\n",
    "    plot_valid_error_synapses = False,\n",
    "    calculate_synapse_soma_distance = False,\n",
    "    add_valid_synapses = True,\n",
    "    add_error_synapses=False,\n",
    ")\n",
    "\n",
    "if plot_synapses:\n",
    "    syu.plot_synapses(neuron_obj_attr)"
   ]
  },
  {
   "cell_type": "code",
   "execution_count": null,
   "id": "3735aac6",
   "metadata": {},
   "outputs": [],
   "source": [
    "syu.plot_synapses(neuron_obj_attr)"
   ]
  },
  {
   "cell_type": "code",
   "execution_count": null,
   "id": "03f4ef63",
   "metadata": {
    "scrolled": true
   },
   "outputs": [],
   "source": [
    "# Adding the spines\n",
    "from neurd import spine_utils as spu\n",
    "\n",
    "plot_spines = True\n",
    "\n",
    "neuron_obj_attr = spu.add_head_neck_shaft_spine_objs(\n",
    "    neuron_obj_attr,\n",
    "    verbose = verbose\n",
    ")\n",
    "\n",
    "if plot_spines:\n",
    "    spu.plot_spines_head_neck(neuron_obj_attr)"
   ]
  },
  {
   "cell_type": "code",
   "execution_count": null,
   "id": "b6630397",
   "metadata": {
    "scrolled": true
   },
   "outputs": [],
   "source": [
    "# calculating the cell type\n",
    "\n",
    "from neurd import cell_type_utils as ctu\n",
    "\n",
    "plot_spines_and_sk_filter_for_syn = False\n",
    "plot_spines_and_sk_filter_for_spine = False\n",
    "\n",
    "baylor_e_i,baylor_cell_type_info = ctu.e_i_classification_from_neuron_obj(\n",
    "    neuron_obj_attr,\n",
    "    plot_on_model_map=False,\n",
    "    plot_spines_and_sk_filter_for_syn = plot_spines_and_sk_filter_for_syn,\n",
    "    plot_spines_and_sk_filter_for_spine = plot_spines_and_sk_filter_for_spine,\n",
    "    verbose = verbose,\n",
    "    return_cell_type_info = True\n",
    ")\n",
    "\n",
    "baylor_cell_type_info[\"baylor_cell_type\"] = baylor_e_i \n",
    "\n",
    "if verbose:\n",
    "    print(f\"baylor_cell_type_info = \\n{baylor_cell_type_info}\")"
   ]
  },
  {
   "cell_type": "code",
   "execution_count": null,
   "id": "302ac818",
   "metadata": {},
   "outputs": [],
   "source": [
    "e_i_class = baylor_e_i"
   ]
  },
  {
   "cell_type": "markdown",
   "id": "e9fcf40b",
   "metadata": {},
   "source": [
    "# Classifying axon and dendrite"
   ]
  },
  {
   "cell_type": "code",
   "execution_count": null,
   "id": "81cd2b96",
   "metadata": {
    "scrolled": true
   },
   "outputs": [],
   "source": [
    "from neurd import axon_utils as au\n",
    "\n",
    "neurd.set_volume_params(\n",
    "    \"microns\"\n",
    ")\n",
    "\n",
    "filter_dendrite_on_axon = False\n",
    "plot_initial_axon = False\n",
    "plot_axon_on_dendrite = False\n",
    "plot_high_fidelity_axon = False\n",
    "plot_boutons_web = False\n",
    "\n",
    "\n",
    "\n",
    "(o_neuron_unalign,\n",
    " filtering_info,\n",
    " axon_angles_dict,\n",
    " G_axon_labeled,)=au.complete_axon_processing(\n",
    "            neuron_obj_attr,\n",
    "            cell_type = e_i_class,\n",
    "            add_synapses_and_head_neck_shaft_spines = False,\n",
    "            validation = False,\n",
    "            plot_initial_axon=plot_initial_axon,\n",
    "            plot_axon_on_dendrite=plot_axon_on_dendrite,\n",
    "            return_filtering_info = True,\n",
    "             return_axon_angle_info = True,\n",
    "            plot_high_fidelity_axon = plot_high_fidelity_axon,\n",
    "            plot_boutons_web = plot_boutons_web,\n",
    "            add_synapses_after_high_fidelity_axon = True,\n",
    "            filter_dendrite_on_axon = filter_dendrite_on_axon,\n",
    "            return_G_axon_labeled = True,\n",
    "            verbose = verbose)"
   ]
  },
  {
   "cell_type": "code",
   "execution_count": null,
   "id": "4593c820",
   "metadata": {},
   "outputs": [],
   "source": [
    "ipvu.plot_objects(\n",
    "    o_neuron_unalign.mesh,\n",
    "    main_skeleton=o_neuron_unalign.axon_skeleton\n",
    ")"
   ]
  },
  {
   "cell_type": "markdown",
   "id": "4d4f56c5",
   "metadata": {},
   "source": [
    "# Proofreading"
   ]
  },
  {
   "cell_type": "code",
   "execution_count": null,
   "id": "84c92201",
   "metadata": {},
   "outputs": [],
   "source": [
    "import numpy as np\n",
    "ipvu.plot_scatter(\n",
    "    array=np.array([[0.12068656, 0.34903741, 0.84620654],\n",
    "       [0.04812803, 0.14411268, 0.54990798],\n",
    "       [0.79566505, 0.63533888, 0.03276685],\n",
    "       [0.55378168, 0.25424957, 0.71898828],\n",
    "       [0.1054361 , 0.70734158, 0.25456412],\n",
    "       [0.51331846, 0.46793084, 0.44032635],\n",
    "       [0.58216843, 0.46214255, 0.12553144],\n",
    "       [0.08834693, 0.13477684, 0.88986768],\n",
    "       [0.39226641, 0.96131601, 0.05423914],\n",
    "       [0.86158737, 0.30404951, 0.42807901]]),\n",
    "    color=(1,0,0,0.99),\n",
    "    size=10,\n",
    "    widgets_to_plot = (\"size\",\"marker\",\"color\"),\n",
    ")"
   ]
  },
  {
   "cell_type": "code",
   "execution_count": null,
   "id": "41650f1c",
   "metadata": {},
   "outputs": [],
   "source": [
    "size = [0.3]\n",
    "color = [[1.0, 0.0, 0.0, 0.5]]\n",
    "scatters = [np.array([[0.12068656, 0.34903741, 0.84620654],\n",
    "       [0.04812803, 0.14411268, 0.54990798],\n",
    "       [0.79566505, 0.63533888, 0.03276685],\n",
    "       [0.55378168, 0.25424957, 0.71898828],\n",
    "       [0.1054361 , 0.70734158, 0.25456412],\n",
    "       [0.51331846, 0.46793084, 0.44032635],\n",
    "       [0.58216843, 0.46214255, 0.12553144],\n",
    "       [0.08834693, 0.13477684, 0.88986768],\n",
    "       [0.39226641, 0.96131601, 0.05423914],\n",
    "       [0.86158737, 0.30404951, 0.42807901]])]\n",
    "\n",
    "ipvu.plot_multi_scatters(\n",
    "    scatters,\n",
    "    color=\"red\",\n",
    "    #size = size\n",
    ")"
   ]
  },
  {
   "cell_type": "code",
   "execution_count": null,
   "id": "4cdae97e",
   "metadata": {},
   "outputs": [],
   "source": [
    "ipvu.plot_objects(\n",
    "    skeletons=[np.array([[1,2,3],[4,5,6]]).reshape(-1,2,3)],\n",
    "    scatters=[np.random.rand(10,3)]\n",
    ")"
   ]
  },
  {
   "cell_type": "code",
   "execution_count": null,
   "id": "ad97d985",
   "metadata": {},
   "outputs": [],
   "source": [
    "from python_tools import ipyvolume_utils as ipvu\n",
    "import ipyvolume  as ipv\n",
    "\n",
    "ipv.clear()\n",
    "ipvu.plot_objects(\n",
    "    scatters=[np.random.rand(10,3)],\n",
    "    scatter_size=10,\n",
    "    set_zoom=1,\n",
    "    axis_box_off=False,\n",
    ")"
   ]
  },
  {
   "cell_type": "code",
   "execution_count": null,
   "id": "74f3cc3b",
   "metadata": {},
   "outputs": [],
   "source": []
  },
  {
   "cell_type": "code",
   "execution_count": null,
   "id": "9d9305ea",
   "metadata": {},
   "outputs": [],
   "source": []
  },
  {
   "cell_type": "code",
   "execution_count": null,
   "id": "ea952940",
   "metadata": {},
   "outputs": [],
   "source": []
  },
  {
   "cell_type": "code",
   "execution_count": null,
   "id": "35323742",
   "metadata": {},
   "outputs": [],
   "source": []
  },
  {
   "cell_type": "code",
   "execution_count": null,
   "id": "9d9d6537",
   "metadata": {},
   "outputs": [],
   "source": []
  },
  {
   "cell_type": "code",
   "execution_count": null,
   "id": "58a6f442",
   "metadata": {},
   "outputs": [],
   "source": []
  },
  {
   "cell_type": "code",
   "execution_count": null,
   "id": "5a3203d9",
   "metadata": {},
   "outputs": [],
   "source": [
    "# Proofreading"
   ]
  },
  {
   "cell_type": "code",
   "execution_count": null,
   "id": "bb1aa8b9",
   "metadata": {},
   "outputs": [],
   "source": []
  },
  {
   "cell_type": "code",
   "execution_count": null,
   "id": "b398db0e",
   "metadata": {},
   "outputs": [],
   "source": []
  },
  {
   "cell_type": "code",
   "execution_count": null,
   "id": "ded6b2b0",
   "metadata": {},
   "outputs": [],
   "source": []
  },
  {
   "cell_type": "code",
   "execution_count": null,
   "id": "467095cc",
   "metadata": {},
   "outputs": [],
   "source": []
  },
  {
   "cell_type": "code",
   "execution_count": null,
   "id": "9215a688",
   "metadata": {},
   "outputs": [],
   "source": []
  },
  {
   "cell_type": "code",
   "execution_count": null,
   "id": "d74537a0",
   "metadata": {},
   "outputs": [],
   "source": []
  },
  {
   "cell_type": "code",
   "execution_count": null,
   "id": "d52f9de6",
   "metadata": {},
   "outputs": [],
   "source": [
    "len(dict_info[\"postsyn\"][\"synapse_ids\"])"
   ]
  },
  {
   "cell_type": "code",
   "execution_count": null,
   "id": "6142a6c5",
   "metadata": {},
   "outputs": [],
   "source": [
    "from python_tools import pandas_utils as pu\n",
    "df = syu.synapse_df_from_synapse_dict(dict_info,segment_id = segment_id)\n",
    "filepath = f\"{segment_id}_synapses.csv\"\n",
    "pu.df_to_csv(df,filepath)"
   ]
  },
  {
   "cell_type": "code",
   "execution_count": null,
   "id": "1d54b06e",
   "metadata": {},
   "outputs": [],
   "source": [
    "df"
   ]
  },
  {
   "cell_type": "code",
   "execution_count": null,
   "id": "c144f8d8",
   "metadata": {},
   "outputs": [],
   "source": [
    "df"
   ]
  },
  {
   "cell_type": "code",
   "execution_count": null,
   "id": "d81e564e",
   "metadata": {},
   "outputs": [],
   "source": [
    "syu.synapse_dict_from_synapse_csv(\n",
    "    synapse_filepath = '/neurd_packages/NEURD/Applications/autoproof_neuron_pipeline/864691135510518224_synapses.csv',\n",
    ")"
   ]
  },
  {
   "cell_type": "code",
   "execution_count": null,
   "id": "08e038de",
   "metadata": {},
   "outputs": [],
   "source": [
    "synapse_ids"
   ]
  },
  {
   "cell_type": "code",
   "execution_count": null,
   "id": "147f10b5",
   "metadata": {
    "scrolled": true
   },
   "outputs": [],
   "source": [
    "# find the overlap in files in meshAfterParty\n",
    "from pathlib import Path\n",
    "from python_tools import file_utils as filu\n",
    "from python_tools import pathlib_utils as plu\n",
    "import numpy as np\n",
    "map_files = plu.files_of_ext_type(\n",
    "    \"/neurd_packages/meshAfterParty/meshAfterParty/\",\n",
    "    ext = \"py\",\n",
    "    return_stem = True,\n",
    ")\n",
    "\n",
    "neurd_files = plu.files_of_ext_type(\n",
    "    \"/neurd_packages/NEURD/neurd/\",\n",
    "    ext = \"py\",\n",
    "    return_stem = True,\n",
    ")\n",
    "\n",
    "interset_files = np.intersect1d(map_files,neurd_files)\n",
    "interset_files"
   ]
  },
  {
   "cell_type": "code",
   "execution_count": null,
   "id": "de01c599",
   "metadata": {},
   "outputs": [],
   "source": [
    "hdju_min.fetch_soma_mesh"
   ]
  },
  {
   "cell_type": "code",
   "execution_count": null,
   "id": "81f257b8",
   "metadata": {},
   "outputs": [],
   "source": [
    "\"\"\"\n",
    "Purpose: Want to move the overlapping files \n",
    "in meshAfterParty into a saved folder with a new name\n",
    "\n",
    "Pseudocode: \n",
    "0) Create a new folder to save files in\n",
    "1) cp the file from meshAfterParty to new folder (with suffix)\n",
    "2) Delete the old filepath\n",
    "\"\"\"\n",
    "from python_tools import system_utils as su\n",
    "\n",
    "new_folder = \"/neurd_packages/meshAfterParty/meshAfterParty/neurd_moved_files\"\n",
    "existing_path = \"/neurd_packages/meshAfterParty/meshAfterParty/\"\n",
    "suffix = \"_neurd\"\n",
    "delete_old_files = True\n",
    "verbose = True\n",
    "\n",
    "Path(new_folder).mkdir(exist_ok=True)\n",
    "\n",
    "for f in interset_files:\n",
    "    curr_path = Path(existing_path) / Path(f\"{f}.py\")\n",
    "    final_path =  Path(new_folder) / Path(f\"{f}{suffix}.py\")\n",
    "    if curr_path.exists():\n",
    "        su.copy_file(\n",
    "           curr_path,\n",
    "           final_path,\n",
    "        )\n",
    "        \n",
    "        if verbose:\n",
    "            print(f\"Moved {curr_path}\")\n",
    "\n",
    "        if delete_old_files:\n",
    "            curr_path.unlink()"
   ]
  },
  {
   "cell_type": "code",
   "execution_count": null,
   "id": "a7c0b563",
   "metadata": {},
   "outputs": [],
   "source": [
    "from os import sys\n",
    "sys.path.append(\"/neurd_packages/meshAfterParty/meshAfterParty/\")"
   ]
  },
  {
   "cell_type": "code",
   "execution_count": null,
   "id": "02fb83a8",
   "metadata": {},
   "outputs": [],
   "source": [
    "from dataInterfaceMinnie65 import data_interface as hdju_min"
   ]
  },
  {
   "cell_type": "code",
   "execution_count": null,
   "id": "2e00dfbf",
   "metadata": {},
   "outputs": [],
   "source": [
    "hdju.nuclei_classification_info_from_nucleus_id(\n",
    "    4078\n",
    ")"
   ]
  },
  {
   "cell_type": "code",
   "execution_count": null,
   "id": "c993f026",
   "metadata": {},
   "outputs": [],
   "source": []
  }
 ],
 "metadata": {
  "kernelspec": {
   "display_name": "Python 3 (ipykernel)",
   "language": "python",
   "name": "python3"
  },
  "language_info": {
   "codemirror_mode": {
    "name": "ipython",
    "version": 3
   },
   "file_extension": ".py",
   "mimetype": "text/x-python",
   "name": "python",
   "nbconvert_exporter": "python",
   "pygments_lexer": "ipython3",
   "version": "3.8.0"
  }
 },
 "nbformat": 4,
 "nbformat_minor": 5
}
