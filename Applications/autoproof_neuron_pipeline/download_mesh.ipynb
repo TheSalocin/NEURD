{
 "cells": [
  {
   "cell_type": "code",
   "execution_count": 1,
   "metadata": {},
   "outputs": [],
   "source": [
    "%load_ext autoreload\n",
    "%autoreload 2"
   ]
  },
  {
   "cell_type": "code",
   "execution_count": 2,
   "metadata": {
    "scrolled": true
   },
   "outputs": [
    {
     "name": "stdout",
     "output_type": "stream",
     "text": [
      "Jupyter environment detected. Enabling Open3D WebVisualizer.\n",
      "[Open3D INFO] WebRTC GUI backend enabled.\n",
      "[Open3D INFO] WebRTCWindowSystem: HTTP handshake server disabled.\n"
     ]
    },
    {
     "name": "stderr",
     "output_type": "stream",
     "text": [
      "/usr/local/lib/python3.8/dist-packages/umap/distances.py:1063: NumbaDeprecationWarning: The 'nopython' keyword argument was not supplied to the 'numba.jit' decorator. The implicit default value for this argument is currently False, but it will be changed to True in Numba 0.59.0. See https://numba.readthedocs.io/en/stable/reference/deprecation.html#deprecation-of-object-mode-fall-back-behaviour-when-using-jit for details.\n",
      "  @numba.jit()\n",
      "/usr/local/lib/python3.8/dist-packages/umap/distances.py:1071: NumbaDeprecationWarning: The 'nopython' keyword argument was not supplied to the 'numba.jit' decorator. The implicit default value for this argument is currently False, but it will be changed to True in Numba 0.59.0. See https://numba.readthedocs.io/en/stable/reference/deprecation.html#deprecation-of-object-mode-fall-back-behaviour-when-using-jit for details.\n",
      "  @numba.jit()\n",
      "/usr/local/lib/python3.8/dist-packages/umap/distances.py:1086: NumbaDeprecationWarning: The 'nopython' keyword argument was not supplied to the 'numba.jit' decorator. The implicit default value for this argument is currently False, but it will be changed to True in Numba 0.59.0. See https://numba.readthedocs.io/en/stable/reference/deprecation.html#deprecation-of-object-mode-fall-back-behaviour-when-using-jit for details.\n",
      "  @numba.jit()\n",
      "/usr/local/lib/python3.8/dist-packages/umap/umap_.py:660: NumbaDeprecationWarning: The 'nopython' keyword argument was not supplied to the 'numba.jit' decorator. The implicit default value for this argument is currently False, but it will be changed to True in Numba 0.59.0. See https://numba.readthedocs.io/en/stable/reference/deprecation.html#deprecation-of-object-mode-fall-back-behaviour-when-using-jit for details.\n",
      "  @numba.jit()\n"
     ]
    }
   ],
   "source": [
    "import neurd\n",
    "from python_tools import numpy_utils as nu"
   ]
  },
  {
   "cell_type": "code",
   "execution_count": 3,
   "metadata": {},
   "outputs": [],
   "source": [
    "from os import sys\n",
    "sys.path.append(\"/neurd_packages/meshAfterParty/meshAfterParty/\")"
   ]
  },
  {
   "cell_type": "code",
   "execution_count": 4,
   "metadata": {},
   "outputs": [
    {
     "name": "stdout",
     "output_type": "stream",
     "text": [
      "Connecting celiib@at-database.ad.bcm.edu:3306\n"
     ]
    },
    {
     "name": "stderr",
     "output_type": "stream",
     "text": [
      "07-17-2023 07:59:08 PM UTC - google.auth._default:WARNING:No project ID could be determined. Consider running `gcloud config set project` or setting the GOOGLE_CLOUD_PROJECT environment variable\n"
     ]
    },
    {
     "name": "stdout",
     "output_type": "stream",
     "text": [
      "\u001b[1;93mUsing default Google credentials. There is no ~/.cloudvolume/secrets/google-secret.json set.\u001b[m\n"
     ]
    }
   ],
   "source": [
    "import datajoint_utils as du\n",
    "from dataInterfaceMinnie65 import data_interface as hdju"
   ]
  },
  {
   "cell_type": "code",
   "execution_count": 41,
   "metadata": {},
   "outputs": [
    {
     "data": {
      "text/plain": [
       "864691135013273494"
      ]
     },
     "execution_count": 41,
     "metadata": {},
     "output_type": "execute_result"
    }
   ],
   "source": [
    "curr_idx = 200\n",
    "\n",
    "seg_ids = (hdju.proofreading_neurons_table & \"split_index = 0\" \n",
    "           & \"axon_skeletal_length > 100\"\n",
    "          & \"dendrite_skeletal_length < 1000000\").fetch(\"segment_id\")\n",
    "curr_seg_id = seg_ids[curr_idx]\n",
    "curr_seg_id"
   ]
  },
  {
   "cell_type": "code",
   "execution_count": 42,
   "metadata": {},
   "outputs": [],
   "source": [
    "mesh = hdju.fetch_segment_id_mesh(curr_seg_id)"
   ]
  },
  {
   "cell_type": "code",
   "execution_count": 43,
   "metadata": {},
   "outputs": [
    {
     "data": {
      "application/vnd.jupyter.widget-view+json": {
       "model_id": "3a85c27af25d485e92adf51e8879e0f0",
       "version_major": 2,
       "version_minor": 0
      },
      "text/plain": [
       "Container(figure=Figure(box_center=[0.5, 0.5, 0.5], box_size=[1.0, 1.0, 1.0], camera=PerspectiveCamera(fov=45.…"
      ]
     },
     "metadata": {},
     "output_type": "display_data"
    }
   ],
   "source": [
    "# visualize the mesh\n",
    "from python_tools import ipyvolume_utils as ipvu\n",
    "ipvu.plot_objects(mesh)"
   ]
  },
  {
   "cell_type": "markdown",
   "metadata": {},
   "source": [
    "# Exporting the mesh"
   ]
  },
  {
   "cell_type": "code",
   "execution_count": 27,
   "metadata": {},
   "outputs": [
    {
     "data": {
      "text/plain": [
       "['plot_all_somas_in_volume',\n",
       " 'plot_meshes_aligned_at_soma_meshes',\n",
       " 'plot_presyn_postsyn_soma_centers_unique_from_df',\n",
       " 'plot_soma_centers_by_cell_type',\n",
       " 'plot_soma_centers_by_cell_type_from_table',\n",
       " 'plot_soma_centers_from_table',\n",
       " 'plot_soma_detection']"
      ]
     },
     "execution_count": 27,
     "metadata": {},
     "output_type": "execute_result"
    }
   ],
   "source": [
    "[k for k in dir(hdju) if \"soma\" in k and \"plot\" in k]"
   ]
  },
  {
   "cell_type": "code",
   "execution_count": 44,
   "metadata": {},
   "outputs": [
    {
     "data": {
      "text/plain": [
       "'864691135013273494.off'"
      ]
     },
     "execution_count": 44,
     "metadata": {},
     "output_type": "execute_result"
    }
   ],
   "source": [
    "from mesh_tools import trimesh_utils as tu\n",
    "tu.write_neuron_off(\n",
    "    mesh,\n",
    "    f\"{curr_seg_id}.off\"\n",
    ")\n"
   ]
  },
  {
   "cell_type": "code",
   "execution_count": 17,
   "metadata": {},
   "outputs": [
    {
     "name": "stdout",
     "output_type": "stream",
     "text": [
      "segment_id = 864691136008687788_0\n",
      "   gnn->None (None)\n",
      "   y_coord->425.7\n"
     ]
    },
    {
     "ename": "AttributeError",
     "evalue": "module 'neurd.synapse_utils' has no attribute 'set_global_parameters_and_attributes_by_data_type'",
     "output_type": "error",
     "traceback": [
      "\u001b[0;31m---------------------------------------------------------------------------\u001b[0m",
      "\u001b[0;31mAttributeError\u001b[0m                            Traceback (most recent call last)",
      "\u001b[0;32m/tmp/ipykernel_9349/3207578088.py\u001b[0m in \u001b[0;36m?\u001b[0;34m()\u001b[0m\n\u001b[0;32m----> 1\u001b[0;31m hdju.plot_proofread_neuron(\n\u001b[0m\u001b[1;32m      2\u001b[0m     \u001b[0mcurr_seg_id\u001b[0m\u001b[0;34m\u001b[0m\u001b[0;34m\u001b[0m\u001b[0m\n\u001b[1;32m      3\u001b[0m )\n",
      "\u001b[0;32m/neurd_packages/meshAfterParty/meshAfterParty/dataInterface.py\u001b[0m in \u001b[0;36m?\u001b[0;34m(self, segment_id, split_index, cell_type, original_mesh, plot_proofread_skeleton, proofread_mesh_color, proofread_mesh_alpha, proofread_skeleton_color, plot_nucleus, nucleus_size, nucleus_color, plot_synapses, synapses_size, synapse_plot_type, synapse_compartments, synapse_spine_bouton_labels, plot_error_synapses, valid_synapses_color, error_synapses_color, synapse_queries, synapse_queries_colors, plot_error_mesh, error_mesh_color, error_mesh_alpha, compartments, plot_compartment_meshes, compartments_to_ignore, compartment_mesh_alpha, plot_compartment_skeletons, verbose, verbose_id, print_spine_colors, print_compartment_colors, plot_split_locations_verbose, scatters, scatter_sizes, scatters_colors, plot_split_locations, split_locations_size, show_at_end, append_figure, plot_mesh, axis_box_off, flip_y, background_meshes, background_meshes_colors, background_meshes_alpha, zoom_coordinate, view_top_down, plot_gnn, gnn_embedding_df, align, just_ipv_figure, **kwargs)\u001b[0m\n\u001b[1;32m   4025\u001b[0m \u001b[0;34m\u001b[0m\u001b[0m\n\u001b[1;32m   4026\u001b[0m         \u001b[0;31m#get the synapse groups\u001b[0m\u001b[0;34m\u001b[0m\u001b[0;34m\u001b[0m\u001b[0;34m\u001b[0m\u001b[0m\n\u001b[1;32m   4027\u001b[0m         \u001b[0;32mif\u001b[0m \u001b[0mplot_synapses\u001b[0m\u001b[0;34m:\u001b[0m\u001b[0;34m\u001b[0m\u001b[0;34m\u001b[0m\u001b[0m\n\u001b[1;32m   4028\u001b[0m \u001b[0;34m\u001b[0m\u001b[0m\n\u001b[0;32m-> 4029\u001b[0;31m             \u001b[0msynapses_objs\u001b[0m \u001b[0;34m=\u001b[0m \u001b[0mself\u001b[0m\u001b[0;34m.\u001b[0m\u001b[0msyanpse_objs_from_segment_id\u001b[0m\u001b[0;34m(\u001b[0m\u001b[0msegment_id\u001b[0m\u001b[0;34m,\u001b[0m\u001b[0msplit_index\u001b[0m\u001b[0;34m)\u001b[0m\u001b[0;34m\u001b[0m\u001b[0;34m\u001b[0m\u001b[0m\n\u001b[0m\u001b[1;32m   4030\u001b[0m \u001b[0;34m\u001b[0m\u001b[0m\n\u001b[1;32m   4031\u001b[0m             (syn_scatters,\n\u001b[1;32m   4032\u001b[0m             \u001b[0msyn_colors\u001b[0m\u001b[0;34m,\u001b[0m\u001b[0;34m\u001b[0m\u001b[0;34m\u001b[0m\u001b[0m\n",
      "\u001b[0;32m/neurd_packages/meshAfterParty/meshAfterParty/dataInterface.py\u001b[0m in \u001b[0;36m?\u001b[0;34m(self, segment_id, split_index, include_synapses_error, add_coordinates_and_volume, plot_synapses, verbose)\u001b[0m\n\u001b[1;32m   3509\u001b[0m                                     \u001b[0mplot_synapses\u001b[0m \u001b[0;34m=\u001b[0m \u001b[0;32mTrue\u001b[0m\u001b[0;34m,\u001b[0m\u001b[0;34m\u001b[0m\u001b[0;34m\u001b[0m\u001b[0m\n\u001b[1;32m   3510\u001b[0m                                    verbose = True)\n\u001b[1;32m   3511\u001b[0m \u001b[0;34m\u001b[0m\u001b[0m\n\u001b[1;32m   3512\u001b[0m         \"\"\"\n\u001b[0;32m-> 3513\u001b[0;31m         \u001b[0mself\u001b[0m\u001b[0;34m.\u001b[0m\u001b[0mset_synapse_data_type\u001b[0m\u001b[0;34m(\u001b[0m\u001b[0;34m)\u001b[0m\u001b[0;34m\u001b[0m\u001b[0;34m\u001b[0m\u001b[0m\n\u001b[0m\u001b[1;32m   3514\u001b[0m         synapses_dj = (self.proofreading_synapse_table & dict(segment_id=segment_id,\n\u001b[1;32m   3515\u001b[0m                                        split_index = split_index)).fetch(as_dict=True)\n\u001b[1;32m   3516\u001b[0m \u001b[0;34m\u001b[0m\u001b[0m\n",
      "\u001b[0;32m/neurd_packages/meshAfterParty/meshAfterParty/dataInterface.py\u001b[0m in \u001b[0;36m?\u001b[0;34m(self, data_type)\u001b[0m\n\u001b[1;32m   3462\u001b[0m         \u001b[0;32mif\u001b[0m \u001b[0mdata_type\u001b[0m \u001b[0;32mis\u001b[0m \u001b[0;32mNone\u001b[0m\u001b[0;34m:\u001b[0m\u001b[0;34m\u001b[0m\u001b[0;34m\u001b[0m\u001b[0m\n\u001b[1;32m   3463\u001b[0m             \u001b[0mdata_type\u001b[0m \u001b[0;34m=\u001b[0m \u001b[0mself\u001b[0m\u001b[0;34m.\u001b[0m\u001b[0msource\u001b[0m\u001b[0;34m\u001b[0m\u001b[0;34m\u001b[0m\u001b[0m\n\u001b[1;32m   3464\u001b[0m \u001b[0;34m\u001b[0m\u001b[0m\n\u001b[1;32m   3465\u001b[0m         \u001b[0;32mif\u001b[0m \u001b[0mdata_type\u001b[0m \u001b[0;34m!=\u001b[0m \u001b[0;34m\"\"\u001b[0m\u001b[0;34m:\u001b[0m\u001b[0;34m\u001b[0m\u001b[0;34m\u001b[0m\u001b[0m\n\u001b[0;32m-> 3466\u001b[0;31m             \u001b[0msyu\u001b[0m\u001b[0;34m.\u001b[0m\u001b[0mset_global_parameters_and_attributes_by_data_type\u001b[0m\u001b[0;34m(\u001b[0m\u001b[0mself\u001b[0m\u001b[0;34m.\u001b[0m\u001b[0msource\u001b[0m\u001b[0;34m)\u001b[0m\u001b[0;34m\u001b[0m\u001b[0;34m\u001b[0m\u001b[0m\n\u001b[0m\u001b[1;32m   3467\u001b[0m         \u001b[0;32melse\u001b[0m\u001b[0;34m:\u001b[0m\u001b[0;34m\u001b[0m\u001b[0;34m\u001b[0m\u001b[0m\n\u001b[1;32m   3468\u001b[0m             \u001b[0;32mraise\u001b[0m \u001b[0mException\u001b[0m\u001b[0;34m(\u001b[0m\u001b[0;34m\"\"\u001b[0m\u001b[0;34m)\u001b[0m\u001b[0;34m\u001b[0m\u001b[0;34m\u001b[0m\u001b[0m\n",
      "\u001b[0;31mAttributeError\u001b[0m: module 'neurd.synapse_utils' has no attribute 'set_global_parameters_and_attributes_by_data_type'"
     ]
    }
   ],
   "source": [
    "# hdju.plot_proofread_neuron"
   ]
  },
  {
   "cell_type": "code",
   "execution_count": null,
   "metadata": {},
   "outputs": [],
   "source": []
  }
 ],
 "metadata": {
  "kernelspec": {
   "display_name": "Python 3 (ipykernel)",
   "language": "python",
   "name": "python3"
  },
  "language_info": {
   "codemirror_mode": {
    "name": "ipython",
    "version": 3
   },
   "file_extension": ".py",
   "mimetype": "text/x-python",
   "name": "python",
   "nbconvert_exporter": "python",
   "pygments_lexer": "ipython3",
   "version": "3.8.0"
  }
 },
 "nbformat": 4,
 "nbformat_minor": 4
}
