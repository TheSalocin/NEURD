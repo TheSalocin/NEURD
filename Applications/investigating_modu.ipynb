{
 "cells": [
  {
   "cell_type": "code",
   "execution_count": null,
   "metadata": {},
   "outputs": [],
   "source": [
    "# !pip3 install --use-deprecated=legacy-resolver -e ./neurd_packages/mesh_tools/\n",
    "# !pip3 install --use-deprecated=legacy-resolver -e ./neurd_packages/python_tools/"
   ]
  },
  {
   "cell_type": "code",
   "execution_count": 1,
   "metadata": {},
   "outputs": [],
   "source": [
    "%load_ext autoreload\n",
    "%autoreload 2"
   ]
  },
  {
   "cell_type": "code",
   "execution_count": 2,
   "metadata": {},
   "outputs": [],
   "source": [
    "from python_tools import module_utils as modu"
   ]
  },
  {
   "cell_type": "code",
   "execution_count": 3,
   "metadata": {},
   "outputs": [
    {
     "ename": "NameError",
     "evalue": "name 'k' is not defined",
     "output_type": "error",
     "traceback": [
      "\u001b[0;31m---------------------------------------------------------------------------\u001b[0m",
      "\u001b[0;31mNameError\u001b[0m                                 Traceback (most recent call last)",
      "Cell \u001b[0;32mIn[3], line 1\u001b[0m\n\u001b[0;32m----> 1\u001b[0m \u001b[38;5;28;01mfrom\u001b[39;00m \u001b[38;5;21;01mneurd\u001b[39;00m \u001b[38;5;28;01mimport\u001b[39;00m apical_utils \u001b[38;5;28;01mas\u001b[39;00m apu\n",
      "File \u001b[0;32m/neurd_packages/NEURD/neurd/apical_utils.py:26\u001b[0m\n\u001b[1;32m     24\u001b[0m \u001b[38;5;28;01mfrom\u001b[39;00m \u001b[38;5;21;01mpython_tools\u001b[39;00m \u001b[38;5;28;01mimport\u001b[39;00m module_utils \u001b[38;5;28;01mas\u001b[39;00m modu\n\u001b[1;32m     25\u001b[0m \u001b[38;5;28;01mfrom\u001b[39;00m \u001b[38;5;21;01mpython_tools\u001b[39;00m \u001b[38;5;28;01mimport\u001b[39;00m general_utils \u001b[38;5;28;01mas\u001b[39;00m gu\n\u001b[0;32m---> 26\u001b[0m \u001b[38;5;28;01mfrom\u001b[39;00m \u001b[38;5;21;01m.\u001b[39;00m \u001b[38;5;28;01mimport\u001b[39;00m microns_volume_utils \u001b[38;5;28;01mas\u001b[39;00m mvu\n\u001b[1;32m     27\u001b[0m \u001b[38;5;28;01mfrom\u001b[39;00m \u001b[38;5;21;01m.\u001b[39;00m \u001b[38;5;28;01mimport\u001b[39;00m h01_volume_utils \u001b[38;5;28;01mas\u001b[39;00m hvu\n\u001b[1;32m     29\u001b[0m compartment_colors \u001b[38;5;241m=\u001b[39m \u001b[38;5;28mdict\u001b[39m(\n\u001b[1;32m     30\u001b[0m apical \u001b[38;5;241m=\u001b[39m \u001b[38;5;124m\"\u001b[39m\u001b[38;5;124mblue\u001b[39m\u001b[38;5;124m\"\u001b[39m,\n\u001b[1;32m     31\u001b[0m apical_shaft \u001b[38;5;241m=\u001b[39m \u001b[38;5;124m\"\u001b[39m\u001b[38;5;124maqua\u001b[39m\u001b[38;5;124m\"\u001b[39m,\n\u001b[0;32m   (...)\u001b[0m\n\u001b[1;32m     40\u001b[0m \n\u001b[1;32m     41\u001b[0m )\n",
      "File \u001b[0;32m/neurd_packages/NEURD/neurd/microns_volume_utils.py:326\u001b[0m\n\u001b[1;32m    297\u001b[0m RL_bounds2\u001b[38;5;241m=\u001b[39m [\n\u001b[1;32m    298\u001b[0m     (\u001b[38;5;241m341016\u001b[39m, \u001b[38;5;241m60616\u001b[39m, \u001b[38;5;241m21822\u001b[39m),\n\u001b[1;32m    299\u001b[0m     (\u001b[38;5;241m341016\u001b[39m, \u001b[38;5;241m322718\u001b[39m, \u001b[38;5;241m21822\u001b[39m),\n\u001b[0;32m   (...)\u001b[0m\n\u001b[1;32m    305\u001b[0m     (\u001b[38;5;241m375347\u001b[39m, \u001b[38;5;241m322718\u001b[39m, \u001b[38;5;241m22722\u001b[39m),\n\u001b[1;32m    306\u001b[0m ]\n\u001b[1;32m    308\u001b[0m AL_bounds \u001b[38;5;241m=\u001b[39m [\n\u001b[1;32m    309\u001b[0m     (\u001b[38;5;241m307453\u001b[39m, \u001b[38;5;241m60616\u001b[39m, \u001b[38;5;241m16516\u001b[39m),\n\u001b[1;32m    310\u001b[0m     (\u001b[38;5;241m307453\u001b[39m, \u001b[38;5;241m322718\u001b[39m, \u001b[38;5;241m16516\u001b[39m),\n\u001b[0;32m   (...)\u001b[0m\n\u001b[1;32m    324\u001b[0m     (\u001b[38;5;241m375347\u001b[39m, \u001b[38;5;241m322718\u001b[39m, \u001b[38;5;241m22722\u001b[39m)\n\u001b[1;32m    325\u001b[0m ]\n\u001b[0;32m--> 326\u001b[0m \u001b[43mk\u001b[49m([V1_bounds,RL_bounds1,RL_bounds2,AL_bounds])\n\u001b[1;32m    328\u001b[0m layer_axis \u001b[38;5;241m=\u001b[39m \u001b[38;5;241m1\u001b[39m \u001b[38;5;66;03m#the lower the number the higher the cell is in the volume\u001b[39;00m\n\u001b[1;32m    329\u001b[0m y([\u001b[38;5;241m0\u001b[39m,\u001b[38;5;241m-\u001b[39m\u001b[38;5;241m1\u001b[39m,\u001b[38;5;241m0\u001b[39m])\n",
      "\u001b[0;31mNameError\u001b[0m: name 'k' is not defined"
     ]
    }
   ],
   "source": [
    "from neurd import apical_utils as apu"
   ]
  },
  {
   "cell_type": "markdown",
   "metadata": {},
   "source": [
    "# Look at how to find referencing lines"
   ]
  },
  {
   "cell_type": "code",
   "execution_count": null,
   "metadata": {},
   "outputs": [],
   "source": [
    "from python_tools import module_utils as modu\n",
    "from python_tools import file_utils as filu\n",
    "verbose = True\n",
    "\n",
    "filepath = \"/neurd_packages/NEURD/neurd/apical_utils.py\"\n",
    "filepath = f\"/neurd_packages/python_tools/python_tools/pandas_utils.py\"\n",
    "filepath = \"/neurd_packages/graph_tools/graph_tools/graph_statistics.py\"\n",
    "data_doc = filu.read_file(filepath)\n",
    "finds = modu.find_import_modules_in_file(\n",
    "        data = data_doc,\n",
    "        unique = True,\n",
    "        verbose = verbose,\n",
    "        beginning_of_line = True,\n",
    ")"
   ]
  },
  {
   "cell_type": "code",
   "execution_count": null,
   "metadata": {},
   "outputs": [],
   "source": []
  },
  {
   "cell_type": "code",
   "execution_count": null,
   "metadata": {
    "scrolled": true
   },
   "outputs": [],
   "source": [
    "from python_tools import regex_utils as reu\n",
    "import regex as re\n",
    "import numpy as np\n",
    "verbose = True\n",
    "\n",
    "\n",
    "from python_tools import module_utils as modu\n",
    "from python_tools import file_utils as filu\n",
    "verbose = True\n",
    "\n",
    "filepath = \"/neurd_packages/NEURD/neurd/apical_utils.py\"\n",
    "filepath = f\"/neurd_packages/python_tools/python_tools/pandas_utils.py\"\n",
    "filepath = \"/neurd_packages/graph_tools/graph_tools/graph_statistics.py\"\n",
    "\n",
    "\n",
    "    \n",
    "#5. Replace those lines in the main string\n",
    "if delete_import_lines:\n",
    "    for k in abbr_matches:\n",
    "        data_doc = data_doc.replace(k,\"\")\n",
    "    \n",
    "    return data_doc,"
   ]
  },
  {
   "cell_type": "code",
   "execution_count": null,
   "metadata": {},
   "outputs": [],
   "source": [
    "from python_tools import module_utils as modu\n",
    "modu.abbreviation_linked_imports(\n",
    "    data_doc,\n",
    "    modules=[],\n",
    "    verbose = False,\n",
    ")"
   ]
  },
  {
   "cell_type": "code",
   "execution_count": null,
   "metadata": {},
   "outputs": [],
   "source": [
    "doc_pattern = f\"{reu.start_of_line_pattern}{reu.word_pattern_number}[ ]*=[ ]*{abbr_or}.{reu.word_pattern_number}(?:!\\()[ ]*\" "
   ]
  },
  {
   "cell_type": "markdown",
   "metadata": {},
   "source": [
    "# Find leading and trailing white space"
   ]
  },
  {
   "cell_type": "code",
   "execution_count": 9,
   "metadata": {},
   "outputs": [
    {
     "name": "stdout",
     "output_type": "stream",
     "text": [
      "doc_pattern = (?:\\A|\\n)[a-zA-Z._][a-zA-Z._0-9]+[ ]*=[ ]*(?:au|bu|clu|cnu|ed|nru|nst|nviz|syu|wu).[a-zA-Z._][a-zA-Z._0-9]+(?!\\(|[a-zA-Z._0-9]|\\[)[ ]*\n",
      "doc_pattern = (?:\\A|\\n)[a-zA-Z._][a-zA-Z._0-9]+[ ]*=[ ]*(?:sk|tu).[a-zA-Z._][a-zA-Z._0-9]+(?!\\(|[a-zA-Z._0-9]|\\[)[ ]*\n",
      "doc_pattern = (?:\\A|\\n)[a-zA-Z._][a-zA-Z._0-9]+[ ]*=[ ]*(?:fcu|nu|pu|su|xu).[a-zA-Z._][a-zA-Z._0-9]+(?!\\(|[a-zA-Z._0-9]|\\[)[ ]*\n"
     ]
    }
   ],
   "source": [
    "#filepath = \"/neurd_packages/NEURD/neurd/apical_utils.py\"\n",
    "filepath = f\"/neurd_packages/python_tools/python_tools/pandas_utils.py\"\n",
    "filepath = f\"/neurd_packages/NEURD/neurd/neuron_searching.py\"\n",
    "#filepath = f\"/neurd_packages/NEURD/neurd/neuron_simplification.py\"\n",
    "#filepath = f\"/neurd_packages/NEURD/neurd/apical_utils.py\"\n",
    "#filepath = f\"/neurd_packages/NEURD/neurd/microns_volume_utils.py\"\n",
    "#filepath = f\"/neurd_packages/NEURD/neurd/neuron_geometry_utils.py\"\n",
    "\n",
    "top_imports = [\n",
    "        \"from python_tools import numpy_dep as np\",\n",
    "        \"from python_tools import module_utils as modu\",\n",
    "        \"from python_tools import general_utils as gu\",\n",
    "        \"from python_tools import data_struct_utils as dsu\",\n",
    "        \"from . import microns_volume_utils as mvu\",\n",
    "        \"from . import h01_volume_utils as hvu\",\n",
    "        \"from . import volume_utils as vu\",\n",
    "        \"from .h01_volume_utils import data_interface as hvu\",\n",
    "        \"from .microns_volume_utils import data_interface as mvu\"\n",
    "]\n",
    "\n",
    "modu.clean_module_syntax(\n",
    "    filepath = filepath,\n",
    "    overwrite= False,\n",
    "    top_imports = top_imports,\n",
    "    replace_abbreviation_linked_imports = True,\n",
    "    verbose = False,\n",
    ")"
   ]
  },
  {
   "cell_type": "code",
   "execution_count": null,
   "metadata": {},
   "outputs": [],
   "source": [
    "from python_tools import file_utils as filu\n",
    "new_filepath = \"/neurd_packages/NEURD/neurd/neuron_searching_replaced.py\"\n",
    "new_filepath = \"/neurd_packages/NEURD/neurd/neuron_simplification_replaced.py\"\n",
    "curr_file = filu.read_file(new_filepath)\n",
    "curr_file[-1000:]"
   ]
  },
  {
   "cell_type": "code",
   "execution_count": null,
   "metadata": {},
   "outputs": [],
   "source": []
  },
  {
   "cell_type": "code",
   "execution_count": null,
   "metadata": {},
   "outputs": [],
   "source": []
  },
  {
   "cell_type": "code",
   "execution_count": null,
   "metadata": {},
   "outputs": [],
   "source": [
    "import regex as re\n",
    "pattern = re.compile(\"axon_width_like_requirement = clu.axon_width_like_requirement\")\n",
    "list(pattern.finditer(data_doc_no_mod))"
   ]
  },
  {
   "cell_type": "code",
   "execution_count": null,
   "metadata": {},
   "outputs": [],
   "source": [
    "from python_tools import string_utils as stru\n",
    "_ = stru.strip_whitespace(\n",
    "    data_doc_no_mod,\n",
    "    verbose = True\n",
    ")"
   ]
  },
  {
   "cell_type": "code",
   "execution_count": null,
   "metadata": {},
   "outputs": [],
   "source": []
  },
  {
   "cell_type": "code",
   "execution_count": null,
   "metadata": {},
   "outputs": [],
   "source": [
    "\"\"\"\n",
    "modules to put at the top:\n",
    "\n",
    "from python_tools import general_utils as gu\n",
    "from python_tools import numpy_dep as np\n",
    "from python_tools import data_struct_utils as dsu\n",
    "# --- data interfaces\n",
    "from . import volume_utils\n",
    "from . import microns_volume_utils as mvu\n",
    "from . import h01_volume_utils as hvu\n",
    "\"\"\""
   ]
  }
 ],
 "metadata": {
  "kernelspec": {
   "display_name": "Python 3 (ipykernel)",
   "language": "python",
   "name": "python3"
  },
  "language_info": {
   "codemirror_mode": {
    "name": "ipython",
    "version": 3
   },
   "file_extension": ".py",
   "mimetype": "text/x-python",
   "name": "python",
   "nbconvert_exporter": "python",
   "pygments_lexer": "ipython3",
   "version": "3.8.0"
  }
 },
 "nbformat": 4,
 "nbformat_minor": 4
}
