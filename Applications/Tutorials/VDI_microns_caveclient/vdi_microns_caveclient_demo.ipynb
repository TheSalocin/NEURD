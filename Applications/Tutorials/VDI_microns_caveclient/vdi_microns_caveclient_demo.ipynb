{
 "cells": [
  {
   "cell_type": "code",
   "execution_count": null,
   "id": "ff1f7fe3",
   "metadata": {},
   "outputs": [],
   "source": [
    "%load_ext autoreload\n",
    "%autoreload 2"
   ]
  },
  {
   "cell_type": "code",
   "execution_count": 1,
   "id": "ba99eb93-3640-488f-aa29-c076ad4725ed",
   "metadata": {},
   "outputs": [
    {
     "data": {
      "text/plain": [
       "'\\nPurpose: To test the neuron decomposition pipeline using \\nthe vdi for microns that accesses the data through the caveclient\\n'"
      ]
     },
     "execution_count": 1,
     "metadata": {},
     "output_type": "execute_result"
    }
   ],
   "source": [
    "\"\"\"\n",
    "Purpose: To test the neuron decomposition pipeline using \n",
    "the vdi for microns that accesses the data through the caveclient\n",
    "\"\"\""
   ]
  },
  {
   "cell_type": "markdown",
   "id": "c37828ed-121b-4226-bfd6-222b051eeeb8",
   "metadata": {},
   "source": [
    "# Setting up the Cave Client"
   ]
  },
  {
   "cell_type": "code",
   "execution_count": 2,
   "id": "a4ac32e5-1893-4d2f-8d3d-b77df400d1c9",
   "metadata": {},
   "outputs": [
    {
     "name": "stdout",
     "output_type": "stream",
     "text": [
      "New Tokens need to be acquired by hand. Please follow the following steps:\n",
      "                1) Go to: https://global.daf-apis.com/auth/api/v1/create_token to create a new token.\n",
      "                2) Log in with your Google credentials and copy the token shown afterward.\n",
      "                3a) Save it to your computer with: client.auth.save_token(token=\"PASTE_YOUR_TOKEN_HERE\")\n",
      "                or\n",
      "                3b) Set it for the current session only with client.auth.token = \"PASTE_YOUR_TOKEN_HERE\"\n",
      "                Note: If you need to save or load multiple tokens, please read the documentation for details.\n",
      "                Warning! Creating a new token by finishing step 2 will invalidate the previous token!\n"
     ]
    }
   ],
   "source": [
    "from caveclient import CAVEclient\n",
    "client = CAVEclient()\n",
    "client.auth.get_new_token()"
   ]
  },
  {
   "cell_type": "code",
   "execution_count": 3,
   "id": "f6fa3637-b1e2-4b63-8947-5d1d0105224f",
   "metadata": {},
   "outputs": [],
   "source": [
    "CAVE_TOKEN  = \"INSERT TOKEN HERE\"\n",
    "\n",
    "#this token is an example token but is not valid\n",
    "CAVE_TOKEN=\"ba0a1b546e9b87f402c5d8c1d1d45bca\" "
   ]
  },
  {
   "cell_type": "code",
   "execution_count": 4,
   "id": "7ff6be2a-8663-4958-bf63-7054eb052b68",
   "metadata": {},
   "outputs": [],
   "source": [
    "# Saving the token to caveclient package and as a local env file\n",
    "try:\n",
    "    client.auth.save_token(token=CAVE_TOKEN)\n",
    "except Exception as e:\n",
    "    print(e)\n",
    "\n",
    "filepath =\"./.env\" \n",
    "with open(filepath,\"w+\") as f:\n",
    "    f.write(f\"CAVE_TOKEN={CAVE_TOKEN}\")"
   ]
  },
  {
   "cell_type": "markdown",
   "id": "e0621252-b718-4042-91b3-a8b856d61cda",
   "metadata": {},
   "source": [
    "# Importing the VDI with microns_cave interface\n"
   ]
  },
  {
   "cell_type": "code",
   "execution_count": 6,
   "id": "2a1322eb-4a5f-41ae-879a-c5097364b156",
   "metadata": {},
   "outputs": [
    {
     "data": {
      "text/plain": [
       "<neurd.cave_client_utils.CaveInterface at 0x7fb940196dc0>"
      ]
     },
     "execution_count": 6,
     "metadata": {},
     "output_type": "execute_result"
    }
   ],
   "source": [
    "from neurd.cave_interface import CaveInterface\n",
    "from pathlib import Path\n",
    "\n",
    "client = CaveInterface(\n",
    "    \"minnie65_public\",\n",
    "    env_filepath=Path(filepath).absolute()\n",
    ")\n",
    "client"
   ]
  },
  {
   "cell_type": "markdown",
   "id": "71b85c1d-6b5a-4c5e-9982-05f630cad273",
   "metadata": {},
   "source": [
    "# Accessing the data with the Cave Interface (we are just checking to make sure cave client access is working, lines of code not necessary for VDI to function)"
   ]
  },
  {
   "cell_type": "code",
   "execution_count": 7,
   "id": "2d87e269-31a5-4521-aaf1-330e85100eda",
   "metadata": {},
   "outputs": [
    {
     "name": "stderr",
     "output_type": "stream",
     "text": [
      "Table Owner Notice on nucleus_ref_neuron_svm: Please cite https://doi.org/10.1101/2022.07.20.499976 when using this table.\n"
     ]
    },
    {
     "data": {
      "text/plain": [
       "array([                 0, 864691131906133483, 864691132144578807,\n",
       "       864691132180274289, 864691132187700262, 864691132255729245,\n",
       "       864691132276185673, 864691132350062180, 864691132405111073,\n",
       "       864691132412868837])"
      ]
     },
     "execution_count": 7,
     "metadata": {},
     "output_type": "execute_result"
    }
   ],
   "source": [
    "nucleus_seg_ids = client.segment_ids_with_nucleus()\n",
    "nucleus_seg_ids[:10]"
   ]
  },
  {
   "cell_type": "code",
   "execution_count": 8,
   "id": "f20d172f-d031-4997-8fcc-3c536835fb63",
   "metadata": {},
   "outputs": [
    {
     "name": "stderr",
     "output_type": "stream",
     "text": [
      "Table Owner Notice on nucleus_ref_neuron_svm: Please cite https://doi.org/10.1101/2022.07.20.499976 when using this table.\n"
     ]
    },
    {
     "data": {
      "text/plain": [
       "864691135502491741"
      ]
     },
     "execution_count": 8,
     "metadata": {},
     "output_type": "execute_result"
    }
   ],
   "source": [
    "# finding a segement id from the nuclues id\n",
    "nucleus_id = 197805\n",
    "\n",
    "nuc_df = client.neuron_nucleus_df()\n",
    "seg_id = nuc_df.query(f\"id_ref=={nucleus_id}\")[\n",
    "    \"pt_root_id\"].to_list()[0]\n",
    "seg_id"
   ]
  },
  {
   "cell_type": "code",
   "execution_count": 9,
   "id": "a534f472-3e51-4c05-b693-fccaae989b39",
   "metadata": {},
   "outputs": [
    {
     "name": "stdout",
     "output_type": "stream",
     "text": [
      "Warning: deduplication not currently supported for this layer's variable layered draco meshes\n"
     ]
    }
   ],
   "source": [
    "# downloading the mesh\n",
    "mesh = client.mesh_from_seg_id(\n",
    "    seg_id\n",
    ")"
   ]
  },
  {
   "cell_type": "code",
   "execution_count": 10,
   "id": "ca6aee94-bca7-405a-8c7a-76dbb1714308",
   "metadata": {},
   "outputs": [
    {
     "data": {
      "text/html": [
       "<div>\n",
       "<style scoped>\n",
       "    .dataframe tbody tr th:only-of-type {\n",
       "        vertical-align: middle;\n",
       "    }\n",
       "\n",
       "    .dataframe tbody tr th {\n",
       "        vertical-align: top;\n",
       "    }\n",
       "\n",
       "    .dataframe thead th {\n",
       "        text-align: right;\n",
       "    }\n",
       "</style>\n",
       "<table border=\"1\" class=\"dataframe\">\n",
       "  <thead>\n",
       "    <tr style=\"text-align: right;\">\n",
       "      <th></th>\n",
       "      <th>id</th>\n",
       "      <th>created</th>\n",
       "      <th>superceded_id</th>\n",
       "      <th>valid</th>\n",
       "      <th>size</th>\n",
       "      <th>pre_pt_supervoxel_id</th>\n",
       "      <th>pre_pt_root_id</th>\n",
       "      <th>post_pt_supervoxel_id</th>\n",
       "      <th>post_pt_root_id</th>\n",
       "      <th>pre_pt_position</th>\n",
       "      <th>post_pt_position</th>\n",
       "      <th>ctr_pt_position</th>\n",
       "    </tr>\n",
       "  </thead>\n",
       "  <tbody>\n",
       "    <tr>\n",
       "      <th>0</th>\n",
       "      <td>60791196</td>\n",
       "      <td>2020-11-04 06:58:29.963477+00:00</td>\n",
       "      <td>NaN</td>\n",
       "      <td>t</td>\n",
       "      <td>8540</td>\n",
       "      <td>81295211040549893</td>\n",
       "      <td>864691135502491741</td>\n",
       "      <td>81295211040561026</td>\n",
       "      <td>864691135446598290</td>\n",
       "      <td>[119948, 204892, 25222]</td>\n",
       "      <td>[120012, 204940, 25228]</td>\n",
       "      <td>[119972, 204962, 25221]</td>\n",
       "    </tr>\n",
       "    <tr>\n",
       "      <th>1</th>\n",
       "      <td>55276068</td>\n",
       "      <td>2020-11-04 13:26:20.169296+00:00</td>\n",
       "      <td>NaN</td>\n",
       "      <td>t</td>\n",
       "      <td>1480</td>\n",
       "      <td>80521704610504328</td>\n",
       "      <td>864691135502491741</td>\n",
       "      <td>80521704610511535</td>\n",
       "      <td>864691135542422980</td>\n",
       "      <td>[114594, 208994, 25324]</td>\n",
       "      <td>[114524, 208936, 25324]</td>\n",
       "      <td>[114538, 208976, 25325]</td>\n",
       "    </tr>\n",
       "    <tr>\n",
       "      <th>2</th>\n",
       "      <td>77044514</td>\n",
       "      <td>2020-11-04 07:03:29.958267+00:00</td>\n",
       "      <td>NaN</td>\n",
       "      <td>t</td>\n",
       "      <td>1884</td>\n",
       "      <td>82835626965138956</td>\n",
       "      <td>864691135502491741</td>\n",
       "      <td>82835626965146533</td>\n",
       "      <td>864691135498532371</td>\n",
       "      <td>[131206, 147428, 26140]</td>\n",
       "      <td>[131232, 147418, 26148]</td>\n",
       "      <td>[131210, 147454, 26145]</td>\n",
       "    </tr>\n",
       "    <tr>\n",
       "      <th>3</th>\n",
       "      <td>99612983</td>\n",
       "      <td>2020-11-04 07:03:23.818013+00:00</td>\n",
       "      <td>NaN</td>\n",
       "      <td>t</td>\n",
       "      <td>816</td>\n",
       "      <td>84178611632143296</td>\n",
       "      <td>864691135502491741</td>\n",
       "      <td>84178611632147211</td>\n",
       "      <td>864691133673798118</td>\n",
       "      <td>[140958, 192060, 25867]</td>\n",
       "      <td>[140918, 192048, 25869]</td>\n",
       "      <td>[140944, 192064, 25870]</td>\n",
       "    </tr>\n",
       "    <tr>\n",
       "      <th>4</th>\n",
       "      <td>92346441</td>\n",
       "      <td>2020-11-04 07:15:03.970582+00:00</td>\n",
       "      <td>NaN</td>\n",
       "      <td>t</td>\n",
       "      <td>25688</td>\n",
       "      <td>83477054561109525</td>\n",
       "      <td>864691135502491741</td>\n",
       "      <td>83477054561117875</td>\n",
       "      <td>864691136176212230</td>\n",
       "      <td>[136004, 207680, 26253]</td>\n",
       "      <td>[135976, 207712, 26257]</td>\n",
       "      <td>[135980, 207692, 26255]</td>\n",
       "    </tr>\n",
       "    <tr>\n",
       "      <th>...</th>\n",
       "      <td>...</td>\n",
       "      <td>...</td>\n",
       "      <td>...</td>\n",
       "      <td>...</td>\n",
       "      <td>...</td>\n",
       "      <td>...</td>\n",
       "      <td>...</td>\n",
       "      <td>...</td>\n",
       "      <td>...</td>\n",
       "      <td>...</td>\n",
       "      <td>...</td>\n",
       "      <td>...</td>\n",
       "    </tr>\n",
       "    <tr>\n",
       "      <th>2258</th>\n",
       "      <td>104897868</td>\n",
       "      <td>2020-11-04 14:39:15.101242+00:00</td>\n",
       "      <td>NaN</td>\n",
       "      <td>t</td>\n",
       "      <td>11104</td>\n",
       "      <td>84741355561256766</td>\n",
       "      <td>864691136617619675</td>\n",
       "      <td>84741355561261515</td>\n",
       "      <td>864691135502491741</td>\n",
       "      <td>[145044, 190290, 26791]</td>\n",
       "      <td>[145074, 190372, 26796]</td>\n",
       "      <td>[145084, 190310, 26798]</td>\n",
       "    </tr>\n",
       "    <tr>\n",
       "      <th>2259</th>\n",
       "      <td>82723156</td>\n",
       "      <td>2020-11-04 06:58:26.675701+00:00</td>\n",
       "      <td>NaN</td>\n",
       "      <td>t</td>\n",
       "      <td>3996</td>\n",
       "      <td>83261412574728554</td>\n",
       "      <td>864691135575386654</td>\n",
       "      <td>83191043830544439</td>\n",
       "      <td>864691135502491741</td>\n",
       "      <td>[134206, 173982, 24223]</td>\n",
       "      <td>[134154, 174078, 24233]</td>\n",
       "      <td>[134149, 174026, 24229]</td>\n",
       "    </tr>\n",
       "    <tr>\n",
       "      <th>2260</th>\n",
       "      <td>89272330</td>\n",
       "      <td>2020-11-04 11:05:49.768121+00:00</td>\n",
       "      <td>NaN</td>\n",
       "      <td>t</td>\n",
       "      <td>900</td>\n",
       "      <td>83404143062065032</td>\n",
       "      <td>864691135939963393</td>\n",
       "      <td>83404143062053793</td>\n",
       "      <td>864691135502491741</td>\n",
       "      <td>[135624, 188932, 25185]</td>\n",
       "      <td>[135678, 188936, 25186]</td>\n",
       "      <td>[135678, 188953, 25192]</td>\n",
       "    </tr>\n",
       "    <tr>\n",
       "      <th>2261</th>\n",
       "      <td>89540754</td>\n",
       "      <td>2020-11-04 11:13:37.958065+00:00</td>\n",
       "      <td>NaN</td>\n",
       "      <td>t</td>\n",
       "      <td>9260</td>\n",
       "      <td>83685068283331835</td>\n",
       "      <td>864691136105933529</td>\n",
       "      <td>83685068283341685</td>\n",
       "      <td>864691135502491741</td>\n",
       "      <td>[137574, 184638, 25563]</td>\n",
       "      <td>[137526, 184604, 25576]</td>\n",
       "      <td>[137552, 184610, 25572]</td>\n",
       "    </tr>\n",
       "    <tr>\n",
       "      <th>2262</th>\n",
       "      <td>113438365</td>\n",
       "      <td>2020-11-04 11:06:17.563648+00:00</td>\n",
       "      <td>NaN</td>\n",
       "      <td>t</td>\n",
       "      <td>2780</td>\n",
       "      <td>85163636544799639</td>\n",
       "      <td>864691135762144822</td>\n",
       "      <td>85163636544804747</td>\n",
       "      <td>864691135502491741</td>\n",
       "      <td>[148390, 190994, 25583]</td>\n",
       "      <td>[148408, 191006, 25588]</td>\n",
       "      <td>[148436, 190943, 25588]</td>\n",
       "    </tr>\n",
       "  </tbody>\n",
       "</table>\n",
       "<p>2263 rows × 12 columns</p>\n",
       "</div>"
      ],
      "text/plain": [
       "             id                          created  superceded_id valid   size  \\\n",
       "0      60791196 2020-11-04 06:58:29.963477+00:00            NaN     t   8540   \n",
       "1      55276068 2020-11-04 13:26:20.169296+00:00            NaN     t   1480   \n",
       "2      77044514 2020-11-04 07:03:29.958267+00:00            NaN     t   1884   \n",
       "3      99612983 2020-11-04 07:03:23.818013+00:00            NaN     t    816   \n",
       "4      92346441 2020-11-04 07:15:03.970582+00:00            NaN     t  25688   \n",
       "...         ...                              ...            ...   ...    ...   \n",
       "2258  104897868 2020-11-04 14:39:15.101242+00:00            NaN     t  11104   \n",
       "2259   82723156 2020-11-04 06:58:26.675701+00:00            NaN     t   3996   \n",
       "2260   89272330 2020-11-04 11:05:49.768121+00:00            NaN     t    900   \n",
       "2261   89540754 2020-11-04 11:13:37.958065+00:00            NaN     t   9260   \n",
       "2262  113438365 2020-11-04 11:06:17.563648+00:00            NaN     t   2780   \n",
       "\n",
       "      pre_pt_supervoxel_id      pre_pt_root_id  post_pt_supervoxel_id  \\\n",
       "0        81295211040549893  864691135502491741      81295211040561026   \n",
       "1        80521704610504328  864691135502491741      80521704610511535   \n",
       "2        82835626965138956  864691135502491741      82835626965146533   \n",
       "3        84178611632143296  864691135502491741      84178611632147211   \n",
       "4        83477054561109525  864691135502491741      83477054561117875   \n",
       "...                    ...                 ...                    ...   \n",
       "2258     84741355561256766  864691136617619675      84741355561261515   \n",
       "2259     83261412574728554  864691135575386654      83191043830544439   \n",
       "2260     83404143062065032  864691135939963393      83404143062053793   \n",
       "2261     83685068283331835  864691136105933529      83685068283341685   \n",
       "2262     85163636544799639  864691135762144822      85163636544804747   \n",
       "\n",
       "         post_pt_root_id          pre_pt_position         post_pt_position  \\\n",
       "0     864691135446598290  [119948, 204892, 25222]  [120012, 204940, 25228]   \n",
       "1     864691135542422980  [114594, 208994, 25324]  [114524, 208936, 25324]   \n",
       "2     864691135498532371  [131206, 147428, 26140]  [131232, 147418, 26148]   \n",
       "3     864691133673798118  [140958, 192060, 25867]  [140918, 192048, 25869]   \n",
       "4     864691136176212230  [136004, 207680, 26253]  [135976, 207712, 26257]   \n",
       "...                  ...                      ...                      ...   \n",
       "2258  864691135502491741  [145044, 190290, 26791]  [145074, 190372, 26796]   \n",
       "2259  864691135502491741  [134206, 173982, 24223]  [134154, 174078, 24233]   \n",
       "2260  864691135502491741  [135624, 188932, 25185]  [135678, 188936, 25186]   \n",
       "2261  864691135502491741  [137574, 184638, 25563]  [137526, 184604, 25576]   \n",
       "2262  864691135502491741  [148390, 190994, 25583]  [148408, 191006, 25588]   \n",
       "\n",
       "              ctr_pt_position  \n",
       "0     [119972, 204962, 25221]  \n",
       "1     [114538, 208976, 25325]  \n",
       "2     [131210, 147454, 26145]  \n",
       "3     [140944, 192064, 25870]  \n",
       "4     [135980, 207692, 26255]  \n",
       "...                       ...  \n",
       "2258  [145084, 190310, 26798]  \n",
       "2259  [134149, 174026, 24229]  \n",
       "2260  [135678, 188953, 25192]  \n",
       "2261  [137552, 184610, 25572]  \n",
       "2262  [148436, 190943, 25588]  \n",
       "\n",
       "[2263 rows x 12 columns]"
      ]
     },
     "execution_count": 10,
     "metadata": {},
     "output_type": "execute_result"
    }
   ],
   "source": [
    "# downloading the synapses\n",
    "syn_df = client.pre_post_df_from_seg_id(seg_id)\n",
    "syn_df"
   ]
  },
  {
   "cell_type": "markdown",
   "id": "be992837-9250-4bc2-9039-37a172ef9521",
   "metadata": {},
   "source": [
    "# Using the VDI Microns Cave"
   ]
  },
  {
   "cell_type": "code",
   "execution_count": 11,
   "id": "324e4275-ae61-4389-bd34-ce256bb59915",
   "metadata": {},
   "outputs": [
    {
     "ename": "FileNotFoundError",
     "evalue": "[Errno 2] No such file or directory: '/neurd_packages/meshAfterParty/meshAfterParty/border_df_for_e_i_improved.pbz2'",
     "output_type": "error",
     "traceback": [
      "\u001b[0;31m---------------------------------------------------------------------------\u001b[0m",
      "\u001b[0;31mFileNotFoundError\u001b[0m                         Traceback (most recent call last)",
      "File \u001b[0;32m/usr/local/lib/python3.8/dist-packages/neurd/cell_type_utils.py:1306\u001b[0m, in \u001b[0;36mload_border_exc_inh_df\u001b[0;34m(path, path_backup)\u001b[0m\n\u001b[1;32m   1305\u001b[0m \u001b[38;5;28;01mtry\u001b[39;00m:\n\u001b[0;32m-> 1306\u001b[0m     manual_df \u001b[38;5;241m=\u001b[39m \u001b[43mpu\u001b[49m\u001b[38;5;241;43m.\u001b[39;49m\u001b[43mcsv_to_df\u001b[49m\u001b[43m(\u001b[49m\u001b[43mpath\u001b[49m\u001b[43m)\u001b[49m\n\u001b[1;32m   1307\u001b[0m \u001b[38;5;28;01mexcept\u001b[39;00m: \n",
      "File \u001b[0;32m/usr/local/lib/python3.8/dist-packages/datasci_tools/pandas_utils.py:777\u001b[0m, in \u001b[0;36mcsv_to_df\u001b[0;34m(csv_filepath, remove_unnamed_columns)\u001b[0m\n\u001b[1;32m    776\u001b[0m \u001b[38;5;28;01mdef\u001b[39;00m \u001b[38;5;21mcsv_to_df\u001b[39m(csv_filepath,remove_unnamed_columns\u001b[38;5;241m=\u001b[39m\u001b[38;5;28;01mTrue\u001b[39;00m):\n\u001b[0;32m--> 777\u001b[0m     return_df \u001b[38;5;241m=\u001b[39m \u001b[43mpd\u001b[49m\u001b[38;5;241;43m.\u001b[39;49m\u001b[43mread_csv\u001b[49m\u001b[43m(\u001b[49m\u001b[43mcsv_filepath\u001b[49m\u001b[43m)\u001b[49m \n\u001b[1;32m    778\u001b[0m     \u001b[38;5;28;01mif\u001b[39;00m remove_unnamed_columns:\n",
      "File \u001b[0;32m/usr/local/lib/python3.8/dist-packages/pandas/io/parsers/readers.py:912\u001b[0m, in \u001b[0;36mread_csv\u001b[0;34m(filepath_or_buffer, sep, delimiter, header, names, index_col, usecols, dtype, engine, converters, true_values, false_values, skipinitialspace, skiprows, skipfooter, nrows, na_values, keep_default_na, na_filter, verbose, skip_blank_lines, parse_dates, infer_datetime_format, keep_date_col, date_parser, date_format, dayfirst, cache_dates, iterator, chunksize, compression, thousands, decimal, lineterminator, quotechar, quoting, doublequote, escapechar, comment, encoding, encoding_errors, dialect, on_bad_lines, delim_whitespace, low_memory, memory_map, float_precision, storage_options, dtype_backend)\u001b[0m\n\u001b[1;32m    910\u001b[0m kwds\u001b[38;5;241m.\u001b[39mupdate(kwds_defaults)\n\u001b[0;32m--> 912\u001b[0m \u001b[38;5;28;01mreturn\u001b[39;00m \u001b[43m_read\u001b[49m\u001b[43m(\u001b[49m\u001b[43mfilepath_or_buffer\u001b[49m\u001b[43m,\u001b[49m\u001b[43m \u001b[49m\u001b[43mkwds\u001b[49m\u001b[43m)\u001b[49m\n",
      "File \u001b[0;32m/usr/local/lib/python3.8/dist-packages/pandas/io/parsers/readers.py:577\u001b[0m, in \u001b[0;36m_read\u001b[0;34m(filepath_or_buffer, kwds)\u001b[0m\n\u001b[1;32m    576\u001b[0m \u001b[38;5;66;03m# Create the parser.\u001b[39;00m\n\u001b[0;32m--> 577\u001b[0m parser \u001b[38;5;241m=\u001b[39m \u001b[43mTextFileReader\u001b[49m\u001b[43m(\u001b[49m\u001b[43mfilepath_or_buffer\u001b[49m\u001b[43m,\u001b[49m\u001b[43m \u001b[49m\u001b[38;5;241;43m*\u001b[39;49m\u001b[38;5;241;43m*\u001b[39;49m\u001b[43mkwds\u001b[49m\u001b[43m)\u001b[49m\n\u001b[1;32m    579\u001b[0m \u001b[38;5;28;01mif\u001b[39;00m chunksize \u001b[38;5;129;01mor\u001b[39;00m iterator:\n",
      "File \u001b[0;32m/usr/local/lib/python3.8/dist-packages/pandas/io/parsers/readers.py:1407\u001b[0m, in \u001b[0;36mTextFileReader.__init__\u001b[0;34m(self, f, engine, **kwds)\u001b[0m\n\u001b[1;32m   1406\u001b[0m \u001b[38;5;28mself\u001b[39m\u001b[38;5;241m.\u001b[39mhandles: IOHandles \u001b[38;5;241m|\u001b[39m \u001b[38;5;28;01mNone\u001b[39;00m \u001b[38;5;241m=\u001b[39m \u001b[38;5;28;01mNone\u001b[39;00m\n\u001b[0;32m-> 1407\u001b[0m \u001b[38;5;28mself\u001b[39m\u001b[38;5;241m.\u001b[39m_engine \u001b[38;5;241m=\u001b[39m \u001b[38;5;28;43mself\u001b[39;49m\u001b[38;5;241;43m.\u001b[39;49m\u001b[43m_make_engine\u001b[49m\u001b[43m(\u001b[49m\u001b[43mf\u001b[49m\u001b[43m,\u001b[49m\u001b[43m \u001b[49m\u001b[38;5;28;43mself\u001b[39;49m\u001b[38;5;241;43m.\u001b[39;49m\u001b[43mengine\u001b[49m\u001b[43m)\u001b[49m\n",
      "File \u001b[0;32m/usr/local/lib/python3.8/dist-packages/pandas/io/parsers/readers.py:1661\u001b[0m, in \u001b[0;36mTextFileReader._make_engine\u001b[0;34m(self, f, engine)\u001b[0m\n\u001b[1;32m   1660\u001b[0m         mode \u001b[38;5;241m+\u001b[39m\u001b[38;5;241m=\u001b[39m \u001b[38;5;124m\"\u001b[39m\u001b[38;5;124mb\u001b[39m\u001b[38;5;124m\"\u001b[39m\n\u001b[0;32m-> 1661\u001b[0m \u001b[38;5;28mself\u001b[39m\u001b[38;5;241m.\u001b[39mhandles \u001b[38;5;241m=\u001b[39m \u001b[43mget_handle\u001b[49m\u001b[43m(\u001b[49m\n\u001b[1;32m   1662\u001b[0m \u001b[43m    \u001b[49m\u001b[43mf\u001b[49m\u001b[43m,\u001b[49m\n\u001b[1;32m   1663\u001b[0m \u001b[43m    \u001b[49m\u001b[43mmode\u001b[49m\u001b[43m,\u001b[49m\n\u001b[1;32m   1664\u001b[0m \u001b[43m    \u001b[49m\u001b[43mencoding\u001b[49m\u001b[38;5;241;43m=\u001b[39;49m\u001b[38;5;28;43mself\u001b[39;49m\u001b[38;5;241;43m.\u001b[39;49m\u001b[43moptions\u001b[49m\u001b[38;5;241;43m.\u001b[39;49m\u001b[43mget\u001b[49m\u001b[43m(\u001b[49m\u001b[38;5;124;43m\"\u001b[39;49m\u001b[38;5;124;43mencoding\u001b[39;49m\u001b[38;5;124;43m\"\u001b[39;49m\u001b[43m,\u001b[49m\u001b[43m \u001b[49m\u001b[38;5;28;43;01mNone\u001b[39;49;00m\u001b[43m)\u001b[49m\u001b[43m,\u001b[49m\n\u001b[1;32m   1665\u001b[0m \u001b[43m    \u001b[49m\u001b[43mcompression\u001b[49m\u001b[38;5;241;43m=\u001b[39;49m\u001b[38;5;28;43mself\u001b[39;49m\u001b[38;5;241;43m.\u001b[39;49m\u001b[43moptions\u001b[49m\u001b[38;5;241;43m.\u001b[39;49m\u001b[43mget\u001b[49m\u001b[43m(\u001b[49m\u001b[38;5;124;43m\"\u001b[39;49m\u001b[38;5;124;43mcompression\u001b[39;49m\u001b[38;5;124;43m\"\u001b[39;49m\u001b[43m,\u001b[49m\u001b[43m \u001b[49m\u001b[38;5;28;43;01mNone\u001b[39;49;00m\u001b[43m)\u001b[49m\u001b[43m,\u001b[49m\n\u001b[1;32m   1666\u001b[0m \u001b[43m    \u001b[49m\u001b[43mmemory_map\u001b[49m\u001b[38;5;241;43m=\u001b[39;49m\u001b[38;5;28;43mself\u001b[39;49m\u001b[38;5;241;43m.\u001b[39;49m\u001b[43moptions\u001b[49m\u001b[38;5;241;43m.\u001b[39;49m\u001b[43mget\u001b[49m\u001b[43m(\u001b[49m\u001b[38;5;124;43m\"\u001b[39;49m\u001b[38;5;124;43mmemory_map\u001b[39;49m\u001b[38;5;124;43m\"\u001b[39;49m\u001b[43m,\u001b[49m\u001b[43m \u001b[49m\u001b[38;5;28;43;01mFalse\u001b[39;49;00m\u001b[43m)\u001b[49m\u001b[43m,\u001b[49m\n\u001b[1;32m   1667\u001b[0m \u001b[43m    \u001b[49m\u001b[43mis_text\u001b[49m\u001b[38;5;241;43m=\u001b[39;49m\u001b[43mis_text\u001b[49m\u001b[43m,\u001b[49m\n\u001b[1;32m   1668\u001b[0m \u001b[43m    \u001b[49m\u001b[43merrors\u001b[49m\u001b[38;5;241;43m=\u001b[39;49m\u001b[38;5;28;43mself\u001b[39;49m\u001b[38;5;241;43m.\u001b[39;49m\u001b[43moptions\u001b[49m\u001b[38;5;241;43m.\u001b[39;49m\u001b[43mget\u001b[49m\u001b[43m(\u001b[49m\u001b[38;5;124;43m\"\u001b[39;49m\u001b[38;5;124;43mencoding_errors\u001b[39;49m\u001b[38;5;124;43m\"\u001b[39;49m\u001b[43m,\u001b[49m\u001b[43m \u001b[49m\u001b[38;5;124;43m\"\u001b[39;49m\u001b[38;5;124;43mstrict\u001b[39;49m\u001b[38;5;124;43m\"\u001b[39;49m\u001b[43m)\u001b[49m\u001b[43m,\u001b[49m\n\u001b[1;32m   1669\u001b[0m \u001b[43m    \u001b[49m\u001b[43mstorage_options\u001b[49m\u001b[38;5;241;43m=\u001b[39;49m\u001b[38;5;28;43mself\u001b[39;49m\u001b[38;5;241;43m.\u001b[39;49m\u001b[43moptions\u001b[49m\u001b[38;5;241;43m.\u001b[39;49m\u001b[43mget\u001b[49m\u001b[43m(\u001b[49m\u001b[38;5;124;43m\"\u001b[39;49m\u001b[38;5;124;43mstorage_options\u001b[39;49m\u001b[38;5;124;43m\"\u001b[39;49m\u001b[43m,\u001b[49m\u001b[43m \u001b[49m\u001b[38;5;28;43;01mNone\u001b[39;49;00m\u001b[43m)\u001b[49m\u001b[43m,\u001b[49m\n\u001b[1;32m   1670\u001b[0m \u001b[43m\u001b[49m\u001b[43m)\u001b[49m\n\u001b[1;32m   1671\u001b[0m \u001b[38;5;28;01massert\u001b[39;00m \u001b[38;5;28mself\u001b[39m\u001b[38;5;241m.\u001b[39mhandles \u001b[38;5;129;01mis\u001b[39;00m \u001b[38;5;129;01mnot\u001b[39;00m \u001b[38;5;28;01mNone\u001b[39;00m\n",
      "File \u001b[0;32m/usr/local/lib/python3.8/dist-packages/pandas/io/common.py:859\u001b[0m, in \u001b[0;36mget_handle\u001b[0;34m(path_or_buf, mode, encoding, compression, memory_map, is_text, errors, storage_options)\u001b[0m\n\u001b[1;32m    857\u001b[0m \u001b[38;5;28;01mif\u001b[39;00m ioargs\u001b[38;5;241m.\u001b[39mencoding \u001b[38;5;129;01mand\u001b[39;00m \u001b[38;5;124m\"\u001b[39m\u001b[38;5;124mb\u001b[39m\u001b[38;5;124m\"\u001b[39m \u001b[38;5;129;01mnot\u001b[39;00m \u001b[38;5;129;01min\u001b[39;00m ioargs\u001b[38;5;241m.\u001b[39mmode:\n\u001b[1;32m    858\u001b[0m     \u001b[38;5;66;03m# Encoding\u001b[39;00m\n\u001b[0;32m--> 859\u001b[0m     handle \u001b[38;5;241m=\u001b[39m \u001b[38;5;28;43mopen\u001b[39;49m\u001b[43m(\u001b[49m\n\u001b[1;32m    860\u001b[0m \u001b[43m        \u001b[49m\u001b[43mhandle\u001b[49m\u001b[43m,\u001b[49m\n\u001b[1;32m    861\u001b[0m \u001b[43m        \u001b[49m\u001b[43mioargs\u001b[49m\u001b[38;5;241;43m.\u001b[39;49m\u001b[43mmode\u001b[49m\u001b[43m,\u001b[49m\n\u001b[1;32m    862\u001b[0m \u001b[43m        \u001b[49m\u001b[43mencoding\u001b[49m\u001b[38;5;241;43m=\u001b[39;49m\u001b[43mioargs\u001b[49m\u001b[38;5;241;43m.\u001b[39;49m\u001b[43mencoding\u001b[49m\u001b[43m,\u001b[49m\n\u001b[1;32m    863\u001b[0m \u001b[43m        \u001b[49m\u001b[43merrors\u001b[49m\u001b[38;5;241;43m=\u001b[39;49m\u001b[43merrors\u001b[49m\u001b[43m,\u001b[49m\n\u001b[1;32m    864\u001b[0m \u001b[43m        \u001b[49m\u001b[43mnewline\u001b[49m\u001b[38;5;241;43m=\u001b[39;49m\u001b[38;5;124;43m\"\u001b[39;49m\u001b[38;5;124;43m\"\u001b[39;49m\u001b[43m,\u001b[49m\n\u001b[1;32m    865\u001b[0m \u001b[43m    \u001b[49m\u001b[43m)\u001b[49m\n\u001b[1;32m    866\u001b[0m \u001b[38;5;28;01melse\u001b[39;00m:\n\u001b[1;32m    867\u001b[0m     \u001b[38;5;66;03m# Binary mode\u001b[39;00m\n",
      "\u001b[0;31mFileNotFoundError\u001b[0m: [Errno 2] No such file or directory: '/usr/local/lib/python3.8/dist-packages/neurd/border_df_for_e_i_improved.csv'",
      "\nDuring handling of the above exception, another exception occurred:\n",
      "\u001b[0;31mFileNotFoundError\u001b[0m                         Traceback (most recent call last)",
      "Cell \u001b[0;32mIn[11], line 2\u001b[0m\n\u001b[1;32m      1\u001b[0m \u001b[38;5;66;03m# assumes your caveclient token is stored in an env file\u001b[39;00m\n\u001b[0;32m----> 2\u001b[0m \u001b[38;5;28;01mfrom\u001b[39;00m \u001b[38;5;21;01mneurd\u001b[39;00m\u001b[38;5;21;01m.\u001b[39;00m\u001b[38;5;21;01mvdi_microns_cave\u001b[39;00m \u001b[38;5;28;01mimport\u001b[39;00m volume_data_interface \u001b[38;5;28;01mas\u001b[39;00m vdi\n",
      "File \u001b[0;32m/usr/local/lib/python3.8/dist-packages/neurd/vdi_microns_cave.py:5\u001b[0m\n\u001b[1;32m      1\u001b[0m \u001b[38;5;28;01mimport\u001b[39;00m \u001b[38;5;21;01mnumpy\u001b[39;00m \u001b[38;5;28;01mas\u001b[39;00m \u001b[38;5;21;01mnp\u001b[39;00m\n\u001b[1;32m      2\u001b[0m \u001b[38;5;28;01mfrom\u001b[39;00m \u001b[38;5;21;01mpathlib\u001b[39;00m \u001b[38;5;28;01mimport\u001b[39;00m Path\n\u001b[0;32m----> 5\u001b[0m \u001b[38;5;28;01mfrom\u001b[39;00m \u001b[38;5;21;01m.\u001b[39;00m \u001b[38;5;28;01mimport\u001b[39;00m vdi_default \u001b[38;5;28;01mas\u001b[39;00m vdi_def\n\u001b[1;32m      6\u001b[0m \u001b[38;5;28;01mfrom\u001b[39;00m \u001b[38;5;21;01m.\u001b[39;00m\u001b[38;5;21;01mcave_client_utils\u001b[39;00m \u001b[38;5;28;01mimport\u001b[39;00m CaveInterface\n\u001b[1;32m      8\u001b[0m parameters_config_filename \u001b[38;5;241m=\u001b[39m \u001b[38;5;124m\"\u001b[39m\u001b[38;5;124mparameters_config_microns.py\u001b[39m\u001b[38;5;124m\"\u001b[39m\n",
      "File \u001b[0;32m/usr/local/lib/python3.8/dist-packages/neurd/vdi_default.py:767\u001b[0m\n\u001b[1;32m    763\u001b[0m \u001b[38;5;28;01mfrom\u001b[39;00m \u001b[38;5;21;01mmesh_tools\u001b[39;00m \u001b[38;5;28;01mimport\u001b[39;00m trimesh_utils \u001b[38;5;28;01mas\u001b[39;00m tu\n\u001b[1;32m    765\u001b[0m \u001b[38;5;28;01mfrom\u001b[39;00m \u001b[38;5;21;01mneuron_morphology_tools\u001b[39;00m \u001b[38;5;28;01mimport\u001b[39;00m neuron_nx_utils \u001b[38;5;28;01mas\u001b[39;00m nxu\n\u001b[0;32m--> 767\u001b[0m \u001b[38;5;28;01mfrom\u001b[39;00m \u001b[38;5;21;01m.\u001b[39;00m \u001b[38;5;28;01mimport\u001b[39;00m graph_filters \u001b[38;5;28;01mas\u001b[39;00m gf\n\u001b[1;32m    768\u001b[0m \u001b[38;5;28;01mfrom\u001b[39;00m \u001b[38;5;21;01m.\u001b[39;00m \u001b[38;5;28;01mimport\u001b[39;00m proofreading_utils \u001b[38;5;28;01mas\u001b[39;00m pru\n\u001b[1;32m    769\u001b[0m \u001b[38;5;28;01mfrom\u001b[39;00m \u001b[38;5;21;01m.\u001b[39;00m \u001b[38;5;28;01mimport\u001b[39;00m parameter_utils \u001b[38;5;28;01mas\u001b[39;00m paru\n",
      "File \u001b[0;32m/usr/local/lib/python3.8/dist-packages/neurd/graph_filters.py:1249\u001b[0m\n\u001b[1;32m   1189\u001b[0m attributes_dict_h01 \u001b[38;5;241m=\u001b[39m \u001b[38;5;28mdict\u001b[39m(\n\u001b[1;32m   1190\u001b[0m     default_low_degree_graph_filters \u001b[38;5;241m=\u001b[39m [\n\u001b[1;32m   1191\u001b[0m      axon_webbing_filter,\n\u001b[0;32m   (...)\u001b[0m\n\u001b[1;32m   1198\u001b[0m     ]\n\u001b[1;32m   1199\u001b[0m )\n\u001b[1;32m   1203\u001b[0m \u001b[38;5;66;03m# data_type = \"default\"\u001b[39;00m\n\u001b[1;32m   1204\u001b[0m \u001b[38;5;66;03m# algorithms = None\u001b[39;00m\n\u001b[1;32m   1205\u001b[0m \u001b[38;5;66;03m# modules_to_set = [gf]\u001b[39;00m\n\u001b[0;32m   (...)\u001b[0m\n\u001b[1;32m   1247\u001b[0m \n\u001b[1;32m   1248\u001b[0m \u001b[38;5;66;03m#--- from neurd_packages ---\u001b[39;00m\n\u001b[0;32m-> 1249\u001b[0m \u001b[38;5;28;01mfrom\u001b[39;00m \u001b[38;5;21;01m.\u001b[39;00m \u001b[38;5;28;01mimport\u001b[39;00m axon_utils \u001b[38;5;28;01mas\u001b[39;00m au\n\u001b[1;32m   1250\u001b[0m \u001b[38;5;28;01mfrom\u001b[39;00m \u001b[38;5;21;01m.\u001b[39;00m \u001b[38;5;28;01mimport\u001b[39;00m concept_network_utils \u001b[38;5;28;01mas\u001b[39;00m cnu\n\u001b[1;32m   1251\u001b[0m \u001b[38;5;28;01mfrom\u001b[39;00m \u001b[38;5;21;01m.\u001b[39;00m \u001b[38;5;28;01mimport\u001b[39;00m error_detection \u001b[38;5;28;01mas\u001b[39;00m ed\n",
      "File \u001b[0;32m/usr/local/lib/python3.8/dist-packages/neurd/axon_utils.py:9\u001b[0m\n\u001b[1;32m      7\u001b[0m \u001b[38;5;28;01mfrom\u001b[39;00m \u001b[38;5;21;01mdatasci_tools\u001b[39;00m \u001b[38;5;28;01mimport\u001b[39;00m general_utils \u001b[38;5;28;01mas\u001b[39;00m gu\n\u001b[1;32m      8\u001b[0m \u001b[38;5;28;01mfrom\u001b[39;00m \u001b[38;5;21;01mdatasci_tools\u001b[39;00m \u001b[38;5;28;01mimport\u001b[39;00m data_struct_utils \u001b[38;5;28;01mas\u001b[39;00m dsu\n\u001b[0;32m----> 9\u001b[0m \u001b[38;5;28;01mfrom\u001b[39;00m \u001b[38;5;21;01m.\u001b[39;00m\u001b[38;5;21;01mh01_volume_utils\u001b[39;00m \u001b[38;5;28;01mimport\u001b[39;00m data_interface \u001b[38;5;28;01mas\u001b[39;00m hvu\n\u001b[1;32m     11\u001b[0m axon_version \u001b[38;5;241m=\u001b[39m \u001b[38;5;241m7\u001b[39m \u001b[38;5;66;03m#version that finds the axon using bare synapse branches\u001b[39;00m\n\u001b[1;32m     12\u001b[0m axon_version \u001b[38;5;241m=\u001b[39m \u001b[38;5;241m8\u001b[39m \u001b[38;5;66;03m#improved synapse filtering for axon\u001b[39;00m\n",
      "File \u001b[0;32m/usr/local/lib/python3.8/dist-packages/neurd/h01_volume_utils.py:569\u001b[0m\n\u001b[1;32m    567\u001b[0m \u001b[38;5;66;03m#--- from neurd_packages ---\u001b[39;00m\n\u001b[1;32m    568\u001b[0m \u001b[38;5;28;01mfrom\u001b[39;00m \u001b[38;5;21;01m.\u001b[39;00m \u001b[38;5;28;01mimport\u001b[39;00m microns_volume_utils \u001b[38;5;28;01mas\u001b[39;00m mvu\n\u001b[0;32m--> 569\u001b[0m \u001b[38;5;28;01mfrom\u001b[39;00m \u001b[38;5;21;01m.\u001b[39;00m \u001b[38;5;28;01mimport\u001b[39;00m neuron_visualizations \u001b[38;5;28;01mas\u001b[39;00m nviz\n\u001b[1;32m    570\u001b[0m \u001b[38;5;28;01mfrom\u001b[39;00m \u001b[38;5;21;01m.\u001b[39;00m \u001b[38;5;28;01mimport\u001b[39;00m synapse_utils \u001b[38;5;28;01mas\u001b[39;00m syu\n\u001b[1;32m    571\u001b[0m \u001b[38;5;28;01mfrom\u001b[39;00m \u001b[38;5;21;01m.\u001b[39;00m \u001b[38;5;28;01mimport\u001b[39;00m volume_utils\n",
      "File \u001b[0;32m/usr/local/lib/python3.8/dist-packages/neurd/neuron_visualizations.py:3852\u001b[0m\n\u001b[1;32m   3850\u001b[0m \u001b[38;5;66;03m#--- from neurd_packages ---\u001b[39;00m\n\u001b[1;32m   3851\u001b[0m \u001b[38;5;28;01mfrom\u001b[39;00m \u001b[38;5;21;01m.\u001b[39;00m \u001b[38;5;28;01mimport\u001b[39;00m axon_utils \u001b[38;5;28;01mas\u001b[39;00m au\n\u001b[0;32m-> 3852\u001b[0m \u001b[38;5;28;01mfrom\u001b[39;00m \u001b[38;5;21;01m.\u001b[39;00m \u001b[38;5;28;01mimport\u001b[39;00m neuron\n\u001b[1;32m   3853\u001b[0m \u001b[38;5;28;01mfrom\u001b[39;00m \u001b[38;5;21;01m.\u001b[39;00m \u001b[38;5;28;01mimport\u001b[39;00m neuron_searching \u001b[38;5;28;01mas\u001b[39;00m ns\n\u001b[1;32m   3854\u001b[0m \u001b[38;5;28;01mfrom\u001b[39;00m \u001b[38;5;21;01m.\u001b[39;00m \u001b[38;5;28;01mimport\u001b[39;00m neuron_utils \u001b[38;5;28;01mas\u001b[39;00m nru\n",
      "File \u001b[0;32m/usr/local/lib/python3.8/dist-packages/neurd/neuron.py:4068\u001b[0m\n\u001b[1;32m   4064\u001b[0m         \u001b[38;5;28;01mreturn\u001b[39;00m \u001b[38;5;28mlen\u001b[39m(\u001b[38;5;28mself\u001b[39m\u001b[38;5;241m.\u001b[39msynapses_total)\n\u001b[1;32m   4067\u001b[0m \u001b[38;5;66;03m#--- from neurd_packages ---\u001b[39;00m\n\u001b[0;32m-> 4068\u001b[0m \u001b[38;5;28;01mfrom\u001b[39;00m \u001b[38;5;21;01m.\u001b[39;00m \u001b[38;5;28;01mimport\u001b[39;00m apical_utils \u001b[38;5;28;01mas\u001b[39;00m apu\n\u001b[1;32m   4069\u001b[0m \u001b[38;5;28;01mfrom\u001b[39;00m \u001b[38;5;21;01m.\u001b[39;00m \u001b[38;5;28;01mimport\u001b[39;00m axon_utils \u001b[38;5;28;01mas\u001b[39;00m au\n\u001b[1;32m   4070\u001b[0m \u001b[38;5;28;01mfrom\u001b[39;00m \u001b[38;5;21;01m.\u001b[39;00m \u001b[38;5;28;01mimport\u001b[39;00m branch_utils \u001b[38;5;28;01mas\u001b[39;00m bu\n",
      "File \u001b[0;32m/usr/local/lib/python3.8/dist-packages/neurd/apical_utils.py:1787\u001b[0m\n\u001b[1;32m   1763\u001b[0m attributes_dict_h01 \u001b[38;5;241m=\u001b[39m \u001b[38;5;28mdict\u001b[39m(\n\u001b[1;32m   1764\u001b[0m     align_neuron_obj \u001b[38;5;241m=\u001b[39m hvu\u001b[38;5;241m.\u001b[39mdata_interface\u001b[38;5;241m.\u001b[39malign_neuron_obj,\n\u001b[1;32m   1765\u001b[0m     unalign_neuron_obj \u001b[38;5;241m=\u001b[39m  hvu\u001b[38;5;241m.\u001b[39mdata_interface\u001b[38;5;241m.\u001b[39munalign_neuron_obj,\n\u001b[1;32m   1766\u001b[0m )\n\u001b[1;32m   1768\u001b[0m \u001b[38;5;66;03m# modules_to_set = [apu]\u001b[39;00m\n\u001b[1;32m   1769\u001b[0m \u001b[38;5;66;03m# data_type = \"default\"\u001b[39;00m\n\u001b[1;32m   1770\u001b[0m \u001b[38;5;66;03m# algorithms = None\u001b[39;00m\n\u001b[0;32m   (...)\u001b[0m\n\u001b[1;32m   1785\u001b[0m \n\u001b[1;32m   1786\u001b[0m \u001b[38;5;66;03m#--- from neurd_packages ---\u001b[39;00m\n\u001b[0;32m-> 1787\u001b[0m \u001b[38;5;28;01mfrom\u001b[39;00m \u001b[38;5;21;01m.\u001b[39;00m \u001b[38;5;28;01mimport\u001b[39;00m concept_network_utils \u001b[38;5;28;01mas\u001b[39;00m cnu\n\u001b[1;32m   1788\u001b[0m \u001b[38;5;28;01mfrom\u001b[39;00m \u001b[38;5;21;01m.\u001b[39;00m \u001b[38;5;28;01mimport\u001b[39;00m h01_volume_utils \u001b[38;5;28;01mas\u001b[39;00m hvu\n\u001b[1;32m   1789\u001b[0m \u001b[38;5;28;01mfrom\u001b[39;00m \u001b[38;5;21;01m.\u001b[39;00m \u001b[38;5;28;01mimport\u001b[39;00m microns_volume_utils \u001b[38;5;28;01mas\u001b[39;00m mcu\n",
      "File \u001b[0;32m/usr/local/lib/python3.8/dist-packages/neurd/concept_network_utils.py:1737\u001b[0m\n\u001b[1;32m   1735\u001b[0m \u001b[38;5;66;03m#--- from neurd_packages ---\u001b[39;00m\n\u001b[1;32m   1736\u001b[0m \u001b[38;5;28;01mfrom\u001b[39;00m \u001b[38;5;21;01m.\u001b[39;00m \u001b[38;5;28;01mimport\u001b[39;00m axon_utils \u001b[38;5;28;01mas\u001b[39;00m au   \n\u001b[0;32m-> 1737\u001b[0m \u001b[38;5;28;01mfrom\u001b[39;00m \u001b[38;5;21;01m.\u001b[39;00m \u001b[38;5;28;01mimport\u001b[39;00m neuron_statistics \u001b[38;5;28;01mas\u001b[39;00m nst\n\u001b[1;32m   1738\u001b[0m \u001b[38;5;28;01mfrom\u001b[39;00m \u001b[38;5;21;01m.\u001b[39;00m \u001b[38;5;28;01mimport\u001b[39;00m neuron_utils \u001b[38;5;28;01mas\u001b[39;00m nru\n\u001b[1;32m   1739\u001b[0m \u001b[38;5;28;01mfrom\u001b[39;00m \u001b[38;5;21;01m.\u001b[39;00m \u001b[38;5;28;01mimport\u001b[39;00m neuron_visualizations \u001b[38;5;28;01mas\u001b[39;00m nviz\n",
      "File \u001b[0;32m/usr/local/lib/python3.8/dist-packages/neurd/neuron_statistics.py:3823\u001b[0m\n\u001b[1;32m   3774\u001b[0m \u001b[38;5;66;03m# data_type = \"default\"\u001b[39;00m\n\u001b[1;32m   3775\u001b[0m \u001b[38;5;66;03m# algorithms = None\u001b[39;00m\n\u001b[1;32m   3776\u001b[0m \n\u001b[0;32m   (...)\u001b[0m\n\u001b[1;32m   3820\u001b[0m \n\u001b[1;32m   3821\u001b[0m \u001b[38;5;66;03m#--- from neurd_packages ---\u001b[39;00m\n\u001b[1;32m   3822\u001b[0m \u001b[38;5;28;01mfrom\u001b[39;00m \u001b[38;5;21;01m.\u001b[39;00m \u001b[38;5;28;01mimport\u001b[39;00m axon_utils \u001b[38;5;28;01mas\u001b[39;00m au\n\u001b[0;32m-> 3823\u001b[0m \u001b[38;5;28;01mfrom\u001b[39;00m \u001b[38;5;21;01m.\u001b[39;00m \u001b[38;5;28;01mimport\u001b[39;00m branch_utils \u001b[38;5;28;01mas\u001b[39;00m bu\n\u001b[1;32m   3824\u001b[0m \u001b[38;5;28;01mfrom\u001b[39;00m \u001b[38;5;21;01m.\u001b[39;00m \u001b[38;5;28;01mimport\u001b[39;00m concept_network_utils \u001b[38;5;28;01mas\u001b[39;00m cnu\n\u001b[1;32m   3825\u001b[0m \u001b[38;5;28;01mfrom\u001b[39;00m \u001b[38;5;21;01m.\u001b[39;00m \u001b[38;5;28;01mimport\u001b[39;00m error_detection \u001b[38;5;28;01mas\u001b[39;00m ed\n",
      "File \u001b[0;32m/usr/local/lib/python3.8/dist-packages/neurd/branch_utils.py:1162\u001b[0m\n\u001b[1;32m   1112\u001b[0m attributes_dict_h01 \u001b[38;5;241m=\u001b[39m \u001b[38;5;28mdict\u001b[39m()\n\u001b[1;32m   1116\u001b[0m \u001b[38;5;66;03m# data_type = \"default\"\u001b[39;00m\n\u001b[1;32m   1117\u001b[0m \u001b[38;5;66;03m# algorithms = None\u001b[39;00m\n\u001b[1;32m   1118\u001b[0m \u001b[38;5;66;03m# modules_to_set = [bu]\u001b[39;00m\n\u001b[0;32m   (...)\u001b[0m\n\u001b[1;32m   1160\u001b[0m \n\u001b[1;32m   1161\u001b[0m \u001b[38;5;66;03m#--- from neurd_packages ---\u001b[39;00m\n\u001b[0;32m-> 1162\u001b[0m \u001b[38;5;28;01mfrom\u001b[39;00m \u001b[38;5;21;01m.\u001b[39;00m \u001b[38;5;28;01mimport\u001b[39;00m branch_attr_utils \u001b[38;5;28;01mas\u001b[39;00m bau\n\u001b[1;32m   1163\u001b[0m \u001b[38;5;28;01mfrom\u001b[39;00m \u001b[38;5;21;01m.\u001b[39;00m \u001b[38;5;28;01mimport\u001b[39;00m neuron_utils \u001b[38;5;28;01mas\u001b[39;00m nru\n\u001b[1;32m   1164\u001b[0m \u001b[38;5;28;01mfrom\u001b[39;00m \u001b[38;5;21;01m.\u001b[39;00m \u001b[38;5;28;01mimport\u001b[39;00m neuron_visualizations \u001b[38;5;28;01mas\u001b[39;00m nviz\n",
      "File \u001b[0;32m/usr/local/lib/python3.8/dist-packages/neurd/branch_attr_utils.py:175\u001b[0m\n\u001b[1;32m    173\u001b[0m \u001b[38;5;28;01mfrom\u001b[39;00m \u001b[38;5;21;01m.\u001b[39;00m \u001b[38;5;28;01mimport\u001b[39;00m branch_utils \u001b[38;5;28;01mas\u001b[39;00m bu\n\u001b[1;32m    174\u001b[0m \u001b[38;5;28;01mfrom\u001b[39;00m \u001b[38;5;21;01m.\u001b[39;00m \u001b[38;5;28;01mimport\u001b[39;00m neuron_statistics \u001b[38;5;28;01mas\u001b[39;00m nst\n\u001b[0;32m--> 175\u001b[0m \u001b[38;5;28;01mfrom\u001b[39;00m \u001b[38;5;21;01m.\u001b[39;00m \u001b[38;5;28;01mimport\u001b[39;00m neuron_utils \u001b[38;5;28;01mas\u001b[39;00m nru\n\u001b[1;32m    177\u001b[0m \u001b[38;5;66;03m#--- from mesh_tools ---\u001b[39;00m\n\u001b[1;32m    178\u001b[0m \u001b[38;5;28;01mfrom\u001b[39;00m \u001b[38;5;21;01mmesh_tools\u001b[39;00m \u001b[38;5;28;01mimport\u001b[39;00m skeleton_utils \u001b[38;5;28;01mas\u001b[39;00m sk\n",
      "File \u001b[0;32m/usr/local/lib/python3.8/dist-packages/neurd/neuron_utils.py:9840\u001b[0m\n\u001b[1;32m   9822\u001b[0m \u001b[38;5;66;03m# data_type = \"default\"\u001b[39;00m\n\u001b[1;32m   9823\u001b[0m \u001b[38;5;66;03m# algorithms = None\u001b[39;00m\n\u001b[1;32m   9824\u001b[0m \u001b[38;5;66;03m# modules_to_set = [nru]\u001b[39;00m\n\u001b[0;32m   (...)\u001b[0m\n\u001b[1;32m   9837\u001b[0m \n\u001b[1;32m   9838\u001b[0m \u001b[38;5;66;03m#--- from neurd_packages ---\u001b[39;00m\n\u001b[1;32m   9839\u001b[0m \u001b[38;5;28;01mfrom\u001b[39;00m \u001b[38;5;21;01m.\u001b[39;00m \u001b[38;5;28;01mimport\u001b[39;00m branch_utils \u001b[38;5;28;01mas\u001b[39;00m bu\n\u001b[0;32m-> 9840\u001b[0m \u001b[38;5;28;01mfrom\u001b[39;00m \u001b[38;5;21;01m.\u001b[39;00m \u001b[38;5;28;01mimport\u001b[39;00m classification_utils \u001b[38;5;28;01mas\u001b[39;00m clu\n\u001b[1;32m   9841\u001b[0m \u001b[38;5;28;01mfrom\u001b[39;00m \u001b[38;5;21;01m.\u001b[39;00m \u001b[38;5;28;01mimport\u001b[39;00m concept_network_utils \u001b[38;5;28;01mas\u001b[39;00m cnu\n\u001b[1;32m   9842\u001b[0m \u001b[38;5;28;01mfrom\u001b[39;00m \u001b[38;5;21;01m.\u001b[39;00m \u001b[38;5;28;01mimport\u001b[39;00m error_detection \u001b[38;5;28;01mas\u001b[39;00m ed\n",
      "File \u001b[0;32m/usr/local/lib/python3.8/dist-packages/neurd/classification_utils.py:2746\u001b[0m\n\u001b[1;32m   2694\u001b[0m attributes_dict_h01 \u001b[38;5;241m=\u001b[39m \u001b[38;5;28mdict\u001b[39m(\n\u001b[1;32m   2695\u001b[0m     vdi \u001b[38;5;241m=\u001b[39m hvu\u001b[38;5;241m.\u001b[39mdata_interface\n\u001b[1;32m   2696\u001b[0m )\n\u001b[1;32m   2699\u001b[0m \u001b[38;5;66;03m# data_type = \"default\"\u001b[39;00m\n\u001b[1;32m   2700\u001b[0m \u001b[38;5;66;03m# algorithms = None\u001b[39;00m\n\u001b[1;32m   2701\u001b[0m \n\u001b[0;32m   (...)\u001b[0m\n\u001b[1;32m   2744\u001b[0m \n\u001b[1;32m   2745\u001b[0m \u001b[38;5;66;03m#--- from neurd_packages ---\u001b[39;00m\n\u001b[0;32m-> 2746\u001b[0m \u001b[38;5;28;01mfrom\u001b[39;00m \u001b[38;5;21;01m.\u001b[39;00m \u001b[38;5;28;01mimport\u001b[39;00m neuron_searching \u001b[38;5;28;01mas\u001b[39;00m ns\n\u001b[1;32m   2747\u001b[0m \u001b[38;5;28;01mfrom\u001b[39;00m \u001b[38;5;21;01m.\u001b[39;00m \u001b[38;5;28;01mimport\u001b[39;00m neuron_statistics \u001b[38;5;28;01mas\u001b[39;00m nst\n\u001b[1;32m   2748\u001b[0m \u001b[38;5;28;01mfrom\u001b[39;00m \u001b[38;5;21;01m.\u001b[39;00m \u001b[38;5;28;01mimport\u001b[39;00m neuron_utils \u001b[38;5;28;01mas\u001b[39;00m nru\n",
      "File \u001b[0;32m/usr/local/lib/python3.8/dist-packages/neurd/neuron_searching.py:2293\u001b[0m\n\u001b[1;32m   2291\u001b[0m \u001b[38;5;28;01mfrom\u001b[39;00m \u001b[38;5;21;01m.\u001b[39;00m \u001b[38;5;28;01mimport\u001b[39;00m neuron_utils \u001b[38;5;28;01mas\u001b[39;00m nru\n\u001b[1;32m   2292\u001b[0m \u001b[38;5;28;01mfrom\u001b[39;00m \u001b[38;5;21;01m.\u001b[39;00m \u001b[38;5;28;01mimport\u001b[39;00m neuron_visualizations \u001b[38;5;28;01mas\u001b[39;00m nviz\n\u001b[0;32m-> 2293\u001b[0m \u001b[38;5;28;01mfrom\u001b[39;00m \u001b[38;5;21;01m.\u001b[39;00m \u001b[38;5;28;01mimport\u001b[39;00m synapse_utils\n\u001b[1;32m   2294\u001b[0m \u001b[38;5;28;01mfrom\u001b[39;00m \u001b[38;5;21;01m.\u001b[39;00m \u001b[38;5;28;01mimport\u001b[39;00m synapse_utils \u001b[38;5;28;01mas\u001b[39;00m syu\n\u001b[1;32m   2295\u001b[0m \u001b[38;5;28;01mfrom\u001b[39;00m \u001b[38;5;21;01m.\u001b[39;00m \u001b[38;5;28;01mimport\u001b[39;00m width_utils \u001b[38;5;28;01mas\u001b[39;00m wu\n",
      "File \u001b[0;32m/usr/local/lib/python3.8/dist-packages/neurd/synapse_utils.py:4460\u001b[0m\n\u001b[1;32m   4458\u001b[0m \u001b[38;5;28;01mfrom\u001b[39;00m \u001b[38;5;21;01m.\u001b[39;00m \u001b[38;5;28;01mimport\u001b[39;00m neuron_utils \u001b[38;5;28;01mas\u001b[39;00m nru\n\u001b[1;32m   4459\u001b[0m \u001b[38;5;28;01mfrom\u001b[39;00m \u001b[38;5;21;01m.\u001b[39;00m \u001b[38;5;28;01mimport\u001b[39;00m neuron_visualizations \u001b[38;5;28;01mas\u001b[39;00m nviz\n\u001b[0;32m-> 4460\u001b[0m \u001b[38;5;28;01mfrom\u001b[39;00m \u001b[38;5;21;01m.\u001b[39;00m \u001b[38;5;28;01mimport\u001b[39;00m proofreading_utils \u001b[38;5;28;01mas\u001b[39;00m pru\n\u001b[1;32m   4461\u001b[0m \u001b[38;5;28;01mfrom\u001b[39;00m \u001b[38;5;21;01m.\u001b[39;00m \u001b[38;5;28;01mimport\u001b[39;00m spine_utils \u001b[38;5;28;01mas\u001b[39;00m spu\n\u001b[1;32m   4463\u001b[0m presyns_on_dendrite_query \u001b[38;5;241m=\u001b[39m (\u001b[38;5;124m\"\u001b[39m\u001b[38;5;124m(label==\u001b[39m\u001b[38;5;124m'\u001b[39m\u001b[38;5;124mlimb_branch\u001b[39m\u001b[38;5;124m'\u001b[39m\u001b[38;5;124m) and ((compartment==\u001b[39m\u001b[38;5;124m'\u001b[39m\u001b[38;5;124mdendrite\u001b[39m\u001b[38;5;124m'\u001b[39m\u001b[38;5;124m) or \u001b[39m\u001b[38;5;124m\"\u001b[39m\n\u001b[1;32m   4464\u001b[0m                             \u001b[38;5;124mf\u001b[39m\u001b[38;5;124m\"\u001b[39m\u001b[38;5;124m (compartment in \u001b[39m\u001b[38;5;132;01m{\u001b[39;00mapu\u001b[38;5;241m.\u001b[39mdendrite_compartment_labels()\u001b[38;5;132;01m}\u001b[39;00m\u001b[38;5;124m)) and (syn_type==\u001b[39m\u001b[38;5;124m'\u001b[39m\u001b[38;5;124mpresyn\u001b[39m\u001b[38;5;124m'\u001b[39m\u001b[38;5;124m)\u001b[39m\u001b[38;5;124m\"\u001b[39m)\n",
      "File \u001b[0;32m/usr/local/lib/python3.8/dist-packages/neurd/proofreading_utils.py:7966\u001b[0m\n\u001b[1;32m   7964\u001b[0m \u001b[38;5;28;01mfrom\u001b[39;00m \u001b[38;5;21;01m.\u001b[39;00m \u001b[38;5;28;01mimport\u001b[39;00m neuron_utils \u001b[38;5;28;01mas\u001b[39;00m nru\n\u001b[1;32m   7965\u001b[0m \u001b[38;5;28;01mfrom\u001b[39;00m \u001b[38;5;21;01m.\u001b[39;00m \u001b[38;5;28;01mimport\u001b[39;00m neuron_visualizations \u001b[38;5;28;01mas\u001b[39;00m nviz\n\u001b[0;32m-> 7966\u001b[0m \u001b[38;5;28;01mfrom\u001b[39;00m \u001b[38;5;21;01m.\u001b[39;00m \u001b[38;5;28;01mimport\u001b[39;00m preprocess_neuron \u001b[38;5;28;01mas\u001b[39;00m pre\n\u001b[1;32m   7967\u001b[0m \u001b[38;5;28;01mfrom\u001b[39;00m \u001b[38;5;21;01m.\u001b[39;00m \u001b[38;5;28;01mimport\u001b[39;00m spine_utils \u001b[38;5;28;01mas\u001b[39;00m spu\n\u001b[1;32m   7968\u001b[0m \u001b[38;5;28;01mfrom\u001b[39;00m \u001b[38;5;21;01m.\u001b[39;00m \u001b[38;5;28;01mimport\u001b[39;00m synapse_utils \u001b[38;5;28;01mas\u001b[39;00m syu\n",
      "File \u001b[0;32m/usr/local/lib/python3.8/dist-packages/neurd/preprocess_neuron.py:5299\u001b[0m\n\u001b[1;32m   5297\u001b[0m \u001b[38;5;28;01mfrom\u001b[39;00m \u001b[38;5;21;01m.\u001b[39;00m \u001b[38;5;28;01mimport\u001b[39;00m neuron_visualizations \u001b[38;5;28;01mas\u001b[39;00m nviz\n\u001b[1;32m   5298\u001b[0m \u001b[38;5;28;01mfrom\u001b[39;00m \u001b[38;5;21;01m.\u001b[39;00m \u001b[38;5;28;01mimport\u001b[39;00m soma_extraction_utils \u001b[38;5;28;01mas\u001b[39;00m sm\n\u001b[0;32m-> 5299\u001b[0m \u001b[38;5;28;01mfrom\u001b[39;00m \u001b[38;5;21;01m.\u001b[39;00m \u001b[38;5;28;01mimport\u001b[39;00m spine_utils \u001b[38;5;28;01mas\u001b[39;00m spu\n\u001b[1;32m   5300\u001b[0m \u001b[38;5;28;01mfrom\u001b[39;00m \u001b[38;5;21;01m.\u001b[39;00m \u001b[38;5;28;01mimport\u001b[39;00m axon_utils \u001b[38;5;28;01mas\u001b[39;00m au\n\u001b[1;32m   5302\u001b[0m \u001b[38;5;66;03m#--- from mesh_tools ---\u001b[39;00m\n",
      "File \u001b[0;32m/usr/local/lib/python3.8/dist-packages/neurd/spine_utils.py:6376\u001b[0m\n\u001b[1;32m   6374\u001b[0m \u001b[38;5;28;01mfrom\u001b[39;00m \u001b[38;5;21;01m.\u001b[39;00m \u001b[38;5;28;01mimport\u001b[39;00m branch_attr_utils \u001b[38;5;28;01mas\u001b[39;00m bau\n\u001b[1;32m   6375\u001b[0m \u001b[38;5;28;01mfrom\u001b[39;00m \u001b[38;5;21;01m.\u001b[39;00m \u001b[38;5;28;01mimport\u001b[39;00m branch_utils \u001b[38;5;28;01mas\u001b[39;00m bu\n\u001b[0;32m-> 6376\u001b[0m \u001b[38;5;28;01mfrom\u001b[39;00m \u001b[38;5;21;01m.\u001b[39;00m \u001b[38;5;28;01mimport\u001b[39;00m cell_type_utils \u001b[38;5;28;01mas\u001b[39;00m ctu\n\u001b[1;32m   6377\u001b[0m \u001b[38;5;28;01mfrom\u001b[39;00m \u001b[38;5;21;01m.\u001b[39;00m \u001b[38;5;28;01mimport\u001b[39;00m neuron_searching \u001b[38;5;28;01mas\u001b[39;00m ns\n\u001b[1;32m   6378\u001b[0m \u001b[38;5;28;01mfrom\u001b[39;00m \u001b[38;5;21;01m.\u001b[39;00m \u001b[38;5;28;01mimport\u001b[39;00m neuron_statistics \u001b[38;5;28;01mas\u001b[39;00m nst\n",
      "File \u001b[0;32m/usr/local/lib/python3.8/dist-packages/neurd/cell_type_utils.py:1888\u001b[0m\n\u001b[1;32m   1884\u001b[0m \u001b[38;5;28;01mfrom\u001b[39;00m \u001b[38;5;21;01mdatasci_tools\u001b[39;00m \u001b[38;5;28;01mimport\u001b[39;00m system_utils \u001b[38;5;28;01mas\u001b[39;00m su\n\u001b[1;32m   1886\u001b[0m \u001b[38;5;28;01mfrom\u001b[39;00m \u001b[38;5;21;01m.\u001b[39;00m \u001b[38;5;28;01mimport\u001b[39;00m cell_type_utils \u001b[38;5;28;01mas\u001b[39;00m ctu\n\u001b[0;32m-> 1888\u001b[0m \u001b[43mset_e_i_model\u001b[49m\u001b[43m(\u001b[49m\u001b[43m)\u001b[49m\n",
      "File \u001b[0;32m/usr/local/lib/python3.8/dist-packages/neurd/cell_type_utils.py:907\u001b[0m, in \u001b[0;36mset_e_i_model\u001b[0;34m(features, label, add_features_to_model_obj, model_type, plot_map, return_new_model, **kwargs)\u001b[0m\n\u001b[1;32m    903\u001b[0m         \u001b[38;5;28;01mraise\u001b[39;00m \u001b[38;5;167;01mException\u001b[39;00m(\u001b[38;5;124mf\u001b[39m\u001b[38;5;124m\"\u001b[39m\u001b[38;5;124mUnimplemented model type: \u001b[39m\u001b[38;5;132;01m{\u001b[39;00mmodel_type\u001b[38;5;132;01m}\u001b[39;00m\u001b[38;5;124m\"\u001b[39m)\n\u001b[1;32m    906\u001b[0m \u001b[38;5;28;01melif\u001b[39;00m model_type \u001b[38;5;241m==\u001b[39m \u001b[38;5;124m\"\u001b[39m\u001b[38;5;124mlogistic_reg\u001b[39m\u001b[38;5;124m\"\u001b[39m:\n\u001b[0;32m--> 907\u001b[0m     clf \u001b[38;5;241m=\u001b[39m \u001b[43mctu\u001b[49m\u001b[38;5;241;43m.\u001b[39;49m\u001b[43me_i_model_as_logistic_reg_on_border_df\u001b[49m\u001b[43m(\u001b[49m\u001b[43mplot_decision_map\u001b[49m\u001b[43m \u001b[49m\u001b[38;5;241;43m=\u001b[39;49m\u001b[43m \u001b[49m\u001b[43mplot_map\u001b[49m\u001b[43m,\u001b[49m\u001b[38;5;241;43m*\u001b[39;49m\u001b[38;5;241;43m*\u001b[39;49m\u001b[43mkwargs\u001b[49m\u001b[43m)\u001b[49m\n\u001b[1;32m    909\u001b[0m \u001b[38;5;28;01mif\u001b[39;00m add_features_to_model_obj:\n\u001b[1;32m    910\u001b[0m     clf\u001b[38;5;241m.\u001b[39mfeatures \u001b[38;5;241m=\u001b[39m features\n",
      "File \u001b[0;32m/usr/local/lib/python3.8/dist-packages/neurd/cell_type_utils.py:1335\u001b[0m, in \u001b[0;36me_i_model_as_logistic_reg_on_border_df\u001b[0;34m(label, features, class_weight, plot_decision_map, plot_type, use_handmade_params, **kwargs)\u001b[0m\n\u001b[1;32m   1331\u001b[0m \u001b[38;5;28;01mif\u001b[39;00m features \u001b[38;5;129;01mis\u001b[39;00m \u001b[38;5;28;01mNone\u001b[39;00m:\n\u001b[1;32m   1332\u001b[0m     features \u001b[38;5;241m=\u001b[39m ctu\u001b[38;5;241m.\u001b[39me_i_model_features_default\n\u001b[0;32m-> 1335\u001b[0m \u001b[43mctu\u001b[49m\u001b[38;5;241;43m.\u001b[39;49m\u001b[43mload_border_exc_inh_df\u001b[49m\u001b[43m(\u001b[49m\u001b[43m)\u001b[49m\n\u001b[1;32m   1336\u001b[0m combined_df \u001b[38;5;241m=\u001b[39m pu\u001b[38;5;241m.\u001b[39mconcat([ctu\u001b[38;5;241m.\u001b[39mborder_exc_df,ctu\u001b[38;5;241m.\u001b[39mborder_inh_df])\n\u001b[1;32m   1338\u001b[0m clf \u001b[38;5;241m=\u001b[39m linear_model\u001b[38;5;241m.\u001b[39mLogisticRegression(class_weight\u001b[38;5;241m=\u001b[39mclass_weight,\u001b[38;5;241m*\u001b[39m\u001b[38;5;241m*\u001b[39mkwargs)\n",
      "File \u001b[0;32m/usr/local/lib/python3.8/dist-packages/neurd/cell_type_utils.py:1308\u001b[0m, in \u001b[0;36mload_border_exc_inh_df\u001b[0;34m(path, path_backup)\u001b[0m\n\u001b[1;32m   1306\u001b[0m     manual_df \u001b[38;5;241m=\u001b[39m pu\u001b[38;5;241m.\u001b[39mcsv_to_df(path)\n\u001b[1;32m   1307\u001b[0m \u001b[38;5;28;01mexcept\u001b[39;00m: \n\u001b[0;32m-> 1308\u001b[0m     manual_df \u001b[38;5;241m=\u001b[39m \u001b[43mpu\u001b[49m\u001b[38;5;241;43m.\u001b[39;49m\u001b[43mcsv_to_df\u001b[49m\u001b[43m(\u001b[49m\u001b[43mpath_backup\u001b[49m\u001b[43m)\u001b[49m\n\u001b[1;32m   1310\u001b[0m \u001b[38;5;28;01mglobal\u001b[39;00m border_exc_df\n\u001b[1;32m   1311\u001b[0m \u001b[38;5;28;01mglobal\u001b[39;00m border_inh_df\n",
      "File \u001b[0;32m/usr/local/lib/python3.8/dist-packages/datasci_tools/pandas_utils.py:777\u001b[0m, in \u001b[0;36mcsv_to_df\u001b[0;34m(csv_filepath, remove_unnamed_columns)\u001b[0m\n\u001b[1;32m    776\u001b[0m \u001b[38;5;28;01mdef\u001b[39;00m \u001b[38;5;21mcsv_to_df\u001b[39m(csv_filepath,remove_unnamed_columns\u001b[38;5;241m=\u001b[39m\u001b[38;5;28;01mTrue\u001b[39;00m):\n\u001b[0;32m--> 777\u001b[0m     return_df \u001b[38;5;241m=\u001b[39m \u001b[43mpd\u001b[49m\u001b[38;5;241;43m.\u001b[39;49m\u001b[43mread_csv\u001b[49m\u001b[43m(\u001b[49m\u001b[43mcsv_filepath\u001b[49m\u001b[43m)\u001b[49m \n\u001b[1;32m    778\u001b[0m     \u001b[38;5;28;01mif\u001b[39;00m remove_unnamed_columns:\n\u001b[1;32m    779\u001b[0m         return_df \u001b[38;5;241m=\u001b[39m pu\u001b[38;5;241m.\u001b[39mremove_unnamed_columns(return_df)\n",
      "File \u001b[0;32m/usr/local/lib/python3.8/dist-packages/pandas/io/parsers/readers.py:912\u001b[0m, in \u001b[0;36mread_csv\u001b[0;34m(filepath_or_buffer, sep, delimiter, header, names, index_col, usecols, dtype, engine, converters, true_values, false_values, skipinitialspace, skiprows, skipfooter, nrows, na_values, keep_default_na, na_filter, verbose, skip_blank_lines, parse_dates, infer_datetime_format, keep_date_col, date_parser, date_format, dayfirst, cache_dates, iterator, chunksize, compression, thousands, decimal, lineterminator, quotechar, quoting, doublequote, escapechar, comment, encoding, encoding_errors, dialect, on_bad_lines, delim_whitespace, low_memory, memory_map, float_precision, storage_options, dtype_backend)\u001b[0m\n\u001b[1;32m    899\u001b[0m kwds_defaults \u001b[38;5;241m=\u001b[39m _refine_defaults_read(\n\u001b[1;32m    900\u001b[0m     dialect,\n\u001b[1;32m    901\u001b[0m     delimiter,\n\u001b[0;32m   (...)\u001b[0m\n\u001b[1;32m    908\u001b[0m     dtype_backend\u001b[38;5;241m=\u001b[39mdtype_backend,\n\u001b[1;32m    909\u001b[0m )\n\u001b[1;32m    910\u001b[0m kwds\u001b[38;5;241m.\u001b[39mupdate(kwds_defaults)\n\u001b[0;32m--> 912\u001b[0m \u001b[38;5;28;01mreturn\u001b[39;00m \u001b[43m_read\u001b[49m\u001b[43m(\u001b[49m\u001b[43mfilepath_or_buffer\u001b[49m\u001b[43m,\u001b[49m\u001b[43m \u001b[49m\u001b[43mkwds\u001b[49m\u001b[43m)\u001b[49m\n",
      "File \u001b[0;32m/usr/local/lib/python3.8/dist-packages/pandas/io/parsers/readers.py:577\u001b[0m, in \u001b[0;36m_read\u001b[0;34m(filepath_or_buffer, kwds)\u001b[0m\n\u001b[1;32m    574\u001b[0m _validate_names(kwds\u001b[38;5;241m.\u001b[39mget(\u001b[38;5;124m\"\u001b[39m\u001b[38;5;124mnames\u001b[39m\u001b[38;5;124m\"\u001b[39m, \u001b[38;5;28;01mNone\u001b[39;00m))\n\u001b[1;32m    576\u001b[0m \u001b[38;5;66;03m# Create the parser.\u001b[39;00m\n\u001b[0;32m--> 577\u001b[0m parser \u001b[38;5;241m=\u001b[39m \u001b[43mTextFileReader\u001b[49m\u001b[43m(\u001b[49m\u001b[43mfilepath_or_buffer\u001b[49m\u001b[43m,\u001b[49m\u001b[43m \u001b[49m\u001b[38;5;241;43m*\u001b[39;49m\u001b[38;5;241;43m*\u001b[39;49m\u001b[43mkwds\u001b[49m\u001b[43m)\u001b[49m\n\u001b[1;32m    579\u001b[0m \u001b[38;5;28;01mif\u001b[39;00m chunksize \u001b[38;5;129;01mor\u001b[39;00m iterator:\n\u001b[1;32m    580\u001b[0m     \u001b[38;5;28;01mreturn\u001b[39;00m parser\n",
      "File \u001b[0;32m/usr/local/lib/python3.8/dist-packages/pandas/io/parsers/readers.py:1407\u001b[0m, in \u001b[0;36mTextFileReader.__init__\u001b[0;34m(self, f, engine, **kwds)\u001b[0m\n\u001b[1;32m   1404\u001b[0m     \u001b[38;5;28mself\u001b[39m\u001b[38;5;241m.\u001b[39moptions[\u001b[38;5;124m\"\u001b[39m\u001b[38;5;124mhas_index_names\u001b[39m\u001b[38;5;124m\"\u001b[39m] \u001b[38;5;241m=\u001b[39m kwds[\u001b[38;5;124m\"\u001b[39m\u001b[38;5;124mhas_index_names\u001b[39m\u001b[38;5;124m\"\u001b[39m]\n\u001b[1;32m   1406\u001b[0m \u001b[38;5;28mself\u001b[39m\u001b[38;5;241m.\u001b[39mhandles: IOHandles \u001b[38;5;241m|\u001b[39m \u001b[38;5;28;01mNone\u001b[39;00m \u001b[38;5;241m=\u001b[39m \u001b[38;5;28;01mNone\u001b[39;00m\n\u001b[0;32m-> 1407\u001b[0m \u001b[38;5;28mself\u001b[39m\u001b[38;5;241m.\u001b[39m_engine \u001b[38;5;241m=\u001b[39m \u001b[38;5;28;43mself\u001b[39;49m\u001b[38;5;241;43m.\u001b[39;49m\u001b[43m_make_engine\u001b[49m\u001b[43m(\u001b[49m\u001b[43mf\u001b[49m\u001b[43m,\u001b[49m\u001b[43m \u001b[49m\u001b[38;5;28;43mself\u001b[39;49m\u001b[38;5;241;43m.\u001b[39;49m\u001b[43mengine\u001b[49m\u001b[43m)\u001b[49m\n",
      "File \u001b[0;32m/usr/local/lib/python3.8/dist-packages/pandas/io/parsers/readers.py:1661\u001b[0m, in \u001b[0;36mTextFileReader._make_engine\u001b[0;34m(self, f, engine)\u001b[0m\n\u001b[1;32m   1659\u001b[0m     \u001b[38;5;28;01mif\u001b[39;00m \u001b[38;5;124m\"\u001b[39m\u001b[38;5;124mb\u001b[39m\u001b[38;5;124m\"\u001b[39m \u001b[38;5;129;01mnot\u001b[39;00m \u001b[38;5;129;01min\u001b[39;00m mode:\n\u001b[1;32m   1660\u001b[0m         mode \u001b[38;5;241m+\u001b[39m\u001b[38;5;241m=\u001b[39m \u001b[38;5;124m\"\u001b[39m\u001b[38;5;124mb\u001b[39m\u001b[38;5;124m\"\u001b[39m\n\u001b[0;32m-> 1661\u001b[0m \u001b[38;5;28mself\u001b[39m\u001b[38;5;241m.\u001b[39mhandles \u001b[38;5;241m=\u001b[39m \u001b[43mget_handle\u001b[49m\u001b[43m(\u001b[49m\n\u001b[1;32m   1662\u001b[0m \u001b[43m    \u001b[49m\u001b[43mf\u001b[49m\u001b[43m,\u001b[49m\n\u001b[1;32m   1663\u001b[0m \u001b[43m    \u001b[49m\u001b[43mmode\u001b[49m\u001b[43m,\u001b[49m\n\u001b[1;32m   1664\u001b[0m \u001b[43m    \u001b[49m\u001b[43mencoding\u001b[49m\u001b[38;5;241;43m=\u001b[39;49m\u001b[38;5;28;43mself\u001b[39;49m\u001b[38;5;241;43m.\u001b[39;49m\u001b[43moptions\u001b[49m\u001b[38;5;241;43m.\u001b[39;49m\u001b[43mget\u001b[49m\u001b[43m(\u001b[49m\u001b[38;5;124;43m\"\u001b[39;49m\u001b[38;5;124;43mencoding\u001b[39;49m\u001b[38;5;124;43m\"\u001b[39;49m\u001b[43m,\u001b[49m\u001b[43m \u001b[49m\u001b[38;5;28;43;01mNone\u001b[39;49;00m\u001b[43m)\u001b[49m\u001b[43m,\u001b[49m\n\u001b[1;32m   1665\u001b[0m \u001b[43m    \u001b[49m\u001b[43mcompression\u001b[49m\u001b[38;5;241;43m=\u001b[39;49m\u001b[38;5;28;43mself\u001b[39;49m\u001b[38;5;241;43m.\u001b[39;49m\u001b[43moptions\u001b[49m\u001b[38;5;241;43m.\u001b[39;49m\u001b[43mget\u001b[49m\u001b[43m(\u001b[49m\u001b[38;5;124;43m\"\u001b[39;49m\u001b[38;5;124;43mcompression\u001b[39;49m\u001b[38;5;124;43m\"\u001b[39;49m\u001b[43m,\u001b[49m\u001b[43m \u001b[49m\u001b[38;5;28;43;01mNone\u001b[39;49;00m\u001b[43m)\u001b[49m\u001b[43m,\u001b[49m\n\u001b[1;32m   1666\u001b[0m \u001b[43m    \u001b[49m\u001b[43mmemory_map\u001b[49m\u001b[38;5;241;43m=\u001b[39;49m\u001b[38;5;28;43mself\u001b[39;49m\u001b[38;5;241;43m.\u001b[39;49m\u001b[43moptions\u001b[49m\u001b[38;5;241;43m.\u001b[39;49m\u001b[43mget\u001b[49m\u001b[43m(\u001b[49m\u001b[38;5;124;43m\"\u001b[39;49m\u001b[38;5;124;43mmemory_map\u001b[39;49m\u001b[38;5;124;43m\"\u001b[39;49m\u001b[43m,\u001b[49m\u001b[43m \u001b[49m\u001b[38;5;28;43;01mFalse\u001b[39;49;00m\u001b[43m)\u001b[49m\u001b[43m,\u001b[49m\n\u001b[1;32m   1667\u001b[0m \u001b[43m    \u001b[49m\u001b[43mis_text\u001b[49m\u001b[38;5;241;43m=\u001b[39;49m\u001b[43mis_text\u001b[49m\u001b[43m,\u001b[49m\n\u001b[1;32m   1668\u001b[0m \u001b[43m    \u001b[49m\u001b[43merrors\u001b[49m\u001b[38;5;241;43m=\u001b[39;49m\u001b[38;5;28;43mself\u001b[39;49m\u001b[38;5;241;43m.\u001b[39;49m\u001b[43moptions\u001b[49m\u001b[38;5;241;43m.\u001b[39;49m\u001b[43mget\u001b[49m\u001b[43m(\u001b[49m\u001b[38;5;124;43m\"\u001b[39;49m\u001b[38;5;124;43mencoding_errors\u001b[39;49m\u001b[38;5;124;43m\"\u001b[39;49m\u001b[43m,\u001b[49m\u001b[43m \u001b[49m\u001b[38;5;124;43m\"\u001b[39;49m\u001b[38;5;124;43mstrict\u001b[39;49m\u001b[38;5;124;43m\"\u001b[39;49m\u001b[43m)\u001b[49m\u001b[43m,\u001b[49m\n\u001b[1;32m   1669\u001b[0m \u001b[43m    \u001b[49m\u001b[43mstorage_options\u001b[49m\u001b[38;5;241;43m=\u001b[39;49m\u001b[38;5;28;43mself\u001b[39;49m\u001b[38;5;241;43m.\u001b[39;49m\u001b[43moptions\u001b[49m\u001b[38;5;241;43m.\u001b[39;49m\u001b[43mget\u001b[49m\u001b[43m(\u001b[49m\u001b[38;5;124;43m\"\u001b[39;49m\u001b[38;5;124;43mstorage_options\u001b[39;49m\u001b[38;5;124;43m\"\u001b[39;49m\u001b[43m,\u001b[49m\u001b[43m \u001b[49m\u001b[38;5;28;43;01mNone\u001b[39;49;00m\u001b[43m)\u001b[49m\u001b[43m,\u001b[49m\n\u001b[1;32m   1670\u001b[0m \u001b[43m\u001b[49m\u001b[43m)\u001b[49m\n\u001b[1;32m   1671\u001b[0m \u001b[38;5;28;01massert\u001b[39;00m \u001b[38;5;28mself\u001b[39m\u001b[38;5;241m.\u001b[39mhandles \u001b[38;5;129;01mis\u001b[39;00m \u001b[38;5;129;01mnot\u001b[39;00m \u001b[38;5;28;01mNone\u001b[39;00m\n\u001b[1;32m   1672\u001b[0m f \u001b[38;5;241m=\u001b[39m \u001b[38;5;28mself\u001b[39m\u001b[38;5;241m.\u001b[39mhandles\u001b[38;5;241m.\u001b[39mhandle\n",
      "File \u001b[0;32m/usr/local/lib/python3.8/dist-packages/pandas/io/common.py:859\u001b[0m, in \u001b[0;36mget_handle\u001b[0;34m(path_or_buf, mode, encoding, compression, memory_map, is_text, errors, storage_options)\u001b[0m\n\u001b[1;32m    854\u001b[0m \u001b[38;5;28;01melif\u001b[39;00m \u001b[38;5;28misinstance\u001b[39m(handle, \u001b[38;5;28mstr\u001b[39m):\n\u001b[1;32m    855\u001b[0m     \u001b[38;5;66;03m# Check whether the filename is to be opened in binary mode.\u001b[39;00m\n\u001b[1;32m    856\u001b[0m     \u001b[38;5;66;03m# Binary mode does not support 'encoding' and 'newline'.\u001b[39;00m\n\u001b[1;32m    857\u001b[0m     \u001b[38;5;28;01mif\u001b[39;00m ioargs\u001b[38;5;241m.\u001b[39mencoding \u001b[38;5;129;01mand\u001b[39;00m \u001b[38;5;124m\"\u001b[39m\u001b[38;5;124mb\u001b[39m\u001b[38;5;124m\"\u001b[39m \u001b[38;5;129;01mnot\u001b[39;00m \u001b[38;5;129;01min\u001b[39;00m ioargs\u001b[38;5;241m.\u001b[39mmode:\n\u001b[1;32m    858\u001b[0m         \u001b[38;5;66;03m# Encoding\u001b[39;00m\n\u001b[0;32m--> 859\u001b[0m         handle \u001b[38;5;241m=\u001b[39m \u001b[38;5;28;43mopen\u001b[39;49m\u001b[43m(\u001b[49m\n\u001b[1;32m    860\u001b[0m \u001b[43m            \u001b[49m\u001b[43mhandle\u001b[49m\u001b[43m,\u001b[49m\n\u001b[1;32m    861\u001b[0m \u001b[43m            \u001b[49m\u001b[43mioargs\u001b[49m\u001b[38;5;241;43m.\u001b[39;49m\u001b[43mmode\u001b[49m\u001b[43m,\u001b[49m\n\u001b[1;32m    862\u001b[0m \u001b[43m            \u001b[49m\u001b[43mencoding\u001b[49m\u001b[38;5;241;43m=\u001b[39;49m\u001b[43mioargs\u001b[49m\u001b[38;5;241;43m.\u001b[39;49m\u001b[43mencoding\u001b[49m\u001b[43m,\u001b[49m\n\u001b[1;32m    863\u001b[0m \u001b[43m            \u001b[49m\u001b[43merrors\u001b[49m\u001b[38;5;241;43m=\u001b[39;49m\u001b[43merrors\u001b[49m\u001b[43m,\u001b[49m\n\u001b[1;32m    864\u001b[0m \u001b[43m            \u001b[49m\u001b[43mnewline\u001b[49m\u001b[38;5;241;43m=\u001b[39;49m\u001b[38;5;124;43m\"\u001b[39;49m\u001b[38;5;124;43m\"\u001b[39;49m\u001b[43m,\u001b[49m\n\u001b[1;32m    865\u001b[0m \u001b[43m        \u001b[49m\u001b[43m)\u001b[49m\n\u001b[1;32m    866\u001b[0m     \u001b[38;5;28;01melse\u001b[39;00m:\n\u001b[1;32m    867\u001b[0m         \u001b[38;5;66;03m# Binary mode\u001b[39;00m\n\u001b[1;32m    868\u001b[0m         handle \u001b[38;5;241m=\u001b[39m \u001b[38;5;28mopen\u001b[39m(handle, ioargs\u001b[38;5;241m.\u001b[39mmode)\n",
      "\u001b[0;31mFileNotFoundError\u001b[0m: [Errno 2] No such file or directory: '/neurd_packages/meshAfterParty/meshAfterParty/border_df_for_e_i_improved.pbz2'"
     ]
    }
   ],
   "source": [
    "# assumes your caveclient token is stored in an env file\n",
    "from neurd.vdi_microns_cave import volume_data_interface as vdi"
   ]
  },
  {
   "cell_type": "code",
   "execution_count": 15,
   "id": "ccbaeb99",
   "metadata": {},
   "outputs": [
    {
     "ename": "FileNotFoundError",
     "evalue": "[Errno 2] No such file or directory: '/neurd_packages/meshAfterParty/meshAfterParty/border_df_for_e_i_improved.pbz2'",
     "output_type": "error",
     "traceback": [
      "\u001b[0;31m---------------------------------------------------------------------------\u001b[0m",
      "\u001b[0;31mFileNotFoundError\u001b[0m                         Traceback (most recent call last)",
      "File \u001b[0;32m/usr/local/lib/python3.8/dist-packages/neurd/cell_type_utils.py:1306\u001b[0m, in \u001b[0;36mload_border_exc_inh_df\u001b[0;34m(path, path_backup)\u001b[0m\n\u001b[1;32m   1305\u001b[0m \u001b[38;5;28;01mtry\u001b[39;00m:\n\u001b[0;32m-> 1306\u001b[0m     manual_df \u001b[38;5;241m=\u001b[39m \u001b[43mpu\u001b[49m\u001b[38;5;241;43m.\u001b[39;49m\u001b[43mcsv_to_df\u001b[49m\u001b[43m(\u001b[49m\u001b[43mpath\u001b[49m\u001b[43m)\u001b[49m\n\u001b[1;32m   1307\u001b[0m \u001b[38;5;28;01mexcept\u001b[39;00m: \n",
      "File \u001b[0;32m/usr/local/lib/python3.8/dist-packages/datasci_tools/pandas_utils.py:777\u001b[0m, in \u001b[0;36mcsv_to_df\u001b[0;34m(csv_filepath, remove_unnamed_columns)\u001b[0m\n\u001b[1;32m    776\u001b[0m \u001b[38;5;28;01mdef\u001b[39;00m \u001b[38;5;21mcsv_to_df\u001b[39m(csv_filepath,remove_unnamed_columns\u001b[38;5;241m=\u001b[39m\u001b[38;5;28;01mTrue\u001b[39;00m):\n\u001b[0;32m--> 777\u001b[0m     return_df \u001b[38;5;241m=\u001b[39m \u001b[43mpd\u001b[49m\u001b[38;5;241;43m.\u001b[39;49m\u001b[43mread_csv\u001b[49m\u001b[43m(\u001b[49m\u001b[43mcsv_filepath\u001b[49m\u001b[43m)\u001b[49m \n\u001b[1;32m    778\u001b[0m     \u001b[38;5;28;01mif\u001b[39;00m remove_unnamed_columns:\n",
      "File \u001b[0;32m/usr/local/lib/python3.8/dist-packages/pandas/io/parsers/readers.py:912\u001b[0m, in \u001b[0;36mread_csv\u001b[0;34m(filepath_or_buffer, sep, delimiter, header, names, index_col, usecols, dtype, engine, converters, true_values, false_values, skipinitialspace, skiprows, skipfooter, nrows, na_values, keep_default_na, na_filter, verbose, skip_blank_lines, parse_dates, infer_datetime_format, keep_date_col, date_parser, date_format, dayfirst, cache_dates, iterator, chunksize, compression, thousands, decimal, lineterminator, quotechar, quoting, doublequote, escapechar, comment, encoding, encoding_errors, dialect, on_bad_lines, delim_whitespace, low_memory, memory_map, float_precision, storage_options, dtype_backend)\u001b[0m\n\u001b[1;32m    910\u001b[0m kwds\u001b[38;5;241m.\u001b[39mupdate(kwds_defaults)\n\u001b[0;32m--> 912\u001b[0m \u001b[38;5;28;01mreturn\u001b[39;00m \u001b[43m_read\u001b[49m\u001b[43m(\u001b[49m\u001b[43mfilepath_or_buffer\u001b[49m\u001b[43m,\u001b[49m\u001b[43m \u001b[49m\u001b[43mkwds\u001b[49m\u001b[43m)\u001b[49m\n",
      "File \u001b[0;32m/usr/local/lib/python3.8/dist-packages/pandas/io/parsers/readers.py:577\u001b[0m, in \u001b[0;36m_read\u001b[0;34m(filepath_or_buffer, kwds)\u001b[0m\n\u001b[1;32m    576\u001b[0m \u001b[38;5;66;03m# Create the parser.\u001b[39;00m\n\u001b[0;32m--> 577\u001b[0m parser \u001b[38;5;241m=\u001b[39m \u001b[43mTextFileReader\u001b[49m\u001b[43m(\u001b[49m\u001b[43mfilepath_or_buffer\u001b[49m\u001b[43m,\u001b[49m\u001b[43m \u001b[49m\u001b[38;5;241;43m*\u001b[39;49m\u001b[38;5;241;43m*\u001b[39;49m\u001b[43mkwds\u001b[49m\u001b[43m)\u001b[49m\n\u001b[1;32m    579\u001b[0m \u001b[38;5;28;01mif\u001b[39;00m chunksize \u001b[38;5;129;01mor\u001b[39;00m iterator:\n",
      "File \u001b[0;32m/usr/local/lib/python3.8/dist-packages/pandas/io/parsers/readers.py:1407\u001b[0m, in \u001b[0;36mTextFileReader.__init__\u001b[0;34m(self, f, engine, **kwds)\u001b[0m\n\u001b[1;32m   1406\u001b[0m \u001b[38;5;28mself\u001b[39m\u001b[38;5;241m.\u001b[39mhandles: IOHandles \u001b[38;5;241m|\u001b[39m \u001b[38;5;28;01mNone\u001b[39;00m \u001b[38;5;241m=\u001b[39m \u001b[38;5;28;01mNone\u001b[39;00m\n\u001b[0;32m-> 1407\u001b[0m \u001b[38;5;28mself\u001b[39m\u001b[38;5;241m.\u001b[39m_engine \u001b[38;5;241m=\u001b[39m \u001b[38;5;28;43mself\u001b[39;49m\u001b[38;5;241;43m.\u001b[39;49m\u001b[43m_make_engine\u001b[49m\u001b[43m(\u001b[49m\u001b[43mf\u001b[49m\u001b[43m,\u001b[49m\u001b[43m \u001b[49m\u001b[38;5;28;43mself\u001b[39;49m\u001b[38;5;241;43m.\u001b[39;49m\u001b[43mengine\u001b[49m\u001b[43m)\u001b[49m\n",
      "File \u001b[0;32m/usr/local/lib/python3.8/dist-packages/pandas/io/parsers/readers.py:1661\u001b[0m, in \u001b[0;36mTextFileReader._make_engine\u001b[0;34m(self, f, engine)\u001b[0m\n\u001b[1;32m   1660\u001b[0m         mode \u001b[38;5;241m+\u001b[39m\u001b[38;5;241m=\u001b[39m \u001b[38;5;124m\"\u001b[39m\u001b[38;5;124mb\u001b[39m\u001b[38;5;124m\"\u001b[39m\n\u001b[0;32m-> 1661\u001b[0m \u001b[38;5;28mself\u001b[39m\u001b[38;5;241m.\u001b[39mhandles \u001b[38;5;241m=\u001b[39m \u001b[43mget_handle\u001b[49m\u001b[43m(\u001b[49m\n\u001b[1;32m   1662\u001b[0m \u001b[43m    \u001b[49m\u001b[43mf\u001b[49m\u001b[43m,\u001b[49m\n\u001b[1;32m   1663\u001b[0m \u001b[43m    \u001b[49m\u001b[43mmode\u001b[49m\u001b[43m,\u001b[49m\n\u001b[1;32m   1664\u001b[0m \u001b[43m    \u001b[49m\u001b[43mencoding\u001b[49m\u001b[38;5;241;43m=\u001b[39;49m\u001b[38;5;28;43mself\u001b[39;49m\u001b[38;5;241;43m.\u001b[39;49m\u001b[43moptions\u001b[49m\u001b[38;5;241;43m.\u001b[39;49m\u001b[43mget\u001b[49m\u001b[43m(\u001b[49m\u001b[38;5;124;43m\"\u001b[39;49m\u001b[38;5;124;43mencoding\u001b[39;49m\u001b[38;5;124;43m\"\u001b[39;49m\u001b[43m,\u001b[49m\u001b[43m \u001b[49m\u001b[38;5;28;43;01mNone\u001b[39;49;00m\u001b[43m)\u001b[49m\u001b[43m,\u001b[49m\n\u001b[1;32m   1665\u001b[0m \u001b[43m    \u001b[49m\u001b[43mcompression\u001b[49m\u001b[38;5;241;43m=\u001b[39;49m\u001b[38;5;28;43mself\u001b[39;49m\u001b[38;5;241;43m.\u001b[39;49m\u001b[43moptions\u001b[49m\u001b[38;5;241;43m.\u001b[39;49m\u001b[43mget\u001b[49m\u001b[43m(\u001b[49m\u001b[38;5;124;43m\"\u001b[39;49m\u001b[38;5;124;43mcompression\u001b[39;49m\u001b[38;5;124;43m\"\u001b[39;49m\u001b[43m,\u001b[49m\u001b[43m \u001b[49m\u001b[38;5;28;43;01mNone\u001b[39;49;00m\u001b[43m)\u001b[49m\u001b[43m,\u001b[49m\n\u001b[1;32m   1666\u001b[0m \u001b[43m    \u001b[49m\u001b[43mmemory_map\u001b[49m\u001b[38;5;241;43m=\u001b[39;49m\u001b[38;5;28;43mself\u001b[39;49m\u001b[38;5;241;43m.\u001b[39;49m\u001b[43moptions\u001b[49m\u001b[38;5;241;43m.\u001b[39;49m\u001b[43mget\u001b[49m\u001b[43m(\u001b[49m\u001b[38;5;124;43m\"\u001b[39;49m\u001b[38;5;124;43mmemory_map\u001b[39;49m\u001b[38;5;124;43m\"\u001b[39;49m\u001b[43m,\u001b[49m\u001b[43m \u001b[49m\u001b[38;5;28;43;01mFalse\u001b[39;49;00m\u001b[43m)\u001b[49m\u001b[43m,\u001b[49m\n\u001b[1;32m   1667\u001b[0m \u001b[43m    \u001b[49m\u001b[43mis_text\u001b[49m\u001b[38;5;241;43m=\u001b[39;49m\u001b[43mis_text\u001b[49m\u001b[43m,\u001b[49m\n\u001b[1;32m   1668\u001b[0m \u001b[43m    \u001b[49m\u001b[43merrors\u001b[49m\u001b[38;5;241;43m=\u001b[39;49m\u001b[38;5;28;43mself\u001b[39;49m\u001b[38;5;241;43m.\u001b[39;49m\u001b[43moptions\u001b[49m\u001b[38;5;241;43m.\u001b[39;49m\u001b[43mget\u001b[49m\u001b[43m(\u001b[49m\u001b[38;5;124;43m\"\u001b[39;49m\u001b[38;5;124;43mencoding_errors\u001b[39;49m\u001b[38;5;124;43m\"\u001b[39;49m\u001b[43m,\u001b[49m\u001b[43m \u001b[49m\u001b[38;5;124;43m\"\u001b[39;49m\u001b[38;5;124;43mstrict\u001b[39;49m\u001b[38;5;124;43m\"\u001b[39;49m\u001b[43m)\u001b[49m\u001b[43m,\u001b[49m\n\u001b[1;32m   1669\u001b[0m \u001b[43m    \u001b[49m\u001b[43mstorage_options\u001b[49m\u001b[38;5;241;43m=\u001b[39;49m\u001b[38;5;28;43mself\u001b[39;49m\u001b[38;5;241;43m.\u001b[39;49m\u001b[43moptions\u001b[49m\u001b[38;5;241;43m.\u001b[39;49m\u001b[43mget\u001b[49m\u001b[43m(\u001b[49m\u001b[38;5;124;43m\"\u001b[39;49m\u001b[38;5;124;43mstorage_options\u001b[39;49m\u001b[38;5;124;43m\"\u001b[39;49m\u001b[43m,\u001b[49m\u001b[43m \u001b[49m\u001b[38;5;28;43;01mNone\u001b[39;49;00m\u001b[43m)\u001b[49m\u001b[43m,\u001b[49m\n\u001b[1;32m   1670\u001b[0m \u001b[43m\u001b[49m\u001b[43m)\u001b[49m\n\u001b[1;32m   1671\u001b[0m \u001b[38;5;28;01massert\u001b[39;00m \u001b[38;5;28mself\u001b[39m\u001b[38;5;241m.\u001b[39mhandles \u001b[38;5;129;01mis\u001b[39;00m \u001b[38;5;129;01mnot\u001b[39;00m \u001b[38;5;28;01mNone\u001b[39;00m\n",
      "File \u001b[0;32m/usr/local/lib/python3.8/dist-packages/pandas/io/common.py:859\u001b[0m, in \u001b[0;36mget_handle\u001b[0;34m(path_or_buf, mode, encoding, compression, memory_map, is_text, errors, storage_options)\u001b[0m\n\u001b[1;32m    857\u001b[0m \u001b[38;5;28;01mif\u001b[39;00m ioargs\u001b[38;5;241m.\u001b[39mencoding \u001b[38;5;129;01mand\u001b[39;00m \u001b[38;5;124m\"\u001b[39m\u001b[38;5;124mb\u001b[39m\u001b[38;5;124m\"\u001b[39m \u001b[38;5;129;01mnot\u001b[39;00m \u001b[38;5;129;01min\u001b[39;00m ioargs\u001b[38;5;241m.\u001b[39mmode:\n\u001b[1;32m    858\u001b[0m     \u001b[38;5;66;03m# Encoding\u001b[39;00m\n\u001b[0;32m--> 859\u001b[0m     handle \u001b[38;5;241m=\u001b[39m \u001b[38;5;28;43mopen\u001b[39;49m\u001b[43m(\u001b[49m\n\u001b[1;32m    860\u001b[0m \u001b[43m        \u001b[49m\u001b[43mhandle\u001b[49m\u001b[43m,\u001b[49m\n\u001b[1;32m    861\u001b[0m \u001b[43m        \u001b[49m\u001b[43mioargs\u001b[49m\u001b[38;5;241;43m.\u001b[39;49m\u001b[43mmode\u001b[49m\u001b[43m,\u001b[49m\n\u001b[1;32m    862\u001b[0m \u001b[43m        \u001b[49m\u001b[43mencoding\u001b[49m\u001b[38;5;241;43m=\u001b[39;49m\u001b[43mioargs\u001b[49m\u001b[38;5;241;43m.\u001b[39;49m\u001b[43mencoding\u001b[49m\u001b[43m,\u001b[49m\n\u001b[1;32m    863\u001b[0m \u001b[43m        \u001b[49m\u001b[43merrors\u001b[49m\u001b[38;5;241;43m=\u001b[39;49m\u001b[43merrors\u001b[49m\u001b[43m,\u001b[49m\n\u001b[1;32m    864\u001b[0m \u001b[43m        \u001b[49m\u001b[43mnewline\u001b[49m\u001b[38;5;241;43m=\u001b[39;49m\u001b[38;5;124;43m\"\u001b[39;49m\u001b[38;5;124;43m\"\u001b[39;49m\u001b[43m,\u001b[49m\n\u001b[1;32m    865\u001b[0m \u001b[43m    \u001b[49m\u001b[43m)\u001b[49m\n\u001b[1;32m    866\u001b[0m \u001b[38;5;28;01melse\u001b[39;00m:\n\u001b[1;32m    867\u001b[0m     \u001b[38;5;66;03m# Binary mode\u001b[39;00m\n",
      "\u001b[0;31mFileNotFoundError\u001b[0m: [Errno 2] No such file or directory: '/usr/local/lib/python3.8/dist-packages/neurd/border_df_for_e_i_improved.csv'",
      "\nDuring handling of the above exception, another exception occurred:\n",
      "\u001b[0;31mFileNotFoundError\u001b[0m                         Traceback (most recent call last)",
      "Cell \u001b[0;32mIn[15], line 1\u001b[0m\n\u001b[0;32m----> 1\u001b[0m \u001b[38;5;28;01mfrom\u001b[39;00m \u001b[38;5;21;01mneurd\u001b[39;00m \u001b[38;5;28;01mimport\u001b[39;00m cell_type_utils \u001b[38;5;28;01mas\u001b[39;00m ctu\n",
      "File \u001b[0;32m/usr/local/lib/python3.8/dist-packages/neurd/cell_type_utils.py:1888\u001b[0m\n\u001b[1;32m   1884\u001b[0m \u001b[38;5;28;01mfrom\u001b[39;00m \u001b[38;5;21;01mdatasci_tools\u001b[39;00m \u001b[38;5;28;01mimport\u001b[39;00m system_utils \u001b[38;5;28;01mas\u001b[39;00m su\n\u001b[1;32m   1886\u001b[0m \u001b[38;5;28;01mfrom\u001b[39;00m \u001b[38;5;21;01m.\u001b[39;00m \u001b[38;5;28;01mimport\u001b[39;00m cell_type_utils \u001b[38;5;28;01mas\u001b[39;00m ctu\n\u001b[0;32m-> 1888\u001b[0m \u001b[43mset_e_i_model\u001b[49m\u001b[43m(\u001b[49m\u001b[43m)\u001b[49m\n",
      "File \u001b[0;32m/usr/local/lib/python3.8/dist-packages/neurd/cell_type_utils.py:907\u001b[0m, in \u001b[0;36mset_e_i_model\u001b[0;34m(features, label, add_features_to_model_obj, model_type, plot_map, return_new_model, **kwargs)\u001b[0m\n\u001b[1;32m    903\u001b[0m         \u001b[38;5;28;01mraise\u001b[39;00m \u001b[38;5;167;01mException\u001b[39;00m(\u001b[38;5;124mf\u001b[39m\u001b[38;5;124m\"\u001b[39m\u001b[38;5;124mUnimplemented model type: \u001b[39m\u001b[38;5;132;01m{\u001b[39;00mmodel_type\u001b[38;5;132;01m}\u001b[39;00m\u001b[38;5;124m\"\u001b[39m)\n\u001b[1;32m    906\u001b[0m \u001b[38;5;28;01melif\u001b[39;00m model_type \u001b[38;5;241m==\u001b[39m \u001b[38;5;124m\"\u001b[39m\u001b[38;5;124mlogistic_reg\u001b[39m\u001b[38;5;124m\"\u001b[39m:\n\u001b[0;32m--> 907\u001b[0m     clf \u001b[38;5;241m=\u001b[39m \u001b[43mctu\u001b[49m\u001b[38;5;241;43m.\u001b[39;49m\u001b[43me_i_model_as_logistic_reg_on_border_df\u001b[49m\u001b[43m(\u001b[49m\u001b[43mplot_decision_map\u001b[49m\u001b[43m \u001b[49m\u001b[38;5;241;43m=\u001b[39;49m\u001b[43m \u001b[49m\u001b[43mplot_map\u001b[49m\u001b[43m,\u001b[49m\u001b[38;5;241;43m*\u001b[39;49m\u001b[38;5;241;43m*\u001b[39;49m\u001b[43mkwargs\u001b[49m\u001b[43m)\u001b[49m\n\u001b[1;32m    909\u001b[0m \u001b[38;5;28;01mif\u001b[39;00m add_features_to_model_obj:\n\u001b[1;32m    910\u001b[0m     clf\u001b[38;5;241m.\u001b[39mfeatures \u001b[38;5;241m=\u001b[39m features\n",
      "File \u001b[0;32m/usr/local/lib/python3.8/dist-packages/neurd/cell_type_utils.py:1335\u001b[0m, in \u001b[0;36me_i_model_as_logistic_reg_on_border_df\u001b[0;34m(label, features, class_weight, plot_decision_map, plot_type, use_handmade_params, **kwargs)\u001b[0m\n\u001b[1;32m   1331\u001b[0m \u001b[38;5;28;01mif\u001b[39;00m features \u001b[38;5;129;01mis\u001b[39;00m \u001b[38;5;28;01mNone\u001b[39;00m:\n\u001b[1;32m   1332\u001b[0m     features \u001b[38;5;241m=\u001b[39m ctu\u001b[38;5;241m.\u001b[39me_i_model_features_default\n\u001b[0;32m-> 1335\u001b[0m \u001b[43mctu\u001b[49m\u001b[38;5;241;43m.\u001b[39;49m\u001b[43mload_border_exc_inh_df\u001b[49m\u001b[43m(\u001b[49m\u001b[43m)\u001b[49m\n\u001b[1;32m   1336\u001b[0m combined_df \u001b[38;5;241m=\u001b[39m pu\u001b[38;5;241m.\u001b[39mconcat([ctu\u001b[38;5;241m.\u001b[39mborder_exc_df,ctu\u001b[38;5;241m.\u001b[39mborder_inh_df])\n\u001b[1;32m   1338\u001b[0m clf \u001b[38;5;241m=\u001b[39m linear_model\u001b[38;5;241m.\u001b[39mLogisticRegression(class_weight\u001b[38;5;241m=\u001b[39mclass_weight,\u001b[38;5;241m*\u001b[39m\u001b[38;5;241m*\u001b[39mkwargs)\n",
      "File \u001b[0;32m/usr/local/lib/python3.8/dist-packages/neurd/cell_type_utils.py:1308\u001b[0m, in \u001b[0;36mload_border_exc_inh_df\u001b[0;34m(path, path_backup)\u001b[0m\n\u001b[1;32m   1306\u001b[0m     manual_df \u001b[38;5;241m=\u001b[39m pu\u001b[38;5;241m.\u001b[39mcsv_to_df(path)\n\u001b[1;32m   1307\u001b[0m \u001b[38;5;28;01mexcept\u001b[39;00m: \n\u001b[0;32m-> 1308\u001b[0m     manual_df \u001b[38;5;241m=\u001b[39m \u001b[43mpu\u001b[49m\u001b[38;5;241;43m.\u001b[39;49m\u001b[43mcsv_to_df\u001b[49m\u001b[43m(\u001b[49m\u001b[43mpath_backup\u001b[49m\u001b[43m)\u001b[49m\n\u001b[1;32m   1310\u001b[0m \u001b[38;5;28;01mglobal\u001b[39;00m border_exc_df\n\u001b[1;32m   1311\u001b[0m \u001b[38;5;28;01mglobal\u001b[39;00m border_inh_df\n",
      "File \u001b[0;32m/usr/local/lib/python3.8/dist-packages/datasci_tools/pandas_utils.py:777\u001b[0m, in \u001b[0;36mcsv_to_df\u001b[0;34m(csv_filepath, remove_unnamed_columns)\u001b[0m\n\u001b[1;32m    776\u001b[0m \u001b[38;5;28;01mdef\u001b[39;00m \u001b[38;5;21mcsv_to_df\u001b[39m(csv_filepath,remove_unnamed_columns\u001b[38;5;241m=\u001b[39m\u001b[38;5;28;01mTrue\u001b[39;00m):\n\u001b[0;32m--> 777\u001b[0m     return_df \u001b[38;5;241m=\u001b[39m \u001b[43mpd\u001b[49m\u001b[38;5;241;43m.\u001b[39;49m\u001b[43mread_csv\u001b[49m\u001b[43m(\u001b[49m\u001b[43mcsv_filepath\u001b[49m\u001b[43m)\u001b[49m \n\u001b[1;32m    778\u001b[0m     \u001b[38;5;28;01mif\u001b[39;00m remove_unnamed_columns:\n\u001b[1;32m    779\u001b[0m         return_df \u001b[38;5;241m=\u001b[39m pu\u001b[38;5;241m.\u001b[39mremove_unnamed_columns(return_df)\n",
      "File \u001b[0;32m/usr/local/lib/python3.8/dist-packages/pandas/io/parsers/readers.py:912\u001b[0m, in \u001b[0;36mread_csv\u001b[0;34m(filepath_or_buffer, sep, delimiter, header, names, index_col, usecols, dtype, engine, converters, true_values, false_values, skipinitialspace, skiprows, skipfooter, nrows, na_values, keep_default_na, na_filter, verbose, skip_blank_lines, parse_dates, infer_datetime_format, keep_date_col, date_parser, date_format, dayfirst, cache_dates, iterator, chunksize, compression, thousands, decimal, lineterminator, quotechar, quoting, doublequote, escapechar, comment, encoding, encoding_errors, dialect, on_bad_lines, delim_whitespace, low_memory, memory_map, float_precision, storage_options, dtype_backend)\u001b[0m\n\u001b[1;32m    899\u001b[0m kwds_defaults \u001b[38;5;241m=\u001b[39m _refine_defaults_read(\n\u001b[1;32m    900\u001b[0m     dialect,\n\u001b[1;32m    901\u001b[0m     delimiter,\n\u001b[0;32m   (...)\u001b[0m\n\u001b[1;32m    908\u001b[0m     dtype_backend\u001b[38;5;241m=\u001b[39mdtype_backend,\n\u001b[1;32m    909\u001b[0m )\n\u001b[1;32m    910\u001b[0m kwds\u001b[38;5;241m.\u001b[39mupdate(kwds_defaults)\n\u001b[0;32m--> 912\u001b[0m \u001b[38;5;28;01mreturn\u001b[39;00m \u001b[43m_read\u001b[49m\u001b[43m(\u001b[49m\u001b[43mfilepath_or_buffer\u001b[49m\u001b[43m,\u001b[49m\u001b[43m \u001b[49m\u001b[43mkwds\u001b[49m\u001b[43m)\u001b[49m\n",
      "File \u001b[0;32m/usr/local/lib/python3.8/dist-packages/pandas/io/parsers/readers.py:577\u001b[0m, in \u001b[0;36m_read\u001b[0;34m(filepath_or_buffer, kwds)\u001b[0m\n\u001b[1;32m    574\u001b[0m _validate_names(kwds\u001b[38;5;241m.\u001b[39mget(\u001b[38;5;124m\"\u001b[39m\u001b[38;5;124mnames\u001b[39m\u001b[38;5;124m\"\u001b[39m, \u001b[38;5;28;01mNone\u001b[39;00m))\n\u001b[1;32m    576\u001b[0m \u001b[38;5;66;03m# Create the parser.\u001b[39;00m\n\u001b[0;32m--> 577\u001b[0m parser \u001b[38;5;241m=\u001b[39m \u001b[43mTextFileReader\u001b[49m\u001b[43m(\u001b[49m\u001b[43mfilepath_or_buffer\u001b[49m\u001b[43m,\u001b[49m\u001b[43m \u001b[49m\u001b[38;5;241;43m*\u001b[39;49m\u001b[38;5;241;43m*\u001b[39;49m\u001b[43mkwds\u001b[49m\u001b[43m)\u001b[49m\n\u001b[1;32m    579\u001b[0m \u001b[38;5;28;01mif\u001b[39;00m chunksize \u001b[38;5;129;01mor\u001b[39;00m iterator:\n\u001b[1;32m    580\u001b[0m     \u001b[38;5;28;01mreturn\u001b[39;00m parser\n",
      "File \u001b[0;32m/usr/local/lib/python3.8/dist-packages/pandas/io/parsers/readers.py:1407\u001b[0m, in \u001b[0;36mTextFileReader.__init__\u001b[0;34m(self, f, engine, **kwds)\u001b[0m\n\u001b[1;32m   1404\u001b[0m     \u001b[38;5;28mself\u001b[39m\u001b[38;5;241m.\u001b[39moptions[\u001b[38;5;124m\"\u001b[39m\u001b[38;5;124mhas_index_names\u001b[39m\u001b[38;5;124m\"\u001b[39m] \u001b[38;5;241m=\u001b[39m kwds[\u001b[38;5;124m\"\u001b[39m\u001b[38;5;124mhas_index_names\u001b[39m\u001b[38;5;124m\"\u001b[39m]\n\u001b[1;32m   1406\u001b[0m \u001b[38;5;28mself\u001b[39m\u001b[38;5;241m.\u001b[39mhandles: IOHandles \u001b[38;5;241m|\u001b[39m \u001b[38;5;28;01mNone\u001b[39;00m \u001b[38;5;241m=\u001b[39m \u001b[38;5;28;01mNone\u001b[39;00m\n\u001b[0;32m-> 1407\u001b[0m \u001b[38;5;28mself\u001b[39m\u001b[38;5;241m.\u001b[39m_engine \u001b[38;5;241m=\u001b[39m \u001b[38;5;28;43mself\u001b[39;49m\u001b[38;5;241;43m.\u001b[39;49m\u001b[43m_make_engine\u001b[49m\u001b[43m(\u001b[49m\u001b[43mf\u001b[49m\u001b[43m,\u001b[49m\u001b[43m \u001b[49m\u001b[38;5;28;43mself\u001b[39;49m\u001b[38;5;241;43m.\u001b[39;49m\u001b[43mengine\u001b[49m\u001b[43m)\u001b[49m\n",
      "File \u001b[0;32m/usr/local/lib/python3.8/dist-packages/pandas/io/parsers/readers.py:1661\u001b[0m, in \u001b[0;36mTextFileReader._make_engine\u001b[0;34m(self, f, engine)\u001b[0m\n\u001b[1;32m   1659\u001b[0m     \u001b[38;5;28;01mif\u001b[39;00m \u001b[38;5;124m\"\u001b[39m\u001b[38;5;124mb\u001b[39m\u001b[38;5;124m\"\u001b[39m \u001b[38;5;129;01mnot\u001b[39;00m \u001b[38;5;129;01min\u001b[39;00m mode:\n\u001b[1;32m   1660\u001b[0m         mode \u001b[38;5;241m+\u001b[39m\u001b[38;5;241m=\u001b[39m \u001b[38;5;124m\"\u001b[39m\u001b[38;5;124mb\u001b[39m\u001b[38;5;124m\"\u001b[39m\n\u001b[0;32m-> 1661\u001b[0m \u001b[38;5;28mself\u001b[39m\u001b[38;5;241m.\u001b[39mhandles \u001b[38;5;241m=\u001b[39m \u001b[43mget_handle\u001b[49m\u001b[43m(\u001b[49m\n\u001b[1;32m   1662\u001b[0m \u001b[43m    \u001b[49m\u001b[43mf\u001b[49m\u001b[43m,\u001b[49m\n\u001b[1;32m   1663\u001b[0m \u001b[43m    \u001b[49m\u001b[43mmode\u001b[49m\u001b[43m,\u001b[49m\n\u001b[1;32m   1664\u001b[0m \u001b[43m    \u001b[49m\u001b[43mencoding\u001b[49m\u001b[38;5;241;43m=\u001b[39;49m\u001b[38;5;28;43mself\u001b[39;49m\u001b[38;5;241;43m.\u001b[39;49m\u001b[43moptions\u001b[49m\u001b[38;5;241;43m.\u001b[39;49m\u001b[43mget\u001b[49m\u001b[43m(\u001b[49m\u001b[38;5;124;43m\"\u001b[39;49m\u001b[38;5;124;43mencoding\u001b[39;49m\u001b[38;5;124;43m\"\u001b[39;49m\u001b[43m,\u001b[49m\u001b[43m \u001b[49m\u001b[38;5;28;43;01mNone\u001b[39;49;00m\u001b[43m)\u001b[49m\u001b[43m,\u001b[49m\n\u001b[1;32m   1665\u001b[0m \u001b[43m    \u001b[49m\u001b[43mcompression\u001b[49m\u001b[38;5;241;43m=\u001b[39;49m\u001b[38;5;28;43mself\u001b[39;49m\u001b[38;5;241;43m.\u001b[39;49m\u001b[43moptions\u001b[49m\u001b[38;5;241;43m.\u001b[39;49m\u001b[43mget\u001b[49m\u001b[43m(\u001b[49m\u001b[38;5;124;43m\"\u001b[39;49m\u001b[38;5;124;43mcompression\u001b[39;49m\u001b[38;5;124;43m\"\u001b[39;49m\u001b[43m,\u001b[49m\u001b[43m \u001b[49m\u001b[38;5;28;43;01mNone\u001b[39;49;00m\u001b[43m)\u001b[49m\u001b[43m,\u001b[49m\n\u001b[1;32m   1666\u001b[0m \u001b[43m    \u001b[49m\u001b[43mmemory_map\u001b[49m\u001b[38;5;241;43m=\u001b[39;49m\u001b[38;5;28;43mself\u001b[39;49m\u001b[38;5;241;43m.\u001b[39;49m\u001b[43moptions\u001b[49m\u001b[38;5;241;43m.\u001b[39;49m\u001b[43mget\u001b[49m\u001b[43m(\u001b[49m\u001b[38;5;124;43m\"\u001b[39;49m\u001b[38;5;124;43mmemory_map\u001b[39;49m\u001b[38;5;124;43m\"\u001b[39;49m\u001b[43m,\u001b[49m\u001b[43m \u001b[49m\u001b[38;5;28;43;01mFalse\u001b[39;49;00m\u001b[43m)\u001b[49m\u001b[43m,\u001b[49m\n\u001b[1;32m   1667\u001b[0m \u001b[43m    \u001b[49m\u001b[43mis_text\u001b[49m\u001b[38;5;241;43m=\u001b[39;49m\u001b[43mis_text\u001b[49m\u001b[43m,\u001b[49m\n\u001b[1;32m   1668\u001b[0m \u001b[43m    \u001b[49m\u001b[43merrors\u001b[49m\u001b[38;5;241;43m=\u001b[39;49m\u001b[38;5;28;43mself\u001b[39;49m\u001b[38;5;241;43m.\u001b[39;49m\u001b[43moptions\u001b[49m\u001b[38;5;241;43m.\u001b[39;49m\u001b[43mget\u001b[49m\u001b[43m(\u001b[49m\u001b[38;5;124;43m\"\u001b[39;49m\u001b[38;5;124;43mencoding_errors\u001b[39;49m\u001b[38;5;124;43m\"\u001b[39;49m\u001b[43m,\u001b[49m\u001b[43m \u001b[49m\u001b[38;5;124;43m\"\u001b[39;49m\u001b[38;5;124;43mstrict\u001b[39;49m\u001b[38;5;124;43m\"\u001b[39;49m\u001b[43m)\u001b[49m\u001b[43m,\u001b[49m\n\u001b[1;32m   1669\u001b[0m \u001b[43m    \u001b[49m\u001b[43mstorage_options\u001b[49m\u001b[38;5;241;43m=\u001b[39;49m\u001b[38;5;28;43mself\u001b[39;49m\u001b[38;5;241;43m.\u001b[39;49m\u001b[43moptions\u001b[49m\u001b[38;5;241;43m.\u001b[39;49m\u001b[43mget\u001b[49m\u001b[43m(\u001b[49m\u001b[38;5;124;43m\"\u001b[39;49m\u001b[38;5;124;43mstorage_options\u001b[39;49m\u001b[38;5;124;43m\"\u001b[39;49m\u001b[43m,\u001b[49m\u001b[43m \u001b[49m\u001b[38;5;28;43;01mNone\u001b[39;49;00m\u001b[43m)\u001b[49m\u001b[43m,\u001b[49m\n\u001b[1;32m   1670\u001b[0m \u001b[43m\u001b[49m\u001b[43m)\u001b[49m\n\u001b[1;32m   1671\u001b[0m \u001b[38;5;28;01massert\u001b[39;00m \u001b[38;5;28mself\u001b[39m\u001b[38;5;241m.\u001b[39mhandles \u001b[38;5;129;01mis\u001b[39;00m \u001b[38;5;129;01mnot\u001b[39;00m \u001b[38;5;28;01mNone\u001b[39;00m\n\u001b[1;32m   1672\u001b[0m f \u001b[38;5;241m=\u001b[39m \u001b[38;5;28mself\u001b[39m\u001b[38;5;241m.\u001b[39mhandles\u001b[38;5;241m.\u001b[39mhandle\n",
      "File \u001b[0;32m/usr/local/lib/python3.8/dist-packages/pandas/io/common.py:859\u001b[0m, in \u001b[0;36mget_handle\u001b[0;34m(path_or_buf, mode, encoding, compression, memory_map, is_text, errors, storage_options)\u001b[0m\n\u001b[1;32m    854\u001b[0m \u001b[38;5;28;01melif\u001b[39;00m \u001b[38;5;28misinstance\u001b[39m(handle, \u001b[38;5;28mstr\u001b[39m):\n\u001b[1;32m    855\u001b[0m     \u001b[38;5;66;03m# Check whether the filename is to be opened in binary mode.\u001b[39;00m\n\u001b[1;32m    856\u001b[0m     \u001b[38;5;66;03m# Binary mode does not support 'encoding' and 'newline'.\u001b[39;00m\n\u001b[1;32m    857\u001b[0m     \u001b[38;5;28;01mif\u001b[39;00m ioargs\u001b[38;5;241m.\u001b[39mencoding \u001b[38;5;129;01mand\u001b[39;00m \u001b[38;5;124m\"\u001b[39m\u001b[38;5;124mb\u001b[39m\u001b[38;5;124m\"\u001b[39m \u001b[38;5;129;01mnot\u001b[39;00m \u001b[38;5;129;01min\u001b[39;00m ioargs\u001b[38;5;241m.\u001b[39mmode:\n\u001b[1;32m    858\u001b[0m         \u001b[38;5;66;03m# Encoding\u001b[39;00m\n\u001b[0;32m--> 859\u001b[0m         handle \u001b[38;5;241m=\u001b[39m \u001b[38;5;28;43mopen\u001b[39;49m\u001b[43m(\u001b[49m\n\u001b[1;32m    860\u001b[0m \u001b[43m            \u001b[49m\u001b[43mhandle\u001b[49m\u001b[43m,\u001b[49m\n\u001b[1;32m    861\u001b[0m \u001b[43m            \u001b[49m\u001b[43mioargs\u001b[49m\u001b[38;5;241;43m.\u001b[39;49m\u001b[43mmode\u001b[49m\u001b[43m,\u001b[49m\n\u001b[1;32m    862\u001b[0m \u001b[43m            \u001b[49m\u001b[43mencoding\u001b[49m\u001b[38;5;241;43m=\u001b[39;49m\u001b[43mioargs\u001b[49m\u001b[38;5;241;43m.\u001b[39;49m\u001b[43mencoding\u001b[49m\u001b[43m,\u001b[49m\n\u001b[1;32m    863\u001b[0m \u001b[43m            \u001b[49m\u001b[43merrors\u001b[49m\u001b[38;5;241;43m=\u001b[39;49m\u001b[43merrors\u001b[49m\u001b[43m,\u001b[49m\n\u001b[1;32m    864\u001b[0m \u001b[43m            \u001b[49m\u001b[43mnewline\u001b[49m\u001b[38;5;241;43m=\u001b[39;49m\u001b[38;5;124;43m\"\u001b[39;49m\u001b[38;5;124;43m\"\u001b[39;49m\u001b[43m,\u001b[49m\n\u001b[1;32m    865\u001b[0m \u001b[43m        \u001b[49m\u001b[43m)\u001b[49m\n\u001b[1;32m    866\u001b[0m     \u001b[38;5;28;01melse\u001b[39;00m:\n\u001b[1;32m    867\u001b[0m         \u001b[38;5;66;03m# Binary mode\u001b[39;00m\n\u001b[1;32m    868\u001b[0m         handle \u001b[38;5;241m=\u001b[39m \u001b[38;5;28mopen\u001b[39m(handle, ioargs\u001b[38;5;241m.\u001b[39mmode)\n",
      "\u001b[0;31mFileNotFoundError\u001b[0m: [Errno 2] No such file or directory: '/neurd_packages/meshAfterParty/meshAfterParty/border_df_for_e_i_improved.pbz2'"
     ]
    }
   ],
   "source": [
    "from neurd import cell_type_utils as ctu"
   ]
  },
  {
   "cell_type": "code",
   "execution_count": 16,
   "id": "2ae16742",
   "metadata": {},
   "outputs": [
    {
     "name": "stdout",
     "output_type": "stream",
     "text": [
      "> \u001b[0;32m/usr/local/lib/python3.8/dist-packages/pandas/io/common.py\u001b[0m(859)\u001b[0;36mget_handle\u001b[0;34m()\u001b[0m\n",
      "\u001b[0;32m    857 \u001b[0;31m        \u001b[0;32mif\u001b[0m \u001b[0mioargs\u001b[0m\u001b[0;34m.\u001b[0m\u001b[0mencoding\u001b[0m \u001b[0;32mand\u001b[0m \u001b[0;34m\"b\"\u001b[0m \u001b[0;32mnot\u001b[0m \u001b[0;32min\u001b[0m \u001b[0mioargs\u001b[0m\u001b[0;34m.\u001b[0m\u001b[0mmode\u001b[0m\u001b[0;34m:\u001b[0m\u001b[0;34m\u001b[0m\u001b[0;34m\u001b[0m\u001b[0m\n",
      "\u001b[0m\u001b[0;32m    858 \u001b[0;31m            \u001b[0;31m# Encoding\u001b[0m\u001b[0;34m\u001b[0m\u001b[0;34m\u001b[0m\u001b[0;34m\u001b[0m\u001b[0m\n",
      "\u001b[0m\u001b[0;32m--> 859 \u001b[0;31m            handle = open(\n",
      "\u001b[0m\u001b[0;32m    860 \u001b[0;31m                \u001b[0mhandle\u001b[0m\u001b[0;34m,\u001b[0m\u001b[0;34m\u001b[0m\u001b[0;34m\u001b[0m\u001b[0m\n",
      "\u001b[0m\u001b[0;32m    861 \u001b[0;31m                \u001b[0mioargs\u001b[0m\u001b[0;34m.\u001b[0m\u001b[0mmode\u001b[0m\u001b[0;34m,\u001b[0m\u001b[0;34m\u001b[0m\u001b[0;34m\u001b[0m\u001b[0m\n",
      "\u001b[0m\n",
      "ipdb> u\n",
      "> \u001b[0;32m/usr/local/lib/python3.8/dist-packages/pandas/io/parsers/readers.py\u001b[0m(1661)\u001b[0;36m_make_engine\u001b[0;34m()\u001b[0m\n",
      "\u001b[0;32m   1659 \u001b[0;31m                \u001b[0;32mif\u001b[0m \u001b[0;34m\"b\"\u001b[0m \u001b[0;32mnot\u001b[0m \u001b[0;32min\u001b[0m \u001b[0mmode\u001b[0m\u001b[0;34m:\u001b[0m\u001b[0;34m\u001b[0m\u001b[0;34m\u001b[0m\u001b[0m\n",
      "\u001b[0m\u001b[0;32m   1660 \u001b[0;31m                    \u001b[0mmode\u001b[0m \u001b[0;34m+=\u001b[0m \u001b[0;34m\"b\"\u001b[0m\u001b[0;34m\u001b[0m\u001b[0;34m\u001b[0m\u001b[0m\n",
      "\u001b[0m\u001b[0;32m-> 1661 \u001b[0;31m            self.handles = get_handle(\n",
      "\u001b[0m\u001b[0;32m   1662 \u001b[0;31m                \u001b[0mf\u001b[0m\u001b[0;34m,\u001b[0m\u001b[0;34m\u001b[0m\u001b[0;34m\u001b[0m\u001b[0m\n",
      "\u001b[0m\u001b[0;32m   1663 \u001b[0;31m                \u001b[0mmode\u001b[0m\u001b[0;34m,\u001b[0m\u001b[0;34m\u001b[0m\u001b[0;34m\u001b[0m\u001b[0m\n",
      "\u001b[0m\n",
      "ipdb> u\n",
      "> \u001b[0;32m/usr/local/lib/python3.8/dist-packages/pandas/io/parsers/readers.py\u001b[0m(1407)\u001b[0;36m__init__\u001b[0;34m()\u001b[0m\n",
      "\u001b[0;32m   1405 \u001b[0;31m\u001b[0;34m\u001b[0m\u001b[0m\n",
      "\u001b[0m\u001b[0;32m   1406 \u001b[0;31m        \u001b[0mself\u001b[0m\u001b[0;34m.\u001b[0m\u001b[0mhandles\u001b[0m\u001b[0;34m:\u001b[0m \u001b[0mIOHandles\u001b[0m \u001b[0;34m|\u001b[0m \u001b[0;32mNone\u001b[0m \u001b[0;34m=\u001b[0m \u001b[0;32mNone\u001b[0m\u001b[0;34m\u001b[0m\u001b[0;34m\u001b[0m\u001b[0m\n",
      "\u001b[0m\u001b[0;32m-> 1407 \u001b[0;31m        \u001b[0mself\u001b[0m\u001b[0;34m.\u001b[0m\u001b[0m_engine\u001b[0m \u001b[0;34m=\u001b[0m \u001b[0mself\u001b[0m\u001b[0;34m.\u001b[0m\u001b[0m_make_engine\u001b[0m\u001b[0;34m(\u001b[0m\u001b[0mf\u001b[0m\u001b[0;34m,\u001b[0m \u001b[0mself\u001b[0m\u001b[0;34m.\u001b[0m\u001b[0mengine\u001b[0m\u001b[0;34m)\u001b[0m\u001b[0;34m\u001b[0m\u001b[0;34m\u001b[0m\u001b[0m\n",
      "\u001b[0m\u001b[0;32m   1408 \u001b[0;31m\u001b[0;34m\u001b[0m\u001b[0m\n",
      "\u001b[0m\u001b[0;32m   1409 \u001b[0;31m    \u001b[0;32mdef\u001b[0m \u001b[0mclose\u001b[0m\u001b[0;34m(\u001b[0m\u001b[0mself\u001b[0m\u001b[0;34m)\u001b[0m \u001b[0;34m->\u001b[0m \u001b[0;32mNone\u001b[0m\u001b[0;34m:\u001b[0m\u001b[0;34m\u001b[0m\u001b[0;34m\u001b[0m\u001b[0m\n",
      "\u001b[0m\n",
      "ipdb> u\n",
      "> \u001b[0;32m/usr/local/lib/python3.8/dist-packages/pandas/io/parsers/readers.py\u001b[0m(577)\u001b[0;36m_read\u001b[0;34m()\u001b[0m\n",
      "\u001b[0;32m    575 \u001b[0;31m\u001b[0;34m\u001b[0m\u001b[0m\n",
      "\u001b[0m\u001b[0;32m    576 \u001b[0;31m    \u001b[0;31m# Create the parser.\u001b[0m\u001b[0;34m\u001b[0m\u001b[0;34m\u001b[0m\u001b[0;34m\u001b[0m\u001b[0m\n",
      "\u001b[0m\u001b[0;32m--> 577 \u001b[0;31m    \u001b[0mparser\u001b[0m \u001b[0;34m=\u001b[0m \u001b[0mTextFileReader\u001b[0m\u001b[0;34m(\u001b[0m\u001b[0mfilepath_or_buffer\u001b[0m\u001b[0;34m,\u001b[0m \u001b[0;34m**\u001b[0m\u001b[0mkwds\u001b[0m\u001b[0;34m)\u001b[0m\u001b[0;34m\u001b[0m\u001b[0;34m\u001b[0m\u001b[0m\n",
      "\u001b[0m\u001b[0;32m    578 \u001b[0;31m\u001b[0;34m\u001b[0m\u001b[0m\n",
      "\u001b[0m\u001b[0;32m    579 \u001b[0;31m    \u001b[0;32mif\u001b[0m \u001b[0mchunksize\u001b[0m \u001b[0;32mor\u001b[0m \u001b[0miterator\u001b[0m\u001b[0;34m:\u001b[0m\u001b[0;34m\u001b[0m\u001b[0;34m\u001b[0m\u001b[0m\n",
      "\u001b[0m\n",
      "ipdb> u\n",
      "> \u001b[0;32m/usr/local/lib/python3.8/dist-packages/pandas/io/parsers/readers.py\u001b[0m(912)\u001b[0;36mread_csv\u001b[0;34m()\u001b[0m\n",
      "\u001b[0;32m    910 \u001b[0;31m    \u001b[0mkwds\u001b[0m\u001b[0;34m.\u001b[0m\u001b[0mupdate\u001b[0m\u001b[0;34m(\u001b[0m\u001b[0mkwds_defaults\u001b[0m\u001b[0;34m)\u001b[0m\u001b[0;34m\u001b[0m\u001b[0;34m\u001b[0m\u001b[0m\n",
      "\u001b[0m\u001b[0;32m    911 \u001b[0;31m\u001b[0;34m\u001b[0m\u001b[0m\n",
      "\u001b[0m\u001b[0;32m--> 912 \u001b[0;31m    \u001b[0;32mreturn\u001b[0m \u001b[0m_read\u001b[0m\u001b[0;34m(\u001b[0m\u001b[0mfilepath_or_buffer\u001b[0m\u001b[0;34m,\u001b[0m \u001b[0mkwds\u001b[0m\u001b[0;34m)\u001b[0m\u001b[0;34m\u001b[0m\u001b[0;34m\u001b[0m\u001b[0m\n",
      "\u001b[0m\u001b[0;32m    913 \u001b[0;31m\u001b[0;34m\u001b[0m\u001b[0m\n",
      "\u001b[0m\u001b[0;32m    914 \u001b[0;31m\u001b[0;34m\u001b[0m\u001b[0m\n",
      "\u001b[0m\n",
      "ipdb> u\n",
      "> \u001b[0;32m/usr/local/lib/python3.8/dist-packages/datasci_tools/pandas_utils.py\u001b[0m(777)\u001b[0;36mcsv_to_df\u001b[0;34m()\u001b[0m\n",
      "\u001b[0;32m    775 \u001b[0;31m\u001b[0;34m\u001b[0m\u001b[0m\n",
      "\u001b[0m\u001b[0;32m    776 \u001b[0;31m\u001b[0;32mdef\u001b[0m \u001b[0mcsv_to_df\u001b[0m\u001b[0;34m(\u001b[0m\u001b[0mcsv_filepath\u001b[0m\u001b[0;34m,\u001b[0m\u001b[0mremove_unnamed_columns\u001b[0m\u001b[0;34m=\u001b[0m\u001b[0;32mTrue\u001b[0m\u001b[0;34m)\u001b[0m\u001b[0;34m:\u001b[0m\u001b[0;34m\u001b[0m\u001b[0;34m\u001b[0m\u001b[0m\n",
      "\u001b[0m\u001b[0;32m--> 777 \u001b[0;31m    \u001b[0mreturn_df\u001b[0m \u001b[0;34m=\u001b[0m \u001b[0mpd\u001b[0m\u001b[0;34m.\u001b[0m\u001b[0mread_csv\u001b[0m\u001b[0;34m(\u001b[0m\u001b[0mcsv_filepath\u001b[0m\u001b[0;34m)\u001b[0m\u001b[0;34m\u001b[0m\u001b[0;34m\u001b[0m\u001b[0m\n",
      "\u001b[0m\u001b[0;32m    778 \u001b[0;31m    \u001b[0;32mif\u001b[0m \u001b[0mremove_unnamed_columns\u001b[0m\u001b[0;34m:\u001b[0m\u001b[0;34m\u001b[0m\u001b[0;34m\u001b[0m\u001b[0m\n",
      "\u001b[0m\u001b[0;32m    779 \u001b[0;31m        \u001b[0mreturn_df\u001b[0m \u001b[0;34m=\u001b[0m \u001b[0mpu\u001b[0m\u001b[0;34m.\u001b[0m\u001b[0mremove_unnamed_columns\u001b[0m\u001b[0;34m(\u001b[0m\u001b[0mreturn_df\u001b[0m\u001b[0;34m)\u001b[0m\u001b[0;34m\u001b[0m\u001b[0;34m\u001b[0m\u001b[0m\n",
      "\u001b[0m\n",
      "ipdb> u\n",
      "> \u001b[0;32m/usr/local/lib/python3.8/dist-packages/neurd/cell_type_utils.py\u001b[0m(1308)\u001b[0;36mload_border_exc_inh_df\u001b[0;34m()\u001b[0m\n",
      "\u001b[0;32m   1306 \u001b[0;31m        \u001b[0mmanual_df\u001b[0m \u001b[0;34m=\u001b[0m \u001b[0mpu\u001b[0m\u001b[0;34m.\u001b[0m\u001b[0mcsv_to_df\u001b[0m\u001b[0;34m(\u001b[0m\u001b[0mpath\u001b[0m\u001b[0;34m)\u001b[0m\u001b[0;34m\u001b[0m\u001b[0;34m\u001b[0m\u001b[0m\n",
      "\u001b[0m\u001b[0;32m   1307 \u001b[0;31m    \u001b[0;32mexcept\u001b[0m\u001b[0;34m:\u001b[0m\u001b[0;34m\u001b[0m\u001b[0;34m\u001b[0m\u001b[0m\n",
      "\u001b[0m\u001b[0;32m-> 1308 \u001b[0;31m        \u001b[0mmanual_df\u001b[0m \u001b[0;34m=\u001b[0m \u001b[0mpu\u001b[0m\u001b[0;34m.\u001b[0m\u001b[0mcsv_to_df\u001b[0m\u001b[0;34m(\u001b[0m\u001b[0mpath_backup\u001b[0m\u001b[0;34m)\u001b[0m\u001b[0;34m\u001b[0m\u001b[0;34m\u001b[0m\u001b[0m\n",
      "\u001b[0m\u001b[0;32m   1309 \u001b[0;31m\u001b[0;34m\u001b[0m\u001b[0m\n",
      "\u001b[0m\u001b[0;32m   1310 \u001b[0;31m    \u001b[0;32mglobal\u001b[0m \u001b[0mborder_exc_df\u001b[0m\u001b[0;34m\u001b[0m\u001b[0;34m\u001b[0m\u001b[0m\n",
      "\u001b[0m\n",
      "ipdb> path\n",
      "'/usr/local/lib/python3.8/dist-packages/neurd/border_df_for_e_i_improved.csv'\n",
      "ipdb> c\n"
     ]
    }
   ],
   "source": [
    "debug"
   ]
  },
  {
   "cell_type": "code",
   "execution_count": null,
   "id": "7d9c62e3-4e01-4ae0-8aae-583353d79a7c",
   "metadata": {},
   "outputs": [],
   "source": [
    "vdi.client.segment_ids_with_nucleus()"
   ]
  },
  {
   "cell_type": "code",
   "execution_count": null,
   "id": "1d1591a1-5ee2-4afd-b318-801a7bb73311",
   "metadata": {},
   "outputs": [],
   "source": [
    "vdi.voxel_to_nm_scaling"
   ]
  },
  {
   "cell_type": "markdown",
   "id": "02beb81f-23a2-4ce2-bc3f-cd1e5e75c5cb",
   "metadata": {},
   "source": [
    "# Neuron Preprocessing Pipeline"
   ]
  },
  {
   "cell_type": "code",
   "execution_count": null,
   "id": "4e24d0a7-30ea-48c7-8de1-8c34a45ddb2f",
   "metadata": {},
   "outputs": [],
   "source": [
    "from mesh_tools import trimesh_utils as tu\n",
    "from datasci_tools import ipyvolume_utils as ipvu\n",
    "from neurd import neuron_visualizations as nviz"
   ]
  },
  {
   "cell_type": "code",
   "execution_count": null,
   "id": "e27ecc67-541e-4adb-85a6-9220ee474f1a",
   "metadata": {},
   "outputs": [],
   "source": [
    "segment_id = 864691135502491741"
   ]
  },
  {
   "cell_type": "markdown",
   "id": "f6299109-222e-4d87-9e63-6cdd4e6b7156",
   "metadata": {},
   "source": [
    "# Step 0: Loading Mesh"
   ]
  },
  {
   "cell_type": "code",
   "execution_count": null,
   "id": "03ed1bf3-62db-4ea2-b269-dacc9a9a8295",
   "metadata": {},
   "outputs": [],
   "source": [
    "mesh = vdi.fetch_segment_id_mesh(\n",
    "    segment_id,\n",
    "    plot = False\n",
    ")\n",
    "mesh"
   ]
  },
  {
   "cell_type": "code",
   "execution_count": null,
   "id": "06d77614-f674-4b93-a60b-89b4bf99e6c1",
   "metadata": {},
   "outputs": [],
   "source": [
    "from datasci_tools import pipeline\n",
    "\n",
    "products = pipeline.PipelineProducts()\n",
    "products"
   ]
  },
  {
   "cell_type": "markdown",
   "id": "f0086e61",
   "metadata": {},
   "source": [
    "# Step 0.1 (optional): Visualizing Synapses with Mesh"
   ]
  },
  {
   "cell_type": "code",
   "execution_count": null,
   "id": "db96277a",
   "metadata": {},
   "outputs": [],
   "source": [
    "syn_dict = vdi.segment_id_to_synapse_dict(segment_id)"
   ]
  },
  {
   "cell_type": "code",
   "execution_count": null,
   "id": "1264ae47",
   "metadata": {},
   "outputs": [],
   "source": [
    "from datasci_tools import ipyvolume_utils as ipvu\n",
    "ipvu.plot_objects(\n",
    "    mesh,\n",
    "    scatters = [\n",
    "        syn_dict[\"postsyn\"][\"synapse_coordinates\"],\n",
    "        syn_dict[\"presyn\"][\"synapse_coordinates\"]\n",
    "    ],\n",
    "    scatters_colors=[\"blue\",\"yellow\"]\n",
    ")"
   ]
  },
  {
   "cell_type": "markdown",
   "id": "a2913cdc-726c-4646-bafd-b4418ddbf7ef",
   "metadata": {},
   "source": [
    "# Step 1: Decimation"
   ]
  },
  {
   "cell_type": "code",
   "execution_count": null,
   "id": "8eba61b0-5da6-44c0-b603-f724c495ec14",
   "metadata": {},
   "outputs": [],
   "source": [
    "decimation_parameters = dict(\n",
    "    decimation_ratio =0.25,\n",
    ")"
   ]
  },
  {
   "cell_type": "code",
   "execution_count": null,
   "id": "05768a97-a909-4401-95ad-f5d2cc536dee",
   "metadata": {},
   "outputs": [],
   "source": [
    "mesh_decimated = tu.decimate(\n",
    "    mesh,\n",
    "    **decimation_parameters\n",
    ")"
   ]
  },
  {
   "cell_type": "code",
   "execution_count": null,
   "id": "ccc97938-122b-4269-bf66-f463b5ab2124",
   "metadata": {},
   "outputs": [],
   "source": [
    "ipvu.plot_objects(mesh_decimated)"
   ]
  },
  {
   "cell_type": "code",
   "execution_count": null,
   "id": "66f9e498-c575-4c17-98fc-588975dfb0cd",
   "metadata": {},
   "outputs": [],
   "source": [
    "# saving any parameters used or output products for later use\n",
    "products.set_stage_attrs(\n",
    "    stage = \"decimation\",\n",
    "    attr_dict = dict(\n",
    "        decimation_parameters = decimation_parameters,\n",
    "        segment_id = segment_id,\n",
    "    ),\n",
    "    \n",
    ")\n",
    "\n",
    "print(products)"
   ]
  },
  {
   "cell_type": "markdown",
   "id": "f029c3ab-cc06-49e8-9e61-e6b9df99291d",
   "metadata": {},
   "source": [
    "# Step 2: Soma Identification"
   ]
  },
  {
   "cell_type": "code",
   "execution_count": null,
   "id": "8866641c",
   "metadata": {},
   "outputs": [],
   "source": [
    "from neurd import soma_extraction_utils as sm\n",
    "soma_extraction_parameters = dict()"
   ]
  },
  {
   "cell_type": "code",
   "execution_count": null,
   "id": "b65f18a1",
   "metadata": {},
   "outputs": [],
   "source": [
    "# could inspect the parameters of a certain category\n",
    "from neurd import parameter_utils as paru\n",
    "paru.category_param_from_module(\n",
    "        module = sm,\n",
    "        category = \"glia\",\n",
    ")"
   ]
  },
  {
   "cell_type": "code",
   "execution_count": null,
   "id": "24667352",
   "metadata": {},
   "outputs": [],
   "source": [
    "# overwritting decimated mesh because original was already decimated\n",
    "mesh_decimated = mesh"
   ]
  },
  {
   "cell_type": "code",
   "execution_count": null,
   "id": "b6ff9777",
   "metadata": {},
   "outputs": [],
   "source": [
    "from neurd import neuron_visualizations as nviz\n",
    "\n",
    "verbose = True\n",
    "\n",
    "soma_products = sm.soma_indentification(\n",
    "    mesh_decimated,\n",
    "    verbose=verbose,\n",
    "    **soma_extraction_parameters\n",
    ")"
   ]
  },
  {
   "cell_type": "code",
   "execution_count": null,
   "id": "6a79d754",
   "metadata": {},
   "outputs": [],
   "source": [
    "sm.plot_soma_products(\n",
    "    mesh_decimated,\n",
    "    soma_products = soma_products,\n",
    "    verbose = True\n",
    ")"
   ]
  },
  {
   "cell_type": "code",
   "execution_count": null,
   "id": "e43e9f14",
   "metadata": {},
   "outputs": [],
   "source": [
    "soma_products.soma_extraction_parameters = soma_extraction_parameters\n",
    "soma_products"
   ]
  },
  {
   "cell_type": "code",
   "execution_count": null,
   "id": "a5056278",
   "metadata": {},
   "outputs": [],
   "source": [
    "products.set_stage_attrs(\n",
    "    stage = \"soma_identification\",\n",
    "    attr_dict = soma_products,\n",
    ")\n",
    "\n",
    "print(products)"
   ]
  },
  {
   "cell_type": "markdown",
   "id": "da45be47",
   "metadata": {},
   "source": [
    "# Step 2b: Saving off pipeline products"
   ]
  },
  {
   "cell_type": "code",
   "execution_count": null,
   "id": "c99ef858",
   "metadata": {},
   "outputs": [],
   "source": [
    "from datasci_tools import system_utils as su\n",
    "su.save_object(\n",
    "    products,\"products_up_to_soma_stage\"\n",
    ")"
   ]
  },
  {
   "cell_type": "markdown",
   "id": "bfdbcc82",
   "metadata": {},
   "source": [
    "# Step 3: Decomposition"
   ]
  },
  {
   "cell_type": "code",
   "execution_count": null,
   "id": "84193a27",
   "metadata": {},
   "outputs": [],
   "source": [
    "from neurd import neuron\n",
    "\n",
    "neuron_obj = neuron.Neuron(\n",
    "    mesh = mesh,\n",
    "    segment_id = segment_id, # don't need this explicitely if segment_id is already in products\n",
    "    pipeline_products = products,\n",
    "    suppress_preprocessing_print=False,\n",
    "    suppress_output=False,\n",
    ")\n",
    "\n",
    "neuron_obj"
   ]
  },
  {
   "cell_type": "code",
   "execution_count": null,
   "id": "5467bcfe",
   "metadata": {},
   "outputs": [],
   "source": [
    "nviz.visualize_neuron(\n",
    "    neuron_obj,\n",
    "    limb_branch_dict=\"all\"\n",
    ")"
   ]
  },
  {
   "cell_type": "markdown",
   "id": "0d43b744",
   "metadata": {},
   "source": [
    "# Calculate statistics"
   ]
  },
  {
   "cell_type": "code",
   "execution_count": null,
   "id": "cac08fd6",
   "metadata": {},
   "outputs": [],
   "source": [
    "decomp_products = neuron_obj.calculate_decomposition_products(\n",
    "    store_in_obj = True,\n",
    ")\n",
    "\n",
    "decomp_products"
   ]
  },
  {
   "cell_type": "code",
   "execution_count": null,
   "id": "fa148fc5",
   "metadata": {},
   "outputs": [],
   "source": [
    "print(neuron_obj.pipeline_products)"
   ]
  },
  {
   "cell_type": "markdown",
   "id": "d090f774",
   "metadata": {},
   "source": [
    "# Saving off neuron"
   ]
  },
  {
   "cell_type": "code",
   "execution_count": null,
   "id": "9486c4e6",
   "metadata": {},
   "outputs": [],
   "source": [
    "vdi.save_neuron_obj(\n",
    "    neuron_obj,\n",
    "    verbose = True\n",
    ")"
   ]
  },
  {
   "cell_type": "markdown",
   "id": "aa2fc99c",
   "metadata": {},
   "source": [
    "# Reloading the Neuron"
   ]
  },
  {
   "cell_type": "code",
   "execution_count": null,
   "id": "e6ce238a",
   "metadata": {},
   "outputs": [],
   "source": [
    "neuron_obj_rec = vdi.load_neuron_obj(\n",
    "    segment_id = segment_id,\n",
    "    #mesh_decimated = mesh_decimated\n",
    ")"
   ]
  },
  {
   "cell_type": "code",
   "execution_count": null,
   "id": "84734850",
   "metadata": {},
   "outputs": [],
   "source": [
    "print(neuron_obj_rec.pipeline_products)"
   ]
  },
  {
   "cell_type": "markdown",
   "id": "06b5f069",
   "metadata": {},
   "source": [
    "# Step 4A: Multi Soma Split Suggestions"
   ]
  },
  {
   "cell_type": "code",
   "execution_count": null,
   "id": "0729b033",
   "metadata": {},
   "outputs": [],
   "source": [
    "from neurd import neuron_visualizations as nviz\n",
    "nviz.plot_soma_limb_concept_network(\n",
    "    neuron_obj\n",
    ")"
   ]
  },
  {
   "cell_type": "code",
   "execution_count": null,
   "id": "3ea8a7ec",
   "metadata": {},
   "outputs": [],
   "source": [
    "multi_soma_split_parameters = dict()"
   ]
  },
  {
   "cell_type": "code",
   "execution_count": null,
   "id": "6b654969",
   "metadata": {},
   "outputs": [],
   "source": [
    "_ = neuron_obj.calculate_multi_soma_split_suggestions(\n",
    "    plot = True,\n",
    "    store_in_obj = True,\n",
    "    **multi_soma_split_parameters\n",
    ")\n"
   ]
  },
  {
   "cell_type": "code",
   "execution_count": null,
   "id": "a8012cfa",
   "metadata": {},
   "outputs": [],
   "source": [
    "neuron_obj.pipeline_products.multi_soma_split_suggestions.multi_soma_split_parameters = multi_soma_split_parameters"
   ]
  },
  {
   "cell_type": "markdown",
   "id": "2206b4cc",
   "metadata": {},
   "source": [
    "# Step 4B: Multi Soma Split Execution"
   ]
  },
  {
   "cell_type": "code",
   "execution_count": null,
   "id": "cc8bc52a",
   "metadata": {},
   "outputs": [],
   "source": [
    "neuron_list = neuron_obj.multi_soma_split_execution(\n",
    "    verbose = False,\n",
    ")"
   ]
  },
  {
   "cell_type": "code",
   "execution_count": null,
   "id": "1239884b",
   "metadata": {},
   "outputs": [],
   "source": [
    "n1 = neuron_list[0]\n",
    "print(n1.pipeline_products)"
   ]
  },
  {
   "cell_type": "markdown",
   "id": "a2dcd901",
   "metadata": {},
   "source": [
    "# Step 5: Cell Typing"
   ]
  },
  {
   "cell_type": "code",
   "execution_count": null,
   "id": "023dd7aa",
   "metadata": {},
   "outputs": [],
   "source": [
    "from neurd import neuron_pipeline_utils as npu"
   ]
  },
  {
   "cell_type": "code",
   "execution_count": null,
   "id": "b17ecdd9",
   "metadata": {},
   "outputs": [],
   "source": [
    "neuron_obj_axon = npu.cell_type_ax_dendr_stage(\n",
    "    n1,\n",
    "    mesh_decimated = mesh_decimated,\n",
    "    plot_axon = False,\n",
    ")"
   ]
  },
  {
   "cell_type": "code",
   "execution_count": null,
   "id": "ef29fb5b",
   "metadata": {},
   "outputs": [],
   "source": [
    "nviz.plot_axon(\n",
    "    neuron_obj_axon\n",
    ")"
   ]
  },
  {
   "cell_type": "markdown",
   "id": "e4359d09",
   "metadata": {},
   "source": [
    "# Autoproofreading Stage"
   ]
  },
  {
   "cell_type": "code",
   "execution_count": null,
   "id": "458fa42f",
   "metadata": {},
   "outputs": [],
   "source": [
    "neuron_obj_proof = npu.auto_proof_stage(\n",
    "    neuron_obj_axon,\n",
    "    mesh_decimated = mesh_decimated,\n",
    "    calculate_after_proof_stats = False,\n",
    ")"
   ]
  },
  {
   "cell_type": "code",
   "execution_count": null,
   "id": "c7e31a9e",
   "metadata": {},
   "outputs": [],
   "source": [
    "_ = npu.after_auto_proof_stats(\n",
    "    neuron_obj_proof,\n",
    "    store_in_obj = True,\n",
    ")"
   ]
  },
  {
   "cell_type": "markdown",
   "id": "86446328",
   "metadata": {},
   "source": [
    "# Saving off the autoproofread neuron"
   ]
  },
  {
   "cell_type": "code",
   "execution_count": null,
   "id": "fb8c945e",
   "metadata": {},
   "outputs": [],
   "source": [
    "vdi.save_neuron_obj_auto_proof(\n",
    "    neuron_obj_proof,\n",
    ")"
   ]
  },
  {
   "cell_type": "markdown",
   "id": "788253a7",
   "metadata": {},
   "source": [
    "# Plotting the final neuron"
   ]
  },
  {
   "cell_type": "code",
   "execution_count": null,
   "id": "96df2c4e",
   "metadata": {},
   "outputs": [],
   "source": [
    "from neurd import synapse_utils as syu"
   ]
  },
  {
   "cell_type": "code",
   "execution_count": null,
   "id": "6eb2997d",
   "metadata": {},
   "outputs": [],
   "source": [
    "from datasci_tools import ipyvolume_utils as ipvu\n",
    "ipvu.plot_objects(\n",
    "    neuron_obj_axon.mesh,\n",
    "    meshes = [neuron_obj_proof.mesh],\n",
    "    meshes_colors=\"red\"\n",
    ")"
   ]
  },
  {
   "cell_type": "code",
   "execution_count": null,
   "id": "60c5c168",
   "metadata": {},
   "outputs": [],
   "source": [
    "syu.plot_synapses(neuron_obj_proof)"
   ]
  },
  {
   "cell_type": "code",
   "execution_count": null,
   "id": "4069451e",
   "metadata": {},
   "outputs": [],
   "source": [
    "syu.plot_synapses_error_from_neuron_obj(neuron_obj_proof)    "
   ]
  },
  {
   "cell_type": "code",
   "execution_count": null,
   "id": "c3ba8212",
   "metadata": {},
   "outputs": [],
   "source": [
    "syu.plot_synapses_valid_from_neuron_obj(neuron_obj_proof)  "
   ]
  },
  {
   "cell_type": "code",
   "execution_count": null,
   "id": "a1174825",
   "metadata": {},
   "outputs": [],
   "source": [
    "nviz.plot_compartments(neuron_obj_proof)"
   ]
  },
  {
   "cell_type": "code",
   "execution_count": null,
   "id": "40ae6bf2-f1d3-4523-a9f1-b3567c362293",
   "metadata": {},
   "outputs": [],
   "source": [
    "from neurd import soma_extraction_utils as sm\n",
    "soma_extraction_parameters = dict()\n",
    "\n",
    "# could inspect the parameters of a certain category\n",
    "from neurd import parameter_utils as paru\n",
    "paru.category_param_from_module(\n",
    "        module = sm,\n",
    "        category = \"glia\",\n",
    ")\n",
    "\n",
    "# overwritting decimated mesh because original was already decimated\n",
    "mesh_decimated = mesh\n",
    "\n",
    "from neurd import neuron_visualizations as nviz\n",
    "\n",
    "verbose = True\n",
    "\n",
    "soma_products = sm.soma_indentification(\n",
    "    mesh_decimated,\n",
    "    verbose=verbose,\n",
    "    **soma_extraction_parameters\n",
    ")\n",
    "\n",
    "sm.plot_soma_products(\n",
    "    mesh_decimated,\n",
    "    soma_products = soma_products,\n",
    "    verbose = True\n",
    ")\n",
    "\n",
    "soma_products.soma_extraction_parameters = soma_extraction_parameters\n",
    "soma_products\n",
    "\n",
    "products.set_stage_attrs(\n",
    "    stage = \"soma_identification\",\n",
    "    attr_dict = soma_products,\n",
    ")\n",
    "\n",
    "print(products)\n",
    "\n",
    "# Step 2b: Saving off pipeline products\n",
    "\n",
    "from datasci_tools import system_utils as su\n",
    "su.save_object(\n",
    "    products,\"products_up_to_soma_stage\"\n",
    ")\n",
    "\n",
    "# Step 3: Decomposition\n",
    "\n",
    "from neurd import neuron\n",
    "\n",
    "neuron_obj = neuron.Neuron(\n",
    "    mesh = mesh,\n",
    "    segment_id = segment_id, # don't need this explicitely if segment_id is already in products\n",
    "    pipeline_products = products,\n",
    "    suppress_preprocessing_print=False,\n",
    "    suppress_output=False,\n",
    ")\n",
    "\n",
    "neuron_obj\n",
    "\n",
    "nviz.visualize_neuron(\n",
    "    neuron_obj,\n",
    "    limb_branch_dict=\"all\"\n",
    ")\n",
    "\n",
    "# Calculate statistics\n",
    "\n",
    "decomp_products = neuron_obj.calculate_decomposition_products(\n",
    "    store_in_obj = True,\n",
    ")\n",
    "\n",
    "decomp_products\n",
    "\n",
    "print(neuron_obj.pipeline_products)\n",
    "\n",
    "# Saving off neuron\n",
    "\n",
    "vdi.save_neuron_obj(\n",
    "    neuron_obj,\n",
    "    verbose = True\n",
    ")\n",
    "\n",
    "# Reloading the Neuron\n",
    "\n",
    "neuron_obj_rec = vdi.load_neuron_obj(\n",
    "    segment_id = segment_id,\n",
    "    #mesh_decimated = mesh_decimated\n",
    ")\n",
    "\n",
    "print(neuron_obj_rec.pipeline_products)\n",
    "\n",
    "# Step 4A: Multi Soma Split Suggestions\n",
    "\n",
    "from neurd import neuron_visualizations as nviz\n",
    "nviz.plot_soma_limb_concept_network(\n",
    "    neuron_obj\n",
    ")\n",
    "\n",
    "multi_soma_split_parameters = dict()\n",
    "\n",
    "_ = neuron_obj.calculate_multi_soma_split_suggestions(\n",
    "    plot = True,\n",
    "    store_in_obj = True,\n",
    "    **multi_soma_split_parameters\n",
    ")\n",
    "\n",
    "\n",
    "neuron_obj.pipeline_products.multi_soma_split_suggestions.multi_soma_split_parameters = multi_soma_split_parameters\n",
    "\n",
    "# Step 4B: Multi Soma Split Execution\n",
    "\n",
    "neuron_list = neuron_obj.multi_soma_split_execution(\n",
    "    verbose = False,\n",
    ")\n",
    "\n",
    "n1 = neuron_list[0]\n",
    "print(n1.pipeline_products)\n",
    "\n",
    "# Step 5: Cell Typing\n",
    "\n",
    "from neurd import neuron_pipeline_utils as npu\n",
    "\n",
    "neuron_obj_axon = npu.cell_type_ax_dendr_stage(\n",
    "    n1,\n",
    "    mesh_decimated = mesh_decimated,\n",
    "    plot_axon = False,\n",
    ")\n",
    "\n",
    "nviz.plot_axon(\n",
    "    neuron_obj_axon\n",
    ")\n",
    "\n",
    "# Autoproofreading Stage\n",
    "\n",
    "neuron_obj_proof = npu.auto_proof_stage(\n",
    "    neuron_obj_axon,\n",
    "    mesh_decimated = mesh_decimated,\n",
    "    calculate_after_proof_stats = False,\n",
    ")\n",
    "\n",
    "_ = npu.after_auto_proof_stats(\n",
    "    neuron_obj_proof,\n",
    "    store_in_obj = True,\n",
    ")\n",
    "\n",
    "# Saving off the autoproofread neuron\n",
    "\n",
    "vdi.save_neuron_obj_auto_proof(\n",
    "    neuron_obj_proof,\n",
    ")\n",
    "\n",
    "# Plotting the final neuron\n",
    "\n",
    "from neurd import synapse_utils as syu\n",
    "\n",
    "from datasci_tools import ipyvolume_utils as ipvu\n",
    "ipvu.plot_objects(\n",
    "    neuron_obj_axon.mesh,\n",
    "    meshes = [neuron_obj_proof.mesh],\n",
    "    meshes_colors=\"red\"\n",
    ")\n",
    "\n",
    "syu.plot_synapses(neuron_obj_proof)\n",
    "\n",
    "syu.plot_synapses_error_from_neuron_obj(neuron_obj_proof)    \n",
    "\n",
    "syu.plot_synapses_valid_from_neuron_obj(neuron_obj_proof)  \n",
    "\n",
    "nviz.plot_compartments(neuron_obj_proof)"
   ]
  }
 ],
 "metadata": {
  "kernelspec": {
   "display_name": "Python 3 (ipykernel)",
   "language": "python",
   "name": "python3"
  },
  "language_info": {
   "codemirror_mode": {
    "name": "ipython",
    "version": 3
   },
   "file_extension": ".py",
   "mimetype": "text/x-python",
   "name": "python",
   "nbconvert_exporter": "python",
   "pygments_lexer": "ipython3",
   "version": "3.8.0"
  }
 },
 "nbformat": 4,
 "nbformat_minor": 5
}
