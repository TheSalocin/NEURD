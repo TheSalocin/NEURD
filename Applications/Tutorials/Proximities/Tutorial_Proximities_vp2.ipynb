{
 "cells": [
  {
   "cell_type": "code",
   "execution_count": 1,
   "id": "c9709931",
   "metadata": {},
   "outputs": [],
   "source": [
    "%load_ext autoreload\n",
    "%autoreload 2"
   ]
  },
  {
   "cell_type": "code",
   "execution_count": 2,
   "id": "ec3b4f13",
   "metadata": {},
   "outputs": [
    {
     "name": "stdout",
     "output_type": "stream",
     "text": [
      "Jupyter environment detected. Enabling Open3D WebVisualizer.\n",
      "[Open3D INFO] WebRTC GUI backend enabled.\n",
      "[Open3D INFO] WebRTCWindowSystem: HTTP handshake server disabled.\n"
     ]
    }
   ],
   "source": [
    "import neurd"
   ]
  },
  {
   "cell_type": "code",
   "execution_count": 31,
   "id": "eb19670b",
   "metadata": {},
   "outputs": [],
   "source": [
    "from neurd.vdi_microns import volume_data_interface as vdi\n",
    "vdi.set_parameters_for_directory_modules()"
   ]
  },
  {
   "cell_type": "code",
   "execution_count": 33,
   "id": "4f980c7d",
   "metadata": {},
   "outputs": [],
   "source": [
    "vdi.synapse_filepath"
   ]
  },
  {
   "cell_type": "code",
   "execution_count": 4,
   "id": "b614707a",
   "metadata": {
    "scrolled": true
   },
   "outputs": [
    {
     "name": "stdout",
     "output_type": "stream",
     "text": [
      "Decompressing Neuron in minimal output mode...please wait\n"
     ]
    }
   ],
   "source": [
    "segment_id_pre = 864691135567721964\n",
    "directory = \"../Auto_Proof_Pipeline/Single_Soma_Inh/\"\n",
    "\n",
    "neuron_obj_pre = vdi.load_neuron_obj_auto_proof(\n",
    "    segment_id_pre,\n",
    "    directory = directory,\n",
    "    meshes_directory = directory,\n",
    ")"
   ]
  },
  {
   "cell_type": "code",
   "execution_count": 5,
   "id": "57af80a6",
   "metadata": {},
   "outputs": [
    {
     "name": "stdout",
     "output_type": "stream",
     "text": [
      "Decompressing Neuron in minimal output mode...please wait\n"
     ]
    }
   ],
   "source": [
    "segment_id_post = 864691134917511946\n",
    "directory = \"../Auto_Proof_Pipeline/Single_Soma_Exc/\"\n",
    "\n",
    "neuron_obj_post = vdi.load_neuron_obj_auto_proof(\n",
    "    segment_id_post,\n",
    "    directory = directory,\n",
    "    meshes_directory = directory,\n",
    ")"
   ]
  },
  {
   "cell_type": "code",
   "execution_count": 35,
   "id": "51dda7a3",
   "metadata": {},
   "outputs": [],
   "source": [
    "neuron_obj_pre.synapse_filepath = (\n",
    "    \"/neurd_packages/NEURD/Applications/Tutorials/Auto_Proof_Pipeline/Single_Soma_Inh/864691135567721964_synapses.csv\"\n",
    ")\n",
    "\n",
    "neuron_obj_post.synapse_filepath = (\n",
    "    \"/neurd_packages/NEURD/Applications/Tutorials/Auto_Proof_Pipeline/Single_Soma_Exc/864691134917511946_synapses.csv\"\n",
    ")"
   ]
  },
  {
   "cell_type": "code",
   "execution_count": 36,
   "id": "16d628b4",
   "metadata": {
    "scrolled": true
   },
   "outputs": [
    {
     "data": {
      "application/vnd.jupyter.widget-view+json": {
       "model_id": "9de1b966d43847a09b2b13ac80f437ba",
       "version_major": 2,
       "version_minor": 0
      },
      "text/plain": [
       "HBox(children=(FloatSlider(value=0.3, description='Size', max=3.0), Dropdown(description='Geo', index=3, optio…"
      ]
     },
     "metadata": {},
     "output_type": "display_data"
    },
    {
     "data": {
      "application/vnd.jupyter.widget-view+json": {
       "model_id": "d8b3b176ec9d47b8b40e72db0d418bb2",
       "version_major": 2,
       "version_minor": 0
      },
      "text/plain": [
       "Container(figure=Figure(box_center=[0.5, 0.5, 0.5], box_size=[1.0, 1.0, 1.0], camera=PerspectiveCamera(fov=45.…"
      ]
     },
     "metadata": {},
     "output_type": "display_data"
    }
   ],
   "source": [
    "vdi.set_parameters_for_directory_modules()\n",
    "\n",
    "verbose = True\n",
    "\n",
    "from neurd import proximity_utils as pxu\n",
    "\n",
    "prox_data = pxu.proximity_pre_post(\n",
    "    segment_id_pre = neuron_obj_pre,\n",
    "    segment_id_post = neuron_obj_post,\n",
    "    verbose = None,\n",
    "    return_df = False,\n",
    ")"
   ]
  },
  {
   "cell_type": "code",
   "execution_count": null,
   "id": "8dcd5121",
   "metadata": {},
   "outputs": [],
   "source": [
    "prox_data = pxu.proximity_pre_post(\n",
    "    segment_id_pre = neuron_obj_pre,\n",
    "    segment_id_post = neuron_obj_post,\n",
    "    verbose = None,\n",
    "    return_df = False,\n",
    ")"
   ]
  },
  {
   "cell_type": "code",
   "execution_count": 37,
   "id": "a29e124e",
   "metadata": {},
   "outputs": [
    {
     "data": {
      "text/plain": [
       "[{'prox_id': 1,\n",
       "  'proximity_dist': 304.7081134148013,\n",
       "  'proximity_dist_non_adjusted': 589.1624974227256,\n",
       "  'presyn_proximity_x_nm': 545383.1149757832,\n",
       "  'presyn_proximity_y_nm': 766673.392416418,\n",
       "  'presyn_proximity_z_nm': 925213.3996152361,\n",
       "  'postsyn_proximity_x_nm': 544823.7925608363,\n",
       "  'postsyn_proximity_y_nm': 766782.3654817842,\n",
       "  'postsyn_proximity_z_nm': 925363.0517302632,\n",
       "  'postsyn_compartment': 'apical',\n",
       "  'presyn_width': 210.9508829783187,\n",
       "  'postsyn_width': 284.45438400792426,\n",
       "  'presyn_euclidean_distance_to_soma': 63899.74935581597,\n",
       "  'postsyn_euclidean_distance_to_soma': 123567.61855470437,\n",
       "  'presyn_skeletal_distance_to_soma': 165058.2612483813,\n",
       "  'postsyn_skeletal_distance_to_soma': 141777.4265302445,\n",
       "  'synapse_id': 89885603,\n",
       "  'synapse_id_dist': 177.63563756398864,\n",
       "  'n_synapses': 1,\n",
       "  'n_synapse_post': 8,\n",
       "  'n_spine_post': 4,\n",
       "  'n_synapse_pre_raw': 4,\n",
       "  'n_synapse_pre_proof': 4},\n",
       " {'prox_id': 2,\n",
       "  'proximity_dist': 325.11229453883055,\n",
       "  'proximity_dist_non_adjusted': 599.5566464790271,\n",
       "  'presyn_proximity_x_nm': 585191.9539707615,\n",
       "  'presyn_proximity_y_nm': 726523.4509688284,\n",
       "  'presyn_proximity_z_nm': 1025452.3005271858,\n",
       "  'postsyn_proximity_x_nm': 585603.9589068502,\n",
       "  'postsyn_proximity_y_nm': 726641.3064407695,\n",
       "  'postsyn_proximity_z_nm': 1025871.6216364914,\n",
       "  'postsyn_compartment': 'oblique',\n",
       "  'presyn_width': 123.52067126450915,\n",
       "  'postsyn_width': 274.44435194019655,\n",
       "  'presyn_euclidean_distance_to_soma': 125697.71511740139,\n",
       "  'postsyn_euclidean_distance_to_soma': 45091.07610663043,\n",
       "  'presyn_skeletal_distance_to_soma': 220436.6385002366,\n",
       "  'postsyn_skeletal_distance_to_soma': 72262.08144542231,\n",
       "  'synapse_id': 105007182,\n",
       "  'synapse_id_dist': 683.9647468399228,\n",
       "  'n_synapses': 1,\n",
       "  'n_synapse_post': 3,\n",
       "  'n_spine_post': 0,\n",
       "  'n_synapse_pre_raw': 4,\n",
       "  'n_synapse_pre_proof': 4},\n",
       " {'prox_id': 3,\n",
       "  'proximity_dist': 834.7527492681066,\n",
       "  'proximity_dist_non_adjusted': 1162.5454431373857,\n",
       "  'presyn_proximity_x_nm': 575192.2613437785,\n",
       "  'presyn_proximity_y_nm': 735572.5978573064,\n",
       "  'presyn_proximity_z_nm': 996776.6797841163,\n",
       "  'postsyn_proximity_x_nm': 575206.1720132912,\n",
       "  'postsyn_proximity_y_nm': 734424.9807396614,\n",
       "  'postsyn_proximity_z_nm': 996961.864426896,\n",
       "  'postsyn_compartment': 'oblique',\n",
       "  'presyn_width': 161.1344435531172,\n",
       "  'postsyn_width': 327.7926938692791,\n",
       "  'presyn_euclidean_distance_to_soma': 99090.23980773268,\n",
       "  'postsyn_euclidean_distance_to_soma': 57073.03633341122,\n",
       "  'presyn_skeletal_distance_to_soma': 210390.39124942297,\n",
       "  'postsyn_skeletal_distance_to_soma': 105199.86896197675,\n",
       "  'synapse_id': None,\n",
       "  'synapse_id_dist': None,\n",
       "  'n_synapses': 0,\n",
       "  'n_synapse_post': 6,\n",
       "  'n_spine_post': 3,\n",
       "  'n_synapse_pre_raw': 4,\n",
       "  'n_synapse_pre_proof': 4},\n",
       " {'prox_id': 4,\n",
       "  'proximity_dist': 1327.2529394405035,\n",
       "  'proximity_dist_non_adjusted': 1375.8822774271518,\n",
       "  'presyn_proximity_x_nm': 548970.719175691,\n",
       "  'presyn_proximity_y_nm': 705372.8865699172,\n",
       "  'presyn_proximity_z_nm': 963686.2309114694,\n",
       "  'postsyn_proximity_x_nm': 548253.813764172,\n",
       "  'postsyn_proximity_y_nm': 704408.8244370868,\n",
       "  'postsyn_proximity_z_nm': 963015.6469299165,\n",
       "  'postsyn_compartment': 'oblique',\n",
       "  'presyn_width': 131.23030872715938,\n",
       "  'postsyn_width': 48.62933798664829,\n",
       "  'presyn_euclidean_distance_to_soma': 102934.00241372471,\n",
       "  'postsyn_euclidean_distance_to_soma': 96035.03591115707,\n",
       "  'presyn_skeletal_distance_to_soma': 144517.1893708821,\n",
       "  'postsyn_skeletal_distance_to_soma': 171843.90340668545,\n",
       "  'synapse_id': None,\n",
       "  'synapse_id_dist': None,\n",
       "  'n_synapses': 0,\n",
       "  'n_synapse_post': 2,\n",
       "  'n_spine_post': 0,\n",
       "  'n_synapse_pre_raw': 5,\n",
       "  'n_synapse_pre_proof': 1},\n",
       " {'prox_id': 5,\n",
       "  'proximity_dist': 4917.644356419923,\n",
       "  'proximity_dist_non_adjusted': 5181.64837767177,\n",
       "  'presyn_proximity_x_nm': 576619.9,\n",
       "  'presyn_proximity_y_nm': 754370.1,\n",
       "  'presyn_proximity_z_nm': 931235.2,\n",
       "  'postsyn_proximity_x_nm': 575045.5734126072,\n",
       "  'postsyn_proximity_y_nm': 759231.7867063036,\n",
       "  'postsyn_proximity_z_nm': 932092.5086234298,\n",
       "  'postsyn_compartment': 'basal',\n",
       "  'presyn_width': 202.63399525152133,\n",
       "  'postsyn_width': 264.00402125184706,\n",
       "  'presyn_euclidean_distance_to_soma': 40860.06017073569,\n",
       "  'postsyn_euclidean_distance_to_soma': 117726.11724791207,\n",
       "  'presyn_skeletal_distance_to_soma': 168941.28540829645,\n",
       "  'postsyn_skeletal_distance_to_soma': 125132.61077328963,\n",
       "  'synapse_id': None,\n",
       "  'synapse_id_dist': None,\n",
       "  'n_synapses': 0,\n",
       "  'n_synapse_post': 3,\n",
       "  'n_spine_post': 1,\n",
       "  'n_synapse_pre_raw': 1,\n",
       "  'n_synapse_pre_proof': 1}]"
      ]
     },
     "execution_count": 37,
     "metadata": {},
     "output_type": "execute_result"
    }
   ],
   "source": [
    "prox_data"
   ]
  },
  {
   "cell_type": "code",
   "execution_count": 43,
   "id": "5c26aa21",
   "metadata": {},
   "outputs": [
    {
     "name": "stdout",
     "output_type": "stream",
     "text": [
      "prox_no_syn_color= purple\n",
      "prox_with_syn_color= green\n",
      "presyn_mesh_color= red\n",
      "postsyn_mesh_color= blue\n"
     ]
    },
    {
     "data": {
      "application/vnd.jupyter.widget-view+json": {
       "model_id": "fb59ac3adf0842b0b538983551470294",
       "version_major": 2,
       "version_minor": 0
      },
      "text/plain": [
       "HBox(children=(FloatSlider(value=0.3, description='Size', max=3.0), Dropdown(description='Geo', index=3, optio…"
      ]
     },
     "metadata": {},
     "output_type": "display_data"
    },
    {
     "data": {
      "application/vnd.jupyter.widget-view+json": {
       "model_id": "c2bbb9e15f0f4c88bc5ab43e54342647",
       "version_major": 2,
       "version_minor": 0
      },
      "text/plain": [
       "HBox(children=(FloatSlider(value=0.3, description='Size', max=3.0), Dropdown(description='Geo', index=3, optio…"
      ]
     },
     "metadata": {},
     "output_type": "display_data"
    },
    {
     "data": {
      "application/vnd.jupyter.widget-view+json": {
       "model_id": "ab936900b802490dbea2ff55105912a5",
       "version_major": 2,
       "version_minor": 0
      },
      "text/plain": [
       "Container(figure=Figure(box_center=[0.5, 0.5, 0.5], box_size=[1.0, 1.0, 1.0], camera=PerspectiveCamera(fov=45.…"
      ]
     },
     "metadata": {},
     "output_type": "display_data"
    }
   ],
   "source": [
    "pxu.plot_proximity(\n",
    "    prox_data,\n",
    "    mesh_presyn = neuron_obj_pre.mesh_from_branches,\n",
    "    mesh_postsyn = neuron_obj_post.mesh_from_branches,\n",
    ")"
   ]
  },
  {
   "cell_type": "code",
   "execution_count": null,
   "id": "01e99d84",
   "metadata": {},
   "outputs": [],
   "source": []
  }
 ],
 "metadata": {
  "kernelspec": {
   "display_name": "Python 3 (ipykernel)",
   "language": "python",
   "name": "python3"
  },
  "language_info": {
   "codemirror_mode": {
    "name": "ipython",
    "version": 3
   },
   "file_extension": ".py",
   "mimetype": "text/x-python",
   "name": "python",
   "nbconvert_exporter": "python",
   "pygments_lexer": "ipython3",
   "version": "3.8.0"
  }
 },
 "nbformat": 4,
 "nbformat_minor": 5
}
