{
 "cells": [
  {
   "cell_type": "code",
   "execution_count": 2,
   "id": "209a2345",
   "metadata": {},
   "outputs": [
    {
     "data": {
      "text/plain": [
       "'\\nPurpose: To demonstrate how a custom made vdi_override \\ncould be incorporated in the NEURD pipeline\\n\\nApplication: \\n1) Apply own volume specific paramters\\nand functions easily\\n\\n'"
      ]
     },
     "execution_count": 2,
     "metadata": {},
     "output_type": "execute_result"
    }
   ],
   "source": [
    "\"\"\"\n",
    "Purpose: To demonstrate how a custom made vdi_override \n",
    "could be incorporated in the NEURD pipeline\n",
    "\n",
    "Application: \n",
    "1) Apply own volume specific paramters\n",
    "and functions easily\n",
    "\n",
    "\"\"\""
   ]
  },
  {
   "cell_type": "code",
   "execution_count": 3,
   "id": "b07c4966",
   "metadata": {},
   "outputs": [],
   "source": [
    "%load_ext autoreload\n",
    "%autoreload 2"
   ]
  },
  {
   "cell_type": "markdown",
   "id": "a6145bef",
   "metadata": {},
   "source": [
    "# Importing the vdi"
   ]
  },
  {
   "cell_type": "code",
   "execution_count": 6,
   "id": "69772206",
   "metadata": {},
   "outputs": [],
   "source": [
    "from vdi_whale import volume_data_interface as vdi"
   ]
  },
  {
   "cell_type": "markdown",
   "id": "dc8ca4f3",
   "metadata": {},
   "source": [
    "# Loading a neuron object"
   ]
  },
  {
   "cell_type": "code",
   "execution_count": null,
   "id": "5255ad08",
   "metadata": {},
   "outputs": [],
   "source": [
    "segment_id = 864691135567721964\n",
    "folder = \"Single_Soma_Inh\"\n",
    "mesh_filepath = f\"../Auto_Proof_Pipeline/{folder}/{segment_id}.off\"\n",
    "neuron_obj_filepath = f\"../Auto_Proof_Pipeline/{folder}/{segment_id}_auto_proof.pbz2\""
   ]
  },
  {
   "cell_type": "code",
   "execution_count": null,
   "id": "ab3a108b",
   "metadata": {},
   "outputs": [],
   "source": [
    "neuron_obj = vdi.load_neuron_obj(\n",
    "    segment_id = segment_id,\n",
    "    mesh_filepath = mesh_filepath,\n",
    "    filepath = neuron_obj_filepath\n",
    ")"
   ]
  },
  {
   "cell_type": "code",
   "execution_count": null,
   "id": "f667eb9d",
   "metadata": {},
   "outputs": [],
   "source": [
    "nviz.plot_axon(neuron_obj)"
   ]
  },
  {
   "cell_type": "markdown",
   "id": "934c405e",
   "metadata": {},
   "source": [
    "# Rotating the neuron obj"
   ]
  },
  {
   "cell_type": "code",
   "execution_count": null,
   "id": "b2d3fac7",
   "metadata": {},
   "outputs": [],
   "source": [
    "import numpy as np\n",
    "align_matrix = np.array([\n",
    "    [0,1,0],\n",
    "    [0,0,1],\n",
    "    [1,0,0]\n",
    "])"
   ]
  },
  {
   "cell_type": "code",
   "execution_count": null,
   "id": "84a47bf6",
   "metadata": {},
   "outputs": [],
   "source": [
    "neuron_obj_aligned = vdi.align_neuron_obj(neuron_obj,align_matrix=align_matrix)\n",
    "neuron_obj_aligned"
   ]
  },
  {
   "cell_type": "code",
   "execution_count": null,
   "id": "de249442",
   "metadata": {},
   "outputs": [],
   "source": [
    "nviz.plot_axon(neuron_obj)"
   ]
  },
  {
   "cell_type": "code",
   "execution_count": null,
   "id": "4678147d",
   "metadata": {},
   "outputs": [],
   "source": []
  }
 ],
 "metadata": {
  "kernelspec": {
   "display_name": "Python 3 (ipykernel)",
   "language": "python",
   "name": "python3"
  },
  "language_info": {
   "codemirror_mode": {
    "name": "ipython",
    "version": 3
   },
   "file_extension": ".py",
   "mimetype": "text/x-python",
   "name": "python",
   "nbconvert_exporter": "python",
   "pygments_lexer": "ipython3",
   "version": "3.8.0"
  }
 },
 "nbformat": 4,
 "nbformat_minor": 5
}
