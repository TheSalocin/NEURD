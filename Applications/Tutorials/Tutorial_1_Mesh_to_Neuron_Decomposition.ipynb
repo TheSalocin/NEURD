{
 "cells": [
  {
   "cell_type": "code",
   "execution_count": null,
   "id": "28160914",
   "metadata": {},
   "outputs": [],
   "source": [
    "%load_ext autoreload\n",
    "%autoreload 2"
   ]
  },
  {
   "cell_type": "code",
   "execution_count": null,
   "id": "766f78b2",
   "metadata": {},
   "outputs": [],
   "source": [
    "import neurd"
   ]
  },
  {
   "cell_type": "markdown",
   "id": "31c7d43e",
   "metadata": {},
   "source": [
    "# Parameter Tutorial (housed inside the vdi)"
   ]
  },
  {
   "cell_type": "code",
   "execution_count": null,
   "id": "f8672a79",
   "metadata": {},
   "outputs": [],
   "source": [
    "from neurd import parameter_utils as paru"
   ]
  },
  {
   "cell_type": "code",
   "execution_count": null,
   "id": "8217048a",
   "metadata": {},
   "outputs": [],
   "source": [
    "filepath = \"../../neurd/parameter_configs/parameters_config_default.py\"\n",
    "filepath"
   ]
  },
  {
   "cell_type": "code",
   "execution_count": null,
   "id": "fa6ca35f",
   "metadata": {},
   "outputs": [],
   "source": [
    "obj = paru.parameters_from_filepath(\n",
    "    filepath = filepath\n",
    ")\n",
    "\n",
    "obj"
   ]
  },
  {
   "cell_type": "code",
   "execution_count": null,
   "id": "4adcb07a",
   "metadata": {},
   "outputs": [],
   "source": [
    "print(obj)"
   ]
  },
  {
   "cell_type": "code",
   "execution_count": null,
   "id": "db6b38b3",
   "metadata": {
    "scrolled": true
   },
   "outputs": [],
   "source": [
    "from neurd import soma_extraction_utils as sm\n",
    "paru.parameter_list_from_module(\n",
    "    sm\n",
    ")"
   ]
  },
  {
   "cell_type": "code",
   "execution_count": null,
   "id": "e4e424f0",
   "metadata": {},
   "outputs": [],
   "source": [
    "print(obj[\"apical_utils\"])"
   ]
  },
  {
   "cell_type": "code",
   "execution_count": null,
   "id": "99db48aa",
   "metadata": {},
   "outputs": [],
   "source": [
    "paru.parameter_dict_from_module_and_obj(\n",
    "    apu,\n",
    "    vdi\n",
    ")"
   ]
  },
  {
   "cell_type": "code",
   "execution_count": null,
   "id": "9cc20d08",
   "metadata": {},
   "outputs": [],
   "source": [
    "paru.set_parameters_for_directory_modules_from_obj(\n",
    "    vdi,\n",
    "    directory = \"../../neurd/\",\n",
    "    verbose_loop=True,\n",
    "    verbose_param=True,\n",
    "    error_on_no_attr=True\n",
    ")"
   ]
  },
  {
   "cell_type": "code",
   "execution_count": null,
   "id": "c405b6e0",
   "metadata": {},
   "outputs": [],
   "source": [
    "obj.module_attr_map(\n",
    "    \"soma_extraction_utils\"\n",
    ")"
   ]
  },
  {
   "cell_type": "code",
   "execution_count": null,
   "id": "8a4d6824",
   "metadata": {},
   "outputs": [],
   "source": [
    "\"\"\"\n",
    "Behind the scenes workflow:\n",
    "\n",
    "1) Module request parameters\n",
    "2) parameter_obj generates list of parameters settings (dict)\n",
    "3) setattr of module with parameter setting dict\n",
    "\n",
    "\"\"\""
   ]
  },
  {
   "cell_type": "code",
   "execution_count": null,
   "id": "fa73255c",
   "metadata": {},
   "outputs": [],
   "source": [
    "paru.parameter_list_from_module(\n",
    "    sm\n",
    ")"
   ]
  },
  {
   "cell_type": "markdown",
   "id": "043a7f38",
   "metadata": {},
   "source": [
    "# Volume Data Interface"
   ]
  },
  {
   "cell_type": "code",
   "execution_count": null,
   "id": "d04d9c4f",
   "metadata": {},
   "outputs": [],
   "source": [
    "from neurd.vdi_microns import volume_data_interface as vdi\n",
    "vdi.set_parameters_for_directory_modules()"
   ]
  },
  {
   "cell_type": "markdown",
   "id": "9344ef0b",
   "metadata": {},
   "source": [
    "# Output Storage"
   ]
  },
  {
   "cell_type": "code",
   "execution_count": null,
   "id": "668e3d4a",
   "metadata": {},
   "outputs": [],
   "source": [
    "from python_tools import pipeline"
   ]
  },
  {
   "cell_type": "code",
   "execution_count": null,
   "id": "626c212a",
   "metadata": {},
   "outputs": [],
   "source": [
    "p_obj = pipeline.PipelineProducts(\n",
    "    {\"decimation\":{\n",
    "        'decimation_ratio':0.25,\n",
    "        'mesh_original':None\n",
    "        },\n",
    "     'soma_identification':{\n",
    "         'number_of_somas':2,\n",
    "     }\n",
    "    }\n",
    ")\n",
    "\n",
    "p_obj"
   ]
  },
  {
   "cell_type": "code",
   "execution_count": null,
   "id": "d1419bbb",
   "metadata": {},
   "outputs": [],
   "source": [
    "print(p_obj)"
   ]
  },
  {
   "cell_type": "code",
   "execution_count": null,
   "id": "08a9d6d9",
   "metadata": {},
   "outputs": [],
   "source": [
    "print(p_obj['decimation'])#['decimation_ratio']"
   ]
  },
  {
   "cell_type": "markdown",
   "id": "69d7b5d6",
   "metadata": {},
   "source": [
    "# Using Neurd"
   ]
  },
  {
   "cell_type": "code",
   "execution_count": null,
   "id": "71016491",
   "metadata": {},
   "outputs": [],
   "source": [
    "import neurd"
   ]
  },
  {
   "cell_type": "code",
   "execution_count": null,
   "id": "c2fa72fb",
   "metadata": {},
   "outputs": [],
   "source": [
    "from neurd.vdi_microns import volume_data_interface as vdi\n",
    "vdi.set_parameters_for_directory_modules()"
   ]
  },
  {
   "cell_type": "markdown",
   "id": "d269c7e6",
   "metadata": {},
   "source": [
    "# Data Prep: Loading mesh"
   ]
  },
  {
   "cell_type": "code",
   "execution_count": null,
   "id": "5a7c46a3",
   "metadata": {},
   "outputs": [],
   "source": [
    "segment_id = 123"
   ]
  },
  {
   "cell_type": "code",
   "execution_count": null,
   "id": "a95fe39b",
   "metadata": {},
   "outputs": [],
   "source": [
    "mesh = vdi.fetch_segment_id_mesh(\n",
    "    segment_id,\n",
    "    meshes_folder=\"../autoproof_neuron_pipeline/\",\n",
    "    ext=\"off\",\n",
    "    plot = True,\n",
    ")\n",
    "mesh"
   ]
  },
  {
   "cell_type": "code",
   "execution_count": null,
   "id": "f9908ef9",
   "metadata": {},
   "outputs": [],
   "source": [
    "from python_tools import pipeline\n",
    "\n",
    "products = pipeline.PipelineProducts()\n",
    "products"
   ]
  },
  {
   "cell_type": "markdown",
   "id": "e096212d",
   "metadata": {},
   "source": [
    "# Step 1: Decimation"
   ]
  },
  {
   "cell_type": "code",
   "execution_count": null,
   "id": "9586061e",
   "metadata": {},
   "outputs": [],
   "source": [
    "from mesh_tools import trimesh_utils as tu"
   ]
  },
  {
   "cell_type": "code",
   "execution_count": null,
   "id": "6e07771d",
   "metadata": {},
   "outputs": [],
   "source": [
    "decimation_parameters = dict(\n",
    "    decimation_ratio =0.25,\n",
    ")"
   ]
  },
  {
   "cell_type": "code",
   "execution_count": null,
   "id": "a99d76f1",
   "metadata": {},
   "outputs": [],
   "source": [
    "mesh_decimated = tu.decimate(\n",
    "    mesh,\n",
    "    **decimation_parameters\n",
    ")"
   ]
  },
  {
   "cell_type": "code",
   "execution_count": null,
   "id": "4c6bf3fb",
   "metadata": {},
   "outputs": [],
   "source": [
    "mesh,mesh_decimated"
   ]
  },
  {
   "cell_type": "code",
   "execution_count": null,
   "id": "a3fbd132",
   "metadata": {},
   "outputs": [],
   "source": [
    "products.set_stage_attrs(\n",
    "    stage = \"decimation\",\n",
    "    attr_dict = dict(\n",
    "        decimation_parameters = decimation_parameters,\n",
    "        original_mesh = mesh,\n",
    "    ),\n",
    "    \n",
    ")\n",
    "\n",
    "print(products)"
   ]
  },
  {
   "cell_type": "markdown",
   "id": "f9528e82",
   "metadata": {},
   "source": [
    "# Step 2: Soma Identification"
   ]
  },
  {
   "cell_type": "code",
   "execution_count": null,
   "id": "44dc16b1",
   "metadata": {},
   "outputs": [],
   "source": [
    "from neurd import soma_extraction_utils as sm"
   ]
  },
  {
   "cell_type": "code",
   "execution_count": null,
   "id": "ec96764f",
   "metadata": {},
   "outputs": [],
   "source": [
    "soma_extraction_parameters = dict()"
   ]
  },
  {
   "cell_type": "code",
   "execution_count": null,
   "id": "dea181a8",
   "metadata": {},
   "outputs": [],
   "source": [
    "#optional\n",
    "\n",
    "from neurd import parameter_utils as paru\n",
    "paru.category_param_from_module(\n",
    "        module = sm,\n",
    "        category = \"glia\",\n",
    ")"
   ]
  },
  {
   "cell_type": "code",
   "execution_count": null,
   "id": "97a2f07b",
   "metadata": {
    "scrolled": true
   },
   "outputs": [],
   "source": [
    "verbose = True\n",
    "\n",
    "soma_products = sm.soma_indentification(\n",
    "    mesh,\n",
    "    verbose=verbose,\n",
    "    **soma_extraction_parameters\n",
    ")"
   ]
  },
  {
   "cell_type": "code",
   "execution_count": null,
   "id": "e184dac2",
   "metadata": {},
   "outputs": [],
   "source": [
    "print(soma_products)"
   ]
  },
  {
   "cell_type": "code",
   "execution_count": null,
   "id": "08375c90",
   "metadata": {
    "scrolled": true
   },
   "outputs": [],
   "source": [
    "from python_tools import ipyvolume_utils as ipvu\n",
    "ipvu.plot_objects(\n",
    "    meshes = soma_products.soma_meshes\n",
    ")"
   ]
  },
  {
   "cell_type": "code",
   "execution_count": null,
   "id": "7da78c24",
   "metadata": {},
   "outputs": [],
   "source": [
    "sm.plot_soma_products(\n",
    "    mesh,\n",
    "    soma_products = soma_products,\n",
    "    verbose = True\n",
    ")"
   ]
  },
  {
   "cell_type": "code",
   "execution_count": null,
   "id": "e51936db",
   "metadata": {},
   "outputs": [],
   "source": [
    "soma_products.soma_extraction_parameters = soma_extraction_parameters\n",
    "soma_products"
   ]
  },
  {
   "cell_type": "code",
   "execution_count": null,
   "id": "559e48a0",
   "metadata": {},
   "outputs": [],
   "source": [
    "products.set_stage_attrs(\n",
    "    stage = \"soma_identification\",\n",
    "    attr_dict = soma_products,\n",
    ")\n",
    "\n",
    "print(products)"
   ]
  },
  {
   "cell_type": "markdown",
   "id": "01ee83e4",
   "metadata": {},
   "source": [
    "# Decomposition"
   ]
  },
  {
   "cell_type": "code",
   "execution_count": null,
   "id": "24e794f8",
   "metadata": {},
   "outputs": [],
   "source": [
    "decomposition_parameters = {}"
   ]
  },
  {
   "cell_type": "code",
   "execution_count": null,
   "id": "9b66782f",
   "metadata": {
    "scrolled": true
   },
   "outputs": [],
   "source": [
    "from neurd import neuron\n",
    "\n",
    "neuron_obj = neuron.Neuron(\n",
    "    mesh = mesh,\n",
    "    pipeline_products = products,\n",
    "    suppress_preprocessing_print=False,\n",
    "    suppress_output=False,\n",
    "    **decomposition_parameters\n",
    ")"
   ]
  },
  {
   "cell_type": "code",
   "execution_count": null,
   "id": "b23f62a2",
   "metadata": {},
   "outputs": [],
   "source": [
    "from neurd import neuron_visualizations as nviz\n",
    "nviz.visualize_neuron(\n",
    "    neuron_obj,\n",
    "    limb_branch_dict=\"all\"\n",
    ")"
   ]
  },
  {
   "cell_type": "code",
   "execution_count": null,
   "id": "49b682a4",
   "metadata": {},
   "outputs": [],
   "source": [
    "neuron_obj.calculate_decomposition_products(\n",
    "    store_in_obj = True,\n",
    ")"
   ]
  },
  {
   "cell_type": "code",
   "execution_count": null,
   "id": "fdfe7ba6",
   "metadata": {},
   "outputs": [],
   "source": [
    "print(neuron_obj.pipeline_products)"
   ]
  },
  {
   "cell_type": "markdown",
   "id": "ec57712b",
   "metadata": {},
   "source": [
    "# Saving off neuron"
   ]
  },
  {
   "cell_type": "code",
   "execution_count": null,
   "id": "2438c14c",
   "metadata": {},
   "outputs": [],
   "source": [
    "from neurd import neuron_utils as nru\n",
    "\n",
    "filepath = nru.save_compressed_neuron(\n",
    "    neuron_obj,\n",
    "    output_folder = \"./\",\n",
    "    file_name = f\"{segment_id}\",\n",
    "    return_file_path = True,\n",
    ")"
   ]
  }
 ],
 "metadata": {
  "kernelspec": {
   "display_name": "Python 3 (ipykernel)",
   "language": "python",
   "name": "python3"
  },
  "language_info": {
   "codemirror_mode": {
    "name": "ipython",
    "version": 3
   },
   "file_extension": ".py",
   "mimetype": "text/x-python",
   "name": "python",
   "nbconvert_exporter": "python",
   "pygments_lexer": "ipython3",
   "version": "3.8.0"
  }
 },
 "nbformat": 4,
 "nbformat_minor": 5
}
