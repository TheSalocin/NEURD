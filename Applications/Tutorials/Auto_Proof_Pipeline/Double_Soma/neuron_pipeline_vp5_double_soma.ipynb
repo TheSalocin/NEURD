{
 "cells": [
  {
   "cell_type": "code",
   "execution_count": 1,
   "id": "077350ae",
   "metadata": {},
   "outputs": [],
   "source": [
    "%load_ext autoreload\n",
    "%autoreload 2"
   ]
  },
  {
   "cell_type": "code",
   "execution_count": 2,
   "id": "c0765d62",
   "metadata": {
    "scrolled": true
   },
   "outputs": [
    {
     "name": "stdout",
     "output_type": "stream",
     "text": [
      "Jupyter environment detected. Enabling Open3D WebVisualizer.\n",
      "[Open3D INFO] WebRTC GUI backend enabled.\n",
      "[Open3D INFO] WebRTCWindowSystem: HTTP handshake server disabled.\n"
     ]
    }
   ],
   "source": [
    "import neurd"
   ]
  },
  {
   "cell_type": "code",
   "execution_count": 3,
   "id": "f59f25d5",
   "metadata": {
    "scrolled": true
   },
   "outputs": [],
   "source": [
    "from mesh_tools import trimesh_utils as tu\n",
    "from python_tools import ipyvolume_utils as ipvu\n",
    "from neurd import neuron_visualizations as nviz"
   ]
  },
  {
   "cell_type": "code",
   "execution_count": 4,
   "id": "c0b1bf59",
   "metadata": {},
   "outputs": [],
   "source": [
    "segment_id = 864691135510518224"
   ]
  },
  {
   "cell_type": "markdown",
   "id": "8c857d7b",
   "metadata": {},
   "source": [
    "# Load the appropriate volume data inferface object"
   ]
  },
  {
   "cell_type": "code",
   "execution_count": 78,
   "id": "863967b7",
   "metadata": {},
   "outputs": [],
   "source": [
    "from neurd.vdi_microns import volume_data_interface as vdi\n",
    "vdi.set_parameters_for_directory_modules()"
   ]
  },
  {
   "cell_type": "code",
   "execution_count": 6,
   "id": "f548b5a1",
   "metadata": {},
   "outputs": [
    {
     "data": {
      "text/plain": [
       "'/neurd_packages/NEURD/Applications/autoproof_neuron_pipeline/864691135510518224_synapses.csv'"
      ]
     },
     "execution_count": 6,
     "metadata": {},
     "output_type": "execute_result"
    }
   ],
   "source": [
    "synapse_filepath = f'/neurd_packages/NEURD/Applications/autoproof_neuron_pipeline/{segment_id}_synapses.csv'\n",
    "synapse_filepath"
   ]
  },
  {
   "cell_type": "code",
   "execution_count": 7,
   "id": "3b2dc190",
   "metadata": {},
   "outputs": [
    {
     "data": {
      "text/html": [
       "<div>\n",
       "<style scoped>\n",
       "    .dataframe tbody tr th:only-of-type {\n",
       "        vertical-align: middle;\n",
       "    }\n",
       "\n",
       "    .dataframe tbody tr th {\n",
       "        vertical-align: top;\n",
       "    }\n",
       "\n",
       "    .dataframe thead th {\n",
       "        text-align: right;\n",
       "    }\n",
       "</style>\n",
       "<table border=\"1\" class=\"dataframe\">\n",
       "  <thead>\n",
       "    <tr style=\"text-align: right;\">\n",
       "      <th></th>\n",
       "      <th>prepost</th>\n",
       "      <th>synapse_id</th>\n",
       "      <th>synapse_x</th>\n",
       "      <th>synapse_y</th>\n",
       "      <th>synapse_z</th>\n",
       "      <th>synapse_size</th>\n",
       "      <th>segment_id</th>\n",
       "    </tr>\n",
       "  </thead>\n",
       "  <tbody>\n",
       "    <tr>\n",
       "      <th>0</th>\n",
       "      <td>presyn</td>\n",
       "      <td>483766883</td>\n",
       "      <td>1488728</td>\n",
       "      <td>621944</td>\n",
       "      <td>1110480</td>\n",
       "      <td>4384</td>\n",
       "      <td>864691135510518224</td>\n",
       "    </tr>\n",
       "    <tr>\n",
       "      <th>1</th>\n",
       "      <td>presyn</td>\n",
       "      <td>478550136</td>\n",
       "      <td>1485480</td>\n",
       "      <td>626880</td>\n",
       "      <td>1111240</td>\n",
       "      <td>2068</td>\n",
       "      <td>864691135510518224</td>\n",
       "    </tr>\n",
       "    <tr>\n",
       "      <th>2</th>\n",
       "      <td>presyn</td>\n",
       "      <td>480939462</td>\n",
       "      <td>1481320</td>\n",
       "      <td>565104</td>\n",
       "      <td>1111800</td>\n",
       "      <td>11064</td>\n",
       "      <td>864691135510518224</td>\n",
       "    </tr>\n",
       "    <tr>\n",
       "      <th>3</th>\n",
       "      <td>presyn</td>\n",
       "      <td>479220146</td>\n",
       "      <td>1482788</td>\n",
       "      <td>601920</td>\n",
       "      <td>1054840</td>\n",
       "      <td>8636</td>\n",
       "      <td>864691135510518224</td>\n",
       "    </tr>\n",
       "    <tr>\n",
       "      <th>4</th>\n",
       "      <td>presyn</td>\n",
       "      <td>468794187</td>\n",
       "      <td>1454888</td>\n",
       "      <td>618200</td>\n",
       "      <td>1093960</td>\n",
       "      <td>3516</td>\n",
       "      <td>864691135510518224</td>\n",
       "    </tr>\n",
       "    <tr>\n",
       "      <th>...</th>\n",
       "      <td>...</td>\n",
       "      <td>...</td>\n",
       "      <td>...</td>\n",
       "      <td>...</td>\n",
       "      <td>...</td>\n",
       "      <td>...</td>\n",
       "      <td>...</td>\n",
       "    </tr>\n",
       "    <tr>\n",
       "      <th>960</th>\n",
       "      <td>postsyn</td>\n",
       "      <td>483712349</td>\n",
       "      <td>1501720</td>\n",
       "      <td>609480</td>\n",
       "      <td>1075880</td>\n",
       "      <td>17880</td>\n",
       "      <td>864691135510518224</td>\n",
       "    </tr>\n",
       "    <tr>\n",
       "      <th>961</th>\n",
       "      <td>postsyn</td>\n",
       "      <td>492052366</td>\n",
       "      <td>1524840</td>\n",
       "      <td>622592</td>\n",
       "      <td>1056880</td>\n",
       "      <td>8680</td>\n",
       "      <td>864691135510518224</td>\n",
       "    </tr>\n",
       "    <tr>\n",
       "      <th>962</th>\n",
       "      <td>postsyn</td>\n",
       "      <td>486032429</td>\n",
       "      <td>1492720</td>\n",
       "      <td>571480</td>\n",
       "      <td>1029520</td>\n",
       "      <td>2244</td>\n",
       "      <td>864691135510518224</td>\n",
       "    </tr>\n",
       "    <tr>\n",
       "      <th>963</th>\n",
       "      <td>postsyn</td>\n",
       "      <td>477362400</td>\n",
       "      <td>1476856</td>\n",
       "      <td>585624</td>\n",
       "      <td>1113440</td>\n",
       "      <td>18312</td>\n",
       "      <td>864691135510518224</td>\n",
       "    </tr>\n",
       "    <tr>\n",
       "      <th>964</th>\n",
       "      <td>postsyn</td>\n",
       "      <td>477549634</td>\n",
       "      <td>1472040</td>\n",
       "      <td>618048</td>\n",
       "      <td>1107880</td>\n",
       "      <td>1048</td>\n",
       "      <td>864691135510518224</td>\n",
       "    </tr>\n",
       "  </tbody>\n",
       "</table>\n",
       "<p>965 rows × 7 columns</p>\n",
       "</div>"
      ],
      "text/plain": [
       "     prepost  synapse_id  synapse_x  synapse_y  synapse_z  synapse_size  \\\n",
       "0     presyn   483766883    1488728     621944    1110480          4384   \n",
       "1     presyn   478550136    1485480     626880    1111240          2068   \n",
       "2     presyn   480939462    1481320     565104    1111800         11064   \n",
       "3     presyn   479220146    1482788     601920    1054840          8636   \n",
       "4     presyn   468794187    1454888     618200    1093960          3516   \n",
       "..       ...         ...        ...        ...        ...           ...   \n",
       "960  postsyn   483712349    1501720     609480    1075880         17880   \n",
       "961  postsyn   492052366    1524840     622592    1056880          8680   \n",
       "962  postsyn   486032429    1492720     571480    1029520          2244   \n",
       "963  postsyn   477362400    1476856     585624    1113440         18312   \n",
       "964  postsyn   477549634    1472040     618048    1107880          1048   \n",
       "\n",
       "             segment_id  \n",
       "0    864691135510518224  \n",
       "1    864691135510518224  \n",
       "2    864691135510518224  \n",
       "3    864691135510518224  \n",
       "4    864691135510518224  \n",
       "..                  ...  \n",
       "960  864691135510518224  \n",
       "961  864691135510518224  \n",
       "962  864691135510518224  \n",
       "963  864691135510518224  \n",
       "964  864691135510518224  \n",
       "\n",
       "[965 rows x 7 columns]"
      ]
     },
     "execution_count": 7,
     "metadata": {},
     "output_type": "execute_result"
    }
   ],
   "source": [
    "from python_tools import pandas_utils as pu\n",
    "df = pu.csv_to_df(synapse_filepath)\n",
    "df"
   ]
  },
  {
   "cell_type": "code",
   "execution_count": 8,
   "id": "6f7782f2",
   "metadata": {},
   "outputs": [],
   "source": [
    "vdi.set_synapse_filepath(\n",
    "    synapse_filepath\n",
    ")"
   ]
  },
  {
   "cell_type": "markdown",
   "id": "6f9b75c9",
   "metadata": {},
   "source": [
    "# Data Prep: Loading mesh"
   ]
  },
  {
   "cell_type": "code",
   "execution_count": 81,
   "id": "3c95c75b",
   "metadata": {},
   "outputs": [
    {
     "data": {
      "application/vnd.jupyter.widget-view+json": {
       "model_id": "d133d9976b1e4c22b14fd5586082466f",
       "version_major": 2,
       "version_minor": 0
      },
      "text/plain": [
       "Container(figure=Figure(box_center=[0.5, 0.5, 0.5], box_size=[1.0, 1.0, 1.0], camera=PerspectiveCamera(fov=45.…"
      ]
     },
     "metadata": {},
     "output_type": "display_data"
    },
    {
     "data": {
      "text/plain": [
       "<trimesh.Trimesh(vertices.shape=(154713, 3), faces.shape=(323535, 3))>"
      ]
     },
     "execution_count": 81,
     "metadata": {},
     "output_type": "execute_result"
    }
   ],
   "source": [
    "mesh = vdi.fetch_segment_id_mesh(\n",
    "    segment_id,\n",
    "    plot = True\n",
    ")\n",
    "mesh"
   ]
  },
  {
   "cell_type": "code",
   "execution_count": 10,
   "id": "0cfc1789",
   "metadata": {},
   "outputs": [
    {
     "data": {
      "text/plain": [
       "<python_tools.pipeline.PipelineProducts at 0x7f867fdf46a0>"
      ]
     },
     "execution_count": 10,
     "metadata": {},
     "output_type": "execute_result"
    }
   ],
   "source": [
    "from python_tools import pipeline\n",
    "\n",
    "products = pipeline.PipelineProducts()\n",
    "products"
   ]
  },
  {
   "cell_type": "markdown",
   "id": "7a30c933",
   "metadata": {},
   "source": [
    "# Step 1: Decimation"
   ]
  },
  {
   "cell_type": "code",
   "execution_count": 11,
   "id": "29e0844f",
   "metadata": {},
   "outputs": [
    {
     "data": {
      "text/plain": [
       "\"\\nNOTE: an already decimated mesh is used for the example\\nin order to speed up time, that's why the mesh_dec\\nobject will be overwritten with original mesh object\\n\""
      ]
     },
     "execution_count": 11,
     "metadata": {},
     "output_type": "execute_result"
    }
   ],
   "source": [
    "\"\"\"\n",
    "NOTE: an already decimated mesh is used for the example\n",
    "in order to speed up time, that's why the mesh_dec\n",
    "object will be overwritten with original mesh object\n",
    "\"\"\""
   ]
  },
  {
   "cell_type": "code",
   "execution_count": 12,
   "id": "cdbb6e70",
   "metadata": {},
   "outputs": [],
   "source": [
    "decimation_parameters = dict(\n",
    "    decimation_ratio =0.25,\n",
    ")"
   ]
  },
  {
   "cell_type": "code",
   "execution_count": 13,
   "id": "b3973f2c",
   "metadata": {},
   "outputs": [
    {
     "name": "stdout",
     "output_type": "stream",
     "text": [
      "xvfb-run -n 4782 -s \"-screen 0 800x600x24\" meshlabserver $@  -i /neurd_packages/NEURD/Applications/Tutorials/Auto_Proof_Pipeline/Double_Soma/temp/neuron_2797.off -o /neurd_packages/NEURD/Applications/Tutorials/Auto_Proof_Pipeline/Double_Soma/temp/neuron_2797_decimated.off -s /neurd_packages/NEURD/Applications/Tutorials/Auto_Proof_Pipeline/Double_Soma/temp/decimation_meshlab_25133529.mls\n"
     ]
    }
   ],
   "source": [
    "mesh_decimated = tu.decimate(\n",
    "    mesh,\n",
    "    **decimation_parameters\n",
    ")"
   ]
  },
  {
   "cell_type": "code",
   "execution_count": 14,
   "id": "bbf7c8d0",
   "metadata": {},
   "outputs": [
    {
     "name": "stdout",
     "output_type": "stream",
     "text": [
      "{\n",
      "  'decimation':\n",
      "  {\n",
      "    'decimation_parameters':\n",
      "    {\n",
      "      'decimation_ratio':0.25,\n",
      "    },\n",
      "    'segment_id':864691135510518224,\n",
      "  },\n",
      "}\n",
      "\n"
     ]
    }
   ],
   "source": [
    "# saving any parameters used or output products for later use\n",
    "products.set_stage_attrs(\n",
    "    stage = \"decimation\",\n",
    "    attr_dict = dict(\n",
    "        decimation_parameters = decimation_parameters,\n",
    "        segment_id = segment_id,\n",
    "    ),\n",
    "    \n",
    ")\n",
    "\n",
    "print(products)"
   ]
  },
  {
   "cell_type": "markdown",
   "id": "bc57fd52",
   "metadata": {},
   "source": [
    "# Step 2: Soma Identification"
   ]
  },
  {
   "cell_type": "code",
   "execution_count": 15,
   "id": "8866641c",
   "metadata": {},
   "outputs": [],
   "source": [
    "from neurd import soma_extraction_utils as sm\n",
    "soma_extraction_parameters = dict()"
   ]
  },
  {
   "cell_type": "code",
   "execution_count": 16,
   "id": "b65f18a1",
   "metadata": {},
   "outputs": [
    {
     "data": {
      "text/plain": [
       "{'glia_volume_threshold_in_um_global': 2500,\n",
       " 'glia_n_faces_threshold_global': 400000,\n",
       " 'glia_n_faces_min_global': 100000}"
      ]
     },
     "execution_count": 16,
     "metadata": {},
     "output_type": "execute_result"
    }
   ],
   "source": [
    "# could inspect the parameters of a certain category\n",
    "from neurd import parameter_utils as paru\n",
    "paru.category_param_from_module(\n",
    "        module = sm,\n",
    "        category = \"glia\",\n",
    ")"
   ]
  },
  {
   "cell_type": "code",
   "execution_count": 17,
   "id": "24667352",
   "metadata": {},
   "outputs": [],
   "source": [
    "# overwritting decimated mesh because original was already decimated\n",
    "mesh_decimated = mesh"
   ]
  },
  {
   "cell_type": "code",
   "execution_count": 18,
   "id": "b6ff9777",
   "metadata": {
    "scrolled": true
   },
   "outputs": [
    {
     "name": "stdout",
     "output_type": "stream",
     "text": [
      "Current Arguments Using (adjusted for decimation):\n",
      " large_mesh_threshold= 5000.0 \n",
      "large_mesh_threshold_inner = 3250.0 \n",
      "soma_size_threshold = 562.5 \n",
      "soma_size_threshold_max = 75000.0\n",
      "outer_decimation_ratio = 0.25\n",
      "inner_decimation_ratio = 0.25\n",
      "max_mesh_sized_filtered_away = 22500.0\n",
      "xvfb-run -n 8893 -s \"-screen 0 800x600x24\" meshlabserver $@  -i /neurd_packages/NEURD/Applications/Tutorials/Auto_Proof_Pipeline/Double_Soma/temp/neuron_7908.off -o /neurd_packages/NEURD/Applications/Tutorials/Auto_Proof_Pipeline/Double_Soma/temp/neuron_7908_remove_interior.off -s /neurd_packages/NEURD/Applications/Tutorials/Auto_Proof_Pipeline/Double_Soma/temp/remove_interior_982699.mls\n",
      "removed temporary input file: /neurd_packages/NEURD/Applications/Tutorials/Auto_Proof_Pipeline/Double_Soma/temp/neuron_7908.off\n",
      "removed temporary output file: /neurd_packages/NEURD/Applications/Tutorials/Auto_Proof_Pipeline/Double_Soma/temp/neuron_7908_remove_interior.off\n",
      "/neurd_packages/NEURD/Applications/Tutorials/Auto_Proof_Pipeline/Double_Soma/temp/remove_interior_982699.mls is being deleted....\n",
      "There were 16 total interior meshes\n",
      "Pieces satisfying glia requirements (volume) (x >= 2500000000000): 0\n",
      "Pieces satisfying nuclie requirements: n_faces (700 <= x) and volume (x < 2500000000000) : 16\n",
      "inside remove_mesh_interior and using precomputed inside_pieces\n",
      "Removing the following inside neurons: [<trimesh.Trimesh(vertices.shape=(6494, 3), faces.shape=(15575, 3))>, <trimesh.Trimesh(vertices.shape=(3252, 3), faces.shape=(5804, 3))>, <trimesh.Trimesh(vertices.shape=(2064, 3), faces.shape=(4789, 3))>, <trimesh.Trimesh(vertices.shape=(2022, 3), faces.shape=(4628, 3))>, <trimesh.Trimesh(vertices.shape=(1922, 3), faces.shape=(4396, 3))>, <trimesh.Trimesh(vertices.shape=(1089, 3), faces.shape=(2556, 3))>, <trimesh.Trimesh(vertices.shape=(864, 3), faces.shape=(1989, 3))>, <trimesh.Trimesh(vertices.shape=(723, 3), faces.shape=(1611, 3))>, <trimesh.Trimesh(vertices.shape=(693, 3), faces.shape=(1561, 3))>, <trimesh.Trimesh(vertices.shape=(612, 3), faces.shape=(1378, 3))>, <trimesh.Trimesh(vertices.shape=(456, 3), faces.shape=(742, 3))>, <trimesh.Trimesh(vertices.shape=(344, 3), faces.shape=(727, 3))>]\n",
      "\n",
      "\n",
      "Original Mesh size: 323535, Final mesh size: 277773\n",
      "Total time = 20.201130151748657\n",
      "xvfb-run -n 5500 -s \"-screen 0 800x600x24\" meshlabserver $@  -i /neurd_packages/NEURD/Applications/Tutorials/Auto_Proof_Pipeline/Double_Soma/12345/neuron_12345.off -o /neurd_packages/NEURD/Applications/Tutorials/Auto_Proof_Pipeline/Double_Soma/12345/neuron_12345_decimated.off -s /neurd_packages/NEURD/Applications/Tutorials/Auto_Proof_Pipeline/Double_Soma/12345/decimation_meshlab_25579741.mls\n",
      "Total found significant pieces before Poisson = [<trimesh.Trimesh(vertices.shape=(29969, 3), faces.shape=(56262, 3))>]\n",
      "----- working on large mesh #0: <trimesh.Trimesh(vertices.shape=(29969, 3), faces.shape=(56262, 3))>\n",
      "remove_inside_pieces requested \n",
      "xvfb-run -n 5106 -s \"-screen 0 800x600x24\" meshlabserver $@  -i /neurd_packages/NEURD/Applications/Tutorials/Auto_Proof_Pipeline/Double_Soma/temp/neuron_1361.off -o /neurd_packages/NEURD/Applications/Tutorials/Auto_Proof_Pipeline/Double_Soma/temp/neuron_1361_remove_interior.off -s /neurd_packages/NEURD/Applications/Tutorials/Auto_Proof_Pipeline/Double_Soma/temp/remove_interior_65393.mls\n",
      "removed temporary input file: /neurd_packages/NEURD/Applications/Tutorials/Auto_Proof_Pipeline/Double_Soma/temp/neuron_1361.off\n",
      "removed temporary output file: /neurd_packages/NEURD/Applications/Tutorials/Auto_Proof_Pipeline/Double_Soma/temp/neuron_1361_remove_interior.off\n",
      "/neurd_packages/NEURD/Applications/Tutorials/Auto_Proof_Pipeline/Double_Soma/temp/remove_interior_65393.mls is being deleted....\n",
      "No significant (1000) interior meshes present\n",
      "largest is 163\n",
      "pre_largest_mesh_path = /neurd_packages/NEURD/Applications/Tutorials/Auto_Proof_Pipeline/Double_Soma/12345/neuron_12345_decimated_largest_piece.off\n",
      "xvfb-run -n 6510 -s \"-screen 0 800x600x24\" meshlabserver $@  -i /neurd_packages/NEURD/Applications/Tutorials/Auto_Proof_Pipeline/Double_Soma/12345/neuron_12345_decimated_largest_piece.off -o /neurd_packages/NEURD/Applications/Tutorials/Auto_Proof_Pipeline/Double_Soma/12345/neuron_12345_decimated_largest_piece_poisson.off -s /neurd_packages/NEURD/Applications/Tutorials/Auto_Proof_Pipeline/Double_Soma/12345/poisson_255414.mls\n",
      "Total found significant pieces AFTER Poisson = [<trimesh.Trimesh(vertices.shape=(14489, 3), faces.shape=(28990, 3))>, <trimesh.Trimesh(vertices.shape=(10700, 3), faces.shape=(21396, 3))>]\n",
      "----- working on mesh after poisson #0: <trimesh.Trimesh(vertices.shape=(14489, 3), faces.shape=(28990, 3))>\n",
      "xvfb-run -n 9170 -s \"-screen 0 800x600x24\" meshlabserver $@  -i /neurd_packages/NEURD/Applications/Tutorials/Auto_Proof_Pipeline/Double_Soma/12345/neuron_12345_decimated_largest_piece_poisson_largest_inner.off -o /neurd_packages/NEURD/Applications/Tutorials/Auto_Proof_Pipeline/Double_Soma/12345/neuron_12345_decimated_largest_piece_poisson_largest_inner_decimated.off -s /neurd_packages/NEURD/Applications/Tutorials/Auto_Proof_Pipeline/Double_Soma/12345/decimation_meshlab_2546910.mls\n",
      "\n",
      "-------Splits after inner decimation len = 1--------\n",
      "\n",
      "done exporting decimated mesh: neuron_12345_decimated_largest_piece_poisson_largest_inner.off\n",
      "\n",
      "    --- On segmentation loop 0 --\n",
      "largest_mesh_path_inner_decimated_clean = <trimesh.Trimesh(vertices.shape=(3614, 3), faces.shape=(7240, 3))>\n",
      "\n",
      "largest_mesh_path_inner_decimated_clean = <trimesh.Trimesh(vertices.shape=(3614, 3), faces.shape=(7240, 3))>\n",
      "soma_size_threshold = 562.5\n",
      "soma_size_threshold_max = 75000.0\n",
      "soma_width_threshold = 0.32\n",
      "\n",
      "Number of segments: 9\n",
      "\n"
     ]
    },
    {
     "data": {
      "application/vnd.jupyter.widget-view+json": {
       "model_id": "71655971386c458c9cd55e2a5cf0852f",
       "version_major": 2,
       "version_minor": 0
      },
      "text/plain": [
       "  0%|          | 0/9 [00:00<?, ?it/s]"
      ]
     },
     "metadata": {},
     "output_type": "display_data"
    },
    {
     "name": "stdout",
     "output_type": "stream",
     "text": [
      "      ------ Found 1 viable somas: [0.769893]\n",
      "Using Poisson Surface Reconstruction for watertightness in soma_volume_ratio\n",
      "xvfb-run -n 5314 -s \"-screen 0 800x600x24\" meshlabserver $@  -i /neurd_packages/NEURD/Applications/Tutorials/Auto_Proof_Pipeline/Double_Soma/Poisson_temp/neuron_489122.off -o /neurd_packages/NEURD/Applications/Tutorials/Auto_Proof_Pipeline/Double_Soma/Poisson_temp/neuron_489122_poisson.off -s /neurd_packages/NEURD/Applications/Tutorials/Auto_Proof_Pipeline/Double_Soma/Poisson_temp/poisson_951249.mls\n",
      "removed temporary input file: /neurd_packages/NEURD/Applications/Tutorials/Auto_Proof_Pipeline/Double_Soma/Poisson_temp/neuron_489122.off\n",
      "removed temporary output file: /neurd_packages/NEURD/Applications/Tutorials/Auto_Proof_Pipeline/Double_Soma/Poisson_temp/neuron_489122_poisson.off\n",
      "mesh.is_watertight = True\n",
      "/neurd_packages/NEURD/Applications/Tutorials/Auto_Proof_Pipeline/Double_Soma/Poisson_temp/poisson_951249.mls is being deleted....\n",
      "Inside sphere validater: ratio_val = 2.7266923461590085\n",
      "----- working on mesh after poisson #1: <trimesh.Trimesh(vertices.shape=(10700, 3), faces.shape=(21396, 3))>\n",
      "xvfb-run -n 7390 -s \"-screen 0 800x600x24\" meshlabserver $@  -i /neurd_packages/NEURD/Applications/Tutorials/Auto_Proof_Pipeline/Double_Soma/12345/neuron_12345_decimated_largest_piece_poisson_largest_inner.off -o /neurd_packages/NEURD/Applications/Tutorials/Auto_Proof_Pipeline/Double_Soma/12345/neuron_12345_decimated_largest_piece_poisson_largest_inner_decimated.off -s /neurd_packages/NEURD/Applications/Tutorials/Auto_Proof_Pipeline/Double_Soma/12345/decimation_meshlab_2546910.mls\n",
      "\n",
      "-------Splits after inner decimation len = 1--------\n",
      "\n",
      "done exporting decimated mesh: neuron_12345_decimated_largest_piece_poisson_largest_inner.off\n",
      "\n",
      "    --- On segmentation loop 0 --\n",
      "largest_mesh_path_inner_decimated_clean = <trimesh.Trimesh(vertices.shape=(2671, 3), faces.shape=(5338, 3))>\n",
      "\n",
      "largest_mesh_path_inner_decimated_clean = <trimesh.Trimesh(vertices.shape=(2671, 3), faces.shape=(5338, 3))>\n",
      "soma_size_threshold = 562.5\n",
      "soma_size_threshold_max = 75000.0\n",
      "soma_width_threshold = 0.32\n",
      "\n",
      "Number of segments: 3\n",
      "\n"
     ]
    },
    {
     "data": {
      "application/vnd.jupyter.widget-view+json": {
       "model_id": "be17e7bdc61243e694daacc52de55407",
       "version_major": 2,
       "version_minor": 0
      },
      "text/plain": [
       "  0%|          | 0/3 [00:00<?, ?it/s]"
      ]
     },
     "metadata": {},
     "output_type": "display_data"
    },
    {
     "name": "stdout",
     "output_type": "stream",
     "text": [
      "      ------ Found 2 viable somas: [0.781901, 0.3351845]\n",
      "Using Poisson Surface Reconstruction for watertightness in soma_volume_ratio\n",
      "xvfb-run -n 9998 -s \"-screen 0 800x600x24\" meshlabserver $@  -i /neurd_packages/NEURD/Applications/Tutorials/Auto_Proof_Pipeline/Double_Soma/Poisson_temp/neuron_436790.off -o /neurd_packages/NEURD/Applications/Tutorials/Auto_Proof_Pipeline/Double_Soma/Poisson_temp/neuron_436790_poisson.off -s /neurd_packages/NEURD/Applications/Tutorials/Auto_Proof_Pipeline/Double_Soma/Poisson_temp/poisson_293277.mls\n",
      "removed temporary input file: /neurd_packages/NEURD/Applications/Tutorials/Auto_Proof_Pipeline/Double_Soma/Poisson_temp/neuron_436790.off\n",
      "removed temporary output file: /neurd_packages/NEURD/Applications/Tutorials/Auto_Proof_Pipeline/Double_Soma/Poisson_temp/neuron_436790_poisson.off\n",
      "mesh.is_watertight = True\n",
      "/neurd_packages/NEURD/Applications/Tutorials/Auto_Proof_Pipeline/Double_Soma/Poisson_temp/poisson_293277.mls is being deleted....\n",
      "Inside sphere validater: ratio_val = 2.130721459144365\n",
      "Using Poisson Surface Reconstruction for watertightness in soma_volume_ratio\n",
      "xvfb-run -n 2412 -s \"-screen 0 800x600x24\" meshlabserver $@  -i /neurd_packages/NEURD/Applications/Tutorials/Auto_Proof_Pipeline/Double_Soma/Poisson_temp/neuron_48700.off -o /neurd_packages/NEURD/Applications/Tutorials/Auto_Proof_Pipeline/Double_Soma/Poisson_temp/neuron_48700_poisson.off -s /neurd_packages/NEURD/Applications/Tutorials/Auto_Proof_Pipeline/Double_Soma/Poisson_temp/poisson_874195.mls\n",
      "removed temporary input file: /neurd_packages/NEURD/Applications/Tutorials/Auto_Proof_Pipeline/Double_Soma/Poisson_temp/neuron_48700.off\n",
      "removed temporary output file: /neurd_packages/NEURD/Applications/Tutorials/Auto_Proof_Pipeline/Double_Soma/Poisson_temp/neuron_48700_poisson.off\n",
      "mesh.is_watertight = True\n",
      "/neurd_packages/NEURD/Applications/Tutorials/Auto_Proof_Pipeline/Double_Soma/Poisson_temp/poisson_874195.mls is being deleted....\n",
      "Inside sphere validater: ratio_val = 2.4907819152454254\n",
      "\n",
      "\n",
      "\n",
      " Total time for run = 107.70808863639832\n",
      "Before Filtering the number of somas found = 3\n",
      "\n",
      "---Performing Soma Mesh Backtracking to original mesh for poisson soma 0\n",
      "backtrack_soma_size_threshold = 8000\n",
      "xvfb-run -n 3269 -s \"-screen 0 800x600x24\" meshlabserver $@  -i /neurd_packages/NEURD/Applications/Tutorials/Auto_Proof_Pipeline/Double_Soma/temp/neuron_57908.off -o /neurd_packages/NEURD/Applications/Tutorials/Auto_Proof_Pipeline/Double_Soma/temp/neuron_57908_fill_holes.off -s /neurd_packages/NEURD/Applications/Tutorials/Auto_Proof_Pipeline/Double_Soma/temp/fill_holes_168514.mls\n",
      "\n",
      "---- meshlab output -----\n",
      "QStandardPaths: XDG_RUNTIME_DIR not set, defaulting to '/tmp/runtime-root'\n",
      "Current Plugins Dir is: /meshlab/src/distrib/plugins \n",
      "Error While parsing the XML filter plugin descriptors: We are trying to load a xml file that does not correspond to any dll or javascript code; please delete all the spurious xml files\n",
      "Error While parsing the XML filter plugin descriptors: We are trying to load a xml file that does not correspond to any dll or javascript code; please delete all the spurious xml files\n",
      "Opening a file with extention off\n",
      "FilterScript\n",
      "Reading filter with name Remove Duplicate Vertices\n",
      "Reading filter with name Remove Faces from Non Manifold Edges\n",
      "Reading filter with name Close Holes\n",
      "    Reading Param with name MaxHoleSize : RichInt\n",
      "    Reading Param with name Selected : RichBool\n",
      "    Reading Param with name NewFaceSelected : RichBool\n",
      "    Reading Param with name SelfIntersection : RichBool\n",
      "Loading Plugins:\n",
      "Total 105 filtering actions\n",
      "Total 1 io plugins\n",
      "Mesh /neurd_packages/NEURD/Applications/Tutorials/Auto_Proof_Pipeline/Double_Soma/temp/neuron_57908.off loaded has 21848 vn 42079 fn\n",
      "output mesh  /neurd_packages/NEURD/Applications/Tutorials/Auto_Proof_Pipeline/Double_Soma/temp/neuron_57908_fill_holes.off\n",
      "Apply FilterScript: '/neurd_packages/NEURD/Applications/Tutorials/Auto_Proof_Pipeline/Double_Soma/temp/fill_holes_168514.mls'\n",
      "Starting Script of 3 actionsfilter: Remove Duplicate Vertices\n",
      "no additional memory available!!! memory required: 1029300\n",
      "LOG: 2 Removed 0 duplicated vertices\n",
      "Removed 0 duplicated vertices\n",
      "filter: Remove Faces from Non Manifold Edges\n",
      "no additional memory available!!! memory required: 1029300\n",
      "LOG: 2 Successfully removed 4223 non-manifold faces\n",
      "Removed 0 duplicated vertices\n",
      "Successfully removed 4223 non-manifold faces\n",
      "filter: Close Holes\n",
      "no additional memory available!!! memory required: 978624\n",
      "meshlabserver: ../../../../vcglib/vcg/complex/algorithms/hole.h:259: bool vcg::tri::TrivialEar<MESH>::Close(vcg::tri::TrivialEar<MESH>::PosType&, vcg::tri::TrivialEar<MESH>::PosType&, vcg::tri::TrivialEar<MESH>::FaceType*) [with MESH = CMeshO; vcg::tri::TrivialEar<MESH>::PosType = vcg::face::Pos<CFaceO>; typename MeshType::FaceType = CFaceO; vcg::tri::TrivialEar<MESH>::FaceType = CFaceO]: Assertion `e1.v->IsUserBit(NonManifoldBit())' failed.\n",
      "Aborted (core dumped)\n",
      "\n",
      "\n",
      " returncode ====== 134\n",
      "\n",
      " ------ Done with meshlab output------\n",
      "/neurd_packages/NEURD/Applications/Tutorials/Auto_Proof_Pipeline/Double_Soma/temp/fill_holes_168514.mls is being deleted....\n",
      "The hole closing did not work so continuing without\n",
      "xvfb-run -n 4734 -s \"-screen 0 800x600x24\" meshlabserver $@  -i /neurd_packages/NEURD/Applications/Tutorials/Auto_Proof_Pipeline/Double_Soma/temp/neuron_18330.off -o /neurd_packages/NEURD/Applications/Tutorials/Auto_Proof_Pipeline/Double_Soma/temp/neuron_18330_remove_interior.off -s /neurd_packages/NEURD/Applications/Tutorials/Auto_Proof_Pipeline/Double_Soma/temp/remove_interior_92719.mls\n",
      "removed temporary input file: /neurd_packages/NEURD/Applications/Tutorials/Auto_Proof_Pipeline/Double_Soma/temp/neuron_18330.off\n",
      "removed temporary output file: /neurd_packages/NEURD/Applications/Tutorials/Auto_Proof_Pipeline/Double_Soma/temp/neuron_18330_remove_interior.off\n",
      "/neurd_packages/NEURD/Applications/Tutorials/Auto_Proof_Pipeline/Double_Soma/temp/remove_interior_92719.mls is being deleted....\n",
      "Removing the following inside neurons: [<trimesh.Trimesh(vertices.shape=(363, 3), faces.shape=(876, 3))>, <trimesh.Trimesh(vertices.shape=(301, 3), faces.shape=(613, 3))>, <trimesh.Trimesh(vertices.shape=(253, 3), faces.shape=(632, 3))>, <trimesh.Trimesh(vertices.shape=(199, 3), faces.shape=(446, 3))>, <trimesh.Trimesh(vertices.shape=(176, 3), faces.shape=(418, 3))>]\n",
      "split_meshes_after_backtrack = [<trimesh.Trimesh(vertices.shape=(11386, 3), faces.shape=(22560, 3))>]\n",
      "soma_size_threshold = 8000\n",
      "After backtrack the found 1 possible somas: [<trimesh.Trimesh(vertices.shape=(11386, 3), faces.shape=(22560, 3))>] \n",
      "\n",
      "--- working on backtrack soma 0: <trimesh.Trimesh(vertices.shape=(11386, 3), faces.shape=(22560, 3))>\n",
      "poisson_backtrack_distance_threshold = None\n",
      "Using Poisson Surface Reconstruction for watertightness in soma_volume_ratio\n",
      "xvfb-run -n 616 -s \"-screen 0 800x600x24\" meshlabserver $@  -i /neurd_packages/NEURD/Applications/Tutorials/Auto_Proof_Pipeline/Double_Soma/Poisson_temp/neuron_373834.off -o /neurd_packages/NEURD/Applications/Tutorials/Auto_Proof_Pipeline/Double_Soma/Poisson_temp/neuron_373834_poisson.off -s /neurd_packages/NEURD/Applications/Tutorials/Auto_Proof_Pipeline/Double_Soma/Poisson_temp/poisson_9882.mls\n",
      "removed temporary input file: /neurd_packages/NEURD/Applications/Tutorials/Auto_Proof_Pipeline/Double_Soma/Poisson_temp/neuron_373834.off\n",
      "removed temporary output file: /neurd_packages/NEURD/Applications/Tutorials/Auto_Proof_Pipeline/Double_Soma/Poisson_temp/neuron_373834_poisson.off\n",
      "mesh.is_watertight = True\n",
      "/neurd_packages/NEURD/Applications/Tutorials/Auto_Proof_Pipeline/Double_Soma/Poisson_temp/poisson_9882.mls is being deleted....\n",
      "Inside sphere validater: ratio_val = 4.115475404999649\n",
      "About to add the following inside nuclei pieces after soma backtrack: [<trimesh.Trimesh(vertices.shape=(6494, 3), faces.shape=(15575, 3))>, <trimesh.Trimesh(vertices.shape=(3256, 3), faces.shape=(5810, 3))>, <trimesh.Trimesh(vertices.shape=(2064, 3), faces.shape=(4789, 3))>, <trimesh.Trimesh(vertices.shape=(2022, 3), faces.shape=(4628, 3))>, <trimesh.Trimesh(vertices.shape=(1922, 3), faces.shape=(4396, 3))>, <trimesh.Trimesh(vertices.shape=(1089, 3), faces.shape=(2556, 3))>, <trimesh.Trimesh(vertices.shape=(864, 3), faces.shape=(1989, 3))>, <trimesh.Trimesh(vertices.shape=(723, 3), faces.shape=(1611, 3))>, <trimesh.Trimesh(vertices.shape=(693, 3), faces.shape=(1561, 3))>, <trimesh.Trimesh(vertices.shape=(612, 3), faces.shape=(1378, 3))>, <trimesh.Trimesh(vertices.shape=(456, 3), faces.shape=(742, 3))>, <trimesh.Trimesh(vertices.shape=(344, 3), faces.shape=(727, 3))>]\n",
      "\n",
      "---Performing Soma Mesh Backtracking to original mesh for poisson soma 1\n",
      "backtrack_soma_size_threshold = 8000\n",
      "xvfb-run -n 6537 -s \"-screen 0 800x600x24\" meshlabserver $@  -i /neurd_packages/NEURD/Applications/Tutorials/Auto_Proof_Pipeline/Double_Soma/temp/neuron_46229.off -o /neurd_packages/NEURD/Applications/Tutorials/Auto_Proof_Pipeline/Double_Soma/temp/neuron_46229_fill_holes.off -s /neurd_packages/NEURD/Applications/Tutorials/Auto_Proof_Pipeline/Double_Soma/temp/fill_holes_379763.mls\n"
     ]
    },
    {
     "name": "stdout",
     "output_type": "stream",
     "text": [
      "\n",
      "---- meshlab output -----\n",
      "QStandardPaths: XDG_RUNTIME_DIR not set, defaulting to '/tmp/runtime-root'\n",
      "Current Plugins Dir is: /meshlab/src/distrib/plugins \n",
      "Error While parsing the XML filter plugin descriptors: We are trying to load a xml file that does not correspond to any dll or javascript code; please delete all the spurious xml files\n",
      "Error While parsing the XML filter plugin descriptors: We are trying to load a xml file that does not correspond to any dll or javascript code; please delete all the spurious xml files\n",
      "Opening a file with extention off\n",
      "FilterScript\n",
      "Reading filter with name Remove Duplicate Vertices\n",
      "Reading filter with name Remove Faces from Non Manifold Edges\n",
      "Reading filter with name Close Holes\n",
      "    Reading Param with name MaxHoleSize : RichInt\n",
      "    Reading Param with name Selected : RichBool\n",
      "    Reading Param with name NewFaceSelected : RichBool\n",
      "    Reading Param with name SelfIntersection : RichBool\n",
      "Loading Plugins:\n",
      "Total 105 filtering actions\n",
      "Total 1 io plugins\n",
      "Mesh /neurd_packages/NEURD/Applications/Tutorials/Auto_Proof_Pipeline/Double_Soma/temp/neuron_46229.off loaded has 11899 vn 22569 fn\n",
      "output mesh  /neurd_packages/NEURD/Applications/Tutorials/Auto_Proof_Pipeline/Double_Soma/temp/neuron_46229_fill_holes.off\n",
      "Apply FilterScript: '/neurd_packages/NEURD/Applications/Tutorials/Auto_Proof_Pipeline/Double_Soma/temp/fill_holes_379763.mls'\n",
      "Starting Script of 3 actionsfilter: Remove Duplicate Vertices\n",
      "no additional memory available!!! memory required: 556404\n",
      "LOG: 2 Removed 0 duplicated vertices\n",
      "Removed 0 duplicated vertices\n",
      "filter: Remove Faces from Non Manifold Edges\n",
      "no additional memory available!!! memory required: 556404\n",
      "LOG: 2 Successfully removed 1995 non-manifold faces\n",
      "Removed 0 duplicated vertices\n",
      "Successfully removed 1995 non-manifold faces\n",
      "filter: Close Holes\n",
      "no additional memory available!!! memory required: 532464\n",
      "meshlabserver: ../../../../vcglib/vcg/complex/algorithms/hole.h:259: bool vcg::tri::TrivialEar<MESH>::Close(vcg::tri::TrivialEar<MESH>::PosType&, vcg::tri::TrivialEar<MESH>::PosType&, vcg::tri::TrivialEar<MESH>::FaceType*) [with MESH = CMeshO; vcg::tri::TrivialEar<MESH>::PosType = vcg::face::Pos<CFaceO>; typename MeshType::FaceType = CFaceO; vcg::tri::TrivialEar<MESH>::FaceType = CFaceO]: Assertion `e1.v->IsUserBit(NonManifoldBit())' failed.\n",
      "Aborted (core dumped)\n",
      "\n",
      "\n",
      " returncode ====== 134\n",
      "\n",
      " ------ Done with meshlab output------\n",
      "/neurd_packages/NEURD/Applications/Tutorials/Auto_Proof_Pipeline/Double_Soma/temp/fill_holes_379763.mls is being deleted....\n",
      "The hole closing did not work so continuing without\n",
      "xvfb-run -n 8066 -s \"-screen 0 800x600x24\" meshlabserver $@  -i /neurd_packages/NEURD/Applications/Tutorials/Auto_Proof_Pipeline/Double_Soma/temp/neuron_7774.off -o /neurd_packages/NEURD/Applications/Tutorials/Auto_Proof_Pipeline/Double_Soma/temp/neuron_7774_remove_interior.off -s /neurd_packages/NEURD/Applications/Tutorials/Auto_Proof_Pipeline/Double_Soma/temp/remove_interior_14528.mls\n",
      "removed temporary input file: /neurd_packages/NEURD/Applications/Tutorials/Auto_Proof_Pipeline/Double_Soma/temp/neuron_7774.off\n",
      "removed temporary output file: /neurd_packages/NEURD/Applications/Tutorials/Auto_Proof_Pipeline/Double_Soma/temp/neuron_7774_remove_interior.off\n",
      "/neurd_packages/NEURD/Applications/Tutorials/Auto_Proof_Pipeline/Double_Soma/temp/remove_interior_14528.mls is being deleted....\n",
      "Removing the following inside neurons: [<trimesh.Trimesh(vertices.shape=(328, 3), faces.shape=(686, 3))>, <trimesh.Trimesh(vertices.shape=(145, 3), faces.shape=(317, 3))>]\n",
      "split_meshes_after_backtrack = [<trimesh.Trimesh(vertices.shape=(4698, 3), faces.shape=(7809, 3))>, <trimesh.Trimesh(vertices.shape=(2761, 3), faces.shape=(4711, 3))>]\n",
      "soma_size_threshold = 8000\n",
      "After backtrack the found 0 possible somas: [] \n",
      "\n",
      "---Performing Soma Mesh Backtracking to original mesh for poisson soma 2\n",
      "backtrack_soma_size_threshold = 8000\n",
      "xvfb-run -n 9408 -s \"-screen 0 800x600x24\" meshlabserver $@  -i /neurd_packages/NEURD/Applications/Tutorials/Auto_Proof_Pipeline/Double_Soma/temp/neuron_28896.off -o /neurd_packages/NEURD/Applications/Tutorials/Auto_Proof_Pipeline/Double_Soma/temp/neuron_28896_fill_holes.off -s /neurd_packages/NEURD/Applications/Tutorials/Auto_Proof_Pipeline/Double_Soma/temp/fill_holes_858122.mls\n",
      "\n",
      "---- meshlab output -----\n",
      "QStandardPaths: XDG_RUNTIME_DIR not set, defaulting to '/tmp/runtime-root'\n",
      "Current Plugins Dir is: /meshlab/src/distrib/plugins \n",
      "Error While parsing the XML filter plugin descriptors: We are trying to load a xml file that does not correspond to any dll or javascript code; please delete all the spurious xml files\n",
      "Error While parsing the XML filter plugin descriptors: We are trying to load a xml file that does not correspond to any dll or javascript code; please delete all the spurious xml files\n",
      "Opening a file with extention off\n",
      "FilterScript\n",
      "Reading filter with name Remove Duplicate Vertices\n",
      "Reading filter with name Remove Faces from Non Manifold Edges\n",
      "Reading filter with name Close Holes\n",
      "    Reading Param with name MaxHoleSize : RichInt\n",
      "    Reading Param with name Selected : RichBool\n",
      "    Reading Param with name NewFaceSelected : RichBool\n",
      "    Reading Param with name SelfIntersection : RichBool\n",
      "Loading Plugins:\n",
      "Total 105 filtering actions\n",
      "Total 1 io plugins\n",
      "Mesh /neurd_packages/NEURD/Applications/Tutorials/Auto_Proof_Pipeline/Double_Soma/temp/neuron_28896.off loaded has 11083 vn 21026 fn\n",
      "output mesh  /neurd_packages/NEURD/Applications/Tutorials/Auto_Proof_Pipeline/Double_Soma/temp/neuron_28896_fill_holes.off\n",
      "Apply FilterScript: '/neurd_packages/NEURD/Applications/Tutorials/Auto_Proof_Pipeline/Double_Soma/temp/fill_holes_858122.mls'\n",
      "Starting Script of 3 actionsfilter: Remove Duplicate Vertices\n",
      "no additional memory available!!! memory required: 518304\n",
      "LOG: 2 Removed 0 duplicated vertices\n",
      "Removed 0 duplicated vertices\n",
      "filter: Remove Faces from Non Manifold Edges\n",
      "no additional memory available!!! memory required: 518304\n",
      "LOG: 2 Successfully removed 1600 non-manifold faces\n",
      "Removed 0 duplicated vertices\n",
      "Successfully removed 1600 non-manifold faces\n",
      "filter: Close Holes\n",
      "no additional memory available!!! memory required: 499104\n",
      "meshlabserver: ../../../../vcglib/vcg/complex/algorithms/hole.h:259: bool vcg::tri::TrivialEar<MESH>::Close(vcg::tri::TrivialEar<MESH>::PosType&, vcg::tri::TrivialEar<MESH>::PosType&, vcg::tri::TrivialEar<MESH>::FaceType*) [with MESH = CMeshO; vcg::tri::TrivialEar<MESH>::PosType = vcg::face::Pos<CFaceO>; typename MeshType::FaceType = CFaceO; vcg::tri::TrivialEar<MESH>::FaceType = CFaceO]: Assertion `e1.v->IsUserBit(NonManifoldBit())' failed.\n",
      "Aborted (core dumped)\n",
      "\n",
      "\n",
      " returncode ====== 134\n",
      "\n",
      " ------ Done with meshlab output------\n",
      "/neurd_packages/NEURD/Applications/Tutorials/Auto_Proof_Pipeline/Double_Soma/temp/fill_holes_858122.mls is being deleted....\n",
      "The hole closing did not work so continuing without\n",
      "xvfb-run -n 1453 -s \"-screen 0 800x600x24\" meshlabserver $@  -i /neurd_packages/NEURD/Applications/Tutorials/Auto_Proof_Pipeline/Double_Soma/temp/neuron_42588.off -o /neurd_packages/NEURD/Applications/Tutorials/Auto_Proof_Pipeline/Double_Soma/temp/neuron_42588_remove_interior.off -s /neurd_packages/NEURD/Applications/Tutorials/Auto_Proof_Pipeline/Double_Soma/temp/remove_interior_133665.mls\n",
      "removed temporary input file: /neurd_packages/NEURD/Applications/Tutorials/Auto_Proof_Pipeline/Double_Soma/temp/neuron_42588.off\n",
      "removed temporary output file: /neurd_packages/NEURD/Applications/Tutorials/Auto_Proof_Pipeline/Double_Soma/temp/neuron_42588_remove_interior.off\n",
      "/neurd_packages/NEURD/Applications/Tutorials/Auto_Proof_Pipeline/Double_Soma/temp/remove_interior_133665.mls is being deleted....\n",
      "Removing the following inside neurons: [<trimesh.Trimesh(vertices.shape=(145, 3), faces.shape=(317, 3))>]\n",
      "split_meshes_after_backtrack = [<trimesh.Trimesh(vertices.shape=(5708, 3), faces.shape=(10517, 3))>]\n",
      "soma_size_threshold = 8000\n",
      "After backtrack the found 1 possible somas: [<trimesh.Trimesh(vertices.shape=(5708, 3), faces.shape=(10517, 3))>] \n",
      "\n",
      "--- working on backtrack soma 0: <trimesh.Trimesh(vertices.shape=(5708, 3), faces.shape=(10517, 3))>\n",
      "poisson_backtrack_distance_threshold = None\n",
      "Using Poisson Surface Reconstruction for watertightness in soma_volume_ratio\n",
      "xvfb-run -n 4258 -s \"-screen 0 800x600x24\" meshlabserver $@  -i /neurd_packages/NEURD/Applications/Tutorials/Auto_Proof_Pipeline/Double_Soma/Poisson_temp/neuron_777189.off -o /neurd_packages/NEURD/Applications/Tutorials/Auto_Proof_Pipeline/Double_Soma/Poisson_temp/neuron_777189_poisson.off -s /neurd_packages/NEURD/Applications/Tutorials/Auto_Proof_Pipeline/Double_Soma/Poisson_temp/poisson_32443.mls\n"
     ]
    },
    {
     "name": "stdout",
     "output_type": "stream",
     "text": [
      "removed temporary input file: /neurd_packages/NEURD/Applications/Tutorials/Auto_Proof_Pipeline/Double_Soma/Poisson_temp/neuron_777189.off\n",
      "removed temporary output file: /neurd_packages/NEURD/Applications/Tutorials/Auto_Proof_Pipeline/Double_Soma/Poisson_temp/neuron_777189_poisson.off\n",
      "mesh.is_watertight = False\n",
      "/neurd_packages/NEURD/Applications/Tutorials/Auto_Proof_Pipeline/Double_Soma/Poisson_temp/poisson_32443.mls is being deleted....\n",
      "Inside sphere validater: ratio_val = 2.779561458917224\n",
      "About to add the following inside nuclei pieces after soma backtrack: [<trimesh.Trimesh(vertices.shape=(6494, 3), faces.shape=(15575, 3))>, <trimesh.Trimesh(vertices.shape=(3256, 3), faces.shape=(5810, 3))>, <trimesh.Trimesh(vertices.shape=(2064, 3), faces.shape=(4789, 3))>, <trimesh.Trimesh(vertices.shape=(2022, 3), faces.shape=(4628, 3))>, <trimesh.Trimesh(vertices.shape=(1922, 3), faces.shape=(4396, 3))>, <trimesh.Trimesh(vertices.shape=(1089, 3), faces.shape=(2556, 3))>, <trimesh.Trimesh(vertices.shape=(864, 3), faces.shape=(1989, 3))>, <trimesh.Trimesh(vertices.shape=(723, 3), faces.shape=(1611, 3))>, <trimesh.Trimesh(vertices.shape=(693, 3), faces.shape=(1561, 3))>, <trimesh.Trimesh(vertices.shape=(612, 3), faces.shape=(1378, 3))>, <trimesh.Trimesh(vertices.shape=(456, 3), faces.shape=(742, 3))>, <trimesh.Trimesh(vertices.shape=(344, 3), faces.shape=(727, 3))>, <trimesh.Trimesh(vertices.shape=(363, 3), faces.shape=(876, 3))>, <trimesh.Trimesh(vertices.shape=(301, 3), faces.shape=(613, 3))>, <trimesh.Trimesh(vertices.shape=(253, 3), faces.shape=(632, 3))>, <trimesh.Trimesh(vertices.shape=(199, 3), faces.shape=(446, 3))>, <trimesh.Trimesh(vertices.shape=(176, 3), faces.shape=(418, 3))>]\n",
      "Skipping the segmentatio filter at end\n",
      "removing mesh interior before segmentation\n",
      "xvfb-run -n 7379 -s \"-screen 0 800x600x24\" meshlabserver $@  -i /neurd_packages/NEURD/Applications/Tutorials/Auto_Proof_Pipeline/Double_Soma/temp/neuron_99817.off -o /neurd_packages/NEURD/Applications/Tutorials/Auto_Proof_Pipeline/Double_Soma/temp/neuron_99817_fill_holes.off -s /neurd_packages/NEURD/Applications/Tutorials/Auto_Proof_Pipeline/Double_Soma/temp/fill_holes_803995.mls\n",
      "removed temporary input file: /neurd_packages/NEURD/Applications/Tutorials/Auto_Proof_Pipeline/Double_Soma/temp/neuron_99817.off\n",
      "removed temporary output file: /neurd_packages/NEURD/Applications/Tutorials/Auto_Proof_Pipeline/Double_Soma/temp/neuron_99817_fill_holes.off\n",
      "/neurd_packages/NEURD/Applications/Tutorials/Auto_Proof_Pipeline/Double_Soma/temp/fill_holes_803995.mls is being deleted....\n",
      "xvfb-run -n 7274 -s \"-screen 0 800x600x24\" meshlabserver $@  -i /neurd_packages/NEURD/Applications/Tutorials/Auto_Proof_Pipeline/Double_Soma/temp/neuron_32979.off -o /neurd_packages/NEURD/Applications/Tutorials/Auto_Proof_Pipeline/Double_Soma/temp/neuron_32979_remove_interior.off -s /neurd_packages/NEURD/Applications/Tutorials/Auto_Proof_Pipeline/Double_Soma/temp/remove_interior_771422.mls\n",
      "removed temporary input file: /neurd_packages/NEURD/Applications/Tutorials/Auto_Proof_Pipeline/Double_Soma/temp/neuron_32979.off\n",
      "removed temporary output file: /neurd_packages/NEURD/Applications/Tutorials/Auto_Proof_Pipeline/Double_Soma/temp/neuron_32979_remove_interior.off\n",
      "/neurd_packages/NEURD/Applications/Tutorials/Auto_Proof_Pipeline/Double_Soma/temp/remove_interior_771422.mls is being deleted....\n",
      "No significant (1000) interior meshes present\n",
      "largest is 289\n",
      "Doing the soma segmentation filter at end\n",
      "\n",
      "Number of segments: 9\n",
      "\n"
     ]
    },
    {
     "data": {
      "application/vnd.jupyter.widget-view+json": {
       "model_id": "358f2df1d696446bbe84624bf480ed28",
       "version_major": 2,
       "version_minor": 0
      },
      "text/plain": [
       "  0%|          | 0/9 [00:00<?, ?it/s]"
      ]
     },
     "metadata": {},
     "output_type": "display_data"
    },
    {
     "name": "stdout",
     "output_type": "stream",
     "text": [
      "Largest hole before segmentation = 84198.44608552229, after = 79686.03659527568,\n",
      "\n",
      "ratio = 0.9464074493053798, difference = -4512.409490246602\n",
      "Skipping the segmentatio filter at end\n",
      "removing mesh interior before segmentation\n",
      "xvfb-run -n 8518 -s \"-screen 0 800x600x24\" meshlabserver $@  -i /neurd_packages/NEURD/Applications/Tutorials/Auto_Proof_Pipeline/Double_Soma/temp/neuron_50247.off -o /neurd_packages/NEURD/Applications/Tutorials/Auto_Proof_Pipeline/Double_Soma/temp/neuron_50247_fill_holes.off -s /neurd_packages/NEURD/Applications/Tutorials/Auto_Proof_Pipeline/Double_Soma/temp/fill_holes_798827.mls\n",
      "removed temporary input file: /neurd_packages/NEURD/Applications/Tutorials/Auto_Proof_Pipeline/Double_Soma/temp/neuron_50247.off\n",
      "removed temporary output file: /neurd_packages/NEURD/Applications/Tutorials/Auto_Proof_Pipeline/Double_Soma/temp/neuron_50247_fill_holes.off\n",
      "/neurd_packages/NEURD/Applications/Tutorials/Auto_Proof_Pipeline/Double_Soma/temp/fill_holes_798827.mls is being deleted....\n",
      "xvfb-run -n 1113 -s \"-screen 0 800x600x24\" meshlabserver $@  -i /neurd_packages/NEURD/Applications/Tutorials/Auto_Proof_Pipeline/Double_Soma/temp/neuron_24982.off -o /neurd_packages/NEURD/Applications/Tutorials/Auto_Proof_Pipeline/Double_Soma/temp/neuron_24982_remove_interior.off -s /neurd_packages/NEURD/Applications/Tutorials/Auto_Proof_Pipeline/Double_Soma/temp/remove_interior_704296.mls\n",
      "removed temporary input file: /neurd_packages/NEURD/Applications/Tutorials/Auto_Proof_Pipeline/Double_Soma/temp/neuron_24982.off\n",
      "removed temporary output file: /neurd_packages/NEURD/Applications/Tutorials/Auto_Proof_Pipeline/Double_Soma/temp/neuron_24982_remove_interior.off\n",
      "/neurd_packages/NEURD/Applications/Tutorials/Auto_Proof_Pipeline/Double_Soma/temp/remove_interior_704296.mls is being deleted....\n",
      "No significant (1000) interior meshes present\n",
      "largest is 48\n",
      "Doing the soma segmentation filter at end\n",
      "\n",
      "Number of segments: 2\n",
      "\n"
     ]
    },
    {
     "data": {
      "application/vnd.jupyter.widget-view+json": {
       "model_id": "f97a7b28099d4c5bb9913690b576419a",
       "version_major": 2,
       "version_minor": 0
      },
      "text/plain": [
       "  0%|          | 0/2 [00:00<?, ?it/s]"
      ]
     },
     "metadata": {},
     "output_type": "display_data"
    },
    {
     "name": "stdout",
     "output_type": "stream",
     "text": [
      "No split meshes were above the width threshold (0.32) and size threshold (2000) so continuing\n",
      "So just going with old somas\n",
      "filtered_soma_list_components = [<trimesh.Trimesh(vertices.shape=(11386, 3), faces.shape=(22560, 3))>\n",
      " <trimesh.Trimesh(vertices.shape=(5708, 3), faces.shape=(10517, 3))>]\n",
      "Not need to do a second pass because already found a soma\n"
     ]
    }
   ],
   "source": [
    "from neurd import neuron_visualizations as nviz\n",
    "\n",
    "verbose = True\n",
    "\n",
    "soma_products = sm.soma_indentification(\n",
    "    mesh_decimated,\n",
    "    verbose=verbose,\n",
    "    **soma_extraction_parameters\n",
    ")"
   ]
  },
  {
   "cell_type": "code",
   "execution_count": 84,
   "id": "bafb6a5d",
   "metadata": {},
   "outputs": [
    {
     "data": {
      "text/plain": [
       "107.70807600021362"
      ]
     },
     "execution_count": 84,
     "metadata": {},
     "output_type": "execute_result"
    }
   ],
   "source": [
    "soma_products.soma_run_time"
   ]
  },
  {
   "cell_type": "code",
   "execution_count": 85,
   "id": "6a79d754",
   "metadata": {},
   "outputs": [
    {
     "name": "stdout",
     "output_type": "stream",
     "text": [
      "# of somas = 2\n",
      "# of glia = 0\n",
      "# of nuclei = 18\n"
     ]
    },
    {
     "data": {
      "application/vnd.jupyter.widget-view+json": {
       "model_id": "7c8e1ee10a6c433cb5834d8f122716bf",
       "version_major": 2,
       "version_minor": 0
      },
      "text/plain": [
       "Container(figure=Figure(box_center=[0.5, 0.5, 0.5], box_size=[1.0, 1.0, 1.0], camera=PerspectiveCamera(fov=45.…"
      ]
     },
     "metadata": {},
     "output_type": "display_data"
    }
   ],
   "source": [
    "sm.plot_soma_products(\n",
    "    mesh_decimated,\n",
    "    soma_products = soma_products,\n",
    "    verbose = True\n",
    ")"
   ]
  },
  {
   "cell_type": "code",
   "execution_count": 20,
   "id": "e43e9f14",
   "metadata": {},
   "outputs": [
    {
     "data": {
      "text/plain": [
       "<python_tools.pipeline.StageProducts at 0x7f872ed733a0>"
      ]
     },
     "execution_count": 20,
     "metadata": {},
     "output_type": "execute_result"
    }
   ],
   "source": [
    "soma_products.soma_extraction_parameters = soma_extraction_parameters\n",
    "soma_products"
   ]
  },
  {
   "cell_type": "code",
   "execution_count": 21,
   "id": "a5056278",
   "metadata": {
    "scrolled": true
   },
   "outputs": [
    {
     "name": "stdout",
     "output_type": "stream",
     "text": [
      "{\n",
      "  'decimation':\n",
      "  {\n",
      "    'decimation_parameters':\n",
      "    {\n",
      "      'decimation_ratio':0.25,\n",
      "    },\n",
      "    'segment_id':864691135510518224,\n",
      "  },\n",
      "  'soma_identification':\n",
      "  {\n",
      "    'glia_meshes':[],\n",
      "    'nuclei_meshes':[<trimesh.Trimesh(vertices.shape=(6494, 3), faces.shape=(15575, 3))>, <trimesh.Trimesh(vertices.shape=(3256, 3), faces.shape=(5810, 3))>, <trimesh.Trimesh(vertices.shape=(2064, 3), faces.shape=(4789, 3))>, <trimesh.Trimesh(vertices.shape=(2022, 3), faces.shape=(4628, 3))>, <trimesh.Trimesh(vertices.shape=(1922, 3), faces.shape=(4396, 3))>, <trimesh.Trimesh(vertices.shape=(1089, 3), faces.shape=(2556, 3))>, <trimesh.Trimesh(vertices.shape=(864, 3), faces.shape=(1989, 3))>, <trimesh.Trimesh(vertices.shape=(723, 3), faces.shape=(1611, 3))>, <trimesh.Trimesh(vertices.shape=(693, 3), faces.shape=(1561, 3))>, <trimesh.Trimesh(vertices.shape=(612, 3), faces.shape=(1378, 3))>, <trimesh.Trimesh(vertices.shape=(456, 3), faces.shape=(742, 3))>, <trimesh.Trimesh(vertices.shape=(344, 3), faces.shape=(727, 3))>, <trimesh.Trimesh(vertices.shape=(363, 3), faces.shape=(876, 3))>, <trimesh.Trimesh(vertices.shape=(301, 3), faces.shape=(613, 3))>, <trimesh.Trimesh(vertices.shape=(253, 3), faces.shape=(632, 3))>, <trimesh.Trimesh(vertices.shape=(199, 3), faces.shape=(446, 3))>, <trimesh.Trimesh(vertices.shape=(176, 3), faces.shape=(418, 3))>, <trimesh.Trimesh(vertices.shape=(145, 3), faces.shape=(317, 3))>],\n",
      "    'soma_extraction_parameters':\n",
      "    {\n",
      "    },\n",
      "    'soma_meshes':[<trimesh.Trimesh(vertices.shape=(11386, 3), faces.shape=(22560, 3))>, <trimesh.Trimesh(vertices.shape=(5708, 3), faces.shape=(10517, 3))>],\n",
      "    'soma_run_time':107.70807600021362,\n",
      "    'soma_sdfs':array([0.769893 , 0.3351845]),\n",
      "  },\n",
      "}\n",
      "\n"
     ]
    }
   ],
   "source": [
    "products.set_stage_attrs(\n",
    "    stage = \"soma_identification\",\n",
    "    attr_dict = soma_products,\n",
    ")\n",
    "\n",
    "print(products)"
   ]
  },
  {
   "cell_type": "markdown",
   "id": "da45be47",
   "metadata": {},
   "source": [
    "# Step 2b: Saving off pipeline products"
   ]
  },
  {
   "cell_type": "code",
   "execution_count": 22,
   "id": "c99ef858",
   "metadata": {},
   "outputs": [
    {
     "name": "stdout",
     "output_type": "stream",
     "text": [
      "Saved object at /neurd_packages/NEURD/Applications/Tutorials/Auto_Proof_Pipeline/Double_Soma/products_up_to_soma_stage.pkl\n",
      "File size is 4.589402 MB\n",
      "Cleared mesh: <trimesh.Trimesh(vertices.shape=(6494, 3), faces.shape=(15575, 3))>:140215638046752\n",
      "Cleared mesh: <trimesh.Trimesh(vertices.shape=(3256, 3), faces.shape=(5810, 3))>:140215638074224\n",
      "Cleared mesh: <trimesh.Trimesh(vertices.shape=(2064, 3), faces.shape=(4789, 3))>:140215638077056\n",
      "Cleared mesh: <trimesh.Trimesh(vertices.shape=(2022, 3), faces.shape=(4628, 3))>:140215637965264\n",
      "Cleared mesh: <trimesh.Trimesh(vertices.shape=(1922, 3), faces.shape=(4396, 3))>:140215637966224\n",
      "Cleared mesh: <trimesh.Trimesh(vertices.shape=(1089, 3), faces.shape=(2556, 3))>:140215638075712\n",
      "Cleared mesh: <trimesh.Trimesh(vertices.shape=(864, 3), faces.shape=(1989, 3))>:140215638047520\n",
      "Cleared mesh: <trimesh.Trimesh(vertices.shape=(723, 3), faces.shape=(1611, 3))>:140215128618944\n",
      "Cleared mesh: <trimesh.Trimesh(vertices.shape=(693, 3), faces.shape=(1561, 3))>:140215128640528\n",
      "Cleared mesh: <trimesh.Trimesh(vertices.shape=(612, 3), faces.shape=(1378, 3))>:140215637977600\n",
      "Cleared mesh: <trimesh.Trimesh(vertices.shape=(456, 3), faces.shape=(742, 3))>:140215638017360\n",
      "Cleared mesh: <trimesh.Trimesh(vertices.shape=(344, 3), faces.shape=(727, 3))>:140215637893280\n",
      "Cleared mesh: <trimesh.Trimesh(vertices.shape=(363, 3), faces.shape=(876, 3))>:140217791724704\n",
      "Cleared mesh: <trimesh.Trimesh(vertices.shape=(301, 3), faces.shape=(613, 3))>:140217791743984\n",
      "Cleared mesh: <trimesh.Trimesh(vertices.shape=(253, 3), faces.shape=(632, 3))>:140217791726400\n",
      "Cleared mesh: <trimesh.Trimesh(vertices.shape=(199, 3), faces.shape=(446, 3))>:140217791742064\n",
      "Cleared mesh: <trimesh.Trimesh(vertices.shape=(176, 3), faces.shape=(418, 3))>:140217957345264\n",
      "Cleared mesh: <trimesh.Trimesh(vertices.shape=(145, 3), faces.shape=(317, 3))>:140217790303296\n",
      "Cleared mesh: <trimesh.Trimesh(vertices.shape=(11386, 3), faces.shape=(22560, 3))>:140217789730624\n",
      "Cleared mesh: <trimesh.Trimesh(vertices.shape=(5708, 3), faces.shape=(10517, 3))>:140217786693760\n"
     ]
    }
   ],
   "source": [
    "from python_tools import system_utils as su\n",
    "su.save_object(\n",
    "    products,\"products_up_to_soma_stage\"\n",
    ")"
   ]
  },
  {
   "cell_type": "markdown",
   "id": "bfdbcc82",
   "metadata": {},
   "source": [
    "# Step 3: Decomposition"
   ]
  },
  {
   "cell_type": "code",
   "execution_count": 23,
   "id": "84193a27",
   "metadata": {
    "scrolled": true
   },
   "outputs": [
    {
     "name": "stdout",
     "output_type": "stream",
     "text": [
      "--- 0) Having to preprocess the Neuron becuase no preprocessed data\n",
      "Please wait this could take a while.....\n",
      "Skipping the hole filling\n",
      "limb_remove_mesh_interior_face_threshold = 0\n",
      "use_meshafterparty = True\n",
      "Using pre-computed somas: soma_mesh_list = [<trimesh.Trimesh(vertices.shape=(11386, 3), faces.shape=(22560, 3))>, <trimesh.Trimesh(vertices.shape=(5708, 3), faces.shape=(10517, 3))>]\n",
      "Soma List = [<trimesh.Trimesh(vertices.shape=(11386, 3), faces.shape=(22560, 3))>, <trimesh.Trimesh(vertices.shape=(5708, 3), faces.shape=(10517, 3))>]\n",
      "soma_mesh_list_centers = [array([1488880.76058317,  589300.09373793, 1100652.31345512]), array([1472182.71408549,  577993.08644009, 1112354.27575333])]\n",
      "Getting Glia and Nuclei Pieces Subtracted Away 0.21299171447753906\n",
      " Splitting mesh after soma cancellation 1.467054843902588\n",
      "# of split_meshes = 4\n",
      " Containing Mesh Indices 0.018749713897705078\n",
      "containing_mesh_indices = {0: 0, 1: 0}\n",
      " non_soma_touching_meshes 9.775161743164062e-06\n",
      "There were 3 pieces found after size threshold\n",
      " Finding inside pieces and non_soma_touching meshes 0.6960718631744385\n",
      "soma_containing_meshes = {0: [0, 1]}\n",
      "\n",
      "-----Before combining multiple mesh pieces-----\n",
      "soma_containing_meshes = {0: [0, 1]}\n",
      "\n",
      "-----After combining multiple mesh pieces-----\n",
      "soma_containing_meshes = {0: [0, 1]}\n",
      "\n",
      "\n",
      "----Working on soma-containing mesh piece 0----\n",
      "Total time for Subtract Soma and Original_mesh_faces_map for somas= 0.35031557083129883\n",
      "new_floating_pieces = []\n",
      "Total time for sig_non_soma_pieces= 2.2535905838012695\n",
      "Not applying expansions\n",
      "Total time for split= 3.5762786865234375e-06\n",
      "Total time for mesh_pieces_connectivity= 2.2890429496765137\n",
      "# of insignificant_limbs = 1 with trimesh : [<trimesh.Trimesh(vertices.shape=(11, 3), faces.shape=(15, 3))>]\n",
      "# of not_processed_soma_containing_meshes = 0 with trimesh : []\n",
      "\n",
      "\n",
      "----- Working on Proper Limb # 0 ---------\n",
      "meshparty_segment_size = 100\n",
      "invalidation_d = 12000\n",
      "use_adaptive_invalidation_d= False\n",
      "axon_width_preprocess_limb_max = 200\n",
      "filter_end_node_length= 4000\n",
      "filter_end_node_length_meshparty = 4000\n",
      "invalidation_d = 12000\n",
      "root_curr = [1487208.   596715.8 1099876. ]\n",
      "Time for preparing soma vertices and root: 0.0003859996795654297\n",
      "invalidation_d = 12000\n",
      "smooth_neighborhood = 1\n",
      "cc_vertex_thresh = 10\n"
     ]
    },
    {
     "name": "stderr",
     "output_type": "stream",
     "text": [
      "\r",
      "  0%|          | 0/1 [00:00<?, ?it/s]"
     ]
    },
    {
     "data": {
      "application/vnd.jupyter.widget-view+json": {
       "model_id": "bb41167c3bf54b0b9ef86aeeae848952",
       "version_major": 2,
       "version_minor": 0
      },
      "text/plain": [
       "  0%|          | 0/33579 [00:00<?, ?it/s]"
      ]
     },
     "metadata": {},
     "output_type": "display_data"
    },
    {
     "name": "stderr",
     "output_type": "stream",
     "text": [
      "100%|██████████| 1/1 [00:00<00:00,  6.36it/s]\n"
     ]
    },
    {
     "name": "stdout",
     "output_type": "stream",
     "text": [
      "meshparty_segment_size = 100\n",
      "Time for 1st pass MP skeletonization: 0.5936191082000732\n",
      "connecting at the root\n",
      "branches_touching_root = [6]\n",
      "combining close nodes\n",
      "combine_threshold = 700\n",
      "length of Graph = 3258\n",
      "After combining close endpoints max(kept_branches_idx) = 6, len(kept_branches_idx) = 7\n",
      "empty_indices % = 0.0\n",
      " conflict_indices % = 0.002908632942517017\n"
     ]
    },
    {
     "data": {
      "application/vnd.jupyter.widget-view+json": {
       "model_id": "69fb23c3a6b84ac7b2744c803064f714",
       "version_major": 2,
       "version_minor": 0
      },
      "text/plain": [
       "  0%|          | 0/3 [00:00<?, ?it/s]"
      ]
     },
     "metadata": {},
     "output_type": "display_data"
    },
    {
     "data": {
      "application/vnd.jupyter.widget-view+json": {
       "model_id": "74a1663881d84f9692c19fa89e88b4cb",
       "version_major": 2,
       "version_minor": 0
      },
      "text/plain": [
       "  0%|          | 0/7 [00:00<?, ?it/s]"
      ]
     },
     "metadata": {},
     "output_type": "display_data"
    },
    {
     "name": "stdout",
     "output_type": "stream",
     "text": [
      "Decomposing first pass: 2.615250825881958\n",
      "Attempting to use MeshAfterParty Skeletonization and Mesh Correspondence\n",
      "Another print\n",
      "Found len(mesh_large_idx) MAP candidates: [634, 7661]\n",
      "mesh_large_connectivity: 0.0028219223022460938\n",
      "Finding MAP candidates connected components: 6.818771362304688e-05\n",
      "len(filtered_pieces) = 1\n",
      "skeleton_connectivity_MP : 0.08152246475219727\n",
      "Grouping MP Sublimbs by Graph: 0.037268638610839844\n",
      "Divinding into MP and MAP pieces: 9.5367431640625e-07\n",
      "--- Working on MAP piece 0---\n",
      "MAP Filtering Soma Pieces: 0.015501260757446289\n",
      "inside skeletonize_connected_branch and use_surface_after_CGAL=True, surface_reconstruction_size=1000\n",
      "keep_idx = [0]\n",
      "     Starting Screened Poisson\n",
      "xvfb-run -n 7331 -s \"-screen 0 800x600x24\" meshlabserver $@  -i /neurd_packages/NEURD/Applications/Tutorials/Auto_Proof_Pipeline/Double_Soma/temp/None.off -o /neurd_packages/NEURD/Applications/Tutorials/Auto_Proof_Pipeline/Double_Soma/temp/None_poisson.off -s /neurd_packages/NEURD/Applications/Tutorials/Auto_Proof_Pipeline/Double_Soma/temp/poisson_535350.mls\n",
      "removed temporary input file: /neurd_packages/NEURD/Applications/Tutorials/Auto_Proof_Pipeline/Double_Soma/temp/None.off\n",
      "removed temporary output file: /neurd_packages/NEURD/Applications/Tutorials/Auto_Proof_Pipeline/Double_Soma/temp/None_poisson.off\n",
      "Using the close holes feature\n",
      "xvfb-run -n 2628 -s \"-screen 0 800x600x24\" meshlabserver $@  -i /neurd_packages/NEURD/Applications/Tutorials/Auto_Proof_Pipeline/Double_Soma/temp/neuron_49688.off -o /neurd_packages/NEURD/Applications/Tutorials/Auto_Proof_Pipeline/Double_Soma/temp/neuron_49688_fill_holes.off -s /neurd_packages/NEURD/Applications/Tutorials/Auto_Proof_Pipeline/Double_Soma/temp/fill_holes_532470.mls\n",
      "removed temporary input file: /neurd_packages/NEURD/Applications/Tutorials/Auto_Proof_Pipeline/Double_Soma/temp/neuron_49688.off\n",
      "removed temporary output file: /neurd_packages/NEURD/Applications/Tutorials/Auto_Proof_Pipeline/Double_Soma/temp/neuron_49688_fill_holes.off\n",
      "/neurd_packages/NEURD/Applications/Tutorials/Auto_Proof_Pipeline/Double_Soma/temp/fill_holes_532470.mls is being deleted....\n",
      "-----Time for Screened Poisson= 9.648741722106934\n",
      "mesh_pieces = [<trimesh.Trimesh(vertices.shape=(7407, 3), faces.shape=(14810, 3))>]\n",
      "     Starting Calcification (Changed back where stitches large poissons)\n",
      "Manifold status before skeletonization = True\n",
      "Watertight status before skeletonization = True\n",
      "min_edge_length = 75\n",
      "Before mesh subtraction number of skeleton edges = 298\n"
     ]
    },
    {
     "data": {
      "application/vnd.jupyter.widget-view+json": {
       "model_id": "ea4fdc03cd8048c78a27557d47b4631f",
       "version_major": 2,
       "version_minor": 0
      },
      "text/plain": [
       "0it [00:00, ?it/s]"
      ]
     },
     "metadata": {},
     "output_type": "display_data"
    },
    {
     "name": "stdout",
     "output_type": "stream",
     "text": [
      "len(leftover_meshes_sig) = []\n"
     ]
    },
    {
     "data": {
      "application/vnd.jupyter.widget-view+json": {
       "model_id": "1c44a9c362c247d9a78c739b55666444",
       "version_major": 2,
       "version_minor": 0
      },
      "text/plain": [
       "0it [00:00, ?it/s]"
      ]
     },
     "metadata": {},
     "output_type": "display_data"
    },
    {
     "name": "stdout",
     "output_type": "stream",
     "text": [
      "No skeletons to stack so returning empty list\n",
      "STacking the leftover and significant poisson skeleton\n",
      "max_stitch_distance = 5000\n",
      "len_subgraphs AT BEGINNING of the loop\n"
     ]
    },
    {
     "data": {
      "application/vnd.jupyter.widget-view+json": {
       "model_id": "4ecb1ecc559b45b990ef3022b96d4a42",
       "version_major": 2,
       "version_minor": 0
      },
      "text/plain": [
       "  0%|          | 0/1 [00:00<?, ?it/s]"
      ]
     },
     "metadata": {},
     "output_type": "display_data"
    },
    {
     "name": "stdout",
     "output_type": "stream",
     "text": [
      "all graph is one component!\n",
      "Total time for skeleton stitching = 0.014632701873779297\n",
      "The process was using a temp folder\n",
      "Checking connected components after skeletonize_connected_branch\n",
      "    Total time for skeletonizing branch: 10.884286880493164\n",
      "Checking connected components after removing cycles\n",
      "Total time for mesh KDTree = 0.0867149829864502\n",
      "sbv[0].reshape(-1,3) = [[1487208.   596715.8 1099876. ]]\n",
      "closest_sk_pt_coord BEFORE = [1487620.  597361. 1100750.]\n",
      "current_skeleton.shape = (297, 2, 3)\n",
      "node_for_stitch = 213: [1487620.  597361. 1100750.]\n",
      "node_for_stitch AFTER = 213: [1487620.  597361. 1100750.]\n",
      "possible_node_loc = [  0  44 213 297]\n",
      "possible_node_loc AFTER = [  0  44 213 297]\n",
      "curr_shortest_path = [213]\n",
      "Current stitch point was a branch or endpoint\n",
      "change_status for create soma extending pieces = False\n",
      "closest_sk_pt_coord AFTER = [1487620.  597361. 1100750.]\n",
      "skipping soma 0 because closest skeleton node was already end node\n",
      "endpoints_must_keep = {0: array([[1487620.,  597361., 1100750.]])}\n",
      "    Total time for Fixing Skeleton Soma Endpoint Extension : 0.20192575454711914\n",
      "filter_end_node_length = 4000\n"
     ]
    },
    {
     "data": {
      "application/vnd.jupyter.widget-view+json": {
       "model_id": "70ee9b2c866a4c97b88341657ab14341",
       "version_major": 2,
       "version_minor": 0
      },
      "text/plain": [
       "  0%|          | 0/1 [00:00<?, ?it/s]"
      ]
     },
     "metadata": {},
     "output_type": "display_data"
    },
    {
     "name": "stdout",
     "output_type": "stream",
     "text": [
      "Checking connected components after clean_skeleton\n",
      "after DISTANCE cleaning limb size of skeleton = (277, 2, 3)\n",
      "********COMBINING CLOSE SKELETON NODES WITHIN 700 DISTANCE**********\n",
      "combine_threshold = 700\n",
      "Found 0 valid paths to replace\n",
      "valid_paths = []\n",
      "valid_path_lengths = []\n",
      "No valid paths found so just returning the original\n",
      "skeletonize_and_clean_connected_branch_CGAL: 11.285010576248169\n",
      "Working on limb correspondence for #0 MAP piece\n",
      "xvfb-run -n 5911 -s \"-screen 0 800x600x24\" meshlabserver $@  -i /neurd_packages/NEURD/Applications/Tutorials/Auto_Proof_Pipeline/Double_Soma/temp/neuron_66973.off -o /neurd_packages/NEURD/Applications/Tutorials/Auto_Proof_Pipeline/Double_Soma/temp/neuron_66973_remove_interior.off -s /neurd_packages/NEURD/Applications/Tutorials/Auto_Proof_Pipeline/Double_Soma/temp/remove_interior_400561.mls\n",
      "removed temporary input file: /neurd_packages/NEURD/Applications/Tutorials/Auto_Proof_Pipeline/Double_Soma/temp/neuron_66973.off\n",
      "removed temporary output file: /neurd_packages/NEURD/Applications/Tutorials/Auto_Proof_Pipeline/Double_Soma/temp/neuron_66973_remove_interior.off\n",
      "/neurd_packages/NEURD/Applications/Tutorials/Auto_Proof_Pipeline/Double_Soma/temp/remove_interior_400561.mls is being deleted....\n",
      "No significant (100) interior meshes present\n",
      "largest is 14\n"
     ]
    },
    {
     "data": {
      "application/vnd.jupyter.widget-view+json": {
       "model_id": "5fb34b80da5743c681c70d86185ab572",
       "version_major": 2,
       "version_minor": 0
      },
      "text/plain": [
       "0it [00:00, ?it/s]"
      ]
     },
     "metadata": {},
     "output_type": "display_data"
    },
    {
     "name": "stdout",
     "output_type": "stream",
     "text": [
      "Total time for decomposition = 1.598846673965454\n",
      "mesh_correspondence_first_pass: 1.5988726615905762\n",
      "Limb decomposed into 3 branches\n",
      "divided_skeleton_graph_recovered = (277, 2, 3) and \n",
      "current_mesh_data[0]['branch_skeletons_cleaned'].shape = (277, 2, 3)\n",
      "\n",
      "Number of connected components in deocmposed recovered graph = 1\n",
      "Number of connected components in cleaned skeleton graph= 1\n",
      "The downsampled branches number of connected components = 1\n",
      "Empty submeshes = []\n",
      "\n",
      "\n",
      "--- Working on 1-to-1 correspondence-----\n",
      "max(original_labels),len(original_labels) = (2, 3)\n",
      "empty_indices % = 0.15949367088607594\n",
      " conflict_indices % = 0.026039783001808318\n"
     ]
    },
    {
     "data": {
      "application/vnd.jupyter.widget-view+json": {
       "model_id": "77a15163e2ce41649f5ada2df0c42199",
       "version_major": 2,
       "version_minor": 0
      },
      "text/plain": [
       "  0%|          | 0/16 [00:00<?, ?it/s]"
      ]
     },
     "metadata": {},
     "output_type": "display_data"
    },
    {
     "name": "stdout",
     "output_type": "stream",
     "text": [
      "Took 0 iterations to expand the label back\n",
      "empty_indices % = 0.0\n",
      " conflict_indices % = 0.0\n"
     ]
    },
    {
     "data": {
      "application/vnd.jupyter.widget-view+json": {
       "model_id": "50a52abf1fb6464ca38cc810b5b2398c",
       "version_major": 2,
       "version_minor": 0
      },
      "text/plain": [
       "0it [00:00, ?it/s]"
      ]
     },
     "metadata": {},
     "output_type": "display_data"
    },
    {
     "data": {
      "application/vnd.jupyter.widget-view+json": {
       "model_id": "4cf8e1859f29484b8d7939730fb9fd48",
       "version_major": 2,
       "version_minor": 0
      },
      "text/plain": [
       "  0%|          | 0/3 [00:00<?, ?it/s]"
      ]
     },
     "metadata": {},
     "output_type": "display_data"
    },
    {
     "name": "stdout",
     "output_type": "stream",
     "text": [
      "Total time for MAP sublimb #0 mesh processing = 13.266653537750244\n",
      "correspondence_1_to_1: 0.3672332763671875\n",
      "Total time for MAP sublimb processing 13.266729593276978\n",
      "---- Working on MP Decomposition #0 ----\n",
      "Computing the current soma touching verts dict manually\n",
      "MP filtering soma verts: 0.015580892562866211\n",
      "Do Not Need to Fix MP Decomposition 0 so just continuing\n",
      "---- Working on MP Decomposition #1 ----\n",
      "Computing the current soma touching verts dict manually\n",
      "MP filtering soma verts: 0.0238037109375\n",
      "Do Not Need to Fix MP Decomposition 1 so just continuing\n",
      "---- Working on MP Decomposition #2 ----\n",
      "Computing the current soma touching verts dict manually\n",
      "MP filtering soma verts: 0.023933887481689453\n",
      "Do Not Need to Fix MP Decomposition 2 so just continuing\n",
      "Successful mesh connectivity with type edges\n",
      "\n",
      "---- Working on (0, 0) connection-----\n",
      "sk_conn = [0, 1]\n",
      "conn = [0, 1]\n",
      "winning_vertex = [1491450.08344721  608267.60149996 1098228.13300974]\n",
      "MP_branches_with_stitch_point = [0, 1]\n",
      "MAP_branches_with_stitch_point = [2]\n",
      "MAP_stitch_point_on_end_or_branch = True\n"
     ]
    },
    {
     "data": {
      "application/vnd.jupyter.widget-view+json": {
       "model_id": "315aa687837f4200b7bafd0be21a1d02",
       "version_major": 2,
       "version_minor": 0
      },
      "text/plain": [
       "0it [00:00, ?it/s]"
      ]
     },
     "metadata": {},
     "output_type": "display_data"
    },
    {
     "name": "stdout",
     "output_type": "stream",
     "text": [
      "\n",
      "\n",
      "--- Working on 1-to-1 correspondence-----\n",
      "max(original_labels),len(original_labels) = (2, 3)\n",
      "empty_indices % = 0.1733438849869753\n",
      " conflict_indices % = 0.010122992712764204\n"
     ]
    },
    {
     "data": {
      "application/vnd.jupyter.widget-view+json": {
       "model_id": "57fd08a6840840409ea5ff905bae1f8c",
       "version_major": 2,
       "version_minor": 0
      },
      "text/plain": [
       "  0%|          | 0/97 [00:00<?, ?it/s]"
      ]
     },
     "metadata": {},
     "output_type": "display_data"
    },
    {
     "data": {
      "application/vnd.jupyter.widget-view+json": {
       "model_id": "57874b6e95d845a793fc5fc223c09cbb",
       "version_major": 2,
       "version_minor": 0
      },
      "text/plain": [
       "  0%|          | 0/3 [00:00<?, ?it/s]"
      ]
     },
     "metadata": {},
     "output_type": "display_data"
    },
    {
     "name": "stdout",
     "output_type": "stream",
     "text": [
      "MP_branches_with_stitch_point= [0, 1]\n",
      "MP_branches_for_correspondence = [0 1]\n",
      "MP_leftover = [], MP_leftover_idx = []\n",
      " Finished with (0, 0) \n",
      "\n",
      "\n",
      "\n",
      "\n",
      "---- Working on (1, 0) connection-----\n",
      "sk_conn = [0, 1]\n",
      "conn = [0, 1]\n",
      "winning_vertex = [1476472.93997195  615033.74821465 1108138.04148317]\n",
      "MP_branches_with_stitch_point = [0, 1]\n",
      "MAP_branches_with_stitch_point = [0]\n",
      "MAP_stitch_point_on_end_or_branch = False\n"
     ]
    },
    {
     "data": {
      "application/vnd.jupyter.widget-view+json": {
       "model_id": "0f38d0add0834254968874401d7484c8",
       "version_major": 2,
       "version_minor": 0
      },
      "text/plain": [
       "0it [00:00, ?it/s]"
      ]
     },
     "metadata": {},
     "output_type": "display_data"
    },
    {
     "name": "stdout",
     "output_type": "stream",
     "text": [
      "\n",
      "\n",
      "--- Working on 1-to-1 correspondence-----\n",
      "max(original_labels),len(original_labels) = (1, 2)\n",
      "empty_indices % = 0.18735594336516298\n",
      " conflict_indices % = 0.003457359236088245\n"
     ]
    },
    {
     "data": {
      "application/vnd.jupyter.widget-view+json": {
       "model_id": "7a4578dc75044274a7fd6497f73219ca",
       "version_major": 2,
       "version_minor": 0
      },
      "text/plain": [
       "  0%|          | 0/10 [00:00<?, ?it/s]"
      ]
     },
     "metadata": {},
     "output_type": "display_data"
    },
    {
     "data": {
      "application/vnd.jupyter.widget-view+json": {
       "model_id": "a73532b9f40d46c79214cf9155a12575",
       "version_major": 2,
       "version_minor": 0
      },
      "text/plain": [
       "  0%|          | 0/2 [00:00<?, ?it/s]"
      ]
     },
     "metadata": {},
     "output_type": "display_data"
    },
    {
     "data": {
      "application/vnd.jupyter.widget-view+json": {
       "model_id": "e8d3b60d8fb4420e8170a02ef769aa64",
       "version_major": 2,
       "version_minor": 0
      },
      "text/plain": [
       "0it [00:00, ?it/s]"
      ]
     },
     "metadata": {},
     "output_type": "display_data"
    },
    {
     "name": "stdout",
     "output_type": "stream",
     "text": [
      "\n",
      "\n",
      "--- Working on 1-to-1 correspondence-----\n",
      "max(original_labels),len(original_labels) = (3, 4)\n",
      "empty_indices % = 0.18649638073051003\n",
      " conflict_indices % = 0.04688410017472335\n"
     ]
    },
    {
     "data": {
      "application/vnd.jupyter.widget-view+json": {
       "model_id": "b1e8a1196c1a428abdce30bf213b388e",
       "version_major": 2,
       "version_minor": 0
      },
      "text/plain": [
       "  0%|          | 0/58 [00:00<?, ?it/s]"
      ]
     },
     "metadata": {},
     "output_type": "display_data"
    },
    {
     "data": {
      "application/vnd.jupyter.widget-view+json": {
       "model_id": "795d0e1e1db04f7a9846c5185d0feb10",
       "version_major": 2,
       "version_minor": 0
      },
      "text/plain": [
       "  0%|          | 0/4 [00:00<?, ?it/s]"
      ]
     },
     "metadata": {},
     "output_type": "display_data"
    },
    {
     "name": "stdout",
     "output_type": "stream",
     "text": [
      "Deleting branches from dictionary\n",
      "MP_branches_with_stitch_point= [0, 1]\n",
      "MP_branches_for_correspondence = [0 1]\n",
      "MP_leftover = [], MP_leftover_idx = []\n",
      " Finished with (1, 0) \n",
      "\n",
      "\n",
      "\n",
      "\n",
      "---- Working on (2, 0) connection-----\n",
      "sk_conn = [0]\n",
      "conn = [0]\n",
      "winning_vertex = [1488771.89112037  605282.82224157 1100475.99894991]\n",
      "MP_branches_with_stitch_point = [0]\n",
      "MAP_branches_with_stitch_point = [2]\n",
      "MAP_stitch_point_on_end_or_branch = False\n"
     ]
    },
    {
     "data": {
      "application/vnd.jupyter.widget-view+json": {
       "model_id": "b611d48450654d95a1c2bbb47535e1ff",
       "version_major": 2,
       "version_minor": 0
      },
      "text/plain": [
       "0it [00:00, ?it/s]"
      ]
     },
     "metadata": {},
     "output_type": "display_data"
    },
    {
     "name": "stdout",
     "output_type": "stream",
     "text": [
      "\n",
      "\n",
      "--- Working on 1-to-1 correspondence-----\n",
      "max(original_labels),len(original_labels) = (1, 2)\n",
      "empty_indices % = 0.14376590330788805\n",
      " conflict_indices % = 0.00826972010178117\n"
     ]
    },
    {
     "data": {
      "application/vnd.jupyter.widget-view+json": {
       "model_id": "63d16b4b0f334e8a8a183fa5e4a6a052",
       "version_major": 2,
       "version_minor": 0
      },
      "text/plain": [
       "  0%|          | 0/7 [00:00<?, ?it/s]"
      ]
     },
     "metadata": {},
     "output_type": "display_data"
    },
    {
     "data": {
      "application/vnd.jupyter.widget-view+json": {
       "model_id": "1dc0b3125de0425384a13a9bd8160779",
       "version_major": 2,
       "version_minor": 0
      },
      "text/plain": [
       "  0%|          | 0/2 [00:00<?, ?it/s]"
      ]
     },
     "metadata": {},
     "output_type": "display_data"
    },
    {
     "data": {
      "application/vnd.jupyter.widget-view+json": {
       "model_id": "b0ae263443d24e1a9a616834703aa289",
       "version_major": 2,
       "version_minor": 0
      },
      "text/plain": [
       "0it [00:00, ?it/s]"
      ]
     },
     "metadata": {},
     "output_type": "display_data"
    },
    {
     "name": "stdout",
     "output_type": "stream",
     "text": [
      "\n",
      "\n",
      "--- Working on 1-to-1 correspondence-----\n",
      "max(original_labels),len(original_labels) = (2, 3)\n",
      "empty_indices % = 0.23085090247231912\n",
      " conflict_indices % = 0.014485059912027908\n"
     ]
    },
    {
     "data": {
      "application/vnd.jupyter.widget-view+json": {
       "model_id": "6760512fc7ec48a4b385cf692abc3702",
       "version_major": 2,
       "version_minor": 0
      },
      "text/plain": [
       "  0%|          | 0/30 [00:00<?, ?it/s]"
      ]
     },
     "metadata": {},
     "output_type": "display_data"
    },
    {
     "data": {
      "application/vnd.jupyter.widget-view+json": {
       "model_id": "f31d900ce6454f108b2d43bc54aed713",
       "version_major": 2,
       "version_minor": 0
      },
      "text/plain": [
       "  0%|          | 0/3 [00:00<?, ?it/s]"
      ]
     },
     "metadata": {},
     "output_type": "display_data"
    },
    {
     "name": "stdout",
     "output_type": "stream",
     "text": [
      "Deleting branches from dictionary\n",
      "MP_branches_with_stitch_point= [0]\n",
      "MP_branches_for_correspondence = [0]\n",
      "MP_leftover = [], MP_leftover_idx = []\n",
      " Finished with (2, 0) \n",
      "\n",
      "\n",
      "\n",
      "Time for decomp of Limb = 27.779450178146362\n",
      "Number of matching vertices = 26\n",
      "Only one endpoint after filtering away the endpoints that are not on the skeleton\n",
      "Removed 0 skeletal branches\n"
     ]
    },
    {
     "data": {
      "application/vnd.jupyter.widget-view+json": {
       "model_id": "840e22730590473aafb8789fbdfb124e",
       "version_major": 2,
       "version_minor": 0
      },
      "text/plain": [
       "  0%|          | 0/10 [00:00<?, ?it/s]"
      ]
     },
     "metadata": {},
     "output_type": "display_data"
    },
    {
     "name": "stdout",
     "output_type": "stream",
     "text": [
      "66697 66698\n",
      "For marked faces: None\n",
      "empty_indices % = 0.0\n",
      " conflict_indices % = 0.0\n"
     ]
    },
    {
     "data": {
      "application/vnd.jupyter.widget-view+json": {
       "model_id": "8282134f42284e1f86d3002311b720a0",
       "version_major": 2,
       "version_minor": 0
      },
      "text/plain": [
       "0it [00:00, ?it/s]"
      ]
     },
     "metadata": {},
     "output_type": "display_data"
    },
    {
     "data": {
      "application/vnd.jupyter.widget-view+json": {
       "model_id": "0e9e08e25a7948c0ac1fdf604602bece",
       "version_major": 2,
       "version_minor": 0
      },
      "text/plain": [
       "  0%|          | 0/10 [00:00<?, ?it/s]"
      ]
     },
     "metadata": {},
     "output_type": "display_data"
    },
    {
     "name": "stdout",
     "output_type": "stream",
     "text": [
      "Successful Limb Decomposition\n",
      "\n",
      "\n",
      "----- Working on Proper Limb # 1 ---------\n",
      "meshparty_segment_size = 100\n",
      "invalidation_d = 12000\n",
      "use_adaptive_invalidation_d= False\n",
      "axon_width_preprocess_limb_max = 200\n",
      "filter_end_node_length= 4000\n",
      "filter_end_node_length_meshparty = 4000\n",
      "invalidation_d = 12000\n",
      "root_curr = [1484150.   588282.7 1095391. ]\n",
      "Time for preparing soma vertices and root: 0.00021266937255859375\n",
      "invalidation_d = 12000\n",
      "smooth_neighborhood = 1\n",
      "cc_vertex_thresh = 10\n"
     ]
    },
    {
     "name": "stderr",
     "output_type": "stream",
     "text": [
      "\r",
      "  0%|          | 0/1 [00:00<?, ?it/s]"
     ]
    },
    {
     "data": {
      "application/vnd.jupyter.widget-view+json": {
       "model_id": "6eeb48759973435ab29e801748d1d5da",
       "version_major": 2,
       "version_minor": 0
      },
      "text/plain": [
       "  0%|          | 0/20269 [00:00<?, ?it/s]"
      ]
     },
     "metadata": {},
     "output_type": "display_data"
    },
    {
     "name": "stderr",
     "output_type": "stream",
     "text": [
      "100%|██████████| 1/1 [00:00<00:00,  4.76it/s]\n"
     ]
    },
    {
     "name": "stdout",
     "output_type": "stream",
     "text": [
      "meshparty_segment_size = 100\n",
      "Time for 1st pass MP skeletonization: 0.5649209022521973\n",
      "branches_touching_root = [3]\n",
      "combining close nodes\n",
      "combine_threshold = 700\n",
      "length of Graph = 5975\n",
      "After combining close endpoints max(kept_branches_idx) = 26, len(kept_branches_idx) = 25\n",
      "empty_indices % = 0.0\n",
      " conflict_indices % = 0.010165121237665492\n"
     ]
    },
    {
     "data": {
      "application/vnd.jupyter.widget-view+json": {
       "model_id": "d08a7071256f40c9a75e68837a46c928",
       "version_major": 2,
       "version_minor": 0
      },
      "text/plain": [
       "  0%|          | 0/11 [00:00<?, ?it/s]"
      ]
     },
     "metadata": {},
     "output_type": "display_data"
    },
    {
     "data": {
      "application/vnd.jupyter.widget-view+json": {
       "model_id": "b4136d84aafc4bd3a5004488a10e110b",
       "version_major": 2,
       "version_minor": 0
      },
      "text/plain": [
       "  0%|          | 0/25 [00:00<?, ?it/s]"
      ]
     },
     "metadata": {},
     "output_type": "display_data"
    },
    {
     "name": "stdout",
     "output_type": "stream",
     "text": [
      "Decomposing first pass: 3.2026727199554443\n",
      "Attempting to use MeshAfterParty Skeletonization and Mesh Correspondence\n",
      "Another print\n",
      "Divinding into MP and MAP pieces: 9.870529174804688e-05\n",
      "Total time for MAP sublimb processing 6.4373016357421875e-06\n",
      "---- Working on MP Decomposition #0 ----\n",
      "Using Quicker soma_to_piece_touching_vertices because no MAP and only one sublimb_mesh piece \n",
      "MP filtering soma verts: 4.410743713378906e-05\n",
      "Fixing Possible Soma Extension Branch for Sublimb 0\n",
      "Total time for mesh KDTree = 0.05363798141479492\n",
      "sbv[0].reshape(-1,3) = [[1484150.   588282.7 1095391. ]]\n",
      "closest_sk_pt_coord BEFORE = [1483982.08022895  588135.81137922 1094821.63000965]\n",
      "current_skeleton.shape = (556, 2, 3)\n",
      "node_for_stitch = 556: [1483982.08022895  588135.81137922 1094821.63000965]\n",
      "node_for_stitch AFTER = 556: [1483982.08022895  588135.81137922 1094821.63000965]\n",
      "possible_node_loc = [  2 556]\n",
      "possible_node_loc AFTER = [  2 556]\n",
      "curr_shortest_path = [556]\n",
      "Current stitch point was a branch or endpoint\n",
      "change_status for create soma extending pieces = False\n",
      "closest_sk_pt_coord AFTER = [1483982.08022895  588135.81137922 1094821.63000965]\n",
      "skipping soma 0 because closest skeleton node was already end node\n",
      "endpoints_must_keep = {0: array([[1483982.08022895,  588135.81137922, 1094821.63000965]])}\n",
      "match_sk_branches = [3]\n",
      "The new branch info was none so skipping \n",
      "\n",
      "No soma extending branch was added for this sublimb even though it had a soma border (means they already existed)\n",
      "MP (because soma touching verts) soma extension add: 0.763263463973999\n",
      "There were not both MAP and MP pieces so skipping the stitch resolving phase\n",
      "Time for decomp of Limb = 4.668600797653198\n",
      "Number of matching vertices = 20\n",
      "Only one endpoint after filtering away the endpoints that are not on the skeleton\n",
      "Removed 0 skeletal branches\n"
     ]
    },
    {
     "data": {
      "application/vnd.jupyter.widget-view+json": {
       "model_id": "275a8d3c43de417596eb1f022e0df1e5",
       "version_major": 2,
       "version_minor": 0
      },
      "text/plain": [
       "  0%|          | 0/25 [00:00<?, ?it/s]"
      ]
     },
     "metadata": {},
     "output_type": "display_data"
    },
    {
     "name": "stdout",
     "output_type": "stream",
     "text": [
      "40338 40339\n",
      "For marked faces: None\n",
      "empty_indices % = 0.0\n",
      " conflict_indices % = 0.0\n"
     ]
    },
    {
     "data": {
      "application/vnd.jupyter.widget-view+json": {
       "model_id": "454432a1f68045b483016b3bd2b7f8c1",
       "version_major": 2,
       "version_minor": 0
      },
      "text/plain": [
       "0it [00:00, ?it/s]"
      ]
     },
     "metadata": {},
     "output_type": "display_data"
    },
    {
     "data": {
      "application/vnd.jupyter.widget-view+json": {
       "model_id": "49659cf66f484a22ab85021da89bd64f",
       "version_major": 2,
       "version_minor": 0
      },
      "text/plain": [
       "  0%|          | 0/25 [00:00<?, ?it/s]"
      ]
     },
     "metadata": {},
     "output_type": "display_data"
    },
    {
     "name": "stdout",
     "output_type": "stream",
     "text": [
      "Successful Limb Decomposition\n",
      "\n",
      "\n",
      "----- Working on Proper Limb # 2 ---------\n",
      "meshparty_segment_size = 100\n",
      "invalidation_d = 12000\n",
      "use_adaptive_invalidation_d= False\n",
      "axon_width_preprocess_limb_max = 200\n",
      "filter_end_node_length= 4000\n",
      "filter_end_node_length_meshparty = 4000\n",
      "invalidation_d = 12000\n",
      "root_curr = [1476534.   581771.6 1109552. ]\n",
      "Time for preparing soma vertices and root: 0.0002129077911376953\n",
      "invalidation_d = 12000\n",
      "smooth_neighborhood = 1\n",
      "cc_vertex_thresh = 10\n"
     ]
    },
    {
     "name": "stderr",
     "output_type": "stream",
     "text": [
      "\r",
      "  0%|          | 0/1 [00:00<?, ?it/s]"
     ]
    },
    {
     "data": {
      "application/vnd.jupyter.widget-view+json": {
       "model_id": "d6f0a1102a1d48cab94879074a4052ae",
       "version_major": 2,
       "version_minor": 0
      },
      "text/plain": [
       "  0%|          | 0/20030 [00:00<?, ?it/s]"
      ]
     },
     "metadata": {},
     "output_type": "display_data"
    },
    {
     "name": "stderr",
     "output_type": "stream",
     "text": [
      "100%|██████████| 1/1 [00:00<00:00, 11.58it/s]\n"
     ]
    },
    {
     "name": "stdout",
     "output_type": "stream",
     "text": [
      "meshparty_segment_size = 100\n",
      "Time for 1st pass MP skeletonization: 0.40840625762939453\n",
      "branches_touching_root = [1]\n",
      "combining close nodes\n",
      "combine_threshold = 700\n",
      "length of Graph = 2074\n",
      "After combining close endpoints max(kept_branches_idx) = 2, len(kept_branches_idx) = 3\n",
      "empty_indices % = 0.0\n",
      " conflict_indices % = 0.002637462007987742\n"
     ]
    },
    {
     "data": {
      "application/vnd.jupyter.widget-view+json": {
       "model_id": "0615a1f588de485cbd1f6cfa8d472565",
       "version_major": 2,
       "version_minor": 0
      },
      "text/plain": [
       "  0%|          | 0/1 [00:00<?, ?it/s]"
      ]
     },
     "metadata": {},
     "output_type": "display_data"
    },
    {
     "data": {
      "application/vnd.jupyter.widget-view+json": {
       "model_id": "a841f1e53533498a90fe4c9f845e1098",
       "version_major": 2,
       "version_minor": 0
      },
      "text/plain": [
       "  0%|          | 0/3 [00:00<?, ?it/s]"
      ]
     },
     "metadata": {},
     "output_type": "display_data"
    },
    {
     "name": "stdout",
     "output_type": "stream",
     "text": [
      "Decomposing first pass: 2.464810371398926\n",
      "Attempting to use MeshAfterParty Skeletonization and Mesh Correspondence\n",
      "Another print\n",
      "Found len(mesh_large_idx) MAP candidates: [2091]\n",
      "mesh_large_connectivity: 0.0001690387725830078\n",
      "Finding MAP candidates connected components: 8.368492126464844e-05\n",
      "len(filtered_pieces) = 1\n",
      "skeleton_connectivity_MP : 0.11724233627319336\n",
      "Grouping MP Sublimbs by Graph: 0.06909775733947754\n",
      "Divinding into MP and MAP pieces: 1.9073486328125e-06\n",
      "--- Working on MAP piece 0---\n",
      "MAP Filtering Soma Pieces: 0.0570831298828125\n",
      "inside skeletonize_connected_branch and use_surface_after_CGAL=True, surface_reconstruction_size=1000\n",
      "keep_idx = [0]\n",
      "     Starting Screened Poisson\n",
      "xvfb-run -n 6182 -s \"-screen 0 800x600x24\" meshlabserver $@  -i /neurd_packages/NEURD/Applications/Tutorials/Auto_Proof_Pipeline/Double_Soma/temp/None.off -o /neurd_packages/NEURD/Applications/Tutorials/Auto_Proof_Pipeline/Double_Soma/temp/None_poisson.off -s /neurd_packages/NEURD/Applications/Tutorials/Auto_Proof_Pipeline/Double_Soma/temp/poisson_223548.mls\n",
      "removed temporary input file: /neurd_packages/NEURD/Applications/Tutorials/Auto_Proof_Pipeline/Double_Soma/temp/None.off\n",
      "removed temporary output file: /neurd_packages/NEURD/Applications/Tutorials/Auto_Proof_Pipeline/Double_Soma/temp/None_poisson.off\n",
      "Using the close holes feature\n",
      "xvfb-run -n 4822 -s \"-screen 0 800x600x24\" meshlabserver $@  -i /neurd_packages/NEURD/Applications/Tutorials/Auto_Proof_Pipeline/Double_Soma/temp/neuron_33750.off -o /neurd_packages/NEURD/Applications/Tutorials/Auto_Proof_Pipeline/Double_Soma/temp/neuron_33750_fill_holes.off -s /neurd_packages/NEURD/Applications/Tutorials/Auto_Proof_Pipeline/Double_Soma/temp/fill_holes_41917.mls\n",
      "removed temporary input file: /neurd_packages/NEURD/Applications/Tutorials/Auto_Proof_Pipeline/Double_Soma/temp/neuron_33750.off\n",
      "removed temporary output file: /neurd_packages/NEURD/Applications/Tutorials/Auto_Proof_Pipeline/Double_Soma/temp/neuron_33750_fill_holes.off\n",
      "/neurd_packages/NEURD/Applications/Tutorials/Auto_Proof_Pipeline/Double_Soma/temp/fill_holes_41917.mls is being deleted....\n",
      "-----Time for Screened Poisson= 9.039629697799683\n",
      "mesh_pieces = [<trimesh.Trimesh(vertices.shape=(1991, 3), faces.shape=(3978, 3))>]\n",
      "     Starting Calcification (Changed back where stitches large poissons)\n",
      "Manifold status before skeletonization = True\n",
      "Watertight status before skeletonization = True\n",
      "min_edge_length = 75\n",
      "Before mesh subtraction number of skeleton edges = 73\n"
     ]
    },
    {
     "data": {
      "application/vnd.jupyter.widget-view+json": {
       "model_id": "009bc9d21af04f79911dc3db31809593",
       "version_major": 2,
       "version_minor": 0
      },
      "text/plain": [
       "0it [00:00, ?it/s]"
      ]
     },
     "metadata": {},
     "output_type": "display_data"
    },
    {
     "name": "stdout",
     "output_type": "stream",
     "text": [
      "len(leftover_meshes_sig) = []\n"
     ]
    },
    {
     "data": {
      "application/vnd.jupyter.widget-view+json": {
       "model_id": "d976839c12eb4994a29c6fbb9f852807",
       "version_major": 2,
       "version_minor": 0
      },
      "text/plain": [
       "0it [00:00, ?it/s]"
      ]
     },
     "metadata": {},
     "output_type": "display_data"
    },
    {
     "name": "stdout",
     "output_type": "stream",
     "text": [
      "No skeletons to stack so returning empty list\n",
      "STacking the leftover and significant poisson skeleton\n",
      "max_stitch_distance = 5000\n",
      "len_subgraphs AT BEGINNING of the loop\n"
     ]
    },
    {
     "data": {
      "application/vnd.jupyter.widget-view+json": {
       "model_id": "88f95cf612d1492dbf60fa092d923000",
       "version_major": 2,
       "version_minor": 0
      },
      "text/plain": [
       "  0%|          | 0/1 [00:00<?, ?it/s]"
      ]
     },
     "metadata": {},
     "output_type": "display_data"
    },
    {
     "name": "stdout",
     "output_type": "stream",
     "text": [
      "all graph is one component!\n",
      "Total time for skeleton stitching = 0.007577180862426758\n",
      "The process was using a temp folder\n",
      "Checking connected components after skeletonize_connected_branch\n",
      "    Total time for skeletonizing branch: 9.370626449584961\n",
      "Checking connected components after removing cycles\n",
      "Total time for mesh KDTree = 0.02082037925720215\n",
      "sbv[0].reshape(-1,3) = [[1476534.   581771.6 1109552. ]]\n",
      "closest_sk_pt_coord BEFORE = [1476690.  582424. 1109410.]\n",
      "current_skeleton.shape = (72, 2, 3)\n",
      "node_for_stitch = 0: [1476690.  582424. 1109410.]\n",
      "node_for_stitch AFTER = 0: [1476690.  582424. 1109410.]\n",
      "possible_node_loc = [ 0 72]\n",
      "possible_node_loc AFTER = [ 0 72]\n",
      "curr_shortest_path = [0]\n",
      "Current stitch point was a branch or endpoint\n",
      "change_status for create soma extending pieces = False\n",
      "closest_sk_pt_coord AFTER = [1476690.  582424. 1109410.]\n",
      "skipping soma 1 because closest skeleton node was already end node\n",
      "endpoints_must_keep = {1: array([[1476690.,  582424., 1109410.]])}\n",
      "    Total time for Fixing Skeleton Soma Endpoint Extension : 0.1288750171661377\n",
      "filter_end_node_length = 4000\n",
      "Checking connected components after clean_skeleton\n",
      "after DISTANCE cleaning limb size of skeleton = (72, 2, 3)\n",
      "********COMBINING CLOSE SKELETON NODES WITHIN 700 DISTANCE**********\n",
      "combine_threshold = 700\n",
      "Found 0 valid paths to replace\n",
      "valid_paths = []\n",
      "valid_path_lengths = []\n",
      "No valid paths found so just returning the original\n",
      "skeletonize_and_clean_connected_branch_CGAL: 9.547901630401611\n",
      "Working on limb correspondence for #0 MAP piece\n",
      "xvfb-run -n 1874 -s \"-screen 0 800x600x24\" meshlabserver $@  -i /neurd_packages/NEURD/Applications/Tutorials/Auto_Proof_Pipeline/Double_Soma/temp/neuron_90508.off -o /neurd_packages/NEURD/Applications/Tutorials/Auto_Proof_Pipeline/Double_Soma/temp/neuron_90508_remove_interior.off -s /neurd_packages/NEURD/Applications/Tutorials/Auto_Proof_Pipeline/Double_Soma/temp/remove_interior_250253.mls\n",
      "removed temporary input file: /neurd_packages/NEURD/Applications/Tutorials/Auto_Proof_Pipeline/Double_Soma/temp/neuron_90508.off\n",
      "removed temporary output file: /neurd_packages/NEURD/Applications/Tutorials/Auto_Proof_Pipeline/Double_Soma/temp/neuron_90508_remove_interior.off\n",
      "/neurd_packages/NEURD/Applications/Tutorials/Auto_Proof_Pipeline/Double_Soma/temp/remove_interior_250253.mls is being deleted....\n",
      "No significant (100) interior meshes present\n",
      "largest is 3\n"
     ]
    },
    {
     "data": {
      "application/vnd.jupyter.widget-view+json": {
       "model_id": "d9167fe8470f445abeed63b352f32ef3",
       "version_major": 2,
       "version_minor": 0
      },
      "text/plain": [
       "0it [00:00, ?it/s]"
      ]
     },
     "metadata": {},
     "output_type": "display_data"
    },
    {
     "name": "stdout",
     "output_type": "stream",
     "text": [
      "Total time for decomposition = 0.8727424144744873\n",
      "mesh_correspondence_first_pass: 0.8727655410766602\n",
      "Limb decomposed into 1 branches\n",
      "divided_skeleton_graph_recovered = (72, 2, 3) and \n",
      "current_mesh_data[0]['branch_skeletons_cleaned'].shape = (72, 2, 3)\n",
      "\n",
      "Number of connected components in deocmposed recovered graph = 1\n",
      "Number of connected components in cleaned skeleton graph= 1\n",
      "The downsampled branches number of connected components = 1\n",
      "Empty submeshes = []\n",
      "\n",
      "\n",
      "--- Working on 1-to-1 correspondence-----\n",
      "max(original_labels),len(original_labels) = (0, 1)\n",
      "empty_indices % = 0.13964610234337638\n",
      " conflict_indices % = 0.0\n"
     ]
    },
    {
     "data": {
      "application/vnd.jupyter.widget-view+json": {
       "model_id": "15fe6d4e48e647749a34671a6adf2a55",
       "version_major": 2,
       "version_minor": 0
      },
      "text/plain": [
       "  0%|          | 0/5 [00:00<?, ?it/s]"
      ]
     },
     "metadata": {},
     "output_type": "display_data"
    },
    {
     "name": "stdout",
     "output_type": "stream",
     "text": [
      "Took 0 iterations to expand the label back\n",
      "empty_indices % = 0.0\n",
      " conflict_indices % = 0.0\n"
     ]
    },
    {
     "data": {
      "application/vnd.jupyter.widget-view+json": {
       "model_id": "7c37b5657c794278b376161187df87ad",
       "version_major": 2,
       "version_minor": 0
      },
      "text/plain": [
       "0it [00:00, ?it/s]"
      ]
     },
     "metadata": {},
     "output_type": "display_data"
    },
    {
     "data": {
      "application/vnd.jupyter.widget-view+json": {
       "model_id": "4030a07f252d4b1c9fc3a9e05fd9d711",
       "version_major": 2,
       "version_minor": 0
      },
      "text/plain": [
       "  0%|          | 0/1 [00:00<?, ?it/s]"
      ]
     },
     "metadata": {},
     "output_type": "display_data"
    },
    {
     "name": "stdout",
     "output_type": "stream",
     "text": [
      "Total time for MAP sublimb #0 mesh processing = 10.622220039367676\n",
      "correspondence_1_to_1: 0.14445042610168457\n",
      "Total time for MAP sublimb processing 10.62229609489441\n",
      "---- Working on MP Decomposition #0 ----\n",
      "Computing the current soma touching verts dict manually\n",
      "MP filtering soma verts: 0.019176959991455078\n",
      "Do Not Need to Fix MP Decomposition 0 so just continuing\n",
      "Successful mesh connectivity with type edges\n",
      "\n",
      "---- Working on (0, 0) connection-----\n",
      "sk_conn = [0, 1]\n",
      "conn = [0, 1]\n",
      "winning_vertex = [1481900.72163354  586937.6302398  1100472.34094648]\n",
      "MP_branches_with_stitch_point = [0, 1]\n",
      "MAP_branches_with_stitch_point = [0]\n",
      "MAP_stitch_point_on_end_or_branch = True\n"
     ]
    },
    {
     "data": {
      "application/vnd.jupyter.widget-view+json": {
       "model_id": "5ffc7e6b6f834d16b88e026746428d34",
       "version_major": 2,
       "version_minor": 0
      },
      "text/plain": [
       "0it [00:00, ?it/s]"
      ]
     },
     "metadata": {},
     "output_type": "display_data"
    },
    {
     "name": "stdout",
     "output_type": "stream",
     "text": [
      "\n",
      "\n",
      "--- Working on 1-to-1 correspondence-----\n",
      "max(original_labels),len(original_labels) = (2, 3)\n",
      "empty_indices % = 0.23081560372761298\n",
      " conflict_indices % = 0.009067845570319762\n"
     ]
    },
    {
     "data": {
      "application/vnd.jupyter.widget-view+json": {
       "model_id": "48edb6647d1940e7a5d767c2edb4c348",
       "version_major": 2,
       "version_minor": 0
      },
      "text/plain": [
       "  0%|          | 0/136 [00:00<?, ?it/s]"
      ]
     },
     "metadata": {},
     "output_type": "display_data"
    },
    {
     "data": {
      "application/vnd.jupyter.widget-view+json": {
       "model_id": "13e3dc171a55414bae777d9a3c0476c1",
       "version_major": 2,
       "version_minor": 0
      },
      "text/plain": [
       "  0%|          | 0/3 [00:00<?, ?it/s]"
      ]
     },
     "metadata": {},
     "output_type": "display_data"
    },
    {
     "name": "stdout",
     "output_type": "stream",
     "text": [
      "MP_branches_with_stitch_point= [0, 1]\n",
      "MP_branches_for_correspondence = [0 1]\n",
      "MP_leftover = [], MP_leftover_idx = []\n",
      " Finished with (0, 0) \n",
      "\n",
      "\n",
      "\n",
      "Time for decomp of Limb = 23.345638275146484\n",
      "Number of matching vertices = 14\n",
      "Only one endpoint after filtering away the endpoints that are not on the skeleton\n",
      "Removed 0 skeletal branches\n"
     ]
    },
    {
     "data": {
      "application/vnd.jupyter.widget-view+json": {
       "model_id": "5f2e5bd9758a4b79a326800e0e971e0e",
       "version_major": 2,
       "version_minor": 0
      },
      "text/plain": [
       "  0%|          | 0/3 [00:00<?, ?it/s]"
      ]
     },
     "metadata": {},
     "output_type": "display_data"
    },
    {
     "name": "stdout",
     "output_type": "stream",
     "text": [
      "39810 39811\n",
      "For marked faces: None\n",
      "empty_indices % = 0.0\n",
      " conflict_indices % = 0.0\n"
     ]
    },
    {
     "data": {
      "application/vnd.jupyter.widget-view+json": {
       "model_id": "ab0dc9d73c684278a66af521d6289b68",
       "version_major": 2,
       "version_minor": 0
      },
      "text/plain": [
       "0it [00:00, ?it/s]"
      ]
     },
     "metadata": {},
     "output_type": "display_data"
    },
    {
     "data": {
      "application/vnd.jupyter.widget-view+json": {
       "model_id": "5c1e1fad88a74622871898ba8e84638c",
       "version_major": 2,
       "version_minor": 0
      },
      "text/plain": [
       "  0%|          | 0/3 [00:00<?, ?it/s]"
      ]
     },
     "metadata": {},
     "output_type": "display_data"
    },
    {
     "name": "stdout",
     "output_type": "stream",
     "text": [
      "Successful Limb Decomposition\n",
      "\n",
      "\n",
      "----- Working on Proper Limb # 3 ---------\n",
      "meshparty_segment_size = 100\n",
      "invalidation_d = 12000\n",
      "use_adaptive_invalidation_d= False\n",
      "axon_width_preprocess_limb_max = 200\n",
      "filter_end_node_length= 4000\n",
      "filter_end_node_length_meshparty = 4000\n",
      "invalidation_d = 12000\n",
      "root_curr = [1474851.   571357.5 1113536. ]\n",
      "Time for preparing soma vertices and root: 0.00023221969604492188\n",
      "invalidation_d = 12000\n",
      "smooth_neighborhood = 1\n",
      "cc_vertex_thresh = 10\n"
     ]
    },
    {
     "name": "stderr",
     "output_type": "stream",
     "text": [
      "\r",
      "  0%|          | 0/1 [00:00<?, ?it/s]"
     ]
    },
    {
     "data": {
      "application/vnd.jupyter.widget-view+json": {
       "model_id": "458124aecc8f462da9edf20b9a9e8c14",
       "version_major": 2,
       "version_minor": 0
      },
      "text/plain": [
       "  0%|          | 0/11304 [00:00<?, ?it/s]"
      ]
     },
     "metadata": {},
     "output_type": "display_data"
    },
    {
     "name": "stderr",
     "output_type": "stream",
     "text": [
      "100%|██████████| 1/1 [00:00<00:00, 13.46it/s]\n"
     ]
    },
    {
     "name": "stdout",
     "output_type": "stream",
     "text": [
      "meshparty_segment_size = 100\n",
      "Time for 1st pass MP skeletonization: 0.2916676998138428\n",
      "connecting at the root\n",
      "branches_touching_root = [2]\n",
      "combining close nodes\n",
      "combine_threshold = 700\n",
      "length of Graph = 1216\n",
      "After combining close endpoints max(kept_branches_idx) = 2, len(kept_branches_idx) = 3\n",
      "empty_indices % = 0.0\n",
      " conflict_indices % = 0.0026850443032310034\n"
     ]
    },
    {
     "data": {
      "application/vnd.jupyter.widget-view+json": {
       "model_id": "3afcff43e8cc4bb0b1f344145ed20277",
       "version_major": 2,
       "version_minor": 0
      },
      "text/plain": [
       "  0%|          | 0/1 [00:00<?, ?it/s]"
      ]
     },
     "metadata": {},
     "output_type": "display_data"
    },
    {
     "data": {
      "application/vnd.jupyter.widget-view+json": {
       "model_id": "f93c7d92ebc54c50bea88c552c536861",
       "version_major": 2,
       "version_minor": 0
      },
      "text/plain": [
       "  0%|          | 0/3 [00:00<?, ?it/s]"
      ]
     },
     "metadata": {},
     "output_type": "display_data"
    },
    {
     "name": "stdout",
     "output_type": "stream",
     "text": [
      "Decomposing first pass: 0.784726619720459\n",
      "Attempting to use MeshAfterParty Skeletonization and Mesh Correspondence\n",
      "Another print\n",
      "Divinding into MP and MAP pieces: 5.555152893066406e-05\n",
      "Total time for MAP sublimb processing 3.5762786865234375e-06\n",
      "---- Working on MP Decomposition #0 ----\n",
      "Using Quicker soma_to_piece_touching_vertices because no MAP and only one sublimb_mesh piece \n",
      "MP filtering soma verts: 2.765655517578125e-05\n",
      "Fixing Possible Soma Extension Branch for Sublimb 0\n",
      "Total time for mesh KDTree = 0.13027381896972656\n",
      "sbv[0].reshape(-1,3) = [[1474851.   571357.5 1113536. ]]\n",
      "closest_sk_pt_coord BEFORE = [1478327.0746533   571496.39513115 1112568.79431172]\n",
      "current_skeleton.shape = (816, 2, 3)\n",
      "node_for_stitch = 79: [1478327.0746533   571496.39513115 1112568.79431172]\n",
      "node_for_stitch AFTER = 79: [1478327.0746533   571496.39513115 1112568.79431172]\n",
      "possible_node_loc = [  0 816]\n",
      "possible_node_loc AFTER = [  0 816]\n",
      "curr_shortest_path = [79, 78.0, 77.0, 76.0, 75.0, 74.0, 73.0, 72.0, 71.0, 70.0, 69.0, 68.0, 67.0, 66.0, 65.0, 64.0, 63.0, 62.0, 61.0, 60.0, 59.0, 58.0, 57.0, 56.0, 55.0, 54.0, 53.0, 52.0, 51.0, 50.0, 49.0, 48.0, 47.0, 46.0, 45.0, 44.0, 43.0, 42.0, 41.0, 40.0, 39.0, 38.0, 37.0, 36.0, 35.0, 34.0, 33.0, 32.0, 31.0, 30.0, 29.0, 28.0, 27.0, 26.0, 25.0, 24.0, 23.0, 22.0, 21.0, 20.0, 19.0, 18.0, 17.0, 16.0, 15.0, 14.0, 13.0, 12.0, 11.0, 10.0, 9.0, 8.0, 7.0, 6.0, 5.0, 4.0, 3.0, 2.0, 1.0, 0]\n",
      "Current stitch point was not a branch or endpoint, shortest_path_length to one = 7899.09708045272\n",
      "change_status for create soma extending pieces = False\n",
      "closest_sk_pt_coord AFTER = [1478327.0746533   571496.39513115 1112568.79431172]\n",
      "Adding new branch to skeleton\n",
      "border_average_coordinate = [1475123.88888889  571587.50555556 1113243.55555556]\n",
      "endpoints_must_keep = {1: array([[1475123.88888889,  571587.50555556, 1113243.55555556]])}\n",
      "match_sk_branches = []\n",
      "orig_vertex = [1478327.0746533   571496.39513115 1112568.79431172]\n",
      "match_sk_branches = [2]\n"
     ]
    },
    {
     "data": {
      "application/vnd.jupyter.widget-view+json": {
       "model_id": "1b94410dab3c46b2ac9cd68ed3afc93b",
       "version_major": 2,
       "version_minor": 0
      },
      "text/plain": [
       "0it [00:00, ?it/s]"
      ]
     },
     "metadata": {},
     "output_type": "display_data"
    },
    {
     "name": "stdout",
     "output_type": "stream",
     "text": [
      "\n",
      "\n",
      "--- Working on 1-to-1 correspondence-----\n",
      "max(original_labels),len(original_labels) = (2, 3)\n",
      "empty_indices % = 0.20517137702946484\n",
      " conflict_indices % = 0.0\n"
     ]
    },
    {
     "data": {
      "application/vnd.jupyter.widget-view+json": {
       "model_id": "9888e0f08b704c7886e793ad4ea399b0",
       "version_major": 2,
       "version_minor": 0
      },
      "text/plain": [
       "  0%|          | 0/52 [00:00<?, ?it/s]"
      ]
     },
     "metadata": {},
     "output_type": "display_data"
    },
    {
     "name": "stdout",
     "output_type": "stream",
     "text": [
      "Took 0 iterations to expand the label back\n",
      "empty_indices % = 0.0\n",
      " conflict_indices % = 0.0\n"
     ]
    },
    {
     "data": {
      "application/vnd.jupyter.widget-view+json": {
       "model_id": "59fd33f6615e4211973603d9f3954192",
       "version_major": 2,
       "version_minor": 0
      },
      "text/plain": [
       "0it [00:00, ?it/s]"
      ]
     },
     "metadata": {},
     "output_type": "display_data"
    },
    {
     "data": {
      "application/vnd.jupyter.widget-view+json": {
       "model_id": "64273eddbbcc49a18bde793f6d11d51f",
       "version_major": 2,
       "version_minor": 0
      },
      "text/plain": [
       "  0%|          | 0/3 [00:00<?, ?it/s]"
      ]
     },
     "metadata": {},
     "output_type": "display_data"
    },
    {
     "name": "stdout",
     "output_type": "stream",
     "text": [
      "curr_width_median = 87.2516867863595\n",
      "curr_width_median = 443.73112426374814\n",
      "curr_width_median = 382.48566760579575\n",
      "checked segment branches after soma add on\n",
      "MP (because soma touching verts) soma extension add: 2.993227958679199\n",
      "There were not both MAP and MP pieces so skipping the stitch resolving phase\n",
      "Time for decomp of Limb = 4.098547697067261\n",
      "Number of matching vertices = 18\n",
      "Only one endpoint after filtering away the endpoints that are not on the skeleton\n",
      "Removed 0 skeletal branches\n"
     ]
    },
    {
     "data": {
      "application/vnd.jupyter.widget-view+json": {
       "model_id": "5947576b6a8a43ac8e9f3b25316d0699",
       "version_major": 2,
       "version_minor": 0
      },
      "text/plain": [
       "  0%|          | 0/5 [00:00<?, ?it/s]"
      ]
     },
     "metadata": {},
     "output_type": "display_data"
    },
    {
     "name": "stdout",
     "output_type": "stream",
     "text": [
      "22345 22346\n",
      "For marked faces: None\n",
      "empty_indices % = 0.0\n",
      " conflict_indices % = 0.0\n"
     ]
    },
    {
     "data": {
      "application/vnd.jupyter.widget-view+json": {
       "model_id": "0044a3d4acb44b4c9343e77bbe20d6b9",
       "version_major": 2,
       "version_minor": 0
      },
      "text/plain": [
       "0it [00:00, ?it/s]"
      ]
     },
     "metadata": {},
     "output_type": "display_data"
    },
    {
     "data": {
      "application/vnd.jupyter.widget-view+json": {
       "model_id": "b9d0112e9ced4fbfa88be1299bb77317",
       "version_major": 2,
       "version_minor": 0
      },
      "text/plain": [
       "  0%|          | 0/5 [00:00<?, ?it/s]"
      ]
     },
     "metadata": {},
     "output_type": "display_data"
    },
    {
     "name": "stdout",
     "output_type": "stream",
     "text": [
      "Successful Limb Decomposition\n",
      "\n",
      "\n",
      "----- Working on Proper Limb # 4 ---------\n",
      "meshparty_segment_size = 100\n",
      "invalidation_d = 12000\n",
      "use_adaptive_invalidation_d= False\n",
      "axon_width_preprocess_limb_max = 200\n",
      "filter_end_node_length= 4000\n",
      "filter_end_node_length_meshparty = 4000\n",
      "invalidation_d = 12000\n",
      "root_curr = [1493560.   586779.1 1105606. ]\n",
      "Time for preparing soma vertices and root: 0.0002238750457763672\n",
      "invalidation_d = 12000\n",
      "smooth_neighborhood = 1\n",
      "cc_vertex_thresh = 10\n"
     ]
    },
    {
     "name": "stderr",
     "output_type": "stream",
     "text": [
      "\r",
      "  0%|          | 0/1 [00:00<?, ?it/s]"
     ]
    },
    {
     "data": {
      "application/vnd.jupyter.widget-view+json": {
       "model_id": "acfd6a6d193346c79ea65bb1458dd60c",
       "version_major": 2,
       "version_minor": 0
      },
      "text/plain": [
       "  0%|          | 0/10788 [00:00<?, ?it/s]"
      ]
     },
     "metadata": {},
     "output_type": "display_data"
    },
    {
     "name": "stderr",
     "output_type": "stream",
     "text": [
      "100%|██████████| 1/1 [00:00<00:00, 13.37it/s]\n"
     ]
    },
    {
     "name": "stdout",
     "output_type": "stream",
     "text": [
      "meshparty_segment_size = 100\n",
      "Time for 1st pass MP skeletonization: 0.3432118892669678\n",
      "connecting at the root\n",
      "branches_touching_root = [0]\n",
      "combining close nodes\n",
      "combine_threshold = 700\n",
      "length of Graph = 741\n",
      "After combining close endpoints max(kept_branches_idx) = 0, len(kept_branches_idx) = 1\n",
      "empty_indices % = 0.0\n",
      " conflict_indices % = 0.0\n"
     ]
    },
    {
     "data": {
      "application/vnd.jupyter.widget-view+json": {
       "model_id": "dcbbd06cec714a3a914fd658c2319bde",
       "version_major": 2,
       "version_minor": 0
      },
      "text/plain": [
       "0it [00:00, ?it/s]"
      ]
     },
     "metadata": {},
     "output_type": "display_data"
    },
    {
     "data": {
      "application/vnd.jupyter.widget-view+json": {
       "model_id": "5725ea86e1474b759ad24e1cc172ffed",
       "version_major": 2,
       "version_minor": 0
      },
      "text/plain": [
       "  0%|          | 0/1 [00:00<?, ?it/s]"
      ]
     },
     "metadata": {},
     "output_type": "display_data"
    },
    {
     "name": "stdout",
     "output_type": "stream",
     "text": [
      "Decomposing first pass: 0.542025089263916\n",
      "Attempting to use MeshAfterParty Skeletonization and Mesh Correspondence\n",
      "Another print\n",
      "Found len(mesh_large_idx) MAP candidates: [20742]\n",
      "mesh_large_connectivity: 0.00011849403381347656\n",
      "Finding MAP candidates connected components: 6.628036499023438e-05\n",
      "len(filtered_pieces) = 1\n",
      "skeleton_connectivity_MP : 0.006937265396118164\n",
      "Grouping MP Sublimbs by Graph: 2.4080276489257812e-05\n",
      "Divinding into MP and MAP pieces: 4.76837158203125e-07\n",
      "--- Working on MAP piece 0---\n",
      "MAP Filtering Soma Pieces: 0.041388511657714844\n",
      "inside skeletonize_connected_branch and use_surface_after_CGAL=True, surface_reconstruction_size=1000\n",
      "keep_idx = [0]\n",
      "     Starting Screened Poisson\n",
      "xvfb-run -n 4536 -s \"-screen 0 800x600x24\" meshlabserver $@  -i /neurd_packages/NEURD/Applications/Tutorials/Auto_Proof_Pipeline/Double_Soma/temp/None.off -o /neurd_packages/NEURD/Applications/Tutorials/Auto_Proof_Pipeline/Double_Soma/temp/None_poisson.off -s /neurd_packages/NEURD/Applications/Tutorials/Auto_Proof_Pipeline/Double_Soma/temp/poisson_552035.mls\n",
      "removed temporary input file: /neurd_packages/NEURD/Applications/Tutorials/Auto_Proof_Pipeline/Double_Soma/temp/None.off\n",
      "removed temporary output file: /neurd_packages/NEURD/Applications/Tutorials/Auto_Proof_Pipeline/Double_Soma/temp/None_poisson.off\n",
      "Using the close holes feature\n",
      "xvfb-run -n 358 -s \"-screen 0 800x600x24\" meshlabserver $@  -i /neurd_packages/NEURD/Applications/Tutorials/Auto_Proof_Pipeline/Double_Soma/temp/neuron_64108.off -o /neurd_packages/NEURD/Applications/Tutorials/Auto_Proof_Pipeline/Double_Soma/temp/neuron_64108_fill_holes.off -s /neurd_packages/NEURD/Applications/Tutorials/Auto_Proof_Pipeline/Double_Soma/temp/fill_holes_920970.mls\n",
      "removed temporary input file: /neurd_packages/NEURD/Applications/Tutorials/Auto_Proof_Pipeline/Double_Soma/temp/neuron_64108.off\n",
      "removed temporary output file: /neurd_packages/NEURD/Applications/Tutorials/Auto_Proof_Pipeline/Double_Soma/temp/neuron_64108_fill_holes.off\n",
      "/neurd_packages/NEURD/Applications/Tutorials/Auto_Proof_Pipeline/Double_Soma/temp/fill_holes_920970.mls is being deleted....\n",
      "-----Time for Screened Poisson= 13.1317617893219\n",
      "mesh_pieces = [<trimesh.Trimesh(vertices.shape=(32479, 3), faces.shape=(64962, 3))>]\n",
      "     Starting Calcification (Changed back where stitches large poissons)\n",
      "Manifold status before skeletonization = True\n",
      "Watertight status before skeletonization = True\n",
      "min_edge_length = 75\n",
      "Before mesh subtraction number of skeleton edges = 772\n"
     ]
    },
    {
     "data": {
      "application/vnd.jupyter.widget-view+json": {
       "model_id": "da93978bb00b498e81455756077747d9",
       "version_major": 2,
       "version_minor": 0
      },
      "text/plain": [
       "0it [00:00, ?it/s]"
      ]
     },
     "metadata": {},
     "output_type": "display_data"
    },
    {
     "name": "stdout",
     "output_type": "stream",
     "text": [
      "len(leftover_meshes_sig) = []\n"
     ]
    },
    {
     "data": {
      "application/vnd.jupyter.widget-view+json": {
       "model_id": "c770123651ad4ab9a425bbeb3ecba2e8",
       "version_major": 2,
       "version_minor": 0
      },
      "text/plain": [
       "0it [00:00, ?it/s]"
      ]
     },
     "metadata": {},
     "output_type": "display_data"
    },
    {
     "name": "stdout",
     "output_type": "stream",
     "text": [
      "No skeletons to stack so returning empty list\n",
      "STacking the leftover and significant poisson skeleton\n",
      "max_stitch_distance = 5000\n",
      "len_subgraphs AT BEGINNING of the loop\n"
     ]
    },
    {
     "data": {
      "application/vnd.jupyter.widget-view+json": {
       "model_id": "e6cc6fe1da754bb48c1a1b2cf37bf32e",
       "version_major": 2,
       "version_minor": 0
      },
      "text/plain": [
       "  0%|          | 0/1 [00:00<?, ?it/s]"
      ]
     },
     "metadata": {},
     "output_type": "display_data"
    },
    {
     "name": "stdout",
     "output_type": "stream",
     "text": [
      "all graph is one component!\n",
      "Total time for skeleton stitching = 0.027011632919311523\n",
      "The process was using a temp folder\n",
      "Checking connected components after skeletonize_connected_branch\n",
      "    Total time for skeletonizing branch: 23.33045530319214\n",
      "Checking connected components after removing cycles\n",
      "Total time for mesh KDTree = 0.13571929931640625\n",
      "sbv[0].reshape(-1,3) = [[1493560.   586779.1 1105606. ]]\n",
      "closest_sk_pt_coord BEFORE = [1492700.  587120. 1106540.]\n",
      "current_skeleton.shape = (771, 2, 3)\n",
      "node_for_stitch = 208: [1492700.  587120. 1106540.]\n",
      "node_for_stitch AFTER = 208: [1492700.  587120. 1106540.]\n",
      "possible_node_loc = [  0 115 129 152 182 208 336 429 586 597 598 629 741 771]\n",
      "possible_node_loc AFTER = [  0 115 129 152 182 208 336 429 586 597 598 629 741 771]\n",
      "curr_shortest_path = [208]\n",
      "Current stitch point was a branch or endpoint\n",
      "change_status for create soma extending pieces = False\n",
      "closest_sk_pt_coord AFTER = [1492700.  587120. 1106540.]\n",
      "skipping soma 0 because closest skeleton node was already end node\n",
      "sbv[0].reshape(-1,3) = [[1474600.   582912.4 1113344. ]]\n",
      "closest_sk_pt_coord BEFORE = [1474890.  582887. 1113480.]\n",
      "current_skeleton.shape = (771, 2, 3)\n",
      "node_for_stitch = 0: [1474890.  582887. 1113480.]\n",
      "node_for_stitch AFTER = 0: [1474890.  582887. 1113480.]\n",
      "possible_node_loc = [  0 115 129 152 182 208 336 429 586 597 598 629 741 771]\n",
      "possible_node_loc AFTER = [  0 115 129 152 182 208 336 429 586 597 598 629 741 771]\n",
      "curr_shortest_path = [0]\n",
      "Current stitch point was a branch or endpoint\n",
      "change_status for create soma extending pieces = False\n",
      "closest_sk_pt_coord AFTER = [1474890.  582887. 1113480.]\n",
      "skipping soma 1 because closest skeleton node was already end node\n",
      "endpoints_must_keep = {0: array([[1492700.,  587120., 1106540.]]), 1: array([[1474890.,  582887., 1113480.]])}\n",
      "    Total time for Fixing Skeleton Soma Endpoint Extension : 0.36550259590148926\n",
      "filter_end_node_length = 4000\n"
     ]
    },
    {
     "data": {
      "application/vnd.jupyter.widget-view+json": {
       "model_id": "dd5e6882f40646788ded2edf303dd401",
       "version_major": 2,
       "version_minor": 0
      },
      "text/plain": [
       "  0%|          | 0/9 [00:00<?, ?it/s]"
      ]
     },
     "metadata": {},
     "output_type": "display_data"
    },
    {
     "name": "stdout",
     "output_type": "stream",
     "text": [
      "Checking connected components after clean_skeleton\n",
      "after DISTANCE cleaning limb size of skeleton = (714, 2, 3)\n",
      "********COMBINING CLOSE SKELETON NODES WITHIN 700 DISTANCE**********\n",
      "combine_threshold = 700\n",
      "Found 0 valid paths to replace\n",
      "valid_paths = []\n",
      "valid_path_lengths = []\n",
      "No valid paths found so just returning the original\n",
      "skeletonize_and_clean_connected_branch_CGAL: 24.205996990203857\n",
      "Working on limb correspondence for #0 MAP piece\n",
      "xvfb-run -n 5226 -s \"-screen 0 800x600x24\" meshlabserver $@  -i /neurd_packages/NEURD/Applications/Tutorials/Auto_Proof_Pipeline/Double_Soma/temp/neuron_53555.off -o /neurd_packages/NEURD/Applications/Tutorials/Auto_Proof_Pipeline/Double_Soma/temp/neuron_53555_remove_interior.off -s /neurd_packages/NEURD/Applications/Tutorials/Auto_Proof_Pipeline/Double_Soma/temp/remove_interior_166908.mls\n",
      "removed temporary input file: /neurd_packages/NEURD/Applications/Tutorials/Auto_Proof_Pipeline/Double_Soma/temp/neuron_53555.off\n",
      "removed temporary output file: /neurd_packages/NEURD/Applications/Tutorials/Auto_Proof_Pipeline/Double_Soma/temp/neuron_53555_remove_interior.off\n",
      "/neurd_packages/NEURD/Applications/Tutorials/Auto_Proof_Pipeline/Double_Soma/temp/remove_interior_166908.mls is being deleted....\n",
      "Removing the following inside neurons: [<trimesh.Trimesh(vertices.shape=(205, 3), faces.shape=(309, 3))>]\n"
     ]
    },
    {
     "data": {
      "application/vnd.jupyter.widget-view+json": {
       "model_id": "924ee77dbf8344728258cd4e91e5d474",
       "version_major": 2,
       "version_minor": 0
      },
      "text/plain": [
       "0it [00:00, ?it/s]"
      ]
     },
     "metadata": {},
     "output_type": "display_data"
    },
    {
     "name": "stdout",
     "output_type": "stream",
     "text": [
      "Total time for decomposition = 3.2686703205108643\n",
      "mesh_correspondence_first_pass: 3.268699884414673\n",
      "Limb decomposed into 7 branches\n",
      "divided_skeleton_graph_recovered = (714, 2, 3) and \n",
      "current_mesh_data[0]['branch_skeletons_cleaned'].shape = (714, 2, 3)\n",
      "\n",
      "Number of connected components in deocmposed recovered graph = 1\n",
      "Number of connected components in cleaned skeleton graph= 1\n",
      "The downsampled branches number of connected components = 1\n",
      "Empty submeshes = []\n",
      "\n",
      "\n",
      "--- Working on 1-to-1 correspondence-----\n",
      "max(original_labels),len(original_labels) = (6, 7)\n",
      "empty_indices % = 0.17949088805322533\n",
      " conflict_indices % = 0.050911194677466014\n"
     ]
    },
    {
     "data": {
      "application/vnd.jupyter.widget-view+json": {
       "model_id": "fab16f7f479642618d5f12a2f7c02a9c",
       "version_major": 2,
       "version_minor": 0
      },
      "text/plain": [
       "  0%|          | 0/62 [00:00<?, ?it/s]"
      ]
     },
     "metadata": {},
     "output_type": "display_data"
    },
    {
     "name": "stdout",
     "output_type": "stream",
     "text": [
      "Took 0 iterations to expand the label back\n",
      "empty_indices % = 0.0\n",
      " conflict_indices % = 0.0\n"
     ]
    },
    {
     "data": {
      "application/vnd.jupyter.widget-view+json": {
       "model_id": "d3bcbaf52d1241a4a61d876925811d18",
       "version_major": 2,
       "version_minor": 0
      },
      "text/plain": [
       "0it [00:00, ?it/s]"
      ]
     },
     "metadata": {},
     "output_type": "display_data"
    },
    {
     "name": "stdout",
     "output_type": "stream",
     "text": [
      "Took 0 iterations to expand the label back\n",
      "empty_indices % = 0.0\n",
      " conflict_indices % = 0.0\n"
     ]
    },
    {
     "data": {
      "application/vnd.jupyter.widget-view+json": {
       "model_id": "2e7a755b606c4d73becbae6bc18d4862",
       "version_major": 2,
       "version_minor": 0
      },
      "text/plain": [
       "0it [00:00, ?it/s]"
      ]
     },
     "metadata": {},
     "output_type": "display_data"
    },
    {
     "data": {
      "application/vnd.jupyter.widget-view+json": {
       "model_id": "126348cac9334503ad0fd06ed71047d2",
       "version_major": 2,
       "version_minor": 0
      },
      "text/plain": [
       "  0%|          | 0/7 [00:00<?, ?it/s]"
      ]
     },
     "metadata": {},
     "output_type": "display_data"
    },
    {
     "name": "stdout",
     "output_type": "stream",
     "text": [
      "Total time for MAP sublimb #0 mesh processing = 29.274429082870483\n",
      "correspondence_1_to_1: 1.7583138942718506\n",
      "Total time for MAP sublimb processing 29.27449345588684\n",
      "There were not both MAP and MP pieces so skipping the stitch resolving phase\n",
      "Time for decomp of Limb = 30.18471050262451\n",
      "Number of matching vertices = 60\n",
      "Number of matching vertices = 13\n",
      "Only one endpoint after filtering away the endpoints that are not on the skeleton\n",
      "Only one endpoint after filtering away the endpoints that are not on the skeleton\n",
      "Removed 0 skeletal branches\n"
     ]
    },
    {
     "data": {
      "application/vnd.jupyter.widget-view+json": {
       "model_id": "0de1af067d9c40d9ba19c8e5b4412b7d",
       "version_major": 2,
       "version_minor": 0
      },
      "text/plain": [
       "  0%|          | 0/7 [00:00<?, ?it/s]"
      ]
     },
     "metadata": {},
     "output_type": "display_data"
    },
    {
     "name": "stdout",
     "output_type": "stream",
     "text": [
      "20741 20742\n",
      "For marked faces: None\n",
      "empty_indices % = 0.0\n",
      " conflict_indices % = 0.0\n"
     ]
    },
    {
     "data": {
      "application/vnd.jupyter.widget-view+json": {
       "model_id": "47eac138a07f41e1a35d5fb9d1dddc65",
       "version_major": 2,
       "version_minor": 0
      },
      "text/plain": [
       "0it [00:00, ?it/s]"
      ]
     },
     "metadata": {},
     "output_type": "display_data"
    },
    {
     "data": {
      "application/vnd.jupyter.widget-view+json": {
       "model_id": "c73550a3daff4571821313051ea994f1",
       "version_major": 2,
       "version_minor": 0
      },
      "text/plain": [
       "  0%|          | 0/7 [00:00<?, ?it/s]"
      ]
     },
     "metadata": {},
     "output_type": "display_data"
    },
    {
     "name": "stdout",
     "output_type": "stream",
     "text": [
      "Successful Limb Decomposition\n",
      "\n",
      "\n",
      "----- Working on Proper Limb # 5 ---------\n",
      "meshparty_segment_size = 100\n",
      "invalidation_d = 12000\n",
      "use_adaptive_invalidation_d= False\n",
      "axon_width_preprocess_limb_max = 200\n",
      "filter_end_node_length= 4000\n",
      "filter_end_node_length_meshparty = 4000\n",
      "invalidation_d = 12000\n",
      "root_curr = [1486653.   594244.2 1104480. ]\n",
      "Time for preparing soma vertices and root: 0.0002315044403076172\n",
      "invalidation_d = 12000\n",
      "smooth_neighborhood = 1\n",
      "cc_vertex_thresh = 10\n"
     ]
    },
    {
     "name": "stderr",
     "output_type": "stream",
     "text": [
      "\r",
      "  0%|          | 0/1 [00:00<?, ?it/s]"
     ]
    },
    {
     "data": {
      "application/vnd.jupyter.widget-view+json": {
       "model_id": "10915fef091c4c85a25b244a6ff532de",
       "version_major": 2,
       "version_minor": 0
      },
      "text/plain": [
       "  0%|          | 0/9843 [00:00<?, ?it/s]"
      ]
     },
     "metadata": {},
     "output_type": "display_data"
    },
    {
     "name": "stderr",
     "output_type": "stream",
     "text": [
      "100%|██████████| 1/1 [00:00<00:00, 16.11it/s]\n"
     ]
    },
    {
     "name": "stdout",
     "output_type": "stream",
     "text": [
      "meshparty_segment_size = 100\n",
      "Time for 1st pass MP skeletonization: 0.24910211563110352\n",
      "branches_touching_root = [0]\n",
      "combining close nodes\n",
      "combine_threshold = 700\n",
      "length of Graph = 818\n",
      "After combining close endpoints max(kept_branches_idx) = 0, len(kept_branches_idx) = 1\n",
      "empty_indices % = 0.0\n",
      " conflict_indices % = 0.0\n"
     ]
    },
    {
     "data": {
      "application/vnd.jupyter.widget-view+json": {
       "model_id": "a8a5359821e443ccb09d4e02b844a8d6",
       "version_major": 2,
       "version_minor": 0
      },
      "text/plain": [
       "0it [00:00, ?it/s]"
      ]
     },
     "metadata": {},
     "output_type": "display_data"
    },
    {
     "data": {
      "application/vnd.jupyter.widget-view+json": {
       "model_id": "0d6e6e8381cb4f638337bf4c4c955169",
       "version_major": 2,
       "version_minor": 0
      },
      "text/plain": [
       "  0%|          | 0/1 [00:00<?, ?it/s]"
      ]
     },
     "metadata": {},
     "output_type": "display_data"
    },
    {
     "name": "stdout",
     "output_type": "stream",
     "text": [
      "Decomposing first pass: 1.152754306793213\n",
      "Attempting to use MeshAfterParty Skeletonization and Mesh Correspondence\n",
      "Another print\n",
      "Divinding into MP and MAP pieces: 4.9114227294921875e-05\n",
      "Total time for MAP sublimb processing 3.814697265625e-06\n",
      "---- Working on MP Decomposition #0 ----\n",
      "Using Quicker soma_to_piece_touching_vertices because no MAP and only one sublimb_mesh piece \n",
      "MP filtering soma verts: 2.0742416381835938e-05\n",
      "Fixing Possible Soma Extension Branch for Sublimb 0\n",
      "Total time for mesh KDTree = 0.15335512161254883\n",
      "sbv[0].reshape(-1,3) = [[1486653.   594244.2 1104480. ]]\n",
      "closest_sk_pt_coord BEFORE = [1486547.7606223   594609.92820407 1104601.87572914]\n",
      "current_skeleton.shape = (817, 2, 3)\n",
      "node_for_stitch = 817: [1486547.7606223   594609.92820407 1104601.87572914]\n",
      "node_for_stitch AFTER = 817: [1486547.7606223   594609.92820407 1104601.87572914]\n",
      "possible_node_loc = [334 817]\n",
      "possible_node_loc AFTER = [334 817]\n",
      "curr_shortest_path = [817]\n",
      "Current stitch point was a branch or endpoint\n",
      "change_status for create soma extending pieces = False\n",
      "closest_sk_pt_coord AFTER = [1486547.7606223   594609.92820407 1104601.87572914]\n",
      "skipping soma 0 because closest skeleton node was already end node\n",
      "endpoints_must_keep = {0: array([[1486547.7606223 ,  594609.92820407, 1104601.87572914]])}\n",
      "match_sk_branches = [0]\n",
      "The new branch info was none so skipping \n",
      "\n",
      "No soma extending branch was added for this sublimb even though it had a soma border (means they already existed)\n",
      "MP (because soma touching verts) soma extension add: 0.2902836799621582\n",
      "There were not both MAP and MP pieces so skipping the stitch resolving phase\n",
      "Time for decomp of Limb = 1.7122480869293213\n",
      "Number of matching vertices = 27\n",
      "Only one endpoint after filtering away the endpoints that are not on the skeleton\n",
      "Removed 0 skeletal branches\n"
     ]
    },
    {
     "data": {
      "application/vnd.jupyter.widget-view+json": {
       "model_id": "942fa33479b4441e92598ba8b466e536",
       "version_major": 2,
       "version_minor": 0
      },
      "text/plain": [
       "  0%|          | 0/1 [00:00<?, ?it/s]"
      ]
     },
     "metadata": {},
     "output_type": "display_data"
    },
    {
     "name": "stdout",
     "output_type": "stream",
     "text": [
      "19361 19362\n",
      "For marked faces: None\n",
      "empty_indices % = 0.0\n",
      " conflict_indices % = 0.0\n"
     ]
    },
    {
     "data": {
      "application/vnd.jupyter.widget-view+json": {
       "model_id": "1ab3f760563f4bf487f2a2c84cc5750c",
       "version_major": 2,
       "version_minor": 0
      },
      "text/plain": [
       "0it [00:00, ?it/s]"
      ]
     },
     "metadata": {},
     "output_type": "display_data"
    },
    {
     "data": {
      "application/vnd.jupyter.widget-view+json": {
       "model_id": "1994cd1eb2974554989947a5e3fc0194",
       "version_major": 2,
       "version_minor": 0
      },
      "text/plain": [
       "  0%|          | 0/1 [00:00<?, ?it/s]"
      ]
     },
     "metadata": {},
     "output_type": "display_data"
    },
    {
     "name": "stdout",
     "output_type": "stream",
     "text": [
      "Successful Limb Decomposition\n",
      "\n",
      "\n",
      "----- Working on Proper Limb # 6 ---------\n",
      "meshparty_segment_size = 100\n",
      "invalidation_d = 12000\n",
      "use_adaptive_invalidation_d= False\n",
      "axon_width_preprocess_limb_max = 200\n",
      "filter_end_node_length= 4000\n",
      "filter_end_node_length_meshparty = 4000\n",
      "invalidation_d = 12000\n",
      "root_curr = [1491272.  582425. 1102199.]\n",
      "Time for preparing soma vertices and root: 0.00018858909606933594\n",
      "invalidation_d = 12000\n",
      "smooth_neighborhood = 1\n",
      "cc_vertex_thresh = 10\n"
     ]
    },
    {
     "name": "stderr",
     "output_type": "stream",
     "text": [
      "\r",
      "  0%|          | 0/1 [00:00<?, ?it/s]"
     ]
    },
    {
     "data": {
      "application/vnd.jupyter.widget-view+json": {
       "model_id": "d51f5a81c11a44ba8301657f0a3a311d",
       "version_major": 2,
       "version_minor": 0
      },
      "text/plain": [
       "  0%|          | 0/7350 [00:00<?, ?it/s]"
      ]
     },
     "metadata": {},
     "output_type": "display_data"
    },
    {
     "name": "stderr",
     "output_type": "stream",
     "text": [
      "\r",
      "100%|██████████| 1/1 [00:00<00:00, 21.80it/s]"
     ]
    },
    {
     "name": "stdout",
     "output_type": "stream",
     "text": [
      "meshparty_segment_size = 100\n",
      "Time for 1st pass MP skeletonization: 0.1919255256652832\n",
      "connecting at the root\n",
      "branches_touching_root = [0]\n"
     ]
    },
    {
     "name": "stderr",
     "output_type": "stream",
     "text": [
      "\n"
     ]
    },
    {
     "name": "stdout",
     "output_type": "stream",
     "text": [
      "combining close nodes\n",
      "combine_threshold = 700\n",
      "length of Graph = 734\n",
      "After combining close endpoints max(kept_branches_idx) = 0, len(kept_branches_idx) = 1\n",
      "empty_indices % = 0.0\n",
      " conflict_indices % = 0.0\n"
     ]
    },
    {
     "data": {
      "application/vnd.jupyter.widget-view+json": {
       "model_id": "915b523d10644b81acacf5a291502372",
       "version_major": 2,
       "version_minor": 0
      },
      "text/plain": [
       "0it [00:00, ?it/s]"
      ]
     },
     "metadata": {},
     "output_type": "display_data"
    },
    {
     "data": {
      "application/vnd.jupyter.widget-view+json": {
       "model_id": "70fca2af80eb4f2ca0db220dd519b3e4",
       "version_major": 2,
       "version_minor": 0
      },
      "text/plain": [
       "  0%|          | 0/1 [00:00<?, ?it/s]"
      ]
     },
     "metadata": {},
     "output_type": "display_data"
    },
    {
     "name": "stdout",
     "output_type": "stream",
     "text": [
      "Decomposing first pass: 0.4391014575958252\n",
      "Attempting to use MeshAfterParty Skeletonization and Mesh Correspondence\n",
      "Another print\n",
      "Divinding into MP and MAP pieces: 2.86102294921875e-05\n",
      "Total time for MAP sublimb processing 2.384185791015625e-06\n",
      "---- Working on MP Decomposition #0 ----\n",
      "Using Quicker soma_to_piece_touching_vertices because no MAP and only one sublimb_mesh piece \n",
      "MP filtering soma verts: 1.3828277587890625e-05\n",
      "Fixing Possible Soma Extension Branch for Sublimb 0\n",
      "Total time for mesh KDTree = 0.13043951988220215\n",
      "sbv[0].reshape(-1,3) = [[1491272.  582425. 1102199.]]\n",
      "closest_sk_pt_coord BEFORE = [1491378.93502276  582020.70946596 1101822.28585048]\n",
      "current_skeleton.shape = (733, 2, 3)\n",
      "node_for_stitch = 1: [1491378.93502276  582020.70946596 1101822.28585048]\n",
      "node_for_stitch AFTER = 1: [1491378.93502276  582020.70946596 1101822.28585048]\n",
      "possible_node_loc = [  0 708]\n",
      "possible_node_loc AFTER = [  0 708]\n",
      "curr_shortest_path = [1, 0.0]\n",
      "Current stitch point was not a branch or endpoint, shortest_path_length to one = 99.99677776977433\n",
      "Changing the stitch point becasue the distance to end or branch node was 99.99677776977433\n",
      "New stitch point has degree 1\n",
      "change_status for create soma extending pieces = True\n",
      "closest_sk_pt_coord AFTER = [1491350.10222965  582056.70210586 1101733.55842811]\n",
      "skipping soma 0 because closest skeleton node was already end node\n",
      "endpoints_must_keep = {0: array([[1491350.10222965,  582056.70210586, 1101733.55842811]])}\n",
      "match_sk_branches = [0]\n",
      "The new branch info was none so skipping \n",
      "\n",
      "No soma extending branch was added for this sublimb even though it had a soma border (means they already existed)\n",
      "MP (because soma touching verts) soma extension add: 0.24173784255981445\n",
      "There were not both MAP and MP pieces so skipping the stitch resolving phase\n",
      "Time for decomp of Limb = 0.8898138999938965\n",
      "Number of matching vertices = 9\n",
      "Only one endpoint after filtering away the endpoints that are not on the skeleton\n",
      "Removed 0 skeletal branches\n"
     ]
    },
    {
     "data": {
      "application/vnd.jupyter.widget-view+json": {
       "model_id": "cf276531bf304ed485f9960d59e6f5a5",
       "version_major": 2,
       "version_minor": 0
      },
      "text/plain": [
       "  0%|          | 0/1 [00:00<?, ?it/s]"
      ]
     },
     "metadata": {},
     "output_type": "display_data"
    },
    {
     "name": "stdout",
     "output_type": "stream",
     "text": [
      "14575 14576\n",
      "For marked faces: None\n",
      "empty_indices % = 0.0\n",
      " conflict_indices % = 0.0\n"
     ]
    },
    {
     "data": {
      "application/vnd.jupyter.widget-view+json": {
       "model_id": "03998e9eec304d0da3162a97c585749a",
       "version_major": 2,
       "version_minor": 0
      },
      "text/plain": [
       "0it [00:00, ?it/s]"
      ]
     },
     "metadata": {},
     "output_type": "display_data"
    },
    {
     "data": {
      "application/vnd.jupyter.widget-view+json": {
       "model_id": "9217fc7f7dca4f26b52738c3ec0a3a6b",
       "version_major": 2,
       "version_minor": 0
      },
      "text/plain": [
       "  0%|          | 0/1 [00:00<?, ?it/s]"
      ]
     },
     "metadata": {},
     "output_type": "display_data"
    },
    {
     "name": "stdout",
     "output_type": "stream",
     "text": [
      "Successful Limb Decomposition\n",
      "\n",
      "\n",
      "----- Working on Proper Limb # 7 ---------\n",
      "meshparty_segment_size = 100\n",
      "invalidation_d = 12000\n",
      "use_adaptive_invalidation_d= False\n",
      "axon_width_preprocess_limb_max = 200\n",
      "filter_end_node_length= 4000\n",
      "filter_end_node_length_meshparty = 4000\n",
      "invalidation_d = 12000\n",
      "root_curr = [1468936.   574693.8 1112623. ]\n",
      "Time for preparing soma vertices and root: 0.00037384033203125\n",
      "invalidation_d = 12000\n",
      "smooth_neighborhood = 1\n",
      "cc_vertex_thresh = 10\n"
     ]
    },
    {
     "name": "stderr",
     "output_type": "stream",
     "text": [
      "\r",
      "  0%|          | 0/1 [00:00<?, ?it/s]"
     ]
    },
    {
     "data": {
      "application/vnd.jupyter.widget-view+json": {
       "model_id": "3647e5a7d9974c309ebad22fef30017b",
       "version_major": 2,
       "version_minor": 0
      },
      "text/plain": [
       "  0%|          | 0/2055 [00:00<?, ?it/s]"
      ]
     },
     "metadata": {},
     "output_type": "display_data"
    },
    {
     "name": "stderr",
     "output_type": "stream",
     "text": [
      "\r",
      "100%|██████████| 1/1 [00:00<00:00, 37.85it/s]"
     ]
    },
    {
     "name": "stdout",
     "output_type": "stream",
     "text": [
      "meshparty_segment_size = 100\n",
      "Time for 1st pass MP skeletonization: 0.18252897262573242\n",
      "connecting at the root\n",
      "branches_touching_root = [0]\n"
     ]
    },
    {
     "name": "stderr",
     "output_type": "stream",
     "text": [
      "\n"
     ]
    },
    {
     "name": "stdout",
     "output_type": "stream",
     "text": [
      "combining close nodes\n",
      "combine_threshold = 700\n",
      "length of Graph = 117\n",
      "After combining close endpoints max(kept_branches_idx) = 0, len(kept_branches_idx) = 1\n",
      "empty_indices % = 0.0\n",
      " conflict_indices % = 0.0\n"
     ]
    },
    {
     "data": {
      "application/vnd.jupyter.widget-view+json": {
       "model_id": "20d2ace081ff4d7aae8567511d8f7afb",
       "version_major": 2,
       "version_minor": 0
      },
      "text/plain": [
       "0it [00:00, ?it/s]"
      ]
     },
     "metadata": {},
     "output_type": "display_data"
    },
    {
     "data": {
      "application/vnd.jupyter.widget-view+json": {
       "model_id": "ab1997a9c82e417cb6043024126239ba",
       "version_major": 2,
       "version_minor": 0
      },
      "text/plain": [
       "  0%|          | 0/1 [00:00<?, ?it/s]"
      ]
     },
     "metadata": {},
     "output_type": "display_data"
    },
    {
     "name": "stdout",
     "output_type": "stream",
     "text": [
      "Decomposing first pass: 0.16973114013671875\n",
      "Attempting to use MeshAfterParty Skeletonization and Mesh Correspondence\n",
      "Another print\n",
      "Found len(mesh_large_idx) MAP candidates: [3349]\n",
      "mesh_large_connectivity: 0.00024509429931640625\n",
      "Finding MAP candidates connected components: 9.036064147949219e-05\n",
      "len(filtered_pieces) = 1\n",
      "skeleton_connectivity_MP : 0.0039768218994140625\n",
      "Grouping MP Sublimbs by Graph: 4.0531158447265625e-05\n",
      "Divinding into MP and MAP pieces: 1.430511474609375e-06\n",
      "--- Working on MAP piece 0---\n",
      "MAP Filtering Soma Pieces: 0.04390215873718262\n",
      "inside skeletonize_connected_branch and use_surface_after_CGAL=True, surface_reconstruction_size=1000\n",
      "keep_idx = [0]\n",
      "     Starting Screened Poisson\n",
      "xvfb-run -n 1233 -s \"-screen 0 800x600x24\" meshlabserver $@  -i /neurd_packages/NEURD/Applications/Tutorials/Auto_Proof_Pipeline/Double_Soma/temp/None.off -o /neurd_packages/NEURD/Applications/Tutorials/Auto_Proof_Pipeline/Double_Soma/temp/None_poisson.off -s /neurd_packages/NEURD/Applications/Tutorials/Auto_Proof_Pipeline/Double_Soma/temp/poisson_859292.mls\n",
      "removed temporary input file: /neurd_packages/NEURD/Applications/Tutorials/Auto_Proof_Pipeline/Double_Soma/temp/None.off\n",
      "removed temporary output file: /neurd_packages/NEURD/Applications/Tutorials/Auto_Proof_Pipeline/Double_Soma/temp/None_poisson.off\n",
      "Using the close holes feature\n",
      "xvfb-run -n 9657 -s \"-screen 0 800x600x24\" meshlabserver $@  -i /neurd_packages/NEURD/Applications/Tutorials/Auto_Proof_Pipeline/Double_Soma/temp/neuron_314.off -o /neurd_packages/NEURD/Applications/Tutorials/Auto_Proof_Pipeline/Double_Soma/temp/neuron_314_fill_holes.off -s /neurd_packages/NEURD/Applications/Tutorials/Auto_Proof_Pipeline/Double_Soma/temp/fill_holes_385872.mls\n",
      "removed temporary input file: /neurd_packages/NEURD/Applications/Tutorials/Auto_Proof_Pipeline/Double_Soma/temp/neuron_314.off\n",
      "removed temporary output file: /neurd_packages/NEURD/Applications/Tutorials/Auto_Proof_Pipeline/Double_Soma/temp/neuron_314_fill_holes.off\n",
      "/neurd_packages/NEURD/Applications/Tutorials/Auto_Proof_Pipeline/Double_Soma/temp/fill_holes_385872.mls is being deleted....\n",
      "-----Time for Screened Poisson= 12.002663612365723\n",
      "mesh_pieces = [<trimesh.Trimesh(vertices.shape=(13498, 3), faces.shape=(26992, 3))>]\n",
      "     Starting Calcification (Changed back where stitches large poissons)\n",
      "Manifold status before skeletonization = True\n",
      "Watertight status before skeletonization = True\n",
      "min_edge_length = 75\n",
      "Before mesh subtraction number of skeleton edges = 2\n"
     ]
    },
    {
     "data": {
      "application/vnd.jupyter.widget-view+json": {
       "model_id": "5de5b5077ea34922b8ab2f670acddf9f",
       "version_major": 2,
       "version_minor": 0
      },
      "text/plain": [
       "0it [00:00, ?it/s]"
      ]
     },
     "metadata": {},
     "output_type": "display_data"
    },
    {
     "name": "stdout",
     "output_type": "stream",
     "text": [
      "len(leftover_meshes_sig) = [<trimesh.Trimesh(vertices.shape=(906, 3), faces.shape=(1453, 3))>, <trimesh.Trimesh(vertices.shape=(855, 3), faces.shape=(1332, 3))>]\n"
     ]
    },
    {
     "data": {
      "application/vnd.jupyter.widget-view+json": {
       "model_id": "7d34e53d009c428ab0c9637670c6b8e4",
       "version_major": 2,
       "version_minor": 0
      },
      "text/plain": [
       "  0%|          | 0/2 [00:00<?, ?it/s]"
      ]
     },
     "metadata": {},
     "output_type": "display_data"
    },
    {
     "name": "stdout",
     "output_type": "stream",
     "text": [
      "invalidation_d = 12000\n",
      "smooth_neighborhood = 1\n",
      "cc_vertex_thresh = 10\n"
     ]
    },
    {
     "name": "stderr",
     "output_type": "stream",
     "text": [
      "\n",
      "  0%|          | 0/1 [00:00<?, ?it/s]\u001b[A"
     ]
    },
    {
     "data": {
      "application/vnd.jupyter.widget-view+json": {
       "model_id": "62a8ab05237b41198ca84bfa2e69adbf",
       "version_major": 2,
       "version_minor": 0
      },
      "text/plain": [
       "  0%|          | 0/905 [00:00<?, ?it/s]"
      ]
     },
     "metadata": {},
     "output_type": "display_data"
    },
    {
     "name": "stderr",
     "output_type": "stream",
     "text": [
      "\r",
      "100%|██████████| 1/1 [00:00<00:00, 56.33it/s]"
     ]
    },
    {
     "name": "stdout",
     "output_type": "stream",
     "text": [
      "Time for sk_meshparty_obj = 0.04279279708862305\n",
      "branches_touching_root = [0]\n",
      "combining close nodes\n",
      "combine_threshold = 700\n",
      "length of Graph = 62\n",
      "After combining close endpoints max(kept_branches_idx) = 0, len(kept_branches_idx) = 1\n",
      "empty_indices % = 0.0\n",
      " conflict_indices % = 0.0\n"
     ]
    },
    {
     "name": "stderr",
     "output_type": "stream",
     "text": [
      "\n"
     ]
    },
    {
     "data": {
      "application/vnd.jupyter.widget-view+json": {
       "model_id": "51d6080721c54ef2953b37b9b342b97b",
       "version_major": 2,
       "version_minor": 0
      },
      "text/plain": [
       "0it [00:00, ?it/s]"
      ]
     },
     "metadata": {},
     "output_type": "display_data"
    },
    {
     "data": {
      "application/vnd.jupyter.widget-view+json": {
       "model_id": "c122938767cd4fbf9a2079179b0d04c9",
       "version_major": 2,
       "version_minor": 0
      },
      "text/plain": [
       "  0%|          | 0/1 [00:00<?, ?it/s]"
      ]
     },
     "metadata": {},
     "output_type": "display_data"
    },
    {
     "name": "stdout",
     "output_type": "stream",
     "text": [
      "widths = [inf]\n",
      "width_median= inf\n",
      "Time for correspondence = 0.08132123947143555\n",
      "invalidation_d = 12000\n",
      "smooth_neighborhood = 1\n",
      "cc_vertex_thresh = 10\n"
     ]
    },
    {
     "name": "stderr",
     "output_type": "stream",
     "text": [
      "\n",
      "  0%|          | 0/1 [00:00<?, ?it/s]\u001b[A"
     ]
    },
    {
     "data": {
      "application/vnd.jupyter.widget-view+json": {
       "model_id": "2bf23ee31d8040968ed6d21bbaf9b24d",
       "version_major": 2,
       "version_minor": 0
      },
      "text/plain": [
       "  0%|          | 0/854 [00:00<?, ?it/s]"
      ]
     },
     "metadata": {},
     "output_type": "display_data"
    },
    {
     "name": "stderr",
     "output_type": "stream",
     "text": [
      "\r",
      "100%|██████████| 1/1 [00:00<00:00, 66.20it/s]"
     ]
    },
    {
     "name": "stdout",
     "output_type": "stream",
     "text": [
      "Time for sk_meshparty_obj = 0.03815865516662598\n",
      "branches_touching_root = [0]\n",
      "combining close nodes\n",
      "combine_threshold = 700\n",
      "length of Graph = 57\n",
      "After combining close endpoints max(kept_branches_idx) = 0, len(kept_branches_idx) = 1\n",
      "empty_indices % = 0.0\n",
      " conflict_indices % = 0.0\n"
     ]
    },
    {
     "name": "stderr",
     "output_type": "stream",
     "text": [
      "\n"
     ]
    },
    {
     "data": {
      "application/vnd.jupyter.widget-view+json": {
       "model_id": "aaa9fa6dda5d4d48b6ff78461d1b9a35",
       "version_major": 2,
       "version_minor": 0
      },
      "text/plain": [
       "0it [00:00, ?it/s]"
      ]
     },
     "metadata": {},
     "output_type": "display_data"
    },
    {
     "data": {
      "application/vnd.jupyter.widget-view+json": {
       "model_id": "d73943f3a3a54bbaa7a624c3ad8dfde0",
       "version_major": 2,
       "version_minor": 0
      },
      "text/plain": [
       "  0%|          | 0/1 [00:00<?, ?it/s]"
      ]
     },
     "metadata": {},
     "output_type": "display_data"
    },
    {
     "name": "stdout",
     "output_type": "stream",
     "text": [
      "widths = [3665.39261771]\n",
      "width_median= 3665.392617712415\n",
      "Time for correspondence = 0.07108521461486816\n",
      "STacking the leftover and significant poisson skeleton\n",
      "max_stitch_distance = 5000\n",
      "len_subgraphs AT BEGINNING of the loop\n"
     ]
    },
    {
     "data": {
      "application/vnd.jupyter.widget-view+json": {
       "model_id": "9389a2c72e6a462f8457d05a738b5d0a",
       "version_major": 2,
       "version_minor": 0
      },
      "text/plain": [
       "  0%|          | 0/3 [00:00<?, ?it/s]"
      ]
     },
     "metadata": {},
     "output_type": "display_data"
    },
    {
     "name": "stdout",
     "output_type": "stream",
     "text": [
      "all graph is one component!\n",
      "Total time for skeleton stitching = 0.05649757385253906\n",
      "The process was using a temp folder\n",
      "Checking connected components after skeletonize_connected_branch\n",
      "    Total time for skeletonizing branch: 14.265958070755005\n",
      "Checking connected components after removing cycles\n",
      "Total time for mesh KDTree = 0.03579282760620117\n",
      "sbv[0].reshape(-1,3) = [[1468936.   574693.8 1112623. ]]\n",
      "closest_sk_pt_coord BEFORE = [1466270.  579093. 1113240.]\n",
      "current_skeleton.shape = (120, 2, 3)\n",
      "node_for_stitch = 60: [1466270.  579093. 1113240.]\n",
      "node_for_stitch AFTER = 60: [1466270.  579093. 1113240.]\n",
      "possible_node_loc = [  0   4 112 120]\n",
      "possible_node_loc AFTER = [  0   4 112 120]\n",
      "curr_shortest_path = [60, 61.0, 9.0, 6.0, 4]\n",
      "Current stitch point was not a branch or endpoint, shortest_path_length to one = 2546.0276192245965\n",
      "change_status for create soma extending pieces = False\n",
      "closest_sk_pt_coord AFTER = [1466270.  579093. 1113240.]\n",
      "Adding new branch to skeleton\n",
      "border_average_coordinate = [1468163.64444444  578622.88333333 1112816.05555556]\n",
      "endpoints_must_keep = {1: array([[1468163.64444444,  578622.88333333, 1112816.05555556]])}\n",
      "    Total time for Fixing Skeleton Soma Endpoint Extension : 0.14667677879333496\n",
      "filter_end_node_length = 4000\n"
     ]
    },
    {
     "data": {
      "application/vnd.jupyter.widget-view+json": {
       "model_id": "9a76b983d63c4adab0c9585fc617c41b",
       "version_major": 2,
       "version_minor": 0
      },
      "text/plain": [
       "  0%|          | 0/2 [00:00<?, ?it/s]"
      ]
     },
     "metadata": {},
     "output_type": "display_data"
    },
    {
     "name": "stdout",
     "output_type": "stream",
     "text": [
      "Checking connected components after clean_skeleton\n",
      "after DISTANCE cleaning limb size of skeleton = (117, 2, 3)\n",
      "********COMBINING CLOSE SKELETON NODES WITHIN 700 DISTANCE**********\n",
      "combine_threshold = 700\n",
      "Found 0 valid paths to replace\n",
      "valid_paths = []\n",
      "valid_path_lengths = []\n",
      "No valid paths found so just returning the original\n",
      "skeletonize_and_clean_connected_branch_CGAL: 14.531266689300537\n",
      "Working on limb correspondence for #0 MAP piece\n",
      "xvfb-run -n 1396 -s \"-screen 0 800x600x24\" meshlabserver $@  -i /neurd_packages/NEURD/Applications/Tutorials/Auto_Proof_Pipeline/Double_Soma/temp/neuron_43903.off -o /neurd_packages/NEURD/Applications/Tutorials/Auto_Proof_Pipeline/Double_Soma/temp/neuron_43903_remove_interior.off -s /neurd_packages/NEURD/Applications/Tutorials/Auto_Proof_Pipeline/Double_Soma/temp/remove_interior_203463.mls\n",
      "removed temporary input file: /neurd_packages/NEURD/Applications/Tutorials/Auto_Proof_Pipeline/Double_Soma/temp/neuron_43903.off\n",
      "removed temporary output file: /neurd_packages/NEURD/Applications/Tutorials/Auto_Proof_Pipeline/Double_Soma/temp/neuron_43903_remove_interior.off\n",
      "/neurd_packages/NEURD/Applications/Tutorials/Auto_Proof_Pipeline/Double_Soma/temp/remove_interior_203463.mls is being deleted....\n",
      "No significant (100) interior meshes present\n",
      "largest is 3\n"
     ]
    },
    {
     "data": {
      "application/vnd.jupyter.widget-view+json": {
       "model_id": "f2a23c2159e04368ad480b9cbe7eab7b",
       "version_major": 2,
       "version_minor": 0
      },
      "text/plain": [
       "0it [00:00, ?it/s]"
      ]
     },
     "metadata": {},
     "output_type": "display_data"
    },
    {
     "name": "stdout",
     "output_type": "stream",
     "text": [
      "Total time for decomposition = 1.2557587623596191\n",
      "mesh_correspondence_first_pass: 1.2557873725891113\n",
      "Limb decomposed into 3 branches\n",
      "divided_skeleton_graph_recovered = (117, 2, 3) and \n",
      "current_mesh_data[0]['branch_skeletons_cleaned'].shape = (117, 2, 3)\n",
      "\n",
      "Number of connected components in deocmposed recovered graph = 1\n",
      "Number of connected components in cleaned skeleton graph= 1\n",
      "The downsampled branches number of connected components = 1\n",
      "Empty submeshes = []\n",
      "\n",
      "\n",
      "--- Working on 1-to-1 correspondence-----\n",
      "max(original_labels),len(original_labels) = (2, 3)\n",
      "empty_indices % = 0.01761719916392953\n",
      " conflict_indices % = 0.33323380113466705\n"
     ]
    },
    {
     "data": {
      "application/vnd.jupyter.widget-view+json": {
       "model_id": "189bda9eb88844fba3fdbf1e526ca173",
       "version_major": 2,
       "version_minor": 0
      },
      "text/plain": [
       "  0%|          | 0/3 [00:00<?, ?it/s]"
      ]
     },
     "metadata": {},
     "output_type": "display_data"
    },
    {
     "name": "stdout",
     "output_type": "stream",
     "text": [
      "Took 0 iterations to expand the label back\n",
      "empty_indices % = 0.0\n",
      " conflict_indices % = 0.0\n"
     ]
    },
    {
     "data": {
      "application/vnd.jupyter.widget-view+json": {
       "model_id": "92551ece86b244c19ec7e2dd10b23a47",
       "version_major": 2,
       "version_minor": 0
      },
      "text/plain": [
       "0it [00:00, ?it/s]"
      ]
     },
     "metadata": {},
     "output_type": "display_data"
    },
    {
     "data": {
      "application/vnd.jupyter.widget-view+json": {
       "model_id": "50dcae1dfdba47f3b97e964b7b3082c2",
       "version_major": 2,
       "version_minor": 0
      },
      "text/plain": [
       "  0%|          | 0/3 [00:00<?, ?it/s]"
      ]
     },
     "metadata": {},
     "output_type": "display_data"
    },
    {
     "name": "stdout",
     "output_type": "stream",
     "text": [
      "Total time for MAP sublimb #0 mesh processing = 16.130367755889893\n",
      "correspondence_1_to_1: 0.29935622215270996\n",
      "Total time for MAP sublimb processing 16.13044762611389\n",
      "There were not both MAP and MP pieces so skipping the stitch resolving phase\n",
      "Time for decomp of Limb = 16.49254584312439\n",
      "Number of matching vertices = 90\n",
      "Only one endpoint after filtering away the endpoints that are not on the skeleton\n",
      "Removed 0 skeletal branches\n"
     ]
    },
    {
     "data": {
      "application/vnd.jupyter.widget-view+json": {
       "model_id": "54e47505253c46fc87359257c5b3515f",
       "version_major": 2,
       "version_minor": 0
      },
      "text/plain": [
       "  0%|          | 0/3 [00:00<?, ?it/s]"
      ]
     },
     "metadata": {},
     "output_type": "display_data"
    },
    {
     "name": "stdout",
     "output_type": "stream",
     "text": [
      "3348 3349\n",
      "For marked faces: None\n",
      "empty_indices % = 0.0\n",
      " conflict_indices % = 0.0\n"
     ]
    },
    {
     "data": {
      "application/vnd.jupyter.widget-view+json": {
       "model_id": "826666273df240ffbf07f3da99e6015e",
       "version_major": 2,
       "version_minor": 0
      },
      "text/plain": [
       "0it [00:00, ?it/s]"
      ]
     },
     "metadata": {},
     "output_type": "display_data"
    },
    {
     "data": {
      "application/vnd.jupyter.widget-view+json": {
       "model_id": "42a8a33ce4cb41c686dcdcfed695c168",
       "version_major": 2,
       "version_minor": 0
      },
      "text/plain": [
       "  0%|          | 0/3 [00:00<?, ?it/s]"
      ]
     },
     "metadata": {},
     "output_type": "display_data"
    },
    {
     "name": "stdout",
     "output_type": "stream",
     "text": [
      "Successful Limb Decomposition\n",
      "Total time for Skeletonization and Mesh Correspondence = 121.62835049629211\n",
      "\n",
      "\n",
      " ----- Working on Stitching ----------\n",
      "Starting the floating pieces preprocessing\n",
      "Floating 0: <trimesh.Trimesh(vertices.shape=(113, 3), faces.shape=(176, 3))>\n",
      "invalidation_d = 12000\n",
      "use_adaptive_invalidation_d= True\n",
      "axon_width_preprocess_limb_max = 200\n",
      "filter_end_node_length= 4000\n",
      "filter_end_node_length_meshparty = 1000\n",
      "invalidation_d = 12000\n",
      "root_curr = None\n",
      "Time for preparing soma vertices and root: 8.344650268554688e-06\n",
      "invalidation_d = 12000\n",
      "smooth_neighborhood = 1\n",
      "cc_vertex_thresh = 10\n"
     ]
    },
    {
     "name": "stderr",
     "output_type": "stream",
     "text": [
      "\r",
      "  0%|          | 0/1 [00:00<?, ?it/s]"
     ]
    },
    {
     "data": {
      "application/vnd.jupyter.widget-view+json": {
       "model_id": "532a437513504c82b6b094d8099a3908",
       "version_major": 2,
       "version_minor": 0
      },
      "text/plain": [
       "  0%|          | 0/112 [00:00<?, ?it/s]"
      ]
     },
     "metadata": {},
     "output_type": "display_data"
    },
    {
     "name": "stderr",
     "output_type": "stream",
     "text": [
      "\r",
      "100%|██████████| 1/1 [00:00<00:00, 56.43it/s]"
     ]
    },
    {
     "name": "stdout",
     "output_type": "stream",
     "text": [
      "meshparty_segment_size = 100\n",
      "Time for 1st pass MP skeletonization: 0.04014182090759277\n",
      "branches_touching_root = [0]\n",
      "combining close nodes\n",
      "combine_threshold = 700\n",
      "length of Graph = 11\n",
      "After combining close endpoints max(kept_branches_idx) = 0, len(kept_branches_idx) = 1\n",
      "empty_indices % = 0.0\n",
      " conflict_indices % = 0.0\n"
     ]
    },
    {
     "name": "stderr",
     "output_type": "stream",
     "text": [
      "\n"
     ]
    },
    {
     "data": {
      "application/vnd.jupyter.widget-view+json": {
       "model_id": "eff2741e23e44fb2bbf2272221d287b7",
       "version_major": 2,
       "version_minor": 0
      },
      "text/plain": [
       "0it [00:00, ?it/s]"
      ]
     },
     "metadata": {},
     "output_type": "display_data"
    },
    {
     "data": {
      "application/vnd.jupyter.widget-view+json": {
       "model_id": "b1e5b790d7234d169bacac04c2bc9dc0",
       "version_major": 2,
       "version_minor": 0
      },
      "text/plain": [
       "  0%|          | 0/1 [00:00<?, ?it/s]"
      ]
     },
     "metadata": {},
     "output_type": "display_data"
    },
    {
     "name": "stdout",
     "output_type": "stream",
     "text": [
      "widths = [401.00445965]\n",
      "width_median= 401.0044596537766\n",
      "segment_widths_median = [401.00445965]\n",
      "Decomposing first pass: 0.05771923065185547\n",
      "Attempting to use MeshAfterParty Skeletonization and Mesh Correspondence\n",
      "Another print\n",
      "Divinding into MP and MAP pieces: 4.506111145019531e-05\n",
      "Total time for MAP sublimb processing 4.291534423828125e-06\n",
      "---- Working on MP Decomposition #0 ----\n",
      "Using Quicker soma_to_piece_touching_vertices because no MAP and only one sublimb_mesh piece \n",
      "MP filtering soma verts: 2.9802322387695312e-05\n",
      "Do Not Need to Fix MP Decomposition 0 so just continuing\n",
      "There were not both MAP and MP pieces so skipping the stitch resolving phase\n",
      "Time for decomp of Limb = 0.09959197044372559\n"
     ]
    },
    {
     "data": {
      "application/vnd.jupyter.widget-view+json": {
       "model_id": "cfdce6f007744026830e1f239d536f84",
       "version_major": 2,
       "version_minor": 0
      },
      "text/plain": [
       "  0%|          | 0/2 [00:00<?, ?it/s]"
      ]
     },
     "metadata": {},
     "output_type": "display_data"
    },
    {
     "name": "stdout",
     "output_type": "stream",
     "text": [
      "Removed 2 skeletal branches\n",
      "There were no branches after cleaning limb correspondence\n"
     ]
    },
    {
     "data": {
      "application/vnd.jupyter.widget-view+json": {
       "model_id": "10b4617cfad740be88b93535e0f4524d",
       "version_major": 2,
       "version_minor": 0
      },
      "text/plain": [
       "Container(figure=Figure(box_center=[0.5, 0.5, 0.5], box_size=[1.0, 1.0, 1.0], camera=PerspectiveCamera(fov=45.…"
      ]
     },
     "metadata": {},
     "output_type": "display_data"
    },
    {
     "name": "stdout",
     "output_type": "stream",
     "text": [
      "--> time = 0.1738450527191162\n",
      "Floating 1: <trimesh.Trimesh(vertices.shape=(75, 3), faces.shape=(140, 3))>\n",
      "invalidation_d = 12000\n",
      "use_adaptive_invalidation_d= True\n",
      "axon_width_preprocess_limb_max = 200\n",
      "filter_end_node_length= 4000\n",
      "filter_end_node_length_meshparty = 1000\n",
      "invalidation_d = 12000\n",
      "root_curr = None\n",
      "Time for preparing soma vertices and root: 3.337860107421875e-06\n",
      "invalidation_d = 12000\n",
      "smooth_neighborhood = 1\n",
      "cc_vertex_thresh = 10\n"
     ]
    },
    {
     "name": "stderr",
     "output_type": "stream",
     "text": [
      "\r",
      "  0%|          | 0/1 [00:00<?, ?it/s]"
     ]
    },
    {
     "data": {
      "application/vnd.jupyter.widget-view+json": {
       "model_id": "862067c18f0e48b0a3b866bacac14cee",
       "version_major": 2,
       "version_minor": 0
      },
      "text/plain": [
       "  0%|          | 0/74 [00:00<?, ?it/s]"
      ]
     },
     "metadata": {},
     "output_type": "display_data"
    },
    {
     "name": "stderr",
     "output_type": "stream",
     "text": [
      "100%|██████████| 1/1 [00:00<00:00, 118.94it/s]\n"
     ]
    },
    {
     "name": "stdout",
     "output_type": "stream",
     "text": [
      "meshparty_segment_size = 100\n",
      "Time for 1st pass MP skeletonization: 0.018903255462646484\n",
      "branches_touching_root = [0]\n",
      "combining close nodes\n",
      "combine_threshold = 700\n",
      "length of Graph = 24\n",
      "After combining close endpoints max(kept_branches_idx) = 0, len(kept_branches_idx) = 1\n",
      "empty_indices % = 0.0\n",
      " conflict_indices % = 0.0\n"
     ]
    },
    {
     "data": {
      "application/vnd.jupyter.widget-view+json": {
       "model_id": "75f03545d53f43b096fcbf9b60f66219",
       "version_major": 2,
       "version_minor": 0
      },
      "text/plain": [
       "0it [00:00, ?it/s]"
      ]
     },
     "metadata": {},
     "output_type": "display_data"
    },
    {
     "data": {
      "application/vnd.jupyter.widget-view+json": {
       "model_id": "d9e1c9b515cf420cbcda90f2410c6df1",
       "version_major": 2,
       "version_minor": 0
      },
      "text/plain": [
       "  0%|          | 0/1 [00:00<?, ?it/s]"
      ]
     },
     "metadata": {},
     "output_type": "display_data"
    },
    {
     "name": "stdout",
     "output_type": "stream",
     "text": [
      "widths = [160.04168335]\n",
      "width_median= 160.04168334611\n",
      "segment_widths_median = [160.04168335]\n",
      "Using the axon parameters\n",
      "invalidation_d = 1500\n",
      "smooth_neighborhood = 0\n",
      "cc_vertex_thresh = 10\n"
     ]
    },
    {
     "name": "stderr",
     "output_type": "stream",
     "text": [
      "\r",
      "  0%|          | 0/1 [00:00<?, ?it/s]"
     ]
    },
    {
     "data": {
      "application/vnd.jupyter.widget-view+json": {
       "model_id": "36cae2b57e0e4137acc7726f6a2413b1",
       "version_major": 2,
       "version_minor": 0
      },
      "text/plain": [
       "  0%|          | 0/74 [00:00<?, ?it/s]"
      ]
     },
     "metadata": {},
     "output_type": "display_data"
    },
    {
     "name": "stderr",
     "output_type": "stream",
     "text": [
      "\r",
      "100%|██████████| 1/1 [00:00<00:00, 138.91it/s]"
     ]
    },
    {
     "name": "stdout",
     "output_type": "stream",
     "text": [
      "meshparty_segment_size = 100\n",
      "Time for 1st pass MP skeletonization: 0.0403285026550293\n",
      "branches_touching_root = [0]\n",
      "combining close nodes\n",
      "combine_threshold = 1300\n",
      "length of Graph = 34\n",
      "After combining close endpoints max(kept_branches_idx) = 0, len(kept_branches_idx) = 1\n",
      "empty_indices % = 0.0\n",
      " conflict_indices % = 0.0\n"
     ]
    },
    {
     "name": "stderr",
     "output_type": "stream",
     "text": [
      "\n"
     ]
    },
    {
     "data": {
      "application/vnd.jupyter.widget-view+json": {
       "model_id": "cdfab1b786364a528cb75331aeafa282",
       "version_major": 2,
       "version_minor": 0
      },
      "text/plain": [
       "0it [00:00, ?it/s]"
      ]
     },
     "metadata": {},
     "output_type": "display_data"
    },
    {
     "data": {
      "application/vnd.jupyter.widget-view+json": {
       "model_id": "6633f1db2471442487cb3139f41476b4",
       "version_major": 2,
       "version_minor": 0
      },
      "text/plain": [
       "  0%|          | 0/1 [00:00<?, ?it/s]"
      ]
     },
     "metadata": {},
     "output_type": "display_data"
    },
    {
     "name": "stdout",
     "output_type": "stream",
     "text": [
      "widths = [160.06642016]\n",
      "width_median= 160.06642016440304\n",
      "segment_widths_median = [160.06642016]\n",
      "Using the axon parameters\n",
      "Decomposing first pass: 0.026880264282226562\n",
      "Attempting to use MeshAfterParty Skeletonization and Mesh Correspondence\n",
      "Another print\n",
      "Divinding into MP and MAP pieces: 1.6450881958007812e-05\n",
      "Total time for MAP sublimb processing 1.6689300537109375e-06\n",
      "---- Working on MP Decomposition #0 ----\n",
      "Using Quicker soma_to_piece_touching_vertices because no MAP and only one sublimb_mesh piece \n",
      "MP filtering soma verts: 1.2636184692382812e-05\n",
      "Do Not Need to Fix MP Decomposition 0 so just continuing\n",
      "There were not both MAP and MP pieces so skipping the stitch resolving phase\n",
      "Time for decomp of Limb = 0.08755922317504883\n",
      "Removed 0 skeletal branches\n"
     ]
    },
    {
     "data": {
      "application/vnd.jupyter.widget-view+json": {
       "model_id": "af1531a192df40b8a406a786797a0011",
       "version_major": 2,
       "version_minor": 0
      },
      "text/plain": [
       "  0%|          | 0/1 [00:00<?, ?it/s]"
      ]
     },
     "metadata": {},
     "output_type": "display_data"
    },
    {
     "name": "stdout",
     "output_type": "stream",
     "text": [
      "139 140\n",
      "For marked faces: None\n",
      "empty_indices % = 0.0\n",
      " conflict_indices % = 0.0\n"
     ]
    },
    {
     "data": {
      "application/vnd.jupyter.widget-view+json": {
       "model_id": "4a47be7188a2492f8da74a51340f8b1e",
       "version_major": 2,
       "version_minor": 0
      },
      "text/plain": [
       "0it [00:00, ?it/s]"
      ]
     },
     "metadata": {},
     "output_type": "display_data"
    },
    {
     "data": {
      "application/vnd.jupyter.widget-view+json": {
       "model_id": "73d1aec83a9d4758a8f9dfdb4ad2031a",
       "version_major": 2,
       "version_minor": 0
      },
      "text/plain": [
       "  0%|          | 0/1 [00:00<?, ?it/s]"
      ]
     },
     "metadata": {},
     "output_type": "display_data"
    },
    {
     "data": {
      "application/vnd.jupyter.widget-view+json": {
       "model_id": "b5f5617ef6d74513af7baf247c5d6673",
       "version_major": 2,
       "version_minor": 0
      },
      "text/plain": [
       "Container(figure=Figure(box_center=[0.5, 0.5, 0.5], box_size=[1.0, 1.0, 1.0], camera=PerspectiveCamera(fov=45.…"
      ]
     },
     "metadata": {},
     "output_type": "display_data"
    },
    {
     "name": "stdout",
     "output_type": "stream",
     "text": [
      "--> time = 0.17774009704589844\n",
      "Total time for stitching floating pieces = 3.984314203262329\n",
      "Total time for Concept Networks = 1.9147040843963623\n",
      "Total time for all mesh and skeletonization decomp = 127.52823162078857\n",
      "No soma volume ratios so computing them now\n",
      "Using Poisson Surface Reconstruction for watertightness in soma_volume_ratio\n",
      "xvfb-run -n 8945 -s \"-screen 0 800x600x24\" meshlabserver $@  -i /neurd_packages/NEURD/Applications/Tutorials/Auto_Proof_Pipeline/Double_Soma/Poisson_temp/neuron_235878.off -o /neurd_packages/NEURD/Applications/Tutorials/Auto_Proof_Pipeline/Double_Soma/Poisson_temp/neuron_235878_poisson.off -s /neurd_packages/NEURD/Applications/Tutorials/Auto_Proof_Pipeline/Double_Soma/Poisson_temp/poisson_125691.mls\n",
      "removed temporary input file: /neurd_packages/NEURD/Applications/Tutorials/Auto_Proof_Pipeline/Double_Soma/Poisson_temp/neuron_235878.off\n",
      "removed temporary output file: /neurd_packages/NEURD/Applications/Tutorials/Auto_Proof_Pipeline/Double_Soma/Poisson_temp/neuron_235878_poisson.off\n",
      "mesh.is_watertight = True\n",
      "/neurd_packages/NEURD/Applications/Tutorials/Auto_Proof_Pipeline/Double_Soma/Poisson_temp/poisson_125691.mls is being deleted....\n",
      "Using Poisson Surface Reconstruction for watertightness in soma_volume_ratio\n",
      "xvfb-run -n 7316 -s \"-screen 0 800x600x24\" meshlabserver $@  -i /neurd_packages/NEURD/Applications/Tutorials/Auto_Proof_Pipeline/Double_Soma/Poisson_temp/neuron_21763.off -o /neurd_packages/NEURD/Applications/Tutorials/Auto_Proof_Pipeline/Double_Soma/Poisson_temp/neuron_21763_poisson.off -s /neurd_packages/NEURD/Applications/Tutorials/Auto_Proof_Pipeline/Double_Soma/Poisson_temp/poisson_994546.mls\n",
      "removed temporary input file: /neurd_packages/NEURD/Applications/Tutorials/Auto_Proof_Pipeline/Double_Soma/Poisson_temp/neuron_21763.off\n",
      "removed temporary output file: /neurd_packages/NEURD/Applications/Tutorials/Auto_Proof_Pipeline/Double_Soma/Poisson_temp/neuron_21763_poisson.off\n",
      "mesh.is_watertight = False\n",
      "/neurd_packages/NEURD/Applications/Tutorials/Auto_Proof_Pipeline/Double_Soma/Poisson_temp/poisson_994546.mls is being deleted....\n",
      "--- 1) Finished unpacking preprocessed materials: 155.31153655052185\n",
      "total_edges = [['S0', 'L0'], ['S0', 'L1'], ['S0', 'L4'], ['S0', 'L5'], ['S0', 'L6'], ['S1', 'L2'], ['S1', 'L3'], ['S1', 'L4'], ['S1', 'L7']]\n",
      "--- 2) Finished creating neuron connectivity graph: 0.00014829635620117188\n",
      "Having to generate soma_meshes_face_idx because none in preprocessed data\n",
      "--- 3a) Finshed generating soma_meshes_face_idx: 0.09693264961242676\n",
      "Using precomputed volume ratio\n",
      "--- 3b) Finished soma creation: 9.184094429016113\n",
      "Using precomputed volume ratio\n",
      "--- 3b) Finished soma creation: 9.061591863632202\n",
      "--- 3) Finshed generating soma objects and adding them to concept graph: 5.2928924560546875e-05\n",
      "--- 4a) Finshed generating curr_limb_meshes_face_idx: 0.3160128593444824\n",
      "curr_limb_concept_networks= {0: [<python_tools.networkx_utils.GraphOrderedEdges object at 0x7f8702192a00>]}\n",
      "curr_limb_concept_networks= {0: [<python_tools.networkx_utils.GraphOrderedEdges object at 0x7f87023049d0>]}\n",
      "curr_limb_concept_networks= {1: [<python_tools.networkx_utils.GraphOrderedEdges object at 0x7f85b428b730>]}\n",
      "curr_limb_concept_networks= {1: [<python_tools.networkx_utils.GraphOrderedEdges object at 0x7f85b428b340>]}\n",
      "curr_limb_concept_networks= {0: [<python_tools.networkx_utils.GraphOrderedEdges object at 0x7f85b428b130>], 1: [<python_tools.networkx_utils.GraphOrderedEdges object at 0x7f86302bbe20>]}\n",
      "curr_limb_concept_networks= {0: [<python_tools.networkx_utils.GraphOrderedEdges object at 0x7f86302a0c40>]}\n",
      "curr_limb_concept_networks= {0: [<python_tools.networkx_utils.GraphOrderedEdges object at 0x7f85b428b7f0>]}\n",
      "curr_limb_concept_networks= {1: [<python_tools.networkx_utils.GraphOrderedEdges object at 0x7f86302bbb20>]}\n",
      "--- 4) Finshed generating Limb objects and adding them to concept graph: 1.7544989585876465\n",
      "--- 5) SKIPPING Doing the adaptive mesh correspondence on the meshparty preprocessing ---\n",
      "--- 6) SKIPPING Using the computed_attribute_dict to populate neuron attributes ---\n",
      "self.n_limbs = 8\n",
      "7) Calculating the spines for the neuorn if do not already exist\n",
      "7a) calculating spines because didn't exist\n",
      "query = median_mesh_center > 115 and n_faces_branch>100\n",
      "The median_mesh_center was requested but has not already been calculated so calculating now.... \n",
      "width_name BEFORE processing = None\n",
      "After processing\n",
      "width_name = median_mesh_center, distance_by_mesh_center= True, no_spines = False, summary_measure= median\n",
      "Working on limb L0 branch 6\n",
      "    current_width= 594.576590322714\n",
      "Working on limb L0 branch 3\n",
      "    current_width= 437.86354564221796\n",
      "Working on limb L0 branch 7\n",
      "    current_width= 371.4952480955216\n",
      "Working on limb L0 branch 0\n",
      "    current_width= 308.20840659465966\n",
      "Working on limb L0 branch 1\n",
      "    current_width= 379.16248459812937\n",
      "Working on limb L0 branch 2\n",
      "    current_width= 305.60705697498156\n",
      "Working on limb L0 branch 4\n",
      "    current_width= 331.5606261403119\n",
      "Working on limb L0 branch 8\n",
      "    current_width= 306.9598245368222\n",
      "Working on limb L0 branch 5\n",
      "    current_width= 291.99761242899945\n",
      "Working on limb L0 branch 9\n",
      "    current_width= 428.40328493942394\n",
      "Working on limb L1 branch 17\n",
      "    current_width= 186.74385817318597\n",
      "Working on limb L1 branch 15\n",
      "    current_width= 81.06732888550147\n",
      "Working on limb L1 branch 16\n",
      "    current_width= 180.79969247866023\n",
      "Working on limb L1 branch 18\n",
      "    current_width= 83.6230371949197\n",
      "Working on limb L1 branch 4\n",
      "    current_width= 67.0560163730836\n",
      "Working on limb L1 branch 14\n",
      "    current_width= 118.90605740060825\n",
      "Working on limb L1 branch 26\n",
      "    current_width= 166.88235794997527\n",
      "Working on limb L1 branch 19\n",
      "    current_width= 74.74432487535276\n",
      "Working on limb L1 branch 20\n",
      "    current_width= 78.90931853911839\n",
      "Working on limb L1 branch 12\n",
      "    current_width= 99.5458706842156\n",
      "Working on limb L1 branch 13\n",
      "    current_width= 103.46347406090041\n",
      "Working on limb L1 branch 21\n",
      "    current_width= 89.35632620500378\n",
      "Working on limb L1 branch 22\n",
      "    current_width= 85.25609472650788\n",
      "Working on limb L1 branch 9\n",
      "    current_width= 101.14976479212038\n",
      "Working on limb L1 branch 10\n",
      "    current_width= 154.19361842656528\n",
      "Working on limb L1 branch 11\n",
      "    current_width= 93.61085880218833\n",
      "Working on limb L1 branch 25\n",
      "    current_width= 66.4711702516618\n",
      "Working on limb L1 branch 1\n",
      "    current_width= 111.9796517426644\n",
      "Working on limb L1 branch 3\n",
      "    current_width= 95.32640663158229\n",
      "Working on limb L1 branch 7\n",
      "    current_width= 103.07901528419319\n",
      "Working on limb L1 branch 8\n",
      "    current_width= 131.75016231242103\n",
      "Working on limb L1 branch 5\n",
      "    current_width= 128.9270199927419\n",
      "Working on limb L1 branch 6\n",
      "    current_width= 108.30020672887802\n",
      "Working on limb L1 branch 0\n",
      "    current_width= 97.68811695225403\n",
      "Working on limb L1 branch 2\n",
      "    current_width= 125.98586935524001\n",
      "Working on limb L1 branch 23\n",
      "    current_width= 87.93425564048837\n",
      "Working on limb L1 branch 24\n",
      "    current_width= 82.86915364065608\n",
      "Working on limb L4 branch 2\n",
      "    current_width= 974.180823752099\n",
      "Working on limb L4 branch 0\n",
      "    current_width= 428.40439724621825\n",
      "Working on limb L4 branch 3\n",
      "    current_width= 643.3381849395346\n",
      "Working on limb L4 branch 1\n",
      "    current_width= 293.1976574163774\n",
      "Working on limb L4 branch 4\n",
      "    current_width= 503.80747389804696\n",
      "Working on limb L4 branch 5\n",
      "    current_width= 325.9203233909313\n",
      "Working on limb L4 branch 6\n",
      "    current_width= 437.42341766430985\n",
      "Working on limb L5 branch 0\n",
      "    current_width= 447.09174488055413\n",
      "Working on limb L6 branch 0\n",
      "    current_width= 343.94895170316283\n",
      "Working on limb L2 branch 0\n",
      "    current_width= 378.8904619852207\n",
      "Working on limb L2 branch 1\n",
      "    current_width= 332.51169005822896\n",
      "Working on limb L2 branch 2\n",
      "    current_width= 357.03380531366435\n",
      "Working on limb L3 branch 1\n",
      "    current_width= 341.6228226856097\n",
      "Working on limb L3 branch 0\n",
      "    current_width= 96.25067340356648\n",
      "Working on limb L3 branch 2\n",
      "    current_width= 389.77078871406786\n",
      "Working on limb L3 branch 3\n",
      "    current_width= 69.00572062527482\n",
      "Working on limb L3 branch 4\n",
      "    current_width= 368.5289855187065\n",
      "Working on limb L7 branch 2\n",
      "    current_width= 527.9843159720422\n",
      "Working on limb L7 branch 0\n",
      "    current_width= 923.6162090064461\n",
      "Working on limb L7 branch 1\n",
      "    current_width= 951.9726971651776\n"
     ]
    },
    {
     "name": "stdout",
     "output_type": "stream",
     "text": [
      "MAX ITERATIONS initially 500\n",
      "AREA VARIATION initially 0.0001\n",
      "medial centered initially 1\n",
      "medially_centered_speed_tradeoff initially 0.2\n",
      "quality_speed_tradeoff initially 0.1\n",
      "max_triangle_angle initially 1.91986\n",
      "min_edge_length initially 65.7692\n",
      "setting the edge length by absolute length\n",
      "min_edge_length AFTER = 75\n",
      "max_triangle_angle AFTER = 1.91986\n",
      "quality_speed_tradeoff AFTER = 0.2\n",
      "set_medially_centered_speed_tradeoff AFTER = 0.2\n",
      "medial centered AFTER 1\n",
      "AREA VARIATION AFTER 0.0001\n",
      "MAX ITERATIONS AFTER 500\n",
      "medial centered END 1\n",
      "set_medially_centered_speed_tradeoff END = 0.2\n",
      "quality_speed_tradeoff END = 0.2\n",
      "Max iterations END = 500\n",
      "AREA VARIATION END 0.0001\n",
      "Number of vertices of the skeleton: 298\n",
      "Number of edges of the skeleton: 297\n",
      "MAX ITERATIONS initially 500\n",
      "AREA VARIATION initially 0.0001\n",
      "medial centered initially 1\n",
      "medially_centered_speed_tradeoff initially 0.2\n",
      "quality_speed_tradeoff initially 0.1\n",
      "max_triangle_angle initially 1.91986\n",
      "min_edge_length initially 25.8963\n",
      "setting the edge length by absolute length\n",
      "min_edge_length AFTER = 75\n",
      "max_triangle_angle AFTER = 1.91986\n",
      "quality_speed_tradeoff AFTER = 0.2\n",
      "set_medially_centered_speed_tradeoff AFTER = 0.2\n",
      "medial centered AFTER 1\n",
      "AREA VARIATION AFTER 0.0001\n",
      "MAX ITERATIONS AFTER 500\n",
      "medial centered END 1\n",
      "set_medially_centered_speed_tradeoff END = 0.2\n",
      "quality_speed_tradeoff END = 0.2\n",
      "Max iterations END = 500\n",
      "AREA VARIATION END 0.0001\n",
      "Number of vertices of the skeleton: 73\n",
      "Number of edges of the skeleton: 72\n",
      "MAX ITERATIONS initially 500\n",
      "AREA VARIATION initially 0.0001\n",
      "medial centered initially 1\n",
      "medially_centered_speed_tradeoff initially 0.2\n",
      "quality_speed_tradeoff initially 0.1\n",
      "max_triangle_angle initially 1.91986\n",
      "min_edge_length initially 130.059\n",
      "setting the edge length by absolute length\n",
      "min_edge_length AFTER = 75\n",
      "max_triangle_angle AFTER = 1.91986\n",
      "quality_speed_tradeoff AFTER = 0.2\n",
      "set_medially_centered_speed_tradeoff AFTER = 0.2\n",
      "medial centered AFTER 1\n",
      "AREA VARIATION AFTER 0.0001\n",
      "MAX ITERATIONS AFTER 500\n",
      "medial centered END 1\n",
      "set_medially_centered_speed_tradeoff END = 0.2\n",
      "quality_speed_tradeoff END = 0.2\n",
      "Max iterations END = 500\n",
      "AREA VARIATION END 0.0001\n",
      "Number of vertices of the skeleton: 772\n",
      "Number of edges of the skeleton: 771\n",
      "MAX ITERATIONS initially 500\n",
      "AREA VARIATION initially 0.0001\n",
      "medial centered initially 1\n",
      "medially_centered_speed_tradeoff initially 0.2\n",
      "quality_speed_tradeoff initially 0.1\n",
      "max_triangle_angle initially 1.91986\n",
      "min_edge_length initially 36.8922\n",
      "setting the edge length by absolute length\n",
      "min_edge_length AFTER = 75\n",
      "max_triangle_angle AFTER = 1.91986\n",
      "quality_speed_tradeoff AFTER = 0.2\n",
      "set_medially_centered_speed_tradeoff AFTER = 0.2\n",
      "medial centered AFTER 1\n",
      "AREA VARIATION AFTER 0.0001\n",
      "MAX ITERATIONS AFTER 500\n",
      "medial centered END 1\n",
      "set_medially_centered_speed_tradeoff END = 0.2\n",
      "quality_speed_tradeoff END = 0.2\n",
      "Max iterations END = 500\n",
      "AREA VARIATION END 0.0001\n",
      "Number of vertices of the skeleton: 3\n",
      "Number of edges of the skeleton: 2\n",
      "\n",
      "Number of segments: 77\n",
      "\n"
     ]
    },
    {
     "data": {
      "application/vnd.jupyter.widget-view+json": {
       "model_id": "62835249d095486da556e1d016fbe796",
       "version_major": 2,
       "version_minor": 0
      },
      "text/plain": [
       "  0%|          | 0/77 [00:00<?, ?it/s]"
      ]
     },
     "metadata": {},
     "output_type": "display_data"
    },
    {
     "data": {
      "application/vnd.jupyter.widget-view+json": {
       "model_id": "1b3127c670584b398ba51980b21eec65",
       "version_major": 2,
       "version_minor": 0
      },
      "text/plain": [
       "  0%|          | 0/77 [00:00<?, ?it/s]"
      ]
     },
     "metadata": {},
     "output_type": "display_data"
    },
    {
     "name": "stdout",
     "output_type": "stream",
     "text": [
      "Filtering away by face and skeletal length\n",
      "\n",
      "Number of segments: 106\n",
      "\n"
     ]
    },
    {
     "data": {
      "application/vnd.jupyter.widget-view+json": {
       "model_id": "d4de368e5a4e4e5f8bbc4e7643e0bcb4",
       "version_major": 2,
       "version_minor": 0
      },
      "text/plain": [
       "  0%|          | 0/106 [00:00<?, ?it/s]"
      ]
     },
     "metadata": {},
     "output_type": "display_data"
    },
    {
     "data": {
      "application/vnd.jupyter.widget-view+json": {
       "model_id": "1eb38d6eb9b54cd0afc34ec5174fb004",
       "version_major": 2,
       "version_minor": 0
      },
      "text/plain": [
       "  0%|          | 0/106 [00:00<?, ?it/s]"
      ]
     },
     "metadata": {},
     "output_type": "display_data"
    },
    {
     "name": "stdout",
     "output_type": "stream",
     "text": [
      "Filtering away by face and skeletal length\n",
      "\n",
      "Number of segments: 32\n",
      "\n"
     ]
    },
    {
     "data": {
      "application/vnd.jupyter.widget-view+json": {
       "model_id": "824d83d487f34698b63dd952bb36bb5b",
       "version_major": 2,
       "version_minor": 0
      },
      "text/plain": [
       "  0%|          | 0/32 [00:00<?, ?it/s]"
      ]
     },
     "metadata": {},
     "output_type": "display_data"
    },
    {
     "data": {
      "application/vnd.jupyter.widget-view+json": {
       "model_id": "74c239ceb5bf4797a01795cbd3dfac9a",
       "version_major": 2,
       "version_minor": 0
      },
      "text/plain": [
       "  0%|          | 0/32 [00:00<?, ?it/s]"
      ]
     },
     "metadata": {},
     "output_type": "display_data"
    },
    {
     "name": "stdout",
     "output_type": "stream",
     "text": [
      "Filtering away by face and skeletal length\n",
      "\n",
      "Number of segments: 25\n",
      "\n"
     ]
    },
    {
     "data": {
      "application/vnd.jupyter.widget-view+json": {
       "model_id": "964d6525b5964f22af84eb172cea76e2",
       "version_major": 2,
       "version_minor": 0
      },
      "text/plain": [
       "  0%|          | 0/25 [00:00<?, ?it/s]"
      ]
     },
     "metadata": {},
     "output_type": "display_data"
    },
    {
     "data": {
      "application/vnd.jupyter.widget-view+json": {
       "model_id": "5f685768b3704c83b78e0998cb579855",
       "version_major": 2,
       "version_minor": 0
      },
      "text/plain": [
       "  0%|          | 0/25 [00:00<?, ?it/s]"
      ]
     },
     "metadata": {},
     "output_type": "display_data"
    },
    {
     "name": "stdout",
     "output_type": "stream",
     "text": [
      "Filtering away by face and skeletal length\n",
      "\n",
      "Number of segments: 95\n",
      "\n"
     ]
    },
    {
     "data": {
      "application/vnd.jupyter.widget-view+json": {
       "model_id": "007abb262fe548db876fa7a6095843cf",
       "version_major": 2,
       "version_minor": 0
      },
      "text/plain": [
       "  0%|          | 0/95 [00:00<?, ?it/s]"
      ]
     },
     "metadata": {},
     "output_type": "display_data"
    },
    {
     "data": {
      "application/vnd.jupyter.widget-view+json": {
       "model_id": "b5e113bc52f34eb59e422d9972fe27d8",
       "version_major": 2,
       "version_minor": 0
      },
      "text/plain": [
       "  0%|          | 0/95 [00:00<?, ?it/s]"
      ]
     },
     "metadata": {},
     "output_type": "display_data"
    },
    {
     "name": "stdout",
     "output_type": "stream",
     "text": [
      "Filtering away by face and skeletal length\n",
      "\n",
      "Number of segments: 81\n",
      "\n"
     ]
    },
    {
     "data": {
      "application/vnd.jupyter.widget-view+json": {
       "model_id": "1259350be5a7476fa47631142af7a650",
       "version_major": 2,
       "version_minor": 0
      },
      "text/plain": [
       "  0%|          | 0/81 [00:00<?, ?it/s]"
      ]
     },
     "metadata": {},
     "output_type": "display_data"
    },
    {
     "data": {
      "application/vnd.jupyter.widget-view+json": {
       "model_id": "a9e8bf8b72a3445aa6f2a6edfdced6e6",
       "version_major": 2,
       "version_minor": 0
      },
      "text/plain": [
       "  0%|          | 0/81 [00:00<?, ?it/s]"
      ]
     },
     "metadata": {},
     "output_type": "display_data"
    },
    {
     "name": "stdout",
     "output_type": "stream",
     "text": [
      "Filtering away by face and skeletal length\n",
      "\n",
      "Number of segments: 3\n",
      "\n"
     ]
    },
    {
     "data": {
      "application/vnd.jupyter.widget-view+json": {
       "model_id": "9a706a60d74e4cb7abdfac5235d50c43",
       "version_major": 2,
       "version_minor": 0
      },
      "text/plain": [
       "  0%|          | 0/3 [00:00<?, ?it/s]"
      ]
     },
     "metadata": {},
     "output_type": "display_data"
    },
    {
     "data": {
      "application/vnd.jupyter.widget-view+json": {
       "model_id": "b4b67f19dc774aea993acc271e09f66f",
       "version_major": 2,
       "version_minor": 0
      },
      "text/plain": [
       "  0%|          | 0/3 [00:00<?, ?it/s]"
      ]
     },
     "metadata": {},
     "output_type": "display_data"
    },
    {
     "name": "stdout",
     "output_type": "stream",
     "text": [
      "Filtering away by face and skeletal length\n",
      "\n",
      "Number of segments: 6\n",
      "\n"
     ]
    },
    {
     "data": {
      "application/vnd.jupyter.widget-view+json": {
       "model_id": "d0991c669799475d91267bbc23e7f1c8",
       "version_major": 2,
       "version_minor": 0
      },
      "text/plain": [
       "  0%|          | 0/6 [00:00<?, ?it/s]"
      ]
     },
     "metadata": {},
     "output_type": "display_data"
    },
    {
     "data": {
      "application/vnd.jupyter.widget-view+json": {
       "model_id": "41b7ac28bdbd4347b94cc324857e8473",
       "version_major": 2,
       "version_minor": 0
      },
      "text/plain": [
       "  0%|          | 0/6 [00:00<?, ?it/s]"
      ]
     },
     "metadata": {},
     "output_type": "display_data"
    },
    {
     "name": "stdout",
     "output_type": "stream",
     "text": [
      "Filtering away by face and skeletal length\n",
      "\n",
      "Number of segments: 5\n",
      "\n"
     ]
    },
    {
     "data": {
      "application/vnd.jupyter.widget-view+json": {
       "model_id": "0c99f4b94b49473bb1f0f378488219b9",
       "version_major": 2,
       "version_minor": 0
      },
      "text/plain": [
       "  0%|          | 0/5 [00:00<?, ?it/s]"
      ]
     },
     "metadata": {},
     "output_type": "display_data"
    },
    {
     "data": {
      "application/vnd.jupyter.widget-view+json": {
       "model_id": "af7a0e28e2e4445eb042561a9a01cb7d",
       "version_major": 2,
       "version_minor": 0
      },
      "text/plain": [
       "  0%|          | 0/5 [00:00<?, ?it/s]"
      ]
     },
     "metadata": {},
     "output_type": "display_data"
    },
    {
     "name": "stdout",
     "output_type": "stream",
     "text": [
      "Filtering away by face and skeletal length\n",
      "\n",
      "Number of segments: 185\n",
      "\n"
     ]
    },
    {
     "data": {
      "application/vnd.jupyter.widget-view+json": {
       "model_id": "6529d28a8a6f4b13855f302c711ff99a",
       "version_major": 2,
       "version_minor": 0
      },
      "text/plain": [
       "  0%|          | 0/185 [00:00<?, ?it/s]"
      ]
     },
     "metadata": {},
     "output_type": "display_data"
    },
    {
     "data": {
      "application/vnd.jupyter.widget-view+json": {
       "model_id": "e369bd430be94c39a016522942c4ccc7",
       "version_major": 2,
       "version_minor": 0
      },
      "text/plain": [
       "  0%|          | 0/185 [00:00<?, ?it/s]"
      ]
     },
     "metadata": {},
     "output_type": "display_data"
    },
    {
     "name": "stdout",
     "output_type": "stream",
     "text": [
      "Filtering away by face and skeletal length\n",
      "\n",
      "Number of segments: 23\n",
      "\n"
     ]
    },
    {
     "data": {
      "application/vnd.jupyter.widget-view+json": {
       "model_id": "f1629550d577475282abd98abe231e7a",
       "version_major": 2,
       "version_minor": 0
      },
      "text/plain": [
       "  0%|          | 0/23 [00:00<?, ?it/s]"
      ]
     },
     "metadata": {},
     "output_type": "display_data"
    },
    {
     "data": {
      "application/vnd.jupyter.widget-view+json": {
       "model_id": "30ab660f136740179acdadc19dca5a6c",
       "version_major": 2,
       "version_minor": 0
      },
      "text/plain": [
       "  0%|          | 0/23 [00:00<?, ?it/s]"
      ]
     },
     "metadata": {},
     "output_type": "display_data"
    },
    {
     "name": "stdout",
     "output_type": "stream",
     "text": [
      "Filtering away by face and skeletal length\n",
      "\n",
      "Number of segments: 3\n",
      "\n"
     ]
    },
    {
     "data": {
      "application/vnd.jupyter.widget-view+json": {
       "model_id": "69b2f87617c64e07a3a43110182f19fa",
       "version_major": 2,
       "version_minor": 0
      },
      "text/plain": [
       "  0%|          | 0/3 [00:00<?, ?it/s]"
      ]
     },
     "metadata": {},
     "output_type": "display_data"
    },
    {
     "data": {
      "application/vnd.jupyter.widget-view+json": {
       "model_id": "85641e29a1384128915cc5d2ac7bb619",
       "version_major": 2,
       "version_minor": 0
      },
      "text/plain": [
       "  0%|          | 0/3 [00:00<?, ?it/s]"
      ]
     },
     "metadata": {},
     "output_type": "display_data"
    },
    {
     "name": "stdout",
     "output_type": "stream",
     "text": [
      "Filtering away by face and skeletal length\n",
      "\n",
      "Number of segments: 33\n",
      "\n"
     ]
    },
    {
     "data": {
      "application/vnd.jupyter.widget-view+json": {
       "model_id": "5c34dbc5a3b14762b4ec4ed638c2c9da",
       "version_major": 2,
       "version_minor": 0
      },
      "text/plain": [
       "  0%|          | 0/33 [00:00<?, ?it/s]"
      ]
     },
     "metadata": {},
     "output_type": "display_data"
    },
    {
     "data": {
      "application/vnd.jupyter.widget-view+json": {
       "model_id": "d3a6b6976007410eac93e74d3206c7c4",
       "version_major": 2,
       "version_minor": 0
      },
      "text/plain": [
       "  0%|          | 0/33 [00:00<?, ?it/s]"
      ]
     },
     "metadata": {},
     "output_type": "display_data"
    },
    {
     "name": "stdout",
     "output_type": "stream",
     "text": [
      "Filtering away by face and skeletal length\n",
      "\n",
      "Number of segments: 2\n",
      "\n"
     ]
    },
    {
     "data": {
      "application/vnd.jupyter.widget-view+json": {
       "model_id": "38b6315e0f4a445586f553e4084042fd",
       "version_major": 2,
       "version_minor": 0
      },
      "text/plain": [
       "  0%|          | 0/2 [00:00<?, ?it/s]"
      ]
     },
     "metadata": {},
     "output_type": "display_data"
    },
    {
     "data": {
      "application/vnd.jupyter.widget-view+json": {
       "model_id": "f0c5af87a0434177a9634bc066c3ad29",
       "version_major": 2,
       "version_minor": 0
      },
      "text/plain": [
       "  0%|          | 0/2 [00:00<?, ?it/s]"
      ]
     },
     "metadata": {},
     "output_type": "display_data"
    },
    {
     "name": "stdout",
     "output_type": "stream",
     "text": [
      "Filtering away by face and skeletal length\n",
      "\n",
      "Number of segments: 10\n",
      "\n"
     ]
    },
    {
     "data": {
      "application/vnd.jupyter.widget-view+json": {
       "model_id": "8f668951ea334959818c47bb9dbe2bec",
       "version_major": 2,
       "version_minor": 0
      },
      "text/plain": [
       "  0%|          | 0/10 [00:00<?, ?it/s]"
      ]
     },
     "metadata": {},
     "output_type": "display_data"
    },
    {
     "data": {
      "application/vnd.jupyter.widget-view+json": {
       "model_id": "bc6778fdcda048b8a4518abf0639eeeb",
       "version_major": 2,
       "version_minor": 0
      },
      "text/plain": [
       "  0%|          | 0/10 [00:00<?, ?it/s]"
      ]
     },
     "metadata": {},
     "output_type": "display_data"
    },
    {
     "name": "stdout",
     "output_type": "stream",
     "text": [
      "Filtering away by face and skeletal length\n",
      "\n",
      "Number of segments: 17\n",
      "\n"
     ]
    },
    {
     "data": {
      "application/vnd.jupyter.widget-view+json": {
       "model_id": "32b6b9d7a1204ccab69f11872659d4ae",
       "version_major": 2,
       "version_minor": 0
      },
      "text/plain": [
       "  0%|          | 0/17 [00:00<?, ?it/s]"
      ]
     },
     "metadata": {},
     "output_type": "display_data"
    },
    {
     "data": {
      "application/vnd.jupyter.widget-view+json": {
       "model_id": "8aa3b011f5d44600ba2d0208c9525314",
       "version_major": 2,
       "version_minor": 0
      },
      "text/plain": [
       "  0%|          | 0/17 [00:00<?, ?it/s]"
      ]
     },
     "metadata": {},
     "output_type": "display_data"
    },
    {
     "name": "stdout",
     "output_type": "stream",
     "text": [
      "Filtering away by face and skeletal length\n",
      "\n",
      "Number of segments: 3\n",
      "\n"
     ]
    },
    {
     "data": {
      "application/vnd.jupyter.widget-view+json": {
       "model_id": "2182ec29210344f48f6a2416b149acd2",
       "version_major": 2,
       "version_minor": 0
      },
      "text/plain": [
       "  0%|          | 0/3 [00:00<?, ?it/s]"
      ]
     },
     "metadata": {},
     "output_type": "display_data"
    },
    {
     "data": {
      "application/vnd.jupyter.widget-view+json": {
       "model_id": "bd37579afbc04f4ebb979bea71b6b385",
       "version_major": 2,
       "version_minor": 0
      },
      "text/plain": [
       "  0%|          | 0/3 [00:00<?, ?it/s]"
      ]
     },
     "metadata": {},
     "output_type": "display_data"
    },
    {
     "name": "stdout",
     "output_type": "stream",
     "text": [
      "Filtering away by face and skeletal length\n",
      "\n",
      "Number of segments: 7\n",
      "\n"
     ]
    },
    {
     "data": {
      "application/vnd.jupyter.widget-view+json": {
       "model_id": "8290c8b9896f4eb8b0f48bfee8dd2532",
       "version_major": 2,
       "version_minor": 0
      },
      "text/plain": [
       "  0%|          | 0/7 [00:00<?, ?it/s]"
      ]
     },
     "metadata": {},
     "output_type": "display_data"
    },
    {
     "data": {
      "application/vnd.jupyter.widget-view+json": {
       "model_id": "443335d441944e4887800ed56ef033a4",
       "version_major": 2,
       "version_minor": 0
      },
      "text/plain": [
       "  0%|          | 0/7 [00:00<?, ?it/s]"
      ]
     },
     "metadata": {},
     "output_type": "display_data"
    },
    {
     "name": "stdout",
     "output_type": "stream",
     "text": [
      "Filtering away by face and skeletal length\n",
      "\n",
      "Number of segments: 148\n",
      "\n"
     ]
    },
    {
     "data": {
      "application/vnd.jupyter.widget-view+json": {
       "model_id": "1f1a47d35bc143d0a2de8b1b23edf061",
       "version_major": 2,
       "version_minor": 0
      },
      "text/plain": [
       "  0%|          | 0/148 [00:00<?, ?it/s]"
      ]
     },
     "metadata": {},
     "output_type": "display_data"
    },
    {
     "data": {
      "application/vnd.jupyter.widget-view+json": {
       "model_id": "517a2ee3a18845c6883f9c0b055edaf0",
       "version_major": 2,
       "version_minor": 0
      },
      "text/plain": [
       "  0%|          | 0/148 [00:00<?, ?it/s]"
      ]
     },
     "metadata": {},
     "output_type": "display_data"
    },
    {
     "name": "stdout",
     "output_type": "stream",
     "text": [
      "Filtering away by face and skeletal length\n",
      "\n",
      "Number of segments: 161\n",
      "\n"
     ]
    },
    {
     "data": {
      "application/vnd.jupyter.widget-view+json": {
       "model_id": "8e4c2de59b7f417d83bdf0a9461f6158",
       "version_major": 2,
       "version_minor": 0
      },
      "text/plain": [
       "  0%|          | 0/161 [00:00<?, ?it/s]"
      ]
     },
     "metadata": {},
     "output_type": "display_data"
    },
    {
     "data": {
      "application/vnd.jupyter.widget-view+json": {
       "model_id": "a270cff000c14a6cbd7fcfcfae1b9598",
       "version_major": 2,
       "version_minor": 0
      },
      "text/plain": [
       "  0%|          | 0/161 [00:00<?, ?it/s]"
      ]
     },
     "metadata": {},
     "output_type": "display_data"
    },
    {
     "name": "stdout",
     "output_type": "stream",
     "text": [
      "Filtering away by face and skeletal length\n",
      "\n",
      "Number of segments: 2\n",
      "\n"
     ]
    },
    {
     "data": {
      "application/vnd.jupyter.widget-view+json": {
       "model_id": "c03d79da1ca64f3aac85a5f2fe4909c1",
       "version_major": 2,
       "version_minor": 0
      },
      "text/plain": [
       "  0%|          | 0/2 [00:00<?, ?it/s]"
      ]
     },
     "metadata": {},
     "output_type": "display_data"
    },
    {
     "data": {
      "application/vnd.jupyter.widget-view+json": {
       "model_id": "4eecdeae40e04455a07f2533d11b5b3d",
       "version_major": 2,
       "version_minor": 0
      },
      "text/plain": [
       "  0%|          | 0/2 [00:00<?, ?it/s]"
      ]
     },
     "metadata": {},
     "output_type": "display_data"
    },
    {
     "name": "stdout",
     "output_type": "stream",
     "text": [
      "Filtering away by face and skeletal length\n",
      "\n",
      "Number of segments: 108\n",
      "\n"
     ]
    },
    {
     "data": {
      "application/vnd.jupyter.widget-view+json": {
       "model_id": "3c7c5e2a965847daaf80229eef929b84",
       "version_major": 2,
       "version_minor": 0
      },
      "text/plain": [
       "  0%|          | 0/108 [00:00<?, ?it/s]"
      ]
     },
     "metadata": {},
     "output_type": "display_data"
    },
    {
     "data": {
      "application/vnd.jupyter.widget-view+json": {
       "model_id": "535dd6767dc041c38cf1d616fb809a1c",
       "version_major": 2,
       "version_minor": 0
      },
      "text/plain": [
       "  0%|          | 0/108 [00:00<?, ?it/s]"
      ]
     },
     "metadata": {},
     "output_type": "display_data"
    },
    {
     "name": "stdout",
     "output_type": "stream",
     "text": [
      "Filtering away by face and skeletal length\n",
      "\n",
      "Number of segments: 50\n",
      "\n"
     ]
    },
    {
     "data": {
      "application/vnd.jupyter.widget-view+json": {
       "model_id": "dcf1bad183b54b0da022775d295f2c28",
       "version_major": 2,
       "version_minor": 0
      },
      "text/plain": [
       "  0%|          | 0/50 [00:00<?, ?it/s]"
      ]
     },
     "metadata": {},
     "output_type": "display_data"
    },
    {
     "data": {
      "application/vnd.jupyter.widget-view+json": {
       "model_id": "e365ba41c36a4beb949b0153b64f9182",
       "version_major": 2,
       "version_minor": 0
      },
      "text/plain": [
       "  0%|          | 0/50 [00:00<?, ?it/s]"
      ]
     },
     "metadata": {},
     "output_type": "display_data"
    },
    {
     "name": "stdout",
     "output_type": "stream",
     "text": [
      "Filtering away by face and skeletal length\n",
      "\n",
      "Number of segments: 30\n",
      "\n"
     ]
    },
    {
     "data": {
      "application/vnd.jupyter.widget-view+json": {
       "model_id": "ab38d4a7063649939c3d568a5764823c",
       "version_major": 2,
       "version_minor": 0
      },
      "text/plain": [
       "  0%|          | 0/30 [00:00<?, ?it/s]"
      ]
     },
     "metadata": {},
     "output_type": "display_data"
    },
    {
     "data": {
      "application/vnd.jupyter.widget-view+json": {
       "model_id": "1c16acdfe56447c6baa5823af0350c85",
       "version_major": 2,
       "version_minor": 0
      },
      "text/plain": [
       "  0%|          | 0/30 [00:00<?, ?it/s]"
      ]
     },
     "metadata": {},
     "output_type": "display_data"
    },
    {
     "name": "stdout",
     "output_type": "stream",
     "text": [
      "Filtering away by face and skeletal length\n",
      "\n",
      "Number of segments: 7\n",
      "\n"
     ]
    },
    {
     "data": {
      "application/vnd.jupyter.widget-view+json": {
       "model_id": "a9fc425be13a4d3bab560ee14ec445ab",
       "version_major": 2,
       "version_minor": 0
      },
      "text/plain": [
       "  0%|          | 0/7 [00:00<?, ?it/s]"
      ]
     },
     "metadata": {},
     "output_type": "display_data"
    },
    {
     "data": {
      "application/vnd.jupyter.widget-view+json": {
       "model_id": "04efe95cdf81473f8251825975baabba",
       "version_major": 2,
       "version_minor": 0
      },
      "text/plain": [
       "  0%|          | 0/7 [00:00<?, ?it/s]"
      ]
     },
     "metadata": {},
     "output_type": "display_data"
    },
    {
     "name": "stdout",
     "output_type": "stream",
     "text": [
      "Filtering away by face and skeletal length\n",
      "\n",
      "Number of segments: 7\n",
      "\n"
     ]
    },
    {
     "data": {
      "application/vnd.jupyter.widget-view+json": {
       "model_id": "923d8457b07c4c28bb716bc8ecc64855",
       "version_major": 2,
       "version_minor": 0
      },
      "text/plain": [
       "  0%|          | 0/7 [00:00<?, ?it/s]"
      ]
     },
     "metadata": {},
     "output_type": "display_data"
    },
    {
     "data": {
      "application/vnd.jupyter.widget-view+json": {
       "model_id": "6e0ac273438247a08cd18c2a3cdfce0b",
       "version_major": 2,
       "version_minor": 0
      },
      "text/plain": [
       "  0%|          | 0/7 [00:00<?, ?it/s]"
      ]
     },
     "metadata": {},
     "output_type": "display_data"
    },
    {
     "name": "stdout",
     "output_type": "stream",
     "text": [
      "Filtering away by face and skeletal length\n",
      "\n",
      "Number of segments: 5\n",
      "\n"
     ]
    },
    {
     "data": {
      "application/vnd.jupyter.widget-view+json": {
       "model_id": "fe979f1429c6442c850258f2284b4fae",
       "version_major": 2,
       "version_minor": 0
      },
      "text/plain": [
       "  0%|          | 0/5 [00:00<?, ?it/s]"
      ]
     },
     "metadata": {},
     "output_type": "display_data"
    },
    {
     "data": {
      "application/vnd.jupyter.widget-view+json": {
       "model_id": "18a4d4a3aa424a5d810f11057c0efeb6",
       "version_major": 2,
       "version_minor": 0
      },
      "text/plain": [
       "  0%|          | 0/5 [00:00<?, ?it/s]"
      ]
     },
     "metadata": {},
     "output_type": "display_data"
    },
    {
     "name": "stdout",
     "output_type": "stream",
     "text": [
      "Filtering away by face and skeletal length\n",
      "\n",
      "Number of segments: 5\n",
      "\n"
     ]
    },
    {
     "data": {
      "application/vnd.jupyter.widget-view+json": {
       "model_id": "d0f49053903f4cd09c28e6875c2aa001",
       "version_major": 2,
       "version_minor": 0
      },
      "text/plain": [
       "  0%|          | 0/5 [00:00<?, ?it/s]"
      ]
     },
     "metadata": {},
     "output_type": "display_data"
    },
    {
     "data": {
      "application/vnd.jupyter.widget-view+json": {
       "model_id": "09afca8ddd0c47ff92229321ce7fcae5",
       "version_major": 2,
       "version_minor": 0
      },
      "text/plain": [
       "  0%|          | 0/5 [00:00<?, ?it/s]"
      ]
     },
     "metadata": {},
     "output_type": "display_data"
    },
    {
     "name": "stdout",
     "output_type": "stream",
     "text": [
      "Filtering away by face and skeletal length\n",
      "\n",
      "Number of segments: 78\n",
      "\n"
     ]
    },
    {
     "data": {
      "application/vnd.jupyter.widget-view+json": {
       "model_id": "c04a4b8556454af1a0c72dbc2c918bd3",
       "version_major": 2,
       "version_minor": 0
      },
      "text/plain": [
       "  0%|          | 0/78 [00:00<?, ?it/s]"
      ]
     },
     "metadata": {},
     "output_type": "display_data"
    },
    {
     "data": {
      "application/vnd.jupyter.widget-view+json": {
       "model_id": "74542858adc743439b0ead3af63e7e7f",
       "version_major": 2,
       "version_minor": 0
      },
      "text/plain": [
       "  0%|          | 0/78 [00:00<?, ?it/s]"
      ]
     },
     "metadata": {},
     "output_type": "display_data"
    },
    {
     "name": "stdout",
     "output_type": "stream",
     "text": [
      "Filtering away by face and skeletal length\n",
      "\n",
      "Number of segments: 10\n",
      "\n"
     ]
    },
    {
     "data": {
      "application/vnd.jupyter.widget-view+json": {
       "model_id": "8d342a8788a2420b8b5f90dc9bb82785",
       "version_major": 2,
       "version_minor": 0
      },
      "text/plain": [
       "  0%|          | 0/10 [00:00<?, ?it/s]"
      ]
     },
     "metadata": {},
     "output_type": "display_data"
    },
    {
     "data": {
      "application/vnd.jupyter.widget-view+json": {
       "model_id": "83e03ee8758944ce813e232307d27488",
       "version_major": 2,
       "version_minor": 0
      },
      "text/plain": [
       "  0%|          | 0/10 [00:00<?, ?it/s]"
      ]
     },
     "metadata": {},
     "output_type": "display_data"
    },
    {
     "name": "stdout",
     "output_type": "stream",
     "text": [
      "Filtering away by face and skeletal length\n",
      "\n",
      "Number of segments: 134\n",
      "\n"
     ]
    },
    {
     "data": {
      "application/vnd.jupyter.widget-view+json": {
       "model_id": "83e2cc783d8344f9aff18198a01d534b",
       "version_major": 2,
       "version_minor": 0
      },
      "text/plain": [
       "  0%|          | 0/134 [00:00<?, ?it/s]"
      ]
     },
     "metadata": {},
     "output_type": "display_data"
    },
    {
     "data": {
      "application/vnd.jupyter.widget-view+json": {
       "model_id": "fad2ca4960d445ffa24819c9f2fb2a93",
       "version_major": 2,
       "version_minor": 0
      },
      "text/plain": [
       "  0%|          | 0/134 [00:00<?, ?it/s]"
      ]
     },
     "metadata": {},
     "output_type": "display_data"
    },
    {
     "name": "stdout",
     "output_type": "stream",
     "text": [
      "Filtering away by face and skeletal length\n",
      "\n",
      "Number of segments: 120\n",
      "\n"
     ]
    },
    {
     "data": {
      "application/vnd.jupyter.widget-view+json": {
       "model_id": "c3970dc59bf74730916c65f794c60669",
       "version_major": 2,
       "version_minor": 0
      },
      "text/plain": [
       "  0%|          | 0/120 [00:00<?, ?it/s]"
      ]
     },
     "metadata": {},
     "output_type": "display_data"
    },
    {
     "data": {
      "application/vnd.jupyter.widget-view+json": {
       "model_id": "d946130fb59d47b9832b2b121c6f2df4",
       "version_major": 2,
       "version_minor": 0
      },
      "text/plain": [
       "  0%|          | 0/120 [00:00<?, ?it/s]"
      ]
     },
     "metadata": {},
     "output_type": "display_data"
    },
    {
     "name": "stdout",
     "output_type": "stream",
     "text": [
      "Filtering away by face and skeletal length\n",
      "\n",
      "Number of segments: 19\n",
      "\n"
     ]
    },
    {
     "data": {
      "application/vnd.jupyter.widget-view+json": {
       "model_id": "fc386320ef0244f5a28e1302bb766683",
       "version_major": 2,
       "version_minor": 0
      },
      "text/plain": [
       "  0%|          | 0/19 [00:00<?, ?it/s]"
      ]
     },
     "metadata": {},
     "output_type": "display_data"
    },
    {
     "data": {
      "application/vnd.jupyter.widget-view+json": {
       "model_id": "55142c951ccd44fc9d0bf706b46d7e0c",
       "version_major": 2,
       "version_minor": 0
      },
      "text/plain": [
       "  0%|          | 0/19 [00:00<?, ?it/s]"
      ]
     },
     "metadata": {},
     "output_type": "display_data"
    },
    {
     "name": "stdout",
     "output_type": "stream",
     "text": [
      "Filtering away by face and skeletal length\n",
      "\n",
      "Number of segments: 19\n",
      "\n"
     ]
    },
    {
     "data": {
      "application/vnd.jupyter.widget-view+json": {
       "model_id": "7b071dbf732b4d45972e36483a15d116",
       "version_major": 2,
       "version_minor": 0
      },
      "text/plain": [
       "  0%|          | 0/19 [00:00<?, ?it/s]"
      ]
     },
     "metadata": {},
     "output_type": "display_data"
    },
    {
     "data": {
      "application/vnd.jupyter.widget-view+json": {
       "model_id": "0086de258bef4d038295972765b3c660",
       "version_major": 2,
       "version_minor": 0
      },
      "text/plain": [
       "  0%|          | 0/19 [00:00<?, ?it/s]"
      ]
     },
     "metadata": {},
     "output_type": "display_data"
    },
    {
     "name": "stdout",
     "output_type": "stream",
     "text": [
      "Filtering away by face and skeletal length\n"
     ]
    },
    {
     "data": {
      "application/vnd.jupyter.widget-view+json": {
       "model_id": "1ce1073a4b1442dcb7831ff545edf359",
       "version_major": 2,
       "version_minor": 0
      },
      "text/plain": [
       "  0%|          | 0/1 [00:00<?, ?it/s]"
      ]
     },
     "metadata": {},
     "output_type": "display_data"
    },
    {
     "data": {
      "application/vnd.jupyter.widget-view+json": {
       "model_id": "fdbac7762c0d4bad97aa86eebe55a0c1",
       "version_major": 2,
       "version_minor": 0
      },
      "text/plain": [
       "  0%|          | 0/1 [00:00<?, ?it/s]"
      ]
     },
     "metadata": {},
     "output_type": "display_data"
    },
    {
     "name": "stdout",
     "output_type": "stream",
     "text": [
      "There was only one mesh found from the spine process and mesh split, returning empty array\n",
      "Filtering away by face and skeletal length\n",
      "width_name BEFORE processing = no_spine_median_mesh_center\n",
      "After processing\n",
      "width_name = no_spine_median_mesh_center, distance_by_mesh_center= True, no_spines = True, summary_measure= median\n",
      "Working on limb L0 branch 6\n",
      "    No spines and using precomputed width: 594.576590322714\n",
      "Working on limb L0 branch 3\n",
      "    current_width= 417.1785486024435\n",
      "Working on limb L0 branch 7\n",
      "    No spines and using precomputed width: 371.4952480955216\n",
      "Working on limb L0 branch 0\n",
      "    current_width= 261.67118520971894\n",
      "Working on limb L0 branch 1\n",
      "    current_width= 277.7069504096059\n",
      "Working on limb L0 branch 2\n",
      "    current_width= 297.7083314354271\n",
      "Working on limb L0 branch 4\n",
      "    current_width= 301.21669775687826\n",
      "Working on limb L0 branch 8\n",
      "    No spines and using precomputed width: 306.9598245368222\n",
      "Working on limb L0 branch 5\n",
      "    current_width= 234.37180863118644\n",
      "Working on limb L0 branch 9\n",
      "    current_width= 279.3123808730818\n",
      "Working on limb L1 branch 17\n",
      "    current_width= 186.74385817318597\n",
      "Working on limb L1 branch 15\n",
      "    No spines and using precomputed width: 81.06732888550147\n",
      "Working on limb L1 branch 16\n",
      "    No spines and using precomputed width: 180.79969247866023\n",
      "Working on limb L1 branch 18\n",
      "    No spines and using precomputed width: 83.6230371949197\n",
      "Working on limb L1 branch 4\n",
      "    No spines and using precomputed width: 67.0560163730836\n",
      "Working on limb L1 branch 14\n",
      "    No spines and using precomputed width: 118.90605740060825\n",
      "Working on limb L1 branch 26\n",
      "    No spines and using precomputed width: 166.88235794997527\n",
      "Working on limb L1 branch 19\n",
      "    No spines and using precomputed width: 74.74432487535276\n",
      "Working on limb L1 branch 20\n",
      "    No spines and using precomputed width: 78.90931853911839\n",
      "Working on limb L1 branch 12\n",
      "    No spines and using precomputed width: 99.5458706842156\n",
      "Working on limb L1 branch 13\n",
      "    No spines and using precomputed width: 103.46347406090041\n",
      "Working on limb L1 branch 21\n",
      "    No spines and using precomputed width: 89.35632620500378\n",
      "Working on limb L1 branch 22\n",
      "    No spines and using precomputed width: 85.25609472650788\n",
      "Working on limb L1 branch 9\n",
      "    No spines and using precomputed width: 101.14976479212038\n",
      "Working on limb L1 branch 10\n",
      "    No spines and using precomputed width: 154.19361842656528\n",
      "Working on limb L1 branch 11\n",
      "    No spines and using precomputed width: 93.61085880218833\n",
      "Working on limb L1 branch 25\n",
      "    No spines and using precomputed width: 66.4711702516618\n",
      "Working on limb L1 branch 1\n",
      "    No spines and using precomputed width: 111.9796517426644\n",
      "Working on limb L1 branch 3\n",
      "    No spines and using precomputed width: 95.32640663158229\n",
      "Working on limb L1 branch 7\n",
      "    No spines and using precomputed width: 103.07901528419319\n",
      "Working on limb L1 branch 8\n",
      "    No spines and using precomputed width: 131.75016231242103\n",
      "Working on limb L1 branch 5\n",
      "    No spines and using precomputed width: 128.9270199927419\n",
      "Working on limb L1 branch 6\n",
      "    No spines and using precomputed width: 108.30020672887802\n",
      "Working on limb L1 branch 0\n",
      "    No spines and using precomputed width: 97.68811695225403\n",
      "Working on limb L1 branch 2\n",
      "    No spines and using precomputed width: 125.98586935524001\n",
      "Working on limb L1 branch 23\n",
      "    No spines and using precomputed width: 87.93425564048837\n",
      "Working on limb L1 branch 24\n",
      "    No spines and using precomputed width: 82.86915364065608\n",
      "Working on limb L4 branch 2\n",
      "    No spines and using precomputed width: 974.180823752099\n",
      "Working on limb L4 branch 0\n",
      "    current_width= 428.40439724621825\n",
      "Working on limb L4 branch 3\n",
      "    No spines and using precomputed width: 643.3381849395346\n",
      "Working on limb L4 branch 1\n",
      "    No spines and using precomputed width: 293.1976574163774\n",
      "Working on limb L4 branch 4\n",
      "    No spines and using precomputed width: 503.80747389804696\n",
      "Working on limb L4 branch 5\n",
      "    current_width= 257.16072799143166\n",
      "Working on limb L4 branch 6\n",
      "    current_width= 437.42341766430985\n",
      "Working on limb L5 branch 0\n",
      "    current_width= 329.6255313497485\n",
      "Working on limb L6 branch 0\n",
      "    current_width= 272.5035345034447\n",
      "Working on limb L2 branch 0\n",
      "    No spines and using precomputed width: 378.8904619852207\n",
      "Working on limb L2 branch 1\n",
      "    current_width= 277.28727682765725\n",
      "Working on limb L2 branch 2\n",
      "    current_width= 302.08559057144174\n",
      "Working on limb L3 branch 1\n",
      "    No spines and using precomputed width: 341.6228226856097\n",
      "Working on limb L3 branch 0\n",
      "    No spines and using precomputed width: 96.25067340356648\n",
      "Working on limb L3 branch 2\n",
      "    current_width= 331.9521063406744\n",
      "Working on limb L3 branch 3\n",
      "    No spines and using precomputed width: 69.00572062527482\n",
      "Working on limb L3 branch 4\n",
      "    current_width= 260.5391768200335\n",
      "Working on limb L7 branch 2\n",
      "    No spines and using precomputed width: 527.9843159720422\n",
      "Working on limb L7 branch 0\n",
      "    No spines and using precomputed width: 923.6162090064461\n",
      "Working on limb L7 branch 1\n",
      "    No spines and using precomputed width: 951.9726971651776\n",
      "Total time for neuron instance creation = 322.3436207771301\n"
     ]
    },
    {
     "data": {
      "text/plain": [
       "<neurd.neuron.Neuron at 0x7f86ff950730>"
      ]
     },
     "execution_count": 23,
     "metadata": {},
     "output_type": "execute_result"
    }
   ],
   "source": [
    "from neurd import neuron\n",
    "\n",
    "neuron_obj = neuron.Neuron(\n",
    "    mesh = mesh,\n",
    "    segment_id = segment_id, # don't need this explicitely if segment_id is already in products\n",
    "    pipeline_products = products,\n",
    "    suppress_preprocessing_print=False,\n",
    "    suppress_output=False,\n",
    ")\n",
    "\n",
    "neuron_obj"
   ]
  },
  {
   "cell_type": "code",
   "execution_count": 86,
   "id": "5467bcfe",
   "metadata": {
    "scrolled": false
   },
   "outputs": [
    {
     "name": "stdout",
     "output_type": "stream",
     "text": [
      "\n",
      " Working on visualization type: mesh\n",
      "\n",
      " Working on visualization type: skeleton\n"
     ]
    },
    {
     "data": {
      "application/vnd.jupyter.widget-view+json": {
       "model_id": "0656d257b4bc49c68c3845c092de6371",
       "version_major": 2,
       "version_minor": 0
      },
      "text/plain": [
       "Container(figure=Figure(box_center=[0.5, 0.5, 0.5], box_size=[1.0, 1.0, 1.0], camera=PerspectiveCamera(fov=45.…"
      ]
     },
     "metadata": {},
     "output_type": "display_data"
    }
   ],
   "source": [
    "nviz.visualize_neuron(\n",
    "    neuron_obj,\n",
    "    limb_branch_dict=\"all\"\n",
    ")"
   ]
  },
  {
   "cell_type": "code",
   "execution_count": 96,
   "id": "d2caf8bf",
   "metadata": {},
   "outputs": [
    {
     "name": "stdout",
     "output_type": "stream",
     "text": [
      "\n",
      " Working on visualization type: mesh\n"
     ]
    },
    {
     "data": {
      "application/vnd.jupyter.widget-view+json": {
       "model_id": "47b76ee6e1684a4dac2afc27fdeced07",
       "version_major": 2,
       "version_minor": 0
      },
      "text/plain": [
       "Container(figure=Figure(box_center=[0.5, 0.5, 0.5], box_size=[1.0, 1.0, 1.0], camera=PerspectiveCamera(fov=45.…"
      ]
     },
     "metadata": {},
     "output_type": "display_data"
    },
    {
     "data": {
      "image/png": "[encoded data removed]",
      "text/plain": [
       "<Figure size 640x480 with 1 Axes>"
      ]
     },
     "metadata": {},
     "output_type": "display_data"
    }
   ],
   "source": [
    "nviz.visualize_neuron_limbs(neuron_obj)"
   ]
  },
  {
   "cell_type": "code",
   "execution_count": 97,
   "id": "9b77a20e",
   "metadata": {},
   "outputs": [
    {
     "name": "stdout",
     "output_type": "stream",
     "text": [
      "limb_name = L2\n",
      "\n",
      " Working on visualization type: mesh\n",
      "\n",
      " Working on visualization type: skeleton\n"
     ]
    },
    {
     "data": {
      "application/vnd.jupyter.widget-view+json": {
       "model_id": "01b295d114034a66aacbb633e842d226",
       "version_major": 2,
       "version_minor": 0
      },
      "text/plain": [
       "Container(figure=Figure(box_center=[0.5, 0.5, 0.5], box_size=[1.0, 1.0, 1.0], camera=PerspectiveCamera(fov=45.…"
      ]
     },
     "metadata": {},
     "output_type": "display_data"
    },
    {
     "name": "stdout",
     "output_type": "stream",
     "text": [
      "No limb name was given so using L2 because was the limb in the first key\n"
     ]
    },
    {
     "data": {
      "image/png": "[encoded data removed]",
      "text/plain": [
       "<Figure size 4000x2000 with 1 Axes>"
      ]
     },
     "metadata": {},
     "output_type": "display_data"
    }
   ],
   "source": [
    "nviz.visualize_neuron_specific_limb(neuron_obj,\"L2\")"
   ]
  },
  {
   "cell_type": "code",
   "execution_count": 100,
   "id": "a00d7dee",
   "metadata": {},
   "outputs": [
    {
     "data": {
      "application/vnd.jupyter.widget-view+json": {
       "model_id": "cbcf305c21e84a11955c6d6402b3d249",
       "version_major": 2,
       "version_minor": 0
      },
      "text/plain": [
       "Container(figure=Figure(box_center=[0.5, 0.5, 0.5], box_size=[1.0, 1.0, 1.0], camera=PerspectiveCamera(fov=45.…"
      ]
     },
     "metadata": {},
     "output_type": "display_data"
    }
   ],
   "source": [
    "ipvu.plot_objects(neuron_obj[2][0].mesh)"
   ]
  },
  {
   "cell_type": "markdown",
   "id": "0d43b744",
   "metadata": {},
   "source": [
    "# Calculate statistics"
   ]
  },
  {
   "cell_type": "code",
   "execution_count": 25,
   "id": "cac08fd6",
   "metadata": {},
   "outputs": [
    {
     "data": {
      "text/plain": [
       "<python_tools.pipeline.StageProducts at 0x7f8680b5f910>"
      ]
     },
     "execution_count": 25,
     "metadata": {},
     "output_type": "execute_result"
    }
   ],
   "source": [
    "_ = neuron_obj.calculate_decomposition_products(\n",
    "    store_in_obj = True,\n",
    ")"
   ]
  },
  {
   "cell_type": "code",
   "execution_count": 26,
   "id": "fa148fc5",
   "metadata": {
    "scrolled": true
   },
   "outputs": [
    {
     "name": "stdout",
     "output_type": "stream",
     "text": [
      "{\n",
      "  'decimation':\n",
      "  {\n",
      "    'decimation_parameters':\n",
      "    {\n",
      "      'decimation_ratio':0.25,\n",
      "    },\n",
      "    'segment_id':864691135510518224,\n",
      "  },\n",
      "  'soma_identification':\n",
      "  {\n",
      "    'glia_meshes':[],\n",
      "    'nuclei_meshes':[<trimesh.Trimesh(vertices.shape=(6494, 3), faces.shape=(15575, 3))>, <trimesh.Trimesh(vertices.shape=(3256, 3), faces.shape=(5810, 3))>, <trimesh.Trimesh(vertices.shape=(2064, 3), faces.shape=(4789, 3))>, <trimesh.Trimesh(vertices.shape=(2022, 3), faces.shape=(4628, 3))>, <trimesh.Trimesh(vertices.shape=(1922, 3), faces.shape=(4396, 3))>, <trimesh.Trimesh(vertices.shape=(1089, 3), faces.shape=(2556, 3))>, <trimesh.Trimesh(vertices.shape=(864, 3), faces.shape=(1989, 3))>, <trimesh.Trimesh(vertices.shape=(723, 3), faces.shape=(1611, 3))>, <trimesh.Trimesh(vertices.shape=(693, 3), faces.shape=(1561, 3))>, <trimesh.Trimesh(vertices.shape=(612, 3), faces.shape=(1378, 3))>, <trimesh.Trimesh(vertices.shape=(456, 3), faces.shape=(742, 3))>, <trimesh.Trimesh(vertices.shape=(344, 3), faces.shape=(727, 3))>, <trimesh.Trimesh(vertices.shape=(363, 3), faces.shape=(876, 3))>, <trimesh.Trimesh(vertices.shape=(301, 3), faces.shape=(613, 3))>, <trimesh.Trimesh(vertices.shape=(253, 3), faces.shape=(632, 3))>, <trimesh.Trimesh(vertices.shape=(199, 3), faces.shape=(446, 3))>, <trimesh.Trimesh(vertices.shape=(176, 3), faces.shape=(418, 3))>, <trimesh.Trimesh(vertices.shape=(145, 3), faces.shape=(317, 3))>],\n",
      "    'soma_extraction_parameters':\n",
      "    {\n",
      "    },\n",
      "    'soma_meshes':[<trimesh.Trimesh(vertices.shape=(11386, 3), faces.shape=(22560, 3))>, <trimesh.Trimesh(vertices.shape=(5708, 3), faces.shape=(10517, 3))>],\n",
      "    'soma_run_time':107.70807600021362,\n",
      "    'soma_sdfs':array([0.769893 , 0.3351845]),\n",
      "  },\n",
      "  'decomposition':\n",
      "  {\n",
      "    'bbox_volume':1.9831561263199315,\n",
      "    'bbox_x_max':1564397.9821680577,\n",
      "    'bbox_x_max_soma_relative':75517.22158488538,\n",
      "    'bbox_x_min':1430458.6668303611,\n",
      "    'bbox_x_min_soma_relative':-58422.0937528112,\n",
      "    'bbox_y_max':659939.5309021459,\n",
      "    'bbox_y_max_soma_relative':70639.43716421863,\n",
      "    'bbox_y_min':502584.2072704911,\n",
      "    'bbox_y_min_soma_relative':-86715.88646743615,\n",
      "    'bbox_z_max':1114270.0,\n",
      "    'bbox_z_max_soma_relative':13617.686544879572,\n",
      "    'bbox_z_min':1020174.8170965186,\n",
      "    'bbox_z_min_soma_relative':-80477.49635860184,\n",
      "    'branch_length_mean':29.283143146911005,\n",
      "    'branch_length_median':16.735647518195066,\n",
      "    'centroid_volume':440.7405976697012,\n",
      "    'centroid_x':372220,\n",
      "    'centroid_x_nm':1488880.7605831723,\n",
      "    'centroid_y':147325,\n",
      "    'centroid_y_nm':589300.0937379273,\n",
      "    'centroid_z':27516,\n",
      "    'centroid_z_nm':1100652.3134551204,\n",
      "    'max_limb_n_branches':27,\n",
      "    'max_limb_skeletal_length':604558.5039643556,\n",
      "    'max_soma_area':341.07163148783616,\n",
      "    'median_branch_length':14983.573,\n",
      "    'n_branches':57,\n",
      "    'n_error_limbs':1,\n",
      "    'n_faces':323535,\n",
      "    'n_limbs':8,\n",
      "    'n_long_branches':3,\n",
      "    'n_medium_branches':43,\n",
      "    'n_multi_soma_touching_limbs':1,\n",
      "    'n_not_processed_soma_containing_meshes':0,\n",
      "    'n_same_soma_multi_touching_limbs':0,\n",
      "    'n_short_branches':9,\n",
      "    'n_somas':2,\n",
      "    'n_spine_eligible_branches':35,\n",
      "    'n_spines':402,\n",
      "    'n_vertices':154713,\n",
      "    'skeletal_length':1548738.8847235115,\n",
      "    'skeletal_length_eligible':1028454.72,\n",
      "    'skeleton':array([[[1469972.26898917,  644331.51215205, 1105781.49225862],\n",
      "        [1469922.99793769,  644306.57306289, 1105698.12317519]],\n",
      "\n",
      "       [[1469922.99793769,  644306.57306289, 1105698.12317519],\n",
      "        [1469873.03503235,  644278.96793629, 1105616.01554459]],\n",
      "\n",
      "       [[1469873.03503235,  644278.96793629, 1105616.01554459],\n",
      "        [1469822.34841942,  644249.02047451, 1105535.18233182]],\n",
      "\n",
      "       ...,\n",
      "\n",
      "       [[1472182.71408549,  577993.08644009, 1112354.27575333],\n",
      "        [1475123.88888889,  571587.50555556, 1113243.55555556]],\n",
      "\n",
      "       [[1472182.71408549,  577993.08644009, 1112354.27575333],\n",
      "        [1474890.        ,  582887.        , 1113480.        ]],\n",
      "\n",
      "       [[1472182.71408549,  577993.08644009, 1112354.27575333],\n",
      "        [1468163.64444444,  578622.88333333, 1112816.05555556]]]),\n",
      "    'spine_density':0.00025956602753715124,\n",
      "    'spine_density_eligible':0.00039087768492131577,\n",
      "    'spine_volume_density':23489.432966494827,\n",
      "    'spine_volume_density_eligible':35372.48408497449,\n",
      "    'spine_volume_median':64105155.88328934,\n",
      "    'spine_volume_per_branch_eligible':1039399949.0090542,\n",
      "    'spines_per_branch':7.052631578947368,\n",
      "    'spines_per_branch_eligible':11.486,\n",
      "    'total_spine_volume':36378998215.316895,\n",
      "    'width_90_perc':513.478,\n",
      "    'width_median':186.744,\n",
      "    'width_no_spine_90_perc':513.478,\n",
      "    'width_no_spine_median':186.744,\n",
      "  },\n",
      "}\n",
      "\n"
     ]
    }
   ],
   "source": [
    "print(neuron_obj.pipeline_products)"
   ]
  },
  {
   "cell_type": "markdown",
   "id": "d090f774",
   "metadata": {},
   "source": [
    "# Saving off neuron"
   ]
  },
  {
   "cell_type": "code",
   "execution_count": 27,
   "id": "9486c4e6",
   "metadata": {
    "scrolled": true
   },
   "outputs": [
    {
     "name": "stdout",
     "output_type": "stream",
     "text": [
      "Total time for soma meshes compression = 0.26013970375061035\n",
      "Total time for insignificant_limbs,inside_pieces,non_soma_touching_meshes,not_processed_soma_containing_meshes compression = 1.0219955444335938\n",
      "Total time for limb_meshes compression = 0.9331722259521484\n",
      "    Starting Limb Correspondence Compression\n"
     ]
    },
    {
     "data": {
      "application/vnd.jupyter.widget-view+json": {
       "model_id": "4fcd4f26388341f589c078de7f946614",
       "version_major": 2,
       "version_minor": 0
      },
      "text/plain": [
       "  0%|          | 0/10 [00:00<?, ?it/s]"
      ]
     },
     "metadata": {},
     "output_type": "display_data"
    },
    {
     "data": {
      "application/vnd.jupyter.widget-view+json": {
       "model_id": "c1e90f46b9f14ed3a673bca17d46136f",
       "version_major": 2,
       "version_minor": 0
      },
      "text/plain": [
       "  0%|          | 0/27 [00:00<?, ?it/s]"
      ]
     },
     "metadata": {},
     "output_type": "display_data"
    },
    {
     "data": {
      "application/vnd.jupyter.widget-view+json": {
       "model_id": "9ef4ce6e8b2e4b6ca67e2a8f0c58983a",
       "version_major": 2,
       "version_minor": 0
      },
      "text/plain": [
       "  0%|          | 0/3 [00:00<?, ?it/s]"
      ]
     },
     "metadata": {},
     "output_type": "display_data"
    },
    {
     "data": {
      "application/vnd.jupyter.widget-view+json": {
       "model_id": "5350f4f00c6944a98e77d299d904e63a",
       "version_major": 2,
       "version_minor": 0
      },
      "text/plain": [
       "  0%|          | 0/5 [00:00<?, ?it/s]"
      ]
     },
     "metadata": {},
     "output_type": "display_data"
    },
    {
     "data": {
      "application/vnd.jupyter.widget-view+json": {
       "model_id": "271f57370fe64677a3747d706ff5c0c2",
       "version_major": 2,
       "version_minor": 0
      },
      "text/plain": [
       "  0%|          | 0/7 [00:00<?, ?it/s]"
      ]
     },
     "metadata": {},
     "output_type": "display_data"
    },
    {
     "data": {
      "application/vnd.jupyter.widget-view+json": {
       "model_id": "5fa25c8622004ff6b6877d6fefef49c5",
       "version_major": 2,
       "version_minor": 0
      },
      "text/plain": [
       "  0%|          | 0/1 [00:00<?, ?it/s]"
      ]
     },
     "metadata": {},
     "output_type": "display_data"
    },
    {
     "data": {
      "application/vnd.jupyter.widget-view+json": {
       "model_id": "4632de8d650d4e4b8ca4214260939122",
       "version_major": 2,
       "version_minor": 0
      },
      "text/plain": [
       "  0%|          | 0/1 [00:00<?, ?it/s]"
      ]
     },
     "metadata": {},
     "output_type": "display_data"
    },
    {
     "data": {
      "application/vnd.jupyter.widget-view+json": {
       "model_id": "7a0778e6e0954077b2da13419bb0e9c9",
       "version_major": 2,
       "version_minor": 0
      },
      "text/plain": [
       "  0%|          | 0/3 [00:00<?, ?it/s]"
      ]
     },
     "metadata": {},
     "output_type": "display_data"
    },
    {
     "name": "stdout",
     "output_type": "stream",
     "text": [
      "Total time for new_limb_correspondence compression = 5.960491418838501\n",
      "Cleared mesh: <trimesh.Trimesh(vertices.shape=(6494, 3), faces.shape=(15575, 3))>:140215638046752\n",
      "Cleared mesh: <trimesh.Trimesh(vertices.shape=(3256, 3), faces.shape=(5810, 3))>:140215638074224\n",
      "Cleared mesh: <trimesh.Trimesh(vertices.shape=(2064, 3), faces.shape=(4789, 3))>:140215638077056\n",
      "Cleared mesh: <trimesh.Trimesh(vertices.shape=(2022, 3), faces.shape=(4628, 3))>:140215637965264\n",
      "Cleared mesh: <trimesh.Trimesh(vertices.shape=(1922, 3), faces.shape=(4396, 3))>:140215637966224\n",
      "Cleared mesh: <trimesh.Trimesh(vertices.shape=(1089, 3), faces.shape=(2556, 3))>:140215638075712\n",
      "Cleared mesh: <trimesh.Trimesh(vertices.shape=(864, 3), faces.shape=(1989, 3))>:140215638047520\n",
      "Cleared mesh: <trimesh.Trimesh(vertices.shape=(723, 3), faces.shape=(1611, 3))>:140215128618944\n",
      "Cleared mesh: <trimesh.Trimesh(vertices.shape=(693, 3), faces.shape=(1561, 3))>:140215128640528\n",
      "Cleared mesh: <trimesh.Trimesh(vertices.shape=(612, 3), faces.shape=(1378, 3))>:140215637977600\n",
      "Cleared mesh: <trimesh.Trimesh(vertices.shape=(456, 3), faces.shape=(742, 3))>:140215638017360\n",
      "Cleared mesh: <trimesh.Trimesh(vertices.shape=(344, 3), faces.shape=(727, 3))>:140215637893280\n",
      "Cleared mesh: <trimesh.Trimesh(vertices.shape=(363, 3), faces.shape=(876, 3))>:140217791724704\n",
      "Cleared mesh: <trimesh.Trimesh(vertices.shape=(301, 3), faces.shape=(613, 3))>:140217791743984\n",
      "Cleared mesh: <trimesh.Trimesh(vertices.shape=(253, 3), faces.shape=(632, 3))>:140217791726400\n",
      "Cleared mesh: <trimesh.Trimesh(vertices.shape=(199, 3), faces.shape=(446, 3))>:140217791742064\n",
      "Cleared mesh: <trimesh.Trimesh(vertices.shape=(176, 3), faces.shape=(418, 3))>:140217957345264\n",
      "Cleared mesh: <trimesh.Trimesh(vertices.shape=(145, 3), faces.shape=(317, 3))>:140217790303296\n",
      "Cleared mesh: <trimesh.Trimesh(vertices.shape=(11386, 3), faces.shape=(22560, 3))>:140217789730624\n",
      "Cleared mesh: <trimesh.Trimesh(vertices.shape=(5708, 3), faces.shape=(10517, 3))>:140217786693760\n",
      "Total time for compression = 24.27175736427307\n",
      "\n",
      "\n",
      "---Finished outputing neuron at location: /neurd_packages/NEURD/Applications/Tutorials/Auto_Proof_Pipeline/Double_Soma/864691135510518224---\n",
      "saved neuron filepath = 864691135510518224\n"
     ]
    },
    {
     "data": {
      "text/plain": [
       "'864691135510518224.pbz2'"
      ]
     },
     "execution_count": 27,
     "metadata": {},
     "output_type": "execute_result"
    }
   ],
   "source": [
    "vdi.save_neuron_obj(\n",
    "    neuron_obj,\n",
    "    verbose = True\n",
    ")"
   ]
  },
  {
   "cell_type": "markdown",
   "id": "aa2fc99c",
   "metadata": {},
   "source": [
    "# Reloading the Neuron"
   ]
  },
  {
   "cell_type": "code",
   "execution_count": 28,
   "id": "e6ce238a",
   "metadata": {},
   "outputs": [
    {
     "name": "stdout",
     "output_type": "stream",
     "text": [
      "Decompressing Neuron in minimal output mode...please wait\n"
     ]
    }
   ],
   "source": [
    "neuron_obj_rec = vdi.load_neuron_obj(\n",
    "    segment_id = segment_id,\n",
    "    #mesh_decimated = mesh_decimated\n",
    ")"
   ]
  },
  {
   "cell_type": "code",
   "execution_count": 29,
   "id": "84734850",
   "metadata": {},
   "outputs": [
    {
     "name": "stdout",
     "output_type": "stream",
     "text": [
      "{\n",
      "  'decimation':\n",
      "  {\n",
      "    'decimation_parameters':\n",
      "    {\n",
      "      'decimation_ratio':0.25,\n",
      "    },\n",
      "    'segment_id':864691135510518224,\n",
      "  },\n",
      "  'soma_identification':\n",
      "  {\n",
      "    'glia_meshes':[],\n",
      "    'nuclei_meshes':[<trimesh.Trimesh(vertices.shape=(6494, 3), faces.shape=(15575, 3))>, <trimesh.Trimesh(vertices.shape=(3256, 3), faces.shape=(5810, 3))>, <trimesh.Trimesh(vertices.shape=(2064, 3), faces.shape=(4789, 3))>, <trimesh.Trimesh(vertices.shape=(2022, 3), faces.shape=(4628, 3))>, <trimesh.Trimesh(vertices.shape=(1922, 3), faces.shape=(4396, 3))>, <trimesh.Trimesh(vertices.shape=(1089, 3), faces.shape=(2556, 3))>, <trimesh.Trimesh(vertices.shape=(864, 3), faces.shape=(1989, 3))>, <trimesh.Trimesh(vertices.shape=(723, 3), faces.shape=(1611, 3))>, <trimesh.Trimesh(vertices.shape=(693, 3), faces.shape=(1561, 3))>, <trimesh.Trimesh(vertices.shape=(612, 3), faces.shape=(1378, 3))>, <trimesh.Trimesh(vertices.shape=(456, 3), faces.shape=(742, 3))>, <trimesh.Trimesh(vertices.shape=(344, 3), faces.shape=(727, 3))>, <trimesh.Trimesh(vertices.shape=(363, 3), faces.shape=(876, 3))>, <trimesh.Trimesh(vertices.shape=(301, 3), faces.shape=(613, 3))>, <trimesh.Trimesh(vertices.shape=(253, 3), faces.shape=(632, 3))>, <trimesh.Trimesh(vertices.shape=(199, 3), faces.shape=(446, 3))>, <trimesh.Trimesh(vertices.shape=(176, 3), faces.shape=(418, 3))>, <trimesh.Trimesh(vertices.shape=(145, 3), faces.shape=(317, 3))>],\n",
      "    'soma_extraction_parameters':\n",
      "    {\n",
      "    },\n",
      "    'soma_meshes':[<trimesh.Trimesh(vertices.shape=(11386, 3), faces.shape=(22560, 3))>, <trimesh.Trimesh(vertices.shape=(5708, 3), faces.shape=(10517, 3))>],\n",
      "    'soma_run_time':107.70807600021362,\n",
      "    'soma_sdfs':array([0.769893 , 0.3351845]),\n",
      "  },\n",
      "  'decomposition':\n",
      "  {\n",
      "    'bbox_volume':1.9831561263199315,\n",
      "    'bbox_x_max':1564397.9821680577,\n",
      "    'bbox_x_max_soma_relative':75517.22158488538,\n",
      "    'bbox_x_min':1430458.6668303611,\n",
      "    'bbox_x_min_soma_relative':-58422.0937528112,\n",
      "    'bbox_y_max':659939.5309021459,\n",
      "    'bbox_y_max_soma_relative':70639.43716421863,\n",
      "    'bbox_y_min':502584.2072704911,\n",
      "    'bbox_y_min_soma_relative':-86715.88646743615,\n",
      "    'bbox_z_max':1114270.0,\n",
      "    'bbox_z_max_soma_relative':13617.686544879572,\n",
      "    'bbox_z_min':1020174.8170965186,\n",
      "    'bbox_z_min_soma_relative':-80477.49635860184,\n",
      "    'branch_length_mean':29.283143146911005,\n",
      "    'branch_length_median':16.735647518195066,\n",
      "    'centroid_volume':440.7405976697012,\n",
      "    'centroid_x':372220,\n",
      "    'centroid_x_nm':1488880.7605831723,\n",
      "    'centroid_y':147325,\n",
      "    'centroid_y_nm':589300.0937379273,\n",
      "    'centroid_z':27516,\n",
      "    'centroid_z_nm':1100652.3134551204,\n",
      "    'max_limb_n_branches':27,\n",
      "    'max_limb_skeletal_length':604558.5039643556,\n",
      "    'max_soma_area':341.07163148783616,\n",
      "    'median_branch_length':14983.573,\n",
      "    'n_branches':57,\n",
      "    'n_error_limbs':1,\n",
      "    'n_faces':323535,\n",
      "    'n_limbs':8,\n",
      "    'n_long_branches':3,\n",
      "    'n_medium_branches':43,\n",
      "    'n_multi_soma_touching_limbs':1,\n",
      "    'n_not_processed_soma_containing_meshes':0,\n",
      "    'n_same_soma_multi_touching_limbs':0,\n",
      "    'n_short_branches':9,\n",
      "    'n_somas':2,\n",
      "    'n_spine_eligible_branches':35,\n",
      "    'n_spines':402,\n",
      "    'n_vertices':154713,\n",
      "    'skeletal_length':1548738.8847235115,\n",
      "    'skeletal_length_eligible':1028454.72,\n",
      "    'skeleton':array([[[1469972.26898917,  644331.51215205, 1105781.49225862],\n",
      "        [1469922.99793769,  644306.57306289, 1105698.12317519]],\n",
      "\n",
      "       [[1469922.99793769,  644306.57306289, 1105698.12317519],\n",
      "        [1469873.03503235,  644278.96793629, 1105616.01554459]],\n",
      "\n",
      "       [[1469873.03503235,  644278.96793629, 1105616.01554459],\n",
      "        [1469822.34841942,  644249.02047451, 1105535.18233182]],\n",
      "\n",
      "       ...,\n",
      "\n",
      "       [[1472182.71408549,  577993.08644009, 1112354.27575333],\n",
      "        [1475123.88888889,  571587.50555556, 1113243.55555556]],\n",
      "\n",
      "       [[1472182.71408549,  577993.08644009, 1112354.27575333],\n",
      "        [1474890.        ,  582887.        , 1113480.        ]],\n",
      "\n",
      "       [[1472182.71408549,  577993.08644009, 1112354.27575333],\n",
      "        [1468163.64444444,  578622.88333333, 1112816.05555556]]]),\n",
      "    'spine_density':0.00025956602753715124,\n",
      "    'spine_density_eligible':0.00039087768492131577,\n",
      "    'spine_volume_density':23489.432966494827,\n",
      "    'spine_volume_density_eligible':35372.48408497449,\n",
      "    'spine_volume_median':64105155.88328934,\n",
      "    'spine_volume_per_branch_eligible':1039399949.0090542,\n",
      "    'spines_per_branch':7.052631578947368,\n",
      "    'spines_per_branch_eligible':11.486,\n",
      "    'total_spine_volume':36378998215.316895,\n",
      "    'width_90_perc':513.478,\n",
      "    'width_median':186.744,\n",
      "    'width_no_spine_90_perc':513.478,\n",
      "    'width_no_spine_median':186.744,\n",
      "  },\n",
      "}\n",
      "\n"
     ]
    }
   ],
   "source": [
    "print(neuron_obj_rec.pipeline_products)"
   ]
  },
  {
   "cell_type": "markdown",
   "id": "06b5f069",
   "metadata": {},
   "source": [
    "# Step 4A: Multi Soma Split Suggestions"
   ]
  },
  {
   "cell_type": "code",
   "execution_count": 30,
   "id": "0729b033",
   "metadata": {},
   "outputs": [
    {
     "data": {
      "image/png": "[encoded data removed]",
      "text/plain": [
       "<Figure size 640x480 with 1 Axes>"
      ]
     },
     "metadata": {},
     "output_type": "display_data"
    }
   ],
   "source": [
    "from neurd import neuron_visualizations as nviz\n",
    "nviz.plot_soma_limb_concept_network(\n",
    "    neuron_obj\n",
    ")"
   ]
  },
  {
   "cell_type": "code",
   "execution_count": 31,
   "id": "3ea8a7ec",
   "metadata": {},
   "outputs": [],
   "source": [
    "multi_soma_split_parameters = dict()"
   ]
  },
  {
   "cell_type": "code",
   "execution_count": 104,
   "id": "6b654969",
   "metadata": {},
   "outputs": [
    {
     "name": "stdout",
     "output_type": "stream",
     "text": [
      "n_paths_multi_soma = 1\n",
      "n_paths_multi_touch = 0\n",
      "n_paths_cut = 1\n",
      "\n",
      "\n",
      "-------- Suggestions for Limb 4------\n"
     ]
    },
    {
     "data": {
      "application/vnd.jupyter.widget-view+json": {
       "model_id": "75ddd3dcc5334a51a44d77521388fd91",
       "version_major": 2,
       "version_minor": 0
      },
      "text/plain": [
       "HBox(children=(FloatSlider(value=1.0, description='Size', max=3.0), Dropdown(description='Geo', index=3, optio…"
      ]
     },
     "metadata": {},
     "output_type": "display_data"
    },
    {
     "data": {
      "application/vnd.jupyter.widget-view+json": {
       "model_id": "111cceee292f4c0ab931aa5582a42c8e",
       "version_major": 2,
       "version_minor": 0
      },
      "text/plain": [
       "HBox(children=(FloatSlider(value=0.3, description='Size', max=3.0), Dropdown(description='Geo', index=3, optio…"
      ]
     },
     "metadata": {},
     "output_type": "display_data"
    },
    {
     "data": {
      "application/vnd.jupyter.widget-view+json": {
       "model_id": "ff074c1711bb4030ad9899a913ac4ef5",
       "version_major": 2,
       "version_minor": 0
      },
      "text/plain": [
       "HBox(children=(FloatSlider(value=0.3, description='Size', max=3.0), Dropdown(description='Geo', index=3, optio…"
      ]
     },
     "metadata": {},
     "output_type": "display_data"
    },
    {
     "data": {
      "application/vnd.jupyter.widget-view+json": {
       "model_id": "a440d96bdb594e129f0b39862736dc65",
       "version_major": 2,
       "version_minor": 0
      },
      "text/plain": [
       "Container(figure=Figure(box_center=[0.5, 0.5, 0.5], box_size=[1.0, 1.0, 1.0], camera=PerspectiveCamera(fov=45.…"
      ]
     },
     "metadata": {},
     "output_type": "display_data"
    }
   ],
   "source": [
    "_ = neuron_obj.calculate_multi_soma_split_suggestions(\n",
    "    plot = True,\n",
    "    store_in_obj = True,\n",
    "    **multi_soma_split_parameters\n",
    ")\n"
   ]
  },
  {
   "cell_type": "code",
   "execution_count": 105,
   "id": "95f8984f",
   "metadata": {},
   "outputs": [
    {
     "name": "stdout",
     "output_type": "stream",
     "text": [
      "    multi_soma_split_parameters:{}\n",
      "    n_paths_cut:1\n",
      "    red_blue_split_results:{4: [{'S0_0': {0: [{'error_branches': array([1., 2., 4., 5., 6.]), 'error_branches_skeleton_length': 71314.8681393928, 'valid_branches': array([0]), 'parent_branch': 0, 'parent_branch_width': 428.40439724621825, 'parent_branch_axon': False, 'n_error_branches': 5, 'valid_points': array([[1491700.66666667,  587848.86666667, 1110594.33333333],\n",
      "       [1489989.33333333,  587939.06666667, 1113021.66666667]]), 'error_points': array([[1493550.        ,  586432.9       , 1108461.        ],\n",
      "       [1492642.        ,  586538.9       , 1107802.66666667],\n",
      "       [1492624.        ,  587993.        , 1106840.        ],\n",
      "       [1494101.66666667,  586228.96666667, 1111083.        ],\n",
      "       [1493232.        ,  585881.86666667, 1112968.        ],\n",
      "       [1491639.66666667,  585431.63333333, 1114106.66666667],\n",
      "       [1495465.33333333,  587016.3       , 1109645.66666667],\n",
      "       [1496905.        ,  586996.53333333, 1109881.33333333],\n",
      "       [1498234.        ,  586921.2       , 1110382.33333333]]), 'coordinate': array([[1494195. ,  586832.5, 1109355. ]]), 'error_branches_skeleton_points': array([[1491750.        ,  585509.        , 1114270.        ],\n",
      "       [1492700.        ,  587120.        , 1106540.        ],\n",
      "       [1492753.05440488,  585805.75496783, 1113196.94559512],\n",
      "       [1493313.14552783,  587120.89056677, 1107899.00114585],\n",
      "       [1493750.4598017 ,  585976.69348843, 1112096.13023135],\n",
      "       [1494079.31353562,  586870.33264255, 1109163.99415391],\n",
      "       [1494195.        ,  586832.5       , 1109355.        ],\n",
      "       [1494196.97788752,  586822.34647182, 1109381.24087248],\n",
      "       [1494302.16155544,  586282.38384787, 1110776.72529042],\n",
      "       [1495620.18565591,  586638.98344529, 1109780.90748906],\n",
      "       [1497065.9956833 ,  586741.53077106, 1110092.10818519],\n",
      "       [1498090.        ,  587075.        , 1110130.        ],\n",
      "       [1498926.15939095,  588291.70464487, 1110337.69923869],\n",
      "       [1499180.81450785,  586261.3986321 , 1109563.67419686],\n",
      "       [1499276.5728937 ,  589401.18417515, 1111259.15604326],\n",
      "       [1499490.        ,  592614.        , 1114000.        ],\n",
      "       [1499724.29336565,  592363.99250167, 1113765.70663435],\n",
      "       [1499761.27776661,  590420.36463692, 1112183.42423633],\n",
      "       [1500449.6848089 ,  591476.81949686, 1112820.78797775],\n",
      "       [1500511.58737222,  585820.31742995, 1109039.20631389],\n",
      "       [1501678.00178152,  585137.39907685, 1108399.99919022],\n",
      "       [1502888.50923577,  584582.43689485, 1107714.2029458 ],\n",
      "       [1504051.52043428,  583791.36610469, 1107211.39182629],\n",
      "       [1505152.22304241,  582903.11022941, 1106728.8884788 ],\n",
      "       [1506036.42270878,  581898.1931428 , 1106077.68296842],\n",
      "       [1506966.56376744,  580863.93555659, 1105535.62415504],\n",
      "       [1507844.428716  ,  579714.4069766 , 1105256.8035895 ],\n",
      "       [1508865.61538097,  578618.90513173, 1105258.401709  ],\n",
      "       [1509967.59178249,  577636.27079757, 1105500.        ],\n",
      "       [1510992.79143234,  576656.48692112, 1105135.81285149],\n",
      "       [1511877.71691691,  575544.14805091, 1104913.63340483],\n",
      "       [1512763.60384186,  574401.76846698, 1105304.53461395],\n",
      "       [1513609.66299756,  573176.40440293, 1105241.00100067],\n",
      "       [1514723.84149578,  572225.95910977, 1105256.30489747],\n",
      "       [1515568.85192047,  571191.33063392, 1105875.30425731],\n",
      "       [1516619.75409966,  570240.5100161 , 1105922.33151126],\n",
      "       [1517460.55902391,  569082.83344558, 1106149.06445095],\n",
      "       [1518196.34564563,  568016.59993241, 1106836.44459465],\n",
      "       [1518690.72440102,  566899.128929  , 1107301.44880204],\n",
      "       [1519603.82104802,  566253.96210772, 1108236.72982046],\n",
      "       [1520020.        ,  557569.        , 1113960.        ],\n",
      "       [1520554.55275968,  557710.45589409, 1113930.        ],\n",
      "       [1520632.7461835 ,  565327.76158365, 1108758.5492367 ],\n",
      "       [1521838.85070566,  564581.45971773, 1109093.3104234 ],\n",
      "       [1522013.34109086,  557896.55653818, 1113718.88785455],\n",
      "       [1522835.11394115,  563691.91219809, 1109605.11394115],\n",
      "       [1523437.68875423,  558235.13728889, 1113543.38674746],\n",
      "       [1523455.26802682,  562430.21018527, 1110097.21943624],\n",
      "       [1524525.84039056,  561465.39979444, 1110369.52014389],\n",
      "       [1524668.76402787,  558895.16291324, 1113170.87640279],\n",
      "       [1525347.99091051,  559697.66290552, 1112310.37454942],\n",
      "       [1525380.        ,  560626.10663561, 1111147.36670548]]), 'error_pre_ids': array([], dtype=float64), 'error_pre_coordinates': array([], dtype=float64), 'error_post_ids': array([], dtype=float64), 'error_post_coordinates': array([], dtype=float64), 'valid_pre_ids': array([], dtype=float64), 'valid_pre_coordinates': array([], dtype=float64), 'valid_post_ids': array([], dtype=float64), 'valid_post_coordinates': array([], dtype=float64)}]}, 'S1_0': {0: [{'error_branches': array([0.]), 'error_branches_skeleton_length': 26564.493214749127, 'valid_branches': array([1, 2, 4]), 'parent_branch': 2, 'parent_branch_width': 974.180823752099, 'parent_branch_axon': False, 'n_error_branches': 1, 'valid_points': array([[1493554.33333333,  586398.03333333, 1108003.66666667],\n",
      "       [1492624.        ,  587993.        , 1106840.        ],\n",
      "       [1493616.33333333,  586028.53333333, 1112008.        ],\n",
      "       [1491535.66666667,  585515.        , 1114190.66666667],\n",
      "       [1496104.33333333,  587001.6       , 1110053.33333333],\n",
      "       [1498234.        ,  586921.2       , 1110382.33333333]]), 'error_points': array([[1491700.66666667,  587848.86666667, 1110594.33333333],\n",
      "       [1490011.66666667,  587844.56666667, 1113001.66666667],\n",
      "       [1487301.        ,  587435.83333333, 1113545.        ]]), 'coordinate': array([[1494195. ,  586832.5, 1109355. ]]), 'error_branches_skeleton_points': array([[1474890.        ,  582887.        , 1113480.        ],\n",
      "       [1476285.3661262 ,  583276.46064629, 1113124.29613928],\n",
      "       [1477680.67798604,  583433.77592644, 1112603.17021009],\n",
      "       [1478915.06502463,  584166.44392443, 1112346.19797471],\n",
      "       [1479943.93234738,  585187.4497126 , 1112352.57849853],\n",
      "       [1481362.95298976,  585501.04834684, 1112003.45893287],\n",
      "       [1482787.58225548,  585192.90990787, 1111747.9467856 ],\n",
      "       [1484158.86816006,  585550.20622355, 1112126.97482999],\n",
      "       [1485485.21374316,  585597.55155155, 1111448.84325502],\n",
      "       [1486790.89486055,  586971.04949287, 1113037.26183077],\n",
      "       [1486794.76077469,  585858.4762038 , 1111012.69297964],\n",
      "       [1487231.14978871,  586274.66162676, 1111994.96718315],\n",
      "       [1487631.75722542,  587910.24500445, 1113814.73462037],\n",
      "       [1488954.62796604,  587814.5372034 , 1113339.6261656 ],\n",
      "       [1490189.61057359,  587931.78637402, 1112517.55770588],\n",
      "       [1491275.86384715,  588109.13005793, 1111514.13615285],\n",
      "       [1492209.22075285,  587846.45300271, 1110385.10427925],\n",
      "       [1493263.31639384,  587291.8587291 , 1109587.5962602 ],\n",
      "       [1494195.        ,  586832.5       , 1109355.        ]]), 'error_pre_ids': array([], dtype=float64), 'error_pre_coordinates': array([], dtype=float64), 'error_post_ids': array([], dtype=float64), 'error_post_coordinates': array([], dtype=float64), 'valid_pre_ids': array([], dtype=float64), 'valid_pre_coordinates': array([], dtype=float64), 'valid_post_ids': array([], dtype=float64), 'valid_post_coordinates': array([], dtype=float64)}]}}]}\n",
      "    split_results:{4: [{'starting_node_1': 2, 'starting_node_2': 0, 'title': 'S0_0 from S1_0 ', 'edges_to_delete': [[2, 0]], 'edges_to_create': [], 'removed_branches': [3], 'coordinate_suggestions': [array([1494195. ,  586832.5, 1109355. ])], 'successful_disconnection': True, 'paths_not_cut': [], 'paths_cut': [array([[1474890.        ,  582887.        , 1113480.        ],\n",
      "       [1476740.5481681 ,  583348.78476447, 1112934.0507851 ],\n",
      "       [1478552.16938848,  583824.12704136, 1112377.5661223 ],\n",
      "       [1479937.90979587,  585185.617301  , 1112354.53382655],\n",
      "       [1481834.13856719,  585435.25713294, 1111887.5064845 ],\n",
      "       [1483716.66318375,  585343.1412152 , 1111992.37970848],\n",
      "       [1485468.74620161,  585600.99340106, 1111460.85786206],\n",
      "       [1486746.70265607,  586519.85409913, 1112757.72979191],\n",
      "       [1487193.27645321,  586092.60383479, 1111117.41402046],\n",
      "       [1487598.13431556,  587879.78522069, 1113801.05305235],\n",
      "       [1489338.44456137,  587795.35803119, 1113146.41968813],\n",
      "       [1490872.6366166 ,  588091.21140791, 1111907.3633834 ],\n",
      "       [1492188.50804349,  587900.28186304, 1110444.08873912],\n",
      "       [1492700.        ,  587120.        , 1106540.        ],\n",
      "       [1493269.30467789,  587277.841045  , 1108896.78803173],\n",
      "       [1493348.06859284,  587251.783995  , 1108414.32009992],\n",
      "       [1493390.        ,  587236.        , 1108760.        ]])], 'split_reasons': {'default_edge_last': [array([1494195. ,  586832.5, 1109355. ])]}}]}\n",
      "\n"
     ]
    }
   ],
   "source": [
    "neuron_obj.pipeline_products.multi_soma_split_suggestions.multi_soma_split_parameters = multi_soma_split_parameters"
   ]
  },
  {
   "cell_type": "markdown",
   "id": "2206b4cc",
   "metadata": {},
   "source": [
    "# Step 4B: Multi Soma Split Execution"
   ]
  },
  {
   "cell_type": "code",
   "execution_count": 108,
   "id": "cc8bc52a",
   "metadata": {},
   "outputs": [],
   "source": [
    "neuron_list = neuron_obj.multi_soma_split_execution(\n",
    "    verbose = False,\n",
    ")"
   ]
  },
  {
   "cell_type": "code",
   "execution_count": 110,
   "id": "afd66106",
   "metadata": {},
   "outputs": [
    {
     "data": {
      "application/vnd.jupyter.widget-view+json": {
       "model_id": "797f5667fc0b4067bbdb4590a15a4d84",
       "version_major": 2,
       "version_minor": 0
      },
      "text/plain": [
       "Container(figure=Figure(box_center=[0.5, 0.5, 0.5], box_size=[1.0, 1.0, 1.0], camera=PerspectiveCamera(fov=45.…"
      ]
     },
     "metadata": {},
     "output_type": "display_data"
    }
   ],
   "source": [
    "ipvu.plot_objects(\n",
    "    meshes = [\n",
    "        neuron_list[0].mesh_from_branches,\n",
    "        neuron_list[1].mesh_from_branches,\n",
    "    ],\n",
    "    meshes_colors=[\"red\",\"blue\"]\n",
    ")"
   ]
  },
  {
   "cell_type": "code",
   "execution_count": 35,
   "id": "1239884b",
   "metadata": {},
   "outputs": [
    {
     "name": "stdout",
     "output_type": "stream",
     "text": [
      "{\n",
      "  'decimation':\n",
      "  {\n",
      "    'decimation_parameters':\n",
      "    {\n",
      "      'decimation_ratio':0.25,\n",
      "    },\n",
      "    'segment_id':864691135510518224,\n",
      "  },\n",
      "  'soma_identification':\n",
      "  {\n",
      "    'glia_meshes':[],\n",
      "    'nuclei_meshes':[<trimesh.Trimesh(vertices.shape=(6494, 3), faces.shape=(15575, 3))>, <trimesh.Trimesh(vertices.shape=(3256, 3), faces.shape=(5810, 3))>, <trimesh.Trimesh(vertices.shape=(2064, 3), faces.shape=(4789, 3))>, <trimesh.Trimesh(vertices.shape=(2022, 3), faces.shape=(4628, 3))>, <trimesh.Trimesh(vertices.shape=(1922, 3), faces.shape=(4396, 3))>, <trimesh.Trimesh(vertices.shape=(1089, 3), faces.shape=(2556, 3))>, <trimesh.Trimesh(vertices.shape=(864, 3), faces.shape=(1989, 3))>, <trimesh.Trimesh(vertices.shape=(723, 3), faces.shape=(1611, 3))>, <trimesh.Trimesh(vertices.shape=(693, 3), faces.shape=(1561, 3))>, <trimesh.Trimesh(vertices.shape=(612, 3), faces.shape=(1378, 3))>, <trimesh.Trimesh(vertices.shape=(456, 3), faces.shape=(742, 3))>, <trimesh.Trimesh(vertices.shape=(344, 3), faces.shape=(727, 3))>, <trimesh.Trimesh(vertices.shape=(363, 3), faces.shape=(876, 3))>, <trimesh.Trimesh(vertices.shape=(301, 3), faces.shape=(613, 3))>, <trimesh.Trimesh(vertices.shape=(253, 3), faces.shape=(632, 3))>, <trimesh.Trimesh(vertices.shape=(199, 3), faces.shape=(446, 3))>, <trimesh.Trimesh(vertices.shape=(176, 3), faces.shape=(418, 3))>, <trimesh.Trimesh(vertices.shape=(145, 3), faces.shape=(317, 3))>],\n",
      "    'soma_extraction_parameters':\n",
      "    {\n",
      "    },\n",
      "    'soma_meshes':[<trimesh.Trimesh(vertices.shape=(11386, 3), faces.shape=(22560, 3))>, <trimesh.Trimesh(vertices.shape=(5708, 3), faces.shape=(10517, 3))>],\n",
      "    'soma_run_time':107.70807600021362,\n",
      "    'soma_sdfs':array([0.769893 , 0.3351845]),\n",
      "  },\n",
      "  'decomposition':\n",
      "  {\n",
      "    'bbox_volume':1.9831561263199315,\n",
      "    'bbox_x_max':1564397.9821680577,\n",
      "    'bbox_x_max_soma_relative':75517.22158488538,\n",
      "    'bbox_x_min':1430458.6668303611,\n",
      "    'bbox_x_min_soma_relative':-58422.0937528112,\n",
      "    'bbox_y_max':659939.5309021459,\n",
      "    'bbox_y_max_soma_relative':70639.43716421863,\n",
      "    'bbox_y_min':502584.2072704911,\n",
      "    'bbox_y_min_soma_relative':-86715.88646743615,\n",
      "    'bbox_z_max':1114270.0,\n",
      "    'bbox_z_max_soma_relative':13617.686544879572,\n",
      "    'bbox_z_min':1020174.8170965186,\n",
      "    'bbox_z_min_soma_relative':-80477.49635860184,\n",
      "    'branch_length_mean':29.283143146911005,\n",
      "    'branch_length_median':16.735647518195066,\n",
      "    'centroid_volume':440.7405976697012,\n",
      "    'centroid_x':372220,\n",
      "    'centroid_x_nm':1488880.7605831723,\n",
      "    'centroid_y':147325,\n",
      "    'centroid_y_nm':589300.0937379273,\n",
      "    'centroid_z':27516,\n",
      "    'centroid_z_nm':1100652.3134551204,\n",
      "    'max_limb_n_branches':27,\n",
      "    'max_limb_skeletal_length':604558.5039643556,\n",
      "    'max_soma_area':341.07163148783616,\n",
      "    'median_branch_length':14983.573,\n",
      "    'n_branches':57,\n",
      "    'n_error_limbs':1,\n",
      "    'n_faces':323535,\n",
      "    'n_limbs':8,\n",
      "    'n_long_branches':3,\n",
      "    'n_medium_branches':43,\n",
      "    'n_multi_soma_touching_limbs':1,\n",
      "    'n_not_processed_soma_containing_meshes':0,\n",
      "    'n_same_soma_multi_touching_limbs':0,\n",
      "    'n_short_branches':9,\n",
      "    'n_somas':2,\n",
      "    'n_spine_eligible_branches':35,\n",
      "    'n_spines':402,\n",
      "    'n_vertices':154713,\n",
      "    'skeletal_length':1548738.8847235115,\n",
      "    'skeletal_length_eligible':1028454.72,\n",
      "    'skeleton':array([[[1469972.26898917,  644331.51215205, 1105781.49225862],\n",
      "        [1469922.99793769,  644306.57306289, 1105698.12317519]],\n",
      "\n",
      "       [[1469922.99793769,  644306.57306289, 1105698.12317519],\n",
      "        [1469873.03503235,  644278.96793629, 1105616.01554459]],\n",
      "\n",
      "       [[1469873.03503235,  644278.96793629, 1105616.01554459],\n",
      "        [1469822.34841942,  644249.02047451, 1105535.18233182]],\n",
      "\n",
      "       ...,\n",
      "\n",
      "       [[1472182.71408549,  577993.08644009, 1112354.27575333],\n",
      "        [1475123.88888889,  571587.50555556, 1113243.55555556]],\n",
      "\n",
      "       [[1472182.71408549,  577993.08644009, 1112354.27575333],\n",
      "        [1474890.        ,  582887.        , 1113480.        ]],\n",
      "\n",
      "       [[1472182.71408549,  577993.08644009, 1112354.27575333],\n",
      "        [1468163.64444444,  578622.88333333, 1112816.05555556]]]),\n",
      "    'spine_density':0.00025956602753715124,\n",
      "    'spine_density_eligible':0.00039087768492131577,\n",
      "    'spine_volume_density':23489.432966494827,\n",
      "    'spine_volume_density_eligible':35372.48408497449,\n",
      "    'spine_volume_median':64105155.88328934,\n",
      "    'spine_volume_per_branch_eligible':1039399949.0090542,\n",
      "    'spines_per_branch':7.052631578947368,\n",
      "    'spines_per_branch_eligible':11.486,\n",
      "    'total_spine_volume':36378998215.316895,\n",
      "    'width_90_perc':513.478,\n",
      "    'width_median':186.744,\n",
      "    'width_no_spine_90_perc':513.478,\n",
      "    'width_no_spine_median':186.744,\n",
      "  },\n",
      "  'multi_soma_split_suggestions':\n",
      "  {\n",
      "    'multi_soma_split_parameters':\n",
      "    {\n",
      "    },\n",
      "    'n_paths_cut':1,\n",
      "    'red_blue_split_results':\n",
      "    {\n",
      "      4:[{'S0_0': {0: [{'error_branches': array([1., 2., 4., 5., 6.]), 'error_branches_skeleton_length': 71314.8681393928, 'valid_branches': array([0]), 'parent_branch': 0, 'parent_branch_width': 428.40439724621825, 'parent_branch_axon': False, 'n_error_branches': 5, 'valid_points': array([[1491700.66666667,  587848.86666667, 1110594.33333333],\n",
      "       [1489989.33333333,  587939.06666667, 1113021.66666667]]), 'error_points': array([[1493550.        ,  586432.9       , 1108461.        ],\n",
      "       [1492642.        ,  586538.9       , 1107802.66666667],\n",
      "       [1492624.        ,  587993.        , 1106840.        ],\n",
      "       [1494101.66666667,  586228.96666667, 1111083.        ],\n",
      "       [1493232.        ,  585881.86666667, 1112968.        ],\n",
      "       [1491639.66666667,  585431.63333333, 1114106.66666667],\n",
      "       [1495465.33333333,  587016.3       , 1109645.66666667],\n",
      "       [1496905.        ,  586996.53333333, 1109881.33333333],\n",
      "       [1498234.        ,  586921.2       , 1110382.33333333]]), 'coordinate': array([[1494195. ,  586832.5, 1109355. ]]), 'error_branches_skeleton_points': array([[1491750.        ,  585509.        , 1114270.        ],\n",
      "       [1492700.        ,  587120.        , 1106540.        ],\n",
      "       [1492753.05440488,  585805.75496783, 1113196.94559512],\n",
      "       [1493313.14552783,  587120.89056677, 1107899.00114585],\n",
      "       [1493750.4598017 ,  585976.69348843, 1112096.13023135],\n",
      "       [1494079.31353562,  586870.33264255, 1109163.99415391],\n",
      "       [1494195.        ,  586832.5       , 1109355.        ],\n",
      "       [1494196.97788752,  586822.34647182, 1109381.24087248],\n",
      "       [1494302.16155544,  586282.38384787, 1110776.72529042],\n",
      "       [1495620.18565591,  586638.98344529, 1109780.90748906],\n",
      "       [1497065.9956833 ,  586741.53077106, 1110092.10818519],\n",
      "       [1498090.        ,  587075.        , 1110130.        ],\n",
      "       [1498926.15939095,  588291.70464487, 1110337.69923869],\n",
      "       [1499180.81450785,  586261.3986321 , 1109563.67419686],\n",
      "       [1499276.5728937 ,  589401.18417515, 1111259.15604326],\n",
      "       [1499490.        ,  592614.        , 1114000.        ],\n",
      "       [1499724.29336565,  592363.99250167, 1113765.70663435],\n",
      "       [1499761.27776661,  590420.36463692, 1112183.42423633],\n",
      "       [1500449.6848089 ,  591476.81949686, 1112820.78797775],\n",
      "       [1500511.58737222,  585820.31742995, 1109039.20631389],\n",
      "       [1501678.00178152,  585137.39907685, 1108399.99919022],\n",
      "       [1502888.50923577,  584582.43689485, 1107714.2029458 ],\n",
      "       [1504051.52043428,  583791.36610469, 1107211.39182629],\n",
      "       [1505152.22304241,  582903.11022941, 1106728.8884788 ],\n",
      "       [1506036.42270878,  581898.1931428 , 1106077.68296842],\n",
      "       [1506966.56376744,  580863.93555659, 1105535.62415504],\n",
      "       [1507844.428716  ,  579714.4069766 , 1105256.8035895 ],\n",
      "       [1508865.61538097,  578618.90513173, 1105258.401709  ],\n",
      "       [1509967.59178249,  577636.27079757, 1105500.        ],\n",
      "       [1510992.79143234,  576656.48692112, 1105135.81285149],\n",
      "       [1511877.71691691,  575544.14805091, 1104913.63340483],\n",
      "       [1512763.60384186,  574401.76846698, 1105304.53461395],\n",
      "       [1513609.66299756,  573176.40440293, 1105241.00100067],\n",
      "       [1514723.84149578,  572225.95910977, 1105256.30489747],\n",
      "       [1515568.85192047,  571191.33063392, 1105875.30425731],\n",
      "       [1516619.75409966,  570240.5100161 , 1105922.33151126],\n",
      "       [1517460.55902391,  569082.83344558, 1106149.06445095],\n",
      "       [1518196.34564563,  568016.59993241, 1106836.44459465],\n",
      "       [1518690.72440102,  566899.128929  , 1107301.44880204],\n",
      "       [1519603.82104802,  566253.96210772, 1108236.72982046],\n",
      "       [1520020.        ,  557569.        , 1113960.        ],\n",
      "       [1520554.55275968,  557710.45589409, 1113930.        ],\n",
      "       [1520632.7461835 ,  565327.76158365, 1108758.5492367 ],\n",
      "       [1521838.85070566,  564581.45971773, 1109093.3104234 ],\n",
      "       [1522013.34109086,  557896.55653818, 1113718.88785455],\n",
      "       [1522835.11394115,  563691.91219809, 1109605.11394115],\n",
      "       [1523437.68875423,  558235.13728889, 1113543.38674746],\n",
      "       [1523455.26802682,  562430.21018527, 1110097.21943624],\n",
      "       [1524525.84039056,  561465.39979444, 1110369.52014389],\n",
      "       [1524668.76402787,  558895.16291324, 1113170.87640279],\n",
      "       [1525347.99091051,  559697.66290552, 1112310.37454942],\n",
      "       [1525380.        ,  560626.10663561, 1111147.36670548]]), 'error_pre_ids': array([], dtype=float64), 'error_pre_coordinates': array([], dtype=float64), 'error_post_ids': array([], dtype=float64), 'error_post_coordinates': array([], dtype=float64), 'valid_pre_ids': array([], dtype=float64), 'valid_pre_coordinates': array([], dtype=float64), 'valid_post_ids': array([], dtype=float64), 'valid_post_coordinates': array([], dtype=float64)}]}, 'S1_0': {0: [{'error_branches': array([0.]), 'error_branches_skeleton_length': 26564.493214749127, 'valid_branches': array([1, 2, 4]), 'parent_branch': 2, 'parent_branch_width': 974.180823752099, 'parent_branch_axon': False, 'n_error_branches': 1, 'valid_points': array([[1493554.33333333,  586398.03333333, 1108003.66666667],\n",
      "       [1492624.        ,  587993.        , 1106840.        ],\n",
      "       [1493616.33333333,  586028.53333333, 1112008.        ],\n",
      "       [1491535.66666667,  585515.        , 1114190.66666667],\n",
      "       [1496104.33333333,  587001.6       , 1110053.33333333],\n",
      "       [1498234.        ,  586921.2       , 1110382.33333333]]), 'error_points': array([[1491700.66666667,  587848.86666667, 1110594.33333333],\n",
      "       [1490011.66666667,  587844.56666667, 1113001.66666667],\n",
      "       [1487301.        ,  587435.83333333, 1113545.        ]]), 'coordinate': array([[1494195. ,  586832.5, 1109355. ]]), 'error_branches_skeleton_points': array([[1474890.        ,  582887.        , 1113480.        ],\n",
      "       [1476285.3661262 ,  583276.46064629, 1113124.29613928],\n",
      "       [1477680.67798604,  583433.77592644, 1112603.17021009],\n",
      "       [1478915.06502463,  584166.44392443, 1112346.19797471],\n",
      "       [1479943.93234738,  585187.4497126 , 1112352.57849853],\n",
      "       [1481362.95298976,  585501.04834684, 1112003.45893287],\n",
      "       [1482787.58225548,  585192.90990787, 1111747.9467856 ],\n",
      "       [1484158.86816006,  585550.20622355, 1112126.97482999],\n",
      "       [1485485.21374316,  585597.55155155, 1111448.84325502],\n",
      "       [1486790.89486055,  586971.04949287, 1113037.26183077],\n",
      "       [1486794.76077469,  585858.4762038 , 1111012.69297964],\n",
      "       [1487231.14978871,  586274.66162676, 1111994.96718315],\n",
      "       [1487631.75722542,  587910.24500445, 1113814.73462037],\n",
      "       [1488954.62796604,  587814.5372034 , 1113339.6261656 ],\n",
      "       [1490189.61057359,  587931.78637402, 1112517.55770588],\n",
      "       [1491275.86384715,  588109.13005793, 1111514.13615285],\n",
      "       [1492209.22075285,  587846.45300271, 1110385.10427925],\n",
      "       [1493263.31639384,  587291.8587291 , 1109587.5962602 ],\n",
      "       [1494195.        ,  586832.5       , 1109355.        ]]), 'error_pre_ids': array([], dtype=float64), 'error_pre_coordinates': array([], dtype=float64), 'error_post_ids': array([], dtype=float64), 'error_post_coordinates': array([], dtype=float64), 'valid_pre_ids': array([], dtype=float64), 'valid_pre_coordinates': array([], dtype=float64), 'valid_post_ids': array([], dtype=float64), 'valid_post_coordinates': array([], dtype=float64)}]}}],\n",
      "    },\n",
      "    'split_results':\n",
      "    {\n",
      "      4:[{'starting_node_1': 2, 'starting_node_2': 0, 'title': 'S0_0 from S1_0 ', 'edges_to_delete': [[2, 0]], 'edges_to_create': [], 'removed_branches': [3], 'coordinate_suggestions': [array([1494195. ,  586832.5, 1109355. ])], 'successful_disconnection': True, 'paths_not_cut': [], 'paths_cut': [array([[1474890.        ,  582887.        , 1113480.        ],\n",
      "       [1476740.5481681 ,  583348.78476447, 1112934.0507851 ],\n",
      "       [1478552.16938848,  583824.12704136, 1112377.5661223 ],\n",
      "       [1479937.90979587,  585185.617301  , 1112354.53382655],\n",
      "       [1481834.13856719,  585435.25713294, 1111887.5064845 ],\n",
      "       [1483716.66318375,  585343.1412152 , 1111992.37970848],\n",
      "       [1485468.74620161,  585600.99340106, 1111460.85786206],\n",
      "       [1486746.70265607,  586519.85409913, 1112757.72979191],\n",
      "       [1487193.27645321,  586092.60383479, 1111117.41402046],\n",
      "       [1487598.13431556,  587879.78522069, 1113801.05305235],\n",
      "       [1489338.44456137,  587795.35803119, 1113146.41968813],\n",
      "       [1490872.6366166 ,  588091.21140791, 1111907.3633834 ],\n",
      "       [1492188.50804349,  587900.28186304, 1110444.08873912],\n",
      "       [1492700.        ,  587120.        , 1106540.        ],\n",
      "       [1493269.30467789,  587277.841045  , 1108896.78803173],\n",
      "       [1493348.06859284,  587251.783995  , 1108414.32009992],\n",
      "       [1493390.        ,  587236.        , 1108760.        ]])], 'split_reasons': {'default_edge_last': [array([1494195. ,  586832.5, 1109355. ])]}}],\n",
      "    },\n",
      "  },\n",
      "  'multi_soma_split_execution':\n",
      "  {\n",
      "    'multi_soma_errored_limbs_area':[],\n",
      "    'multi_soma_errored_limbs_skeletal_length':[],\n",
      "    'multi_soma_n_multi_soma_errors':0,\n",
      "    'multi_soma_n_same_soma_errors':0,\n",
      "    'multiplicity':2,\n",
      "  },\n",
      "}\n",
      "\n"
     ]
    }
   ],
   "source": [
    "n1 = neuron_list[0]\n",
    "print(n1.pipeline_products)"
   ]
  },
  {
   "cell_type": "markdown",
   "id": "a2dcd901",
   "metadata": {},
   "source": [
    "# Step 5: Cell Typing"
   ]
  },
  {
   "cell_type": "code",
   "execution_count": 36,
   "id": "023dd7aa",
   "metadata": {},
   "outputs": [],
   "source": [
    "from neurd import neuron_pipeline_utils as npu"
   ]
  },
  {
   "cell_type": "code",
   "execution_count": 111,
   "id": "5147a0ef",
   "metadata": {},
   "outputs": [],
   "source": [
    "n1 = neuron_list[0]"
   ]
  },
  {
   "cell_type": "code",
   "execution_count": 62,
   "id": "b17ecdd9",
   "metadata": {
    "scrolled": true
   },
   "outputs": [
    {
     "name": "stdout",
     "output_type": "stream",
     "text": [
      "\n",
      "Number of segments: 2\n",
      "\n",
      "\n",
      "Number of segments: 2\n",
      "\n",
      "\n",
      "Number of segments: 2\n",
      "\n",
      "\n",
      "Number of segments: 2\n",
      "\n",
      "\n",
      "Number of segments: 2\n",
      "\n",
      "\n",
      "Number of segments: 4\n",
      "\n",
      "\n",
      "Number of segments: 3\n",
      "\n",
      "\n",
      "Number of segments: 3\n",
      "\n",
      "\n",
      "Number of segments: 3\n",
      "\n",
      "\n",
      "Number of segments: 1\n",
      "\n",
      "\n",
      "Number of segments: 4\n",
      "\n",
      "\n",
      "Number of segments: 4\n",
      "\n",
      "\n",
      "Number of segments: 3\n",
      "\n",
      "\n",
      "Number of segments: 2\n",
      "\n",
      "\n",
      "Number of segments: 5\n",
      "\n",
      "\n",
      "Number of segments: 1\n",
      "\n",
      "\n",
      "Number of segments: 1\n",
      "\n",
      "\n",
      "Number of segments: 1\n",
      "\n",
      "\n",
      "Number of segments: 1\n",
      "\n",
      "\n",
      "Number of segments: 2\n",
      "\n",
      "\n",
      "Number of segments: 1\n",
      "\n",
      "\n",
      "Number of segments: 2\n",
      "\n",
      "\n",
      "Number of segments: 2\n",
      "\n",
      "\n",
      "Number of segments: 2\n",
      "\n",
      "\n",
      "Number of segments: 2\n",
      "\n",
      "\n",
      "Number of segments: 2\n",
      "\n",
      "\n",
      "Number of segments: 2\n",
      "\n",
      "\n",
      "Number of segments: 3\n",
      "\n",
      "\n",
      "Number of segments: 3\n",
      "\n",
      "\n",
      "Number of segments: 3\n",
      "\n",
      "\n",
      "Number of segments: 1\n",
      "\n",
      "\n",
      "Number of segments: 1\n",
      "\n",
      "\n",
      "Number of segments: 1\n",
      "\n",
      "\n",
      "Number of segments: 2\n",
      "\n",
      "\n",
      "Number of segments: 2\n",
      "\n",
      "\n",
      "Number of segments: 2\n",
      "\n",
      "\n",
      "Number of segments: 2\n",
      "\n",
      "\n",
      "Number of segments: 2\n",
      "\n",
      "\n",
      "Number of segments: 2\n",
      "\n",
      "\n",
      "Number of segments: 2\n",
      "\n",
      "\n",
      "Number of segments: 2\n",
      "\n",
      "\n",
      "Number of segments: 2\n",
      "\n",
      "\n",
      "Number of segments: 1\n",
      "\n",
      "\n",
      "Number of segments: 1\n",
      "\n",
      "\n",
      "Number of segments: 1\n",
      "\n",
      "\n",
      "Number of segments: 2\n",
      "\n",
      "\n",
      "Number of segments: 2\n",
      "\n",
      "\n",
      "Number of segments: 1\n",
      "\n",
      "\n",
      "Number of segments: 2\n",
      "\n",
      "\n",
      "Number of segments: 2\n",
      "\n",
      "\n",
      "Number of segments: 2\n",
      "\n",
      "\n",
      "Number of segments: 2\n",
      "\n",
      "\n",
      "Number of segments: 2\n",
      "\n",
      "\n",
      "Number of segments: 2\n",
      "\n",
      "\n",
      "Number of segments: 2\n",
      "\n",
      "\n",
      "Number of segments: 2\n",
      "\n",
      "\n",
      "Number of segments: 2\n",
      "\n",
      "\n",
      "Number of segments: 2\n",
      "\n",
      "\n",
      "Number of segments: 2\n",
      "\n",
      "\n",
      "Number of segments: 2\n",
      "\n",
      "\n",
      "Number of segments: 2\n",
      "\n",
      "\n",
      "Number of segments: 2\n",
      "\n",
      "\n",
      "Number of segments: 2\n",
      "\n",
      "\n",
      "Number of segments: 1\n",
      "\n",
      "\n",
      "Number of segments: 1\n",
      "\n",
      "\n",
      "Number of segments: 1\n",
      "\n",
      "\n",
      "Number of segments: 2\n",
      "\n",
      "\n",
      "Number of segments: 3\n",
      "\n",
      "\n",
      "Number of segments: 2\n",
      "\n",
      "\n",
      "Number of segments: 2\n",
      "\n",
      "\n",
      "Number of segments: 2\n",
      "\n",
      "\n",
      "Number of segments: 3\n",
      "\n",
      "\n",
      "Number of segments: 2\n",
      "\n",
      "\n",
      "Number of segments: 2\n",
      "\n",
      "\n",
      "Number of segments: 2\n",
      "\n",
      "\n",
      "Number of segments: 2\n",
      "\n",
      "\n",
      "Number of segments: 2\n",
      "\n",
      "\n",
      "Number of segments: 2\n",
      "\n",
      "\n",
      "Number of segments: 2\n",
      "\n",
      "\n",
      "Number of segments: 3\n",
      "\n",
      "\n",
      "Number of segments: 3\n",
      "\n",
      "\n",
      "Number of segments: 1\n",
      "\n",
      "\n",
      "Number of segments: 2\n",
      "\n",
      "\n",
      "Number of segments: 2\n",
      "\n",
      "\n",
      "Number of segments: 2\n",
      "\n",
      "\n",
      "Number of segments: 2\n",
      "\n",
      "\n",
      "Number of segments: 2\n",
      "\n",
      "\n",
      "Number of segments: 2\n",
      "\n",
      "\n",
      "Number of segments: 2\n",
      "\n",
      "\n",
      "Number of segments: 3\n",
      "\n",
      "\n",
      "Number of segments: 1\n",
      "\n",
      "\n",
      "Number of segments: 2\n",
      "\n",
      "\n",
      "Number of segments: 2\n",
      "\n",
      "\n",
      "Number of segments: 2\n",
      "\n",
      "\n",
      "Number of segments: 2\n",
      "\n",
      "\n",
      "Number of segments: 3\n",
      "\n",
      "\n",
      "Number of segments: 3\n",
      "\n",
      "\n",
      "Number of segments: 3\n",
      "\n",
      "\n",
      "Number of segments: 3\n",
      "\n",
      "\n",
      "Number of segments: 2\n",
      "\n",
      "\n",
      "Number of segments: 3\n",
      "\n",
      "\n",
      "Number of segments: 3\n",
      "\n",
      "\n",
      "Number of segments: 2\n",
      "\n",
      "\n",
      "Number of segments: 3\n",
      "\n",
      "\n",
      "Number of segments: 3\n",
      "\n",
      "\n",
      "Number of segments: 1\n",
      "\n",
      "\n",
      "Number of segments: 2\n",
      "\n",
      "\n",
      "Number of segments: 2\n",
      "\n",
      "\n",
      "Number of segments: 2\n",
      "\n",
      "\n",
      "Number of segments: 2\n",
      "\n",
      "\n",
      "Number of segments: 2\n",
      "\n",
      "\n",
      "Number of segments: 2\n",
      "\n",
      "\n",
      "Number of segments: 2\n",
      "\n",
      "\n",
      "Number of segments: 2\n",
      "\n",
      "\n",
      "Number of segments: 1\n",
      "\n",
      "\n",
      "Number of segments: 2\n",
      "\n",
      "\n",
      "Number of segments: 2\n",
      "\n",
      "\n",
      "Number of segments: 2\n",
      "\n",
      "\n",
      "Number of segments: 1\n",
      "\n",
      "\n",
      "Number of segments: 1\n",
      "\n",
      "\n",
      "Number of segments: 2\n",
      "\n",
      "\n",
      "Number of segments: 2\n",
      "\n",
      "\n",
      "Number of segments: 3\n",
      "\n",
      "\n",
      "Number of segments: 2\n",
      "\n",
      "\n",
      "Number of segments: 2\n",
      "\n",
      "\n",
      "Number of segments: 2\n",
      "\n",
      "\n",
      "Number of segments: 2\n",
      "\n",
      "\n",
      "Number of segments: 2\n",
      "\n",
      "\n",
      "Number of segments: 2\n",
      "\n",
      "\n",
      "Number of segments: 1\n",
      "\n",
      "\n",
      "Number of segments: 2\n",
      "\n",
      "\n",
      "Number of segments: 3\n",
      "\n",
      "\n",
      "Number of segments: 2\n",
      "\n",
      "\n",
      "Number of segments: 2\n",
      "\n",
      "\n",
      "Number of segments: 2\n",
      "\n",
      "\n",
      "Number of segments: 2\n",
      "\n",
      "\n",
      "Number of segments: 2\n",
      "\n",
      "\n",
      "Number of segments: 2\n",
      "\n",
      "\n",
      "Number of segments: 2\n",
      "\n",
      "\n",
      "Number of segments: 2\n",
      "\n",
      "\n",
      "Number of segments: 2\n",
      "\n",
      "\n",
      "Number of segments: 2\n",
      "\n",
      "\n",
      "Number of segments: 1\n",
      "\n",
      "\n",
      "Number of segments: 1\n",
      "\n",
      "\n",
      "Number of segments: 1\n",
      "\n",
      "\n",
      "Number of segments: 1\n",
      "\n",
      "\n",
      "Number of segments: 1\n",
      "\n",
      "\n",
      "Number of segments: 1\n",
      "\n",
      "\n",
      "Number of segments: 1\n",
      "\n",
      "\n",
      "Number of segments: 1\n",
      "\n",
      "\n",
      "Number of segments: 1\n",
      "\n",
      "\n",
      "Number of segments: 1\n",
      "\n",
      "\n",
      "Number of segments: 1\n",
      "\n",
      "\n",
      "Number of segments: 2\n",
      "\n",
      "\n",
      "Number of segments: 2\n",
      "\n",
      "\n",
      "Number of segments: 2\n",
      "\n",
      "\n",
      "Number of segments: 3\n",
      "\n",
      "\n",
      "Number of segments: 4\n",
      "\n",
      "\n",
      "Number of segments: 4\n",
      "\n",
      "\n",
      "Number of segments: 4\n",
      "\n",
      "\n",
      "Number of segments: 5\n",
      "\n",
      "\n",
      "Number of segments: 5\n",
      "\n",
      "\n",
      "Number of segments: 2\n",
      "\n",
      "\n",
      "Number of segments: 2\n",
      "\n",
      "\n",
      "Number of segments: 2\n",
      "\n",
      "\n",
      "Number of segments: 2\n",
      "\n",
      "\n",
      "Number of segments: 2\n",
      "\n",
      "\n",
      "Number of segments: 2\n",
      "\n",
      "\n",
      "Number of segments: 2\n",
      "\n",
      "\n",
      "Number of segments: 2\n",
      "\n",
      "\n",
      "Number of segments: 2\n",
      "\n",
      "\n",
      "Number of segments: 6\n",
      "\n",
      "\n",
      "Number of segments: 6\n",
      "\n",
      "\n",
      "Number of segments: 7\n",
      "\n",
      "\n",
      "Number of segments: 3\n",
      "\n",
      "\n",
      "Number of segments: 2\n",
      "\n",
      "\n",
      "Number of segments: 4\n",
      "\n",
      "\n",
      "Number of segments: 1\n",
      "\n",
      "\n",
      "Number of segments: 1\n",
      "\n",
      "\n",
      "Number of segments: 2\n",
      "\n",
      "\n",
      "Number of segments: 1\n",
      "\n",
      "\n",
      "Number of segments: 1\n",
      "\n",
      "\n",
      "Number of segments: 3\n",
      "\n",
      "\n",
      "Number of segments: 1\n",
      "\n",
      "\n",
      "Number of segments: 2\n",
      "\n",
      "\n",
      "Number of segments: 3\n",
      "\n",
      "\n",
      "Number of segments: 2\n",
      "\n",
      "\n",
      "Number of segments: 1\n",
      "\n",
      "\n",
      "Number of segments: 2\n",
      "\n",
      "\n",
      "Number of segments: 2\n",
      "\n",
      "\n",
      "Number of segments: 2\n",
      "\n",
      "\n",
      "Number of segments: 2\n",
      "\n",
      "\n",
      "Number of segments: 3\n",
      "\n",
      "\n",
      "Number of segments: 2\n",
      "\n",
      "\n",
      "Number of segments: 3\n",
      "\n",
      "\n",
      "Number of segments: 2\n",
      "\n",
      "\n",
      "Number of segments: 2\n",
      "\n",
      "\n",
      "Number of segments: 2\n",
      "\n",
      "\n",
      "Number of segments: 2\n",
      "\n",
      "\n",
      "Number of segments: 2\n",
      "\n",
      "\n",
      "Number of segments: 2\n",
      "\n",
      "\n",
      "Number of segments: 2\n",
      "\n",
      "\n",
      "Number of segments: 2\n",
      "\n",
      "\n",
      "Number of segments: 2\n",
      "\n",
      "\n",
      "Number of segments: 1\n",
      "\n",
      "\n",
      "Number of segments: 2\n",
      "\n",
      "\n",
      "Number of segments: 2\n",
      "\n",
      "\n",
      "Number of segments: 2\n",
      "\n",
      "\n",
      "Number of segments: 2\n",
      "\n",
      "\n",
      "Number of segments: 2\n",
      "\n",
      "\n",
      "Number of segments: 2\n",
      "\n",
      "\n",
      "Number of segments: 2\n",
      "\n",
      "\n",
      "Number of segments: 1\n",
      "\n",
      "\n",
      "Number of segments: 2\n",
      "\n",
      "\n",
      "Number of segments: 2\n",
      "\n",
      "\n",
      "Number of segments: 2\n",
      "\n",
      "\n",
      "Number of segments: 1\n",
      "\n",
      "\n",
      "Number of segments: 3\n",
      "\n",
      "\n",
      "Number of segments: 2\n",
      "\n",
      "\n",
      "Number of segments: 2\n",
      "\n",
      "\n",
      "Number of segments: 2\n",
      "\n",
      "\n",
      "Number of segments: 2\n",
      "\n",
      "\n",
      "Number of segments: 1\n",
      "\n",
      "\n",
      "Number of segments: 1\n",
      "\n",
      "\n",
      "Number of segments: 1\n",
      "\n",
      "\n",
      "Number of segments: 1\n",
      "\n",
      "\n",
      "Number of segments: 2\n",
      "\n",
      "\n",
      "Number of segments: 2\n",
      "\n",
      "\n",
      "Number of segments: 2\n",
      "\n",
      "\n",
      "Number of segments: 2\n",
      "\n",
      "\n",
      "Number of segments: 1\n",
      "\n",
      "\n",
      "Number of segments: 2\n",
      "\n",
      "\n",
      "Number of segments: 2\n",
      "\n",
      "\n",
      "Number of segments: 2\n",
      "\n",
      "\n",
      "Number of segments: 1\n",
      "\n",
      "\n",
      "Number of segments: 1\n",
      "\n",
      "\n",
      "Number of segments: 1\n",
      "\n",
      "\n",
      "Number of segments: 1\n",
      "\n",
      "\n",
      "Number of segments: 1\n",
      "\n",
      "\n",
      "Number of segments: 1\n",
      "\n",
      "\n",
      "Number of segments: 2\n",
      "\n",
      "\n",
      "Number of segments: 2\n",
      "\n",
      "\n",
      "Number of segments: 2\n",
      "\n",
      "\n",
      "Number of segments: 2\n",
      "\n",
      "\n",
      "Number of segments: 3\n",
      "\n",
      "\n",
      "Number of segments: 3\n",
      "\n",
      "\n",
      "Number of segments: 2\n",
      "\n",
      "\n",
      "Number of segments: 2\n",
      "\n",
      "\n",
      "Number of segments: 2\n",
      "\n",
      "\n",
      "Number of segments: 2\n",
      "\n",
      "\n",
      "Number of segments: 2\n",
      "\n",
      "\n",
      "Number of segments: 2\n",
      "\n",
      "\n",
      "Number of segments: 1\n",
      "\n",
      "\n",
      "Number of segments: 1\n",
      "\n",
      "\n",
      "Number of segments: 1\n",
      "\n",
      "\n",
      "Number of segments: 2\n",
      "\n",
      "\n",
      "Number of segments: 2\n",
      "\n",
      "\n",
      "Number of segments: 2\n",
      "\n",
      "\n",
      "Number of segments: 2\n",
      "\n",
      "\n",
      "Number of segments: 2\n",
      "\n",
      "\n",
      "Number of segments: 2\n",
      "\n",
      "\n",
      "Number of segments: 2\n",
      "\n",
      "\n",
      "Number of segments: 3\n",
      "\n",
      "\n",
      "Number of segments: 3\n",
      "\n",
      "\n",
      "Number of segments: 2\n",
      "\n",
      "\n",
      "Number of segments: 2\n",
      "\n",
      "\n",
      "Number of segments: 2\n",
      "\n",
      "\n",
      "Number of segments: 3\n",
      "\n",
      "\n",
      "Number of segments: 3\n",
      "\n",
      "\n",
      "Number of segments: 4\n",
      "\n",
      "\n",
      "Number of segments: 2\n",
      "\n",
      "\n",
      "Number of segments: 2\n",
      "\n",
      "\n",
      "Number of segments: 1\n",
      "\n",
      "\n",
      "Number of segments: 1\n",
      "\n",
      "\n",
      "Number of segments: 2\n",
      "\n",
      "\n",
      "Number of segments: 3\n",
      "\n",
      "\n",
      "Number of segments: 2\n",
      "\n",
      "\n",
      "Number of segments: 2\n",
      "\n",
      "\n",
      "Number of segments: 2\n",
      "\n",
      "\n",
      "Number of segments: 1\n",
      "\n",
      "\n",
      "Number of segments: 1\n",
      "\n",
      "\n",
      "Number of segments: 1\n",
      "\n",
      "\n",
      "Number of segments: 1\n",
      "\n",
      "\n",
      "Number of segments: 1\n",
      "\n",
      "\n",
      "Number of segments: 2\n",
      "\n",
      "\n",
      "Number of segments: 2\n",
      "\n",
      "\n",
      "Number of segments: 2\n",
      "\n",
      "\n",
      "Number of segments: 3\n",
      "\n",
      "\n",
      "Number of segments: 2\n",
      "\n",
      "\n",
      "Number of segments: 2\n",
      "\n",
      "\n",
      "Number of segments: 2\n",
      "\n",
      "\n",
      "Number of segments: 2\n",
      "\n",
      "\n",
      "Number of segments: 3\n",
      "\n",
      "\n",
      "Number of segments: 2\n",
      "\n",
      "\n",
      "Number of segments: 2\n",
      "\n",
      "\n",
      "Number of segments: 1\n",
      "\n",
      "\n",
      "Number of segments: 2\n",
      "\n",
      "\n",
      "Number of segments: 2\n",
      "\n",
      "\n",
      "Number of segments: 2\n",
      "\n",
      "\n",
      "Number of segments: 2\n",
      "\n",
      "\n",
      "Number of segments: 1\n",
      "\n",
      "\n",
      "Number of segments: 2\n",
      "\n",
      "\n",
      "Number of segments: 2\n",
      "\n",
      "\n",
      "Number of segments: 2\n",
      "\n",
      "\n",
      "Number of segments: 2\n",
      "\n",
      "\n",
      "Number of segments: 2\n",
      "\n",
      "\n",
      "Number of segments: 1\n",
      "\n",
      "\n",
      "Number of segments: 1\n",
      "\n",
      "\n",
      "Number of segments: 3\n",
      "\n",
      "\n",
      "Number of segments: 1\n",
      "\n",
      "\n",
      "Number of segments: 1\n",
      "\n",
      "\n",
      "Number of segments: 1\n",
      "\n",
      "\n",
      "Number of segments: 1\n",
      "\n",
      "\n",
      "Number of segments: 3\n",
      "\n",
      "\n",
      "Number of segments: 3\n",
      "\n",
      "\n",
      "Number of segments: 2\n",
      "\n",
      "\n",
      "Number of segments: 2\n",
      "\n",
      "\n",
      "Number of segments: 2\n",
      "\n",
      "\n",
      "Number of segments: 2\n",
      "\n",
      "\n",
      "Number of segments: 2\n",
      "\n",
      "\n",
      "Number of segments: 2\n",
      "\n",
      "\n",
      "Number of segments: 3\n",
      "\n",
      "\n",
      "Number of segments: 3\n",
      "\n",
      "\n",
      "Number of segments: 3\n",
      "\n",
      "\n",
      "Number of segments: 2\n",
      "\n",
      "\n",
      "Number of segments: 2\n",
      "\n",
      "\n",
      "Number of segments: 2\n",
      "\n",
      "\n",
      "Number of segments: 2\n",
      "\n",
      "\n",
      "Number of segments: 2\n",
      "\n",
      "\n",
      "Number of segments: 2\n",
      "\n",
      "\n",
      "Number of segments: 2\n",
      "\n",
      "\n",
      "Number of segments: 1\n",
      "\n",
      "\n",
      "Number of segments: 1\n",
      "\n",
      "\n",
      "Number of segments: 1\n",
      "\n",
      "\n",
      "Number of segments: 2\n",
      "\n",
      "\n",
      "Number of segments: 4\n",
      "\n",
      "\n",
      "Number of segments: 1\n",
      "\n",
      "\n",
      "Number of segments: 3\n",
      "\n",
      "\n",
      "Number of segments: 3\n",
      "\n",
      "\n",
      "Number of segments: 1\n",
      "\n",
      "\n",
      "Number of segments: 2\n",
      "\n",
      "\n",
      "Number of segments: 2\n",
      "\n",
      "\n",
      "Number of segments: 2\n",
      "\n",
      "\n",
      "Number of segments: 2\n",
      "\n",
      "\n",
      "Number of segments: 2\n",
      "\n"
     ]
    },
    {
     "name": "stdout",
     "output_type": "stream",
     "text": [
      "\n",
      "Number of segments: 2\n",
      "\n",
      "\n",
      "Number of segments: 4\n",
      "\n",
      "\n",
      "Number of segments: 4\n",
      "\n",
      "\n",
      "Number of segments: 1\n",
      "\n",
      "\n",
      "Number of segments: 1\n",
      "\n",
      "\n",
      "Number of segments: 1\n",
      "\n",
      "\n",
      "Number of segments: 2\n",
      "\n",
      "\n",
      "Number of segments: 2\n",
      "\n",
      "\n",
      "Number of segments: 2\n",
      "\n",
      "\n",
      "Number of segments: 1\n",
      "\n",
      "\n",
      "Number of segments: 3\n",
      "\n",
      "\n",
      "Number of segments: 3\n",
      "\n",
      "\n",
      "Number of segments: 3\n",
      "\n",
      "\n",
      "Number of segments: 2\n",
      "\n",
      "\n",
      "Number of segments: 2\n",
      "\n",
      "\n",
      "Number of segments: 2\n",
      "\n",
      "\n",
      "Number of segments: 2\n",
      "\n",
      "\n",
      "Number of segments: 3\n",
      "\n",
      "\n",
      "Number of segments: 2\n",
      "\n",
      "\n",
      "Number of segments: 2\n",
      "\n",
      "\n",
      "Number of segments: 2\n",
      "\n",
      "\n",
      "Number of segments: 2\n",
      "\n",
      "\n",
      "Number of segments: 2\n",
      "\n",
      "\n",
      "Number of segments: 3\n",
      "\n",
      "\n",
      "Number of segments: 2\n",
      "\n",
      "\n",
      "Number of segments: 2\n",
      "\n",
      "\n",
      "Number of segments: 2\n",
      "\n",
      "\n",
      "Number of segments: 2\n",
      "\n",
      "\n",
      "Number of segments: 2\n",
      "\n",
      "\n",
      "Number of segments: 2\n",
      "\n",
      "\n",
      "Number of segments: 2\n",
      "\n",
      "\n",
      "Number of segments: 2\n",
      "\n",
      "\n",
      "Number of segments: 2\n",
      "\n",
      "\n",
      "Number of segments: 1\n",
      "\n",
      "\n",
      "Number of segments: 3\n",
      "\n",
      "\n",
      "Number of segments: 2\n",
      "\n",
      "\n",
      "Number of segments: 2\n",
      "\n",
      "\n",
      "Number of segments: 2\n",
      "\n",
      "\n",
      "Number of segments: 2\n",
      "\n",
      "\n",
      "Number of segments: 2\n",
      "\n",
      "\n",
      "Number of segments: 2\n",
      "\n",
      "\n",
      "Number of segments: 2\n",
      "\n",
      "\n",
      "Number of segments: 1\n",
      "\n",
      "\n",
      "Number of segments: 2\n",
      "\n",
      "\n",
      "Number of segments: 3\n",
      "\n",
      "\n",
      "Number of segments: 2\n",
      "\n",
      "\n",
      "Number of segments: 2\n",
      "\n",
      "\n",
      "Number of segments: 2\n",
      "\n",
      "\n",
      "Number of segments: 2\n",
      "\n",
      "\n",
      "Number of segments: 2\n",
      "\n",
      "\n",
      "Number of segments: 2\n",
      "\n",
      "\n",
      "Number of segments: 1\n",
      "\n",
      "\n",
      "Number of segments: 2\n",
      "\n",
      "\n",
      "Number of segments: 1\n",
      "\n",
      "\n",
      "Number of segments: 2\n",
      "\n",
      "\n",
      "Number of segments: 2\n",
      "\n",
      "\n",
      "Number of segments: 3\n",
      "\n",
      "\n",
      "Number of segments: 2\n",
      "\n",
      "\n",
      "Number of segments: 2\n",
      "\n",
      "\n",
      "Number of segments: 2\n",
      "\n",
      "\n",
      "Number of segments: 1\n",
      "\n",
      "\n",
      "Number of segments: 2\n",
      "\n",
      "\n",
      "Number of segments: 1\n",
      "\n",
      "\n",
      "Number of segments: 2\n",
      "\n",
      "\n",
      "Number of segments: 2\n",
      "\n",
      "\n",
      "Number of segments: 2\n",
      "\n",
      "\n",
      "Number of segments: 2\n",
      "\n",
      "\n",
      "Number of segments: 2\n",
      "\n",
      "\n",
      "Number of segments: 2\n",
      "\n",
      "\n",
      "Number of segments: 2\n",
      "\n",
      "\n",
      "Number of segments: 3\n",
      "\n",
      "\n",
      "Number of segments: 3\n",
      "\n",
      "\n",
      "Number of segments: 2\n",
      "\n",
      "\n",
      "Number of segments: 2\n",
      "\n",
      "\n",
      "Number of segments: 2\n",
      "\n",
      "\n",
      "Number of segments: 1\n",
      "\n",
      "\n",
      "Number of segments: 2\n",
      "\n",
      "\n",
      "Number of segments: 2\n",
      "\n",
      "\n",
      "Number of segments: 2\n",
      "\n",
      "\n",
      "Number of segments: 2\n",
      "\n",
      "\n",
      "Number of segments: 2\n",
      "\n",
      "\n",
      "Number of segments: 2\n",
      "\n",
      "\n",
      "Number of segments: 2\n",
      "\n",
      "\n",
      "Number of segments: 2\n",
      "\n",
      "\n",
      "Number of segments: 2\n",
      "\n",
      "\n",
      "Number of segments: 2\n",
      "\n",
      "\n",
      "Number of segments: 2\n",
      "\n",
      "\n",
      "Number of segments: 2\n",
      "\n",
      "\n",
      "Number of segments: 2\n",
      "\n",
      "\n",
      "Number of segments: 2\n",
      "\n",
      "\n",
      "Number of segments: 2\n",
      "\n",
      "\n",
      "Number of segments: 2\n",
      "\n",
      "\n",
      "Number of segments: 2\n",
      "\n",
      "\n",
      "Number of segments: 1\n",
      "\n",
      "\n",
      "Number of segments: 1\n",
      "\n",
      "\n",
      "Number of segments: 1\n",
      "\n",
      "\n",
      "Number of segments: 2\n",
      "\n",
      "\n",
      "Number of segments: 2\n",
      "\n",
      "\n",
      "Number of segments: 2\n",
      "\n",
      "\n",
      "Number of segments: 1\n",
      "\n",
      "\n",
      "Number of segments: 1\n",
      "\n",
      "\n",
      "Number of segments: 1\n",
      "\n",
      "\n",
      "Number of segments: 2\n",
      "\n",
      "\n",
      "Number of segments: 2\n",
      "\n",
      "\n",
      "Number of segments: 2\n",
      "\n",
      "\n",
      "Number of segments: 2\n",
      "\n",
      "\n",
      "Number of segments: 2\n",
      "\n",
      "\n",
      "Number of segments: 2\n",
      "\n",
      "\n",
      "Number of segments: 1\n",
      "\n",
      "\n",
      "Number of segments: 2\n",
      "\n",
      "\n",
      "Number of segments: 2\n",
      "\n",
      "\n",
      "Number of segments: 1\n",
      "\n",
      "\n",
      "Number of segments: 1\n",
      "\n",
      "\n",
      "Number of segments: 1\n",
      "\n",
      "\n",
      "Number of segments: 2\n",
      "\n",
      "\n",
      "Number of segments: 2\n",
      "\n",
      "\n",
      "Number of segments: 2\n",
      "\n",
      "\n",
      "Number of segments: 1\n",
      "\n",
      "\n",
      "Number of segments: 2\n",
      "\n",
      "\n",
      "Number of segments: 2\n",
      "\n",
      "\n",
      "Number of segments: 1\n",
      "\n",
      "\n",
      "Number of segments: 1\n",
      "\n",
      "\n",
      "Number of segments: 1\n",
      "\n",
      "\n",
      "Number of segments: 2\n",
      "\n",
      "\n",
      "Number of segments: 2\n",
      "\n",
      "\n",
      "Number of segments: 3\n",
      "\n",
      "\n",
      "Number of segments: 1\n",
      "\n",
      "\n",
      "Number of segments: 1\n",
      "\n",
      "\n",
      "Number of segments: 1\n",
      "\n",
      "\n",
      "Number of segments: 2\n",
      "\n",
      "\n",
      "Number of segments: 2\n",
      "\n",
      "\n",
      "Number of segments: 2\n",
      "\n",
      "\n",
      "Number of segments: 1\n",
      "\n",
      "\n",
      "Number of segments: 2\n",
      "\n",
      "\n",
      "Number of segments: 2\n",
      "\n",
      "\n",
      "Number of segments: 1\n",
      "\n",
      "\n",
      "Number of segments: 2\n",
      "\n",
      "\n",
      "Number of segments: 2\n",
      "\n",
      "\n",
      "Number of segments: 2\n",
      "\n",
      "\n",
      "Number of segments: 2\n",
      "\n",
      "\n",
      "Number of segments: 2\n",
      "\n",
      "\n",
      "Number of segments: 1\n",
      "\n",
      "\n",
      "Number of segments: 2\n",
      "\n",
      "\n",
      "Number of segments: 2\n",
      "\n",
      "\n",
      "Number of segments: 2\n",
      "\n",
      "\n",
      "Number of segments: 2\n",
      "\n",
      "\n",
      "Number of segments: 2\n",
      "\n",
      "\n",
      "Number of segments: 1\n",
      "\n",
      "\n",
      "Number of segments: 1\n",
      "\n",
      "\n",
      "Number of segments: 2\n",
      "\n",
      "\n",
      "Number of segments: 2\n",
      "\n",
      "\n",
      "Number of segments: 2\n",
      "\n",
      "\n",
      "Number of segments: 2\n",
      "\n",
      "\n",
      "Number of segments: 1\n",
      "\n",
      "\n",
      "Number of segments: 2\n",
      "\n",
      "\n",
      "Number of segments: 2\n",
      "\n",
      "\n",
      "Number of segments: 1\n",
      "\n",
      "\n",
      "Number of segments: 1\n",
      "\n",
      "\n",
      "Number of segments: 2\n",
      "\n",
      "\n",
      "Number of segments: 1\n",
      "\n",
      "\n",
      "Number of segments: 1\n",
      "\n",
      "\n",
      "Number of segments: 2\n",
      "\n",
      "\n",
      "Number of segments: 1\n",
      "\n",
      "\n",
      "Number of segments: 2\n",
      "\n",
      "\n",
      "Number of segments: 2\n",
      "\n",
      "\n",
      "Number of segments: 2\n",
      "\n",
      "\n",
      "Number of segments: 2\n",
      "\n",
      "\n",
      "Number of segments: 2\n",
      "\n",
      "\n",
      "Number of segments: 2\n",
      "\n",
      "\n",
      "Number of segments: 2\n",
      "\n",
      "\n",
      "Number of segments: 1\n",
      "\n",
      "\n",
      "Number of segments: 1\n",
      "\n",
      "\n",
      "Number of segments: 1\n",
      "\n",
      "\n",
      "Number of segments: 1\n",
      "\n",
      "\n",
      "Number of segments: 2\n",
      "\n",
      "\n",
      "Number of segments: 2\n",
      "\n",
      "\n",
      "Number of segments: 2\n",
      "\n",
      "\n",
      "Number of segments: 1\n",
      "\n",
      "\n",
      "Number of segments: 1\n",
      "\n",
      "\n",
      "Number of segments: 1\n",
      "\n",
      "\n",
      "Number of segments: 1\n",
      "\n",
      "\n",
      "Number of segments: 1\n",
      "\n",
      "\n",
      "Number of segments: 5\n",
      "\n",
      "\n",
      "Number of segments: 1\n",
      "\n",
      "\n",
      "Number of segments: 2\n",
      "\n",
      "\n",
      "Number of segments: 2\n",
      "\n",
      "\n",
      "Number of segments: 2\n",
      "\n",
      "\n",
      "Number of segments: 2\n",
      "\n",
      "\n",
      "Number of segments: 2\n",
      "\n",
      "\n",
      "Number of segments: 3\n",
      "\n",
      "\n",
      "Number of segments: 2\n",
      "\n",
      "\n",
      "Number of segments: 3\n",
      "\n",
      "\n",
      "Number of segments: 1\n",
      "\n",
      "\n",
      "Number of segments: 3\n",
      "\n",
      "\n",
      "Number of segments: 4\n",
      "\n",
      "\n",
      "Number of segments: 1\n",
      "\n",
      "\n",
      "Number of segments: 3\n",
      "\n",
      "\n",
      "Number of segments: 2\n",
      "\n",
      "\n",
      "Number of segments: 2\n",
      "\n",
      "\n",
      "Number of segments: 2\n",
      "\n",
      "\n",
      "Number of segments: 2\n",
      "\n",
      "\n",
      "Number of segments: 1\n",
      "\n",
      "\n",
      "Number of segments: 1\n",
      "\n",
      "\n",
      "Number of segments: 1\n",
      "\n",
      "\n",
      "Number of segments: 1\n",
      "\n",
      "\n",
      "Number of segments: 1\n",
      "\n",
      "\n",
      "Number of segments: 2\n",
      "\n",
      "\n",
      "Number of segments: 2\n",
      "\n",
      "\n",
      "Number of segments: 3\n",
      "\n",
      "\n",
      "Number of segments: 3\n",
      "\n",
      "\n",
      "Number of segments: 2\n",
      "\n",
      "\n",
      "Number of segments: 2\n",
      "\n",
      "\n",
      "Number of segments: 2\n",
      "\n",
      "\n",
      "Number of segments: 2\n",
      "\n",
      "\n",
      "Number of segments: 2\n",
      "\n",
      "\n",
      "Number of segments: 2\n",
      "\n",
      "\n",
      "Number of segments: 1\n",
      "\n",
      "\n",
      "Number of segments: 1\n",
      "\n",
      "\n",
      "Number of segments: 2\n",
      "\n",
      "\n",
      "Number of segments: 2\n",
      "\n",
      "\n",
      "Number of segments: 2\n",
      "\n",
      "\n",
      "Number of segments: 2\n",
      "\n",
      "\n",
      "Number of segments: 1\n",
      "\n",
      "\n",
      "Number of segments: 3\n",
      "\n",
      "\n",
      "Number of segments: 3\n",
      "\n",
      "\n",
      "Number of segments: 1\n",
      "\n",
      "\n",
      "Number of segments: 2\n",
      "\n",
      "\n",
      "Number of segments: 2\n",
      "\n",
      "\n",
      "Number of segments: 2\n",
      "\n",
      "\n",
      "Number of segments: 2\n",
      "\n",
      "\n",
      "Number of segments: 2\n",
      "\n",
      "\n",
      "Number of segments: 2\n",
      "\n",
      "\n",
      "Number of segments: 2\n",
      "\n",
      "\n",
      "Number of segments: 2\n",
      "\n",
      "\n",
      "Number of segments: 2\n",
      "\n",
      "\n",
      "Number of segments: 1\n",
      "\n",
      "\n",
      "Number of segments: 3\n",
      "\n",
      "\n",
      "Number of segments: 1\n",
      "\n",
      "\n",
      "Number of segments: 2\n",
      "\n",
      "\n",
      "Number of segments: 4\n",
      "\n",
      "\n",
      "Number of segments: 3\n",
      "\n",
      "\n",
      "Number of segments: 3\n",
      "\n",
      "\n",
      "Number of segments: 3\n",
      "\n",
      "\n",
      "Number of segments: 1\n",
      "\n",
      "\n",
      "Number of segments: 2\n",
      "\n",
      "\n",
      "Number of segments: 2\n",
      "\n",
      "\n",
      "Number of segments: 1\n",
      "\n",
      "\n",
      "Number of segments: 1\n",
      "\n",
      "\n",
      "Number of segments: 1\n",
      "\n",
      "\n",
      "Number of segments: 1\n",
      "\n",
      "\n",
      "Number of segments: 1\n",
      "\n",
      "\n",
      "Number of segments: 2\n",
      "\n",
      "\n",
      "Number of segments: 2\n",
      "\n",
      "\n",
      "Number of segments: 2\n",
      "\n",
      "\n",
      "Number of segments: 2\n",
      "\n",
      "\n",
      "Number of segments: 2\n",
      "\n",
      "\n",
      "Number of segments: 2\n",
      "\n",
      "\n",
      "Number of segments: 1\n",
      "\n",
      "\n",
      "Number of segments: 1\n",
      "\n",
      "\n",
      "Number of segments: 1\n",
      "\n",
      "\n",
      "Number of segments: 2\n",
      "\n",
      "\n",
      "Number of segments: 2\n",
      "\n",
      "\n",
      "Number of segments: 2\n",
      "\n",
      "\n",
      "Number of segments: 2\n",
      "\n",
      "\n",
      "Number of segments: 2\n",
      "\n",
      "\n",
      "Number of segments: 2\n",
      "\n",
      "\n",
      "Number of segments: 2\n",
      "\n",
      "\n",
      "Number of segments: 2\n",
      "\n",
      "\n",
      "Number of segments: 4\n",
      "\n",
      "\n",
      "Number of segments: 3\n",
      "\n",
      "\n",
      "Number of segments: 4\n",
      "\n",
      "\n",
      "Number of segments: 5\n",
      "\n",
      "\n",
      "Number of segments: 5\n",
      "\n",
      "\n",
      "Number of segments: 2\n",
      "\n",
      "\n",
      "Number of segments: 2\n",
      "\n",
      "\n",
      "Number of segments: 2\n",
      "\n",
      "\n",
      "Number of segments: 2\n",
      "\n",
      "\n",
      "Number of segments: 2\n",
      "\n",
      "\n",
      "Number of segments: 3\n",
      "\n",
      "\n",
      "Number of segments: 2\n",
      "\n",
      "\n",
      "Number of segments: 2\n",
      "\n",
      "\n",
      "Number of segments: 2\n",
      "\n",
      "\n",
      "Number of segments: 3\n",
      "\n",
      "\n",
      "Number of segments: 3\n",
      "\n",
      "\n",
      "Number of segments: 3\n",
      "\n",
      "\n",
      "Number of segments: 1\n",
      "\n",
      "\n",
      "Number of segments: 1\n",
      "\n",
      "\n",
      "Number of segments: 1\n",
      "\n",
      "\n",
      "Number of segments: 2\n",
      "\n",
      "\n",
      "Number of segments: 2\n",
      "\n",
      "\n",
      "Number of segments: 2\n",
      "\n",
      "\n",
      "Number of segments: 2\n",
      "\n",
      "\n",
      "Number of segments: 3\n",
      "\n",
      "\n",
      "Number of segments: 4\n",
      "\n",
      "\n",
      "Number of segments: 2\n",
      "\n",
      "\n",
      "Number of segments: 2\n",
      "\n",
      "\n",
      "Number of segments: 3\n",
      "\n",
      "\n",
      "Number of segments: 1\n",
      "\n",
      "\n",
      "Number of segments: 2\n",
      "\n",
      "\n",
      "Number of segments: 2\n",
      "\n",
      "\n",
      "Number of segments: 3\n",
      "\n",
      "\n",
      "Number of segments: 3\n",
      "\n",
      "\n",
      "Number of segments: 3\n",
      "\n",
      "\n",
      "Number of segments: 5\n",
      "\n",
      "\n",
      "Number of segments: 5\n",
      "\n",
      "\n",
      "Number of segments: 5\n",
      "\n",
      "\n",
      "Number of segments: 2\n",
      "\n",
      "\n",
      "Number of segments: 2\n",
      "\n",
      "\n",
      "Number of segments: 3\n",
      "\n",
      "\n",
      "Number of segments: 1\n",
      "\n",
      "\n",
      "Number of segments: 3\n",
      "\n",
      "\n",
      "Number of segments: 2\n",
      "\n",
      "\n",
      "Number of segments: 1\n",
      "\n",
      "\n",
      "Number of segments: 3\n",
      "\n",
      "\n",
      "Number of segments: 4\n",
      "\n",
      "\n",
      "Number of segments: 1\n",
      "\n",
      "\n",
      "Number of segments: 1\n",
      "\n",
      "\n",
      "Number of segments: 2\n",
      "\n",
      "\n",
      "Number of segments: 1\n",
      "\n",
      "\n",
      "Number of segments: 1\n",
      "\n",
      "\n",
      "Number of segments: 1\n",
      "\n",
      "\n",
      "Number of segments: 2\n",
      "\n",
      "\n",
      "Number of segments: 3\n",
      "\n",
      "\n",
      "Number of segments: 3\n",
      "\n",
      "\n",
      "Number of segments: 2\n",
      "\n",
      "\n",
      "Number of segments: 2\n",
      "\n",
      "\n",
      "Number of segments: 2\n",
      "\n",
      "\n",
      "Number of segments: 1\n",
      "\n",
      "\n",
      "Number of segments: 3\n",
      "\n",
      "\n",
      "Number of segments: 3\n",
      "\n",
      "\n",
      "Number of segments: 2\n",
      "\n",
      "\n",
      "Number of segments: 2\n",
      "\n",
      "\n",
      "Number of segments: 2\n",
      "\n",
      "\n",
      "Number of segments: 2\n",
      "\n",
      "\n",
      "Number of segments: 2\n",
      "\n",
      "\n",
      "Number of segments: 2\n",
      "\n",
      "\n",
      "Number of segments: 2\n",
      "\n",
      "\n",
      "Number of segments: 2\n",
      "\n",
      "\n",
      "Number of segments: 2\n",
      "\n",
      "\n",
      "Number of segments: 2\n",
      "\n",
      "\n",
      "Number of segments: 2\n",
      "\n",
      "\n",
      "Number of segments: 3\n",
      "\n",
      "\n",
      "Number of segments: 2\n",
      "\n",
      "\n"
     ]
    },
    {
     "name": "stdout",
     "output_type": "stream",
     "text": [
      "Number of segments: 2\n",
      "\n",
      "\n",
      "Number of segments: 1\n",
      "\n",
      "\n",
      "Number of segments: 1\n",
      "\n",
      "\n",
      "Number of segments: 1\n",
      "\n",
      "\n",
      "Number of segments: 2\n",
      "\n",
      "\n",
      "Number of segments: 2\n",
      "\n",
      "\n",
      "Number of segments: 2\n",
      "\n",
      "\n",
      "Number of segments: 2\n",
      "\n",
      "\n",
      "Number of segments: 3\n",
      "\n",
      "\n",
      "Number of segments: 3\n",
      "\n",
      "\n",
      "Number of segments: 3\n",
      "\n",
      "\n",
      "Number of segments: 1\n",
      "\n",
      "\n",
      "Number of segments: 1\n",
      "\n",
      "\n",
      "Number of segments: 2\n",
      "\n",
      "\n",
      "Number of segments: 2\n",
      "\n",
      "\n",
      "Number of segments: 2\n",
      "\n",
      "\n",
      "Number of segments: 2\n",
      "\n",
      "\n",
      "Number of segments: 2\n",
      "\n",
      "\n",
      "Number of segments: 2\n",
      "\n",
      "\n",
      "Number of segments: 2\n",
      "\n",
      "\n",
      "Number of segments: 2\n",
      "\n",
      "\n",
      "Number of segments: 2\n",
      "\n",
      "\n",
      "Number of segments: 2\n",
      "\n",
      "\n",
      "Number of segments: 2\n",
      "\n",
      "\n",
      "Number of segments: 2\n",
      "\n",
      "\n",
      "Number of segments: 2\n",
      "\n",
      "\n",
      "Number of segments: 2\n",
      "\n",
      "\n",
      "Number of segments: 2\n",
      "\n",
      "\n",
      "Number of segments: 2\n",
      "\n",
      "\n",
      "Number of segments: 1\n",
      "\n",
      "\n",
      "Number of segments: 3\n",
      "\n",
      "\n",
      "Number of segments: 2\n",
      "\n",
      "\n",
      "Number of segments: 2\n",
      "\n",
      "\n",
      "Number of segments: 2\n",
      "\n",
      "\n",
      "Number of segments: 2\n",
      "\n",
      "\n",
      "Number of segments: 2\n",
      "\n",
      "\n",
      "Number of segments: 3\n",
      "\n",
      "\n",
      "Number of segments: 2\n",
      "\n",
      "\n",
      "Number of segments: 2\n",
      "\n",
      "\n",
      "Number of segments: 2\n",
      "\n",
      "\n",
      "Number of segments: 2\n",
      "\n",
      "\n",
      "Number of segments: 2\n",
      "\n",
      "\n",
      "Number of segments: 3\n",
      "\n",
      "\n",
      "Number of segments: 3\n",
      "\n",
      "\n",
      "Number of segments: 1\n",
      "\n",
      "\n",
      "Number of segments: 2\n",
      "\n",
      "\n",
      "Number of segments: 1\n",
      "\n",
      "\n",
      "Number of segments: 2\n",
      "\n",
      "\n",
      "Number of segments: 2\n",
      "\n",
      "\n",
      "Number of segments: 2\n",
      "\n",
      "\n",
      "Number of segments: 1\n",
      "\n",
      "\n",
      "Number of segments: 1\n",
      "\n",
      "\n",
      "Number of segments: 2\n",
      "\n",
      "\n",
      "Number of segments: 2\n",
      "\n",
      "\n",
      "Number of segments: 2\n",
      "\n",
      "\n",
      "Number of segments: 2\n",
      "\n",
      "\n",
      "Number of segments: 2\n",
      "\n",
      "\n",
      "Number of segments: 2\n",
      "\n",
      "\n",
      "Number of segments: 2\n",
      "\n",
      "\n",
      "Number of segments: 1\n",
      "\n",
      "\n",
      "Number of segments: 1\n",
      "\n",
      "\n",
      "Number of segments: 1\n",
      "\n",
      "\n",
      "Number of segments: 2\n",
      "\n",
      "\n",
      "Number of segments: 2\n",
      "\n",
      "\n",
      "Number of segments: 1\n",
      "\n",
      "\n",
      "Number of segments: 2\n",
      "\n",
      "\n",
      "Number of segments: 2\n",
      "\n",
      "\n",
      "Number of segments: 2\n",
      "\n",
      "\n",
      "Number of segments: 2\n",
      "\n",
      "\n",
      "Number of segments: 2\n",
      "\n",
      "\n",
      "Number of segments: 2\n",
      "\n",
      "\n",
      "Number of segments: 1\n",
      "\n",
      "\n",
      "Number of segments: 3\n",
      "\n",
      "\n",
      "Number of segments: 4\n",
      "\n",
      "\n",
      "Number of segments: 2\n",
      "\n",
      "\n",
      "Number of segments: 2\n",
      "\n",
      "\n",
      "Number of segments: 3\n",
      "\n",
      "\n",
      "Number of segments: 2\n",
      "\n",
      "\n",
      "Number of segments: 3\n",
      "\n",
      "\n",
      "Number of segments: 2\n",
      "\n",
      "\n",
      "Number of segments: 1\n",
      "\n",
      "\n",
      "Number of segments: 2\n",
      "\n",
      "\n",
      "Number of segments: 2\n",
      "\n",
      "\n",
      "Number of segments: 2\n",
      "\n",
      "\n",
      "Number of segments: 2\n",
      "\n",
      "\n",
      "Number of segments: 2\n",
      "\n",
      "\n",
      "Number of segments: 2\n",
      "\n",
      "\n",
      "Number of segments: 2\n",
      "\n",
      "\n",
      "Number of segments: 2\n",
      "\n",
      "\n",
      "Number of segments: 2\n",
      "\n",
      "\n",
      "Number of segments: 2\n",
      "\n",
      "\n",
      "Number of segments: 2\n",
      "\n",
      "\n",
      "Number of segments: 2\n",
      "\n",
      "\n",
      "Number of segments: 2\n",
      "\n",
      "\n",
      "Number of segments: 2\n",
      "\n",
      "\n",
      "Number of segments: 2\n",
      "\n",
      "\n",
      "Number of segments: 2\n",
      "\n",
      "\n",
      "Number of segments: 2\n",
      "\n",
      "\n",
      "Number of segments: 2\n",
      "\n",
      "\n",
      "Number of segments: 2\n",
      "\n",
      "\n",
      "Number of segments: 2\n",
      "\n",
      "\n",
      "Number of segments: 2\n",
      "\n",
      "\n",
      "Number of segments: 1\n",
      "\n",
      "\n",
      "Number of segments: 2\n",
      "\n",
      "\n",
      "Number of segments: 1\n",
      "\n",
      "\n",
      "Number of segments: 1\n",
      "\n",
      "\n",
      "Number of segments: 1\n",
      "\n",
      "\n",
      "Number of segments: 2\n",
      "\n",
      "\n",
      "Number of segments: 2\n",
      "\n",
      "\n",
      "Number of segments: 3\n",
      "\n",
      "\n",
      "Number of segments: 2\n",
      "\n",
      "\n",
      "Number of segments: 3\n",
      "\n",
      "\n",
      "Number of segments: 3\n",
      "\n",
      "\n",
      "Number of segments: 2\n",
      "\n",
      "\n",
      "Number of segments: 2\n",
      "\n",
      "\n",
      "Number of segments: 2\n",
      "\n",
      "\n",
      "Number of segments: 2\n",
      "\n",
      "\n",
      "Number of segments: 2\n",
      "\n",
      "\n",
      "Number of segments: 3\n",
      "\n",
      "\n",
      "Number of segments: 2\n",
      "\n",
      "\n",
      "Number of segments: 2\n",
      "\n",
      "\n",
      "Number of segments: 2\n",
      "\n",
      "\n",
      "Number of segments: 2\n",
      "\n",
      "\n",
      "Number of segments: 2\n",
      "\n",
      "\n",
      "Number of segments: 2\n",
      "\n",
      "\n",
      "Number of segments: 2\n",
      "\n",
      "\n",
      "Number of segments: 2\n",
      "\n",
      "\n",
      "Number of segments: 2\n",
      "\n",
      "\n",
      "Number of segments: 2\n",
      "\n",
      "\n",
      "Number of segments: 2\n",
      "\n",
      "\n",
      "Number of segments: 2\n",
      "\n",
      "\n",
      "Number of segments: 2\n",
      "\n",
      "\n",
      "Number of segments: 2\n",
      "\n",
      "\n",
      "Number of segments: 1\n",
      "\n",
      "\n",
      "Number of segments: 1\n",
      "\n",
      "\n",
      "Number of segments: 1\n",
      "\n",
      "\n",
      "Number of segments: 1\n",
      "\n",
      "\n",
      "Number of segments: 1\n",
      "\n",
      "\n",
      "Number of segments: 1\n",
      "\n",
      "\n",
      "Number of segments: 2\n",
      "\n",
      "\n",
      "Number of segments: 1\n",
      "\n",
      "\n",
      "Number of segments: 2\n",
      "\n",
      "\n",
      "Number of segments: 2\n",
      "\n",
      "\n",
      "Number of segments: 2\n",
      "\n",
      "\n",
      "Number of segments: 1\n",
      "\n",
      "\n",
      "Number of segments: 2\n",
      "\n",
      "\n",
      "Number of segments: 1\n",
      "\n",
      "\n",
      "Number of segments: 1\n",
      "\n",
      "\n",
      "Number of segments: 1\n",
      "\n",
      "\n",
      "Number of segments: 2\n",
      "\n",
      "\n",
      "Number of segments: 2\n",
      "\n",
      "\n",
      "Number of segments: 1\n",
      "\n",
      "\n",
      "Number of segments: 2\n",
      "\n",
      "\n",
      "Number of segments: 2\n",
      "\n",
      "\n",
      "Number of segments: 2\n",
      "\n",
      "\n",
      "Number of segments: 2\n",
      "\n",
      "\n",
      "Number of segments: 2\n",
      "\n",
      "\n",
      "Number of segments: 2\n",
      "\n",
      "\n",
      "Number of segments: 2\n",
      "\n",
      "\n",
      "Number of segments: 2\n",
      "\n",
      "\n",
      "Number of segments: 2\n",
      "\n",
      "\n",
      "Number of segments: 1\n",
      "\n",
      "\n",
      "Number of segments: 1\n",
      "\n",
      "\n",
      "Number of segments: 1\n",
      "\n",
      "\n",
      "Number of segments: 1\n",
      "\n",
      "\n",
      "Number of segments: 1\n",
      "\n",
      "\n",
      "Number of segments: 1\n",
      "\n",
      "branches_without_postsyn_req query = \n",
      "skeletal_length > 10000  and ((synapse_density_offset_endpoint_upstream < 0.00015) or (n_synapses_offset_endpoint_upstream <= 2)) and (n_synapses_pre_offset_endpoint_upstream <= 1) and (width_new > 95) and (width_new < 650) and (n_synapses_spine_offset_endpoint_upstream < 3)\n",
      "No limb branch to plot\n",
      "Starting axon branch was the starting node so using border vertices and NOT computing upstream branch\n",
      "upstream_node_to_axon_starting_branch = None\n",
      "More than 1 seperated mesh (taking the top one): [<trimesh.Trimesh(vertices.shape=(20342, 3), faces.shape=(40479, 3))>\n",
      " <trimesh.Trimesh(vertices.shape=(113, 3), faces.shape=(176, 3))>]\n",
      "invalidation_d = 1500\n",
      "use_adaptive_invalidation_d= False\n",
      "axon_width_preprocess_limb_max = 200\n",
      "filter_end_node_length= 1150\n",
      "filter_end_node_length_meshparty = 1150\n",
      "invalidation_d = 1500\n",
      "root_curr = [1484150.   588282.7 1095391. ]\n",
      "Time for preparing soma vertices and root: 0.0002751350402832031\n",
      "invalidation_d = 1500\n",
      "smooth_neighborhood = 0\n",
      "cc_vertex_thresh = 10\n"
     ]
    },
    {
     "name": "stderr",
     "output_type": "stream",
     "text": [
      "100%|██████████| 1/1 [00:00<00:00,  2.78it/s]\n"
     ]
    },
    {
     "name": "stdout",
     "output_type": "stream",
     "text": [
      "meshparty_segment_size = 100\n",
      "Time for 1st pass MP skeletonization: 0.6641898155212402\n",
      "branches_touching_root = [13]\n",
      "combining close nodes\n",
      "combine_threshold = 1300\n",
      "length of Graph = 7906\n",
      "After combining close endpoints max(kept_branches_idx) = 85, len(kept_branches_idx) = 75\n",
      "empty_indices % = 0.0\n",
      " conflict_indices % = 0.028463139120095123\n",
      "Decomposing first pass: 6.6084864139556885\n",
      "Only Using MeshParty Skeletonization and Mesh Correspondence\n",
      "Another print\n",
      "Divinding into MP and MAP pieces: 1.0728836059570312e-05\n",
      "Total time for MAP sublimb processing 3.0994415283203125e-06\n",
      "---- Working on MP Decomposition #0 ----\n",
      "Using Quicker soma_to_piece_touching_vertices because no MAP and only one sublimb_mesh piece \n",
      "MP filtering soma verts: 1.52587890625e-05\n",
      "Fixing Possible Soma Extension Branch for Sublimb 0\n",
      "Total time for mesh KDTree = 0.02882552146911621\n",
      "sbv[0].reshape(-1,3) = [[1484150.   588282.7 1095391. ]]\n",
      "closest_sk_pt_coord BEFORE = [1484209.07018222  588125.41800575 1095073.94391184]\n",
      "current_skeleton.shape = (443, 2, 3)\n",
      "node_for_stitch = 441: [1484209.07018222  588125.41800575 1095073.94391184]\n",
      "node_for_stitch AFTER = 441: [1484209.07018222  588125.41800575 1095073.94391184]\n",
      "possible_node_loc = [  0 443]\n",
      "possible_node_loc AFTER = [  0 443]\n",
      "curr_shortest_path = [441, 442.0, 443]\n",
      "Current stitch point was not a branch or endpoint, shortest_path_length to one = 189.87969562013262\n",
      "Changing the stitch point becasue the distance to end or branch node was 189.87969562013262\n",
      "New stitch point has degree 1\n",
      "change_status for create soma extending pieces = True\n",
      "closest_sk_pt_coord AFTER = [1484351.   588129.9 1095200. ]\n",
      "skipping soma 0 because closest skeleton node was already end node\n",
      "endpoints_must_keep = {0: array([[1484351. ,  588129.9, 1095200. ]])}\n",
      "match_sk_branches = [12]\n",
      "The new branch info was none so skipping \n",
      "\n",
      "No soma extending branch was added for this sublimb even though it had a soma border (means they already existed)\n",
      "MP (because soma touching verts) soma extension add: 1.966994047164917\n",
      "There were not both MAP and MP pieces so skipping the stitch resolving phase\n",
      "Time for decomp of Limb = 9.505507707595825\n",
      "Number of matching vertices = 20\n",
      "Only one endpoint after filtering away the endpoints that are not on the skeleton\n",
      "Removed 0 skeletal branches\n",
      "40478 40479\n",
      "For marked faces: None\n",
      "empty_indices % = 0.0\n",
      " conflict_indices % = 0.0\n",
      "Limb Correspondence before stitching = 75\n",
      "Filtering away non soma floating pieces near the soma\n",
      "Before filter # of pieces = 1\n",
      "AFTER filter # of pieces = 1\n",
      "Starting the floating pieces preprocessing\n",
      "Floating 0: <trimesh.Trimesh(vertices.shape=(113, 3), faces.shape=(176, 3))>\n",
      "invalidation_d = 1500\n",
      "use_adaptive_invalidation_d= False\n",
      "axon_width_preprocess_limb_max = 200\n",
      "filter_end_node_length= 1150\n",
      "filter_end_node_length_meshparty = 1150\n",
      "invalidation_d = 1500\n",
      "root_curr = None\n",
      "Time for preparing soma vertices and root: 5.9604644775390625e-06\n",
      "invalidation_d = 1500\n",
      "smooth_neighborhood = 0\n",
      "cc_vertex_thresh = 10\n"
     ]
    },
    {
     "name": "stderr",
     "output_type": "stream",
     "text": [
      "100%|██████████| 1/1 [00:00<00:00, 372.76it/s]"
     ]
    },
    {
     "name": "stdout",
     "output_type": "stream",
     "text": [
      "meshparty_segment_size = 100\n",
      "Time for 1st pass MP skeletonization: 0.017223358154296875\n",
      "branches_touching_root = [0]\n",
      "combining close nodes\n",
      "combine_threshold = 1300\n",
      "length of Graph = 20\n",
      "After combining close endpoints max(kept_branches_idx) = 0, len(kept_branches_idx) = 1\n",
      "empty_indices % = 0.0\n",
      " conflict_indices % = 0.0\n",
      "Decomposing first pass: 0.020273923873901367\n",
      "Only Using MeshParty Skeletonization and Mesh Correspondence\n",
      "Another print\n",
      "Divinding into MP and MAP pieces: 1.0967254638671875e-05\n",
      "Total time for MAP sublimb processing 2.86102294921875e-06\n",
      "---- Working on MP Decomposition #0 ----\n",
      "Using Quicker soma_to_piece_touching_vertices because no MAP and only one sublimb_mesh piece \n",
      "MP filtering soma verts: 2.4557113647460938e-05\n",
      "Do Not Need to Fix MP Decomposition 0 so just continuing\n",
      "There were not both MAP and MP pieces so skipping the stitch resolving phase\n",
      "Time for decomp of Limb = 0.0385289192199707\n",
      "Removed 0 skeletal branches\n",
      "175 176\n",
      "For marked faces: None\n",
      "empty_indices % = 0.0\n",
      " conflict_indices % = 0.0\n"
     ]
    },
    {
     "name": "stderr",
     "output_type": "stream",
     "text": [
      "\n"
     ]
    },
    {
     "data": {
      "application/vnd.jupyter.widget-view+json": {
       "model_id": "900384fa8af64221b553109fa364e36d",
       "version_major": 2,
       "version_minor": 0
      },
      "text/plain": [
       "Container(figure=Figure(box_center=[0.5, 0.5, 0.5], box_size=[1.0, 1.0, 1.0], camera=PerspectiveCamera(fov=45.…"
      ]
     },
     "metadata": {},
     "output_type": "display_data"
    },
    {
     "name": "stdout",
     "output_type": "stream",
     "text": [
      "--> time = 0.11010599136352539\n",
      "Floating 1: <trimesh.Trimesh(vertices.shape=(3012, 3), faces.shape=(5404, 3))>\n",
      "invalidation_d = 1500\n",
      "use_adaptive_invalidation_d= False\n",
      "axon_width_preprocess_limb_max = 200\n",
      "filter_end_node_length= 1150\n",
      "filter_end_node_length_meshparty = 1150\n",
      "invalidation_d = 1500\n",
      "root_curr = None\n",
      "Time for preparing soma vertices and root: 5.0067901611328125e-06\n",
      "invalidation_d = 1500\n",
      "smooth_neighborhood = 0\n",
      "cc_vertex_thresh = 10\n"
     ]
    },
    {
     "name": "stderr",
     "output_type": "stream",
     "text": [
      "100%|██████████| 1/1 [00:00<00:00, 19.40it/s]\n"
     ]
    },
    {
     "name": "stdout",
     "output_type": "stream",
     "text": [
      "meshparty_segment_size = 100\n",
      "Time for 1st pass MP skeletonization: 0.09237098693847656\n",
      "branches_touching_root = [6]\n",
      "combining close nodes\n",
      "combine_threshold = 1300\n",
      "length of Graph = 344\n",
      "After combining close endpoints max(kept_branches_idx) = 12, len(kept_branches_idx) = 11\n",
      "empty_indices % = 0.0\n",
      " conflict_indices % = 0.0902269743012568\n",
      "Decomposing first pass: 0.3002033233642578\n",
      "Only Using MeshParty Skeletonization and Mesh Correspondence\n",
      "Another print\n",
      "Divinding into MP and MAP pieces: 7.867813110351562e-06\n",
      "Total time for MAP sublimb processing 3.337860107421875e-06\n",
      "---- Working on MP Decomposition #0 ----\n",
      "Using Quicker soma_to_piece_touching_vertices because no MAP and only one sublimb_mesh piece \n",
      "MP filtering soma verts: 1.4781951904296875e-05\n",
      "Do Not Need to Fix MP Decomposition 0 so just continuing\n",
      "There were not both MAP and MP pieces so skipping the stitch resolving phase\n",
      "Time for decomp of Limb = 0.4043552875518799\n",
      "Removed 2 skeletal branches\n",
      "5403 5404\n",
      "For marked faces: None\n",
      "empty_indices % = 0.0007401924500370096\n",
      " conflict_indices % = 0.0\n"
     ]
    },
    {
     "data": {
      "application/vnd.jupyter.widget-view+json": {
       "model_id": "21163356ba1543eca770148d5d7654fc",
       "version_major": 2,
       "version_minor": 0
      },
      "text/plain": [
       "Container(figure=Figure(box_center=[0.5, 0.5, 0.5], box_size=[1.0, 1.0, 1.0], camera=PerspectiveCamera(fov=45.…"
      ]
     },
     "metadata": {},
     "output_type": "display_data"
    },
    {
     "name": "stdout",
     "output_type": "stream",
     "text": [
      "--> time = 0.9365460872650146\n",
      "The closest float distance was 23581.571737481798 which was greater than the maximum stitch distance 5000\n",
      " --> so ending the floating mesh stitch processs\n",
      "concept_network_dict = {0: [<python_tools.networkx_utils.GraphOrderedEdges object at 0x7f84d128adc0>]}\n",
      "\n",
      "\n",
      "----Working on seperate_graph 0----\n",
      "\n",
      "\n",
      "---------Working on soma_idx = 0, soma_group_idx 0, endpt = [1484351.   588129.9 1095200. ]---------\n",
      "Starting_edge inside branches_to_conept = [[1467806.   619005.5 1081192. ]\n",
      " [1484351.   588129.9 1095200. ]]\n",
      "At the start, starting_node (in terms of the skeleton, that shouldn't match the starting edge) = [59]\n",
      "printing out current edge:\n",
      "[[1484351.   588129.9 1095200. ]\n",
      " [1467806.   619005.5 1081192. ]]\n",
      "edge_endpoints_to_process was empty so exiting loop after 76 iterations\n",
      "starting_node in concept map (that should match the starting edge) = 53\n",
      "Total time for branches to concept conversion = 0.6820981502532959\n",
      "\n",
      "Done generating concept network \n",
      "\n",
      "\n",
      "\n",
      "Number of segments: 15\n",
      "\n",
      "\n",
      "Number of segments: 9\n",
      "\n",
      "\n",
      "Number of segments: 14\n",
      "\n",
      "\n",
      "Number of segments: 9\n",
      "\n",
      "\n",
      "Number of segments: 3\n",
      "\n",
      "\n",
      "Number of segments: 5\n",
      "\n",
      "\n",
      "Number of segments: 3\n",
      "\n",
      "\n",
      "Number of segments: 10\n",
      "\n",
      "\n",
      "Number of segments: 4\n",
      "\n",
      "\n",
      "Number of segments: 3\n",
      "\n",
      "\n",
      "Number of segments: 4\n",
      "\n",
      "\n",
      "Number of segments: 5\n",
      "\n",
      "\n",
      "Number of segments: 4\n",
      "\n",
      "\n",
      "Number of segments: 49\n",
      "\n",
      "\n",
      "Number of segments: 2\n",
      "\n",
      "\n",
      "Number of segments: 20\n",
      "\n",
      "\n",
      "Number of segments: 5\n",
      "\n",
      "\n",
      "Number of segments: 6\n",
      "\n",
      "\n",
      "Number of segments: 4\n",
      "\n",
      "\n",
      "Number of segments: 6\n",
      "\n",
      "\n",
      "Number of segments: 5\n",
      "\n",
      "\n",
      "Number of segments: 8\n",
      "\n",
      "\n",
      "Number of segments: 9\n",
      "\n",
      "\n",
      "Number of segments: 2\n",
      "\n",
      "\n",
      "Number of segments: 6\n",
      "\n",
      "\n",
      "Number of segments: 6\n",
      "\n",
      "\n",
      "Number of segments: 4\n",
      "\n",
      "\n",
      "Number of segments: 4\n",
      "\n",
      "\n",
      "Number of segments: 3\n",
      "\n",
      "\n",
      "Number of segments: 5\n",
      "\n",
      "\n",
      "Number of segments: 8\n",
      "\n",
      "\n",
      "Number of segments: 16\n",
      "\n",
      "\n",
      "Number of segments: 4\n",
      "\n",
      "\n",
      "Number of segments: 5\n",
      "\n",
      "\n",
      "Number of segments: 5\n",
      "\n",
      "\n",
      "Number of segments: 8\n",
      "\n",
      "\n",
      "Number of segments: 3\n",
      "\n",
      "\n",
      "Number of segments: 4\n",
      "\n",
      "\n",
      "Number of segments: 10\n",
      "\n",
      "\n",
      "Number of segments: 6\n",
      "\n",
      "\n",
      "Number of segments: 1\n",
      "\n",
      "\n",
      "Number of segments: 17\n",
      "\n",
      "\n",
      "Number of segments: 7\n",
      "\n",
      "\n",
      "Number of segments: 17\n",
      "\n",
      "\n",
      "Number of segments: 19\n",
      "\n",
      "\n",
      "Number of segments: 2\n",
      "\n",
      "\n",
      "Number of segments: 4\n",
      "\n",
      "\n",
      "Number of segments: 8\n",
      "\n",
      "\n",
      "Number of segments: 9\n",
      "\n",
      "\n",
      "Number of segments: 5\n",
      "\n",
      "\n",
      "Number of segments: 4\n",
      "\n",
      "\n",
      "Number of segments: 16\n",
      "\n",
      "\n",
      "Number of segments: 3\n",
      "\n",
      "\n",
      "Number of segments: 4\n",
      "\n",
      "\n",
      "Number of segments: 3\n",
      "\n",
      "\n",
      "Number of segments: 7\n",
      "\n",
      "\n",
      "Number of segments: 3\n",
      "\n",
      "\n",
      "Number of segments: 2\n",
      "\n",
      "\n",
      "Number of segments: 12\n",
      "\n",
      "\n",
      "Number of segments: 11\n",
      "\n",
      "\n",
      "Number of segments: 9\n",
      "\n",
      "\n",
      "Number of segments: 17\n",
      "\n",
      "\n",
      "Number of segments: 8\n",
      "\n",
      "\n",
      "Number of segments: 14\n",
      "\n",
      "\n",
      "Number of segments: 24\n",
      "\n",
      "\n",
      "Number of segments: 12\n",
      "\n",
      "\n",
      "Number of segments: 27\n",
      "\n",
      "\n",
      "Number of segments: 12\n",
      "\n",
      "\n",
      "Number of segments: 5\n",
      "\n",
      "\n",
      "Number of segments: 16\n",
      "\n",
      "\n",
      "Number of segments: 23\n",
      "\n",
      "\n",
      "Number of segments: 8\n",
      "\n",
      "\n",
      "Number of segments: 8\n",
      "\n",
      "\n",
      "Number of segments: 12\n",
      "\n",
      "\n",
      "Number of segments: 14\n",
      "\n",
      "\n",
      "Number of segments: 7\n",
      "\n",
      "\n",
      "Number of segments: 22\n",
      "\n",
      "\n",
      "Number of segments: 11\n",
      "\n",
      "\n",
      "Number of segments: 12\n",
      "\n",
      "\n",
      "Number of segments: 6\n",
      "\n",
      "\n",
      "Number of segments: 24\n",
      "\n",
      "\n",
      "Number of segments: 26\n",
      "\n",
      "\n",
      "Number of segments: 15\n",
      "\n",
      "\n",
      "Number of segments: 16\n",
      "\n",
      "\n",
      "Number of segments: 16\n",
      "\n",
      "\n",
      "Number of segments: 17\n",
      "\n",
      "\n",
      "Number of segments: 10\n",
      "\n",
      "\n",
      "Number of segments: 15\n",
      "\n",
      "\n",
      "Number of segments: 17\n",
      "\n"
     ]
    }
   ],
   "source": [
    "neuron_obj_axon = npu.cell_type_ax_dendr_stage(\n",
    "    n1,\n",
    "    mesh_decimated = mesh_decimated,\n",
    "    plot_axon = False,\n",
    ")"
   ]
  },
  {
   "cell_type": "code",
   "execution_count": 63,
   "id": "328f0e1e",
   "metadata": {},
   "outputs": [],
   "source": [
    "# syn_dict = vdi.segment_id_to_synapse_dict(segment_id)\n",
    "# nviz.plot_objects(\n",
    "#     neuron_obj.mesh,\n",
    "#     scatters=[syn_dict[\"presyn\"][\"synapse_coordinates\"]]\n",
    "# )"
   ]
  },
  {
   "cell_type": "code",
   "execution_count": 112,
   "id": "ef29fb5b",
   "metadata": {},
   "outputs": [
    {
     "name": "stdout",
     "output_type": "stream",
     "text": [
      "\n",
      " Working on visualization type: mesh\n",
      "\n",
      " Working on visualization type: skeleton\n"
     ]
    },
    {
     "data": {
      "application/vnd.jupyter.widget-view+json": {
       "model_id": "eee792b7c7e44424a34c8414e03813fd",
       "version_major": 2,
       "version_minor": 0
      },
      "text/plain": [
       "Container(figure=Figure(box_center=[0.5, 0.5, 0.5], box_size=[1.0, 1.0, 1.0], camera=PerspectiveCamera(fov=45.…"
      ]
     },
     "metadata": {},
     "output_type": "display_data"
    }
   ],
   "source": [
    "nviz.plot_axon(\n",
    "    neuron_obj_axon\n",
    ")"
   ]
  },
  {
   "cell_type": "code",
   "execution_count": 115,
   "id": "711cc7af",
   "metadata": {},
   "outputs": [
    {
     "name": "stdout",
     "output_type": "stream",
     "text": [
      "    axon_angle_max:144.06\n",
      "    axon_angle_min:144.06\n",
      "    axon_area:554.6607853653893\n",
      "    axon_bbox_volume:0.837546263833745\n",
      "    axon_bbox_x_max:1525626.0\n",
      "    axon_bbox_x_max_soma_relative:36745.23941682768\n",
      "    axon_bbox_x_min:1430163.0\n",
      "    axon_bbox_x_min_soma_relative:-58717.76058317232\n",
      "    axon_bbox_y_max:660063.0\n",
      "    axon_bbox_y_max_soma_relative:70762.90626207273\n",
      "    axon_bbox_y_min:559332.6\n",
      "    axon_bbox_y_min_soma_relative:-29967.49373792729\n",
      "    axon_bbox_z_max:1114281.0\n",
      "    axon_bbox_z_max_soma_relative:13628.686544879572\n",
      "    axon_bbox_z_min:1027182.0\n",
      "    axon_bbox_z_min_soma_relative:-73470.31345512043\n",
      "    axon_branch_length_mean:10.453985490894182\n",
      "    axon_branch_length_median:5.066221657520934\n",
      "    axon_length:784.0489118170636\n",
      "    axon_n_branches:75\n",
      "    axon_n_limbs:5\n",
      "    axon_n_long_branches:1\n",
      "    axon_n_medium_branches:31\n",
      "    axon_n_short_branches:43\n",
      "    axon_skeletal_length:784048.9118170637\n",
      "    axon_skeleton:[[[1430163.          633318.         1114281.        ]\n",
      "  [1430219.63495774  633240.18511971 1114253.84625314]]\n",
      "\n",
      " [[1430219.63495774  633240.18511971 1114253.84625314]\n",
      "  [1430300.09656116  633199.37674393 1114221.26708781]]\n",
      "\n",
      " [[1430300.09656116  633199.37674393 1114221.26708781]\n",
      "  [1430390.24092798  633173.60721298 1114186.48312018]]\n",
      "\n",
      " ...\n",
      "\n",
      " [[1521151.60746294  561572.57032263 1027948.59722616]\n",
      "  [1521208.85462696  561651.75378932 1027927.31951918]]\n",
      "\n",
      " [[1521208.85462696  561651.75378932 1027927.31951918]\n",
      "  [1521239.15848797  561737.7600367  1027927.3132188 ]]\n",
      "\n",
      " [[1521239.15848797  561737.7600367  1027927.3132188 ]\n",
      "  [1521233.          561824.8        1027954.        ]]]\n",
      "    baylor_cell_type:excitatory\n",
      "    baylor_cell_type_exc_probability:0.9003858043776655\n",
      "    cell_type:excitatory\n",
      "    cell_type_used:neurd\n",
      "    centroid_volume:4.4074059766970116e-07\n",
      "    centroid_x:372220\n",
      "    centroid_x_nm:1488880.7605831723\n",
      "    centroid_y:147325\n",
      "    centroid_y_nm:589300.0937379273\n",
      "    centroid_z:27516\n",
      "    centroid_z_nm:1100652.3134551204\n",
      "    dendrite_bbox_volume:0.7069686375215666\n",
      "    dendrite_bbox_x_max:1564397.9821680577\n",
      "    dendrite_bbox_x_max_soma_relative:75517.22158488538\n",
      "    dendrite_bbox_x_min:1452681.3305454429\n",
      "    dendrite_bbox_x_min_soma_relative:-36199.43003772944\n",
      "    dendrite_bbox_y_max:651398.3573660252\n",
      "    dendrite_bbox_y_max_soma_relative:62098.26362809795\n",
      "    dendrite_bbox_y_min:529526.8825612821\n",
      "    dendrite_bbox_y_min_soma_relative:-59773.21117664513\n",
      "    dendrite_bbox_z_max:1114270.0\n",
      "    dendrite_bbox_z_max_soma_relative:13617.686544879572\n",
      "    dendrite_bbox_z_min:1062344.5617253203\n",
      "    dendrite_bbox_z_min_soma_relative:-38307.75172980013\n",
      "    dendrite_branch_length_mean:33.41337789593375\n",
      "    dendrite_branch_length_median:19.552647241597104\n",
      "    dendrite_n_branches:17\n",
      "    dendrite_n_limbs:5\n",
      "    dendrite_n_long_branches:1\n",
      "    dendrite_n_medium_branches:12\n",
      "    dendrite_n_short_branches:4\n",
      "    dendrite_on_axon_merges_error_area:0\n",
      "    dendrite_on_axon_merges_error_length:0\n",
      "    dendrite_skeletal_length:568027.4242308736\n",
      "    dendrite_skeleton:[[[1469972.26898917  644331.51215205 1105781.49225862]\n",
      "  [1469922.99793769  644306.57306289 1105698.12317519]]\n",
      "\n",
      " [[1469922.99793769  644306.57306289 1105698.12317519]\n",
      "  [1469873.03503235  644278.96793629 1105616.01554459]]\n",
      "\n",
      " [[1469873.03503235  644278.96793629 1105616.01554459]\n",
      "  [1469822.34841942  644249.02047451 1105535.18233182]]\n",
      "\n",
      " ...\n",
      "\n",
      " [[1527391.01412233  531013.95014027 1093944.28053875]\n",
      "  [1527449.11669991  531093.82866153 1093928.67678832]]\n",
      "\n",
      " [[1527449.11669991  531093.82866153 1093928.67678832]\n",
      "  [1527507.97096501  531173.31990086 1093913.93669639]]\n",
      "\n",
      " [[1527507.97096501  531173.31990086 1093913.93669639]\n",
      "  [1527512.46743788  531179.35766694 1093912.83990299]]]\n",
      "    external_cell_type:None\n",
      "    external_cell_type_fine:None\n",
      "    external_cell_type_fine_e_i:None\n",
      "    external_cell_type_fine_n_nuc:None\n",
      "    external_cell_type_n_nuc:None\n",
      "    max_limb_n_branches:75\n",
      "    max_limb_skeletal_length:784048.9118170636\n",
      "    max_soma_area:341.07163148783616\n",
      "    max_soma_n_faces:22560\n",
      "    max_soma_volume:559.9676706260651\n",
      "    median_branch_length:5980.324\n",
      "    n_axon_angles:1\n",
      "    n_boutons:71\n",
      "    n_branches:92\n",
      "    n_faces:183849\n",
      "    n_limbs:5\n",
      "    n_nuclei_in_bbox:None\n",
      "    n_nuclei_in_radius:None\n",
      "    n_spine_eligible_branches:92\n",
      "    n_spines:258\n",
      "    n_syn_axon_ais_postsyn:1\n",
      "    n_syn_axon_bouton_postsyn:1\n",
      "    n_syn_axon_bouton_presyn:30\n",
      "    n_syn_axon_non_bouton_postsyn:1\n",
      "    n_syn_axon_non_bouton_presyn:16\n",
      "    n_syn_dendrite_head_postsyn:202\n",
      "    n_syn_dendrite_neck_postsyn:3\n",
      "    n_syn_dendrite_no_head_postsyn:71\n",
      "    n_syn_dendrite_shaft_postsyn:222\n",
      "    n_syn_post:500\n",
      "    n_syn_pre:59\n",
      "    n_syn_soma_postsyn:58\n",
      "    n_vertices:93076\n",
      "    neuron_graph_axon_labeled:DiGraph with 43 nodes and 42 edges\n",
      "    neuron_graph_high_fid_axon:DiGraph with 93 nodes and 92 edges\n",
      "    nuclei_distance:None\n",
      "    nucleus_id:None\n",
      "    run_time:280.27094173431396\n",
      "    skeletal_length:1352076.336047937\n",
      "    skeletal_length_eligible:1352076.336\n",
      "    skeletal_length_processed_spine:524541.5546859367\n",
      "    skeletal_length_processed_syn:553931.5048054664\n",
      "    spine_density:0.4880452229438278\n",
      "    spine_density_eligible:0.00019081762850999267\n",
      "    spine_volume_density:16508.86784147423\n",
      "    spine_volume_density_eligible:16508.867842059542\n",
      "    spine_volume_median:62289897.033345535\n",
      "    spine_volume_per_branch_eligible:242622277.6456532\n",
      "    spines_per_branch:2.8043478260869565\n",
      "    spines_per_branch_eligible:2.804\n",
      "    syn_density_head:0.3682765797400207\n",
      "    syn_density_neck:0.005415832055000304\n",
      "    syn_density_post:0.8809753476133828\n",
      "    syn_density_shaft:0.4007715720700225\n",
      "    total_spine_volume:22321249543.400093\n",
      "    width_90_perc:342.71\n",
      "    width_median:97.285\n",
      "    width_no_spine_90_perc:297.256\n",
      "    width_no_spine_median:97.285\n",
      "\n"
     ]
    }
   ],
   "source": [
    "print(neuron_obj_axon.pipeline_products.cell_type_ax_dendr)"
   ]
  },
  {
   "cell_type": "markdown",
   "id": "e4359d09",
   "metadata": {},
   "source": [
    "# Autoproofreading Stage"
   ]
  },
  {
   "cell_type": "code",
   "execution_count": 67,
   "id": "458fa42f",
   "metadata": {
    "scrolled": true
   },
   "outputs": [
    {
     "name": "stdout",
     "output_type": "stream",
     "text": [
      "About to do syn_density stats\n",
      "syn_density_post = 0.8809753476133828\n",
      "syn_density_head = 0.3682765797400207\n",
      "syn_density_neck = 0.005415832055000304\n",
      "syn_density_shaft = 0.4007715720700225\n",
      "sk_length_synapse_density = 553931.5048054664\n",
      "About to do spine_density stats\n",
      "postsyn_limb_branch = {'L0': array([0, 1, 3, 4, 5, 9]), 'L2': array([3]), 'L3': array([0]), 'L4': array([0])}\n",
      "sk_length = 524541.5546859367\n",
      "# of spines = 256\n",
      "Density = 0.4880452229438278\n",
      "spine_density = 0.4880452229438278 (multiplier = 1000)\n",
      "sk_length spine density = 524541.5546859367\n",
      "Done stats\n",
      "Not apply_hand_made_low_rules\n",
      "For model: LogisticRegression(class_weight={'excitatory': 1, 'inhibitory': 1.5}) \n",
      "with features: ['syn_density_shaft', 'spine_density']\n",
      "pred_class = excitatory, pred_class_label = excitatory\n",
      "Total time for e/i calculations = 0.07892346382141113\n",
      "baylor_e_i = excitatory\n",
      "\n",
      "*****Using v7 Filters!!!\n",
      "\n",
      "\n",
      "Current node skip distance was 1499.2469745780515 but max skip distance was 1499.2469745780515\n",
      "Current node skip distance was 1470.8325329718405 but max skip distance was 1470.8325329718405\n",
      "Current node skip distance was 1441.551284171013 but max skip distance was 1441.551284171013\n",
      "Current node skip distance was 1441.6399232600943 but max skip distance was 1441.6399232600943\n",
      "Current node skip distance was 1583.2890248480835 but max skip distance was 1583.2890248480835\n",
      "Current node skip distance was 1583.3676319054541 but max skip distance was 1583.3676319054541\n",
      "branch_match_query = :\n",
      "(((width_diff < 75) or (width_diff_percentage < 0.6)) and (sk_angle < 65))and ((synapse_density_diff<0.00015) or (n_synapses_diff < 6))\n",
      "Done with edge_df: 0.0009386539459228516\n",
      "Performing Edge Query\n",
      "After edge filter, # of rows = 3\n",
      "Exporting the edges\n",
      "Deleteing edges only\n",
      "\n",
      "--- Before Local Query ---\n",
      "   u  v  sk_angle  width_diff  width_diff_percentage  synapse_density_diff  \\\n",
      "0  1  3     18.23    7.006226               0.095976              0.000009   \n",
      "1  1  4     51.52   26.989558               0.369721              0.000194   \n",
      "2  1  5     38.18   27.008424               0.270062              0.000038   \n",
      "3  3  4    135.77   33.995784               0.515138              0.000185   \n",
      "4  3  5    124.09   34.014650               0.340119              0.000029   \n",
      "5  4  5     97.91    0.018866               0.000189              0.000155   \n",
      "\n",
      "   n_synapses_diff  \n",
      "0                0  \n",
      "1                2  \n",
      "2                1  \n",
      "3                2  \n",
      "4                1  \n",
      "5                1  \n",
      "Afer Local query: \n",
      "   u  v  sk_angle  width_diff  width_diff_percentage  synapse_density_diff  \\\n",
      "0  1  3     18.23    7.006226               0.095976              0.000009   \n",
      "1  1  4     51.52   26.989558               0.369721              0.000194   \n",
      "2  1  5     38.18   27.008424               0.270062              0.000038   \n",
      "\n",
      "   n_synapses_diff  \n",
      "0                0  \n",
      "1                2  \n",
      "2                1  \n"
     ]
    },
    {
     "data": {
      "image/png": "[encoded data removed]",
      "text/plain": [
       "<Figure size 640x480 with 1 Axes>"
      ]
     },
     "metadata": {},
     "output_type": "display_data"
    },
    {
     "name": "stdout",
     "output_type": "stream",
     "text": [
      "Performing global features query\n",
      "Done with edge_df: 0.0007987022399902344\n",
      "Performing Edge Query\n",
      "After edge filter, # of rows = 0\n",
      "Exporting the edges\n",
      "Deleteing edges only\n",
      "\n",
      "--- Before Global Query ---\n",
      "   u  v  sk_angle  width_diff  width_diff_percentage  synapse_density_diff  \\\n",
      "0  1  3     18.23    7.006226               0.095976              0.000009   \n",
      "1  1  4     51.52   26.989558               0.369721              0.000194   \n",
      "2  1  5     38.18   27.008424               0.270062              0.000038   \n",
      "\n",
      "   n_synapses_diff definite_partner_sk_delete definite_partner_width_delete  \n",
      "0                0                       None                          None  \n",
      "1                2                       None                          None  \n",
      "2                1                       None                          None  \n",
      "Afer Global query: \n",
      "   u  v  sk_angle  width_diff  width_diff_percentage  synapse_density_diff  \\\n",
      "0  1  3     18.23    7.006226               0.095976              0.000009   \n",
      "1  1  4     51.52   26.989558               0.369721              0.000194   \n",
      "2  1  5     38.18   27.008424               0.270062              0.000038   \n",
      "\n",
      "   n_synapses_diff definite_partner_sk_delete definite_partner_width_delete  \n",
      "0                0                       None                          None  \n",
      "1                2                       None                          None  \n",
      "2                1                       None                          None  \n"
     ]
    },
    {
     "data": {
      "image/png": "[encoded data removed]",
      "text/plain": [
       "<Figure size 640x480 with 1 Axes>"
      ]
     },
     "metadata": {},
     "output_type": "display_data"
    },
    {
     "name": "stdout",
     "output_type": "stream",
     "text": [
      "Performing node features query\n",
      "Done with edge_df: 0.0010242462158203125\n",
      "Performing Edge Query\n",
      "After edge filter, # of rows = 1\n",
      "Exporting the edges\n",
      "Deleteing edges only\n",
      "\n",
      "--- Before Node Query ---\n",
      "   u  v  sk_angle  width_diff  width_diff_percentage  synapse_density_diff  \\\n",
      "0  1  3     18.23    7.006226               0.095976              0.000009   \n",
      "1  1  4     51.52   26.989558               0.369721              0.000194   \n",
      "2  1  5     38.18   27.008424               0.270062              0.000038   \n",
      "\n",
      "   n_synapses_diff definite_partner_sk_delete definite_partner_width_delete  \\\n",
      "0                0                       None                          None   \n",
      "1                2                       None                          None   \n",
      "2                1                       None                          None   \n",
      "\n",
      "  above_threshold_delete  \n",
      "0                   None  \n",
      "1                   True  \n",
      "2                   None  \n",
      "Afer Node query: \n",
      "   u  v  sk_angle  width_diff  width_diff_percentage  synapse_density_diff  \\\n",
      "0  1  3     18.23    7.006226               0.095976              0.000009   \n",
      "1  1  5     38.18   27.008424               0.270062              0.000038   \n",
      "\n",
      "   n_synapses_diff definite_partner_sk_delete definite_partner_width_delete  \\\n",
      "0                0                       None                          None   \n",
      "1                1                       None                          None   \n",
      "\n",
      "  above_threshold_delete  \n",
      "0                   None  \n",
      "1                   None  \n"
     ]
    },
    {
     "data": {
      "image/png": "[encoded data removed]",
      "text/plain": [
       "<Figure size 640x480 with 1 Axes>"
      ]
     },
     "metadata": {},
     "output_type": "display_data"
    },
    {
     "name": "stdout",
     "output_type": "stream",
     "text": [
      "for upstream node 5, winning_node = None, error_branches = [1 3 4]\n",
      "Inside high_degree_false_positive_low_sibling_filter ****\n",
      "No winning branch so returning\n",
      "Current node skip distance was 1439.6098165500885 but max skip distance was 1439.6098165500885\n",
      "Current node skip distance was 1419.800859346442 but max skip distance was 1419.800859346442\n",
      "Current node skip distance was 1395.1715386565604 but max skip distance was 1395.1715386565604\n",
      "Current node skip distance was 1728.6974107197009 but max skip distance was 1728.6974107197009\n",
      "Current node skip distance was 1470.6737540170857 but max skip distance was 1470.6737540170857\n",
      "Current node skip distance was 1419.1567072051882 but max skip distance was 1935.3558329998682\n",
      "Current node skip distance was 1408.3718172215047 but max skip distance was 1408.3718172215047\n",
      "Current node skip distance was 1423.6329164741965 but max skip distance was 1423.6329164741965\n",
      "Current node skip distance was 1557.7689972408803 but max skip distance was 1660.7629879337799\n",
      "Current node skip distance was 1549.3014272217692 but max skip distance was 1728.6974107197009\n",
      "Current node skip distance was 1495.0040692281798 but max skip distance was 1919.3089532244883\n",
      "Current node skip distance was 1555.751188673601 but max skip distance was 1611.6505289229938\n",
      "branch_match_query = :\n",
      "(((width_diff < 75) or (width_diff_percentage < 0.6)) and (sk_angle < 65))and ((synapse_density_diff<0.00015) or (n_synapses_diff < 6))\n",
      "Done with edge_df: 0.0021011829376220703\n",
      "Performing Edge Query\n",
      "After edge filter, # of rows = 10\n",
      "Exporting the edges\n",
      "Deleteing edges only\n",
      "\n",
      "--- Before Local Query ---\n",
      "     u   v  sk_angle  width_diff  width_diff_percentage  synapse_density_diff  \\\n",
      "0   12  21     52.72   29.595414               0.488392                   0.0   \n",
      "1   12  23     57.20    1.161105               0.019161                   0.0   \n",
      "2   12  26    112.10   46.198517               0.762382                   0.0   \n",
      "3   12  29     34.74   10.451040               0.172466                   0.0   \n",
      "4   12  20     71.87   32.782676               0.351066                   0.0   \n",
      "5   21  23    144.68   28.434309               0.315261                   0.0   \n",
      "6   21  26     87.25   16.603103               0.184084                   0.0   \n",
      "7   21  29    102.91   19.144374               0.212260                   0.0   \n",
      "8   21  20     79.57    3.187262               0.034132                   0.0   \n",
      "9   23  26    116.84   45.037413               0.729248                   0.0   \n",
      "10  23  29    119.66    9.289935               0.150423                   0.0   \n",
      "11  23  20     53.63   31.621571               0.338632                   0.0   \n",
      "12  26  29     91.18   35.747478               0.334726                   0.0   \n",
      "13  26  20     14.73   13.415842               0.143669                   0.0   \n",
      "14  29  20     92.26   22.331636               0.239147                   0.0   \n",
      "\n",
      "    n_synapses_diff  \n",
      "0                 0  \n",
      "1                 0  \n",
      "2                 0  \n",
      "3                 0  \n",
      "4                 0  \n",
      "5                 0  \n",
      "6                 0  \n",
      "7                 0  \n",
      "8                 0  \n",
      "9                 0  \n",
      "10                0  \n",
      "11                0  \n",
      "12                0  \n",
      "13                0  \n",
      "14                0  \n",
      "Afer Local query: \n",
      "    u   v  sk_angle  width_diff  width_diff_percentage  synapse_density_diff  \\\n",
      "0  12  21     52.72   29.595414               0.488392                   0.0   \n",
      "1  12  23     57.20    1.161105               0.019161                   0.0   \n",
      "2  12  29     34.74   10.451040               0.172466                   0.0   \n",
      "3  23  20     53.63   31.621571               0.338632                   0.0   \n",
      "4  26  20     14.73   13.415842               0.143669                   0.0   \n",
      "\n",
      "   n_synapses_diff  \n",
      "0                0  \n",
      "1                0  \n",
      "2                0  \n",
      "3                0  \n",
      "4                0  \n"
     ]
    },
    {
     "data": {
      "image/png": "[encoded data removed]",
      "text/plain": [
       "<Figure size 640x480 with 1 Axes>"
      ]
     },
     "metadata": {},
     "output_type": "display_data"
    },
    {
     "name": "stdout",
     "output_type": "stream",
     "text": [
      "Performing global features query\n",
      "Done with edge_df: 0.001138448715209961\n",
      "Performing Edge Query\n",
      "After edge filter, # of rows = 1\n",
      "Exporting the edges\n",
      "Deleteing edges only\n",
      "\n",
      "--- Before Global Query ---\n",
      "    u   v  sk_angle  width_diff  width_diff_percentage  synapse_density_diff  \\\n",
      "0  12  21     52.72   29.595414               0.488392                   0.0   \n",
      "1  12  23     57.20    1.161105               0.019161                   0.0   \n",
      "2  12  29     34.74   10.451040               0.172466                   0.0   \n",
      "3  23  20     53.63   31.621571               0.338632                   0.0   \n",
      "4  26  20     14.73   13.415842               0.143669                   0.0   \n",
      "\n",
      "   n_synapses_diff definite_partner_sk_delete definite_partner_width_delete  \n",
      "0                0                       None                          None  \n",
      "1                0                       None                          None  \n",
      "2                0                       None                          None  \n",
      "3                0                       True                          None  \n",
      "4                0                      False                          None  \n",
      "Afer Global query: \n",
      "    u   v  sk_angle  width_diff  width_diff_percentage  synapse_density_diff  \\\n",
      "0  12  21     52.72   29.595414               0.488392                   0.0   \n",
      "1  12  23     57.20    1.161105               0.019161                   0.0   \n",
      "2  12  29     34.74   10.451040               0.172466                   0.0   \n",
      "3  26  20     14.73   13.415842               0.143669                   0.0   \n",
      "\n",
      "   n_synapses_diff definite_partner_sk_delete definite_partner_width_delete  \n",
      "0                0                       None                          None  \n",
      "1                0                       None                          None  \n",
      "2                0                       None                          None  \n",
      "3                0                      False                          None  \n"
     ]
    },
    {
     "data": {
      "image/png": "[encoded data removed]",
      "text/plain": [
       "<Figure size 640x480 with 1 Axes>"
      ]
     },
     "metadata": {},
     "output_type": "display_data"
    },
    {
     "name": "stdout",
     "output_type": "stream",
     "text": [
      "Performing node features query\n",
      "Done with edge_df: 0.0009026527404785156\n",
      "Performing Edge Query\n",
      "After edge filter, # of rows = 2\n",
      "Exporting the edges\n",
      "Deleteing edges only\n",
      "\n",
      "--- Before Node Query ---\n",
      "    u   v  sk_angle  width_diff  width_diff_percentage  synapse_density_diff  \\\n",
      "0  12  21     52.72   29.595414               0.488392                   0.0   \n",
      "1  12  23     57.20    1.161105               0.019161                   0.0   \n",
      "2  12  29     34.74   10.451040               0.172466                   0.0   \n",
      "3  26  20     14.73   13.415842               0.143669                   0.0   \n",
      "\n",
      "   n_synapses_diff definite_partner_sk_delete definite_partner_width_delete  \\\n",
      "0                0                       None                          None   \n",
      "1                0                       None                          None   \n",
      "2                0                       None                          None   \n",
      "3                0                      False                          None   \n",
      "\n",
      "  above_threshold_delete  \n",
      "0                   True  \n",
      "1                   True  \n",
      "2                   None  \n",
      "3                   None  \n",
      "Afer Node query: \n",
      "    u   v  sk_angle  width_diff  width_diff_percentage  synapse_density_diff  \\\n",
      "0  12  29     34.74   10.451040               0.172466                   0.0   \n",
      "1  26  20     14.73   13.415842               0.143669                   0.0   \n",
      "\n",
      "   n_synapses_diff definite_partner_sk_delete definite_partner_width_delete  \\\n",
      "0                0                       None                          None   \n",
      "1                0                      False                          None   \n",
      "\n",
      "  above_threshold_delete  \n",
      "0                   None  \n",
      "1                   None  \n"
     ]
    },
    {
     "data": {
      "image/png": "[encoded data removed]",
      "text/plain": [
       "<Figure size 640x480 with 1 Axes>"
      ]
     },
     "metadata": {},
     "output_type": "display_data"
    },
    {
     "name": "stdout",
     "output_type": "stream",
     "text": [
      "for upstream node 20, winning_node = 26, error_branches = [12 21 23 29]\n",
      "Inside high_degree_false_positive_low_sibling_filter ****\n",
      "Not exactly 2 downstream errors so returning\n",
      "Current node skip distance was 1542.4709318505866 but max skip distance was 1542.4709318505866\n",
      "Current node skip distance was 1500.9798101341728 but max skip distance was 1500.9798101341728\n",
      "Current node skip distance was 1423.9946428663225 but max skip distance was 1423.9946428663225\n",
      "Current node skip distance was 1844.1910151040552 but max skip distance was 1850.758665631278\n",
      "Current node skip distance was 1850.758665631278 but max skip distance was 1850.758665631278\n",
      "Current node skip distance was 1611.6505289229938 but max skip distance was 1611.6505289229938\n",
      "Current node skip distance was 1551.6937888199488 but max skip distance was 1551.6937888199488\n",
      "Current node skip distance was 1755.205742183186 but max skip distance was 1844.1910151040552\n",
      "branch_match_query = :\n",
      "(((width_diff < 75) or (width_diff_percentage < 0.6)) and (sk_angle < 65))and ((synapse_density_diff<0.00015) or (n_synapses_diff < 6))\n",
      "Done with edge_df: 0.000988006591796875\n",
      "Performing Edge Query\n",
      "After edge filter, # of rows = 6\n",
      "Exporting the edges\n",
      "Deleteing edges only\n",
      "\n",
      "--- Before Local Query ---\n",
      "    u   v  sk_angle  width_diff  width_diff_percentage  synapse_density_diff  \\\n",
      "0  13  20     20.72   35.371049               0.609749                   0.0   \n",
      "1  13  22    134.09   22.225918               0.383144                   0.0   \n",
      "2  13  25     97.53  106.172844               1.830275                   0.0   \n",
      "3  13  28    158.80   83.240142               0.589313                   0.0   \n",
      "4  20  22     27.54   13.145131               0.140770                   0.0   \n",
      "5  20  25     63.33   70.801794               0.758209                   0.0   \n",
      "6  20  28     13.50   47.869093               0.338898                   0.0   \n",
      "7  22  25    143.43   83.946925               1.046261                   0.0   \n",
      "8  22  28    141.07   61.014224               0.431961                   0.0   \n",
      "9  25  28    107.57   22.932702               0.162356                   0.0   \n",
      "\n",
      "   n_synapses_diff  \n",
      "0                0  \n",
      "1                0  \n",
      "2                0  \n",
      "3                0  \n",
      "4                0  \n",
      "5                0  \n",
      "6                0  \n",
      "7                0  \n",
      "8                0  \n",
      "9                0  \n",
      "Afer Local query: \n",
      "    u   v  sk_angle  width_diff  width_diff_percentage  synapse_density_diff  \\\n",
      "0  13  20     20.72   35.371049               0.609749                   0.0   \n",
      "1  20  22     27.54   13.145131               0.140770                   0.0   \n",
      "2  20  25     63.33   70.801794               0.758209                   0.0   \n",
      "3  20  28     13.50   47.869093               0.338898                   0.0   \n",
      "\n",
      "   n_synapses_diff  \n",
      "0                0  \n",
      "1                0  \n",
      "2                0  \n",
      "3                0  \n"
     ]
    },
    {
     "data": {
      "image/png": "[encoded data removed]",
      "text/plain": [
       "<Figure size 640x480 with 1 Axes>"
      ]
     },
     "metadata": {},
     "output_type": "display_data"
    },
    {
     "name": "stdout",
     "output_type": "stream",
     "text": [
      "Performing global features query\n",
      "Done with edge_df: 0.0008509159088134766\n",
      "Performing Edge Query\n",
      "After edge filter, # of rows = 0\n",
      "Exporting the edges\n",
      "Deleteing edges only\n",
      "\n",
      "--- Before Global Query ---\n",
      "    u   v  sk_angle  width_diff  width_diff_percentage  synapse_density_diff  \\\n",
      "0  13  20     20.72   35.371049               0.609749                   0.0   \n",
      "1  20  22     27.54   13.145131               0.140770                   0.0   \n",
      "2  20  25     63.33   70.801794               0.758209                   0.0   \n",
      "3  20  28     13.50   47.869093               0.338898                   0.0   \n",
      "\n",
      "   n_synapses_diff definite_partner_sk_delete definite_partner_width_delete  \n",
      "0                0                       None                          None  \n",
      "1                0                       None                          None  \n",
      "2                0                       None                          None  \n",
      "3                0                       None                          None  \n",
      "Afer Global query: \n",
      "    u   v  sk_angle  width_diff  width_diff_percentage  synapse_density_diff  \\\n",
      "0  13  20     20.72   35.371049               0.609749                   0.0   \n",
      "1  20  22     27.54   13.145131               0.140770                   0.0   \n",
      "2  20  25     63.33   70.801794               0.758209                   0.0   \n",
      "3  20  28     13.50   47.869093               0.338898                   0.0   \n",
      "\n",
      "   n_synapses_diff definite_partner_sk_delete definite_partner_width_delete  \n",
      "0                0                       None                          None  \n",
      "1                0                       None                          None  \n",
      "2                0                       None                          None  \n",
      "3                0                       None                          None  \n"
     ]
    },
    {
     "data": {
      "image/png": "[encoded data removed]",
      "text/plain": [
       "<Figure size 640x480 with 1 Axes>"
      ]
     },
     "metadata": {},
     "output_type": "display_data"
    },
    {
     "name": "stdout",
     "output_type": "stream",
     "text": [
      "Performing node features query\n",
      "Done with edge_df: 0.0008366107940673828\n",
      "Performing Edge Query\n",
      "After edge filter, # of rows = 1\n",
      "Exporting the edges\n",
      "Deleteing edges only\n",
      "\n",
      "--- Before Node Query ---\n",
      "    u   v  sk_angle  width_diff  width_diff_percentage  synapse_density_diff  \\\n",
      "0  13  20     20.72   35.371049               0.609749                   0.0   \n",
      "1  20  22     27.54   13.145131               0.140770                   0.0   \n",
      "2  20  25     63.33   70.801794               0.758209                   0.0   \n",
      "3  20  28     13.50   47.869093               0.338898                   0.0   \n",
      "\n",
      "   n_synapses_diff definite_partner_sk_delete definite_partner_width_delete  \\\n",
      "0                0                       None                          None   \n",
      "1                0                       None                          None   \n",
      "2                0                       None                          None   \n",
      "3                0                       None                          None   \n",
      "\n",
      "  above_threshold_delete  \n",
      "0                   None  \n",
      "1                   None  \n",
      "2                   True  \n",
      "3                   None  \n",
      "Afer Node query: \n",
      "    u   v  sk_angle  width_diff  width_diff_percentage  synapse_density_diff  \\\n",
      "0  13  20     20.72   35.371049               0.609749                   0.0   \n",
      "1  20  22     27.54   13.145131               0.140770                   0.0   \n",
      "2  20  28     13.50   47.869093               0.338898                   0.0   \n",
      "\n",
      "   n_synapses_diff definite_partner_sk_delete definite_partner_width_delete  \\\n",
      "0                0                       None                          None   \n",
      "1                0                       None                          None   \n",
      "2                0                       None                          None   \n",
      "\n",
      "  above_threshold_delete  \n",
      "0                   None  \n",
      "1                   None  \n",
      "2                   None  \n"
     ]
    },
    {
     "data": {
      "image/png": "[encoded data removed]",
      "text/plain": [
       "<Figure size 640x480 with 1 Axes>"
      ]
     },
     "metadata": {},
     "output_type": "display_data"
    },
    {
     "name": "stdout",
     "output_type": "stream",
     "text": [
      "for upstream node 28, winning_node = None, error_branches = [13 20 22 25]\n",
      "Inside high_degree_false_positive_low_sibling_filter ****\n",
      "No winning branch so returning\n",
      "Current node skip distance was 1462.702705562729 but max skip distance was 1462.702705562729\n",
      "Current node skip distance was 1820.0150826095676 but max skip distance was 1820.0150826095676\n",
      "branch_match_query = :\n",
      "(((width_diff < 75) or (width_diff_percentage < 0.6)) and (sk_angle < 65))and ((synapse_density_diff<0.00015) or (n_synapses_diff < 6))\n",
      "Done with edge_df: 0.0010156631469726562\n",
      "Performing Edge Query\n",
      "After edge filter, # of rows = 3\n",
      "Exporting the edges\n",
      "Deleteing edges only\n",
      "\n",
      "--- Before Local Query ---\n",
      "    u   v  sk_angle  width_diff  width_diff_percentage  synapse_density_diff  \\\n",
      "0  10  16     20.86   41.022819               0.304126              0.000082   \n",
      "1  10  28     47.78    6.362000               0.047165              0.000000   \n",
      "2  10  30     91.23   21.916241               0.139769              0.000000   \n",
      "3  16  28    118.35   47.384819               0.504821              0.000082   \n",
      "4  16  30    105.00   62.939060               0.401388              0.000082   \n",
      "5  28  30     43.46   15.554242               0.099196              0.000000   \n",
      "\n",
      "   n_synapses_diff  \n",
      "0                9  \n",
      "1                0  \n",
      "2                0  \n",
      "3                9  \n",
      "4                9  \n",
      "5                0  \n",
      "Afer Local query: \n",
      "    u   v  sk_angle  width_diff  width_diff_percentage  synapse_density_diff  \\\n",
      "0  10  16     20.86   41.022819               0.304126              0.000082   \n",
      "1  10  28     47.78    6.362000               0.047165              0.000000   \n",
      "2  28  30     43.46   15.554242               0.099196              0.000000   \n",
      "\n",
      "   n_synapses_diff  \n",
      "0                9  \n",
      "1                0  \n",
      "2                0  \n"
     ]
    },
    {
     "data": {
      "image/png": "[encoded data removed]",
      "text/plain": [
       "<Figure size 640x480 with 1 Axes>"
      ]
     },
     "metadata": {},
     "output_type": "display_data"
    },
    {
     "name": "stdout",
     "output_type": "stream",
     "text": [
      "Performing global features query\n",
      "Done with edge_df: 0.0009834766387939453\n",
      "Performing Edge Query\n",
      "After edge filter, # of rows = 1\n",
      "Exporting the edges\n",
      "Deleteing edges only\n",
      "\n",
      "--- Before Global Query ---\n",
      "    u   v  sk_angle  width_diff  width_diff_percentage  synapse_density_diff  \\\n",
      "0  10  16     20.86   41.022819               0.304126              0.000082   \n",
      "1  10  28     47.78    6.362000               0.047165              0.000000   \n",
      "2  28  30     43.46   15.554242               0.099196              0.000000   \n",
      "\n",
      "   n_synapses_diff definite_partner_sk_delete definite_partner_width_delete  \n",
      "0                9                      False                          None  \n",
      "1                0                       True                          None  \n",
      "2                0                       None                          None  \n",
      "Afer Global query: \n",
      "    u   v  sk_angle  width_diff  width_diff_percentage  synapse_density_diff  \\\n",
      "0  10  16     20.86   41.022819               0.304126              0.000082   \n",
      "1  28  30     43.46   15.554242               0.099196              0.000000   \n",
      "\n",
      "   n_synapses_diff definite_partner_sk_delete definite_partner_width_delete  \n",
      "0                9                      False                          None  \n",
      "1                0                       None                          None  \n"
     ]
    },
    {
     "data": {
      "image/png": "[encoded data removed]",
      "text/plain": [
       "<Figure size 640x480 with 1 Axes>"
      ]
     },
     "metadata": {},
     "output_type": "display_data"
    },
    {
     "name": "stdout",
     "output_type": "stream",
     "text": [
      "Performing node features query\n",
      "Done with edge_df: 0.0014028549194335938\n",
      "Performing Edge Query\n",
      "After edge filter, # of rows = 0\n",
      "Exporting the edges\n",
      "Deleteing edges only\n",
      "\n",
      "--- Before Node Query ---\n",
      "    u   v  sk_angle  width_diff  width_diff_percentage  synapse_density_diff  \\\n",
      "0  10  16     20.86   41.022819               0.304126              0.000082   \n",
      "1  28  30     43.46   15.554242               0.099196              0.000000   \n",
      "\n",
      "   n_synapses_diff definite_partner_sk_delete definite_partner_width_delete  \\\n",
      "0                9                      False                          None   \n",
      "1                0                       None                          None   \n",
      "\n",
      "  above_threshold_delete  \n",
      "0                   None  \n",
      "1                   None  \n",
      "Afer Node query: \n",
      "    u   v  sk_angle  width_diff  width_diff_percentage  synapse_density_diff  \\\n",
      "0  10  16     20.86   41.022819               0.304126              0.000082   \n",
      "1  28  30     43.46   15.554242               0.099196              0.000000   \n",
      "\n",
      "   n_synapses_diff definite_partner_sk_delete definite_partner_width_delete  \\\n",
      "0                9                      False                          None   \n",
      "1                0                       None                          None   \n",
      "\n",
      "  above_threshold_delete  \n",
      "0                   None  \n",
      "1                   None  \n"
     ]
    },
    {
     "data": {
      "image/png": "[encoded data removed]",
      "text/plain": [
       "<Figure size 640x480 with 1 Axes>"
      ]
     },
     "metadata": {},
     "output_type": "display_data"
    },
    {
     "name": "stdout",
     "output_type": "stream",
     "text": [
      "for upstream node 30, winning_node = 28, error_branches = [10 16]\n",
      "Inside high_degree_false_positive_low_sibling_filter ****\n",
      "Upstream width (141.24937812396485) less than width_min(250)\n",
      "Current node skip distance was 1502.8179992499754 but max skip distance was 1502.8179992499754\n",
      "Current node skip distance was 1468.8626307330655 but max skip distance was 1539.7949629700095\n",
      "Current node skip distance was 1608.7992850545759 but max skip distance was 1820.0150826095676\n",
      "branch_match_query = :\n",
      "(((width_diff < 75) or (width_diff_percentage < 0.6)) and (sk_angle < 65))and ((synapse_density_diff<0.00015) or (n_synapses_diff < 6))\n",
      "Done with edge_df: 0.0010180473327636719\n",
      "Performing Edge Query\n",
      "After edge filter, # of rows = 3\n",
      "Exporting the edges\n",
      "Deleteing edges only\n",
      "\n",
      "--- Before Local Query ---\n",
      "    u   v  sk_angle  width_diff  width_diff_percentage  synapse_density_diff  \\\n",
      "0  27  30     77.08   64.397111               0.696889                   0.0   \n",
      "1  27  32     25.52   19.879478               0.215131                   0.0   \n",
      "2  27  33    144.95   13.705319               0.129159                   0.0   \n",
      "3  30  32    119.91   84.276588               0.537466                   0.0   \n",
      "4  30  33     47.52   50.691791               0.477720                   0.0   \n",
      "5  32  33     12.61   33.584797               0.316504                   0.0   \n",
      "\n",
      "   n_synapses_diff  \n",
      "0                0  \n",
      "1                0  \n",
      "2                0  \n",
      "3                0  \n",
      "4                0  \n",
      "5                0  \n",
      "Afer Local query: \n",
      "    u   v  sk_angle  width_diff  width_diff_percentage  synapse_density_diff  \\\n",
      "0  27  32     25.52   19.879478               0.215131                   0.0   \n",
      "1  30  33     47.52   50.691791               0.477720                   0.0   \n",
      "2  32  33     12.61   33.584797               0.316504                   0.0   \n",
      "\n",
      "   n_synapses_diff  \n",
      "0                0  \n",
      "1                0  \n",
      "2                0  \n"
     ]
    },
    {
     "data": {
      "image/png": "[encoded data removed]",
      "text/plain": [
       "<Figure size 640x480 with 1 Axes>"
      ]
     },
     "metadata": {},
     "output_type": "display_data"
    },
    {
     "name": "stdout",
     "output_type": "stream",
     "text": [
      "Performing global features query\n",
      "Done with edge_df: 0.0008831024169921875\n",
      "Performing Edge Query\n",
      "After edge filter, # of rows = 0\n",
      "Exporting the edges\n",
      "Deleteing edges only\n",
      "\n",
      "--- Before Global Query ---\n",
      "    u   v  sk_angle  width_diff  width_diff_percentage  synapse_density_diff  \\\n",
      "0  27  32     25.52   19.879478               0.215131                   0.0   \n",
      "1  30  33     47.52   50.691791               0.477720                   0.0   \n",
      "2  32  33     12.61   33.584797               0.316504                   0.0   \n",
      "\n",
      "   n_synapses_diff definite_partner_sk_delete definite_partner_width_delete  \n",
      "0                0                       None                          None  \n",
      "1                0                       None                          None  \n",
      "2                0                       None                          None  \n",
      "Afer Global query: \n",
      "    u   v  sk_angle  width_diff  width_diff_percentage  synapse_density_diff  \\\n",
      "0  27  32     25.52   19.879478               0.215131                   0.0   \n",
      "1  30  33     47.52   50.691791               0.477720                   0.0   \n",
      "2  32  33     12.61   33.584797               0.316504                   0.0   \n",
      "\n",
      "   n_synapses_diff definite_partner_sk_delete definite_partner_width_delete  \n",
      "0                0                       None                          None  \n",
      "1                0                       None                          None  \n",
      "2                0                       None                          None  \n"
     ]
    },
    {
     "data": {
      "image/png": "[encoded data removed]",
      "text/plain": [
       "<Figure size 640x480 with 1 Axes>"
      ]
     },
     "metadata": {},
     "output_type": "display_data"
    },
    {
     "name": "stdout",
     "output_type": "stream",
     "text": [
      "Performing node features query\n",
      "Done with edge_df: 0.0008757114410400391\n",
      "Performing Edge Query\n",
      "After edge filter, # of rows = 1\n",
      "Exporting the edges\n",
      "Deleteing edges only\n",
      "\n",
      "--- Before Node Query ---\n",
      "    u   v  sk_angle  width_diff  width_diff_percentage  synapse_density_diff  \\\n",
      "0  27  32     25.52   19.879478               0.215131                   0.0   \n",
      "1  30  33     47.52   50.691791               0.477720                   0.0   \n",
      "2  32  33     12.61   33.584797               0.316504                   0.0   \n",
      "\n",
      "   n_synapses_diff definite_partner_sk_delete definite_partner_width_delete  \\\n",
      "0                0                       None                          None   \n",
      "1                0                       None                          None   \n",
      "2                0                       None                          None   \n",
      "\n",
      "  above_threshold_delete  \n",
      "0                   None  \n",
      "1                   True  \n",
      "2                   None  \n",
      "Afer Node query: \n",
      "    u   v  sk_angle  width_diff  width_diff_percentage  synapse_density_diff  \\\n",
      "0  27  32     25.52   19.879478               0.215131                   0.0   \n",
      "1  32  33     12.61   33.584797               0.316504                   0.0   \n",
      "\n",
      "   n_synapses_diff definite_partner_sk_delete definite_partner_width_delete  \\\n",
      "0                0                       None                          None   \n",
      "1                0                       None                          None   \n",
      "\n",
      "  above_threshold_delete  \n",
      "0                   None  \n",
      "1                   None  \n"
     ]
    },
    {
     "data": {
      "image/png": "[encoded data removed]",
      "text/plain": [
       "<Figure size 640x480 with 1 Axes>"
      ]
     },
     "metadata": {},
     "output_type": "display_data"
    },
    {
     "name": "stdout",
     "output_type": "stream",
     "text": [
      "for upstream node 33, winning_node = None, error_branches = [27 30 32]\n",
      "Inside high_degree_false_positive_low_sibling_filter ****\n",
      "No winning branch so returning\n",
      "Current node skip distance was 1744.7294638512403 but max skip distance was 1744.7294638512403\n",
      "Current node skip distance was 1539.7949629700095 but max skip distance was 1539.7949629700095\n",
      "Current node skip distance was 1445.6924835604466 but max skip distance was 1608.7992850545759\n",
      "Current node skip distance was 1430.495890861237 but max skip distance was 1633.4055749248498\n",
      "Current node skip distance was 1479.28828785825 but max skip distance was 1479.28828785825\n",
      "Current node skip distance was 1438.787336903817 but max skip distance was 1438.787336903817\n",
      "Current node skip distance was 1770.5097066954665 but max skip distance was 1770.5097066954665\n",
      "Current node skip distance was 1459.4197789215646 but max skip distance was 2141.3451010899726\n",
      "Current node skip distance was 1910.459116337433 but max skip distance was 1910.459116337433\n",
      "Current node skip distance was 2001.7503160694682 but max skip distance was 2001.7503160694682\n",
      "branch_match_query = :\n",
      "(((width_diff < 75) or (width_diff_percentage < 0.6)) and (sk_angle < 65))and ((synapse_density_diff<0.00015) or (n_synapses_diff < 6))\n",
      "Done with edge_df: 0.0009360313415527344\n",
      "Performing Edge Query\n",
      "After edge filter, # of rows = 4\n",
      "Exporting the edges\n",
      "Deleteing edges only\n",
      "\n",
      "--- Before Local Query ---\n",
      "    u   v  sk_angle  width_diff  width_diff_percentage  synapse_density_diff  \\\n",
      "0  39  45    116.24  103.480999               1.379210                   0.0   \n",
      "1  39  47     12.03    6.450551               0.085974                   0.0   \n",
      "2  39  46     70.68  125.390887               0.625640                   0.0   \n",
      "3  45  47     74.03   97.030448               0.543557                   0.0   \n",
      "4  45  46     17.97   21.909888               0.109320                   0.0   \n",
      "5  47  46     97.66  118.940336               0.593455                   0.0   \n",
      "\n",
      "   n_synapses_diff  \n",
      "0                0  \n",
      "1                0  \n",
      "2                0  \n",
      "3                0  \n",
      "4                0  \n",
      "5                0  \n",
      "Afer Local query: \n",
      "    u   v  sk_angle  width_diff  width_diff_percentage  synapse_density_diff  \\\n",
      "0  39  47     12.03    6.450551               0.085974                   0.0   \n",
      "1  45  46     17.97   21.909888               0.109320                   0.0   \n",
      "\n",
      "   n_synapses_diff  \n",
      "0                0  \n",
      "1                0  \n"
     ]
    },
    {
     "data": {
      "image/png": "[encoded data removed]",
      "text/plain": [
       "<Figure size 640x480 with 1 Axes>"
      ]
     },
     "metadata": {},
     "output_type": "display_data"
    },
    {
     "name": "stdout",
     "output_type": "stream",
     "text": [
      "Performing global features query\n",
      "Done with edge_df: 0.0009739398956298828\n",
      "Performing Edge Query\n",
      "After edge filter, # of rows = 0\n",
      "Exporting the edges\n",
      "Deleteing edges only\n",
      "\n",
      "--- Before Global Query ---\n",
      "    u   v  sk_angle  width_diff  width_diff_percentage  synapse_density_diff  \\\n",
      "0  39  47     12.03    6.450551               0.085974                   0.0   \n",
      "1  45  46     17.97   21.909888               0.109320                   0.0   \n",
      "\n",
      "   n_synapses_diff  definite_partner_sk_delete  definite_partner_width_delete  \n",
      "0                0                       False                          False  \n",
      "1                0                       False                          False  \n",
      "Afer Global query: \n",
      "    u   v  sk_angle  width_diff  width_diff_percentage  synapse_density_diff  \\\n",
      "0  39  47     12.03    6.450551               0.085974                   0.0   \n",
      "1  45  46     17.97   21.909888               0.109320                   0.0   \n",
      "\n",
      "   n_synapses_diff  definite_partner_sk_delete  definite_partner_width_delete  \n",
      "0                0                       False                          False  \n",
      "1                0                       False                          False  \n"
     ]
    },
    {
     "data": {
      "image/png": "[encoded data removed]",
      "text/plain": [
       "<Figure size 640x480 with 1 Axes>"
      ]
     },
     "metadata": {},
     "output_type": "display_data"
    },
    {
     "name": "stdout",
     "output_type": "stream",
     "text": [
      "Performing node features query\n",
      "Done with edge_df: 0.0017611980438232422\n",
      "Performing Edge Query\n",
      "After edge filter, # of rows = 0\n",
      "Exporting the edges\n",
      "Deleteing edges only\n",
      "\n",
      "--- Before Node Query ---\n",
      "    u   v  sk_angle  width_diff  width_diff_percentage  synapse_density_diff  \\\n",
      "0  39  47     12.03    6.450551               0.085974                   0.0   \n",
      "1  45  46     17.97   21.909888               0.109320                   0.0   \n",
      "\n",
      "   n_synapses_diff  definite_partner_sk_delete  definite_partner_width_delete  \\\n",
      "0                0                       False                          False   \n",
      "1                0                       False                          False   \n",
      "\n",
      "  above_threshold_delete  \n",
      "0                   None  \n",
      "1                   None  \n",
      "Afer Node query: \n",
      "    u   v  sk_angle  width_diff  width_diff_percentage  synapse_density_diff  \\\n",
      "0  39  47     12.03    6.450551               0.085974                   0.0   \n",
      "1  45  46     17.97   21.909888               0.109320                   0.0   \n",
      "\n",
      "   n_synapses_diff  definite_partner_sk_delete  definite_partner_width_delete  \\\n",
      "0                0                       False                          False   \n",
      "1                0                       False                          False   \n",
      "\n",
      "  above_threshold_delete  \n",
      "0                   None  \n",
      "1                   None  \n"
     ]
    },
    {
     "data": {
      "image/png": "[encoded data removed]",
      "text/plain": [
       "<Figure size 640x480 with 1 Axes>"
      ]
     },
     "metadata": {},
     "output_type": "display_data"
    },
    {
     "name": "stdout",
     "output_type": "stream",
     "text": [
      "for upstream node 46, winning_node = 45, error_branches = [39 47]\n",
      "Inside high_degree_false_positive_low_sibling_filter ****\n",
      "Upstream width (178.5101879209841) less than width_min(250)\n",
      "Current node skip distance was 1506.165582874341 but max skip distance was 1506.165582874341\n",
      "Current node skip distance was 1450.4508458210582 but max skip distance was 1450.4508458210582\n",
      "Current node skip distance was 2026.1613036853018 but max skip distance was 2026.1613036853018\n",
      "Current node skip distance was 1874.4952927129884 but max skip distance was 2026.1613036853018\n",
      "Current node skip distance was 1915.3718706738891 but max skip distance was 2299.759431541972\n",
      "Current node skip distance was 1440.1882868033294 but max skip distance was 1468.5371695391739\n",
      "Current node skip distance was 1494.8142487134844 but max skip distance was 1494.8142487134844\n",
      "Current node skip distance was 1393.7589706183728 but max skip distance was 1393.7589706183728\n",
      "Current node skip distance was 1468.5371695391739 but max skip distance was 1468.5371695391739\n",
      "Current node skip distance was 1424.4430326259412 but max skip distance was 1424.4430326259412\n",
      "Current node skip distance was 1410.1353716965202 but max skip distance was 1614.8591114983274\n",
      "Current node skip distance was 1452.9413618462172 but max skip distance was 1452.9413618462172\n",
      "Current node skip distance was 1614.8591114983274 but max skip distance was 1614.8591114983274\n",
      "Current node skip distance was 1660.7629879337799 but max skip distance was 1660.7629879337799\n",
      "Current node skip distance was 1501.43151326594 but max skip distance was 1501.43151326594\n",
      "Current node skip distance was 1507.403417541795 but max skip distance was 1507.403417541795\n",
      "Current node skip distance was 1612.1763238697054 but max skip distance was 1612.1763238697054\n",
      "Current node skip distance was 1500.1824911256836 but max skip distance was 1500.1824911256836\n",
      "Current node skip distance was 1371.280434179415 but max skip distance was 1457.6957843622888\n",
      "Current node skip distance was 1452.5571026661682 but max skip distance was 2106.2618127052547\n",
      "Current node skip distance was 1457.6957843622888 but max skip distance was 1457.6957843622888\n",
      "Current node skip distance was 1528.0046849802366 but max skip distance was 1528.0046849802366\n",
      "Current node skip distance was 1362.1728053872455 but max skip distance was 1362.1728053872455\n",
      "Current node skip distance was 1494.1400417378793 but max skip distance was 1494.1400417378793\n",
      "limb_branch_dict_to_cancel = {'L1': array([ 8, 33, 34, 37, 38, 40, 41, 42, 43, 44, 56, 57, 54, 55, 58, 59, 60,\n",
      "       61,  2,  7, 14, 15, 18, 19, 17, 24, 28, 31, 35, 36,  0,  5, 64, 65,\n",
      "       66, 67, 68, 69, 70, 71, 72, 73, 74, 62, 63, 26,  6,  9, 11,  1,  3,\n",
      "        4, 12, 21, 23, 29, 13, 20, 22, 25, 10, 16, 27, 30, 32, 39, 47])}\n",
      "limb_branch_dict_to_cancel = {}\n",
      "width_max = 300\n",
      "upstream_width_max = 300\n",
      "limb_branch_dict_to_cancel = {}\n",
      "limb_branch_dict_to_cancel = {}\n",
      "limb_branch_dict_to_cancel = {}\n",
      "limb_branch_dict_to_cancel = {}\n",
      "N_branches on limbs before simplification\n",
      "L0: 10\n",
      "L1: 8\n",
      "L2: 5\n",
      "L3: 1\n",
      "L4: 1\n",
      "--- STARTING merge_floating_end_nodes_to_parent----\n",
      "\n",
      "\n",
      "\n",
      "---N_branches on limbs AFTER merge_floating_end_nodes_to_parent---\n",
      "L0: 10 (difference of 0)\n",
      "L1: 8 (difference of 0)\n",
      "L2: 5 (difference of 0)\n",
      "L3: 1 (difference of 0)\n",
      "L4: 1 (difference of 0)\n",
      "\n",
      "\n",
      "\n",
      "--- STARTING COMBINING BRANCHES----\n",
      "\n",
      "\n",
      "\n",
      "---N_branches on limbs AFTER combine_path_branches---\n",
      "L0: 10 (difference of 0)\n",
      "L1: 7 (difference of 1)\n",
      "L2: 5 (difference of 0)\n",
      "L3: 1 (difference of 0)\n",
      "L4: 1 (difference of 0)\n",
      "\n",
      "\n",
      "\n",
      "---N_branches on limbs AFTER total simplification---\n",
      "L0: 10 (difference of 0)\n",
      "L1: 7 (difference of 1)\n",
      "L2: 5 (difference of 0)\n",
      "L3: 1 (difference of 0)\n",
      "L4: 1 (difference of 0)\n",
      "\n",
      "***Total time for branch simplification = 8.459203958511353\n"
     ]
    }
   ],
   "source": [
    "neuron_obj_proof = npu.auto_proof_stage(\n",
    "    neuron_obj_axon,\n",
    "    mesh_decimated = mesh_decimated,\n",
    "    calculate_after_proof_stats = False,\n",
    ")"
   ]
  },
  {
   "cell_type": "code",
   "execution_count": 68,
   "id": "c7e31a9e",
   "metadata": {},
   "outputs": [
    {
     "name": "stdout",
     "output_type": "stream",
     "text": [
      "No skeletons to stack so returning empty list\n",
      "\n",
      "Working on compartment basal---\n",
      "Compartment limb stats = {'n_limbs': 4, 'soma_angle_max': 171.08, 'soma_angle_min': 20.41}\n",
      "\n",
      "Working on compartment apical_total---\n",
      "Compartment limb stats = {'n_limbs': 0, 'soma_angle_max': None, 'soma_angle_min': None}\n",
      "\n",
      "Working on compartment axon---\n",
      "Compartment limb stats = {'n_limbs': 1, 'soma_angle_max': 80.63, 'soma_angle_min': 80.63}\n",
      "\n",
      "Working on compartment dendrite---\n",
      "Compartment limb stats = {'n_limbs': 4, 'soma_angle_max': 171.08, 'soma_angle_min': 20.41}\n"
     ]
    }
   ],
   "source": [
    "_ = npu.after_auto_proof_stats(\n",
    "    neuron_obj_proof,\n",
    "    store_in_obj = True,\n",
    ")"
   ]
  },
  {
   "cell_type": "code",
   "execution_count": 117,
   "id": "023c2a50",
   "metadata": {},
   "outputs": [
    {
     "name": "stdout",
     "output_type": "stream",
     "text": [
      "    apical_bbox_volume:0\n",
      "    apical_bbox_x_max:0\n",
      "    apical_bbox_x_max_soma_relative:0\n",
      "    apical_bbox_x_min:0\n",
      "    apical_bbox_x_min_soma_relative:0\n",
      "    apical_bbox_y_max:0\n",
      "    apical_bbox_y_max_soma_relative:0\n",
      "    apical_bbox_y_min:0\n",
      "    apical_bbox_y_min_soma_relative:0\n",
      "    apical_bbox_z_max:0\n",
      "    apical_bbox_z_max_soma_relative:0\n",
      "    apical_bbox_z_min:0\n",
      "    apical_bbox_z_min_soma_relative:0\n",
      "    apical_branch_length_mean:0\n",
      "    apical_branch_length_median:0\n",
      "    apical_n_limbs:0\n",
      "    apical_n_long_branches:0\n",
      "    apical_n_medium_branches:0\n",
      "    apical_n_short_branches:0\n",
      "    apical_soma_angle_max:None\n",
      "    apical_soma_angle_min:None\n",
      "    axon_area:100.79956488606535\n",
      "    axon_bbox_volume:0.020887414933042067\n",
      "    axon_bbox_x_max:1484351.0\n",
      "    axon_bbox_x_max_soma_relative:-4529.7605831723195\n",
      "    axon_bbox_x_min:1464809.3443508793\n",
      "    axon_bbox_x_min_soma_relative:-24071.416232293006\n",
      "    axon_bbox_y_max:645340.1\n",
      "    axon_bbox_y_max_soma_relative:56040.00626207271\n",
      "    axon_bbox_y_min:588094.9182903185\n",
      "    axon_bbox_y_min_soma_relative:-1205.17544760881\n",
      "    axon_bbox_z_max:1095200.0\n",
      "    axon_bbox_z_max_soma_relative:-5452.3134551204275\n",
      "    axon_bbox_z_min:1076528.2768325808\n",
      "    axon_bbox_z_min_soma_relative:-24124.03662253963\n",
      "    axon_branch_length_mean:12.004466083481022\n",
      "    axon_branch_length_median:4.773264023638366\n",
      "    axon_length:84.03126258436716\n",
      "    axon_n_limbs:1\n",
      "    axon_n_long_branches:0\n",
      "    axon_n_medium_branches:2\n",
      "    axon_n_short_branches:5\n",
      "    axon_on_dendrite_merges_error_area:0\n",
      "    axon_on_dendrite_merges_error_length:0\n",
      "    axon_soma_angle_max:80.63\n",
      "    axon_soma_angle_min:80.63\n",
      "    axon_start_distance_from_soma:0\n",
      "    basal_bbox_volume:0.7069686375215666\n",
      "    basal_bbox_x_max:1564397.9821680577\n",
      "    basal_bbox_x_max_soma_relative:75517.22158488538\n",
      "    basal_bbox_x_min:1452681.3305454429\n",
      "    basal_bbox_x_min_soma_relative:-36199.43003772944\n",
      "    basal_bbox_y_max:651398.3573660252\n",
      "    basal_bbox_y_max_soma_relative:62098.26362809795\n",
      "    basal_bbox_y_min:529526.8825612821\n",
      "    basal_bbox_y_min_soma_relative:-59773.21117664513\n",
      "    basal_bbox_z_max:1114270.0\n",
      "    basal_bbox_z_max_soma_relative:13617.686544879572\n",
      "    basal_bbox_z_min:1062344.5617253203\n",
      "    basal_bbox_z_min_soma_relative:-38307.75172980013\n",
      "    basal_branch_length_mean:33.41337789593375\n",
      "    basal_branch_length_median:19.552647241597104\n",
      "    basal_n_limbs:4\n",
      "    basal_n_long_branches:1\n",
      "    basal_n_medium_branches:12\n",
      "    basal_n_short_branches:4\n",
      "    basal_soma_angle_max:171.08\n",
      "    basal_soma_angle_min:20.41\n",
      "    baylor_cell_type_after_proof:excitatory\n",
      "    baylor_cell_type_exc_probability_after_proof:0.9003858043776655\n",
      "    cell_type:None\n",
      "    centroid_volume:4.4074059766970117e-16\n",
      "    centroid_x:372220\n",
      "    centroid_x_nm:1488880.7605831723\n",
      "    centroid_y:147325\n",
      "    centroid_y_nm:589300.0937379273\n",
      "    centroid_z:27516\n",
      "    centroid_z_nm:1100652.3134551204\n",
      "    dendrite_bbox_volume:0.7069686375215666\n",
      "    dendrite_bbox_x_max:1564397.9821680577\n",
      "    dendrite_bbox_x_max_soma_relative:75517.22158488538\n",
      "    dendrite_bbox_x_min:1452681.3305454429\n",
      "    dendrite_bbox_x_min_soma_relative:-36199.43003772944\n",
      "    dendrite_bbox_y_max:651398.3573660252\n",
      "    dendrite_bbox_y_max_soma_relative:62098.26362809795\n",
      "    dendrite_bbox_y_min:529526.8825612821\n",
      "    dendrite_bbox_y_min_soma_relative:-59773.21117664513\n",
      "    dendrite_bbox_z_max:1114270.0\n",
      "    dendrite_bbox_z_max_soma_relative:13617.686544879572\n",
      "    dendrite_bbox_z_min:1062344.5617253203\n",
      "    dendrite_bbox_z_min_soma_relative:-38307.75172980013\n",
      "    dendrite_branch_length_mean:33.41337789593375\n",
      "    dendrite_branch_length_median:19.552647241597104\n",
      "    dendrite_n_limbs:4\n",
      "    dendrite_n_long_branches:1\n",
      "    dendrite_n_medium_branches:12\n",
      "    dendrite_n_short_branches:4\n",
      "    dendrite_soma_angle_max:171.08\n",
      "    dendrite_soma_angle_min:20.41\n",
      "    double_back_dendrite_error_area:0\n",
      "    double_back_dendrite_error_length:0\n",
      "    filtering_info:{'axon_on_dendrite_merges_time': 3.8368709087371826, 'axon_on_dendrite_merges_error_area': 0, 'axon_on_dendrite_merges_error_length': 0, 'axon_on_dendrite_merges_limb_branch_dict_to_cancel': {}, 'axon_on_dendrite_merges_created_edges': None, 'axon_on_dendrite_merges_red_blue_suggestions': {}, 'axon_on_dendrite_merges_split_locations': {}, 'axon_on_dendrite_merges_split_locations_before_filter': {}, 'high_degree_branching_time': 31.501768827438354, 'high_degree_branching_error_area': 453.86122047932406, 'high_degree_branching_error_length': 700.0176492326963, 'high_degree_branching_limb_branch_dict_to_cancel': {'L1': array([ 8, 33, 34, 37, 38, 40, 41, 42, 43, 44, 56, 57, 54, 55, 58, 59, 60,\n",
      "       61,  2,  7, 14, 15, 18, 19, 17, 24, 28, 31, 35, 36,  0,  5, 64, 65,\n",
      "       66, 67, 68, 69, 70, 71, 72, 73, 74, 62, 63, 26,  6,  9, 11,  1,  3,\n",
      "        4, 12, 21, 23, 29, 13, 20, 22, 25, 10, 16, 27, 30, 32, 39, 47])}, 'high_degree_branching_created_edges': None, 'high_degree_branching_red_blue_suggestions': {'L1': {0: [{'error_branches': array([ 0,  1,  2,  3,  4,  5,  6,  7,  8,  9, 10, 11, 12, 13, 14, 15, 16,\n",
      "       17, 18, 19, 20, 21, 22, 23, 24, 25, 26, 27, 28, 29, 30, 31, 32, 33,\n",
      "       34, 35, 36, 37, 38, 39, 40, 41, 42, 43, 44, 47, 54, 55, 56, 57, 58,\n",
      "       59, 60, 61, 62, 63, 64, 65, 66, 67, 68, 69, 70, 71, 72, 73, 74]), 'error_branches_skeleton_length': 700017.6492326965, 'valid_branches': array([45, 46]), 'parent_branch': 46, 'parent_branch_width': 200.42007585667255, 'parent_branch_axon': True, 'n_error_branches': 67, 'valid_points': array([[1466701.        ,  629807.6       , 1078091.66666667],\n",
      "       [1467171.33333333,  627108.7       , 1079252.        ],\n",
      "       [1465067.66666667,  635037.93333333, 1077391.33333333],\n",
      "       [1465111.33333333,  637928.66666667, 1077288.33333333]]), 'error_points': array([[1463646.        ,  632841.56666667, 1079514.        ],\n",
      "       [1461662.66666667,  633693.83333333, 1081477.        ],\n",
      "       [1460013.33333333,  634295.36666667, 1083794.        ],\n",
      "       [1467428.66666667,  632119.4       , 1075605.33333333],\n",
      "       [1468990.        ,  631781.7       , 1073551.66666667],\n",
      "       [1470217.33333333,  630552.56666667, 1071606.        ]]), 'coordinate': array([[1465734.61717684,  632309.85561238, 1077512.40412804]]), 'error_branches_skeleton_points': array([[1430163.        ,  633318.        , 1114281.        ],\n",
      "       [1431354.67177634,  633099.37469487, 1113597.72307936],\n",
      "       [1432633.34035658,  632879.48839545, 1112971.02463532],\n",
      "       ...,\n",
      "       [1524705.72229161,  561571.98247161, 1046465.83083583],\n",
      "       [1525189.63686862,  560500.00626175, 1047315.38483215],\n",
      "       [1525626.        ,  559926.        , 1048017.        ]]), 'error_pre_ids': array([469699724, 462511817, 466546956, 466546101, 469345183, 469700579,\n",
      "       469700270, 466142935, 466481524, 469724541, 468794187, 476011367,\n",
      "       476009824, 478560052, 478560128, 486176218, 469701556, 475451670,\n",
      "       486175826, 469724537, 469724639, 466482334, 465962323, 466144915,\n",
      "       469701940, 472894484, 471554684, 472895032, 472837231, 479220146,\n",
      "       486009536, 486011890, 481004674, 488395887, 490219977, 488395832,\n",
      "       490059469, 490057853, 488882555, 488882443, 488882735, 488882803,\n",
      "       488882773, 491392351, 488230664, 492383580]), 'error_pre_coordinates': array([[1440728,  626512, 1099360],\n",
      "       [1437320,  627276, 1098360],\n",
      "       [1448008,  638896, 1094800],\n",
      "       [1444432,  643816, 1091360],\n",
      "       [1450048,  625200, 1094800],\n",
      "       [1447280,  625216, 1097280],\n",
      "       [1444728,  624896, 1098720],\n",
      "       [1446408,  612480, 1098800],\n",
      "       [1449936,  655136, 1108960],\n",
      "       [1450736,  650496, 1103600],\n",
      "       [1454888,  618200, 1093960],\n",
      "       [1470832,  608320, 1075360],\n",
      "       [1461744,  610976, 1082560],\n",
      "       [1475800,  605048, 1060480],\n",
      "       [1476120,  604992, 1061400],\n",
      "       [1502856,  586732, 1042720],\n",
      "       [1453368,  619736, 1096480],\n",
      "       [1456188,  616416, 1088960],\n",
      "       [1498968,  593168, 1042360],\n",
      "       [1450648,  636056, 1099080],\n",
      "       [1451192,  648392, 1103760],\n",
      "       [1451624,  657184, 1110360],\n",
      "       [1453400,  623976, 1106240],\n",
      "       [1454096,  617896, 1099680],\n",
      "       [1455128,  624968, 1100000],\n",
      "       [1456080,  618168, 1107640],\n",
      "       [1455912,  621788, 1100880],\n",
      "       [1458592,  617896, 1106440],\n",
      "       [1471760,  630336, 1065560],\n",
      "       [1482788,  601920, 1054840],\n",
      "       [1503488,  605712, 1096960],\n",
      "       [1497972,  608548, 1091360],\n",
      "       [1487760,  612336, 1082400],\n",
      "       [1518200,  598544, 1106320],\n",
      "       [1513160,  601312, 1101760],\n",
      "       [1517944,  598208, 1106720],\n",
      "       [1510524,  604340, 1099720],\n",
      "       [1504896,  605088, 1095480],\n",
      "       [1512096,  575736, 1040160],\n",
      "       [1511488,  585776, 1035120],\n",
      "       [1512952,  569604, 1035840],\n",
      "       [1513216,  569728, 1035600],\n",
      "       [1513112,  571520, 1036880],\n",
      "       [1524952,  560864, 1045760],\n",
      "       [1520776,  561960, 1028360],\n",
      "       [1521232,  561592, 1028000]]), 'error_post_ids': array([466144823]), 'error_post_coordinates': array([[1453624,  617960, 1101480]]), 'valid_pre_ids': array([], dtype=float64), 'valid_pre_coordinates': array([], dtype=float64), 'valid_post_ids': array([], dtype=float64), 'valid_post_coordinates': array([], dtype=float64)}]}}, 'high_degree_branching_split_locations': {'L1': [array([[1449003.48000373,  624152.94400285, 1101008.70074961],\n",
      "       [1430163.        ,  633318.        , 1114281.        ]]), array([[1443781.07220208,  625397.88429704, 1098470.76878764],\n",
      "       [1434636.        ,  627480.        , 1098678.        ]]), array([[1451482.12177982,  633430.69781586, 1097450.12784982],\n",
      "       [1441676.        ,  648901.9       , 1088250.        ]]), array([[1444276.50082567,  625778.48821311, 1098279.59519299],\n",
      "       [1451608.        ,  626274.1       , 1094514.        ]]), array([[1444351.22472515,  624670.59960966, 1098230.04629296],\n",
      "       [1444605.        ,  624185.4       , 1097860.        ]]), array([[1448926.37069958,  623758.74733121, 1100494.96294924],\n",
      "       [1444037.38390381,  625268.83398246, 1098630.39168145]]), array([[1449212.93102888,  613278.93172367, 1100197.53682997],\n",
      "       [1445821.        ,  612848.2       , 1098715.        ]]), array([[1450737.09617913,  655031.30183977, 1107392.04647593],\n",
      "       [1447296.        ,  660063.        , 1111468.        ]]), array([[1454457.840356  ,  629231.28430876, 1098107.13595144],\n",
      "       [1449764.        ,  633560.4       , 1112548.        ]]), array([[1449057.52392902,  614158.72060512, 1100244.2799749 ],\n",
      "       [1448638.        ,  617706.6       , 1099281.        ]]), array([[1449901.64516777,  622884.06574056, 1100512.06231761],\n",
      "       [1449244.        ,  623530.1       , 1100664.        ]]), array([[1449803.48912307,  612555.14336623, 1100322.52115442],\n",
      "       [1452705.        ,  608627.8       , 1100932.        ]]), array([[1450756.44608656,  613913.20832311, 1101222.76721161],\n",
      "       [1449343.        ,  613344.2       , 1100211.        ]]), array([[1451259.59430461,  619080.82202785, 1101074.5515308 ],\n",
      "       [1449532.        ,  623497.2       , 1100819.        ]]), array([[1450679.32170282,  654904.06652391, 1107523.072656  ],\n",
      "       [1449682.        ,  655252.5       , 1109031.        ]]), array([[1451003.0964803 ,  654424.17503685, 1107074.13615644],\n",
      "       [1449802.        ,  648989.4       , 1102122.        ]]), array([[1450552.81254122,  621909.25628545, 1099464.11429454],\n",
      "       [1508195.        ,  581259.6       , 1043161.        ]]), array([[1451038.15482059,  621864.33220479, 1100683.99032134],\n",
      "       [1450243.        ,  622220.4       , 1100289.        ]]), array([[1451285.92079457,  634228.95351834, 1097756.18354578],\n",
      "       [1450789.48672932,  654816.57738752, 1107358.84772647]]), array([[1450917.00836222,  655534.87713859, 1107819.97709837],\n",
      "       [1451822.        ,  658153.        , 1110914.        ]]), array([[1450981.92439164,  616352.72561418, 1101062.06039517],\n",
      "       [1451171.38707162,  613918.4863635 , 1101411.80442928]]), array([[1451170.39770443,  613922.20826305, 1101413.45999987],\n",
      "       [1451157.        ,  615258.4       , 1105564.        ]]), array([[1451163.82727146,  619093.82398604, 1100534.22555743],\n",
      "       [1452364.        ,  624464.        , 1097829.        ]]), array([[1451225.58715306,  614192.16761893, 1102010.13022748],\n",
      "       [1451693.        ,  613726.        , 1102889.        ]]), array([[1451361.15017348,  618195.09494531, 1101048.52387236],\n",
      "       [1451154.        ,  617307.1       , 1101115.        ]]), array([[1451872.56568001,  617292.45115425, 1100995.49812916],\n",
      "       [1453790.        ,  618648.7       , 1099110.        ]]), array([[1451642.16112104,  613075.9693495 , 1101386.88907886],\n",
      "       [1451797.        ,  605896.9       , 1100934.        ]]), array([[1452910.08964769,  623207.26785126, 1099901.56055975],\n",
      "       [1451468.        ,  633455.8       , 1097485.        ]]), array([[1451440.54931519,  621754.09403608, 1100983.69668142],\n",
      "       [1451346.40910743,  618915.87430031, 1101010.29114231]]), array([[1452033.44306006,  613948.41856939, 1101285.38308856],\n",
      "       [1454021.        ,  614088.1       , 1101464.        ]]), array([[1452634.70397892,  622612.54731179, 1100156.58870558],\n",
      "       [1451426.        ,  621778.5       , 1100988.        ]]), array([[1453453.27922001,  620341.45916983, 1101368.91735939],\n",
      "       [1452206.        ,  625273.8       , 1108718.        ]]), array([[1452817.63257043,  622227.04683129, 1099722.31816904],\n",
      "       [1453469.26982475,  619627.06950786, 1100898.18455294]]), array([[1454058.12382513,  627109.98594709, 1098269.29590503],\n",
      "       [1452779.85736852,  623052.21390396, 1099966.79086004]]), array([[1454464.64410664,  617105.17077372, 1110014.41902248],\n",
      "       [1453096.        ,  615779.        , 1112147.        ]]), array([[1453405.6039762 ,  618713.13852919, 1101057.16396431],\n",
      "       [1454474.        ,  616928.4       , 1102716.        ]]), array([[1453776.20959505,  618720.5652117 , 1100667.7194625 ],\n",
      "       [1454085.        ,  617315.8       , 1097840.        ]]), array([[1454492.76466468,  628996.28555858, 1097972.93945894],\n",
      "       [1454095.        ,  627162.2       , 1098252.        ]]), array([[1454693.83383943,  626695.24743916, 1098465.01380623],\n",
      "       [1455706.        ,  622317.2       , 1102379.        ]]), array([[1465229.01148621,  632387.08334651, 1078117.07800169],\n",
      "       [1454478.        ,  629032.5       , 1097943.        ]]), array([[1455664.24693358,  617352.39969188, 1109041.95709968],\n",
      "       [1457432.        ,  617891.2       , 1107602.        ]]), array([[1457018.46235101,  618193.21980188, 1106482.92470202],\n",
      "       [1454882.        ,  617480.8       , 1109429.        ]]), array([[1455887.17384763,  621986.57062446, 1101560.36732505],\n",
      "       [1455883.        ,  621731.2       , 1100862.        ]]), array([[1455931.38326879,  621523.58018337, 1102865.1996524 ],\n",
      "       [1457006.        ,  618447.9       , 1106210.        ]]), array([[1457895.65062644,  618208.43622936, 1106353.69597844],\n",
      "       [1458734.        ,  617988.        , 1106742.        ]]), array([[1466408.82572995,  632335.01864032, 1076814.68162461],\n",
      "       [1470201.        ,  630379.        , 1071714.        ]]), array([[1470586.95444187,  630804.50024803, 1070989.7125413 ],\n",
      "       [1472730.        ,  627249.        , 1055145.        ]]), array([[1470574.23020797,  629476.75002242, 1071629.61997223],\n",
      "       [1481986.        ,  619704.8       , 1070344.        ]]), array([[1472712.40685744,  627261.22260431, 1055137.43803521],\n",
      "       [1471831.        ,  628312.9       , 1056267.        ]]), array([[1472695.29192051,  626479.08343677, 1054557.01543017],\n",
      "       [1484268.        ,  597376.        , 1054371.        ]]), array([[1481884.95221238,  619625.67580007, 1070127.54415253],\n",
      "       [1480164.        ,  610386.        , 1072764.        ]]), array([[1482635.06709611,  619087.75720701, 1070704.87930286],\n",
      "       [1504272.        ,  605451.        , 1096872.        ]]), array([[1504906.16749013,  605079.97299467, 1097529.14516748],\n",
      "       [1520421.        ,  589638.        , 1114281.        ]]), array([[1504698.79256789,  605129.56939636, 1096089.38755391],\n",
      "       [1504716.        ,  604891.9       , 1095380.        ]]), array([[1508932.21496308,  580700.07795952, 1043041.94195443],\n",
      "       [1512436.        ,  574385.3       , 1039094.        ]]), array([[1508921.08712582,  581327.76669804, 1042617.55228158],\n",
      "       [1512338.        ,  586308.6       , 1034647.        ]]), array([[1512310.52248409,  574014.56338211, 1038227.22000338],\n",
      "       [1516358.        ,  565945.5       , 1033706.        ]]), array([[1512868.29698696,  573582.7695896 , 1039224.56767101],\n",
      "       [1514244.        ,  572479.4       , 1038963.        ]]), array([[1514236.14028563,  572336.21732495, 1038827.55995589],\n",
      "       [1513128.        ,  571214.6       , 1036756.        ]]), array([[1514914.06895111,  572038.30194295, 1039523.10076919],\n",
      "       [1525626.        ,  559926.        , 1048017.        ]]), array([[1517005.89908183,  565446.23694953, 1034165.83471444],\n",
      "       [1519534.        ,  563592.1       , 1032300.        ]]), array([[1516791.74094666,  565416.11525169, 1033029.19429001],\n",
      "       [1519773.91193622,  561935.77741403, 1028591.06714809]]), array([[1518968.01831037,  563029.13524082, 1032745.67658004],\n",
      "       [1517150.        ,  562427.8       , 1034706.        ]]), array([[1519668.17633987,  562696.53115327, 1028960.66879048],\n",
      "       [1522637.        ,  563407.1       , 1028966.        ]]), array([[1520216.1892252 ,  563330.50350064, 1031642.04496903],\n",
      "       [1523768.        ,  564278.1       , 1028597.        ]]), array([[1520171.62719686,  561187.4388834 , 1028109.9304811 ],\n",
      "       [1521078.        ,  559332.6       , 1027182.        ]]), array([[1520478.78093035,  561539.00746532, 1028273.63560263],\n",
      "       [1521233.        ,  561824.8       , 1027954.        ]])]}, 'high_degree_branching_split_locations_before_filter': {'L1': [array([[1443781.07220208,  625397.88429704, 1098470.76878764],\n",
      "       [1434636.        ,  627480.        , 1098678.        ]]), array([[1444276.50082567,  625778.48821311, 1098279.59519299],\n",
      "       [1451608.        ,  626274.1       , 1094514.        ]]), array([[1444351.22472515,  624670.59960966, 1098230.04629296],\n",
      "       [1444605.        ,  624185.4       , 1097860.        ]]), array([[1449901.64516777,  622884.06574056, 1100512.06231761],\n",
      "       [1449244.        ,  623530.1       , 1100664.        ]]), array([[1450756.44608656,  613913.20832311, 1101222.76721161],\n",
      "       [1449343.        ,  613344.2       , 1100211.        ]]), array([[1451259.59430461,  619080.82202785, 1101074.5515308 ],\n",
      "       [1449532.        ,  623497.2       , 1100819.        ]]), array([[1450552.81254122,  621909.25628545, 1099464.11429454],\n",
      "       [1508195.        ,  581259.6       , 1043161.        ]]), array([[1450981.92439164,  616352.72561418, 1101062.06039517],\n",
      "       [1451171.38707162,  613918.4863635 , 1101411.80442928]]), array([[1451170.39770443,  613922.20826305, 1101413.45999987],\n",
      "       [1451157.        ,  615258.4       , 1105564.        ]]), array([[1451163.82727146,  619093.82398604, 1100534.22555743],\n",
      "       [1452364.        ,  624464.        , 1097829.        ]]), array([[1451225.58715306,  614192.16761893, 1102010.13022748],\n",
      "       [1451693.        ,  613726.        , 1102889.        ]]), array([[1451872.56568001,  617292.45115425, 1100995.49812916],\n",
      "       [1453790.        ,  618648.7       , 1099110.        ]]), array([[1452910.08964769,  623207.26785126, 1099901.56055975],\n",
      "       [1451468.        ,  633455.8       , 1097485.        ]]), array([[1452033.44306006,  613948.41856939, 1101285.38308856],\n",
      "       [1454021.        ,  614088.1       , 1101464.        ]]), array([[1452634.70397892,  622612.54731179, 1100156.58870558],\n",
      "       [1451426.        ,  621778.5       , 1100988.        ]]), array([[1452817.63257043,  622227.04683129, 1099722.31816904],\n",
      "       [1453469.26982475,  619627.06950786, 1100898.18455294]]), array([[1465229.01148621,  632387.08334651, 1078117.07800169],\n",
      "       [1454478.        ,  629032.5       , 1097943.        ]]), array([[1466408.82572995,  632335.01864032, 1076814.68162461],\n",
      "       [1470201.        ,  630379.        , 1071714.        ]])]}, 'low_degree_branching_time': 7.018548488616943, 'low_degree_branching_error_area': 0, 'low_degree_branching_error_length': 0, 'low_degree_branching_limb_branch_dict_to_cancel': {}, 'low_degree_branching_created_edges': None, 'low_degree_branching_red_blue_suggestions': {}, 'low_degree_branching_split_locations': {}, 'low_degree_branching_split_locations_before_filter': {}, 'high_degree_branching_dendrite_time': 5.036717653274536, 'high_degree_branching_dendrite_error_area': 0, 'high_degree_branching_dendrite_error_length': 0, 'high_degree_branching_dendrite_limb_branch_dict_to_cancel': {}, 'high_degree_branching_dendrite_created_edges': None, 'high_degree_branching_dendrite_red_blue_suggestions': {}, 'high_degree_branching_dendrite_split_locations': {}, 'high_degree_branching_dendrite_split_locations_before_filter': {}, 'width_jump_up_dendrite_time': 5.002430438995361, 'width_jump_up_dendrite_error_area': 0, 'width_jump_up_dendrite_error_length': 0, 'width_jump_up_dendrite_limb_branch_dict_to_cancel': {}, 'width_jump_up_dendrite_created_edges': None, 'width_jump_up_dendrite_red_blue_suggestions': {}, 'width_jump_up_dendrite_split_locations': {}, 'width_jump_up_dendrite_split_locations_before_filter': {}, 'width_jump_up_axon_time': 3.2819230556488037, 'width_jump_up_axon_error_area': 0, 'width_jump_up_axon_error_length': 0, 'width_jump_up_axon_limb_branch_dict_to_cancel': {}, 'width_jump_up_axon_created_edges': None, 'width_jump_up_axon_red_blue_suggestions': {}, 'width_jump_up_axon_split_locations': {}, 'width_jump_up_axon_split_locations_before_filter': {}, 'double_back_dendrite_time': 2.341172695159912, 'double_back_dendrite_error_area': 0, 'double_back_dendrite_error_length': 0, 'double_back_dendrite_limb_branch_dict_to_cancel': {}, 'double_back_dendrite_created_edges': None, 'double_back_dendrite_red_blue_suggestions': {}, 'double_back_dendrite_split_locations': {}, 'double_back_dendrite_split_locations_before_filter': {}}\n",
      "    high_degree_branching_dendrite_error_area:0\n",
      "    high_degree_branching_dendrite_error_length:0\n",
      "    high_degree_branching_error_area:453.86\n",
      "    high_degree_branching_error_length:700.02\n",
      "    limb_branch_to_cancel:{'axon_on_dendrite_merges_limb_branch_dict_to_cancel': {}, 'high_degree_branching_limb_branch_dict_to_cancel': {'L1': array([ 8, 33, 34, 37, 38, 40, 41, 42, 43, 44, 56, 57, 54, 55, 58, 59, 60,\n",
      "       61,  2,  7, 14, 15, 18, 19, 17, 24, 28, 31, 35, 36,  0,  5, 64, 65,\n",
      "       66, 67, 68, 69, 70, 71, 72, 73, 74, 62, 63, 26,  6,  9, 11,  1,  3,\n",
      "        4, 12, 21, 23, 29, 13, 20, 22, 25, 10, 16, 27, 30, 32, 39, 47])}, 'low_degree_branching_limb_branch_dict_to_cancel': {}, 'high_degree_branching_dendrite_limb_branch_dict_to_cancel': {}, 'width_jump_up_dendrite_limb_branch_dict_to_cancel': {}, 'width_jump_up_axon_limb_branch_dict_to_cancel': {}, 'double_back_dendrite_limb_branch_dict_to_cancel': {}}\n",
      "    low_degree_branching_error_area:0\n",
      "    low_degree_branching_error_length:0\n",
      "    max_limb_n_branches:10\n",
      "    max_limb_skeletal_length:341873.1165084723\n",
      "    max_soma_area:341.07163148783616\n",
      "    max_soma_n_faces:22560\n",
      "    max_soma_volume:559.9676706260651\n",
      "    median_branch_length:8535.915\n",
      "    multiplicity:2\n",
      "    n_boutons:0\n",
      "    n_branches:24\n",
      "    n_faces:150268\n",
      "    n_limbs:5\n",
      "    n_spine_eligible_branches:24\n",
      "    n_spines:258\n",
      "    n_syn_apical:0\n",
      "    n_syn_apical_head_postsyn:0\n",
      "    n_syn_apical_neck_postsyn:0\n",
      "    n_syn_apical_no_head_postsyn:0\n",
      "    n_syn_apical_shaft:0\n",
      "    n_syn_apical_shaft_head_postsyn:0\n",
      "    n_syn_apical_shaft_neck_postsyn:0\n",
      "    n_syn_apical_shaft_no_head_postsyn:0\n",
      "    n_syn_apical_shaft_postsyn:0\n",
      "    n_syn_apical_shaft_shaft_postsyn:0\n",
      "    n_syn_apical_total:0\n",
      "    n_syn_apical_total_head_postsyn:0\n",
      "    n_syn_apical_total_head_presyn:0\n",
      "    n_syn_apical_total_neck_postsyn:0\n",
      "    n_syn_apical_total_neck_presyn:0\n",
      "    n_syn_apical_total_no_head_postsyn:0\n",
      "    n_syn_apical_total_no_head_presyn:0\n",
      "    n_syn_apical_total_shaft_postsyn:0\n",
      "    n_syn_apical_total_shaft_presyn:0\n",
      "    n_syn_apical_tuft:0\n",
      "    n_syn_apical_tuft_head_postsyn:0\n",
      "    n_syn_apical_tuft_neck_postsyn:0\n",
      "    n_syn_apical_tuft_no_head_postsyn:0\n",
      "    n_syn_apical_tuft_shaft_postsyn:0\n",
      "    n_syn_axon:1\n",
      "    n_syn_axon_ais_postsyn:1\n",
      "    n_syn_axon_bouton_postsyn:0\n",
      "    n_syn_axon_bouton_presyn:0\n",
      "    n_syn_axon_non_bouton_postsyn:1\n",
      "    n_syn_axon_non_bouton_presyn:0\n",
      "    n_syn_basal:498\n",
      "    n_syn_basal_head_postsyn:202\n",
      "    n_syn_basal_neck_postsyn:3\n",
      "    n_syn_basal_no_head_postsyn:71\n",
      "    n_syn_basal_shaft_postsyn:222\n",
      "    n_syn_bouton:0\n",
      "    n_syn_dendrite:498\n",
      "    n_syn_dendrite_head_postsyn:202\n",
      "    n_syn_dendrite_neck_postsyn:3\n",
      "    n_syn_dendrite_no_head_postsyn:71\n",
      "    n_syn_dendrite_shaft_postsyn:222\n",
      "    n_syn_distance_errored:0\n",
      "    n_syn_error:408\n",
      "    n_syn_error_post:346\n",
      "    n_syn_error_pre:62\n",
      "    n_syn_head:204\n",
      "    n_syn_mesh_errored:395\n",
      "    n_syn_neck:3\n",
      "    n_syn_no_head:72\n",
      "    n_syn_no_label:58\n",
      "    n_syn_non_bouton:1\n",
      "    n_syn_oblique:0\n",
      "    n_syn_oblique_head_postsyn:0\n",
      "    n_syn_oblique_neck_postsyn:0\n",
      "    n_syn_oblique_no_head_postsyn:0\n",
      "    n_syn_oblique_shaft_postsyn:0\n",
      "    n_syn_presyns_on_dendrite:13\n",
      "    n_syn_shaft:232\n",
      "    n_syn_soma:58\n",
      "    n_syn_soma_no_label_postsyn:58\n",
      "    n_syn_soma_no_label_presyn:0\n",
      "    n_syn_valid:557\n",
      "    n_syn_valid_post:557\n",
      "    n_syn_valid_pre:0\n",
      "    n_vertices:76270\n",
      "    proof_version:7\n",
      "    red_blue_suggestions:{'axon_on_dendrite_merges_red_blue_suggestions': {}, 'high_degree_branching_red_blue_suggestions': {'L1': {0: [{'error_branches': array([ 0,  1,  2,  3,  4,  5,  6,  7,  8,  9, 10, 11, 12, 13, 14, 15, 16,\n",
      "       17, 18, 19, 20, 21, 22, 23, 24, 25, 26, 27, 28, 29, 30, 31, 32, 33,\n",
      "       34, 35, 36, 37, 38, 39, 40, 41, 42, 43, 44, 47, 54, 55, 56, 57, 58,\n",
      "       59, 60, 61, 62, 63, 64, 65, 66, 67, 68, 69, 70, 71, 72, 73, 74]), 'error_branches_skeleton_length': 700017.6492326965, 'valid_branches': array([45, 46]), 'parent_branch': 46, 'parent_branch_width': 200.42007585667255, 'parent_branch_axon': True, 'n_error_branches': 67, 'valid_points': array([[1466701.        ,  629807.6       , 1078091.66666667],\n",
      "       [1467171.33333333,  627108.7       , 1079252.        ],\n",
      "       [1465067.66666667,  635037.93333333, 1077391.33333333],\n",
      "       [1465111.33333333,  637928.66666667, 1077288.33333333]]), 'error_points': array([[1463646.        ,  632841.56666667, 1079514.        ],\n",
      "       [1461662.66666667,  633693.83333333, 1081477.        ],\n",
      "       [1460013.33333333,  634295.36666667, 1083794.        ],\n",
      "       [1467428.66666667,  632119.4       , 1075605.33333333],\n",
      "       [1468990.        ,  631781.7       , 1073551.66666667],\n",
      "       [1470217.33333333,  630552.56666667, 1071606.        ]]), 'coordinate': array([[1465734.61717684,  632309.85561238, 1077512.40412804]]), 'error_branches_skeleton_points': array([[1430163.        ,  633318.        , 1114281.        ],\n",
      "       [1431354.67177634,  633099.37469487, 1113597.72307936],\n",
      "       [1432633.34035658,  632879.48839545, 1112971.02463532],\n",
      "       ...,\n",
      "       [1524705.72229161,  561571.98247161, 1046465.83083583],\n",
      "       [1525189.63686862,  560500.00626175, 1047315.38483215],\n",
      "       [1525626.        ,  559926.        , 1048017.        ]]), 'error_pre_ids': array([469699724, 462511817, 466546956, 466546101, 469345183, 469700579,\n",
      "       469700270, 466142935, 466481524, 469724541, 468794187, 476011367,\n",
      "       476009824, 478560052, 478560128, 486176218, 469701556, 475451670,\n",
      "       486175826, 469724537, 469724639, 466482334, 465962323, 466144915,\n",
      "       469701940, 472894484, 471554684, 472895032, 472837231, 479220146,\n",
      "       486009536, 486011890, 481004674, 488395887, 490219977, 488395832,\n",
      "       490059469, 490057853, 488882555, 488882443, 488882735, 488882803,\n",
      "       488882773, 491392351, 488230664, 492383580]), 'error_pre_coordinates': array([[1440728,  626512, 1099360],\n",
      "       [1437320,  627276, 1098360],\n",
      "       [1448008,  638896, 1094800],\n",
      "       [1444432,  643816, 1091360],\n",
      "       [1450048,  625200, 1094800],\n",
      "       [1447280,  625216, 1097280],\n",
      "       [1444728,  624896, 1098720],\n",
      "       [1446408,  612480, 1098800],\n",
      "       [1449936,  655136, 1108960],\n",
      "       [1450736,  650496, 1103600],\n",
      "       [1454888,  618200, 1093960],\n",
      "       [1470832,  608320, 1075360],\n",
      "       [1461744,  610976, 1082560],\n",
      "       [1475800,  605048, 1060480],\n",
      "       [1476120,  604992, 1061400],\n",
      "       [1502856,  586732, 1042720],\n",
      "       [1453368,  619736, 1096480],\n",
      "       [1456188,  616416, 1088960],\n",
      "       [1498968,  593168, 1042360],\n",
      "       [1450648,  636056, 1099080],\n",
      "       [1451192,  648392, 1103760],\n",
      "       [1451624,  657184, 1110360],\n",
      "       [1453400,  623976, 1106240],\n",
      "       [1454096,  617896, 1099680],\n",
      "       [1455128,  624968, 1100000],\n",
      "       [1456080,  618168, 1107640],\n",
      "       [1455912,  621788, 1100880],\n",
      "       [1458592,  617896, 1106440],\n",
      "       [1471760,  630336, 1065560],\n",
      "       [1482788,  601920, 1054840],\n",
      "       [1503488,  605712, 1096960],\n",
      "       [1497972,  608548, 1091360],\n",
      "       [1487760,  612336, 1082400],\n",
      "       [1518200,  598544, 1106320],\n",
      "       [1513160,  601312, 1101760],\n",
      "       [1517944,  598208, 1106720],\n",
      "       [1510524,  604340, 1099720],\n",
      "       [1504896,  605088, 1095480],\n",
      "       [1512096,  575736, 1040160],\n",
      "       [1511488,  585776, 1035120],\n",
      "       [1512952,  569604, 1035840],\n",
      "       [1513216,  569728, 1035600],\n",
      "       [1513112,  571520, 1036880],\n",
      "       [1524952,  560864, 1045760],\n",
      "       [1520776,  561960, 1028360],\n",
      "       [1521232,  561592, 1028000]]), 'error_post_ids': array([466144823]), 'error_post_coordinates': array([[1453624,  617960, 1101480]]), 'valid_pre_ids': array([], dtype=float64), 'valid_pre_coordinates': array([], dtype=float64), 'valid_post_ids': array([], dtype=float64), 'valid_post_coordinates': array([], dtype=float64)}]}}, 'low_degree_branching_red_blue_suggestions': {}, 'high_degree_branching_dendrite_red_blue_suggestions': {}, 'width_jump_up_dendrite_red_blue_suggestions': {}, 'width_jump_up_axon_red_blue_suggestions': {}, 'double_back_dendrite_red_blue_suggestions': {}}\n",
      "    run_time:69.94139432907104\n",
      "    skeletal_length:652058.6868152409\n",
      "    skeletal_length_eligible:652058.687\n",
      "    skeletal_length_processed_spine_after_proof:524541.5546859367\n",
      "    skeletal_length_processed_syn_after_proof:553931.5048054664\n",
      "    soma_x:372220\n",
      "    soma_y:147325\n",
      "    soma_z:27516\n",
      "    spine_density_after_proof:0.4880452229438278\n",
      "    spine_density_eligible:0.00039566990693277885\n",
      "    spine_volume_density:34231.96407737569\n",
      "    spine_volume_density_eligible:34231.964067676156\n",
      "    spine_volume_median:62289897.033345535\n",
      "    spine_volume_per_branch_eligible:930052064.3083372\n",
      "    spines_per_branch:10.75\n",
      "    spines_per_branch_eligible:10.75\n",
      "    split_locations:{'axon_on_dendrite_merges_split_locations': {}, 'high_degree_branching_split_locations': {'L1': [array([[1449003.48000373,  624152.94400285, 1101008.70074961],\n",
      "       [1430163.        ,  633318.        , 1114281.        ]]), array([[1443781.07220208,  625397.88429704, 1098470.76878764],\n",
      "       [1434636.        ,  627480.        , 1098678.        ]]), array([[1451482.12177982,  633430.69781586, 1097450.12784982],\n",
      "       [1441676.        ,  648901.9       , 1088250.        ]]), array([[1444276.50082567,  625778.48821311, 1098279.59519299],\n",
      "       [1451608.        ,  626274.1       , 1094514.        ]]), array([[1444351.22472515,  624670.59960966, 1098230.04629296],\n",
      "       [1444605.        ,  624185.4       , 1097860.        ]]), array([[1448926.37069958,  623758.74733121, 1100494.96294924],\n",
      "       [1444037.38390381,  625268.83398246, 1098630.39168145]]), array([[1449212.93102888,  613278.93172367, 1100197.53682997],\n",
      "       [1445821.        ,  612848.2       , 1098715.        ]]), array([[1450737.09617913,  655031.30183977, 1107392.04647593],\n",
      "       [1447296.        ,  660063.        , 1111468.        ]]), array([[1454457.840356  ,  629231.28430876, 1098107.13595144],\n",
      "       [1449764.        ,  633560.4       , 1112548.        ]]), array([[1449057.52392902,  614158.72060512, 1100244.2799749 ],\n",
      "       [1448638.        ,  617706.6       , 1099281.        ]]), array([[1449901.64516777,  622884.06574056, 1100512.06231761],\n",
      "       [1449244.        ,  623530.1       , 1100664.        ]]), array([[1449803.48912307,  612555.14336623, 1100322.52115442],\n",
      "       [1452705.        ,  608627.8       , 1100932.        ]]), array([[1450756.44608656,  613913.20832311, 1101222.76721161],\n",
      "       [1449343.        ,  613344.2       , 1100211.        ]]), array([[1451259.59430461,  619080.82202785, 1101074.5515308 ],\n",
      "       [1449532.        ,  623497.2       , 1100819.        ]]), array([[1450679.32170282,  654904.06652391, 1107523.072656  ],\n",
      "       [1449682.        ,  655252.5       , 1109031.        ]]), array([[1451003.0964803 ,  654424.17503685, 1107074.13615644],\n",
      "       [1449802.        ,  648989.4       , 1102122.        ]]), array([[1450552.81254122,  621909.25628545, 1099464.11429454],\n",
      "       [1508195.        ,  581259.6       , 1043161.        ]]), array([[1451038.15482059,  621864.33220479, 1100683.99032134],\n",
      "       [1450243.        ,  622220.4       , 1100289.        ]]), array([[1451285.92079457,  634228.95351834, 1097756.18354578],\n",
      "       [1450789.48672932,  654816.57738752, 1107358.84772647]]), array([[1450917.00836222,  655534.87713859, 1107819.97709837],\n",
      "       [1451822.        ,  658153.        , 1110914.        ]]), array([[1450981.92439164,  616352.72561418, 1101062.06039517],\n",
      "       [1451171.38707162,  613918.4863635 , 1101411.80442928]]), array([[1451170.39770443,  613922.20826305, 1101413.45999987],\n",
      "       [1451157.        ,  615258.4       , 1105564.        ]]), array([[1451163.82727146,  619093.82398604, 1100534.22555743],\n",
      "       [1452364.        ,  624464.        , 1097829.        ]]), array([[1451225.58715306,  614192.16761893, 1102010.13022748],\n",
      "       [1451693.        ,  613726.        , 1102889.        ]]), array([[1451361.15017348,  618195.09494531, 1101048.52387236],\n",
      "       [1451154.        ,  617307.1       , 1101115.        ]]), array([[1451872.56568001,  617292.45115425, 1100995.49812916],\n",
      "       [1453790.        ,  618648.7       , 1099110.        ]]), array([[1451642.16112104,  613075.9693495 , 1101386.88907886],\n",
      "       [1451797.        ,  605896.9       , 1100934.        ]]), array([[1452910.08964769,  623207.26785126, 1099901.56055975],\n",
      "       [1451468.        ,  633455.8       , 1097485.        ]]), array([[1451440.54931519,  621754.09403608, 1100983.69668142],\n",
      "       [1451346.40910743,  618915.87430031, 1101010.29114231]]), array([[1452033.44306006,  613948.41856939, 1101285.38308856],\n",
      "       [1454021.        ,  614088.1       , 1101464.        ]]), array([[1452634.70397892,  622612.54731179, 1100156.58870558],\n",
      "       [1451426.        ,  621778.5       , 1100988.        ]]), array([[1453453.27922001,  620341.45916983, 1101368.91735939],\n",
      "       [1452206.        ,  625273.8       , 1108718.        ]]), array([[1452817.63257043,  622227.04683129, 1099722.31816904],\n",
      "       [1453469.26982475,  619627.06950786, 1100898.18455294]]), array([[1454058.12382513,  627109.98594709, 1098269.29590503],\n",
      "       [1452779.85736852,  623052.21390396, 1099966.79086004]]), array([[1454464.64410664,  617105.17077372, 1110014.41902248],\n",
      "       [1453096.        ,  615779.        , 1112147.        ]]), array([[1453405.6039762 ,  618713.13852919, 1101057.16396431],\n",
      "       [1454474.        ,  616928.4       , 1102716.        ]]), array([[1453776.20959505,  618720.5652117 , 1100667.7194625 ],\n",
      "       [1454085.        ,  617315.8       , 1097840.        ]]), array([[1454492.76466468,  628996.28555858, 1097972.93945894],\n",
      "       [1454095.        ,  627162.2       , 1098252.        ]]), array([[1454693.83383943,  626695.24743916, 1098465.01380623],\n",
      "       [1455706.        ,  622317.2       , 1102379.        ]]), array([[1465229.01148621,  632387.08334651, 1078117.07800169],\n",
      "       [1454478.        ,  629032.5       , 1097943.        ]]), array([[1455664.24693358,  617352.39969188, 1109041.95709968],\n",
      "       [1457432.        ,  617891.2       , 1107602.        ]]), array([[1457018.46235101,  618193.21980188, 1106482.92470202],\n",
      "       [1454882.        ,  617480.8       , 1109429.        ]]), array([[1455887.17384763,  621986.57062446, 1101560.36732505],\n",
      "       [1455883.        ,  621731.2       , 1100862.        ]]), array([[1455931.38326879,  621523.58018337, 1102865.1996524 ],\n",
      "       [1457006.        ,  618447.9       , 1106210.        ]]), array([[1457895.65062644,  618208.43622936, 1106353.69597844],\n",
      "       [1458734.        ,  617988.        , 1106742.        ]]), array([[1466408.82572995,  632335.01864032, 1076814.68162461],\n",
      "       [1470201.        ,  630379.        , 1071714.        ]]), array([[1470586.95444187,  630804.50024803, 1070989.7125413 ],\n",
      "       [1472730.        ,  627249.        , 1055145.        ]]), array([[1470574.23020797,  629476.75002242, 1071629.61997223],\n",
      "       [1481986.        ,  619704.8       , 1070344.        ]]), array([[1472712.40685744,  627261.22260431, 1055137.43803521],\n",
      "       [1471831.        ,  628312.9       , 1056267.        ]]), array([[1472695.29192051,  626479.08343677, 1054557.01543017],\n",
      "       [1484268.        ,  597376.        , 1054371.        ]]), array([[1481884.95221238,  619625.67580007, 1070127.54415253],\n",
      "       [1480164.        ,  610386.        , 1072764.        ]]), array([[1482635.06709611,  619087.75720701, 1070704.87930286],\n",
      "       [1504272.        ,  605451.        , 1096872.        ]]), array([[1504906.16749013,  605079.97299467, 1097529.14516748],\n",
      "       [1520421.        ,  589638.        , 1114281.        ]]), array([[1504698.79256789,  605129.56939636, 1096089.38755391],\n",
      "       [1504716.        ,  604891.9       , 1095380.        ]]), array([[1508932.21496308,  580700.07795952, 1043041.94195443],\n",
      "       [1512436.        ,  574385.3       , 1039094.        ]]), array([[1508921.08712582,  581327.76669804, 1042617.55228158],\n",
      "       [1512338.        ,  586308.6       , 1034647.        ]]), array([[1512310.52248409,  574014.56338211, 1038227.22000338],\n",
      "       [1516358.        ,  565945.5       , 1033706.        ]]), array([[1512868.29698696,  573582.7695896 , 1039224.56767101],\n",
      "       [1514244.        ,  572479.4       , 1038963.        ]]), array([[1514236.14028563,  572336.21732495, 1038827.55995589],\n",
      "       [1513128.        ,  571214.6       , 1036756.        ]]), array([[1514914.06895111,  572038.30194295, 1039523.10076919],\n",
      "       [1525626.        ,  559926.        , 1048017.        ]]), array([[1517005.89908183,  565446.23694953, 1034165.83471444],\n",
      "       [1519534.        ,  563592.1       , 1032300.        ]]), array([[1516791.74094666,  565416.11525169, 1033029.19429001],\n",
      "       [1519773.91193622,  561935.77741403, 1028591.06714809]]), array([[1518968.01831037,  563029.13524082, 1032745.67658004],\n",
      "       [1517150.        ,  562427.8       , 1034706.        ]]), array([[1519668.17633987,  562696.53115327, 1028960.66879048],\n",
      "       [1522637.        ,  563407.1       , 1028966.        ]]), array([[1520216.1892252 ,  563330.50350064, 1031642.04496903],\n",
      "       [1523768.        ,  564278.1       , 1028597.        ]]), array([[1520171.62719686,  561187.4388834 , 1028109.9304811 ],\n",
      "       [1521078.        ,  559332.6       , 1027182.        ]]), array([[1520478.78093035,  561539.00746532, 1028273.63560263],\n",
      "       [1521233.        ,  561824.8       , 1027954.        ]])]}, 'low_degree_branching_split_locations': {}, 'high_degree_branching_dendrite_split_locations': {}, 'width_jump_up_dendrite_split_locations': {}, 'width_jump_up_axon_split_locations': {}, 'double_back_dendrite_split_locations': {}}\n",
      "    split_locations_before_filter:{'axon_on_dendrite_merges_split_locations_before_filter': {}, 'high_degree_branching_split_locations_before_filter': {'L1': [array([[1443781.07220208,  625397.88429704, 1098470.76878764],\n",
      "       [1434636.        ,  627480.        , 1098678.        ]]), array([[1444276.50082567,  625778.48821311, 1098279.59519299],\n",
      "       [1451608.        ,  626274.1       , 1094514.        ]]), array([[1444351.22472515,  624670.59960966, 1098230.04629296],\n",
      "       [1444605.        ,  624185.4       , 1097860.        ]]), array([[1449901.64516777,  622884.06574056, 1100512.06231761],\n",
      "       [1449244.        ,  623530.1       , 1100664.        ]]), array([[1450756.44608656,  613913.20832311, 1101222.76721161],\n",
      "       [1449343.        ,  613344.2       , 1100211.        ]]), array([[1451259.59430461,  619080.82202785, 1101074.5515308 ],\n",
      "       [1449532.        ,  623497.2       , 1100819.        ]]), array([[1450552.81254122,  621909.25628545, 1099464.11429454],\n",
      "       [1508195.        ,  581259.6       , 1043161.        ]]), array([[1450981.92439164,  616352.72561418, 1101062.06039517],\n",
      "       [1451171.38707162,  613918.4863635 , 1101411.80442928]]), array([[1451170.39770443,  613922.20826305, 1101413.45999987],\n",
      "       [1451157.        ,  615258.4       , 1105564.        ]]), array([[1451163.82727146,  619093.82398604, 1100534.22555743],\n",
      "       [1452364.        ,  624464.        , 1097829.        ]]), array([[1451225.58715306,  614192.16761893, 1102010.13022748],\n",
      "       [1451693.        ,  613726.        , 1102889.        ]]), array([[1451872.56568001,  617292.45115425, 1100995.49812916],\n",
      "       [1453790.        ,  618648.7       , 1099110.        ]]), array([[1452910.08964769,  623207.26785126, 1099901.56055975],\n",
      "       [1451468.        ,  633455.8       , 1097485.        ]]), array([[1452033.44306006,  613948.41856939, 1101285.38308856],\n",
      "       [1454021.        ,  614088.1       , 1101464.        ]]), array([[1452634.70397892,  622612.54731179, 1100156.58870558],\n",
      "       [1451426.        ,  621778.5       , 1100988.        ]]), array([[1452817.63257043,  622227.04683129, 1099722.31816904],\n",
      "       [1453469.26982475,  619627.06950786, 1100898.18455294]]), array([[1465229.01148621,  632387.08334651, 1078117.07800169],\n",
      "       [1454478.        ,  629032.5       , 1097943.        ]]), array([[1466408.82572995,  632335.01864032, 1076814.68162461],\n",
      "       [1470201.        ,  630379.        , 1071714.        ]])]}, 'low_degree_branching_split_locations_before_filter': {}, 'high_degree_branching_dendrite_split_locations_before_filter': {}, 'width_jump_up_dendrite_split_locations_before_filter': {}, 'width_jump_up_axon_split_locations_before_filter': {}, 'double_back_dendrite_split_locations_before_filter': {}}\n",
      "    syn_density_head_after_proof:0.3682765797400207\n",
      "    syn_density_neck_after_proof:0.005415832055000304\n",
      "    syn_density_post_after_proof:0.8809753476133828\n",
      "    syn_density_shaft_after_proof:0.4007715720700225\n",
      "    synapse_filepath:/neurd_packages/NEURD/Applications/autoproof_neuron_pipeline/864691135510518224_synapses.csv\n",
      "    total_spine_volume:22321249543.400093\n",
      "    width_90_perc:483.027\n",
      "    width_jump_up_axon_error_area:0\n",
      "    width_jump_up_axon_error_length:0\n",
      "    width_jump_up_dendrite_error_area:0\n",
      "    width_jump_up_dendrite_error_length:0\n",
      "    width_median:317.064\n",
      "    width_no_spine_90_perc:480.127\n",
      "    width_no_spine_median:278.51\n",
      "\n"
     ]
    }
   ],
   "source": [
    "print(neuron_obj_proof.pipeline_products.auto_proof)"
   ]
  },
  {
   "cell_type": "markdown",
   "id": "86446328",
   "metadata": {},
   "source": [
    "# Saving off the autoproofread neuron"
   ]
  },
  {
   "cell_type": "code",
   "execution_count": 69,
   "id": "fb8c945e",
   "metadata": {
    "scrolled": true
   },
   "outputs": [
    {
     "name": "stdout",
     "output_type": "stream",
     "text": [
      "Total time for soma meshes compression = 0.23547840118408203\n",
      "Total time for insignificant_limbs,inside_pieces,non_soma_touching_meshes,not_processed_soma_containing_meshes compression = 0.17470455169677734\n",
      "Total time for limb_meshes compression = 0.5247724056243896\n",
      "    Starting Limb Correspondence Compression\n",
      "Total time for new_limb_correspondence compression = 1.7808122634887695\n",
      "Cleared mesh: <trimesh.Trimesh(vertices.shape=(6494, 3), faces.shape=(15575, 3))>:140208136048752\n",
      "Cleared mesh: <trimesh.Trimesh(vertices.shape=(3256, 3), faces.shape=(5810, 3))>:140214239539104\n",
      "Cleared mesh: <trimesh.Trimesh(vertices.shape=(2064, 3), faces.shape=(4789, 3))>:140215586930944\n",
      "Cleared mesh: <trimesh.Trimesh(vertices.shape=(2022, 3), faces.shape=(4628, 3))>:140215586931376\n",
      "Cleared mesh: <trimesh.Trimesh(vertices.shape=(1922, 3), faces.shape=(4396, 3))>:140208136051104\n",
      "Cleared mesh: <trimesh.Trimesh(vertices.shape=(1089, 3), faces.shape=(2556, 3))>:140208136052160\n",
      "Cleared mesh: <trimesh.Trimesh(vertices.shape=(864, 3), faces.shape=(1989, 3))>:140208489206064\n",
      "Cleared mesh: <trimesh.Trimesh(vertices.shape=(723, 3), faces.shape=(1611, 3))>:140215659643040\n",
      "Cleared mesh: <trimesh.Trimesh(vertices.shape=(693, 3), faces.shape=(1561, 3))>:140208136001952\n",
      "Cleared mesh: <trimesh.Trimesh(vertices.shape=(612, 3), faces.shape=(1378, 3))>:140208136003008\n",
      "Cleared mesh: <trimesh.Trimesh(vertices.shape=(456, 3), faces.shape=(742, 3))>:140208244120832\n",
      "Cleared mesh: <trimesh.Trimesh(vertices.shape=(344, 3), faces.shape=(727, 3))>:140208527316352\n",
      "Cleared mesh: <trimesh.Trimesh(vertices.shape=(363, 3), faces.shape=(876, 3))>:140208135989664\n",
      "Cleared mesh: <trimesh.Trimesh(vertices.shape=(301, 3), faces.shape=(613, 3))>:140208135990720\n",
      "Cleared mesh: <trimesh.Trimesh(vertices.shape=(253, 3), faces.shape=(632, 3))>:140208322798640\n",
      "Cleared mesh: <trimesh.Trimesh(vertices.shape=(199, 3), faces.shape=(446, 3))>:140208322798928\n",
      "Cleared mesh: <trimesh.Trimesh(vertices.shape=(176, 3), faces.shape=(418, 3))>:140208136006048\n",
      "Cleared mesh: <trimesh.Trimesh(vertices.shape=(145, 3), faces.shape=(317, 3))>:140208136007104\n",
      "Cleared mesh: <trimesh.Trimesh(vertices.shape=(11386, 3), faces.shape=(22560, 3))>:140215665559296\n",
      "Cleared mesh: <trimesh.Trimesh(vertices.shape=(5708, 3), faces.shape=(10517, 3))>:140215665559824\n",
      "Total time for compression = 21.081793069839478\n",
      "\n",
      "\n",
      "---Finished outputing neuron at location: /neurd_packages/NEURD/Applications/Tutorials/Auto_Proof_Pipeline/Double_Soma/864691135510518224_auto_proof---\n"
     ]
    },
    {
     "data": {
      "text/plain": [
       "'864691135510518224_auto_proof.pbz2'"
      ]
     },
     "execution_count": 69,
     "metadata": {},
     "output_type": "execute_result"
    }
   ],
   "source": [
    "vdi.save_neuron_obj_auto_proof(\n",
    "    neuron_obj_proof,\n",
    ")"
   ]
  },
  {
   "cell_type": "markdown",
   "id": "788253a7",
   "metadata": {},
   "source": [
    "# Plotting the final neuron"
   ]
  },
  {
   "cell_type": "code",
   "execution_count": null,
   "id": "96df2c4e",
   "metadata": {},
   "outputs": [],
   "source": [
    "from neurd import synapse_utils as syu"
   ]
  },
  {
   "cell_type": "code",
   "execution_count": 118,
   "id": "6eb2997d",
   "metadata": {},
   "outputs": [
    {
     "data": {
      "application/vnd.jupyter.widget-view+json": {
       "model_id": "596fe9e797a045d4b015d3d13db8f1c5",
       "version_major": 2,
       "version_minor": 0
      },
      "text/plain": [
       "Container(figure=Figure(box_center=[0.5, 0.5, 0.5], box_size=[1.0, 1.0, 1.0], camera=PerspectiveCamera(fov=45.…"
      ]
     },
     "metadata": {},
     "output_type": "display_data"
    }
   ],
   "source": [
    "from python_tools import ipyvolume_utils as ipvu\n",
    "ipvu.plot_objects(\n",
    "    neuron_obj_axon.mesh_from_branches,\n",
    "    meshes = [neuron_obj_proof.mesh_from_branches],\n",
    "    meshes_colors=\"red\"\n",
    ")"
   ]
  },
  {
   "cell_type": "code",
   "execution_count": null,
   "id": "60c5c168",
   "metadata": {},
   "outputs": [],
   "source": [
    "syu.plot_synapses(neuron_obj_proof)"
   ]
  },
  {
   "cell_type": "code",
   "execution_count": null,
   "id": "4069451e",
   "metadata": {},
   "outputs": [],
   "source": [
    "syu.plot_synapses_error_from_neuron_obj(neuron_obj_proof)    "
   ]
  },
  {
   "cell_type": "code",
   "execution_count": 46,
   "id": "c3ba8212",
   "metadata": {},
   "outputs": [
    {
     "name": "stdout",
     "output_type": "stream",
     "text": [
      "# of valid synapses = 557\n",
      "\n",
      " Working on visualization type: mesh\n"
     ]
    },
    {
     "data": {
      "application/vnd.jupyter.widget-view+json": {
       "model_id": "7fd0616ca73d4cf8b02139180700f367",
       "version_major": 2,
       "version_minor": 0
      },
      "text/plain": [
       "HBox(children=(FloatSlider(value=0.3, description='Size', max=3.0), Dropdown(description='Geo', index=3, optio…"
      ]
     },
     "metadata": {},
     "output_type": "display_data"
    },
    {
     "data": {
      "application/vnd.jupyter.widget-view+json": {
       "model_id": "95b5924ff94248deb92aab55028fff36",
       "version_major": 2,
       "version_minor": 0
      },
      "text/plain": [
       "Container(figure=Figure(box_center=[0.5, 0.5, 0.5], box_size=[1.0, 1.0, 1.0], camera=PerspectiveCamera(fov=45.…"
      ]
     },
     "metadata": {},
     "output_type": "display_data"
    }
   ],
   "source": [
    "syu.plot_synapses_valid_from_neuron_obj(neuron_obj_proof)  "
   ]
  },
  {
   "cell_type": "code",
   "execution_count": 119,
   "id": "a1174825",
   "metadata": {},
   "outputs": [
    {
     "name": "stdout",
     "output_type": "stream",
     "text": [
      "\n",
      " Working on visualization type: mesh\n"
     ]
    },
    {
     "data": {
      "application/vnd.jupyter.widget-view+json": {
       "model_id": "76a5aaf9e8e843e693a15c7841e73d52",
       "version_major": 2,
       "version_minor": 0
      },
      "text/plain": [
       "Container(figure=Figure(box_center=[0.5, 0.5, 0.5], box_size=[1.0, 1.0, 1.0], camera=PerspectiveCamera(fov=45.…"
      ]
     },
     "metadata": {},
     "output_type": "display_data"
    },
    {
     "name": "stdout",
     "output_type": "stream",
     "text": [
      "apical:blue\n",
      "apical_shaft:aqua\n",
      "apical_tuft:purple\n",
      "basal:yellow\n",
      "axon:red\n",
      "oblique:green\n",
      "\n",
      "\n",
      "Unlabeled: transparent green\n"
     ]
    }
   ],
   "source": [
    "nviz.plot_compartments(neuron_obj_proof)"
   ]
  },
  {
   "cell_type": "code",
   "execution_count": null,
   "id": "a7eb4315",
   "metadata": {},
   "outputs": [],
   "source": []
  }
 ],
 "metadata": {
  "kernelspec": {
   "display_name": "Python 3 (ipykernel)",
   "language": "python",
   "name": "python3"
  },
  "language_info": {
   "codemirror_mode": {
    "name": "ipython",
    "version": 3
   },
   "file_extension": ".py",
   "mimetype": "text/x-python",
   "name": "python",
   "nbconvert_exporter": "python",
   "pygments_lexer": "ipython3",
   "version": "3.8.0"
  }
 },
 "nbformat": 4,
 "nbformat_minor": 5
}
