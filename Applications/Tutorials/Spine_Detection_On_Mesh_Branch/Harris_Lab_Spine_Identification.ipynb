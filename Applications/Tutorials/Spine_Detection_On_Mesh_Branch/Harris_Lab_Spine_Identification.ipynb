{
 "cells": [
  {
   "cell_type": "code",
   "execution_count": null,
   "metadata": {},
   "outputs": [],
   "source": [
    "\"\"\"\n",
    "Purpose: To run spine detection on a generic mesh\n",
    "\"\"\""
   ]
  },
  {
   "cell_type": "code",
   "execution_count": 1,
   "metadata": {},
   "outputs": [],
   "source": [
    "%load_ext autoreload\n",
    "%autoreload 2"
   ]
  },
  {
   "cell_type": "code",
   "execution_count": 10,
   "metadata": {},
   "outputs": [],
   "source": [
    "from neurd.vdi_microns import volume_data_interface as vdi"
   ]
  },
  {
   "cell_type": "code",
   "execution_count": null,
   "metadata": {},
   "outputs": [],
   "source": []
  },
  {
   "cell_type": "code",
   "execution_count": null,
   "metadata": {},
   "outputs": [],
   "source": [
    "G = vdi.fetch_segment_obj(12345)\n",
    "G[1][0].n_synapses_pre\n",
    "G[1][0].width_array"
   ]
  },
  {
   "cell_type": "markdown",
   "metadata": {
    "jp-MarkdownHeadingCollapsed": true
   },
   "source": [
    "# Load the data"
   ]
  },
  {
   "cell_type": "code",
   "execution_count": 3,
   "metadata": {},
   "outputs": [],
   "source": [
    "import trimesh\n",
    "import numpy as np\n",
    "from python_tools import numpy_utils as nu\n",
    "from mesh_tools import trimesh_utils as tu"
   ]
  },
  {
   "cell_type": "code",
   "execution_count": 4,
   "metadata": {},
   "outputs": [
    {
     "data": {
      "text/plain": [
       "[PosixPath('.ipynb_checkpoints'),\n",
       " PosixPath('Archive'),\n",
       " PosixPath('full_spine_detection.html'),\n",
       " PosixPath('full_tri.txt'),\n",
       " PosixPath('full_vert.txt'),\n",
       " PosixPath('Harris_Lab_Spine_Identification.ipynb'),\n",
       " PosixPath('parameters_config_harris.py'),\n",
       " PosixPath('part_tri.txt'),\n",
       " PosixPath('part_vert.txt')]"
      ]
     },
     "execution_count": 4,
     "metadata": {},
     "output_type": "execute_result"
    }
   ],
   "source": [
    "from pathlib import Path\n",
    "list(Path(\"./\").iterdir())"
   ]
  },
  {
   "cell_type": "code",
   "execution_count": 5,
   "metadata": {},
   "outputs": [],
   "source": [
    "file_base = \"full\"\n",
    "verts_file = f\"{file_base}_vert.txt\"\n",
    "tri_file = f\"{file_base}_tri.txt\"\n",
    "tri_array = nu.loadtxt(str(tri_file),dtype = \"int\",delimiter = \" \")\n",
    "verts_array =  nu.loadtxt(str(verts_file),dtype = \"float\",delimiter = \" \")"
   ]
  },
  {
   "cell_type": "code",
   "execution_count": 6,
   "metadata": {},
   "outputs": [
    {
     "data": {
      "text/plain": [
       "<trimesh.Trimesh(vertices.shape=(226149, 3), faces.shape=(452370, 3))>"
      ]
     },
     "execution_count": 6,
     "metadata": {},
     "output_type": "execute_result"
    }
   ],
   "source": [
    "mesh = tu.mesh_from_vertices_faces(vertices = verts_array, faces = tri_array)\n",
    "mesh"
   ]
  },
  {
   "cell_type": "code",
   "execution_count": 7,
   "metadata": {},
   "outputs": [
    {
     "name": "stderr",
     "output_type": "stream",
     "text": [
      "/usr/local/lib/python3.8/dist-packages/traittypes/traittypes.py:97: UserWarning: Given trait value dtype \"float64\" does not match required type \"float64\". A coerced copy has been created.\n",
      "  warnings.warn(\n"
     ]
    },
    {
     "data": {
      "application/vnd.jupyter.widget-view+json": {
       "model_id": "e27c98071ef443b9838beb0d2063c7d9",
       "version_major": 2,
       "version_minor": 0
      },
      "text/plain": [
       "Container(figure=Figure(box_center=[0.5, 0.5, 0.5], box_size=[1.0, 1.0, 1.0], camera=PerspectiveCamera(fov=45.…"
      ]
     },
     "metadata": {},
     "output_type": "display_data"
    }
   ],
   "source": [
    "from python_tools import ipyvolume_utils as ipvu\n",
    "ipvu.plot_objects(\n",
    "    mesh,\n",
    "    buffer = 0\n",
    ")"
   ]
  },
  {
   "cell_type": "markdown",
   "metadata": {},
   "source": [
    "# Decimating"
   ]
  },
  {
   "cell_type": "code",
   "execution_count": 8,
   "metadata": {},
   "outputs": [
    {
     "name": "stdout",
     "output_type": "stream",
     "text": [
      "xvfb-run -n 4066 -s \"-screen 0 800x600x24\" meshlabserver $@  -i /neurd_packages/NEURD/Applications/Tutorials/Spine_Detection_On_Mesh_Branch/temp/neuron_89427.off -o /neurd_packages/NEURD/Applications/Tutorials/Spine_Detection_On_Mesh_Branch/temp/neuron_89427_decimated.off -s /neurd_packages/NEURD/Applications/Tutorials/Spine_Detection_On_Mesh_Branch/temp/decimation_meshlab_25310617.mls\n"
     ]
    },
    {
     "data": {
      "application/vnd.jupyter.widget-view+json": {
       "model_id": "29f01f0cda8b4b70944f775ab6e98f6a",
       "version_major": 2,
       "version_minor": 0
      },
      "text/plain": [
       "Container(figure=Figure(box_center=[0.5, 0.5, 0.5], box_size=[1.0, 1.0, 1.0], camera=PerspectiveCamera(fov=45.…"
      ]
     },
     "metadata": {},
     "output_type": "display_data"
    }
   ],
   "source": [
    "mesh_dec = tu.decimate(mesh,decimation_ratio=0.25,)\n",
    "mesh_dec = tu.largest_conn_comp(mesh_dec)\n",
    "ipvu.plot_objects(\n",
    "    mesh_dec,\n",
    "    buffer=0\n",
    ")"
   ]
  },
  {
   "cell_type": "markdown",
   "metadata": {},
   "source": [
    "# Setting Parameters for Spine Extraction"
   ]
  },
  {
   "cell_type": "code",
   "execution_count": 9,
   "metadata": {},
   "outputs": [],
   "source": [
    "param_file = \"./parameters_config_harris.py\""
   ]
  },
  {
   "cell_type": "code",
   "execution_count": 20,
   "metadata": {},
   "outputs": [],
   "source": [
    "vdi.set_parameters_obj_from_filepath(param_file)"
   ]
  },
  {
   "cell_type": "code",
   "execution_count": 21,
   "metadata": {},
   "outputs": [
    {
     "data": {
      "text/plain": [
       "200"
      ]
     },
     "execution_count": 21,
     "metadata": {},
     "output_type": "execute_result"
    }
   ],
   "source": [
    "# checking to see the parameters were set\n",
    "from neurd import spine_utils as spu\n",
    "spu.shaft_mesh_n_faces_min_global"
   ]
  },
  {
   "cell_type": "markdown",
   "metadata": {},
   "source": [
    "# Doing the spine extraction"
   ]
  },
  {
   "cell_type": "code",
   "execution_count": 22,
   "metadata": {},
   "outputs": [],
   "source": [
    "from neurd import spine_utils as spu"
   ]
  },
  {
   "cell_type": "code",
   "execution_count": 23,
   "metadata": {
    "scrolled": true
   },
   "outputs": [
    {
     "name": "stdout",
     "output_type": "stream",
     "text": [
      "\n",
      "Number of segments: 133\n",
      "\n"
     ]
    },
    {
     "data": {
      "application/vnd.jupyter.widget-view+json": {
       "model_id": "8d25ca65baa64945ae2b1d10488ff2a5",
       "version_major": 2,
       "version_minor": 0
      },
      "text/plain": [
       "  0%|          | 0/133 [00:00<?, ?it/s]"
      ]
     },
     "metadata": {},
     "output_type": "display_data"
    },
    {
     "data": {
      "application/vnd.jupyter.widget-view+json": {
       "model_id": "39ecd90263bf4390b533b54a614103c0",
       "version_major": 2,
       "version_minor": 0
      },
      "text/plain": [
       "  0%|          | 0/133 [00:00<?, ?it/s]"
      ]
     },
     "metadata": {},
     "output_type": "display_data"
    },
    {
     "name": "stdout",
     "output_type": "stream",
     "text": [
      "\n",
      "Number of segments: 5\n",
      "\n"
     ]
    },
    {
     "data": {
      "application/vnd.jupyter.widget-view+json": {
       "model_id": "b041df57645541f79aa4a79ca34089f2",
       "version_major": 2,
       "version_minor": 0
      },
      "text/plain": [
       "  0%|          | 0/5 [00:00<?, ?it/s]"
      ]
     },
     "metadata": {},
     "output_type": "display_data"
    },
    {
     "name": "stdout",
     "output_type": "stream",
     "text": [
      "\n",
      "Number of segments: 6\n",
      "\n"
     ]
    },
    {
     "data": {
      "application/vnd.jupyter.widget-view+json": {
       "model_id": "f8edc2f462da4bf39beb86a738ad5e34",
       "version_major": 2,
       "version_minor": 0
      },
      "text/plain": [
       "  0%|          | 0/6 [00:00<?, ?it/s]"
      ]
     },
     "metadata": {},
     "output_type": "display_data"
    },
    {
     "name": "stdout",
     "output_type": "stream",
     "text": [
      "\n",
      "Number of segments: 6\n",
      "\n"
     ]
    },
    {
     "data": {
      "application/vnd.jupyter.widget-view+json": {
       "model_id": "b38590426b954ff6b6ac8d46fe96824a",
       "version_major": 2,
       "version_minor": 0
      },
      "text/plain": [
       "  0%|          | 0/6 [00:00<?, ?it/s]"
      ]
     },
     "metadata": {},
     "output_type": "display_data"
    },
    {
     "name": "stdout",
     "output_type": "stream",
     "text": [
      "\n",
      "Number of segments: 4\n",
      "\n"
     ]
    },
    {
     "data": {
      "application/vnd.jupyter.widget-view+json": {
       "model_id": "acae038485474817b4ea07ee4a6d25ea",
       "version_major": 2,
       "version_minor": 0
      },
      "text/plain": [
       "  0%|          | 0/4 [00:00<?, ?it/s]"
      ]
     },
     "metadata": {},
     "output_type": "display_data"
    },
    {
     "name": "stdout",
     "output_type": "stream",
     "text": [
      "\n",
      "Number of segments: 7\n",
      "\n"
     ]
    },
    {
     "data": {
      "application/vnd.jupyter.widget-view+json": {
       "model_id": "d0be37efffde42c59de317ab54d3a245",
       "version_major": 2,
       "version_minor": 0
      },
      "text/plain": [
       "  0%|          | 0/7 [00:00<?, ?it/s]"
      ]
     },
     "metadata": {},
     "output_type": "display_data"
    },
    {
     "name": "stdout",
     "output_type": "stream",
     "text": [
      "\n",
      "Number of segments: 9\n",
      "\n"
     ]
    },
    {
     "data": {
      "application/vnd.jupyter.widget-view+json": {
       "model_id": "8da23a6f14334d09b16e1b51ba0c9447",
       "version_major": 2,
       "version_minor": 0
      },
      "text/plain": [
       "  0%|          | 0/9 [00:00<?, ?it/s]"
      ]
     },
     "metadata": {},
     "output_type": "display_data"
    },
    {
     "name": "stdout",
     "output_type": "stream",
     "text": [
      "\n",
      "Number of segments: 1\n",
      "\n"
     ]
    },
    {
     "data": {
      "application/vnd.jupyter.widget-view+json": {
       "model_id": "1437266b3a234381b78a27174db761d5",
       "version_major": 2,
       "version_minor": 0
      },
      "text/plain": [
       "  0%|          | 0/1 [00:00<?, ?it/s]"
      ]
     },
     "metadata": {},
     "output_type": "display_data"
    },
    {
     "name": "stdout",
     "output_type": "stream",
     "text": [
      "\n",
      "Number of segments: 12\n",
      "\n"
     ]
    },
    {
     "data": {
      "application/vnd.jupyter.widget-view+json": {
       "model_id": "d9e53d89a6e94a57bbe671ac39a6641e",
       "version_major": 2,
       "version_minor": 0
      },
      "text/plain": [
       "  0%|          | 0/12 [00:00<?, ?it/s]"
      ]
     },
     "metadata": {},
     "output_type": "display_data"
    },
    {
     "name": "stdout",
     "output_type": "stream",
     "text": [
      "\n",
      "Number of segments: 13\n",
      "\n"
     ]
    },
    {
     "data": {
      "application/vnd.jupyter.widget-view+json": {
       "model_id": "67a4b75b282a411495b13f7825ce856f",
       "version_major": 2,
       "version_minor": 0
      },
      "text/plain": [
       "  0%|          | 0/13 [00:00<?, ?it/s]"
      ]
     },
     "metadata": {},
     "output_type": "display_data"
    },
    {
     "name": "stdout",
     "output_type": "stream",
     "text": [
      "\n",
      "Number of segments: 2\n",
      "\n"
     ]
    },
    {
     "data": {
      "application/vnd.jupyter.widget-view+json": {
       "model_id": "daaf3c2d77834323881f749d259c84a2",
       "version_major": 2,
       "version_minor": 0
      },
      "text/plain": [
       "  0%|          | 0/2 [00:00<?, ?it/s]"
      ]
     },
     "metadata": {},
     "output_type": "display_data"
    },
    {
     "name": "stdout",
     "output_type": "stream",
     "text": [
      "\n",
      "Number of segments: 7\n",
      "\n"
     ]
    },
    {
     "data": {
      "application/vnd.jupyter.widget-view+json": {
       "model_id": "730f96f54641452e8f3a251cbc6faf1a",
       "version_major": 2,
       "version_minor": 0
      },
      "text/plain": [
       "  0%|          | 0/7 [00:00<?, ?it/s]"
      ]
     },
     "metadata": {},
     "output_type": "display_data"
    },
    {
     "name": "stdout",
     "output_type": "stream",
     "text": [
      "\n",
      "Number of segments: 8\n",
      "\n"
     ]
    },
    {
     "data": {
      "application/vnd.jupyter.widget-view+json": {
       "model_id": "61c32d314d2f423e9d47ceef511588e3",
       "version_major": 2,
       "version_minor": 0
      },
      "text/plain": [
       "  0%|          | 0/8 [00:00<?, ?it/s]"
      ]
     },
     "metadata": {},
     "output_type": "display_data"
    },
    {
     "name": "stdout",
     "output_type": "stream",
     "text": [
      "\n",
      "Number of segments: 3\n",
      "\n"
     ]
    },
    {
     "data": {
      "application/vnd.jupyter.widget-view+json": {
       "model_id": "620704bb66864a9092865be4c1b7b1fe",
       "version_major": 2,
       "version_minor": 0
      },
      "text/plain": [
       "  0%|          | 0/3 [00:00<?, ?it/s]"
      ]
     },
     "metadata": {},
     "output_type": "display_data"
    },
    {
     "name": "stdout",
     "output_type": "stream",
     "text": [
      "\n",
      "Number of segments: 6\n",
      "\n"
     ]
    },
    {
     "data": {
      "application/vnd.jupyter.widget-view+json": {
       "model_id": "3f97b418bb2f47139695a09427b6c102",
       "version_major": 2,
       "version_minor": 0
      },
      "text/plain": [
       "  0%|          | 0/6 [00:00<?, ?it/s]"
      ]
     },
     "metadata": {},
     "output_type": "display_data"
    },
    {
     "name": "stdout",
     "output_type": "stream",
     "text": [
      "\n",
      "Number of segments: 8\n",
      "\n"
     ]
    },
    {
     "data": {
      "application/vnd.jupyter.widget-view+json": {
       "model_id": "6b5fce2d64804dcd82696f0fd0ceeb1f",
       "version_major": 2,
       "version_minor": 0
      },
      "text/plain": [
       "  0%|          | 0/8 [00:00<?, ?it/s]"
      ]
     },
     "metadata": {},
     "output_type": "display_data"
    },
    {
     "name": "stdout",
     "output_type": "stream",
     "text": [
      "\n",
      "Number of segments: 3\n",
      "\n"
     ]
    },
    {
     "data": {
      "application/vnd.jupyter.widget-view+json": {
       "model_id": "4312c87000b64597b33f855baaca64fa",
       "version_major": 2,
       "version_minor": 0
      },
      "text/plain": [
       "  0%|          | 0/3 [00:00<?, ?it/s]"
      ]
     },
     "metadata": {},
     "output_type": "display_data"
    },
    {
     "name": "stdout",
     "output_type": "stream",
     "text": [
      "\n",
      "Number of segments: 5\n",
      "\n"
     ]
    },
    {
     "data": {
      "application/vnd.jupyter.widget-view+json": {
       "model_id": "c5b3152c6c7f401ab25e25930f85f2fe",
       "version_major": 2,
       "version_minor": 0
      },
      "text/plain": [
       "  0%|          | 0/5 [00:00<?, ?it/s]"
      ]
     },
     "metadata": {},
     "output_type": "display_data"
    },
    {
     "name": "stdout",
     "output_type": "stream",
     "text": [
      "\n",
      "Number of segments: 5\n",
      "\n"
     ]
    },
    {
     "data": {
      "application/vnd.jupyter.widget-view+json": {
       "model_id": "54d407b6710f40d3ab1fb30395b85837",
       "version_major": 2,
       "version_minor": 0
      },
      "text/plain": [
       "  0%|          | 0/5 [00:00<?, ?it/s]"
      ]
     },
     "metadata": {},
     "output_type": "display_data"
    },
    {
     "name": "stdout",
     "output_type": "stream",
     "text": [
      "\n",
      "Number of segments: 3\n",
      "\n"
     ]
    },
    {
     "data": {
      "application/vnd.jupyter.widget-view+json": {
       "model_id": "31b8439cd49d47328d2d84eaac6a8dbf",
       "version_major": 2,
       "version_minor": 0
      },
      "text/plain": [
       "  0%|          | 0/3 [00:00<?, ?it/s]"
      ]
     },
     "metadata": {},
     "output_type": "display_data"
    },
    {
     "name": "stdout",
     "output_type": "stream",
     "text": [
      "\n",
      "Number of segments: 5\n",
      "\n"
     ]
    },
    {
     "data": {
      "application/vnd.jupyter.widget-view+json": {
       "model_id": "7a5e37f7ee0a4509a4aab636de546abf",
       "version_major": 2,
       "version_minor": 0
      },
      "text/plain": [
       "  0%|          | 0/5 [00:00<?, ?it/s]"
      ]
     },
     "metadata": {},
     "output_type": "display_data"
    },
    {
     "name": "stdout",
     "output_type": "stream",
     "text": [
      "\n",
      "Number of segments: 5\n",
      "\n"
     ]
    },
    {
     "data": {
      "application/vnd.jupyter.widget-view+json": {
       "model_id": "dc96bd6a90c84792aed46b7e826a4e95",
       "version_major": 2,
       "version_minor": 0
      },
      "text/plain": [
       "  0%|          | 0/5 [00:00<?, ?it/s]"
      ]
     },
     "metadata": {},
     "output_type": "display_data"
    },
    {
     "name": "stdout",
     "output_type": "stream",
     "text": [
      "\n",
      "Number of segments: 1\n",
      "\n"
     ]
    },
    {
     "data": {
      "application/vnd.jupyter.widget-view+json": {
       "model_id": "142638c8a6f74495b76d4ce3c94888cc",
       "version_major": 2,
       "version_minor": 0
      },
      "text/plain": [
       "  0%|          | 0/1 [00:00<?, ?it/s]"
      ]
     },
     "metadata": {},
     "output_type": "display_data"
    },
    {
     "name": "stdout",
     "output_type": "stream",
     "text": [
      "\n",
      "Number of segments: 5\n",
      "\n"
     ]
    },
    {
     "data": {
      "application/vnd.jupyter.widget-view+json": {
       "model_id": "17df97b4d2214fdf829326f81a48b60d",
       "version_major": 2,
       "version_minor": 0
      },
      "text/plain": [
       "  0%|          | 0/5 [00:00<?, ?it/s]"
      ]
     },
     "metadata": {},
     "output_type": "display_data"
    },
    {
     "name": "stdout",
     "output_type": "stream",
     "text": [
      "\n",
      "Number of segments: 5\n",
      "\n"
     ]
    },
    {
     "data": {
      "application/vnd.jupyter.widget-view+json": {
       "model_id": "cfee926ffead48199f0252a7586799b6",
       "version_major": 2,
       "version_minor": 0
      },
      "text/plain": [
       "  0%|          | 0/5 [00:00<?, ?it/s]"
      ]
     },
     "metadata": {},
     "output_type": "display_data"
    },
    {
     "name": "stdout",
     "output_type": "stream",
     "text": [
      "\n",
      "Number of segments: 3\n",
      "\n"
     ]
    },
    {
     "data": {
      "application/vnd.jupyter.widget-view+json": {
       "model_id": "d2e24acab6cd45aea95c64e8aae9259f",
       "version_major": 2,
       "version_minor": 0
      },
      "text/plain": [
       "  0%|          | 0/3 [00:00<?, ?it/s]"
      ]
     },
     "metadata": {},
     "output_type": "display_data"
    },
    {
     "name": "stdout",
     "output_type": "stream",
     "text": [
      "\n",
      "Number of segments: 3\n",
      "\n"
     ]
    },
    {
     "data": {
      "application/vnd.jupyter.widget-view+json": {
       "model_id": "b49f0c8072524755b54defa294ac366e",
       "version_major": 2,
       "version_minor": 0
      },
      "text/plain": [
       "  0%|          | 0/3 [00:00<?, ?it/s]"
      ]
     },
     "metadata": {},
     "output_type": "display_data"
    },
    {
     "name": "stdout",
     "output_type": "stream",
     "text": [
      "\n",
      "Number of segments: 4\n",
      "\n"
     ]
    },
    {
     "data": {
      "application/vnd.jupyter.widget-view+json": {
       "model_id": "225bbc06d2994c95ad53ee02c6104664",
       "version_major": 2,
       "version_minor": 0
      },
      "text/plain": [
       "  0%|          | 0/4 [00:00<?, ?it/s]"
      ]
     },
     "metadata": {},
     "output_type": "display_data"
    },
    {
     "name": "stdout",
     "output_type": "stream",
     "text": [
      "\n",
      "Number of segments: 6\n",
      "\n"
     ]
    },
    {
     "data": {
      "application/vnd.jupyter.widget-view+json": {
       "model_id": "30757f9fc19f455bae3eb4ab488d25bf",
       "version_major": 2,
       "version_minor": 0
      },
      "text/plain": [
       "  0%|          | 0/6 [00:00<?, ?it/s]"
      ]
     },
     "metadata": {},
     "output_type": "display_data"
    },
    {
     "name": "stdout",
     "output_type": "stream",
     "text": [
      "\n",
      "Number of segments: 8\n",
      "\n"
     ]
    },
    {
     "data": {
      "application/vnd.jupyter.widget-view+json": {
       "model_id": "0523b6a40dc2459ca03ce79c8f27a503",
       "version_major": 2,
       "version_minor": 0
      },
      "text/plain": [
       "  0%|          | 0/8 [00:00<?, ?it/s]"
      ]
     },
     "metadata": {},
     "output_type": "display_data"
    },
    {
     "name": "stdout",
     "output_type": "stream",
     "text": [
      "\n",
      "Number of segments: 6\n",
      "\n"
     ]
    },
    {
     "data": {
      "application/vnd.jupyter.widget-view+json": {
       "model_id": "d53dabe200be4290a099b96940b4a9fa",
       "version_major": 2,
       "version_minor": 0
      },
      "text/plain": [
       "  0%|          | 0/6 [00:00<?, ?it/s]"
      ]
     },
     "metadata": {},
     "output_type": "display_data"
    },
    {
     "name": "stdout",
     "output_type": "stream",
     "text": [
      "\n",
      "Number of segments: 2\n",
      "\n"
     ]
    },
    {
     "data": {
      "application/vnd.jupyter.widget-view+json": {
       "model_id": "bfd541d0fdf045d09495ed166310d807",
       "version_major": 2,
       "version_minor": 0
      },
      "text/plain": [
       "  0%|          | 0/2 [00:00<?, ?it/s]"
      ]
     },
     "metadata": {},
     "output_type": "display_data"
    },
    {
     "name": "stdout",
     "output_type": "stream",
     "text": [
      "\n",
      "Number of segments: 3\n",
      "\n"
     ]
    },
    {
     "data": {
      "application/vnd.jupyter.widget-view+json": {
       "model_id": "b19e1bf72714421bb6d549b60c387cee",
       "version_major": 2,
       "version_minor": 0
      },
      "text/plain": [
       "  0%|          | 0/3 [00:00<?, ?it/s]"
      ]
     },
     "metadata": {},
     "output_type": "display_data"
    },
    {
     "name": "stdout",
     "output_type": "stream",
     "text": [
      "\n",
      "Number of segments: 5\n",
      "\n"
     ]
    },
    {
     "data": {
      "application/vnd.jupyter.widget-view+json": {
       "model_id": "13bb3129d53644afb1fdb5b992036b05",
       "version_major": 2,
       "version_minor": 0
      },
      "text/plain": [
       "  0%|          | 0/5 [00:00<?, ?it/s]"
      ]
     },
     "metadata": {},
     "output_type": "display_data"
    },
    {
     "name": "stdout",
     "output_type": "stream",
     "text": [
      "\n",
      "Number of segments: 3\n",
      "\n"
     ]
    },
    {
     "data": {
      "application/vnd.jupyter.widget-view+json": {
       "model_id": "9958a016a9724a4c95de960ee30067b6",
       "version_major": 2,
       "version_minor": 0
      },
      "text/plain": [
       "  0%|          | 0/3 [00:00<?, ?it/s]"
      ]
     },
     "metadata": {},
     "output_type": "display_data"
    },
    {
     "name": "stdout",
     "output_type": "stream",
     "text": [
      "\n",
      "Number of segments: 2\n",
      "\n"
     ]
    },
    {
     "data": {
      "application/vnd.jupyter.widget-view+json": {
       "model_id": "9b8b75f61be84939b94685ee038dec4e",
       "version_major": 2,
       "version_minor": 0
      },
      "text/plain": [
       "  0%|          | 0/2 [00:00<?, ?it/s]"
      ]
     },
     "metadata": {},
     "output_type": "display_data"
    },
    {
     "name": "stdout",
     "output_type": "stream",
     "text": [
      "\n",
      "Number of segments: 5\n",
      "\n"
     ]
    },
    {
     "data": {
      "application/vnd.jupyter.widget-view+json": {
       "model_id": "7a7240770677435a9145ad40e0de644f",
       "version_major": 2,
       "version_minor": 0
      },
      "text/plain": [
       "  0%|          | 0/5 [00:00<?, ?it/s]"
      ]
     },
     "metadata": {},
     "output_type": "display_data"
    },
    {
     "name": "stdout",
     "output_type": "stream",
     "text": [
      "\n",
      "Number of segments: 3\n",
      "\n"
     ]
    },
    {
     "data": {
      "application/vnd.jupyter.widget-view+json": {
       "model_id": "76e15adea684457aab9e26e0cf097cf3",
       "version_major": 2,
       "version_minor": 0
      },
      "text/plain": [
       "  0%|          | 0/3 [00:00<?, ?it/s]"
      ]
     },
     "metadata": {},
     "output_type": "display_data"
    },
    {
     "name": "stdout",
     "output_type": "stream",
     "text": [
      "\n",
      "Number of segments: 3\n",
      "\n"
     ]
    },
    {
     "data": {
      "application/vnd.jupyter.widget-view+json": {
       "model_id": "2d1af3a41a5249849be7b24941b22eb0",
       "version_major": 2,
       "version_minor": 0
      },
      "text/plain": [
       "  0%|          | 0/3 [00:00<?, ?it/s]"
      ]
     },
     "metadata": {},
     "output_type": "display_data"
    },
    {
     "name": "stdout",
     "output_type": "stream",
     "text": [
      "\n",
      "Number of segments: 3\n",
      "\n"
     ]
    },
    {
     "data": {
      "application/vnd.jupyter.widget-view+json": {
       "model_id": "0dec0e8990f241838f6263b7ad383c96",
       "version_major": 2,
       "version_minor": 0
      },
      "text/plain": [
       "  0%|          | 0/3 [00:00<?, ?it/s]"
      ]
     },
     "metadata": {},
     "output_type": "display_data"
    },
    {
     "name": "stdout",
     "output_type": "stream",
     "text": [
      "\n",
      "Number of segments: 3\n",
      "\n"
     ]
    },
    {
     "data": {
      "application/vnd.jupyter.widget-view+json": {
       "model_id": "31e4e056eff94087b7e1315af3e10fea",
       "version_major": 2,
       "version_minor": 0
      },
      "text/plain": [
       "  0%|          | 0/3 [00:00<?, ?it/s]"
      ]
     },
     "metadata": {},
     "output_type": "display_data"
    },
    {
     "name": "stdout",
     "output_type": "stream",
     "text": [
      "\n",
      "Number of segments: 3\n",
      "\n"
     ]
    },
    {
     "data": {
      "application/vnd.jupyter.widget-view+json": {
       "model_id": "d108742c8c634ddbbc0286ed5cc3d0dd",
       "version_major": 2,
       "version_minor": 0
      },
      "text/plain": [
       "  0%|          | 0/3 [00:00<?, ?it/s]"
      ]
     },
     "metadata": {},
     "output_type": "display_data"
    },
    {
     "name": "stdout",
     "output_type": "stream",
     "text": [
      "\n",
      "Number of segments: 4\n",
      "\n"
     ]
    },
    {
     "data": {
      "application/vnd.jupyter.widget-view+json": {
       "model_id": "289442c4105b463fb447599a855ad2ae",
       "version_major": 2,
       "version_minor": 0
      },
      "text/plain": [
       "  0%|          | 0/4 [00:00<?, ?it/s]"
      ]
     },
     "metadata": {},
     "output_type": "display_data"
    },
    {
     "name": "stdout",
     "output_type": "stream",
     "text": [
      "\n",
      "Number of segments: 3\n",
      "\n"
     ]
    },
    {
     "data": {
      "application/vnd.jupyter.widget-view+json": {
       "model_id": "d917980c6f124aebb676a475eb1e69cb",
       "version_major": 2,
       "version_minor": 0
      },
      "text/plain": [
       "  0%|          | 0/3 [00:00<?, ?it/s]"
      ]
     },
     "metadata": {},
     "output_type": "display_data"
    },
    {
     "name": "stdout",
     "output_type": "stream",
     "text": [
      "\n",
      "Number of segments: 4\n",
      "\n"
     ]
    },
    {
     "data": {
      "application/vnd.jupyter.widget-view+json": {
       "model_id": "9b27bac1c0f24bdfab01726d04762c60",
       "version_major": 2,
       "version_minor": 0
      },
      "text/plain": [
       "  0%|          | 0/4 [00:00<?, ?it/s]"
      ]
     },
     "metadata": {},
     "output_type": "display_data"
    },
    {
     "name": "stdout",
     "output_type": "stream",
     "text": [
      "\n",
      "Number of segments: 4\n",
      "\n"
     ]
    },
    {
     "data": {
      "application/vnd.jupyter.widget-view+json": {
       "model_id": "9f78eced39404eabb934494bc350c04c",
       "version_major": 2,
       "version_minor": 0
      },
      "text/plain": [
       "  0%|          | 0/4 [00:00<?, ?it/s]"
      ]
     },
     "metadata": {},
     "output_type": "display_data"
    },
    {
     "data": {
      "application/vnd.jupyter.widget-view+json": {
       "model_id": "4f3a18ae58374dc094763aac5bb52925",
       "version_major": 2,
       "version_minor": 0
      },
      "text/plain": [
       "  0%|          | 0/1 [00:00<?, ?it/s]"
      ]
     },
     "metadata": {},
     "output_type": "display_data"
    },
    {
     "data": {
      "application/vnd.jupyter.widget-view+json": {
       "model_id": "981bb89a988e45c39caae9bf6363327b",
       "version_major": 2,
       "version_minor": 0
      },
      "text/plain": [
       "  0%|          | 0/1 [00:00<?, ?it/s]"
      ]
     },
     "metadata": {},
     "output_type": "display_data"
    },
    {
     "data": {
      "application/vnd.jupyter.widget-view+json": {
       "model_id": "d4a57d5a30b2469f88bb9e0b2a064bf3",
       "version_major": 2,
       "version_minor": 0
      },
      "text/plain": [
       "  0%|          | 0/1 [00:00<?, ?it/s]"
      ]
     },
     "metadata": {},
     "output_type": "display_data"
    },
    {
     "name": "stdout",
     "output_type": "stream",
     "text": [
      "\n",
      "Number of segments: 2\n",
      "\n"
     ]
    },
    {
     "data": {
      "application/vnd.jupyter.widget-view+json": {
       "model_id": "e09044fb8b9f4ffaa68a88ff5e229914",
       "version_major": 2,
       "version_minor": 0
      },
      "text/plain": [
       "  0%|          | 0/2 [00:00<?, ?it/s]"
      ]
     },
     "metadata": {},
     "output_type": "display_data"
    },
    {
     "name": "stdout",
     "output_type": "stream",
     "text": [
      "\n",
      "Number of segments: 4\n",
      "\n"
     ]
    },
    {
     "data": {
      "application/vnd.jupyter.widget-view+json": {
       "model_id": "db4e4b05887649d0bde14c30de3a4cc2",
       "version_major": 2,
       "version_minor": 0
      },
      "text/plain": [
       "  0%|          | 0/4 [00:00<?, ?it/s]"
      ]
     },
     "metadata": {},
     "output_type": "display_data"
    },
    {
     "name": "stdout",
     "output_type": "stream",
     "text": [
      "\n",
      "Number of segments: 4\n",
      "\n"
     ]
    },
    {
     "data": {
      "application/vnd.jupyter.widget-view+json": {
       "model_id": "a0a9b9a0946f4839838cd40310513181",
       "version_major": 2,
       "version_minor": 0
      },
      "text/plain": [
       "  0%|          | 0/4 [00:00<?, ?it/s]"
      ]
     },
     "metadata": {},
     "output_type": "display_data"
    },
    {
     "name": "stdout",
     "output_type": "stream",
     "text": [
      "\n",
      "Number of segments: 2\n",
      "\n"
     ]
    },
    {
     "data": {
      "application/vnd.jupyter.widget-view+json": {
       "model_id": "283ae39df6d94fb7b86fef4d24e1e327",
       "version_major": 2,
       "version_minor": 0
      },
      "text/plain": [
       "  0%|          | 0/2 [00:00<?, ?it/s]"
      ]
     },
     "metadata": {},
     "output_type": "display_data"
    },
    {
     "name": "stdout",
     "output_type": "stream",
     "text": [
      "\n",
      "Number of segments: 2\n",
      "\n"
     ]
    },
    {
     "data": {
      "application/vnd.jupyter.widget-view+json": {
       "model_id": "f341955302ee498bb8b6cb21135a02bb",
       "version_major": 2,
       "version_minor": 0
      },
      "text/plain": [
       "  0%|          | 0/2 [00:00<?, ?it/s]"
      ]
     },
     "metadata": {},
     "output_type": "display_data"
    },
    {
     "name": "stdout",
     "output_type": "stream",
     "text": [
      "\n",
      "Number of segments: 4\n",
      "\n"
     ]
    },
    {
     "data": {
      "application/vnd.jupyter.widget-view+json": {
       "model_id": "c2473517945f480a874a55afd86a71b6",
       "version_major": 2,
       "version_minor": 0
      },
      "text/plain": [
       "  0%|          | 0/4 [00:00<?, ?it/s]"
      ]
     },
     "metadata": {},
     "output_type": "display_data"
    },
    {
     "data": {
      "application/vnd.jupyter.widget-view+json": {
       "model_id": "a94b6c7b3f314f7bbb9614813b87b37f",
       "version_major": 2,
       "version_minor": 0
      },
      "text/plain": [
       "  0%|          | 0/1 [00:00<?, ?it/s]"
      ]
     },
     "metadata": {},
     "output_type": "display_data"
    },
    {
     "data": {
      "application/vnd.jupyter.widget-view+json": {
       "model_id": "e97ac9993bf849d5a2f24479fec83fc5",
       "version_major": 2,
       "version_minor": 0
      },
      "text/plain": [
       "  0%|          | 0/1 [00:00<?, ?it/s]"
      ]
     },
     "metadata": {},
     "output_type": "display_data"
    },
    {
     "data": {
      "application/vnd.jupyter.widget-view+json": {
       "model_id": "a57fb383d9534b3aa05cdc5f382bc5c7",
       "version_major": 2,
       "version_minor": 0
      },
      "text/plain": [
       "  0%|          | 0/1 [00:00<?, ?it/s]"
      ]
     },
     "metadata": {},
     "output_type": "display_data"
    },
    {
     "name": "stdout",
     "output_type": "stream",
     "text": [
      "\n",
      "Number of segments: 3\n",
      "\n"
     ]
    },
    {
     "data": {
      "application/vnd.jupyter.widget-view+json": {
       "model_id": "1fd6f11f0c2c42ca9a4b2ed05fa41320",
       "version_major": 2,
       "version_minor": 0
      },
      "text/plain": [
       "  0%|          | 0/3 [00:00<?, ?it/s]"
      ]
     },
     "metadata": {},
     "output_type": "display_data"
    },
    {
     "name": "stdout",
     "output_type": "stream",
     "text": [
      "\n",
      "Number of segments: 4\n",
      "\n"
     ]
    },
    {
     "data": {
      "application/vnd.jupyter.widget-view+json": {
       "model_id": "e820e0d8259a48009463e7739309b523",
       "version_major": 2,
       "version_minor": 0
      },
      "text/plain": [
       "  0%|          | 0/4 [00:00<?, ?it/s]"
      ]
     },
     "metadata": {},
     "output_type": "display_data"
    },
    {
     "name": "stdout",
     "output_type": "stream",
     "text": [
      "\n",
      "Number of segments: 4\n",
      "\n"
     ]
    },
    {
     "data": {
      "application/vnd.jupyter.widget-view+json": {
       "model_id": "8afb44c051c7460aa2516e3e5f5d942b",
       "version_major": 2,
       "version_minor": 0
      },
      "text/plain": [
       "  0%|          | 0/4 [00:00<?, ?it/s]"
      ]
     },
     "metadata": {},
     "output_type": "display_data"
    },
    {
     "data": {
      "application/vnd.jupyter.widget-view+json": {
       "model_id": "117e956c3ff14209ae808079411566b8",
       "version_major": 2,
       "version_minor": 0
      },
      "text/plain": [
       "  0%|          | 0/1 [00:00<?, ?it/s]"
      ]
     },
     "metadata": {},
     "output_type": "display_data"
    },
    {
     "data": {
      "application/vnd.jupyter.widget-view+json": {
       "model_id": "06e16be5cbf34ab980f770694d321ae1",
       "version_major": 2,
       "version_minor": 0
      },
      "text/plain": [
       "  0%|          | 0/1 [00:00<?, ?it/s]"
      ]
     },
     "metadata": {},
     "output_type": "display_data"
    },
    {
     "data": {
      "application/vnd.jupyter.widget-view+json": {
       "model_id": "3a4d8c0c0d754adb8da7d81bce1297d3",
       "version_major": 2,
       "version_minor": 0
      },
      "text/plain": [
       "  0%|          | 0/1 [00:00<?, ?it/s]"
      ]
     },
     "metadata": {},
     "output_type": "display_data"
    },
    {
     "data": {
      "application/vnd.jupyter.widget-view+json": {
       "model_id": "4aa65ef510e34409a47a3135801ad267",
       "version_major": 2,
       "version_minor": 0
      },
      "text/plain": [
       "  0%|          | 0/1 [00:00<?, ?it/s]"
      ]
     },
     "metadata": {},
     "output_type": "display_data"
    },
    {
     "data": {
      "application/vnd.jupyter.widget-view+json": {
       "model_id": "d4f27e8bb4704668b26c1be8b1811297",
       "version_major": 2,
       "version_minor": 0
      },
      "text/plain": [
       "  0%|          | 0/1 [00:00<?, ?it/s]"
      ]
     },
     "metadata": {},
     "output_type": "display_data"
    },
    {
     "data": {
      "application/vnd.jupyter.widget-view+json": {
       "model_id": "304397771d1f40f6b81b29670c9b49a8",
       "version_major": 2,
       "version_minor": 0
      },
      "text/plain": [
       "  0%|          | 0/1 [00:00<?, ?it/s]"
      ]
     },
     "metadata": {},
     "output_type": "display_data"
    },
    {
     "data": {
      "application/vnd.jupyter.widget-view+json": {
       "model_id": "7568e60ddb2342a5a462ca136f3f11e0",
       "version_major": 2,
       "version_minor": 0
      },
      "text/plain": [
       "  0%|          | 0/1 [00:00<?, ?it/s]"
      ]
     },
     "metadata": {},
     "output_type": "display_data"
    },
    {
     "data": {
      "application/vnd.jupyter.widget-view+json": {
       "model_id": "e270dd57a33144eba7054ecd931b1774",
       "version_major": 2,
       "version_minor": 0
      },
      "text/plain": [
       "  0%|          | 0/1 [00:00<?, ?it/s]"
      ]
     },
     "metadata": {},
     "output_type": "display_data"
    },
    {
     "data": {
      "application/vnd.jupyter.widget-view+json": {
       "model_id": "6018b27f40e248ef98ea2586b7360a6a",
       "version_major": 2,
       "version_minor": 0
      },
      "text/plain": [
       "  0%|          | 0/1 [00:00<?, ?it/s]"
      ]
     },
     "metadata": {},
     "output_type": "display_data"
    },
    {
     "name": "stdout",
     "output_type": "stream",
     "text": [
      "\n",
      "Number of segments: 2\n",
      "\n"
     ]
    },
    {
     "data": {
      "application/vnd.jupyter.widget-view+json": {
       "model_id": "8b8e835ca8754e2a9bb82458172fd34d",
       "version_major": 2,
       "version_minor": 0
      },
      "text/plain": [
       "  0%|          | 0/2 [00:00<?, ?it/s]"
      ]
     },
     "metadata": {},
     "output_type": "display_data"
    },
    {
     "name": "stdout",
     "output_type": "stream",
     "text": [
      "\n",
      "Number of segments: 4\n",
      "\n"
     ]
    },
    {
     "data": {
      "application/vnd.jupyter.widget-view+json": {
       "model_id": "2d6a9ea33b0f494bb4427c03949bf856",
       "version_major": 2,
       "version_minor": 0
      },
      "text/plain": [
       "  0%|          | 0/4 [00:00<?, ?it/s]"
      ]
     },
     "metadata": {},
     "output_type": "display_data"
    },
    {
     "name": "stdout",
     "output_type": "stream",
     "text": [
      "\n",
      "Number of segments: 4\n",
      "\n"
     ]
    },
    {
     "data": {
      "application/vnd.jupyter.widget-view+json": {
       "model_id": "dca7bb40f1ec476982c50e20440ef427",
       "version_major": 2,
       "version_minor": 0
      },
      "text/plain": [
       "  0%|          | 0/4 [00:00<?, ?it/s]"
      ]
     },
     "metadata": {},
     "output_type": "display_data"
    },
    {
     "name": "stdout",
     "output_type": "stream",
     "text": [
      "\n",
      "Number of segments: 2\n",
      "\n"
     ]
    },
    {
     "data": {
      "application/vnd.jupyter.widget-view+json": {
       "model_id": "42a167d22e9847d8b3b01499dbb4b3af",
       "version_major": 2,
       "version_minor": 0
      },
      "text/plain": [
       "  0%|          | 0/2 [00:00<?, ?it/s]"
      ]
     },
     "metadata": {},
     "output_type": "display_data"
    },
    {
     "name": "stdout",
     "output_type": "stream",
     "text": [
      "\n",
      "Number of segments: 2\n",
      "\n"
     ]
    },
    {
     "data": {
      "application/vnd.jupyter.widget-view+json": {
       "model_id": "0a9366e81e8040f7b50e5f7f6478bad1",
       "version_major": 2,
       "version_minor": 0
      },
      "text/plain": [
       "  0%|          | 0/2 [00:00<?, ?it/s]"
      ]
     },
     "metadata": {},
     "output_type": "display_data"
    },
    {
     "name": "stdout",
     "output_type": "stream",
     "text": [
      "\n",
      "Number of segments: 2\n",
      "\n"
     ]
    },
    {
     "data": {
      "application/vnd.jupyter.widget-view+json": {
       "model_id": "03061b5ec8df4db4a88fbae266479452",
       "version_major": 2,
       "version_minor": 0
      },
      "text/plain": [
       "  0%|          | 0/2 [00:00<?, ?it/s]"
      ]
     },
     "metadata": {},
     "output_type": "display_data"
    },
    {
     "data": {
      "application/vnd.jupyter.widget-view+json": {
       "model_id": "a79afd717c004a139f5cea0d7923320a",
       "version_major": 2,
       "version_minor": 0
      },
      "text/plain": [
       "  0%|          | 0/1 [00:00<?, ?it/s]"
      ]
     },
     "metadata": {},
     "output_type": "display_data"
    },
    {
     "data": {
      "application/vnd.jupyter.widget-view+json": {
       "model_id": "2836cb06c47b43fcba4819c7bf9db4a3",
       "version_major": 2,
       "version_minor": 0
      },
      "text/plain": [
       "  0%|          | 0/1 [00:00<?, ?it/s]"
      ]
     },
     "metadata": {},
     "output_type": "display_data"
    },
    {
     "data": {
      "application/vnd.jupyter.widget-view+json": {
       "model_id": "db3f7d6d4b844938b42e7e60603d2cf3",
       "version_major": 2,
       "version_minor": 0
      },
      "text/plain": [
       "  0%|          | 0/1 [00:00<?, ?it/s]"
      ]
     },
     "metadata": {},
     "output_type": "display_data"
    },
    {
     "data": {
      "application/vnd.jupyter.widget-view+json": {
       "model_id": "2e148625097944fcabd7a0d4fa9b2f4f",
       "version_major": 2,
       "version_minor": 0
      },
      "text/plain": [
       "  0%|          | 0/1 [00:00<?, ?it/s]"
      ]
     },
     "metadata": {},
     "output_type": "display_data"
    },
    {
     "data": {
      "application/vnd.jupyter.widget-view+json": {
       "model_id": "6579e9f2a72144b584bb9f134bbfd7ca",
       "version_major": 2,
       "version_minor": 0
      },
      "text/plain": [
       "  0%|          | 0/1 [00:00<?, ?it/s]"
      ]
     },
     "metadata": {},
     "output_type": "display_data"
    },
    {
     "data": {
      "application/vnd.jupyter.widget-view+json": {
       "model_id": "4ce07a5b003e4eb28be12a3864c71a9e",
       "version_major": 2,
       "version_minor": 0
      },
      "text/plain": [
       "  0%|          | 0/1 [00:00<?, ?it/s]"
      ]
     },
     "metadata": {},
     "output_type": "display_data"
    },
    {
     "data": {
      "application/vnd.jupyter.widget-view+json": {
       "model_id": "c4aac3999e504f92afabf04067a3635c",
       "version_major": 2,
       "version_minor": 0
      },
      "text/plain": [
       "  0%|          | 0/1 [00:00<?, ?it/s]"
      ]
     },
     "metadata": {},
     "output_type": "display_data"
    },
    {
     "data": {
      "application/vnd.jupyter.widget-view+json": {
       "model_id": "2593628647324c0e8e46b039d1bacc8a",
       "version_major": 2,
       "version_minor": 0
      },
      "text/plain": [
       "  0%|          | 0/1 [00:00<?, ?it/s]"
      ]
     },
     "metadata": {},
     "output_type": "display_data"
    },
    {
     "data": {
      "application/vnd.jupyter.widget-view+json": {
       "model_id": "0cee2035767949dc82d49e1c7d72a2d3",
       "version_major": 2,
       "version_minor": 0
      },
      "text/plain": [
       "  0%|          | 0/1 [00:00<?, ?it/s]"
      ]
     },
     "metadata": {},
     "output_type": "display_data"
    },
    {
     "data": {
      "application/vnd.jupyter.widget-view+json": {
       "model_id": "7301432552a2416ba0e11c185b768013",
       "version_major": 2,
       "version_minor": 0
      },
      "text/plain": [
       "  0%|          | 0/1 [00:00<?, ?it/s]"
      ]
     },
     "metadata": {},
     "output_type": "display_data"
    },
    {
     "data": {
      "application/vnd.jupyter.widget-view+json": {
       "model_id": "d38f69f0d7a9447f910f203477ecec36",
       "version_major": 2,
       "version_minor": 0
      },
      "text/plain": [
       "  0%|          | 0/1 [00:00<?, ?it/s]"
      ]
     },
     "metadata": {},
     "output_type": "display_data"
    },
    {
     "data": {
      "application/vnd.jupyter.widget-view+json": {
       "model_id": "0fe0d5cac2d146b1bd44e02ee9b148bc",
       "version_major": 2,
       "version_minor": 0
      },
      "text/plain": [
       "  0%|          | 0/1 [00:00<?, ?it/s]"
      ]
     },
     "metadata": {},
     "output_type": "display_data"
    },
    {
     "data": {
      "application/vnd.jupyter.widget-view+json": {
       "model_id": "0a7da8fad5ba4efeb76cbb65d1a5601d",
       "version_major": 2,
       "version_minor": 0
      },
      "text/plain": [
       "  0%|          | 0/1 [00:00<?, ?it/s]"
      ]
     },
     "metadata": {},
     "output_type": "display_data"
    },
    {
     "data": {
      "application/vnd.jupyter.widget-view+json": {
       "model_id": "932e7955330c4f15a5847021d646c577",
       "version_major": 2,
       "version_minor": 0
      },
      "text/plain": [
       "  0%|          | 0/1 [00:00<?, ?it/s]"
      ]
     },
     "metadata": {},
     "output_type": "display_data"
    },
    {
     "data": {
      "application/vnd.jupyter.widget-view+json": {
       "model_id": "a2ce6081c3874774b5ffe2272fdcef85",
       "version_major": 2,
       "version_minor": 0
      },
      "text/plain": [
       "  0%|          | 0/1 [00:00<?, ?it/s]"
      ]
     },
     "metadata": {},
     "output_type": "display_data"
    },
    {
     "data": {
      "application/vnd.jupyter.widget-view+json": {
       "model_id": "a8dd688a2e5c4727a5a8fe9e5c4b6256",
       "version_major": 2,
       "version_minor": 0
      },
      "text/plain": [
       "  0%|          | 0/1 [00:00<?, ?it/s]"
      ]
     },
     "metadata": {},
     "output_type": "display_data"
    },
    {
     "data": {
      "application/vnd.jupyter.widget-view+json": {
       "model_id": "33ef5e7c8dfd4ee69365f921c4c4a873",
       "version_major": 2,
       "version_minor": 0
      },
      "text/plain": [
       "  0%|          | 0/1 [00:00<?, ?it/s]"
      ]
     },
     "metadata": {},
     "output_type": "display_data"
    },
    {
     "data": {
      "application/vnd.jupyter.widget-view+json": {
       "model_id": "0bdda5ac39284d908c33404759444181",
       "version_major": 2,
       "version_minor": 0
      },
      "text/plain": [
       "  0%|          | 0/1 [00:00<?, ?it/s]"
      ]
     },
     "metadata": {},
     "output_type": "display_data"
    },
    {
     "name": "stderr",
     "output_type": "stream",
     "text": [
      "/usr/local/lib/python3.8/dist-packages/traittypes/traittypes.py:97: UserWarning: Given trait value dtype \"float64\" does not match required type \"float64\". A coerced copy has been created.\n",
      "  warnings.warn(\n"
     ]
    },
    {
     "data": {
      "application/vnd.jupyter.widget-view+json": {
       "model_id": "71ac5db9edd4448d9d818b3a055f2af8",
       "version_major": 2,
       "version_minor": 0
      },
      "text/plain": [
       "HBox(children=(FloatSlider(value=0.3, description='Size', max=3.0), Dropdown(description='Geo', index=3, optio…"
      ]
     },
     "metadata": {},
     "output_type": "display_data"
    },
    {
     "data": {
      "application/vnd.jupyter.widget-view+json": {
       "model_id": "13f0782ff30349b289970d3a9305c7e4",
       "version_major": 2,
       "version_minor": 0
      },
      "text/plain": [
       "HBox(children=(FloatSlider(value=0.3, description='Size', max=3.0), Dropdown(description='Geo', index=3, optio…"
      ]
     },
     "metadata": {},
     "output_type": "display_data"
    },
    {
     "data": {
      "application/vnd.jupyter.widget-view+json": {
       "model_id": "8cb4a0bf6f5b4424b504ec04f6646060",
       "version_major": 2,
       "version_minor": 0
      },
      "text/plain": [
       "Container(figure=Figure(box_center=[0.5, 0.5, 0.5], box_size=[1.0, 1.0, 1.0], camera=PerspectiveCamera(fov=45.…"
      ]
     },
     "metadata": {},
     "output_type": "display_data"
    }
   ],
   "source": [
    "spine_objs = spu.spine_objs_bare_minimum_filt_with_attr_from_branch_obj(\n",
    "    mesh = mesh_dec,\n",
    "    plot_filtered_spines = True,\n",
    ")"
   ]
  },
  {
   "cell_type": "markdown",
   "metadata": {},
   "source": [
    "# Inspecting the Spines"
   ]
  },
  {
   "cell_type": "code",
   "execution_count": 24,
   "metadata": {},
   "outputs": [
    {
     "data": {
      "application/vnd.jupyter.widget-view+json": {
       "model_id": "2ea48d9299b9492992cf86da84c013a4",
       "version_major": 2,
       "version_minor": 0
      },
      "text/plain": [
       "Container(figure=Figure(box_center=[0.5, 0.5, 0.5], box_size=[1.0, 1.0, 1.0], camera=PerspectiveCamera(fov=45.…"
      ]
     },
     "metadata": {},
     "output_type": "display_data"
    }
   ],
   "source": [
    "idx = 10\n",
    "\n",
    "sp_obj = spine_objs[idx]\n",
    "ipvu.plot_objects(sp_obj.mesh)"
   ]
  },
  {
   "cell_type": "code",
   "execution_count": 25,
   "metadata": {},
   "outputs": [
    {
     "data": {
      "text/plain": [
       "{'mesh_face_idx': array([  7922,   7923,   7924, ..., 111063, 112030, 112464]),\n",
       " 'mesh': <trimesh.Trimesh(vertices.shape=(1352, 3), faces.shape=(2682, 3))>,\n",
       " 'neck_face_idx': array([2272, 2273, 2274, 2275, 2276, 2277, 2278, 2279, 2280, 2281, 2282,\n",
       "        2283, 2284, 2285, 2286, 2287, 2288, 2289, 2290, 2291, 2292, 2293,\n",
       "        2294, 2295, 2296, 2297, 2298, 2299, 2300, 2301, 2302, 2303, 2304,\n",
       "        2305, 2306, 2307, 2308, 2309, 2310, 2311, 2312, 2313, 2314, 2315,\n",
       "        2316, 2317, 2318, 2319, 2320, 2321, 2322, 2323, 2324, 2325, 2326,\n",
       "        2327, 2328, 2329, 2330, 2331, 2332, 2333, 2334, 2335, 2336, 2337,\n",
       "        2338, 2339, 2340, 2341, 2342, 2343, 2344, 2345, 2346, 2347, 2348,\n",
       "        2349, 2350, 2351, 2352, 2353, 2354, 2355, 2356, 2357, 2358, 2359,\n",
       "        2360, 2361, 2362, 2363, 2364, 2365, 2366, 2367, 2368, 2369, 2370,\n",
       "        2371, 2372, 2373, 2374, 2375, 2376, 2377, 2378, 2379, 2380, 2381,\n",
       "        2382, 2383, 2384, 2385, 2386, 2387, 2388, 2389, 2390, 2391, 2392,\n",
       "        2393, 2394, 2395, 2396, 2397, 2398, 2399, 2400, 2401, 2402, 2403,\n",
       "        2404, 2405, 2406, 2407, 2408, 2409, 2410, 2411, 2412, 2413, 2414,\n",
       "        2415, 2416, 2417, 2418, 2419, 2420, 2421, 2422, 2423, 2424, 2425,\n",
       "        2426, 2427, 2428, 2429, 2430, 2431, 2432, 2433, 2434, 2435, 2436,\n",
       "        2437, 2438, 2439, 2440, 2441, 2442, 2443, 2444, 2445, 2446, 2447,\n",
       "        2448, 2449, 2450, 2451, 2452, 2453, 2454, 2455, 2456, 2457, 2458,\n",
       "        2459, 2460, 2461, 2462, 2463, 2464, 2465, 2466, 2467, 2468, 2469,\n",
       "        2470, 2471, 2472, 2473, 2474, 2475, 2476, 2477, 2478, 2479, 2480,\n",
       "        2481, 2482, 2483, 2484, 2485, 2486, 2487, 2488, 2489, 2490, 2491,\n",
       "        2492, 2493, 2494, 2495, 2496, 2497, 2498, 2499, 2500, 2501, 2502,\n",
       "        2503, 2504, 2505, 2506, 2507, 2508, 2509, 2510, 2511, 2512, 2513,\n",
       "        2514, 2515, 2516, 2517, 2518, 2519, 2520, 2521, 2522, 2523, 2524,\n",
       "        2525, 2526, 2527, 2528, 2529, 2530, 2531, 2532, 2533, 2534, 2535,\n",
       "        2536, 2537, 2538, 2539, 2540, 2541, 2542, 2543, 2544, 2545, 2546,\n",
       "        2547, 2548, 2549, 2550, 2551, 2552, 2553, 2554, 2555, 2556, 2557,\n",
       "        2558, 2559, 2560, 2561, 2562, 2563, 2564, 2565, 2566, 2567, 2568,\n",
       "        2569, 2570, 2571, 2572, 2573, 2574, 2575, 2576, 2577, 2578, 2579,\n",
       "        2580, 2581, 2582, 2583, 2584, 2585, 2586, 2587, 2588, 2589, 2590,\n",
       "        2591, 2592, 2593, 2594, 2595, 2596, 2597, 2598, 2599, 2600, 2601,\n",
       "        2602, 2603, 2604, 2605, 2606, 2607, 2608, 2609, 2610, 2611, 2612,\n",
       "        2613, 2614, 2615, 2616, 2617, 2618, 2619, 2620, 2621, 2622, 2623,\n",
       "        2624, 2625, 2626, 2627, 2628, 2629, 2630, 2631, 2632, 2633, 2634,\n",
       "        2635, 2636, 2637, 2638, 2639, 2640, 2641, 2642, 2643, 2644, 2645,\n",
       "        2646, 2647, 2648, 2649, 2650, 2651, 2652, 2653, 2654, 2655, 2656,\n",
       "        2657, 2658, 2659, 2660, 2661, 2662, 2663, 2664, 2665, 2666, 2667,\n",
       "        2668, 2669, 2670, 2671, 2672, 2673, 2674, 2675, 2676, 2677, 2678,\n",
       "        2679, 2680, 2681]),\n",
       " 'head_face_idx': array([   0,    1,    2, ..., 2269, 2270, 2271]),\n",
       " 'neck_sdf': 0.1135305,\n",
       " 'head_sdf': 0.6724155,\n",
       " 'head_width': 0.3753178547144564,\n",
       " 'neck_width': 0.25509244406725495,\n",
       " 'volume': 0.1499995103680517,\n",
       " 'spine_id': None,\n",
       " 'sdf': array([0.396566 , 0.398793 , 0.41501  , ..., 0.0880748, 0.100712 ,\n",
       "        0.106045 ]),\n",
       " 'endpoints_dist': None,\n",
       " 'upstream_dist': None,\n",
       " 'downstream_dist': None,\n",
       " 'coordinate': TrackedArray([3.308472, 1.923486, 1.675704]),\n",
       " 'coordinate_border_verts': TrackedArray([[3.308472, 1.923486, 1.675704],\n",
       "               [3.103935, 2.005621, 1.629587],\n",
       "               [3.119478, 1.98468 , 1.615239],\n",
       "               [3.144307, 1.962919, 1.602211],\n",
       "               [3.178296, 1.946892, 1.888793],\n",
       "               [3.148015, 1.961673, 1.834249],\n",
       "               [3.156851, 1.960078, 1.866641],\n",
       "               [3.215776, 1.919817, 1.8729  ],\n",
       "               [3.255153, 1.899306, 1.850536],\n",
       "               [3.120679, 1.996069, 1.792051],\n",
       "               [3.109371, 2.011802, 1.737757],\n",
       "               [3.105387, 2.00653 , 1.682488],\n",
       "               [3.300396, 1.916195, 1.818761],\n",
       "               [3.3144  , 1.92582 , 1.7714  ],\n",
       "               [3.171258, 1.940778, 1.608773],\n",
       "               [3.205613, 1.929835, 1.610176],\n",
       "               [3.23373 , 1.920318, 1.619236],\n",
       "               [3.320209, 1.931121, 1.734344],\n",
       "               [3.254423, 1.911019, 1.628178],\n",
       "               [3.279451, 1.90885 , 1.642565]]),\n",
       " 'closest_sk_coordinate': None,\n",
       " 'closest_branch_face_idx': 94806,\n",
       " 'closest_face_dist': 0.018645295626511335,\n",
       " 'closest_face_coordinate': array([3.31064 , 1.935145, 1.661316]),\n",
       " 'soma_distance': None,\n",
       " 'soma_distance_euclidean': None,\n",
       " 'compartment': None,\n",
       " 'limb_idx': None,\n",
       " 'branch_idx': None,\n",
       " 'skeleton': TrackedArray([[[3.109371 , 2.011802 , 1.737757 ],\n",
       "                [3.11789  , 1.983006 , 1.724503 ]],\n",
       " \n",
       "               [[3.11789  , 1.983006 , 1.724503 ],\n",
       "                [3.118845 , 1.963832 , 1.697221 ]],\n",
       " \n",
       "               [[3.118845 , 1.963832 , 1.697221 ],\n",
       "                [3.127166 , 1.924842 , 1.703302 ]],\n",
       " \n",
       "               [[3.127166 , 1.924842 , 1.703302 ],\n",
       "                [3.136429 , 1.884425 , 1.731411 ]],\n",
       " \n",
       "               [[3.136429 , 1.884425 , 1.731411 ],\n",
       "                [3.134556 , 1.845958 , 1.729015 ]],\n",
       " \n",
       "               [[3.134556 , 1.845958 , 1.729015 ],\n",
       "                [3.129744 , 1.805665 , 1.735445 ]],\n",
       " \n",
       "               [[3.129744 , 1.805665 , 1.735445 ],\n",
       "                [3.132309 , 1.747579 , 1.724918 ]],\n",
       " \n",
       "               [[3.132309 , 1.747579 , 1.724918 ],\n",
       "                [3.133231 , 1.696348 , 1.729741 ]],\n",
       " \n",
       "               [[3.133231 , 1.696348 , 1.729741 ],\n",
       "                [3.138544 , 1.654126 , 1.745074 ]],\n",
       " \n",
       "               [[3.138544 , 1.654126 , 1.745074 ],\n",
       "                [3.124463 , 1.608108 , 1.766076 ]],\n",
       " \n",
       "               [[3.124463 , 1.608108 , 1.766076 ],\n",
       "                [3.135763 , 1.569515 , 1.793566 ]],\n",
       " \n",
       "               [[3.135763 , 1.569515 , 1.793566 ],\n",
       "                [3.137407 , 1.524987 , 1.791802 ]],\n",
       " \n",
       "               [[3.137407 , 1.524987 , 1.791802 ],\n",
       "                [3.146094 , 1.476268 , 1.803371 ]],\n",
       " \n",
       "               [[3.146094 , 1.476268 , 1.803371 ],\n",
       "                [3.150584 , 1.429283 , 1.785814 ]],\n",
       " \n",
       "               [[3.150584 , 1.429283 , 1.785814 ],\n",
       "                [3.153795 , 1.394588 , 1.777543 ]],\n",
       " \n",
       "               [[3.153795 , 1.394588 , 1.777543 ],\n",
       "                [3.160139 , 1.360356 , 1.767648 ]],\n",
       " \n",
       "               [[3.160139 , 1.360356 , 1.767648 ],\n",
       "                [3.167348 , 1.312821 , 1.755283 ]],\n",
       " \n",
       "               [[3.167348 , 1.312821 , 1.755283 ],\n",
       "                [3.176152 , 1.282099 , 1.753007 ]],\n",
       " \n",
       "               [[3.176152 , 1.282099 , 1.753007 ],\n",
       "                [3.184625 , 1.245041 , 1.743994 ]],\n",
       " \n",
       "               [[3.184625 , 1.245041 , 1.743994 ],\n",
       "                [3.19522  , 1.208417 , 1.749191 ]],\n",
       " \n",
       "               [[3.19522  , 1.208417 , 1.749191 ],\n",
       "                [3.197218 , 1.176201 , 1.733893 ]],\n",
       " \n",
       "               [[3.197218 , 1.176201 , 1.733893 ],\n",
       "                [3.198515 , 1.135372 , 1.734732 ]],\n",
       " \n",
       "               [[3.198515 , 1.135372 , 1.734732 ],\n",
       "                [3.205624 , 1.09653  , 1.748979 ]],\n",
       " \n",
       "               [[3.205624 , 1.09653  , 1.748979 ],\n",
       "                [3.21854  , 1.062954 , 1.72857  ]],\n",
       " \n",
       "               [[3.21854  , 1.062954 , 1.72857  ],\n",
       "                [3.224995 , 1.025278 , 1.715868 ]],\n",
       " \n",
       "               [[3.224995 , 1.025278 , 1.715868 ],\n",
       "                [3.224797 , 0.9886671, 1.712366 ]],\n",
       " \n",
       "               [[3.224797 , 0.9886671, 1.712366 ],\n",
       "                [3.23135  , 0.9456317, 1.690332 ]],\n",
       " \n",
       "               [[3.23135  , 0.9456317, 1.690332 ],\n",
       "                [3.212259 , 0.9067031, 1.683356 ]],\n",
       " \n",
       "               [[3.212259 , 0.9067031, 1.683356 ],\n",
       "                [3.171477 , 0.8876517, 1.66977  ]],\n",
       " \n",
       "               [[3.171477 , 0.8876517, 1.66977  ],\n",
       "                [3.1462   , 0.88099  , 1.65896  ]],\n",
       " \n",
       "               [[3.1462   , 0.88099  , 1.65896  ],\n",
       "                [3.121136 , 0.870594 , 1.644612 ]],\n",
       " \n",
       "               [[3.121136 , 0.870594 , 1.644612 ],\n",
       "                [3.089973 , 0.8506216, 1.621432 ]],\n",
       " \n",
       "               [[3.089973 , 0.8506216, 1.621432 ],\n",
       "                [3.060575 , 0.8347318, 1.631649 ]],\n",
       " \n",
       "               [[3.060575 , 0.8347318, 1.631649 ],\n",
       "                [3.03888  , 0.81441  , 1.61489  ]],\n",
       " \n",
       "               [[3.03888  , 0.81441  , 1.61489  ],\n",
       "                [3.022263 , 0.7948116, 1.596175 ]],\n",
       " \n",
       "               [[3.022263 , 0.7948116, 1.596175 ],\n",
       "                [2.999294 , 0.7720298, 1.576991 ]],\n",
       " \n",
       "               [[2.999294 , 0.7720298, 1.576991 ],\n",
       "                [2.979968 , 0.7513998, 1.556058 ]],\n",
       " \n",
       "               [[2.979968 , 0.7513998, 1.556058 ],\n",
       "                [2.962812 , 0.7325095, 1.525377 ]],\n",
       " \n",
       "               [[2.962812 , 0.7325095, 1.525377 ],\n",
       "                [2.929152 , 0.7082403, 1.524932 ]],\n",
       " \n",
       "               [[2.929152 , 0.7082403, 1.524932 ],\n",
       "                [2.907954 , 0.6806293, 1.513982 ]],\n",
       " \n",
       "               [[2.907954 , 0.6806293, 1.513982 ],\n",
       "                [2.874293 , 0.649859 , 1.510966 ]],\n",
       " \n",
       "               [[2.874293 , 0.649859 , 1.510966 ],\n",
       "                [2.861674 , 0.6281817, 1.487658 ]],\n",
       " \n",
       "               [[2.861674 , 0.6281817, 1.487658 ],\n",
       "                [2.847578 , 0.6093342, 1.460604 ]]]),\n",
       " 'skeletal_length': 1.756992951556908,\n",
       " 'bbox_oriented_side_lengths': array([1.4125952, 0.808918 , 0.736193 ]),\n",
       " 'head_bbox_oriented_side_lengths': array([0.8304142, 0.808918 , 0.647334 ]),\n",
       " 'neck_bbox_oriented_side_lengths': array([0.657285, 0.368611, 0.290976]),\n",
       " 'head_mesh_splits': array([<trimesh.Trimesh(vertices.shape=(1145, 3), faces.shape=(2272, 3))>],\n",
       "       dtype=object),\n",
       " 'head_mesh_splits_face_idx': array([0., 0., 0., ..., 0., 0., 0.]),\n",
       " 'branch_width_overall': None,\n",
       " 'branch_skeletal_length': None,\n",
       " 'branch_width_at_base': None}"
      ]
     },
     "execution_count": 25,
     "metadata": {},
     "output_type": "execute_result"
    }
   ],
   "source": [
    "sp_obj.export()"
   ]
  },
  {
   "cell_type": "markdown",
   "metadata": {},
   "source": [
    "# Exporting the figure"
   ]
  },
  {
   "cell_type": "code",
   "execution_count": 26,
   "metadata": {},
   "outputs": [
    {
     "data": {
      "application/vnd.jupyter.widget-view+json": {
       "model_id": "fe856d7a5d46494a901ec2e325992252",
       "version_major": 2,
       "version_minor": 0
      },
      "text/plain": [
       "HBox(children=(FloatSlider(value=0.3, description='Size', max=3.0), Dropdown(description='Geo', index=3, optio…"
      ]
     },
     "metadata": {},
     "output_type": "display_data"
    },
    {
     "data": {
      "application/vnd.jupyter.widget-view+json": {
       "model_id": "aef1f6a57a96433e8252c097ceafd6f0",
       "version_major": 2,
       "version_minor": 0
      },
      "text/plain": [
       "HBox(children=(FloatSlider(value=0.3, description='Size', max=3.0), Dropdown(description='Geo', index=3, optio…"
      ]
     },
     "metadata": {},
     "output_type": "display_data"
    },
    {
     "data": {
      "application/vnd.jupyter.widget-view+json": {
       "model_id": "6b3a6b27c1914588970efbbddf6077ea",
       "version_major": 2,
       "version_minor": 0
      },
      "text/plain": [
       "Container(figure=Figure(box_center=[0.5, 0.5, 0.5], box_size=[1.0, 1.0, 1.0], camera=PerspectiveCamera(fov=45.…"
      ]
     },
     "metadata": {},
     "output_type": "display_data"
    }
   ],
   "source": [
    "spu.plot_spines_objs_with_head_neck_and_coordinates(\n",
    "    spine_objs,\n",
    "    mesh = mesh_dec,\n",
    ")"
   ]
  },
  {
   "cell_type": "code",
   "execution_count": 27,
   "metadata": {},
   "outputs": [],
   "source": [
    "from python_tools import ipyvolume_utils as ipvu\n",
    "ipvu.save_to_html(f\"{file_base}_spine_detection.html\")"
   ]
  },
  {
   "cell_type": "markdown",
   "metadata": {},
   "source": [
    "# Skeleton Generation"
   ]
  },
  {
   "cell_type": "code",
   "execution_count": null,
   "metadata": {},
   "outputs": [],
   "source": [
    "from mesh_tools import skeleton_utils as sk"
   ]
  },
  {
   "cell_type": "code",
   "execution_count": null,
   "metadata": {},
   "outputs": [],
   "source": [
    "from python_tools import ipyvolume_utils as ipvu"
   ]
  },
  {
   "cell_type": "code",
   "execution_count": null,
   "metadata": {},
   "outputs": [],
   "source": [
    "skeleton_surface = sk.surface_skeleton(\n",
    "    mesh_dec,\n",
    "    plot = True,\n",
    "    #n_surface_downsampling=3,\n",
    ")"
   ]
  },
  {
   "cell_type": "code",
   "execution_count": null,
   "metadata": {},
   "outputs": [],
   "source": [
    "skeleton = sk.skeleton_cgal(\n",
    "    mesh_dec,\n",
    "    plot = True,\n",
    "    cgal_original_parameters = False,\n",
    "    max_triangle_angle =1.91986,\n",
    "    quality_speed_tradeoff=0.1,\n",
    "    medially_centered_speed_tradeoff=0.2,#0.2,\n",
    "    area_variation_factor=0.0001,\n",
    "    max_iterations=500,#500,\n",
    "    is_medially_centered=True,\n",
    "    min_edge_length = 1,\n",
    "    edge_length_multiplier = 0.002,\n",
    ")\n",
    "\n",
    "skeleton_no_cycles = sk.remove_cycles_from_skeleton(skeleton,verbose=True,)\n",
    "\n",
    "sk_cgal,sk_removed = sk.clean_skeleton(\n",
    "    skeleton_no_cycles,\n",
    "    min_distance_to_junction = 3,\n",
    "    return_removed_skeletons = True,\n",
    ")\n",
    "\n",
    "ipvu.plot_objects(\n",
    "    mesh_dec,\n",
    "    skeletons=[sk_cgal,sk.stack_skeletons(sk_removed)],\n",
    "    skeletons_colors=[\"blue\",\"red\"],\n",
    "    buffer=0\n",
    ")"
   ]
  }
 ],
 "metadata": {
  "kernelspec": {
   "display_name": "Python 3 (ipykernel)",
   "language": "python",
   "name": "python3"
  },
  "language_info": {
   "codemirror_mode": {
    "name": "ipython",
    "version": 3
   },
   "file_extension": ".py",
   "mimetype": "text/x-python",
   "name": "python",
   "nbconvert_exporter": "python",
   "pygments_lexer": "ipython3",
   "version": "3.8.0"
  }
 },
 "nbformat": 4,
 "nbformat_minor": 4
}
