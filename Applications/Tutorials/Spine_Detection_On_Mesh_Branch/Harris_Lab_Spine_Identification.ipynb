{
 "cells": [
  {
   "cell_type": "code",
   "execution_count": null,
   "metadata": {},
   "outputs": [],
   "source": [
    "\"\"\"\n",
    "Purpose: To run spine detection on a generic mesh\n",
    "\"\"\""
   ]
  },
  {
   "cell_type": "code",
   "execution_count": 1,
   "metadata": {},
   "outputs": [],
   "source": [
    "%load_ext autoreload\n",
    "%autoreload 2"
   ]
  },
  {
   "cell_type": "code",
   "execution_count": 2,
   "metadata": {},
   "outputs": [
    {
     "name": "stdout",
     "output_type": "stream",
     "text": [
      "Jupyter environment detected. Enabling Open3D WebVisualizer.\n",
      "[Open3D INFO] WebRTC GUI backend enabled.\n",
      "[Open3D INFO] WebRTCWindowSystem: HTTP handshake server disabled.\n"
     ]
    }
   ],
   "source": [
    "from neurd.vdi_microns import volume_data_interface as vdi"
   ]
  },
  {
   "cell_type": "code",
   "execution_count": null,
   "metadata": {},
   "outputs": [],
   "source": [
    "G = vdi.fetch_segment_obj(12345)\n",
    "G[1][0].n_synapses_pre\n",
    "G[1][0].width_array"
   ]
  },
  {
   "cell_type": "markdown",
   "metadata": {
    "jp-MarkdownHeadingCollapsed": true
   },
   "source": [
    "# Load the data"
   ]
  },
  {
   "cell_type": "code",
   "execution_count": 3,
   "metadata": {},
   "outputs": [],
   "source": [
    "import trimesh\n",
    "import numpy as np\n",
    "from datasci_tools import numpy_utils as nu\n",
    "from mesh_tools import trimesh_utils as tu"
   ]
  },
  {
   "cell_type": "code",
   "execution_count": 4,
   "metadata": {},
   "outputs": [
    {
     "data": {
      "text/plain": [
       "[PosixPath('.ipynb_checkpoints'),\n",
       " PosixPath('Archive'),\n",
       " PosixPath('cgal_temp'),\n",
       " PosixPath('full_spine_detection.html'),\n",
       " PosixPath('full_tri.txt'),\n",
       " PosixPath('full_vert.txt'),\n",
       " PosixPath('Harris_Lab_Spine_Identification.ipynb'),\n",
       " PosixPath('parameters_config_harris.py'),\n",
       " PosixPath('part_tri.txt'),\n",
       " PosixPath('part_vert.txt'),\n",
       " PosixPath('temp'),\n",
       " PosixPath('__pycache__')]"
      ]
     },
     "execution_count": 4,
     "metadata": {},
     "output_type": "execute_result"
    }
   ],
   "source": [
    "from pathlib import Path\n",
    "list(Path(\"./\").iterdir())"
   ]
  },
  {
   "cell_type": "code",
   "execution_count": 5,
   "metadata": {},
   "outputs": [],
   "source": [
    "file_base = \"full\"\n",
    "verts_file = f\"{file_base}_vert.txt\"\n",
    "tri_file = f\"{file_base}_tri.txt\"\n",
    "tri_array = nu.loadtxt(str(tri_file),dtype = \"int\",delimiter = \" \")\n",
    "verts_array =  nu.loadtxt(str(verts_file),dtype = \"float\",delimiter = \" \")"
   ]
  },
  {
   "cell_type": "code",
   "execution_count": 6,
   "metadata": {},
   "outputs": [
    {
     "data": {
      "text/plain": [
       "<trimesh.Trimesh(vertices.shape=(226149, 3), faces.shape=(452370, 3))>"
      ]
     },
     "execution_count": 6,
     "metadata": {},
     "output_type": "execute_result"
    }
   ],
   "source": [
    "mesh = tu.mesh_from_vertices_faces(vertices = verts_array, faces = tri_array)\n",
    "mesh"
   ]
  },
  {
   "cell_type": "code",
   "execution_count": 7,
   "metadata": {},
   "outputs": [
    {
     "name": "stderr",
     "output_type": "stream",
     "text": [
      "/usr/local/lib/python3.8/dist-packages/traittypes/traittypes.py:97: UserWarning: Given trait value dtype \"float64\" does not match required type \"float64\". A coerced copy has been created.\n",
      "  warnings.warn(\n"
     ]
    },
    {
     "data": {
      "application/vnd.jupyter.widget-view+json": {
       "model_id": "022b90e8fd6b4b499b66422d78c2ca0a",
       "version_major": 2,
       "version_minor": 0
      },
      "text/plain": [
       "Container(figure=Figure(box_center=[0.5, 0.5, 0.5], box_size=[1.0, 1.0, 1.0], camera=PerspectiveCamera(fov=45.…"
      ]
     },
     "metadata": {},
     "output_type": "display_data"
    }
   ],
   "source": [
    "from datasci_tools import ipyvolume_utils as ipvu\n",
    "ipvu.plot_objects(\n",
    "    mesh,\n",
    "    buffer = 0\n",
    ")"
   ]
  },
  {
   "cell_type": "markdown",
   "metadata": {},
   "source": [
    "# Decimating"
   ]
  },
  {
   "cell_type": "code",
   "execution_count": 8,
   "metadata": {},
   "outputs": [
    {
     "name": "stdout",
     "output_type": "stream",
     "text": [
      "xvfb-run -n 7506 -s \"-screen 0 800x600x24\" meshlabserver $@  -i /neurd_packages/NEURD/Applications/Tutorials/Spine_Detection_On_Mesh_Branch/temp/neuron_11317.off -o /neurd_packages/NEURD/Applications/Tutorials/Spine_Detection_On_Mesh_Branch/temp/neuron_11317_decimated.off -s /neurd_packages/NEURD/Applications/Tutorials/Spine_Detection_On_Mesh_Branch/temp/decimation_meshlab_25133283.mls\n"
     ]
    },
    {
     "data": {
      "application/vnd.jupyter.widget-view+json": {
       "model_id": "b92c190640b84773aa509df747d03692",
       "version_major": 2,
       "version_minor": 0
      },
      "text/plain": [
       "Container(figure=Figure(box_center=[0.5, 0.5, 0.5], box_size=[1.0, 1.0, 1.0], camera=PerspectiveCamera(fov=45.…"
      ]
     },
     "metadata": {},
     "output_type": "display_data"
    }
   ],
   "source": [
    "mesh_dec = tu.decimate(mesh,decimation_ratio=0.25,)\n",
    "mesh_dec = tu.largest_conn_comp(mesh_dec)\n",
    "ipvu.plot_objects(\n",
    "    mesh_dec,\n",
    "    buffer=0\n",
    ")"
   ]
  },
  {
   "cell_type": "markdown",
   "metadata": {},
   "source": [
    "# Setting Parameters for Spine Extraction"
   ]
  },
  {
   "cell_type": "code",
   "execution_count": 9,
   "metadata": {},
   "outputs": [],
   "source": [
    "param_file = \"./parameters_config_harris.py\""
   ]
  },
  {
   "cell_type": "code",
   "execution_count": null,
   "metadata": {},
   "outputs": [],
   "source": [
    "vdi.set_parameters_obj_from_filepath(param_file)"
   ]
  },
  {
   "cell_type": "code",
   "execution_count": null,
   "metadata": {},
   "outputs": [],
   "source": [
    "# checking to see the parameters were set\n",
    "from neurd import spine_utils as spu\n",
    "spu.shaft_mesh_n_faces_min_global"
   ]
  },
  {
   "cell_type": "markdown",
   "metadata": {},
   "source": [
    "# Doing the spine extraction"
   ]
  },
  {
   "cell_type": "code",
   "execution_count": null,
   "metadata": {},
   "outputs": [],
   "source": [
    "from neurd import spine_utils as spu"
   ]
  },
  {
   "cell_type": "code",
   "execution_count": null,
   "metadata": {
    "scrolled": true
   },
   "outputs": [],
   "source": [
    "spine_objs = spu.spine_objs_bare_minimum_filt_with_attr_from_branch_obj(\n",
    "    mesh = mesh_dec,\n",
    "    plot_filtered_spines = True,\n",
    ")"
   ]
  },
  {
   "cell_type": "markdown",
   "metadata": {},
   "source": [
    "# Inspecting the Spines"
   ]
  },
  {
   "cell_type": "code",
   "execution_count": null,
   "metadata": {},
   "outputs": [],
   "source": [
    "idx = 10\n",
    "\n",
    "sp_obj = spine_objs[idx]\n",
    "ipvu.plot_objects(sp_obj.mesh)"
   ]
  },
  {
   "cell_type": "code",
   "execution_count": null,
   "metadata": {},
   "outputs": [],
   "source": [
    "sp_obj.export()"
   ]
  },
  {
   "cell_type": "markdown",
   "metadata": {},
   "source": [
    "# Exporting the figure"
   ]
  },
  {
   "cell_type": "code",
   "execution_count": null,
   "metadata": {},
   "outputs": [],
   "source": [
    "spu.plot_spines_objs_with_head_neck_and_coordinates(\n",
    "    spine_objs,\n",
    "    mesh = mesh_dec,\n",
    ")"
   ]
  },
  {
   "cell_type": "code",
   "execution_count": null,
   "metadata": {},
   "outputs": [],
   "source": [
    "from datasci_tools import ipyvolume_utils as ipvu\n",
    "ipvu.save_to_html(f\"{file_base}_spine_detection.html\")"
   ]
  },
  {
   "cell_type": "markdown",
   "metadata": {},
   "source": [
    "# Skeleton Generation"
   ]
  },
  {
   "cell_type": "code",
   "execution_count": null,
   "metadata": {},
   "outputs": [],
   "source": [
    "from mesh_tools import skeleton_utils as sk"
   ]
  },
  {
   "cell_type": "code",
   "execution_count": null,
   "metadata": {},
   "outputs": [],
   "source": [
    "from datasci_tools import ipyvolume_utils as ipvu"
   ]
  },
  {
   "cell_type": "code",
   "execution_count": null,
   "metadata": {},
   "outputs": [],
   "source": [
    "skeleton_surface = sk.surface_skeleton(\n",
    "    mesh_dec,\n",
    "    plot = True,\n",
    "    #n_surface_downsampling=3,\n",
    ")"
   ]
  },
  {
   "cell_type": "code",
   "execution_count": null,
   "metadata": {},
   "outputs": [],
   "source": [
    "skeleton = sk.skeleton_cgal(\n",
    "    mesh_dec,\n",
    "    plot = True,\n",
    "    cgal_original_parameters = False,\n",
    "    max_triangle_angle =1.91986,\n",
    "    quality_speed_tradeoff=0.1,\n",
    "    medially_centered_speed_tradeoff=0.2,#0.2,\n",
    "    area_variation_factor=0.0001,\n",
    "    max_iterations=500,#500,\n",
    "    is_medially_centered=True,\n",
    "    min_edge_length = 1,\n",
    "    edge_length_multiplier = 0.002,\n",
    ")\n",
    "\n",
    "skeleton_no_cycles = sk.remove_cycles_from_skeleton(skeleton,verbose=True,)\n",
    "\n",
    "sk_cgal,sk_removed = sk.clean_skeleton(\n",
    "    skeleton_no_cycles,\n",
    "    min_distance_to_junction = 3,\n",
    "    return_removed_skeletons = True,\n",
    ")\n",
    "\n",
    "ipvu.plot_objects(\n",
    "    mesh_dec,\n",
    "    skeletons=[sk_cgal,sk.stack_skeletons(sk_removed)],\n",
    "    skeletons_colors=[\"blue\",\"red\"],\n",
    "    buffer=0\n",
    ")"
   ]
  }
 ],
 "metadata": {
  "kernelspec": {
   "display_name": "Python 3 (ipykernel)",
   "language": "python",
   "name": "python3"
  },
  "language_info": {
   "codemirror_mode": {
    "name": "ipython",
    "version": 3
   },
   "file_extension": ".py",
   "mimetype": "text/x-python",
   "name": "python",
   "nbconvert_exporter": "python",
   "pygments_lexer": "ipython3",
   "version": "3.8.0"
  }
 },
 "nbformat": 4,
 "nbformat_minor": 4
}
