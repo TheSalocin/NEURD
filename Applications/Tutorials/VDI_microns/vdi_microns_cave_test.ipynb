{
 "cells": [
  {
   "cell_type": "code",
   "execution_count": null,
   "id": "0c31e2c1",
   "metadata": {},
   "outputs": [],
   "source": [
    "\"\"\"\n",
    "Purpose: To show that the caveclient vdi \n",
    "is working and can fetch meshes and synapses\n",
    "\"\"\""
   ]
  },
  {
   "cell_type": "code",
   "execution_count": 1,
   "id": "a973756a",
   "metadata": {},
   "outputs": [],
   "source": [
    "%load_ext autoreload\n",
    "%autoreload 2"
   ]
  },
  {
   "cell_type": "code",
   "execution_count": 2,
   "id": "d61b4a71",
   "metadata": {},
   "outputs": [
    {
     "name": "stdout",
     "output_type": "stream",
     "text": [
      "Jupyter environment detected. Enabling Open3D WebVisualizer.\n",
      "[Open3D INFO] WebRTC GUI backend enabled.\n",
      "[Open3D INFO] WebRTCWindowSystem: HTTP handshake server disabled.\n"
     ]
    }
   ],
   "source": [
    "from neurd import cave_client_utils as ccu"
   ]
  },
  {
   "cell_type": "code",
   "execution_count": 18,
   "id": "23399e06",
   "metadata": {},
   "outputs": [],
   "source": [
    "from neurd.vdi_microns_cave import volume_data_interface as vdi"
   ]
  },
  {
   "cell_type": "code",
   "execution_count": 19,
   "id": "3ae1718b",
   "metadata": {},
   "outputs": [
    {
     "data": {
      "text/plain": [
       "array([ 4.,  4., 40.])"
      ]
     },
     "execution_count": 19,
     "metadata": {},
     "output_type": "execute_result"
    }
   ],
   "source": [
    "vdi.voxel_to_nm_scaling"
   ]
  },
  {
   "cell_type": "code",
   "execution_count": 22,
   "id": "f0f3afbd",
   "metadata": {},
   "outputs": [
    {
     "name": "stderr",
     "output_type": "stream",
     "text": [
      "Table Owner Notice on nucleus_ref_neuron_svm: Please cite https://doi.org/10.1101/2022.07.20.499976 when using this table.\n"
     ]
    },
    {
     "data": {
      "text/plain": [
       "array([                 0, 864691131906133483, 864691132144578807, ...,\n",
       "       864691137198243393, 864691137198252609, 864691137198255681])"
      ]
     },
     "execution_count": 22,
     "metadata": {},
     "output_type": "execute_result"
    }
   ],
   "source": [
    "vdi.client.segment_ids_with_nucleus()"
   ]
  },
  {
   "cell_type": "markdown",
   "id": "e9920c06",
   "metadata": {},
   "source": [
    "# Downloading mesh and synapses"
   ]
  },
  {
   "cell_type": "code",
   "execution_count": 23,
   "id": "de02f75f",
   "metadata": {},
   "outputs": [],
   "source": [
    "seg_id = 864691137198252609"
   ]
  },
  {
   "cell_type": "code",
   "execution_count": 24,
   "id": "d77ec9f6",
   "metadata": {},
   "outputs": [
    {
     "name": "stdout",
     "output_type": "stream",
     "text": [
      "Warning: deduplication not currently supported for this layer's variable layered draco meshes\n"
     ]
    },
    {
     "data": {
      "text/plain": [
       "<trimesh.Trimesh(vertices.shape=(2523209, 3), faces.shape=(5063649, 3))>"
      ]
     },
     "execution_count": 24,
     "metadata": {},
     "output_type": "execute_result"
    }
   ],
   "source": [
    "mesh = vdi.fetch_segment_id_mesh(seg_id)\n",
    "mesh"
   ]
  },
  {
   "cell_type": "code",
   "execution_count": 26,
   "id": "e2438c95",
   "metadata": {},
   "outputs": [
    {
     "data": {
      "text/html": [
       "<div>\n",
       "<style scoped>\n",
       "    .dataframe tbody tr th:only-of-type {\n",
       "        vertical-align: middle;\n",
       "    }\n",
       "\n",
       "    .dataframe tbody tr th {\n",
       "        vertical-align: top;\n",
       "    }\n",
       "\n",
       "    .dataframe thead th {\n",
       "        text-align: right;\n",
       "    }\n",
       "</style>\n",
       "<table border=\"1\" class=\"dataframe\">\n",
       "  <thead>\n",
       "    <tr style=\"text-align: right;\">\n",
       "      <th></th>\n",
       "      <th>segment_id</th>\n",
       "      <th>segment_id_secondary</th>\n",
       "      <th>synapse_id</th>\n",
       "      <th>prepost</th>\n",
       "      <th>synapse_x</th>\n",
       "      <th>synapse_y</th>\n",
       "      <th>synapse_z</th>\n",
       "      <th>synapse_size</th>\n",
       "    </tr>\n",
       "  </thead>\n",
       "  <tbody>\n",
       "    <tr>\n",
       "      <th>0</th>\n",
       "      <td>864691137198252609</td>\n",
       "      <td>864691135902080478</td>\n",
       "      <td>215360645</td>\n",
       "      <td>pre</td>\n",
       "      <td>842440</td>\n",
       "      <td>384256</td>\n",
       "      <td>1013760</td>\n",
       "      <td>552960</td>\n",
       "    </tr>\n",
       "    <tr>\n",
       "      <th>1</th>\n",
       "      <td>864691137198252609</td>\n",
       "      <td>864691135758973006</td>\n",
       "      <td>173939647</td>\n",
       "      <td>pre</td>\n",
       "      <td>747336</td>\n",
       "      <td>487324</td>\n",
       "      <td>1027080</td>\n",
       "      <td>360960</td>\n",
       "    </tr>\n",
       "    <tr>\n",
       "      <th>2</th>\n",
       "      <td>864691137198252609</td>\n",
       "      <td>864691135319320488</td>\n",
       "      <td>203064053</td>\n",
       "      <td>pre</td>\n",
       "      <td>804224</td>\n",
       "      <td>793304</td>\n",
       "      <td>1071280</td>\n",
       "      <td>8524800</td>\n",
       "    </tr>\n",
       "    <tr>\n",
       "      <th>3</th>\n",
       "      <td>864691137198252609</td>\n",
       "      <td>864691136272989374</td>\n",
       "      <td>241323899</td>\n",
       "      <td>pre</td>\n",
       "      <td>909264</td>\n",
       "      <td>330448</td>\n",
       "      <td>959760</td>\n",
       "      <td>1492480</td>\n",
       "    </tr>\n",
       "    <tr>\n",
       "      <th>4</th>\n",
       "      <td>864691137198252609</td>\n",
       "      <td>864691133114428938</td>\n",
       "      <td>195794757</td>\n",
       "      <td>pre</td>\n",
       "      <td>797708</td>\n",
       "      <td>612376</td>\n",
       "      <td>970080</td>\n",
       "      <td>1085440</td>\n",
       "    </tr>\n",
       "    <tr>\n",
       "      <th>...</th>\n",
       "      <td>...</td>\n",
       "      <td>...</td>\n",
       "      <td>...</td>\n",
       "      <td>...</td>\n",
       "      <td>...</td>\n",
       "      <td>...</td>\n",
       "      <td>...</td>\n",
       "      <td>...</td>\n",
       "    </tr>\n",
       "    <tr>\n",
       "      <th>4234</th>\n",
       "      <td>864691137198252609</td>\n",
       "      <td>864691136237813820</td>\n",
       "      <td>198757478</td>\n",
       "      <td>post</td>\n",
       "      <td>805064</td>\n",
       "      <td>509808</td>\n",
       "      <td>893800</td>\n",
       "      <td>1313280</td>\n",
       "    </tr>\n",
       "    <tr>\n",
       "      <th>4235</th>\n",
       "      <td>864691137198252609</td>\n",
       "      <td>864691135754357197</td>\n",
       "      <td>205749107</td>\n",
       "      <td>post</td>\n",
       "      <td>818344</td>\n",
       "      <td>460440</td>\n",
       "      <td>1005760</td>\n",
       "      <td>737280</td>\n",
       "    </tr>\n",
       "    <tr>\n",
       "      <th>4236</th>\n",
       "      <td>864691137198252609</td>\n",
       "      <td>864691135394307317</td>\n",
       "      <td>198655508</td>\n",
       "      <td>post</td>\n",
       "      <td>807856</td>\n",
       "      <td>493328</td>\n",
       "      <td>971800</td>\n",
       "      <td>3816960</td>\n",
       "    </tr>\n",
       "    <tr>\n",
       "      <th>4237</th>\n",
       "      <td>864691137198252609</td>\n",
       "      <td>864691136371491976</td>\n",
       "      <td>194245814</td>\n",
       "      <td>post</td>\n",
       "      <td>793216</td>\n",
       "      <td>473896</td>\n",
       "      <td>978840</td>\n",
       "      <td>2693120</td>\n",
       "    </tr>\n",
       "    <tr>\n",
       "      <th>4238</th>\n",
       "      <td>864691137198252609</td>\n",
       "      <td>864691135700772731</td>\n",
       "      <td>191447790</td>\n",
       "      <td>post</td>\n",
       "      <td>795392</td>\n",
       "      <td>496568</td>\n",
       "      <td>927840</td>\n",
       "      <td>1704960</td>\n",
       "    </tr>\n",
       "  </tbody>\n",
       "</table>\n",
       "<p>4239 rows × 8 columns</p>\n",
       "</div>"
      ],
      "text/plain": [
       "              segment_id  segment_id_secondary  synapse_id prepost  synapse_x  \\\n",
       "0     864691137198252609    864691135902080478   215360645     pre     842440   \n",
       "1     864691137198252609    864691135758973006   173939647     pre     747336   \n",
       "2     864691137198252609    864691135319320488   203064053     pre     804224   \n",
       "3     864691137198252609    864691136272989374   241323899     pre     909264   \n",
       "4     864691137198252609    864691133114428938   195794757     pre     797708   \n",
       "...                  ...                   ...         ...     ...        ...   \n",
       "4234  864691137198252609    864691136237813820   198757478    post     805064   \n",
       "4235  864691137198252609    864691135754357197   205749107    post     818344   \n",
       "4236  864691137198252609    864691135394307317   198655508    post     807856   \n",
       "4237  864691137198252609    864691136371491976   194245814    post     793216   \n",
       "4238  864691137198252609    864691135700772731   191447790    post     795392   \n",
       "\n",
       "      synapse_y  synapse_z  synapse_size  \n",
       "0        384256    1013760        552960  \n",
       "1        487324    1027080        360960  \n",
       "2        793304    1071280       8524800  \n",
       "3        330448     959760       1492480  \n",
       "4        612376     970080       1085440  \n",
       "...         ...        ...           ...  \n",
       "4234     509808     893800       1313280  \n",
       "4235     460440    1005760        737280  \n",
       "4236     493328     971800       3816960  \n",
       "4237     473896     978840       2693120  \n",
       "4238     496568     927840       1704960  \n",
       "\n",
       "[4239 rows x 8 columns]"
      ]
     },
     "execution_count": 26,
     "metadata": {},
     "output_type": "execute_result"
    }
   ],
   "source": [
    "syn_df = vdi.segment_id_to_synapse_dict(seg_id)\n",
    "syn_df"
   ]
  },
  {
   "cell_type": "code",
   "execution_count": 27,
   "id": "dfeb5fd3",
   "metadata": {},
   "outputs": [
    {
     "name": "stdout",
     "output_type": "stream",
     "text": [
      "xvfb-run -n 7635 -s \"-screen 0 800x600x24\" meshlabserver $@  -i /neurd_packages/NEURD/Applications/Tutorials/VDI_microns/temp/neuron_11541.off -o /neurd_packages/NEURD/Applications/Tutorials/VDI_microns/temp/neuron_11541_decimated.off -s /neurd_packages/NEURD/Applications/Tutorials/VDI_microns/temp/decimation_meshlab_25643525.mls\n"
     ]
    },
    {
     "data": {
      "text/plain": [
       "<trimesh.Trimesh(vertices.shape=(624345, 3), faces.shape=(1264407, 3))>"
      ]
     },
     "execution_count": 27,
     "metadata": {},
     "output_type": "execute_result"
    }
   ],
   "source": [
    "from mesh_tools import trimesh_utils as tu\n",
    "mesh_dec = tu.decimate(mesh)\n",
    "mesh_dec"
   ]
  },
  {
   "cell_type": "markdown",
   "id": "4e2cd620",
   "metadata": {},
   "source": [
    "# Plotting the results"
   ]
  },
  {
   "cell_type": "code",
   "execution_count": 34,
   "id": "01a9a0e5",
   "metadata": {},
   "outputs": [
    {
     "name": "stderr",
     "output_type": "stream",
     "text": [
      "/usr/local/lib/python3.8/dist-packages/traittypes/traittypes.py:97: UserWarning: Given trait value dtype \"float64\" does not match required type \"float64\". A coerced copy has been created.\n",
      "  warnings.warn(\n"
     ]
    },
    {
     "data": {
      "application/vnd.jupyter.widget-view+json": {
       "model_id": "f16b44f733804565baf443a4b6719905",
       "version_major": 2,
       "version_minor": 0
      },
      "text/plain": [
       "HBox(children=(FloatSlider(value=0.3, description='Size', max=3.0), Dropdown(description='Geo', index=3, optio…"
      ]
     },
     "metadata": {},
     "output_type": "display_data"
    },
    {
     "data": {
      "application/vnd.jupyter.widget-view+json": {
       "model_id": "129ee5fae4814294a83f16d99ce8e9f4",
       "version_major": 2,
       "version_minor": 0
      },
      "text/plain": [
       "Container(figure=Figure(box_center=[0.5, 0.5, 0.5], box_size=[1.0, 1.0, 1.0], camera=PerspectiveCamera(fov=45.…"
      ]
     },
     "metadata": {},
     "output_type": "display_data"
    }
   ],
   "source": [
    "from datasci_tools import ipyvolume_utils as ipvu\n",
    "\n",
    "\"\"\"\n",
    "Purpose: Plot the mesh and the synapses\n",
    "\n",
    "Pseudocode: \n",
    "1) convert the \n",
    "\"\"\"\n",
    "syn_coords = syn_df[[f\"synapse_{k}\" for k in [\"x\",\"y\",\"z\"]]].to_numpy()\n",
    "\n",
    "ipvu.plot_objects(\n",
    "    mesh,\n",
    "    scatters=[syn_coords],\n",
    ")"
   ]
  },
  {
   "cell_type": "code",
   "execution_count": null,
   "id": "287f7d74",
   "metadata": {},
   "outputs": [],
   "source": []
  }
 ],
 "metadata": {
  "kernelspec": {
   "display_name": "Python 3 (ipykernel)",
   "language": "python",
   "name": "python3"
  },
  "language_info": {
   "codemirror_mode": {
    "name": "ipython",
    "version": 3
   },
   "file_extension": ".py",
   "mimetype": "text/x-python",
   "name": "python",
   "nbconvert_exporter": "python",
   "pygments_lexer": "ipython3",
   "version": "3.8.0"
  }
 },
 "nbformat": 4,
 "nbformat_minor": 5
}
